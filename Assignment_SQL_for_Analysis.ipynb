{
  "nbformat": 4,
  "nbformat_minor": 0,
  "metadata": {
    "colab": {
      "name": "Assignment SQL for Analysis.ipynb",
      "version": "0.3.2",
      "provenance": [],
      "include_colab_link": true
    },
    "kernelspec": {
      "name": "python3",
      "display_name": "Python 3"
    }
  },
  "cells": [
    {
      "cell_type": "markdown",
      "metadata": {
        "id": "view-in-github",
        "colab_type": "text"
      },
      "source": [
        "<a href=\"https://colab.research.google.com/github/JefNtungila/DS-Unit-3-Sprint-2-SQL-and-Databases/blob/master/Assignment_SQL_for_Analysis.ipynb\" target=\"_parent\"><img src=\"https://colab.research.google.com/assets/colab-badge.svg\" alt=\"Open In Colab\"/></a>"
      ]
    },
    {
      "cell_type": "code",
      "metadata": {
        "id": "Bn-2bqwezPiG",
        "colab_type": "code",
        "colab": {
          "base_uri": "https://localhost:8080/",
          "height": 70
        },
        "outputId": "30b14ecf-8afd-4671-e107-67b0e3594819"
      },
      "source": [
        "import psycopg2"
      ],
      "execution_count": 1,
      "outputs": [
        {
          "output_type": "stream",
          "text": [
            "/usr/local/lib/python3.6/dist-packages/psycopg2/__init__.py:144: UserWarning: The psycopg2 wheel package will be renamed from release 2.8; in order to keep installing from binary please use \"pip install psycopg2-binary\" instead. For details see: <http://initd.org/psycopg/docs/install.html#binary-install-from-pypi>.\n",
            "  \"\"\")\n"
          ],
          "name": "stderr"
        }
      ]
    },
    {
      "cell_type": "code",
      "metadata": {
        "id": "WlB1a1uiz6Ah",
        "colab_type": "code",
        "colab": {
          "base_uri": "https://localhost:8080/",
          "height": 33
        },
        "outputId": "bf4b4841-65ec-4500-fbfd-a1e956fc424c"
      },
      "source": [
        "### Connect to ElephantSQL-hosted PostgreSQL\n",
        "conn = psycopg2.connect(dbname='bivpgcpc', user='bivpgcpc',\n",
        "                        password='5g5xQJ876vOlJDc0xJR-DYUajO2wd1N3', host='''manny.db.elephantsql.com''')\n",
        "### A \"cursor\", a structure to iterate over db records to perform queries\n",
        "cur = conn.cursor()\n",
        "### An example query\n",
        "cur.execute('SELECT * from test_table;')\n",
        "### Note - nothing happened yet! We need to actually *fetch* from the cursor\n",
        "cur.fetchone()"
      ],
      "execution_count": 3,
      "outputs": [
        {
          "output_type": "execute_result",
          "data": {
            "text/plain": [
              "(1, 'A row name', None)"
            ]
          },
          "metadata": {
            "tags": []
          },
          "execution_count": 3
        }
      ]
    }
  ]
}