{
  "nbformat": 4,
  "nbformat_minor": 0,
  "metadata": {
    "colab": {
      "name": "SQL Questions.ipynb",
      "version": "0.3.2",
      "provenance": [],
      "include_colab_link": true
    },
    "kernelspec": {
      "name": "python3",
      "display_name": "Python 3"
    }
  },
  "cells": [
    {
      "cell_type": "markdown",
      "metadata": {
        "id": "view-in-github",
        "colab_type": "text"
      },
      "source": [
        "<a href=\"https://colab.research.google.com/github/trista-paul/DS-Unit-3-Sprint-2-SQL-and-Databases/blob/master/SQL_Questions.ipynb\" target=\"_parent\"><img src=\"https://colab.research.google.com/assets/colab-badge.svg\" alt=\"Open In Colab\"/></a>"
      ]
    },
    {
      "metadata": {
        "id": "xQMwAogMbe19",
        "colab_type": "text"
      },
      "cell_type": "markdown",
      "source": [
        "# How many passengers survived, and how many died?\n",
        "\n",
        "SELECT COUNT(*) FROM \"public\".\"titanic\"\n",
        "  WHERE titanic.Survived = 1\n",
        "  \n",
        "  342\n",
        "  \n",
        "  SELECT COUNT(*) FROM \"public\".\"titanic\"\n",
        "  WHERE titanic.Survived = 0\n",
        "  \n",
        "  545"
      ]
    },
    {
      "metadata": {
        "id": "GmNnVrlmcf-N",
        "colab_type": "text"
      },
      "cell_type": "markdown",
      "source": [
        "# How many passengers were in each class?\n",
        "SELECT COUNT(*) FROM \"public\".\"titanic\"\n",
        "WHERE titanic.Pclass = 1\n",
        "\n",
        "216\n",
        "\n",
        "SELECT COUNT(*) FROM \"public\".\"titanic\"\n",
        "WHERE titanic.Pclass = 2\n",
        "\n",
        "184\n",
        "\n",
        "SELECT COUNT(*) FROM \"public\".\"titanic\"\n",
        "WHERE titanic.Pclass = 3\n",
        "\n",
        "487"
      ]
    },
    {
      "metadata": {
        "id": "A5vsxVa1dKLx",
        "colab_type": "text"
      },
      "cell_type": "markdown",
      "source": [
        "# How many passengers survived/died within each class?\n",
        "\n",
        "SELECT COUNT(*) FROM \"public\".\"titanic\" WHERE titanic.Survived = 1\n",
        "AND titanic.Pclass = 1\n",
        "\n",
        "136\n",
        "\n",
        "SELECT COUNT(*) FROM \"public\".\"titanic\"\n",
        "WHERE titanic.Survived = 0\n",
        "AND titanic.Pclass = 1\n",
        "\n",
        "80\n",
        "\n",
        "SELECT COUNT(*) FROM \"public\".\"titanic\"\n",
        "WHERE titanic.Survived = 1\n",
        "AND titanic.Pclass = 2\n",
        "\n",
        "87\n",
        "\n",
        "\n",
        "SELECT COUNT(*) FROM \"public\".\"titanic\"\n",
        "WHERE titanic.Survived = 0\n",
        "AND titanic.Pclass = 2\n",
        "\n",
        "97\n",
        "\n",
        "SELECT COUNT(*) FROM \"public\".\"titanic\"\n",
        "WHERE titanic.Survived = 1\n",
        "AND titanic.Pclass = 3\n",
        "\n",
        "119\n",
        "\n",
        "SELECT COUNT(*) FROM \"public\".\"titanic\"\n",
        "WHERE titanic.Survived = 0\n",
        "AND titanic.Pclass = 3\n",
        "\n",
        "368\n"
      ]
    },
    {
      "metadata": {
        "id": "vOZ_4AgceJPP",
        "colab_type": "text"
      },
      "cell_type": "markdown",
      "source": [
        "# What was the average age of survivors vs nonsurvivors?\n",
        "\n",
        "SELECT AVG(Age) FROM \"public\".\"titanic\"\n",
        "WHERE titanic.Survived = 1\n",
        "\n",
        "28\n",
        "\n",
        "SELECT AVG(Age) FROM \"public\".\"titanic\"\n",
        "WHERE titanic.Survived = 0\n",
        "\n",
        "30\n"
      ]
    },
    {
      "metadata": {
        "id": "6Bm8pXZtfeW7",
        "colab_type": "text"
      },
      "cell_type": "markdown",
      "source": [
        "# What was the average age of each passenger class?\n",
        "SELECT AVG(Age) FROM \"public\".\"titanic\"\n",
        "WHERE titanic.Pclass = 1\n",
        "\n",
        "38\n",
        "\n",
        "SELECT AVG(Age) FROM \"public\".\"titanic\"\n",
        "WHERE titanic.Pclass = 2\n",
        "\n",
        "29\n",
        "\n",
        "SELECT AVG(Age) FROM \"public\".\"titanic\"\n",
        "WHERE titanic.Pclass = 3\n",
        "\n",
        "25\n",
        "\n",
        "\n",
        "\n"
      ]
    },
    {
      "metadata": {
        "id": "U57SqYOwf7zN",
        "colab_type": "text"
      },
      "cell_type": "markdown",
      "source": [
        "# What was the average fare by passenger class? By survival?\n",
        "\n",
        "SELECT AVG(Fare) FROM \"public\".\"titanic\"\n",
        "WHERE titanic.Pclass = 1\n",
        "\n",
        "$84.15\n",
        "\n",
        "SELECT AVG(Fare) FROM \"public\".\"titanic\"\n",
        "WHERE titanic.Pclass = 2\n",
        "\n",
        "$20.66\n",
        "\n",
        "\n",
        "SELECT AVG(Fare) FROM \"public\".\"titanic\"\n",
        "WHERE titanic.Pclass = 3\n",
        "\n",
        "$13.70\n",
        "\n",
        "SELECT AVG(Fare) FROM \"public\".\"titanic\"\n",
        "WHERE titanic.Survived = 1\n",
        "\n",
        "$48.39\n",
        "\n",
        "SELECT AVG(Fare) FROM \"public\".\"titanic\"\n",
        "WHERE titanic.Survived = 0\n",
        "\n",
        "$22.20"
      ]
    },
    {
      "metadata": {
        "id": "66uaR_jegoDU",
        "colab_type": "text"
      },
      "cell_type": "markdown",
      "source": [
        "# How many siblings/spouses aboard on average, by passenger class? By survival?\n",
        "\n",
        "SELECT AVG(siblings_or_spouse) FROM \"public\".\"titanic\"\n",
        "WHERE titanic.Pclass = 1\n",
        "\n",
        "0.4\n",
        "\n",
        "SELECT AVG(siblings_or_spouse) FROM \"public\".\"titanic\"\n",
        "WHERE titanic.Pclass = 2\n",
        "\n",
        "0.4\n",
        "\n",
        "SELECT AVG(siblings_or_spouse) FROM \"public\".\"titanic\"\n",
        "WHERE titanic.Pclass = 3\n",
        "\n",
        "0.6\n",
        "\n",
        "SELECT AVG(siblings_or_spouse) FROM \"public\".\"titanic\"\n",
        "WHERE titanic.Survived = 1\n",
        "\n",
        "0.4\n",
        "\n",
        "SELECT AVG(siblings_or_spouse) FROM \"public\".\"titanic\"\n",
        "WHERE titanic.Survived = 0\n",
        "\n",
        "0.5"
      ]
    },
    {
      "metadata": {
        "id": "8iDrgIl0iR-V",
        "colab_type": "text"
      },
      "cell_type": "markdown",
      "source": [
        "# How many parents/children aboard on average, by passenger class? By survival?\n",
        "\n",
        "SELECT AVG(parents_or_children) FROM \"public\".\"titanic\"\n",
        "WHERE titanic.Pclass = 1\n",
        "\n",
        "0.35\n",
        "\n",
        "SELECT AVG(parents_or_children) FROM \"public\".\"titanic\"\n",
        "WHERE titanic.Pclass = 2\n",
        "\n",
        "0.38\n",
        "\n",
        "SELECT AVG(parents_or_children) FROM \"public\".\"titanic\"\n",
        "WHERE titanic.Pclass = 3\n",
        "\n",
        "0.39\n",
        "\n",
        "SELECT AVG(parents_or_children) FROM \"public\".\"titanic\"\n",
        "WHERE titanic.Survived = 1\n",
        "\n",
        "0.46\n",
        "\n",
        "SELECT AVG(parents_or_children) FROM \"public\".\"titanic\"\n",
        "WHERE titanic.Survived = 0\n",
        "\n",
        "0.33\n",
        "\n"
      ]
    },
    {
      "metadata": {
        "id": "aUU7e8Xvi-rE",
        "colab_type": "text"
      },
      "cell_type": "markdown",
      "source": [
        "#Do any passengers have the same name?\n",
        "\n",
        "SELECT COUNT (DISTINCT name) FROM \"public\".\"titanic\"\n",
        "887\n",
        "\n",
        "SELECT COUNT (name) FROM \"public\".\"titanic\"\n",
        "887\n",
        "\n",
        "By deduction, no\n"
      ]
    }
  ]
}