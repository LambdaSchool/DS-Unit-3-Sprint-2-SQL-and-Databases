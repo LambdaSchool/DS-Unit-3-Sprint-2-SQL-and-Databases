{
 "cells": [
  {
   "cell_type": "code",
   "execution_count": null,
   "metadata": {},
   "outputs": [],
   "source": [
    "import sqlite3"
   ]
  },
  {
   "cell_type": "code",
   "execution_count": null,
   "metadata": {},
   "outputs": [],
   "source": [
    "conn = sqlite3.connect('northwind_small.sqlite3')\n",
    "curs = conn.cursor()"
   ]
  },
  {
   "cell_type": "code",
   "execution_count": 9,
   "metadata": {},
   "outputs": [
    {
     "name": "stdout",
     "output_type": "stream",
     "text": [
      "Ten most expensive items (by unit price): [(38, 'Côte de Blaye', 263.5), (29, 'Thüringer Rostbratwurst', 123.79), (9, 'Mishi Kobe Niku', 97), (20, \"Sir Rodney's Marmalade\", 81), (18, 'Carnarvon Tigers', 62.5), (59, 'Raclette Courdavault', 55), (51, 'Manjimup Dried Apples', 53), (62, 'Tarte au sucre', 49.3), (43, 'Ipoh Coffee', 46), (28, 'Rössle Sauerkraut', 45.6)]\n"
     ]
    }
   ],
   "source": [
    "query = '''SELECT Id, ProductName, UnitPrice \n",
    "            FROM Product \n",
    "            ORDER BY UnitPrice DESC \n",
    "            LIMIT 10'''\n",
    "results = curs.execute(query).fetchall()\n",
    "print('Ten most expensive items (by unit price):', results)"
   ]
  },
  {
   "cell_type": "code",
   "execution_count": null,
   "metadata": {},
   "outputs": [],
   "source": [
    "query = '''SELECT AVG(HireAge) FROM \n",
    "            (SELECT HireDate - BirthDate AS HireAge FROM Employee)'''\n",
    "results = curs.execute(query).fetchone()\n",
    "print('Average employee age at time of hire:', results)"
   ]
  },
  {
   "cell_type": "code",
   "execution_count": 8,
   "metadata": {},
   "outputs": [
    {
     "name": "stdout",
     "output_type": "stream",
     "text": [
      "Ten most expensive items (by unit price), with supplier: [(38, 'Côte de Blaye', 263.5, 'Aux joyeux ecclésiastiques'), (29, 'Thüringer Rostbratwurst', 123.79, 'Plutzer Lebensmittelgroßmärkte AG'), (9, 'Mishi Kobe Niku', 97, 'Tokyo Traders'), (20, \"Sir Rodney's Marmalade\", 81, 'Specialty Biscuits, Ltd.'), (18, 'Carnarvon Tigers', 62.5, 'Pavlova, Ltd.'), (59, 'Raclette Courdavault', 55, 'Gai pâturage'), (51, 'Manjimup Dried Apples', 53, \"G'day, Mate\"), (62, 'Tarte au sucre', 49.3, \"Forêts d'érables\"), (43, 'Ipoh Coffee', 46, 'Leka Trading'), (28, 'Rössle Sauerkraut', 45.6, 'Plutzer Lebensmittelgroßmärkte AG')]\n"
     ]
    }
   ],
   "source": [
    "query = '''SELECT Product.Id, Product.ProductName, Product.UnitPrice, Supplier.CompanyName\n",
    "            FROM Product\n",
    "            LEFT JOIN Supplier ON Product.SupplierId = Supplier.Id\n",
    "            ORDER BY UnitPrice DESC \n",
    "            LIMIT 10'''\n",
    "results = curs.execute(query).fetchall()\n",
    "print('Ten most expensive items (by unit price), with supplier:', results)"
   ]
  },
  {
   "cell_type": "code",
   "execution_count": 18,
   "metadata": {},
   "outputs": [
    {
     "name": "stdout",
     "output_type": "stream",
     "text": [
      "Largest Category: Confections , with 13\n"
     ]
    }
   ],
   "source": [
    "query = '''SELECT Product.CategoryId, \n",
    "            Category.CategoryName, \n",
    "            COUNT(DISTINCT Product.ProductName) AS ProductCount\n",
    "            FROM Product\n",
    "            LEFT JOIN Category ON Product.CategoryId = Category.Id\n",
    "            GROUP BY 2\n",
    "            ORDER BY ProductCount DESC\n",
    "            LIMIT 1'''\n",
    "results = curs.execute(query).fetchall()\n",
    "print('Largest Category:', results[0][1], ', with', results[0][2])"
   ]
  }
 ],
 "metadata": {
  "kernelspec": {
   "display_name": "Python 3",
   "language": "python",
   "name": "python3"
  },
  "language_info": {
   "codemirror_mode": {
    "name": "ipython",
    "version": 3
   },
   "file_extension": ".py",
   "mimetype": "text/x-python",
   "name": "python",
   "nbconvert_exporter": "python",
   "pygments_lexer": "ipython3",
   "version": "3.7.4"
  },
  "varInspector": {
   "cols": {
    "lenName": 16,
    "lenType": 16,
    "lenVar": 40
   },
   "kernels_config": {
    "python": {
     "delete_cmd_postfix": "",
     "delete_cmd_prefix": "del ",
     "library": "var_list.py",
     "varRefreshCmd": "print(var_dic_list())"
    },
    "r": {
     "delete_cmd_postfix": ") ",
     "delete_cmd_prefix": "rm(",
     "library": "var_list.r",
     "varRefreshCmd": "cat(var_dic_list()) "
    }
   },
   "types_to_exclude": [
    "module",
    "function",
    "builtin_function_or_method",
    "instance",
    "_Feature"
   ],
   "window_display": false
  }
 },
 "nbformat": 4,
 "nbformat_minor": 4
}
