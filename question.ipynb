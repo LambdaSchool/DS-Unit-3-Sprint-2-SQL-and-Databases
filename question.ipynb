{
  "nbformat": 4,
  "nbformat_minor": 0,
  "metadata": {
    "colab": {
      "name": "question.ipynb",
      "version": "0.3.2",
      "provenance": [],
      "include_colab_link": true
    },
    "kernelspec": {
      "name": "python3",
      "display_name": "Python 3"
    }
  },
  "cells": [
    {
      "cell_type": "markdown",
      "metadata": {
        "id": "view-in-github",
        "colab_type": "text"
      },
      "source": [
        "<a href=\"https://colab.research.google.com/github/Jaavion/DS-Unit-3-Sprint-2-SQL-and-Databases/blob/master/question.ipynb\" target=\"_parent\"><img src=\"https://colab.research.google.com/assets/colab-badge.svg\" alt=\"Open In Colab\"/></a>"
      ]
    },
    {
      "cell_type": "code",
      "metadata": {
        "id": "ZW0V5LZNyF2N",
        "colab_type": "code",
        "colab": {}
      },
      "source": [
        "#employee has a many to many relationship with each other. \n",
        "#a many to many means there's another table not directly connected to each but can connect with another one. \n"
      ],
      "execution_count": 0,
      "outputs": []
    },
    {
      "cell_type": "code",
      "metadata": {
        "id": "MFuLR3Ko9zNU",
        "colab_type": "code",
        "colab": {}
      },
      "source": [
        "# a document store would be great for large companies\n",
        "# it wouldn't be appropiate for smaller finance companies \n",
        "# NewSQL is a class of relational database management systems that seek to provide the scalability of NoSQL systems for online transaction processing (OLTP) workloads while maintaining the ACID guarantees of a traditional database system.\n",
        "#It was an attempt to describe a group of products that were very similar in terms of vendors trying to do something new with a relational SQL database\n",
        "\n"
      ],
      "execution_count": 0,
      "outputs": []
    }
  ]
}