{
  "nbformat": 4,
  "nbformat_minor": 0,
  "metadata": {
    "colab": {
      "name": "binary_counter",
      "provenance": [],
      "include_colab_link": true
    },
    "kernelspec": {
      "name": "python3",
      "display_name": "Python 3"
    }
  },
  "cells": [
    {
      "cell_type": "markdown",
      "metadata": {
        "id": "view-in-github",
        "colab_type": "text"
      },
      "source": [
        "<a href=\"https://colab.research.google.com/github/echiyembekeza/DS-Unit-3-Sprint-2-SQL-and-Databases/blob/master/binary_counter.ipynb\" target=\"_parent\"><img src=\"https://colab.research.google.com/assets/colab-badge.svg\" alt=\"Open In Colab\"/></a>"
      ]
    },
    {
      "cell_type": "code",
      "metadata": {
        "id": "yjuaYd8TbczE",
        "colab_type": "code",
        "colab": {}
      },
      "source": [
        "def solution(N):\n",
        "     binary_rep = str(bin(N))[2:]\n",
        "     gap = False\n",
        "     max_gap = 0\n",
        "     num_gap = 0\n",
        "     for s in binary_rep:\n",
        "         if s == '1':\n",
        "             if max_gap < num_gap:\n",
        "                max_gap = num_gap\n",
        "             gap = True\n",
        "             num_gap = 0\n",
        "         elif gap:\n",
        "             num_gap += 1\n",
        "     print(\"The binary representation of\", N, \"is\",binary_rep, \"with\", num_gap, \"binary gaps, with the longest one being \")\n",
        "     return max_gap"
      ],
      "execution_count": 0,
      "outputs": []
    },
    {
      "cell_type": "code",
      "metadata": {
        "id": "wGzfyFLHbg-p",
        "colab_type": "code",
        "colab": {
          "base_uri": "https://localhost:8080/",
          "height": 51
        },
        "outputId": "b3897d22-8470-4f4a-9a18-09fb19ee3e71"
      },
      "source": [
        "solution(9)"
      ],
      "execution_count": 25,
      "outputs": [
        {
          "output_type": "stream",
          "text": [
            "The binary representation of 9 is 1001 with 0 binary gaps, with the longest one being \n"
          ],
          "name": "stdout"
        },
        {
          "output_type": "execute_result",
          "data": {
            "text/plain": [
              "2"
            ]
          },
          "metadata": {
            "tags": []
          },
          "execution_count": 25
        }
      ]
    },
    {
      "cell_type": "code",
      "metadata": {
        "id": "Mij2zN98bl5U",
        "colab_type": "code",
        "colab": {
          "base_uri": "https://localhost:8080/",
          "height": 34
        },
        "outputId": "e9ff86b7-136f-44a1-8881-8e6990d8b023"
      },
      "source": [
        "solution(100)"
      ],
      "execution_count": 3,
      "outputs": [
        {
          "output_type": "execute_result",
          "data": {
            "text/plain": [
              "2"
            ]
          },
          "metadata": {
            "tags": []
          },
          "execution_count": 3
        }
      ]
    },
    {
      "cell_type": "code",
      "metadata": {
        "id": "c8yYHuwwcqoe",
        "colab_type": "code",
        "colab": {
          "base_uri": "https://localhost:8080/",
          "height": 34
        },
        "outputId": "6ffd4911-f46c-4b19-9064-aeb0c9ad56b1"
      },
      "source": [
        "str(bin(100))[2:]"
      ],
      "execution_count": 7,
      "outputs": [
        {
          "output_type": "execute_result",
          "data": {
            "text/plain": [
              "'1100100'"
            ]
          },
          "metadata": {
            "tags": []
          },
          "execution_count": 7
        }
      ]
    },
    {
      "cell_type": "code",
      "metadata": {
        "id": "8RAGyFJCeiaG",
        "colab_type": "code",
        "colab": {}
      },
      "source": [
        "print(\"The binary representation of 100 (using bin()) is : \",end=\"\") \n",
        "print(Binary(100)) "
      ],
      "execution_count": 0,
      "outputs": []
    }
  ]
}