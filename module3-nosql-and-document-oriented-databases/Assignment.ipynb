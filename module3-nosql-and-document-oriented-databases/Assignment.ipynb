{
 "cells": [
  {
   "cell_type": "markdown",
   "metadata": {
    "heading_collapsed": true
   },
   "source": [
    "## Imports"
   ]
  },
  {
   "cell_type": "code",
   "execution_count": 460,
   "metadata": {
    "hidden": true
   },
   "outputs": [],
   "source": [
    "from pymongo import MongoClient\n",
    "from pymongo.errors import BulkWriteError\n",
    "import pymongo\n",
    "client = MongoClient()\n",
    "import sqlite3\n",
    "import pandas as pd\n"
   ]
  },
  {
   "cell_type": "markdown",
   "metadata": {
    "heading_collapsed": true
   },
   "source": [
    "## Config and Exploration"
   ]
  },
  {
   "cell_type": "code",
   "execution_count": 462,
   "metadata": {
    "hidden": true
   },
   "outputs": [],
   "source": [
    "myclient = MongoClient()con = sqlite3.connect('rpg_db.sqlite3')\n",
    "cur = sqlcon.cursor()\n",
    "mydb = myclient['rpg']\n",
    "char_record = mydb['character']\n",
    "tables = [\n",
    "        'charactercreator_character',\n",
    "        'armory_item',\n",
    "        'armory_weapon',\n",
    "        'charactercreator_character_inventory',\n",
    "        'charactercreator_cleric',\n",
    "        'charactercreator_fighter',\n",
    "        'charactercreator_mage',\n",
    "        'charactercreator_thief',\n",
    "        'charactercreator_necromancer'\n",
    "    ]"
   ]
  },
  {
   "cell_type": "code",
   "execution_count": 518,
   "metadata": {
    "hidden": true
   },
   "outputs": [
    {
     "data": {
      "text/html": [
       "<div>\n",
       "<style scoped>\n",
       "    .dataframe tbody tr th:only-of-type {\n",
       "        vertical-align: middle;\n",
       "    }\n",
       "\n",
       "    .dataframe tbody tr th {\n",
       "        vertical-align: top;\n",
       "    }\n",
       "\n",
       "    .dataframe thead th {\n",
       "        text-align: right;\n",
       "    }\n",
       "</style>\n",
       "<table border=\"1\" class=\"dataframe\">\n",
       "  <thead>\n",
       "    <tr style=\"text-align: right;\">\n",
       "      <th></th>\n",
       "      <th>character_id</th>\n",
       "      <th>name</th>\n",
       "      <th>level</th>\n",
       "      <th>exp</th>\n",
       "      <th>hp</th>\n",
       "      <th>strength</th>\n",
       "      <th>intelligence</th>\n",
       "      <th>dexterity</th>\n",
       "      <th>wisdom</th>\n",
       "    </tr>\n",
       "  </thead>\n",
       "  <tbody>\n",
       "    <tr>\n",
       "      <th>0</th>\n",
       "      <td>1</td>\n",
       "      <td>Aliquid iste optio reiciendi</td>\n",
       "      <td>0</td>\n",
       "      <td>0</td>\n",
       "      <td>10</td>\n",
       "      <td>1</td>\n",
       "      <td>1</td>\n",
       "      <td>1</td>\n",
       "      <td>1</td>\n",
       "    </tr>\n",
       "    <tr>\n",
       "      <th>1</th>\n",
       "      <td>2</td>\n",
       "      <td>Optio dolorem ex a</td>\n",
       "      <td>0</td>\n",
       "      <td>0</td>\n",
       "      <td>10</td>\n",
       "      <td>1</td>\n",
       "      <td>1</td>\n",
       "      <td>1</td>\n",
       "      <td>1</td>\n",
       "    </tr>\n",
       "    <tr>\n",
       "      <th>2</th>\n",
       "      <td>3</td>\n",
       "      <td>Minus c</td>\n",
       "      <td>0</td>\n",
       "      <td>0</td>\n",
       "      <td>10</td>\n",
       "      <td>1</td>\n",
       "      <td>1</td>\n",
       "      <td>1</td>\n",
       "      <td>1</td>\n",
       "    </tr>\n",
       "    <tr>\n",
       "      <th>3</th>\n",
       "      <td>4</td>\n",
       "      <td>Sit ut repr</td>\n",
       "      <td>0</td>\n",
       "      <td>0</td>\n",
       "      <td>10</td>\n",
       "      <td>1</td>\n",
       "      <td>1</td>\n",
       "      <td>1</td>\n",
       "      <td>1</td>\n",
       "    </tr>\n",
       "    <tr>\n",
       "      <th>4</th>\n",
       "      <td>5</td>\n",
       "      <td>At id recusandae expl</td>\n",
       "      <td>0</td>\n",
       "      <td>0</td>\n",
       "      <td>10</td>\n",
       "      <td>1</td>\n",
       "      <td>1</td>\n",
       "      <td>1</td>\n",
       "      <td>1</td>\n",
       "    </tr>\n",
       "    <tr>\n",
       "      <th>5</th>\n",
       "      <td>6</td>\n",
       "      <td>Non nobis et of</td>\n",
       "      <td>0</td>\n",
       "      <td>0</td>\n",
       "      <td>10</td>\n",
       "      <td>1</td>\n",
       "      <td>1</td>\n",
       "      <td>1</td>\n",
       "      <td>1</td>\n",
       "    </tr>\n",
       "    <tr>\n",
       "      <th>6</th>\n",
       "      <td>7</td>\n",
       "      <td>Perferendis</td>\n",
       "      <td>0</td>\n",
       "      <td>0</td>\n",
       "      <td>10</td>\n",
       "      <td>1</td>\n",
       "      <td>1</td>\n",
       "      <td>1</td>\n",
       "      <td>1</td>\n",
       "    </tr>\n",
       "    <tr>\n",
       "      <th>7</th>\n",
       "      <td>8</td>\n",
       "      <td>Accusantium amet quidem eve</td>\n",
       "      <td>0</td>\n",
       "      <td>0</td>\n",
       "      <td>10</td>\n",
       "      <td>1</td>\n",
       "      <td>1</td>\n",
       "      <td>1</td>\n",
       "      <td>1</td>\n",
       "    </tr>\n",
       "    <tr>\n",
       "      <th>8</th>\n",
       "      <td>9</td>\n",
       "      <td>Sed nostrum inventore error m</td>\n",
       "      <td>0</td>\n",
       "      <td>0</td>\n",
       "      <td>10</td>\n",
       "      <td>1</td>\n",
       "      <td>1</td>\n",
       "      <td>1</td>\n",
       "      <td>1</td>\n",
       "    </tr>\n",
       "    <tr>\n",
       "      <th>9</th>\n",
       "      <td>10</td>\n",
       "      <td>Harum repellendus omnis od</td>\n",
       "      <td>0</td>\n",
       "      <td>0</td>\n",
       "      <td>10</td>\n",
       "      <td>1</td>\n",
       "      <td>1</td>\n",
       "      <td>1</td>\n",
       "      <td>1</td>\n",
       "    </tr>\n",
       "  </tbody>\n",
       "</table>\n",
       "</div>"
      ],
      "text/plain": [
       "   character_id                           name  level  exp  hp  strength  \\\n",
       "0             1   Aliquid iste optio reiciendi      0    0  10         1   \n",
       "1             2             Optio dolorem ex a      0    0  10         1   \n",
       "2             3                        Minus c      0    0  10         1   \n",
       "3             4                    Sit ut repr      0    0  10         1   \n",
       "4             5          At id recusandae expl      0    0  10         1   \n",
       "5             6                Non nobis et of      0    0  10         1   \n",
       "6             7                    Perferendis      0    0  10         1   \n",
       "7             8    Accusantium amet quidem eve      0    0  10         1   \n",
       "8             9  Sed nostrum inventore error m      0    0  10         1   \n",
       "9            10     Harum repellendus omnis od      0    0  10         1   \n",
       "\n",
       "   intelligence  dexterity  wisdom  \n",
       "0             1          1       1  \n",
       "1             1          1       1  \n",
       "2             1          1       1  \n",
       "3             1          1       1  \n",
       "4             1          1       1  \n",
       "5             1          1       1  \n",
       "6             1          1       1  \n",
       "7             1          1       1  \n",
       "8             1          1       1  \n",
       "9             1          1       1  "
      ]
     },
     "execution_count": 518,
     "metadata": {},
     "output_type": "execute_result"
    }
   ],
   "source": [
    "def sql_df(query, con=con):\n",
    "    return pd.read_sql(query, con)\n",
    "\n",
    "sql_df('SELECT * FROM charactercreator_character LIMIT 10')"
   ]
  },
  {
   "cell_type": "markdown",
   "metadata": {
    "heading_collapsed": true
   },
   "source": [
    "## Insert Data to MongoDB"
   ]
  },
  {
   "cell_type": "code",
   "execution_count": 247,
   "metadata": {
    "hidden": true
   },
   "outputs": [],
   "source": [
    "# index to prevent duplicates\n",
    "result = char_record.create_index([('character_id', pymongo.ASCENDING)], unique=True)\n",
    "characters = sql_df('SELECT * FROM charactercreator_character').to_dict(orient='records')\n",
    "# Load data if not loaded already\n",
    "try:\n",
    "    result = char_record.insert_many(characters)\n",
    "except BulkWriteError as e:\n",
    "        print('Record already written')\n",
    "    \n"
   ]
  },
  {
   "cell_type": "code",
   "execution_count": 248,
   "metadata": {
    "hidden": true
   },
   "outputs": [],
   "source": [
    "# RPG Classes\n",
    "base_classes = [\n",
    "    'charactercreator_cleric',\n",
    "    'charactercreator_fighter',\n",
    "    'charactercreator_mage',\n",
    "    'charactercreator_thief',\n",
    "    'charactercreator_necromancer'\n",
    "]\n",
    "#merge the class data to character record\n",
    "for cls in base_classes:\n",
    "    for rec in sql_df(f'SELECT * FROM {cls}').to_dict(orient='records'):\n",
    "        # Handle special case\n",
    "        # Necrmonacer is a subclass of mage\n",
    "        if cls == 'charactercreator_necromancer':\n",
    "            character_id = rec.pop('mage_ptr_id')\n",
    "        else:\n",
    "            character_id = rec.pop('character_ptr_id')\n",
    "        #use the last word for class name\n",
    "        class_name = cls.split('_')[-1]\n",
    "        rec[class_name] = True\n",
    "        rec['items'] = []\n",
    "        query = {'character_id': character_id}\n",
    "        char_record.update_one(query, {'$set': rec})\n",
    "    \n"
   ]
  },
  {
   "cell_type": "code",
   "execution_count": 519,
   "metadata": {
    "hidden": true
   },
   "outputs": [
    {
     "data": {
      "text/html": [
       "<div>\n",
       "<style scoped>\n",
       "    .dataframe tbody tr th:only-of-type {\n",
       "        vertical-align: middle;\n",
       "    }\n",
       "\n",
       "    .dataframe tbody tr th {\n",
       "        vertical-align: top;\n",
       "    }\n",
       "\n",
       "    .dataframe thead th {\n",
       "        text-align: right;\n",
       "    }\n",
       "</style>\n",
       "<table border=\"1\" class=\"dataframe\">\n",
       "  <thead>\n",
       "    <tr style=\"text-align: right;\">\n",
       "      <th></th>\n",
       "      <th>item_id</th>\n",
       "      <th>name</th>\n",
       "      <th>value</th>\n",
       "      <th>weight</th>\n",
       "    </tr>\n",
       "  </thead>\n",
       "  <tbody>\n",
       "    <tr>\n",
       "      <th>0</th>\n",
       "      <td>1</td>\n",
       "      <td>Libero facere dolore, as</td>\n",
       "      <td>0</td>\n",
       "      <td>0</td>\n",
       "    </tr>\n",
       "    <tr>\n",
       "      <th>1</th>\n",
       "      <td>2</td>\n",
       "      <td>Qui</td>\n",
       "      <td>0</td>\n",
       "      <td>0</td>\n",
       "    </tr>\n",
       "    <tr>\n",
       "      <th>2</th>\n",
       "      <td>3</td>\n",
       "      <td>Laborios</td>\n",
       "      <td>0</td>\n",
       "      <td>0</td>\n",
       "    </tr>\n",
       "    <tr>\n",
       "      <th>3</th>\n",
       "      <td>4</td>\n",
       "      <td>Quibusdam illo deserunt ea</td>\n",
       "      <td>0</td>\n",
       "      <td>0</td>\n",
       "    </tr>\n",
       "    <tr>\n",
       "      <th>4</th>\n",
       "      <td>5</td>\n",
       "      <td>Quod eveniet i</td>\n",
       "      <td>0</td>\n",
       "      <td>0</td>\n",
       "    </tr>\n",
       "    <tr>\n",
       "      <th>5</th>\n",
       "      <td>6</td>\n",
       "      <td>Qui odio beata</td>\n",
       "      <td>0</td>\n",
       "      <td>0</td>\n",
       "    </tr>\n",
       "    <tr>\n",
       "      <th>6</th>\n",
       "      <td>7</td>\n",
       "      <td>Omnis</td>\n",
       "      <td>0</td>\n",
       "      <td>0</td>\n",
       "    </tr>\n",
       "    <tr>\n",
       "      <th>7</th>\n",
       "      <td>8</td>\n",
       "      <td>Saepe ea vo</td>\n",
       "      <td>0</td>\n",
       "      <td>0</td>\n",
       "    </tr>\n",
       "    <tr>\n",
       "      <th>8</th>\n",
       "      <td>9</td>\n",
       "      <td>Vel illo sed</td>\n",
       "      <td>0</td>\n",
       "      <td>0</td>\n",
       "    </tr>\n",
       "    <tr>\n",
       "      <th>9</th>\n",
       "      <td>10</td>\n",
       "      <td>Pariatur hic iste m</td>\n",
       "      <td>0</td>\n",
       "      <td>0</td>\n",
       "    </tr>\n",
       "  </tbody>\n",
       "</table>\n",
       "</div>"
      ],
      "text/plain": [
       "   item_id                        name  value  weight\n",
       "0        1    Libero facere dolore, as      0       0\n",
       "1        2                         Qui      0       0\n",
       "2        3                    Laborios      0       0\n",
       "3        4  Quibusdam illo deserunt ea      0       0\n",
       "4        5              Quod eveniet i      0       0\n",
       "5        6              Qui odio beata      0       0\n",
       "6        7                       Omnis      0       0\n",
       "7        8                 Saepe ea vo      0       0\n",
       "8        9                Vel illo sed      0       0\n",
       "9       10         Pariatur hic iste m      0       0"
      ]
     },
     "execution_count": 519,
     "metadata": {},
     "output_type": "execute_result"
    }
   ],
   "source": [
    "# just double checking schema\n",
    "sql_df('SELECT * FROM armory_item LIMIT 10')"
   ]
  },
  {
   "cell_type": "code",
   "execution_count": 520,
   "metadata": {
    "hidden": true
   },
   "outputs": [],
   "source": [
    "# Add items\n",
    "from math import isnan\n",
    "for rec in sql_df('''\n",
    "        SELECT character_id, ai.item_id, name, value, weight, power, weapon\n",
    "        FROM charactercreator_character_inventory AS ci \n",
    "        JOIN armory_item AS ai ON ci.item_id=ai.item_id\n",
    "        LEFT JOIN (SELECT *, True as weapon FROM armory_weapon) \n",
    "        AS aw on aw.item_ptr_id = ai.item_id\n",
    "        ORDER BY ai.item_id\n",
    "    ''').to_dict(orient='records'):\n",
    "    character_id = rec.pop('character_id')\n",
    "    keys = list(rec.keys())\n",
    "    # Remove nan's as fields\n",
    "    # joining the weapons introduced a lot of nan's to remove\n",
    "    for key in keys:\n",
    "        v = rec[key]     \n",
    "        if type(v) == float and isnan(v):\n",
    "            rec.pop(key)\n",
    "    if rec.get('weapon') == 1:\n",
    "        rec['weapon'] = True\n",
    "    query = {'character_id': character_id}\n",
    "    char_record.update_one(query, {'$addToSet': {'items': rec}})"
   ]
  },
  {
   "cell_type": "code",
   "execution_count": 521,
   "metadata": {
    "hidden": true
   },
   "outputs": [
    {
     "data": {
      "text/html": [
       "<div>\n",
       "<style scoped>\n",
       "    .dataframe tbody tr th:only-of-type {\n",
       "        vertical-align: middle;\n",
       "    }\n",
       "\n",
       "    .dataframe tbody tr th {\n",
       "        vertical-align: top;\n",
       "    }\n",
       "\n",
       "    .dataframe thead th {\n",
       "        text-align: right;\n",
       "    }\n",
       "</style>\n",
       "<table border=\"1\" class=\"dataframe\">\n",
       "  <thead>\n",
       "    <tr style=\"text-align: right;\">\n",
       "      <th></th>\n",
       "      <th>character_id</th>\n",
       "      <th>item_id</th>\n",
       "      <th>name</th>\n",
       "      <th>value</th>\n",
       "      <th>weight</th>\n",
       "      <th>power</th>\n",
       "      <th>weapon</th>\n",
       "    </tr>\n",
       "  </thead>\n",
       "  <tbody>\n",
       "    <tr>\n",
       "      <th>0</th>\n",
       "      <td>30</td>\n",
       "      <td>138</td>\n",
       "      <td>Corrupti sit at cum</td>\n",
       "      <td>0</td>\n",
       "      <td>0</td>\n",
       "      <td>0</td>\n",
       "      <td>1</td>\n",
       "    </tr>\n",
       "    <tr>\n",
       "      <th>1</th>\n",
       "      <td>128</td>\n",
       "      <td>138</td>\n",
       "      <td>Corrupti sit at cum</td>\n",
       "      <td>0</td>\n",
       "      <td>0</td>\n",
       "      <td>0</td>\n",
       "      <td>1</td>\n",
       "    </tr>\n",
       "    <tr>\n",
       "      <th>2</th>\n",
       "      <td>129</td>\n",
       "      <td>138</td>\n",
       "      <td>Corrupti sit at cum</td>\n",
       "      <td>0</td>\n",
       "      <td>0</td>\n",
       "      <td>0</td>\n",
       "      <td>1</td>\n",
       "    </tr>\n",
       "    <tr>\n",
       "      <th>3</th>\n",
       "      <td>70</td>\n",
       "      <td>139</td>\n",
       "      <td>Est fugit incidunt co</td>\n",
       "      <td>0</td>\n",
       "      <td>0</td>\n",
       "      <td>0</td>\n",
       "      <td>1</td>\n",
       "    </tr>\n",
       "    <tr>\n",
       "      <th>4</th>\n",
       "      <td>74</td>\n",
       "      <td>139</td>\n",
       "      <td>Est fugit incidunt co</td>\n",
       "      <td>0</td>\n",
       "      <td>0</td>\n",
       "      <td>0</td>\n",
       "      <td>1</td>\n",
       "    </tr>\n",
       "  </tbody>\n",
       "</table>\n",
       "</div>"
      ],
      "text/plain": [
       "   character_id  item_id                   name  value  weight  power  weapon\n",
       "0            30      138    Corrupti sit at cum      0       0      0       1\n",
       "1           128      138    Corrupti sit at cum      0       0      0       1\n",
       "2           129      138    Corrupti sit at cum      0       0      0       1\n",
       "3            70      139  Est fugit incidunt co      0       0      0       1\n",
       "4            74      139  Est fugit incidunt co      0       0      0       1"
      ]
     },
     "execution_count": 521,
     "metadata": {},
     "output_type": "execute_result"
    }
   ],
   "source": [
    "#checking query\n",
    "sql_df('''\n",
    " SELECT character_id, ai.item_id, name, value, weight, power, weapon\n",
    "        FROM charactercreator_character_inventory AS ci \n",
    "        JOIN armory_item AS ai ON ci.item_id=ai.item_id\n",
    "        JOIN (SELECT *, True as weapon FROM armory_weapon) \n",
    "        AS aw on aw.item_ptr_id = ai.item_id\n",
    "        ORDER BY ai.item_id\n",
    "''').head()"
   ]
  },
  {
   "cell_type": "markdown",
   "metadata": {
    "heading_collapsed": true
   },
   "source": [
    "## How many characters are there in total"
   ]
  },
  {
   "cell_type": "code",
   "execution_count": 464,
   "metadata": {
    "hidden": true
   },
   "outputs": [
    {
     "data": {
      "text/plain": [
       "302"
      ]
     },
     "execution_count": 464,
     "metadata": {},
     "output_type": "execute_result"
    }
   ],
   "source": [
    "char_record.count_documents({})"
   ]
  },
  {
   "cell_type": "code",
   "execution_count": 466,
   "metadata": {
    "hidden": true
   },
   "outputs": [
    {
     "data": {
      "text/html": [
       "<div>\n",
       "<style scoped>\n",
       "    .dataframe tbody tr th:only-of-type {\n",
       "        vertical-align: middle;\n",
       "    }\n",
       "\n",
       "    .dataframe tbody tr th {\n",
       "        vertical-align: top;\n",
       "    }\n",
       "\n",
       "    .dataframe thead th {\n",
       "        text-align: right;\n",
       "    }\n",
       "</style>\n",
       "<table border=\"1\" class=\"dataframe\">\n",
       "  <thead>\n",
       "    <tr style=\"text-align: right;\">\n",
       "      <th></th>\n",
       "      <th>total_chars</th>\n",
       "    </tr>\n",
       "  </thead>\n",
       "  <tbody>\n",
       "    <tr>\n",
       "      <th>0</th>\n",
       "      <td>302</td>\n",
       "    </tr>\n",
       "  </tbody>\n",
       "</table>\n",
       "</div>"
      ],
      "text/plain": [
       "   total_chars\n",
       "0          302"
      ]
     },
     "execution_count": 466,
     "metadata": {},
     "output_type": "execute_result"
    }
   ],
   "source": [
    "sql_df('SELECT COUNT(*) total_chars FROM charactercreator_character')"
   ]
  },
  {
   "cell_type": "markdown",
   "metadata": {
    "heading_collapsed": true
   },
   "source": [
    "## How many characters per class"
   ]
  },
  {
   "cell_type": "code",
   "execution_count": 469,
   "metadata": {
    "hidden": true
   },
   "outputs": [
    {
     "name": "stdout",
     "output_type": "stream",
     "text": [
      "cleric count: 75\n",
      "fighter count: 68\n",
      "mage count: 108\n",
      "thief count: 51\n",
      "necromancer count: 11\n"
     ]
    }
   ],
   "source": [
    "for cls in base_classes:\n",
    "    cls_name = cls.split('_')[-1]\n",
    "    cnt = char_record.count_documents({cls_name: True})\n",
    "    print(f'{cls_name} count: {cnt}')"
   ]
  },
  {
   "cell_type": "code",
   "execution_count": 474,
   "metadata": {
    "hidden": true
   },
   "outputs": [
    {
     "data": {
      "text/html": [
       "<div>\n",
       "<style scoped>\n",
       "    .dataframe tbody tr th:only-of-type {\n",
       "        vertical-align: middle;\n",
       "    }\n",
       "\n",
       "    .dataframe tbody tr th {\n",
       "        vertical-align: top;\n",
       "    }\n",
       "\n",
       "    .dataframe thead th {\n",
       "        text-align: right;\n",
       "    }\n",
       "</style>\n",
       "<table border=\"1\" class=\"dataframe\">\n",
       "  <thead>\n",
       "    <tr style=\"text-align: right;\">\n",
       "      <th></th>\n",
       "      <th>cleric</th>\n",
       "      <th>fighter</th>\n",
       "      <th>mage</th>\n",
       "      <th>thief</th>\n",
       "      <th>necromancer</th>\n",
       "    </tr>\n",
       "  </thead>\n",
       "  <tbody>\n",
       "    <tr>\n",
       "      <th>0</th>\n",
       "      <td>75</td>\n",
       "      <td>68</td>\n",
       "      <td>108</td>\n",
       "      <td>51</td>\n",
       "      <td>11</td>\n",
       "    </tr>\n",
       "  </tbody>\n",
       "</table>\n",
       "</div>"
      ],
      "text/plain": [
       "   cleric  fighter  mage  thief  necromancer\n",
       "0      75       68   108     51           11"
      ]
     },
     "execution_count": 474,
     "metadata": {},
     "output_type": "execute_result"
    }
   ],
   "source": [
    "sql_df('''\n",
    " SELECT \n",
    "        ( SELECT COUNT(*) FROM charactercreator_cleric ) AS cleric,\n",
    "        ( SELECT COUNT(*) FROM charactercreator_fighter ) AS fighter,\n",
    "        ( SELECT COUNT(*) FROM charactercreator_mage ) AS mage,\n",
    "        ( SELECT COUNT(*) FROM charactercreator_thief ) AS thief,\n",
    "        ( SELECT COUNT(*) FROM charactercreator_necromancer ) AS necromancer\n",
    "''')"
   ]
  },
  {
   "cell_type": "markdown",
   "metadata": {
    "heading_collapsed": true
   },
   "source": [
    "## Total Items"
   ]
  },
  {
   "cell_type": "code",
   "execution_count": 477,
   "metadata": {
    "hidden": true
   },
   "outputs": [
    {
     "data": {
      "text/plain": [
       "[{'Total Items': 898}]"
      ]
     },
     "execution_count": 477,
     "metadata": {},
     "output_type": "execute_result"
    }
   ],
   "source": [
    "pipeline = [\n",
    "    {'$unwind': '$items'},\n",
    "    {\n",
    "      '$count': \"Total Items\"\n",
    "    }\n",
    "]\n",
    "list(char_record.aggregate(pipeline))"
   ]
  },
  {
   "cell_type": "code",
   "execution_count": 484,
   "metadata": {
    "hidden": true
   },
   "outputs": [
    {
     "data": {
      "text/html": [
       "<div>\n",
       "<style scoped>\n",
       "    .dataframe tbody tr th:only-of-type {\n",
       "        vertical-align: middle;\n",
       "    }\n",
       "\n",
       "    .dataframe tbody tr th {\n",
       "        vertical-align: top;\n",
       "    }\n",
       "\n",
       "    .dataframe thead th {\n",
       "        text-align: right;\n",
       "    }\n",
       "</style>\n",
       "<table border=\"1\" class=\"dataframe\">\n",
       "  <thead>\n",
       "    <tr style=\"text-align: right;\">\n",
       "      <th></th>\n",
       "      <th>total_items</th>\n",
       "    </tr>\n",
       "  </thead>\n",
       "  <tbody>\n",
       "    <tr>\n",
       "      <th>0</th>\n",
       "      <td>898</td>\n",
       "    </tr>\n",
       "  </tbody>\n",
       "</table>\n",
       "</div>"
      ],
      "text/plain": [
       "   total_items\n",
       "0          898"
      ]
     },
     "execution_count": 484,
     "metadata": {},
     "output_type": "execute_result"
    }
   ],
   "source": [
    "sql_df('''\n",
    "    SELECT count(*) AS total_items FROM armory_item AS ai\n",
    "    JOIN charactercreator_character_inventory as cci\n",
    "    on ai.item_id = cci.item_id\n",
    "    \n",
    "''')"
   ]
  },
  {
   "cell_type": "markdown",
   "metadata": {},
   "source": [
    "## How many of the Items are weapons? How many are not?'"
   ]
  },
  {
   "cell_type": "code",
   "execution_count": 524,
   "metadata": {},
   "outputs": [
    {
     "data": {
      "text/plain": [
       "[{'Total weapons': 203}]"
      ]
     },
     "execution_count": 524,
     "metadata": {},
     "output_type": "execute_result"
    }
   ],
   "source": [
    "pipeline = [\n",
    "    {'$unwind': '$items'},\n",
    "    {'$match': {'items.weapon': True}},\n",
    "    {'$count': \"Total weapons\"}\n",
    "]\n",
    "list(char_record.aggregate(pipeline))"
   ]
  },
  {
   "cell_type": "code",
   "execution_count": 525,
   "metadata": {},
   "outputs": [
    {
     "data": {
      "text/html": [
       "<div>\n",
       "<style scoped>\n",
       "    .dataframe tbody tr th:only-of-type {\n",
       "        vertical-align: middle;\n",
       "    }\n",
       "\n",
       "    .dataframe tbody tr th {\n",
       "        vertical-align: top;\n",
       "    }\n",
       "\n",
       "    .dataframe thead th {\n",
       "        text-align: right;\n",
       "    }\n",
       "</style>\n",
       "<table border=\"1\" class=\"dataframe\">\n",
       "  <thead>\n",
       "    <tr style=\"text-align: right;\">\n",
       "      <th></th>\n",
       "      <th>wepons</th>\n",
       "    </tr>\n",
       "  </thead>\n",
       "  <tbody>\n",
       "    <tr>\n",
       "      <th>0</th>\n",
       "      <td>203</td>\n",
       "    </tr>\n",
       "  </tbody>\n",
       "</table>\n",
       "</div>"
      ],
      "text/plain": [
       "   wepons\n",
       "0     203"
      ]
     },
     "execution_count": 525,
     "metadata": {},
     "output_type": "execute_result"
    }
   ],
   "source": [
    "sql_df('''\n",
    "    SELECT COUNT(*) AS wepons FROM armory_item as ai\n",
    "    JOIN charactercreator_character_inventory as cci\n",
    "    on ai.item_id = cci.item_id\n",
    "    WHERE ai.item_id\n",
    "    IN (SELECT item_ptr_id FROM armory_weapon)\n",
    "''')"
   ]
  },
  {
   "cell_type": "code",
   "execution_count": 526,
   "metadata": {},
   "outputs": [
    {
     "data": {
      "text/plain": [
       "[{'Total Non-weapons': 695}]"
      ]
     },
     "execution_count": 526,
     "metadata": {},
     "output_type": "execute_result"
    }
   ],
   "source": [
    "pipeline = [\n",
    "    {'$unwind': '$items'},\n",
    "    {'$match': {'items.weapon': {'$ne':True}}},\n",
    "    {'$count': \"Total Non-weapons\"}\n",
    "]\n",
    "list(char_record.aggregate(pipeline))"
   ]
  },
  {
   "cell_type": "code",
   "execution_count": 494,
   "metadata": {},
   "outputs": [
    {
     "data": {
      "text/html": [
       "<div>\n",
       "<style scoped>\n",
       "    .dataframe tbody tr th:only-of-type {\n",
       "        vertical-align: middle;\n",
       "    }\n",
       "\n",
       "    .dataframe tbody tr th {\n",
       "        vertical-align: top;\n",
       "    }\n",
       "\n",
       "    .dataframe thead th {\n",
       "        text-align: right;\n",
       "    }\n",
       "</style>\n",
       "<table border=\"1\" class=\"dataframe\">\n",
       "  <thead>\n",
       "    <tr style=\"text-align: right;\">\n",
       "      <th></th>\n",
       "      <th>non_weapons</th>\n",
       "    </tr>\n",
       "  </thead>\n",
       "  <tbody>\n",
       "    <tr>\n",
       "      <th>0</th>\n",
       "      <td>695</td>\n",
       "    </tr>\n",
       "  </tbody>\n",
       "</table>\n",
       "</div>"
      ],
      "text/plain": [
       "   non_weapons\n",
       "0          695"
      ]
     },
     "execution_count": 494,
     "metadata": {},
     "output_type": "execute_result"
    }
   ],
   "source": [
    "sql_df('''\n",
    "    SELECT COUNT(*) AS non_weapons FROM armory_item as ai\n",
    "    JOIN charactercreator_character_inventory as cci\n",
    "    on ai.item_id = cci.item_id\n",
    "    WHERE ai.item_id\n",
    "    NOT IN (SELECT item_ptr_id FROM armory_weapon)\n",
    "''')"
   ]
  },
  {
   "cell_type": "markdown",
   "metadata": {
    "heading_collapsed": true
   },
   "source": [
    "## How many Items does each character have? (Return first 20 rows):"
   ]
  },
  {
   "cell_type": "code",
   "execution_count": 499,
   "metadata": {
    "hidden": true
   },
   "outputs": [
    {
     "data": {
      "text/plain": [
       "[{'_id': 1, 'count': 3},\n",
       " {'_id': 2, 'count': 3},\n",
       " {'_id': 3, 'count': 2},\n",
       " {'_id': 4, 'count': 4},\n",
       " {'_id': 5, 'count': 4},\n",
       " {'_id': 6, 'count': 1},\n",
       " {'_id': 7, 'count': 5},\n",
       " {'_id': 8, 'count': 3},\n",
       " {'_id': 9, 'count': 4},\n",
       " {'_id': 10, 'count': 4},\n",
       " {'_id': 11, 'count': 3},\n",
       " {'_id': 12, 'count': 3},\n",
       " {'_id': 13, 'count': 4},\n",
       " {'_id': 14, 'count': 4},\n",
       " {'_id': 15, 'count': 4},\n",
       " {'_id': 16, 'count': 1},\n",
       " {'_id': 17, 'count': 5},\n",
       " {'_id': 18, 'count': 5},\n",
       " {'_id': 19, 'count': 3},\n",
       " {'_id': 20, 'count': 1}]"
      ]
     },
     "execution_count": 499,
     "metadata": {},
     "output_type": "execute_result"
    }
   ],
   "source": [
    "pipeline = [\n",
    "    {'$project': {'_id': '$character_id', 'count': {'$size': '$items'}}},\n",
    "    { '$limit': 20 }\n",
    "]\n",
    "list(char_record.aggregate(pipeline))"
   ]
  },
  {
   "cell_type": "code",
   "execution_count": 501,
   "metadata": {
    "hidden": true
   },
   "outputs": [
    {
     "data": {
      "text/html": [
       "<div>\n",
       "<style scoped>\n",
       "    .dataframe tbody tr th:only-of-type {\n",
       "        vertical-align: middle;\n",
       "    }\n",
       "\n",
       "    .dataframe tbody tr th {\n",
       "        vertical-align: top;\n",
       "    }\n",
       "\n",
       "    .dataframe thead th {\n",
       "        text-align: right;\n",
       "    }\n",
       "</style>\n",
       "<table border=\"1\" class=\"dataframe\">\n",
       "  <thead>\n",
       "    <tr style=\"text-align: right;\">\n",
       "      <th></th>\n",
       "      <th>character_id</th>\n",
       "      <th>items</th>\n",
       "    </tr>\n",
       "  </thead>\n",
       "  <tbody>\n",
       "    <tr>\n",
       "      <th>0</th>\n",
       "      <td>1</td>\n",
       "      <td>3</td>\n",
       "    </tr>\n",
       "    <tr>\n",
       "      <th>1</th>\n",
       "      <td>2</td>\n",
       "      <td>3</td>\n",
       "    </tr>\n",
       "    <tr>\n",
       "      <th>2</th>\n",
       "      <td>3</td>\n",
       "      <td>2</td>\n",
       "    </tr>\n",
       "    <tr>\n",
       "      <th>3</th>\n",
       "      <td>4</td>\n",
       "      <td>4</td>\n",
       "    </tr>\n",
       "    <tr>\n",
       "      <th>4</th>\n",
       "      <td>5</td>\n",
       "      <td>4</td>\n",
       "    </tr>\n",
       "    <tr>\n",
       "      <th>5</th>\n",
       "      <td>6</td>\n",
       "      <td>1</td>\n",
       "    </tr>\n",
       "    <tr>\n",
       "      <th>6</th>\n",
       "      <td>7</td>\n",
       "      <td>5</td>\n",
       "    </tr>\n",
       "    <tr>\n",
       "      <th>7</th>\n",
       "      <td>8</td>\n",
       "      <td>3</td>\n",
       "    </tr>\n",
       "    <tr>\n",
       "      <th>8</th>\n",
       "      <td>9</td>\n",
       "      <td>4</td>\n",
       "    </tr>\n",
       "    <tr>\n",
       "      <th>9</th>\n",
       "      <td>10</td>\n",
       "      <td>4</td>\n",
       "    </tr>\n",
       "    <tr>\n",
       "      <th>10</th>\n",
       "      <td>11</td>\n",
       "      <td>3</td>\n",
       "    </tr>\n",
       "    <tr>\n",
       "      <th>11</th>\n",
       "      <td>12</td>\n",
       "      <td>3</td>\n",
       "    </tr>\n",
       "    <tr>\n",
       "      <th>12</th>\n",
       "      <td>13</td>\n",
       "      <td>4</td>\n",
       "    </tr>\n",
       "    <tr>\n",
       "      <th>13</th>\n",
       "      <td>14</td>\n",
       "      <td>4</td>\n",
       "    </tr>\n",
       "    <tr>\n",
       "      <th>14</th>\n",
       "      <td>15</td>\n",
       "      <td>4</td>\n",
       "    </tr>\n",
       "    <tr>\n",
       "      <th>15</th>\n",
       "      <td>16</td>\n",
       "      <td>1</td>\n",
       "    </tr>\n",
       "    <tr>\n",
       "      <th>16</th>\n",
       "      <td>17</td>\n",
       "      <td>5</td>\n",
       "    </tr>\n",
       "    <tr>\n",
       "      <th>17</th>\n",
       "      <td>18</td>\n",
       "      <td>5</td>\n",
       "    </tr>\n",
       "    <tr>\n",
       "      <th>18</th>\n",
       "      <td>19</td>\n",
       "      <td>3</td>\n",
       "    </tr>\n",
       "    <tr>\n",
       "      <th>19</th>\n",
       "      <td>20</td>\n",
       "      <td>1</td>\n",
       "    </tr>\n",
       "  </tbody>\n",
       "</table>\n",
       "</div>"
      ],
      "text/plain": [
       "    character_id  items\n",
       "0              1      3\n",
       "1              2      3\n",
       "2              3      2\n",
       "3              4      4\n",
       "4              5      4\n",
       "5              6      1\n",
       "6              7      5\n",
       "7              8      3\n",
       "8              9      4\n",
       "9             10      4\n",
       "10            11      3\n",
       "11            12      3\n",
       "12            13      4\n",
       "13            14      4\n",
       "14            15      4\n",
       "15            16      1\n",
       "16            17      5\n",
       "17            18      5\n",
       "18            19      3\n",
       "19            20      1"
      ]
     },
     "execution_count": 501,
     "metadata": {},
     "output_type": "execute_result"
    }
   ],
   "source": [
    "sql_df('''\n",
    "    SELECT character_id,\n",
    "    count(charactercreator_character_inventory.item_id) as items\n",
    "    FROM charactercreator_character_inventory\n",
    "    GROUP by character_id LIMIT 20\n",
    "''')"
   ]
  },
  {
   "cell_type": "markdown",
   "metadata": {
    "heading_collapsed": true
   },
   "source": [
    "## How many Weapons does each character have? (Return first 20 rows)"
   ]
  },
  {
   "cell_type": "code",
   "execution_count": 503,
   "metadata": {
    "hidden": true
   },
   "outputs": [
    {
     "data": {
      "text/plain": [
       "[{'_id': 1, 'weapons': 0},\n",
       " {'_id': 2, 'weapons': 0},\n",
       " {'_id': 3, 'weapons': 0},\n",
       " {'_id': 4, 'weapons': 0},\n",
       " {'_id': 5, 'weapons': 2},\n",
       " {'_id': 6, 'weapons': 0},\n",
       " {'_id': 7, 'weapons': 1},\n",
       " {'_id': 8, 'weapons': 0},\n",
       " {'_id': 9, 'weapons': 0},\n",
       " {'_id': 10, 'weapons': 0},\n",
       " {'_id': 11, 'weapons': 1},\n",
       " {'_id': 12, 'weapons': 0},\n",
       " {'_id': 13, 'weapons': 0},\n",
       " {'_id': 14, 'weapons': 0},\n",
       " {'_id': 15, 'weapons': 0},\n",
       " {'_id': 16, 'weapons': 0},\n",
       " {'_id': 17, 'weapons': 0},\n",
       " {'_id': 18, 'weapons': 0},\n",
       " {'_id': 19, 'weapons': 0},\n",
       " {'_id': 20, 'weapons': 1}]"
      ]
     },
     "execution_count": 503,
     "metadata": {},
     "output_type": "execute_result"
    }
   ],
   "source": [
    "pipeline = [\n",
    "    {'$unwind': '$items'},\n",
    "    {'$project': {'character_id': 1, 'weapons': \n",
    "                  {'$cond': [ { '$eq': [\"$items.weapon\", True] }, 1, 0]}}},\n",
    "    {'$group': {'_id': '$character_id', 'weapons': {'$sum':'$weapons'} }},\n",
    "    {'$sort': {'_id':1}},\n",
    "    { '$limit': 20 }\n",
    "]\n",
    "list(char_record.aggregate(pipeline))"
   ]
  },
  {
   "cell_type": "code",
   "execution_count": 505,
   "metadata": {
    "hidden": true
   },
   "outputs": [
    {
     "data": {
      "text/html": [
       "<div>\n",
       "<style scoped>\n",
       "    .dataframe tbody tr th:only-of-type {\n",
       "        vertical-align: middle;\n",
       "    }\n",
       "\n",
       "    .dataframe tbody tr th {\n",
       "        vertical-align: top;\n",
       "    }\n",
       "\n",
       "    .dataframe thead th {\n",
       "        text-align: right;\n",
       "    }\n",
       "</style>\n",
       "<table border=\"1\" class=\"dataframe\">\n",
       "  <thead>\n",
       "    <tr style=\"text-align: right;\">\n",
       "      <th></th>\n",
       "      <th>character_id</th>\n",
       "      <th>weapons</th>\n",
       "    </tr>\n",
       "  </thead>\n",
       "  <tbody>\n",
       "    <tr>\n",
       "      <th>0</th>\n",
       "      <td>1</td>\n",
       "      <td>0</td>\n",
       "    </tr>\n",
       "    <tr>\n",
       "      <th>1</th>\n",
       "      <td>2</td>\n",
       "      <td>0</td>\n",
       "    </tr>\n",
       "    <tr>\n",
       "      <th>2</th>\n",
       "      <td>3</td>\n",
       "      <td>0</td>\n",
       "    </tr>\n",
       "    <tr>\n",
       "      <th>3</th>\n",
       "      <td>4</td>\n",
       "      <td>0</td>\n",
       "    </tr>\n",
       "    <tr>\n",
       "      <th>4</th>\n",
       "      <td>5</td>\n",
       "      <td>2</td>\n",
       "    </tr>\n",
       "    <tr>\n",
       "      <th>5</th>\n",
       "      <td>6</td>\n",
       "      <td>0</td>\n",
       "    </tr>\n",
       "    <tr>\n",
       "      <th>6</th>\n",
       "      <td>7</td>\n",
       "      <td>1</td>\n",
       "    </tr>\n",
       "    <tr>\n",
       "      <th>7</th>\n",
       "      <td>8</td>\n",
       "      <td>0</td>\n",
       "    </tr>\n",
       "    <tr>\n",
       "      <th>8</th>\n",
       "      <td>9</td>\n",
       "      <td>0</td>\n",
       "    </tr>\n",
       "    <tr>\n",
       "      <th>9</th>\n",
       "      <td>10</td>\n",
       "      <td>0</td>\n",
       "    </tr>\n",
       "    <tr>\n",
       "      <th>10</th>\n",
       "      <td>11</td>\n",
       "      <td>1</td>\n",
       "    </tr>\n",
       "    <tr>\n",
       "      <th>11</th>\n",
       "      <td>12</td>\n",
       "      <td>0</td>\n",
       "    </tr>\n",
       "    <tr>\n",
       "      <th>12</th>\n",
       "      <td>13</td>\n",
       "      <td>0</td>\n",
       "    </tr>\n",
       "    <tr>\n",
       "      <th>13</th>\n",
       "      <td>14</td>\n",
       "      <td>0</td>\n",
       "    </tr>\n",
       "    <tr>\n",
       "      <th>14</th>\n",
       "      <td>15</td>\n",
       "      <td>0</td>\n",
       "    </tr>\n",
       "    <tr>\n",
       "      <th>15</th>\n",
       "      <td>16</td>\n",
       "      <td>0</td>\n",
       "    </tr>\n",
       "    <tr>\n",
       "      <th>16</th>\n",
       "      <td>17</td>\n",
       "      <td>0</td>\n",
       "    </tr>\n",
       "    <tr>\n",
       "      <th>17</th>\n",
       "      <td>18</td>\n",
       "      <td>0</td>\n",
       "    </tr>\n",
       "    <tr>\n",
       "      <th>18</th>\n",
       "      <td>19</td>\n",
       "      <td>0</td>\n",
       "    </tr>\n",
       "    <tr>\n",
       "      <th>19</th>\n",
       "      <td>20</td>\n",
       "      <td>1</td>\n",
       "    </tr>\n",
       "  </tbody>\n",
       "</table>\n",
       "</div>"
      ],
      "text/plain": [
       "    character_id  weapons\n",
       "0              1        0\n",
       "1              2        0\n",
       "2              3        0\n",
       "3              4        0\n",
       "4              5        2\n",
       "5              6        0\n",
       "6              7        1\n",
       "7              8        0\n",
       "8              9        0\n",
       "9             10        0\n",
       "10            11        1\n",
       "11            12        0\n",
       "12            13        0\n",
       "13            14        0\n",
       "14            15        0\n",
       "15            16        0\n",
       "16            17        0\n",
       "17            18        0\n",
       "18            19        0\n",
       "19            20        1"
      ]
     },
     "execution_count": 505,
     "metadata": {},
     "output_type": "execute_result"
    }
   ],
   "source": [
    "sql_df('''\n",
    "    SELECT character_id, count(item_ptr_id) as weapons\n",
    "    FROM charactercreator_character_inventory\n",
    "    LEFT JOIN armory_weapon on\n",
    "    charactercreator_character_inventory.item_id =\n",
    "    armory_weapon.item_ptr_id\n",
    "    GROUP by character_id LIMIT 20\n",
    "''')"
   ]
  },
  {
   "cell_type": "markdown",
   "metadata": {
    "heading_collapsed": true
   },
   "source": [
    "## On average, how many Items does each Character have? "
   ]
  },
  {
   "cell_type": "code",
   "execution_count": 514,
   "metadata": {
    "hidden": true
   },
   "outputs": [
    {
     "data": {
      "text/plain": [
       "[{'_id': '', 'Average Item': 2.9735099337748343}]"
      ]
     },
     "execution_count": 514,
     "metadata": {},
     "output_type": "execute_result"
    }
   ],
   "source": [
    "#Average Items\n",
    "pipeline = [\n",
    "    {'$unwind': '$items'},\n",
    "    {'$group': {'_id': '$character_id', 'count':{'$sum':1}}},\n",
    "    {'$sort': {'_id':1}},\n",
    "    {'$group': {'_id':'', 'Average Items':{'$avg':'$count'}}},\n",
    "    \n",
    "]\n",
    "list(char_record.aggregate(pipeline))"
   ]
  },
  {
   "cell_type": "code",
   "execution_count": 510,
   "metadata": {
    "hidden": true
   },
   "outputs": [
    {
     "data": {
      "text/html": [
       "<div>\n",
       "<style scoped>\n",
       "    .dataframe tbody tr th:only-of-type {\n",
       "        vertical-align: middle;\n",
       "    }\n",
       "\n",
       "    .dataframe tbody tr th {\n",
       "        vertical-align: top;\n",
       "    }\n",
       "\n",
       "    .dataframe thead th {\n",
       "        text-align: right;\n",
       "    }\n",
       "</style>\n",
       "<table border=\"1\" class=\"dataframe\">\n",
       "  <thead>\n",
       "    <tr style=\"text-align: right;\">\n",
       "      <th></th>\n",
       "      <th>AVG(items)</th>\n",
       "    </tr>\n",
       "  </thead>\n",
       "  <tbody>\n",
       "    <tr>\n",
       "      <th>0</th>\n",
       "      <td>2.97351</td>\n",
       "    </tr>\n",
       "  </tbody>\n",
       "</table>\n",
       "</div>"
      ],
      "text/plain": [
       "   AVG(items)\n",
       "0     2.97351"
      ]
     },
     "execution_count": 510,
     "metadata": {},
     "output_type": "execute_result"
    }
   ],
   "source": [
    "sql_df('''\n",
    "    SELECT AVG(items) FROM\n",
    "    (SELECT character_id,\n",
    "    count(charactercreator_character_inventory.item_id)\n",
    "    as items\n",
    "    FROM charactercreator_character_inventory\n",
    "    GROUP by character_id) AS FOO\n",
    "\n",
    "''')"
   ]
  },
  {
   "cell_type": "markdown",
   "metadata": {
    "heading_collapsed": true
   },
   "source": [
    "## On average, how many Weapons does each Character have?"
   ]
  },
  {
   "cell_type": "code",
   "execution_count": 515,
   "metadata": {
    "hidden": true
   },
   "outputs": [
    {
     "data": {
      "text/plain": [
       "[{'_id': '', 'Average Weapons': 0.6721854304635762}]"
      ]
     },
     "execution_count": 515,
     "metadata": {},
     "output_type": "execute_result"
    }
   ],
   "source": [
    "#Average Weapons\n",
    "pipeline = [\n",
    "    {'$unwind': '$items'},\n",
    "    {'$project': {'character_id': 1, 'weapons': \n",
    "                  {'$cond': [ { '$eq': [\"$items.weapon\", True] }, 1, 0]}}},\n",
    "    {'$group': {'_id': '$character_id', 'weapons': {'$sum':'$weapons'} }},\n",
    "    {'$sort': {'_id':1}},\n",
    "    {'$group': {'_id':'', 'Average Weapons':{'$avg':'$weapons'}}},\n",
    "    \n",
    "]\n",
    "list(char_record.aggregate(pipeline))"
   ]
  },
  {
   "cell_type": "code",
   "execution_count": 517,
   "metadata": {
    "hidden": true
   },
   "outputs": [
    {
     "data": {
      "text/html": [
       "<div>\n",
       "<style scoped>\n",
       "    .dataframe tbody tr th:only-of-type {\n",
       "        vertical-align: middle;\n",
       "    }\n",
       "\n",
       "    .dataframe tbody tr th {\n",
       "        vertical-align: top;\n",
       "    }\n",
       "\n",
       "    .dataframe thead th {\n",
       "        text-align: right;\n",
       "    }\n",
       "</style>\n",
       "<table border=\"1\" class=\"dataframe\">\n",
       "  <thead>\n",
       "    <tr style=\"text-align: right;\">\n",
       "      <th></th>\n",
       "      <th>AVG(weapons)</th>\n",
       "    </tr>\n",
       "  </thead>\n",
       "  <tbody>\n",
       "    <tr>\n",
       "      <th>0</th>\n",
       "      <td>0.672185</td>\n",
       "    </tr>\n",
       "  </tbody>\n",
       "</table>\n",
       "</div>"
      ],
      "text/plain": [
       "   AVG(weapons)\n",
       "0      0.672185"
      ]
     },
     "execution_count": 517,
     "metadata": {},
     "output_type": "execute_result"
    }
   ],
   "source": [
    "sql_df('''\n",
    "    SELECT AVG(weapons) FROM\n",
    "    (SELECT character_id, count(item_ptr_id) as weapons\n",
    "    FROM charactercreator_character_inventory\n",
    "    LEFT JOIN armory_weapon on\n",
    "    charactercreator_character_inventory.item_id =\n",
    "    armory_weapon.item_ptr_id\n",
    "    GROUP by character_id) AS FOO\n",
    "''')"
   ]
  },
  {
   "cell_type": "code",
   "execution_count": null,
   "metadata": {
    "hidden": true
   },
   "outputs": [],
   "source": []
  },
  {
   "cell_type": "code",
   "execution_count": 495,
   "metadata": {
    "hidden": true
   },
   "outputs": [
    {
     "data": {
      "text/plain": [
       "[{'Total Non-weapons': 695}]"
      ]
     },
     "execution_count": 495,
     "metadata": {},
     "output_type": "execute_result"
    }
   ],
   "source": [
    "pipeline = [\n",
    "    {'$unwind': '$items'},\n",
    "    {'$match': {'items.weapon': {'$ne':True}}},\n",
    "    {'$count': \"Total Non-weapons\"}\n",
    "]\n",
    "list(char_record.aggregate(pipeline))"
   ]
  },
  {
   "cell_type": "code",
   "execution_count": 396,
   "metadata": {
    "hidden": true
   },
   "outputs": [
    {
     "data": {
      "text/plain": [
       "[{'_id': ObjectId('5d2fd7eb3f66593262d7c988'), 'character_id': 1, 'count': 3},\n",
       " {'_id': ObjectId('5d2fd7eb3f66593262d7c989'), 'character_id': 2, 'count': 3},\n",
       " {'_id': ObjectId('5d2fd7eb3f66593262d7c98a'), 'character_id': 3, 'count': 2},\n",
       " {'_id': ObjectId('5d2fd7eb3f66593262d7c98b'), 'character_id': 4, 'count': 4},\n",
       " {'_id': ObjectId('5d2fd7eb3f66593262d7c98c'), 'character_id': 5, 'count': 4},\n",
       " {'_id': ObjectId('5d2fd7eb3f66593262d7c98d'), 'character_id': 6, 'count': 1},\n",
       " {'_id': ObjectId('5d2fd7eb3f66593262d7c98e'), 'character_id': 7, 'count': 5},\n",
       " {'_id': ObjectId('5d2fd7eb3f66593262d7c98f'), 'character_id': 8, 'count': 3},\n",
       " {'_id': ObjectId('5d2fd7eb3f66593262d7c990'), 'character_id': 9, 'count': 4},\n",
       " {'_id': ObjectId('5d2fd7eb3f66593262d7c991'), 'character_id': 10, 'count': 4},\n",
       " {'_id': ObjectId('5d2fd7eb3f66593262d7c992'), 'character_id': 11, 'count': 3},\n",
       " {'_id': ObjectId('5d2fd7eb3f66593262d7c993'), 'character_id': 12, 'count': 3},\n",
       " {'_id': ObjectId('5d2fd7eb3f66593262d7c994'), 'character_id': 13, 'count': 4},\n",
       " {'_id': ObjectId('5d2fd7eb3f66593262d7c995'), 'character_id': 14, 'count': 4},\n",
       " {'_id': ObjectId('5d2fd7eb3f66593262d7c996'), 'character_id': 15, 'count': 4},\n",
       " {'_id': ObjectId('5d2fd7eb3f66593262d7c997'), 'character_id': 16, 'count': 1},\n",
       " {'_id': ObjectId('5d2fd7eb3f66593262d7c998'), 'character_id': 17, 'count': 5},\n",
       " {'_id': ObjectId('5d2fd7eb3f66593262d7c999'), 'character_id': 18, 'count': 5},\n",
       " {'_id': ObjectId('5d2fd7eb3f66593262d7c99a'), 'character_id': 19, 'count': 3},\n",
       " {'_id': ObjectId('5d2fd7eb3f66593262d7c99b'), 'character_id': 20, 'count': 1}]"
      ]
     },
     "execution_count": 396,
     "metadata": {},
     "output_type": "execute_result"
    }
   ],
   "source": [
    "pipeline = [\n",
    "    {'$project': {'character_id': '$character_id', 'count': {'$size': '$items'}}},\n",
    "    { '$limit': 20 }\n",
    "]\n",
    "list(char_record.aggregate(pipeline))"
   ]
  },
  {
   "cell_type": "code",
   "execution_count": 449,
   "metadata": {
    "hidden": true
   },
   "outputs": [
    {
     "data": {
      "text/plain": [
       "[{'_id': 1, 'count': 3},\n",
       " {'_id': 2, 'count': 3},\n",
       " {'_id': 3, 'count': 2},\n",
       " {'_id': 4, 'count': 4},\n",
       " {'_id': 5, 'count': 4},\n",
       " {'_id': 6, 'count': 1},\n",
       " {'_id': 7, 'count': 5},\n",
       " {'_id': 8, 'count': 3},\n",
       " {'_id': 9, 'count': 4},\n",
       " {'_id': 10, 'count': 4},\n",
       " {'_id': 11, 'count': 3},\n",
       " {'_id': 12, 'count': 3},\n",
       " {'_id': 13, 'count': 4},\n",
       " {'_id': 14, 'count': 4},\n",
       " {'_id': 15, 'count': 4},\n",
       " {'_id': 16, 'count': 1},\n",
       " {'_id': 17, 'count': 5},\n",
       " {'_id': 18, 'count': 5},\n",
       " {'_id': 19, 'count': 3},\n",
       " {'_id': 20, 'count': 1}]"
      ]
     },
     "execution_count": 449,
     "metadata": {},
     "output_type": "execute_result"
    }
   ],
   "source": [
    "pipeline = [\n",
    "    {'$unwind': '$items'},\n",
    "    {'$group': {'_id': '$character_id', 'count':{'$sum':1}}},\n",
    "    {'$sort': {'_id':1}},\n",
    "    { '$limit': 20 }\n",
    "    \n",
    "]\n",
    "list(char_record.aggregate(pipeline))"
   ]
  },
  {
   "cell_type": "code",
   "execution_count": 451,
   "metadata": {
    "hidden": true
   },
   "outputs": [
    {
     "data": {
      "text/plain": [
       "[{'_id': 1, 'weapons': 0},\n",
       " {'_id': 2, 'weapons': 0},\n",
       " {'_id': 3, 'weapons': 0},\n",
       " {'_id': 4, 'weapons': 0},\n",
       " {'_id': 5, 'weapons': 2},\n",
       " {'_id': 6, 'weapons': 0},\n",
       " {'_id': 7, 'weapons': 1},\n",
       " {'_id': 8, 'weapons': 0},\n",
       " {'_id': 9, 'weapons': 0},\n",
       " {'_id': 10, 'weapons': 0},\n",
       " {'_id': 11, 'weapons': 1},\n",
       " {'_id': 12, 'weapons': 0},\n",
       " {'_id': 13, 'weapons': 0},\n",
       " {'_id': 14, 'weapons': 0},\n",
       " {'_id': 15, 'weapons': 0},\n",
       " {'_id': 16, 'weapons': 0},\n",
       " {'_id': 17, 'weapons': 0},\n",
       " {'_id': 18, 'weapons': 0},\n",
       " {'_id': 19, 'weapons': 0},\n",
       " {'_id': 20, 'weapons': 1}]"
      ]
     },
     "execution_count": 451,
     "metadata": {},
     "output_type": "execute_result"
    }
   ],
   "source": [
    "pipeline = [\n",
    "    {'$unwind': '$items'},\n",
    "    {'$project': {'character_id': 1, 'weapons': \n",
    "                  {'$cond': [ { '$eq': [\"$items.weapon\", True] }, 1, 0]}}},\n",
    "    {'$group': {'_id': '$character_id', 'weapons': {'$sum':'$weapons'} }},\n",
    "    {'$sort': {'_id':1}},\n",
    "    { '$limit': 20 }\n",
    "]\n",
    "list(char_record.aggregate(pipeline))"
   ]
  },
  {
   "cell_type": "code",
   "execution_count": 456,
   "metadata": {
    "hidden": true
   },
   "outputs": [
    {
     "data": {
      "text/plain": [
       "[{'_id': '', 'Average': 2.9735099337748343}]"
      ]
     },
     "execution_count": 456,
     "metadata": {},
     "output_type": "execute_result"
    }
   ],
   "source": [
    "#Average Items\n",
    "pipeline = [\n",
    "    {'$unwind': '$items'},\n",
    "    {'$group': {'_id': '$character_id', 'count':{'$sum':1}}},\n",
    "    {'$sort': {'_id':1}},\n",
    "    {'$group': {'_id':'', 'Average':{'$avg':'$count'}}},\n",
    "    \n",
    "]\n",
    "list(char_record.aggregate(pipeline))"
   ]
  },
  {
   "cell_type": "code",
   "execution_count": 458,
   "metadata": {
    "hidden": true
   },
   "outputs": [
    {
     "data": {
      "text/plain": [
       "[{'_id': '', 'Average': 0.6721854304635762}]"
      ]
     },
     "execution_count": 458,
     "metadata": {},
     "output_type": "execute_result"
    }
   ],
   "source": [
    "#Average Weapons\n",
    "pipeline = [\n",
    "    {'$unwind': '$items'},\n",
    "    {'$project': {'character_id': 1, 'weapons': \n",
    "                  {'$cond': [ { '$eq': [\"$items.weapon\", True] }, 1, 0]}}},\n",
    "    {'$group': {'_id': '$character_id', 'weapons': {'$sum':'$weapons'} }},\n",
    "    {'$sort': {'_id':1}},\n",
    "    {'$group': {'_id':'', 'Average':{'$avg':'$weapons'}}},\n",
    "    \n",
    "]\n",
    "list(char_record.aggregate(pipeline))"
   ]
  },
  {
   "cell_type": "code",
   "execution_count": null,
   "metadata": {
    "hidden": true
   },
   "outputs": [],
   "source": []
  }
 ],
 "metadata": {
  "kernelspec": {
   "display_name": "Python 3",
   "language": "python",
   "name": "python3"
  },
  "language_info": {
   "codemirror_mode": {
    "name": "ipython",
    "version": 3
   },
   "file_extension": ".py",
   "mimetype": "text/x-python",
   "name": "python",
   "nbconvert_exporter": "python",
   "pygments_lexer": "ipython3",
   "version": "3.7.1"
  }
 },
 "nbformat": 4,
 "nbformat_minor": 2
}
