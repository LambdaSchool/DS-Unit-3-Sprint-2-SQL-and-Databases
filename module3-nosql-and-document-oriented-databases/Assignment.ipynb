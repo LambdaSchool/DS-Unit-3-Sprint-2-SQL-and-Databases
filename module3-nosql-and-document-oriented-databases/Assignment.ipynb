{
 "nbformat": 4,
 "nbformat_minor": 2,
 "metadata": {
  "language_info": {
   "name": "python",
   "codemirror_mode": {
    "name": "ipython",
    "version": 3
   }
  },
  "orig_nbformat": 2,
  "file_extension": ".py",
  "mimetype": "text/x-python",
  "name": "python",
  "npconvert_exporter": "python",
  "pygments_lexer": "ipython3",
  "version": 3
 },
 "cells": [
  {
   "cell_type": "markdown",
   "execution_count": null,
   "metadata": {},
   "outputs": [],
   "source": [
    "While I enjoyed working with MongoDB, I feel like it has been a little difficult to translate all of the things we've been learning to fit into it.\n",
    "From day 1 at Lambda we have been working with things that follow a certain schema: dataframes, arrays, tables, etc... and MongoDB of course\n",
    "throws that out the window! However, I do think that this is a great strength of MongoDB as you aren't constrained to having everything line up \n",
    "like in a table or DF. I didn't find either PostgreSQL or MongoDB to be \"easier or harder\" but I did find that PostgreSQL seemed to fit in more \n",
    "with what we have been doing. That being said, I think that MongoDB is definitely a useful tool for exploring data that isn't always structured\n",
    "the same way."
   ]
  },
  {
   "cell_type": "code",
   "execution_count": 1,
   "metadata": {},
   "outputs": [],
   "source": [
    "import sqlite3\n",
    "import pymongo\n",
    "from credentials import *"
   ]
  },
  {
   "cell_type": "code",
   "execution_count": 2,
   "metadata": {},
   "outputs": [],
   "source": [
    "client = pymongo.MongoClient(url)\n",
    "db = client.test"
   ]
  },
  {
   "cell_type": "code",
   "execution_count": 3,
   "metadata": {},
   "outputs": [],
   "source": [
    "sl_conn = sqlite3.connect('rpg_db.sqlite3')\n",
    "sl_curs = sl_conn.cursor()"
   ]
  },
  {
   "cell_type": "code",
   "execution_count": 4,
   "metadata": {},
   "outputs": [],
   "source": [
    "characters = sl_curs.execute('SELECT * FROM charactercreator_character;').fetchall()\n",
    "armory_items = sl_curs.execute('SELECT * FROM armory_item;').fetchall()\n",
    "armory_weapons = sl_curs.execute('SELECT * FROM armory_weapon;').fetchall()\n",
    "char_invs = sl_curs.execute('SELECT * FROM charactercreator_character_inventory;').fetchall()\n",
    "clerics = sl_curs.execute('SELECT * FROM charactercreator_cleric;').fetchall()\n",
    "fighters = sl_curs.execute('SELECT * FROM charactercreator_fighter;').fetchall()\n",
    "mages = sl_curs.execute('SELECT * FROM charactercreator_mage;').fetchall()\n",
    "necros = sl_curs.execute('SELECT * FROM charactercreator_necromancer;').fetchall()\n",
    "thieves = sl_curs.execute('SELECT * FROM charactercreator_thief;').fetchall()"
   ]
  },
  {
   "cell_type": "markdown",
   "execution_count": null,
   "metadata": {},
   "outputs": [],
   "source": [
    "# Charactercreator_character Table -> MongoDB Collection\n",
    "## Create lists of every item to iterate over later"
   ]
  },
  {
   "cell_type": "code",
   "execution_count": 5,
   "metadata": {},
   "outputs": [],
   "source": [
    "char_id, name, level, exp, hp, str, int, dex, wis = [], [], [], [], [], [], [], [], []\n",
    "for i in characters:\n",
    "    char_id.append(i[0])\n",
    "    name.append(i[1])\n",
    "    level.append(i[2])\n",
    "    exp.append(i[3])\n",
    "    hp.append(i[4])\n",
    "    str.append(i[5])\n",
    "    int.append(i[6])\n",
    "    dex.append(i[7])\n",
    "    wis.append(i[8])"
   ]
  },
  {
   "cell_type": "code",
   "execution_count": 6,
   "metadata": {},
   "outputs": [],
   "source": [
    "char_doc = ['']*len(characters)\n",
    "for i in range(0, len(characters)):\n",
    "    char_doc[i] = {\"character_id\" : char_id[i],\n",
    "                   \"name\" : name[i],\n",
    "                   \"level\" : level[i],\n",
    "                   \"experience\" : exp[i],\n",
    "                   \"hp\" : hp[i],\n",
    "                   \"strength\" : str[i],\n",
    "                   \"intelligence\" : int[i],\n",
    "                   \"dexterity\" : dex[i],\n",
    "                   \"wisdom\" : wis[i]}"
   ]
  },
  {
   "cell_type": "code",
   "execution_count": 7,
   "metadata": {},
   "outputs": [],
   "source": [
    "characters_collection = db.characters"
   ]
  },
  {
   "cell_type": "code",
   "execution_count": 8,
   "metadata": {},
   "outputs": [
    {
     "data": {
      "text/plain": "<pymongo.results.InsertManyResult at 0x19198c43308>"
     },
     "execution_count": 8,
     "metadata": {},
     "output_type": "execute_result"
    }
   ],
   "source": [
    "characters_collection.insert_many(char_doc)"
   ]
  },
  {
   "cell_type": "code",
   "execution_count": 39,
   "metadata": {},
   "outputs": [
    {
     "name": "stdout",
     "output_type": "stream",
     "text": "{'_id': ObjectId('5dc35c69e20e3b52a23bf4f3'), 'character_id': 21, 'name': 'Dolore esse nesciunt fugit com', 'level': 0, 'experience': 0, 'hp': 10, 'strength': 1, 'intelligence': 1, 'dexterity': 1, 'wisdom': 1}\n"
    }
   ],
   "source": [
    "print(characters_collection.find_one({'character_id': 21}))"
   ]
  },
  {
   "cell_type": "code",
   "execution_count": 41,
   "metadata": {},
   "outputs": [
    {
     "data": {
      "text/plain": "{'character_id': 21,\n 'name': 'Dolore esse nesciunt fugit com',\n 'level': 0,\n 'experience': 0,\n 'hp': 10,\n 'strength': 1,\n 'intelligence': 1,\n 'dexterity': 1,\n 'wisdom': 1,\n '_id': ObjectId('5dc35c69e20e3b52a23bf4f3')}"
     },
     "execution_count": 41,
     "metadata": {},
     "output_type": "execute_result"
    }
   ],
   "source": [
    "char_doc[20]"
   ]
  },
  {
   "cell_type": "code",
   "execution_count": 42,
   "metadata": {},
   "outputs": [],
   "source": [
    "sl_curs.close()"
   ]
  },
  {
   "cell_type": "code",
   "execution_count": null,
   "metadata": {},
   "outputs": [],
   "source": []
  }
 ]
}