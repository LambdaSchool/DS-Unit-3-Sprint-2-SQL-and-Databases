{
  "nbformat": 4,
  "nbformat_minor": 0,
  "metadata": {
    "colab": {
      "name": "323_Mongodb_Andrea_turn_in",
      "provenance": [],
      "collapsed_sections": []
    },
    "kernelspec": {
      "name": "python3",
      "display_name": "Python 3"
    }
  },
  "cells": [
    {
      "cell_type": "markdown",
      "metadata": {
        "id": "S6BnlC1z2j3H",
        "colab_type": "text"
      },
      "source": [
        "### **MongoDB with PyMongo**\n",
        "\n",
        "LSDS Unit 3 Sprint 2 Module 3\n",
        "\n",
        "Some resources:\n",
        "\n",
        "https://docs.atlas.mongodb.com/getting-started/\n",
        "\n",
        "https://api.mongodb.com/python/current/\n",
        "\n",
        "HN Discussion on MongoDB versus PostgreSQL/SQLite: https://news.ycombinator.com/item?id=19158854"
      ]
    },
    {
      "cell_type": "code",
      "metadata": {
        "id": "pwUPtDE72rTA",
        "colab_type": "code",
        "outputId": "af21f55c-d034-4f57-8c4c-27df72a7a4ef",
        "colab": {
          "base_uri": "https://localhost:8080/",
          "height": 34
        }
      },
      "source": [
        "!curl ipecho.net/plain\n",
        "#This is used to get colab IP for Mongo DB\n",
        "\n",
        "# ipecho.net to get ip address on local machine"
      ],
      "execution_count": 0,
      "outputs": [
        {
          "output_type": "stream",
          "text": [
            "34.83.179.109"
          ],
          "name": "stdout"
        }
      ]
    },
    {
      "cell_type": "markdown",
      "metadata": {
        "id": "mrcqe6FBhXbB",
        "colab_type": "text"
      },
      "source": [
        "username: admin\n",
        "\n",
        "password: see in class version\n"
      ]
    },
    {
      "cell_type": "markdown",
      "metadata": {
        "id": "DSkZkZrq3k9L",
        "colab_type": "text"
      },
      "source": [
        "Choose a connection method: Connect Your Application"
      ]
    },
    {
      "cell_type": "markdown",
      "metadata": {
        "id": "oc9AxFC03q9t",
        "colab_type": "text"
      },
      "source": [
        "Dirver: select Python\n",
        "Version: 3.4 or later\n",
        "\n",
        "Click full Driver Example (then copy, paste, and replace password)\n",
        "\n",
        "This all happens below after package is installed."
      ]
    },
    {
      "cell_type": "code",
      "metadata": {
        "id": "VpfJjW12hb_w",
        "colab_type": "code",
        "outputId": "633928da-3955-49c0-dee3-c1cc05cff0f7",
        "colab": {
          "base_uri": "https://localhost:8080/",
          "height": 50
        }
      },
      "source": [
        "#check colab version\n",
        "import sys\n",
        "print(sys.version)\n",
        "\n",
        "#if working locally in terminal you would do: python --version"
      ],
      "execution_count": 0,
      "outputs": [
        {
          "output_type": "stream",
          "text": [
            "3.6.8 (default, Oct  7 2019, 12:59:55) \n",
            "[GCC 8.3.0]\n"
          ],
          "name": "stdout"
        }
      ]
    },
    {
      "cell_type": "code",
      "metadata": {
        "id": "iZDbnbwCiHVe",
        "colab_type": "code",
        "outputId": "baaca79b-a847-40a7-f4ac-4729a8137d3a",
        "colab": {
          "base_uri": "https://localhost:8080/",
          "height": 34
        }
      },
      "source": [
        "#install and import package that lets us access mongodb from python\n",
        "!pip install pymongo\n",
        "import pymongo"
      ],
      "execution_count": 0,
      "outputs": [
        {
          "output_type": "stream",
          "text": [
            "Requirement already satisfied: pymongo in /usr/local/lib/python3.6/dist-packages (3.9.0)\n"
          ],
          "name": "stdout"
        }
      ]
    },
    {
      "cell_type": "code",
      "metadata": {
        "id": "ktfEASPTiTP-",
        "colab_type": "code",
        "colab": {}
      },
      "source": [
        "#for password see 323_Mongodb_Andrea_in_class\n",
        "#copy and paste full driver from monogdb\n",
        "# replace <password> with password so that it follows 'admin' immediately with no '<>' \n",
        "client = pymongo.MongoClient(\"mongodb:// .mongodb.net:27017,cluster0-shard-00-01-eipyo.mongodb.net:27017,cluster0-shard-00-02-eipyo.mongodb.net:27017/test?ssl=true&replicaSet=Cluster0-shard-0&authSource=admin&retryWrites=true&w=majority\")\n",
        "db = client.test"
      ],
      "execution_count": 0,
      "outputs": []
    },
    {
      "cell_type": "code",
      "metadata": {
        "id": "BiykvqJ1iiCQ",
        "colab_type": "code",
        "outputId": "8a8cedb4-ef46-4867-d6a0-adca2ac9e366",
        "colab": {
          "base_uri": "https://localhost:8080/",
          "height": 54
        }
      },
      "source": [
        "db\n",
        "\"\"\"This is a Database with information about culster and shard. \n",
        "This tells you how many computers are working for you.\n",
        "client.nodes also works\n",
        "\"\"\" "
      ],
      "execution_count": 0,
      "outputs": [
        {
          "output_type": "execute_result",
          "data": {
            "text/plain": [
              "Database(MongoClient(host=['cluster0-shard-00-00-eipyo.mongodb.net:27017', 'cluster0-shard-00-02-eipyo.mongodb.net:27017', 'cluster0-shard-00-01-eipyo.mongodb.net:27017'], document_class=dict, tz_aware=False, connect=True, ssl=True, replicaset='Cluster0-shard-0', authsource='admin', retrywrites=True, w='majority'), 'test')"
            ]
          },
          "metadata": {
            "tags": []
          },
          "execution_count": 9
        }
      ]
    },
    {
      "cell_type": "code",
      "metadata": {
        "id": "pDxRULkaiqyc",
        "colab_type": "code",
        "outputId": "2616cee1-e643-4992-f9ab-ffab6d3a19ae",
        "colab": {
          "base_uri": "https://localhost:8080/",
          "height": 67
        }
      },
      "source": [
        "#check how many machines\n",
        "client.nodes"
      ],
      "execution_count": 0,
      "outputs": [
        {
          "output_type": "execute_result",
          "data": {
            "text/plain": [
              "frozenset({('cluster0-shard-00-00-eipyo.mongodb.net', 27017),\n",
              "           ('cluster0-shard-00-01-eipyo.mongodb.net', 27017),\n",
              "           ('cluster0-shard-00-02-eipyo.mongodb.net', 27017)})"
            ]
          },
          "metadata": {
            "tags": []
          },
          "execution_count": 10
        }
      ]
    },
    {
      "cell_type": "code",
      "metadata": {
        "id": "clitlhIEiwCi",
        "colab_type": "code",
        "colab": {}
      },
      "source": [
        "help(db)"
      ],
      "execution_count": 0,
      "outputs": []
    },
    {
      "cell_type": "code",
      "metadata": {
        "id": "g-6enfAEi34Q",
        "colab_type": "code",
        "outputId": "9ea14e75-8cbb-49af-e567-178a149e4719",
        "colab": {
          "base_uri": "https://localhost:8080/",
          "height": 1000
        }
      },
      "source": [
        "dir(db.test)\n",
        "# A bit more manageable than help with many obviously helpful methods.\n",
        "# map_reduce is included"
      ],
      "execution_count": 0,
      "outputs": [
        {
          "output_type": "execute_result",
          "data": {
            "text/plain": [
              "['_BaseObject__codec_options',\n",
              " '_BaseObject__read_concern',\n",
              " '_BaseObject__read_preference',\n",
              " '_BaseObject__write_concern',\n",
              " '_Collection__create',\n",
              " '_Collection__create_index',\n",
              " '_Collection__database',\n",
              " '_Collection__find_and_modify',\n",
              " '_Collection__full_name',\n",
              " '_Collection__name',\n",
              " '_Collection__write_response_codec_options',\n",
              " '__call__',\n",
              " '__class__',\n",
              " '__delattr__',\n",
              " '__dict__',\n",
              " '__dir__',\n",
              " '__doc__',\n",
              " '__eq__',\n",
              " '__format__',\n",
              " '__ge__',\n",
              " '__getattr__',\n",
              " '__getattribute__',\n",
              " '__getitem__',\n",
              " '__gt__',\n",
              " '__hash__',\n",
              " '__init__',\n",
              " '__init_subclass__',\n",
              " '__iter__',\n",
              " '__le__',\n",
              " '__lt__',\n",
              " '__module__',\n",
              " '__ne__',\n",
              " '__new__',\n",
              " '__next__',\n",
              " '__reduce__',\n",
              " '__reduce_ex__',\n",
              " '__repr__',\n",
              " '__setattr__',\n",
              " '__sizeof__',\n",
              " '__str__',\n",
              " '__subclasshook__',\n",
              " '__weakref__',\n",
              " '_aggregate',\n",
              " '_aggregate_one_result',\n",
              " '_command',\n",
              " '_count',\n",
              " '_delete',\n",
              " '_delete_retryable',\n",
              " '_insert',\n",
              " '_insert_one',\n",
              " '_legacy_write',\n",
              " '_map_reduce',\n",
              " '_read_preference_for',\n",
              " '_socket_for_reads',\n",
              " '_socket_for_writes',\n",
              " '_update',\n",
              " '_update_retryable',\n",
              " '_write_concern_for',\n",
              " '_write_concern_for_cmd',\n",
              " 'aggregate',\n",
              " 'aggregate_raw_batches',\n",
              " 'bulk_write',\n",
              " 'codec_options',\n",
              " 'count',\n",
              " 'count_documents',\n",
              " 'create_index',\n",
              " 'create_indexes',\n",
              " 'database',\n",
              " 'delete_many',\n",
              " 'delete_one',\n",
              " 'distinct',\n",
              " 'drop',\n",
              " 'drop_index',\n",
              " 'drop_indexes',\n",
              " 'ensure_index',\n",
              " 'estimated_document_count',\n",
              " 'find',\n",
              " 'find_and_modify',\n",
              " 'find_one',\n",
              " 'find_one_and_delete',\n",
              " 'find_one_and_replace',\n",
              " 'find_one_and_update',\n",
              " 'find_raw_batches',\n",
              " 'full_name',\n",
              " 'group',\n",
              " 'index_information',\n",
              " 'initialize_ordered_bulk_op',\n",
              " 'initialize_unordered_bulk_op',\n",
              " 'inline_map_reduce',\n",
              " 'insert',\n",
              " 'insert_many',\n",
              " 'insert_one',\n",
              " 'list_indexes',\n",
              " 'map_reduce',\n",
              " 'name',\n",
              " 'next',\n",
              " 'options',\n",
              " 'parallel_scan',\n",
              " 'read_concern',\n",
              " 'read_preference',\n",
              " 'reindex',\n",
              " 'remove',\n",
              " 'rename',\n",
              " 'replace_one',\n",
              " 'save',\n",
              " 'update',\n",
              " 'update_many',\n",
              " 'update_one',\n",
              " 'watch',\n",
              " 'with_options',\n",
              " 'write_concern']"
            ]
          },
          "metadata": {
            "tags": []
          },
          "execution_count": 13
        }
      ]
    },
    {
      "cell_type": "code",
      "metadata": {
        "id": "yq52S18KjA1I",
        "colab_type": "code",
        "colab": {}
      },
      "source": [
        "help(db.test.insert_one)"
      ],
      "execution_count": 0,
      "outputs": []
    },
    {
      "cell_type": "code",
      "metadata": {
        "id": "H_XKuuKg7Kp7",
        "colab_type": "code",
        "outputId": "8010ff6c-82bb-40b7-f524-c92744b70e90",
        "colab": {
          "base_uri": "https://localhost:8080/",
          "height": 34
        }
      },
      "source": [
        "#count how many documents (will be 0 first time)\n",
        "db.test.count_documents({'x':1})"
      ],
      "execution_count": 0,
      "outputs": [
        {
          "output_type": "execute_result",
          "data": {
            "text/plain": [
              "1"
            ]
          },
          "metadata": {
            "tags": []
          },
          "execution_count": 18
        }
      ]
    },
    {
      "cell_type": "code",
      "metadata": {
        "id": "lZ-HSmOajIBk",
        "colab_type": "code",
        "outputId": "489449b7-228a-41a9-fe87-37acf8a4d58e",
        "colab": {
          "base_uri": "https://localhost:8080/",
          "height": 34
        }
      },
      "source": [
        "#insert a document\n",
        "db.test.insert_one({'x':1})"
      ],
      "execution_count": 0,
      "outputs": [
        {
          "output_type": "execute_result",
          "data": {
            "text/plain": [
              "<pymongo.results.InsertOneResult at 0x7f0804d0aec8>"
            ]
          },
          "metadata": {
            "tags": []
          },
          "execution_count": 16
        }
      ]
    },
    {
      "cell_type": "code",
      "metadata": {
        "id": "O2gjYbBUjTth",
        "colab_type": "code",
        "outputId": "f762c315-5fcc-4220-b889-f0b64aeb6df4",
        "colab": {
          "base_uri": "https://localhost:8080/",
          "height": 34
        }
      },
      "source": [
        "#count how many documents\n",
        "db.test.count_documents({'x':1})"
      ],
      "execution_count": 0,
      "outputs": [
        {
          "output_type": "execute_result",
          "data": {
            "text/plain": [
              "1"
            ]
          },
          "metadata": {
            "tags": []
          },
          "execution_count": 19
        }
      ]
    },
    {
      "cell_type": "code",
      "metadata": {
        "id": "pzDi4iEijb5o",
        "colab_type": "code",
        "outputId": "553a3215-736a-4283-c9bc-95d81257d9b1",
        "colab": {
          "base_uri": "https://localhost:8080/",
          "height": 34
        }
      },
      "source": [
        "#insert a document again\n",
        "db.test.insert_one({'x':1})"
      ],
      "execution_count": 0,
      "outputs": [
        {
          "output_type": "execute_result",
          "data": {
            "text/plain": [
              "<pymongo.results.InsertOneResult at 0x7f0801db3948>"
            ]
          },
          "metadata": {
            "tags": []
          },
          "execution_count": 20
        }
      ]
    },
    {
      "cell_type": "code",
      "metadata": {
        "id": "skyqmVB3jhLz",
        "colab_type": "code",
        "outputId": "e8b89285-471e-48c3-c883-1c70c7539f56",
        "colab": {
          "base_uri": "https://localhost:8080/",
          "height": 34
        }
      },
      "source": [
        "#count how many documents there are again - now should be 2\n",
        "db.test.count_documents({'x':1})"
      ],
      "execution_count": 0,
      "outputs": [
        {
          "output_type": "execute_result",
          "data": {
            "text/plain": [
              "2"
            ]
          },
          "metadata": {
            "tags": []
          },
          "execution_count": 21
        }
      ]
    },
    {
      "cell_type": "code",
      "metadata": {
        "id": "AdJyyHemjld5",
        "colab_type": "code",
        "outputId": "969dcd93-da6f-48bf-9a7b-3dc2b711cf0a",
        "colab": {
          "base_uri": "https://localhost:8080/",
          "height": 34
        }
      },
      "source": [
        "db.test.find_one({'x':1})"
      ],
      "execution_count": 0,
      "outputs": [
        {
          "output_type": "execute_result",
          "data": {
            "text/plain": [
              "{'_id': ObjectId('5dc30d6f7bab5d23c241321d'), 'x': 1}"
            ]
          },
          "metadata": {
            "tags": []
          },
          "execution_count": 22
        }
      ]
    },
    {
      "cell_type": "code",
      "metadata": {
        "id": "kwqCFwRHjqRf",
        "colab_type": "code",
        "outputId": "1ebc4f25-3984-4535-b4bf-5132aec8f6ab",
        "colab": {
          "base_uri": "https://localhost:8080/",
          "height": 34
        }
      },
      "source": [
        "db.test.find({'x':1})\n",
        "# Returns information about cursor"
      ],
      "execution_count": 0,
      "outputs": [
        {
          "output_type": "execute_result",
          "data": {
            "text/plain": [
              "<pymongo.cursor.Cursor at 0x7f0801d450f0>"
            ]
          },
          "metadata": {
            "tags": []
          },
          "execution_count": 23
        }
      ]
    },
    {
      "cell_type": "code",
      "metadata": {
        "id": "g-mGETZLjvTP",
        "colab_type": "code",
        "colab": {}
      },
      "source": [
        "curs = db.test.find({'x':1})\n",
        "# Saved results of find as cursor"
      ],
      "execution_count": 0,
      "outputs": []
    },
    {
      "cell_type": "code",
      "metadata": {
        "id": "r6XDf9DVj0l0",
        "colab_type": "code",
        "colab": {}
      },
      "source": [
        "dir(curs)\n",
        "# Many possible actions with cursor"
      ],
      "execution_count": 0,
      "outputs": []
    },
    {
      "cell_type": "code",
      "metadata": {
        "id": "fIYNZYlaj7cW",
        "colab_type": "code",
        "outputId": "fdfe5116-69fb-42fe-9299-d995736de736",
        "colab": {
          "base_uri": "https://localhost:8080/",
          "height": 50
        }
      },
      "source": [
        "list(curs)\n",
        "# Returns location of two documents.\n",
        "# JSON format like Python dictionary"
      ],
      "execution_count": 0,
      "outputs": [
        {
          "output_type": "execute_result",
          "data": {
            "text/plain": [
              "[{'_id': ObjectId('5dc30d6f7bab5d23c241321d'), 'x': 1},\n",
              " {'_id': ObjectId('5dc30daa7bab5d23c241321e'), 'x': 1}]"
            ]
          },
          "metadata": {
            "tags": []
          },
          "execution_count": 26
        }
      ]
    },
    {
      "cell_type": "code",
      "metadata": {
        "id": "-wh9C9xNmfEq",
        "colab_type": "code",
        "colab": {}
      },
      "source": [
        "anthony_doc = {\n",
        "    'favorite_animal' : ['leafy sea dragon', 'dragon']\n",
        "}\n",
        "\n",
        "andrea_doc = {\n",
        "    'favorite_animal' : 'raven',\n",
        "    'favorite_color' : 'white'\n",
        "}\n",
        "\n",
        "coop_doc = {\n",
        "    'favorite_animal' : 'red panda'\n",
        "}"
      ],
      "execution_count": 0,
      "outputs": []
    },
    {
      "cell_type": "code",
      "metadata": {
        "id": "O6JJ1bxVnDSq",
        "colab_type": "code",
        "outputId": "80e9199b-931a-41ec-d7fa-b630ee11ae8f",
        "colab": {
          "base_uri": "https://localhost:8080/",
          "height": 34
        }
      },
      "source": [
        "db.test.insert_many([anthony_doc, andrea_doc, coop_doc])"
      ],
      "execution_count": 0,
      "outputs": [
        {
          "output_type": "execute_result",
          "data": {
            "text/plain": [
              "<pymongo.results.InsertManyResult at 0x7f0801db3c48>"
            ]
          },
          "metadata": {
            "tags": []
          },
          "execution_count": 28
        }
      ]
    },
    {
      "cell_type": "code",
      "metadata": {
        "id": "FO3JHyhpnNpD",
        "colab_type": "code",
        "outputId": "548673d7-d335-4ffd-ac16-8a8ee3073d10",
        "colab": {
          "base_uri": "https://localhost:8080/",
          "height": 151
        }
      },
      "source": [
        "list(db.test.find())"
      ],
      "execution_count": 0,
      "outputs": [
        {
          "output_type": "execute_result",
          "data": {
            "text/plain": [
              "[{'_id': ObjectId('5dc30d6f7bab5d23c241321d'), 'x': 1},\n",
              " {'_id': ObjectId('5dc30daa7bab5d23c241321e'), 'x': 1},\n",
              " {'_id': ObjectId('5dc30f877bab5d23c241321f'),\n",
              "  'favorite_animal': ['leafy sea dragon', 'dragon']},\n",
              " {'_id': ObjectId('5dc30f877bab5d23c2413220'),\n",
              "  'favorite_animal': 'raven',\n",
              "  'favorite_color': 'white'},\n",
              " {'_id': ObjectId('5dc30f877bab5d23c2413221'), 'favorite_animal': 'red panda'}]"
            ]
          },
          "metadata": {
            "tags": []
          },
          "execution_count": 29
        }
      ]
    },
    {
      "cell_type": "code",
      "metadata": {
        "id": "Xc-iPKwWnWXE",
        "colab_type": "code",
        "outputId": "ce2fdb6d-f59d-4d58-ae0f-fe1df99264d6",
        "colab": {
          "base_uri": "https://localhost:8080/",
          "height": 185
        }
      },
      "source": [
        "#now let's make more docs.\n",
        "\n",
        "more_docs = []\n",
        "for i in range(10):\n",
        "    doc = {'even': i % 2 == 0}\n",
        "    doc['value'] = i\n",
        "    more_docs.append(doc)\n",
        "\n",
        "more_docs\n",
        "# Just created 10 documents"
      ],
      "execution_count": 0,
      "outputs": [
        {
          "output_type": "execute_result",
          "data": {
            "text/plain": [
              "[{'even': True, 'value': 0},\n",
              " {'even': False, 'value': 1},\n",
              " {'even': True, 'value': 2},\n",
              " {'even': False, 'value': 3},\n",
              " {'even': True, 'value': 4},\n",
              " {'even': False, 'value': 5},\n",
              " {'even': True, 'value': 6},\n",
              " {'even': False, 'value': 7},\n",
              " {'even': True, 'value': 8},\n",
              " {'even': False, 'value': 9}]"
            ]
          },
          "metadata": {
            "tags": []
          },
          "execution_count": 30
        }
      ]
    },
    {
      "cell_type": "code",
      "metadata": {
        "id": "Wm0oOYfvn0pq",
        "colab_type": "code",
        "outputId": "97c8bc6d-3f67-49cd-9b14-5f6e87e695e4",
        "colab": {
          "base_uri": "https://localhost:8080/",
          "height": 34
        }
      },
      "source": [
        "db.test.insert_many(more_docs)\n",
        "# Insert 10 documents"
      ],
      "execution_count": 0,
      "outputs": [
        {
          "output_type": "execute_result",
          "data": {
            "text/plain": [
              "<pymongo.results.InsertManyResult at 0x7f0801db3648>"
            ]
          },
          "metadata": {
            "tags": []
          },
          "execution_count": 31
        }
      ]
    },
    {
      "cell_type": "code",
      "metadata": {
        "id": "lcfh_VSWn5S6",
        "colab_type": "code",
        "outputId": "c9f02c9a-1d92-4fac-de2b-d1fff9d56a17",
        "colab": {
          "base_uri": "https://localhost:8080/",
          "height": 101
        }
      },
      "source": [
        "list(db.test.find({'even':False}))\n",
        "# This produces a list of \"odd\" documents."
      ],
      "execution_count": 0,
      "outputs": [
        {
          "output_type": "execute_result",
          "data": {
            "text/plain": [
              "[{'_id': ObjectId('5dc310607bab5d23c2413223'), 'even': False, 'value': 1},\n",
              " {'_id': ObjectId('5dc310607bab5d23c2413225'), 'even': False, 'value': 3},\n",
              " {'_id': ObjectId('5dc310607bab5d23c2413227'), 'even': False, 'value': 5},\n",
              " {'_id': ObjectId('5dc310607bab5d23c2413229'), 'even': False, 'value': 7},\n",
              " {'_id': ObjectId('5dc310607bab5d23c241322b'), 'even': False, 'value': 9}]"
            ]
          },
          "metadata": {
            "tags": []
          },
          "execution_count": 32
        }
      ]
    },
    {
      "cell_type": "code",
      "metadata": {
        "id": "Plp7TXVfn-iO",
        "colab_type": "code",
        "outputId": "40fe8094-d2a6-49f1-8106-861f9cfab32f",
        "colab": {
          "base_uri": "https://localhost:8080/",
          "height": 67
        }
      },
      "source": [
        "list(db.test.find({'favorite_animal':'raven'}))"
      ],
      "execution_count": 0,
      "outputs": [
        {
          "output_type": "execute_result",
          "data": {
            "text/plain": [
              "[{'_id': ObjectId('5dc30f877bab5d23c2413220'),\n",
              "  'favorite_animal': 'raven',\n",
              "  'favorite_color': 'white'}]"
            ]
          },
          "metadata": {
            "tags": []
          },
          "execution_count": 33
        }
      ]
    },
    {
      "cell_type": "code",
      "metadata": {
        "id": "P0opVk1FoGEs",
        "colab_type": "code",
        "colab": {}
      },
      "source": [
        "help(db.test.update_one)"
      ],
      "execution_count": 0,
      "outputs": []
    },
    {
      "cell_type": "code",
      "metadata": {
        "id": "Bjb4G41joIsX",
        "colab_type": "code",
        "colab": {}
      },
      "source": [
        "help(db.test.delete_one)"
      ],
      "execution_count": 0,
      "outputs": []
    },
    {
      "cell_type": "code",
      "metadata": {
        "id": "XcuxzyYHoLcF",
        "colab_type": "code",
        "outputId": "99e9b983-38b3-413b-cd7b-38bcc915b896",
        "colab": {
          "base_uri": "https://localhost:8080/",
          "height": 34
        }
      },
      "source": [
        "db.test.update_one({'value':3},\n",
        "                   {'$inc': {'value':5}})"
      ],
      "execution_count": 0,
      "outputs": [
        {
          "output_type": "execute_result",
          "data": {
            "text/plain": [
              "<pymongo.results.UpdateResult at 0x7f0801d3a048>"
            ]
          },
          "metadata": {
            "tags": []
          },
          "execution_count": 36
        }
      ]
    },
    {
      "cell_type": "code",
      "metadata": {
        "id": "3bCmAzxeoUOI",
        "colab_type": "code",
        "colab": {}
      },
      "source": [
        "list(db.test.find())\n",
        "# We incremented the 3 by 5 and it became an 8. "
      ],
      "execution_count": 0,
      "outputs": []
    },
    {
      "cell_type": "code",
      "metadata": {
        "id": "cTO_VGB9o1la",
        "colab_type": "code",
        "outputId": "676def06-3acd-422c-db8c-dfcad6a1862a",
        "colab": {
          "base_uri": "https://localhost:8080/",
          "height": 34
        }
      },
      "source": [
        "# Updating many documents at once\n",
        "# This is where even is coded as true, but when three changed to 8, this will be false\n",
        "db.test.update_many({'even': True},\n",
        "                   {'$inc': {'value':100}})"
      ],
      "execution_count": 0,
      "outputs": [
        {
          "output_type": "execute_result",
          "data": {
            "text/plain": [
              "<pymongo.results.UpdateResult at 0x7f08042d3a48>"
            ]
          },
          "metadata": {
            "tags": []
          },
          "execution_count": 38
        }
      ]
    },
    {
      "cell_type": "code",
      "metadata": {
        "id": "ze0Aev9Oo9RC",
        "colab_type": "code",
        "outputId": "ec41cbe8-836c-44b7-a2bd-6b605cce1951",
        "colab": {
          "base_uri": "https://localhost:8080/",
          "height": 101
        }
      },
      "source": [
        "list(db.test.find({'even':True}))"
      ],
      "execution_count": 0,
      "outputs": [
        {
          "output_type": "execute_result",
          "data": {
            "text/plain": [
              "[{'_id': ObjectId('5dc310607bab5d23c2413222'), 'even': True, 'value': 100},\n",
              " {'_id': ObjectId('5dc310607bab5d23c2413224'), 'even': True, 'value': 102},\n",
              " {'_id': ObjectId('5dc310607bab5d23c2413226'), 'even': True, 'value': 104},\n",
              " {'_id': ObjectId('5dc310607bab5d23c2413228'), 'even': True, 'value': 106},\n",
              " {'_id': ObjectId('5dc310607bab5d23c241322a'), 'even': True, 'value': 108}]"
            ]
          },
          "metadata": {
            "tags": []
          },
          "execution_count": 39
        }
      ]
    },
    {
      "cell_type": "code",
      "metadata": {
        "id": "SjV0Bjd2pE0r",
        "colab_type": "code",
        "outputId": "1dab8933-76bc-4dc6-9651-88b9ce9710d7",
        "colab": {
          "base_uri": "https://localhost:8080/",
          "height": 34
        }
      },
      "source": [
        "# Deleting many\n",
        "db.test.delete_many({'even':False})"
      ],
      "execution_count": 0,
      "outputs": [
        {
          "output_type": "execute_result",
          "data": {
            "text/plain": [
              "<pymongo.results.DeleteResult at 0x7f0801d7d688>"
            ]
          },
          "metadata": {
            "tags": []
          },
          "execution_count": 40
        }
      ]
    },
    {
      "cell_type": "code",
      "metadata": {
        "id": "oeEwQ-GWpEsy",
        "colab_type": "code",
        "outputId": "4e77aae1-abe9-4b9a-f521-ba8fe3954233",
        "colab": {
          "base_uri": "https://localhost:8080/",
          "height": 235
        }
      },
      "source": [
        "list(db.test.find())"
      ],
      "execution_count": 0,
      "outputs": [
        {
          "output_type": "execute_result",
          "data": {
            "text/plain": [
              "[{'_id': ObjectId('5dc30d6f7bab5d23c241321d'), 'x': 1},\n",
              " {'_id': ObjectId('5dc30daa7bab5d23c241321e'), 'x': 1},\n",
              " {'_id': ObjectId('5dc30f877bab5d23c241321f'),\n",
              "  'favorite_animal': ['leafy sea dragon', 'dragon']},\n",
              " {'_id': ObjectId('5dc30f877bab5d23c2413220'),\n",
              "  'favorite_animal': 'raven',\n",
              "  'favorite_color': 'white'},\n",
              " {'_id': ObjectId('5dc30f877bab5d23c2413221'), 'favorite_animal': 'red panda'},\n",
              " {'_id': ObjectId('5dc310607bab5d23c2413222'), 'even': True, 'value': 100},\n",
              " {'_id': ObjectId('5dc310607bab5d23c2413224'), 'even': True, 'value': 102},\n",
              " {'_id': ObjectId('5dc310607bab5d23c2413226'), 'even': True, 'value': 104},\n",
              " {'_id': ObjectId('5dc310607bab5d23c2413228'), 'even': True, 'value': 106},\n",
              " {'_id': ObjectId('5dc310607bab5d23c241322a'), 'even': True, 'value': 108}]"
            ]
          },
          "metadata": {
            "tags": []
          },
          "execution_count": 41
        }
      ]
    },
    {
      "cell_type": "code",
      "metadata": {
        "id": "tXnigLrzpNKO",
        "colab_type": "code",
        "colab": {}
      },
      "source": [
        "rpg_character = (1, \"King Bob\", 10, 3, 0, 0, 0)\n",
        "# If you did db insert on this it would not work because it is not a dictionary."
      ],
      "execution_count": 0,
      "outputs": []
    },
    {
      "cell_type": "code",
      "metadata": {
        "id": "7zitoOhbpVNd",
        "colab_type": "code",
        "outputId": "c0e883f4-a2a4-4f48-c541-72e3d44f4156",
        "colab": {
          "base_uri": "https://localhost:8080/",
          "height": 34
        }
      },
      "source": [
        "# Wrap in a dictionary so that we can insert it\n",
        "db.test.insert_one({'rpg_character': rpg_character})"
      ],
      "execution_count": 0,
      "outputs": [
        {
          "output_type": "execute_result",
          "data": {
            "text/plain": [
              "<pymongo.results.InsertOneResult at 0x7f08042fbf88>"
            ]
          },
          "metadata": {
            "tags": []
          },
          "execution_count": 43
        }
      ]
    },
    {
      "cell_type": "code",
      "metadata": {
        "id": "dZjkScJJCPS4",
        "colab_type": "code",
        "outputId": "63fa0d2c-fa28-445d-d720-b7d9eac1b4e4",
        "colab": {
          "base_uri": "https://localhost:8080/",
          "height": 353
        }
      },
      "source": [
        "list(db.test.find())"
      ],
      "execution_count": 0,
      "outputs": [
        {
          "output_type": "execute_result",
          "data": {
            "text/plain": [
              "[{'_id': ObjectId('5dc30d6f7bab5d23c241321d'), 'x': 1},\n",
              " {'_id': ObjectId('5dc30daa7bab5d23c241321e'), 'x': 1},\n",
              " {'_id': ObjectId('5dc30f877bab5d23c241321f'),\n",
              "  'favorite_animal': ['leafy sea dragon', 'dragon']},\n",
              " {'_id': ObjectId('5dc30f877bab5d23c2413220'),\n",
              "  'favorite_animal': 'raven',\n",
              "  'favorite_color': 'white'},\n",
              " {'_id': ObjectId('5dc30f877bab5d23c2413221'), 'favorite_animal': 'red panda'},\n",
              " {'_id': ObjectId('5dc310607bab5d23c2413222'), 'even': True, 'value': 100},\n",
              " {'_id': ObjectId('5dc310607bab5d23c2413224'), 'even': True, 'value': 102},\n",
              " {'_id': ObjectId('5dc310607bab5d23c2413226'), 'even': True, 'value': 104},\n",
              " {'_id': ObjectId('5dc310607bab5d23c2413228'), 'even': True, 'value': 106},\n",
              " {'_id': ObjectId('5dc310607bab5d23c241322a'), 'even': True, 'value': 108},\n",
              " {'_id': ObjectId('5dc314647bab5d23c241322c'),\n",
              "  'rpg_character': [1, 'King Bob', 10, 3, 0, 0, 0]},\n",
              " {'_id': ObjectId('5dc315097bab5d23c241322d'),\n",
              "  'hp': 10,\n",
              "  'level': 3,\n",
              "  'name': 'King Bob',\n",
              "  'sql_id': 1}]"
            ]
          },
          "metadata": {
            "tags": []
          },
          "execution_count": 46
        }
      ]
    },
    {
      "cell_type": "code",
      "metadata": {
        "id": "HFUKEsC6pfvt",
        "colab_type": "code",
        "outputId": "ad776211-29a6-479d-ed30-da8e99cd4e99",
        "colab": {
          "base_uri": "https://localhost:8080/",
          "height": 34
        }
      },
      "source": [
        "db.test.insert_one({\n",
        "    'sql_id': rpg_character[0],\n",
        "    'name': rpg_character[1],\n",
        "    'hp': rpg_character[2],\n",
        "    'level': rpg_character[3]\n",
        "})\n"
      ],
      "execution_count": 0,
      "outputs": [
        {
          "output_type": "execute_result",
          "data": {
            "text/plain": [
              "<pymongo.results.InsertOneResult at 0x7f0801d7d508>"
            ]
          },
          "metadata": {
            "tags": []
          },
          "execution_count": 45
        }
      ]
    },
    {
      "cell_type": "code",
      "metadata": {
        "id": "FqA2NRgKp0EW",
        "colab_type": "code",
        "outputId": "7833557f-543d-459c-9b7d-bb178b0065fe",
        "colab": {
          "base_uri": "https://localhost:8080/",
          "height": 353
        }
      },
      "source": [
        "list(db.test.find())"
      ],
      "execution_count": 0,
      "outputs": [
        {
          "output_type": "execute_result",
          "data": {
            "text/plain": [
              "[{'_id': ObjectId('5dc30d6f7bab5d23c241321d'), 'x': 1},\n",
              " {'_id': ObjectId('5dc30daa7bab5d23c241321e'), 'x': 1},\n",
              " {'_id': ObjectId('5dc30f877bab5d23c241321f'),\n",
              "  'favorite_animal': ['leafy sea dragon', 'dragon']},\n",
              " {'_id': ObjectId('5dc30f877bab5d23c2413220'),\n",
              "  'favorite_animal': 'raven',\n",
              "  'favorite_color': 'white'},\n",
              " {'_id': ObjectId('5dc30f877bab5d23c2413221'), 'favorite_animal': 'red panda'},\n",
              " {'_id': ObjectId('5dc310607bab5d23c2413222'), 'even': True, 'value': 100},\n",
              " {'_id': ObjectId('5dc310607bab5d23c2413224'), 'even': True, 'value': 102},\n",
              " {'_id': ObjectId('5dc310607bab5d23c2413226'), 'even': True, 'value': 104},\n",
              " {'_id': ObjectId('5dc310607bab5d23c2413228'), 'even': True, 'value': 106},\n",
              " {'_id': ObjectId('5dc310607bab5d23c241322a'), 'even': True, 'value': 108},\n",
              " {'_id': ObjectId('5dc314647bab5d23c241322c'),\n",
              "  'rpg_character': [1, 'King Bob', 10, 3, 0, 0, 0]},\n",
              " {'_id': ObjectId('5dc315097bab5d23c241322d'),\n",
              "  'hp': 10,\n",
              "  'level': 3,\n",
              "  'name': 'King Bob',\n",
              "  'sql_id': 1}]"
            ]
          },
          "metadata": {
            "tags": []
          },
          "execution_count": 47
        }
      ]
    },
    {
      "cell_type": "code",
      "metadata": {
        "id": "lo61dpSCCpcK",
        "colab_type": "code",
        "colab": {}
      },
      "source": [
        ""
      ],
      "execution_count": 0,
      "outputs": []
    }
  ]
}
