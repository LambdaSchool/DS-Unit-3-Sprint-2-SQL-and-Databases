{
 "cells": [
  {
   "cell_type": "markdown",
   "metadata": {},
   "source": [
    "Question: \"How was working with MongoDB different from working with\n",
    "PostgreSQL? What was easier, and what was harder?\""
   ]
  },
  {
   "cell_type": "markdown",
   "metadata": {},
   "source": [
    "I really liked how easy it was to add data to a MongoDB database. Once I imported the data into a Pandas DataFrame, I was able to quickly convert the DataFrame to a json file, then export the file to MongoDB. In contrast, with PostgreSQL I had to create a schema for each new table, then hope I didn't get any errors with my insert statement. I found querying the PostgreSQL database to be a bit more intuative, but I had some prior knowledge of working with SQL. I think I might prefer MongoDB once I have more experience querying the data. The biggest problem I see with MongoDB, is that it converts all of the values to string, so I would need to convert the data types when I need to analize the data. That might be very tedious in large data sets with different data types."
   ]
  },
  {
   "cell_type": "code",
   "execution_count": null,
   "metadata": {},
   "outputs": [],
   "source": []
  }
 ],
 "metadata": {
  "kernelspec": {
   "display_name": "Python [conda env:lambda]",
   "language": "python",
   "name": "conda-env-lambda-py"
  },
  "language_info": {
   "codemirror_mode": {
    "name": "ipython",
    "version": 3
   },
   "file_extension": ".py",
   "mimetype": "text/x-python",
   "name": "python",
   "nbconvert_exporter": "python",
   "pygments_lexer": "ipython3",
   "version": "3.7.3"
  }
 },
 "nbformat": 4,
 "nbformat_minor": 2
}
