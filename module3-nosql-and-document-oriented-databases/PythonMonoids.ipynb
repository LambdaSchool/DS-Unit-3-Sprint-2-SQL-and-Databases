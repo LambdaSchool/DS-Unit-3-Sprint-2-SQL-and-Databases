{
 "cells": [
  {
   "cell_type": "markdown",
   "metadata": {},
   "source": [
    "First, let's define monoids. These are abstract algebras satisfying a few properties. Given a type, X, a monoid over X  is a method for concatenating X's, plus a unit for X, plus a few more properties."
   ]
  },
  {
   "cell_type": "code",
   "execution_count": 2,
   "metadata": {},
   "outputs": [],
   "source": [
    "class Monoid():\n",
    "    def __init__(self, mult, unit):\n",
    "        self.mult = mult\n",
    "        self.unit = unit\n",
    "        # Such that the following equations are true\n",
    "        # self.mult(x, self.mult(y, z)) == self.mult(self.mult(x, y), z)\n",
    "        # self.mult(x, self.unit) == self.mult(self.unit, x) == x\n",
    "\n",
    "    def cmult(self):\n",
    "        return lambda x: lambda y: self.mult(x, y)"
   ]
  },
  {
   "cell_type": "code",
   "execution_count": 47,
   "metadata": {},
   "outputs": [],
   "source": [
    "def add(x, y):\n",
    "    return x + y\n",
    "\n",
    "assert add(324, add(124, 832)) == add(add(324, 124), 832)\n",
    "assert add(324, 0) == 324\n",
    "assert add(0, 324) == 324\n",
    "\n",
    "additive_monoid = Monoid(add, 0)\n",
    "\n",
    "\n",
    "\n",
    "\n",
    "def mul(x, y):\n",
    "    return x * y\n",
    "\n",
    "assert mul(324, mul(124, 832)) == mul(mul(324, 124), 832)\n",
    "assert mul(324, 1) == 324\n",
    "assert mul(1, 324) == 324\n",
    "\n",
    "multiplicitive_monoid = Monoid(mul, 1)\n",
    "\n",
    "\n",
    "\n",
    "\n",
    "def str_concat(s1, s2):\n",
    "    return s1 + s2\n",
    "\n",
    "assert str_concat(\"324\", str_concat(\"124\", \"832\")) == str_concat(str_concat(\"324\", \"124\"), \"832\")\n",
    "assert str_concat(\"324\", \"\") == \"324\"\n",
    "assert str_concat(\"\", \"324\") == \"324\"\n",
    "\n",
    "str_concat_monoid = Monoid(str_concat, \"\")"
   ]
  },
  {
   "cell_type": "markdown",
   "metadata": {},
   "source": [
    "When placed within a list, there's a systematic way of reducing a list of elements down into a single value."
   ]
  },
  {
   "cell_type": "code",
   "execution_count": 4,
   "metadata": {},
   "outputs": [],
   "source": [
    "def reduce(mon, list):\n",
    "    if list == []:\n",
    "        return mon.unit\n",
    "    else:\n",
    "        return mon.mult(list[0], reduce(mon, list[1:]))"
   ]
  },
  {
   "cell_type": "code",
   "execution_count": 45,
   "metadata": {},
   "outputs": [
    {
     "data": {
      "text/plain": [
       "10"
      ]
     },
     "execution_count": 45,
     "metadata": {},
     "output_type": "execute_result"
    }
   ],
   "source": [
    "reduce(additive_monoid, [1,2,3,4])"
   ]
  },
  {
   "cell_type": "markdown",
   "metadata": {},
   "source": [
    "It's important to note about this that we're evaluating it (1 + (2 + (3 + 4))). We could evaluate it as (((1 + 2) + 3) + 4). This is on;y gaurenteed to give us the same result because of the monoid laws."
   ]
  },
  {
   "cell_type": "markdown",
   "metadata": {},
   "source": [
    "And we can add this as a method to our monoid class."
   ]
  },
  {
   "cell_type": "code",
   "execution_count": 5,
   "metadata": {},
   "outputs": [],
   "source": [
    "class Monoid():\n",
    "    def __init__(self, mult, unit):\n",
    "        self.mult = mult\n",
    "        self.unit = unit\n",
    "        # Such that the following equations are true\n",
    "        # self.mappend(x, self.mappend(y, z)) == self.mappend(self.mappend(x, y), z)\n",
    "        # self.mappend(x, self.unit) == self.mappend(self.unit, x) == x\n",
    "\n",
    "    def cmult(self):\n",
    "        return lambda x: lambda y: self.mult(x, y)\n",
    "    \n",
    "    def reduce(self, list):\n",
    "        if list == []:\n",
    "            return self.unit\n",
    "        else:\n",
    "            return self.mult(list[0], self.reduce(list[1:]))\n"
   ]
  },
  {
   "cell_type": "code",
   "execution_count": 68,
   "metadata": {},
   "outputs": [
    {
     "data": {
      "text/plain": [
       "10"
      ]
     },
     "execution_count": 68,
     "metadata": {},
     "output_type": "execute_result"
    }
   ],
   "source": [
    "additive_monoid.reduce([1,2,3,4])"
   ]
  },
  {
   "cell_type": "code",
   "execution_count": 69,
   "metadata": {},
   "outputs": [
    {
     "data": {
      "text/plain": [
       "24"
      ]
     },
     "execution_count": 69,
     "metadata": {},
     "output_type": "execute_result"
    }
   ],
   "source": [
    "multiplicitive_monoid.reduce([1,2,3,4])"
   ]
  },
  {
   "cell_type": "markdown",
   "metadata": {},
   "source": [
    "Lists themselves form a monoid (in fact, lists are THE free monoid)."
   ]
  },
  {
   "cell_type": "code",
   "execution_count": 44,
   "metadata": {},
   "outputs": [],
   "source": [
    "def concat(x, y):\n",
    "    return x + y\n",
    "\n",
    "assert concat([3,2,4], concat([1,2,4], [8,3,2])) == concat(concat([3,2,4], [1,2,4]), [8,3,2])\n",
    "assert concat([3,2,4], []) == [3,2,4]\n",
    "assert concat([], [3,2,4]) == [3,2,4]\n",
    "\n",
    "free_monoid = Monoid(concat, [])"
   ]
  },
  {
   "cell_type": "markdown",
   "metadata": {},
   "source": [
    "The reduce operation for this monoid corresponds to list flattening."
   ]
  },
  {
   "cell_type": "code",
   "execution_count": 72,
   "metadata": {},
   "outputs": [
    {
     "data": {
      "text/plain": [
       "[1, 2, 3, 4, 5, 6, 7, 8]"
      ]
     },
     "execution_count": 72,
     "metadata": {},
     "output_type": "execute_result"
    }
   ],
   "source": [
    "free_monoid.reduce([[1,2,3],[4,5],[6,7,8]])"
   ]
  },
  {
   "cell_type": "markdown",
   "metadata": {},
   "source": [
    "Some more monoid examples;"
   ]
  },
  {
   "cell_type": "code",
   "execution_count": 10,
   "metadata": {},
   "outputs": [],
   "source": [
    "def bor(x, y):\n",
    "    return x or y\n",
    "\n",
    "assert bor(True, bor(False, True)) == bor(bor(True, False), True)\n",
    "assert bor(False, False) == False\n",
    "assert bor(False, True) == True\n",
    "\n",
    "bool_or_monoid = Monoid(bor, False)\n",
    "\n",
    "def band(x, y):\n",
    "    return x and y\n",
    "\n",
    "assert band(True, band(False, True)) == band(band(True, False), True)\n",
    "assert band(False, True) == False\n",
    "assert band(True, True) == True\n",
    "\n",
    "bool_and_monoid = Monoid(band, True)"
   ]
  },
  {
   "cell_type": "markdown",
   "metadata": {},
   "source": [
    "reduce for these is the same as .any and .all"
   ]
  },
  {
   "cell_type": "code",
   "execution_count": 74,
   "metadata": {},
   "outputs": [
    {
     "data": {
      "text/plain": [
       "True"
      ]
     },
     "execution_count": 74,
     "metadata": {},
     "output_type": "execute_result"
    }
   ],
   "source": [
    "bool_or_monoid.reduce([True, False, False, True])"
   ]
  },
  {
   "cell_type": "code",
   "execution_count": 75,
   "metadata": {},
   "outputs": [
    {
     "data": {
      "text/plain": [
       "False"
      ]
     },
     "execution_count": 75,
     "metadata": {},
     "output_type": "execute_result"
    }
   ],
   "source": [
    "bool_and_monoid.reduce([True, False, False, True])"
   ]
  },
  {
   "cell_type": "markdown",
   "metadata": {},
   "source": [
    "Minimum and maximum form a monoid as well where positive and negative infinity act as the units."
   ]
  },
  {
   "cell_type": "code",
   "execution_count": 11,
   "metadata": {},
   "outputs": [],
   "source": [
    "from math import inf\n",
    "\n",
    "assert min(324, min(-124, 832)) == min(min(324, -124), 832)\n",
    "assert min(-324, inf) == -324\n",
    "assert min(inf, 324) == 324\n",
    "\n",
    "minimum_monoid = Monoid(min, inf)\n",
    "\n",
    "assert max(324, max(-124, 832)) == max(max(324, -124), 832)\n",
    "assert max(324, -inf) == 324\n",
    "assert max(-inf, -324) == -324\n",
    "\n",
    "maximum_monoid = Monoid(max, -inf)"
   ]
  },
  {
   "cell_type": "markdown",
   "metadata": {},
   "source": [
    "A more interesing example; functions form a monoid under composition."
   ]
  },
  {
   "cell_type": "code",
   "execution_count": 13,
   "metadata": {},
   "outputs": [],
   "source": [
    "def comp(f, g):\n",
    "    return lambda x: f(g(x))\n",
    "\n",
    "# It's not easy testing that this is a Monoid, so you'll have to trust me.\n",
    "endofunction_monoid = Monoid(comp, lambda x: x)"
   ]
  },
  {
   "cell_type": "code",
   "execution_count": 153,
   "metadata": {},
   "outputs": [
    {
     "data": {
      "text/plain": [
       "36"
      ]
     },
     "execution_count": 153,
     "metadata": {},
     "output_type": "execute_result"
    }
   ],
   "source": [
    "endofunction_monoid.reduce([lambda x: x**2, len, lambda x: x+\"!\"])(\"Hello\")"
   ]
  },
  {
   "cell_type": "code",
   "execution_count": 78,
   "metadata": {},
   "outputs": [
    {
     "data": {
      "text/plain": [
       "'Hello'"
      ]
     },
     "execution_count": 78,
     "metadata": {},
     "output_type": "execute_result"
    }
   ],
   "source": [
    "endofunction_monoid.reduce([])(\"Hello\")"
   ]
  },
  {
   "cell_type": "markdown",
   "metadata": {},
   "source": [
    "On a similar note, procedures form a monoid with sequential execution as composition."
   ]
  },
  {
   "cell_type": "code",
   "execution_count": 12,
   "metadata": {},
   "outputs": [],
   "source": [
    "def run(p1, p2):\n",
    "    p1\n",
    "    p2\n",
    "    pass\n",
    "    \n",
    "def proc_unit():\n",
    "    pass\n",
    "\n",
    "proc_monoid = Monoid(run, proc_unit)"
   ]
  },
  {
   "cell_type": "code",
   "execution_count": 131,
   "metadata": {},
   "outputs": [
    {
     "name": "stdout",
     "output_type": "stream",
     "text": [
      "Hello!\n",
      "There!\n"
     ]
    }
   ],
   "source": [
    "def write_file():\n",
    "    f=open(\"hello.txt\",\"w+\")\n",
    "    f.write(\"Hello!\")\n",
    "    f.close()\n",
    "\n",
    "def read_file():\n",
    "    f=open(\"hello.txt\",\"r\")\n",
    "    print(f.read())\n",
    "    f.close()\n",
    "\n",
    "def write_file2():\n",
    "    f=open(\"hello.txt\",\"w+\")\n",
    "    f.write(\"There!\")\n",
    "    f.close()\n",
    "\n",
    "proc_monoid.reduce([write_file(), read_file(), write_file2(), read_file()])"
   ]
  },
  {
   "cell_type": "markdown",
   "metadata": {},
   "source": [
    "From here we can combine mapping capabilities with reduction."
   ]
  },
  {
   "cell_type": "code",
   "execution_count": 90,
   "metadata": {},
   "outputs": [],
   "source": [
    "def map_reduce(mon, f, l):\n",
    "    return mon.reduce(list(map(f, l)))"
   ]
  },
  {
   "cell_type": "markdown",
   "metadata": {},
   "source": [
    "We can add this to our class."
   ]
  },
  {
   "cell_type": "code",
   "execution_count": 7,
   "metadata": {},
   "outputs": [],
   "source": [
    "class Monoid():\n",
    "    def __init__(self, mult, unit):\n",
    "        self.mult = mult\n",
    "        self.unit = unit\n",
    "        # Such that the following equations are true\n",
    "        # self.mappend(x, self.mappend(y, z)) == self.mappend(self.mappend(x, y), z)\n",
    "        # self.mappend(x, self.unit) == self.mappend(self.unit, x) == x\n",
    "\n",
    "    def cmult(self):\n",
    "        return lambda x: lambda y: self.mult(x, y)\n",
    "    \n",
    "    def reduce(self, list):\n",
    "        if list == []:\n",
    "            return self.unit\n",
    "        else:\n",
    "            return self.mult(list[0], self.reduce(list[1:]))\n",
    "\n",
    "    def map_reduce(self, f, l):\n",
    "        return self.reduce(list(map(f, l)))"
   ]
  },
  {
   "cell_type": "code",
   "execution_count": 102,
   "metadata": {},
   "outputs": [
    {
     "data": {
      "text/plain": [
       "7"
      ]
     },
     "execution_count": 102,
     "metadata": {},
     "output_type": "execute_result"
    }
   ],
   "source": [
    "maximum_monoid.map_reduce(len, [\"Hi\", \"Yes\", \"Hello\", \"Totally\"])"
   ]
  },
  {
   "cell_type": "markdown",
   "metadata": {},
   "source": [
    "There's nothing much interesting to say about it, other than to point out that it maps, then reduces. The fact that the target of the map is a monoid is significant for guaranteeing a sensible answer"
   ]
  },
  {
   "cell_type": "markdown",
   "metadata": {},
   "source": [
    "A good example of the utility of the map part is in taking means. The mean of two numbers is not an associative operation."
   ]
  },
  {
   "cell_type": "code",
   "execution_count": 14,
   "metadata": {},
   "outputs": [
    {
     "data": {
      "text/plain": [
       "3.25"
      ]
     },
     "execution_count": 14,
     "metadata": {},
     "output_type": "execute_result"
    }
   ],
   "source": [
    "from statistics import mean\n",
    "\n",
    "mean([mean([2,3]), 4])"
   ]
  },
  {
   "cell_type": "code",
   "execution_count": 15,
   "metadata": {},
   "outputs": [
    {
     "data": {
      "text/plain": [
       "2.75"
      ]
     },
     "execution_count": 15,
     "metadata": {},
     "output_type": "execute_result"
    }
   ],
   "source": [
    "mean([2,mean([3, 4])])"
   ]
  },
  {
   "cell_type": "markdown",
   "metadata": {},
   "source": [
    "This is simply because the mean doesn't know how many numbers went into calculating its sub-arguments. If we pair a number with the number of numbers used to calculate the mean, we can get an associative mean. "
   ]
  },
  {
   "cell_type": "code",
   "execution_count": 17,
   "metadata": {},
   "outputs": [],
   "source": [
    "def amean(a, b):\n",
    "    (m, mn) = a\n",
    "    (n, nn) = b\n",
    "    return ((m * mn + n * nn) / (mn + nn), mn + nn)"
   ]
  },
  {
   "cell_type": "code",
   "execution_count": 18,
   "metadata": {},
   "outputs": [
    {
     "data": {
      "text/plain": [
       "(3.0, 3)"
      ]
     },
     "execution_count": 18,
     "metadata": {},
     "output_type": "execute_result"
    }
   ],
   "source": [
    "amean(amean((2, 1), (3, 1)), (4, 1))"
   ]
  },
  {
   "cell_type": "code",
   "execution_count": 19,
   "metadata": {},
   "outputs": [
    {
     "data": {
      "text/plain": [
       "(3.0, 3)"
      ]
     },
     "execution_count": 19,
     "metadata": {},
     "output_type": "execute_result"
    }
   ],
   "source": [
    "amean((2, 1), amean((3, 1), (4, 1)))"
   ]
  },
  {
   "cell_type": "markdown",
   "metadata": {},
   "source": [
    "Using map reduce to map `lambda x: (x, 1)` over a list of numbers, we can use `map_reduce` to get a mean."
   ]
  },
  {
   "cell_type": "code",
   "execution_count": 22,
   "metadata": {},
   "outputs": [
    {
     "data": {
      "text/plain": [
       "(23.428571428571427, 7)"
      ]
     },
     "execution_count": 22,
     "metadata": {},
     "output_type": "execute_result"
    }
   ],
   "source": [
    "mean_monoid = Monoid(amean, (0, 0))\n",
    "\n",
    "mean_monoid.map_reduce(lambda x: (x, 1), [41,6,2,19,32,43,21])"
   ]
  },
  {
   "cell_type": "markdown",
   "metadata": {},
   "source": [
    "On large data, there are more complicated optimizations used that diverge from this design pattern for one reason or another. If we were doing work across several servers, the associativity of the operation gaurentees we can do all our work isolated within those servers before combining the answers afterword without jepordizing the validity of our answer.\n",
    "\n",
    "There are other abstract algebraic objects that play a large role in data management. Algebird is a library commonly used for data analytics who's design is focused on algebraic structures."
   ]
  },
  {
   "cell_type": "markdown",
   "metadata": {},
   "source": [
    "It's worth nothing that lists themselves can be defined like so;"
   ]
  },
  {
   "cell_type": "code",
   "execution_count": null,
   "metadata": {},
   "outputs": [],
   "source": [
    "List A = (m : Monoid X) → (A → X) → X"
   ]
  },
  {
   "cell_type": "markdown",
   "metadata": {},
   "source": [
    "That is, lists can be defined as monoids paired with a way to map to said monoid. We can define the various list operations like so;"
   ]
  },
  {
   "cell_type": "code",
   "execution_count": 27,
   "metadata": {},
   "outputs": [],
   "source": [
    "nil = lambda m: lambda f: m.unit\n",
    "\n",
    "def append(a, l):\n",
    "    return lambda m: lambda f: m.mult(f(a), l(m)(f))\n",
    "\n",
    "def concat(l1, l2):\n",
    "    return lambda m: lambda f: m.mult(l1(m)(f), l2(m)(f))"
   ]
  },
  {
   "cell_type": "code",
   "execution_count": 31,
   "metadata": {},
   "outputs": [
    {
     "data": {
      "text/plain": [
       "<function __main__.concat.<locals>.<lambda>(m)>"
      ]
     },
     "execution_count": 31,
     "metadata": {},
     "output_type": "execute_result"
    }
   ],
   "source": [
    "test_list = concat(\n",
    "                append(1, append(2, append(3, nil))),\n",
    "                append(4, append(5, append(6, nil)))\n",
    "            )\n",
    "\n",
    "test_list"
   ]
  },
  {
   "cell_type": "markdown",
   "metadata": {},
   "source": [
    "We can get the length of the list."
   ]
  },
  {
   "cell_type": "code",
   "execution_count": 30,
   "metadata": {},
   "outputs": [
    {
     "data": {
      "text/plain": [
       "6"
      ]
     },
     "execution_count": 30,
     "metadata": {},
     "output_type": "execute_result"
    }
   ],
   "source": [
    "test_list(additive_monoid)(lambda x: 1)"
   ]
  },
  {
   "cell_type": "markdown",
   "metadata": {},
   "source": [
    "The mean."
   ]
  },
  {
   "cell_type": "code",
   "execution_count": 42,
   "metadata": {},
   "outputs": [
    {
     "data": {
      "text/plain": [
       "(3.5, 6)"
      ]
     },
     "execution_count": 42,
     "metadata": {},
     "output_type": "execute_result"
    }
   ],
   "source": [
    "test_list(mean_monoid)(lambda x: (x, 1))"
   ]
  },
  {
   "cell_type": "markdown",
   "metadata": {},
   "source": [
    "We can define a function which, possibly, returns its first argument. Its behviour allows None to act as the monoid unit."
   ]
  },
  {
   "cell_type": "code",
   "execution_count": 36,
   "metadata": {},
   "outputs": [],
   "source": [
    "def maybe_first(a, b):\n",
    "    if a == None:\n",
    "        return b\n",
    "    else:\n",
    "        return a"
   ]
  },
  {
   "cell_type": "markdown",
   "metadata": {},
   "source": [
    "Using this, we can get the head of our list."
   ]
  },
  {
   "cell_type": "code",
   "execution_count": 40,
   "metadata": {},
   "outputs": [],
   "source": [
    "maybe_first_monoid = Monoid(maybe_first, None)"
   ]
  },
  {
   "cell_type": "code",
   "execution_count": 41,
   "metadata": {},
   "outputs": [
    {
     "data": {
      "text/plain": [
       "1"
      ]
     },
     "execution_count": 41,
     "metadata": {},
     "output_type": "execute_result"
    }
   ],
   "source": [
    "test_list(maybe_first_monoid)(lambda x: x)"
   ]
  },
  {
   "cell_type": "markdown",
   "metadata": {},
   "source": [
    "We can convert these function-encoded lists into regular lists by simply feeding them the free_monoid, along with a list-monad return function."
   ]
  },
  {
   "cell_type": "code",
   "execution_count": 46,
   "metadata": {},
   "outputs": [
    {
     "data": {
      "text/plain": [
       "[1, 2, 3, 4, 5, 6]"
      ]
     },
     "execution_count": 46,
     "metadata": {},
     "output_type": "execute_result"
    }
   ],
   "source": [
    "test_list(free_monoid)(lambda x: [x])"
   ]
  },
  {
   "cell_type": "markdown",
   "metadata": {},
   "source": [
    "So, why would you want to do this? Well, one, it's pretty cool. It's a fact that lambda expressions, entirely on their own, are computationally universal. All data and programs can be encoded by them with literally nothing else. Some programming languages do, in fact, use these representations internally. Cedille and Formality, for example. In the case of formality, lambda expressions directly map onto programming graphs that can be executed in parallel. For example, here's the graph for append.\n",
    "![alt text](graph.png \"Interaction graph for append\")"
   ]
  },
  {
   "cell_type": "markdown",
   "metadata": {},
   "source": [
    "The monoid laws gaurentee that, for instance, + is still associative and empty lists act ampty.\n",
    "\n",
    "Here's the full, properly formatted proof written in Agda"
   ]
  },
  {
   "cell_type": "code",
   "execution_count": null,
   "metadata": {},
   "outputs": [],
   "source": [
    "postulate funext : {A : Set} {B : A → Set} {f g : (a : A) → B a} → (∀ a → f a ≡ g a) → f ≡ g\n",
    "\n",
    "record Monoid : Set where\n",
    "  field\n",
    "    Carrier : Set\n",
    "    _∙_ : Carrier → Carrier → Carrier\n",
    "    𝟙 : Carrier\n",
    "\n",
    "    ∙-assoc : ∀ {a b c} → a ∙ (b ∙ c) ≡ (a ∙ b) ∙ c\n",
    "    ∙-𝟙-lcanc : ∀ {a} → a ∙ 𝟙 ≡ a\n",
    "    ∙-𝟙-rcanc : ∀ {a} → 𝟙 ∙ a ≡ a\n",
    "\n",
    "open Monoid {{...}}\n",
    "\n",
    "ForgetMonoid : Monoid → Set\n",
    "ForgetMonoid = Monoid.Carrier\n",
    "\n",
    "List : (A : Set) → Set \n",
    "List A = ⦃ m : Monoid ⦄ → (A → ForgetMonoid m) → ForgetMonoid m\n",
    "\n",
    "nil : ∀ {A : Set} → List A\n",
    "nil ⦃ m ⦄ f = Monoid.𝟙 m\n",
    "\n",
    "cons : ∀ {A : Set} → A → List A → List A\n",
    "cons : ∀ {A : Set} → A → List A → ⦃ m : Monoid ⦄ → (A → ForgetMonoid m) → ForgetMonoid m\n",
    "cons a xs ⦃ m ⦄ f = Monoid._∙_ m (f a) (xs ⦃ m ⦄ f)\n",
    "\n",
    "_++_ : ∀ {A : Set} → List A → List A → List A\n",
    "_++_ l1 l2 ⦃ m ⦄ f = Monoid._∙_ m (l1 ⦃ m ⦄ f) (l2 ⦃ m ⦄ f)\n",
    "\n",
    "++-assoc : {A : Set} {a b c : List A} → (a ++ (b ++ c)) ≡ ((a ++ b) ++ c)\n",
    "++-assoc {A} {a} {b} {c} = funext (λ f → ∙-assoc)\n",
    "\n",
    "++-nil-lcanc : {A : Set} {a : List A} → (a ++ nil) ≡ a\n",
    "++-nil-lcanc {A} {a} = funext (λ m → funext (λ f → Monoid.∙-𝟙-lcanc m))\n",
    "\n",
    "++-nil-rcanc : {A : Set} {a : List A} → (nil ++ a) ≡ a\n",
    "++-nil-rcanc {A} {a} = funext (λ m → funext (λ f → Monoid.∙-𝟙-rcanc m))\n"
   ]
  }
 ],
 "metadata": {
  "kernelspec": {
   "display_name": "Python 3",
   "language": "python",
   "name": "python3"
  },
  "language_info": {
   "codemirror_mode": {
    "name": "ipython",
    "version": 3
   },
   "file_extension": ".py",
   "mimetype": "text/x-python",
   "name": "python",
   "nbconvert_exporter": "python",
   "pygments_lexer": "ipython3",
   "version": "3.7.5"
  }
 },
 "nbformat": 4,
 "nbformat_minor": 4
}
