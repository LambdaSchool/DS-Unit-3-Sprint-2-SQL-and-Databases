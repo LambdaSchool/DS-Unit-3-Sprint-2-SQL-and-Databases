{
 "cells": [
  {
   "cell_type": "code",
   "execution_count": 0,
   "metadata": {
    "colab": {
     "base_uri": "https://localhost:8080/",
     "height": 124
    },
    "colab_type": "code",
    "id": "QraDuCJWUrKu",
    "outputId": "59bdd7c3-5eb2-4f60-840a-fb3d98209853"
   },
   "outputs": [
    {
     "name": "stdout",
     "output_type": "stream",
     "text": [
      "Collecting psycopg2-binary\n",
      "\u001b[?25l  Downloading https://files.pythonhosted.org/packages/e9/6e/f2ea78572ab734fb18b35e7ac6805d7889bdfe0fa00b188c4a5f0cb3e6e1/psycopg2_binary-2.8.2-cp36-cp36m-manylinux1_x86_64.whl (2.9MB)\n",
      "\u001b[K     |████████████████████████████████| 2.9MB 5.0MB/s \n",
      "\u001b[?25hInstalling collected packages: psycopg2-binary\n",
      "Successfully installed psycopg2-binary-2.8.2\n"
     ]
    }
   ],
   "source": [
    "!pip install psycopg2-binary"
   ]
  },
  {
   "cell_type": "code",
   "execution_count": 3,
   "metadata": {
    "colab": {},
    "colab_type": "code",
    "id": "Qm6ZdWMOVz_-"
   },
   "outputs": [
    {
     "ename": "ModuleNotFoundError",
     "evalue": "No module named 'psycopg2'",
     "output_type": "error",
     "traceback": [
      "\u001b[0;31m---------------------------------------------------------------------------\u001b[0m",
      "\u001b[0;31mModuleNotFoundError\u001b[0m                       Traceback (most recent call last)",
      "\u001b[0;32m<ipython-input-3-7d2da0a5d979>\u001b[0m in \u001b[0;36m<module>\u001b[0;34m\u001b[0m\n\u001b[0;32m----> 1\u001b[0;31m \u001b[0;32mimport\u001b[0m \u001b[0mpsycopg2\u001b[0m\u001b[0;34m\u001b[0m\u001b[0;34m\u001b[0m\u001b[0m\n\u001b[0m",
      "\u001b[0;31mModuleNotFoundError\u001b[0m: No module named 'psycopg2'"
     ]
    }
   ],
   "source": [
    "import psycopg2"
   ]
  },
  {
   "cell_type": "code",
   "execution_count": 0,
   "metadata": {
    "colab": {
     "base_uri": "https://localhost:8080/",
     "height": 816
    },
    "colab_type": "code",
    "id": "dyCj3AT5WtlS",
    "outputId": "9dc4fa99-7ea4-4602-8998-53c9cde237ec"
   },
   "outputs": [
    {
     "data": {
      "text/plain": [
       "['BINARY',\n",
       " 'Binary',\n",
       " 'DATETIME',\n",
       " 'DataError',\n",
       " 'DatabaseError',\n",
       " 'Date',\n",
       " 'DateFromTicks',\n",
       " 'Error',\n",
       " 'IntegrityError',\n",
       " 'InterfaceError',\n",
       " 'InternalError',\n",
       " 'NUMBER',\n",
       " 'NotSupportedError',\n",
       " 'OperationalError',\n",
       " 'ProgrammingError',\n",
       " 'ROWID',\n",
       " 'STRING',\n",
       " 'Time',\n",
       " 'TimeFromTicks',\n",
       " 'Timestamp',\n",
       " 'TimestampFromTicks',\n",
       " 'Warning',\n",
       " '__builtins__',\n",
       " '__cached__',\n",
       " '__doc__',\n",
       " '__file__',\n",
       " '__libpq_version__',\n",
       " '__loader__',\n",
       " '__name__',\n",
       " '__package__',\n",
       " '__path__',\n",
       " '__spec__',\n",
       " '__version__',\n",
       " '_connect',\n",
       " '_ext',\n",
       " '_json',\n",
       " '_psycopg',\n",
       " '_range',\n",
       " 'apilevel',\n",
       " 'compat',\n",
       " 'connect',\n",
       " 'errors',\n",
       " 'extensions',\n",
       " 'paramstyle',\n",
       " 'threadsafety',\n",
       " 'tz']"
      ]
     },
     "execution_count": 3,
     "metadata": {
      "tags": []
     },
     "output_type": "execute_result"
    }
   ],
   "source": [
    "dir(psycopg2)"
   ]
  },
  {
   "cell_type": "code",
   "execution_count": 0,
   "metadata": {
    "colab": {
     "base_uri": "https://localhost:8080/",
     "height": 645
    },
    "colab_type": "code",
    "id": "DJKrmkHYWuzL",
    "outputId": "55ddb824-a53b-42ee-eb0c-6036b50b4fa4"
   },
   "outputs": [
    {
     "name": "stdout",
     "output_type": "stream",
     "text": [
      "Help on function connect in module psycopg2:\n",
      "\n",
      "connect(dsn=None, connection_factory=None, cursor_factory=None, **kwargs)\n",
      "    Create a new database connection.\n",
      "    \n",
      "    The connection parameters can be specified as a string:\n",
      "    \n",
      "        conn = psycopg2.connect(\"dbname=test user=postgres password=secret\")\n",
      "    \n",
      "    or using a set of keyword arguments:\n",
      "    \n",
      "        conn = psycopg2.connect(database=\"test\", user=\"postgres\", password=\"secret\")\n",
      "    \n",
      "    Or as a mix of both. The basic connection parameters are:\n",
      "    \n",
      "    - *dbname*: the database name\n",
      "    - *database*: the database name (only as keyword argument)\n",
      "    - *user*: user name used to authenticate\n",
      "    - *password*: password used to authenticate\n",
      "    - *host*: database host address (defaults to UNIX socket if not provided)\n",
      "    - *port*: connection port number (defaults to 5432 if not provided)\n",
      "    \n",
      "    Using the *connection_factory* parameter a different class or connections\n",
      "    factory can be specified. It should be a callable object taking a dsn\n",
      "    argument.\n",
      "    \n",
      "    Using the *cursor_factory* parameter, a new default cursor factory will be\n",
      "    used by cursor().\n",
      "    \n",
      "    Using *async*=True an asynchronous connection will be created. *async_* is\n",
      "    a valid alias (for Python versions where ``async`` is a keyword).\n",
      "    \n",
      "    Any other keyword parameter will be passed to the underlying client\n",
      "    library: the list of supported parameters depends on the library version.\n",
      "\n"
     ]
    }
   ],
   "source": [
    "help(psycopg2.connect)"
   ]
  },
  {
   "cell_type": "code",
   "execution_count": 1,
   "metadata": {
    "colab": {},
    "colab_type": "code",
    "id": "hILhoT93W3tu"
   },
   "outputs": [],
   "source": [
    "dbname = 'poeyrxwf'\n",
    "user = 'poeyrxwf'\n",
    "password = '******'  # Don't commit this!\n",
    "host = 'raja.db.elephantsql.com'"
   ]
  },
  {
   "cell_type": "code",
   "execution_count": 4,
   "metadata": {
    "colab": {},
    "colab_type": "code",
    "id": "MzFv3dlaXtG6"
   },
   "outputs": [
    {
     "ename": "NameError",
     "evalue": "name 'psycopg2' is not defined",
     "output_type": "error",
     "traceback": [
      "\u001b[0;31m---------------------------------------------------------------------------\u001b[0m",
      "\u001b[0;31mNameError\u001b[0m                                 Traceback (most recent call last)",
      "\u001b[0;32m<ipython-input-4-87ff2182b872>\u001b[0m in \u001b[0;36m<module>\u001b[0;34m\u001b[0m\n\u001b[0;32m----> 1\u001b[0;31m pg_conn = psycopg2.connect(dbname=dbname, user=user,\n\u001b[0m\u001b[1;32m      2\u001b[0m                            password=password, host=host)\n",
      "\u001b[0;31mNameError\u001b[0m: name 'psycopg2' is not defined"
     ]
    }
   ],
   "source": [
    "pg_conn = psycopg2.connect(dbname=dbname, user=user,\n",
    "                           password=password, host=host)"
   ]
  },
  {
   "cell_type": "code",
   "execution_count": 0,
   "metadata": {
    "colab": {
     "base_uri": "https://localhost:8080/",
     "height": 54
    },
    "colab_type": "code",
    "id": "PLpbWTasX02m",
    "outputId": "a28e4dab-bf6c-440f-fb4b-ade97a48726c"
   },
   "outputs": [
    {
     "data": {
      "text/plain": [
       "<connection object at 0x7f7d400368d0; dsn: 'user=poeyrxwf password=xxx dbname=poeyrxwf host=raja.db.elephantsql.com', closed: 0>"
      ]
     },
     "execution_count": 7,
     "metadata": {
      "tags": []
     },
     "output_type": "execute_result"
    }
   ],
   "source": [
    "pg_conn"
   ]
  },
  {
   "cell_type": "code",
   "execution_count": 0,
   "metadata": {
    "colab": {},
    "colab_type": "code",
    "id": "q8FuXl12X13o"
   },
   "outputs": [],
   "source": [
    "pg_curs = pg_conn.cursor()"
   ]
  },
  {
   "cell_type": "code",
   "execution_count": 0,
   "metadata": {
    "colab": {
     "base_uri": "https://localhost:8080/",
     "height": 72
    },
    "colab_type": "code",
    "id": "H4AOezPYYUMK",
    "outputId": "48704331-77a0-4b2b-e322-f275a7f50907"
   },
   "outputs": [
    {
     "data": {
      "text/plain": [
       "[(1, 'A row name', None),\n",
       " (2, 'Another row, with JSON', {'a': 1, 'b': ['dog', 'cat', 42], 'c': True})]"
      ]
     },
     "execution_count": 9,
     "metadata": {
      "tags": []
     },
     "output_type": "execute_result"
    }
   ],
   "source": [
    "pg_curs.execute('SELECT * FROM test_table;')\n",
    "pg_curs.fetchall()"
   ]
  },
  {
   "cell_type": "code",
   "execution_count": 0,
   "metadata": {
    "colab": {
     "base_uri": "https://localhost:8080/",
     "height": 384
    },
    "colab_type": "code",
    "id": "7idjdrS9YdT8",
    "outputId": "dabfe087-1771-4272-acf6-331483d32bd8"
   },
   "outputs": [
    {
     "name": "stdout",
     "output_type": "stream",
     "text": [
      "--2019-06-04 16:46:30--  https://github.com/LambdaSchool/DS-Unit-3-Sprint-2-SQL-and-Databases/blob/master/module1-introduction-to-sql/rpg_db.sqlite3?raw=true\n",
      "Resolving github.com (github.com)... 192.30.255.113\n",
      "Connecting to github.com (github.com)|192.30.255.113|:443... connected.\n",
      "HTTP request sent, awaiting response... 302 Found\n",
      "Location: https://github.com/LambdaSchool/DS-Unit-3-Sprint-2-SQL-and-Databases/raw/master/module1-introduction-to-sql/rpg_db.sqlite3 [following]\n",
      "--2019-06-04 16:46:30--  https://github.com/LambdaSchool/DS-Unit-3-Sprint-2-SQL-and-Databases/raw/master/module1-introduction-to-sql/rpg_db.sqlite3\n",
      "Reusing existing connection to github.com:443.\n",
      "HTTP request sent, awaiting response... 302 Found\n",
      "Location: https://raw.githubusercontent.com/LambdaSchool/DS-Unit-3-Sprint-2-SQL-and-Databases/master/module1-introduction-to-sql/rpg_db.sqlite3 [following]\n",
      "--2019-06-04 16:46:30--  https://raw.githubusercontent.com/LambdaSchool/DS-Unit-3-Sprint-2-SQL-and-Databases/master/module1-introduction-to-sql/rpg_db.sqlite3\n",
      "Resolving raw.githubusercontent.com (raw.githubusercontent.com)... 151.101.0.133, 151.101.64.133, 151.101.128.133, ...\n",
      "Connecting to raw.githubusercontent.com (raw.githubusercontent.com)|151.101.0.133|:443... connected.\n",
      "HTTP request sent, awaiting response... 200 OK\n",
      "Length: 253952 (248K) [application/octet-stream]\n",
      "Saving to: ‘rpg_db.sqlite3?raw=true’\n",
      "\n",
      "rpg_db.sqlite3?raw= 100%[===================>] 248.00K  --.-KB/s    in 0.03s   \n",
      "\n",
      "2019-06-04 16:46:31 (8.56 MB/s) - ‘rpg_db.sqlite3?raw=true’ saved [253952/253952]\n",
      "\n"
     ]
    }
   ],
   "source": [
    "!wget https://github.com/LambdaSchool/DS-Unit-3-Sprint-2-SQL-and-Databases/blob/master/module1-introduction-to-sql/rpg_db.sqlite3?raw=true"
   ]
  },
  {
   "cell_type": "code",
   "execution_count": 0,
   "metadata": {
    "colab": {},
    "colab_type": "code",
    "id": "mJTr2hyGYo1Q"
   },
   "outputs": [],
   "source": [
    "!mv 'rpg_db.sqlite3?raw=true' rpg_db.sqlite3"
   ]
  },
  {
   "cell_type": "code",
   "execution_count": 0,
   "metadata": {
    "colab": {},
    "colab_type": "code",
    "id": "k32ZtgLkYsJ7"
   },
   "outputs": [],
   "source": [
    "import sqlite3\n",
    "sl_conn = sqlite3.connect('rpg_db.sqlite3')\n",
    "sl_curs = sl_conn.cursor()"
   ]
  },
  {
   "cell_type": "code",
   "execution_count": 0,
   "metadata": {
    "colab": {
     "base_uri": "https://localhost:8080/",
     "height": 34
    },
    "colab_type": "code",
    "id": "jJC6R70UZbmR",
    "outputId": "08d20466-ece8-4bfa-a1f9-d0df45c87372"
   },
   "outputs": [
    {
     "data": {
      "text/plain": [
       "[(302,)]"
      ]
     },
     "execution_count": 13,
     "metadata": {
      "tags": []
     },
     "output_type": "execute_result"
    }
   ],
   "source": [
    "sl_curs.execute('SELECT COUNT(*) FROM charactercreator_character;').fetchall()"
   ]
  },
  {
   "cell_type": "code",
   "execution_count": 0,
   "metadata": {
    "colab": {},
    "colab_type": "code",
    "id": "btz8CgMrZf_U"
   },
   "outputs": [],
   "source": [
    "# Our goal - an ETL/data pipeline\n",
    "# Get the character data from SQLite to PostgreSQL!\n",
    "# Where should I start?"
   ]
  },
  {
   "cell_type": "code",
   "execution_count": 0,
   "metadata": {
    "colab": {
     "base_uri": "https://localhost:8080/",
     "height": 1511
    },
    "colab_type": "code",
    "id": "Cb_DvBRvbgCM",
    "outputId": "f92cce1c-0fe0-40cc-be2f-33129b35ce58"
   },
   "outputs": [
    {
     "data": {
      "text/plain": [
       "['Binary',\n",
       " 'Cache',\n",
       " 'Connection',\n",
       " 'Cursor',\n",
       " 'DataError',\n",
       " 'DatabaseError',\n",
       " 'Date',\n",
       " 'DateFromTicks',\n",
       " 'Error',\n",
       " 'IntegrityError',\n",
       " 'InterfaceError',\n",
       " 'InternalError',\n",
       " 'NotSupportedError',\n",
       " 'OperationalError',\n",
       " 'OptimizedUnicode',\n",
       " 'PARSE_COLNAMES',\n",
       " 'PARSE_DECLTYPES',\n",
       " 'PrepareProtocol',\n",
       " 'ProgrammingError',\n",
       " 'Row',\n",
       " 'SQLITE_ALTER_TABLE',\n",
       " 'SQLITE_ANALYZE',\n",
       " 'SQLITE_ATTACH',\n",
       " 'SQLITE_CREATE_INDEX',\n",
       " 'SQLITE_CREATE_TABLE',\n",
       " 'SQLITE_CREATE_TEMP_INDEX',\n",
       " 'SQLITE_CREATE_TEMP_TABLE',\n",
       " 'SQLITE_CREATE_TEMP_TRIGGER',\n",
       " 'SQLITE_CREATE_TEMP_VIEW',\n",
       " 'SQLITE_CREATE_TRIGGER',\n",
       " 'SQLITE_CREATE_VIEW',\n",
       " 'SQLITE_DELETE',\n",
       " 'SQLITE_DENY',\n",
       " 'SQLITE_DETACH',\n",
       " 'SQLITE_DROP_INDEX',\n",
       " 'SQLITE_DROP_TABLE',\n",
       " 'SQLITE_DROP_TEMP_INDEX',\n",
       " 'SQLITE_DROP_TEMP_TABLE',\n",
       " 'SQLITE_DROP_TEMP_TRIGGER',\n",
       " 'SQLITE_DROP_TEMP_VIEW',\n",
       " 'SQLITE_DROP_TRIGGER',\n",
       " 'SQLITE_DROP_VIEW',\n",
       " 'SQLITE_IGNORE',\n",
       " 'SQLITE_INSERT',\n",
       " 'SQLITE_OK',\n",
       " 'SQLITE_PRAGMA',\n",
       " 'SQLITE_READ',\n",
       " 'SQLITE_REINDEX',\n",
       " 'SQLITE_SELECT',\n",
       " 'SQLITE_TRANSACTION',\n",
       " 'SQLITE_UPDATE',\n",
       " 'Statement',\n",
       " 'Time',\n",
       " 'TimeFromTicks',\n",
       " 'Timestamp',\n",
       " 'TimestampFromTicks',\n",
       " 'Warning',\n",
       " '__builtins__',\n",
       " '__cached__',\n",
       " '__doc__',\n",
       " '__file__',\n",
       " '__loader__',\n",
       " '__name__',\n",
       " '__package__',\n",
       " '__path__',\n",
       " '__spec__',\n",
       " 'adapt',\n",
       " 'adapters',\n",
       " 'apilevel',\n",
       " 'collections',\n",
       " 'complete_statement',\n",
       " 'connect',\n",
       " 'converters',\n",
       " 'datetime',\n",
       " 'dbapi2',\n",
       " 'enable_callback_tracebacks',\n",
       " 'enable_shared_cache',\n",
       " 'paramstyle',\n",
       " 'register_adapter',\n",
       " 'register_converter',\n",
       " 'sqlite_version',\n",
       " 'sqlite_version_info',\n",
       " 'threadsafety',\n",
       " 'time',\n",
       " 'version',\n",
       " 'version_info']"
      ]
     },
     "execution_count": 14,
     "metadata": {
      "tags": []
     },
     "output_type": "execute_result"
    }
   ],
   "source": [
    "dir(sqlite3)"
   ]
  },
  {
   "cell_type": "code",
   "execution_count": 0,
   "metadata": {
    "colab": {},
    "colab_type": "code",
    "id": "OI8VQa5MbhyY"
   },
   "outputs": [],
   "source": [
    "characters = sl_curs.execute('SELECT * FROM charactercreator_character;').fetchall()"
   ]
  },
  {
   "cell_type": "code",
   "execution_count": 0,
   "metadata": {
    "colab": {
     "base_uri": "https://localhost:8080/",
     "height": 34
    },
    "colab_type": "code",
    "id": "fg7MBcSHb2ea",
    "outputId": "230ab6a4-1969-4b55-c566-c9f9122913cb"
   },
   "outputs": [
    {
     "data": {
      "text/plain": [
       "302"
      ]
     },
     "execution_count": 16,
     "metadata": {
      "tags": []
     },
     "output_type": "execute_result"
    }
   ],
   "source": [
    "len(characters)"
   ]
  },
  {
   "cell_type": "code",
   "execution_count": 0,
   "metadata": {
    "colab": {
     "base_uri": "https://localhost:8080/",
     "height": 34
    },
    "colab_type": "code",
    "id": "a4giFrRXb6dg",
    "outputId": "ee875e35-4f74-4766-9410-ae315e43b933"
   },
   "outputs": [
    {
     "data": {
      "text/plain": [
       "(1, 'Aliquid iste optio reiciendi', 0, 0, 10, 1, 1, 1, 1)"
      ]
     },
     "execution_count": 17,
     "metadata": {
      "tags": []
     },
     "output_type": "execute_result"
    }
   ],
   "source": [
    "characters[0]"
   ]
  },
  {
   "cell_type": "code",
   "execution_count": 0,
   "metadata": {
    "colab": {
     "base_uri": "https://localhost:8080/",
     "height": 34
    },
    "colab_type": "code",
    "id": "LSMZsHVIb7bL",
    "outputId": "a668cca1-1929-435f-f2af-bf77dbfe9e07"
   },
   "outputs": [
    {
     "data": {
      "text/plain": [
       "(302, 'Aliquam n', 0, 0, 10, 1, 1, 1, 1)"
      ]
     },
     "execution_count": 18,
     "metadata": {
      "tags": []
     },
     "output_type": "execute_result"
    }
   ],
   "source": [
    "characters[-1]"
   ]
  },
  {
   "cell_type": "markdown",
   "metadata": {
    "colab_type": "text",
    "id": "f5FH514cdhP6"
   },
   "source": [
    "```python\n",
    "class Character(models.Model):\n",
    "    \"\"\"Base representation of RPG characters.\"\"\"\n",
    "    character_id = models.AutoField(primary_key=True)\n",
    "    name = models.CharField(\"Character's name\", max_length=30)\n",
    "    level = models.IntegerField(default=0)\n",
    "    exp = models.IntegerField(default=0)\n",
    "    hp = models.IntegerField(default=10)\n",
    "    strength = models.IntegerField(default=1)\n",
    "    intelligence = models.IntegerField(default=1)\n",
    "    dexterity = models.IntegerField(default=1)\n",
    "    wisdom = models.IntegerField(default=1)\n",
    "    inventory = models.ManyToManyField(Item, verbose_name=\"Items the character has\")\n",
    "```"
   ]
  },
  {
   "cell_type": "code",
   "execution_count": 0,
   "metadata": {
    "colab": {},
    "colab_type": "code",
    "id": "h9cS71zBcEss"
   },
   "outputs": [],
   "source": [
    "# We have the characters in local Python object\n",
    "# (Specifically, a list of tuples)\n",
    "# Next - CREATE TABLE in PostgreSQL\n",
    "# In other words - make the Character schema!\n",
    "\n",
    "create_character_table = \"\"\"\n",
    "CREATE TABLE charactercreator_character (\n",
    "  character_id SERIAL PRIMARY KEY,\n",
    "  name VARCHAR(30),\n",
    "  level INT,\n",
    "  exp INT,\n",
    "  hp INT,\n",
    "  strength INT,\n",
    "  intelligence INT,\n",
    "  dexterity INT,\n",
    "  wisdom INT\n",
    ")\n",
    "\"\"\""
   ]
  },
  {
   "cell_type": "code",
   "execution_count": 0,
   "metadata": {
    "colab": {},
    "colab_type": "code",
    "id": "FYFyDQJ4ceUi"
   },
   "outputs": [],
   "source": [
    "pg_curs.execute(create_character_table)"
   ]
  },
  {
   "cell_type": "code",
   "execution_count": 0,
   "metadata": {
    "colab": {
     "base_uri": "https://localhost:8080/",
     "height": 34
    },
    "colab_type": "code",
    "id": "iLO9CYnSfLKI",
    "outputId": "791456ba-ac16-4893-ff42-44fdbba73360"
   },
   "outputs": [
    {
     "data": {
      "text/plain": [
       "(1, 'Aliquid iste optio reiciendi', 0, 0, 10, 1, 1, 1, 1)"
      ]
     },
     "execution_count": 21,
     "metadata": {
      "tags": []
     },
     "output_type": "execute_result"
    }
   ],
   "source": [
    "characters[0]"
   ]
  },
  {
   "cell_type": "code",
   "execution_count": 0,
   "metadata": {
    "colab": {
     "base_uri": "https://localhost:8080/",
     "height": 34
    },
    "colab_type": "code",
    "id": "LywFlpTufZq2",
    "outputId": "35a3e9e9-45e1-4cab-a75c-c8584c8c60ec"
   },
   "outputs": [
    {
     "data": {
      "text/plain": [
       "\"(1, 'Aliquid iste optio reiciendi', 0, 0, 10, 1, 1, 1, 1)\""
      ]
     },
     "execution_count": 22,
     "metadata": {
      "tags": []
     },
     "output_type": "execute_result"
    }
   ],
   "source": [
    "str(characters[0])"
   ]
  },
  {
   "cell_type": "code",
   "execution_count": 0,
   "metadata": {
    "colab": {
     "base_uri": "https://localhost:8080/",
     "height": 54
    },
    "colab_type": "code",
    "id": "r_wVV42wfbMX",
    "outputId": "7bf414c0-25c7-48fd-f58e-fa563dfacd78"
   },
   "outputs": [
    {
     "data": {
      "text/plain": [
       "\"\\n  INSERT INTO charactercreator_character\\n  VALUES (1, 'Aliquid iste optio reiciendi', 0, 0, 10, 1, 1, 1, 1)\""
      ]
     },
     "execution_count": 23,
     "metadata": {
      "tags": []
     },
     "output_type": "execute_result"
    }
   ],
   "source": [
    "attempted_insert = \"\"\"\n",
    "  INSERT INTO charactercreator_character\n",
    "  VALUES \"\"\" + str(characters[0])\n",
    "attempted_insert"
   ]
  },
  {
   "cell_type": "code",
   "execution_count": 0,
   "metadata": {
    "colab": {},
    "colab_type": "code",
    "id": "UzKXBYxHftjF"
   },
   "outputs": [],
   "source": [
    "pg_curs.execute(attempted_insert)"
   ]
  },
  {
   "cell_type": "code",
   "execution_count": 0,
   "metadata": {
    "colab": {},
    "colab_type": "code",
    "id": "AbMbU4akgh-2"
   },
   "outputs": [],
   "source": [
    "pg_conn.commit()  # We need to \"save\" our work for the new table/data to show up"
   ]
  },
  {
   "cell_type": "code",
   "execution_count": 0,
   "metadata": {
    "colab": {},
    "colab_type": "code",
    "id": "GpA9A6TpfyB0"
   },
   "outputs": [],
   "source": [
    "pg_curs = pg_conn.cursor()\n",
    "pg_curs.execute('SELECT * FROM charactercreator_character;')\n",
    "pg_characters = pg_curs.fetchall()"
   ]
  },
  {
   "cell_type": "code",
   "execution_count": 0,
   "metadata": {
    "colab": {
     "base_uri": "https://localhost:8080/",
     "height": 34
    },
    "colab_type": "code",
    "id": "5hjNZZhaf5Gw",
    "outputId": "a29443aa-9f4e-4693-bcea-c4377007a3fb"
   },
   "outputs": [
    {
     "data": {
      "text/plain": [
       "(1, 'Aliquid iste optio reiciendi', 0, 0, 10, 1, 1, 1, 1)"
      ]
     },
     "execution_count": 32,
     "metadata": {
      "tags": []
     },
     "output_type": "execute_result"
    }
   ],
   "source": [
    "pg_characters[0]"
   ]
  },
  {
   "cell_type": "code",
   "execution_count": 0,
   "metadata": {
    "colab": {
     "base_uri": "https://localhost:8080/",
     "height": 34
    },
    "colab_type": "code",
    "id": "YdB1B-Qgg4hd",
    "outputId": "11ee0430-4b71-457b-cd93-4ef2d3427a6f"
   },
   "outputs": [
    {
     "data": {
      "text/plain": [
       "1"
      ]
     },
     "execution_count": 33,
     "metadata": {
      "tags": []
     },
     "output_type": "execute_result"
    }
   ],
   "source": [
    "len(pg_characters)"
   ]
  },
  {
   "cell_type": "code",
   "execution_count": 0,
   "metadata": {
    "colab": {},
    "colab_type": "code",
    "id": "ecIGuHDIg5fw"
   },
   "outputs": [],
   "source": [
    "# Let's insert the rest of the characters!\n",
    "for character in characters[1:]:\n",
    "  insert_character = \"\"\"\n",
    "  INSERT INTO charactercreator_character\n",
    "  VALUES \"\"\" + str(character)\n",
    "  pg_curs.execute(insert_character)\n",
    "pg_conn.commit()"
   ]
  },
  {
   "cell_type": "code",
   "execution_count": 0,
   "metadata": {
    "colab": {},
    "colab_type": "code",
    "id": "gJIYnpHDh4kZ"
   },
   "outputs": [],
   "source": [
    "pg_curs = pg_conn.cursor()\n",
    "pg_curs.execute('SELECT * FROM charactercreator_character;')\n",
    "pg_characters = pg_curs.fetchall()"
   ]
  },
  {
   "cell_type": "code",
   "execution_count": 0,
   "metadata": {
    "colab": {
     "base_uri": "https://localhost:8080/",
     "height": 34
    },
    "colab_type": "code",
    "id": "7WQgsNiViHu7",
    "outputId": "3996b55f-b130-469c-9327-1f0714a4556a"
   },
   "outputs": [
    {
     "data": {
      "text/plain": [
       "302"
      ]
     },
     "execution_count": 36,
     "metadata": {
      "tags": []
     },
     "output_type": "execute_result"
    }
   ],
   "source": [
    "len(pg_characters)"
   ]
  },
  {
   "cell_type": "code",
   "execution_count": 0,
   "metadata": {
    "colab": {
     "base_uri": "https://localhost:8080/",
     "height": 34
    },
    "colab_type": "code",
    "id": "6bDIR8ZIiI3R",
    "outputId": "d03d6346-3189-4e44-87e9-41c366ae845b"
   },
   "outputs": [
    {
     "data": {
      "text/plain": [
       "(1, 'Aliquid iste optio reiciendi', 0, 0, 10, 1, 1, 1, 1)"
      ]
     },
     "execution_count": 37,
     "metadata": {
      "tags": []
     },
     "output_type": "execute_result"
    }
   ],
   "source": [
    "pg_characters[0]"
   ]
  },
  {
   "cell_type": "code",
   "execution_count": 0,
   "metadata": {
    "colab": {
     "base_uri": "https://localhost:8080/",
     "height": 34
    },
    "colab_type": "code",
    "id": "0omMquoEiKBK",
    "outputId": "e57e2c83-4c5f-46fc-f6d6-b04440449bf5"
   },
   "outputs": [
    {
     "data": {
      "text/plain": [
       "(302, 'Aliquam n', 0, 0, 10, 1, 1, 1, 1)"
      ]
     },
     "execution_count": 38,
     "metadata": {
      "tags": []
     },
     "output_type": "execute_result"
    }
   ],
   "source": [
    "pg_characters[-1]"
   ]
  },
  {
   "cell_type": "code",
   "execution_count": 0,
   "metadata": {
    "colab": {
     "base_uri": "https://localhost:8080/",
     "height": 34
    },
    "colab_type": "code",
    "id": "qeVkKdXJiK4k",
    "outputId": "a4da10a7-0e4e-4b5e-ad1d-f208847629ab"
   },
   "outputs": [
    {
     "data": {
      "text/plain": [
       "302"
      ]
     },
     "execution_count": 39,
     "metadata": {
      "tags": []
     },
     "output_type": "execute_result"
    }
   ],
   "source": [
    "len(characters)"
   ]
  },
  {
   "cell_type": "code",
   "execution_count": 0,
   "metadata": {
    "colab": {},
    "colab_type": "code",
    "id": "LCntsvOMiaG9"
   },
   "outputs": [],
   "source": [
    "for character, pg_character in zip(characters, pg_characters):\n",
    "  assert character == pg_character"
   ]
  },
  {
   "cell_type": "code",
   "execution_count": 0,
   "metadata": {
    "colab": {},
    "colab_type": "code",
    "id": "NKaeIft4iiL9"
   },
   "outputs": [],
   "source": [
    "# Nothing happened! That means the assert was always happy, and they're all the same!"
   ]
  }
 ],
 "metadata": {
  "colab": {
   "name": "LS DS3 322 - Connecting to PostgreSQL.ipynb",
   "provenance": [],
   "version": "0.3.2"
  },
  "kernelspec": {
   "display_name": "Python 3",
   "language": "python",
   "name": "python3"
  },
  "language_info": {
   "codemirror_mode": {
    "name": "ipython",
    "version": 3
   },
   "file_extension": ".py",
   "mimetype": "text/x-python",
   "name": "python",
   "nbconvert_exporter": "python",
   "pygments_lexer": "ipython3",
   "version": "3.7.1"
  }
 },
 "nbformat": 4,
 "nbformat_minor": 1
}
