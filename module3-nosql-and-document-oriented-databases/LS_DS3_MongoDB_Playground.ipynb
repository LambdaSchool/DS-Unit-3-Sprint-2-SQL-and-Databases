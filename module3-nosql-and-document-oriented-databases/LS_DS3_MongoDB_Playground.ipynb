{
  "nbformat": 4,
  "nbformat_minor": 0,
  "metadata": {
    "colab": {
      "name": "LS DS3 MongoDB Playground.ipynb",
      "version": "0.3.2",
      "provenance": [],
      "collapsed_sections": [],
      "include_colab_link": true
    },
    "kernelspec": {
      "name": "python3",
      "display_name": "Python 3"
    }
  },
  "cells": [
    {
      "cell_type": "markdown",
      "metadata": {
        "id": "view-in-github",
        "colab_type": "text"
      },
      "source": [
        "<a href=\"https://colab.research.google.com/github/standroidbeta/DS-Unit-3-Sprint-2-SQL-and-Databases/blob/master/module3-nosql-and-document-oriented-databases/LS_DS3_MongoDB_Playground.ipynb\" target=\"_parent\"><img src=\"https://colab.research.google.com/assets/colab-badge.svg\" alt=\"Open In Colab\"/></a>"
      ]
    },
    {
      "cell_type": "markdown",
      "metadata": {
        "id": "HIuHUD9N0q66",
        "colab_type": "text"
      },
      "source": [
        "# MongoDB with PyMongo\n",
        "\n",
        "LSDS Unit 3 Sprint 2 Module 3\n",
        "\n",
        "Some resources:\n",
        "\n",
        "https://docs.atlas.mongodb.com/getting-started/\n",
        "\n",
        "https://api.mongodb.com/python/current/\n",
        "\n",
        "HN Discussion on MongoDB versus PostgreSQL/SQLite: https://news.ycombinator.com/item?id=19158854"
      ]
    },
    {
      "cell_type": "code",
      "metadata": {
        "id": "4v_h4qU3Qa9T",
        "colab_type": "code",
        "colab": {}
      },
      "source": [
        ""
      ],
      "execution_count": 0,
      "outputs": []
    }
  ]
}