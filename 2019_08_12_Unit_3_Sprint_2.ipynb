{
  "nbformat": 4,
  "nbformat_minor": 0,
  "metadata": {
    "colab": {
      "name": "2019-08-12 Unit 3 Sprint 2.ipynb",
      "version": "0.3.2",
      "provenance": [],
      "collapsed_sections": [],
      "toc_visible": true,
      "include_colab_link": true
    },
    "kernelspec": {
      "name": "python3",
      "display_name": "Python 3"
    }
  },
  "cells": [
    {
      "cell_type": "markdown",
      "metadata": {
        "id": "view-in-github",
        "colab_type": "text"
      },
      "source": [
        "<a href=\"https://colab.research.google.com/github/Nov05/DS-Unit-3-Sprint-2-SQL-and-Databases/blob/master/2019_08_12_Unit_3_Sprint_2.ipynb\" target=\"_parent\"><img src=\"https://colab.research.google.com/assets/colab-badge.svg\" alt=\"Open In Colab\"/></a>"
      ]
    },
    {
      "cell_type": "code",
      "metadata": {
        "id": "LZ45KUlEMihm",
        "colab_type": "code",
        "colab": {}
      },
      "source": [
        "# created by nov05 on 2019-08-12\n",
        "# https://github.com/Nov05/DS-Unit-3-Sprint-2-SQL-and-Databases\n",
        "# DS-Unit-3-Sprint-2-SQL-and-Databases"
      ],
      "execution_count": 0,
      "outputs": []
    },
    {
      "cell_type": "code",
      "metadata": {
        "id": "3NvEexNwMq7e",
        "colab_type": "code",
        "outputId": "7a4b7553-119d-4c63-bde0-a6ebbf5a6ab5",
        "colab": {
          "base_uri": "https://localhost:8080/",
          "height": 35
        }
      },
      "source": [
        "!python --version\n",
        "# Python 3.6.8"
      ],
      "execution_count": 0,
      "outputs": [
        {
          "output_type": "stream",
          "text": [
            "Python 3.6.8\n"
          ],
          "name": "stdout"
        }
      ]
    },
    {
      "cell_type": "code",
      "metadata": {
        "id": "iIRdyo0SFJd4",
        "colab_type": "code",
        "outputId": "4d190af0-00d0-49fd-aee4-18a7081e038c",
        "colab": {
          "base_uri": "https://localhost:8080/",
          "height": 316
        }
      },
      "source": [
        "# Runtime -> Change runtime type -> Hardware accelerator -> GPU\n",
        "# https://colab.research.google.com/github/Con-Mi/Pattern-Recognition-and-Machine-Learning/blob/master/PyTorch_0_4_1_with_CUDA_9_2_backend.ipynb\n",
        "# https://colab.research.google.com/drive/1EUvGhh8uVwf0lsuT-oSQ1a21GnisIYD1\n",
        "# NVIDIA profiling tool for the available GPU\n",
        "!nvidia-smi"
      ],
      "execution_count": 0,
      "outputs": [
        {
          "output_type": "stream",
          "text": [
            "Tue Aug 13 08:25:27 2019       \n",
            "+-----------------------------------------------------------------------------+\n",
            "| NVIDIA-SMI 418.67       Driver Version: 410.79       CUDA Version: 10.0     |\n",
            "|-------------------------------+----------------------+----------------------+\n",
            "| GPU  Name        Persistence-M| Bus-Id        Disp.A | Volatile Uncorr. ECC |\n",
            "| Fan  Temp  Perf  Pwr:Usage/Cap|         Memory-Usage | GPU-Util  Compute M. |\n",
            "|===============================+======================+======================|\n",
            "|   0  Tesla K80           Off  | 00000000:00:04.0 Off |                    0 |\n",
            "| N/A   36C    P8    27W / 149W |      0MiB / 11441MiB |      0%      Default |\n",
            "+-------------------------------+----------------------+----------------------+\n",
            "                                                                               \n",
            "+-----------------------------------------------------------------------------+\n",
            "| Processes:                                                       GPU Memory |\n",
            "|  GPU       PID   Type   Process name                             Usage      |\n",
            "|=============================================================================|\n",
            "|  No running processes found                                                 |\n",
            "+-----------------------------------------------------------------------------+\n"
          ],
          "name": "stdout"
        }
      ]
    },
    {
      "cell_type": "code",
      "metadata": {
        "id": "lLaTYH7hG5Aw",
        "colab_type": "code",
        "outputId": "8c666b96-17b6-429b-d0a2-96c6a2021f84",
        "colab": {
          "base_uri": "https://localhost:8080/",
          "height": 55
        }
      },
      "source": [
        "# https://colab.research.google.com/drive/1_x67fw9y5aBW72a8aGePFLlkPvKLpnBl\n",
        "# https://towardsdatascience.com/google-colab-59ad8510eb7e\n",
        "!cat /proc/version\n",
        "# !cat /proc/cpuinfo\n",
        "# !cat /proc/meminfo"
      ],
      "execution_count": 0,
      "outputs": [
        {
          "output_type": "stream",
          "text": [
            "Linux version 4.14.79+ (chrome-bot@swarm-cros-634) (gcc version 4.9.x 20150123 (prerelease) (4.9.2_cos_gg_4.9.2-r193-ac6128e0a17a52f011797f33ac3e7d6273a9368d_4.9.2-r193)) #1 SMP Wed Dec 19 21:19:13 PST 2018\n"
          ],
          "name": "stdout"
        }
      ]
    },
    {
      "cell_type": "markdown",
      "metadata": {
        "id": "cPWVx0dWM53U",
        "colab_type": "text"
      },
      "source": [
        "# Week 11 Day 1  \n",
        "\n",
        "11.13. sqlite3 — DB-API 2.0 interface for SQLite databases  \n",
        "https://docs.python.org/3.7/library/sqlite3.html#  "
      ]
    },
    {
      "cell_type": "code",
      "metadata": {
        "id": "_EuvyeJuMwV4",
        "colab_type": "code",
        "outputId": "e1e66940-fd70-4bf1-a3e0-be512ce57994",
        "colab": {
          "base_uri": "https://localhost:8080/",
          "height": 52
        }
      },
      "source": [
        "# Note: the actual database file \"example.db\" is in your local hard disk.\n",
        "#       so if you want to execute the same table creation SQL again without error message,\n",
        "#       delete the file \"example.db\" in your local environment or Colab, or reset all runtimes in Colab...\n",
        "\n",
        "# Note: table creation SQL is Data Definition Language (DDL)\n",
        "#       data insertion and selection is Data Manipulation Language (DML)\n",
        "\n",
        "import sqlite3\n",
        "\n",
        "conn = sqlite3.connect('example.db') # or any name with .db extension\n",
        "\n",
        "############################################################\n",
        "# Create a cursor for table creation and data insertion\n",
        "############################################################\n",
        "c = conn.cursor()\n",
        "\n",
        "# Create table\n",
        "c.execute('''CREATE TABLE stocks\n",
        "             (date text, trans text, symbol text, qty real, price real)''')\n",
        "\n",
        "# Insert a row of data\n",
        "c.execute(\"INSERT INTO stocks VALUES ('2006-01-05', 'BUY', 'RHAT', 100, 35.14)\")\n",
        "\n",
        "# Larger example that inserts many records at a time\n",
        "purchases = [('2006-03-28', 'BUY', 'IBM', 1000, 45.00),\n",
        "             ('2006-04-05', 'BUY', 'MSFT', 1000, 72.00),\n",
        "             ('2006-04-06', 'SELL', 'IBM', 500, 53.00),\n",
        "            ]\n",
        "c.executemany('INSERT INTO stocks VALUES (?,?,?,?,?)', purchases)\n",
        "\n",
        "# Note: table creation and data insertion would change the database,\n",
        "#       so a commit is needed if you want the change to be written in the .db file.\n",
        "#       however for the database in the memory, it doesn't need a commit... ¯\\_(ツ)_/¯\n",
        "\n",
        "conn.commit() # save (commit) the changes\n",
        "c.close() # close the cursor\n",
        "\n",
        "############################################################\n",
        "# Create a cursor for data selection\n",
        "############################################################\n",
        "c = conn.cursor()\n",
        "\n",
        "t = ('RHAT',)\n",
        "c.execute('SELECT * FROM stocks WHERE symbol=?', t)\n",
        "print(c.fetchone())\n",
        "\n",
        "t = ('IBM',)\n",
        "c.execute('SELECT * FROM stocks WHERE symbol=?', t)\n",
        "print(c.fetchall())\n",
        "\n",
        "# Note: data selection SQL doesn't change the database,\n",
        "#       so it doesn't need a commit \"conn.commit()\". \n",
        "c.close()\n",
        "\n",
        "# We can also close the connection if we are done with it.\n",
        "# Just be sure any changes have been committed or they will be lost.\n",
        "conn.close()"
      ],
      "execution_count": 0,
      "outputs": [
        {
          "output_type": "stream",
          "text": [
            "('2006-01-05', 'BUY', 'RHAT', 100.0, 35.14)\n",
            "[('2006-03-28', 'BUY', 'IBM', 1000.0, 45.0), ('2006-04-06', 'SELL', 'IBM', 500.0, 53.0)]\n"
          ],
          "name": "stdout"
        }
      ]
    },
    {
      "cell_type": "code",
      "metadata": {
        "id": "L63AwoMjv6kK",
        "colab_type": "code",
        "outputId": "78250a98-55d5-41bc-e664-00f730c98ebd",
        "colab": {
          "base_uri": "https://localhost:8080/",
          "height": 35
        }
      },
      "source": [
        "import sqlite3\n",
        "conn = sqlite3.connect('example.db') # or any name with .db extension\n",
        "c = conn.cursor()\n",
        "t = ('RHAT',)\n",
        "c.execute('SELECT * FROM stocks WHERE symbol=?', t)\n",
        "print(c.fetchone())"
      ],
      "execution_count": 0,
      "outputs": [
        {
          "output_type": "stream",
          "text": [
            "('2006-01-05', 'BUY', 'RHAT', 100.0, 35.14)\n"
          ],
          "name": "stdout"
        }
      ]
    },
    {
      "cell_type": "code",
      "metadata": {
        "id": "Ylb1bwf2Y-0P",
        "colab_type": "code",
        "outputId": "0b8c566f-3454-4fe5-d115-ab5ac330b302",
        "colab": {
          "base_uri": "https://localhost:8080/",
          "height": 140
        }
      },
      "source": [
        "# Note: in this case, sqlite3.connect(\":memory:\") actually creates database in the memory,\n",
        "#       so if it is in Colab, just reset the runtime (Ctrl+M.) to reset everything...\n",
        "\n",
        "############################################################\n",
        "# A minimal SQLite shell for experiments\n",
        "############################################################\n",
        "import sqlite3\n",
        "\n",
        "con = sqlite3.connect(\":memory:\")\n",
        "con.isolation_level = None\n",
        "cur = con.cursor()\n",
        "\n",
        "buffer = \"\"\n",
        "\n",
        "print(\"Enter your SQL commands to execute in sqlite3.\")\n",
        "print(\"Enter a blank line to exit.\")\n",
        "\n",
        "while True:\n",
        "    line = input()\n",
        "    if line == \"\":\n",
        "        break\n",
        "    buffer += line\n",
        "    if sqlite3.complete_statement(buffer):\n",
        "        try:\n",
        "            buffer = buffer.strip()\n",
        "            cur.execute(buffer)\n",
        "            \n",
        "            if buffer.lstrip().upper().startswith(\"SELECT\"):\n",
        "                print(cur.fetchall())\n",
        "        except sqlite3.Error as e:\n",
        "            print(\"An error occurred:\", e.args[0])\n",
        "        buffer = \"\"\n",
        "        \n",
        "con.close()\n",
        "\n",
        "# how does it commit? - for in-memory database it doesn't need a commit...\n",
        "\n",
        "# e.g. \n",
        "# CREATE TABLE stocks (date text, trans text, symbol text, qty real, price real);\n",
        "# INSERT INTO stocks VALUES ('2006-01-05', 'BUY', 'RHAT', 100, 35.14);\n",
        "# SELECT * FROM stocks WHERE symbol='RHAT';"
      ],
      "execution_count": 0,
      "outputs": [
        {
          "output_type": "stream",
          "text": [
            "Enter your SQL commands to execute in sqlite3.\n",
            "Enter a blank line to exit.\n",
            "CREATE TABLE stocks (date text, trans text, symbol text, qty real, price real);\n",
            "INSERT INTO stocks VALUES ('2006-01-05', 'BUY', 'RHAT', 100, 35.14);\n",
            "SELECT * FROM stocks WHERE symbol='RHAT';\n",
            "[('2006-01-05', 'BUY', 'RHAT', 100.0, 35.14)]\n",
            "\n"
          ],
          "name": "stdout"
        }
      ]
    },
    {
      "cell_type": "code",
      "metadata": {
        "id": "iMDijlYcdliI",
        "colab_type": "code",
        "outputId": "c0f9142e-c5ab-445e-da9d-5c27d807c090",
        "colab": {
          "base_uri": "https://localhost:8080/",
          "height": 35
        }
      },
      "source": [
        "s = \"SELECT * FROM stocks WHERE symbol='RHAT'\"\n",
        "s.lstrip().upper().startswith(\"SELECT\")"
      ],
      "execution_count": 0,
      "outputs": [
        {
          "output_type": "execute_result",
          "data": {
            "text/plain": [
              "True"
            ]
          },
          "metadata": {
            "tags": []
          },
          "execution_count": 3
        }
      ]
    },
    {
      "cell_type": "code",
      "metadata": {
        "id": "fE3cIvcPBmQK",
        "colab_type": "code",
        "colab": {}
      },
      "source": [
        "# !wget https://www.sqlite.org/src/tarball/27392118/SQLite-27392118.tar.gz\n",
        "    \n",
        "# --2019-08-13 08:13:01--  https://www.sqlite.org/src/tarball/27392118/SQLite-27392118.tar.gz\n",
        "# Resolving www.sqlite.org (www.sqlite.org)... 45.33.6.223, 2600:3c00::f03c:91ff:fe96:b959\n",
        "# Connecting to www.sqlite.org (www.sqlite.org)|45.33.6.223|:443... connected.\n",
        "# HTTP request sent, awaiting response... 503 Server Overload\n",
        "# 2019-08-13 08:13:01 ERROR 503: Server Overload."
      ],
      "execution_count": 0,
      "outputs": []
    },
    {
      "cell_type": "markdown",
      "metadata": {
        "id": "BBdZTLnSCFdT",
        "colab_type": "text"
      },
      "source": [
        "<img src=\"https://github.com/Nov05/pictures/blob/master/pic001/2019-08-13%2003_10_22-SQLite_%20Server%20Overload.png?raw=true\" width=\"400\">  \n",
        "\n",
        "Hahaha...  "
      ]
    },
    {
      "cell_type": "markdown",
      "metadata": {
        "id": "GeHkc_6WsG5R",
        "colab_type": "text"
      },
      "source": [
        "# Install SQLite3 Command Line"
      ]
    },
    {
      "cell_type": "code",
      "metadata": {
        "id": "f47j_pywOOSB",
        "colab_type": "code",
        "colab": {}
      },
      "source": [
        "# install sqlite3 command line\n",
        "\n",
        "# https://linuxhint.com/install_sqlite_browser_ubuntu_1804/\n",
        "!sudo apt-get update\n",
        "!sudo apt-get install sqlite3\n",
        "# !sudo apt-get install libsqlite3-dev\n",
        "!sqlite3 --version\n",
        "# sqlite3 is already the newest version (3.22.0-1ubuntu0.1).\n",
        "# 3.22.0 2018-01-22 18:45:57 0c55d179733b46d8d0ba4d88e01a25e10677046ee3da1d5b1581e86726f2alt1"
      ],
      "execution_count": 0,
      "outputs": []
    },
    {
      "cell_type": "markdown",
      "metadata": {
        "id": "8zBG7v19Viy3",
        "colab_type": "text"
      },
      "source": [
        "Command Line Shell for SQLite  \n",
        "https://sqlite.org/cli.html  "
      ]
    },
    {
      "cell_type": "code",
      "metadata": {
        "id": "nIcwBGw8V0pB",
        "colab_type": "code",
        "outputId": "bec2984f-65a4-453f-9d76-f98509a59909",
        "colab": {
          "base_uri": "https://localhost:8080/",
          "height": 334
        }
      },
      "source": [
        "# it is silly to run SQLite3 command line in Colab.\n",
        "# But it works somehow...\n",
        "\n",
        "!sqlite3\n",
        "# sqlite> create table tbl1(one varchar(10), two smallint);\n",
        "# sqlite> insert into tbl1 values('hello!',10);\n",
        "# sqlite> insert into tbl1 values('goodbye', 20);\n",
        "# sqlite> select * from tbl1;\n",
        "# hello!|10\n",
        "# goodbye|20\n",
        "# sqlite> .mode quote    # or .mode list\n",
        "# sqlite> .separator \", \"\n",
        "# sqlite> select * from tbl1;\n",
        "# 'hello!',10\n",
        "# 'goodbye',20\n",
        "# sqlite> .output test.csv\n",
        "# sqlite> select * from tbl1;\n",
        "# sqlite> .exit"
      ],
      "execution_count": 0,
      "outputs": [
        {
          "output_type": "stream",
          "text": [
            "SQLite version 3.22.0 2018-01-22 18:45:57\n",
            "Enter \".help\" for usage hints.\n",
            "Connected to a \u001b[1mtransient in-memory database\u001b[0m.\n",
            "Use \".open FILENAME\" to reopen on a persistent database.\n",
            "sqlite> create table tbl1(one varchar(10), two smallint);\n",
            "sqlite> insert into tbl1 values('hello!',10);\n",
            "sqlite> insert into tbl1 values('goodbye', 20);\n",
            "sqlite> select * from tbl1;\n",
            "hello!|10\n",
            "goodbye|20\n",
            "sqlite> .mode quote\n",
            "sqlite> .separator \", \"\n",
            "sqlite> select * from tbl1;\n",
            "'hello!',10\n",
            "'goodbye',20\n",
            "sqlite> .output test.csv\n",
            "sqlite> select * from tbl1;\n",
            "sqlite> .exit\n"
          ],
          "name": "stdout"
        }
      ]
    },
    {
      "cell_type": "code",
      "metadata": {
        "id": "KCqmPvylXbqb",
        "colab_type": "code",
        "outputId": "5a852529-da34-4f13-ceca-3207c906597f",
        "colab": {
          "base_uri": "https://localhost:8080/",
          "height": 52
        }
      },
      "source": [
        "# check the local file just created\n",
        "!cat test.csv"
      ],
      "execution_count": 0,
      "outputs": [
        {
          "output_type": "stream",
          "text": [
            "'hello!',10\n",
            "'goodbye',20\n"
          ],
          "name": "stdout"
        }
      ]
    },
    {
      "cell_type": "code",
      "metadata": {
        "id": "ExvNiOyuYwii",
        "colab_type": "code",
        "colab": {}
      },
      "source": [
        "# get sqlite3 file\n",
        "!wget https://github.com/Nov05/DS-Unit-3-Sprint-2-SQL-and-Databases/blob/master/module1-introduction-to-sql/rpg_db.sqlite3\n",
        "    \n",
        "!sqlite3\n",
        "# SQLite version 3.22.0 2018-01-22 18:45:57\n",
        "# Enter \".help\" for usage hints.\n",
        "# Connected to a transient in-memory database.\n",
        "# Use \".open FILENAME\" to reopen on a persistent database.\n",
        "# sqlite> .open rpg_db.sqlite3\n",
        "# sqlite> SELECT name FROM sqlite_master WHERE type='table';\n",
        "# Error: file is not a database\n",
        "# sqlite> .exit"
      ],
      "execution_count": 0,
      "outputs": []
    },
    {
      "cell_type": "markdown",
      "metadata": {
        "id": "pbvIAa-udbJF",
        "colab_type": "text"
      },
      "source": [
        "# Install Latest Version of SQLite on Linux"
      ]
    },
    {
      "cell_type": "markdown",
      "metadata": {
        "id": "Xbd080FDZriC",
        "colab_type": "text"
      },
      "source": [
        "Install SQLite on Linux (or Windows/Mac)  \n",
        "https://www.tutorialspoint.com/sqlite/sqlite_installation.htm  \n",
        "\n",
        "Download page  \n",
        "https://www.sqlite.org/download.html#win32    "
      ]
    },
    {
      "cell_type": "code",
      "metadata": {
        "id": "90K3A2P4aPmi",
        "colab_type": "code",
        "colab": {}
      },
      "source": [
        "!wget https://www.sqlite.org/2019/sqlite-autoconf-3290000.tar.gz\n",
        "!tar xvfz sqlite-autoconf-3290000.tar.gz\n",
        "%cd sqlite-autoconf-3290000\n",
        "!./configure --prefix=/usr/local\n",
        "!make\n",
        "!make install\n",
        "\n",
        "# make[1]: Entering directory '/content/sqlite-autoconf-3290000'\n",
        "#  /bin/mkdir -p '/usr/local/lib'\n",
        "#  /bin/bash ./libtool   --mode=install /usr/bin/install -c   libsqlite3.la '/usr/local/lib'\n",
        "# libtool: install: /usr/bin/install -c .libs/libsqlite3.so.0.8.6 /usr/local/lib/libsqlite3.so.0.8.6\n",
        "# libtool: install: (cd /usr/local/lib && { ln -s -f libsqlite3.so.0.8.6 libsqlite3.so.0 || { rm -f libsqlite3.so.0 && ln -s libsqlite3.so.0.8.6 libsqlite3.so.0; }; })\n",
        "# libtool: install: (cd /usr/local/lib && { ln -s -f libsqlite3.so.0.8.6 libsqlite3.so || { rm -f libsqlite3.so && ln -s libsqlite3.so.0.8.6 libsqlite3.so; }; })\n",
        "# libtool: install: /usr/bin/install -c .libs/libsqlite3.lai /usr/local/lib/libsqlite3.la\n",
        "# libtool: install: /usr/bin/install -c .libs/libsqlite3.a /usr/local/lib/libsqlite3.a\n",
        "# libtool: install: chmod 644 /usr/local/lib/libsqlite3.a\n",
        "# libtool: install: ranlib /usr/local/lib/libsqlite3.a\n",
        "# libtool: finish: PATH=\"/usr/local/nvidia/bin:/usr/local/cuda/bin:/usr/local/sbin:/usr/local/bin:/usr/sbin:/usr/bin:/sbin:/bin:/tools/node/bin:/tools/google-cloud-sdk/bin:/opt/bin:/sbin\" ldconfig -n /usr/local/lib\n",
        "# ----------------------------------------------------------------------\n",
        "# Libraries have been installed in:\n",
        "#    /usr/local/lib\n",
        "\n",
        "# If you ever happen to want to link against installed libraries\n",
        "# in a given directory, LIBDIR, you must either use libtool, and\n",
        "# specify the full pathname of the library, or use the '-LLIBDIR'\n",
        "# flag during linking and do at least one of the following:\n",
        "#    - add LIBDIR to the 'LD_LIBRARY_PATH' environment variable\n",
        "#      during execution\n",
        "#    - add LIBDIR to the 'LD_RUN_PATH' environment variable\n",
        "#      during linking\n",
        "#    - use the '-Wl,-rpath -Wl,LIBDIR' linker flag\n",
        "#    - have your system administrator add LIBDIR to '/etc/ld.so.conf'\n",
        "\n",
        "# See any operating system documentation about shared libraries for\n",
        "# more information, such as the ld(1) and ld.so(8) manual pages.\n",
        "# ----------------------------------------------------------------------\n",
        "#  /bin/mkdir -p '/usr/local/bin'\n",
        "#   /bin/bash ./libtool   --mode=install /usr/bin/install -c sqlite3 '/usr/local/bin'\n",
        "# libtool: install: /usr/bin/install -c sqlite3 /usr/local/bin/sqlite3\n",
        "#  /bin/mkdir -p '/usr/local/include'\n",
        "#  /usr/bin/install -c -m 644 sqlite3.h sqlite3ext.h '/usr/local/include'\n",
        "#  /bin/mkdir -p '/usr/local/share/man/man1'\n",
        "#  /usr/bin/install -c -m 644 sqlite3.1 '/usr/local/share/man/man1'\n",
        "#  /bin/mkdir -p '/usr/local/lib/pkgconfig'\n",
        "#  /usr/bin/install -c -m 644 sqlite3.pc '/usr/local/lib/pkgconfig'\n",
        "# make[1]: Leaving directory '/content/sqlite-autoconf-3290000'"
      ],
      "execution_count": 0,
      "outputs": []
    },
    {
      "cell_type": "code",
      "metadata": {
        "id": "9cDIRd6ueLlj",
        "colab_type": "code",
        "outputId": "d9900add-80c9-40c9-d66e-fadda0b47147",
        "colab": {
          "base_uri": "https://localhost:8080/",
          "height": 35
        }
      },
      "source": [
        "# check version==3.29.0\n",
        "!sqlite3 --version\n",
        "# 3.29.0 2019-07-10 17:32:03 fc82b73eaac8b36950e527f12c4b5dc1e147e6f4ad2217ae43ad82882a88bfa6"
      ],
      "execution_count": 0,
      "outputs": [
        {
          "output_type": "stream",
          "text": [
            "3.29.0 2019-07-10 17:32:03 fc82b73eaac8b36950e527f12c4b5dc1e147e6f4ad2217ae43ad82882a88bfa6\n"
          ],
          "name": "stdout"
        }
      ]
    },
    {
      "cell_type": "code",
      "metadata": {
        "id": "sQxuR09GeWjh",
        "colab_type": "code",
        "colab": {}
      },
      "source": [
        "# # updata python package version - error\n",
        "# !pip install --upgrade pysqlite\n",
        "\n",
        "# Collecting pysqlite\n",
        "#   Downloading https://files.pythonhosted.org/packages/42/02/981b6703e3c83c5b25a829c6e77aad059f9481b0bbacb47e6e8ca12bd731/pysqlite-2.8.3.tar.gz (80kB)\n",
        "#      |████████████████████████████████| 81kB 3.1MB/s \n",
        "# ERROR: Command errored out with exit status 1: python setup.py egg_info Check the logs for full command output."
      ],
      "execution_count": 0,
      "outputs": []
    },
    {
      "cell_type": "code",
      "metadata": {
        "id": "SwsD7WYcis4d",
        "colab_type": "code",
        "outputId": "65a6f1da-2d02-4a10-fd9b-93a9072092a7",
        "colab": {
          "base_uri": "https://localhost:8080/",
          "height": 70
        }
      },
      "source": [
        "!printenv LD_LIBRARY_PATH\n",
        "# Runtime type NONE: /usr/local/nvidia/lib:/usr/local/nvidia/lib64\n",
        "# Runtime type GPU: /usr/lib64-nvidia\n",
        "\n",
        "# it seems we can't change the path in this way in Colab...\n",
        "!export LD_LIBRARY_PATH=\"/usr/local/lib\"\n",
        "!printenv LD_LIBRARY_PATH\n",
        "!!python -c \"import sqlite3; print(sqlite3.sqlite_version)\""
      ],
      "execution_count": 0,
      "outputs": [
        {
          "output_type": "stream",
          "text": [
            "/usr/local/lib\n",
            "/usr/local/lib\n"
          ],
          "name": "stdout"
        },
        {
          "output_type": "execute_result",
          "data": {
            "text/plain": [
              "['3.29.0']"
            ]
          },
          "metadata": {
            "tags": []
          },
          "execution_count": 6
        }
      ]
    },
    {
      "cell_type": "code",
      "metadata": {
        "id": "ZYfWFoapkQui",
        "colab_type": "code",
        "outputId": "e076402a-a457-4944-89c6-8a8a022e61b3",
        "colab": {
          "base_uri": "https://localhost:8080/",
          "height": 52
        }
      },
      "source": [
        "# however this would work\n",
        "import os\n",
        "print(os.getcwd())\n",
        "os.environ['LD_LIBRARY_PATH'] = \"/usr/local/lib\"\n",
        "print(os.environ['LD_LIBRARY_PATH'])"
      ],
      "execution_count": 0,
      "outputs": [
        {
          "output_type": "stream",
          "text": [
            "/content\n",
            "/usr/local/lib\n"
          ],
          "name": "stdout"
        }
      ]
    },
    {
      "cell_type": "code",
      "metadata": {
        "id": "r9weeCkvv-EW",
        "colab_type": "code",
        "outputId": "908b81dd-4faa-46a9-d6a9-d9712a5d6ec4",
        "colab": {
          "base_uri": "https://localhost:8080/",
          "height": 70
        }
      },
      "source": [
        "import sqlite3\n",
        "import pandas as pd\n",
        "\n",
        "# The version number of this module, as a string. \n",
        "# This is not the version of the SQLite library.\n",
        "print(sqlite3.version) # 2.6.0\n",
        "\n",
        "# The version number of the run-time SQLite library, as a string.\n",
        "print(sqlite3.sqlite_version) # 3.22.0\n",
        "\n",
        "# https://unix.stackexchange.com/questions/434100/updating-the-sqlite-version-used-by-python-3-on-centos-7\n",
        "#!export LD_LIBRARY_PATH=/usr/local/sqlite-3.22.0/lib\n",
        "!python -c \"import sqlite3; print(sqlite3.sqlite_version)\" # 3.22.0 or 3.29.0"
      ],
      "execution_count": 0,
      "outputs": [
        {
          "output_type": "stream",
          "text": [
            "2.6.0\n",
            "3.22.0\n",
            "3.29.0\n"
          ],
          "name": "stdout"
        }
      ]
    },
    {
      "cell_type": "markdown",
      "metadata": {
        "id": "YmvesXMsoVpF",
        "colab_type": "text"
      },
      "source": [
        "### Day 1 Assignment Database \"rpg_db.sqlite3\"\n",
        "\n",
        "https://github.com/Nov05/DS-Unit-3-Sprint-2-SQL-and-Databases/tree/master/module1-introduction-to-sql  \n",
        "\n",
        "<img src=\"https://github.com/Nov05/DS-Unit-3-Sprint-2-SQL-and-Databases/blob/master/module1-introduction-to-sql/schema.png?raw=true\">  "
      ]
    },
    {
      "cell_type": "markdown",
      "metadata": {
        "id": "doPxpXBi0GWx",
        "colab_type": "text"
      },
      "source": [
        "# Found what caused the error \"file is not a database\"... YEAH~!"
      ]
    },
    {
      "cell_type": "code",
      "metadata": {
        "id": "_Ak6zajTf_Jt",
        "colab_type": "code",
        "colab": {}
      },
      "source": [
        "# get sqlite3 file\n",
        "\n",
        "import os\n",
        "os.chdir('/content')\n",
        "print(os.getcwd())\n",
        "\n",
        "# somehow file \"rpg_db.sqlite3\" is only 65.39K (incomplete), file \"rpg_db.sqlite3?raw=true\" is 248K (complete)...\n",
        "# !wget https://github.com/Nov05/DS-Unit-3-Sprint-2-SQL-and-Databases/blob/master/module1-introduction-to-sql/rpg_db.sqlite3\n",
        "# !rm rpg_db.sqlite3 # delete the incomplete file\n",
        "# !mv rpg_db.sqlite3?raw=true rpg_db.sqlite3 # rename the complete file\n",
        "\n",
        "!wget -cO - https://github.com/Nov05/DS-Unit-3-Sprint-2-SQL-and-Databases/blob/master/module1-introduction-to-sql/rpg_db.sqlite3?raw=true > rpg_db.sqlite3"
      ],
      "execution_count": 0,
      "outputs": []
    },
    {
      "cell_type": "code",
      "metadata": {
        "id": "t_yhVlg1oylL",
        "colab_type": "code",
        "outputId": "366b58d6-89c1-4413-c8fa-655d85a6729b",
        "colab": {
          "base_uri": "https://localhost:8080/",
          "height": 702
        }
      },
      "source": [
        "import pandas as pd\n",
        "import sqlite3\n",
        "conn = sqlite3.connect(\"rpg_db.sqlite3\")\n",
        "c = conn.cursor()\n",
        "############################################################\n",
        "# list all tables\n",
        "############################################################\n",
        "c.execute(\"SELECT name FROM sqlite_master WHERE type='table';\")\n",
        "print(c.fetchall())\n",
        "pd.read_sql(\"SELECT name FROM sqlite_master WHERE type='table';\", conn)"
      ],
      "execution_count": 0,
      "outputs": [
        {
          "output_type": "stream",
          "text": [
            "[('django_migrations',), ('sqlite_sequence',), ('auth_group',), ('auth_group_permissions',), ('auth_user_groups',), ('auth_user_user_permissions',), ('django_admin_log',), ('armory_item',), ('armory_weapon',), ('django_content_type',), ('auth_permission',), ('auth_user',), ('charactercreator_character_inventory',), ('charactercreator_necromancer',), ('django_session',), ('charactercreator_character',), ('charactercreator_cleric',), ('charactercreator_fighter',), ('charactercreator_mage',), ('charactercreator_thief',)]\n"
          ],
          "name": "stdout"
        },
        {
          "output_type": "execute_result",
          "data": {
            "text/html": [
              "<div>\n",
              "<style scoped>\n",
              "    .dataframe tbody tr th:only-of-type {\n",
              "        vertical-align: middle;\n",
              "    }\n",
              "\n",
              "    .dataframe tbody tr th {\n",
              "        vertical-align: top;\n",
              "    }\n",
              "\n",
              "    .dataframe thead th {\n",
              "        text-align: right;\n",
              "    }\n",
              "</style>\n",
              "<table border=\"1\" class=\"dataframe\">\n",
              "  <thead>\n",
              "    <tr style=\"text-align: right;\">\n",
              "      <th></th>\n",
              "      <th>name</th>\n",
              "    </tr>\n",
              "  </thead>\n",
              "  <tbody>\n",
              "    <tr>\n",
              "      <th>0</th>\n",
              "      <td>django_migrations</td>\n",
              "    </tr>\n",
              "    <tr>\n",
              "      <th>1</th>\n",
              "      <td>sqlite_sequence</td>\n",
              "    </tr>\n",
              "    <tr>\n",
              "      <th>2</th>\n",
              "      <td>auth_group</td>\n",
              "    </tr>\n",
              "    <tr>\n",
              "      <th>3</th>\n",
              "      <td>auth_group_permissions</td>\n",
              "    </tr>\n",
              "    <tr>\n",
              "      <th>4</th>\n",
              "      <td>auth_user_groups</td>\n",
              "    </tr>\n",
              "    <tr>\n",
              "      <th>5</th>\n",
              "      <td>auth_user_user_permissions</td>\n",
              "    </tr>\n",
              "    <tr>\n",
              "      <th>6</th>\n",
              "      <td>django_admin_log</td>\n",
              "    </tr>\n",
              "    <tr>\n",
              "      <th>7</th>\n",
              "      <td>armory_item</td>\n",
              "    </tr>\n",
              "    <tr>\n",
              "      <th>8</th>\n",
              "      <td>armory_weapon</td>\n",
              "    </tr>\n",
              "    <tr>\n",
              "      <th>9</th>\n",
              "      <td>django_content_type</td>\n",
              "    </tr>\n",
              "    <tr>\n",
              "      <th>10</th>\n",
              "      <td>auth_permission</td>\n",
              "    </tr>\n",
              "    <tr>\n",
              "      <th>11</th>\n",
              "      <td>auth_user</td>\n",
              "    </tr>\n",
              "    <tr>\n",
              "      <th>12</th>\n",
              "      <td>charactercreator_character_inventory</td>\n",
              "    </tr>\n",
              "    <tr>\n",
              "      <th>13</th>\n",
              "      <td>charactercreator_necromancer</td>\n",
              "    </tr>\n",
              "    <tr>\n",
              "      <th>14</th>\n",
              "      <td>django_session</td>\n",
              "    </tr>\n",
              "    <tr>\n",
              "      <th>15</th>\n",
              "      <td>charactercreator_character</td>\n",
              "    </tr>\n",
              "    <tr>\n",
              "      <th>16</th>\n",
              "      <td>charactercreator_cleric</td>\n",
              "    </tr>\n",
              "    <tr>\n",
              "      <th>17</th>\n",
              "      <td>charactercreator_fighter</td>\n",
              "    </tr>\n",
              "    <tr>\n",
              "      <th>18</th>\n",
              "      <td>charactercreator_mage</td>\n",
              "    </tr>\n",
              "    <tr>\n",
              "      <th>19</th>\n",
              "      <td>charactercreator_thief</td>\n",
              "    </tr>\n",
              "  </tbody>\n",
              "</table>\n",
              "</div>"
            ],
            "text/plain": [
              "                                    name\n",
              "0                      django_migrations\n",
              "1                        sqlite_sequence\n",
              "2                             auth_group\n",
              "3                 auth_group_permissions\n",
              "4                       auth_user_groups\n",
              "5             auth_user_user_permissions\n",
              "6                       django_admin_log\n",
              "7                            armory_item\n",
              "8                          armory_weapon\n",
              "9                    django_content_type\n",
              "10                       auth_permission\n",
              "11                             auth_user\n",
              "12  charactercreator_character_inventory\n",
              "13          charactercreator_necromancer\n",
              "14                        django_session\n",
              "15            charactercreator_character\n",
              "16               charactercreator_cleric\n",
              "17              charactercreator_fighter\n",
              "18                 charactercreator_mage\n",
              "19                charactercreator_thief"
            ]
          },
          "metadata": {
            "tags": []
          },
          "execution_count": 15
        }
      ]
    },
    {
      "cell_type": "markdown",
      "metadata": {
        "id": "yrvyy1q6uWkM",
        "colab_type": "text"
      },
      "source": [
        "### Day 1 Assignment Database \"users\""
      ]
    },
    {
      "cell_type": "markdown",
      "metadata": {
        "id": "h1uw9DKB2sRW",
        "colab_type": "text"
      },
      "source": [
        "### SQLite operations"
      ]
    },
    {
      "cell_type": "markdown",
      "metadata": {
        "id": "IRCgHz5puVOM",
        "colab_type": "text"
      },
      "source": [
        "https://github.com/Nov05/DS-Unit-3-Sprint-2-SQL-and-Databases/blob/master/module1-introduction-to-sql/buddymove_holidayiq.csv  "
      ]
    },
    {
      "cell_type": "code",
      "metadata": {
        "id": "2q3ngyRInNSn",
        "colab_type": "code",
        "colab": {}
      },
      "source": [
        "# set current work directory='/content'\n",
        "import os\n",
        "os.chdir('/content')\n",
        "print(os.getcwd())\n",
        "!wget https://raw.githubusercontent.com/Nov05/DS-Unit-3-Sprint-2-SQL-and-Databases/master/module1-introduction-to-sql/buddymove_holidayiq.csv"
      ],
      "execution_count": 0,
      "outputs": []
    },
    {
      "cell_type": "code",
      "metadata": {
        "id": "aJ0XwDWhm0w4",
        "colab_type": "code",
        "outputId": "aa8a785b-9005-4686-f9c1-5b5faeda7d7c",
        "colab": {
          "base_uri": "https://localhost:8080/",
          "height": 152
        }
      },
      "source": [
        "import pandas as pd\n",
        "import sqlite3\n",
        "\n",
        "url = \"https://raw.githubusercontent.com/Nov05/DS-Unit-3-Sprint-2-SQL-and-Databases/master/module1-introduction-to-sql/buddymove_holidayiq.csv\"\n",
        "tname = 'reviews'\n",
        "conn = sqlite3.connect(\":memory:\")\n",
        "\n",
        "df = pd.read_csv(url)\n",
        "df.to_sql(tname, conn, if_exists='append', index=False)\n",
        "\n",
        "c = conn.cursor()\n",
        "\n",
        "# list all tables\n",
        "# DatabaseError: file is not a database\n",
        "c.execute(\"SELECT name FROM sqlite_master WHERE type='table';\")\n",
        "print(c.fetchall())\n",
        "pd.read_sql(\"SELECT name FROM sqlite_master WHERE type='table';\", conn)"
      ],
      "execution_count": 0,
      "outputs": [
        {
          "output_type": "stream",
          "text": [
            "[('reviews',)]\n"
          ],
          "name": "stdout"
        },
        {
          "output_type": "stream",
          "text": [
            "/usr/local/lib/python3.6/dist-packages/pandas/core/generic.py:2531: UserWarning: The spaces in these column names will not be changed. In pandas versions < 0.14, spaces were converted to underscores.\n",
            "  dtype=dtype, method=method)\n"
          ],
          "name": "stderr"
        },
        {
          "output_type": "execute_result",
          "data": {
            "text/html": [
              "<div>\n",
              "<style scoped>\n",
              "    .dataframe tbody tr th:only-of-type {\n",
              "        vertical-align: middle;\n",
              "    }\n",
              "\n",
              "    .dataframe tbody tr th {\n",
              "        vertical-align: top;\n",
              "    }\n",
              "\n",
              "    .dataframe thead th {\n",
              "        text-align: right;\n",
              "    }\n",
              "</style>\n",
              "<table border=\"1\" class=\"dataframe\">\n",
              "  <thead>\n",
              "    <tr style=\"text-align: right;\">\n",
              "      <th></th>\n",
              "      <th>name</th>\n",
              "    </tr>\n",
              "  </thead>\n",
              "  <tbody>\n",
              "    <tr>\n",
              "      <th>0</th>\n",
              "      <td>reviews</td>\n",
              "    </tr>\n",
              "  </tbody>\n",
              "</table>\n",
              "</div>"
            ],
            "text/plain": [
              "      name\n",
              "0  reviews"
            ]
          },
          "metadata": {
            "tags": []
          },
          "execution_count": 24
        }
      ]
    },
    {
      "cell_type": "markdown",
      "metadata": {
        "id": "edrY5y-322Nr",
        "colab_type": "text"
      },
      "source": [
        "### SQLite fetch column information"
      ]
    },
    {
      "cell_type": "code",
      "metadata": {
        "id": "RnEUXC9Epwdu",
        "colab_type": "code",
        "outputId": "f9cdb9d1-b2c4-4d4e-b745-89b8e0fddc89",
        "colab": {
          "base_uri": "https://localhost:8080/",
          "height": 302
        }
      },
      "source": [
        "############################################################\n",
        "# fetch column information\n",
        "############################################################\n",
        "sql = \"PRAGMA table_info(reviews);\"\n",
        "c.execute(sql)\n",
        "print(c.fetchall())\n",
        "pd.read_sql(sql, conn)"
      ],
      "execution_count": 0,
      "outputs": [
        {
          "output_type": "stream",
          "text": [
            "[(0, 'User Id', 'TEXT', 0, None, 0), (1, 'Sports', 'INTEGER', 0, None, 0), (2, 'Religious', 'INTEGER', 0, None, 0), (3, 'Nature', 'INTEGER', 0, None, 0), (4, 'Theatre', 'INTEGER', 0, None, 0), (5, 'Shopping', 'INTEGER', 0, None, 0), (6, 'Picnic', 'INTEGER', 0, None, 0)]\n"
          ],
          "name": "stdout"
        },
        {
          "output_type": "execute_result",
          "data": {
            "text/html": [
              "<div>\n",
              "<style scoped>\n",
              "    .dataframe tbody tr th:only-of-type {\n",
              "        vertical-align: middle;\n",
              "    }\n",
              "\n",
              "    .dataframe tbody tr th {\n",
              "        vertical-align: top;\n",
              "    }\n",
              "\n",
              "    .dataframe thead th {\n",
              "        text-align: right;\n",
              "    }\n",
              "</style>\n",
              "<table border=\"1\" class=\"dataframe\">\n",
              "  <thead>\n",
              "    <tr style=\"text-align: right;\">\n",
              "      <th></th>\n",
              "      <th>cid</th>\n",
              "      <th>name</th>\n",
              "      <th>type</th>\n",
              "      <th>notnull</th>\n",
              "      <th>dflt_value</th>\n",
              "      <th>pk</th>\n",
              "    </tr>\n",
              "  </thead>\n",
              "  <tbody>\n",
              "    <tr>\n",
              "      <th>0</th>\n",
              "      <td>0</td>\n",
              "      <td>User Id</td>\n",
              "      <td>TEXT</td>\n",
              "      <td>0</td>\n",
              "      <td>None</td>\n",
              "      <td>0</td>\n",
              "    </tr>\n",
              "    <tr>\n",
              "      <th>1</th>\n",
              "      <td>1</td>\n",
              "      <td>Sports</td>\n",
              "      <td>INTEGER</td>\n",
              "      <td>0</td>\n",
              "      <td>None</td>\n",
              "      <td>0</td>\n",
              "    </tr>\n",
              "    <tr>\n",
              "      <th>2</th>\n",
              "      <td>2</td>\n",
              "      <td>Religious</td>\n",
              "      <td>INTEGER</td>\n",
              "      <td>0</td>\n",
              "      <td>None</td>\n",
              "      <td>0</td>\n",
              "    </tr>\n",
              "    <tr>\n",
              "      <th>3</th>\n",
              "      <td>3</td>\n",
              "      <td>Nature</td>\n",
              "      <td>INTEGER</td>\n",
              "      <td>0</td>\n",
              "      <td>None</td>\n",
              "      <td>0</td>\n",
              "    </tr>\n",
              "    <tr>\n",
              "      <th>4</th>\n",
              "      <td>4</td>\n",
              "      <td>Theatre</td>\n",
              "      <td>INTEGER</td>\n",
              "      <td>0</td>\n",
              "      <td>None</td>\n",
              "      <td>0</td>\n",
              "    </tr>\n",
              "    <tr>\n",
              "      <th>5</th>\n",
              "      <td>5</td>\n",
              "      <td>Shopping</td>\n",
              "      <td>INTEGER</td>\n",
              "      <td>0</td>\n",
              "      <td>None</td>\n",
              "      <td>0</td>\n",
              "    </tr>\n",
              "    <tr>\n",
              "      <th>6</th>\n",
              "      <td>6</td>\n",
              "      <td>Picnic</td>\n",
              "      <td>INTEGER</td>\n",
              "      <td>0</td>\n",
              "      <td>None</td>\n",
              "      <td>0</td>\n",
              "    </tr>\n",
              "  </tbody>\n",
              "</table>\n",
              "</div>"
            ],
            "text/plain": [
              "   cid       name     type  notnull dflt_value  pk\n",
              "0    0    User Id     TEXT        0       None   0\n",
              "1    1     Sports  INTEGER        0       None   0\n",
              "2    2  Religious  INTEGER        0       None   0\n",
              "3    3     Nature  INTEGER        0       None   0\n",
              "4    4    Theatre  INTEGER        0       None   0\n",
              "5    5   Shopping  INTEGER        0       None   0\n",
              "6    6     Picnic  INTEGER        0       None   0"
            ]
          },
          "metadata": {
            "tags": []
          },
          "execution_count": 25
        }
      ]
    },
    {
      "cell_type": "code",
      "metadata": {
        "id": "sFJBdk2AqXdd",
        "colab_type": "code",
        "outputId": "53b086db-5cbf-4f7c-a4e9-e53e0523144f",
        "colab": {
          "base_uri": "https://localhost:8080/",
          "height": 97
        }
      },
      "source": [
        "sql = \"select count('User Id') from reviews;\"\n",
        "c.execute(sql)\n",
        "print(c.fetchall())\n",
        "pd.read_sql(sql, conn)"
      ],
      "execution_count": 0,
      "outputs": [
        {
          "output_type": "stream",
          "text": [
            "[(249,)]\n"
          ],
          "name": "stdout"
        },
        {
          "output_type": "execute_result",
          "data": {
            "text/html": [
              "<div>\n",
              "<style scoped>\n",
              "    .dataframe tbody tr th:only-of-type {\n",
              "        vertical-align: middle;\n",
              "    }\n",
              "\n",
              "    .dataframe tbody tr th {\n",
              "        vertical-align: top;\n",
              "    }\n",
              "\n",
              "    .dataframe thead th {\n",
              "        text-align: right;\n",
              "    }\n",
              "</style>\n",
              "<table border=\"1\" class=\"dataframe\">\n",
              "  <thead>\n",
              "    <tr style=\"text-align: right;\">\n",
              "      <th></th>\n",
              "      <th>count('User Id')</th>\n",
              "    </tr>\n",
              "  </thead>\n",
              "  <tbody>\n",
              "    <tr>\n",
              "      <th>0</th>\n",
              "      <td>249</td>\n",
              "    </tr>\n",
              "  </tbody>\n",
              "</table>\n",
              "</div>"
            ],
            "text/plain": [
              "   count('User Id')\n",
              "0               249"
            ]
          },
          "metadata": {
            "tags": []
          },
          "execution_count": 26
        }
      ]
    },
    {
      "cell_type": "code",
      "metadata": {
        "id": "jyND_gVYqiH4",
        "colab_type": "code",
        "outputId": "87020b66-f5ce-4ea8-9888-28f87e48fc3a",
        "colab": {
          "base_uri": "https://localhost:8080/",
          "height": 97
        }
      },
      "source": [
        "# SELECT UNIQUE is an Oracle-only SQL statement. \n",
        "# It is equivalent to SELECT DISTINCT.\n",
        "\n",
        "sql = \"select count(distinct Sports) from reviews;\"\n",
        "c.execute(sql)\n",
        "print(c.fetchall())\n",
        "pd.read_sql(sql, conn)"
      ],
      "execution_count": 0,
      "outputs": [
        {
          "output_type": "stream",
          "text": [
            "[(14,)]\n"
          ],
          "name": "stdout"
        },
        {
          "output_type": "execute_result",
          "data": {
            "text/html": [
              "<div>\n",
              "<style scoped>\n",
              "    .dataframe tbody tr th:only-of-type {\n",
              "        vertical-align: middle;\n",
              "    }\n",
              "\n",
              "    .dataframe tbody tr th {\n",
              "        vertical-align: top;\n",
              "    }\n",
              "\n",
              "    .dataframe thead th {\n",
              "        text-align: right;\n",
              "    }\n",
              "</style>\n",
              "<table border=\"1\" class=\"dataframe\">\n",
              "  <thead>\n",
              "    <tr style=\"text-align: right;\">\n",
              "      <th></th>\n",
              "      <th>count(distinct Sports)</th>\n",
              "    </tr>\n",
              "  </thead>\n",
              "  <tbody>\n",
              "    <tr>\n",
              "      <th>0</th>\n",
              "      <td>14</td>\n",
              "    </tr>\n",
              "  </tbody>\n",
              "</table>\n",
              "</div>"
            ],
            "text/plain": [
              "   count(distinct Sports)\n",
              "0                      14"
            ]
          },
          "metadata": {
            "tags": []
          },
          "execution_count": 27
        }
      ]
    },
    {
      "cell_type": "code",
      "metadata": {
        "id": "lhNfXXydu_2B",
        "colab_type": "code",
        "outputId": "5327ebee-6774-4246-92c2-cc21dfa23d02",
        "colab": {
          "base_uri": "https://localhost:8080/",
          "height": 97
        }
      },
      "source": [
        "# How many users who reviewed at least 100 Nature in the category \n",
        "# also reviewed at least 100 in the Shopping category?\n",
        "\n",
        "sql = \"select count(*) from reviews where Nature >= 100;\"\n",
        "c.execute(sql)\n",
        "print(c.fetchall())\n",
        "pd.read_sql(sql, conn)"
      ],
      "execution_count": 0,
      "outputs": [
        {
          "output_type": "stream",
          "text": [
            "[(160,)]\n"
          ],
          "name": "stdout"
        },
        {
          "output_type": "execute_result",
          "data": {
            "text/html": [
              "<div>\n",
              "<style scoped>\n",
              "    .dataframe tbody tr th:only-of-type {\n",
              "        vertical-align: middle;\n",
              "    }\n",
              "\n",
              "    .dataframe tbody tr th {\n",
              "        vertical-align: top;\n",
              "    }\n",
              "\n",
              "    .dataframe thead th {\n",
              "        text-align: right;\n",
              "    }\n",
              "</style>\n",
              "<table border=\"1\" class=\"dataframe\">\n",
              "  <thead>\n",
              "    <tr style=\"text-align: right;\">\n",
              "      <th></th>\n",
              "      <th>count(*)</th>\n",
              "    </tr>\n",
              "  </thead>\n",
              "  <tbody>\n",
              "    <tr>\n",
              "      <th>0</th>\n",
              "      <td>160</td>\n",
              "    </tr>\n",
              "  </tbody>\n",
              "</table>\n",
              "</div>"
            ],
            "text/plain": [
              "   count(*)\n",
              "0       160"
            ]
          },
          "metadata": {
            "tags": []
          },
          "execution_count": 28
        }
      ]
    },
    {
      "cell_type": "code",
      "metadata": {
        "id": "myjgYhwpaXZo",
        "colab_type": "code",
        "outputId": "2779e041-be04-4547-f987-4f19be1ddac2",
        "colab": {
          "base_uri": "https://localhost:8080/",
          "height": 97
        }
      },
      "source": [
        "# (Stretch) What are the average number of reviews for each category?\n",
        "\n",
        "sql = \"select avg(Sports), avg(Religious) from reviews;\"\n",
        "c.execute(sql)\n",
        "print(c.fetchall())\n",
        "pd.read_sql(sql, conn)"
      ],
      "execution_count": 0,
      "outputs": [
        {
          "output_type": "stream",
          "text": [
            "[(11.987951807228916, 109.77911646586345)]\n"
          ],
          "name": "stdout"
        },
        {
          "output_type": "execute_result",
          "data": {
            "text/html": [
              "<div>\n",
              "<style scoped>\n",
              "    .dataframe tbody tr th:only-of-type {\n",
              "        vertical-align: middle;\n",
              "    }\n",
              "\n",
              "    .dataframe tbody tr th {\n",
              "        vertical-align: top;\n",
              "    }\n",
              "\n",
              "    .dataframe thead th {\n",
              "        text-align: right;\n",
              "    }\n",
              "</style>\n",
              "<table border=\"1\" class=\"dataframe\">\n",
              "  <thead>\n",
              "    <tr style=\"text-align: right;\">\n",
              "      <th></th>\n",
              "      <th>avg(Sports)</th>\n",
              "      <th>avg(Religious)</th>\n",
              "    </tr>\n",
              "  </thead>\n",
              "  <tbody>\n",
              "    <tr>\n",
              "      <th>0</th>\n",
              "      <td>11.987952</td>\n",
              "      <td>109.779116</td>\n",
              "    </tr>\n",
              "  </tbody>\n",
              "</table>\n",
              "</div>"
            ],
            "text/plain": [
              "   avg(Sports)  avg(Religious)\n",
              "0    11.987952      109.779116"
            ]
          },
          "metadata": {
            "tags": []
          },
          "execution_count": 29
        }
      ]
    },
    {
      "cell_type": "markdown",
      "metadata": {
        "id": "SUc9fOIq3Cli",
        "colab_type": "text"
      },
      "source": [
        "### SQLite get column names"
      ]
    },
    {
      "cell_type": "markdown",
      "metadata": {
        "id": "BKIR2uDdPt8J",
        "colab_type": "text"
      },
      "source": [
        "https://sqlite.org/pragma.html  "
      ]
    },
    {
      "cell_type": "code",
      "metadata": {
        "id": "Mtnaq0sscdja",
        "colab_type": "code",
        "outputId": "76c338d6-ae41-4a27-dc14-23e6ca8bfcfc",
        "colab": {
          "base_uri": "https://localhost:8080/",
          "height": 282
        }
      },
      "source": [
        "sql = \"\"\"select name from PRAGMA_TABLE_INFO('reviews');\"\"\"\n",
        "c.execute(sql)\n",
        "print(c.fetchall())\n",
        "df = pd.read_sql(sql, conn)\n",
        "df"
      ],
      "execution_count": 0,
      "outputs": [
        {
          "output_type": "stream",
          "text": [
            "[('User Id',), ('Sports',), ('Religious',), ('Nature',), ('Theatre',), ('Shopping',), ('Picnic',)]\n"
          ],
          "name": "stdout"
        },
        {
          "output_type": "execute_result",
          "data": {
            "text/html": [
              "<div>\n",
              "<style scoped>\n",
              "    .dataframe tbody tr th:only-of-type {\n",
              "        vertical-align: middle;\n",
              "    }\n",
              "\n",
              "    .dataframe tbody tr th {\n",
              "        vertical-align: top;\n",
              "    }\n",
              "\n",
              "    .dataframe thead th {\n",
              "        text-align: right;\n",
              "    }\n",
              "</style>\n",
              "<table border=\"1\" class=\"dataframe\">\n",
              "  <thead>\n",
              "    <tr style=\"text-align: right;\">\n",
              "      <th></th>\n",
              "      <th>name</th>\n",
              "    </tr>\n",
              "  </thead>\n",
              "  <tbody>\n",
              "    <tr>\n",
              "      <th>0</th>\n",
              "      <td>User Id</td>\n",
              "    </tr>\n",
              "    <tr>\n",
              "      <th>1</th>\n",
              "      <td>Sports</td>\n",
              "    </tr>\n",
              "    <tr>\n",
              "      <th>2</th>\n",
              "      <td>Religious</td>\n",
              "    </tr>\n",
              "    <tr>\n",
              "      <th>3</th>\n",
              "      <td>Nature</td>\n",
              "    </tr>\n",
              "    <tr>\n",
              "      <th>4</th>\n",
              "      <td>Theatre</td>\n",
              "    </tr>\n",
              "    <tr>\n",
              "      <th>5</th>\n",
              "      <td>Shopping</td>\n",
              "    </tr>\n",
              "    <tr>\n",
              "      <th>6</th>\n",
              "      <td>Picnic</td>\n",
              "    </tr>\n",
              "  </tbody>\n",
              "</table>\n",
              "</div>"
            ],
            "text/plain": [
              "        name\n",
              "0    User Id\n",
              "1     Sports\n",
              "2  Religious\n",
              "3     Nature\n",
              "4    Theatre\n",
              "5   Shopping\n",
              "6     Picnic"
            ]
          },
          "metadata": {
            "tags": []
          },
          "execution_count": 55
        }
      ]
    },
    {
      "cell_type": "markdown",
      "metadata": {
        "id": "SNFMOvgJS19e",
        "colab_type": "text"
      },
      "source": [
        "# Week 11 Day 2   \n",
        "\n",
        "1. ElephantSQL database operation   \n",
        "2. migrate database from SQLite to ElephantSQL   \n",
        "3. simply verify the migration   \n",
        "\n",
        "Lecture Notebook     \n",
        "https://colab.research.google.com/drive/1IdP7r8Q4MNtykXPvqrJv84C-jKuOx3zE#scrollTo=JuaEJN3sDpdD    "
      ]
    },
    {
      "cell_type": "code",
      "metadata": {
        "id": "RIukmGKtY2x6",
        "colab_type": "code",
        "colab": {}
      },
      "source": [
        "!pip install psycopg2-binary\n",
        "import psycopg2\n",
        "print(psycopg2.__version__) # 2.8.3 (dt dec pq3 ext lo64)\n",
        "\n",
        "path = \"/content/drive/My Drive/config/elephantsql\"\n",
        "f = open(path, \"r\")\n",
        "dbname = f.readline().strip()\n",
        "user = f.readline().strip()\n",
        "password = f.readline().strip()\n",
        "host = f.readline().strip()\n",
        "f.close()\n",
        "\n",
        "pg_conn = psycopg2.connect(dbname=dbname, \n",
        "                           user=user,\n",
        "                           password=password, \n",
        "                           host=host)\n",
        "pg_curs = pg_conn.cursor()"
      ],
      "execution_count": 0,
      "outputs": []
    },
    {
      "cell_type": "code",
      "metadata": {
        "id": "lICTzvcQdND1",
        "colab_type": "code",
        "outputId": "1d9ab4dd-c1a4-48ac-c437-9d1b9bbba2e5",
        "colab": {
          "base_uri": "https://localhost:8080/",
          "height": 634
        }
      },
      "source": [
        "import pandas as pd\n",
        "sql = (\n",
        "\"\"\"\n",
        "SELECT *\n",
        "  FROM pg_catalog.pg_tables\n",
        " WHERE schemaname != 'pg_catalog'\n",
        "   AND schemaname != 'information_schema';\n",
        "\"\"\"\n",
        ")\n",
        "pd.read_sql(sql, pg_conn)"
      ],
      "execution_count": 0,
      "outputs": [
        {
          "output_type": "execute_result",
          "data": {
            "text/html": [
              "<div>\n",
              "<style scoped>\n",
              "    .dataframe tbody tr th:only-of-type {\n",
              "        vertical-align: middle;\n",
              "    }\n",
              "\n",
              "    .dataframe tbody tr th {\n",
              "        vertical-align: top;\n",
              "    }\n",
              "\n",
              "    .dataframe thead th {\n",
              "        text-align: right;\n",
              "    }\n",
              "</style>\n",
              "<table border=\"1\" class=\"dataframe\">\n",
              "  <thead>\n",
              "    <tr style=\"text-align: right;\">\n",
              "      <th></th>\n",
              "      <th>schemaname</th>\n",
              "      <th>tablename</th>\n",
              "      <th>tableowner</th>\n",
              "      <th>tablespace</th>\n",
              "      <th>hasindexes</th>\n",
              "      <th>hasrules</th>\n",
              "      <th>hastriggers</th>\n",
              "      <th>rowsecurity</th>\n",
              "    </tr>\n",
              "  </thead>\n",
              "  <tbody>\n",
              "    <tr>\n",
              "      <th>0</th>\n",
              "      <td>public</td>\n",
              "      <td>charactercreator_character</td>\n",
              "      <td>rybvmysr</td>\n",
              "      <td>None</td>\n",
              "      <td>True</td>\n",
              "      <td>False</td>\n",
              "      <td>True</td>\n",
              "      <td>False</td>\n",
              "    </tr>\n",
              "    <tr>\n",
              "      <th>1</th>\n",
              "      <td>public</td>\n",
              "      <td>charactercreator_thief</td>\n",
              "      <td>rybvmysr</td>\n",
              "      <td>None</td>\n",
              "      <td>True</td>\n",
              "      <td>False</td>\n",
              "      <td>True</td>\n",
              "      <td>False</td>\n",
              "    </tr>\n",
              "    <tr>\n",
              "      <th>2</th>\n",
              "      <td>public</td>\n",
              "      <td>charactercreator_mage</td>\n",
              "      <td>rybvmysr</td>\n",
              "      <td>None</td>\n",
              "      <td>True</td>\n",
              "      <td>False</td>\n",
              "      <td>True</td>\n",
              "      <td>False</td>\n",
              "    </tr>\n",
              "    <tr>\n",
              "      <th>3</th>\n",
              "      <td>public</td>\n",
              "      <td>charactercreator_fighter</td>\n",
              "      <td>rybvmysr</td>\n",
              "      <td>None</td>\n",
              "      <td>True</td>\n",
              "      <td>False</td>\n",
              "      <td>True</td>\n",
              "      <td>False</td>\n",
              "    </tr>\n",
              "    <tr>\n",
              "      <th>4</th>\n",
              "      <td>public</td>\n",
              "      <td>charactercreator_cleric</td>\n",
              "      <td>rybvmysr</td>\n",
              "      <td>None</td>\n",
              "      <td>True</td>\n",
              "      <td>False</td>\n",
              "      <td>True</td>\n",
              "      <td>False</td>\n",
              "    </tr>\n",
              "    <tr>\n",
              "      <th>5</th>\n",
              "      <td>public</td>\n",
              "      <td>django_session</td>\n",
              "      <td>rybvmysr</td>\n",
              "      <td>None</td>\n",
              "      <td>True</td>\n",
              "      <td>False</td>\n",
              "      <td>False</td>\n",
              "      <td>False</td>\n",
              "    </tr>\n",
              "    <tr>\n",
              "      <th>6</th>\n",
              "      <td>public</td>\n",
              "      <td>charactercreator_necromancer</td>\n",
              "      <td>rybvmysr</td>\n",
              "      <td>None</td>\n",
              "      <td>True</td>\n",
              "      <td>False</td>\n",
              "      <td>True</td>\n",
              "      <td>False</td>\n",
              "    </tr>\n",
              "    <tr>\n",
              "      <th>7</th>\n",
              "      <td>public</td>\n",
              "      <td>charactercreator_character_inventory</td>\n",
              "      <td>rybvmysr</td>\n",
              "      <td>None</td>\n",
              "      <td>True</td>\n",
              "      <td>False</td>\n",
              "      <td>True</td>\n",
              "      <td>False</td>\n",
              "    </tr>\n",
              "    <tr>\n",
              "      <th>8</th>\n",
              "      <td>public</td>\n",
              "      <td>armory_item</td>\n",
              "      <td>rybvmysr</td>\n",
              "      <td>None</td>\n",
              "      <td>True</td>\n",
              "      <td>False</td>\n",
              "      <td>True</td>\n",
              "      <td>False</td>\n",
              "    </tr>\n",
              "    <tr>\n",
              "      <th>9</th>\n",
              "      <td>public</td>\n",
              "      <td>django_content_type</td>\n",
              "      <td>rybvmysr</td>\n",
              "      <td>None</td>\n",
              "      <td>True</td>\n",
              "      <td>False</td>\n",
              "      <td>True</td>\n",
              "      <td>False</td>\n",
              "    </tr>\n",
              "    <tr>\n",
              "      <th>10</th>\n",
              "      <td>public</td>\n",
              "      <td>auth_permission</td>\n",
              "      <td>rybvmysr</td>\n",
              "      <td>None</td>\n",
              "      <td>True</td>\n",
              "      <td>False</td>\n",
              "      <td>True</td>\n",
              "      <td>False</td>\n",
              "    </tr>\n",
              "    <tr>\n",
              "      <th>11</th>\n",
              "      <td>public</td>\n",
              "      <td>armory_weapon</td>\n",
              "      <td>rybvmysr</td>\n",
              "      <td>None</td>\n",
              "      <td>True</td>\n",
              "      <td>False</td>\n",
              "      <td>True</td>\n",
              "      <td>False</td>\n",
              "    </tr>\n",
              "    <tr>\n",
              "      <th>12</th>\n",
              "      <td>public</td>\n",
              "      <td>django_admin_log</td>\n",
              "      <td>rybvmysr</td>\n",
              "      <td>None</td>\n",
              "      <td>True</td>\n",
              "      <td>False</td>\n",
              "      <td>True</td>\n",
              "      <td>False</td>\n",
              "    </tr>\n",
              "    <tr>\n",
              "      <th>13</th>\n",
              "      <td>public</td>\n",
              "      <td>auth_user</td>\n",
              "      <td>rybvmysr</td>\n",
              "      <td>None</td>\n",
              "      <td>True</td>\n",
              "      <td>False</td>\n",
              "      <td>True</td>\n",
              "      <td>False</td>\n",
              "    </tr>\n",
              "    <tr>\n",
              "      <th>14</th>\n",
              "      <td>public</td>\n",
              "      <td>auth_user_user_permissions</td>\n",
              "      <td>rybvmysr</td>\n",
              "      <td>None</td>\n",
              "      <td>True</td>\n",
              "      <td>False</td>\n",
              "      <td>True</td>\n",
              "      <td>False</td>\n",
              "    </tr>\n",
              "    <tr>\n",
              "      <th>15</th>\n",
              "      <td>public</td>\n",
              "      <td>auth_group</td>\n",
              "      <td>rybvmysr</td>\n",
              "      <td>None</td>\n",
              "      <td>True</td>\n",
              "      <td>False</td>\n",
              "      <td>True</td>\n",
              "      <td>False</td>\n",
              "    </tr>\n",
              "    <tr>\n",
              "      <th>16</th>\n",
              "      <td>public</td>\n",
              "      <td>auth_user_groups</td>\n",
              "      <td>rybvmysr</td>\n",
              "      <td>None</td>\n",
              "      <td>True</td>\n",
              "      <td>False</td>\n",
              "      <td>True</td>\n",
              "      <td>False</td>\n",
              "    </tr>\n",
              "    <tr>\n",
              "      <th>17</th>\n",
              "      <td>public</td>\n",
              "      <td>auth_group_permissions</td>\n",
              "      <td>rybvmysr</td>\n",
              "      <td>None</td>\n",
              "      <td>True</td>\n",
              "      <td>False</td>\n",
              "      <td>True</td>\n",
              "      <td>False</td>\n",
              "    </tr>\n",
              "    <tr>\n",
              "      <th>18</th>\n",
              "      <td>public</td>\n",
              "      <td>django_migrations</td>\n",
              "      <td>rybvmysr</td>\n",
              "      <td>None</td>\n",
              "      <td>True</td>\n",
              "      <td>False</td>\n",
              "      <td>False</td>\n",
              "      <td>False</td>\n",
              "    </tr>\n",
              "  </tbody>\n",
              "</table>\n",
              "</div>"
            ],
            "text/plain": [
              "   schemaname                             tablename  ... hastriggers rowsecurity\n",
              "0      public            charactercreator_character  ...        True       False\n",
              "1      public                charactercreator_thief  ...        True       False\n",
              "2      public                 charactercreator_mage  ...        True       False\n",
              "3      public              charactercreator_fighter  ...        True       False\n",
              "4      public               charactercreator_cleric  ...        True       False\n",
              "5      public                        django_session  ...       False       False\n",
              "6      public          charactercreator_necromancer  ...        True       False\n",
              "7      public  charactercreator_character_inventory  ...        True       False\n",
              "8      public                           armory_item  ...        True       False\n",
              "9      public                   django_content_type  ...        True       False\n",
              "10     public                       auth_permission  ...        True       False\n",
              "11     public                         armory_weapon  ...        True       False\n",
              "12     public                      django_admin_log  ...        True       False\n",
              "13     public                             auth_user  ...        True       False\n",
              "14     public            auth_user_user_permissions  ...        True       False\n",
              "15     public                            auth_group  ...        True       False\n",
              "16     public                      auth_user_groups  ...        True       False\n",
              "17     public                auth_group_permissions  ...        True       False\n",
              "18     public                     django_migrations  ...       False       False\n",
              "\n",
              "[19 rows x 8 columns]"
            ]
          },
          "metadata": {
            "tags": []
          },
          "execution_count": 5
        }
      ]
    },
    {
      "cell_type": "markdown",
      "metadata": {
        "id": "4UVNbQfMeMyu",
        "colab_type": "text"
      },
      "source": [
        "### Migrating a SQLite database to PostgreSQL (ElephantSQL)\n",
        "\n",
        "`rpg_db.sqlite3` to `ElephantSQL` database migration succeeded.  \n",
        "1. in SQLite DB Browser -> file -> export -> database to SQL file    \n",
        "this is the modified SQL file:     \n",
        "https://github.com/Nov05/DS-Unit-3-Sprint-2-SQL-and-Databases/blob/master/module2-sql-for-analysis/rpg_db.sqlite3.sql  \n",
        "2. modify the SQL file   \n",
        "https://colab.research.google.com/drive/1PGWzAei1uoLFWyMPZgVNbtB8ao9VNy7J  \n",
        "* fix some primary keys \n",
        "* adjust table creation SQL sequence\n",
        "* cast `Boolean`  to  `integer` / `datetime`  to  `timestamptz`\n",
        "* separate index creation from the table creation and data insertion transaction... )  \n",
        "3. execute the SQL file in `ElephantSQL`  \n",
        "https://pgloader.readthedocs.io/en/latest/ref/sqlite.html  \n",
        "\n",
        "<img src=\"https://github.com/Nov05/pictures/blob/master/pic001/2019-08-13%2017_20_54-DB%20Browser%20for%20SQLite%20-%20D__SQLiteDatabaseBrowserPortable_Data_rpg_db.sqlite3.png?raw=True\" width=\"400\"><img src=\"https://github.com/Nov05/pictures/blob/master/pic001/2019-08-13%2018_50_43-ElephantSQL%20Console%20DS5.png?raw=True\" width=\"600\">"
      ]
    },
    {
      "cell_type": "markdown",
      "metadata": {
        "id": "NeBEqkwWo3IV",
        "colab_type": "text"
      },
      "source": [
        "### Verify migration"
      ]
    },
    {
      "cell_type": "code",
      "metadata": {
        "id": "Z711lhsDo61L",
        "colab_type": "code",
        "colab": {}
      },
      "source": [
        "# get sqlite3 file\n",
        "import os\n",
        "os.chdir('/content')\n",
        "!wget -cO - https://github.com/Nov05/DS-Unit-3-Sprint-2-SQL-and-Databases/blob/master/module1-introduction-to-sql/rpg_db.sqlite3?raw=true > rpg_db.sqlite3"
      ],
      "execution_count": 0,
      "outputs": []
    },
    {
      "cell_type": "code",
      "metadata": {
        "id": "QjAZxkINp5EY",
        "colab_type": "code",
        "outputId": "8a249a45-6ee5-4ed0-8b96-64e0ee6921d4",
        "colab": {
          "base_uri": "https://localhost:8080/",
          "height": 665
        }
      },
      "source": [
        "import sqlite3\n",
        "sl_conn = sqlite3.connect(\"rpg_db.sqlite3\")\n",
        "sl_curs = sl_conn.cursor()\n",
        "############################################################\n",
        "# list all tables in SQLite\n",
        "############################################################\n",
        "tablenames = pd.read_sql(\"SELECT name FROM sqlite_master WHERE type='table';\", sl_conn)\n",
        "tablenames"
      ],
      "execution_count": 0,
      "outputs": [
        {
          "output_type": "execute_result",
          "data": {
            "text/html": [
              "<div>\n",
              "<style scoped>\n",
              "    .dataframe tbody tr th:only-of-type {\n",
              "        vertical-align: middle;\n",
              "    }\n",
              "\n",
              "    .dataframe tbody tr th {\n",
              "        vertical-align: top;\n",
              "    }\n",
              "\n",
              "    .dataframe thead th {\n",
              "        text-align: right;\n",
              "    }\n",
              "</style>\n",
              "<table border=\"1\" class=\"dataframe\">\n",
              "  <thead>\n",
              "    <tr style=\"text-align: right;\">\n",
              "      <th></th>\n",
              "      <th>name</th>\n",
              "    </tr>\n",
              "  </thead>\n",
              "  <tbody>\n",
              "    <tr>\n",
              "      <th>0</th>\n",
              "      <td>django_migrations</td>\n",
              "    </tr>\n",
              "    <tr>\n",
              "      <th>1</th>\n",
              "      <td>sqlite_sequence</td>\n",
              "    </tr>\n",
              "    <tr>\n",
              "      <th>2</th>\n",
              "      <td>auth_group</td>\n",
              "    </tr>\n",
              "    <tr>\n",
              "      <th>3</th>\n",
              "      <td>auth_group_permissions</td>\n",
              "    </tr>\n",
              "    <tr>\n",
              "      <th>4</th>\n",
              "      <td>auth_user_groups</td>\n",
              "    </tr>\n",
              "    <tr>\n",
              "      <th>5</th>\n",
              "      <td>auth_user_user_permissions</td>\n",
              "    </tr>\n",
              "    <tr>\n",
              "      <th>6</th>\n",
              "      <td>django_admin_log</td>\n",
              "    </tr>\n",
              "    <tr>\n",
              "      <th>7</th>\n",
              "      <td>armory_item</td>\n",
              "    </tr>\n",
              "    <tr>\n",
              "      <th>8</th>\n",
              "      <td>armory_weapon</td>\n",
              "    </tr>\n",
              "    <tr>\n",
              "      <th>9</th>\n",
              "      <td>django_content_type</td>\n",
              "    </tr>\n",
              "    <tr>\n",
              "      <th>10</th>\n",
              "      <td>auth_permission</td>\n",
              "    </tr>\n",
              "    <tr>\n",
              "      <th>11</th>\n",
              "      <td>auth_user</td>\n",
              "    </tr>\n",
              "    <tr>\n",
              "      <th>12</th>\n",
              "      <td>charactercreator_character_inventory</td>\n",
              "    </tr>\n",
              "    <tr>\n",
              "      <th>13</th>\n",
              "      <td>charactercreator_necromancer</td>\n",
              "    </tr>\n",
              "    <tr>\n",
              "      <th>14</th>\n",
              "      <td>django_session</td>\n",
              "    </tr>\n",
              "    <tr>\n",
              "      <th>15</th>\n",
              "      <td>charactercreator_character</td>\n",
              "    </tr>\n",
              "    <tr>\n",
              "      <th>16</th>\n",
              "      <td>charactercreator_cleric</td>\n",
              "    </tr>\n",
              "    <tr>\n",
              "      <th>17</th>\n",
              "      <td>charactercreator_fighter</td>\n",
              "    </tr>\n",
              "    <tr>\n",
              "      <th>18</th>\n",
              "      <td>charactercreator_mage</td>\n",
              "    </tr>\n",
              "    <tr>\n",
              "      <th>19</th>\n",
              "      <td>charactercreator_thief</td>\n",
              "    </tr>\n",
              "  </tbody>\n",
              "</table>\n",
              "</div>"
            ],
            "text/plain": [
              "                                    name\n",
              "0                      django_migrations\n",
              "1                        sqlite_sequence\n",
              "2                             auth_group\n",
              "3                 auth_group_permissions\n",
              "4                       auth_user_groups\n",
              "5             auth_user_user_permissions\n",
              "6                       django_admin_log\n",
              "7                            armory_item\n",
              "8                          armory_weapon\n",
              "9                    django_content_type\n",
              "10                       auth_permission\n",
              "11                             auth_user\n",
              "12  charactercreator_character_inventory\n",
              "13          charactercreator_necromancer\n",
              "14                        django_session\n",
              "15            charactercreator_character\n",
              "16               charactercreator_cleric\n",
              "17              charactercreator_fighter\n",
              "18                 charactercreator_mage\n",
              "19                charactercreator_thief"
            ]
          },
          "metadata": {
            "tags": []
          },
          "execution_count": 7
        }
      ]
    },
    {
      "cell_type": "code",
      "metadata": {
        "id": "J8qinUQsqOHe",
        "colab_type": "code",
        "outputId": "40de765c-e503-4210-cfee-eb88f938ca58",
        "colab": {
          "base_uri": "https://localhost:8080/",
          "height": 90
        }
      },
      "source": [
        "# test SQL\n",
        "for t in tablenames.name:\n",
        "    print(t)\n",
        "    sql = \"select * from \" + t\n",
        "    sl_curs.execute(sql)\n",
        "    print(sl_curs.fetchall())  \n",
        "    pg_curs.execute(sql)\n",
        "    print(pg_curs.fetchall())\n",
        "    break"
      ],
      "execution_count": 0,
      "outputs": [
        {
          "output_type": "stream",
          "text": [
            "django_migrations\n",
            "[(1, 'contenttypes', '0001_initial', '2018-03-08 18:37:26.825261'), (2, 'auth', '0001_initial', '2018-03-08 18:37:26.877483'), (3, 'admin', '0001_initial', '2018-03-08 18:37:26.927042'), (4, 'admin', '0002_logentry_remove_auto_add', '2018-03-08 18:37:26.979134'), (5, 'armory', '0001_initial', '2018-03-08 18:37:27.016837'), (6, 'contenttypes', '0002_remove_content_type_name', '2018-03-08 18:37:27.100113'), (7, 'auth', '0002_alter_permission_name_max_length', '2018-03-08 18:37:27.137293'), (8, 'auth', '0003_alter_user_email_max_length', '2018-03-08 18:37:27.182475'), (9, 'auth', '0004_alter_user_username_opts', '2018-03-08 18:37:27.218345'), (10, 'auth', '0005_alter_user_last_login_null', '2018-03-08 18:37:27.252596'), (11, 'auth', '0006_require_contenttypes_0002', '2018-03-08 18:37:27.268798'), (12, 'auth', '0007_alter_validators_add_error_messages', '2018-03-08 18:37:27.310658'), (13, 'auth', '0008_alter_user_username_max_length', '2018-03-08 18:37:27.351736'), (14, 'auth', '0009_alter_user_last_name_max_length', '2018-03-08 18:37:27.387834'), (15, 'charactercreator', '0001_initial', '2018-03-08 18:37:27.446623'), (16, 'sessions', '0001_initial', '2018-03-08 18:37:27.464752'), (17, 'charactercreator', '0002_auto_20180308_2015', '2018-03-08 20:15:55.854748')]\n",
            "[(1, 'contenttypes', '0001_initial', datetime.datetime(2018, 3, 8, 18, 37, 26, 825261, tzinfo=psycopg2.tz.FixedOffsetTimezone(offset=0, name=None))), (2, 'auth', '0001_initial', datetime.datetime(2018, 3, 8, 18, 37, 26, 877483, tzinfo=psycopg2.tz.FixedOffsetTimezone(offset=0, name=None))), (3, 'admin', '0001_initial', datetime.datetime(2018, 3, 8, 18, 37, 26, 927042, tzinfo=psycopg2.tz.FixedOffsetTimezone(offset=0, name=None))), (4, 'admin', '0002_logentry_remove_auto_add', datetime.datetime(2018, 3, 8, 18, 37, 26, 979134, tzinfo=psycopg2.tz.FixedOffsetTimezone(offset=0, name=None))), (5, 'armory', '0001_initial', datetime.datetime(2018, 3, 8, 18, 37, 27, 16837, tzinfo=psycopg2.tz.FixedOffsetTimezone(offset=0, name=None))), (6, 'contenttypes', '0002_remove_content_type_name', datetime.datetime(2018, 3, 8, 18, 37, 27, 100113, tzinfo=psycopg2.tz.FixedOffsetTimezone(offset=0, name=None))), (7, 'auth', '0002_alter_permission_name_max_length', datetime.datetime(2018, 3, 8, 18, 37, 27, 137293, tzinfo=psycopg2.tz.FixedOffsetTimezone(offset=0, name=None))), (8, 'auth', '0003_alter_user_email_max_length', datetime.datetime(2018, 3, 8, 18, 37, 27, 182475, tzinfo=psycopg2.tz.FixedOffsetTimezone(offset=0, name=None))), (9, 'auth', '0004_alter_user_username_opts', datetime.datetime(2018, 3, 8, 18, 37, 27, 218345, tzinfo=psycopg2.tz.FixedOffsetTimezone(offset=0, name=None))), (10, 'auth', '0005_alter_user_last_login_null', datetime.datetime(2018, 3, 8, 18, 37, 27, 252596, tzinfo=psycopg2.tz.FixedOffsetTimezone(offset=0, name=None))), (11, 'auth', '0006_require_contenttypes_0002', datetime.datetime(2018, 3, 8, 18, 37, 27, 268798, tzinfo=psycopg2.tz.FixedOffsetTimezone(offset=0, name=None))), (12, 'auth', '0007_alter_validators_add_error_messages', datetime.datetime(2018, 3, 8, 18, 37, 27, 310658, tzinfo=psycopg2.tz.FixedOffsetTimezone(offset=0, name=None))), (13, 'auth', '0008_alter_user_username_max_length', datetime.datetime(2018, 3, 8, 18, 37, 27, 351736, tzinfo=psycopg2.tz.FixedOffsetTimezone(offset=0, name=None))), (14, 'auth', '0009_alter_user_last_name_max_length', datetime.datetime(2018, 3, 8, 18, 37, 27, 387834, tzinfo=psycopg2.tz.FixedOffsetTimezone(offset=0, name=None))), (15, 'charactercreator', '0001_initial', datetime.datetime(2018, 3, 8, 18, 37, 27, 446623, tzinfo=psycopg2.tz.FixedOffsetTimezone(offset=0, name=None))), (16, 'sessions', '0001_initial', datetime.datetime(2018, 3, 8, 18, 37, 27, 464752, tzinfo=psycopg2.tz.FixedOffsetTimezone(offset=0, name=None))), (17, 'charactercreator', '0002_auto_20180308_2015', datetime.datetime(2018, 3, 8, 20, 15, 55, 854748, tzinfo=psycopg2.tz.FixedOffsetTimezone(offset=0, name=None)))]\n"
          ],
          "name": "stdout"
        }
      ]
    },
    {
      "cell_type": "code",
      "metadata": {
        "id": "jwsM_goCrEgh",
        "colab_type": "code",
        "outputId": "b004756e-ea72-4f8f-addb-e00133beba0a",
        "colab": {
          "base_uri": "https://localhost:8080/",
          "height": 351
        }
      },
      "source": [
        "############################################################\n",
        "# Migrated tables have same rows and cols\n",
        "############################################################\n",
        "tnames = tablenames.name.to_list()\n",
        "tnames.remove(\"sqlite_sequence\")\n",
        "for t in tnames:\n",
        "    print(t)\n",
        "    sql = \"select count(*) from {};\".format(t)\n",
        "    sl_curs.execute(sql)\n",
        "    pg_curs.execute(sql)\n",
        "    assert sl_curs.fetchall() == pg_curs.fetchall()\n",
        "    \n",
        "    sql = \"select count(*) from PRAGMA_TABLE_INFO('{}');\\\n",
        "    \".format(t)\n",
        "    sl_curs.execute(sql)\n",
        "    sql = \"\"\"\n",
        "    SELECT count(*)\n",
        "      FROM information_schema.COLUMNS \n",
        "     WHERE TABLE_NAME = '{}';\n",
        "    \"\"\".format(t)\n",
        "    pg_curs.execute(sql)\n",
        "    assert sl_curs.fetchall() == pg_curs.fetchall()"
      ],
      "execution_count": 0,
      "outputs": [
        {
          "output_type": "stream",
          "text": [
            "django_migrations\n",
            "auth_group\n",
            "auth_group_permissions\n",
            "auth_user_groups\n",
            "auth_user_user_permissions\n",
            "django_admin_log\n",
            "armory_item\n",
            "armory_weapon\n",
            "django_content_type\n",
            "auth_permission\n",
            "auth_user\n",
            "charactercreator_character_inventory\n",
            "charactercreator_necromancer\n",
            "django_session\n",
            "charactercreator_character\n",
            "charactercreator_cleric\n",
            "charactercreator_fighter\n",
            "charactercreator_mage\n",
            "charactercreator_thief\n"
          ],
          "name": "stdout"
        }
      ]
    },
    {
      "cell_type": "code",
      "metadata": {
        "id": "Y0KvcowzixKU",
        "colab_type": "code",
        "outputId": "ce5185a6-bf0b-4b27-fb50-291ff491c25e",
        "colab": {
          "base_uri": "https://localhost:8080/",
          "height": 159
        }
      },
      "source": [
        "############################################################\n",
        "# example code block - get column names\n",
        "############################################################\n",
        "print('table:', t)\n",
        "sql = \"select name from PRAGMA_TABLE_INFO('{}');\".format(t)\n",
        "df_sl = pd.read_sql(sql, sl_conn)\n",
        "\n",
        "sql = \"\"\"\n",
        "SELECT column_name \n",
        "  FROM information_schema.COLUMNS \n",
        " WHERE TABLE_NAME = '{}';\n",
        "\"\"\".format(t)\n",
        "df_pg = pd.read_sql(sql, pg_conn)\n",
        "\n",
        "pd.concat([df_sl, df_pg], axis=1)"
      ],
      "execution_count": 0,
      "outputs": [
        {
          "output_type": "stream",
          "text": [
            "table: charactercreator_thief\n"
          ],
          "name": "stdout"
        },
        {
          "output_type": "execute_result",
          "data": {
            "text/html": [
              "<div>\n",
              "<style scoped>\n",
              "    .dataframe tbody tr th:only-of-type {\n",
              "        vertical-align: middle;\n",
              "    }\n",
              "\n",
              "    .dataframe tbody tr th {\n",
              "        vertical-align: top;\n",
              "    }\n",
              "\n",
              "    .dataframe thead th {\n",
              "        text-align: right;\n",
              "    }\n",
              "</style>\n",
              "<table border=\"1\" class=\"dataframe\">\n",
              "  <thead>\n",
              "    <tr style=\"text-align: right;\">\n",
              "      <th></th>\n",
              "      <th>name</th>\n",
              "      <th>column_name</th>\n",
              "    </tr>\n",
              "  </thead>\n",
              "  <tbody>\n",
              "    <tr>\n",
              "      <th>0</th>\n",
              "      <td>character_ptr_id</td>\n",
              "      <td>character_ptr_id</td>\n",
              "    </tr>\n",
              "    <tr>\n",
              "      <th>1</th>\n",
              "      <td>is_sneaking</td>\n",
              "      <td>is_sneaking</td>\n",
              "    </tr>\n",
              "    <tr>\n",
              "      <th>2</th>\n",
              "      <td>energy</td>\n",
              "      <td>energy</td>\n",
              "    </tr>\n",
              "  </tbody>\n",
              "</table>\n",
              "</div>"
            ],
            "text/plain": [
              "               name       column_name\n",
              "0  character_ptr_id  character_ptr_id\n",
              "1       is_sneaking       is_sneaking\n",
              "2            energy            energy"
            ]
          },
          "metadata": {
            "tags": []
          },
          "execution_count": 28
        }
      ]
    },
    {
      "cell_type": "markdown",
      "metadata": {
        "id": "WltOxVJRKIaa",
        "colab_type": "text"
      },
      "source": [
        "# Week 11 Day 3\n",
        "\n",
        "Lecture Notebook  \n",
        "https://colab.research.google.com/drive/14sdoo-V74hEccOSCrwnSzBfO2ISmFx2k  \n",
        "\n",
        "<br>\n",
        "\n",
        "**Important Readings**\n",
        "\n",
        "MongoDB Atlas Data Lake Debuts at MongoDB World  \n",
        "https://www.mongodb.com/blog/post/mongodb-atlas-data-lake-debuts-at-mongodb-world  \n",
        "\n",
        "MongoDB Map-Reduce   \n",
        "https://docs.mongodb.com/manual/core/map-reduce/  \n",
        "\n",
        "Wikepedia MapReduce  \n",
        "https://en.wikipedia.org/wiki/MapReduce  "
      ]
    },
    {
      "cell_type": "markdown",
      "metadata": {
        "id": "BpCX_c6n2CAE",
        "colab_type": "text"
      },
      "source": [
        "### Write/read password file"
      ]
    },
    {
      "cell_type": "code",
      "metadata": {
        "id": "Gv44U_9ThY8j",
        "colab_type": "code",
        "colab": {}
      },
      "source": [
        "from google.colab import drive\n",
        "drive.mount('/content/drive')"
      ],
      "execution_count": 0,
      "outputs": []
    },
    {
      "cell_type": "code",
      "metadata": {
        "id": "glZ4QppJcUfM",
        "colab_type": "code",
        "colab": {}
      },
      "source": [
        "############################################################\n",
        "# write password into a config file on Google Drive\n",
        "############################################################\n",
        "# path = '/content/drive/My Drive/config/mongodb'\n",
        "# password = \"...\"\n",
        "\n",
        "# f = open(path, 'w')\n",
        "# f.write(password)\n",
        "# f.close()\n",
        "\n",
        "# # check password file\n",
        "# f = open(path, 'r')\n",
        "# print(f.readline())\n",
        "# f.close()"
      ],
      "execution_count": 0,
      "outputs": []
    },
    {
      "cell_type": "markdown",
      "metadata": {
        "id": "MNkIocwa2Pni",
        "colab_type": "text"
      },
      "source": [
        "### Connect to MongoDB"
      ]
    },
    {
      "cell_type": "code",
      "metadata": {
        "id": "qAJB2aEtK4Sx",
        "colab_type": "code",
        "outputId": "a06d86d7-2d00-456d-e280-57dfb11d586a",
        "colab": {
          "base_uri": "https://localhost:8080/",
          "height": 70
        }
      },
      "source": [
        "!pip install pymongo\n",
        "!python --version\n",
        "!curl ipecho.net/plain"
      ],
      "execution_count": 0,
      "outputs": [
        {
          "output_type": "stream",
          "text": [
            "Requirement already satisfied: pymongo in /usr/local/lib/python3.6/dist-packages (3.8.0)\n",
            "Python 3.6.8\n",
            "35.185.75.133"
          ],
          "name": "stdout"
        }
      ]
    },
    {
      "cell_type": "code",
      "metadata": {
        "id": "o1O-KrQHKwZy",
        "colab_type": "code",
        "outputId": "ce4f36d4-1cfe-4de8-d5ac-0589b8191c30",
        "colab": {
          "base_uri": "https://localhost:8080/",
          "height": 55
        }
      },
      "source": [
        "############################################################\n",
        "# connect to MongoDB\n",
        "############################################################\n",
        "import pymongo\n",
        "\n",
        "# get password\n",
        "path = '/content/drive/My Drive/config/mongodb'\n",
        "f = open(path, 'r')\n",
        "password = f.readline()\n",
        "f.close()\n",
        "\n",
        "# python 3.6 or above\n",
        "str36 = \"mongodb+srv://admin:{}@ds5-peqxz.mongodb.net\\\n",
        "/test?retryWrites=true&w=majority\".format(password)\n",
        "\n",
        "# python 3.4 or above\n",
        "str34 = \"mongodb://admin:{}@ds5-shard-00-00-peqxz.\\\n",
        "mongodb.net:27017,ds5-shard-00-01-peqxz.mongodb.net:27017,\\\n",
        "ds5-shard-00-02-peqxz.mongodb.net:27017/test?ssl=true&\\\n",
        "replicaSet=DS5-shard-0&authSource=admin\\\n",
        "&retryWrites=true&w=majority\"\"\".format(password)\n",
        "\n",
        "client = pymongo.MongoClient(str34)\n",
        "db = client.test; db"
      ],
      "execution_count": 36,
      "outputs": [
        {
          "output_type": "execute_result",
          "data": {
            "text/plain": [
              "Database(MongoClient(host=['ds5-shard-00-00-peqxz.mongodb.net:27017', 'ds5-shard-00-01-peqxz.mongodb.net:27017', 'ds5-shard-00-02-peqxz.mongodb.net:27017'], document_class=dict, tz_aware=False, connect=True, ssl=True, replicaset='DS5-shard-0', authsource='admin', retrywrites=True, w='majority'), 'test')"
            ]
          },
          "metadata": {
            "tags": []
          },
          "execution_count": 36
        }
      ]
    },
    {
      "cell_type": "markdown",
      "metadata": {
        "id": "jBD-YwMJ9lxT",
        "colab_type": "text"
      },
      "source": [
        "**Configure IP Whitelist in MongoDB**  \n",
        "\n",
        "<img src=\"https://github.com/Nov05/pictures/blob/master/pic001/2019-08-15%2010_45_17-Network%20Access%20_%20Atlas_%20MongoDB%20Atlas.png?raw=true\">"
      ]
    },
    {
      "cell_type": "code",
      "metadata": {
        "id": "3vd450UWfzUH",
        "colab_type": "code",
        "outputId": "7433a74d-7787-4819-8ed8-11f6cfee7f0b",
        "colab": {
          "base_uri": "https://localhost:8080/",
          "height": 70
        }
      },
      "source": [
        "client.nodes"
      ],
      "execution_count": 0,
      "outputs": [
        {
          "output_type": "execute_result",
          "data": {
            "text/plain": [
              "frozenset({('ds5-shard-00-00-peqxz.mongodb.net', 27017),\n",
              "           ('ds5-shard-00-01-peqxz.mongodb.net', 27017),\n",
              "           ('ds5-shard-00-02-peqxz.mongodb.net', 27017)})"
            ]
          },
          "metadata": {
            "tags": []
          },
          "execution_count": 5
        }
      ]
    },
    {
      "cell_type": "code",
      "metadata": {
        "id": "V-mOohtGjOvV",
        "colab_type": "code",
        "outputId": "248724f0-45a3-4d78-d67b-d89cd4cbe2ff",
        "colab": {
          "base_uri": "https://localhost:8080/",
          "height": 35
        }
      },
      "source": [
        "# test.test is MongoDB default database and collention\n",
        "# db(database)='test', collection(table)='test' \n",
        "for _ in range(5):\n",
        "    db.test.insert_one({'x': 1})\n",
        "db.test.count_documents({'x': 1})"
      ],
      "execution_count": 0,
      "outputs": [
        {
          "output_type": "execute_result",
          "data": {
            "text/plain": [
              "10"
            ]
          },
          "metadata": {
            "tags": []
          },
          "execution_count": 10
        }
      ]
    },
    {
      "cell_type": "markdown",
      "metadata": {
        "id": "Hyth5uffVvBt",
        "colab_type": "text"
      },
      "source": [
        "https://realpython.com/introduction-to-mongodb-and-python/  "
      ]
    },
    {
      "cell_type": "code",
      "metadata": {
        "id": "2iPODe45CbqY",
        "colab_type": "code",
        "outputId": "d4ce6048-3177-448d-f918-d6a4dff9e42b",
        "colab": {
          "base_uri": "https://localhost:8080/",
          "height": 35
        }
      },
      "source": [
        "# you can manually load sample databases \n",
        "# in MongoDB \"Clusters -> Collections\"\n",
        "\n",
        "# db='sample_airbnb', collection='a'\n",
        "db = client.sample_airbnb\n",
        "db.a.find_one({'a':1})"
      ],
      "execution_count": 38,
      "outputs": [
        {
          "output_type": "execute_result",
          "data": {
            "text/plain": [
              "{'_id': ObjectId('5cf5d44960fd541051737774'), 'a': 1.0}"
            ]
          },
          "metadata": {
            "tags": []
          },
          "execution_count": 38
        }
      ]
    },
    {
      "cell_type": "code",
      "metadata": {
        "id": "dHSaNZuGRiiV",
        "colab_type": "code",
        "outputId": "6a4773c7-fa4d-4ef0-c63f-421d3469aa44",
        "colab": {
          "base_uri": "https://localhost:8080/",
          "height": 484
        }
      },
      "source": [
        "import json\n",
        "import pandas as pd\n",
        "doc = db.listingsAndReviews.find_one({'listing_url':\"https://www.airbnb.com/rooms/10021707\"})\n",
        "\n",
        "# display in JSON format\n",
        "parsed = json.loads(json.dumps(doc['address']))\n",
        "print(json.dumps(parsed, indent=4, sort_keys=True))\n",
        "\n",
        "# display in Pandas data frame format\n",
        "pd.DataFrame([doc])"
      ],
      "execution_count": 39,
      "outputs": [
        {
          "output_type": "stream",
          "text": [
            "{\n",
            "    \"country\": \"United States\",\n",
            "    \"country_code\": \"US\",\n",
            "    \"government_area\": \"Bushwick\",\n",
            "    \"location\": {\n",
            "        \"coordinates\": [\n",
            "            -73.93615,\n",
            "            40.69791\n",
            "        ],\n",
            "        \"is_location_exact\": true,\n",
            "        \"type\": \"Point\"\n",
            "    },\n",
            "    \"market\": \"New York\",\n",
            "    \"street\": \"Brooklyn, NY, United States\",\n",
            "    \"suburb\": \"Brooklyn\"\n",
            "}\n"
          ],
          "name": "stdout"
        },
        {
          "output_type": "execute_result",
          "data": {
            "text/html": [
              "<div>\n",
              "<style scoped>\n",
              "    .dataframe tbody tr th:only-of-type {\n",
              "        vertical-align: middle;\n",
              "    }\n",
              "\n",
              "    .dataframe tbody tr th {\n",
              "        vertical-align: top;\n",
              "    }\n",
              "\n",
              "    .dataframe thead th {\n",
              "        text-align: right;\n",
              "    }\n",
              "</style>\n",
              "<table border=\"1\" class=\"dataframe\">\n",
              "  <thead>\n",
              "    <tr style=\"text-align: right;\">\n",
              "      <th></th>\n",
              "      <th>_id</th>\n",
              "      <th>access</th>\n",
              "      <th>accommodates</th>\n",
              "      <th>address</th>\n",
              "      <th>amenities</th>\n",
              "      <th>availability</th>\n",
              "      <th>bathrooms</th>\n",
              "      <th>bed_type</th>\n",
              "      <th>bedrooms</th>\n",
              "      <th>beds</th>\n",
              "      <th>calendar_last_scraped</th>\n",
              "      <th>cancellation_policy</th>\n",
              "      <th>description</th>\n",
              "      <th>extra_people</th>\n",
              "      <th>first_review</th>\n",
              "      <th>guests_included</th>\n",
              "      <th>host</th>\n",
              "      <th>house_rules</th>\n",
              "      <th>images</th>\n",
              "      <th>interaction</th>\n",
              "      <th>last_review</th>\n",
              "      <th>last_scraped</th>\n",
              "      <th>listing_url</th>\n",
              "      <th>maximum_nights</th>\n",
              "      <th>minimum_nights</th>\n",
              "      <th>name</th>\n",
              "      <th>neighborhood_overview</th>\n",
              "      <th>notes</th>\n",
              "      <th>number_of_reviews</th>\n",
              "      <th>price</th>\n",
              "      <th>property_type</th>\n",
              "      <th>review_scores</th>\n",
              "      <th>reviews</th>\n",
              "      <th>room_type</th>\n",
              "      <th>space</th>\n",
              "      <th>summary</th>\n",
              "      <th>transit</th>\n",
              "    </tr>\n",
              "  </thead>\n",
              "  <tbody>\n",
              "    <tr>\n",
              "      <th>0</th>\n",
              "      <td>10021707</td>\n",
              "      <td></td>\n",
              "      <td>1</td>\n",
              "      <td>{'street': 'Brooklyn, NY, United States', 'sub...</td>\n",
              "      <td>[Internet, Wifi, Air conditioning, Kitchen, Bu...</td>\n",
              "      <td>{'availability_30': 0, 'availability_60': 0, '...</td>\n",
              "      <td>1.5</td>\n",
              "      <td>Real Bed</td>\n",
              "      <td>1</td>\n",
              "      <td>1</td>\n",
              "      <td>2019-03-06 05:00:00</td>\n",
              "      <td>flexible</td>\n",
              "      <td>Here exists a very cozy room for rent in a sha...</td>\n",
              "      <td>0.00</td>\n",
              "      <td>2016-01-31 05:00:00</td>\n",
              "      <td>1</td>\n",
              "      <td>{'host_id': '11275734', 'host_url': 'https://w...</td>\n",
              "      <td></td>\n",
              "      <td>{'thumbnail_url': '', 'medium_url': '', 'pictu...</td>\n",
              "      <td></td>\n",
              "      <td>2016-01-31 05:00:00</td>\n",
              "      <td>2019-03-06 05:00:00</td>\n",
              "      <td>https://www.airbnb.com/rooms/10021707</td>\n",
              "      <td>1125</td>\n",
              "      <td>14</td>\n",
              "      <td>Private Room in Bushwick</td>\n",
              "      <td></td>\n",
              "      <td></td>\n",
              "      <td>1</td>\n",
              "      <td>40.00</td>\n",
              "      <td>Apartment</td>\n",
              "      <td>{'review_scores_accuracy': 10, 'review_scores_...</td>\n",
              "      <td>[{'_id': '61050713', 'date': 2016-01-31 05:00:...</td>\n",
              "      <td>Private room</td>\n",
              "      <td></td>\n",
              "      <td>Here exists a very cozy room for rent in a sha...</td>\n",
              "      <td></td>\n",
              "    </tr>\n",
              "  </tbody>\n",
              "</table>\n",
              "</div>"
            ],
            "text/plain": [
              "        _id access  ...                                            summary transit\n",
              "0  10021707         ...  Here exists a very cozy room for rent in a sha...        \n",
              "\n",
              "[1 rows x 37 columns]"
            ]
          },
          "metadata": {
            "tags": []
          },
          "execution_count": 39
        }
      ]
    },
    {
      "cell_type": "markdown",
      "metadata": {
        "id": "bdA6bXMqDo19",
        "colab_type": "text"
      },
      "source": [
        "### Data Types in Python vs. MongoDB\n",
        "use Python Datetime as example"
      ]
    },
    {
      "cell_type": "markdown",
      "metadata": {
        "id": "diBdQjbz7Ok5",
        "colab_type": "text"
      },
      "source": [
        "https://docs.mongodb.com/manual/reference/mongodb-extended-json/  \n",
        "https://www.quora.com/What-is-the-difference-between-operations-on-dict-and-a-JSON-object-in-Python    \n",
        "https://stackoverflow.com/questions/11875770/how-to-overcome-datetime-datetime-not-json-serializable    "
      ]
    },
    {
      "cell_type": "code",
      "metadata": {
        "id": "ss0HukVT7QGz",
        "colab_type": "code",
        "outputId": "35eb9709-5dcb-4c2d-e8c4-df74a75db2a2",
        "colab": {
          "base_uri": "https://localhost:8080/",
          "height": 52
        }
      },
      "source": [
        "############################################################\n",
        "# data type: Python Datetime vs. Mongo Date\n",
        "############################################################\n",
        "# CAUTION:\n",
        "# TypeError: Object of type 'datetime' is not JSON serializable\n",
        "# json.dumps(doc['calendar_last_scraped'])\n",
        "\n",
        "print(doc['calendar_last_scraped'])\n",
        "\n",
        "# CAUTION:\n",
        "# This is how MongoDB \"date\" fields are represented\n",
        "from bson import json_util\n",
        "import json\n",
        "json.dumps(doc['calendar_last_scraped'], default=json_util.default)"
      ],
      "execution_count": 0,
      "outputs": [
        {
          "output_type": "stream",
          "text": [
            "2019-03-06 05:00:00\n"
          ],
          "name": "stdout"
        },
        {
          "output_type": "execute_result",
          "data": {
            "text/plain": [
              "'{\"$date\": 1551848400000}'"
            ]
          },
          "metadata": {
            "tags": []
          },
          "execution_count": 25
        }
      ]
    },
    {
      "cell_type": "code",
      "metadata": {
        "id": "N78XWcKd_iDR",
        "colab_type": "code",
        "outputId": "404e4ce2-8ec2-4db2-d9ee-f1cf343ed7c0",
        "colab": {
          "base_uri": "https://localhost:8080/",
          "height": 97
        }
      },
      "source": [
        "db = client.prg_db\n",
        "collection = db.django_migrations\n",
        "doc = collection.find_one({'id':1})\n",
        "field = doc['applied']\n",
        "\n",
        "# great! Python library pymongo has taken care of \n",
        "# Python Datatime\n",
        "print(type(field), field)\n",
        "pd.DataFrame([doc])"
      ],
      "execution_count": 0,
      "outputs": [
        {
          "output_type": "stream",
          "text": [
            "<class 'datetime.datetime'> 2018-03-08 18:37:26.825000\n"
          ],
          "name": "stdout"
        },
        {
          "output_type": "execute_result",
          "data": {
            "text/html": [
              "<div>\n",
              "<style scoped>\n",
              "    .dataframe tbody tr th:only-of-type {\n",
              "        vertical-align: middle;\n",
              "    }\n",
              "\n",
              "    .dataframe tbody tr th {\n",
              "        vertical-align: top;\n",
              "    }\n",
              "\n",
              "    .dataframe thead th {\n",
              "        text-align: right;\n",
              "    }\n",
              "</style>\n",
              "<table border=\"1\" class=\"dataframe\">\n",
              "  <thead>\n",
              "    <tr style=\"text-align: right;\">\n",
              "      <th></th>\n",
              "      <th>_id</th>\n",
              "      <th>app</th>\n",
              "      <th>applied</th>\n",
              "      <th>id</th>\n",
              "      <th>name</th>\n",
              "    </tr>\n",
              "  </thead>\n",
              "  <tbody>\n",
              "    <tr>\n",
              "      <th>0</th>\n",
              "      <td>5d55064c071685151885d0e6</td>\n",
              "      <td>contenttypes</td>\n",
              "      <td>2018-03-08 18:37:26.825</td>\n",
              "      <td>1</td>\n",
              "      <td>0001_initial</td>\n",
              "    </tr>\n",
              "  </tbody>\n",
              "</table>\n",
              "</div>"
            ],
            "text/plain": [
              "                        _id           app  ... id          name\n",
              "0  5d55064c071685151885d0e6  contenttypes  ...  1  0001_initial\n",
              "\n",
              "[1 rows x 5 columns]"
            ]
          },
          "metadata": {
            "tags": []
          },
          "execution_count": 34
        }
      ]
    },
    {
      "cell_type": "markdown",
      "metadata": {
        "id": "rspeFteDm6PL",
        "colab_type": "text"
      },
      "source": [
        "### MongoDB operations  \n",
        "https://www.w3schools.com/python/python_mongodb_create_db.asp  "
      ]
    },
    {
      "cell_type": "code",
      "metadata": {
        "id": "bDmMj8BJqU9b",
        "colab_type": "code",
        "outputId": "77df818c-541e-4028-8976-f9cb99429bb3",
        "colab": {
          "base_uri": "https://localhost:8080/",
          "height": 90
        }
      },
      "source": [
        "# list all databases\n",
        "print(client.list_database_names())\n",
        "# list all collections\n",
        "db = client.sample_airbnb\n",
        "print(db.list_collection_names())\n",
        "# select 2 docs\n",
        "docs = db.listingsAndReviews.find().limit(2)\n",
        "for doc in docs:\n",
        "    print(doc)"
      ],
      "execution_count": 0,
      "outputs": [
        {
          "output_type": "stream",
          "text": [
            "['listingsAndReviews', 'a']\n",
            "{'_id': '10006546', 'listing_url': 'https://www.airbnb.com/rooms/10006546', 'name': 'Ribeira Charming Duplex', 'summary': 'Fantastic duplex apartment with three bedrooms, located in the historic area of Porto, Ribeira (Cube) - UNESCO World Heritage Site. Centenary building fully rehabilitated, without losing their original character.', 'space': 'Privileged views of the Douro River and Ribeira square, our apartment offers the perfect conditions to discover the history and the charm of Porto. Apartment comfortable, charming, romantic and cozy in the heart of Ribeira. Within walking distance of all the most emblematic places of the city of Porto. The apartment is fully equipped to host 8 people, with cooker, oven, washing machine, dishwasher, microwave, coffee machine (Nespresso) and kettle. The apartment is located in a very typical area of the city that allows to cross with the most picturesque population of the city, welcoming, genuine and happy people that fills the streets with his outspoken speech and contagious with your sincere generosity, wrapped in a only parochial spirit.', 'description': 'Fantastic duplex apartment with three bedrooms, located in the historic area of Porto, Ribeira (Cube) - UNESCO World Heritage Site. Centenary building fully rehabilitated, without losing their original character. Privileged views of the Douro River and Ribeira square, our apartment offers the perfect conditions to discover the history and the charm of Porto. Apartment comfortable, charming, romantic and cozy in the heart of Ribeira. Within walking distance of all the most emblematic places of the city of Porto. The apartment is fully equipped to host 8 people, with cooker, oven, washing machine, dishwasher, microwave, coffee machine (Nespresso) and kettle. The apartment is located in a very typical area of the city that allows to cross with the most picturesque population of the city, welcoming, genuine and happy people that fills the streets with his outspoken speech and contagious with your sincere generosity, wrapped in a only parochial spirit. We are always available to help guests', 'neighborhood_overview': \"In the neighborhood of the river, you can find several restaurants as varied flavors, but without forgetting the so traditional northern food. You can also find several bars and pubs to unwind after a day's visit to the magnificent Port. To enjoy the Douro River can board the boats that daily make the ride of six bridges. You can also embark towards Régua, Barca d'Alva, Pinhão, etc and enjoy the Douro Wine Region, World Heritage of Humanity. The Infante's house is a few meters and no doubt it deserves a visit. They abound grocery stores, bakeries, etc. to make your meals. Souvenir shop, wine cellars, etc. to bring some souvenirs.\", 'notes': 'Lose yourself in the narrow streets and staircases zone, have lunch in pubs and typical restaurants, and find the renovated cafes and shops in town. If you like exercise, rent a bicycle in the area and ride along the river to the sea, where it will enter beautiful beaches and terraces for everyone. The area is safe, find the bus stops 1min and metro line 5min. The bustling nightlife is a 10 min walk, where the streets are filled with people and entertainment for all. But Porto is much more than the historical center, here is modern museums, concert halls, clean and cared for beaches and surf all year round. Walk through the Ponte D. Luis and visit the different Caves of Port wine, where you will enjoy the famous port wine. Porto is a spoken city everywhere in the world as the best to be visited and savored by all ... natural beauty, culture, tradition, river, sea, beach, single people, typical food, and we are among those who best receive tourists, confirm! Come visit us and feel at ho', 'transit': 'Transport: • Metro station and S. Bento railway 5min; • Bus stop a 50 meters; • Lift Guindais (Funicular) 50 meters; • Tuc Tuc-to get around the city; • Buses tourist; • Cycling through the marginal drive; • Cable car in Gaia, overlooking the Port (just cross the bridge).', 'access': 'We are always available to help guests. The house is fully available to guests. We are always ready to assist guests. when possible we pick the guests at the airport.  This service transfer have a cost per person. We will also have service \"meal at home\" with a diverse menu and the taste of each. Enjoy the moment!', 'interaction': 'Cot - 10 € / night Dog - € 7,5 / night', 'house_rules': 'Make the house your home...', 'property_type': 'House', 'room_type': 'Entire home/apt', 'bed_type': 'Real Bed', 'minimum_nights': '2', 'maximum_nights': '30', 'cancellation_policy': 'moderate', 'last_scraped': datetime.datetime(2019, 2, 16, 5, 0), 'calendar_last_scraped': datetime.datetime(2019, 2, 16, 5, 0), 'first_review': datetime.datetime(2016, 1, 3, 5, 0), 'last_review': datetime.datetime(2019, 1, 20, 5, 0), 'accommodates': 8, 'bedrooms': 3, 'beds': 5, 'number_of_reviews': 51, 'bathrooms': Decimal128('1.0'), 'amenities': ['TV', 'Cable TV', 'Wifi', 'Kitchen', 'Paid parking off premises', 'Smoking allowed', 'Pets allowed', 'Buzzer/wireless intercom', 'Heating', 'Family/kid friendly', 'Washer', 'First aid kit', 'Fire extinguisher', 'Essentials', 'Hangers', 'Hair dryer', 'Iron', 'Pack ’n Play/travel crib', 'Room-darkening shades', 'Hot water', 'Bed linens', 'Extra pillows and blankets', 'Microwave', 'Coffee maker', 'Refrigerator', 'Dishwasher', 'Dishes and silverware', 'Cooking basics', 'Oven', 'Stove', 'Cleaning before checkout', 'Waterfront'], 'price': Decimal128('80.00'), 'security_deposit': Decimal128('200.00'), 'cleaning_fee': Decimal128('35.00'), 'extra_people': Decimal128('15.00'), 'guests_included': Decimal128('6'), 'images': {'thumbnail_url': '', 'medium_url': '', 'picture_url': 'https://a0.muscache.com/im/pictures/e83e702f-ef49-40fb-8fa0-6512d7e26e9b.jpg?aki_policy=large', 'xl_picture_url': ''}, 'host': {'host_id': '51399391', 'host_url': 'https://www.airbnb.com/users/show/51399391', 'host_name': 'Ana&Gonçalo', 'host_location': 'Porto, Porto District, Portugal', 'host_about': 'Gostamos de passear, de viajar, de conhecer pessoas e locais novos, gostamos de desporto e animais! Vivemos na cidade mais linda do mundo!!!', 'host_response_time': 'within an hour', 'host_thumbnail_url': 'https://a0.muscache.com/im/pictures/fab79f25-2e10-4f0f-9711-663cb69dc7d8.jpg?aki_policy=profile_small', 'host_picture_url': 'https://a0.muscache.com/im/pictures/fab79f25-2e10-4f0f-9711-663cb69dc7d8.jpg?aki_policy=profile_x_medium', 'host_neighbourhood': '', 'host_response_rate': 100, 'host_is_superhost': False, 'host_has_profile_pic': True, 'host_identity_verified': True, 'host_listings_count': 3, 'host_total_listings_count': 3, 'host_verifications': ['email', 'phone', 'reviews', 'jumio', 'offline_government_id', 'government_id']}, 'address': {'street': 'Porto, Porto, Portugal', 'suburb': '', 'government_area': 'Cedofeita, Ildefonso, Sé, Miragaia, Nicolau, Vitória', 'market': 'Porto', 'country': 'Portugal', 'country_code': 'PT', 'location': {'type': 'Point', 'coordinates': [-8.61308, 41.1413], 'is_location_exact': False}}, 'availability': {'availability_30': 28, 'availability_60': 47, 'availability_90': 74, 'availability_365': 239}, 'review_scores': {'review_scores_accuracy': 9, 'review_scores_cleanliness': 9, 'review_scores_checkin': 10, 'review_scores_communication': 10, 'review_scores_location': 10, 'review_scores_value': 9, 'review_scores_rating': 89}, 'reviews': [{'_id': '58663741', 'date': datetime.datetime(2016, 1, 3, 5, 0), 'listing_id': '10006546', 'reviewer_id': '51483096', 'reviewer_name': 'Cátia', 'comments': 'A casa da Ana e do Gonçalo foram o local escolhido para a passagem de ano com um grupo de amigos. Fomos super bem recebidos com uma grande simpatia e predisposição a ajudar com qualquer coisa que fosse necessário.\\r\\nA casa era ainda melhor do que parecia nas fotos, totalmente equipada, com mantas, aquecedor e tudo o que pudessemos precisar.\\r\\nA localização não podia ser melhor! Não há melhor do que acordar de manhã e ao virar da esquina estar a ribeira do Porto.'}, {'_id': '62413197', 'date': datetime.datetime(2016, 2, 14, 5, 0), 'listing_id': '10006546', 'reviewer_id': '40031996', 'reviewer_name': 'Théo', 'comments': \"We are french's students, we traveled some days in Porto, this space was good and we can cooking easly. It was rainning so we eard every time the water fall to the ground in the street when we sleeping. But It was cool and or was well received by Ana et Gonçalo\"}, {'_id': '68310569', 'date': datetime.datetime(2016, 4, 4, 4, 0), 'listing_id': '10006546', 'reviewer_id': '53859850', 'reviewer_name': 'Bart', 'comments': \"We had a spledid time in the old centre of Porto.\\r\\nThe appartment is very well situated next to the old Ribeira square. It's perfect to have such an appartment to your disposal, you feel home, and have a place to relax between the exploration of this very nice city.\\r\\nWe thank Ana & Gonçalo, and we hope the appartment is free when we go back next year. Porto is charming original.\"}, {'_id': '69693942', 'date': datetime.datetime(2016, 4, 12, 4, 0), 'listing_id': '10006546', 'reviewer_id': '3135623', 'reviewer_name': 'Alex', 'comments': \"Ana and Goncalo were very helpful and accommodating. When they were not available they put us in touch with their nephew who was equally as helpful. The flat was as described, neat and tidy. The weather was quite cold, but thankfully A&G left us with extra blankets and electric heaters to use. Location was great. Outside the flat there was a slight smell of the river/ sewage, but in all honesty it did not come into the flat, and once you go down the road it doesn't carry on. This may also have been down to the very wet weather we had while there. All in all, very happy and would definitely recommend.\"}, {'_id': '71451096', 'date': datetime.datetime(2016, 4, 25, 4, 0), 'listing_id': '10006546', 'reviewer_id': '13187858', 'reviewer_name': 'Dan', 'comments': \"The hosts were very accommodating and agreed to meet with my parents as they were arriving before us. Communicated very well and always responded in a very timely manner. You couldn't have asked for a better location of this apartment and the place was identical to the pictures in the in the listing.\"}, {'_id': '73191268', 'date': datetime.datetime(2016, 5, 7, 4, 0), 'listing_id': '10006546', 'reviewer_id': '61434690', 'reviewer_name': 'Anne', 'comments': \"THE PLACE TO BE, l'appartement est situé au milieu de la Ribeira , tout peut se faire à pieds c'est l'ideal,l'appartement est très bien agencé et équipé.\\r\\nNous avons passé un séjour très agréable dans ce duplex avec beaucoup de charme .\\r\\nAccueil très chaleureux de Ana et Gonçalo, ils ont pris du temps pour nous indiquer tout ce qu'il y avait à faire sur Porto et répondus  à toutes nos interrogations en terme de commodités.. Merci..\\r\\n\"}, {'_id': '77438107', 'date': datetime.datetime(2016, 5, 31, 4, 0), 'listing_id': '10006546', 'reviewer_id': '3673216', 'reviewer_name': 'Chris', 'comments': 'We had a great time in Porto. Ana’s & Goncalo’s apartment is located right in the heart of the Old Town and is great value for money. You really are at the centre of things and it’s the perfect place to get swept away in the hustle and bustle of Porto. Ana and Goncalo were great hosts.'}, {'_id': '89637734', 'date': datetime.datetime(2016, 7, 29, 4, 0), 'listing_id': '10006546', 'reviewer_id': '9172374', 'reviewer_name': 'Leslie', 'comments': \"Ana and Gonçalo were very welcoming and made a lot of information about Porto's sights available. It was very clean, very beautiful and the location was superb. It does have a lot of restaurants around it, so it could be a bit noisy for us at night but otherwise  great location. We would stay there again. \"}, {'_id': '96574146', 'date': datetime.datetime(2016, 8, 23, 4, 0), 'listing_id': '10006546', 'reviewer_id': '71985274', 'reviewer_name': 'Philippe', 'comments': \"Super appartement très bien placé, au cœur de l'animation de la Ribeira !\\r\\nNous avons passé un super séjour à Porto !\\r\\nToutes les informations données par Ana et les documents laissés nous ont bien aidé à organiser notre séjour.  Nous avons (presque) tout fait à pied ! Le parking Ribeira est proche et bien utile pour garer le véhicule.\\r\\nMerci !!!\\r\\nPhilippe\\r\\n\"}, {'_id': '108444999', 'date': datetime.datetime(2016, 10, 16, 4, 0), 'listing_id': '10006546', 'reviewer_id': '24960918', 'reviewer_name': 'Hanneke', 'comments': 'The appartment was great, it is really nice and cosy, and it is situated at a perfect location. Ana and Goncalo were very friendly, they were very helpfull during our stay. We had a great time during our stay in Porto!'}, {'_id': '111065376', 'date': datetime.datetime(2016, 10, 30, 4, 0), 'listing_id': '10006546', 'reviewer_id': '74079092', 'reviewer_name': 'Kati', 'comments': 'Kävimme majoittajan kanssa viestinvaihtoa ennen lomaa ja he antoivat mukavan vaikutelman. He olivatkin hyvin mukavia ihmisiä. He tulivat lentokentälle vastaan kahdella autolla mikä oli hyvin ystävällistä. He kertoivat myös kaupungista ja sen nähtävyyksistä. Asunnon sijainti oli täydellinen. Se oli myös erittäin romanttinen ja kaunis. Kokemus oli hyvin onnistunut.'}, {'_id': '111655209', 'date': datetime.datetime(2016, 11, 1, 4, 0), 'listing_id': '10006546', 'reviewer_id': '40413493', 'reviewer_name': 'Julia', 'comments': 'Hemos pasado unos días increíbles en Oporto. Llegamos más tarde de lo que habíamos pensado y Ana & Gonçalo nos esperaron pacientemente y nos facilitaron la llegada, además nos recibieron con un regalo de bienvenida!. Nos dieron todo tipo de indicaciones y consejos más que de sobra para disfrutar de los días que estuvimos allí. La ubicación de la casa es inmejorable!! la única pega fue que el soporte de la ducha estaba roto pero como eran pocos días no quisimos molestar a Ana & Gonçalo y no se lo comentamos. '}, {'_id': '132811625', 'date': datetime.datetime(2017, 2, 19, 5, 0), 'listing_id': '10006546', 'reviewer_id': '8986056', 'reviewer_name': 'Joshua', 'comments': 'Great location, comfortable place, responsive and friendly host! Highly recommended!'}, {'_id': '144627907', 'date': datetime.datetime(2017, 4, 16, 4, 0), 'listing_id': '10006546', 'reviewer_id': '113254568', 'reviewer_name': 'Tracey', 'comments': 'This house is in the heart of Porto, set back enough to be away from the hustle and bustle but only a few steps up from the river, bars and restaurants. A great place to stay.\\nThe house was clean and functional. Ana and Goncalo are perfect hosts with lots of information on places to visit and   eat.'}, {'_id': '149009243', 'date': datetime.datetime(2017, 5, 2, 4, 0), 'listing_id': '10006546', 'reviewer_id': '11263097', 'reviewer_name': 'Willem', 'comments': 'The location of the house is wonderful! You are in the heart of the old city and the Douro ist just a few meters away. Perfect for a first visit to Porto!\\nVery cosy and warm house with everything you need.\\nGonçalo gives a lot of good tips that will help you to have a perfect stay. Communication is very easy with him.'}, {'_id': '150518693', 'date': datetime.datetime(2017, 5, 8, 4, 0), 'listing_id': '10006546', 'reviewer_id': '108507776', 'reviewer_name': 'Fanny', 'comments': 'We spend a really good time in Porto, the flat is so well situated. The bridge is just next door, the view on the river is amazing, and plenty of restaurants and pubs, transport are just around.\\nGonzalo is very kind to wait for us, also lat, for the check in, thank you.\\n'}, {'_id': '155913947', 'date': datetime.datetime(2017, 5, 29, 4, 0), 'listing_id': '10006546', 'reviewer_id': '30254816', 'reviewer_name': 'Bridget', 'comments': 'Thanks for a great stay! 6 of us were in Porto for a long weekend and we had a blast. The apartment was perfect; location and size to accomodate us. The hosts were great, then even picked us up at the airport (for a fee but it was a great service). Thanks again! Bridget.'}, {'_id': '159692160', 'date': datetime.datetime(2017, 6, 11, 4, 0), 'listing_id': '10006546', 'reviewer_id': '124514204', 'reviewer_name': 'Oscar', 'comments': 'Superb location and very nice, big and overall pleasant apartment!'}, {'_id': '164881958', 'date': datetime.datetime(2017, 6, 29, 4, 0), 'listing_id': '10006546', 'reviewer_id': '105188418', 'reviewer_name': 'Steve', 'comments': 'The apartment provides basic facilities but is good value for money and very well positioned for easy access to restaurants and bars, the Ribeira district and the Port house in Gaia.'}, {'_id': '166990342', 'date': datetime.datetime(2017, 7, 5, 4, 0), 'listing_id': '10006546', 'reviewer_id': '52660694', 'reviewer_name': 'Tina', 'comments': \"Ana und Gonçalo sind sehr hilfsbereite liebe Leute, die  alles tun, damit man sich wohl fühlt. Wenn es etwas zu beanstanden gab, wird das sofort problemlos erledigt. Das Apartment ist charmant, die Möbel schon etwas mitgenommen, aber das passt insgesamt ins Bild von Porto und macht den Reiz aus. Die Lage ist super, genau am Duoro. Es gibt Strassenmusik bis in den späten Abend und auch morgens geht's früh los mit fröhlichen Lärm von der Flusspromenade. Nichts also für Leute, die es ruhig brauchen! Die Lage ist wirklich exklusiv und tröstet über den recht teuren Mietpreis. Im Umfeld gibt es typische Touri-Fallen, wo alles doppelt kostet, aber gleichzeitig findet man auch sehr nette kleine Bars, in der man chillig und günstig frühstücken oder generell lecker essen kann. Die Stadt ist klein genug, um sich schnell zurechtzufinden und groß genug, um immer wieder neues zu entdecken. Wir waren zu dritt (50, 25, 20 Jahre) und haben die Zeit wirklich genossen. \"}, {'_id': '180030365', 'date': datetime.datetime(2017, 8, 9, 4, 0), 'listing_id': '10006546', 'reviewer_id': '25469637', 'reviewer_name': 'Mathieu', 'comments': 'Very well located appartement ideal for a family of 5 who want to make the most of the city center.\\nIt may be a bit noisy at night but this is acceptable.\\nGlobally we recommend this place.'}, {'_id': '198679769', 'date': datetime.datetime(2017, 9, 30, 4, 0), 'listing_id': '10006546', 'reviewer_id': '21837853', 'reviewer_name': 'Ido', 'comments': 'Great location! The apartment is somewhat basic. We were family with 3 teenagers and had a good time. Also it’s a bit noisy until very late at night.'}, {'_id': '199885226', 'date': datetime.datetime(2017, 10, 3, 4, 0), 'listing_id': '10006546', 'reviewer_id': '56528632', 'reviewer_name': 'Amanda', 'comments': 'This apartment is in the perfect location for being in the middle of the action. There were tons of restaurants close to the apartment and it was a quick walk across the bridge to tour the Port wineries. Be forewarned; if you are looking for a very quiet location, this area may not be for you. However, if you are looking to step outside of your door and start enjoying what Porto has to offer, I recommend this location.'}, {'_id': '207942636', 'date': datetime.datetime(2017, 10, 30, 4, 0), 'listing_id': '10006546', 'reviewer_id': '102474818', 'reviewer_name': 'Geneviève', 'comments': 'Acceuil très très chaleureux de Gonçalo  et Ana lors de notre arrivée très tardive due à un changement d\"\\'horaire d\\'avion....appartement super bien situé dans Porto près du Douro, fidèle aux photos mises sur le site....Nous avons adoré ce quartier bien animé  .....Encore merci à Gonçalo et Ana. ....'}, {'_id': '209455775', 'date': datetime.datetime(2017, 11, 5, 4, 0), 'listing_id': '10006546', 'reviewer_id': '10371877', 'reviewer_name': 'Andrea', 'comments': 'Localização perfeita, muito aconchegante, Ana e Gonçalo são pessoas muito atenciosas e simpáticas!'}, {'_id': '223995518', 'date': datetime.datetime(2018, 1, 2, 5, 0), 'listing_id': '10006546', 'reviewer_id': '10184070', 'reviewer_name': 'Jennifer', 'comments': \"Perfect position to see everything that Porto has to offer. Ana and Gonçalo were great hosts quick to respond and welcoming. Couldn't recommend a better place to stay in Porto to be able to see the sights and be within walking distance to so many restaurants.\"}, {'_id': '225725834', 'date': datetime.datetime(2018, 1, 7, 5, 0), 'listing_id': '10006546', 'reviewer_id': '156411765', 'reviewer_name': 'Nathalie', 'comments': 'Great location!'}, {'_id': '230559180', 'date': datetime.datetime(2018, 1, 28, 5, 0), 'listing_id': '10006546', 'reviewer_id': '2524423', 'reviewer_name': 'Cayetana', 'comments': 'Probably Ana&Gonzalo´s place is great for summer but definitely not in winter. The house is NOT WARM and ready for a stay in cold and humit season. There is NO HEATING in any of the rooms and living room, only bed covers (not nordic duvet) and small heaters which you have to switch off during the night. Those were not enough during our stay in January even we had sunny days! Moreover we were 5 people in the house without NO HOT WATER enough for all of us. \\nThe pictures did not show the reality. Furniture was much older and WiFi signal is only available in the living room, not the rooms.\\nOn the other hand, location is great if you want to stay close to the river. Although think about that all restaurants, bars and main tourist attractions are close to Train Station and Clerigos Tower which means 15-20 min uphill walking distance from the house.'}, {'_id': '232271631', 'date': datetime.datetime(2018, 2, 4, 5, 0), 'listing_id': '10006546', 'reviewer_id': '167219338', 'reviewer_name': 'Mérex', 'comments': \"Appartement très cosy! Nous y avons été pour un court séjour à 7 et avons adoré. L'appartement est idéalement situé dans le quartier magnifique de la Ribeira. L'accueil a ete très chaleureux: Nous étions trompé d'adresse car le GPS avaient confondus les rues mais Ana a su nous retrouver pour nous amener à l'appartement.  L'appartement était très  propre et nous avons eu largement tout ce qu'il fallait en linge.\\nEncore un Grand merci à eux!\"}, {'_id': '234847900', 'date': datetime.datetime(2018, 2, 14, 5, 0), 'listing_id': '10006546', 'reviewer_id': '6735587', 'reviewer_name': 'Andrea', 'comments': 'ottima ospitalità, la posizione della casa è ottima, vicina ai mezzi di trasporto e alle principali attrazioni della città, torneremo sicuramente. Consigliato!!'}, {'_id': '235293831', 'date': datetime.datetime(2018, 2, 16, 5, 0), 'listing_id': '10006546', 'reviewer_id': '130170949', 'reviewer_name': 'Bogdan', 'comments': 'Nice apartment in Porto, we enjoy staying in it for a few days. The apartment is comfortable and has a very nice location. Thanks to Ana and Gonsalo for hospitality.'}, {'_id': '240252220', 'date': datetime.datetime(2018, 3, 4, 5, 0), 'listing_id': '10006546', 'reviewer_id': '153415353', 'reviewer_name': 'Alison', 'comments': 'Great location. Good value thanks for the stay'}, {'_id': '244738269', 'date': datetime.datetime(2018, 3, 19, 4, 0), 'listing_id': '10006546', 'reviewer_id': '59706237', 'reviewer_name': 'Marco', 'comments': 'Me and my friends (7 ppl tot) have booked Gonçalo and Ana’s apartment for our holidays and i think we cannot do a better choice like that.\\nThe apartment is situated near Oporto’s riverside, in Ribeira district, at 2 minutes walking to Sao Bento’s station, 10minutes to Lello’s library and clerics’s tower. In less than 10 minutes u’re in Vila Nova De Gaia where u can find the wineries of porto’s wine.\\nThe apartment is really spacious and comfortable, perfect for 7 italian people that want to have fun in Oporto.\\nSuggested!!!'}, {'_id': '246334180', 'date': datetime.datetime(2018, 3, 25, 4, 0), 'listing_id': '10006546', 'reviewer_id': '12047570', 'reviewer_name': 'Michel', 'comments': \"L'emplacement et vraiment au coeur de l'animation du vieux Porto. Au pied de l'appartement se trouvent de charmants café avec vue sur le Douro.\\nAna&Gonçalo ont été très attentionnés et à l'écoute de nos demandes\\nMichel\"}, {'_id': '259708770', 'date': datetime.datetime(2018, 5, 1, 4, 0), 'listing_id': '10006546', 'reviewer_id': '174003310', 'reviewer_name': 'Dariusz', 'comments': 'Great location right next to the Dom Luiz bridge and Douro river and plenty of restaurants. Enough room for about 6 people. Ana was very responsive to any concerns we had. Would stay again.'}, {'_id': '263239322', 'date': datetime.datetime(2018, 5, 11, 4, 0), 'listing_id': '10006546', 'reviewer_id': '31033799', 'reviewer_name': 'Margriet', 'comments': 'The house was supernice and located in the middle of the center. We really enjoyed our stay here!'}, {'_id': '264125733', 'date': datetime.datetime(2018, 5, 13, 4, 0), 'listing_id': '10006546', 'reviewer_id': '15554470', 'reviewer_name': 'Carlos', 'comments': 'Great Location. Ana & Gonzalo are very nice, flexible, and fast-responsive. Apartment is ok but only one toilet for 3 rooms + sofa-bed.'}, {'_id': '267283092', 'date': datetime.datetime(2018, 5, 21, 4, 0), 'listing_id': '10006546', 'reviewer_id': '39358900', 'reviewer_name': 'Gaspard', 'comments': \"Ana&Gonçalo's apartment was nice, comfy, clean and most of all really well located in the city center!!!\\nWe could easily move everywhere in Porto from there and it was perfect for discovering the city!\\nAlso, I'd like to mention that Gonçalo was nice and patient with us on the day of the arrival even if we were a bit late.\\nI strongly recommend this place!\"}, {'_id': '269853203', 'date': datetime.datetime(2018, 5, 28, 4, 0), 'listing_id': '10006546', 'reviewer_id': '42864948', 'reviewer_name': 'James', 'comments': 'Incredible location, beautiful house. Everything was very easy and we would highly recommend this accommodation. Excellent. '}, {'_id': '272277314', 'date': datetime.datetime(2018, 6, 3, 4, 0), 'listing_id': '10006546', 'reviewer_id': '45990306', 'reviewer_name': '紫仪', 'comments': 'good lication good experience'}, {'_id': '275044729', 'date': datetime.datetime(2018, 6, 10, 4, 0), 'listing_id': '10006546', 'reviewer_id': '176337667', 'reviewer_name': 'Sebastian', 'comments': 'We loved it'}, {'_id': '302971185', 'date': datetime.datetime(2018, 8, 6, 4, 0), 'listing_id': '10006546', 'reviewer_id': '52572680', 'reviewer_name': 'Robby', 'comments': 'Great location right on the river. Lots of tourists in the area. Easy to get to public transportation. Besides the hot weather, we had a good time. '}, {'_id': '320887590', 'date': datetime.datetime(2018, 9, 9, 4, 0), 'listing_id': '10006546', 'reviewer_id': '20965806', 'reviewer_name': 'Romain', 'comments': 'Merci à Ana & Gonçalo pour l’accueil !'}, {'_id': '325025167', 'date': datetime.datetime(2018, 9, 18, 4, 0), 'listing_id': '10006546', 'reviewer_id': '15097268', 'reviewer_name': 'Roula', 'comments': '-'}, {'_id': '331735682', 'date': datetime.datetime(2018, 10, 3, 4, 0), 'listing_id': '10006546', 'reviewer_id': '35313286', 'reviewer_name': 'Alexander', 'comments': 'Our stay in Ana and Gancalo’s apartment was lovely. The location was perfect and Gancalo graciously picked us up from the airport. It does get a little loud in the morning but that’s only because the apartment is perfectly located right on the river front. You do have to hold the shower wand when showering but the pressure is good. Overall I would definitely stay in the apartment again!'}, {'_id': '334789252', 'date': datetime.datetime(2018, 10, 10, 4, 0), 'listing_id': '10006546', 'reviewer_id': '206502919', 'reviewer_name': 'Mark', 'comments': 'It was a wonderful experience, the location is fantastic and the accommodations were outstanding.'}, {'_id': '347372623', 'date': datetime.datetime(2018, 11, 11, 5, 0), 'listing_id': '10006546', 'reviewer_id': '17503135', 'reviewer_name': 'Camille', 'comments': 'Ana’s place is very well located, at 2 min walking distance to the Douro, so that everything is close by! Ana communicated well regarding check in info, and was even flexible regarding check out timing. The description / pictures are relevant; only the bathroom  is not as recent. We appreciated the extra blanket as heaters have to be switched off once u leave the flat, but once they are switched on we had no problem afterwards regarding the temperature of the flat.'}, {'_id': '354708379', 'date': datetime.datetime(2018, 12, 2, 5, 0), 'listing_id': '10006546', 'reviewer_id': '34178931', 'reviewer_name': 'Pawel', 'comments': 'If you want to stay in the heart of Porto for reasonable price this is a good alternative. However, I’d selected again it for group of more than 6 people.'}, {'_id': '362865132', 'date': datetime.datetime(2018, 12, 27, 5, 0), 'listing_id': '10006546', 'reviewer_id': '208880077', 'reviewer_name': 'Thomas', 'comments': 'Very helpful hosts. Cooked traditional Portuguese Christmas dinner for 6. Location is perfect. Right off square that is on river right by famous bridge engineered by protege of Gustav Eifel. Looks like same type structure.'}, {'_id': '364728730', 'date': datetime.datetime(2018, 12, 31, 5, 0), 'listing_id': '10006546', 'reviewer_id': '91827533', 'reviewer_name': 'Mr', 'comments': \"Ana & Goncalo were great on communication, responding instantly to questions.\\n5 of us stayed in their home for 3 nights and found the location to be great and central to all the amazing sights Porto has to offer. \\nWe found the home to be difficult to heat on our first night, the rooms have heaters but took time to get the room to a comfortable temperature level. But in warmer months Im sure this isn't an issue.\\nThe beds are a little hard with one slightly out of shape,  and the shower is fairly basic (hand held) but does the job. Because of the central location some noise can be expected early in the mornings. \\nOverall the apartment suited our needs for our short stay and the price is more than reasonable for what we got.\"}, {'_id': '403055315', 'date': datetime.datetime(2019, 1, 20, 5, 0), 'listing_id': '10006546', 'reviewer_id': '15138940', 'reviewer_name': 'Milo', 'comments': \"The house was extremely well located and Ana was able to give us some really great tips on locations to have lunch and eat out. The house was perfectly clean and the easily able to accommodate 6 people despite only having one bathroom. The beds and living room were comfortable. \\n\\nHowever, we always felt somewhat on edge in the house due to the number of signs posted around the kitchen, bedrooms and bathroom about being charged 15€ for all sorts of extras like not washing up or using extra towels and bed linen. Not that this would be particularly unreasonable but it made us feel like we were walking on egg shells in and around the house. \\n\\nThe hosts were aware that we were a group of six yet one of the beds was not prepared and we ran out of toilet paper well before we were due to check out despite only being there 2 nights. It really wasn't the end of the world but the shower head does not have a wall fitting meaning you had to hold it yourself if you wanted to stand underneath it.\"}]}\n",
            "{'_id': '10009999', 'listing_url': 'https://www.airbnb.com/rooms/10009999', 'name': 'Horto flat with small garden', 'summary': 'One bedroom + sofa-bed in quiet and bucolic neighbourhood right next to the Botanical Garden. Small garden, outside shower, well equipped kitchen and bathroom with shower and tub. Easy for transport with many restaurants and basic facilities in the area.', 'space': 'Lovely one bedroom + sofa-bed in the living room, perfect for two but fits up to four comfortably.  There´s a small outside garden with a shower There´s a well equipped open kitchen with both 110V / 220V wall plugs and one bathroom with shower, tub and even a sauna machine! All newly refurbished!', 'description': 'One bedroom + sofa-bed in quiet and bucolic neighbourhood right next to the Botanical Garden. Small garden, outside shower, well equipped kitchen and bathroom with shower and tub. Easy for transport with many restaurants and basic facilities in the area. Lovely one bedroom + sofa-bed in the living room, perfect for two but fits up to four comfortably.  There´s a small outside garden with a shower There´s a well equipped open kitchen with both 110V / 220V wall plugs and one bathroom with shower, tub and even a sauna machine! All newly refurbished! I´ll be happy to help you with any doubts, tips or any other information needed during your stay. This charming ground floor flat is located in Horto, a quiet and bucolic neighborhood just next to the Botanical Garden, where most of the descendants of it´s first gardeners still live. You´ll be 30 minutes walk from waterfalls in the rainforest with easy hiking trails! There are nice bars and restaurants as well as basic facilities - pharmacy, b', 'neighborhood_overview': 'This charming ground floor flat is located in Horto, a quiet and bucolic neighborhood just next to the Botanical Garden, where most of the descendants of it´s first gardeners still live. You´ll be 30 minutes walk from waterfalls in the rainforest with easy hiking trails! There are nice bars and restaurants as well as basic facilities - pharmacy, bakery, small market - in the area.', 'notes': 'There´s a table in the living room now, that does not show in the photos.', 'transit': 'Easy access to transport (bus, taxi, car) and easy free parking around. Very close to Gávea, Leblon, Ipanema, Copacabana and Botafogo.', 'access': '', 'interaction': 'I´ll be happy to help you with any doubts, tips or any other information needed during your stay.', 'house_rules': 'I just hope the guests treat the space as they´re own, with respect to it as well as to my neighbours! Espero apenas que os hóspedes tratem o lugar com carinho e respeito aos vizinhos!', 'property_type': 'Apartment', 'room_type': 'Entire home/apt', 'bed_type': 'Real Bed', 'minimum_nights': '2', 'maximum_nights': '1125', 'cancellation_policy': 'flexible', 'last_scraped': datetime.datetime(2019, 2, 11, 5, 0), 'calendar_last_scraped': datetime.datetime(2019, 2, 11, 5, 0), 'accommodates': 4, 'bedrooms': 1, 'beds': 2, 'number_of_reviews': 0, 'bathrooms': Decimal128('1.0'), 'amenities': ['Wifi', 'Wheelchair accessible', 'Kitchen', 'Free parking on premises', 'Smoking allowed', 'Hot tub', 'Buzzer/wireless intercom', 'Family/kid friendly', 'Washer', 'First aid kit', 'Essentials', 'Hangers', 'Hair dryer', 'Iron', 'Laptop friendly workspace'], 'price': Decimal128('317.00'), 'weekly_price': Decimal128('1492.00'), 'monthly_price': Decimal128('4849.00'), 'cleaning_fee': Decimal128('187.00'), 'extra_people': Decimal128('0.00'), 'guests_included': Decimal128('1'), 'images': {'thumbnail_url': '', 'medium_url': '', 'picture_url': 'https://a0.muscache.com/im/pictures/5b408b9e-45da-4808-be65-4edc1f29c453.jpg?aki_policy=large', 'xl_picture_url': ''}, 'host': {'host_id': '1282196', 'host_url': 'https://www.airbnb.com/users/show/1282196', 'host_name': 'Ynaie', 'host_location': 'Rio de Janeiro, State of Rio de Janeiro, Brazil', 'host_about': \"I am an artist and traveling is a major part of my life. I love treating visitors the way I like to be treated when I´m abroad and I'm usually renting my flat while I'm away. I can recommend some cool parties and nights out as well as advise on some hidden secrets of Rio’s nature!\", 'host_thumbnail_url': 'https://a0.muscache.com/im/pictures/9681e3cc-4af1-4046-b294-2881dffb4ff8.jpg?aki_policy=profile_small', 'host_picture_url': 'https://a0.muscache.com/im/pictures/9681e3cc-4af1-4046-b294-2881dffb4ff8.jpg?aki_policy=profile_x_medium', 'host_neighbourhood': 'Jardim Botânico', 'host_is_superhost': False, 'host_has_profile_pic': True, 'host_identity_verified': False, 'host_listings_count': 1, 'host_total_listings_count': 1, 'host_verifications': ['email', 'phone', 'facebook']}, 'address': {'street': 'Rio de Janeiro, Rio de Janeiro, Brazil', 'suburb': 'Jardim Botânico', 'government_area': 'Jardim Botânico', 'market': 'Rio De Janeiro', 'country': 'Brazil', 'country_code': 'BR', 'location': {'type': 'Point', 'coordinates': [-43.23074991429229, -22.966253551739655], 'is_location_exact': True}}, 'availability': {'availability_30': 0, 'availability_60': 0, 'availability_90': 0, 'availability_365': 0}, 'review_scores': {}, 'reviews': []}\n"
          ],
          "name": "stdout"
        }
      ]
    },
    {
      "cell_type": "markdown",
      "metadata": {
        "id": "ZoaS-ZQoIq-V",
        "colab_type": "text"
      },
      "source": [
        "MongoDB Extended JSON (v2)  \n",
        "https://docs.mongodb.com/manual/reference/mongodb-extended-json/  "
      ]
    },
    {
      "cell_type": "code",
      "metadata": {
        "id": "MNeCFBzK9HiA",
        "colab_type": "code",
        "outputId": "ab4a1ec1-211b-4081-8f85-038ce7dbbfe6",
        "colab": {
          "base_uri": "https://localhost:8080/",
          "height": 52
        }
      },
      "source": [
        "############################################################\n",
        "# connect to ElephantSQL\n",
        "############################################################\n",
        "!pip install psycopg2-binary\n",
        "import psycopg2\n",
        "print(psycopg2.__version__) # 2.8.3 (dt dec pq3 ext lo64)\n",
        "\n",
        "path = \"/content/drive/My Drive/config/elephantsql\"\n",
        "f = open(path, \"r\")\n",
        "dbname = f.readline().strip()\n",
        "user = f.readline().strip()\n",
        "password = f.readline().strip()\n",
        "host = f.readline().strip()\n",
        "f.close()\n",
        "\n",
        "pg_conn = psycopg2.connect(dbname=dbname, \n",
        "                           user=user,\n",
        "                           password=password, \n",
        "                           host=host)\n",
        "pg_curs = pg_conn.cursor()"
      ],
      "execution_count": 0,
      "outputs": [
        {
          "output_type": "stream",
          "text": [
            "Requirement already satisfied: psycopg2-binary in /usr/local/lib/python3.6/dist-packages (2.8.3)\n",
            "2.8.3 (dt dec pq3 ext lo64)\n"
          ],
          "name": "stdout"
        }
      ]
    },
    {
      "cell_type": "markdown",
      "metadata": {
        "id": "rNpIakfe4SAe",
        "colab_type": "text"
      },
      "source": [
        "https://stackoverflow.com/questions/25639088/show-table-structure-and-list-of-tables-in-postgresql   "
      ]
    },
    {
      "cell_type": "code",
      "metadata": {
        "id": "Tao7xOFR--aL",
        "colab_type": "code",
        "outputId": "0d2a9e53-3b7e-418a-8ab5-bffef56891b0",
        "colab": {
          "base_uri": "https://localhost:8080/",
          "height": 49
        }
      },
      "source": [
        "# test SQL\n",
        "sql1 = \"SELECT name FROM sqlite_master WHERE type='table';\"\n",
        "sql2 = \"select * from charactercreator_character limit 5\"\n",
        "sql3 = (\n",
        "\"\"\"\n",
        "SELECT *\n",
        "  FROM pg_catalog.pg_tables\n",
        " WHERE schemaname != 'pg_catalog'\n",
        "   AND schemaname != 'information_schema';\n",
        "\"\"\"\n",
        ")\n",
        "sql4 = (\n",
        "\"\"\"\n",
        "SELECT table_schema || '.' || table_name as show_tables\n",
        "  FROM information_schema.tables\n",
        " WHERE table_type = 'BASE TABLE'\n",
        "   AND table_schema NOT IN ('pg_catalog', 'information_schema');\n",
        "\"\"\"\n",
        ")\n",
        "sql5 = (\n",
        "\"\"\"\n",
        "select column_name, data_type, character_maximum_length\n",
        "  from INFORMATION_SCHEMA.COLUMNS \n",
        " where table_name ='charactercreator_character';\n",
        "\"\"\"\n",
        ")\n",
        "sql6 = \"select * from django_session\"\n",
        "pd.read_sql(sql6, pg_conn)"
      ],
      "execution_count": 0,
      "outputs": [
        {
          "output_type": "execute_result",
          "data": {
            "text/html": [
              "<div>\n",
              "<style scoped>\n",
              "    .dataframe tbody tr th:only-of-type {\n",
              "        vertical-align: middle;\n",
              "    }\n",
              "\n",
              "    .dataframe tbody tr th {\n",
              "        vertical-align: top;\n",
              "    }\n",
              "\n",
              "    .dataframe thead th {\n",
              "        text-align: right;\n",
              "    }\n",
              "</style>\n",
              "<table border=\"1\" class=\"dataframe\">\n",
              "  <thead>\n",
              "    <tr style=\"text-align: right;\">\n",
              "      <th></th>\n",
              "      <th>session_key</th>\n",
              "      <th>session_data</th>\n",
              "      <th>expire_date</th>\n",
              "    </tr>\n",
              "  </thead>\n",
              "  <tbody>\n",
              "  </tbody>\n",
              "</table>\n",
              "</div>"
            ],
            "text/plain": [
              "Empty DataFrame\n",
              "Columns: [session_key, session_data, expire_date]\n",
              "Index: []"
            ]
          },
          "metadata": {
            "tags": []
          },
          "execution_count": 144
        }
      ]
    },
    {
      "cell_type": "markdown",
      "metadata": {
        "id": "0qXy0jccIlxg",
        "colab_type": "text"
      },
      "source": [
        "### Migrate ElephantSQL database to MongoDB"
      ]
    },
    {
      "cell_type": "markdown",
      "metadata": {
        "id": "sOPO9LXZDAM7",
        "colab_type": "text"
      },
      "source": [
        "https://www.w3schools.com/python/python_mongodb_insert.asp  "
      ]
    },
    {
      "cell_type": "code",
      "metadata": {
        "id": "qu3OxPHHmelc",
        "colab_type": "code",
        "outputId": "d7373081-8c26-4887-b6b0-6a87f6ca7c05",
        "colab": {
          "base_uri": "https://localhost:8080/",
          "height": 1000
        }
      },
      "source": [
        "############################################################\n",
        "# migrate ElephantSQL database to MongoDB\n",
        "# (only use simply data types)\n",
        "############################################################\n",
        "# get all table names in database\n",
        "sql = (\n",
        "\"\"\"\n",
        "SELECT *\n",
        "  FROM pg_catalog.pg_tables\n",
        " WHERE schemaname != 'pg_catalog'\n",
        "   AND schemaname != 'information_schema';\n",
        "\"\"\"\n",
        ")\n",
        "df_tables = pd.read_sql(sql, pg_conn)\n",
        "tablenames = df_tables.tablename.to_list()\n",
        "pg_curs = pg_conn.cursor()\n",
        "\n",
        "# create a database\n",
        "db = client.prg_db\n",
        "\n",
        "for tablename in tablenames:\n",
        "    # create a collection (table)  \n",
        "    collection = db[tablename]\n",
        "    print(tablename)\n",
        "    \n",
        "    # get column names\n",
        "    sql = (\n",
        "    \"\"\"\n",
        "    select column_name\n",
        "      from INFORMATION_SCHEMA.COLUMNS \n",
        "     where table_name = '{}';\n",
        "    \"\"\".format(tablename)\n",
        "    )\n",
        "    pg_curs.execute(sql)\n",
        "    colnames = pg_curs.fetchall()\n",
        "    colnames = [c[0] for c in colnames]\n",
        "    print(colnames)\n",
        "    \n",
        "    # get data from table\n",
        "    sql = \"select * from {}\".format(tablename)\n",
        "    pg_curs.execute(sql)\n",
        "    tabledata = pg_curs.fetchall()\n",
        "    # if there is no data in the table, continue\n",
        "    if len(tabledata) <= 0: \n",
        "        print()\n",
        "        continue\n",
        "    print(list(tabledata[0]))\n",
        "    \n",
        "    # convert rows to docs, insert to collection\n",
        "    docs = []\n",
        "    for row in tabledata:\n",
        "        doc = dict([(k,v) for k,v in zip(colnames, list(row))])\n",
        "        docs.append(doc)\n",
        "    ids = collection.insert_many(docs)\n",
        "    print(ids)\n",
        "    print()\n",
        "    \n",
        "pg_curs.close()"
      ],
      "execution_count": 0,
      "outputs": [
        {
          "output_type": "stream",
          "text": [
            "charactercreator_character\n",
            "['character_id', 'name', 'level', 'exp', 'hp', 'strength', 'intelligence', 'dexterity', 'wisdom']\n",
            "[1, 'Aliquid iste optio reiciendi', 0, 0, 10, 1, 1, 1, 1]\n",
            "<pymongo.results.InsertManyResult object at 0x7fc9a1b98248>\n",
            "\n",
            "charactercreator_thief\n",
            "['character_ptr_id', 'is_sneaking', 'energy']\n",
            "[241, 0, 100]\n",
            "<pymongo.results.InsertManyResult object at 0x7fc99b31ac48>\n",
            "\n",
            "charactercreator_mage\n",
            "['character_ptr_id', 'has_pet', 'mana']\n",
            "[69, 1, 100]\n",
            "<pymongo.results.InsertManyResult object at 0x7fc9a1b98048>\n",
            "\n",
            "charactercreator_fighter\n",
            "['character_ptr_id', 'using_shield', 'rage']\n",
            "[1, 0, 100]\n",
            "<pymongo.results.InsertManyResult object at 0x7fc9a1b8b888>\n",
            "\n",
            "charactercreator_cleric\n",
            "['character_ptr_id', 'using_shield', 'mana']\n",
            "[166, 0, 100]\n",
            "<pymongo.results.InsertManyResult object at 0x7fc9a1b7e808>\n",
            "\n",
            "django_session\n",
            "['session_key', 'session_data', 'expire_date']\n",
            "\n",
            "charactercreator_necromancer\n",
            "['mage_ptr_id', 'talisman_charged']\n",
            "[292, 1]\n",
            "<pymongo.results.InsertManyResult object at 0x7fc99b313488>\n",
            "\n",
            "charactercreator_character_inventory\n",
            "['id', 'character_id', 'item_id']\n",
            "[1, 1, 58]\n",
            "<pymongo.results.InsertManyResult object at 0x7fc9a1b7e808>\n",
            "\n",
            "armory_item\n",
            "['item_id', 'name', 'value', 'weight']\n",
            "[1, 'Libero facere dolore, as', 0, 0]\n",
            "<pymongo.results.InsertManyResult object at 0x7fc99b313488>\n",
            "\n",
            "django_content_type\n",
            "['id', 'app_label', 'model']\n",
            "[1, 'admin', 'logentry']\n",
            "<pymongo.results.InsertManyResult object at 0x7fc99b316448>\n",
            "\n",
            "auth_permission\n",
            "['id', 'content_type_id', 'codename', 'name']\n",
            "[1, 1, 'add_logentry', 'Can add log entry']\n",
            "<pymongo.results.InsertManyResult object at 0x7fc99b316f88>\n",
            "\n",
            "armory_weapon\n",
            "['item_ptr_id', 'power']\n",
            "[138, 0]\n",
            "<pymongo.results.InsertManyResult object at 0x7fc9a1fae708>\n",
            "\n",
            "django_admin_log\n",
            "['id', 'object_id', 'object_repr', 'action_flag', 'change_message', 'content_type_id', 'user_id', 'action_time']\n",
            "\n",
            "auth_user\n",
            "['id', 'password', 'last_login', 'is_superuser', 'username', 'first_name', 'email', 'is_staff', 'is_active', 'date_joined', 'last_name']\n",
            "\n",
            "auth_user_user_permissions\n",
            "['id', 'user_id', 'permission_id']\n",
            "\n",
            "auth_group\n",
            "['id', 'name']\n",
            "\n",
            "auth_user_groups\n",
            "['id', 'user_id', 'group_id']\n",
            "\n",
            "auth_group_permissions\n",
            "['id', 'group_id', 'permission_id']\n",
            "\n",
            "django_migrations\n",
            "['id', 'app', 'name', 'applied']\n",
            "[1, 'contenttypes', '0001_initial', datetime.datetime(2018, 3, 8, 18, 37, 26, 825261, tzinfo=psycopg2.tz.FixedOffsetTimezone(offset=0, name=None))]\n",
            "<pymongo.results.InsertManyResult object at 0x7fc9a1b4f808>\n",
            "\n"
          ],
          "name": "stdout"
        }
      ]
    },
    {
      "cell_type": "markdown",
      "metadata": {
        "id": "yUK16PCzJPs0",
        "colab_type": "text"
      },
      "source": [
        "**Database successfully migrated**  \n",
        "\n",
        "<img src=\"https://github.com/Nov05/pictures/blob/master/pic001/2019-08-15%2002_17_12-Microsoft%20Store.png?raw=true\" width=\"700\">"
      ]
    }
  ]
}