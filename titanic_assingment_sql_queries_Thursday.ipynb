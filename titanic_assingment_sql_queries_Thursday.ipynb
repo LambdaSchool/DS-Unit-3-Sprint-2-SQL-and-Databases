{
 "cells": [
  {
   "cell_type": "code",
   "execution_count": 1,
   "metadata": {},
   "outputs": [
    {
     "data": {
      "text/plain": [
       "' import sqlite3 as sql'"
      ]
     },
     "execution_count": 1,
     "metadata": {},
     "output_type": "execute_result"
    }
   ],
   "source": [
    "import sqlite3 as sql\n",
    "\"\"\" import sqlite3 as sql\"\"\""
   ]
  },
  {
   "cell_type": "code",
   "execution_count": 2,
   "metadata": {},
   "outputs": [],
   "source": [
    "conn = sql.connect('/home/mishraka/repos/manjulamishra/titanic.sqlite3')"
   ]
  },
  {
   "cell_type": "code",
   "execution_count": 3,
   "metadata": {},
   "outputs": [],
   "source": [
    "curs = conn.cursor()"
   ]
  },
  {
   "cell_type": "code",
   "execution_count": 17,
   "metadata": {},
   "outputs": [],
   "source": [
    "# How many passengers survived, and how many died?\n",
    "survivals_query = \"\"\"SELECT COUNT(titanic.Survived)\n",
    "FROM titanic WHERE titanic.Survived =1;\"\"\""
   ]
  },
  {
   "cell_type": "code",
   "execution_count": 18,
   "metadata": {},
   "outputs": [
    {
     "data": {
      "text/plain": [
       "<sqlite3.Cursor at 0x7f0df40beb90>"
      ]
     },
     "execution_count": 18,
     "metadata": {},
     "output_type": "execute_result"
    }
   ],
   "source": [
    "curs.execute(survivals_query)"
   ]
  },
  {
   "cell_type": "code",
   "execution_count": 19,
   "metadata": {},
   "outputs": [
    {
     "name": "stdout",
     "output_type": "stream",
     "text": [
      "[(342,)]\n"
     ]
    }
   ],
   "source": [
    "print(curs.fetchall())"
   ]
  },
  {
   "cell_type": "code",
   "execution_count": 33,
   "metadata": {},
   "outputs": [
    {
     "name": "stdout",
     "output_type": "stream",
     "text": [
      "[(216,)]\n"
     ]
    }
   ],
   "source": [
    "#How many passengers were in each class?\n",
    "pclass1_query = \"\"\"SELECT COUNT(titanic.Pclass)\n",
    "FROM titanic WHERE titanic.Pclass=1;\"\"\"\n",
    "curs.execute(pclass_query)\n",
    "print(curs.fetchall())"
   ]
  },
  {
   "cell_type": "code",
   "execution_count": 35,
   "metadata": {},
   "outputs": [
    {
     "name": "stdout",
     "output_type": "stream",
     "text": [
      "[(184,)]\n"
     ]
    }
   ],
   "source": [
    "pclass2_query = \"\"\"SELECT COUNT(titanic.Pclass)\n",
    "FROM titanic WHERE titanic.Pclass=2;\"\"\"\n",
    "curs.execute(pclass2_query)\n",
    "print(curs.fetchall())"
   ]
  },
  {
   "cell_type": "code",
   "execution_count": 36,
   "metadata": {},
   "outputs": [
    {
     "name": "stdout",
     "output_type": "stream",
     "text": [
      "[(487,)]\n"
     ]
    }
   ],
   "source": [
    "pclass3_query = \"\"\"SELECT COUNT(titanic.Pclass)\n",
    "FROM titanic WHERE titanic.Pclass=3;\"\"\"\n",
    "curs.execute(pclass3_query)\n",
    "print(curs.fetchall())"
   ]
  },
  {
   "cell_type": "code",
   "execution_count": 39,
   "metadata": {},
   "outputs": [
    {
     "name": "stdout",
     "output_type": "stream",
     "text": [
      "[(0,)]\n"
     ]
    }
   ],
   "source": [
    "pclass4_query = \"\"\"SELECT COUNT(titanic.Pclass)\n",
    "FROM titanic WHERE titanic.Pclass=4;\"\"\"\n",
    "curs.execute(pclass4_query)\n",
    "print(curs.fetchall())"
   ]
  },
  {
   "cell_type": "code",
   "execution_count": 51,
   "metadata": {},
   "outputs": [],
   "source": [
    "# How many passengers survived/died within each class?\n",
    "survivals_in_class1 = \"\"\"SELECT COUNT(titanic.Survived)\n",
    "FROM titanic WHERE titanic.Survived =1 AND titanic.Pclass=1;\"\"\""
   ]
  },
  {
   "cell_type": "code",
   "execution_count": 52,
   "metadata": {},
   "outputs": [
    {
     "name": "stdout",
     "output_type": "stream",
     "text": [
      "[(136,)]\n"
     ]
    }
   ],
   "source": [
    "curs.execute(survivals_in_class1)\n",
    "print(curs.fetchall())"
   ]
  },
  {
   "cell_type": "code",
   "execution_count": 53,
   "metadata": {},
   "outputs": [
    {
     "name": "stdout",
     "output_type": "stream",
     "text": [
      "[(87,)]\n"
     ]
    }
   ],
   "source": [
    "survivals_in_class2 = \"\"\"SELECT COUNT(titanic.Survived)\n",
    "FROM titanic WHERE titanic.Survived =1 AND titanic.Pclass=2;\"\"\"\n",
    "curs.execute(survivals_in_class2)\n",
    "print(curs.fetchall())"
   ]
  },
  {
   "cell_type": "code",
   "execution_count": 54,
   "metadata": {},
   "outputs": [
    {
     "name": "stdout",
     "output_type": "stream",
     "text": [
      "[(119,)]\n"
     ]
    }
   ],
   "source": [
    "survivals_in_class3 = \"\"\"SELECT COUNT(titanic.Survived)\n",
    "FROM titanic WHERE titanic.Survived =1 AND titanic.Pclass=3;\"\"\"\n",
    "curs.execute(survivals_in_class3)\n",
    "print(curs.fetchall())"
   ]
  },
  {
   "cell_type": "code",
   "execution_count": 57,
   "metadata": {},
   "outputs": [],
   "source": [
    "# What was the average age of survivors vs nonsurvivors?\n",
    "ave_age_survivor = \"\"\"SELECT AVG(titanic.Age)\n",
    "FROM titanic WHERE titanic.Survived=1\"\"\""
   ]
  },
  {
   "cell_type": "code",
   "execution_count": 59,
   "metadata": {},
   "outputs": [
    {
     "name": "stdout",
     "output_type": "stream",
     "text": [
      "[(28.408391812865496,)]\n"
     ]
    }
   ],
   "source": [
    "curs.execute(ave_age_survivor)\n",
    "print(curs.fetchall())"
   ]
  },
  {
   "cell_type": "code",
   "execution_count": 60,
   "metadata": {},
   "outputs": [],
   "source": [
    "ave_age_non_survivors = \"\"\"SELECT AVG(titanic.Age)\n",
    "FROM titanic WHERE titanic.Survived =0\"\"\""
   ]
  },
  {
   "cell_type": "code",
   "execution_count": 61,
   "metadata": {},
   "outputs": [
    {
     "name": "stdout",
     "output_type": "stream",
     "text": [
      "[(30.13853211009174,)]\n"
     ]
    }
   ],
   "source": [
    "curs.execute(ave_age_non_survivors)\n",
    "print(curs.fetchall())"
   ]
  },
  {
   "cell_type": "code",
   "execution_count": 62,
   "metadata": {},
   "outputs": [
    {
     "name": "stdout",
     "output_type": "stream",
     "text": [
      "[(38.78898148148148,)]\n"
     ]
    }
   ],
   "source": [
    "# What was the average age of each passenger class?\n",
    "ave_age_pclass = \"\"\"SELECT AVG(titanic.Age)\n",
    "FROM titanic WHERE titanic.Pclass =1\"\"\"\n",
    "curs.execute(ave_age_pclass)\n",
    "print(curs.fetchall())"
   ]
  },
  {
   "cell_type": "code",
   "execution_count": 63,
   "metadata": {},
   "outputs": [
    {
     "name": "stdout",
     "output_type": "stream",
     "text": [
      "[(29.868641304347825,)]\n"
     ]
    }
   ],
   "source": [
    "ave_age_pclass2 = \"\"\"SELECT AVG(titanic.Age)\n",
    "FROM titanic WHERE titanic.Pclass =2\"\"\"\n",
    "curs.execute(ave_age_pclass2)\n",
    "print(curs.fetchall())"
   ]
  },
  {
   "cell_type": "code",
   "execution_count": 64,
   "metadata": {},
   "outputs": [
    {
     "name": "stdout",
     "output_type": "stream",
     "text": [
      "[(25.188747433264886,)]\n"
     ]
    }
   ],
   "source": [
    "ave_age_pclass3 = \"\"\"SELECT AVG(titanic.Age)\n",
    "FROM titanic WHERE titanic.Pclass =3\"\"\"\n",
    "curs.execute(ave_age_pclass3)\n",
    "print(curs.fetchall())"
   ]
  },
  {
   "cell_type": "code",
   "execution_count": 65,
   "metadata": {},
   "outputs": [
    {
     "name": "stdout",
     "output_type": "stream",
     "text": [
      "[(84.15468749999992,)]\n"
     ]
    }
   ],
   "source": [
    "# What was the average fare by passenger class? By survival?\n",
    "ave_fare_pclass = \"\"\"SELECT AVG(titanic.Fare)\n",
    "FROM titanic WHERE titanic.Pclass =1\"\"\"\n",
    "curs.execute(ave_fare_pclass)\n",
    "print(curs.fetchall())"
   ]
  },
  {
   "cell_type": "code",
   "execution_count": 66,
   "metadata": {},
   "outputs": [
    {
     "name": "stdout",
     "output_type": "stream",
     "text": [
      "[(20.66218315217391,)]\n"
     ]
    }
   ],
   "source": [
    "ave_fare_pclass2 = \"\"\"SELECT AVG(titanic.Fare)\n",
    "FROM titanic WHERE titanic.Pclass =2\"\"\"\n",
    "curs.execute(ave_fare_pclass2)\n",
    "print(curs.fetchall())"
   ]
  },
  {
   "cell_type": "code",
   "execution_count": 68,
   "metadata": {},
   "outputs": [
    {
     "name": "stdout",
     "output_type": "stream",
     "text": [
      "[(13.707707392197129,)]\n"
     ]
    }
   ],
   "source": [
    "ave_fare_pclass3 = \"\"\"SELECT AVG(titanic.Fare)\n",
    "FROM titanic WHERE titanic.Pclass =3\"\"\"\n",
    "curs.execute(ave_fare_pclass3)\n",
    "print(curs.fetchall())"
   ]
  },
  {
   "cell_type": "code",
   "execution_count": 71,
   "metadata": {},
   "outputs": [
    {
     "name": "stdout",
     "output_type": "stream",
     "text": [
      "[(48.39540760233917,)]\n"
     ]
    }
   ],
   "source": [
    "ave_fare_survival1 = \"\"\"SELECT AVG(titanic.Fare)\n",
    "FROM titanic WHERE titanic.Survived =1\"\"\"\n",
    "curs.execute(ave_fare_survival)\n",
    "print(curs.fetchall())"
   ]
  },
  {
   "cell_type": "code",
   "execution_count": 72,
   "metadata": {},
   "outputs": [
    {
     "name": "stdout",
     "output_type": "stream",
     "text": [
      "[(22.208584036697225,)]\n"
     ]
    }
   ],
   "source": [
    "ave_fare_survival0 = \"\"\"SELECT AVG(titanic.Fare)\n",
    "FROM titanic WHERE titanic.Survived =0\"\"\"\n",
    "curs.execute(ave_fare_survival0)\n",
    "print(curs.fetchall())"
   ]
  },
  {
   "cell_type": "code",
   "execution_count": 76,
   "metadata": {},
   "outputs": [
    {
     "name": "stdout",
     "output_type": "stream",
     "text": [
      "[(0.4166666666666667,)]\n"
     ]
    }
   ],
   "source": [
    "# How many siblings/spouses aboard on average, by passenger class? By survival?\n",
    "no_siblings = \"\"\"SELECT AVG(titanic.'Siblings/SpousesAboard')\n",
    "FROM titanic WHERE titanic.Pclass =1\"\"\"\n",
    "curs.execute(no_siblings)\n",
    "print(curs.fetchall())\n",
    "\n",
    "\n"
   ]
  },
  {
   "cell_type": "code",
   "execution_count": 77,
   "metadata": {},
   "outputs": [
    {
     "name": "stdout",
     "output_type": "stream",
     "text": [
      "[(0.40217391304347827,)]\n"
     ]
    }
   ],
   "source": [
    "no_siblings2 = \"\"\"SELECT AVG(titanic.'Siblings/SpousesAboard')\n",
    "FROM titanic WHERE titanic.Pclass =2\"\"\"\n",
    "curs.execute(no_siblings2)\n",
    "print(curs.fetchall())\n"
   ]
  },
  {
   "cell_type": "code",
   "execution_count": 78,
   "metadata": {},
   "outputs": [
    {
     "name": "stdout",
     "output_type": "stream",
     "text": [
      "[(0.6201232032854209,)]\n"
     ]
    }
   ],
   "source": [
    "no_siblings3 = \"\"\"SELECT AVG(titanic.'Siblings/SpousesAboard')\n",
    "FROM titanic WHERE titanic.Pclass =3\"\"\"\n",
    "curs.execute(no_siblings3)\n",
    "print(curs.fetchall())\n"
   ]
  },
  {
   "cell_type": "code",
   "execution_count": 79,
   "metadata": {},
   "outputs": [
    {
     "name": "stdout",
     "output_type": "stream",
     "text": [
      "[(0.5577981651376147,)]\n"
     ]
    }
   ],
   "source": [
    "# By Survival\n",
    "no_sib_by_survival = \"\"\"SELECT AVG(titanic.'Siblings/SpousesAboard')\n",
    "FROM titanic WHERE titanic.Survived =0\"\"\"\n",
    "curs.execute(no_sib_by_survival)\n",
    "print(curs.fetchall())"
   ]
  },
  {
   "cell_type": "code",
   "execution_count": 80,
   "metadata": {},
   "outputs": [
    {
     "name": "stdout",
     "output_type": "stream",
     "text": [
      "[(0.47368421052631576,)]\n"
     ]
    }
   ],
   "source": [
    "# By Survival\n",
    "no_sib_by_survival1 = \"\"\"SELECT AVG(titanic.'Siblings/SpousesAboard')\n",
    "FROM titanic WHERE titanic.Survived =1\"\"\"\n",
    "curs.execute(no_sib_by_survival1)\n",
    "print(curs.fetchall())"
   ]
  },
  {
   "cell_type": "code",
   "execution_count": 83,
   "metadata": {},
   "outputs": [
    {
     "name": "stdout",
     "output_type": "stream",
     "text": [
      "[(0.35648148148148145,)]\n"
     ]
    }
   ],
   "source": [
    "# How many parents/children aboard on average, by passenger class? By survival?\n",
    "no_of_children1 = \"\"\"SELECT AVG(titanic.'Parents/ChildrenAboard')\n",
    "FROM titanic WHERE titanic.Pclass =1\"\"\"\n",
    "curs.execute(no_of_children1)\n",
    "print(curs.fetchall())\n"
   ]
  },
  {
   "cell_type": "code",
   "execution_count": 85,
   "metadata": {},
   "outputs": [
    {
     "name": "stdout",
     "output_type": "stream",
     "text": [
      "[(0.3804347826086957,)]\n"
     ]
    }
   ],
   "source": [
    "no_of_children2 = \"\"\"SELECT AVG(titanic.'Parents/ChildrenAboard')\n",
    "FROM titanic WHERE titanic.Pclass =2\"\"\"\n",
    "curs.execute(no_of_children2)\n",
    "print(curs.fetchall())"
   ]
  },
  {
   "cell_type": "code",
   "execution_count": 86,
   "metadata": {},
   "outputs": [
    {
     "name": "stdout",
     "output_type": "stream",
     "text": [
      "[(0.39630390143737165,)]\n"
     ]
    }
   ],
   "source": [
    "no_of_children3 = \"\"\"SELECT AVG(titanic.'Parents/ChildrenAboard')\n",
    "FROM titanic WHERE titanic.Pclass =3\"\"\"\n",
    "curs.execute(no_of_children3)\n",
    "print(curs.fetchall())"
   ]
  },
  {
   "cell_type": "code",
   "execution_count": 88,
   "metadata": {},
   "outputs": [
    {
     "name": "stdout",
     "output_type": "stream",
     "text": [
      "[(0.3321100917431193,)]\n"
     ]
    }
   ],
   "source": [
    "no_of_children_survied0 = \"\"\"SELECT AVG(titanic.'Parents/ChildrenAboard')\n",
    "FROM titanic WHERE titanic.Survived =0\"\"\"\n",
    "curs.execute(no_of_children_survied0)\n",
    "print(curs.fetchall())"
   ]
  },
  {
   "cell_type": "code",
   "execution_count": 90,
   "metadata": {},
   "outputs": [
    {
     "name": "stdout",
     "output_type": "stream",
     "text": [
      "[(0.4649122807017544,)]\n"
     ]
    }
   ],
   "source": [
    "no_of_children_survied1 = \"\"\"SELECT AVG(titanic.'Parents/ChildrenAboard')\n",
    "FROM titanic WHERE titanic.Survived =1\"\"\"\n",
    "curs.execute(no_of_children_survied1)\n",
    "print(curs.fetchall())"
   ]
  },
  {
   "cell_type": "code",
   "execution_count": 105,
   "metadata": {},
   "outputs": [
    {
     "name": "stdout",
     "output_type": "stream",
     "text": [
      "[]\n"
     ]
    }
   ],
   "source": [
    "# Do any passengers have the same name?\n",
    "same_name = \"\"\"SELECT Name, COUNT(*) c FROM titanic GROUP BY Name HAVING c > 1;\"\"\"\n",
    "curs.execute(same_name)\n",
    "print(curs.fetchall())"
   ]
  },
  {
   "cell_type": "code",
   "execution_count": 102,
   "metadata": {},
   "outputs": [
    {
     "name": "stdout",
     "output_type": "stream",
     "text": [
      "[]\n"
     ]
    }
   ],
   "source": [
    "same_name  = \"\"\"SELECT Name, COUNT(*) \n",
    "FROM titanic\n",
    "GROUP BY Name\n",
    "HAVING COUNT(Name) > 1;\"\"\"\n",
    "curs.execute(same_name)\n",
    "print(curs.fetchall())"
   ]
  }
 ],
 "metadata": {
  "kernelspec": {
   "display_name": "Python 3",
   "language": "python",
   "name": "python3"
  },
  "language_info": {
   "codemirror_mode": {
    "name": "ipython",
    "version": 3
   },
   "file_extension": ".py",
   "mimetype": "text/x-python",
   "name": "python",
   "nbconvert_exporter": "python",
   "pygments_lexer": "ipython3",
   "version": "3.7.2"
  },
  "latex_envs": {
   "LaTeX_envs_menu_present": true,
   "autoclose": true,
   "autocomplete": true,
   "bibliofile": "biblio.bib",
   "cite_by": "apalike",
   "current_citInitial": 1,
   "eqLabelWithNumbers": true,
   "eqNumInitial": 1,
   "hotkeys": {
    "equation": "Ctrl-E",
    "itemize": "Ctrl-I"
   },
   "labels_anchors": false,
   "latex_user_defs": false,
   "report_style_numbering": false,
   "user_envs_cfg": false
  }
 },
 "nbformat": 4,
 "nbformat_minor": 2
}
