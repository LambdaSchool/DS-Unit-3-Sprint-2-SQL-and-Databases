{
 "cells": [
  {
   "cell_type": "code",
   "execution_count": 1,
   "metadata": {},
   "outputs": [],
   "source": [
    "import sqlite3 as sql"
   ]
  },
  {
   "cell_type": "code",
   "execution_count": 2,
   "metadata": {},
   "outputs": [],
   "source": [
    "db = sql.connect(\"demo_data.sqlite3\")"
   ]
  },
  {
   "cell_type": "code",
   "execution_count": 3,
   "metadata": {},
   "outputs": [],
   "source": [
    "cursor = db.cursor()"
   ]
  },
  {
   "cell_type": "code",
   "execution_count": 4,
   "metadata": {},
   "outputs": [
    {
     "data": {
      "text/plain": [
       "<sqlite3.Cursor at 0x7f89d4b17570>"
      ]
     },
     "execution_count": 4,
     "metadata": {},
     "output_type": "execute_result"
    }
   ],
   "source": [
    "db.execute(\"DROP TABLE demo\")"
   ]
  },
  {
   "cell_type": "code",
   "execution_count": 5,
   "metadata": {},
   "outputs": [],
   "source": [
    "t = db.execute(\n",
    "    \"\"\"\n",
    "    CREATE TABLE demo(\n",
    "      s TEXT,\n",
    "      x INTEGER,\n",
    "      y INTEGER\n",
    "    )\n",
    "    \"\"\"\n",
    ")"
   ]
  },
  {
   "cell_type": "code",
   "execution_count": 6,
   "metadata": {},
   "outputs": [
    {
     "data": {
      "text/plain": [
       "<sqlite3.Cursor at 0x7f89d53872d0>"
      ]
     },
     "execution_count": 6,
     "metadata": {},
     "output_type": "execute_result"
    }
   ],
   "source": [
    "cursor.executemany(\n",
    "    \"\"\"\n",
    "    INSERT INTO demo (s,x,y) VALUES(?,?,?)\n",
    "    \"\"\",\n",
    "    [\n",
    "        ('s', 3, 9),\n",
    "        ('v', 5, 7),\n",
    "        ('f', 8, 7)\n",
    "    ]\n",
    ")"
   ]
  },
  {
   "cell_type": "code",
   "execution_count": 7,
   "metadata": {
    "scrolled": true
   },
   "outputs": [
    {
     "name": "stdout",
     "output_type": "stream",
     "text": [
      "rows: 3\n"
     ]
    }
   ],
   "source": [
    "print(f'rows: {db.execute(\"SELECT COUNT(*) FROM demo\").fetchone()[0]}')\n",
    "# rows: 3"
   ]
  },
  {
   "cell_type": "code",
   "execution_count": 8,
   "metadata": {},
   "outputs": [
    {
     "name": "stdout",
     "output_type": "stream",
     "text": [
      "number of x,y >= 5: 2\n"
     ]
    }
   ],
   "source": [
    "c = db.execute(\"SELECT COUNT(*) FROM demo WHERE x >= 5 AND y >= 5\").fetchone()[0]\n",
    "print(f'number of x,y >= 5: {c}')\n",
    "# number of x,y >= 5: 2"
   ]
  },
  {
   "cell_type": "code",
   "execution_count": 10,
   "metadata": {},
   "outputs": [
    {
     "name": "stdout",
     "output_type": "stream",
     "text": [
      "How many unique values of `y` are there: 2\n"
     ]
    }
   ],
   "source": [
    "c = db.execute(\"SELECT COUNT(DISTINCT y) FROM demo\").fetchone()[0]\n",
    "print(f\"How many unique values of `y` are there: {c}\")\n",
    "# How many unique values of `y` are there: 2"
   ]
  },
  {
   "cell_type": "code",
   "execution_count": 11,
   "metadata": {},
   "outputs": [],
   "source": [
    "db = sql.connect('northwind_small.sqlite3')"
   ]
  },
  {
   "cell_type": "code",
   "execution_count": 12,
   "metadata": {},
   "outputs": [
    {
     "name": "stdout",
     "output_type": "stream",
     "text": [
      "[('Employee',), ('Category',), ('Customer',), ('Shipper',), ('Supplier',), ('Order',), ('Product',), ('OrderDetail',), ('CustomerCustomerDemo',), ('CustomerDemographic',), ('Region',), ('Territory',), ('EmployeeTerritory',)]\n"
     ]
    }
   ],
   "source": [
    "cursor = db.cursor()\n",
    "cursor.execute(\"SELECT name FROM sqlite_master WHERE type='table';\")\n",
    "print(cursor.fetchall())"
   ]
  },
  {
   "cell_type": "code",
   "execution_count": 47,
   "metadata": {},
   "outputs": [
    {
     "data": {
      "text/plain": [
       "(('Id', None, None, None, None, None, None),\n",
       " ('LastName', None, None, None, None, None, None),\n",
       " ('FirstName', None, None, None, None, None, None),\n",
       " ('Title', None, None, None, None, None, None),\n",
       " ('TitleOfCourtesy', None, None, None, None, None, None),\n",
       " ('BirthDate', None, None, None, None, None, None),\n",
       " ('HireDate', None, None, None, None, None, None),\n",
       " ('Address', None, None, None, None, None, None),\n",
       " ('City', None, None, None, None, None, None),\n",
       " ('Region', None, None, None, None, None, None),\n",
       " ('PostalCode', None, None, None, None, None, None),\n",
       " ('Country', None, None, None, None, None, None),\n",
       " ('HomePhone', None, None, None, None, None, None),\n",
       " ('Extension', None, None, None, None, None, None),\n",
       " ('Photo', None, None, None, None, None, None),\n",
       " ('Notes', None, None, None, None, None, None),\n",
       " ('ReportsTo', None, None, None, None, None, None),\n",
       " ('PhotoPath', None, None, None, None, None, None))"
      ]
     },
     "execution_count": 47,
     "metadata": {},
     "output_type": "execute_result"
    }
   ],
   "source": [
    "    q = f\"\"\"\n",
    "      SELECT * FROM Employee LIMIT 0\n",
    "      \"\"\"\n",
    "    co = cursor.execute(q).description\n",
    "    co"
   ]
  },
  {
   "cell_type": "code",
   "execution_count": 54,
   "metadata": {},
   "outputs": [
    {
     "data": {
      "text/plain": [
       "(('Id', None, None, None, None, None, None),\n",
       " ('EmployeeId', None, None, None, None, None, None),\n",
       " ('TerritoryId', None, None, None, None, None, None))"
      ]
     },
     "execution_count": 54,
     "metadata": {},
     "output_type": "execute_result"
    }
   ],
   "source": [
    "    q = f\"\"\"\n",
    "      SELECT * FROM EmployeeTerritory LIMIT 0\n",
    "      \"\"\"\n",
    "    co = cursor.execute(q).description\n",
    "    co"
   ]
  },
  {
   "cell_type": "code",
   "execution_count": 60,
   "metadata": {},
   "outputs": [
    {
     "data": {
      "text/plain": [
       "(('Id', None, None, None, None, None, None),\n",
       " ('RegionDescription', None, None, None, None, None, None))"
      ]
     },
     "execution_count": 60,
     "metadata": {},
     "output_type": "execute_result"
    }
   ],
   "source": [
    "    q = f\"\"\"\n",
    "      SELECT * FROM Region LIMIT 0\n",
    "      \"\"\"\n",
    "    co = cursor.execute(q).description\n",
    "    co"
   ]
  },
  {
   "cell_type": "code",
   "execution_count": 51,
   "metadata": {},
   "outputs": [
    {
     "data": {
      "text/plain": [
       "(('Id', None, None, None, None, None, None),\n",
       " ('TerritoryDescription', None, None, None, None, None, None),\n",
       " ('RegionId', None, None, None, None, None, None))"
      ]
     },
     "execution_count": 51,
     "metadata": {},
     "output_type": "execute_result"
    }
   ],
   "source": [
    "    q = f\"\"\"\n",
    "      SELECT * FROM Territory LIMIT 0\n",
    "      \"\"\"\n",
    "    co = cursor.execute(q).description\n",
    "    co"
   ]
  },
  {
   "cell_type": "code",
   "execution_count": 82,
   "metadata": {},
   "outputs": [],
   "source": [
    "c = db.execute(\n",
    "    \"\"\"\n",
    "    SELECT p.ProductName FROM Product p ORDER BY p.UnitPrice LIMIT 10\n",
    "    \"\"\"\n",
    ").fetchall()"
   ]
  },
  {
   "cell_type": "code",
   "execution_count": 83,
   "metadata": {},
   "outputs": [
    {
     "name": "stdout",
     "output_type": "stream",
     "text": [
      "What are the ten most expensive items (per unit price) in the database? [('Geitost',), ('Guaraná Fantástica',), ('Konbu',), ('Filo Mix',), ('Tourtière',), ('Rhönbräu Klosterbier',), ('Tunnbröd',), ('Teatime Chocolate Biscuits',), ('Rogede sild',), ('Zaanse koeken',)]\n"
     ]
    }
   ],
   "source": [
    "print(f\"What are the ten most expensive items (per unit price) in the database? {c}\") \n",
    "\n",
    "# What are the ten most expensive items (per unit price) in the database? [('Geitost',), ('Guaraná Fantástica',), ('Konbu',), ('Filo Mix',), ('Tourtière',), ('Rhönbräu Klosterbier',), ('Tunnbröd',), ('Teatime Chocolate Biscuits',), ('Rogede sild',), ('Zaanse koeken',)]\n"
   ]
  },
  {
   "cell_type": "code",
   "execution_count": 26,
   "metadata": {},
   "outputs": [
    {
     "name": "stdout",
     "output_type": "stream",
     "text": [
      "What is the average age of an employee at the time of their hiring? 37.22222222222222\n"
     ]
    }
   ],
   "source": [
    "c = db.execute(\n",
    "    \"\"\"\n",
    "    SELECT AVG(e.HireDate - e.BirthDate) FROM employee e\n",
    "    \"\"\"\n",
    ").fetchone()[0]\n",
    "print(f\"What is the average age of an employee at the time of their hiring? {c}\")\n",
    "# What is the average age of an employee at the time of their hiring? 37.22222222222222"
   ]
  },
  {
   "cell_type": "code",
   "execution_count": 49,
   "metadata": {},
   "outputs": [],
   "source": [
    "c = db.execute(\n",
    "    \"\"\"\n",
    "    SELECT AVG(e.HireDate - e.BirthDate), City from employee e GROUP BY e.City\n",
    "    \"\"\"\n",
    ").fetchall()"
   ]
  },
  {
   "cell_type": "code",
   "execution_count": 50,
   "metadata": {},
   "outputs": [
    {
     "name": "stdout",
     "output_type": "stream",
     "text": [
      "(*Stretch*) How does the average age of employee at hire vary by city? [(29.0, 'Kirkland'), (32.5, 'London'), (56.0, 'Redmond'), (40.0, 'Seattle'), (40.0, 'Tacoma')]\n"
     ]
    }
   ],
   "source": [
    "print(f\"(*Stretch*) How does the average age of employee at hire vary by city? {c}\")\n",
    "# (*Stretch*) How does the average age of employee at hire vary by city? [(29.0, 'Kirkland'), (32.5, 'London'), (56.0, 'Redmond'), (40.0, 'Seattle'), (40.0, 'Tacoma')]"
   ]
  },
  {
   "cell_type": "code",
   "execution_count": 34,
   "metadata": {},
   "outputs": [
    {
     "name": "stdout",
     "output_type": "stream",
     "text": [
      "What are the ten most expensive items (per unit price) in the database *and* their suppliers? [('Geitost', 'Norske Meierier'), ('Guaraná Fantástica', 'Refrescos Americanas LTDA'), ('Konbu', \"Mayumi's\"), ('Filo Mix', \"G'day, Mate\"), ('Tourtière', 'Ma Maison'), ('Rhönbräu Klosterbier', 'Plutzer Lebensmittelgroßmärkte AG'), ('Tunnbröd', 'PB Knäckebröd AB'), ('Teatime Chocolate Biscuits', 'Specialty Biscuits, Ltd.'), ('Rogede sild', 'Lyngbysild'), ('Zaanse koeken', 'Zaanse Snoepfabriek')]\n"
     ]
    }
   ],
   "source": [
    "c = db.execute(\n",
    "    \"\"\"\n",
    "    SELECT p.ProductName, s.CompanyName  FROM PRODUCT p JOIN Supplier s ON p.SupplierId = s.Id ORDER BY p.UnitPrice LIMIT 10\n",
    "    \"\"\"\n",
    ").fetchall()\n",
    "print(f\"What are the ten most expensive items (per unit price) in the database *and* \\\n",
    "their suppliers? {c}\")"
   ]
  },
  {
   "cell_type": "code",
   "execution_count": 44,
   "metadata": {},
   "outputs": [],
   "source": [
    "c = db.execute(\n",
    "    \"\"\"\n",
    "    SELECT COUNT(*) AS Result FROM Product p GROUP BY p.CategoryId\n",
    "    order by Result desc\n",
    "    limit 1\n",
    "    \"\"\"\n",
    ").fetchone()[0]\n"
   ]
  },
  {
   "cell_type": "code",
   "execution_count": 46,
   "metadata": {},
   "outputs": [
    {
     "name": "stdout",
     "output_type": "stream",
     "text": [
      "What is the largest category (by number of products in it?) 13\n"
     ]
    }
   ],
   "source": [
    "print(f\"What is the largest category (by number of products in it?) {c}\")\n",
    "# What is the largest category (by number of products in it?) 13"
   ]
  },
  {
   "cell_type": "code",
   "execution_count": 71,
   "metadata": {},
   "outputs": [],
   "source": [
    "c = db.execute(\n",
    "    \"\"\"\n",
    "    SELECT t.TerritoryDescription,  COUNT(*) as Employees FROM employee AS e \n",
    "    JOIN EmployeeTerritory AS et ON e.Id = et.EmployeeId\n",
    "    JOIN Territory t ON t.Id = et.TerritoryId\n",
    "    GROUP BY et.EmployeeId\n",
    "    ORDER BY Employees DESC\n",
    "    LIMIT 1\n",
    "    \"\"\"\n",
    ").fetchall()"
   ]
  },
  {
   "cell_type": "code",
   "execution_count": 73,
   "metadata": {},
   "outputs": [
    {
     "name": "stdout",
     "output_type": "stream",
     "text": [
      "(*Stretch*) What is the top territory (by number of employees), and how many employees do they have? [('Hoffman Estates', 10)]\n"
     ]
    }
   ],
   "source": [
    "print(f\"(*Stretch*) What is the top territory (by number of employees), and \\\n",
    "how many employees do they have? {c}\")\n",
    "# (*Stretch*) What is the top territory (by number of employees), and how many employees do they have? [('Hoffman Estates', 10)]"
   ]
  },
  {
   "cell_type": "code",
   "execution_count": 77,
   "metadata": {},
   "outputs": [
    {
     "data": {
      "text/plain": [
       "('Robert', 'King', 10)"
      ]
     },
     "execution_count": 77,
     "metadata": {},
     "output_type": "execute_result"
    }
   ],
   "source": [
    "c = db.execute(\n",
    "    \"\"\"\n",
    "    SELECT  e.FirstName, e.LastName,  COUNT(*) as TID FROM employee AS e JOIN EmployeeTerritory AS et ON e.Id = et.EmployeeId\n",
    "    JOIN Territory t ON t.Id = et.TerritoryId\n",
    "    GROUP BY e.ID\n",
    "    ORDER BY TID desc\n",
    "    \"\"\"\n",
    ").fetchone()"
   ]
  },
  {
   "cell_type": "code",
   "execution_count": 79,
   "metadata": {},
   "outputs": [
    {
     "name": "stdout",
     "output_type": "stream",
     "text": [
      "Stretch #2 Who's the employee with the most territories? Robert King  10 Territories\n"
     ]
    }
   ],
   "source": [
    "print(f\"Stretch #2 Who's the employee with the most territories? {c[0]} {c[1]}  {c[2]} Territories\")\n",
    "# Stretch #2 Who's the employee with the most territories? Robert King  10 Territories"
   ]
  },
  {
   "cell_type": "markdown",
   "metadata": {},
   "source": [
    "- In the Northwind database, what is the type of relationship between the\n",
    "  `Employee` and `Territory` tables?\n",
    "*  One to Many. There are many Employees in each Territory but each Employee has only one Territory. \n",
    "- What is a situation where a document store (like MongoDB) is appropriate, and\n",
    "  what is a situation where it is not appropriate?\n",
    "*  MongoDB is appropriate where a document per id is appropriate or there are unknown or varying schema. Because of document storage MongoDB can be extended (sharding) more easily, there isn't the dependence on shared tables that RDBMS has.   If the schema is known and fixed RDBMS can be faster.   There are many choices of RDBMS tools but only a limited of document storage choices\n",
    "- (*Stretch*) What is \"NewSQL\", and what is it trying to achieve?\n",
    "NewSQL is adding ACID (Atomicity, Consistency, Isolation, Durability) to nosql databases. Part of that is adding Transactions that do nothing to the database for failures and that can also be rolled back if necessary.\n"
   ]
  }
 ],
 "metadata": {
  "kernelspec": {
   "display_name": "Python 3",
   "language": "python",
   "name": "python3"
  },
  "language_info": {
   "codemirror_mode": {
    "name": "ipython",
    "version": 3
   },
   "file_extension": ".py",
   "mimetype": "text/x-python",
   "name": "python",
   "nbconvert_exporter": "python",
   "pygments_lexer": "ipython3",
   "version": "3.6.6"
  },
  "latex_envs": {
   "LaTeX_envs_menu_present": true,
   "autoclose": false,
   "autocomplete": true,
   "bibliofile": "biblio.bib",
   "cite_by": "apalike",
   "current_citInitial": 1,
   "eqLabelWithNumbers": true,
   "eqNumInitial": 1,
   "hotkeys": {
    "equation": "Ctrl-E",
    "itemize": "Ctrl-I"
   },
   "labels_anchors": false,
   "latex_user_defs": false,
   "report_style_numbering": false,
   "user_envs_cfg": false
  }
 },
 "nbformat": 4,
 "nbformat_minor": 2
}
