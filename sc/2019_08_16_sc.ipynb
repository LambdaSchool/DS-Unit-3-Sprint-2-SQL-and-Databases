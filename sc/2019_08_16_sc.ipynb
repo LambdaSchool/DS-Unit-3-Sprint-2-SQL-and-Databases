{
  "nbformat": 4,
  "nbformat_minor": 0,
  "metadata": {
    "colab": {
      "name": "2019-08-16_sc.ipynb",
      "version": "0.3.2",
      "provenance": [],
      "collapsed_sections": [],
      "toc_visible": true,
      "include_colab_link": true
    },
    "kernelspec": {
      "name": "python3",
      "display_name": "Python 3"
    }
  },
  "cells": [
    {
      "cell_type": "markdown",
      "metadata": {
        "id": "view-in-github",
        "colab_type": "text"
      },
      "source": [
        "<a href=\"https://colab.research.google.com/github/Nov05/DS-Unit-3-Sprint-2-SQL-and-Databases/blob/master/sc/2019_08_16_sc.ipynb\" target=\"_parent\"><img src=\"https://colab.research.google.com/assets/colab-badge.svg\" alt=\"Open In Colab\"/></a>"
      ]
    },
    {
      "cell_type": "code",
      "metadata": {
        "id": "rFYsWV8h-s2I",
        "colab_type": "code",
        "colab": {}
      },
      "source": [
        "# created by nov05 on 2019-08-16"
      ],
      "execution_count": 0,
      "outputs": []
    },
    {
      "cell_type": "markdown",
      "metadata": {
        "id": "8TTc79fAAHlp",
        "colab_type": "text"
      },
      "source": [
        "# Part 1 - Making and populating a Database"
      ]
    },
    {
      "cell_type": "code",
      "metadata": {
        "id": "w0JA3077AReQ",
        "colab_type": "code",
        "colab": {
          "base_uri": "https://localhost:8080/",
          "height": 70
        },
        "outputId": "043ea3e3-acc4-417f-8282-bb0fb0c5feb3"
      },
      "source": [
        "import sqlite3\n",
        "import pandas as pd\n",
        "\n",
        "# The version number of this module, as a string. \n",
        "# This is not the version of the SQLite library.\n",
        "print(sqlite3.version) # 2.6.0\n",
        "# The version number of the run-time SQLite library, as a string.\n",
        "print(sqlite3.sqlite_version) # 3.22.0\n",
        "!python -c \"import sqlite3; print(sqlite3.sqlite_version)\" # 3.22.0 or 3.29.0"
      ],
      "execution_count": 1,
      "outputs": [
        {
          "output_type": "stream",
          "text": [
            "2.6.0\n",
            "3.22.0\n",
            "3.22.0\n"
          ],
          "name": "stdout"
        }
      ]
    },
    {
      "cell_type": "markdown",
      "metadata": {
        "id": "GTdPOPD5DVt9",
        "colab_type": "text"
      },
      "source": [
        "https://github.com/Nov05/DS-Unit-3-Sprint-2-SQL-and-Databases/blob/master/module2-sql-for-analysis/rpg_db.sqlite3.sql  "
      ]
    },
    {
      "cell_type": "code",
      "metadata": {
        "id": "dtuhKC3WAx_x",
        "colab_type": "code",
        "colab": {
          "base_uri": "https://localhost:8080/",
          "height": 35
        },
        "outputId": "e57cf93c-b524-42c8-cbaa-1825c5f89bf4"
      },
      "source": [
        "%%writefile demo_data.py\n",
        "\n",
        "import sqlite3\n",
        "\n",
        "db_name = 'demo_data.sqlite3'\n",
        "conn = sqlite3.connect(db_name)\n",
        "curs = conn.cursor()\n",
        "\n",
        "# create table and insert values\n",
        "sqls = [''] * 5\n",
        "sqls[0] = \"\"\"\n",
        "CREATE TABLE IF NOT EXISTS demo\n",
        "(\"s\" varchar(30) NOT NULL,\n",
        " \"x\" integer NOT NULL,\n",
        " \"y\" integer NOT NULL,\n",
        " PRIMARY KEY(\"s\")\n",
        ");\"\"\"\n",
        "sqls[1] = \"INSERT INTO demo VALUES ('g', 3, 9);\"\n",
        "sqls[2] = \"INSERT INTO demo VALUES ('v', 5, 7);\"\n",
        "sqls[3] = \"INSERT INTO demo VALUES ('f', 8, 7);\"\n",
        "sqls[4] = \"COMMIT;\"\n",
        "for sql in sqls:\n",
        "    curs.execute(sql)\n",
        "\n",
        "sql = \"SELECT COUNT(*) FROM demo\"\n",
        "curs.execute(sql)\n",
        "print(curs.fetchall()[0][0])\n",
        "\n",
        "sql = \"\"\"\n",
        "SELECT COUNT(*) FROM demo\n",
        " WHERE x >= 5 \n",
        "   AND y >= 5\n",
        "\"\"\"\n",
        "curs.execute(sql)\n",
        "print(curs.fetchall()[0][0])\n",
        "\n",
        "sql = \"\"\"\n",
        "SELECT COUNT(DISTINCT(y)) FROM demo\n",
        "\"\"\"\n",
        "curs.execute(sql)\n",
        "print(curs.fetchall()[0][0])\n",
        "\n",
        "curs.close()\n",
        "conn.close()"
      ],
      "execution_count": 91,
      "outputs": [
        {
          "output_type": "stream",
          "text": [
            "Writing demo_data.py\n"
          ],
          "name": "stdout"
        }
      ]
    },
    {
      "cell_type": "code",
      "metadata": {
        "id": "tSxX6A-fbGjQ",
        "colab_type": "code",
        "colab": {
          "base_uri": "https://localhost:8080/",
          "height": 70
        },
        "outputId": "23cbbf25-4d0f-4896-cb11-de50e4730eb5"
      },
      "source": [
        "!python demo_data.py"
      ],
      "execution_count": 94,
      "outputs": [
        {
          "output_type": "stream",
          "text": [
            "3\n",
            "2\n",
            "2\n"
          ],
          "name": "stdout"
        }
      ]
    },
    {
      "cell_type": "markdown",
      "metadata": {
        "id": "d46-QY5kGpem",
        "colab_type": "text"
      },
      "source": [
        "# Part 2 - The Northwind Database"
      ]
    },
    {
      "cell_type": "markdown",
      "metadata": {
        "id": "KM1O9kv6Nfhc",
        "colab_type": "text"
      },
      "source": [
        "# Part 3 - Sailing the Northwind Seas"
      ]
    },
    {
      "cell_type": "code",
      "metadata": {
        "id": "nbQ9UtLYAh7d",
        "colab_type": "code",
        "colab": {}
      },
      "source": [
        "!wget -cO - https://github.com/Nov05/DS-Unit-3-Sprint-2-SQL-and-Databases/blob/master/sc/northwind_small.sqlite3?raw=true > northwind_small.sqlite3"
      ],
      "execution_count": 0,
      "outputs": []
    },
    {
      "cell_type": "code",
      "metadata": {
        "id": "wnCQmtKFG2Ug",
        "colab_type": "code",
        "colab": {
          "base_uri": "https://localhost:8080/",
          "height": 35
        },
        "outputId": "490f9759-6566-426e-b34f-71bb378b6306"
      },
      "source": [
        "%%writefile northwind.py\n",
        "\n",
        "import sqlite3\n",
        "import pandas as pd\n",
        "\n",
        "db_name = 'northwind_small.sqlite3'\n",
        "conn = sqlite3.connect(db_name)\n",
        "curs = conn.cursor()\n",
        "\n",
        "############################################################\n",
        "print(\"\"\"\n",
        "  SELECT name FROM sqlite_master\n",
        "   WEHRE type='table'\n",
        "ORDER BY name; \n",
        "\"\"\")\n",
        "print(curs.execute(\"SELECT name FROM sqlite_master \\\n",
        "WHERE type='table' \\\n",
        "ORDER BY name;\").fetchall())\n",
        "\n",
        "print(\"\"\"\n",
        "SELECT sql FROM sqlite_master\n",
        " WHERE name=\"Customer\";\n",
        "\"\"\")\n",
        "print(curs.execute('SELECT sql FROM sqlite_master \\\n",
        "WHERE name=\"Customer\";').fetchall()[0][0])\n",
        "print()\n",
        "\n",
        "############################################################\n",
        "# start from here I am not going to capitalize the SQL \n",
        "# tokens cause it is really unnecessary for practice...\n",
        "############################################################\n",
        "\n",
        "############################################################\n",
        "print(\"\"\"\n",
        "What are the ten most expensive items (per unit price) \\\n",
        "in the database?\n",
        "\"\"\")\n",
        "sql = \"\"\"\n",
        "  select ID, ProductName, UnitPrice\n",
        "    from Product\n",
        "order by UnitPrice desc limit 10\n",
        "\"\"\"\n",
        "with pd.option_context('display.max_rows', None, \n",
        "                       'display.max_columns', None):\n",
        "    print(pd.read_sql(sql, conn))\n",
        "print()\n",
        "\n",
        "############################################################\n",
        "print(\"\"\"\n",
        "What is the average age of an employee at the time of \\\n",
        "their hiring? (Hint: a lot of arithmetic works with \\\n",
        "dates.)\n",
        "\"\"\")\n",
        "sql = \"\"\"\n",
        "select ID, FirstName, LastName, \n",
        "       HireDate - BirthDate as HireAtAge\n",
        "  from Employee\n",
        "\"\"\"\n",
        "with pd.option_context('display.max_rows', None, \n",
        "                       'display.max_columns', None):\n",
        "    print(pd.read_sql(sql, conn))\n",
        "print()\n",
        "\n",
        "############################################################\n",
        "print(\"\"\"\n",
        "(Stretch) How does the average age of employee \\\n",
        "at hire vary by city?\n",
        "\"\"\")\n",
        "sql = \"\"\"\n",
        "select avg(HireAtAge), City \n",
        "from (\n",
        "    select HireDate - BirthDate as HireAtAge,\n",
        "           City\n",
        "      from Employee\n",
        ")\n",
        "group by City\n",
        "\"\"\"\n",
        "with pd.option_context('display.max_rows', None, \n",
        "                       'display.max_columns', None):\n",
        "    print(pd.read_sql(sql, conn))\n",
        "print()\n",
        "\n",
        "############################################################\n",
        "print(\"\"\"\n",
        "What are the ten most expensive items (per unit price) \\\n",
        "in the database and their suppliers?\n",
        "\"\"\")\n",
        "sql = \"\"\"\n",
        "   select p.ID, p.ProductName, p.UnitPrice,\n",
        "          s.CompanyName as Supplier\n",
        "     from Product as p\n",
        "left join Supplier as s\n",
        "       on p.SupplierID = s.ID\n",
        " order by p.UnitPrice desc limit 10\n",
        "\"\"\"\n",
        "with pd.option_context('display.max_rows', None, \n",
        "                       'display.max_columns', None):\n",
        "    print(pd.read_sql(sql, conn))\n",
        "print()\n",
        "\n",
        "############################################################\n",
        "print(\"\"\"\n",
        "What is the largest category \\\n",
        "(by number of unique products in it)?\n",
        "Note: I could have used max(). But I think in real life \\\n",
        "people usually want to see a list (report).\n",
        "\"\"\")\n",
        "sql = \"\"\"\n",
        "   select Count(c.ID) as ProductTypes,\n",
        "          c.ID,\n",
        "          c.CategoryName\n",
        "     from Category as c\n",
        "left join Product as p\n",
        "       on c.ID = p.CategoryID\n",
        " group by c.ID\n",
        " order by ProductTypes desc\n",
        "    limit 1\n",
        "\"\"\"\n",
        "with pd.option_context('display.max_rows', None, \n",
        "                       'display.max_columns', None):\n",
        "    print(pd.read_sql(sql, conn))\n",
        "print()\n",
        "\n",
        "############################################################\n",
        "print(\"\"\"\n",
        "(Stretch) Who's the employee with the most territories? \\\n",
        "Use TerritoryId (not name, region, or other fields) \\\n",
        "as the unique identifier for territories.\n",
        "\"\"\")\n",
        "sql = \"\"\"\n",
        "  select t.EmployeeID,\n",
        "         t.TerritoryCount,\n",
        "         e.FirstName,\n",
        "         e.LastName\n",
        "    from (\n",
        "            select EmployeeID,\n",
        "                   count(TerritoryID) as TerritoryCount\n",
        "              from EmployeeTerritory\n",
        "          group by EmployeeID\n",
        "          order by TerritoryCount desc\n",
        "             limit 1\n",
        "         ) as t\n",
        "left join Employee as e\n",
        "       on t.EmployeeID = e.ID\n",
        "\"\"\"\n",
        "with pd.option_context('display.max_rows', None, \n",
        "                       'display.max_columns', None):\n",
        "    print(pd.read_sql(sql, conn))\n",
        "print()\n",
        "\n",
        "curs.close()\n",
        "conn.close()"
      ],
      "execution_count": 115,
      "outputs": [
        {
          "output_type": "stream",
          "text": [
            "Overwriting northwind.py\n"
          ],
          "name": "stdout"
        }
      ]
    },
    {
      "cell_type": "code",
      "metadata": {
        "id": "cOhH5hS6ZVZt",
        "colab_type": "code",
        "colab": {
          "base_uri": "https://localhost:8080/",
          "height": 1000
        },
        "outputId": "2ccc488b-46ba-4d1e-fb4d-3364fc57c54a"
      },
      "source": [
        "!python northwind.py"
      ],
      "execution_count": 116,
      "outputs": [
        {
          "output_type": "stream",
          "text": [
            "\n",
            "  SELECT name FROM sqlite_master\n",
            "   WEHRE type='table'\n",
            "ORDER BY name; \n",
            "\n",
            "[('Category',), ('Customer',), ('CustomerCustomerDemo',), ('CustomerDemographic',), ('Employee',), ('EmployeeTerritory',), ('Order',), ('OrderDetail',), ('Product',), ('Region',), ('Shipper',), ('Supplier',), ('Territory',)]\n",
            "\n",
            "SELECT sql FROM sqlite_master\n",
            " WHERE name=\"Customer\";\n",
            "\n",
            "CREATE TABLE \"Customer\" \n",
            "(\n",
            "  \"Id\" VARCHAR(8000) PRIMARY KEY, \n",
            "  \"CompanyName\" VARCHAR(8000) NULL, \n",
            "  \"ContactName\" VARCHAR(8000) NULL, \n",
            "  \"ContactTitle\" VARCHAR(8000) NULL, \n",
            "  \"Address\" VARCHAR(8000) NULL, \n",
            "  \"City\" VARCHAR(8000) NULL, \n",
            "  \"Region\" VARCHAR(8000) NULL, \n",
            "  \"PostalCode\" VARCHAR(8000) NULL, \n",
            "  \"Country\" VARCHAR(8000) NULL, \n",
            "  \"Phone\" VARCHAR(8000) NULL, \n",
            "  \"Fax\" VARCHAR(8000) NULL \n",
            ")\n",
            "\n",
            "\n",
            "What are the ten most expensive items (per unit price) in the database?\n",
            "\n",
            "   Id              ProductName  UnitPrice\n",
            "0  38            Côte de Blaye     263.50\n",
            "1  29  Thüringer Rostbratwurst     123.79\n",
            "2   9          Mishi Kobe Niku      97.00\n",
            "3  20   Sir Rodney's Marmalade      81.00\n",
            "4  18         Carnarvon Tigers      62.50\n",
            "5  59     Raclette Courdavault      55.00\n",
            "6  51    Manjimup Dried Apples      53.00\n",
            "7  62           Tarte au sucre      49.30\n",
            "8  43              Ipoh Coffee      46.00\n",
            "9  28        Rössle Sauerkraut      45.60\n",
            "\n",
            "\n",
            "What is the average age of an employee at the time of their hiring? (Hint: a lot of arithmetic works with dates.)\n",
            "\n",
            "   Id FirstName   LastName  HireAtAge\n",
            "0   1     Nancy    Davolio         44\n",
            "1   2    Andrew     Fuller         40\n",
            "2   3     Janet  Leverling         29\n",
            "3   4  Margaret    Peacock         56\n",
            "4   5    Steven   Buchanan         38\n",
            "5   6   Michael     Suyama         30\n",
            "6   7    Robert       King         34\n",
            "7   8     Laura   Callahan         36\n",
            "8   9      Anne  Dodsworth         28\n",
            "\n",
            "\n",
            "(Stretch) How does the average age of employee at hire vary by city?\n",
            "\n",
            "   avg(HireAtAge)      City\n",
            "0            29.0  Kirkland\n",
            "1            32.5    London\n",
            "2            56.0   Redmond\n",
            "3            40.0   Seattle\n",
            "4            40.0    Tacoma\n",
            "\n",
            "\n",
            "What are the ten most expensive items (per unit price) in the database and their suppliers?\n",
            "\n",
            "   Id              ProductName  UnitPrice                           Supplier\n",
            "0  38            Côte de Blaye     263.50         Aux joyeux ecclésiastiques\n",
            "1  29  Thüringer Rostbratwurst     123.79  Plutzer Lebensmittelgroßmärkte AG\n",
            "2   9          Mishi Kobe Niku      97.00                      Tokyo Traders\n",
            "3  20   Sir Rodney's Marmalade      81.00           Specialty Biscuits, Ltd.\n",
            "4  18         Carnarvon Tigers      62.50                      Pavlova, Ltd.\n",
            "5  59     Raclette Courdavault      55.00                       Gai pâturage\n",
            "6  51    Manjimup Dried Apples      53.00                        G'day, Mate\n",
            "7  62           Tarte au sucre      49.30                   Forêts d'érables\n",
            "8  43              Ipoh Coffee      46.00                       Leka Trading\n",
            "9  28        Rössle Sauerkraut      45.60  Plutzer Lebensmittelgroßmärkte AG\n",
            "\n",
            "\n",
            "What is the largest category (by number of unique products in it)?\n",
            "Note: I could have used max(). But I think in real life people usually want to see a list (report).\n",
            "\n",
            "   ProductTypes  Id CategoryName\n",
            "0            13   3  Confections\n",
            "\n",
            "\n",
            "(Stretch) Who's the employee with the most territories? Use TerritoryId (not name, region, or other fields) as the unique identifier for territories.\n",
            "\n",
            "   EmployeeID  TerritoryCount FirstName LastName\n",
            "0           7              10    Robert     King\n",
            "\n"
          ],
          "name": "stdout"
        }
      ]
    },
    {
      "cell_type": "markdown",
      "metadata": {
        "id": "xbWpUksgRxKv",
        "colab_type": "text"
      },
      "source": [
        "# Part 4 - Questions (and your Answers)\n",
        "\n",
        "Answer the following questions, baseline ~3-5 sentences each, as if they were interview screening questions (a form you fill when applying for a job):\n",
        "\n",
        "* **In the Northwind database, what is the type of relationship between the Employee and Territory tables?**    \n",
        "\n",
        "```\n",
        "Answer: 1:n. Or one to many. One employee could be linked to multiple territories. \n",
        "```\n",
        "\n",
        "* **What is a situation where a document store (like MongoDB) is appropriate, and what is a situation where it is not appropriate?**    \n",
        "\n",
        "```\n",
        "Answer:  \n",
        "Appropriate:     \n",
        "1. When the data needs to horizontally scale up;    \n",
        "2. When the data is mostly document like, a.k.a. unstructured;  \n",
        "3. When the business website is more about content, e.g. blogs, videos, etc.\n",
        "Inappropriate:  \n",
        "1. When it is a highly transactional systems;\n",
        "2. When the systems are hightly coupled\n",
        "```\n",
        "\n",
        "* **What is \"NewSQL\", and what is it trying to achieve?**      \n",
        "\n",
        "```\n",
        "Answer: NewSQL is a new approach to relational databases that wants to combine transactional ACID (atomicity, consistency, isolation, durability) guarantees of good RDBMSs and the horizontal scalability of NoSQL. It sounds like a perfect solution, the best of both worlds.  \n",
        "```"
      ]
    },
    {
      "cell_type": "markdown",
      "metadata": {
        "id": "vpNATSU1UvtY",
        "colab_type": "text"
      },
      "source": [
        "# Part 5 - Turn it in!\n",
        "\n",
        "Add all the files you wrote (demo_data.py, northwind.py), as well as this file with your answers to part 4, to your weekly repo (DS-Unit-3-Sprint-2-SQL-and-Databases). You're also encouraged to include the output from your queries as docstring comments, to facilitate grading. Commit, push, and await feedback from your PM. Thanks for your hard work!\n",
        "\n",
        "If you got this far, check out the larger Northwind database - your queries should run on it as well, with richer results."
      ]
    },
    {
      "cell_type": "code",
      "metadata": {
        "id": "B--UzTHvbf-8",
        "colab_type": "code",
        "colab": {
          "base_uri": "https://localhost:8080/",
          "height": 35
        },
        "outputId": "98a5faf8-83f2-49b8-f8e8-bf4af58579e5"
      },
      "source": [
        "import os\n",
        "os.getcwd()"
      ],
      "execution_count": 111,
      "outputs": [
        {
          "output_type": "execute_result",
          "data": {
            "text/plain": [
              "'/content'"
            ]
          },
          "metadata": {
            "tags": []
          },
          "execution_count": 111
        }
      ]
    },
    {
      "cell_type": "code",
      "metadata": {
        "id": "qaoVRoDDYf2H",
        "colab_type": "code",
        "colab": {}
      },
      "source": [
        "from google.colab import files\n",
        "files.download('demo_data.py') \n",
        "files.download('northwind.py')"
      ],
      "execution_count": 0,
      "outputs": []
    },
    {
      "cell_type": "markdown",
      "metadata": {
        "id": "JKRuocPLh7w-",
        "colab_type": "text"
      },
      "source": [
        "https://docs.oracle.com/cd/E11882_01/server.112/e41573/perf_overview.htm#PFGRF025   \n",
        "Home / Oracle Database Online Documentation Library, 11g Release 2 (11.2)  \n",
        "Database Performance Tuning Guide"
      ]
    }
  ]
}