{
  "nbformat": 4,
  "nbformat_minor": 0,
  "metadata": {
    "colab": {
      "name": "PostGRE SQL Lecture.ipynb",
      "version": "0.3.2",
      "provenance": [],
      "collapsed_sections": [],
      "include_colab_link": true
    },
    "kernelspec": {
      "name": "python3",
      "display_name": "Python 3"
    }
  },
  "cells": [
    {
      "cell_type": "markdown",
      "metadata": {
        "id": "view-in-github",
        "colab_type": "text"
      },
      "source": [
        "<a href=\"https://colab.research.google.com/github/donw385/DS-Unit-3-Sprint-2-SQL-and-Databases/blob/master/PostGRE_SQL_Lecture.ipynb\" target=\"_parent\"><img src=\"https://colab.research.google.com/assets/colab-badge.svg\" alt=\"Open In Colab\"/></a>"
      ]
    },
    {
      "metadata": {
        "id": "bUPR1UjIx2fc",
        "colab_type": "code",
        "colab": {
          "base_uri": "https://localhost:8080/",
          "height": 126
        },
        "outputId": "4f3dd329-b2d2-4e0f-c597-bf9d04f99032"
      },
      "cell_type": "code",
      "source": [
        "!pip install psycopg2-binary"
      ],
      "execution_count": 1,
      "outputs": [
        {
          "output_type": "stream",
          "text": [
            "Collecting psycopg2-binary\n",
            "\u001b[?25l  Downloading https://files.pythonhosted.org/packages/2c/85/97db05dd8f6adff57cd1cb8acceeffdaf4724efec18b9af23f3cd75ad089/psycopg2_binary-2.7.7-cp36-cp36m-manylinux1_x86_64.whl (2.7MB)\n",
            "\u001b[K    100% |████████████████████████████████| 2.7MB 10.9MB/s \n",
            "\u001b[?25hInstalling collected packages: psycopg2-binary\n",
            "Successfully installed psycopg2-binary-2.7.7\n"
          ],
          "name": "stdout"
        }
      ]
    },
    {
      "metadata": {
        "id": "-Q_PJBrDyKH1",
        "colab_type": "code",
        "colab": {}
      },
      "cell_type": "code",
      "source": [
        "import psycopg2"
      ],
      "execution_count": 0,
      "outputs": []
    },
    {
      "metadata": {
        "id": "4HVEPeT8yPCG",
        "colab_type": "code",
        "colab": {}
      },
      "cell_type": "code",
      "source": [
        "dbname = ELEPHANT SQL\n",
        "user = ELEPHANT SQL'\n",
        "password = ELEPHANT SQL\n",
        "host = ELEPHANT SQL"
      ],
      "execution_count": 0,
      "outputs": []
    },
    {
      "metadata": {
        "id": "_TJH_lmsz-ap",
        "colab_type": "code",
        "colab": {}
      },
      "cell_type": "code",
      "source": [
        "pg_conn = psycopg2.connect(dbname=dbname, user=user,\n",
        "                           password=password, host=host)"
      ],
      "execution_count": 0,
      "outputs": []
    },
    {
      "metadata": {
        "id": "Pkng9qqU0QVt",
        "colab_type": "code",
        "colab": {}
      },
      "cell_type": "code",
      "source": [
        "pg_curs = pg_conn.cursor()"
      ],
      "execution_count": 0,
      "outputs": []
    },
    {
      "metadata": {
        "id": "1pRgBeGP0aHq",
        "colab_type": "code",
        "colab": {
          "base_uri": "https://localhost:8080/",
          "height": 88
        },
        "outputId": "3b09cf7b-065d-4229-c7be-fa325ccde82e"
      },
      "cell_type": "code",
      "source": [
        "pg_curs.execute('SELECT * FROM test_table;')\n",
        "pg_curs.fetchall()"
      ],
      "execution_count": 6,
      "outputs": [
        {
          "output_type": "execute_result",
          "data": {
            "text/plain": [
              "[(1, 'A row name', None),\n",
              " (2, 'Another row, with JSON', {'a': 1, 'b': ['dog', 'cat', 42], 'c': True}),\n",
              " (3, 'A row name', None),\n",
              " (4, 'Another row, with JSON', {'a': 1, 'b': ['dog', 'cat', 42], 'c': True})]"
            ]
          },
          "metadata": {
            "tags": []
          },
          "execution_count": 6
        }
      ]
    },
    {
      "metadata": {
        "id": "3Cz4vFUn0xUv",
        "colab_type": "code",
        "colab": {
          "base_uri": "https://localhost:8080/",
          "height": 372
        },
        "outputId": "d1392dc7-9d22-433a-e44c-717630a23ffe"
      },
      "cell_type": "code",
      "source": [
        "!wget https://github.com/LambdaSchool/DS-Unit-3-Sprint-2-SQL-and-Databases/blob/master/module1-introduction-to-sql/rpg_db.sqlite3?raw=true"
      ],
      "execution_count": 7,
      "outputs": [
        {
          "output_type": "stream",
          "text": [
            "--2019-03-26 21:56:40--  https://github.com/LambdaSchool/DS-Unit-3-Sprint-2-SQL-and-Databases/blob/master/module1-introduction-to-sql/rpg_db.sqlite3?raw=true\n",
            "Resolving github.com (github.com)... 192.30.253.112, 192.30.253.113\n",
            "Connecting to github.com (github.com)|192.30.253.112|:443... connected.\n",
            "HTTP request sent, awaiting response... 302 Found\n",
            "Location: https://github.com/LambdaSchool/DS-Unit-3-Sprint-2-SQL-and-Databases/raw/master/module1-introduction-to-sql/rpg_db.sqlite3 [following]\n",
            "--2019-03-26 21:56:40--  https://github.com/LambdaSchool/DS-Unit-3-Sprint-2-SQL-and-Databases/raw/master/module1-introduction-to-sql/rpg_db.sqlite3\n",
            "Reusing existing connection to github.com:443.\n",
            "HTTP request sent, awaiting response... 302 Found\n",
            "Location: https://raw.githubusercontent.com/LambdaSchool/DS-Unit-3-Sprint-2-SQL-and-Databases/master/module1-introduction-to-sql/rpg_db.sqlite3 [following]\n",
            "--2019-03-26 21:56:40--  https://raw.githubusercontent.com/LambdaSchool/DS-Unit-3-Sprint-2-SQL-and-Databases/master/module1-introduction-to-sql/rpg_db.sqlite3\n",
            "Resolving raw.githubusercontent.com (raw.githubusercontent.com)... 151.101.0.133, 151.101.64.133, 151.101.128.133, ...\n",
            "Connecting to raw.githubusercontent.com (raw.githubusercontent.com)|151.101.0.133|:443... connected.\n",
            "HTTP request sent, awaiting response... 200 OK\n",
            "Length: 253952 (248K) [application/octet-stream]\n",
            "Saving to: ‘rpg_db.sqlite3?raw=true’\n",
            "\n",
            "\rrpg_db.sqlite3?raw=   0%[                    ]       0  --.-KB/s               \rrpg_db.sqlite3?raw= 100%[===================>] 248.00K  --.-KB/s    in 0.05s   \n",
            "\n",
            "2019-03-26 21:56:40 (4.88 MB/s) - ‘rpg_db.sqlite3?raw=true’ saved [253952/253952]\n",
            "\n"
          ],
          "name": "stdout"
        }
      ]
    },
    {
      "metadata": {
        "id": "pn_MJQBU1PQ6",
        "colab_type": "code",
        "colab": {}
      },
      "cell_type": "code",
      "source": [
        "!mv 'rpg_db.sqlite3?raw=true' rpg_db.sqlite3"
      ],
      "execution_count": 0,
      "outputs": []
    },
    {
      "metadata": {
        "id": "PQH1Wipu1Wf4",
        "colab_type": "code",
        "colab": {}
      },
      "cell_type": "code",
      "source": [
        "import sqlite3"
      ],
      "execution_count": 0,
      "outputs": []
    },
    {
      "metadata": {
        "id": "ygIKlKh01hKH",
        "colab_type": "code",
        "colab": {}
      },
      "cell_type": "code",
      "source": [
        "sl_conn = sqlite3.connect('rpg_db.sqlite3')\n",
        "sl_curs = sl_conn.cursor()"
      ],
      "execution_count": 0,
      "outputs": []
    },
    {
      "metadata": {
        "id": "9XeN6sza2Lke",
        "colab_type": "code",
        "colab": {
          "base_uri": "https://localhost:8080/",
          "height": 35
        },
        "outputId": "ddcf75f6-19b2-4a91-dcc7-03fbd99025ba"
      },
      "cell_type": "code",
      "source": [
        "sl_curs.execute('SELECT COUNT(*) FROM charactercreator_character;').fetchall()"
      ],
      "execution_count": 11,
      "outputs": [
        {
          "output_type": "execute_result",
          "data": {
            "text/plain": [
              "[(302,)]"
            ]
          },
          "metadata": {
            "tags": []
          },
          "execution_count": 11
        }
      ]
    },
    {
      "metadata": {
        "id": "iiog9MdO2lvq",
        "colab_type": "code",
        "colab": {}
      },
      "cell_type": "code",
      "source": [
        "# goal ETL / data pipeline, get data from SQLite to PostGreSQL\n",
        "\n",
        "characters = sl_curs.execute('SELECT * FROM charactercreator_character;').fetchall()"
      ],
      "execution_count": 0,
      "outputs": []
    },
    {
      "metadata": {
        "id": "LWZZf7Yo3eU8",
        "colab_type": "code",
        "colab": {
          "base_uri": "https://localhost:8080/",
          "height": 35
        },
        "outputId": "c862992f-4f44-4bec-88c1-be75d6aad410"
      },
      "cell_type": "code",
      "source": [
        "characters[0]"
      ],
      "execution_count": 13,
      "outputs": [
        {
          "output_type": "execute_result",
          "data": {
            "text/plain": [
              "(1, 'Aliquid iste optio reiciendi', 0, 0, 10, 1, 1, 1, 1)"
            ]
          },
          "metadata": {
            "tags": []
          },
          "execution_count": 13
        }
      ]
    },
    {
      "metadata": {
        "id": "DlsRvXRY3gj8",
        "colab_type": "code",
        "colab": {
          "base_uri": "https://localhost:8080/",
          "height": 35
        },
        "outputId": "ddc18543-e2d4-4bd0-854d-465daa12ccf2"
      },
      "cell_type": "code",
      "source": [
        "characters[-1]"
      ],
      "execution_count": 14,
      "outputs": [
        {
          "output_type": "execute_result",
          "data": {
            "text/plain": [
              "(302, 'Aliquam n', 0, 0, 10, 1, 1, 1, 1)"
            ]
          },
          "metadata": {
            "tags": []
          },
          "execution_count": 14
        }
      ]
    },
    {
      "metadata": {
        "id": "Bnx0xg0o3jB5",
        "colab_type": "code",
        "colab": {}
      },
      "cell_type": "code",
      "source": [
        "# character schema for postgresql\n",
        "create_character_table = \"\"\"\n",
        "CREATE TABLE charactercreator_character (\n",
        "  character_id SERIAL PRIMARY KEY,\n",
        "  name VARCHAR(30),\n",
        "  level INT,\n",
        "  exp INT,\n",
        "  hp INT,\n",
        "  strength INT,\n",
        "  intelligence INT,\n",
        "  dexterity INT,\n",
        "  wisdom INT\n",
        ")\n",
        "\"\"\"\n"
      ],
      "execution_count": 0,
      "outputs": []
    },
    {
      "metadata": {
        "id": "IyQk9WFf4ola",
        "colab_type": "code",
        "colab": {
          "base_uri": "https://localhost:8080/",
          "height": 167
        },
        "outputId": "ac9ab46a-989e-47fb-e56c-e1699afb07d8"
      },
      "cell_type": "code",
      "source": [
        "pg_curs.execute(create_character_table)"
      ],
      "execution_count": 30,
      "outputs": [
        {
          "output_type": "error",
          "ename": "ProgrammingError",
          "evalue": "ignored",
          "traceback": [
            "\u001b[0;31m---------------------------------------------------------------------------\u001b[0m",
            "\u001b[0;31mProgrammingError\u001b[0m                          Traceback (most recent call last)",
            "\u001b[0;32m<ipython-input-30-ce45adb6c7f3>\u001b[0m in \u001b[0;36m<module>\u001b[0;34m()\u001b[0m\n\u001b[0;32m----> 1\u001b[0;31m \u001b[0mpg_curs\u001b[0m\u001b[0;34m.\u001b[0m\u001b[0mexecute\u001b[0m\u001b[0;34m(\u001b[0m\u001b[0mcreate_character_table\u001b[0m\u001b[0;34m)\u001b[0m\u001b[0;34m\u001b[0m\u001b[0;34m\u001b[0m\u001b[0m\n\u001b[0m",
            "\u001b[0;31mProgrammingError\u001b[0m: relation \"charactercreator_character\" already exists\n"
          ]
        }
      ]
    },
    {
      "metadata": {
        "id": "rnQxxAvZ5x-_",
        "colab_type": "code",
        "colab": {}
      },
      "cell_type": "code",
      "source": [
        "characters[0][1:]"
      ],
      "execution_count": 0,
      "outputs": []
    },
    {
      "metadata": {
        "id": "UmddYl5A4sJe",
        "colab_type": "code",
        "colab": {}
      },
      "cell_type": "code",
      "source": [
        "# loop over and insert results\n",
        "\n",
        "for character in characters:\n",
        "  insert_character = \"\"\"\n",
        "  INSERT INTO charactercreator_character\n",
        "  (name, level, exp, hp, strength, intelligence, dexterity, wisdom)\n",
        "  VALUES \"\"\" + str(character[1:])\n",
        "  pg_curs.execute(insert_character)\n",
        "  \n",
        "  \n",
        "\n"
      ],
      "execution_count": 0,
      "outputs": []
    },
    {
      "metadata": {
        "id": "jc8zh95q6ZQt",
        "colab_type": "code",
        "colab": {}
      },
      "cell_type": "code",
      "source": [
        "pg_conn.commit()"
      ],
      "execution_count": 0,
      "outputs": []
    },
    {
      "metadata": {
        "id": "W0qZrPWPA_Yz",
        "colab_type": "code",
        "colab": {}
      },
      "cell_type": "code",
      "source": [
        "# lets remake the pg cursor and check things\n",
        "\n",
        "pg_curs = pg_conn.cursor()\n",
        "pg_curs.execute('SELECT * FROM charactercreator_character;')\n",
        "pg_characters = pg_curs.fetchall()"
      ],
      "execution_count": 0,
      "outputs": []
    },
    {
      "metadata": {
        "id": "6jIlpOSlBNYf",
        "colab_type": "code",
        "colab": {
          "base_uri": "https://localhost:8080/",
          "height": 35
        },
        "outputId": "a72f1289-2db5-46f2-f6f5-db69be6033a2"
      },
      "cell_type": "code",
      "source": [
        "characters[0]"
      ],
      "execution_count": 20,
      "outputs": [
        {
          "output_type": "execute_result",
          "data": {
            "text/plain": [
              "(1, 'Aliquid iste optio reiciendi', 0, 0, 10, 1, 1, 1, 1)"
            ]
          },
          "metadata": {
            "tags": []
          },
          "execution_count": 20
        }
      ]
    },
    {
      "metadata": {
        "id": "aHdUODfJCFx4",
        "colab_type": "code",
        "colab": {
          "base_uri": "https://localhost:8080/",
          "height": 35
        },
        "outputId": "d004112c-3e6e-474d-8f45-16474d735d6f"
      },
      "cell_type": "code",
      "source": [
        "pg_characters[0]"
      ],
      "execution_count": 21,
      "outputs": [
        {
          "output_type": "execute_result",
          "data": {
            "text/plain": [
              "(1, 'Aliquid iste optio reiciendi', 0, 0, 10, 1, 1, 1, 1)"
            ]
          },
          "metadata": {
            "tags": []
          },
          "execution_count": 21
        }
      ]
    },
    {
      "metadata": {
        "id": "Tgjru6s5CIVe",
        "colab_type": "code",
        "colab": {}
      },
      "cell_type": "code",
      "source": [
        "for character, pg_character in zip(characters, pg_characters):\n",
        "  assert character == pg_character"
      ],
      "execution_count": 0,
      "outputs": []
    },
    {
      "metadata": {
        "id": "DGVKM31xCdMB",
        "colab_type": "code",
        "colab": {}
      },
      "cell_type": "code",
      "source": [
        "# nothing happened which means all the same"
      ],
      "execution_count": 0,
      "outputs": []
    }
  ]
}
