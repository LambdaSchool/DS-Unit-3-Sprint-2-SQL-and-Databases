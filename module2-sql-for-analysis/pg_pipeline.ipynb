{
 "cells": [
  {
   "cell_type": "code",
   "execution_count": 349,
   "metadata": {},
   "outputs": [],
   "source": [
    "conn.close()"
   ]
  },
  {
   "cell_type": "code",
   "execution_count": 120,
   "metadata": {},
   "outputs": [],
   "source": [
    "import psycopg2\n",
    "import pandas as pd\n",
    "import sqlite3"
   ]
  },
  {
   "cell_type": "code",
   "execution_count": 121,
   "metadata": {},
   "outputs": [],
   "source": [
    "### Connect to ElephantSQL-hosted PostgreSQL\n",
    "conn = psycopg2.connect(dbname='waizzkeg', user='waizzkeg',\n",
    "                        password='qn83fIuPrDvRhAS7Th4banRwREmnA3xm', host='otto.db.elephantsql.com')\n",
    "### A \"cursor\", a structure to iterate over db records to perform queries\n",
    "cur = conn.cursor()\n"
   ]
  },
  {
   "cell_type": "code",
   "execution_count": 122,
   "metadata": {},
   "outputs": [
    {
     "data": {
      "text/plain": [
       "(1, 'A row name', None)"
      ]
     },
     "execution_count": 122,
     "metadata": {},
     "output_type": "execute_result"
    }
   ],
   "source": [
    "### An example query\n",
    "cur.execute('SELECT * from test_table;')\n",
    "### Note - nothing happened yet! We need to actually *fetch* from the cursor\n",
    "cur.fetchone()"
   ]
  },
  {
   "cell_type": "code",
   "execution_count": 123,
   "metadata": {},
   "outputs": [
    {
     "data": {
      "text/plain": [
       "<bound method DataFrame.info of      Survived  Pclass  \\\n",
       "0           0       3   \n",
       "1           1       1   \n",
       "2           1       3   \n",
       "3           1       1   \n",
       "4           0       3   \n",
       "5           0       3   \n",
       "6           0       1   \n",
       "7           0       3   \n",
       "8           1       3   \n",
       "9           1       2   \n",
       "10          1       3   \n",
       "11          1       1   \n",
       "12          0       3   \n",
       "13          0       3   \n",
       "14          0       3   \n",
       "15          1       2   \n",
       "16          0       3   \n",
       "17          1       2   \n",
       "18          0       3   \n",
       "19          1       3   \n",
       "20          0       2   \n",
       "21          1       2   \n",
       "22          1       3   \n",
       "23          1       1   \n",
       "24          0       3   \n",
       "25          1       3   \n",
       "26          0       3   \n",
       "27          0       1   \n",
       "28          1       3   \n",
       "29          0       3   \n",
       "..        ...     ...   \n",
       "857         0       2   \n",
       "858         1       1   \n",
       "859         0       3   \n",
       "860         0       2   \n",
       "861         1       2   \n",
       "862         1       2   \n",
       "863         0       1   \n",
       "864         0       3   \n",
       "865         1       3   \n",
       "866         0       3   \n",
       "867         1       1   \n",
       "868         0       1   \n",
       "869         0       3   \n",
       "870         1       2   \n",
       "871         1       3   \n",
       "872         0       3   \n",
       "873         0       3   \n",
       "874         0       3   \n",
       "875         1       1   \n",
       "876         1       2   \n",
       "877         0       3   \n",
       "878         0       3   \n",
       "879         0       2   \n",
       "880         0       3   \n",
       "881         0       3   \n",
       "882         0       2   \n",
       "883         1       1   \n",
       "884         0       3   \n",
       "885         1       1   \n",
       "886         0       3   \n",
       "\n",
       "                                                         Name     Sex   Age  \\\n",
       "0                                      Mr. Owen Harris Braund    male  22.0   \n",
       "1          Mrs. John Bradley (Florence Briggs Thayer) Cumings  female  38.0   \n",
       "2                                       Miss. Laina Heikkinen  female  26.0   \n",
       "3                 Mrs. Jacques Heath (Lily May Peel) Futrelle  female  35.0   \n",
       "4                                     Mr. William Henry Allen    male  35.0   \n",
       "5                                             Mr. James Moran    male  27.0   \n",
       "6                                      Mr. Timothy J McCarthy    male  54.0   \n",
       "7                               Master. Gosta Leonard Palsson    male   2.0   \n",
       "8            Mrs. Oscar W (Elisabeth Vilhelmina Berg) Johnson  female  27.0   \n",
       "9                          Mrs. Nicholas (Adele Achem) Nasser  female  14.0   \n",
       "10                             Miss. Marguerite Rut Sandstrom  female   4.0   \n",
       "11                                    Miss. Elizabeth Bonnell  female  58.0   \n",
       "12                              Mr. William Henry Saundercock    male  20.0   \n",
       "13                                 Mr. Anders Johan Andersson    male  39.0   \n",
       "14                        Miss. Hulda Amanda Adolfina Vestrom  female  14.0   \n",
       "15                             Mrs. (Mary D Kingcome) Hewlett  female  55.0   \n",
       "16                                        Master. Eugene Rice    male   2.0   \n",
       "17                                Mr. Charles Eugene Williams    male  23.0   \n",
       "18     Mrs. Julius (Emelia Maria Vandemoortele) Vander Planke  female  31.0   \n",
       "19                                     Mrs. Fatima Masselmani  female  22.0   \n",
       "20                                        Mr. Joseph J Fynney    male  35.0   \n",
       "21                                       Mr. Lawrence Beesley    male  34.0   \n",
       "22                                         Miss. Anna McGowan  female  15.0   \n",
       "23                                Mr. William Thompson Sloper    male  28.0   \n",
       "24                               Miss. Torborg Danira Palsson  female   8.0   \n",
       "25   Mrs. Carl Oscar (Selma Augusta Emilia Johansson) Asplund  female  38.0   \n",
       "26                                     Mr. Farred Chehab Emir    male  26.0   \n",
       "27                              Mr. Charles Alexander Fortune    male  19.0   \n",
       "28                                        Miss. Ellen O'Dwyer  female  24.0   \n",
       "29                                         Mr. Lalio Todoroff    male  23.0   \n",
       "..                                                        ...     ...   ...   \n",
       "857                                Mr. Frederick Edward Giles    male  21.0   \n",
       "858        Mrs. Frederick Joel (Margaret Welles Barron) Swift  female  48.0   \n",
       "859                                  Miss. Dorothy Edith Sage  female  14.0   \n",
       "860                                     Mr. John William Gill    male  24.0   \n",
       "861                                   Mrs. (Karolina) Bystrom  female  42.0   \n",
       "862                               Miss. Asuncion Duran y More  female  27.0   \n",
       "863                       Mr. Washington Augustus II Roebling    male  31.0   \n",
       "864                                Mr. Philemon van Melkebeke    male  23.0   \n",
       "865                            Master. Harold Theodor Johnson    male   4.0   \n",
       "866                                          Mr. Cerin Balkic    male  26.0   \n",
       "867           Mrs. Richard Leonard (Sallie Monypeny) Beckwith  female  47.0   \n",
       "868                                   Mr. Frans Olof Carlsson    male  33.0   \n",
       "869                                Mr. Victor Vander Cruyssen    male  47.0   \n",
       "870                      Mrs. Samuel (Hannah Wizosky) Abelson  female  28.0   \n",
       "871                                  Miss. Adele Kiamie Najib  female  15.0   \n",
       "872                              Mr. Alfred Ossian Gustafsson    male  20.0   \n",
       "873                                       Mr. Nedelio Petroff    male  19.0   \n",
       "874                                         Mr. Kristo Laleff    male  23.0   \n",
       "875              Mrs. Thomas Jr (Lily Alexenia Wilson) Potter  female  56.0   \n",
       "876               Mrs. William (Imanita Parrish Hall) Shelley  female  25.0   \n",
       "877                                         Mr. Johann Markun    male  33.0   \n",
       "878                               Miss. Gerda Ulrika Dahlberg  female  22.0   \n",
       "879                              Mr. Frederick James Banfield    male  28.0   \n",
       "880                                     Mr. Henry Jr Sutehall    male  25.0   \n",
       "881                       Mrs. William (Margaret Norton) Rice  female  39.0   \n",
       "882                                      Rev. Juozas Montvila    male  27.0   \n",
       "883                               Miss. Margaret Edith Graham  female  19.0   \n",
       "884                            Miss. Catherine Helen Johnston  female   7.0   \n",
       "885                                      Mr. Karl Howell Behr    male  26.0   \n",
       "886                                        Mr. Patrick Dooley    male  32.0   \n",
       "\n",
       "     Siblings/Spouses Aboard  Parents/Children Aboard      Fare  \n",
       "0                          1                        0    7.2500  \n",
       "1                          1                        0   71.2833  \n",
       "2                          0                        0    7.9250  \n",
       "3                          1                        0   53.1000  \n",
       "4                          0                        0    8.0500  \n",
       "5                          0                        0    8.4583  \n",
       "6                          0                        0   51.8625  \n",
       "7                          3                        1   21.0750  \n",
       "8                          0                        2   11.1333  \n",
       "9                          1                        0   30.0708  \n",
       "10                         1                        1   16.7000  \n",
       "11                         0                        0   26.5500  \n",
       "12                         0                        0    8.0500  \n",
       "13                         1                        5   31.2750  \n",
       "14                         0                        0    7.8542  \n",
       "15                         0                        0   16.0000  \n",
       "16                         4                        1   29.1250  \n",
       "17                         0                        0   13.0000  \n",
       "18                         1                        0   18.0000  \n",
       "19                         0                        0    7.2250  \n",
       "20                         0                        0   26.0000  \n",
       "21                         0                        0   13.0000  \n",
       "22                         0                        0    8.0292  \n",
       "23                         0                        0   35.5000  \n",
       "24                         3                        1   21.0750  \n",
       "25                         1                        5   31.3875  \n",
       "26                         0                        0    7.2250  \n",
       "27                         3                        2  263.0000  \n",
       "28                         0                        0    7.8792  \n",
       "29                         0                        0    7.8958  \n",
       "..                       ...                      ...       ...  \n",
       "857                        1                        0   11.5000  \n",
       "858                        0                        0   25.9292  \n",
       "859                        8                        2   69.5500  \n",
       "860                        0                        0   13.0000  \n",
       "861                        0                        0   13.0000  \n",
       "862                        1                        0   13.8583  \n",
       "863                        0                        0   50.4958  \n",
       "864                        0                        0    9.5000  \n",
       "865                        1                        1   11.1333  \n",
       "866                        0                        0    7.8958  \n",
       "867                        1                        1   52.5542  \n",
       "868                        0                        0    5.0000  \n",
       "869                        0                        0    9.0000  \n",
       "870                        1                        0   24.0000  \n",
       "871                        0                        0    7.2250  \n",
       "872                        0                        0    9.8458  \n",
       "873                        0                        0    7.8958  \n",
       "874                        0                        0    7.8958  \n",
       "875                        0                        1   83.1583  \n",
       "876                        0                        1   26.0000  \n",
       "877                        0                        0    7.8958  \n",
       "878                        0                        0   10.5167  \n",
       "879                        0                        0   10.5000  \n",
       "880                        0                        0    7.0500  \n",
       "881                        0                        5   29.1250  \n",
       "882                        0                        0   13.0000  \n",
       "883                        0                        0   30.0000  \n",
       "884                        1                        2   23.4500  \n",
       "885                        0                        0   30.0000  \n",
       "886                        0                        0    7.7500  \n",
       "\n",
       "[887 rows x 8 columns]>"
      ]
     },
     "execution_count": 123,
     "metadata": {},
     "output_type": "execute_result"
    }
   ],
   "source": [
    "df = pd.read_csv('titanic.csv')\n",
    "\n",
    "df.info"
   ]
  },
  {
   "cell_type": "code",
   "execution_count": 124,
   "metadata": {},
   "outputs": [
    {
     "data": {
      "text/html": [
       "<div>\n",
       "<style scoped>\n",
       "    .dataframe tbody tr th:only-of-type {\n",
       "        vertical-align: middle;\n",
       "    }\n",
       "\n",
       "    .dataframe tbody tr th {\n",
       "        vertical-align: top;\n",
       "    }\n",
       "\n",
       "    .dataframe thead th {\n",
       "        text-align: right;\n",
       "    }\n",
       "</style>\n",
       "<table border=\"1\" class=\"dataframe\">\n",
       "  <thead>\n",
       "    <tr style=\"text-align: right;\">\n",
       "      <th></th>\n",
       "      <th>Survived</th>\n",
       "      <th>Pclass</th>\n",
       "      <th>Name</th>\n",
       "      <th>Sex</th>\n",
       "      <th>Age</th>\n",
       "      <th>Siblings/Spouses Aboard</th>\n",
       "      <th>Parents/Children Aboard</th>\n",
       "      <th>Fare</th>\n",
       "    </tr>\n",
       "  </thead>\n",
       "  <tbody>\n",
       "    <tr>\n",
       "      <th>0</th>\n",
       "      <td>0</td>\n",
       "      <td>3</td>\n",
       "      <td>Mr. Owen Harris Braund</td>\n",
       "      <td>male</td>\n",
       "      <td>22.0</td>\n",
       "      <td>1</td>\n",
       "      <td>0</td>\n",
       "      <td>7.2500</td>\n",
       "    </tr>\n",
       "    <tr>\n",
       "      <th>1</th>\n",
       "      <td>1</td>\n",
       "      <td>1</td>\n",
       "      <td>Mrs. John Bradley (Florence Briggs Thayer) Cumings</td>\n",
       "      <td>female</td>\n",
       "      <td>38.0</td>\n",
       "      <td>1</td>\n",
       "      <td>0</td>\n",
       "      <td>71.2833</td>\n",
       "    </tr>\n",
       "    <tr>\n",
       "      <th>2</th>\n",
       "      <td>1</td>\n",
       "      <td>3</td>\n",
       "      <td>Miss. Laina Heikkinen</td>\n",
       "      <td>female</td>\n",
       "      <td>26.0</td>\n",
       "      <td>0</td>\n",
       "      <td>0</td>\n",
       "      <td>7.9250</td>\n",
       "    </tr>\n",
       "    <tr>\n",
       "      <th>3</th>\n",
       "      <td>1</td>\n",
       "      <td>1</td>\n",
       "      <td>Mrs. Jacques Heath (Lily May Peel) Futrelle</td>\n",
       "      <td>female</td>\n",
       "      <td>35.0</td>\n",
       "      <td>1</td>\n",
       "      <td>0</td>\n",
       "      <td>53.1000</td>\n",
       "    </tr>\n",
       "    <tr>\n",
       "      <th>4</th>\n",
       "      <td>0</td>\n",
       "      <td>3</td>\n",
       "      <td>Mr. William Henry Allen</td>\n",
       "      <td>male</td>\n",
       "      <td>35.0</td>\n",
       "      <td>0</td>\n",
       "      <td>0</td>\n",
       "      <td>8.0500</td>\n",
       "    </tr>\n",
       "  </tbody>\n",
       "</table>\n",
       "</div>"
      ],
      "text/plain": [
       "   Survived  Pclass                                                Name  \\\n",
       "0         0       3                              Mr. Owen Harris Braund   \n",
       "1         1       1  Mrs. John Bradley (Florence Briggs Thayer) Cumings   \n",
       "2         1       3                               Miss. Laina Heikkinen   \n",
       "3         1       1         Mrs. Jacques Heath (Lily May Peel) Futrelle   \n",
       "4         0       3                             Mr. William Henry Allen   \n",
       "\n",
       "      Sex   Age  Siblings/Spouses Aboard  Parents/Children Aboard     Fare  \n",
       "0    male  22.0                        1                        0   7.2500  \n",
       "1  female  38.0                        1                        0  71.2833  \n",
       "2  female  26.0                        0                        0   7.9250  \n",
       "3  female  35.0                        1                        0  53.1000  \n",
       "4    male  35.0                        0                        0   8.0500  "
      ]
     },
     "execution_count": 124,
     "metadata": {},
     "output_type": "execute_result"
    }
   ],
   "source": [
    "pd.options.display.max_colwidth = 100\n",
    "df.head()"
   ]
  },
  {
   "cell_type": "code",
   "execution_count": 125,
   "metadata": {},
   "outputs": [],
   "source": [
    "df['Sex'] = df['Sex'].replace({'female':0,'male':1})\n"
   ]
  },
  {
   "cell_type": "code",
   "execution_count": 126,
   "metadata": {},
   "outputs": [
    {
     "data": {
      "text/plain": [
       "'(3, 1, 2)'"
      ]
     },
     "execution_count": 126,
     "metadata": {},
     "output_type": "execute_result"
    }
   ],
   "source": [
    "str(tuple(i for i in list(df['Pclass'].value_counts().index)))"
   ]
  },
  {
   "cell_type": "code",
   "execution_count": 127,
   "metadata": {},
   "outputs": [],
   "source": [
    "cur.execute('''CREATE TYPE pclass AS ENUM '''+str(tuple(str(i) for i in list(df['Pclass'].value_counts().index))))\n"
   ]
  },
  {
   "cell_type": "code",
   "execution_count": 128,
   "metadata": {},
   "outputs": [
    {
     "ename": "AttributeError",
     "evalue": "'NoneType' object has no attribute 'fetchall'",
     "output_type": "error",
     "traceback": [
      "\u001b[1;31m---------------------------------------------------------------------------\u001b[0m",
      "\u001b[1;31mAttributeError\u001b[0m                            Traceback (most recent call last)",
      "\u001b[1;32m<ipython-input-128-3a660692d3ac>\u001b[0m in \u001b[0;36m<module>\u001b[1;34m\u001b[0m\n\u001b[1;32m----> 1\u001b[1;33m \u001b[0mprint\u001b[0m\u001b[1;33m(\u001b[0m\u001b[0mcur\u001b[0m\u001b[1;33m.\u001b[0m\u001b[0mexecute\u001b[0m\u001b[1;33m(\u001b[0m\u001b[1;34m'''SELECT enum_range(NULL::pclass)'''\u001b[0m\u001b[1;33m)\u001b[0m\u001b[1;33m.\u001b[0m\u001b[0mfetchall\u001b[0m\u001b[1;33m(\u001b[0m\u001b[1;33m)\u001b[0m\u001b[1;33m)\u001b[0m\u001b[1;33m\u001b[0m\u001b[1;33m\u001b[0m\u001b[0m\n\u001b[0m",
      "\u001b[1;31mAttributeError\u001b[0m: 'NoneType' object has no attribute 'fetchall'"
     ]
    }
   ],
   "source": [
    "print(cur.execute('''SELECT enum_range(NULL::pclass)''').fetchall())"
   ]
  },
  {
   "cell_type": "code",
   "execution_count": 357,
   "metadata": {},
   "outputs": [],
   "source": [
    "#conn = psycopg2.connect(dbname='waizzkeg', user='waizzkeg',\n",
    "                       # password='qn83fIuPrDvRhAS7Th4banRwREmnA3xm', host='otto.db.elephantsql.com')\n",
    "def create_db(csv, dbname, user, password, host):\n",
    "    \n",
    "    conn = psycopg2.connect(dbname=dbname, user=user,\n",
    "                        password=password, host=host)\n",
    "### A \"cursor\", a structure to iterate over db records to perform queries\n",
    "    cur = conn.cursor()\n",
    "    df = pd.read_csv(csv)\n",
    "    def enum_pclass(file):\n",
    "        with open(file, \"r\", encoding='utf-8') as f:\n",
    "            reader = csv.reader(f)\n",
    "            i = next(reader)\n",
    "            lines = f.readlines()\n",
    "            enums = []\n",
    "            for line in lines:\n",
    "                enum = line.split(',',2)[1]\n",
    "                enums.append(enum)\n",
    "            t_enums = tuple(set(enums))\n",
    "        return t_enums\n",
    "    cur.execute('''DROP TABLE titanic''')\n",
    "    cur.execute('''DROP TYPE pclass''')\n",
    "    cur.execute('''CREATE TYPE pclass AS ENUM '''+str(t_enums))\n",
    "    \n",
    "    create_table_query_type = '''CREATE TABLE titanic (id SERIAL PRIMARY KEY, survived BOOL NOT NULL,\n",
    "    pclass pclass, name VARCHAR(255) NOT NULL, sex BOOL NOT NULL, age FLOAT, s_s INT, p_c INT, fare FLOAT);'''\n",
    "    \n",
    "    cur.execute(create_table_query_type)\n",
    "    conn.commit()\n",
    "    return conn\n",
    "\n",
    "\n",
    "def create_table(file, conn):\n",
    "    cur = conn.cursor()\n",
    "    with open(file, \"r\", encoding='utf-8') as f:\n",
    "            reader = csv.reader(f)\n",
    "            i = next(reader)\n",
    "            lines = f.readlines()\n",
    "            for line in lines:\n",
    "                    survived, pclass = line.split(',',2)[:2]\n",
    "                    name = line.split(',',3)[2]\n",
    "                    if line.split(',',4)[3] == 'male':\n",
    "                        sex =  line.split(',',4)[3].replace('male', '0')\n",
    "                    else:\n",
    "                        sex = line.split(',',4)[3].replace('female', '1')\n",
    "                    age, s_s, p_c = line.split(',')[4:-1] \n",
    "                    fare = line.split(',')[-1].replace('\\n','')\n",
    "                    cur.execute('''INSERT INTO titanic (survived, pclass, name, sex, age, s_s, p_c, fare)\n",
    "                        VALUES(%s, %s, %s, %s, %s, %s,%s, %s);''', (survived, str(pclass), str(name), sex, age, s_s, p_c, fare)\n",
    "                    )\n",
    "    conn.commit()\n",
    "    cur.execute('''SELECT * FROM titanic''')\n",
    "    print(f'Return from query: {cur.fetchall()}\\nSuccess!!!')\n",
    "                "
   ]
  },
  {
   "cell_type": "code",
   "execution_count": 358,
   "metadata": {},
   "outputs": [
    {
     "name": "stdout",
     "output_type": "stream",
     "text": [
      "Return from query: [(1, False, '3', 'Mr. Owen Harris Braund', False, 22.0, 1, 0, 7.25), (2, True, '1', 'Mrs. John Bradley (Florence Briggs Thayer) Cumings', True, 38.0, 1, 0, 71.2833), (3, True, '3', 'Miss. Laina Heikkinen', True, 26.0, 0, 0, 7.925), (4, True, '1', 'Mrs. Jacques Heath (Lily May Peel) Futrelle', True, 35.0, 1, 0, 53.1), (5, False, '3', 'Mr. William Henry Allen', False, 35.0, 0, 0, 8.05), (6, False, '3', 'Mr. James Moran', False, 27.0, 0, 0, 8.4583), (7, False, '1', 'Mr. Timothy J McCarthy', False, 54.0, 0, 0, 51.8625), (8, False, '3', 'Master. Gosta Leonard Palsson', False, 2.0, 3, 1, 21.075), (9, True, '3', 'Mrs. Oscar W (Elisabeth Vilhelmina Berg) Johnson', True, 27.0, 0, 2, 11.1333), (10, True, '2', 'Mrs. Nicholas (Adele Achem) Nasser', True, 14.0, 1, 0, 30.0708), (11, True, '3', 'Miss. Marguerite Rut Sandstrom', True, 4.0, 1, 1, 16.7), (12, True, '1', 'Miss. Elizabeth Bonnell', True, 58.0, 0, 0, 26.55), (13, False, '3', 'Mr. William Henry Saundercock', False, 20.0, 0, 0, 8.05), (14, False, '3', 'Mr. Anders Johan Andersson', False, 39.0, 1, 5, 31.275), (15, False, '3', 'Miss. Hulda Amanda Adolfina Vestrom', True, 14.0, 0, 0, 7.8542), (16, True, '2', 'Mrs. (Mary D Kingcome) Hewlett', True, 55.0, 0, 0, 16.0), (17, False, '3', 'Master. Eugene Rice', False, 2.0, 4, 1, 29.125), (18, True, '2', 'Mr. Charles Eugene Williams', False, 23.0, 0, 0, 13.0), (19, False, '3', 'Mrs. Julius (Emelia Maria Vandemoortele) Vander Planke', True, 31.0, 1, 0, 18.0), (20, True, '3', 'Mrs. Fatima Masselmani', True, 22.0, 0, 0, 7.225), (21, False, '2', 'Mr. Joseph J Fynney', False, 35.0, 0, 0, 26.0), (22, True, '2', 'Mr. Lawrence Beesley', False, 34.0, 0, 0, 13.0), (23, True, '3', 'Miss. Anna McGowan', True, 15.0, 0, 0, 8.0292), (24, True, '1', 'Mr. William Thompson Sloper', False, 28.0, 0, 0, 35.5), (25, False, '3', 'Miss. Torborg Danira Palsson', True, 8.0, 3, 1, 21.075), (26, True, '3', 'Mrs. Carl Oscar (Selma Augusta Emilia Johansson) Asplund', True, 38.0, 1, 5, 31.3875), (27, False, '3', 'Mr. Farred Chehab Emir', False, 26.0, 0, 0, 7.225), (28, False, '1', 'Mr. Charles Alexander Fortune', False, 19.0, 3, 2, 263.0), (29, True, '3', \"Miss. Ellen O'Dwyer\", True, 24.0, 0, 0, 7.8792), (30, False, '3', 'Mr. Lalio Todoroff', False, 23.0, 0, 0, 7.8958), (31, False, '1', 'Don. Manuel E Uruchurtu', False, 40.0, 0, 0, 27.7208), (32, True, '1', 'Mrs. William Augustus (Marie Eugenie) Spencer', True, 48.0, 1, 0, 146.5208), (33, True, '3', 'Miss. Mary Agatha Glynn', True, 18.0, 0, 0, 7.75), (34, False, '2', 'Mr. Edward H Wheadon', False, 66.0, 0, 0, 10.5), (35, False, '1', 'Mr. Edgar Joseph Meyer', False, 28.0, 1, 0, 82.1708), (36, False, '1', 'Mr. Alexander Oskar Holverson', False, 42.0, 1, 0, 52.0), (37, True, '3', 'Mr. Hanna Mamee', False, 18.0, 0, 0, 7.2292), (38, False, '3', 'Mr. Ernest Charles Cann', False, 21.0, 0, 0, 8.05), (39, False, '3', 'Miss. Augusta Maria Vander Planke', True, 18.0, 2, 0, 18.0), (40, True, '3', 'Miss. Jamila Nicola-Yarred', True, 14.0, 1, 0, 11.2417), (41, False, '3', 'Mrs. Johan (Johanna Persdotter Larsson) Ahlin', True, 40.0, 1, 0, 9.475), (42, False, '2', 'Mrs. William John Robert (Dorothy Ann Wonnacott) Turpin', True, 27.0, 1, 0, 21.0), (43, True, '2', 'Miss. Simonne Marie Anne Andree Laroche', True, 3.0, 1, 2, 41.5792), (44, True, '3', 'Miss. Margaret Delia Devaney', True, 19.0, 0, 0, 7.8792), (45, False, '3', 'Mr. William John Rogers', False, 30.0, 0, 0, 8.05), (46, False, '3', 'Mr. Denis Lennon', False, 20.0, 1, 0, 15.5), (47, True, '3', \"Miss. Bridget O'Driscoll\", True, 27.0, 0, 0, 7.75), (48, False, '3', 'Mr. Youssef Samaan', False, 16.0, 2, 0, 21.6792), (49, False, '3', 'Mrs. Josef (Josefine Franchi) Arnold-Franchi', True, 18.0, 1, 0, 17.8), (50, False, '3', 'Master. Juha Niilo Panula', False, 7.0, 4, 1, 39.6875), (51, False, '3', 'Mr. Richard Cater Nosworthy', False, 21.0, 0, 0, 7.8), (52, True, '1', 'Mrs. Henry Sleeper (Myna Haxtun) Harper', True, 49.0, 1, 0, 76.7292), (53, True, '2', 'Mrs. Lizzie (Elizabeth Anne Wilkinson) Faunthorpe', True, 29.0, 1, 0, 26.0), (54, False, '1', 'Mr. Engelhart Cornelius Ostby', False, 65.0, 0, 1, 61.9792), (55, True, '1', 'Mr. Hugh Woolner', False, 46.0, 0, 0, 35.5), (56, True, '2', 'Miss. Emily Rugg', True, 21.0, 0, 0, 10.5), (57, False, '3', 'Mr. Mansouer Novel', False, 28.5, 0, 0, 7.2292), (58, True, '2', 'Miss. Constance Mirium West', True, 5.0, 1, 2, 27.75), (59, False, '3', 'Master. William Frederick Goodwin', False, 11.0, 5, 2, 46.9), (60, False, '3', 'Mr. Orsen Sirayanian', False, 22.0, 0, 0, 7.2292), (61, True, '1', 'Miss. Amelie Icard', True, 38.0, 0, 0, 80.0), (62, False, '1', 'Mr. Henry Birkhardt Harris', False, 45.0, 1, 0, 83.475), (63, False, '3', 'Master. Harald Skoog', False, 4.0, 3, 2, 27.9), (64, False, '1', 'Mr. Albert A Stewart', False, 64.0, 0, 0, 27.7208), (65, True, '3', 'Master. Gerios Moubarek', False, 7.0, 1, 1, 15.2458), (66, True, '2', 'Mrs. (Elizabeth Ramell) Nye', True, 29.0, 0, 0, 10.5), (67, False, '3', 'Mr. Ernest James Crease', False, 19.0, 0, 0, 8.1583), (68, True, '3', 'Miss. Erna Alexandra Andersson', True, 17.0, 4, 2, 7.925), (69, False, '3', 'Mr. Vincenz Kink', False, 26.0, 2, 0, 8.6625), (70, False, '2', 'Mr. Stephen Curnow Jenkin', False, 32.0, 0, 0, 10.5), (71, False, '3', 'Miss. Lillian Amy Goodwin', True, 16.0, 5, 2, 46.9), (72, False, '2', 'Mr. Ambrose Jr Hood', False, 21.0, 0, 0, 73.5), (73, False, '3', 'Mr. Apostolos Chronopoulos', False, 26.0, 1, 0, 14.4542), (74, True, '3', 'Mr. Lee Bing', False, 32.0, 0, 0, 56.4958), (75, False, '3', 'Mr. Sigurd Hansen Moen', False, 25.0, 0, 0, 7.65), (76, False, '3', 'Mr. Ivan Staneff', False, 23.0, 0, 0, 7.8958), (77, False, '3', 'Mr. Rahamin Haim Moutal', False, 28.0, 0, 0, 8.05), (78, True, '2', 'Master. Alden Gates Caldwell', False, 0.83, 0, 2, 29.0), (79, True, '3', 'Miss. Elizabeth Dowdell', True, 30.0, 0, 0, 12.475), (80, False, '3', 'Mr. Achille Waelens', False, 22.0, 0, 0, 9.0), (81, True, '3', 'Mr. Jan Baptist Sheerlinck', False, 29.0, 0, 0, 9.5), (82, True, '3', 'Miss. Brigdet Delia McDermott', True, 31.0, 0, 0, 7.7875), (83, False, '1', 'Mr. Francisco M Carrau', False, 28.0, 0, 0, 47.1), (84, True, '2', 'Miss. Bertha Ilett', True, 17.0, 0, 0, 10.5), (85, True, '3', 'Mrs. Karl Alfred (Maria Mathilda Gustafsson) Backstrom', True, 33.0, 3, 0, 15.85), (86, False, '3', 'Mr. William Neal Ford', False, 16.0, 1, 3, 34.375), (87, False, '3', 'Mr. Selman Francis Slocovski', False, 20.0, 0, 0, 8.05), (88, True, '1', 'Miss. Mabel Helen Fortune', True, 23.0, 3, 2, 263.0), (89, False, '3', 'Mr. Francesco Celotti', False, 24.0, 0, 0, 8.05), (90, False, '3', 'Mr. Emil Christmann', False, 29.0, 0, 0, 8.05), (91, False, '3', 'Mr. Paul Edvin Andreasson', False, 20.0, 0, 0, 7.8542), (92, False, '1', 'Mr. Herbert Fuller Chaffee', False, 46.0, 1, 0, 61.175), (93, False, '3', 'Mr. Bertram Frank Dean', False, 26.0, 1, 2, 20.575), (94, False, '3', 'Mr. Daniel Coxon', False, 59.0, 0, 0, 7.25), (95, False, '3', 'Mr. Charles Joseph Shorney', False, 22.0, 0, 0, 8.05), (96, False, '1', 'Mr. George B Goldschmidt', False, 71.0, 0, 0, 34.6542), (97, True, '1', 'Mr. William Bertram Greenfield', False, 23.0, 0, 1, 63.3583), (98, True, '2', 'Mrs. John T (Ada Julia Bone) Doling', True, 34.0, 0, 1, 23.0), (99, False, '2', 'Mr. Sinai Kantor', False, 34.0, 1, 0, 26.0), (100, False, '3', 'Miss. Matilda Petranec', True, 28.0, 0, 0, 7.8958), (101, False, '3', 'Mr. Pastcho Petroff', False, 29.0, 0, 0, 7.8958), (102, False, '1', 'Mr. Richard Frasar White', False, 21.0, 0, 1, 77.2875), (103, False, '3', 'Mr. Gustaf Joel Johansson', False, 33.0, 0, 0, 8.6542), (104, False, '3', 'Mr. Anders Vilhelm Gustafsson', False, 37.0, 2, 0, 7.925), (105, False, '3', 'Mr. Stoytcho Mionoff', False, 28.0, 0, 0, 7.8958), (106, True, '3', 'Miss. Anna Kristine Salkjelsvik', True, 21.0, 0, 0, 7.65), (107, True, '3', 'Mr. Albert Johan Moss', False, 29.0, 0, 0, 7.775), (108, False, '3', 'Mr. Tido Rekic', False, 38.0, 0, 0, 7.8958), (109, True, '3', 'Miss. Bertha Moran', True, 28.0, 1, 0, 24.15), (110, False, '1', 'Mr. Walter Chamberlain Porter', False, 47.0, 0, 0, 52.0), (111, False, '3', 'Miss. Hileni Zabour', True, 14.5, 1, 0, 14.4542), (112, False, '3', 'Mr. David John Barton', False, 22.0, 0, 0, 8.05), (113, False, '3', 'Miss. Katriina Jussila', True, 20.0, 1, 0, 9.825), (114, False, '3', 'Miss. Malake Attalah', True, 17.0, 0, 0, 14.4583), (115, False, '3', 'Mr. Edvard Pekoniemi', False, 21.0, 0, 0, 7.925), (116, False, '3', 'Mr. Patrick Connors', False, 70.5, 0, 0, 7.75), (117, False, '2', 'Mr. William John Robert Turpin', False, 29.0, 1, 0, 21.0), (118, False, '1', 'Mr. Quigg Edmond Baxter', False, 24.0, 0, 1, 247.5208), (119, False, '3', 'Miss. Ellis Anna Maria Andersson', True, 2.0, 4, 2, 31.275), (120, False, '2', 'Mr. Stanley George Hickman', False, 21.0, 2, 0, 73.5), (121, False, '3', 'Mr. Leonard Charles Moore', False, 19.0, 0, 0, 8.05), (122, False, '2', 'Mr. Nicholas Nasser', False, 32.5, 1, 0, 30.0708), (123, True, '2', 'Miss. Susan Webber', True, 32.5, 0, 0, 13.0), (124, False, '1', 'Mr. Percival Wayland White', False, 54.0, 0, 1, 77.2875), (125, True, '3', 'Master. Elias Nicola-Yarred', False, 12.0, 1, 0, 11.2417), (126, False, '3', 'Mr. Martin McMahon', False, 19.0, 0, 0, 7.75), (127, True, '3', 'Mr. Fridtjof Arne Madsen', False, 24.0, 0, 0, 7.1417), (128, True, '3', 'Miss. Anna Peter', True, 2.0, 1, 1, 22.3583), (129, False, '3', 'Mr. Johan Ekstrom', False, 45.0, 0, 0, 6.975), (130, False, '3', 'Mr. Jozef Drazenoic', False, 33.0, 0, 0, 7.8958), (131, False, '3', 'Mr. Domingos Fernandeo Coelho', False, 20.0, 0, 0, 7.05), (132, False, '3', 'Mrs. Alexander A (Grace Charity Laury) Robins', True, 47.0, 1, 0, 14.5), (133, True, '2', 'Mrs. Leopold (Mathilde Francoise Pede) Weisz', True, 29.0, 1, 0, 26.0), (134, False, '2', 'Mr. Samuel James Hayden Sobey', False, 25.0, 0, 0, 13.0), (135, False, '2', 'Mr. Emile Richard', False, 23.0, 0, 0, 15.0458), (136, True, '1', 'Miss. Helen Monypeny Newsom', True, 19.0, 0, 2, 26.2833), (137, False, '1', 'Mr. Jacques Heath Futrelle', False, 37.0, 1, 0, 53.1), (138, False, '3', 'Mr. Olaf Elon Osen', False, 16.0, 0, 0, 9.2167), (139, False, '1', 'Mr. Victor Giglio', False, 24.0, 0, 0, 79.2), (140, False, '3', 'Mrs. Joseph (Sultana) Boulos', True, 40.0, 0, 2, 15.2458), (141, True, '3', 'Miss. Anna Sofia Nysten', True, 22.0, 0, 0, 7.75), (142, True, '3', 'Mrs. Pekka Pietari (Elin Matilda Dolck) Hakkarainen', True, 24.0, 1, 0, 15.85), (143, False, '3', 'Mr. Jeremiah Burke', False, 19.0, 0, 0, 6.75), (144, False, '2', 'Mr. Edgardo Samuel Andrew', False, 18.0, 0, 0, 11.5), (145, False, '2', 'Mr. Joseph Charles Nicholls', False, 19.0, 1, 1, 36.75), (146, True, '3', 'Mr. August Edvard Andersson', False, 27.0, 0, 0, 7.7958), (147, False, '3', 'Miss. Robina Maggie Ford', True, 9.0, 2, 2, 34.375), (148, False, '2', 'Mr. Michel Navratil', False, 36.5, 0, 2, 26.0), (149, False, '2', 'Rev. Thomas Roussel Davids Byles', False, 42.0, 0, 0, 13.0), (150, False, '2', 'Rev. Robert James Bateman', False, 51.0, 0, 0, 12.525), (151, True, '1', 'Mrs. Thomas (Edith Wearne) Pears', True, 22.0, 1, 0, 66.6), (152, False, '3', 'Mr. Alfonzo Meo', False, 55.5, 0, 0, 8.05), (153, False, '3', 'Mr. Austin Blyler van Billiard', False, 40.5, 0, 2, 14.5), (154, False, '3', 'Mr. Ole Martin Olsen', False, 27.0, 0, 0, 7.3125), (155, False, '1', 'Mr. Charles Duane Williams', False, 51.0, 0, 1, 61.3792), (156, True, '3', 'Miss. Katherine Gilnagh', True, 16.0, 0, 0, 7.7333), (157, False, '3', 'Mr. Harry Corn', False, 30.0, 0, 0, 8.05), (158, False, '3', 'Mr. Mile Smiljanic', False, 37.0, 0, 0, 8.6625), (159, False, '3', 'Master. Thomas Henry Sage', False, 5.0, 8, 2, 69.55), (160, False, '3', 'Mr. John Hatfield Cribb', False, 44.0, 0, 1, 16.1), (161, True, '2', 'Mrs. James (Elizabeth Inglis Milne) Watt', True, 40.0, 0, 0, 15.75), (162, False, '3', 'Mr. John Viktor Bengtsson', False, 26.0, 0, 0, 7.775), (163, False, '3', 'Mr. Jovo Calic', False, 17.0, 0, 0, 8.6625), (164, False, '3', 'Master. Eino Viljami Panula', False, 1.0, 4, 1, 39.6875), (165, True, '3', 'Master. Frank John William Goldsmith', False, 9.0, 0, 2, 20.525), (166, True, '1', 'Mrs. (Edith Martha Bowerman) Chibnall', True, 48.0, 0, 1, 55.0), (167, False, '3', 'Mrs. William (Anna Bernhardina Karlsson) Skoog', True, 45.0, 1, 4, 27.9), (168, False, '1', 'Mr. John D Baumann', False, 60.0, 0, 0, 25.925), (169, False, '3', 'Mr. Lee Ling', False, 28.0, 0, 0, 56.4958), (170, False, '1', 'Mr. Wyckoff Van der hoef', False, 61.0, 0, 0, 33.5), (171, False, '3', 'Master. Arthur Rice', False, 4.0, 4, 1, 29.125), (172, True, '3', 'Miss. Eleanor Ileen Johnson', True, 1.0, 1, 1, 11.1333), (173, False, '3', 'Mr. Antti Wilhelm Sivola', False, 21.0, 0, 0, 7.925), (174, False, '1', 'Mr. James Clinch Smith', False, 56.0, 0, 0, 30.6958), (175, False, '3', 'Mr. Klas Albin Klasen', False, 18.0, 1, 1, 7.8542), (176, False, '3', 'Master. Henry Forbes Lefebre', False, 5.0, 3, 1, 25.4667), (177, False, '1', 'Miss. Ann Elizabeth Isham', True, 50.0, 0, 0, 28.7125), (178, False, '2', 'Mr. Reginald Hale', False, 30.0, 0, 0, 13.0), (179, False, '3', 'Mr. Lionel Leonard', False, 36.0, 0, 0, 0.0), (180, False, '3', 'Miss. Constance Gladys Sage', True, 8.0, 8, 2, 69.55), (181, False, '2', 'Mr. Rene Pernot', False, 39.0, 0, 0, 15.05), (182, False, '3', 'Master. Clarence Gustaf Hugo Asplund', False, 9.0, 4, 2, 31.3875), (183, True, '2', 'Master. Richard F Becker', False, 1.0, 2, 1, 39.0), (184, True, '3', 'Miss. Luise Gretchen Kink-Heilmann', True, 4.0, 0, 2, 22.025), (185, False, '1', 'Mr. Hugh Roscoe Rood', False, 39.0, 0, 0, 50.0), (186, True, '3', \"Mrs. Thomas (Johanna Godfrey) O'Brien\", True, 26.0, 1, 0, 15.5), (187, True, '1', 'Mr. Charles Hallace Romaine', False, 45.0, 0, 0, 26.55), (188, False, '3', 'Mr. John Bourke', False, 40.0, 1, 1, 15.5), (189, False, '3', 'Mr. Stjepan Turcin', False, 36.0, 0, 0, 7.8958), (190, True, '2', 'Mrs. (Rosa) Pinsky', True, 32.0, 0, 0, 13.0), (191, False, '2', 'Mr. William Carbines', False, 19.0, 0, 0, 13.0), (192, True, '3', 'Miss. Carla Christine Nielsine Andersen-Jensen', True, 19.0, 1, 0, 7.8542), (193, True, '2', 'Master. Michel M Navratil', False, 3.0, 1, 1, 26.0), (194, True, '1', 'Mrs. James Joseph (Margaret Tobin) Brown', True, 44.0, 0, 0, 27.7208), (195, True, '1', 'Miss. Elise Lurette', True, 58.0, 0, 0, 146.5208), (196, False, '3', 'Mr. Robert Mernagh', False, 28.0, 0, 0, 7.75), (197, False, '3', 'Mr. Karl Siegwart Andreas Olsen', False, 42.0, 0, 1, 8.4042), (198, True, '3', 'Miss. Margaret Madigan', True, 21.0, 0, 0, 7.75), (199, False, '2', 'Miss. Henriette Yrois', True, 24.0, 0, 0, 13.0), (200, False, '3', 'Mr. Nestor Cyriel Vande Walle', False, 28.0, 0, 0, 9.5), (201, False, '3', 'Mr. Frederick Sage', False, 17.0, 8, 2, 69.55), (202, False, '3', 'Mr. Jakob Alfred Johanson', False, 34.0, 0, 0, 6.4958), (203, False, '3', 'Mr. Gerious Youseff', False, 45.5, 0, 0, 7.225), (204, True, '3', 'Mr. Gurshon Cohen', False, 18.0, 0, 0, 8.05), (205, False, '3', 'Miss. Telma Matilda Strom', True, 2.0, 0, 1, 10.4625), (206, False, '3', 'Mr. Karl Alfred Backstrom', False, 32.0, 1, 0, 15.85), (207, True, '3', 'Mr. Nassef Cassem Albimona', False, 26.0, 0, 0, 18.7875), (208, True, '3', 'Miss. Helen Carr', True, 16.0, 0, 0, 7.75), (209, True, '1', 'Mr. Henry Blank', False, 40.0, 0, 0, 31.0), (210, False, '3', 'Mr. Ahmed Ali', False, 24.0, 0, 0, 7.05), (211, True, '2', 'Miss. Clear Annie Cameron', True, 35.0, 0, 0, 21.0), (212, False, '3', 'Mr. John Henry Perkin', False, 22.0, 0, 0, 7.25), (213, False, '2', 'Mr. Hans Kristensen Givard', False, 30.0, 0, 0, 13.0), (214, False, '3', 'Mr. Philip Kiernan', False, 22.0, 1, 0, 7.75), (215, True, '1', 'Miss. Madeleine Newell', True, 31.0, 1, 0, 113.275), (216, True, '3', 'Miss. Eliina Honkanen', True, 27.0, 0, 0, 7.925), (217, False, '2', 'Mr. Sidney Samuel Jacobsohn', False, 42.0, 1, 0, 27.0), (218, True, '1', 'Miss. Albina Bazzani', True, 32.0, 0, 0, 76.2917), (219, False, '2', 'Mr. Walter Harris', False, 30.0, 0, 0, 10.5), (220, True, '3', 'Mr. Victor Francis Sunderland', False, 16.0, 0, 0, 8.05), (221, False, '2', 'Mr. James H Bracken', False, 27.0, 0, 0, 13.0), (222, False, '3', 'Mr. George Henry Green', False, 51.0, 0, 0, 8.05), (223, False, '3', 'Mr. Christo Nenkoff', False, 22.0, 0, 0, 7.8958), (224, True, '1', 'Mr. Frederick Maxfield Hoyt', False, 38.0, 1, 0, 90.0), (225, False, '3', 'Mr. Karl Ivar Sven Berglund', False, 22.0, 0, 0, 9.35), (226, True, '2', 'Mr. William John Mellors', False, 19.0, 0, 0, 10.5), (227, False, '3', 'Mr. John Hall Lovell', False, 20.5, 0, 0, 7.25), (228, False, '2', 'Mr. Arne Jonas Fahlstrom', False, 18.0, 0, 0, 13.0), (229, False, '3', 'Miss. Mathilde Lefebre', True, 12.0, 3, 1, 25.4667), (230, True, '1', 'Mrs. Henry Birkhardt (Irene Wallach) Harris', True, 35.0, 1, 0, 83.475), (231, False, '3', 'Mr. Bengt Edvin Larsson', False, 29.0, 0, 0, 7.775), (232, False, '2', 'Mr. Ernst Adolf Sjostedt', False, 59.0, 0, 0, 13.5), (233, True, '3', 'Miss. Lillian Gertrud Asplund', True, 5.0, 4, 2, 31.3875), (234, False, '2', 'Mr. Robert William Norman Leyson', False, 24.0, 0, 0, 10.5), (235, False, '3', 'Miss. Alice Phoebe Harknett', True, 21.0, 0, 0, 7.55), (236, False, '2', 'Mr. Stephen Hold', False, 44.0, 1, 0, 26.0), (237, True, '2', 'Miss. Marjorie Collyer', True, 8.0, 0, 2, 26.25), (238, False, '2', 'Mr. Frederick William Pengelly', False, 19.0, 0, 0, 10.5), (239, False, '2', 'Mr. George Henry Hunt', False, 33.0, 0, 0, 12.275), (240, False, '3', 'Miss. Thamine Zabour', True, 19.0, 1, 0, 14.4542), (241, True, '3', 'Miss. Katherine Murphy', True, 18.0, 1, 0, 15.5), (242, False, '2', 'Mr. Reginald Charles Coleridge', False, 29.0, 0, 0, 10.5), (243, False, '3', 'Mr. Matti Alexanteri Maenpaa', False, 22.0, 0, 0, 7.125), (244, False, '3', 'Mr. Sleiman Attalah', False, 30.0, 0, 0, 7.225), (245, False, '1', 'Dr. William Edward Minahan', False, 44.0, 2, 0, 90.0), (246, False, '3', 'Miss. Agda Thorilda Viktoria Lindahl', True, 25.0, 0, 0, 7.775), (247, True, '2', 'Mrs. William (Anna) Hamalainen', True, 24.0, 0, 2, 14.5), (248, True, '1', 'Mr. Richard Leonard Beckwith', False, 37.0, 1, 1, 52.5542), (249, False, '2', 'Rev. Ernest Courtenay Carter', False, 54.0, 1, 0, 26.0), (250, False, '3', 'Mr. James George Reed', False, 18.0, 0, 0, 7.25), (251, False, '3', 'Mrs. Wilhelm (Elna Matilda Persson) Strom', True, 29.0, 1, 1, 10.4625), (252, False, '1', 'Mr. William Thomas Stead', False, 62.0, 0, 0, 26.55), (253, False, '3', 'Mr. William Arthur Lobb', False, 30.0, 1, 0, 16.1), (254, False, '3', 'Mrs. Viktor (Helena Wilhelmina) Rosblom', True, 41.0, 0, 2, 20.2125), (255, True, '3', 'Mrs. Darwis (Hanne Youssef Razi) Touma', True, 29.0, 0, 2, 15.2458), (256, True, '1', 'Mrs. Gertrude Maybelle Thorne', True, 38.0, 0, 0, 79.2), (257, True, '1', 'Miss. Gladys Cherry', True, 30.0, 0, 0, 86.5), (258, True, '1', 'Miss. Anna Ward', True, 35.0, 0, 0, 512.3292), (259, True, '2', 'Mrs. (Lutie Davis) Parrish', True, 50.0, 0, 1, 26.0), (260, True, '3', 'Master. Edvin Rojj Felix Asplund', False, 3.0, 4, 2, 31.3875), (261, False, '1', 'Mr. Emil Taussig', False, 52.0, 1, 1, 79.65), (262, False, '1', 'Mr. William Harrison', False, 40.0, 0, 0, 0.0), (263, False, '3', 'Miss. Delia Henry', True, 21.0, 0, 0, 7.75), (264, False, '2', 'Mr. David Reeves', False, 36.0, 0, 0, 10.5), (265, False, '3', 'Mr. Ernesti Arvid Panula', False, 16.0, 4, 1, 39.6875), (266, True, '3', 'Mr. Ernst Ulrik Persson', False, 25.0, 1, 0, 7.775), (267, True, '1', 'Mrs. William Thompson (Edith Junkins) Graham', True, 58.0, 0, 1, 153.4625), (268, True, '1', 'Miss. Amelia Bissette', True, 35.0, 0, 0, 135.6333), (269, False, '1', 'Mr. Alexander Cairns', False, 28.0, 0, 0, 31.0), (270, True, '3', 'Mr. William Henry Tornquist', False, 25.0, 0, 0, 0.0), (271, True, '2', 'Mrs. (Elizabeth Anne Maidment) Mellinger', True, 41.0, 0, 1, 19.5), (272, False, '1', 'Mr. Charles H Natsch', False, 37.0, 0, 1, 29.7), (273, True, '3', 'Miss. Hanora Healy', True, 33.0, 0, 0, 7.75), (274, True, '1', 'Miss. Kornelia Theodosia Andrews', True, 63.0, 1, 0, 77.9583), (275, False, '3', 'Miss. Augusta Charlotta Lindblom', True, 45.0, 0, 0, 7.75), (276, False, '2', 'Mr. Francis Parkes', False, 21.0, 0, 0, 0.0), (277, False, '3', 'Master. Eric Rice', False, 7.0, 4, 1, 29.125), (278, True, '3', 'Mrs. Stanton (Rosa Hunt) Abbott', True, 35.0, 1, 1, 20.25), (279, False, '3', 'Mr. Frank Duane', False, 65.0, 0, 0, 7.75), (280, False, '3', 'Mr. Nils Johan Goransson Olsson', False, 28.0, 0, 0, 7.8542), (281, False, '3', 'Mr. Alfons de Pelsmaeker', False, 16.0, 0, 0, 9.5), (282, True, '3', 'Mr. Edward Arthur Dorking', False, 19.0, 0, 0, 8.05), (283, False, '1', 'Mr. Richard William Smith', False, 57.0, 0, 0, 26.0), (284, False, '3', 'Mr. Ivan Stankovic', False, 33.0, 0, 0, 8.6625), (285, True, '3', 'Mr. Theodore de Mulder', False, 30.0, 0, 0, 9.5), (286, False, '3', 'Mr. Penko Naidenoff', False, 22.0, 0, 0, 7.8958), (287, True, '2', 'Mr. Masabumi Hosono', False, 42.0, 0, 0, 13.0), (288, True, '3', 'Miss. Kate Connolly', True, 22.0, 0, 0, 7.75), (289, True, '1', 'Miss. Ellen Barber', True, 26.0, 0, 0, 78.85), (290, True, '1', 'Mrs. Dickinson H (Helen Walton) Bishop', True, 19.0, 1, 0, 91.0792), (291, False, '2', 'Mr. Rene Jacques Levy', False, 36.0, 0, 0, 12.875), (292, False, '3', 'Miss. Aloisia Haas', True, 24.0, 0, 0, 8.85), (293, False, '3', 'Mr. Ivan Mineff', False, 24.0, 0, 0, 7.8958), (294, False, '1', 'Mr. Ervin G Lewy', False, 30.0, 0, 0, 27.7208), (295, False, '3', 'Mr. Mansour Hanna', False, 23.5, 0, 0, 7.2292), (296, False, '1', 'Miss. Helen Loraine Allison', True, 2.0, 1, 2, 151.55), (297, True, '1', 'Mr. Adolphe Saalfeld', False, 47.0, 0, 0, 30.5), (298, True, '1', 'Mrs. James (Helene DeLaudeniere Chaput) Baxter', True, 50.0, 0, 1, 247.5208), (299, True, '3', 'Miss. Anna Katherine Kelly', True, 20.0, 0, 0, 7.75), (300, True, '3', 'Mr. Bernard McCoy', False, 24.0, 2, 0, 23.25), (301, False, '3', 'Mr. William Cahoone Jr Johnson', False, 19.0, 0, 0, 0.0), (302, True, '2', 'Miss. Nora A Keane', True, 46.0, 0, 0, 12.35), (303, False, '3', 'Mr. Howard Hugh Williams', False, 28.0, 0, 0, 8.05), (304, True, '1', 'Master. Hudson Trevor Allison', False, 0.92, 1, 2, 151.55), (305, True, '1', 'Miss. Margaret Fleming', True, 42.0, 0, 0, 110.8833), (306, True, '1', 'Mrs. Victor de Satode (Maria Josefa Perez de Soto y Vallejo) Penasco y Castellana', True, 17.0, 1, 0, 108.9), (307, False, '2', 'Mr. Samuel Abelson', False, 30.0, 1, 0, 24.0), (308, True, '1', 'Miss. Laura Mabel Francatelli', True, 30.0, 0, 0, 56.9292), (309, True, '1', 'Miss. Margaret Bechstein Hays', True, 24.0, 0, 0, 83.1583), (310, True, '1', 'Miss. Emily Borie Ryerson', True, 18.0, 2, 2, 262.375), (311, False, '2', 'Mrs. William (Anna Sylfven) Lahtinen', True, 26.0, 1, 1, 26.0), (312, False, '3', 'Mr. Ignjac Hendekovic', False, 28.0, 0, 0, 7.8958), (313, False, '2', 'Mr. Benjamin Hart', False, 43.0, 1, 1, 26.25), (314, True, '3', 'Miss. Helmina Josefina Nilsson', True, 26.0, 0, 0, 7.8542), (315, True, '2', 'Mrs. Sinai (Miriam Sternin) Kantor', True, 24.0, 1, 0, 26.0), (316, False, '2', 'Dr. Ernest Moraweck', False, 54.0, 0, 0, 14.0), (317, True, '1', 'Miss. Mary Natalie Wick', True, 31.0, 0, 2, 164.8667), (318, True, '1', 'Mrs. Frederic Oakley (Margaretta Corning Stone) Spedden', True, 40.0, 1, 1, 134.5), (319, False, '3', 'Mr. Samuel Dennis', False, 22.0, 0, 0, 7.25), (320, False, '3', 'Mr. Yoto Danoff', False, 27.0, 0, 0, 7.8958), (321, True, '2', 'Miss. Hilda Mary Slayter', True, 30.0, 0, 0, 12.35), (322, True, '2', 'Mrs. Albert Francis (Sylvia Mae Harbaugh) Caldwell', True, 22.0, 1, 1, 29.0), (323, False, '3', 'Mr. George John Jr Sage', False, 20.0, 8, 2, 69.55), (324, True, '1', 'Miss. Marie Grice Young', True, 36.0, 0, 0, 135.6333), (325, False, '3', 'Mr. Johan Hansen Nysveen', False, 61.0, 0, 0, 6.2375), (326, True, '2', 'Mrs. (Ada E Hall) Ball', True, 36.0, 0, 0, 13.0), (327, True, '3', 'Mrs. Frank John (Emily Alice Brown) Goldsmith', True, 31.0, 1, 1, 20.525), (328, True, '1', 'Miss. Jean Gertrude Hippach', True, 16.0, 0, 1, 57.9792), (329, True, '3', 'Miss. Agnes McCoy', True, 28.0, 2, 0, 23.25), (330, False, '1', 'Mr. Austen Partner', False, 45.5, 0, 0, 28.5), (331, False, '1', 'Mr. George Edward Graham', False, 38.0, 0, 1, 153.4625), (332, False, '3', 'Mr. Leo Edmondus Vander Planke', False, 16.0, 2, 0, 18.0), (333, True, '1', 'Mrs. Henry William (Clara Heinsheimer) Frauenthal', True, 42.0, 1, 0, 133.65), (334, False, '3', 'Mr. Mitto Denkoff', False, 30.0, 0, 0, 7.8958), (335, False, '1', 'Mr. Thomas Clinton Pears', False, 29.0, 1, 0, 66.6), (336, True, '1', 'Miss. Elizabeth Margaret Burns', True, 41.0, 0, 0, 134.5), (337, True, '3', 'Mr. Karl Edwart Dahl', False, 45.0, 0, 0, 8.05), (338, False, '1', 'Mr. Stephen Weart Blackwell', False, 45.0, 0, 0, 35.5), (339, True, '2', 'Master. Edmond Roger Navratil', False, 2.0, 1, 1, 26.0), (340, True, '1', 'Miss. Alice Elizabeth Fortune', True, 24.0, 3, 2, 263.0), (341, False, '2', 'Mr. Erik Gustaf Collander', False, 28.0, 0, 0, 13.0), (342, False, '2', 'Mr. Charles Frederick Waddington Sedgwick', False, 25.0, 0, 0, 13.0), (343, False, '2', 'Mr. Stanley Hubert Fox', False, 36.0, 0, 0, 13.0), (344, True, '2', 'Miss. Amelia Brown', True, 24.0, 0, 0, 13.0), (345, True, '2', 'Miss. Marion Elsie Smith', True, 40.0, 0, 0, 13.0), (346, True, '3', 'Mrs. Thomas Henry (Mary E Finck) Davison', True, 34.0, 1, 0, 16.1), (347, True, '3', 'Master. William Loch Coutts', False, 3.0, 1, 1, 15.9), (348, False, '3', 'Mr. Jovan Dimic', False, 42.0, 0, 0, 8.6625), (349, False, '3', 'Mr. Nils Martin Odahl', False, 23.0, 0, 0, 9.225), (350, False, '1', 'Mr. Fletcher Fellows Williams-Lambert', False, 43.0, 0, 0, 35.0), (351, False, '3', 'Mr. Tannous Elias', False, 15.0, 1, 1, 7.2292), (352, False, '3', 'Mr. Josef Arnold-Franchi', False, 25.0, 1, 0, 17.8), (353, False, '3', 'Mr. Wazli Yousif', False, 23.0, 0, 0, 7.225), (354, False, '3', 'Mr. Leo Peter Vanden Steen', False, 28.0, 0, 0, 9.5), (355, True, '1', 'Miss. Elsie Edith Bowerman', True, 22.0, 0, 1, 55.0), (356, False, '2', 'Miss. Annie Clemmer Funk', True, 38.0, 0, 0, 13.0), (357, True, '3', 'Miss. Mary McGovern', True, 22.0, 0, 0, 7.8792), (358, True, '3', 'Miss. Helen Mary Mockler', True, 23.0, 0, 0, 7.8792), (359, False, '3', 'Mr. Wilhelm Skoog', False, 40.0, 1, 4, 27.9), (360, False, '2', 'Mr. Sebastiano del Carlo', False, 29.0, 1, 0, 27.7208), (361, False, '3', 'Mrs. (Catherine David) Barbara', True, 45.0, 0, 1, 14.4542), (362, False, '3', 'Mr. Adola Asim', False, 35.0, 0, 0, 7.05), (363, False, '3', \"Mr. Thomas O'Brien\", False, 27.0, 1, 0, 15.5), (364, False, '3', 'Mr. Mauritz Nils Martin Adahl', False, 30.0, 0, 0, 7.25), (365, True, '1', 'Mrs. Frank Manley (Anna Sophia Atkinson) Warren', True, 60.0, 1, 0, 75.25), (366, True, '3', 'Mrs. (Mantoura Boulos) Moussa', True, 35.0, 0, 0, 7.2292), (367, True, '3', 'Miss. Annie Jermyn', True, 22.0, 0, 0, 7.75), (368, True, '1', 'Mme. Leontine Pauline Aubart', True, 24.0, 0, 0, 69.3), (369, True, '1', 'Mr. George Achilles Harder', False, 25.0, 1, 0, 55.4417), (370, False, '3', 'Mr. Jakob Alfred Wiklund', False, 18.0, 1, 0, 6.4958), (371, False, '3', 'Mr. William Thomas Beavan', False, 19.0, 0, 0, 8.05), (372, False, '1', 'Mr. Sante Ringhini', False, 22.0, 0, 0, 135.6333), (373, False, '3', 'Miss. Stina Viola Palsson', True, 3.0, 3, 1, 21.075), (374, True, '1', 'Mrs. Edgar Joseph (Leila Saks) Meyer', True, 25.0, 1, 0, 82.1708), (375, True, '3', 'Miss. Aurora Adelia Landergren', True, 22.0, 0, 0, 7.25), (376, False, '1', 'Mr. Harry Elkins Widener', False, 27.0, 0, 2, 211.5), (377, False, '3', 'Mr. Tannous Betros', False, 20.0, 0, 0, 4.0125), (378, False, '3', 'Mr. Karl Gideon Gustafsson', False, 19.0, 0, 0, 7.775), (379, True, '1', 'Miss. Rosalie Bidois', True, 42.0, 0, 0, 227.525), (380, True, '3', 'Miss. Maria Nakid', True, 1.0, 0, 2, 15.7417), (381, False, '3', 'Mr. Juho Tikkanen', False, 32.0, 0, 0, 7.925), (382, True, '1', 'Mrs. Alexander Oskar (Mary Aline Towner) Holverson', True, 35.0, 1, 0, 52.0), (383, False, '3', 'Mr. Vasil Plotcharsky', False, 27.0, 0, 0, 7.8958), (384, False, '2', 'Mr. Charles Henry Davies', False, 18.0, 0, 0, 73.5), (385, False, '3', 'Master. Sidney Leonard Goodwin', False, 1.0, 5, 2, 46.9), (386, True, '2', 'Miss. Kate Buss', True, 36.0, 0, 0, 13.0), (387, False, '3', 'Mr. Matthew Sadlier', False, 19.0, 0, 0, 7.7292), (388, True, '2', 'Miss. Bertha Lehmann', True, 17.0, 0, 0, 12.0), (389, True, '1', 'Mr. William Ernest Carter', False, 36.0, 1, 2, 120.0), (390, True, '3', 'Mr. Carl Olof Jansson', False, 21.0, 0, 0, 7.7958), (391, False, '3', 'Mr. Johan Birger Gustafsson', False, 28.0, 2, 0, 7.925), (392, True, '1', 'Miss. Marjorie Newell', True, 23.0, 1, 0, 113.275), (393, True, '3', 'Mrs. Hjalmar (Agnes Charlotta Bengtsson) Sandstrom', True, 24.0, 0, 2, 16.7), (394, False, '3', 'Mr. Erik Johansson', False, 22.0, 0, 0, 7.7958), (395, False, '3', 'Miss. Elina Olsson', True, 31.0, 0, 0, 7.8542), (396, False, '2', 'Mr. Peter David McKane', False, 46.0, 0, 0, 26.0), (397, False, '2', 'Dr. Alfred Pain', False, 23.0, 0, 0, 10.5), (398, True, '2', 'Mrs. William H (Jessie L) Trout', True, 28.0, 0, 0, 12.65), (399, True, '3', 'Mr. Juha Niskanen', False, 39.0, 0, 0, 7.925), (400, False, '3', 'Mr. John Adams', False, 26.0, 0, 0, 8.05), (401, False, '3', 'Miss. Mari Aina Jussila', True, 21.0, 1, 0, 9.825), (402, False, '3', 'Mr. Pekka Pietari Hakkarainen', False, 28.0, 1, 0, 15.85), (403, False, '3', 'Miss. Marija Oreskovic', True, 20.0, 0, 0, 8.6625), (404, False, '2', 'Mr. Shadrach Gale', False, 34.0, 1, 0, 21.0), (405, False, '3', 'Mr. Carl/Charles Peter Widegren', False, 51.0, 0, 0, 7.75), (406, True, '2', 'Master. William Rowe Richards', False, 3.0, 1, 1, 18.75), (407, False, '3', 'Mr. Hans Martin Monsen Birkeland', False, 21.0, 0, 0, 7.775), (408, False, '3', 'Miss. Ida Lefebre', True, 3.0, 3, 1, 25.4667), (409, False, '3', 'Mr. Todor Sdycoff', False, 42.0, 0, 0, 7.8958), (410, False, '3', 'Mr. Henry Hart', False, 27.0, 0, 0, 6.8583), (411, True, '1', 'Miss. Daisy E Minahan', True, 33.0, 1, 0, 90.0), (412, False, '2', 'Mr. Alfred Fleming Cunningham', False, 22.0, 0, 0, 0.0), (413, True, '3', 'Mr. Johan Julian Sundman', False, 44.0, 0, 0, 7.925), (414, False, '3', 'Mrs. Thomas (Annie Louise Rowley) Meek', True, 32.0, 0, 0, 8.05), (415, True, '2', 'Mrs. James Vivian (Lulu Thorne Christian) Drew', True, 34.0, 1, 1, 32.5), (416, True, '2', 'Miss. Lyyli Karoliina Silven', True, 18.0, 0, 2, 13.0), (417, False, '2', 'Mr. William John Matthews', False, 30.0, 0, 0, 13.0), (418, False, '3', 'Miss. Catharina Van Impe', True, 10.0, 0, 2, 24.15), (419, False, '3', 'Mr. David Charters', False, 21.0, 0, 0, 7.7333), (420, False, '3', 'Mr. Leo Zimmerman', False, 29.0, 0, 0, 7.875), (421, False, '3', 'Mrs. Ernst Gilbert (Anna Sigrid Maria Brogren) Danbom', True, 28.0, 1, 1, 14.4), (422, False, '3', 'Mr. Viktor Richard Rosblom', False, 18.0, 1, 1, 20.2125), (423, False, '3', 'Mr. Phillippe Wiseman', False, 54.0, 0, 0, 7.25), (424, True, '2', 'Mrs. Charles V (Ada Maria Winfield) Clarke', True, 28.0, 1, 0, 26.0), (425, True, '2', 'Miss. Kate Florence Phillips', True, 19.0, 0, 0, 26.0), (426, False, '3', 'Mr. James Flynn', False, 28.0, 0, 0, 7.75), (427, True, '3', 'Mr. Berk (Berk Trembisky) Pickard', False, 32.0, 0, 0, 8.05), (428, True, '1', 'Mr. Mauritz Hakan Bjornstrom-Steffansson', False, 28.0, 0, 0, 26.55), (429, True, '3', 'Mrs. Percival (Florence Kate White) Thorneycroft', True, 33.0, 1, 0, 16.1), (430, True, '2', 'Mrs. Charles Alexander (Alice Adelaide Slow) Louch', True, 42.0, 1, 0, 26.0), (431, False, '3', 'Mr. Nikolai Erland Kallio', False, 17.0, 0, 0, 7.125), (432, False, '1', 'Mr. William Baird Silvey', False, 50.0, 1, 0, 55.9), (433, True, '1', 'Miss. Lucile Polk Carter', True, 14.0, 1, 2, 120.0), (434, False, '3', 'Miss. Doolina Margaret Ford', True, 21.0, 2, 2, 34.375), (435, True, '2', 'Mrs. Sidney (Emily Hocking) Richards', True, 24.0, 2, 3, 18.75), (436, False, '1', 'Mr. Mark Fortune', False, 64.0, 1, 4, 263.0), (437, False, '2', 'Mr. Johan Henrik Johannesson Kvillner', False, 31.0, 0, 0, 10.5), (438, True, '2', 'Mrs. Benjamin (Esther Ada Bloomfield) Hart', True, 45.0, 1, 1, 26.25), (439, False, '3', 'Mr. Leon Hampe', False, 20.0, 0, 0, 9.5), (440, False, '3', 'Mr. Johan Emil Petterson', False, 25.0, 1, 0, 7.775), (441, True, '2', 'Ms. Encarnacion Reynaldo', True, 28.0, 0, 0, 13.0), (442, True, '3', 'Mr. Bernt Johannesen-Bratthammer', False, 29.0, 0, 0, 8.1125), (443, True, '1', 'Master. Washington Dodge', False, 4.0, 0, 2, 81.8583), (444, True, '2', 'Miss. Madeleine Violet Mellinger', True, 13.0, 0, 1, 19.5), (445, True, '1', 'Mr. Frederic Kimber Seward', False, 34.0, 0, 0, 26.55), (446, True, '3', 'Miss. Marie Catherine Baclini', True, 5.0, 2, 1, 19.2583), (447, True, '1', 'Major. Arthur Godfrey Peuchen', False, 52.0, 0, 0, 30.5), (448, False, '2', 'Mr. Edwy Arthur West', False, 36.0, 1, 2, 27.75), (449, False, '3', 'Mr. Ingvald Olai Olsen Hagland', False, 28.0, 1, 0, 19.9667), (450, False, '1', 'Mr. Benjamin Laventall Foreman', False, 30.0, 0, 0, 27.75), (451, True, '1', 'Mr. Samuel L Goldenberg', False, 49.0, 1, 0, 89.1042), (452, False, '3', 'Mr. Joseph Peduzzi', False, 24.0, 0, 0, 8.05), (453, True, '3', 'Mr. Ivan Jalsevac', False, 29.0, 0, 0, 7.8958), (454, False, '1', 'Mr. Francis Davis Millet', False, 65.0, 0, 0, 26.55), (455, True, '1', 'Mrs. Frederick R (Marion) Kenyon', True, 41.0, 1, 0, 51.8625), (456, True, '2', 'Miss. Ellen Toomey', True, 50.0, 0, 0, 10.5), (457, False, '3', \"Mr. Maurice O'Connor\", False, 17.0, 0, 0, 7.75), (458, True, '1', 'Mr. Harry Anderson', False, 48.0, 0, 0, 26.55), (459, False, '3', 'Mr. William Morley', False, 34.0, 0, 0, 8.05), (460, False, '1', 'Mr. Arthur H Gee', False, 47.0, 0, 0, 38.5), (461, False, '2', 'Mr. Jacob Christian Milling', False, 48.0, 0, 0, 13.0), (462, False, '3', 'Mr. Simon Maisner', False, 34.0, 0, 0, 8.05), (463, False, '3', 'Mr. Manuel Estanslas Goncalves', False, 38.0, 0, 0, 7.05), (464, False, '2', 'Mr. William Campbell', False, 21.0, 0, 0, 0.0), (465, False, '1', 'Mr. John Montgomery Smart', False, 56.0, 0, 0, 26.55), (466, False, '3', 'Mr. James Scanlan', False, 22.0, 0, 0, 7.725), (467, True, '3', 'Miss. Helene Barbara Baclini', True, 0.75, 2, 1, 19.2583), (468, False, '3', 'Mr. Arthur Keefe', False, 39.0, 0, 0, 7.25), (469, False, '3', 'Mr. Luka Cacic', False, 38.0, 0, 0, 8.6625), (470, True, '2', 'Mrs. Edwy Arthur (Ada Mary Worth) West', True, 33.0, 1, 2, 27.75), (471, True, '2', 'Mrs. Amin S (Marie Marthe Thuillard) Jerwan', True, 23.0, 0, 0, 13.7917), (472, False, '3', 'Miss. Ida Sofia Strandberg', True, 22.0, 0, 0, 9.8375), (473, False, '1', 'Mr. George Quincy Clifford', False, 40.0, 0, 0, 52.0), (474, False, '2', 'Mr. Peter Henry Renouf', False, 34.0, 1, 0, 21.0), (475, False, '3', 'Mr. Lewis Richard Braund', False, 29.0, 1, 0, 7.0458), (476, False, '3', 'Mr. Nils August Karlsson', False, 22.0, 0, 0, 7.5208), (477, True, '3', 'Miss. Hildur E Hirvonen', True, 2.0, 0, 1, 12.2875), (478, False, '3', 'Master. Harold Victor Goodwin', False, 9.0, 5, 2, 46.9), (479, False, '2', 'Mr. Anthony Wood Frost', False, 37.0, 0, 0, 0.0), (480, False, '3', 'Mr. Richard Henry Rouse', False, 50.0, 0, 0, 8.05), (481, True, '3', 'Mrs. (Hedwig) Turkula', True, 63.0, 0, 0, 9.5875), (482, True, '1', 'Mr. Dickinson H Bishop', False, 25.0, 1, 0, 91.0792), (483, False, '3', 'Miss. Jeannie Lefebre', True, 8.0, 3, 1, 25.4667), (484, True, '1', 'Mrs. Frederick Maxfield (Jane Anne Forby) Hoyt', True, 35.0, 1, 0, 90.0), (485, False, '1', 'Mr. Edward Austin Kent', False, 58.0, 0, 0, 29.7), (486, False, '3', 'Mr. Francis William Somerton', False, 30.0, 0, 0, 8.05), (487, True, '3', 'Master. Eden Leslie Coutts', False, 9.0, 1, 1, 15.9), (488, False, '3', 'Mr. Konrad Mathias Reiersen Hagland', False, 19.0, 1, 0, 19.9667), (489, False, '3', 'Mr. Einar Windelov', False, 21.0, 0, 0, 7.25), (490, False, '1', 'Mr. Harry Markland Molson', False, 55.0, 0, 0, 30.5), (491, False, '1', 'Mr. Ramon Artagaveytia', False, 71.0, 0, 0, 49.5042), (492, False, '3', 'Mr. Edward Roland Stanley', False, 21.0, 0, 0, 8.05), (493, False, '3', 'Mr. Gerious Yousseff', False, 26.0, 0, 0, 14.4583), (494, True, '1', 'Miss. Elizabeth Mussey Eustis', True, 54.0, 1, 0, 78.2667), (495, False, '3', 'Mr. Frederick William Shellard', False, 55.0, 0, 0, 15.1), (496, False, '1', 'Mrs. Hudson J C (Bessie Waldo Daniels) Allison', True, 25.0, 1, 2, 151.55), (497, False, '3', 'Mr. Olof Svensson', False, 24.0, 0, 0, 7.7958), (498, False, '3', 'Mr. Petar Calic', False, 17.0, 0, 0, 8.6625), (499, False, '3', 'Miss. Mary Canavan', True, 21.0, 0, 0, 7.75), (500, False, '3', \"Miss. Bridget Mary O'Sullivan\", True, 21.0, 0, 0, 7.6292), (501, False, '3', 'Miss. Kristina Sofia Laitinen', True, 37.0, 0, 0, 9.5875), (502, True, '1', 'Miss. Roberta Maioni', True, 16.0, 0, 0, 86.5), (503, False, '1', 'Mr. Victor de Satode Penasco y Castellana', False, 18.0, 1, 0, 108.9), (504, True, '2', 'Mrs. Frederick Charles (Jane Richards) Quick', True, 33.0, 0, 2, 26.0), (505, True, '1', 'Mr. George Bradley', False, 37.0, 0, 0, 26.55), (506, False, '3', 'Mr. Henry Margido Olsen', False, 28.0, 0, 0, 22.525), (507, True, '3', 'Mr. Fang Lang', False, 26.0, 0, 0, 56.4958), (508, True, '3', 'Mr. Eugene Patrick Daly', False, 29.0, 0, 0, 7.75), (509, False, '3', 'Mr. James Webber', False, 66.0, 0, 0, 8.05), (510, True, '1', 'Mr. James Robert McGough', False, 36.0, 0, 0, 26.2875), (511, True, '1', 'Mrs. Martin (Elizabeth L. Barrett) Rothschild', True, 54.0, 1, 0, 59.4), (512, False, '3', 'Mr. Satio Coleff', False, 24.0, 0, 0, 7.4958), (513, False, '1', 'Mr. William Anderson Walker', False, 47.0, 0, 0, 34.0208), (514, True, '2', 'Mrs. (Amelia Milley) Lemore', True, 34.0, 0, 0, 10.5), (515, False, '3', 'Mr. Patrick Ryan', False, 30.0, 0, 0, 24.15), (516, True, '2', 'Mrs. William A (Florence Agnes Hughes) Angle', True, 36.0, 1, 0, 26.0), (517, False, '3', 'Mr. Stefo Pavlovic', False, 32.0, 0, 0, 7.8958), (518, True, '1', 'Miss. Anne Perreault', True, 30.0, 0, 0, 93.5), (519, False, '3', 'Mr. Janko Vovk', False, 22.0, 0, 0, 7.8958), (520, False, '3', 'Mr. Sarkis Lahoud', False, 35.0, 0, 0, 7.225), (521, True, '1', 'Mrs. Louis Albert (Ida Sophia Fischer) Hippach', True, 44.0, 0, 1, 57.9792), (522, False, '3', 'Mr. Fared Kassem', False, 18.0, 0, 0, 7.2292), (523, False, '3', 'Mr. James Farrell', False, 40.5, 0, 0, 7.75), (524, True, '2', 'Miss. Lucy Ridsdale', True, 50.0, 0, 0, 10.5), (525, False, '1', 'Mr. John Farthing', False, 49.0, 0, 0, 221.7792), (526, False, '3', 'Mr. Johan Werner Salonen', False, 39.0, 0, 0, 7.925), (527, False, '2', 'Mr. Richard George Hocking', False, 23.0, 2, 1, 11.5), (528, True, '2', 'Miss. Phyllis May Quick', True, 2.0, 1, 1, 26.0), (529, False, '3', 'Mr. Nakli Toufik', False, 17.0, 0, 0, 7.2292), (530, False, '3', 'Mr. Joseph Jr Elias', False, 17.0, 1, 1, 7.2292), (531, True, '3', 'Mrs. Catherine (Catherine Rizk) Peter', True, 24.0, 0, 2, 22.3583), (532, False, '3', 'Miss. Marija Cacic', True, 30.0, 0, 0, 8.6625), (533, True, '2', 'Miss. Eva Miriam Hart', True, 7.0, 0, 2, 26.25), (534, False, '1', 'Major. Archibald Willingham Butt', False, 45.0, 0, 0, 26.55), (535, True, '1', 'Miss. Bertha LeRoy', True, 30.0, 0, 0, 106.425), (536, False, '3', 'Mr. Samuel Beard Risien', False, 69.0, 0, 0, 14.5), (537, True, '1', 'Miss. Hedwig Margaritha Frolicher', True, 22.0, 0, 2, 49.5), (538, True, '1', 'Miss. Harriet R Crosby', True, 36.0, 0, 2, 71.0), (539, False, '3', 'Miss. Ingeborg Constanzia Andersson', True, 9.0, 4, 2, 31.275), (540, False, '3', 'Miss. Sigrid Elisabeth Andersson', True, 11.0, 4, 2, 31.275), (541, True, '2', 'Mr. Edward Beane', False, 32.0, 1, 0, 26.0), (542, False, '1', 'Mr. Walter Donald Douglas', False, 50.0, 1, 0, 106.425), (543, False, '1', 'Mr. Arthur Ernest Nicholson', False, 64.0, 0, 0, 26.0), (544, True, '2', 'Mrs. Edward (Ethel Clarke) Beane', True, 19.0, 1, 0, 26.0), (545, True, '2', 'Mr. Julian Padro y Manent', False, 27.0, 0, 0, 13.8625), (546, False, '3', 'Mr. Frank John Goldsmith', False, 33.0, 1, 1, 20.525), (547, True, '2', 'Master. John Morgan Jr Davies', False, 8.0, 1, 1, 36.75), (548, True, '1', 'Mr. John Borland Jr Thayer', False, 17.0, 0, 2, 110.8833), (549, False, '2', 'Mr. Percival James R Sharp', False, 27.0, 0, 0, 26.0), (550, False, '3', \"Mr. Timothy O'Brien\", False, 21.0, 0, 0, 7.8292), (551, True, '3', 'Mr. Fahim Leeni', False, 22.0, 0, 0, 7.225), (552, True, '3', 'Miss. Velin Ohman', True, 22.0, 0, 0, 7.775), (553, False, '1', 'Mr. George Wright', False, 62.0, 0, 0, 26.55), (554, True, '1', 'Lady. (Lucille Christiana Sutherland)Duff Gordon', True, 48.0, 1, 0, 39.6), (555, False, '1', 'Mr. Victor Robbins', False, 45.0, 0, 0, 227.525), (556, True, '1', 'Mrs. Emil (Tillie Mandelbaum) Taussig', True, 39.0, 1, 1, 79.65), (557, True, '3', 'Mrs. Guillaume Joseph (Emma) de Messemaeker', True, 36.0, 1, 0, 17.4), (558, False, '3', 'Mr. Thomas Rowan Morrow', False, 30.0, 0, 0, 7.75), (559, False, '3', 'Mr. Husein Sivic', False, 40.0, 0, 0, 7.8958), (560, False, '2', 'Mr. Robert Douglas Norman', False, 28.0, 0, 0, 13.5), (561, False, '3', 'Mr. John Simmons', False, 40.0, 0, 0, 8.05), (562, False, '3', 'Miss. (Marion Ogden) Meanwell', True, 62.0, 0, 0, 8.05), (563, False, '3', 'Mr. Alfred J Davies', False, 24.0, 2, 0, 24.15), (564, False, '3', 'Mr. Ilia Stoytcheff', False, 19.0, 0, 0, 7.8958), (565, False, '3', 'Mrs. Nils (Alma Cornelia Berglund) Palsson', True, 29.0, 0, 4, 21.075), (566, False, '3', 'Mr. Tannous Doharr', False, 28.0, 0, 0, 7.2292), (567, True, '3', 'Mr. Carl Jonsson', False, 32.0, 0, 0, 7.8542), (568, True, '2', 'Mr. George Harris', False, 62.0, 0, 0, 10.5), (569, True, '1', 'Mrs. Edward Dale (Charlotte Lamson) Appleton', True, 53.0, 2, 0, 51.4792), (570, True, '1', 'Mr. John Irwin Flynn', False, 36.0, 0, 0, 26.3875), (571, True, '3', 'Miss. Mary Kelly', True, 22.0, 0, 0, 7.75), (572, False, '3', 'Mr. Alfred George John Rush', False, 16.0, 0, 0, 8.05), (573, False, '3', 'Mr. George Patchett', False, 19.0, 0, 0, 14.5), (574, True, '2', 'Miss. Ethel Garside', True, 34.0, 0, 0, 13.0), (575, True, '1', 'Mrs. William Baird (Alice Munger) Silvey', True, 39.0, 1, 0, 55.9), (576, False, '3', 'Mrs. Joseph (Maria Elias) Caram', True, 18.0, 1, 0, 14.4583), (577, True, '3', 'Mr. Eiriik Jussila', False, 32.0, 0, 0, 7.925), (578, True, '2', 'Miss. Julie Rachel Christy', True, 25.0, 1, 1, 30.0), (579, True, '1', 'Mrs. John Borland (Marian Longstreth Morris) Thayer', True, 39.0, 1, 1, 110.8833), (580, False, '2', 'Mr. William James Downton', False, 54.0, 0, 0, 26.0), (581, False, '1', 'Mr. John Hugo Ross', False, 36.0, 0, 0, 40.125), (582, False, '3', 'Mr. Uscher Paulner', False, 16.0, 0, 0, 8.7125), (583, True, '1', 'Miss. Ruth Taussig', True, 18.0, 0, 2, 79.65), (584, False, '2', 'Mr. John Denzil Jarvis', False, 47.0, 0, 0, 15.0), (585, True, '1', 'Mr. Maxmillian Frolicher-Stehli', False, 60.0, 1, 1, 79.2), (586, False, '3', 'Mr. Eliezer Gilinski', False, 22.0, 0, 0, 8.05), (587, False, '3', 'Mr. Joseph Murdlin', False, 22.0, 0, 0, 8.05), (588, False, '3', 'Mr. Matti Rintamaki', False, 35.0, 0, 0, 7.125), (589, True, '1', 'Mrs. Walter Bertram (Martha Eustis) Stephenson', True, 52.0, 1, 0, 78.2667), (590, False, '3', 'Mr. William James Elsbury', False, 47.0, 0, 0, 7.25), (591, False, '3', 'Miss. Mary Bourke', True, 40.0, 0, 2, 7.75), (592, False, '2', 'Mr. John Henry Chapman', False, 37.0, 1, 0, 26.0), (593, False, '3', 'Mr. Jean Baptiste Van Impe', False, 36.0, 1, 1, 24.15), (594, True, '2', 'Miss. Jessie Wills Leitch', True, 31.0, 0, 0, 33.0), (595, False, '3', 'Mr. Alfred Johnson', False, 49.0, 0, 0, 0.0), (596, False, '3', 'Mr. Hanna Boulos', False, 18.0, 0, 0, 7.225), (597, True, '1', 'Sir. Cosmo Edmund Duff Gordon', False, 49.0, 1, 0, 56.9292), (598, True, '2', 'Mrs. Sidney Samuel (Amy Frances Christy) Jacobsohn', True, 24.0, 2, 1, 27.0), (599, False, '3', 'Mr. Petco Slabenoff', False, 42.0, 0, 0, 7.8958), (600, False, '1', 'Mr. Charles H Harrington', False, 37.0, 0, 0, 42.4), (601, False, '3', 'Mr. Ernst William Torber', False, 44.0, 0, 0, 8.05), (602, True, '1', 'Mr. Harry Homer', False, 35.0, 0, 0, 26.55), (603, False, '3', 'Mr. Edvard Bengtsson Lindell', False, 36.0, 1, 0, 15.55), (604, False, '3', 'Mr. Milan Karaic', False, 30.0, 0, 0, 7.8958), (605, True, '1', 'Mr. Robert Williams Daniel', False, 27.0, 0, 0, 30.5), (606, True, '2', 'Mrs. Joseph (Juliette Marie Louise Lafargue) Laroche', True, 22.0, 1, 2, 41.5792), (607, True, '1', 'Miss. Elizabeth W Shutes', True, 40.0, 0, 0, 153.4625), (608, False, '3', 'Mrs. Anders Johan (Alfrida Konstantia Brogren) Andersson', True, 39.0, 1, 5, 31.275), (609, False, '3', 'Mr. Jose Neto Jardin', False, 21.0, 0, 0, 7.05), (610, True, '3', 'Miss. Margaret Jane Murphy', True, 18.0, 1, 0, 15.5), (611, False, '3', 'Mr. John Horgan', False, 22.0, 0, 0, 7.75), (612, False, '3', 'Mr. William Alfred Brocklebank', False, 35.0, 0, 0, 8.05), (613, True, '2', 'Miss. Alice Herman', True, 24.0, 1, 2, 65.0), (614, False, '3', 'Mr. Ernst Gilbert Danbom', False, 34.0, 1, 1, 14.4), (615, False, '3', 'Mrs. William Arthur (Cordelia K Stanlick) Lobb', True, 26.0, 1, 0, 16.1), (616, True, '2', 'Miss. Marion Louise Becker', True, 4.0, 2, 1, 39.0), (617, False, '2', 'Mr. Lawrence Gavey', False, 26.0, 0, 0, 10.5), (618, False, '3', 'Mr. Antoni Yasbeck', False, 27.0, 1, 0, 14.4542), (619, True, '1', 'Mr. Edwin Nelson Jr Kimball', False, 42.0, 1, 0, 52.5542), (620, True, '3', 'Mr. Sahid Nakid', False, 20.0, 1, 1, 15.7417), (621, False, '3', 'Mr. Henry Damsgaard Hansen', False, 21.0, 0, 0, 7.8542), (622, False, '3', 'Mr. David John Bowen', False, 21.0, 0, 0, 16.1), (623, False, '1', 'Mr. Frederick Sutton', False, 61.0, 0, 0, 32.3208), (624, False, '2', 'Rev. Charles Leonard Kirkland', False, 57.0, 0, 0, 12.35), (625, True, '1', 'Miss. Gretchen Fiske Longley', True, 21.0, 0, 0, 77.9583), (626, False, '3', 'Mr. Guentcho Bostandyeff', False, 26.0, 0, 0, 7.8958), (627, False, '3', \"Mr. Patrick D O'Connell\", False, 18.0, 0, 0, 7.7333), (628, True, '1', 'Mr. Algernon Henry Wilson Barkworth', False, 80.0, 0, 0, 30.0), (629, False, '3', 'Mr. Johan Svensson Lundahl', False, 51.0, 0, 0, 7.0542), (630, True, '1', 'Dr. Max Stahelin-Maeglin', False, 32.0, 0, 0, 30.5), (631, False, '1', 'Mr. William Henry Marsh Parr', False, 30.0, 0, 0, 0.0), (632, False, '3', 'Miss. Mabel Skoog', True, 9.0, 3, 2, 27.9), (633, True, '2', 'Miss. Mary Davis', True, 28.0, 0, 0, 13.0), (634, False, '3', 'Mr. Antti Gustaf Leinonen', False, 32.0, 0, 0, 7.925), (635, False, '2', 'Mr. Harvey Collyer', False, 31.0, 1, 1, 26.25), (636, False, '3', 'Mrs. Juha (Maria Emilia Ojala) Panula', True, 41.0, 0, 5, 39.6875), (637, False, '3', 'Mr. Percival Thorneycroft', False, 37.0, 1, 0, 16.1), (638, False, '3', 'Mr. Hans Peder Jensen', False, 20.0, 0, 0, 7.8542), (639, True, '1', 'Mlle. Emma Sagesser', True, 24.0, 0, 0, 69.3), (640, False, '3', 'Miss. Margit Elizabeth Skoog', True, 2.0, 3, 2, 27.9), (641, True, '3', 'Mr. Choong Foo', False, 32.0, 0, 0, 56.4958), (642, True, '3', 'Miss. Eugenie Baclini', True, 0.75, 2, 1, 19.2583), (643, True, '1', 'Mr. Henry Sleeper Harper', False, 48.0, 1, 0, 76.7292), (644, False, '3', 'Mr. Liudevit Cor', False, 19.0, 0, 0, 7.8958), (645, True, '1', 'Col. Oberst Alfons Simonius-Blumer', False, 56.0, 0, 0, 35.5), (646, False, '3', 'Mr. Edward Willey', False, 21.0, 0, 0, 7.55), (647, True, '3', 'Miss. Amy Zillah Elsie Stanley', True, 23.0, 0, 0, 7.55), (648, False, '3', 'Mr. Mito Mitkoff', False, 23.0, 0, 0, 7.8958), (649, True, '2', 'Miss. Elsie Doling', True, 18.0, 0, 1, 23.0), (650, False, '3', 'Mr. Johannes Halvorsen Kalvik', False, 21.0, 0, 0, 8.4333), (651, True, '3', \"Miss. Hanora O'Leary\", True, 16.0, 0, 0, 7.8292), (652, False, '3', 'Miss. Hanora Hegarty', True, 18.0, 0, 0, 6.75), (653, False, '2', 'Mr. Leonard Mark Hickman', False, 24.0, 2, 0, 73.5), (654, False, '3', 'Mr. Alexander Radeff', False, 27.0, 0, 0, 7.8958), (655, False, '3', 'Mrs. John (Catherine) Bourke', True, 32.0, 1, 1, 15.5), (656, False, '2', 'Mr. George Floyd Eitemiller', False, 23.0, 0, 0, 13.0), (657, False, '1', 'Mr. Arthur Webster Newell', False, 58.0, 0, 2, 113.275), (658, True, '1', 'Dr. Henry William Frauenthal', False, 50.0, 2, 0, 133.65), (659, False, '3', 'Mr. Mohamed Badt', False, 40.0, 0, 0, 7.225), (660, False, '1', 'Mr. Edward Pomeroy Colley', False, 47.0, 0, 0, 25.5875), (661, False, '3', 'Mr. Peju Coleff', False, 36.0, 0, 0, 7.4958), (662, True, '3', 'Mr. Eino William Lindqvist', False, 20.0, 1, 0, 7.925), (663, False, '2', 'Mr. Lewis Hickman', False, 32.0, 2, 0, 73.5), (664, False, '2', 'Mr. Reginald Fenton Butler', False, 25.0, 0, 0, 13.0), (665, False, '3', 'Mr. Knud Paust Rommetvedt', False, 49.0, 0, 0, 7.775), (666, False, '3', 'Mr. Jacob Cook', False, 43.0, 0, 0, 8.05), (667, True, '1', 'Mrs. Elmer Zebley (Juliet Cummins Wright) Taylor', True, 48.0, 1, 0, 52.0), (668, True, '2', 'Mrs. Thomas William Solomon (Elizabeth Catherine Ford) Brown', True, 40.0, 1, 1, 39.0), (669, False, '1', 'Mr. Thornton Davidson', False, 31.0, 1, 0, 52.0), (670, False, '2', 'Mr. Henry Michael Mitchell', False, 70.0, 0, 0, 10.5), (671, True, '2', 'Mr. Charles Wilhelms', False, 31.0, 0, 0, 13.0), (672, False, '2', 'Mr. Ennis Hastings Watson', False, 19.0, 0, 0, 0.0), (673, False, '3', 'Mr. Gustaf Hjalmar Edvardsson', False, 18.0, 0, 0, 7.775), (674, False, '3', 'Mr. Frederick Charles Sawyer', False, 24.5, 0, 0, 8.05), (675, True, '3', 'Miss. Anna Sofia Turja', True, 18.0, 0, 0, 9.8417), (676, False, '3', 'Mrs. Frederick (Augusta Tyler) Goodwin', True, 43.0, 1, 6, 46.9), (677, True, '1', 'Mr. Thomas Drake Martinez Cardeza', False, 36.0, 0, 1, 512.3292), (678, False, '3', 'Miss. Katie Peters', True, 28.0, 0, 0, 8.1375), (679, True, '1', 'Mr. Hammad Hassab', False, 27.0, 0, 0, 76.7292), (680, False, '3', 'Mr. Thor Anderson Olsvigen', False, 20.0, 0, 0, 9.225), (681, False, '3', 'Mr. Charles Edward Goodwin', False, 14.0, 5, 2, 46.9), (682, False, '2', 'Mr. Thomas William Solomon Brown', False, 60.0, 1, 1, 39.0), (683, False, '2', 'Mr. Joseph Philippe Lemercier Laroche', False, 25.0, 1, 2, 41.5792), (684, False, '3', 'Mr. Jaako Arnold Panula', False, 14.0, 4, 1, 39.6875), (685, False, '3', 'Mr. Branko Dakic', False, 19.0, 0, 0, 10.1708), (686, False, '3', 'Mr. Eberhard Thelander Fischer', False, 18.0, 0, 0, 7.7958), (687, True, '1', 'Miss. Georgette Alexandra Madill', True, 15.0, 0, 1, 211.3375), (688, True, '1', 'Mr. Albert Adrian Dick', False, 31.0, 1, 0, 57.0), (689, True, '3', 'Miss. Manca Karun', True, 4.0, 0, 1, 13.4167), (690, True, '3', 'Mr. Ali Lam', False, 37.0, 0, 0, 56.4958), (691, False, '3', 'Mr. Khalil Saad', False, 25.0, 0, 0, 7.225), (692, False, '1', 'Col. John Weir', False, 60.0, 0, 0, 26.55), (693, False, '2', 'Mr. Charles Henry Chapman', False, 52.0, 0, 0, 13.5), (694, False, '3', 'Mr. James Kelly', False, 44.0, 0, 0, 8.05), (695, True, '3', 'Miss. Katherine Mullens', True, 19.0, 0, 0, 7.7333), (696, False, '1', 'Mr. John Borland Thayer', False, 49.0, 1, 1, 110.8833), (697, False, '3', 'Mr. Adolf Mathias Nicolai Olsen Humblen', False, 42.0, 0, 0, 7.65), (698, True, '1', 'Mrs. John Jacob (Madeleine Talmadge Force) Astor', True, 18.0, 1, 0, 227.525), (699, True, '1', 'Mr. Spencer Victor Silverthorne', False, 35.0, 0, 0, 26.2875), (700, False, '3', 'Miss. Saiide Barbara', True, 18.0, 0, 1, 14.4542), (701, False, '3', 'Mr. Martin Gallagher', False, 25.0, 0, 0, 7.7417), (702, False, '3', 'Mr. Henrik Juul Hansen', False, 26.0, 1, 0, 7.8542), (703, False, '2', 'Mr. Henry Samuel Morley', False, 39.0, 0, 0, 26.0), (704, True, '2', 'Mrs. Florence Kelly', True, 45.0, 0, 0, 13.5), (705, True, '1', 'Mr. Edward Pennington Calderhead', False, 42.0, 0, 0, 26.2875), (706, True, '1', 'Miss. Alice Cleaver', True, 22.0, 0, 0, 151.55), (707, True, '3', 'Master. Halim Gonios Moubarek', False, 4.0, 1, 1, 15.2458), (708, True, '1', 'Mlle. Berthe Antonine Mayne', True, 24.0, 0, 0, 49.5042), (709, False, '1', 'Mr. Herman Klaber', False, 41.0, 0, 0, 26.55), (710, True, '1', 'Mr. Elmer Zebley Taylor', False, 48.0, 1, 0, 52.0), (711, False, '3', 'Mr. August Viktor Larsson', False, 29.0, 0, 0, 9.4833), (712, False, '2', 'Mr. Samuel Greenberg', False, 52.0, 0, 0, 13.0), (713, False, '3', 'Mr. Peter Andreas Lauritz Andersen Soholt', False, 19.0, 0, 0, 7.65), (714, True, '1', 'Miss. Caroline Louise Endres', True, 38.0, 0, 0, 227.525), (715, True, '2', 'Miss. Edwina Celia Troutt', True, 27.0, 0, 0, 10.5), (716, False, '3', 'Mr. Malkolm Joackim Johnson', False, 33.0, 0, 0, 7.775), (717, True, '2', 'Miss. Annie Jessie Harper', True, 6.0, 0, 1, 33.0), (718, False, '3', 'Mr. Svend Lauritz Jensen', False, 17.0, 1, 0, 7.0542), (719, False, '2', 'Mr. William Henry Gillespie', False, 34.0, 0, 0, 13.0), (720, False, '2', 'Mr. Henry Price Hodges', False, 50.0, 0, 0, 13.0), (721, True, '1', 'Mr. Norman Campbell Chambers', False, 27.0, 1, 0, 53.1), (722, False, '3', 'Mr. Luka Oreskovic', False, 20.0, 0, 0, 8.6625), (723, True, '2', 'Mrs. Peter Henry (Lillian Jefferys) Renouf', True, 30.0, 3, 0, 21.0), (724, True, '3', 'Miss. Margareth Mannion', True, 28.0, 0, 0, 7.7375), (725, False, '2', 'Mr. Kurt Arnold Gottfrid Bryhl', False, 25.0, 1, 0, 26.0), (726, False, '3', 'Miss. Pieta Sofia Ilmakangas', True, 25.0, 1, 0, 7.925), (727, True, '1', 'Miss. Elisabeth Walton Allen', True, 29.0, 0, 0, 211.3375), (728, False, '3', 'Mr. Houssein G N Hassan', False, 11.0, 0, 0, 18.7875), (729, False, '2', 'Mr. Robert J Knight', False, 41.0, 0, 0, 0.0), (730, False, '2', 'Mr. William John Berriman', False, 23.0, 0, 0, 13.0), (731, False, '2', 'Mr. Moses Aaron Troupiansky', False, 23.0, 0, 0, 13.0), (732, False, '3', 'Mr. Leslie Williams', False, 28.5, 0, 0, 16.1), (733, False, '3', 'Mrs. Edward (Margaret Ann Watson) Ford', True, 48.0, 1, 3, 34.375), (734, True, '1', 'Mr. Gustave J Lesurer', False, 35.0, 0, 0, 512.3292), (735, False, '3', 'Mr. Kanio Ivanoff', False, 20.0, 0, 0, 7.8958), (736, False, '3', 'Mr. Minko Nankoff', False, 32.0, 0, 0, 7.8958), (737, True, '1', 'Mr. Walter James Hawksford', False, 45.0, 0, 0, 30.0), (738, False, '1', 'Mr. Tyrell William Cavendish', False, 36.0, 1, 0, 78.85), (739, True, '1', 'Miss. Susan Parker Ryerson', True, 21.0, 2, 2, 262.375), (740, False, '3', 'Mr. Neal McNamee', False, 24.0, 1, 0, 16.1), (741, True, '3', 'Mr. Juho Stranden', False, 31.0, 0, 0, 7.925), (742, False, '1', 'Capt. Edward Gifford Crosby', False, 70.0, 1, 1, 71.0), (743, False, '3', 'Mr. Rossmore Edward Abbott', False, 16.0, 1, 1, 20.25), (744, True, '2', 'Miss. Anna Sinkkonen', True, 30.0, 0, 0, 13.0), (745, False, '1', 'Mr. Daniel Warner Marvin', False, 19.0, 1, 0, 53.1), (746, False, '3', 'Mr. Michael Connaghton', False, 31.0, 0, 0, 7.75), (747, True, '2', 'Miss. Joan Wells', True, 4.0, 1, 1, 23.0), (748, True, '3', 'Master. Meier Moor', False, 6.0, 0, 1, 12.475), (749, False, '3', 'Mr. Johannes Joseph Vande Velde', False, 33.0, 0, 0, 9.5), (750, False, '3', 'Mr. Lalio Jonkoff', False, 23.0, 0, 0, 7.8958), (751, True, '2', 'Mrs. Samuel (Jane Laver) Herman', True, 48.0, 1, 2, 65.0), (752, True, '2', 'Master. Viljo Hamalainen', False, 0.67, 1, 1, 14.5), (753, False, '3', 'Mr. August Sigfrid Carlsson', False, 28.0, 0, 0, 7.7958), (754, False, '2', 'Mr. Percy Andrew Bailey', False, 18.0, 0, 0, 11.5), (755, False, '3', 'Mr. Thomas Leonard Theobald', False, 34.0, 0, 0, 8.05), (756, True, '1', 'the Countess. of (Lucy Noel Martha Dyer-Edwards) Rothes', True, 33.0, 0, 0, 86.5), (757, False, '3', 'Mr. John Garfirth', False, 23.0, 0, 0, 14.5), (758, False, '3', 'Mr. Iisakki Antino Aijo Nirva', False, 41.0, 0, 0, 7.125), (759, True, '3', 'Mr. Hanna Assi Barah', False, 20.0, 0, 0, 7.2292), (760, True, '1', 'Mrs. William Ernest (Lucile Polk) Carter', True, 36.0, 1, 2, 120.0), (761, False, '3', 'Mr. Hans Linus Eklund', False, 16.0, 0, 0, 7.775), (762, True, '1', 'Mrs. John C (Anna Andrews) Hogeboom', True, 51.0, 1, 0, 77.9583), (763, False, '1', 'Dr. Arthur Jackson Brewe', False, 46.0, 0, 0, 39.6), (764, False, '3', 'Miss. Mary Mangan', True, 30.5, 0, 0, 7.75), (765, False, '3', 'Mr. Daniel J Moran', False, 28.0, 1, 0, 24.15), (766, False, '3', 'Mr. Daniel Danielsen Gronnestad', False, 32.0, 0, 0, 8.3625), (767, False, '3', 'Mr. Rene Aime Lievens', False, 24.0, 0, 0, 9.5), (768, False, '3', 'Mr. Niels Peder Jensen', False, 48.0, 0, 0, 7.8542), (769, False, '2', 'Mrs. (Mary) Mack', True, 57.0, 0, 0, 10.5), (770, False, '3', 'Mr. Dibo Elias', False, 29.0, 0, 0, 7.225), (771, True, '2', 'Mrs. Elizabeth (Eliza Needs) Hocking', True, 54.0, 1, 3, 23.0), (772, False, '3', 'Mr. Pehr Fabian Oliver Malkolm Myhrman', False, 18.0, 0, 0, 7.75), (773, False, '3', 'Mr. Roger Tobin', False, 20.0, 0, 0, 7.75), (774, True, '3', 'Miss. Virginia Ethel Emanuel', True, 5.0, 0, 0, 12.475), (775, False, '3', 'Mr. Thomas J Kilgannon', False, 22.0, 0, 0, 7.7375), (776, True, '1', 'Mrs. Edward Scott (Elisabeth Walton McMillan) Robert', True, 43.0, 0, 1, 211.3375), (777, True, '3', 'Miss. Banoura Ayoub', True, 13.0, 0, 0, 7.2292), (778, True, '1', 'Mrs. Albert Adrian (Vera Gillespie) Dick', True, 17.0, 1, 0, 57.0), (779, False, '1', 'Mr. Milton Clyde Long', False, 29.0, 0, 0, 30.0), (780, False, '3', 'Mr. Andrew G Johnston', False, 35.0, 1, 2, 23.45), (781, False, '3', 'Mr. William Ali', False, 25.0, 0, 0, 7.05), (782, False, '3', 'Mr. Abraham (David Lishin) Harmer', False, 25.0, 0, 0, 7.25), (783, True, '3', 'Miss. Anna Sofia Sjoblom', True, 18.0, 0, 0, 7.4958), (784, False, '3', 'Master. George Hugh Rice', False, 8.0, 4, 1, 29.125), (785, True, '3', 'Master. Bertram Vere Dean', False, 1.0, 1, 2, 20.575), (786, False, '1', 'Mr. Benjamin Guggenheim', False, 46.0, 0, 0, 79.2), (787, False, '3', 'Mr. Andrew Keane', False, 20.0, 0, 0, 7.75), (788, False, '2', 'Mr. Alfred Gaskell', False, 16.0, 0, 0, 26.0), (789, False, '3', 'Miss. Stella Anna Sage', True, 21.0, 8, 2, 69.55), (790, False, '1', 'Mr. William Fisher Hoyt', False, 43.0, 0, 0, 30.6958), (791, False, '3', 'Mr. Ristiu Dantcheff', False, 25.0, 0, 0, 7.8958), (792, False, '2', 'Mr. Richard Otter', False, 39.0, 0, 0, 13.0), (793, True, '1', 'Dr. Alice (Farnham) Leader', True, 49.0, 0, 0, 25.9292), (794, True, '3', 'Mrs. Mara Osman', True, 31.0, 0, 0, 8.6833), (795, False, '3', 'Mr. Yousseff Ibrahim Shawah', False, 30.0, 0, 0, 7.2292), (796, False, '3', 'Mrs. Jean Baptiste (Rosalie Paula Govaert) Van Impe', True, 30.0, 1, 1, 24.15), (797, False, '2', 'Mr. Martin Ponesell', False, 34.0, 0, 0, 13.0), (798, True, '2', 'Mrs. Harvey (Charlotte Annie Tate) Collyer', True, 31.0, 1, 1, 26.25), (799, True, '1', 'Master. William Thornton II Carter', False, 11.0, 1, 2, 120.0), (800, True, '3', 'Master. Assad Alexander Thomas', False, 0.42, 0, 1, 8.5167), (801, True, '3', 'Mr. Oskar Arvid Hedman', False, 27.0, 0, 0, 6.975), (802, False, '3', 'Mr. Karl Johan Johansson', False, 31.0, 0, 0, 7.775), (803, False, '1', 'Mr. Thomas Jr Andrews', False, 39.0, 0, 0, 0.0), (804, False, '3', 'Miss. Ellen Natalia Pettersson', True, 18.0, 0, 0, 7.775), (805, False, '2', 'Mr. August Meyer', False, 39.0, 0, 0, 13.0), (806, True, '1', 'Mrs. Norman Campbell (Bertha Griggs) Chambers', True, 33.0, 1, 0, 53.1), (807, False, '3', 'Mr. William Alexander', False, 26.0, 0, 0, 7.8875), (808, False, '3', 'Mr. James Lester', False, 39.0, 0, 0, 24.15), (809, False, '2', 'Mr. Richard James Slemen', False, 35.0, 0, 0, 10.5), (810, False, '3', 'Miss. Ebba Iris Alfrida Andersson', True, 6.0, 4, 2, 31.275), (811, False, '3', 'Mr. Ernest Portage Tomlin', False, 30.5, 0, 0, 8.05), (812, False, '1', 'Mr. Richard Fry', False, 39.0, 0, 0, 0.0), (813, False, '3', 'Miss. Wendla Maria Heininen', True, 23.0, 0, 0, 7.925), (814, False, '2', 'Mr. Albert Mallet', False, 31.0, 1, 1, 37.0042), (815, False, '3', 'Mr. John Fredrik Alexander Holm', False, 43.0, 0, 0, 6.45), (816, False, '3', 'Master. Karl Thorsten Skoog', False, 10.0, 3, 2, 27.9), (817, True, '1', 'Mrs. Charles Melville (Clara Jennings Gregg) Hays', True, 52.0, 1, 1, 93.5), (818, True, '3', 'Mr. Nikola Lulic', False, 27.0, 0, 0, 8.6625), (819, False, '1', 'Jonkheer. John George Reuchlin', False, 38.0, 0, 0, 0.0), (820, True, '3', 'Mrs. (Beila) Moor', True, 27.0, 0, 1, 12.475), (821, False, '3', 'Master. Urho Abraham Panula', False, 2.0, 4, 1, 39.6875), (822, False, '3', 'Mr. John Flynn', False, 36.0, 0, 0, 6.95), (823, False, '3', 'Mr. Len Lam', False, 23.0, 0, 0, 56.4958), (824, True, '2', 'Master. Andre Mallet', False, 1.0, 0, 2, 37.0042), (825, True, '3', 'Mr. Thomas Joseph McCormack', False, 19.0, 0, 0, 7.75), (826, True, '1', 'Mrs. George Nelson (Martha Evelyn) Stone', True, 62.0, 0, 0, 80.0), (827, True, '3', 'Mrs. Antoni (Selini Alexander) Yasbeck', True, 15.0, 1, 0, 14.4542), (828, True, '2', 'Master. George Sibley Richards', False, 0.83, 1, 1, 18.75), (829, False, '3', 'Mr. Amin Saad', False, 30.0, 0, 0, 7.2292), (830, False, '3', 'Mr. Albert Augustsson', False, 23.0, 0, 0, 7.8542), (831, False, '3', 'Mr. Owen George Allum', False, 18.0, 0, 0, 8.3), (832, True, '1', 'Miss. Sara Rebecca Compton', True, 39.0, 1, 1, 83.1583), (833, False, '3', 'Mr. Jakob Pasic', False, 21.0, 0, 0, 8.6625), (834, False, '3', 'Mr. Maurice Sirota', False, 20.0, 0, 0, 8.05), (835, True, '3', 'Mr. Chang Chip', False, 32.0, 0, 0, 56.4958), (836, True, '1', 'Mr. Pierre Marechal', False, 29.0, 0, 0, 29.7), (837, False, '3', 'Mr. Ilmari Rudolf Alhomaki', False, 20.0, 0, 0, 7.925), (838, False, '2', 'Mr. Thomas Charles Mudd', False, 16.0, 0, 0, 10.5), (839, True, '1', 'Miss. Augusta Serepeca', True, 30.0, 0, 0, 31.0), (840, False, '3', 'Mr. Peter L Lemberopolous', False, 34.5, 0, 0, 6.4375), (841, False, '3', 'Mr. Jeso Culumovic', False, 17.0, 0, 0, 8.6625), (842, False, '3', 'Mr. Anthony Abbing', False, 42.0, 0, 0, 7.55), (843, False, '3', 'Mr. Douglas Bullen Sage', False, 18.0, 8, 2, 69.55), (844, False, '3', 'Mr. Marin Markoff', False, 35.0, 0, 0, 7.8958), (845, False, '2', 'Rev. John Harper', False, 28.0, 0, 1, 33.0), (846, True, '1', 'Mrs. Samuel L (Edwiga Grabowska) Goldenberg', True, 40.0, 1, 0, 89.1042), (847, False, '3', 'Master. Sigvard Harald Elias Andersson', False, 4.0, 4, 2, 31.275), (848, False, '3', 'Mr. Johan Svensson', False, 74.0, 0, 0, 7.775), (849, False, '3', 'Miss. Nourelain Boulos', True, 9.0, 1, 1, 15.2458), (850, True, '1', 'Miss. Mary Conover Lines', True, 16.0, 0, 1, 39.4), (851, False, '2', 'Mrs. Ernest Courtenay (Lilian Hughes) Carter', True, 44.0, 1, 0, 26.0), (852, True, '3', 'Mrs. Sam (Leah Rosen) Aks', True, 18.0, 0, 1, 9.35), (853, True, '1', 'Mrs. George Dennick (Mary Hitchcock) Wick', True, 45.0, 1, 1, 164.8667), (854, True, '1', 'Mr. Peter Denis Daly', False, 51.0, 0, 0, 26.55), (855, True, '3', 'Mrs. Solomon (Latifa Qurban) Baclini', True, 24.0, 0, 3, 19.2583), (856, False, '3', 'Mr. Raihed Razi', False, 30.0, 0, 0, 7.2292), (857, False, '3', 'Mr. Claus Peter Hansen', False, 41.0, 2, 0, 14.1083), (858, False, '2', 'Mr. Frederick Edward Giles', False, 21.0, 1, 0, 11.5), (859, True, '1', 'Mrs. Frederick Joel (Margaret Welles Barron) Swift', True, 48.0, 0, 0, 25.9292), (860, False, '3', 'Miss. Dorothy Edith Sage', True, 14.0, 8, 2, 69.55), (861, False, '2', 'Mr. John William Gill', False, 24.0, 0, 0, 13.0), (862, True, '2', 'Mrs. (Karolina) Bystrom', True, 42.0, 0, 0, 13.0), (863, True, '2', 'Miss. Asuncion Duran y More', True, 27.0, 1, 0, 13.8583), (864, False, '1', 'Mr. Washington Augustus II Roebling', False, 31.0, 0, 0, 50.4958), (865, False, '3', 'Mr. Philemon van Melkebeke', False, 23.0, 0, 0, 9.5), (866, True, '3', 'Master. Harold Theodor Johnson', False, 4.0, 1, 1, 11.1333), (867, False, '3', 'Mr. Cerin Balkic', False, 26.0, 0, 0, 7.8958), (868, True, '1', 'Mrs. Richard Leonard (Sallie Monypeny) Beckwith', True, 47.0, 1, 1, 52.5542), (869, False, '1', 'Mr. Frans Olof Carlsson', False, 33.0, 0, 0, 5.0), (870, False, '3', 'Mr. Victor Vander Cruyssen', False, 47.0, 0, 0, 9.0), (871, True, '2', 'Mrs. Samuel (Hannah Wizosky) Abelson', True, 28.0, 1, 0, 24.0), (872, True, '3', 'Miss. Adele Kiamie Najib', True, 15.0, 0, 0, 7.225), (873, False, '3', 'Mr. Alfred Ossian Gustafsson', False, 20.0, 0, 0, 9.8458), (874, False, '3', 'Mr. Nedelio Petroff', False, 19.0, 0, 0, 7.8958), (875, False, '3', 'Mr. Kristo Laleff', False, 23.0, 0, 0, 7.8958), (876, True, '1', 'Mrs. Thomas Jr (Lily Alexenia Wilson) Potter', True, 56.0, 0, 1, 83.1583), (877, True, '2', 'Mrs. William (Imanita Parrish Hall) Shelley', True, 25.0, 0, 1, 26.0), (878, False, '3', 'Mr. Johann Markun', False, 33.0, 0, 0, 7.8958), (879, False, '3', 'Miss. Gerda Ulrika Dahlberg', True, 22.0, 0, 0, 10.5167), (880, False, '2', 'Mr. Frederick James Banfield', False, 28.0, 0, 0, 10.5), (881, False, '3', 'Mr. Henry Jr Sutehall', False, 25.0, 0, 0, 7.05), (882, False, '3', 'Mrs. William (Margaret Norton) Rice', True, 39.0, 0, 5, 29.125), (883, False, '2', 'Rev. Juozas Montvila', False, 27.0, 0, 0, 13.0), (884, True, '1', 'Miss. Margaret Edith Graham', True, 19.0, 0, 0, 30.0), (885, False, '3', 'Miss. Catherine Helen Johnston', True, 7.0, 1, 2, 23.45), (886, True, '1', 'Mr. Karl Howell Behr', False, 26.0, 0, 0, 30.0), (887, False, '3', 'Mr. Patrick Dooley', False, 32.0, 0, 0, 7.75)]\n",
      "Success!!!\n"
     ]
    }
   ],
   "source": [
    "conn.close()\n",
    "create_table('titanic.csv', create_db('titanic.csv', dbname='waizzkeg', user='waizzkeg',\n",
    "                        password='qn83fIuPrDvRhAS7Th4banRwREmnA3xm', host='otto.db.elephantsql.com'))"
   ]
  },
  {
   "cell_type": "code",
   "execution_count": 129,
   "metadata": {},
   "outputs": [],
   "source": [
    "import csv"
   ]
  },
  {
   "cell_type": "code",
   "execution_count": 137,
   "metadata": {},
   "outputs": [
    {
     "name": "stdout",
     "output_type": "stream",
     "text": [
      "t\n"
     ]
    }
   ],
   "source": [
    "reader = csv.reader('titanic.csv')\n",
    "for i in next(reader):\n",
    "    print(i)"
   ]
  },
  {
   "cell_type": "code",
   "execution_count": 321,
   "metadata": {},
   "outputs": [
    {
     "name": "stdout",
     "output_type": "stream",
     "text": [
      "0 3 Mr. Patrick Dooley male 32 0 0\n"
     ]
    }
   ],
   "source": [
    "import csv\n",
    "with open(\"titanic.csv\", \"r\", encoding='utf-8') as f:\n",
    "    reader = csv.reader(f)\n",
    "    i = next(reader)\n",
    "    survived, pclass, name, sex, age, s_s, p_c = str(line).split(',')[:-1]\n",
    "    print(survived, pclass, str(name), sex, age, s_s, p_c)"
   ]
  },
  {
   "cell_type": "code",
   "execution_count": null,
   "metadata": {},
   "outputs": [],
   "source": [
    "import csv\n",
    "def enum_pclass(file):\n",
    "    with open(file, \"r\", encoding='utf-8') as f:\n",
    "        reader = csv.reader(f)\n",
    "        i = next(reader)\n",
    "        lines = f.readlines()\n",
    "        enums = []\n",
    "        for line in lines:\n",
    "            survived, pclass, name, sex, age, s_s, p_c = line.split(',')[:-1]\n",
    "            fare = line.split(',')[-1].replace('\\n','')\n",
    "            query = '''INSERT INTO titanic (survived, pclass, name, sex, age, s_s, p_c, fare)\n",
    "                VALUES({}, {},{}, {},{}, {},{}, {})'''.format(survived, pclass, name, sex, age, s_s, p_c, fare)\n",
    "            cur.execute(query)\n",
    "    conn.cursor()\n",
    "    cur.execute('''SELECT * FROM titanic''')\n",
    "    print(f'Return from query: {curr.fetchall()}\\nSuccess!!!')\n",
    "    return t_enums\n"
   ]
  },
  {
   "cell_type": "code",
   "execution_count": 232,
   "metadata": {},
   "outputs": [
    {
     "data": {
      "text/plain": [
       "('3', '1', '2')"
      ]
     },
     "execution_count": 232,
     "metadata": {},
     "output_type": "execute_result"
    }
   ],
   "source": [
    "enum_pclass(\"titanic.csv\")"
   ]
  },
  {
   "cell_type": "code",
   "execution_count": 198,
   "metadata": {},
   "outputs": [],
   "source": [
    "tuple??"
   ]
  },
  {
   "cell_type": "code",
   "execution_count": 143,
   "metadata": {},
   "outputs": [
    {
     "ename": "ValueError",
     "evalue": "I/O operation on closed file.",
     "output_type": "error",
     "traceback": [
      "\u001b[1;31m---------------------------------------------------------------------------\u001b[0m",
      "\u001b[1;31mValueError\u001b[0m                                Traceback (most recent call last)",
      "\u001b[1;32m<ipython-input-143-a7358dc20ece>\u001b[0m in \u001b[0;36m<module>\u001b[1;34m\u001b[0m\n\u001b[1;32m----> 1\u001b[1;33m \u001b[0mnext\u001b[0m\u001b[1;33m(\u001b[0m\u001b[0mreader\u001b[0m\u001b[1;33m)\u001b[0m\u001b[1;33m\u001b[0m\u001b[1;33m\u001b[0m\u001b[0m\n\u001b[0m",
      "\u001b[1;31mValueError\u001b[0m: I/O operation on closed file."
     ]
    }
   ],
   "source": [
    "next(reader)"
   ]
  },
  {
   "cell_type": "code",
   "execution_count": 144,
   "metadata": {},
   "outputs": [
    {
     "ename": "ValueError",
     "evalue": "I/O operation on closed file.",
     "output_type": "error",
     "traceback": [
      "\u001b[1;31m---------------------------------------------------------------------------\u001b[0m",
      "\u001b[1;31mValueError\u001b[0m                                Traceback (most recent call last)",
      "\u001b[1;32m<ipython-input-144-d1e99c5e7da7>\u001b[0m in \u001b[0;36m<module>\u001b[1;34m\u001b[0m\n\u001b[1;32m----> 1\u001b[1;33m \u001b[0mlines\u001b[0m \u001b[1;33m=\u001b[0m \u001b[0mf\u001b[0m\u001b[1;33m.\u001b[0m\u001b[0mreadlines\u001b[0m\u001b[1;33m(\u001b[0m\u001b[1;33m)\u001b[0m\u001b[1;33m\u001b[0m\u001b[1;33m\u001b[0m\u001b[0m\n\u001b[0m",
      "\u001b[1;31mValueError\u001b[0m: I/O operation on closed file."
     ]
    }
   ],
   "source": [
    "lines = f.readlines()"
   ]
  },
  {
   "cell_type": "code",
   "execution_count": null,
   "metadata": {},
   "outputs": [],
   "source": []
  }
 ],
 "metadata": {
  "kernelspec": {
   "display_name": "Python [conda env:TwitterAPI] *",
   "language": "python",
   "name": "conda-env-TwitterAPI-py"
  },
  "language_info": {
   "codemirror_mode": {
    "name": "ipython",
    "version": 3
   },
   "file_extension": ".py",
   "mimetype": "text/x-python",
   "name": "python",
   "nbconvert_exporter": "python",
   "pygments_lexer": "ipython3",
   "version": "3.7.3"
  }
 },
 "nbformat": 4,
 "nbformat_minor": 2
}
