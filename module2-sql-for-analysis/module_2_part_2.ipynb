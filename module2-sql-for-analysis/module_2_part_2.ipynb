{
  "nbformat": 4,
  "nbformat_minor": 0,
  "metadata": {
    "colab": {
      "name": "module 2 part 2.ipynb",
      "provenance": [],
      "authorship_tag": "ABX9TyOBGjX1g+r3AlY2FCLjzAJs",
      "include_colab_link": true
    },
    "kernelspec": {
      "name": "python3",
      "display_name": "Python 3"
    }
  },
  "cells": [
    {
      "cell_type": "markdown",
      "metadata": {
        "id": "view-in-github",
        "colab_type": "text"
      },
      "source": [
        "<a href=\"https://colab.research.google.com/github/iesous-kurios/DS-Unit-3-Sprint-2-SQL-and-Databases/blob/master/module2-sql-for-analysis/module_2_part_2.ipynb\" target=\"_parent\"><img src=\"https://colab.research.google.com/assets/colab-badge.svg\" alt=\"Open In Colab\"/></a>"
      ]
    },
    {
      "cell_type": "code",
      "metadata": {
        "id": "XCOOwbxLsplT",
        "colab_type": "code",
        "colab": {}
      },
      "source": [
        "# packages and imports\n",
        "from psycopg2.extras import execute_values\n",
        "import json\n",
        "import os\n",
        "!pip install psycopg2-binary\n",
        "!pip install python-dotenv\n",
        "import pandas as pd\n",
        "import psycopg2\n",
        "from dotenv import load_dotenv\n",
        "\n",
        "load_dotenv() # looks inside the .env file for some env vars\n",
        "# passes env var values to python var\n",
        "DB_HOST = os.getenv(\"DB_HOST\", default=\"OOPS\")\n",
        "DB_NAME = os.getenv(\"DB_NAME\", default=\"OOPS\")\n",
        "DB_USER = os.getenv(\"DB_USER\", default=\"OOPS\")\n",
        "DB_PASSWORD = os.getenv(\"DB_PASSWORD\", default=\"OOPS\")\n",
        "\n",
        "connection = psycopg2.connect(\n",
        "    dbname=DB_NAME,\n",
        "    user=DB_USER,\n",
        "    password=DB_PASSWORD,\n",
        "    host=DB_HOST\n",
        ")\n",
        "\n",
        "# create postgress cursor\n",
        "pc = connection.cursor()\n",
        "\n",
        "\n",
        "# Pull the titanic csv from github\n",
        "df = pd.read_csv('https://raw.githubusercontent.com/iesous-kurios/'\n",
        "                'DS-Unit-3-Sprint-2-SQL-and-Databases/master/'\n",
        "                'module2-sql-for-analysis/titanic.csv')\n",
        "\n",
        "# replace ' with \" \" and use regex to pull info\n",
        "df = df.replace(\"'\", \" \", regex=True)\n",
        "\n",
        "\n",
        "import sqlite3\n",
        "\n",
        "# Establish the connection\n",
        "sql_conn = sqlite3.connect('titanic.sqlite3')\n",
        "\n",
        "# create sqlite specific cursor\n",
        "sql_curs = sql_conn.cursor()\n",
        "\n",
        "# insert the data into a new table called \"titanic\" in the database\n",
        "df.to_sql(name = 'titanic', con = sql_conn)\n",
        "\n",
        "# Execute command from cursor to count how many rows in the table\n",
        "sql_curs.execute('SELECT COUNT (*) FROM titanic;').fetchall()\n",
        "\n",
        "# assign passengers from database into variable\n",
        "passengers = sql_curs.execute('SELECT * FROM titanic;').fetchall()\n",
        "\n",
        "# Used the following code to get the schema:\n",
        "# sl_curs.execute('PRAGMA table_info(titanic);').fetchall()\n",
        "\n",
        "# Change the types to import into postgres\n",
        "create_blank_titanic_table = \"\"\"\n",
        "  CREATE TABLE titanic (\n",
        "    passenger_id SERIAL PRIMARY KEY,\n",
        "    survived INT,\n",
        "    pclass INT,\n",
        "    name VARCHAR(90),\n",
        "    sex VARCHAR(10),\n",
        "    age FLOAT,\n",
        "    siblings_spouses_aboard INT,\n",
        "    parents_children INT,\n",
        "    fare FLOAT\n",
        "  );\n",
        "\"\"\"\n",
        "\n",
        "# create empty table called titanic in elephantSQL\n",
        "pc.execute(create_blank_titanic_table)\n",
        "\n",
        "# remove id and perform slice before moving into postgres\n",
        "str(passengers[1][1:])\n",
        "\n",
        "# insert all passengers from sqlite3 to elephantSQL\n",
        "\n",
        "for index,row in df.iterrows():\n",
        "  insert_record =  \"\"\" \n",
        "    INSERT INTO titanic\n",
        "    (survived, pclass, name, sex, age, siblings_spouses_aboard, parents_children, fare)\n",
        "    VALUES \"\"\" + str(tuple(row.values)) + ';'\n",
        "  pc.execute(insert_record)\n",
        "\n",
        "pc.execute('SELECT * FROM titanic;')\n",
        "pc.fetchall()\n",
        "\n",
        "pc.close()\n",
        "connection.commit()"
      ],
      "execution_count": 0,
      "outputs": []
    },
    {
      "cell_type": "code",
      "metadata": {
        "id": "lvhG0RKa1aoi",
        "colab_type": "code",
        "colab": {}
      },
      "source": [
        "connection.commit()"
      ],
      "execution_count": 0,
      "outputs": []
    }
  ]
}