{
  "nbformat": 4,
  "nbformat_minor": 0,
  "metadata": {
    "colab": {
      "name": "SQL Demo",
      "version": "0.3.2",
      "provenance": [],
      "include_colab_link": true
    },
    "kernelspec": {
      "name": "python3",
      "display_name": "Python 3"
    }
  },
  "cells": [
    {
      "cell_type": "markdown",
      "metadata": {
        "id": "view-in-github",
        "colab_type": "text"
      },
      "source": [
        "<a href=\"https://colab.research.google.com/github/zevan07/DS-Unit-3-Sprint-2-SQL-and-Databases/blob/master/SQL_Demo.ipynb\" target=\"_parent\"><img src=\"https://colab.research.google.com/assets/colab-badge.svg\" alt=\"Open In Colab\"/></a>"
      ]
    },
    {
      "cell_type": "code",
      "metadata": {
        "id": "4sW6z-g34JPx",
        "colab_type": "code",
        "outputId": "39cbce07-c47b-4b9b-de50-4864c155d561",
        "colab": {
          "base_uri": "https://localhost:8080/"
        }
      },
      "source": [
        "!pip install psycopg2-binary"
      ],
      "execution_count": 1,
      "outputs": [
        {
          "output_type": "stream",
          "text": [
            "Collecting psycopg2-binary\n",
            "\u001b[?25l  Downloading https://files.pythonhosted.org/packages/b1/35/75c9c2d9cfc073ab6c42b2d8e91ff58c9b99f4ed7ed56b36647642e6080e/psycopg2_binary-2.8.3-cp36-cp36m-manylinux1_x86_64.whl (2.9MB)\n",
            "\r\u001b[K     |▏                               | 10kB 13.3MB/s eta 0:00:01\r\u001b[K     |▎                               | 20kB 1.8MB/s eta 0:00:02\r\u001b[K     |▍                               | 30kB 2.6MB/s eta 0:00:02\r\u001b[K     |▌                               | 40kB 1.7MB/s eta 0:00:02\r\u001b[K     |▋                               | 51kB 2.1MB/s eta 0:00:02\r\u001b[K     |▊                               | 61kB 2.6MB/s eta 0:00:02\r\u001b[K     |▉                               | 71kB 3.0MB/s eta 0:00:01\r\u001b[K     |█                               | 81kB 3.3MB/s eta 0:00:01\r\u001b[K     |█                               | 92kB 3.7MB/s eta 0:00:01\r\u001b[K     |█▏                              | 102kB 2.9MB/s eta 0:00:01\r\u001b[K     |█▎                              | 112kB 2.9MB/s eta 0:00:01\r\u001b[K     |█▍                              | 122kB 2.9MB/s eta 0:00:01\r\u001b[K     |█▌                              | 133kB 2.9MB/s eta 0:00:01\r\u001b[K     |█▋                              | 143kB 2.9MB/s eta 0:00:01\r\u001b[K     |█▊                              | 153kB 2.9MB/s eta 0:00:01\r\u001b[K     |█▉                              | 163kB 2.9MB/s eta 0:00:01\r\u001b[K     |██                              | 174kB 2.9MB/s eta 0:00:01\r\u001b[K     |██                              | 184kB 2.9MB/s eta 0:00:01\r\u001b[K     |██▏                             | 194kB 2.9MB/s eta 0:00:01\r\u001b[K     |██▎                             | 204kB 2.9MB/s eta 0:00:01\r\u001b[K     |██▍                             | 215kB 2.9MB/s eta 0:00:01\r\u001b[K     |██▌                             | 225kB 2.9MB/s eta 0:00:01\r\u001b[K     |██▋                             | 235kB 2.9MB/s eta 0:00:01\r\u001b[K     |██▊                             | 245kB 2.9MB/s eta 0:00:01\r\u001b[K     |██▉                             | 256kB 2.9MB/s eta 0:00:01\r\u001b[K     |███                             | 266kB 2.9MB/s eta 0:00:01\r\u001b[K     |███                             | 276kB 2.9MB/s eta 0:00:01\r\u001b[K     |███▏                            | 286kB 2.9MB/s eta 0:00:01\r\u001b[K     |███▎                            | 296kB 2.9MB/s eta 0:00:01\r\u001b[K     |███▍                            | 307kB 2.9MB/s eta 0:00:01\r\u001b[K     |███▌                            | 317kB 2.9MB/s eta 0:00:01\r\u001b[K     |███▋                            | 327kB 2.9MB/s eta 0:00:01\r\u001b[K     |███▊                            | 337kB 2.9MB/s eta 0:00:01\r\u001b[K     |███▉                            | 348kB 2.9MB/s eta 0:00:01\r\u001b[K     |████                            | 358kB 2.9MB/s eta 0:00:01\r\u001b[K     |████                            | 368kB 2.9MB/s eta 0:00:01\r\u001b[K     |████▏                           | 378kB 2.9MB/s eta 0:00:01\r\u001b[K     |████▎                           | 389kB 2.9MB/s eta 0:00:01\r\u001b[K     |████▍                           | 399kB 2.9MB/s eta 0:00:01\r\u001b[K     |████▌                           | 409kB 2.9MB/s eta 0:00:01\r\u001b[K     |████▋                           | 419kB 2.9MB/s eta 0:00:01\r\u001b[K     |████▊                           | 430kB 2.9MB/s eta 0:00:01\r\u001b[K     |████▉                           | 440kB 2.9MB/s eta 0:00:01\r\u001b[K     |█████                           | 450kB 2.9MB/s eta 0:00:01\r\u001b[K     |█████                           | 460kB 2.9MB/s eta 0:00:01\r\u001b[K     |█████▏                          | 471kB 2.9MB/s eta 0:00:01\r\u001b[K     |█████▎                          | 481kB 2.9MB/s eta 0:00:01\r\u001b[K     |█████▍                          | 491kB 2.9MB/s eta 0:00:01\r\u001b[K     |█████▌                          | 501kB 2.9MB/s eta 0:00:01\r\u001b[K     |█████▋                          | 512kB 2.9MB/s eta 0:00:01\r\u001b[K     |█████▊                          | 522kB 2.9MB/s eta 0:00:01\r\u001b[K     |█████▉                          | 532kB 2.9MB/s eta 0:00:01\r\u001b[K     |██████                          | 542kB 2.9MB/s eta 0:00:01\r\u001b[K     |██████                          | 552kB 2.9MB/s eta 0:00:01\r\u001b[K     |██████▏                         | 563kB 2.9MB/s eta 0:00:01\r\u001b[K     |██████▎                         | 573kB 2.9MB/s eta 0:00:01\r\u001b[K     |██████▍                         | 583kB 2.9MB/s eta 0:00:01\r\u001b[K     |██████▌                         | 593kB 2.9MB/s eta 0:00:01\r\u001b[K     |██████▋                         | 604kB 2.9MB/s eta 0:00:01\r\u001b[K     |██████▊                         | 614kB 2.9MB/s eta 0:00:01\r\u001b[K     |██████▉                         | 624kB 2.9MB/s eta 0:00:01\r\u001b[K     |███████                         | 634kB 2.9MB/s eta 0:00:01\r\u001b[K     |███████                         | 645kB 2.9MB/s eta 0:00:01\r\u001b[K     |███████▏                        | 655kB 2.9MB/s eta 0:00:01\r\u001b[K     |███████▎                        | 665kB 2.9MB/s eta 0:00:01\r\u001b[K     |███████▍                        | 675kB 2.9MB/s eta 0:00:01\r\u001b[K     |███████▌                        | 686kB 2.9MB/s eta 0:00:01\r\u001b[K     |███████▋                        | 696kB 2.9MB/s eta 0:00:01\r\u001b[K     |███████▊                        | 706kB 2.9MB/s eta 0:00:01\r\u001b[K     |███████▉                        | 716kB 2.9MB/s eta 0:00:01\r\u001b[K     |████████                        | 727kB 2.9MB/s eta 0:00:01\r\u001b[K     |████████                        | 737kB 2.9MB/s eta 0:00:01\r\u001b[K     |████████▏                       | 747kB 2.9MB/s eta 0:00:01\r\u001b[K     |████████▎                       | 757kB 2.9MB/s eta 0:00:01\r\u001b[K     |████████▍                       | 768kB 2.9MB/s eta 0:00:01\r\u001b[K     |████████▌                       | 778kB 2.9MB/s eta 0:00:01\r\u001b[K     |████████▋                       | 788kB 2.9MB/s eta 0:00:01\r\u001b[K     |████████▊                       | 798kB 2.9MB/s eta 0:00:01\r\u001b[K     |████████▉                       | 808kB 2.9MB/s eta 0:00:01\r\u001b[K     |█████████                       | 819kB 2.9MB/s eta 0:00:01\r\u001b[K     |█████████                       | 829kB 2.9MB/s eta 0:00:01\r\u001b[K     |█████████▏                      | 839kB 2.9MB/s eta 0:00:01\r\u001b[K     |█████████▎                      | 849kB 2.9MB/s eta 0:00:01\r\u001b[K     |█████████▍                      | 860kB 2.9MB/s eta 0:00:01\r\u001b[K     |█████████▌                      | 870kB 2.9MB/s eta 0:00:01\r\u001b[K     |█████████▋                      | 880kB 2.9MB/s eta 0:00:01\r\u001b[K     |█████████▊                      | 890kB 2.9MB/s eta 0:00:01\r\u001b[K     |█████████▉                      | 901kB 2.9MB/s eta 0:00:01\r\u001b[K     |██████████                      | 911kB 2.9MB/s eta 0:00:01\r\u001b[K     |██████████                      | 921kB 2.9MB/s eta 0:00:01\r\u001b[K     |██████████▏                     | 931kB 2.9MB/s eta 0:00:01\r\u001b[K     |██████████▎                     | 942kB 2.9MB/s eta 0:00:01\r\u001b[K     |██████████▍                     | 952kB 2.9MB/s eta 0:00:01\r\u001b[K     |██████████▌                     | 962kB 2.9MB/s eta 0:00:01\r\u001b[K     |██████████▋                     | 972kB 2.9MB/s eta 0:00:01\r\u001b[K     |██████████▊                     | 983kB 2.9MB/s eta 0:00:01\r\u001b[K     |██████████▉                     | 993kB 2.9MB/s eta 0:00:01\r\u001b[K     |███████████                     | 1.0MB 2.9MB/s eta 0:00:01\r\u001b[K     |███████████                     | 1.0MB 2.9MB/s eta 0:00:01\r\u001b[K     |███████████▏                    | 1.0MB 2.9MB/s eta 0:00:01\r\u001b[K     |███████████▎                    | 1.0MB 2.9MB/s eta 0:00:01\r\u001b[K     |███████████▍                    | 1.0MB 2.9MB/s eta 0:00:01\r\u001b[K     |███████████▌                    | 1.1MB 2.9MB/s eta 0:00:01\r\u001b[K     |███████████▋                    | 1.1MB 2.9MB/s eta 0:00:01\r\u001b[K     |███████████▊                    | 1.1MB 2.9MB/s eta 0:00:01\r\u001b[K     |███████████▉                    | 1.1MB 2.9MB/s eta 0:00:01\r\u001b[K     |████████████                    | 1.1MB 2.9MB/s eta 0:00:01\r\u001b[K     |████████████                    | 1.1MB 2.9MB/s eta 0:00:01\r\u001b[K     |████████████▏                   | 1.1MB 2.9MB/s eta 0:00:01\r\u001b[K     |████████████▎                   | 1.1MB 2.9MB/s eta 0:00:01\r\u001b[K     |████████████▍                   | 1.1MB 2.9MB/s eta 0:00:01\r\u001b[K     |████████████▌                   | 1.1MB 2.9MB/s eta 0:00:01\r\u001b[K     |████████████▋                   | 1.2MB 2.9MB/s eta 0:00:01\r\u001b[K     |████████████▊                   | 1.2MB 2.9MB/s eta 0:00:01\r\u001b[K     |████████████▉                   | 1.2MB 2.9MB/s eta 0:00:01\r\u001b[K     |█████████████                   | 1.2MB 2.9MB/s eta 0:00:01\r\u001b[K     |█████████████                   | 1.2MB 2.9MB/s eta 0:00:01\r\u001b[K     |█████████████▏                  | 1.2MB 2.9MB/s eta 0:00:01\r\u001b[K     |█████████████▎                  | 1.2MB 2.9MB/s eta 0:00:01\r\u001b[K     |█████████████▍                  | 1.2MB 2.9MB/s eta 0:00:01\r\u001b[K     |█████████████▌                  | 1.2MB 2.9MB/s eta 0:00:01\r\u001b[K     |█████████████▋                  | 1.2MB 2.9MB/s eta 0:00:01\r\u001b[K     |█████████████▊                  | 1.3MB 2.9MB/s eta 0:00:01\r\u001b[K     |█████████████▉                  | 1.3MB 2.9MB/s eta 0:00:01\r\u001b[K     |██████████████                  | 1.3MB 2.9MB/s eta 0:00:01\r\u001b[K     |██████████████                  | 1.3MB 2.9MB/s eta 0:00:01\r\u001b[K     |██████████████▏                 | 1.3MB 2.9MB/s eta 0:00:01\r\u001b[K     |██████████████▎                 | 1.3MB 2.9MB/s eta 0:00:01\r\u001b[K     |██████████████▍                 | 1.3MB 2.9MB/s eta 0:00:01\r\u001b[K     |██████████████▌                 | 1.3MB 2.9MB/s eta 0:00:01\r\u001b[K     |██████████████▋                 | 1.3MB 2.9MB/s eta 0:00:01\r\u001b[K     |██████████████▊                 | 1.4MB 2.9MB/s eta 0:00:01\r\u001b[K     |██████████████▉                 | 1.4MB 2.9MB/s eta 0:00:01\r\u001b[K     |███████████████                 | 1.4MB 2.9MB/s eta 0:00:01\r\u001b[K     |███████████████                 | 1.4MB 2.9MB/s eta 0:00:01\r\u001b[K     |███████████████▏                | 1.4MB 2.9MB/s eta 0:00:01\r\u001b[K     |███████████████▎                | 1.4MB 2.9MB/s eta 0:00:01\r\u001b[K     |███████████████▍                | 1.4MB 2.9MB/s eta 0:00:01\r\u001b[K     |███████████████▌                | 1.4MB 2.9MB/s eta 0:00:01\r\u001b[K     |███████████████▋                | 1.4MB 2.9MB/s eta 0:00:01\r\u001b[K     |███████████████▊                | 1.4MB 2.9MB/s eta 0:00:01\r\u001b[K     |███████████████▉                | 1.5MB 2.9MB/s eta 0:00:01\r\u001b[K     |████████████████                | 1.5MB 2.9MB/s eta 0:00:01\r\u001b[K     |████████████████                | 1.5MB 2.9MB/s eta 0:00:01\r\u001b[K     |████████████████▏               | 1.5MB 2.9MB/s eta 0:00:01\r\u001b[K     |████████████████▎               | 1.5MB 2.9MB/s eta 0:00:01\r\u001b[K     |████████████████▍               | 1.5MB 2.9MB/s eta 0:00:01\r\u001b[K     |████████████████▌               | 1.5MB 2.9MB/s eta 0:00:01\r\u001b[K     |████████████████▋               | 1.5MB 2.9MB/s eta 0:00:01\r\u001b[K     |████████████████▊               | 1.5MB 2.9MB/s eta 0:00:01\r\u001b[K     |████████████████▉               | 1.5MB 2.9MB/s eta 0:00:01\r\u001b[K     |█████████████████               | 1.6MB 2.9MB/s eta 0:00:01\r\u001b[K     |█████████████████               | 1.6MB 2.9MB/s eta 0:00:01\r\u001b[K     |█████████████████▏              | 1.6MB 2.9MB/s eta 0:00:01\r\u001b[K     |█████████████████▎              | 1.6MB 2.9MB/s eta 0:00:01\r\u001b[K     |█████████████████▍              | 1.6MB 2.9MB/s eta 0:00:01\r\u001b[K     |█████████████████▌              | 1.6MB 2.9MB/s eta 0:00:01\r\u001b[K     |█████████████████▋              | 1.6MB 2.9MB/s eta 0:00:01\r\u001b[K     |█████████████████▊              | 1.6MB 2.9MB/s eta 0:00:01\r\u001b[K     |█████████████████▉              | 1.6MB 2.9MB/s eta 0:00:01\r\u001b[K     |██████████████████              | 1.6MB 2.9MB/s eta 0:00:01\r\u001b[K     |██████████████████              | 1.7MB 2.9MB/s eta 0:00:01\r\u001b[K     |██████████████████▏             | 1.7MB 2.9MB/s eta 0:00:01\r\u001b[K     |██████████████████▎             | 1.7MB 2.9MB/s eta 0:00:01\r\u001b[K     |██████████████████▍             | 1.7MB 2.9MB/s eta 0:00:01\r\u001b[K     |██████████████████▌             | 1.7MB 2.9MB/s eta 0:00:01\r\u001b[K     |██████████████████▋             | 1.7MB 2.9MB/s eta 0:00:01\r\u001b[K     |██████████████████▊             | 1.7MB 2.9MB/s eta 0:00:01\r\u001b[K     |██████████████████▉             | 1.7MB 2.9MB/s eta 0:00:01\r\u001b[K     |███████████████████             | 1.7MB 2.9MB/s eta 0:00:01\r\u001b[K     |███████████████████             | 1.8MB 2.9MB/s eta 0:00:01\r\u001b[K     |███████████████████▏            | 1.8MB 2.9MB/s eta 0:00:01\r\u001b[K     |███████████████████▎            | 1.8MB 2.9MB/s eta 0:00:01\r\u001b[K     |███████████████████▍            | 1.8MB 2.9MB/s eta 0:00:01\r\u001b[K     |███████████████████▌            | 1.8MB 2.9MB/s eta 0:00:01\r\u001b[K     |███████████████████▋            | 1.8MB 2.9MB/s eta 0:00:01\r\u001b[K     |███████████████████▊            | 1.8MB 2.9MB/s eta 0:00:01\r\u001b[K     |███████████████████▉            | 1.8MB 2.9MB/s eta 0:00:01\r\u001b[K     |████████████████████            | 1.8MB 2.9MB/s eta 0:00:01\r\u001b[K     |████████████████████            | 1.8MB 2.9MB/s eta 0:00:01\r\u001b[K     |████████████████████▏           | 1.9MB 2.9MB/s eta 0:00:01\r\u001b[K     |████████████████████▎           | 1.9MB 2.9MB/s eta 0:00:01\r\u001b[K     |████████████████████▍           | 1.9MB 2.9MB/s eta 0:00:01\r\u001b[K     |████████████████████▌           | 1.9MB 2.9MB/s eta 0:00:01\r\u001b[K     |████████████████████▋           | 1.9MB 2.9MB/s eta 0:00:01\r\u001b[K     |████████████████████▊           | 1.9MB 2.9MB/s eta 0:00:01\r\u001b[K     |████████████████████▉           | 1.9MB 2.9MB/s eta 0:00:01\r\u001b[K     |█████████████████████           | 1.9MB 2.9MB/s eta 0:00:01\r\u001b[K     |█████████████████████           | 1.9MB 2.9MB/s eta 0:00:01\r\u001b[K     |█████████████████████▏          | 1.9MB 2.9MB/s eta 0:00:01\r\u001b[K     |█████████████████████▎          | 2.0MB 2.9MB/s eta 0:00:01\r\u001b[K     |█████████████████████▍          | 2.0MB 2.9MB/s eta 0:00:01\r\u001b[K     |█████████████████████▌          | 2.0MB 2.9MB/s eta 0:00:01\r\u001b[K     |█████████████████████▋          | 2.0MB 2.9MB/s eta 0:00:01\r\u001b[K     |█████████████████████▊          | 2.0MB 2.9MB/s eta 0:00:01\r\u001b[K     |█████████████████████▉          | 2.0MB 2.9MB/s eta 0:00:01\r\u001b[K     |██████████████████████          | 2.0MB 2.9MB/s eta 0:00:01\r\u001b[K     |██████████████████████          | 2.0MB 2.9MB/s eta 0:00:01\r\u001b[K     |██████████████████████▏         | 2.0MB 28kB/s eta 0:00:32\r\u001b[K     |██████████████████████▎         | 2.0MB 28kB/s eta 0:00:32\r\u001b[K     |██████████████████████▍         | 2.1MB 28kB/s eta 0:00:31\r\u001b[K     |██████████████████████▌         | 2.1MB 28kB/s eta 0:00:31\r\u001b[K     |██████████████████████▋         | 2.1MB 28kB/s eta 0:00:31\r\u001b[K     |██████████████████████▊         | 2.1MB 28kB/s eta 0:00:30\r\u001b[K     |██████████████████████▉         | 2.1MB 28kB/s eta 0:00:30\r\u001b[K     |███████████████████████         | 2.1MB 28kB/s eta 0:00:30\r\u001b[K     |███████████████████████         | 2.1MB 28kB/s eta 0:00:29\r\u001b[K     |███████████████████████▏        | 2.1MB 28kB/s eta 0:00:29\r\u001b[K     |███████████████████████▎        | 2.1MB 28kB/s eta 0:00:29\r\u001b[K     |███████████████████████▍        | 2.2MB 28kB/s eta 0:00:28\r\u001b[K     |███████████████████████▌        | 2.2MB 28kB/s eta 0:00:28\r\u001b[K     |███████████████████████▋        | 2.2MB 28kB/s eta 0:00:28\r\u001b[K     |███████████████████████▊        | 2.2MB 28kB/s eta 0:00:27\r\u001b[K     |███████████████████████▉        | 2.2MB 28kB/s eta 0:00:27\r\u001b[K     |████████████████████████        | 2.2MB 28kB/s eta 0:00:26\r\u001b[K     |████████████████████████        | 2.2MB 28kB/s eta 0:00:26\r\u001b[K     |████████████████████████▏       | 2.2MB 28kB/s eta 0:00:26\r\u001b[K     |████████████████████████▎       | 2.2MB 28kB/s eta 0:00:25\r\u001b[K     |████████████████████████▍       | 2.2MB 28kB/s eta 0:00:25\r\u001b[K     |████████████████████████▌       | 2.3MB 28kB/s eta 0:00:25\r\u001b[K     |████████████████████████▋       | 2.3MB 28kB/s eta 0:00:24\r\u001b[K     |████████████████████████▊       | 2.3MB 28kB/s eta 0:00:24\r\u001b[K     |████████████████████████▉       | 2.3MB 28kB/s eta 0:00:24\r\u001b[K     |█████████████████████████       | 2.3MB 28kB/s eta 0:00:23\r\u001b[K     |█████████████████████████       | 2.3MB 28kB/s eta 0:00:23\r\u001b[K     |█████████████████████████▏      | 2.3MB 28kB/s eta 0:00:22\r\u001b[K     |█████████████████████████▎      | 2.3MB 28kB/s eta 0:00:22\r\u001b[K     |█████████████████████████▍      | 2.3MB 28kB/s eta 0:00:22\r\u001b[K     |█████████████████████████▌      | 2.3MB 28kB/s eta 0:00:21\r\u001b[K     |█████████████████████████▋      | 2.4MB 28kB/s eta 0:00:21\r\u001b[K     |█████████████████████████▊      | 2.4MB 28kB/s eta 0:00:21\r\u001b[K     |█████████████████████████▉      | 2.4MB 28kB/s eta 0:00:20\r\u001b[K     |██████████████████████████      | 2.4MB 28kB/s eta 0:00:20\r\u001b[K     |██████████████████████████      | 2.4MB 28kB/s eta 0:00:20\r\u001b[K     |██████████████████████████▏     | 2.4MB 28kB/s eta 0:00:19\r\u001b[K     |██████████████████████████▎     | 2.4MB 28kB/s eta 0:00:19\r\u001b[K     |██████████████████████████▍     | 2.4MB 28kB/s eta 0:00:18\r\u001b[K     |██████████████████████████▋     | 2.4MB 28kB/s eta 0:00:18\r\u001b[K     |██████████████████████████▊     | 2.4MB 28kB/s eta 0:00:18\r\u001b[K     |██████████████████████████▉     | 2.5MB 28kB/s eta 0:00:17\r\u001b[K     |███████████████████████████     | 2.5MB 28kB/s eta 0:00:17\r\u001b[K     |███████████████████████████     | 2.5MB 28kB/s eta 0:00:17\r\u001b[K     |███████████████████████████▏    | 2.5MB 28kB/s eta 0:00:16\r\u001b[K     |███████████████████████████▎    | 2.5MB 28kB/s eta 0:00:16\r\u001b[K     |███████████████████████████▍    | 2.5MB 28kB/s eta 0:00:16\r\u001b[K     |███████████████████████████▌    | 2.5MB 28kB/s eta 0:00:15\r\u001b[K     |███████████████████████████▋    | 2.5MB 28kB/s eta 0:00:15\r\u001b[K     |███████████████████████████▊    | 2.5MB 28kB/s eta 0:00:15\r\u001b[K     |███████████████████████████▉    | 2.5MB 28kB/s eta 0:00:14\r\u001b[K     |████████████████████████████    | 2.6MB 28kB/s eta 0:00:14\r\u001b[K     |████████████████████████████    | 2.6MB 28kB/s eta 0:00:13\r\u001b[K     |████████████████████████████▏   | 2.6MB 28kB/s eta 0:00:13\r\u001b[K     |████████████████████████████▎   | 2.6MB 28kB/s eta 0:00:13\r\u001b[K     |████████████████████████████▍   | 2.6MB 28kB/s eta 0:00:12\r\u001b[K     |████████████████████████████▌   | 2.6MB 28kB/s eta 0:00:12\r\u001b[K     |████████████████████████████▋   | 2.6MB 28kB/s eta 0:00:12\r\u001b[K     |████████████████████████████▊   | 2.6MB 28kB/s eta 0:00:11\r\u001b[K     |████████████████████████████▉   | 2.6MB 28kB/s eta 0:00:11\r\u001b[K     |█████████████████████████████   | 2.7MB 28kB/s eta 0:00:11\r\u001b[K     |█████████████████████████████   | 2.7MB 28kB/s eta 0:00:10\r\u001b[K     |█████████████████████████████▏  | 2.7MB 28kB/s eta 0:00:10\r\u001b[K     |█████████████████████████████▎  | 2.7MB 28kB/s eta 0:00:09\r\u001b[K     |█████████████████████████████▍  | 2.7MB 28kB/s eta 0:00:09\r\u001b[K     |█████████████████████████████▌  | 2.7MB 28kB/s eta 0:00:09\r\u001b[K     |█████████████████████████████▋  | 2.7MB 28kB/s eta 0:00:08\r\u001b[K     |█████████████████████████████▊  | 2.7MB 28kB/s eta 0:00:08\r\u001b[K     |█████████████████████████████▉  | 2.7MB 28kB/s eta 0:00:08\r\u001b[K     |██████████████████████████████  | 2.7MB 28kB/s eta 0:00:07\r\u001b[K     |██████████████████████████████  | 2.8MB 28kB/s eta 0:00:07\r\u001b[K     |██████████████████████████████▏ | 2.8MB 28kB/s eta 0:00:07\r\u001b[K     |██████████████████████████████▎ | 2.8MB 28kB/s eta 0:00:06\r\u001b[K     |██████████████████████████████▍ | 2.8MB 28kB/s eta 0:00:06\r\u001b[K     |██████████████████████████████▌ | 2.8MB 28kB/s eta 0:00:05\r\u001b[K     |██████████████████████████████▋ | 2.8MB 28kB/s eta 0:00:05\r\u001b[K     |██████████████████████████████▊ | 2.8MB 28kB/s eta 0:00:05\r\u001b[K     |██████████████████████████████▉ | 2.8MB 28kB/s eta 0:00:04\r\u001b[K     |███████████████████████████████ | 2.8MB 28kB/s eta 0:00:04\r\u001b[K     |███████████████████████████████ | 2.8MB 28kB/s eta 0:00:04\r\u001b[K     |███████████████████████████████▏| 2.9MB 28kB/s eta 0:00:03\r\u001b[K     |███████████████████████████████▎| 2.9MB 28kB/s eta 0:00:03\r\u001b[K     |███████████████████████████████▍| 2.9MB 28kB/s eta 0:00:03\r\u001b[K     |███████████████████████████████▌| 2.9MB 28kB/s eta 0:00:02\r\u001b[K     |███████████████████████████████▋| 2.9MB 28kB/s eta 0:00:02\r\u001b[K     |███████████████████████████████▊| 2.9MB 28kB/s eta 0:00:02\r\u001b[K     |███████████████████████████████▉| 2.9MB 28kB/s eta 0:00:01\r\u001b[K     |████████████████████████████████| 2.9MB 28kB/s eta 0:00:01\r\u001b[K     |████████████████████████████████| 2.9MB 28kB/s \n",
            "\u001b[?25hInstalling collected packages: psycopg2-binary\n",
            "Successfully installed psycopg2-binary-2.8.3\n"
          ],
          "name": "stdout"
        }
      ]
    },
    {
      "cell_type": "code",
      "metadata": {
        "id": "XWrdpGAL4Qoa",
        "colab_type": "code",
        "colab": {}
      },
      "source": [
        "import psycopg2"
      ],
      "execution_count": 0,
      "outputs": []
    },
    {
      "cell_type": "code",
      "metadata": {
        "id": "TQ6mlFzx4TRq",
        "colab_type": "code",
        "outputId": "c3f6351f-1af6-4a0d-8249-08d96f79e76b",
        "colab": {
          "base_uri": "https://localhost:8080/",
          "height": 799
        }
      },
      "source": [
        "dir(psycopg2)"
      ],
      "execution_count": 3,
      "outputs": [
        {
          "output_type": "execute_result",
          "data": {
            "text/plain": [
              "['BINARY',\n",
              " 'Binary',\n",
              " 'DATETIME',\n",
              " 'DataError',\n",
              " 'DatabaseError',\n",
              " 'Date',\n",
              " 'DateFromTicks',\n",
              " 'Error',\n",
              " 'IntegrityError',\n",
              " 'InterfaceError',\n",
              " 'InternalError',\n",
              " 'NUMBER',\n",
              " 'NotSupportedError',\n",
              " 'OperationalError',\n",
              " 'ProgrammingError',\n",
              " 'ROWID',\n",
              " 'STRING',\n",
              " 'Time',\n",
              " 'TimeFromTicks',\n",
              " 'Timestamp',\n",
              " 'TimestampFromTicks',\n",
              " 'Warning',\n",
              " '__builtins__',\n",
              " '__cached__',\n",
              " '__doc__',\n",
              " '__file__',\n",
              " '__libpq_version__',\n",
              " '__loader__',\n",
              " '__name__',\n",
              " '__package__',\n",
              " '__path__',\n",
              " '__spec__',\n",
              " '__version__',\n",
              " '_connect',\n",
              " '_ext',\n",
              " '_json',\n",
              " '_psycopg',\n",
              " '_range',\n",
              " 'apilevel',\n",
              " 'compat',\n",
              " 'connect',\n",
              " 'errors',\n",
              " 'extensions',\n",
              " 'paramstyle',\n",
              " 'threadsafety',\n",
              " 'tz']"
            ]
          },
          "metadata": {
            "tags": []
          },
          "execution_count": 3
        }
      ]
    },
    {
      "cell_type": "code",
      "metadata": {
        "id": "xnBjj89H4VHX",
        "colab_type": "code",
        "outputId": "a901f5e9-3d14-42f2-ac5e-ccf6a10ddb1a",
        "colab": {
          "base_uri": "https://localhost:8080/",
          "height": 612
        }
      },
      "source": [
        "help(psycopg2.connect)"
      ],
      "execution_count": 4,
      "outputs": [
        {
          "output_type": "stream",
          "text": [
            "Help on function connect in module psycopg2:\n",
            "\n",
            "connect(dsn=None, connection_factory=None, cursor_factory=None, **kwargs)\n",
            "    Create a new database connection.\n",
            "    \n",
            "    The connection parameters can be specified as a string:\n",
            "    \n",
            "        conn = psycopg2.connect(\"dbname=test user=postgres password=secret\")\n",
            "    \n",
            "    or using a set of keyword arguments:\n",
            "    \n",
            "        conn = psycopg2.connect(database=\"test\", user=\"postgres\", password=\"secret\")\n",
            "    \n",
            "    Or as a mix of both. The basic connection parameters are:\n",
            "    \n",
            "    - *dbname*: the database name\n",
            "    - *database*: the database name (only as keyword argument)\n",
            "    - *user*: user name used to authenticate\n",
            "    - *password*: password used to authenticate\n",
            "    - *host*: database host address (defaults to UNIX socket if not provided)\n",
            "    - *port*: connection port number (defaults to 5432 if not provided)\n",
            "    \n",
            "    Using the *connection_factory* parameter a different class or connections\n",
            "    factory can be specified. It should be a callable object taking a dsn\n",
            "    argument.\n",
            "    \n",
            "    Using the *cursor_factory* parameter, a new default cursor factory will be\n",
            "    used by cursor().\n",
            "    \n",
            "    Using *async*=True an asynchronous connection will be created. *async_* is\n",
            "    a valid alias (for Python versions where ``async`` is a keyword).\n",
            "    \n",
            "    Any other keyword parameter will be passed to the underlying client\n",
            "    library: the list of supported parameters depends on the library version.\n",
            "\n"
          ],
          "name": "stdout"
        }
      ]
    },
    {
      "cell_type": "code",
      "metadata": {
        "id": "GtWrqeYI8jGi",
        "colab_type": "code",
        "colab": {}
      },
      "source": [
        "dbname = 'ywzfehtm'\n",
        "user = 'ywzfehtm'\n",
        "password = '3epT6NgVCfkGAnxq3Y1-6uYVK7Mf2esj'  # Don't commit this!\n",
        "host = 'raja.db.elephantsql.com'"
      ],
      "execution_count": 0,
      "outputs": []
    },
    {
      "cell_type": "code",
      "metadata": {
        "id": "zSvq1FHv8mJ-",
        "colab_type": "code",
        "colab": {}
      },
      "source": [
        "pg_conn = psycopg2.connect(dbname=dbname, user=user,\n",
        "                           password=password, host=host)"
      ],
      "execution_count": 0,
      "outputs": []
    },
    {
      "cell_type": "code",
      "metadata": {
        "id": "5vTZWr8_466h",
        "colab_type": "code",
        "colab": {}
      },
      "source": [
        "pg_curs = pg_conn.cursor()"
      ],
      "execution_count": 0,
      "outputs": []
    },
    {
      "cell_type": "code",
      "metadata": {
        "id": "1Az611UZ8Oox",
        "colab_type": "code",
        "outputId": "2ca5dc63-af3b-4f45-da67-80335d75dc20",
        "colab": {
          "base_uri": "https://localhost:8080/",
          "height": 51
        }
      },
      "source": [
        "pg_curs.execute('SELECT * FROM test_table;')\n",
        "pg_curs.fetchall()"
      ],
      "execution_count": 8,
      "outputs": [
        {
          "output_type": "execute_result",
          "data": {
            "text/plain": [
              "[(1, 'A row name', None),\n",
              " (2, 'Another row, with JSON', {'a': 1, 'b': ['dog', 'cat', 42], 'c': True})]"
            ]
          },
          "metadata": {
            "tags": []
          },
          "execution_count": 8
        }
      ]
    },
    {
      "cell_type": "code",
      "metadata": {
        "id": "rTh-Ozuo9BMg",
        "colab_type": "code",
        "outputId": "77d2a2bc-cf00-4cc1-f5b1-5ea0a12969e7",
        "colab": {
          "base_uri": "https://localhost:8080/",
          "height": 527
        }
      },
      "source": [
        "!wget https://github.com/LambdaSchool/DS-Unit-3-Sprint-2-SQL-and-Databases/blob/master/module1-introduction-to-sql/rpg_db.sqlite3?raw=true"
      ],
      "execution_count": 9,
      "outputs": [
        {
          "output_type": "stream",
          "text": [
            "--2019-08-14 20:30:59--  https://github.com/LambdaSchool/DS-Unit-3-Sprint-2-SQL-and-Databases/blob/master/module1-introduction-to-sql/rpg_db.sqlite3?raw=true\n",
            "Resolving github.com (github.com)... 192.30.253.112\n",
            "Connecting to github.com (github.com)|192.30.253.112|:443... connected.\n",
            "HTTP request sent, awaiting response... 302 Found\n",
            "Location: https://github.com/LambdaSchool/DS-Unit-3-Sprint-2-SQL-and-Databases/raw/master/module1-introduction-to-sql/rpg_db.sqlite3 [following]\n",
            "--2019-08-14 20:30:59--  https://github.com/LambdaSchool/DS-Unit-3-Sprint-2-SQL-and-Databases/raw/master/module1-introduction-to-sql/rpg_db.sqlite3\n",
            "Reusing existing connection to github.com:443.\n",
            "HTTP request sent, awaiting response... 302 Found\n",
            "Location: https://raw.githubusercontent.com/LambdaSchool/DS-Unit-3-Sprint-2-SQL-and-Databases/master/module1-introduction-to-sql/rpg_db.sqlite3 [following]\n",
            "--2019-08-14 20:30:59--  https://raw.githubusercontent.com/LambdaSchool/DS-Unit-3-Sprint-2-SQL-and-Databases/master/module1-introduction-to-sql/rpg_db.sqlite3\n",
            "Resolving raw.githubusercontent.com (raw.githubusercontent.com)... 151.101.0.133, 151.101.64.133, 151.101.128.133, ...\n",
            "Connecting to raw.githubusercontent.com (raw.githubusercontent.com)|151.101.0.133|:443... connected.\n",
            "HTTP request sent, awaiting response... 200 OK\n",
            "Length: 253952 (248K) [application/octet-stream]\n",
            "Saving to: ‘rpg_db.sqlite3?raw=true’\n",
            "\n",
            "rpg_db.sqlite3?raw= 100%[===================>] 248.00K  --.-KB/s    in 0.05s   \n",
            "\n",
            "2019-08-14 20:30:59 (4.81 MB/s) - ‘rpg_db.sqlite3?raw=true’ saved [253952/253952]\n",
            "\n"
          ],
          "name": "stdout"
        }
      ]
    },
    {
      "cell_type": "code",
      "metadata": {
        "id": "0IUxcj2-_TVc",
        "colab_type": "code",
        "outputId": "c3efc20d-6761-4c2d-fd71-6783ef9b28be",
        "colab": {
          "base_uri": "https://localhost:8080/",
          "height": 119
        }
      },
      "source": [
        "!ls -alh"
      ],
      "execution_count": 10,
      "outputs": [
        {
          "output_type": "stream",
          "text": [
            "total 264K\n",
            "drwxr-xr-x 1 root root 4.0K Aug 14 20:30  .\n",
            "drwxr-xr-x 1 root root 4.0K Aug 14 20:29  ..\n",
            "drwxr-xr-x 1 root root 4.0K Aug 13 16:04  .config\n",
            "-rw-r--r-- 1 root root 248K Aug 14 20:30 'rpg_db.sqlite3?raw=true'\n",
            "drwxr-xr-x 1 root root 4.0K Aug  2 16:06  sample_data\n"
          ],
          "name": "stdout"
        }
      ]
    },
    {
      "cell_type": "code",
      "metadata": {
        "id": "VfVoU-JX_aRA",
        "colab_type": "code",
        "colab": {}
      },
      "source": [
        "!mv 'rpg_db.sqlite3?raw=true' rpg_db.sqlite3"
      ],
      "execution_count": 0,
      "outputs": []
    },
    {
      "cell_type": "code",
      "metadata": {
        "id": "qo_I8ofCnZUR",
        "colab_type": "code",
        "colab": {}
      },
      "source": [
        "import sqlite3\n",
        "sl_conn = sqlite3.connect('rpg_db.sqlite3')\n",
        "sl_curs = sl_conn.cursor()"
      ],
      "execution_count": 0,
      "outputs": []
    },
    {
      "cell_type": "code",
      "metadata": {
        "id": "44Ge2u8knkVl",
        "colab_type": "code",
        "outputId": "e1cb24c4-694c-4a2e-92f7-2cf593cc3683",
        "colab": {
          "base_uri": "https://localhost:8080/",
          "height": 34
        }
      },
      "source": [
        "sl_curs.execute('SELECT COUNT(*) FROM charactercreator_character;').fetchall()"
      ],
      "execution_count": 13,
      "outputs": [
        {
          "output_type": "execute_result",
          "data": {
            "text/plain": [
              "[(302,)]"
            ]
          },
          "metadata": {
            "tags": []
          },
          "execution_count": 13
        }
      ]
    },
    {
      "cell_type": "code",
      "metadata": {
        "id": "FnWfHonJns92",
        "colab_type": "code",
        "colab": {}
      },
      "source": [
        "character_weapon_count_average = 'SELECT COUNT(item_id) FROM armory_item;'"
      ],
      "execution_count": 0,
      "outputs": []
    },
    {
      "cell_type": "code",
      "metadata": {
        "id": "KBTrzZqtpSPs",
        "colab_type": "code",
        "outputId": "54e0ce03-92f3-4726-d3ba-8d93519b98da",
        "colab": {
          "base_uri": "https://localhost:8080/",
          "height": 34
        }
      },
      "source": [
        "sl_curs.execute(character_weapon_count_average).fetchall()"
      ],
      "execution_count": 16,
      "outputs": [
        {
          "output_type": "execute_result",
          "data": {
            "text/plain": [
              "[(174,)]"
            ]
          },
          "metadata": {
            "tags": []
          },
          "execution_count": 16
        }
      ]
    },
    {
      "cell_type": "code",
      "metadata": {
        "id": "OxKAvuZi-6or",
        "colab_type": "code",
        "colab": {}
      },
      "source": [
        "pg_conn.close()"
      ],
      "execution_count": 0,
      "outputs": []
    },
    {
      "cell_type": "code",
      "metadata": {
        "id": "zgvcQHWkpaVY",
        "colab_type": "code",
        "colab": {
          "base_uri": "https://localhost:8080/",
          "height": 272
        },
        "outputId": "fde7828b-3c72-4ab5-a79b-730638d24c0d"
      },
      "source": [
        "import pandas as pd\n",
        "import psycopg2\n",
        "\n",
        "df = pd.read_csv('https://github.com/zevan07/DS-Unit-3-Sprint-2-SQL-and-Databases/raw/master/module2-sql-for-analysis/titanic.csv')\n",
        "\n",
        "df.head()"
      ],
      "execution_count": 16,
      "outputs": [
        {
          "output_type": "execute_result",
          "data": {
            "text/html": [
              "<div>\n",
              "<style scoped>\n",
              "    .dataframe tbody tr th:only-of-type {\n",
              "        vertical-align: middle;\n",
              "    }\n",
              "\n",
              "    .dataframe tbody tr th {\n",
              "        vertical-align: top;\n",
              "    }\n",
              "\n",
              "    .dataframe thead th {\n",
              "        text-align: right;\n",
              "    }\n",
              "</style>\n",
              "<table border=\"1\" class=\"dataframe\">\n",
              "  <thead>\n",
              "    <tr style=\"text-align: right;\">\n",
              "      <th></th>\n",
              "      <th>Survived</th>\n",
              "      <th>Pclass</th>\n",
              "      <th>Name</th>\n",
              "      <th>Sex</th>\n",
              "      <th>Age</th>\n",
              "      <th>Siblings/Spouses Aboard</th>\n",
              "      <th>Parents/Children Aboard</th>\n",
              "      <th>Fare</th>\n",
              "    </tr>\n",
              "  </thead>\n",
              "  <tbody>\n",
              "    <tr>\n",
              "      <th>0</th>\n",
              "      <td>0</td>\n",
              "      <td>3</td>\n",
              "      <td>Mr. Owen Harris Braund</td>\n",
              "      <td>male</td>\n",
              "      <td>22.0</td>\n",
              "      <td>1</td>\n",
              "      <td>0</td>\n",
              "      <td>7.2500</td>\n",
              "    </tr>\n",
              "    <tr>\n",
              "      <th>1</th>\n",
              "      <td>1</td>\n",
              "      <td>1</td>\n",
              "      <td>Mrs. John Bradley (Florence Briggs Thayer) Cum...</td>\n",
              "      <td>female</td>\n",
              "      <td>38.0</td>\n",
              "      <td>1</td>\n",
              "      <td>0</td>\n",
              "      <td>71.2833</td>\n",
              "    </tr>\n",
              "    <tr>\n",
              "      <th>2</th>\n",
              "      <td>1</td>\n",
              "      <td>3</td>\n",
              "      <td>Miss. Laina Heikkinen</td>\n",
              "      <td>female</td>\n",
              "      <td>26.0</td>\n",
              "      <td>0</td>\n",
              "      <td>0</td>\n",
              "      <td>7.9250</td>\n",
              "    </tr>\n",
              "    <tr>\n",
              "      <th>3</th>\n",
              "      <td>1</td>\n",
              "      <td>1</td>\n",
              "      <td>Mrs. Jacques Heath (Lily May Peel) Futrelle</td>\n",
              "      <td>female</td>\n",
              "      <td>35.0</td>\n",
              "      <td>1</td>\n",
              "      <td>0</td>\n",
              "      <td>53.1000</td>\n",
              "    </tr>\n",
              "    <tr>\n",
              "      <th>4</th>\n",
              "      <td>0</td>\n",
              "      <td>3</td>\n",
              "      <td>Mr. William Henry Allen</td>\n",
              "      <td>male</td>\n",
              "      <td>35.0</td>\n",
              "      <td>0</td>\n",
              "      <td>0</td>\n",
              "      <td>8.0500</td>\n",
              "    </tr>\n",
              "  </tbody>\n",
              "</table>\n",
              "</div>"
            ],
            "text/plain": [
              "   Survived  Pclass  ... Parents/Children Aboard     Fare\n",
              "0         0       3  ...                       0   7.2500\n",
              "1         1       1  ...                       0  71.2833\n",
              "2         1       3  ...                       0   7.9250\n",
              "3         1       1  ...                       0  53.1000\n",
              "4         0       3  ...                       0   8.0500\n",
              "\n",
              "[5 rows x 8 columns]"
            ]
          },
          "metadata": {
            "tags": []
          },
          "execution_count": 16
        }
      ]
    },
    {
      "cell_type": "code",
      "metadata": {
        "id": "5OpJeYAy2L2O",
        "colab_type": "code",
        "colab": {}
      },
      "source": [
        "df['Name'] = df['Name'].str.replace(\"'\", '')\n",
        "df.columns = df.columns.str.replace('/', '_').str.replace(' ', '_').str.lower()"
      ],
      "execution_count": 0,
      "outputs": []
    },
    {
      "cell_type": "code",
      "metadata": {
        "id": "CQlEshT-PYye",
        "colab_type": "code",
        "colab": {
          "base_uri": "https://localhost:8080/",
          "height": 518
        },
        "outputId": "f3dfb063-99c3-48b6-f15e-00f9e7f56da5"
      },
      "source": [
        "df.head()"
      ],
      "execution_count": 31,
      "outputs": [
        {
          "output_type": "execute_result",
          "data": {
            "text/html": [
              "<div>\n",
              "<style scoped>\n",
              "    .dataframe tbody tr th:only-of-type {\n",
              "        vertical-align: middle;\n",
              "    }\n",
              "\n",
              "    .dataframe tbody tr th {\n",
              "        vertical-align: top;\n",
              "    }\n",
              "\n",
              "    .dataframe thead th {\n",
              "        text-align: right;\n",
              "    }\n",
              "</style>\n",
              "<table border=\"1\" class=\"dataframe\">\n",
              "  <thead>\n",
              "    <tr style=\"text-align: right;\">\n",
              "      <th></th>\n",
              "      <th>survived</th>\n",
              "      <th>pclass</th>\n",
              "      <th>name</th>\n",
              "      <th>sex</th>\n",
              "      <th>age</th>\n",
              "      <th>siblings_spouses_aboard</th>\n",
              "      <th>parents_children_aboard</th>\n",
              "      <th>fare</th>\n",
              "    </tr>\n",
              "  </thead>\n",
              "  <tbody>\n",
              "    <tr>\n",
              "      <th>0</th>\n",
              "      <td>0</td>\n",
              "      <td>3</td>\n",
              "      <td>Mr. Owen Harris Braund</td>\n",
              "      <td>male</td>\n",
              "      <td>22.0</td>\n",
              "      <td>1</td>\n",
              "      <td>0</td>\n",
              "      <td>7.2500</td>\n",
              "    </tr>\n",
              "    <tr>\n",
              "      <th>1</th>\n",
              "      <td>1</td>\n",
              "      <td>1</td>\n",
              "      <td>Mrs. John Bradley (Florence Briggs Thayer) Cum...</td>\n",
              "      <td>female</td>\n",
              "      <td>38.0</td>\n",
              "      <td>1</td>\n",
              "      <td>0</td>\n",
              "      <td>71.2833</td>\n",
              "    </tr>\n",
              "    <tr>\n",
              "      <th>2</th>\n",
              "      <td>1</td>\n",
              "      <td>3</td>\n",
              "      <td>Miss. Laina Heikkinen</td>\n",
              "      <td>female</td>\n",
              "      <td>26.0</td>\n",
              "      <td>0</td>\n",
              "      <td>0</td>\n",
              "      <td>7.9250</td>\n",
              "    </tr>\n",
              "    <tr>\n",
              "      <th>3</th>\n",
              "      <td>1</td>\n",
              "      <td>1</td>\n",
              "      <td>Mrs. Jacques Heath (Lily May Peel) Futrelle</td>\n",
              "      <td>female</td>\n",
              "      <td>35.0</td>\n",
              "      <td>1</td>\n",
              "      <td>0</td>\n",
              "      <td>53.1000</td>\n",
              "    </tr>\n",
              "    <tr>\n",
              "      <th>4</th>\n",
              "      <td>0</td>\n",
              "      <td>3</td>\n",
              "      <td>Mr. William Henry Allen</td>\n",
              "      <td>male</td>\n",
              "      <td>35.0</td>\n",
              "      <td>0</td>\n",
              "      <td>0</td>\n",
              "      <td>8.0500</td>\n",
              "    </tr>\n",
              "  </tbody>\n",
              "</table>\n",
              "</div>"
            ],
            "text/plain": [
              "   survived  pclass  ... parents_children_aboard     fare\n",
              "0         0       3  ...                       0   7.2500\n",
              "1         1       1  ...                       0  71.2833\n",
              "2         1       3  ...                       0   7.9250\n",
              "3         1       1  ...                       0  53.1000\n",
              "4         0       3  ...                       0   8.0500\n",
              "\n",
              "[5 rows x 8 columns]"
            ]
          },
          "metadata": {
            "tags": []
          },
          "execution_count": 31
        }
      ]
    },
    {
      "cell_type": "code",
      "metadata": {
        "id": "fhqWljEADdR3",
        "colab_type": "code",
        "colab": {}
      },
      "source": [
        "create_passenger_table = '''\n",
        "    CREATE TABLE titanic_passenger (\n",
        "        survived INT,\n",
        "        pclass INT,\n",
        "        name VARCHAR(30),\n",
        "        sex VARCHAR(30),\n",
        "        siblings_spouses INT,\n",
        "        parents_children INT,\n",
        "        fare NUMERIC\n",
        "        );\n",
        "'''"
      ],
      "execution_count": 0,
      "outputs": []
    },
    {
      "cell_type": "code",
      "metadata": {
        "id": "eVTrL21kHJG6",
        "colab_type": "code",
        "colab": {}
      },
      "source": [
        "dbname = 'ywzfehtm'\n",
        "user = 'ywzfehtm'\n",
        "password = '3epT6NgVCfkGAnxq3Y1-6uYVK7Mf2esj'  # Don't commit this!\n",
        "host = 'raja.db.elephantsql.com'"
      ],
      "execution_count": 0,
      "outputs": []
    },
    {
      "cell_type": "code",
      "metadata": {
        "id": "6fidcaH7_BHN",
        "colab_type": "code",
        "colab": {}
      },
      "source": [
        "pg_conn = psycopg2.connect(dbname=dbname, user=user,\n",
        "                           password=password, host=host)"
      ],
      "execution_count": 0,
      "outputs": []
    },
    {
      "cell_type": "code",
      "metadata": {
        "id": "VLMh7QEKNfjk",
        "colab_type": "code",
        "colab": {}
      },
      "source": [
        "pg_curs = pg_conn.cursor()"
      ],
      "execution_count": 0,
      "outputs": []
    },
    {
      "cell_type": "code",
      "metadata": {
        "id": "byEeveYAFYM0",
        "colab_type": "code",
        "colab": {
          "base_uri": "https://localhost:8080/",
          "height": 164
        },
        "outputId": "9460098f-e877-47b3-d2db-0f2eb5be262b"
      },
      "source": [
        "pg_curs.execute(create_passenger_table)"
      ],
      "execution_count": 33,
      "outputs": [
        {
          "output_type": "error",
          "ename": "DuplicateTable",
          "evalue": "ignored",
          "traceback": [
            "\u001b[0;31m---------------------------------------------------------------------------\u001b[0m",
            "\u001b[0;31mDuplicateTable\u001b[0m                            Traceback (most recent call last)",
            "\u001b[0;32m<ipython-input-33-f9d7ad06fed4>\u001b[0m in \u001b[0;36m<module>\u001b[0;34m()\u001b[0m\n\u001b[0;32m----> 1\u001b[0;31m \u001b[0mpg_curs\u001b[0m\u001b[0;34m.\u001b[0m\u001b[0mexecute\u001b[0m\u001b[0;34m(\u001b[0m\u001b[0mcreate_passenger_table\u001b[0m\u001b[0;34m)\u001b[0m\u001b[0;34m\u001b[0m\u001b[0;34m\u001b[0m\u001b[0m\n\u001b[0m",
            "\u001b[0;31mDuplicateTable\u001b[0m: relation \"titanic_passenger\" already exists\n"
          ]
        }
      ]
    },
    {
      "cell_type": "code",
      "metadata": {
        "id": "Tg9M8O1WHBfD",
        "colab_type": "code",
        "colab": {}
      },
      "source": [
        "from sqlalchemy import create_engine\n",
        "engine = create_engine(f'postgresql+psycopg2://{user}:{password}@{host}/{dbname}')"
      ],
      "execution_count": 0,
      "outputs": []
    },
    {
      "cell_type": "code",
      "metadata": {
        "id": "uUnnl5jC2qjQ",
        "colab_type": "code",
        "colab": {}
      },
      "source": [
        "df.to_sql('titanic', engine, if_exists='replace')"
      ],
      "execution_count": 0,
      "outputs": []
    },
    {
      "cell_type": "code",
      "metadata": {
        "id": "ybSpjotDU55D",
        "colab_type": "code",
        "colab": {}
      },
      "source": [
        "pg_conn.commit()"
      ],
      "execution_count": 0,
      "outputs": []
    },
    {
      "cell_type": "code",
      "metadata": {
        "id": "d7TrGP9k72Hy",
        "colab_type": "code",
        "colab": {
          "base_uri": "https://localhost:8080/",
          "height": 34
        },
        "outputId": "c011677e-af2c-410d-9564-ba1ab197afa6"
      },
      "source": [
        "pg_curs.execute('SELECT COUNT(*) FROM titanic;')\n",
        "pg_curs.fetchall()"
      ],
      "execution_count": 44,
      "outputs": [
        {
          "output_type": "execute_result",
          "data": {
            "text/plain": [
              "[(887,)]"
            ]
          },
          "metadata": {
            "tags": []
          },
          "execution_count": 44
        }
      ]
    },
    {
      "cell_type": "code",
      "metadata": {
        "id": "U0SD82HXIHot",
        "colab_type": "code",
        "colab": {}
      },
      "source": [
        ""
      ],
      "execution_count": 0,
      "outputs": []
    }
  ]
}
