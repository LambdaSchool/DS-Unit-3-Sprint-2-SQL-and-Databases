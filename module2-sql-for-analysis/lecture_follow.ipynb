{
 "cells": [
  {
   "cell_type": "code",
   "execution_count": 12,
   "metadata": {},
   "outputs": [
    {
     "name": "stdout",
     "output_type": "stream",
     "text": [
      "[(1, 'A row name', None), (2, 'Another row, with JSON', {u'a': 1, u'c': True, u'b': [u'dog', u'cat', 42]}), (3, 'A row name', None), (4, 'Another row, with JSON', {u'a': 1, u'c': True, u'b': [u'dog', u'cat', 42]})]\n",
      "(1, u'Aliquid iste optio reiciendi', 0, 0, 10, 1, 1, 1, 1)\n",
      "[]\n"
     ]
    },
    {
     "ename": "UndefinedObject",
     "evalue": "type \"u\" does not exist\nLINE 4:     VALUES(u'Aliquid iste optio reiciendi', 0, 0, 10, 1, 1, ...\n                   ^\n",
     "output_type": "error",
     "traceback": [
      "\u001b[0;31m---------------------------------------------------------------------------\u001b[0m",
      "\u001b[0;31mUndefinedObject\u001b[0m                           Traceback (most recent call last)",
      "\u001b[0;32m<ipython-input-12-528706a37a63>\u001b[0m in \u001b[0;36m<module>\u001b[0;34m()\u001b[0m\n\u001b[1;32m     45\u001b[0m     name, level, exp, hp, strength, intelligence, dexterity, wisdom)\n\u001b[1;32m     46\u001b[0m     VALUES''' + str(result[1:]) \n\u001b[0;32m---> 47\u001b[0;31m     \u001b[0mcurs\u001b[0m\u001b[0;34m.\u001b[0m\u001b[0mexecute\u001b[0m\u001b[0;34m(\u001b[0m\u001b[0minsert_result\u001b[0m\u001b[0;34m)\u001b[0m\u001b[0;34m\u001b[0m\u001b[0m\n\u001b[0m\u001b[1;32m     48\u001b[0m \u001b[0;34m\u001b[0m\u001b[0m\n\u001b[1;32m     49\u001b[0m \u001b[0mconn\u001b[0m\u001b[0;34m.\u001b[0m\u001b[0mcommit\u001b[0m\u001b[0;34m(\u001b[0m\u001b[0;34m)\u001b[0m\u001b[0;34m\u001b[0m\u001b[0m\n",
      "\u001b[0;31mUndefinedObject\u001b[0m: type \"u\" does not exist\nLINE 4:     VALUES(u'Aliquid iste optio reiciendi', 0, 0, 10, 1, 1, ...\n                   ^\n"
     ]
    }
   ],
   "source": [
    "import psycopg2\n",
    "import sqlite3\n",
    "\n",
    "db = 'dmxjhuyi'\n",
    "user = 'dmxjhuyi'\n",
    "password = '9BkmoGd2NBRati2ZzldPt-8IS-KYZXXo'  # Don't commit!\n",
    "host = 'motty.db.elephantsql.com'\n",
    "\n",
    "conn = psycopg2.connect(dbname=db, user=user,\n",
    "                        password=password, host=host)\n",
    "\n",
    "curs = conn.cursor()\n",
    "\n",
    "curs.execute('''SELECT * FROM test_table''')\n",
    "print(curs.fetchall())\n",
    "\n",
    "sq_conn = sqlite3.connect('rpg_db.sqlite3')\n",
    "sq_curs = sq_conn.cursor()\n",
    "characters = sq_curs.execute('''SELECT * FROM charactercreator_character''')\n",
    "characters = characters.fetchall()\n",
    "print(characters[0])\n",
    "\n",
    "create_character_table = '''\n",
    "Create table character_creator_character (\n",
    "    character_id SERIAL PRIMARY KEY,\n",
    "    name VARCHAR(30),\n",
    "    level INT,\n",
    "    exp INT,\n",
    "    hp INT,\n",
    "    strength INT,\n",
    "    intelligence INT,\n",
    "    dexterity INT,\n",
    "    wisdom INT\n",
    "    )\n",
    "    '''\n",
    "curs.execute(create_character_table)\n",
    "\n",
    "curs.execute('''SELECT * FROM character_creator_character''')\n",
    "print(curs.fetchall())\n",
    "\n",
    "# Loop over and insert results.\n",
    "for result in characters:\n",
    "    insert_result = '''\n",
    "    INSERT INTO character_creator_character (\n",
    "    name, level, exp, hp, strength, intelligence, dexterity, wisdom)\n",
    "    VALUES''' + str(result[1:]) \n",
    "    curs.execute(insert_result)\n",
    "\n",
    "conn.commit()\n",
    "\n",
    "curs.execute('''SELECT * FROM character_creator_character''')\n",
    "query = curs.fetchall()\n",
    "print(query)\n",
    "\n",
    "print(query[0])\n",
    "\n"
   ]
  },
  {
   "cell_type": "code",
   "execution_count": null,
   "metadata": {},
   "outputs": [],
   "source": []
  },
  {
   "cell_type": "code",
   "execution_count": null,
   "metadata": {},
   "outputs": [],
   "source": []
  }
 ],
 "metadata": {
  "kernelspec": {
   "display_name": "Python 3",
   "language": "python",
   "name": "python3"
  },
  "language_info": {
   "codemirror_mode": {
    "name": "ipython",
    "version": 2
   },
   "file_extension": ".py",
   "mimetype": "text/x-python",
   "name": "python",
   "nbconvert_exporter": "python",
   "pygments_lexer": "ipython2",
   "version": "2.7.16"
  }
 },
 "nbformat": 4,
 "nbformat_minor": 2
}
