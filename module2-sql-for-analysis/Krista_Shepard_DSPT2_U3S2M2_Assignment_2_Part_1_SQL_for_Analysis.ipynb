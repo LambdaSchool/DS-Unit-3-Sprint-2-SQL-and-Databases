{
  "nbformat": 4,
  "nbformat_minor": 0,
  "metadata": {
    "colab": {
      "name": "Krista Shepard DSPT2 U3S2M2 - Assignment 2 Part 1 - SQL for Analysis.ipynb",
      "provenance": [],
      "collapsed_sections": [],
      "include_colab_link": true
    },
    "kernelspec": {
      "name": "python3",
      "display_name": "Python 3"
    }
  },
  "cells": [
    {
      "cell_type": "markdown",
      "metadata": {
        "id": "view-in-github",
        "colab_type": "text"
      },
      "source": [
        "<a href=\"https://colab.research.google.com/github/KryssyCo/DS-Unit-3-Sprint-2-SQL-and-Databases/blob/master/Krista_Shepard_DSPT2_U3S2M2_Assignment_2_Part_1_SQL_for_Analysis.ipynb\" target=\"_parent\"><img src=\"https://colab.research.google.com/assets/colab-badge.svg\" alt=\"Open In Colab\"/></a>"
      ]
    },
    {
      "cell_type": "markdown",
      "metadata": {
        "id": "zJoAGrDlwTKR",
        "colab_type": "text"
      },
      "source": [
        "### Connecting to elephantsql through python"
      ]
    },
    {
      "cell_type": "code",
      "metadata": {
        "id": "amms_U_tt-E6",
        "colab_type": "code",
        "outputId": "1fb9eec1-529d-482d-efe9-68a6954b3e23",
        "colab": {
          "base_uri": "https://localhost:8080/",
          "height": 34
        }
      },
      "source": [
        "# A package that allows us to pull from the elephant SQL website\n",
        "! pip install psycopg2-binary"
      ],
      "execution_count": 0,
      "outputs": [
        {
          "output_type": "stream",
          "text": [
            "Requirement already satisfied: psycopg2-binary in /usr/local/lib/python3.6/dist-packages (2.8.4)\n"
          ],
          "name": "stdout"
        }
      ]
    },
    {
      "cell_type": "code",
      "metadata": {
        "id": "gwe-JQyEwh52",
        "colab_type": "code",
        "colab": {}
      },
      "source": [
        "import psycopg2"
      ],
      "execution_count": 0,
      "outputs": []
    },
    {
      "cell_type": "code",
      "metadata": {
        "id": "HQE8S43ZwuDP",
        "colab_type": "code",
        "outputId": "8f414df4-03c5-4e32-a5cd-4c5e3b01cc9d",
        "colab": {
          "base_uri": "https://localhost:8080/",
          "height": 799
        }
      },
      "source": [
        "dir(psycopg2)"
      ],
      "execution_count": 0,
      "outputs": [
        {
          "output_type": "execute_result",
          "data": {
            "text/plain": [
              "['BINARY',\n",
              " 'Binary',\n",
              " 'DATETIME',\n",
              " 'DataError',\n",
              " 'DatabaseError',\n",
              " 'Date',\n",
              " 'DateFromTicks',\n",
              " 'Error',\n",
              " 'IntegrityError',\n",
              " 'InterfaceError',\n",
              " 'InternalError',\n",
              " 'NUMBER',\n",
              " 'NotSupportedError',\n",
              " 'OperationalError',\n",
              " 'ProgrammingError',\n",
              " 'ROWID',\n",
              " 'STRING',\n",
              " 'Time',\n",
              " 'TimeFromTicks',\n",
              " 'Timestamp',\n",
              " 'TimestampFromTicks',\n",
              " 'Warning',\n",
              " '__builtins__',\n",
              " '__cached__',\n",
              " '__doc__',\n",
              " '__file__',\n",
              " '__libpq_version__',\n",
              " '__loader__',\n",
              " '__name__',\n",
              " '__package__',\n",
              " '__path__',\n",
              " '__spec__',\n",
              " '__version__',\n",
              " '_connect',\n",
              " '_ext',\n",
              " '_json',\n",
              " '_psycopg',\n",
              " '_range',\n",
              " 'apilevel',\n",
              " 'compat',\n",
              " 'connect',\n",
              " 'errors',\n",
              " 'extensions',\n",
              " 'paramstyle',\n",
              " 'threadsafety',\n",
              " 'tz']"
            ]
          },
          "metadata": {
            "tags": []
          },
          "execution_count": 3
        }
      ]
    },
    {
      "cell_type": "code",
      "metadata": {
        "id": "WgDy16qUwzKR",
        "colab_type": "code",
        "outputId": "118f479c-a782-4308-c302-d867ae21e56f",
        "colab": {
          "base_uri": "https://localhost:8080/",
          "height": 612
        }
      },
      "source": [
        "help(psycopg2.connect)"
      ],
      "execution_count": 0,
      "outputs": [
        {
          "output_type": "stream",
          "text": [
            "Help on function connect in module psycopg2:\n",
            "\n",
            "connect(dsn=None, connection_factory=None, cursor_factory=None, **kwargs)\n",
            "    Create a new database connection.\n",
            "    \n",
            "    The connection parameters can be specified as a string:\n",
            "    \n",
            "        conn = psycopg2.connect(\"dbname=test user=postgres password=secret\")\n",
            "    \n",
            "    or using a set of keyword arguments:\n",
            "    \n",
            "        conn = psycopg2.connect(database=\"test\", user=\"postgres\", password=\"secret\")\n",
            "    \n",
            "    Or as a mix of both. The basic connection parameters are:\n",
            "    \n",
            "    - *dbname*: the database name\n",
            "    - *database*: the database name (only as keyword argument)\n",
            "    - *user*: user name used to authenticate\n",
            "    - *password*: password used to authenticate\n",
            "    - *host*: database host address (defaults to UNIX socket if not provided)\n",
            "    - *port*: connection port number (defaults to 5432 if not provided)\n",
            "    \n",
            "    Using the *connection_factory* parameter a different class or connections\n",
            "    factory can be specified. It should be a callable object taking a dsn\n",
            "    argument.\n",
            "    \n",
            "    Using the *cursor_factory* parameter, a new default cursor factory will be\n",
            "    used by cursor().\n",
            "    \n",
            "    Using *async*=True an asynchronous connection will be created. *async_* is\n",
            "    a valid alias (for Python versions where ``async`` is a keyword).\n",
            "    \n",
            "    Any other keyword parameter will be passed to the underlying client\n",
            "    library: the list of supported parameters depends on the library version.\n",
            "\n"
          ],
          "name": "stdout"
        }
      ]
    },
    {
      "cell_type": "code",
      "metadata": {
        "id": "-tho4qV_xFk5",
        "colab_type": "code",
        "colab": {}
      },
      "source": [
        "# Pulled this info from the elephantsql website just copied and pasted\n",
        "dbname = 'zvineetb'\n",
        "user = 'zvineetb'\n",
        "password = 'TODO' # Put top secret password here\n",
        "host = 'raja.db.elephantsql.com'"
      ],
      "execution_count": 0,
      "outputs": []
    },
    {
      "cell_type": "code",
      "metadata": {
        "id": "QNCs_xAzx21w",
        "colab_type": "code",
        "colab": {}
      },
      "source": [
        "conn = psycopg2.connect(dbname = dbname, user = user, password = password,\n",
        "                        host = host)"
      ],
      "execution_count": 0,
      "outputs": []
    },
    {
      "cell_type": "code",
      "metadata": {
        "id": "7CAdVq0WygL_",
        "colab_type": "code",
        "colab": {}
      },
      "source": [
        "del conn"
      ],
      "execution_count": 0,
      "outputs": []
    },
    {
      "cell_type": "code",
      "metadata": {
        "id": "Myh3v7Wgyhuv",
        "colab_type": "code",
        "colab": {}
      },
      "source": [
        "# The postgres connection that connects to elephantsql\n",
        "pg_conn = psycopg2.connect(dbname = dbname, user = user, password = password,\n",
        "                        host = host)"
      ],
      "execution_count": 0,
      "outputs": []
    },
    {
      "cell_type": "code",
      "metadata": {
        "id": "-t0L49CdyxWe",
        "colab_type": "code",
        "colab": {}
      },
      "source": [
        "# Created the cursor\n",
        "pg_curs = pg_conn.cursor()"
      ],
      "execution_count": 0,
      "outputs": []
    },
    {
      "cell_type": "code",
      "metadata": {
        "id": "NGiNZCC7zguG",
        "colab_type": "code",
        "colab": {}
      },
      "source": [
        "# Now you can execute commands from it\n",
        "pg_curs.execute('SELECT * FROM test_table;')"
      ],
      "execution_count": 0,
      "outputs": []
    },
    {
      "cell_type": "code",
      "metadata": {
        "id": "wWaSXkrbzqYx",
        "colab_type": "code",
        "outputId": "8bebfcb1-85d8-442a-a9bd-a21298e54b1e",
        "colab": {
          "base_uri": "https://localhost:8080/",
          "height": 34
        }
      },
      "source": [
        "# This lets us see the test_table we created in elephantsql\n",
        "pg_curs.fetchall()"
      ],
      "execution_count": 0,
      "outputs": [
        {
          "output_type": "execute_result",
          "data": {
            "text/plain": [
              "[(2, 'Another row with JSON', {'a': 1, 'b': ['dog', 'cat', 42], 'c': True})]"
            ]
          },
          "metadata": {
            "tags": []
          },
          "execution_count": 11
        }
      ]
    },
    {
      "cell_type": "code",
      "metadata": {
        "id": "nffsRZrJzuDW",
        "colab_type": "code",
        "outputId": "812b11e9-c72d-4b92-897d-a74cd4474f7c",
        "colab": {
          "base_uri": "https://localhost:8080/",
          "height": 377
        }
      },
      "source": [
        "# Stepped aside from elephantsql and pulled the rpg db from github and used sqlite to look at it\n",
        "!wget https://github.com/KryssyCo/DS-Unit-3-Sprint-2-SQL-and-Databases/blob/master/module1-introduction-to-sql/rpg_db.sqlite3?raw=true\n"
      ],
      "execution_count": 0,
      "outputs": [
        {
          "output_type": "stream",
          "text": [
            "--2019-11-15 22:33:31--  https://github.com/KryssyCo/DS-Unit-3-Sprint-2-SQL-and-Databases/blob/master/module1-introduction-to-sql/rpg_db.sqlite3?raw=true\n",
            "Resolving github.com (github.com)... 140.82.114.3\n",
            "Connecting to github.com (github.com)|140.82.114.3|:443... connected.\n",
            "HTTP request sent, awaiting response... 302 Found\n",
            "Location: https://github.com/KryssyCo/DS-Unit-3-Sprint-2-SQL-and-Databases/raw/master/module1-introduction-to-sql/rpg_db.sqlite3 [following]\n",
            "--2019-11-15 22:33:32--  https://github.com/KryssyCo/DS-Unit-3-Sprint-2-SQL-and-Databases/raw/master/module1-introduction-to-sql/rpg_db.sqlite3\n",
            "Reusing existing connection to github.com:443.\n",
            "HTTP request sent, awaiting response... 302 Found\n",
            "Location: https://raw.githubusercontent.com/KryssyCo/DS-Unit-3-Sprint-2-SQL-and-Databases/master/module1-introduction-to-sql/rpg_db.sqlite3 [following]\n",
            "--2019-11-15 22:33:32--  https://raw.githubusercontent.com/KryssyCo/DS-Unit-3-Sprint-2-SQL-and-Databases/master/module1-introduction-to-sql/rpg_db.sqlite3\n",
            "Resolving raw.githubusercontent.com (raw.githubusercontent.com)... 151.101.0.133, 151.101.64.133, 151.101.128.133, ...\n",
            "Connecting to raw.githubusercontent.com (raw.githubusercontent.com)|151.101.0.133|:443... connected.\n",
            "HTTP request sent, awaiting response... 200 OK\n",
            "Length: 253952 (248K) [application/octet-stream]\n",
            "Saving to: ‘rpg_db.sqlite3?raw=true’\n",
            "\n",
            "rpg_db.sqlite3?raw= 100%[===================>] 248.00K  --.-KB/s    in 0.05s   \n",
            "\n",
            "2019-11-15 22:33:32 (4.72 MB/s) - ‘rpg_db.sqlite3?raw=true’ saved [253952/253952]\n",
            "\n"
          ],
          "name": "stdout"
        }
      ]
    },
    {
      "cell_type": "code",
      "metadata": {
        "id": "BxTS8m7p29Dq",
        "colab_type": "code",
        "outputId": "5599d82e-ef40-45b7-b370-dd2dd16500c2",
        "colab": {
          "base_uri": "https://localhost:8080/",
          "height": 136
        }
      },
      "source": [
        "# It was already in sqlite form.\n",
        "!ls -alh"
      ],
      "execution_count": 0,
      "outputs": [
        {
          "output_type": "stream",
          "text": [
            "total 512K\n",
            "drwxr-xr-x 1 root root 4.0K Nov 15 22:33  .\n",
            "drwxr-xr-x 1 root root 4.0K Nov 15 20:27  ..\n",
            "drwxr-xr-x 1 root root 4.0K Nov 12 16:16  .config\n",
            "-rw-r--r-- 1 root root 248K Nov 15 22:24  rpg_db.sqlite3\n",
            "-rw-r--r-- 1 root root 248K Nov 15 22:33 'rpg_db.sqlite3?raw=true'\n",
            "drwxr-xr-x 1 root root 4.0K Nov  6 16:17  sample_data\n"
          ],
          "name": "stdout"
        }
      ]
    },
    {
      "cell_type": "code",
      "metadata": {
        "id": "3isOY5EU3Gtq",
        "colab_type": "code",
        "colab": {}
      },
      "source": [
        "# renamed it\n",
        "!mv 'rpg_db.sqlite3?raw=true' rpg_db.sqlite3"
      ],
      "execution_count": 0,
      "outputs": []
    },
    {
      "cell_type": "code",
      "metadata": {
        "id": "Yjqspdzz4HCI",
        "colab_type": "code",
        "colab": {}
      },
      "source": [
        "import sqlite3"
      ],
      "execution_count": 0,
      "outputs": []
    },
    {
      "cell_type": "code",
      "metadata": {
        "id": "KHoB8I_v3YjI",
        "colab_type": "code",
        "colab": {}
      },
      "source": [
        "# established connection\n",
        "sl_conn = sqlite3.connect('rpg_db.sqlite3')"
      ],
      "execution_count": 0,
      "outputs": []
    },
    {
      "cell_type": "code",
      "metadata": {
        "id": "7t99W5Dq4J2h",
        "colab_type": "code",
        "colab": {}
      },
      "source": [
        "# created the cursor\n",
        "sl_curs = sl_conn.cursor()"
      ],
      "execution_count": 0,
      "outputs": []
    },
    {
      "cell_type": "code",
      "metadata": {
        "id": "CRExmHBk4cAK",
        "colab_type": "code",
        "outputId": "e4a707be-5a96-4349-e321-7de924544f72",
        "colab": {
          "base_uri": "https://localhost:8080/",
          "height": 34
        }
      },
      "source": [
        "#Executed command from cursor\n",
        "sl_curs.execute('SELECT COUNT (*) FROM charactercreator_character;').fetchall()"
      ],
      "execution_count": 0,
      "outputs": [
        {
          "output_type": "execute_result",
          "data": {
            "text/plain": [
              "[(302,)]"
            ]
          },
          "metadata": {
            "tags": []
          },
          "execution_count": 18
        }
      ]
    },
    {
      "cell_type": "code",
      "metadata": {
        "id": "wMY_lTLW5Fct",
        "colab_type": "code",
        "outputId": "ac293655-1112-4dc0-8669-35fdc8d4c838",
        "colab": {
          "base_uri": "https://localhost:8080/",
          "height": 34
        }
      },
      "source": [
        "#Executed command from cursor\n",
        "sl_curs.execute('SELECT COUNT (DISTINCT name) FROM charactercreator_character;').fetchall()"
      ],
      "execution_count": 0,
      "outputs": [
        {
          "output_type": "execute_result",
          "data": {
            "text/plain": [
              "[(297,)]"
            ]
          },
          "metadata": {
            "tags": []
          },
          "execution_count": 19
        }
      ]
    },
    {
      "cell_type": "code",
      "metadata": {
        "id": "kXFLrF3g5lfX",
        "colab_type": "code",
        "colab": {}
      },
      "source": [
        "#Executed command from cursor\n",
        "characters = sl_curs.execute('SELECT * FROM charactercreator_character;').fetchall()"
      ],
      "execution_count": 0,
      "outputs": []
    },
    {
      "cell_type": "code",
      "metadata": {
        "id": "oo3z8h445-R2",
        "colab_type": "code",
        "outputId": "af4517fc-4cc4-4a84-f3cb-6008037ce862",
        "colab": {
          "base_uri": "https://localhost:8080/",
          "height": 68
        }
      },
      "source": [
        "# Looked at different rows\n",
        "print(characters[1])\n",
        "print(characters[2])\n",
        "characters[0]"
      ],
      "execution_count": 0,
      "outputs": [
        {
          "output_type": "stream",
          "text": [
            "(2, 'Optio dolorem ex a', 0, 0, 10, 1, 1, 1, 1)\n",
            "(3, 'Minus c', 0, 0, 10, 1, 1, 1, 1)\n"
          ],
          "name": "stdout"
        },
        {
          "output_type": "execute_result",
          "data": {
            "text/plain": [
              "(1, 'Aliquid iste optio reiciendi', 0, 0, 10, 1, 1, 1, 1)"
            ]
          },
          "metadata": {
            "tags": []
          },
          "execution_count": 21
        }
      ]
    },
    {
      "cell_type": "code",
      "metadata": {
        "id": "wz8sOKj36YmW",
        "colab_type": "code",
        "outputId": "4b1a9ae8-2694-42cd-968c-adf3b0544224",
        "colab": {
          "base_uri": "https://localhost:8080/",
          "height": 34
        }
      },
      "source": [
        "# Looked at the last row\n",
        "characters[-1]"
      ],
      "execution_count": 0,
      "outputs": [
        {
          "output_type": "execute_result",
          "data": {
            "text/plain": [
              "(302, 'Aliquam n', 0, 0, 10, 1, 1, 1, 1)"
            ]
          },
          "metadata": {
            "tags": []
          },
          "execution_count": 22
        }
      ]
    },
    {
      "cell_type": "code",
      "metadata": {
        "id": "70NHpQ1a6hzc",
        "colab_type": "code",
        "outputId": "e10d5dc0-27b1-4e8a-dacc-751f1ccfed34",
        "colab": {
          "base_uri": "https://localhost:8080/",
          "height": 34
        }
      },
      "source": [
        "# Another way to get the length of the characters\n",
        "len(characters)"
      ],
      "execution_count": 0,
      "outputs": [
        {
          "output_type": "execute_result",
          "data": {
            "text/plain": [
              "302"
            ]
          },
          "metadata": {
            "tags": []
          },
          "execution_count": 23
        }
      ]
    },
    {
      "cell_type": "code",
      "metadata": {
        "id": "CgKppB_D65bV",
        "colab_type": "code",
        "outputId": "ba6bbfc0-1f5e-4539-a11a-b4890141a1ee",
        "colab": {
          "base_uri": "https://localhost:8080/",
          "height": 170
        }
      },
      "source": [
        "# Used sqlite to get the schema for the table from rpg data base\n",
        "sl_curs.execute('PRAGMA table_info(charactercreator_character);').fetchall()"
      ],
      "execution_count": 0,
      "outputs": [
        {
          "output_type": "execute_result",
          "data": {
            "text/plain": [
              "[(0, 'character_id', 'integer', 1, None, 1),\n",
              " (1, 'name', 'varchar(30)', 1, None, 0),\n",
              " (2, 'level', 'integer', 1, None, 0),\n",
              " (3, 'exp', 'integer', 1, None, 0),\n",
              " (4, 'hp', 'integer', 1, None, 0),\n",
              " (5, 'strength', 'integer', 1, None, 0),\n",
              " (6, 'intelligence', 'integer', 1, None, 0),\n",
              " (7, 'dexterity', 'integer', 1, None, 0),\n",
              " (8, 'wisdom', 'integer', 1, None, 0)]"
            ]
          },
          "metadata": {
            "tags": []
          },
          "execution_count": 24
        }
      ]
    },
    {
      "cell_type": "code",
      "metadata": {
        "id": "leqiarIP8Ahg",
        "colab_type": "code",
        "colab": {}
      },
      "source": [
        "# change types to move into postgres\n",
        "\n",
        "create_character_table = \"\"\" \n",
        "CREATE TABLE charactercreator_character(\n",
        "  character_id SERIAL PRIMARY KEY,\n",
        "  name VARCHAR(30),\n",
        "  level INT,\n",
        "  exp INT,\n",
        "  hp INT,\n",
        "  strength INT,\n",
        "  intelligence INT,\n",
        "  dexterity INT,\n",
        "  wisdom INT\n",
        ");\n",
        "\"\"\"\n"
      ],
      "execution_count": 0,
      "outputs": []
    },
    {
      "cell_type": "code",
      "metadata": {
        "id": "ZqaY1fxa8LJn",
        "colab_type": "code",
        "outputId": "b7b48693-bb29-48e5-804c-dfaa55a708da",
        "colab": {
          "base_uri": "https://localhost:8080/",
          "height": 163
        }
      },
      "source": [
        "# Switched back to elephant sql\n",
        "# This created an empty table in elephant sql called character_creator_character\n",
        "pg_curs.execute(create_character_table)"
      ],
      "execution_count": 0,
      "outputs": [
        {
          "output_type": "error",
          "ename": "DuplicateTable",
          "evalue": "ignored",
          "traceback": [
            "\u001b[0;31m---------------------------------------------------------------------------\u001b[0m",
            "\u001b[0;31mDuplicateTable\u001b[0m                            Traceback (most recent call last)",
            "\u001b[0;32m<ipython-input-26-ce45adb6c7f3>\u001b[0m in \u001b[0;36m<module>\u001b[0;34m()\u001b[0m\n\u001b[0;32m----> 1\u001b[0;31m \u001b[0mpg_curs\u001b[0m\u001b[0;34m.\u001b[0m\u001b[0mexecute\u001b[0m\u001b[0;34m(\u001b[0m\u001b[0mcreate_character_table\u001b[0m\u001b[0;34m)\u001b[0m\u001b[0;34m\u001b[0m\u001b[0;34m\u001b[0m\u001b[0m\n\u001b[0m",
            "\u001b[0;31mDuplicateTable\u001b[0m: relation \"charactercreator_character\" already exists\n"
          ]
        }
      ]
    },
    {
      "cell_type": "code",
      "metadata": {
        "id": "tlvSUeeM9IB8",
        "colab_type": "code",
        "colab": {}
      },
      "source": [
        "# The next few steps show that the table is in elepphant sql now\n",
        "show_tables = \"\"\"\n",
        "SELECT *\n",
        "FROM pg_catalog.pg_tables\n",
        "WHERE schemaname != 'pg_catalog'\n",
        "AND schemaname != 'information_schema';\n",
        "\"\"\""
      ],
      "execution_count": 0,
      "outputs": []
    },
    {
      "cell_type": "code",
      "metadata": {
        "id": "__LrpEvB9lMq",
        "colab_type": "code",
        "colab": {}
      },
      "source": [
        "pg_curs.execute(show_tables)"
      ],
      "execution_count": 0,
      "outputs": []
    },
    {
      "cell_type": "code",
      "metadata": {
        "id": "ECBeN7Na9rPr",
        "colab_type": "code",
        "outputId": "9f5cc15a-cb26-418d-8682-c026ec5f6114",
        "colab": {
          "base_uri": "https://localhost:8080/",
          "height": 170
        }
      },
      "source": [
        "pg_curs.fetchall()"
      ],
      "execution_count": 0,
      "outputs": [
        {
          "output_type": "execute_result",
          "data": {
            "text/plain": [
              "[('public', 'test_table', 'zvineetb', None, True, False, False, False),\n",
              " ('public',\n",
              "  'charactercreator_character',\n",
              "  'zvineetb',\n",
              "  None,\n",
              "  True,\n",
              "  False,\n",
              "  False,\n",
              "  False)]"
            ]
          },
          "metadata": {
            "tags": []
          },
          "execution_count": 38
        }
      ]
    },
    {
      "cell_type": "code",
      "metadata": {
        "id": "GQlGCh4L-O8a",
        "colab_type": "code",
        "outputId": "7490c3b8-61ca-43bb-813e-806738c1c67e",
        "colab": {
          "base_uri": "https://localhost:8080/",
          "height": 34
        }
      },
      "source": [
        "# Insert characters into the table\n",
        "characters[0]"
      ],
      "execution_count": 0,
      "outputs": [
        {
          "output_type": "execute_result",
          "data": {
            "text/plain": [
              "(1, 'Aliquid iste optio reiciendi', 0, 0, 10, 1, 1, 1, 1)"
            ]
          },
          "metadata": {
            "tags": []
          },
          "execution_count": 39
        }
      ]
    },
    {
      "cell_type": "code",
      "metadata": {
        "id": "FV3rqPmL-V5z",
        "colab_type": "code",
        "outputId": "939b7844-2135-4191-c122-205479a1f7d7",
        "colab": {
          "base_uri": "https://localhost:8080/",
          "height": 34
        }
      },
      "source": [
        "# Slice it and take off the id before we add it into the postgres\n",
        "str(characters[0][1:])"
      ],
      "execution_count": 0,
      "outputs": [
        {
          "output_type": "execute_result",
          "data": {
            "text/plain": [
              "\"('Aliquid iste optio reiciendi', 0, 0, 10, 1, 1, 1, 1)\""
            ]
          },
          "metadata": {
            "tags": []
          },
          "execution_count": 40
        }
      ]
    },
    {
      "cell_type": "code",
      "metadata": {
        "id": "4keXxS7G_O9x",
        "colab_type": "code",
        "outputId": "f44df1a2-bc2d-4f4a-e589-5f40e346c255",
        "colab": {
          "base_uri": "https://localhost:8080/",
          "height": 85
        }
      },
      "source": [
        "# Prepping a single character to be moved to postgres\n",
        "example_insert = \"\"\"\n",
        "INSERT INTO charactercreator_character\n",
        "(name, level, exp, hp, strength, intelligence, dexterity, wisdom)\n",
        "VALUES \"\"\" + str(characters[0][1:]) + ';'\n",
        "\n",
        "print(example_insert)"
      ],
      "execution_count": 0,
      "outputs": [
        {
          "output_type": "stream",
          "text": [
            "\n",
            "INSERT INTO charactercreator_character\n",
            "(name, level, exp, hp, strength, intelligence, dexterity, wisdom)\n",
            "VALUES ('Aliquid iste optio reiciendi', 0, 0, 10, 1, 1, 1, 1);\n"
          ],
          "name": "stdout"
        }
      ]
    },
    {
      "cell_type": "code",
      "metadata": {
        "id": "smv_wIH8B8jN",
        "colab_type": "code",
        "colab": {}
      },
      "source": [
        "# We want to insert all 302 characters from sqlite to elephantsql\n",
        "# create a for loop\n",
        "for character in characters:\n",
        "  insert_character = \"\"\"\n",
        "    INSERT INTO charactercreator_character\n",
        "    (name, level, exp, hp, strength, intelligence, dexterity, wisdom)\n",
        "    VALUES \"\"\" + str(character[1:]) + ';'\n",
        "    #print(insert_character)\n",
        "  pg_curs.execute(insert_character)\n"
      ],
      "execution_count": 0,
      "outputs": []
    },
    {
      "cell_type": "code",
      "metadata": {
        "id": "BfINU0VqKx_Y",
        "colab_type": "code",
        "colab": {}
      },
      "source": [
        "pg_curs.execute('SELECT * FROM charactercreator_character;')"
      ],
      "execution_count": 0,
      "outputs": []
    },
    {
      "cell_type": "code",
      "metadata": {
        "id": "HYpn3F99LHnl",
        "colab_type": "code",
        "outputId": "3088bb61-0cc8-4f2f-a430-58050d2b7dcb",
        "colab": {
          "base_uri": "https://localhost:8080/",
          "height": 1000
        }
      },
      "source": [
        "pg_curs.fetchall()"
      ],
      "execution_count": 0,
      "outputs": [
        {
          "output_type": "execute_result",
          "data": {
            "text/plain": [
              "[(1, 'Aliquid iste optio reiciendi', 0, 0, 10, 1, 1, 1, 1),\n",
              " (2, 'Optio dolorem ex a', 0, 0, 10, 1, 1, 1, 1),\n",
              " (3, 'Minus c', 0, 0, 10, 1, 1, 1, 1),\n",
              " (4, 'Sit ut repr', 0, 0, 10, 1, 1, 1, 1),\n",
              " (5, 'At id recusandae expl', 0, 0, 10, 1, 1, 1, 1),\n",
              " (6, 'Non nobis et of', 0, 0, 10, 1, 1, 1, 1),\n",
              " (7, 'Perferendis', 0, 0, 10, 1, 1, 1, 1),\n",
              " (8, 'Accusantium amet quidem eve', 0, 0, 10, 1, 1, 1, 1),\n",
              " (9, 'Sed nostrum inventore error m', 0, 0, 10, 1, 1, 1, 1),\n",
              " (10, 'Harum repellendus omnis od', 0, 0, 10, 1, 1, 1, 1),\n",
              " (11, 'Itaque ut commodi,', 0, 0, 10, 1, 1, 1, 1),\n",
              " (12, 'Molestiae quis', 0, 0, 10, 1, 1, 1, 1),\n",
              " (13, 'Ali', 0, 0, 10, 1, 1, 1, 1),\n",
              " (14, 'Tempora quod optio possimus il', 0, 0, 10, 1, 1, 1, 1),\n",
              " (15, 'Sed itaque beatae pari', 0, 0, 10, 1, 1, 1, 1),\n",
              " (16, 'Quam dolor', 0, 0, 10, 1, 1, 1, 1),\n",
              " (17, 'Molestias expedita', 0, 0, 10, 1, 1, 1, 1),\n",
              " (18, 'Lauda', 0, 0, 10, 1, 1, 1, 1),\n",
              " (19, 'Incidunt sint perferen', 0, 0, 10, 1, 1, 1, 1),\n",
              " (20, 'Laboriosa', 0, 0, 10, 1, 1, 1, 1),\n",
              " (21, 'Dolore esse nesciunt fugit com', 0, 0, 10, 1, 1, 1, 1),\n",
              " (22, 'Dolorum nam reic', 0, 0, 10, 1, 1, 1, 1),\n",
              " (23, 'Repellat ad numquam volu', 0, 0, 10, 1, 1, 1, 1),\n",
              " (24, 'Facere enim velit eligend', 0, 0, 10, 1, 1, 1, 1),\n",
              " (25, 'Sed ratione quis rep', 0, 0, 10, 1, 1, 1, 1),\n",
              " (26, 'Doloribus neque', 0, 0, 10, 1, 1, 1, 1),\n",
              " (27, 'Ab voluptas se', 0, 0, 10, 1, 1, 1, 1),\n",
              " (28, 'Molestias m', 0, 0, 10, 1, 1, 1, 1),\n",
              " (29, 'In pariatur corpori', 0, 0, 10, 1, 1, 1, 1),\n",
              " (30, 'Possimus ad dignissimos vel, a', 0, 0, 10, 1, 1, 1, 1),\n",
              " (31, 'At minus accusa', 0, 0, 10, 1, 1, 1, 1),\n",
              " (32, 'Ad necess', 0, 0, 10, 1, 1, 1, 1),\n",
              " (33, 'Expedita c', 0, 0, 10, 1, 1, 1, 1),\n",
              " (34, 'Voluptates sunt voluptas volu', 0, 0, 10, 1, 1, 1, 1),\n",
              " (35, 'Autem mollitia fuga lauda', 0, 0, 10, 1, 1, 1, 1),\n",
              " (36, 'Sint quibusdam ob', 0, 0, 10, 1, 1, 1, 1),\n",
              " (37, 'Rerum et o', 0, 0, 10, 1, 1, 1, 1),\n",
              " (38, 'Doloribus dolore r', 0, 0, 10, 1, 1, 1, 1),\n",
              " (39, 'Eaque su', 0, 0, 10, 1, 1, 1, 1),\n",
              " (40, 'Vel molestias numqua', 0, 0, 10, 1, 1, 1, 1),\n",
              " (41, 'Iste assumenda repellat q', 0, 0, 10, 1, 1, 1, 1),\n",
              " (42, 'Animi labo', 0, 0, 10, 1, 1, 1, 1),\n",
              " (43, 'Eum culpa eaque ea omn', 0, 0, 10, 1, 1, 1, 1),\n",
              " (44, 'Harum provident vel quam', 0, 0, 10, 1, 1, 1, 1),\n",
              " (45, 'Aspe', 0, 0, 10, 1, 1, 1, 1),\n",
              " (46, 'Nisi nequ', 0, 0, 10, 1, 1, 1, 1),\n",
              " (47, 'Quod tempora', 0, 0, 10, 1, 1, 1, 1),\n",
              " (48, 'Porro aliq', 0, 0, 10, 1, 1, 1, 1),\n",
              " (49, 'Quas', 0, 0, 10, 1, 1, 1, 1),\n",
              " (50, 'Magnam eligendi quia animi', 0, 0, 10, 1, 1, 1, 1),\n",
              " (51, 'Officiis se', 0, 0, 10, 1, 1, 1, 1),\n",
              " (52, 'Id assumend', 0, 0, 10, 1, 1, 1, 1),\n",
              " (53, 'Voluptatibus fu', 0, 0, 10, 1, 1, 1, 1),\n",
              " (54, 'Odit rat', 0, 0, 10, 1, 1, 1, 1),\n",
              " (55, 'Debit', 0, 0, 10, 1, 1, 1, 1),\n",
              " (56, 'Cum aut quas repudia', 0, 0, 10, 1, 1, 1, 1),\n",
              " (57, 'Deleniti qui quae quidem', 0, 0, 10, 1, 1, 1, 1),\n",
              " (58, 'Adipisci voluptas', 0, 0, 10, 1, 1, 1, 1),\n",
              " (59, 'Debitis sit ratione eos nam', 0, 0, 10, 1, 1, 1, 1),\n",
              " (60, 'Esse illo molestias archi', 0, 0, 10, 1, 1, 1, 1),\n",
              " (61, 'Sunt at itaque voluptatum d', 0, 0, 10, 1, 1, 1, 1),\n",
              " (62, 'Est totam', 0, 0, 10, 1, 1, 1, 1),\n",
              " (63, 'Reprehenderit commodi eius', 0, 0, 10, 1, 1, 1, 1),\n",
              " (64, 'Debit', 0, 0, 10, 1, 1, 1, 1),\n",
              " (65, 'Soluta dol', 0, 0, 10, 1, 1, 1, 1),\n",
              " (66, 'Vel nesc', 0, 0, 10, 1, 1, 1, 1),\n",
              " (67, 'Ratione quia ali', 0, 0, 10, 1, 1, 1, 1),\n",
              " (68, 'Rerum recusandae minima', 0, 0, 10, 1, 1, 1, 1),\n",
              " (69, 'Totam natus eius fugiat volu', 0, 0, 10, 1, 1, 1, 1),\n",
              " (70, 'Perferendis commodi null', 0, 0, 10, 1, 1, 1, 1),\n",
              " (71, 'Laudantiu', 0, 0, 10, 1, 1, 1, 1),\n",
              " (72, 'Voluptat', 0, 0, 10, 1, 1, 1, 1),\n",
              " (73, 'Incidunt nesciun', 0, 0, 10, 1, 1, 1, 1),\n",
              " (74, 'Illum amet vero', 0, 0, 10, 1, 1, 1, 1),\n",
              " (75, 'Suscipit exercitationem re', 0, 0, 10, 1, 1, 1, 1),\n",
              " (76, 'Quas enim error maxime nisi m', 0, 0, 10, 1, 1, 1, 1),\n",
              " (77, 'Labore qu', 0, 0, 10, 1, 1, 1, 1),\n",
              " (78, 'Repudiandae deleniti unde', 0, 0, 10, 1, 1, 1, 1),\n",
              " (79, 'Ut do', 0, 0, 10, 1, 1, 1, 1),\n",
              " (80, 'Quaerat esse labore q', 0, 0, 10, 1, 1, 1, 1),\n",
              " (81, 'Quidem aliq', 0, 0, 10, 1, 1, 1, 1),\n",
              " (82, 'Aperiam vitae eos dolor sed', 0, 0, 10, 1, 1, 1, 1),\n",
              " (83, 'Minus nobis porro', 0, 0, 10, 1, 1, 1, 1),\n",
              " (84, 'In similique', 0, 0, 10, 1, 1, 1, 1),\n",
              " (85, 'Culpa repellat unde', 0, 0, 10, 1, 1, 1, 1),\n",
              " (86, 'Architecto i', 0, 0, 10, 1, 1, 1, 1),\n",
              " (87, 'A sed pariatur qua', 0, 0, 10, 1, 1, 1, 1),\n",
              " (88, 'Tempore assumenda aperiam', 0, 0, 10, 1, 1, 1, 1),\n",
              " (89, 'Sed ullam tempora iusto co', 0, 0, 10, 1, 1, 1, 1),\n",
              " (90, 'Ipsa', 0, 0, 10, 1, 1, 1, 1),\n",
              " (91, 'Fugiat incidun', 0, 0, 10, 1, 1, 1, 1),\n",
              " (92, 'Molestiae of', 0, 0, 10, 1, 1, 1, 1),\n",
              " (93, 'Quae quisquam cons', 0, 0, 10, 1, 1, 1, 1),\n",
              " (94, 'Repellendus ea non facil', 0, 0, 10, 1, 1, 1, 1),\n",
              " (95, 'Quod non quibu', 0, 0, 10, 1, 1, 1, 1),\n",
              " (96, 'Numquam velit distinctio', 0, 0, 10, 1, 1, 1, 1),\n",
              " (97, 'Necessitatibus nihil ex debi', 0, 0, 10, 1, 1, 1, 1),\n",
              " (98, 'Velit tempore nemo, na', 0, 0, 10, 1, 1, 1, 1),\n",
              " (99, 'Nesciunt v', 0, 0, 10, 1, 1, 1, 1),\n",
              " (100, 'Dicta enim debitis accusantiu', 0, 0, 10, 1, 1, 1, 1),\n",
              " (101, 'Vitae a', 0, 0, 10, 1, 1, 1, 1),\n",
              " (102, 'Praesentium voluptas u', 0, 0, 10, 1, 1, 1, 1),\n",
              " (103, 'Unde ullam mollitia? Nu', 0, 0, 10, 1, 1, 1, 1),\n",
              " (104, 'Neque molestias qu', 0, 0, 10, 1, 1, 1, 1),\n",
              " (105, 'Officiis es', 0, 0, 10, 1, 1, 1, 1),\n",
              " (106, 'Beatae mi', 0, 0, 10, 1, 1, 1, 1),\n",
              " (107, 'Mollitia nam corporis temp', 0, 0, 10, 1, 1, 1, 1),\n",
              " (108, 'Repudiandae repellat i', 0, 0, 10, 1, 1, 1, 1),\n",
              " (109, 'Laboriosam', 0, 0, 10, 1, 1, 1, 1),\n",
              " (110, 'Nam minus amet', 0, 0, 10, 1, 1, 1, 1),\n",
              " (111, 'Harum quae volup', 0, 0, 10, 1, 1, 1, 1),\n",
              " (112, 'Impedit facere ulla', 0, 0, 10, 1, 1, 1, 1),\n",
              " (113, 'Enim', 0, 0, 10, 1, 1, 1, 1),\n",
              " (114, 'Dolore magni', 0, 0, 10, 1, 1, 1, 1),\n",
              " (115, 'Eaque at corpori', 0, 0, 10, 1, 1, 1, 1),\n",
              " (116, 'Fug', 0, 0, 10, 1, 1, 1, 1),\n",
              " (117, 'Dolorum laudanti', 0, 0, 10, 1, 1, 1, 1),\n",
              " (118, 'Perferendis nat', 0, 0, 10, 1, 1, 1, 1),\n",
              " (119, 'Cupidi', 0, 0, 10, 1, 1, 1, 1),\n",
              " (120, 'Commodi eius dicta digniss', 0, 0, 10, 1, 1, 1, 1),\n",
              " (121, 'Debitis eu', 0, 0, 10, 1, 1, 1, 1),\n",
              " (122, 'Nihil repella', 0, 0, 10, 1, 1, 1, 1),\n",
              " (123, 'Rem quasi minima hic sed anim', 0, 0, 10, 1, 1, 1, 1),\n",
              " (124, 'Sed ali', 0, 0, 10, 1, 1, 1, 1),\n",
              " (125, 'Earum vol', 0, 0, 10, 1, 1, 1, 1),\n",
              " (126, 'Inventore tempore com', 0, 0, 10, 1, 1, 1, 1),\n",
              " (127, 'Repell', 0, 0, 10, 1, 1, 1, 1),\n",
              " (128, 'Consequatur quis recusandae qu', 0, 0, 10, 1, 1, 1, 1),\n",
              " (129, 'Dolores ea velit mi', 0, 0, 10, 1, 1, 1, 1),\n",
              " (130, 'Atque blanditiis a aperiam', 0, 0, 10, 1, 1, 1, 1),\n",
              " (131, 'Reprehenderit sequi iu', 0, 0, 10, 1, 1, 1, 1),\n",
              " (132, 'Natus architecto eos, hic blan', 0, 0, 10, 1, 1, 1, 1),\n",
              " (133, 'Ipsa illo quas', 0, 0, 10, 1, 1, 1, 1),\n",
              " (134, 'Voluptas ali', 0, 0, 10, 1, 1, 1, 1),\n",
              " (135, 'Voluptates obcaecati quod e', 0, 0, 10, 1, 1, 1, 1),\n",
              " (136, 'Dolor adipisci a voluptate', 0, 0, 10, 1, 1, 1, 1),\n",
              " (137, 'Repellendus natus quae, n', 0, 0, 10, 1, 1, 1, 1),\n",
              " (138, 'Laudantium earum nam in dol', 0, 0, 10, 1, 1, 1, 1),\n",
              " (139, 'Molestias face', 0, 0, 10, 1, 1, 1, 1),\n",
              " (140, 'Maiores suscipit exc', 0, 0, 10, 1, 1, 1, 1),\n",
              " (141, 'Illum dolore perferen', 0, 0, 10, 1, 1, 1, 1),\n",
              " (142, 'Explicabo recusandae ma', 0, 0, 10, 1, 1, 1, 1),\n",
              " (143, 'Odio obcaecati hic nostrum n', 0, 0, 10, 1, 1, 1, 1),\n",
              " (144, 'Voluptate ali', 0, 0, 10, 1, 1, 1, 1),\n",
              " (145, 'Repudiandae vitae sapiente mol', 0, 0, 10, 1, 1, 1, 1),\n",
              " (146, 'Ipsam cumque', 0, 0, 10, 1, 1, 1, 1),\n",
              " (147, 'Fugiat quos alias eos dese', 0, 0, 10, 1, 1, 1, 1),\n",
              " (148, 'Eaque impe', 0, 0, 10, 1, 1, 1, 1),\n",
              " (149, 'Elige', 0, 0, 10, 1, 1, 1, 1),\n",
              " (150, 'Adip', 0, 0, 10, 1, 1, 1, 1),\n",
              " (151, 'Fuga nemo vel mo', 0, 0, 10, 1, 1, 1, 1),\n",
              " (152, 'Libero cumque impedit eveniet', 0, 0, 10, 1, 1, 1, 1),\n",
              " (153, 'Odio soluta', 0, 0, 10, 1, 1, 1, 1),\n",
              " (154, 'Vero nostrum duc', 0, 0, 10, 1, 1, 1, 1),\n",
              " (155, 'Repellend', 0, 0, 10, 1, 1, 1, 1),\n",
              " (156, 'Quod', 0, 0, 10, 1, 1, 1, 1),\n",
              " (157, 'Suscipit reiciend', 0, 0, 10, 1, 1, 1, 1),\n",
              " (158, 'Voluptat', 0, 0, 10, 1, 1, 1, 1),\n",
              " (159, 'Porro dolor fuga quam', 0, 0, 10, 1, 1, 1, 1),\n",
              " (160, 'Amet quo fugit aliquam sequi', 0, 0, 10, 1, 1, 1, 1),\n",
              " (161, 'Magni adipisci veritatis sit q', 0, 0, 10, 1, 1, 1, 1),\n",
              " (162, 'Debitis enim cumque cum qu', 0, 0, 10, 1, 1, 1, 1),\n",
              " (163, 'Dolorem eligend', 0, 0, 10, 1, 1, 1, 1),\n",
              " (164, 'Autem lib', 0, 0, 10, 1, 1, 1, 1),\n",
              " (165, 'Saepe assumenda perferendis f', 0, 0, 10, 1, 1, 1, 1),\n",
              " (166, 'Deserunt', 0, 0, 10, 1, 1, 1, 1),\n",
              " (167, 'Provident soluta simil', 0, 0, 10, 1, 1, 1, 1),\n",
              " (168, 'In accu', 0, 0, 10, 1, 1, 1, 1),\n",
              " (169, 'Inve', 0, 0, 10, 1, 1, 1, 1),\n",
              " (170, 'Placeat sapiente', 0, 0, 10, 1, 1, 1, 1),\n",
              " (171, 'Ducimus architecto ullam', 0, 0, 10, 1, 1, 1, 1),\n",
              " (172, 'Voluptate tempora rerum', 0, 0, 10, 1, 1, 1, 1),\n",
              " (173, 'Totam incidunt earum perspicia', 0, 0, 10, 1, 1, 1, 1),\n",
              " (174, 'Optio quas e', 0, 0, 10, 1, 1, 1, 1),\n",
              " (175, 'Ab illum invento', 0, 0, 10, 1, 1, 1, 1),\n",
              " (176, 'Repellat quis natus totam, s', 0, 0, 10, 1, 1, 1, 1),\n",
              " (177, 'Est voluptate accusantium tem', 0, 0, 10, 1, 1, 1, 1),\n",
              " (178, 'Beatae q', 0, 0, 10, 1, 1, 1, 1),\n",
              " (179, 'Velit', 0, 0, 10, 1, 1, 1, 1),\n",
              " (180, 'Minus nequ', 0, 0, 10, 1, 1, 1, 1),\n",
              " (181, 'Autem eos voluptates off', 0, 0, 10, 1, 1, 1, 1),\n",
              " (182, 'Vel fug', 0, 0, 10, 1, 1, 1, 1),\n",
              " (183, 'Architecto repudian', 0, 0, 10, 1, 1, 1, 1),\n",
              " (184, 'Opti', 0, 0, 10, 1, 1, 1, 1),\n",
              " (185, 'Iust', 0, 0, 10, 1, 1, 1, 1),\n",
              " (186, 'Sapiente', 0, 0, 10, 1, 1, 1, 1),\n",
              " (187, 'Officiis repellat corrupti su', 0, 0, 10, 1, 1, 1, 1),\n",
              " (188, 'Dicta et natus e', 0, 0, 10, 1, 1, 1, 1),\n",
              " (189, 'At quos', 0, 0, 10, 1, 1, 1, 1),\n",
              " (190, 'Laborum ven', 0, 0, 10, 1, 1, 1, 1),\n",
              " (191, 'Exceptur', 0, 0, 10, 1, 1, 1, 1),\n",
              " (192, 'Reiciendis assumenda dolo', 0, 0, 10, 1, 1, 1, 1),\n",
              " (193, 'Poss', 0, 0, 10, 1, 1, 1, 1),\n",
              " (194, 'Acc', 0, 0, 10, 1, 1, 1, 1),\n",
              " (195, 'Placeat esse archit', 0, 0, 10, 1, 1, 1, 1),\n",
              " (196, 'Enim repellendus nihil est te', 0, 0, 10, 1, 1, 1, 1),\n",
              " (197, 'Ipsam incidunt t', 0, 0, 10, 1, 1, 1, 1),\n",
              " (198, 'Iure', 0, 0, 10, 1, 1, 1, 1),\n",
              " (199, 'Illo en', 0, 0, 10, 1, 1, 1, 1),\n",
              " (200, 'A rem ex', 0, 0, 10, 1, 1, 1, 1),\n",
              " (201, 'Officiis su', 0, 0, 10, 1, 1, 1, 1),\n",
              " (202, 'Numquam molestias', 0, 0, 10, 1, 1, 1, 1),\n",
              " (203, 'Voluptates unde', 0, 0, 10, 1, 1, 1, 1),\n",
              " (204, 'Quae praesentium vel', 0, 0, 10, 1, 1, 1, 1),\n",
              " (205, 'Quas', 0, 0, 10, 1, 1, 1, 1),\n",
              " (206, 'Dolores aliquid inv', 0, 0, 10, 1, 1, 1, 1),\n",
              " (207, 'Mollitia tempore laborum eaqu', 0, 0, 10, 1, 1, 1, 1),\n",
              " (208, 'Nobis voluptates fugiat quia', 0, 0, 10, 1, 1, 1, 1),\n",
              " (209, 'Similique dolorem dolore maio', 0, 0, 10, 1, 1, 1, 1),\n",
              " (210, 'Sapiente', 0, 0, 10, 1, 1, 1, 1),\n",
              " (211, 'Officia nisi dolore', 0, 0, 10, 1, 1, 1, 1),\n",
              " (212, 'Distinctio', 0, 0, 10, 1, 1, 1, 1),\n",
              " (213, 'Eos quia dignissimos saepe vel', 0, 0, 10, 1, 1, 1, 1),\n",
              " (214, 'Ullam neque sint eligendi', 0, 0, 10, 1, 1, 1, 1),\n",
              " (215, 'Excepturi deleniti ab a', 0, 0, 10, 1, 1, 1, 1),\n",
              " (216, 'Accusa', 0, 0, 10, 1, 1, 1, 1),\n",
              " (217, 'Reiciendis laboriosam di', 0, 0, 10, 1, 1, 1, 1),\n",
              " (218, 'Delectus ex', 0, 0, 10, 1, 1, 1, 1),\n",
              " (219, 'Pari', 0, 0, 10, 1, 1, 1, 1),\n",
              " (220, 'Veritatis velit facilis iste', 0, 0, 10, 1, 1, 1, 1),\n",
              " (221, 'Dol', 0, 0, 10, 1, 1, 1, 1),\n",
              " (222, 'Qui iste pr', 0, 0, 10, 1, 1, 1, 1),\n",
              " (223, 'Deleni', 0, 0, 10, 1, 1, 1, 1),\n",
              " (224, 'Reprehenderit volu', 0, 0, 10, 1, 1, 1, 1),\n",
              " (225, 'Accusantium vitae n', 0, 0, 10, 1, 1, 1, 1),\n",
              " (226, 'Natus consequatur incidun', 0, 0, 10, 1, 1, 1, 1),\n",
              " (227, 'Dignissimos a', 0, 0, 10, 1, 1, 1, 1),\n",
              " (228, 'Vitae modi', 0, 0, 10, 1, 1, 1, 1),\n",
              " (229, 'Accusantium qu', 0, 0, 10, 1, 1, 1, 1),\n",
              " (230, 'Reiciendis dignissimos ratio', 0, 0, 10, 1, 1, 1, 1),\n",
              " (231, 'Expedita provident natus volup', 0, 0, 10, 1, 1, 1, 1),\n",
              " (232, 'Rerum repellat voluptas c', 0, 0, 10, 1, 1, 1, 1),\n",
              " (233, 'Maiores quos incidunt dolor', 0, 0, 10, 1, 1, 1, 1),\n",
              " (234, 'Aper', 0, 0, 10, 1, 1, 1, 1),\n",
              " (235, 'Nulla', 0, 0, 10, 1, 1, 1, 1),\n",
              " (236, 'Laudantium tempora itaque', 0, 0, 10, 1, 1, 1, 1),\n",
              " (237, 'Reprehenderit', 0, 0, 10, 1, 1, 1, 1),\n",
              " (238, 'Aliqu', 0, 0, 10, 1, 1, 1, 1),\n",
              " (239, 'Odio harum nam mole', 0, 0, 10, 1, 1, 1, 1),\n",
              " (240, 'Arc', 0, 0, 10, 1, 1, 1, 1),\n",
              " (241, 'Reprehenderit li', 0, 0, 10, 1, 1, 1, 1),\n",
              " (242, 'Repr', 0, 0, 10, 1, 1, 1, 1),\n",
              " (243, 'Optio m', 0, 0, 10, 1, 1, 1, 1),\n",
              " (244, 'Esse odit amet rep', 0, 0, 10, 1, 1, 1, 1),\n",
              " (245, 'Provident nostrum minima', 0, 0, 10, 1, 1, 1, 1),\n",
              " (246, 'Ex nihil quae facilis a omni', 0, 0, 10, 1, 1, 1, 1),\n",
              " (247, 'Dolorem quaerat sunt', 0, 0, 10, 1, 1, 1, 1),\n",
              " (248, 'Distinctio', 0, 0, 10, 1, 1, 1, 1),\n",
              " (249, 'Repudiandae ip', 0, 0, 10, 1, 1, 1, 1),\n",
              " (250, 'Iste debitis dolorum amet m', 0, 0, 10, 1, 1, 1, 1),\n",
              " (251, 'Non qui vo', 0, 0, 10, 1, 1, 1, 1),\n",
              " (252, 'Dolorem ma', 0, 0, 10, 1, 1, 1, 1),\n",
              " (253, 'Molestias labore tempore ita', 0, 0, 10, 1, 1, 1, 1),\n",
              " (254, 'Vol', 0, 0, 10, 1, 1, 1, 1),\n",
              " (255, 'Adipisci molest', 0, 0, 10, 1, 1, 1, 1),\n",
              " (256, 'Omni', 0, 0, 10, 1, 1, 1, 1),\n",
              " (257, 'Voluptatibus dolor', 0, 0, 10, 1, 1, 1, 1),\n",
              " (258, 'Quo', 0, 0, 10, 1, 1, 1, 1),\n",
              " (259, 'Atque aspernatur possi', 0, 0, 10, 1, 1, 1, 1),\n",
              " (260, 'Ullam c', 0, 0, 10, 1, 1, 1, 1),\n",
              " (261, 'Iusto quas voluptatibu', 0, 0, 10, 1, 1, 1, 1),\n",
              " (262, 'Optio qui sunt dolores, ab', 0, 0, 10, 1, 1, 1, 1),\n",
              " (263, 'Illum recusandae nulla re', 0, 0, 10, 1, 1, 1, 1),\n",
              " (264, 'Verita', 0, 0, 10, 1, 1, 1, 1),\n",
              " (265, 'Expedita quod blanditiis', 0, 0, 10, 1, 1, 1, 1),\n",
              " (266, 'Mag', 0, 0, 10, 1, 1, 1, 1),\n",
              " (267, 'Omnis quos aspernatur d', 0, 0, 10, 1, 1, 1, 1),\n",
              " (268, 'Sunt impedit co', 0, 0, 10, 1, 1, 1, 1),\n",
              " (269, 'Minima quam ea ad', 0, 0, 10, 1, 1, 1, 1),\n",
              " (270, 'Suscipit quidem e', 0, 0, 10, 1, 1, 1, 1),\n",
              " (271, 'Harum', 0, 0, 10, 1, 1, 1, 1),\n",
              " (272, 'Dolore laborum ips', 0, 0, 10, 1, 1, 1, 1),\n",
              " (273, 'Magni veniam earum corporis', 0, 0, 10, 1, 1, 1, 1),\n",
              " (274, 'Optio', 0, 0, 10, 1, 1, 1, 1),\n",
              " (275, 'Nam fugit vel.', 0, 0, 10, 1, 1, 1, 1),\n",
              " (276, 'Ut numquam quam eum, alias ius', 0, 0, 10, 1, 1, 1, 1),\n",
              " (277, 'Error amet tempore nulla', 0, 0, 10, 1, 1, 1, 1),\n",
              " (278, 'Deserunt a', 0, 0, 10, 1, 1, 1, 1),\n",
              " (279, 'Aperiam sit', 0, 0, 10, 1, 1, 1, 1),\n",
              " (280, 'Asperi', 0, 0, 10, 1, 1, 1, 1),\n",
              " (281, 'Similique aperiam earum expli', 0, 0, 10, 1, 1, 1, 1),\n",
              " (282, 'Iure h', 0, 0, 10, 1, 1, 1, 1),\n",
              " (283, 'At sint ducimus nostrum i', 0, 0, 10, 1, 1, 1, 1),\n",
              " (284, 'Reprehenderit temporib', 0, 0, 10, 1, 1, 1, 1),\n",
              " (285, 'Molestiae quaerat maxim', 0, 0, 10, 1, 1, 1, 1),\n",
              " (286, 'Maior', 0, 0, 10, 1, 1, 1, 1),\n",
              " (287, 'Unde natus ut ipsa cupi', 0, 0, 10, 1, 1, 1, 1),\n",
              " (288, 'Praesentium atque ear', 0, 0, 10, 1, 1, 1, 1),\n",
              " (289, 'Rem minima', 0, 0, 10, 1, 1, 1, 1),\n",
              " (290, 'Provident sed soluta, sed si', 0, 0, 10, 1, 1, 1, 1),\n",
              " (291, 'Natus quia veritatis', 0, 0, 10, 1, 1, 1, 1),\n",
              " (292, 'Vero a', 0, 0, 10, 1, 1, 1, 1),\n",
              " (293, 'Optio harum labori', 0, 0, 10, 1, 1, 1, 1),\n",
              " (294, 'Duci', 0, 0, 10, 1, 1, 1, 1),\n",
              " (295, 'Ipsa elige', 0, 0, 10, 1, 1, 1, 1),\n",
              " (296, 'Sunt blanditiis i', 0, 0, 10, 1, 1, 1, 1),\n",
              " (297, 'Doloremque', 0, 0, 10, 1, 1, 1, 1),\n",
              " (298, 'Autem ratione vitae quos, do', 0, 0, 10, 1, 1, 1, 1),\n",
              " (299, 'Voluptatibus aliquid', 0, 0, 10, 1, 1, 1, 1),\n",
              " (300, 'Quaerat sequi sit eius corpori', 0, 0, 10, 1, 1, 1, 1),\n",
              " (301, 'Libe', 0, 0, 10, 1, 1, 1, 1),\n",
              " (302, 'Aliquam n', 0, 0, 10, 1, 1, 1, 1),\n",
              " (303, 'Aliquid iste optio reiciendi', 0, 0, 10, 1, 1, 1, 1),\n",
              " (304, 'Optio dolorem ex a', 0, 0, 10, 1, 1, 1, 1),\n",
              " (305, 'Minus c', 0, 0, 10, 1, 1, 1, 1),\n",
              " (306, 'Sit ut repr', 0, 0, 10, 1, 1, 1, 1),\n",
              " (307, 'At id recusandae expl', 0, 0, 10, 1, 1, 1, 1),\n",
              " (308, 'Non nobis et of', 0, 0, 10, 1, 1, 1, 1),\n",
              " (309, 'Perferendis', 0, 0, 10, 1, 1, 1, 1),\n",
              " (310, 'Accusantium amet quidem eve', 0, 0, 10, 1, 1, 1, 1),\n",
              " (311, 'Sed nostrum inventore error m', 0, 0, 10, 1, 1, 1, 1),\n",
              " (312, 'Harum repellendus omnis od', 0, 0, 10, 1, 1, 1, 1),\n",
              " (313, 'Itaque ut commodi,', 0, 0, 10, 1, 1, 1, 1),\n",
              " (314, 'Molestiae quis', 0, 0, 10, 1, 1, 1, 1),\n",
              " (315, 'Ali', 0, 0, 10, 1, 1, 1, 1),\n",
              " (316, 'Tempora quod optio possimus il', 0, 0, 10, 1, 1, 1, 1),\n",
              " (317, 'Sed itaque beatae pari', 0, 0, 10, 1, 1, 1, 1),\n",
              " (318, 'Quam dolor', 0, 0, 10, 1, 1, 1, 1),\n",
              " (319, 'Molestias expedita', 0, 0, 10, 1, 1, 1, 1),\n",
              " (320, 'Lauda', 0, 0, 10, 1, 1, 1, 1),\n",
              " (321, 'Incidunt sint perferen', 0, 0, 10, 1, 1, 1, 1),\n",
              " (322, 'Laboriosa', 0, 0, 10, 1, 1, 1, 1),\n",
              " (323, 'Dolore esse nesciunt fugit com', 0, 0, 10, 1, 1, 1, 1),\n",
              " (324, 'Dolorum nam reic', 0, 0, 10, 1, 1, 1, 1),\n",
              " (325, 'Repellat ad numquam volu', 0, 0, 10, 1, 1, 1, 1),\n",
              " (326, 'Facere enim velit eligend', 0, 0, 10, 1, 1, 1, 1),\n",
              " (327, 'Sed ratione quis rep', 0, 0, 10, 1, 1, 1, 1),\n",
              " (328, 'Doloribus neque', 0, 0, 10, 1, 1, 1, 1),\n",
              " (329, 'Ab voluptas se', 0, 0, 10, 1, 1, 1, 1),\n",
              " (330, 'Molestias m', 0, 0, 10, 1, 1, 1, 1),\n",
              " (331, 'In pariatur corpori', 0, 0, 10, 1, 1, 1, 1),\n",
              " (332, 'Possimus ad dignissimos vel, a', 0, 0, 10, 1, 1, 1, 1),\n",
              " (333, 'At minus accusa', 0, 0, 10, 1, 1, 1, 1),\n",
              " (334, 'Ad necess', 0, 0, 10, 1, 1, 1, 1),\n",
              " (335, 'Expedita c', 0, 0, 10, 1, 1, 1, 1),\n",
              " (336, 'Voluptates sunt voluptas volu', 0, 0, 10, 1, 1, 1, 1),\n",
              " (337, 'Autem mollitia fuga lauda', 0, 0, 10, 1, 1, 1, 1),\n",
              " (338, 'Sint quibusdam ob', 0, 0, 10, 1, 1, 1, 1),\n",
              " (339, 'Rerum et o', 0, 0, 10, 1, 1, 1, 1),\n",
              " (340, 'Doloribus dolore r', 0, 0, 10, 1, 1, 1, 1),\n",
              " (341, 'Eaque su', 0, 0, 10, 1, 1, 1, 1),\n",
              " (342, 'Vel molestias numqua', 0, 0, 10, 1, 1, 1, 1),\n",
              " (343, 'Iste assumenda repellat q', 0, 0, 10, 1, 1, 1, 1),\n",
              " (344, 'Animi labo', 0, 0, 10, 1, 1, 1, 1),\n",
              " (345, 'Eum culpa eaque ea omn', 0, 0, 10, 1, 1, 1, 1),\n",
              " (346, 'Harum provident vel quam', 0, 0, 10, 1, 1, 1, 1),\n",
              " (347, 'Aspe', 0, 0, 10, 1, 1, 1, 1),\n",
              " (348, 'Nisi nequ', 0, 0, 10, 1, 1, 1, 1),\n",
              " (349, 'Quod tempora', 0, 0, 10, 1, 1, 1, 1),\n",
              " (350, 'Porro aliq', 0, 0, 10, 1, 1, 1, 1),\n",
              " (351, 'Quas', 0, 0, 10, 1, 1, 1, 1),\n",
              " (352, 'Magnam eligendi quia animi', 0, 0, 10, 1, 1, 1, 1),\n",
              " (353, 'Officiis se', 0, 0, 10, 1, 1, 1, 1),\n",
              " (354, 'Id assumend', 0, 0, 10, 1, 1, 1, 1),\n",
              " (355, 'Voluptatibus fu', 0, 0, 10, 1, 1, 1, 1),\n",
              " (356, 'Odit rat', 0, 0, 10, 1, 1, 1, 1),\n",
              " (357, 'Debit', 0, 0, 10, 1, 1, 1, 1),\n",
              " (358, 'Cum aut quas repudia', 0, 0, 10, 1, 1, 1, 1),\n",
              " (359, 'Deleniti qui quae quidem', 0, 0, 10, 1, 1, 1, 1),\n",
              " (360, 'Adipisci voluptas', 0, 0, 10, 1, 1, 1, 1),\n",
              " (361, 'Debitis sit ratione eos nam', 0, 0, 10, 1, 1, 1, 1),\n",
              " (362, 'Esse illo molestias archi', 0, 0, 10, 1, 1, 1, 1),\n",
              " (363, 'Sunt at itaque voluptatum d', 0, 0, 10, 1, 1, 1, 1),\n",
              " (364, 'Est totam', 0, 0, 10, 1, 1, 1, 1),\n",
              " (365, 'Reprehenderit commodi eius', 0, 0, 10, 1, 1, 1, 1),\n",
              " (366, 'Debit', 0, 0, 10, 1, 1, 1, 1),\n",
              " (367, 'Soluta dol', 0, 0, 10, 1, 1, 1, 1),\n",
              " (368, 'Vel nesc', 0, 0, 10, 1, 1, 1, 1),\n",
              " (369, 'Ratione quia ali', 0, 0, 10, 1, 1, 1, 1),\n",
              " (370, 'Rerum recusandae minima', 0, 0, 10, 1, 1, 1, 1),\n",
              " (371, 'Totam natus eius fugiat volu', 0, 0, 10, 1, 1, 1, 1),\n",
              " (372, 'Perferendis commodi null', 0, 0, 10, 1, 1, 1, 1),\n",
              " (373, 'Laudantiu', 0, 0, 10, 1, 1, 1, 1),\n",
              " (374, 'Voluptat', 0, 0, 10, 1, 1, 1, 1),\n",
              " (375, 'Incidunt nesciun', 0, 0, 10, 1, 1, 1, 1),\n",
              " (376, 'Illum amet vero', 0, 0, 10, 1, 1, 1, 1),\n",
              " (377, 'Suscipit exercitationem re', 0, 0, 10, 1, 1, 1, 1),\n",
              " (378, 'Quas enim error maxime nisi m', 0, 0, 10, 1, 1, 1, 1),\n",
              " (379, 'Labore qu', 0, 0, 10, 1, 1, 1, 1),\n",
              " (380, 'Repudiandae deleniti unde', 0, 0, 10, 1, 1, 1, 1),\n",
              " (381, 'Ut do', 0, 0, 10, 1, 1, 1, 1),\n",
              " (382, 'Quaerat esse labore q', 0, 0, 10, 1, 1, 1, 1),\n",
              " (383, 'Quidem aliq', 0, 0, 10, 1, 1, 1, 1),\n",
              " (384, 'Aperiam vitae eos dolor sed', 0, 0, 10, 1, 1, 1, 1),\n",
              " (385, 'Minus nobis porro', 0, 0, 10, 1, 1, 1, 1),\n",
              " (386, 'In similique', 0, 0, 10, 1, 1, 1, 1),\n",
              " (387, 'Culpa repellat unde', 0, 0, 10, 1, 1, 1, 1),\n",
              " (388, 'Architecto i', 0, 0, 10, 1, 1, 1, 1),\n",
              " (389, 'A sed pariatur qua', 0, 0, 10, 1, 1, 1, 1),\n",
              " (390, 'Tempore assumenda aperiam', 0, 0, 10, 1, 1, 1, 1),\n",
              " (391, 'Sed ullam tempora iusto co', 0, 0, 10, 1, 1, 1, 1),\n",
              " (392, 'Ipsa', 0, 0, 10, 1, 1, 1, 1),\n",
              " (393, 'Fugiat incidun', 0, 0, 10, 1, 1, 1, 1),\n",
              " (394, 'Molestiae of', 0, 0, 10, 1, 1, 1, 1),\n",
              " (395, 'Quae quisquam cons', 0, 0, 10, 1, 1, 1, 1),\n",
              " (396, 'Repellendus ea non facil', 0, 0, 10, 1, 1, 1, 1),\n",
              " (397, 'Quod non quibu', 0, 0, 10, 1, 1, 1, 1),\n",
              " (398, 'Numquam velit distinctio', 0, 0, 10, 1, 1, 1, 1),\n",
              " (399, 'Necessitatibus nihil ex debi', 0, 0, 10, 1, 1, 1, 1),\n",
              " (400, 'Velit tempore nemo, na', 0, 0, 10, 1, 1, 1, 1),\n",
              " (401, 'Nesciunt v', 0, 0, 10, 1, 1, 1, 1),\n",
              " (402, 'Dicta enim debitis accusantiu', 0, 0, 10, 1, 1, 1, 1),\n",
              " (403, 'Vitae a', 0, 0, 10, 1, 1, 1, 1),\n",
              " (404, 'Praesentium voluptas u', 0, 0, 10, 1, 1, 1, 1),\n",
              " (405, 'Unde ullam mollitia? Nu', 0, 0, 10, 1, 1, 1, 1),\n",
              " (406, 'Neque molestias qu', 0, 0, 10, 1, 1, 1, 1),\n",
              " (407, 'Officiis es', 0, 0, 10, 1, 1, 1, 1),\n",
              " (408, 'Beatae mi', 0, 0, 10, 1, 1, 1, 1),\n",
              " (409, 'Mollitia nam corporis temp', 0, 0, 10, 1, 1, 1, 1),\n",
              " (410, 'Repudiandae repellat i', 0, 0, 10, 1, 1, 1, 1),\n",
              " (411, 'Laboriosam', 0, 0, 10, 1, 1, 1, 1),\n",
              " (412, 'Nam minus amet', 0, 0, 10, 1, 1, 1, 1),\n",
              " (413, 'Harum quae volup', 0, 0, 10, 1, 1, 1, 1),\n",
              " (414, 'Impedit facere ulla', 0, 0, 10, 1, 1, 1, 1),\n",
              " (415, 'Enim', 0, 0, 10, 1, 1, 1, 1),\n",
              " (416, 'Dolore magni', 0, 0, 10, 1, 1, 1, 1),\n",
              " (417, 'Eaque at corpori', 0, 0, 10, 1, 1, 1, 1),\n",
              " (418, 'Fug', 0, 0, 10, 1, 1, 1, 1),\n",
              " (419, 'Dolorum laudanti', 0, 0, 10, 1, 1, 1, 1),\n",
              " (420, 'Perferendis nat', 0, 0, 10, 1, 1, 1, 1),\n",
              " (421, 'Cupidi', 0, 0, 10, 1, 1, 1, 1),\n",
              " (422, 'Commodi eius dicta digniss', 0, 0, 10, 1, 1, 1, 1),\n",
              " (423, 'Debitis eu', 0, 0, 10, 1, 1, 1, 1),\n",
              " (424, 'Nihil repella', 0, 0, 10, 1, 1, 1, 1),\n",
              " (425, 'Rem quasi minima hic sed anim', 0, 0, 10, 1, 1, 1, 1),\n",
              " (426, 'Sed ali', 0, 0, 10, 1, 1, 1, 1),\n",
              " (427, 'Earum vol', 0, 0, 10, 1, 1, 1, 1),\n",
              " (428, 'Inventore tempore com', 0, 0, 10, 1, 1, 1, 1),\n",
              " (429, 'Repell', 0, 0, 10, 1, 1, 1, 1),\n",
              " (430, 'Consequatur quis recusandae qu', 0, 0, 10, 1, 1, 1, 1),\n",
              " (431, 'Dolores ea velit mi', 0, 0, 10, 1, 1, 1, 1),\n",
              " (432, 'Atque blanditiis a aperiam', 0, 0, 10, 1, 1, 1, 1),\n",
              " (433, 'Reprehenderit sequi iu', 0, 0, 10, 1, 1, 1, 1),\n",
              " (434, 'Natus architecto eos, hic blan', 0, 0, 10, 1, 1, 1, 1),\n",
              " (435, 'Ipsa illo quas', 0, 0, 10, 1, 1, 1, 1),\n",
              " (436, 'Voluptas ali', 0, 0, 10, 1, 1, 1, 1),\n",
              " (437, 'Voluptates obcaecati quod e', 0, 0, 10, 1, 1, 1, 1),\n",
              " (438, 'Dolor adipisci a voluptate', 0, 0, 10, 1, 1, 1, 1),\n",
              " (439, 'Repellendus natus quae, n', 0, 0, 10, 1, 1, 1, 1),\n",
              " (440, 'Laudantium earum nam in dol', 0, 0, 10, 1, 1, 1, 1),\n",
              " (441, 'Molestias face', 0, 0, 10, 1, 1, 1, 1),\n",
              " (442, 'Maiores suscipit exc', 0, 0, 10, 1, 1, 1, 1),\n",
              " (443, 'Illum dolore perferen', 0, 0, 10, 1, 1, 1, 1),\n",
              " (444, 'Explicabo recusandae ma', 0, 0, 10, 1, 1, 1, 1),\n",
              " (445, 'Odio obcaecati hic nostrum n', 0, 0, 10, 1, 1, 1, 1),\n",
              " (446, 'Voluptate ali', 0, 0, 10, 1, 1, 1, 1),\n",
              " (447, 'Repudiandae vitae sapiente mol', 0, 0, 10, 1, 1, 1, 1),\n",
              " (448, 'Ipsam cumque', 0, 0, 10, 1, 1, 1, 1),\n",
              " (449, 'Fugiat quos alias eos dese', 0, 0, 10, 1, 1, 1, 1),\n",
              " (450, 'Eaque impe', 0, 0, 10, 1, 1, 1, 1),\n",
              " (451, 'Elige', 0, 0, 10, 1, 1, 1, 1),\n",
              " (452, 'Adip', 0, 0, 10, 1, 1, 1, 1),\n",
              " (453, 'Fuga nemo vel mo', 0, 0, 10, 1, 1, 1, 1),\n",
              " (454, 'Libero cumque impedit eveniet', 0, 0, 10, 1, 1, 1, 1),\n",
              " (455, 'Odio soluta', 0, 0, 10, 1, 1, 1, 1),\n",
              " (456, 'Vero nostrum duc', 0, 0, 10, 1, 1, 1, 1),\n",
              " (457, 'Repellend', 0, 0, 10, 1, 1, 1, 1),\n",
              " (458, 'Quod', 0, 0, 10, 1, 1, 1, 1),\n",
              " (459, 'Suscipit reiciend', 0, 0, 10, 1, 1, 1, 1),\n",
              " (460, 'Voluptat', 0, 0, 10, 1, 1, 1, 1),\n",
              " (461, 'Porro dolor fuga quam', 0, 0, 10, 1, 1, 1, 1),\n",
              " (462, 'Amet quo fugit aliquam sequi', 0, 0, 10, 1, 1, 1, 1),\n",
              " (463, 'Magni adipisci veritatis sit q', 0, 0, 10, 1, 1, 1, 1),\n",
              " (464, 'Debitis enim cumque cum qu', 0, 0, 10, 1, 1, 1, 1),\n",
              " (465, 'Dolorem eligend', 0, 0, 10, 1, 1, 1, 1),\n",
              " (466, 'Autem lib', 0, 0, 10, 1, 1, 1, 1),\n",
              " (467, 'Saepe assumenda perferendis f', 0, 0, 10, 1, 1, 1, 1),\n",
              " (468, 'Deserunt', 0, 0, 10, 1, 1, 1, 1),\n",
              " (469, 'Provident soluta simil', 0, 0, 10, 1, 1, 1, 1),\n",
              " (470, 'In accu', 0, 0, 10, 1, 1, 1, 1),\n",
              " (471, 'Inve', 0, 0, 10, 1, 1, 1, 1),\n",
              " (472, 'Placeat sapiente', 0, 0, 10, 1, 1, 1, 1),\n",
              " (473, 'Ducimus architecto ullam', 0, 0, 10, 1, 1, 1, 1),\n",
              " (474, 'Voluptate tempora rerum', 0, 0, 10, 1, 1, 1, 1),\n",
              " (475, 'Totam incidunt earum perspicia', 0, 0, 10, 1, 1, 1, 1),\n",
              " (476, 'Optio quas e', 0, 0, 10, 1, 1, 1, 1),\n",
              " (477, 'Ab illum invento', 0, 0, 10, 1, 1, 1, 1),\n",
              " (478, 'Repellat quis natus totam, s', 0, 0, 10, 1, 1, 1, 1),\n",
              " (479, 'Est voluptate accusantium tem', 0, 0, 10, 1, 1, 1, 1),\n",
              " (480, 'Beatae q', 0, 0, 10, 1, 1, 1, 1),\n",
              " (481, 'Velit', 0, 0, 10, 1, 1, 1, 1),\n",
              " (482, 'Minus nequ', 0, 0, 10, 1, 1, 1, 1),\n",
              " (483, 'Autem eos voluptates off', 0, 0, 10, 1, 1, 1, 1),\n",
              " (484, 'Vel fug', 0, 0, 10, 1, 1, 1, 1),\n",
              " (485, 'Architecto repudian', 0, 0, 10, 1, 1, 1, 1),\n",
              " (486, 'Opti', 0, 0, 10, 1, 1, 1, 1),\n",
              " (487, 'Iust', 0, 0, 10, 1, 1, 1, 1),\n",
              " (488, 'Sapiente', 0, 0, 10, 1, 1, 1, 1),\n",
              " (489, 'Officiis repellat corrupti su', 0, 0, 10, 1, 1, 1, 1),\n",
              " (490, 'Dicta et natus e', 0, 0, 10, 1, 1, 1, 1),\n",
              " (491, 'At quos', 0, 0, 10, 1, 1, 1, 1),\n",
              " (492, 'Laborum ven', 0, 0, 10, 1, 1, 1, 1),\n",
              " (493, 'Exceptur', 0, 0, 10, 1, 1, 1, 1),\n",
              " (494, 'Reiciendis assumenda dolo', 0, 0, 10, 1, 1, 1, 1),\n",
              " (495, 'Poss', 0, 0, 10, 1, 1, 1, 1),\n",
              " (496, 'Acc', 0, 0, 10, 1, 1, 1, 1),\n",
              " (497, 'Placeat esse archit', 0, 0, 10, 1, 1, 1, 1),\n",
              " (498, 'Enim repellendus nihil est te', 0, 0, 10, 1, 1, 1, 1),\n",
              " (499, 'Ipsam incidunt t', 0, 0, 10, 1, 1, 1, 1),\n",
              " (500, 'Iure', 0, 0, 10, 1, 1, 1, 1),\n",
              " (501, 'Illo en', 0, 0, 10, 1, 1, 1, 1),\n",
              " (502, 'A rem ex', 0, 0, 10, 1, 1, 1, 1),\n",
              " (503, 'Officiis su', 0, 0, 10, 1, 1, 1, 1),\n",
              " (504, 'Numquam molestias', 0, 0, 10, 1, 1, 1, 1),\n",
              " (505, 'Voluptates unde', 0, 0, 10, 1, 1, 1, 1),\n",
              " (506, 'Quae praesentium vel', 0, 0, 10, 1, 1, 1, 1),\n",
              " (507, 'Quas', 0, 0, 10, 1, 1, 1, 1),\n",
              " (508, 'Dolores aliquid inv', 0, 0, 10, 1, 1, 1, 1),\n",
              " (509, 'Mollitia tempore laborum eaqu', 0, 0, 10, 1, 1, 1, 1),\n",
              " (510, 'Nobis voluptates fugiat quia', 0, 0, 10, 1, 1, 1, 1),\n",
              " (511, 'Similique dolorem dolore maio', 0, 0, 10, 1, 1, 1, 1),\n",
              " (512, 'Sapiente', 0, 0, 10, 1, 1, 1, 1),\n",
              " (513, 'Officia nisi dolore', 0, 0, 10, 1, 1, 1, 1),\n",
              " (514, 'Distinctio', 0, 0, 10, 1, 1, 1, 1),\n",
              " (515, 'Eos quia dignissimos saepe vel', 0, 0, 10, 1, 1, 1, 1),\n",
              " (516, 'Ullam neque sint eligendi', 0, 0, 10, 1, 1, 1, 1),\n",
              " (517, 'Excepturi deleniti ab a', 0, 0, 10, 1, 1, 1, 1),\n",
              " (518, 'Accusa', 0, 0, 10, 1, 1, 1, 1),\n",
              " (519, 'Reiciendis laboriosam di', 0, 0, 10, 1, 1, 1, 1),\n",
              " (520, 'Delectus ex', 0, 0, 10, 1, 1, 1, 1),\n",
              " (521, 'Pari', 0, 0, 10, 1, 1, 1, 1),\n",
              " (522, 'Veritatis velit facilis iste', 0, 0, 10, 1, 1, 1, 1),\n",
              " (523, 'Dol', 0, 0, 10, 1, 1, 1, 1),\n",
              " (524, 'Qui iste pr', 0, 0, 10, 1, 1, 1, 1),\n",
              " (525, 'Deleni', 0, 0, 10, 1, 1, 1, 1),\n",
              " (526, 'Reprehenderit volu', 0, 0, 10, 1, 1, 1, 1),\n",
              " (527, 'Accusantium vitae n', 0, 0, 10, 1, 1, 1, 1),\n",
              " (528, 'Natus consequatur incidun', 0, 0, 10, 1, 1, 1, 1),\n",
              " (529, 'Dignissimos a', 0, 0, 10, 1, 1, 1, 1),\n",
              " (530, 'Vitae modi', 0, 0, 10, 1, 1, 1, 1),\n",
              " (531, 'Accusantium qu', 0, 0, 10, 1, 1, 1, 1),\n",
              " (532, 'Reiciendis dignissimos ratio', 0, 0, 10, 1, 1, 1, 1),\n",
              " (533, 'Expedita provident natus volup', 0, 0, 10, 1, 1, 1, 1),\n",
              " (534, 'Rerum repellat voluptas c', 0, 0, 10, 1, 1, 1, 1),\n",
              " (535, 'Maiores quos incidunt dolor', 0, 0, 10, 1, 1, 1, 1),\n",
              " (536, 'Aper', 0, 0, 10, 1, 1, 1, 1),\n",
              " (537, 'Nulla', 0, 0, 10, 1, 1, 1, 1),\n",
              " (538, 'Laudantium tempora itaque', 0, 0, 10, 1, 1, 1, 1),\n",
              " (539, 'Reprehenderit', 0, 0, 10, 1, 1, 1, 1),\n",
              " (540, 'Aliqu', 0, 0, 10, 1, 1, 1, 1),\n",
              " (541, 'Odio harum nam mole', 0, 0, 10, 1, 1, 1, 1),\n",
              " (542, 'Arc', 0, 0, 10, 1, 1, 1, 1),\n",
              " (543, 'Reprehenderit li', 0, 0, 10, 1, 1, 1, 1),\n",
              " (544, 'Repr', 0, 0, 10, 1, 1, 1, 1),\n",
              " (545, 'Optio m', 0, 0, 10, 1, 1, 1, 1),\n",
              " (546, 'Esse odit amet rep', 0, 0, 10, 1, 1, 1, 1),\n",
              " (547, 'Provident nostrum minima', 0, 0, 10, 1, 1, 1, 1),\n",
              " (548, 'Ex nihil quae facilis a omni', 0, 0, 10, 1, 1, 1, 1),\n",
              " (549, 'Dolorem quaerat sunt', 0, 0, 10, 1, 1, 1, 1),\n",
              " (550, 'Distinctio', 0, 0, 10, 1, 1, 1, 1),\n",
              " (551, 'Repudiandae ip', 0, 0, 10, 1, 1, 1, 1),\n",
              " (552, 'Iste debitis dolorum amet m', 0, 0, 10, 1, 1, 1, 1),\n",
              " (553, 'Non qui vo', 0, 0, 10, 1, 1, 1, 1),\n",
              " (554, 'Dolorem ma', 0, 0, 10, 1, 1, 1, 1),\n",
              " (555, 'Molestias labore tempore ita', 0, 0, 10, 1, 1, 1, 1),\n",
              " (556, 'Vol', 0, 0, 10, 1, 1, 1, 1),\n",
              " (557, 'Adipisci molest', 0, 0, 10, 1, 1, 1, 1),\n",
              " (558, 'Omni', 0, 0, 10, 1, 1, 1, 1),\n",
              " (559, 'Voluptatibus dolor', 0, 0, 10, 1, 1, 1, 1),\n",
              " (560, 'Quo', 0, 0, 10, 1, 1, 1, 1),\n",
              " (561, 'Atque aspernatur possi', 0, 0, 10, 1, 1, 1, 1),\n",
              " (562, 'Ullam c', 0, 0, 10, 1, 1, 1, 1),\n",
              " (563, 'Iusto quas voluptatibu', 0, 0, 10, 1, 1, 1, 1),\n",
              " (564, 'Optio qui sunt dolores, ab', 0, 0, 10, 1, 1, 1, 1),\n",
              " (565, 'Illum recusandae nulla re', 0, 0, 10, 1, 1, 1, 1),\n",
              " (566, 'Verita', 0, 0, 10, 1, 1, 1, 1),\n",
              " (567, 'Expedita quod blanditiis', 0, 0, 10, 1, 1, 1, 1),\n",
              " (568, 'Mag', 0, 0, 10, 1, 1, 1, 1),\n",
              " (569, 'Omnis quos aspernatur d', 0, 0, 10, 1, 1, 1, 1),\n",
              " (570, 'Sunt impedit co', 0, 0, 10, 1, 1, 1, 1),\n",
              " (571, 'Minima quam ea ad', 0, 0, 10, 1, 1, 1, 1),\n",
              " (572, 'Suscipit quidem e', 0, 0, 10, 1, 1, 1, 1),\n",
              " (573, 'Harum', 0, 0, 10, 1, 1, 1, 1),\n",
              " (574, 'Dolore laborum ips', 0, 0, 10, 1, 1, 1, 1),\n",
              " (575, 'Magni veniam earum corporis', 0, 0, 10, 1, 1, 1, 1),\n",
              " (576, 'Optio', 0, 0, 10, 1, 1, 1, 1),\n",
              " (577, 'Nam fugit vel.', 0, 0, 10, 1, 1, 1, 1),\n",
              " (578, 'Ut numquam quam eum, alias ius', 0, 0, 10, 1, 1, 1, 1),\n",
              " (579, 'Error amet tempore nulla', 0, 0, 10, 1, 1, 1, 1),\n",
              " (580, 'Deserunt a', 0, 0, 10, 1, 1, 1, 1),\n",
              " (581, 'Aperiam sit', 0, 0, 10, 1, 1, 1, 1),\n",
              " (582, 'Asperi', 0, 0, 10, 1, 1, 1, 1),\n",
              " (583, 'Similique aperiam earum expli', 0, 0, 10, 1, 1, 1, 1),\n",
              " (584, 'Iure h', 0, 0, 10, 1, 1, 1, 1),\n",
              " (585, 'At sint ducimus nostrum i', 0, 0, 10, 1, 1, 1, 1),\n",
              " (586, 'Reprehenderit temporib', 0, 0, 10, 1, 1, 1, 1),\n",
              " (587, 'Molestiae quaerat maxim', 0, 0, 10, 1, 1, 1, 1),\n",
              " (588, 'Maior', 0, 0, 10, 1, 1, 1, 1),\n",
              " (589, 'Unde natus ut ipsa cupi', 0, 0, 10, 1, 1, 1, 1),\n",
              " (590, 'Praesentium atque ear', 0, 0, 10, 1, 1, 1, 1),\n",
              " (591, 'Rem minima', 0, 0, 10, 1, 1, 1, 1),\n",
              " (592, 'Provident sed soluta, sed si', 0, 0, 10, 1, 1, 1, 1),\n",
              " (593, 'Natus quia veritatis', 0, 0, 10, 1, 1, 1, 1),\n",
              " (594, 'Vero a', 0, 0, 10, 1, 1, 1, 1),\n",
              " (595, 'Optio harum labori', 0, 0, 10, 1, 1, 1, 1),\n",
              " (596, 'Duci', 0, 0, 10, 1, 1, 1, 1),\n",
              " (597, 'Ipsa elige', 0, 0, 10, 1, 1, 1, 1),\n",
              " (598, 'Sunt blanditiis i', 0, 0, 10, 1, 1, 1, 1),\n",
              " (599, 'Doloremque', 0, 0, 10, 1, 1, 1, 1),\n",
              " (600, 'Autem ratione vitae quos, do', 0, 0, 10, 1, 1, 1, 1),\n",
              " (601, 'Voluptatibus aliquid', 0, 0, 10, 1, 1, 1, 1),\n",
              " (602, 'Quaerat sequi sit eius corpori', 0, 0, 10, 1, 1, 1, 1),\n",
              " (603, 'Libe', 0, 0, 10, 1, 1, 1, 1),\n",
              " (604, 'Aliquam n', 0, 0, 10, 1, 1, 1, 1)]"
            ]
          },
          "metadata": {
            "tags": []
          },
          "execution_count": 44
        }
      ]
    },
    {
      "cell_type": "code",
      "metadata": {
        "id": "rmt0AU72LVMy",
        "colab_type": "code",
        "colab": {}
      },
      "source": [
        "# Save the changes (close and commit)\n",
        "pg_curs.close()\n",
        "pg_conn.commit()"
      ],
      "execution_count": 0,
      "outputs": []
    },
    {
      "cell_type": "code",
      "metadata": {
        "id": "oN9levg9MCL-",
        "colab_type": "code",
        "colab": {}
      },
      "source": [
        "# Check that data in elephant sql matches whats in sqlite\n",
        "pg_curs =pg_conn.cursor()\n",
        "pg_curs.execute('SELECT * FROM charactercreator_character;')\n",
        "pg_characters = pg_curs.fetchall()"
      ],
      "execution_count": 0,
      "outputs": []
    },
    {
      "cell_type": "code",
      "metadata": {
        "id": "PikmdKIRMquM",
        "colab_type": "code",
        "outputId": "7c22365c-ef71-4ff4-c2ff-082cb63f803e",
        "colab": {
          "base_uri": "https://localhost:8080/",
          "height": 34
        }
      },
      "source": [
        "# This just tests the first character\n",
        "characters[0]"
      ],
      "execution_count": 0,
      "outputs": [
        {
          "output_type": "execute_result",
          "data": {
            "text/plain": [
              "(1, 'Aliquid iste optio reiciendi', 0, 0, 10, 1, 1, 1, 1)"
            ]
          },
          "metadata": {
            "tags": []
          },
          "execution_count": 47
        }
      ]
    },
    {
      "cell_type": "code",
      "metadata": {
        "id": "M6fRBLyPMuBz",
        "colab_type": "code",
        "outputId": "ee5ff08a-fd4c-4114-fef5-96071d35814f",
        "colab": {
          "base_uri": "https://localhost:8080/",
          "height": 34
        }
      },
      "source": [
        "pg_characters[0]"
      ],
      "execution_count": 0,
      "outputs": [
        {
          "output_type": "execute_result",
          "data": {
            "text/plain": [
              "(1, 'Aliquid iste optio reiciendi', 0, 0, 10, 1, 1, 1, 1)"
            ]
          },
          "metadata": {
            "tags": []
          },
          "execution_count": 48
        }
      ]
    },
    {
      "cell_type": "code",
      "metadata": {
        "id": "EwoX2BQdNCT0",
        "colab_type": "code",
        "colab": {}
      },
      "source": [
        "# Check that all the characters are the same\n",
        "for character, pg_character in zip(characters, pg_characters):\n",
        "  assert character == pg_character"
      ],
      "execution_count": 0,
      "outputs": []
    }
  ]
}
