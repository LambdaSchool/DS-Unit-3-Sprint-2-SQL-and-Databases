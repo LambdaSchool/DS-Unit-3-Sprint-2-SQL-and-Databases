{
 "nbformat": 4,
 "nbformat_minor": 2,
 "metadata": {
  "language_info": {
   "name": "python",
   "codemirror_mode": {
    "name": "ipython",
    "version": 3
   }
  },
  "orig_nbformat": 2,
  "file_extension": ".py",
  "mimetype": "text/x-python",
  "name": "python",
  "npconvert_exporter": "python",
  "pygments_lexer": "ipython3",
  "version": 3
 },
 "cells": [
  {
   "cell_type": "code",
   "execution_count": 1,
   "metadata": {},
   "outputs": [],
   "source": [
    "import pandas as pd"
   ]
  },
  {
   "cell_type": "code",
   "execution_count": 2,
   "metadata": {},
   "outputs": [],
   "source": [
    "df = pd.read_csv('titanic.csv')"
   ]
  },
  {
   "cell_type": "code",
   "execution_count": 3,
   "metadata": {},
   "outputs": [
    {
     "data": {
      "text/html": "<div>\n<style scoped>\n    .dataframe tbody tr th:only-of-type {\n        vertical-align: middle;\n    }\n\n    .dataframe tbody tr th {\n        vertical-align: top;\n    }\n\n    .dataframe thead th {\n        text-align: right;\n    }\n</style>\n<table border=\"1\" class=\"dataframe\">\n  <thead>\n    <tr style=\"text-align: right;\">\n      <th></th>\n      <th>Survived</th>\n      <th>Pclass</th>\n      <th>Name</th>\n      <th>Sex</th>\n      <th>Age</th>\n      <th>Siblings/Spouses Aboard</th>\n      <th>Parents/Children Aboard</th>\n      <th>Fare</th>\n    </tr>\n  </thead>\n  <tbody>\n    <tr>\n      <td>0</td>\n      <td>0</td>\n      <td>3</td>\n      <td>Mr. Owen Harris Braund</td>\n      <td>male</td>\n      <td>22.0</td>\n      <td>1</td>\n      <td>0</td>\n      <td>7.2500</td>\n    </tr>\n    <tr>\n      <td>1</td>\n      <td>1</td>\n      <td>1</td>\n      <td>Mrs. John Bradley (Florence Briggs Thayer) Cum...</td>\n      <td>female</td>\n      <td>38.0</td>\n      <td>1</td>\n      <td>0</td>\n      <td>71.2833</td>\n    </tr>\n    <tr>\n      <td>2</td>\n      <td>1</td>\n      <td>3</td>\n      <td>Miss. Laina Heikkinen</td>\n      <td>female</td>\n      <td>26.0</td>\n      <td>0</td>\n      <td>0</td>\n      <td>7.9250</td>\n    </tr>\n    <tr>\n      <td>3</td>\n      <td>1</td>\n      <td>1</td>\n      <td>Mrs. Jacques Heath (Lily May Peel) Futrelle</td>\n      <td>female</td>\n      <td>35.0</td>\n      <td>1</td>\n      <td>0</td>\n      <td>53.1000</td>\n    </tr>\n    <tr>\n      <td>4</td>\n      <td>0</td>\n      <td>3</td>\n      <td>Mr. William Henry Allen</td>\n      <td>male</td>\n      <td>35.0</td>\n      <td>0</td>\n      <td>0</td>\n      <td>8.0500</td>\n    </tr>\n  </tbody>\n</table>\n</div>",
      "text/plain": "   Survived  Pclass                                               Name  \\\n0         0       3                             Mr. Owen Harris Braund   \n1         1       1  Mrs. John Bradley (Florence Briggs Thayer) Cum...   \n2         1       3                              Miss. Laina Heikkinen   \n3         1       1        Mrs. Jacques Heath (Lily May Peel) Futrelle   \n4         0       3                            Mr. William Henry Allen   \n\n      Sex   Age  Siblings/Spouses Aboard  Parents/Children Aboard     Fare  \n0    male  22.0                        1                        0   7.2500  \n1  female  38.0                        1                        0  71.2833  \n2  female  26.0                        0                        0   7.9250  \n3  female  35.0                        1                        0  53.1000  \n4    male  35.0                        0                        0   8.0500  "
     },
     "execution_count": 3,
     "metadata": {},
     "output_type": "execute_result"
    }
   ],
   "source": [
    "df.head()"
   ]
  },
  {
   "cell_type": "code",
   "execution_count": 4,
   "metadata": {},
   "outputs": [
    {
     "data": {
      "text/plain": "Survived                     int64\nPclass                       int64\nName                        object\nSex                         object\nAge                        float64\nSiblings/Spouses Aboard      int64\nParents/Children Aboard      int64\nFare                       float64\ndtype: object"
     },
     "execution_count": 4,
     "metadata": {},
     "output_type": "execute_result"
    }
   ],
   "source": [
    "df.dtypes"
   ]
  },
  {
   "cell_type": "markdown",
   "execution_count": null,
   "metadata": {},
   "outputs": [],
   "source": [
    "We have some very long names!"
   ]
  },
  {
   "cell_type": "code",
   "execution_count": 21,
   "metadata": {},
   "outputs": [
    {
     "data": {
      "text/plain": "55"
     },
     "execution_count": 21,
     "metadata": {},
     "output_type": "execute_result"
    }
   ],
   "source": [
    "len(max(df['Name']))"
   ]
  },
  {
   "cell_type": "markdown",
   "execution_count": null,
   "metadata": {},
   "outputs": [],
   "source": [
    "And some ages that are very specific..."
   ]
  },
  {
   "cell_type": "code",
   "execution_count": 7,
   "metadata": {},
   "outputs": [
    {
     "data": {
      "text/plain": "56     28.50\n77      0.83\n110    14.50\n115    70.50\n121    32.50\n122    32.50\n147    36.50\n151    55.50\n152    40.50\n202    45.50\n226    20.50\n294    23.50\n303     0.92\n329    45.50\n466     0.75\n522    40.50\n641     0.75\n673    24.50\n731    28.50\n751     0.67\n763    30.50\n799     0.42\n810    30.50\n827     0.83\n839    34.50\nName: Age, dtype: float64"
     },
     "execution_count": 7,
     "metadata": {},
     "output_type": "execute_result"
    }
   ],
   "source": [
    "df[df['Age'] % 1 != 0]['Age']"
   ]
  },
  {
   "cell_type": "markdown",
   "execution_count": null,
   "metadata": {},
   "outputs": [],
   "source": [
    "Why would they include 4 decimal places?"
   ]
  },
  {
   "cell_type": "code",
   "execution_count": 16,
   "metadata": {},
   "outputs": [
    {
     "data": {
      "text/plain": "0       7.2500\n1      71.2833\n2       7.9250\n3      53.1000\n4       8.0500\n        ...   \n882    13.0000\n883    30.0000\n884    23.4500\n885    30.0000\n886     7.7500\nName: Fare, Length: 887, dtype: float64"
     },
     "execution_count": 16,
     "metadata": {},
     "output_type": "execute_result"
    }
   ],
   "source": [
    "df['Fare']"
   ]
  },
  {
   "cell_type": "code",
   "execution_count": 92,
   "metadata": {},
   "outputs": [
    {
     "data": {
      "text/plain": "\"(0, 3, 'Mr. Owen Harris Braund', 'male', 22.0, 1, 0, 7.25)\""
     },
     "execution_count": 92,
     "metadata": {},
     "output_type": "execute_result"
    }
   ],
   "source": [
    "str(df.loc[0,:].tolist()).replace('[','(').replace(']',')')"
   ]
  },
  {
   "cell_type": "code",
   "execution_count": 98,
   "metadata": {},
   "outputs": [],
   "source": [
    "titanic_list = []\n",
    "for i in df.index:\n",
    "    titanic_list.append(df.loc[i,:].tolist())"
   ]
  },
  {
   "cell_type": "code",
   "execution_count": 105,
   "metadata": {},
   "outputs": [
    {
     "data": {
      "text/plain": "\"(1, 1, 'Mrs. Jacques Heath (Lily May Peel) Futrelle', 'female', 35.0, 1, 0, 53.1)\""
     },
     "execution_count": 105,
     "metadata": {},
     "output_type": "execute_result"
    }
   ],
   "source": [
    "str(titanic_list[3]).replace('[','(').replace(']',')')"
   ]
  },
  {
   "cell_type": "code",
   "execution_count": 102,
   "metadata": {},
   "outputs": [
    {
     "name": "stdout",
     "output_type": "stream",
     "text": "(Alice Munger) Silvey', 'female', 39.0, 1, 0, 55.9)\n(0, 3, 'Mrs. Joseph (Maria Elias) Caram', 'female', 18.0, 1, 0, 14.4583)\n(1, 3, 'Mr. Eiriik Jussila', 'male', 32.0, 0, 0, 7.925)\n(1, 2, 'Miss. Julie Rachel Christy', 'female', 25.0, 1, 1, 30.0)\n(1, 1, 'Mrs. John Borland (Marian Longstreth Morris) Thayer', 'female', 39.0, 1, 1, 110.8833)\n(0, 2, 'Mr. William James Downton', 'male', 54.0, 0, 0, 26.0)\n(0, 1, 'Mr. John Hugo Ross', 'male', 36.0, 0, 0, 40.125)\n(0, 3, 'Mr. Uscher Paulner', 'male', 16.0, 0, 0, 8.7125)\n(1, 1, 'Miss. Ruth Taussig', 'female', 18.0, 0, 2, 79.65)\n(0, 2, 'Mr. John Denzil Jarvis', 'male', 47.0, 0, 0, 15.0)\n(1, 1, 'Mr. Maxmillian Frolicher-Stehli', 'male', 60.0, 1, 1, 79.2)\n(0, 3, 'Mr. Eliezer Gilinski', 'male', 22.0, 0, 0, 8.05)\n(0, 3, 'Mr. Joseph Murdlin', 'male', 22.0, 0, 0, 8.05)\n(0, 3, 'Mr. Matti Rintamaki', 'male', 35.0, 0, 0, 7.125)\n(1, 1, 'Mrs. Walter Bertram (Martha Eustis) Stephenson', 'female', 52.0, 1, 0, 78.2667)\n(0, 3, 'Mr. William James Elsbury', 'male', 47.0, 0, 0, 7.25)\n(0, 3, 'Miss. Mary Bourke', 'female', 40.0, 0, 2, 7.75)\n(0, 2, 'Mr. John Henry Chapman', 'male', 37.0, 1, 0, 26.0)\n(0, 3, 'Mr. Jean Baptiste Van Impe', 'male', 36.0, 1, 1, 24.15)\n(1, 2, 'Miss. Jessie Wills Leitch', 'female', 31.0, 0, 0, 33.0)\n(0, 3, 'Mr. Alfred Johnson', 'male', 49.0, 0, 0, 0.0)\n(0, 3, 'Mr. Hanna Boulos', 'male', 18.0, 0, 0, 7.225)\n(1, 1, 'Sir. Cosmo Edmund Duff Gordon', 'male', 49.0, 1, 0, 56.9292)\n(1, 2, 'Mrs. Sidney Samuel (Amy Frances Christy) Jacobsohn', 'female', 24.0, 2, 1, 27.0)\n(0, 3, 'Mr. Petco Slabenoff', 'male', 42.0, 0, 0, 7.8958)\n(0, 1, 'Mr. Charles H Harrington', 'male', 37.0, 0, 0, 42.4)\n(0, 3, 'Mr. Ernst William Torber', 'male', 44.0, 0, 0, 8.05)\n(1, 1, 'Mr. Harry Homer', 'male', 35.0, 0, 0, 26.55)\n(0, 3, 'Mr. Edvard Bengtsson Lindell', 'male', 36.0, 1, 0, 15.55)\n(0, 3, 'Mr. Milan Karaic', 'male', 30.0, 0, 0, 7.8958)\n(1, 1, 'Mr. Robert Williams Daniel', 'male', 27.0, 0, 0, 30.5)\n(1, 2, 'Mrs. Joseph (Juliette Marie Louise Lafargue) Laroche', 'female', 22.0, 1, 2, 41.5792)\n(1, 1, 'Miss. Elizabeth W Shutes', 'female', 40.0, 0, 0, 153.4625)\n(0, 3, 'Mrs. Anders Johan (Alfrida Konstantia Brogren) Andersson', 'female', 39.0, 1, 5, 31.275)\n(0, 3, 'Mr. Jose Neto Jardin', 'male', 21.0, 0, 0, 7.05)\n(1, 3, 'Miss. Margaret Jane Murphy', 'female', 18.0, 1, 0, 15.5)\n(0, 3, 'Mr. John Horgan', 'male', 22.0, 0, 0, 7.75)\n(0, 3, 'Mr. William Alfred Brocklebank', 'male', 35.0, 0, 0, 8.05)\n(1, 2, 'Miss. Alice Herman', 'female', 24.0, 1, 2, 65.0)\n(0, 3, 'Mr. Ernst Gilbert Danbom', 'male', 34.0, 1, 1, 14.4)\n(0, 3, 'Mrs. William Arthur (Cordelia K Stanlick) Lobb', 'female', 26.0, 1, 0, 16.1)\n(1, 2, 'Miss. Marion Louise Becker', 'female', 4.0, 2, 1, 39.0)\n(0, 2, 'Mr. Lawrence Gavey', 'male', 26.0, 0, 0, 10.5)\n(0, 3, 'Mr. Antoni Yasbeck', 'male', 27.0, 1, 0, 14.4542)\n(1, 1, 'Mr. Edwin Nelson Jr Kimball', 'male', 42.0, 1, 0, 52.5542)\n(1, 3, 'Mr. Sahid Nakid', 'male', 20.0, 1, 1, 15.7417)\n(0, 3, 'Mr. Henry Damsgaard Hansen', 'male', 21.0, 0, 0, 7.8542)\n(0, 3, 'Mr. David John Bowen', 'male', 21.0, 0, 0, 16.1)\n(0, 1, 'Mr. Frederick Sutton', 'male', 61.0, 0, 0, 32.3208)\n(0, 2, 'Rev. Charles Leonard Kirkland', 'male', 57.0, 0, 0, 12.35)\n(1, 1, 'Miss. Gretchen Fiske Longley', 'female', 21.0, 0, 0, 77.9583)\n(0, 3, 'Mr. Guentcho Bostandyeff', 'male', 26.0, 0, 0, 7.8958)\n(0, 3, \"Mr. Patrick D O'Connell\", 'male', 18.0, 0, 0, 7.7333)\n(1, 1, 'Mr. Algernon Henry Wilson Barkworth', 'male', 80.0, 0, 0, 30.0)\n(0, 3, 'Mr. Johan Svensson Lundahl', 'male', 51.0, 0, 0, 7.0542)\n(1, 1, 'Dr. Max Stahelin-Maeglin', 'male', 32.0, 0, 0, 30.5)\n(0, 1, 'Mr. William Henry Marsh Parr', 'male', 30.0, 0, 0, 0.0)\n(0, 3, 'Miss. Mabel Skoog', 'female', 9.0, 3, 2, 27.9)\n(1, 2, 'Miss. Mary Davis', 'female', 28.0, 0, 0, 13.0)\n(0, 3, 'Mr. Antti Gustaf Leinonen', 'male', 32.0, 0, 0, 7.925)\n(0, 2, 'Mr. Harvey Collyer', 'male', 31.0, 1, 1, 26.25)\n(0, 3, 'Mrs. Juha (Maria Emilia Ojala) Panula', 'female', 41.0, 0, 5, 39.6875)\n(0, 3, 'Mr. Percival Thorneycroft', 'male', 37.0, 1, 0, 16.1)\n(0, 3, 'Mr. Hans Peder Jensen', 'male', 20.0, 0, 0, 7.8542)\n(1, 1, 'Mlle. Emma Sagesser', 'female', 24.0, 0, 0, 69.3)\n(0, 3, 'Miss. Margit Elizabeth Skoog', 'female', 2.0, 3, 2, 27.9)\n(1, 3, 'Mr. Choong Foo', 'male', 32.0, 0, 0, 56.4958)\n(1, 3, 'Miss. Eugenie Baclini', 'female', 0.75, 2, 1, 19.2583)\n(1, 1, 'Mr. Henry Sleeper Harper', 'male', 48.0, 1, 0, 76.7292)\n(0, 3, 'Mr. Liudevit Cor', 'male', 19.0, 0, 0, 7.8958)\n(1, 1, 'Col. Oberst Alfons Simonius-Blumer', 'male', 56.0, 0, 0, 35.5)\n(0, 3, 'Mr. Edward Willey', 'male', 21.0, 0, 0, 7.55)\n(1, 3, 'Miss. Amy Zillah Elsie Stanley', 'female', 23.0, 0, 0, 7.55)\n(0, 3, 'Mr. Mito Mitkoff', 'male', 23.0, 0, 0, 7.8958)\n(1, 2, 'Miss. Elsie Doling', 'female', 18.0, 0, 1, 23.0)\n(0, 3, 'Mr. Johannes Halvorsen Kalvik', 'male', 21.0, 0, 0, 8.4333)\n(1, 3, \"Miss. Hanora O'Leary\", 'female', 16.0, 0, 0, 7.8292)\n(0, 3, 'Miss. Hanora Hegarty', 'female', 18.0, 0, 0, 6.75)\n(0, 2, 'Mr. Leonard Mark Hickman', 'male', 24.0, 2, 0, 73.5)\n(0, 3, 'Mr. Alexander Radeff', 'male', 27.0, 0, 0, 7.8958)\n(0, 3, 'Mrs. John (Catherine) Bourke', 'female', 32.0, 1, 1, 15.5)\n(0, 2, 'Mr. George Floyd Eitemiller', 'male', 23.0, 0, 0, 13.0)\n(0, 1, 'Mr. Arthur Webster Newell', 'male', 58.0, 0, 2, 113.275)\n(1, 1, 'Dr. Henry William Frauenthal', 'male', 50.0, 2, 0, 133.65)\n(0, 3, 'Mr. Mohamed Badt', 'male', 40.0, 0, 0, 7.225)\n(0, 1, 'Mr. Edward Pomeroy Colley', 'male', 47.0, 0, 0, 25.5875)\n(0, 3, 'Mr. Peju Coleff', 'male', 36.0, 0, 0, 7.4958)\n(1, 3, 'Mr. Eino William Lindqvist', 'male', 20.0, 1, 0, 7.925)\n(0, 2, 'Mr. Lewis Hickman', 'male', 32.0, 2, 0, 73.5)\n(0, 2, 'Mr. Reginald Fenton Butler', 'male', 25.0, 0, 0, 13.0)\n(0, 3, 'Mr. Knud Paust Rommetvedt', 'male', 49.0, 0, 0, 7.775)\n(0, 3, 'Mr. Jacob Cook', 'male', 43.0, 0, 0, 8.05)\n(1, 1, 'Mrs. Elmer Zebley (Juliet Cummins Wright) Taylor', 'female', 48.0, 1, 0, 52.0)\n(1, 2, 'Mrs. Thomas William Solomon (Elizabeth Catherine Ford) Brown', 'female', 40.0, 1, 1, 39.0)\n(0, 1, 'Mr. Thornton Davidson', 'male', 31.0, 1, 0, 52.0)\n(0, 2, 'Mr. Henry Michael Mitchell', 'male', 70.0, 0, 0, 10.5)\n(1, 2, 'Mr. Charles Wilhelms', 'male', 31.0, 0, 0, 13.0)\n(0, 2, 'Mr. Ennis Hastings Watson', 'male', 19.0, 0, 0, 0.0)\n(0, 3, 'Mr. Gustaf Hjalmar Edvardsson', 'male', 18.0, 0, 0, 7.775)\n(0, 3, 'Mr. Frederick Charles Sawyer', 'male', 24.5, 0, 0, 8.05)\n(1, 3, 'Miss. Anna Sofia Turja', 'female', 18.0, 0, 0, 9.8417)\n(0, 3, 'Mrs. Frederick (Augusta Tyler) Goodwin', 'female', 43.0, 1, 6, 46.9)\n(1, 1, 'Mr. Thomas Drake Martinez Cardeza', 'male', 36.0, 0, 1, 512.3292)\n(0, 3, 'Miss. Katie Peters', 'female', 28.0, 0, 0, 8.1375)\n(1, 1, 'Mr. Hammad Hassab', 'male', 27.0, 0, 0, 76.7292)\n(0, 3, 'Mr. Thor Anderson Olsvigen', 'male', 20.0, 0, 0, 9.225)\n(0, 3, 'Mr. Charles Edward Goodwin', 'male', 14.0, 5, 2, 46.9)\n(0, 2, 'Mr. Thomas William Solomon Brown', 'male', 60.0, 1, 1, 39.0)\n(0, 2, 'Mr. Joseph Philippe Lemercier Laroche', 'male', 25.0, 1, 2, 41.5792)\n(0, 3, 'Mr. Jaako Arnold Panula', 'male', 14.0, 4, 1, 39.6875)\n(0, 3, 'Mr. Branko Dakic', 'male', 19.0, 0, 0, 10.1708)\n(0, 3, 'Mr. Eberhard Thelander Fischer', 'male', 18.0, 0, 0, 7.7958)\n(1, 1, 'Miss. Georgette Alexandra Madill', 'female', 15.0, 0, 1, 211.3375)\n(1, 1, 'Mr. Albert Adrian Dick', 'male', 31.0, 1, 0, 57.0)\n(1, 3, 'Miss. Manca Karun', 'female', 4.0, 0, 1, 13.4167)\n(1, 3, 'Mr. Ali Lam', 'male', 37.0, 0, 0, 56.4958)\n(0, 3, 'Mr. Khalil Saad', 'male', 25.0, 0, 0, 7.225)\n(0, 1, 'Col. John Weir', 'male', 60.0, 0, 0, 26.55)\n(0, 2, 'Mr. Charles Henry Chapman', 'male', 52.0, 0, 0, 13.5)\n(0, 3, 'Mr. James Kelly', 'male', 44.0, 0, 0, 8.05)\n(1, 3, 'Miss. Katherine Mullens', 'female', 19.0, 0, 0, 7.7333)\n(0, 1, 'Mr. John Borland Thayer', 'male', 49.0, 1, 1, 110.8833)\n(0, 3, 'Mr. Adolf Mathias Nicolai Olsen Humblen', 'male', 42.0, 0, 0, 7.65)\n(1, 1, 'Mrs. John Jacob (Madeleine Talmadge Force) Astor', 'female', 18.0, 1, 0, 227.525)\n(1, 1, 'Mr. Spencer Victor Silverthorne', 'male', 35.0, 0, 0, 26.2875)\n(0, 3, 'Miss. Saiide Barbara', 'female', 18.0, 0, 1, 14.4542)\n(0, 3, 'Mr. Martin Gallagher', 'male', 25.0, 0, 0, 7.7417)\n(0, 3, 'Mr. Henrik Juul Hansen', 'male', 26.0, 1, 0, 7.8542)\n(0, 2, 'Mr. Henry Samuel Morley', 'male', 39.0, 0, 0, 26.0)\n(1, 2, 'Mrs. Florence Kelly', 'female', 45.0, 0, 0, 13.5)\n(1, 1, 'Mr. Edward Pennington Calderhead', 'male', 42.0, 0, 0, 26.2875)\n(1, 1, 'Miss. Alice Cleaver', 'female', 22.0, 0, 0, 151.55)\n(1, 3, 'Master. Halim Gonios Moubarek', 'male', 4.0, 1, 1, 15.2458)\n(1, 1, 'Mlle. Berthe Antonine Mayne', 'female', 24.0, 0, 0, 49.5042)\n(0, 1, 'Mr. Herman Klaber', 'male', 41.0, 0, 0, 26.55)\n(1, 1, 'Mr. Elmer Zebley Taylor', 'male', 48.0, 1, 0, 52.0)\n(0, 3, 'Mr. August Viktor Larsson', 'male', 29.0, 0, 0, 9.4833)\n(0, 2, 'Mr. Samuel Greenberg', 'male', 52.0, 0, 0, 13.0)\n(0, 3, 'Mr. Peter Andreas Lauritz Andersen Soholt', 'male', 19.0, 0, 0, 7.65)\n(1, 1, 'Miss. Caroline Louise Endres', 'female', 38.0, 0, 0, 227.525)\n(1, 2, 'Miss. Edwina Celia Troutt', 'female', 27.0, 0, 0, 10.5)\n(0, 3, 'Mr. Malkolm Joackim Johnson', 'male', 33.0, 0, 0, 7.775)\n(1, 2, 'Miss. Annie Jessie Harper', 'female', 6.0, 0, 1, 33.0)\n(0, 3, 'Mr. Svend Lauritz Jensen', 'male', 17.0, 1, 0, 7.0542)\n(0, 2, 'Mr. William Henry Gillespie', 'male', 34.0, 0, 0, 13.0)\n(0, 2, 'Mr. Henry Price Hodges', 'male', 50.0, 0, 0, 13.0)\n(1, 1, 'Mr. Norman Campbell Chambers', 'male', 27.0, 1, 0, 53.1)\n(0, 3, 'Mr. Luka Oreskovic', 'male', 20.0, 0, 0, 8.6625)\n(1, 2, 'Mrs. Peter Henry (Lillian Jefferys) Renouf', 'female', 30.0, 3, 0, 21.0)\n(1, 3, 'Miss. Margareth Mannion', 'female', 28.0, 0, 0, 7.7375)\n(0, 2, 'Mr. Kurt Arnold Gottfrid Bryhl', 'male', 25.0, 1, 0, 26.0)\n(0, 3, 'Miss. Pieta Sofia Ilmakangas', 'female', 25.0, 1, 0, 7.925)\n(1, 1, 'Miss. Elisabeth Walton Allen', 'female', 29.0, 0, 0, 211.3375)\n(0, 3, 'Mr. Houssein G N Hassan', 'male', 11.0, 0, 0, 18.7875)\n(0, 2, 'Mr. Robert J Knight', 'male', 41.0, 0, 0, 0.0)\n(0, 2, 'Mr. William John Berriman', 'male', 23.0, 0, 0, 13.0)\n(0, 2, 'Mr. Moses Aaron Troupiansky', 'male', 23.0, 0, 0, 13.0)\n(0, 3, 'Mr. Leslie Williams', 'male', 28.5, 0, 0, 16.1)\n(0, 3, 'Mrs. Edward (Margaret Ann Watson) Ford', 'female', 48.0, 1, 3, 34.375)\n(1, 1, 'Mr. Gustave J Lesurer', 'male', 35.0, 0, 0, 512.3292)\n(0, 3, 'Mr. Kanio Ivanoff', 'male', 20.0, 0, 0, 7.8958)\n(0, 3, 'Mr. Minko Nankoff', 'male', 32.0, 0, 0, 7.8958)\n(1, 1, 'Mr. Walter James Hawksford', 'male', 45.0, 0, 0, 30.0)\n(0, 1, 'Mr. Tyrell William Cavendish', 'male', 36.0, 1, 0, 78.85)\n(1, 1, 'Miss. Susan Parker Ryerson', 'female', 21.0, 2, 2, 262.375)\n(0, 3, 'Mr. Neal McNamee', 'male', 24.0, 1, 0, 16.1)\n(1, 3, 'Mr. Juho Stranden', 'male', 31.0, 0, 0, 7.925)\n(0, 1, 'Capt. Edward Gifford Crosby', 'male', 70.0, 1, 1, 71.0)\n(0, 3, 'Mr. Rossmore Edward Abbott', 'male', 16.0, 1, 1, 20.25)\n(1, 2, 'Miss. Anna Sinkkonen', 'female', 30.0, 0, 0, 13.0)\n(0, 1, 'Mr. Daniel Warner Marvin', 'male', 19.0, 1, 0, 53.1)\n(0, 3, 'Mr. Michael Connaghton', 'male', 31.0, 0, 0, 7.75)\n(1, 2, 'Miss. Joan Wells', 'female', 4.0, 1, 1, 23.0)\n(1, 3, 'Master. Meier Moor', 'male', 6.0, 0, 1, 12.475)\n(0, 3, 'Mr. Johannes Joseph Vande Velde', 'male', 33.0, 0, 0, 9.5)\n(0, 3, 'Mr. Lalio Jonkoff', 'male', 23.0, 0, 0, 7.8958)\n(1, 2, 'Mrs. Samuel (Jane Laver) Herman', 'female', 48.0, 1, 2, 65.0)\n(1, 2, 'Master. Viljo Hamalainen', 'male', 0.67, 1, 1, 14.5)\n(0, 3, 'Mr. August Sigfrid Carlsson', 'male', 28.0, 0, 0, 7.7958)\n(0, 2, 'Mr. Percy Andrew Bailey', 'male', 18.0, 0, 0, 11.5)\n(0, 3, 'Mr. Thomas Leonard Theobald', 'male', 34.0, 0, 0, 8.05)\n(1, 1, 'the Countess. of (Lucy Noel Martha Dyer-Edwards) Rothes', 'female', 33.0, 0, 0, 86.5)\n(0, 3, 'Mr. John Garfirth', 'male', 23.0, 0, 0, 14.5)\n(0, 3, 'Mr. Iisakki Antino Aijo Nirva', 'male', 41.0, 0, 0, 7.125)\n(1, 3, 'Mr. Hanna Assi Barah', 'male', 20.0, 0, 0, 7.2292)\n(1, 1, 'Mrs. William Ernest (Lucile Polk) Carter', 'female', 36.0, 1, 2, 120.0)\n(0, 3, 'Mr. Hans Linus Eklund', 'male', 16.0, 0, 0, 7.775)\n(1, 1, 'Mrs. John C (Anna Andrews) Hogeboom', 'female', 51.0, 1, 0, 77.9583)\n(0, 1, 'Dr. Arthur Jackson Brewe', 'male', 46.0, 0, 0, 39.6)\n(0, 3, 'Miss. Mary Mangan', 'female', 30.5, 0, 0, 7.75)\n(0, 3, 'Mr. Daniel J Moran', 'male', 28.0, 1, 0, 24.15)\n(0, 3, 'Mr. Daniel Danielsen Gronnestad', 'male', 32.0, 0, 0, 8.3625)\n(0, 3, 'Mr. Rene Aime Lievens', 'male', 24.0, 0, 0, 9.5)\n(0, 3, 'Mr. Niels Peder Jensen', 'male', 48.0, 0, 0, 7.8542)\n(0, 2, 'Mrs. (Mary) Mack', 'female', 57.0, 0, 0, 10.5)\n(0, 3, 'Mr. Dibo Elias', 'male', 29.0, 0, 0, 7.225)\n(1, 2, 'Mrs. Elizabeth (Eliza Needs) Hocking', 'female', 54.0, 1, 3, 23.0)\n(0, 3, 'Mr. Pehr Fabian Oliver Malkolm Myhrman', 'male', 18.0, 0, 0, 7.75)\n(0, 3, 'Mr. Roger Tobin', 'male', 20.0, 0, 0, 7.75)\n(1, 3, 'Miss. Virginia Ethel Emanuel', 'female', 5.0, 0, 0, 12.475)\n(0, 3, 'Mr. Thomas J Kilgannon', 'male', 22.0, 0, 0, 7.7375)\n(1, 1, 'Mrs. Edward Scott (Elisabeth Walton McMillan) Robert', 'female', 43.0, 0, 1, 211.3375)\n(1, 3, 'Miss. Banoura Ayoub', 'female', 13.0, 0, 0, 7.2292)\n(1, 1, 'Mrs. Albert Adrian (Vera Gillespie) Dick', 'female', 17.0, 1, 0, 57.0)\n(0, 1, 'Mr. Milton Clyde Long', 'male', 29.0, 0, 0, 30.0)\n(0, 3, 'Mr. Andrew G Johnston', 'male', 35.0, 1, 2, 23.45)\n(0, 3, 'Mr. William Ali', 'male', 25.0, 0, 0, 7.05)\n(0, 3, 'Mr. Abraham (David Lishin) Harmer', 'male', 25.0, 0, 0, 7.25)\n(1, 3, 'Miss. Anna Sofia Sjoblom', 'female', 18.0, 0, 0, 7.4958)\n(0, 3, 'Master. George Hugh Rice', 'male', 8.0, 4, 1, 29.125)\n(1, 3, 'Master. Bertram Vere Dean', 'male', 1.0, 1, 2, 20.575)\n(0, 1, 'Mr. Benjamin Guggenheim', 'male', 46.0, 0, 0, 79.2)\n(0, 3, 'Mr. Andrew Keane', 'male', 20.0, 0, 0, 7.75)\n(0, 2, 'Mr. Alfred Gaskell', 'male', 16.0, 0, 0, 26.0)\n(0, 3, 'Miss. Stella Anna Sage', 'female', 21.0, 8, 2, 69.55)\n(0, 1, 'Mr. William Fisher Hoyt', 'male', 43.0, 0, 0, 30.6958)\n(0, 3, 'Mr. Ristiu Dantcheff', 'male', 25.0, 0, 0, 7.8958)\n(0, 2, 'Mr. Richard Otter', 'male', 39.0, 0, 0, 13.0)\n(1, 1, 'Dr. Alice (Farnham) Leader', 'female', 49.0, 0, 0, 25.9292)\n(1, 3, 'Mrs. Mara Osman', 'female', 31.0, 0, 0, 8.6833)\n(0, 3, 'Mr. Yousseff Ibrahim Shawah', 'male', 30.0, 0, 0, 7.2292)\n(0, 3, 'Mrs. Jean Baptiste (Rosalie Paula Govaert) Van Impe', 'female', 30.0, 1, 1, 24.15)\n(0, 2, 'Mr. Martin Ponesell', 'male', 34.0, 0, 0, 13.0)\n(1, 2, 'Mrs. Harvey (Charlotte Annie Tate) Collyer', 'female', 31.0, 1, 1, 26.25)\n(1, 1, 'Master. William Thornton II Carter', 'male', 11.0, 1, 2, 120.0)\n(1, 3, 'Master. Assad Alexander Thomas', 'male', 0.42, 0, 1, 8.5167)\n(1, 3, 'Mr. Oskar Arvid Hedman', 'male', 27.0, 0, 0, 6.975)\n(0, 3, 'Mr. Karl Johan Johansson', 'male', 31.0, 0, 0, 7.775)\n(0, 1, 'Mr. Thomas Jr Andrews', 'male', 39.0, 0, 0, 0.0)\n(0, 3, 'Miss. Ellen Natalia Pettersson', 'female', 18.0, 0, 0, 7.775)\n(0, 2, 'Mr. August Meyer', 'male', 39.0, 0, 0, 13.0)\n(1, 1, 'Mrs. Norman Campbell (Bertha Griggs) Chambers', 'female', 33.0, 1, 0, 53.1)\n(0, 3, 'Mr. William Alexander', 'male', 26.0, 0, 0, 7.8875)\n(0, 3, 'Mr. James Lester', 'male', 39.0, 0, 0, 24.15)\n(0, 2, 'Mr. Richard James Slemen', 'male', 35.0, 0, 0, 10.5)\n(0, 3, 'Miss. Ebba Iris Alfrida Andersson', 'female', 6.0, 4, 2, 31.275)\n(0, 3, 'Mr. Ernest Portage Tomlin', 'male', 30.5, 0, 0, 8.05)\n(0, 1, 'Mr. Richard Fry', 'male', 39.0, 0, 0, 0.0)\n(0, 3, 'Miss. Wendla Maria Heininen', 'female', 23.0, 0, 0, 7.925)\n(0, 2, 'Mr. Albert Mallet', 'male', 31.0, 1, 1, 37.0042)\n(0, 3, 'Mr. John Fredrik Alexander Holm', 'male', 43.0, 0, 0, 6.45)\n(0, 3, 'Master. Karl Thorsten Skoog', 'male', 10.0, 3, 2, 27.9)\n(1, 1, 'Mrs. Charles Melville (Clara Jennings Gregg) Hays', 'female', 52.0, 1, 1, 93.5)\n(1, 3, 'Mr. Nikola Lulic', 'male', 27.0, 0, 0, 8.6625)\n(0, 1, 'Jonkheer. John George Reuchlin', 'male', 38.0, 0, 0, 0.0)\n(1, 3, 'Mrs. (Beila) Moor', 'female', 27.0, 0, 1, 12.475)\n(0, 3, 'Master. Urho Abraham Panula', 'male', 2.0, 4, 1, 39.6875)\n(0, 3, 'Mr. John Flynn', 'male', 36.0, 0, 0, 6.95)\n(0, 3, 'Mr. Len Lam', 'male', 23.0, 0, 0, 56.4958)\n(1, 2, 'Master. Andre Mallet', 'male', 1.0, 0, 2, 37.0042)\n(1, 3, 'Mr. Thomas Joseph McCormack', 'male', 19.0, 0, 0, 7.75)\n(1, 1, 'Mrs. George Nelson (Martha Evelyn) Stone', 'female', 62.0, 0, 0, 80.0)\n(1, 3, 'Mrs. Antoni (Selini Alexander) Yasbeck', 'female', 15.0, 1, 0, 14.4542)\n(1, 2, 'Master. George Sibley Richards', 'male', 0.83, 1, 1, 18.75)\n(0, 3, 'Mr. Amin Saad', 'male', 30.0, 0, 0, 7.2292)\n(0, 3, 'Mr. Albert Augustsson', 'male', 23.0, 0, 0, 7.8542)\n(0, 3, 'Mr. Owen George Allum', 'male', 18.0, 0, 0, 8.3)\n(1, 1, 'Miss. Sara Rebecca Compton', 'female', 39.0, 1, 1, 83.1583)\n(0, 3, 'Mr. Jakob Pasic', 'male', 21.0, 0, 0, 8.6625)\n(0, 3, 'Mr. Maurice Sirota', 'male', 20.0, 0, 0, 8.05)\n(1, 3, 'Mr. Chang Chip', 'male', 32.0, 0, 0, 56.4958)\n(1, 1, 'Mr. Pierre Marechal', 'male', 29.0, 0, 0, 29.7)\n(0, 3, 'Mr. Ilmari Rudolf Alhomaki', 'male', 20.0, 0, 0, 7.925)\n(0, 2, 'Mr. Thomas Charles Mudd', 'male', 16.0, 0, 0, 10.5)\n(1, 1, 'Miss. Augusta Serepeca', 'female', 30.0, 0, 0, 31.0)\n(0, 3, 'Mr. Peter L Lemberopolous', 'male', 34.5, 0, 0, 6.4375)\n(0, 3, 'Mr. Jeso Culumovic', 'male', 17.0, 0, 0, 8.6625)\n(0, 3, 'Mr. Anthony Abbing', 'male', 42.0, 0, 0, 7.55)\n(0, 3, 'Mr. Douglas Bullen Sage', 'male', 18.0, 8, 2, 69.55)\n(0, 3, 'Mr. Marin Markoff', 'male', 35.0, 0, 0, 7.8958)\n(0, 2, 'Rev. John Harper', 'male', 28.0, 0, 1, 33.0)\n(1, 1, 'Mrs. Samuel L (Edwiga Grabowska) Goldenberg', 'female', 40.0, 1, 0, 89.1042)\n(0, 3, 'Master. Sigvard Harald Elias Andersson', 'male', 4.0, 4, 2, 31.275)\n(0, 3, 'Mr. Johan Svensson', 'male', 74.0, 0, 0, 7.775)\n(0, 3, 'Miss. Nourelain Boulos', 'female', 9.0, 1, 1, 15.2458)\n(1, 1, 'Miss. Mary Conover Lines', 'female', 16.0, 0, 1, 39.4)\n(0, 2, 'Mrs. Ernest Courtenay (Lilian Hughes) Carter', 'female', 44.0, 1, 0, 26.0)\n(1, 3, 'Mrs. Sam (Leah Rosen) Aks', 'female', 18.0, 0, 1, 9.35)\n(1, 1, 'Mrs. George Dennick (Mary Hitchcock) Wick', 'female', 45.0, 1, 1, 164.8667)\n(1, 1, 'Mr. Peter Denis Daly', 'male', 51.0, 0, 0, 26.55)\n(1, 3, 'Mrs. Solomon (Latifa Qurban) Baclini', 'female', 24.0, 0, 3, 19.2583)\n(0, 3, 'Mr. Raihed Razi', 'male', 30.0, 0, 0, 7.2292)\n(0, 3, 'Mr. Claus Peter Hansen', 'male', 41.0, 2, 0, 14.1083)\n(0, 2, 'Mr. Frederick Edward Giles', 'male', 21.0, 1, 0, 11.5)\n(1, 1, 'Mrs. Frederick Joel (Margaret Welles Barron) Swift', 'female', 48.0, 0, 0, 25.9292)\n(0, 3, 'Miss. Dorothy Edith Sage', 'female', 14.0, 8, 2, 69.55)\n(0, 2, 'Mr. John William Gill', 'male', 24.0, 0, 0, 13.0)\n(1, 2, 'Mrs. (Karolina) Bystrom', 'female', 42.0, 0, 0, 13.0)\n(1, 2, 'Miss. Asuncion Duran y More', 'female', 27.0, 1, 0, 13.8583)\n(0, 1, 'Mr. Washington Augustus II Roebling', 'male', 31.0, 0, 0, 50.4958)\n(0, 3, 'Mr. Philemon van Melkebeke', 'male', 23.0, 0, 0, 9.5)\n(1, 3, 'Master. Harold Theodor Johnson', 'male', 4.0, 1, 1, 11.1333)\n(0, 3, 'Mr. Cerin Balkic', 'male', 26.0, 0, 0, 7.8958)\n(1, 1, 'Mrs. Richard Leonard (Sallie Monypeny) Beckwith', 'female', 47.0, 1, 1, 52.5542)\n(0, 1, 'Mr. Frans Olof Carlsson', 'male', 33.0, 0, 0, 5.0)\n(0, 3, 'Mr. Victor Vander Cruyssen', 'male', 47.0, 0, 0, 9.0)\n(1, 2, 'Mrs. Samuel (Hannah Wizosky) Abelson', 'female', 28.0, 1, 0, 24.0)\n(1, 3, 'Miss. Adele Kiamie Najib', 'female', 15.0, 0, 0, 7.225)\n(0, 3, 'Mr. Alfred Ossian Gustafsson', 'male', 20.0, 0, 0, 9.8458)\n(0, 3, 'Mr. Nedelio Petroff', 'male', 19.0, 0, 0, 7.8958)\n(0, 3, 'Mr. Kristo Laleff', 'male', 23.0, 0, 0, 7.8958)\n(1, 1, 'Mrs. Thomas Jr (Lily Alexenia Wilson) Potter', 'female', 56.0, 0, 1, 83.1583)\n(1, 2, 'Mrs. William (Imanita Parrish Hall) Shelley', 'female', 25.0, 0, 1, 26.0)\n(0, 3, 'Mr. Johann Markun', 'male', 33.0, 0, 0, 7.8958)\n(0, 3, 'Miss. Gerda Ulrika Dahlberg', 'female', 22.0, 0, 0, 10.5167)\n(0, 2, 'Mr. Frederick James Banfield', 'male', 28.0, 0, 0, 10.5)\n(0, 3, 'Mr. Henry Jr Sutehall', 'male', 25.0, 0, 0, 7.05)\n(0, 3, 'Mrs. William (Margaret Norton) Rice', 'female', 39.0, 0, 5, 29.125)\n(0, 2, 'Rev. Juozas Montvila', 'male', 27.0, 0, 0, 13.0)\n(1, 1, 'Miss. Margaret Edith Graham', 'female', 19.0, 0, 0, 30.0)\n(0, 3, 'Miss. Catherine Helen Johnston', 'female', 7.0, 1, 2, 23.45)\n(1, 1, 'Mr. Karl Howell Behr', 'male', 26.0, 0, 0, 30.0)\n(0, 3, 'Mr. Patrick Dooley', 'male', 32.0, 0, 0, 7.75)\n"
    }
   ],
   "source": [
    "for i in titanic_list:\n",
    "    print(str(i).replace('[','(').replace(']',')'))"
   ]
  },
  {
   "cell_type": "code",
   "execution_count": 112,
   "metadata": {},
   "outputs": [
    {
     "data": {
      "text/html": "<div>\n<style scoped>\n    .dataframe tbody tr th:only-of-type {\n        vertical-align: middle;\n    }\n\n    .dataframe tbody tr th {\n        vertical-align: top;\n    }\n\n    .dataframe thead th {\n        text-align: right;\n    }\n</style>\n<table border=\"1\" class=\"dataframe\">\n  <thead>\n    <tr style=\"text-align: right;\">\n      <th></th>\n      <th>Survived</th>\n      <th>Pclass</th>\n      <th>Name</th>\n      <th>Sex</th>\n      <th>Age</th>\n      <th>Siblings/Spouses Aboard</th>\n      <th>Parents/Children Aboard</th>\n      <th>Fare</th>\n    </tr>\n  </thead>\n  <tbody>\n    <tr>\n      <td>1</td>\n      <td>1</td>\n      <td>1</td>\n      <td>Mrs. John Bradley (Florence Briggs Thayer) Cum...</td>\n      <td>female</td>\n      <td>38.0</td>\n      <td>1</td>\n      <td>0</td>\n      <td>71.2833</td>\n    </tr>\n    <tr>\n      <td>3</td>\n      <td>1</td>\n      <td>1</td>\n      <td>Mrs. Jacques Heath (Lily May Peel) Futrelle</td>\n      <td>female</td>\n      <td>35.0</td>\n      <td>1</td>\n      <td>0</td>\n      <td>53.1000</td>\n    </tr>\n    <tr>\n      <td>8</td>\n      <td>1</td>\n      <td>3</td>\n      <td>Mrs. Oscar W (Elisabeth Vilhelmina Berg) Johnson</td>\n      <td>female</td>\n      <td>27.0</td>\n      <td>0</td>\n      <td>2</td>\n      <td>11.1333</td>\n    </tr>\n    <tr>\n      <td>9</td>\n      <td>1</td>\n      <td>2</td>\n      <td>Mrs. Nicholas (Adele Achem) Nasser</td>\n      <td>female</td>\n      <td>14.0</td>\n      <td>1</td>\n      <td>0</td>\n      <td>30.0708</td>\n    </tr>\n    <tr>\n      <td>15</td>\n      <td>1</td>\n      <td>2</td>\n      <td>Mrs. (Mary D Kingcome) Hewlett</td>\n      <td>female</td>\n      <td>55.0</td>\n      <td>0</td>\n      <td>0</td>\n      <td>16.0000</td>\n    </tr>\n    <tr>\n      <td>...</td>\n      <td>...</td>\n      <td>...</td>\n      <td>...</td>\n      <td>...</td>\n      <td>...</td>\n      <td>...</td>\n      <td>...</td>\n      <td>...</td>\n    </tr>\n    <tr>\n      <td>867</td>\n      <td>1</td>\n      <td>1</td>\n      <td>Mrs. Richard Leonard (Sallie Monypeny) Beckwith</td>\n      <td>female</td>\n      <td>47.0</td>\n      <td>1</td>\n      <td>1</td>\n      <td>52.5542</td>\n    </tr>\n    <tr>\n      <td>870</td>\n      <td>1</td>\n      <td>2</td>\n      <td>Mrs. Samuel (Hannah Wizosky) Abelson</td>\n      <td>female</td>\n      <td>28.0</td>\n      <td>1</td>\n      <td>0</td>\n      <td>24.0000</td>\n    </tr>\n    <tr>\n      <td>875</td>\n      <td>1</td>\n      <td>1</td>\n      <td>Mrs. Thomas Jr (Lily Alexenia Wilson) Potter</td>\n      <td>female</td>\n      <td>56.0</td>\n      <td>0</td>\n      <td>1</td>\n      <td>83.1583</td>\n    </tr>\n    <tr>\n      <td>876</td>\n      <td>1</td>\n      <td>2</td>\n      <td>Mrs. William (Imanita Parrish Hall) Shelley</td>\n      <td>female</td>\n      <td>25.0</td>\n      <td>0</td>\n      <td>1</td>\n      <td>26.0000</td>\n    </tr>\n    <tr>\n      <td>881</td>\n      <td>0</td>\n      <td>3</td>\n      <td>Mrs. William (Margaret Norton) Rice</td>\n      <td>female</td>\n      <td>39.0</td>\n      <td>0</td>\n      <td>5</td>\n      <td>29.1250</td>\n    </tr>\n  </tbody>\n</table>\n<p>127 rows × 8 columns</p>\n</div>",
      "text/plain": "     Survived  Pclass                                               Name  \\\n1           1       1  Mrs. John Bradley (Florence Briggs Thayer) Cum...   \n3           1       1        Mrs. Jacques Heath (Lily May Peel) Futrelle   \n8           1       3   Mrs. Oscar W (Elisabeth Vilhelmina Berg) Johnson   \n9           1       2                 Mrs. Nicholas (Adele Achem) Nasser   \n15          1       2                     Mrs. (Mary D Kingcome) Hewlett   \n..        ...     ...                                                ...   \n867         1       1    Mrs. Richard Leonard (Sallie Monypeny) Beckwith   \n870         1       2               Mrs. Samuel (Hannah Wizosky) Abelson   \n875         1       1       Mrs. Thomas Jr (Lily Alexenia Wilson) Potter   \n876         1       2        Mrs. William (Imanita Parrish Hall) Shelley   \n881         0       3                Mrs. William (Margaret Norton) Rice   \n\n        Sex   Age  Siblings/Spouses Aboard  Parents/Children Aboard     Fare  \n1    female  38.0                        1                        0  71.2833  \n3    female  35.0                        1                        0  53.1000  \n8    female  27.0                        0                        2  11.1333  \n9    female  14.0                        1                        0  30.0708  \n15   female  55.0                        0                        0  16.0000  \n..      ...   ...                      ...                      ...      ...  \n867  female  47.0                        1                        1  52.5542  \n870  female  28.0                        1                        0  24.0000  \n875  female  56.0                        0                        1  83.1583  \n876  female  25.0                        0                        1  26.0000  \n881  female  39.0                        0                        5  29.1250  \n\n[127 rows x 8 columns]"
     },
     "execution_count": 112,
     "metadata": {},
     "output_type": "execute_result"
    }
   ],
   "source": [
    "df[df['Name'].str.contains(\"\\'\" or \"\\'\")]"
   ]
  },
  {
   "cell_type": "code",
   "execution_count": 160,
   "metadata": {},
   "outputs": [],
   "source": [
    "df1 = df.copy()"
   ]
  },
  {
   "cell_type": "code",
   "execution_count": 161,
   "metadata": {},
   "outputs": [],
   "source": [
    "df1['Name'] = df1['Name'].str.replace('(', '_').str.replace(')', '_')"
   ]
  },
  {
   "cell_type": "code",
   "execution_count": 162,
   "metadata": {},
   "outputs": [
    {
     "data": {
      "text/plain": "0                                 Mr. Owen Harris Braund\n1      Mrs. John Bradley _Florence Briggs Thayer_ Cum...\n2                                  Miss. Laina Heikkinen\n3            Mrs. Jacques Heath _Lily May Peel_ Futrelle\n4                                Mr. William Henry Allen\n                             ...                        \n882                                 Rev. Juozas Montvila\n883                          Miss. Margaret Edith Graham\n884                       Miss. Catherine Helen Johnston\n885                                 Mr. Karl Howell Behr\n886                                   Mr. Patrick Dooley\nName: Name, Length: 887, dtype: object"
     },
     "execution_count": 162,
     "metadata": {},
     "output_type": "execute_result"
    }
   ],
   "source": [
    "df1['Name']"
   ]
  },
  {
   "cell_type": "code",
   "execution_count": 155,
   "metadata": {},
   "outputs": [
    {
     "data": {
      "text/html": "<div>\n<style scoped>\n    .dataframe tbody tr th:only-of-type {\n        vertical-align: middle;\n    }\n\n    .dataframe tbody tr th {\n        vertical-align: top;\n    }\n\n    .dataframe thead th {\n        text-align: right;\n    }\n</style>\n<table border=\"1\" class=\"dataframe\">\n  <thead>\n    <tr style=\"text-align: right;\">\n      <th></th>\n      <th>Survived</th>\n      <th>Pclass</th>\n      <th>Name</th>\n      <th>Sex</th>\n      <th>Age</th>\n      <th>Siblings/Spouses Aboard</th>\n      <th>Parents/Children Aboard</th>\n      <th>Fare</th>\n    </tr>\n  </thead>\n  <tbody>\n    <tr>\n      <td>28</td>\n      <td>1</td>\n      <td>3</td>\n      <td>Miss. Ellen O'Dwyer</td>\n      <td>female</td>\n      <td>24.0</td>\n      <td>0</td>\n      <td>0</td>\n      <td>7.8792</td>\n    </tr>\n    <tr>\n      <td>46</td>\n      <td>1</td>\n      <td>3</td>\n      <td>Miss. Bridget O'Driscoll</td>\n      <td>female</td>\n      <td>27.0</td>\n      <td>0</td>\n      <td>0</td>\n      <td>7.7500</td>\n    </tr>\n    <tr>\n      <td>185</td>\n      <td>1</td>\n      <td>3</td>\n      <td>Mrs. Thomas (Johanna Godfrey) O'Brien</td>\n      <td>female</td>\n      <td>26.0</td>\n      <td>1</td>\n      <td>0</td>\n      <td>15.5000</td>\n    </tr>\n    <tr>\n      <td>362</td>\n      <td>0</td>\n      <td>3</td>\n      <td>Mr. Thomas O'Brien</td>\n      <td>male</td>\n      <td>27.0</td>\n      <td>1</td>\n      <td>0</td>\n      <td>15.5000</td>\n    </tr>\n    <tr>\n      <td>456</td>\n      <td>0</td>\n      <td>3</td>\n      <td>Mr. Maurice O'Connor</td>\n      <td>male</td>\n      <td>17.0</td>\n      <td>0</td>\n      <td>0</td>\n      <td>7.7500</td>\n    </tr>\n    <tr>\n      <td>499</td>\n      <td>0</td>\n      <td>3</td>\n      <td>Miss. Bridget Mary O'Sullivan</td>\n      <td>female</td>\n      <td>21.0</td>\n      <td>0</td>\n      <td>0</td>\n      <td>7.6292</td>\n    </tr>\n    <tr>\n      <td>549</td>\n      <td>0</td>\n      <td>3</td>\n      <td>Mr. Timothy O'Brien</td>\n      <td>male</td>\n      <td>21.0</td>\n      <td>0</td>\n      <td>0</td>\n      <td>7.8292</td>\n    </tr>\n    <tr>\n      <td>626</td>\n      <td>0</td>\n      <td>3</td>\n      <td>Mr. Patrick D O'Connell</td>\n      <td>male</td>\n      <td>18.0</td>\n      <td>0</td>\n      <td>0</td>\n      <td>7.7333</td>\n    </tr>\n    <tr>\n      <td>650</td>\n      <td>1</td>\n      <td>3</td>\n      <td>Miss. Hanora O'Leary</td>\n      <td>female</td>\n      <td>16.0</td>\n      <td>0</td>\n      <td>0</td>\n      <td>7.8292</td>\n    </tr>\n  </tbody>\n</table>\n</div>",
      "text/plain": "     Survived  Pclass                                   Name     Sex   Age  \\\n28          1       3                    Miss. Ellen O'Dwyer  female  24.0   \n46          1       3               Miss. Bridget O'Driscoll  female  27.0   \n185         1       3  Mrs. Thomas (Johanna Godfrey) O'Brien  female  26.0   \n362         0       3                     Mr. Thomas O'Brien    male  27.0   \n456         0       3                   Mr. Maurice O'Connor    male  17.0   \n499         0       3          Miss. Bridget Mary O'Sullivan  female  21.0   \n549         0       3                    Mr. Timothy O'Brien    male  21.0   \n626         0       3                Mr. Patrick D O'Connell    male  18.0   \n650         1       3                   Miss. Hanora O'Leary  female  16.0   \n\n     Siblings/Spouses Aboard  Parents/Children Aboard     Fare  \n28                         0                        0   7.8792  \n46                         0                        0   7.7500  \n185                        1                        0  15.5000  \n362                        1                        0  15.5000  \n456                        0                        0   7.7500  \n499                        0                        0   7.6292  \n549                        0                        0   7.8292  \n626                        0                        0   7.7333  \n650                        0                        0   7.8292  "
     },
     "execution_count": 155,
     "metadata": {},
     "output_type": "execute_result"
    }
   ],
   "source": [
    "df[df['Name'].str.contains(\"'\")]"
   ]
  },
  {
   "cell_type": "code",
   "execution_count": 158,
   "metadata": {},
   "outputs": [],
   "source": [
    "df1['Name'] = df1['Name'].str.replace(\"'\", ' ')"
   ]
  },
  {
   "cell_type": "code",
   "execution_count": 159,
   "metadata": {},
   "outputs": [
    {
     "data": {
      "text/plain": "'Miss. Ellen O Dwyer'"
     },
     "execution_count": 159,
     "metadata": {},
     "output_type": "execute_result"
    }
   ],
   "source": [
    "df1['Name'][28]"
   ]
  },
  {
   "cell_type": "code",
   "execution_count": null,
   "metadata": {},
   "outputs": [],
   "source": []
  }
 ]
}