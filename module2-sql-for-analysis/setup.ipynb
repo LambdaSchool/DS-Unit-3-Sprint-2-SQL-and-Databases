{
 "cells": [
  {
   "cell_type": "code",
   "execution_count": 15,
   "metadata": {},
   "outputs": [],
   "source": [
    "import psycopg2 as pg\n",
    "import sqlite3"
   ]
  },
  {
   "cell_type": "code",
   "execution_count": 16,
   "metadata": {},
   "outputs": [
    {
     "data": {
      "text/plain": [
       "<function psycopg2.connect(dsn=None, connection_factory=None, cursor_factory=None, **kwargs)>"
      ]
     },
     "execution_count": 16,
     "metadata": {},
     "output_type": "execute_result"
    }
   ],
   "source": [
    "pg.connect"
   ]
  },
  {
   "cell_type": "code",
   "execution_count": 17,
   "metadata": {},
   "outputs": [
    {
     "data": {
      "text/plain": [
       "<module 'psycopg2' from '/Users/danielleromanoff/anaconda3/lib/python3.6/site-packages/psycopg2/__init__.py'>"
      ]
     },
     "execution_count": 17,
     "metadata": {},
     "output_type": "execute_result"
    }
   ],
   "source": [
    "pg"
   ]
  },
  {
   "cell_type": "code",
   "execution_count": 18,
   "metadata": {},
   "outputs": [
    {
     "data": {
      "text/plain": [
       "['DataError',\n",
       " 'DatabaseError',\n",
       " 'Error',\n",
       " 'IntegrityError',\n",
       " 'InterfaceError',\n",
       " 'InternalError',\n",
       " 'NotSupportedError',\n",
       " 'OperationalError',\n",
       " 'ProgrammingError',\n",
       " 'Warning',\n",
       " '__class__',\n",
       " '__delattr__',\n",
       " '__dir__',\n",
       " '__doc__',\n",
       " '__enter__',\n",
       " '__eq__',\n",
       " '__exit__',\n",
       " '__format__',\n",
       " '__ge__',\n",
       " '__getattribute__',\n",
       " '__gt__',\n",
       " '__hash__',\n",
       " '__init__',\n",
       " '__init_subclass__',\n",
       " '__le__',\n",
       " '__lt__',\n",
       " '__ne__',\n",
       " '__new__',\n",
       " '__reduce__',\n",
       " '__reduce_ex__',\n",
       " '__repr__',\n",
       " '__setattr__',\n",
       " '__sizeof__',\n",
       " '__str__',\n",
       " '__subclasshook__',\n",
       " 'async',\n",
       " 'async_',\n",
       " 'autocommit',\n",
       " 'binary_types',\n",
       " 'cancel',\n",
       " 'close',\n",
       " 'closed',\n",
       " 'commit',\n",
       " 'cursor',\n",
       " 'cursor_factory',\n",
       " 'deferrable',\n",
       " 'dsn',\n",
       " 'encoding',\n",
       " 'fileno',\n",
       " 'get_backend_pid',\n",
       " 'get_dsn_parameters',\n",
       " 'get_parameter_status',\n",
       " 'get_transaction_status',\n",
       " 'isexecuting',\n",
       " 'isolation_level',\n",
       " 'lobject',\n",
       " 'notices',\n",
       " 'notifies',\n",
       " 'poll',\n",
       " 'protocol_version',\n",
       " 'readonly',\n",
       " 'reset',\n",
       " 'rollback',\n",
       " 'server_version',\n",
       " 'set_client_encoding',\n",
       " 'set_isolation_level',\n",
       " 'set_session',\n",
       " 'status',\n",
       " 'string_types',\n",
       " 'tpc_begin',\n",
       " 'tpc_commit',\n",
       " 'tpc_prepare',\n",
       " 'tpc_recover',\n",
       " 'tpc_rollback',\n",
       " 'xid']"
      ]
     },
     "execution_count": 18,
     "metadata": {},
     "output_type": "execute_result"
    }
   ],
   "source": [
    "dbname = \n",
    "user = \n",
    "password = \n",
    "host = \n",
    "conn = pg.connect(dbname=dbname, user=user, password=password, host=host)\n",
    "dir(conn)"
   ]
  },
  {
   "cell_type": "code",
   "execution_count": 19,
   "metadata": {},
   "outputs": [
    {
     "data": {
      "text/plain": [
       "[(1, 'A row name', None),\n",
       " (2, 'Row with JSON', {'x': [1, 2, 3], 'age': 30, 'name': 'John'})]"
      ]
     },
     "execution_count": 19,
     "metadata": {},
     "output_type": "execute_result"
    }
   ],
   "source": [
    "cur = conn.cursor()\n",
    "cur.execute('SELECT * from test_table;')\n",
    "cur.fetchall()"
   ]
  },
  {
   "cell_type": "code",
   "execution_count": 31,
   "metadata": {},
   "outputs": [
    {
     "data": {
      "text/plain": [
       "[(1, 'A row name', None),\n",
       " (2, 'Row with JSON', {'x': [1, 2, 3], 'age': 30, 'name': 'John'})]"
      ]
     },
     "execution_count": 31,
     "metadata": {},
     "output_type": "execute_result"
    }
   ],
   "source": [
    "import pandas as pd\n",
    "cur.execute('SELECT * from test_table;')\n",
    "results = cur.fetchall()\n",
    "results"
   ]
  },
  {
   "cell_type": "code",
   "execution_count": 21,
   "metadata": {},
   "outputs": [
    {
     "data": {
      "text/plain": [
       "{'x': [1, 2, 3], 'age': 30, 'name': 'John'}"
      ]
     },
     "execution_count": 21,
     "metadata": {},
     "output_type": "execute_result"
    }
   ],
   "source": [
    "results[1][2]"
   ]
  },
  {
   "cell_type": "code",
   "execution_count": 22,
   "metadata": {},
   "outputs": [
    {
     "data": {
      "text/html": [
       "<div>\n",
       "<style scoped>\n",
       "    .dataframe tbody tr th:only-of-type {\n",
       "        vertical-align: middle;\n",
       "    }\n",
       "\n",
       "    .dataframe tbody tr th {\n",
       "        vertical-align: top;\n",
       "    }\n",
       "\n",
       "    .dataframe thead th {\n",
       "        text-align: right;\n",
       "    }\n",
       "</style>\n",
       "<table border=\"1\" class=\"dataframe\">\n",
       "  <thead>\n",
       "    <tr style=\"text-align: right;\">\n",
       "      <th></th>\n",
       "      <th>x</th>\n",
       "      <th>age</th>\n",
       "      <th>name</th>\n",
       "    </tr>\n",
       "  </thead>\n",
       "  <tbody>\n",
       "    <tr>\n",
       "      <th>0</th>\n",
       "      <td>1</td>\n",
       "      <td>30</td>\n",
       "      <td>John</td>\n",
       "    </tr>\n",
       "    <tr>\n",
       "      <th>1</th>\n",
       "      <td>2</td>\n",
       "      <td>30</td>\n",
       "      <td>John</td>\n",
       "    </tr>\n",
       "    <tr>\n",
       "      <th>2</th>\n",
       "      <td>3</td>\n",
       "      <td>30</td>\n",
       "      <td>John</td>\n",
       "    </tr>\n",
       "  </tbody>\n",
       "</table>\n",
       "</div>"
      ],
      "text/plain": [
       "   x  age  name\n",
       "0  1   30  John\n",
       "1  2   30  John\n",
       "2  3   30  John"
      ]
     },
     "execution_count": 22,
     "metadata": {},
     "output_type": "execute_result"
    }
   ],
   "source": [
    "df = pd.DataFrame(results[1][2])\n",
    "df"
   ]
  },
  {
   "cell_type": "code",
   "execution_count": 23,
   "metadata": {},
   "outputs": [
    {
     "data": {
      "text/plain": [
       "<bound method NDFrame.to_sql of    x  age  name\n",
       "0  1   30  John\n",
       "1  2   30  John\n",
       "2  3   30  John>"
      ]
     },
     "execution_count": 23,
     "metadata": {},
     "output_type": "execute_result"
    }
   ],
   "source": [
    "df.to_sql"
   ]
  },
  {
   "cell_type": "code",
   "execution_count": 24,
   "metadata": {},
   "outputs": [
    {
     "data": {
      "text/plain": [
       "<connection object at 0x111749940; dsn: 'user=lypxyiou password=xxx dbname=lypxyiou host=stampy.db.elephantsql.com', closed: 0>"
      ]
     },
     "execution_count": 24,
     "metadata": {},
     "output_type": "execute_result"
    }
   ],
   "source": [
    "import sqlite3\n",
    "rpg_db = sqlite3.connect('rpg_db.sqlite3')\n",
    "conn"
   ]
  },
  {
   "cell_type": "code",
   "execution_count": 25,
   "metadata": {},
   "outputs": [
    {
     "data": {
      "text/plain": [
       "<sqlite3.Cursor at 0x111a05180>"
      ]
     },
     "execution_count": 25,
     "metadata": {},
     "output_type": "execute_result"
    }
   ],
   "source": [
    "pg_cur = conn.cursor()\n",
    "sl_cur = rpg_db.cursor()\n",
    "sl_cur.execute('SELECT * FROM charactercreator_character LIMIT 5;')"
   ]
  },
  {
   "cell_type": "code",
   "execution_count": 28,
   "metadata": {},
   "outputs": [],
   "source": [
    " \"\"\"Importing from .csv to PostgreSQL. Example of moving data from rpg_db.sqlite3 to PostgreSQL.\"\"\"\n",
    "\n",
    "# Get the data from sqlite3\n",
    "results = sl_cur.execute('SELECT * FROM charactercreator_character;').fetchall()"
   ]
  },
  {
   "cell_type": "code",
   "execution_count": 29,
   "metadata": {},
   "outputs": [],
   "source": [
    "# Create table and insert data in PostgreSQL\n",
    "create_character_table = \"\"\"CREATE TABLE charactercreator_character (\n",
    "  character_id SERIAL PRIMARY KEY,\n",
    "  name varchar(30),\n",
    "  level int,\n",
    "  exp int,\n",
    "  hp int,\n",
    "  strength int,\n",
    "  intelligence int,\n",
    "  dexterity int,\n",
    "  wisdom int\n",
    ");\"\"\"\n",
    "\n",
    "def make_and_populate_character_table(results):\n",
    "    pg_cur.execute(create_character_table)\n",
    "\n",
    "    for result in results:\n",
    "        insert_result = \"\"\"INSERT INTO charactercreator_character\n",
    "        (name, level, exp, hp, strength, intelligence, dexterity, wisdom)\n",
    "        VALUES\"\"\" + str(result[1:])\n",
    "        pg_cur.execute(insert_result)\n",
    "\n",
    "    conn.commit()"
   ]
  },
  {
   "cell_type": "code",
   "execution_count": 30,
   "metadata": {},
   "outputs": [
    {
     "data": {
      "text/plain": [
       "[(1, 'Aliquid iste optio reiciendi', 0, 0, 10, 1, 1, 1, 1),\n",
       " (2, 'Optio dolorem ex a', 0, 0, 10, 1, 1, 1, 1),\n",
       " (3, 'Minus c', 0, 0, 10, 1, 1, 1, 1),\n",
       " (4, 'Sit ut repr', 0, 0, 10, 1, 1, 1, 1),\n",
       " (5, 'At id recusandae expl', 0, 0, 10, 1, 1, 1, 1)]"
      ]
     },
     "execution_count": 30,
     "metadata": {},
     "output_type": "execute_result"
    }
   ],
   "source": [
    "pg_cur.execute('SELECT * FROM charactercreator_character LIMIT 5;')\n",
    "pg_cur.fetchall()"
   ]
  },
  {
   "cell_type": "code",
   "execution_count": null,
   "metadata": {},
   "outputs": [],
   "source": []
  }
 ],
 "metadata": {
  "kernelspec": {
   "display_name": "Python 3",
   "language": "python",
   "name": "python3"
  },
  "language_info": {
   "codemirror_mode": {
    "name": "ipython",
    "version": 3
   },
   "file_extension": ".py",
   "mimetype": "text/x-python",
   "name": "python",
   "nbconvert_exporter": "python",
   "pygments_lexer": "ipython3",
   "version": "3.6.8"
  }
 },
 "nbformat": 4,
 "nbformat_minor": 2
}
