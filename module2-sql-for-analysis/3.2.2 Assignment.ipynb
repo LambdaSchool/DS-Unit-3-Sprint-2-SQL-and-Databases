{
 "cells": [
  {
   "cell_type": "code",
   "execution_count": 1,
   "metadata": {},
   "outputs": [],
   "source": [
    "import sqlite3\n",
    "import pandas as pd\n",
    "import psycopg2"
   ]
  },
  {
   "cell_type": "code",
   "execution_count": 2,
   "metadata": {},
   "outputs": [],
   "source": [
    "titanic = pd.read_csv('titanic.csv')"
   ]
  },
  {
   "cell_type": "code",
   "execution_count": 3,
   "metadata": {},
   "outputs": [
    {
     "name": "stdout",
     "output_type": "stream",
     "text": [
      "(887, 8)\n"
     ]
    },
    {
     "data": {
      "text/html": [
       "<div>\n",
       "<style scoped>\n",
       "    .dataframe tbody tr th:only-of-type {\n",
       "        vertical-align: middle;\n",
       "    }\n",
       "\n",
       "    .dataframe tbody tr th {\n",
       "        vertical-align: top;\n",
       "    }\n",
       "\n",
       "    .dataframe thead th {\n",
       "        text-align: right;\n",
       "    }\n",
       "</style>\n",
       "<table border=\"1\" class=\"dataframe\">\n",
       "  <thead>\n",
       "    <tr style=\"text-align: right;\">\n",
       "      <th></th>\n",
       "      <th>Survived</th>\n",
       "      <th>Pclass</th>\n",
       "      <th>Name</th>\n",
       "      <th>Sex</th>\n",
       "      <th>Age</th>\n",
       "      <th>Siblings/Spouses Aboard</th>\n",
       "      <th>Parents/Children Aboard</th>\n",
       "      <th>Fare</th>\n",
       "    </tr>\n",
       "  </thead>\n",
       "  <tbody>\n",
       "    <tr>\n",
       "      <th>0</th>\n",
       "      <td>0</td>\n",
       "      <td>3</td>\n",
       "      <td>Mr. Owen Harris Braund</td>\n",
       "      <td>male</td>\n",
       "      <td>22.0</td>\n",
       "      <td>1</td>\n",
       "      <td>0</td>\n",
       "      <td>7.2500</td>\n",
       "    </tr>\n",
       "    <tr>\n",
       "      <th>1</th>\n",
       "      <td>1</td>\n",
       "      <td>1</td>\n",
       "      <td>Mrs. John Bradley (Florence Briggs Thayer) Cum...</td>\n",
       "      <td>female</td>\n",
       "      <td>38.0</td>\n",
       "      <td>1</td>\n",
       "      <td>0</td>\n",
       "      <td>71.2833</td>\n",
       "    </tr>\n",
       "    <tr>\n",
       "      <th>2</th>\n",
       "      <td>1</td>\n",
       "      <td>3</td>\n",
       "      <td>Miss. Laina Heikkinen</td>\n",
       "      <td>female</td>\n",
       "      <td>26.0</td>\n",
       "      <td>0</td>\n",
       "      <td>0</td>\n",
       "      <td>7.9250</td>\n",
       "    </tr>\n",
       "    <tr>\n",
       "      <th>3</th>\n",
       "      <td>1</td>\n",
       "      <td>1</td>\n",
       "      <td>Mrs. Jacques Heath (Lily May Peel) Futrelle</td>\n",
       "      <td>female</td>\n",
       "      <td>35.0</td>\n",
       "      <td>1</td>\n",
       "      <td>0</td>\n",
       "      <td>53.1000</td>\n",
       "    </tr>\n",
       "    <tr>\n",
       "      <th>4</th>\n",
       "      <td>0</td>\n",
       "      <td>3</td>\n",
       "      <td>Mr. William Henry Allen</td>\n",
       "      <td>male</td>\n",
       "      <td>35.0</td>\n",
       "      <td>0</td>\n",
       "      <td>0</td>\n",
       "      <td>8.0500</td>\n",
       "    </tr>\n",
       "  </tbody>\n",
       "</table>\n",
       "</div>"
      ],
      "text/plain": [
       "   Survived  Pclass                                               Name  \\\n",
       "0         0       3                             Mr. Owen Harris Braund   \n",
       "1         1       1  Mrs. John Bradley (Florence Briggs Thayer) Cum...   \n",
       "2         1       3                              Miss. Laina Heikkinen   \n",
       "3         1       1        Mrs. Jacques Heath (Lily May Peel) Futrelle   \n",
       "4         0       3                            Mr. William Henry Allen   \n",
       "\n",
       "      Sex   Age  Siblings/Spouses Aboard  Parents/Children Aboard     Fare  \n",
       "0    male  22.0                        1                        0   7.2500  \n",
       "1  female  38.0                        1                        0  71.2833  \n",
       "2  female  26.0                        0                        0   7.9250  \n",
       "3  female  35.0                        1                        0  53.1000  \n",
       "4    male  35.0                        0                        0   8.0500  "
      ]
     },
     "execution_count": 3,
     "metadata": {},
     "output_type": "execute_result"
    }
   ],
   "source": [
    "print(titanic.shape)\n",
    "titanic.head()"
   ]
  },
  {
   "cell_type": "code",
   "execution_count": 5,
   "metadata": {},
   "outputs": [],
   "source": [
    "conn = psycopg2.connect(dbname='ciiiryug', user='ciiiryug',\n",
    "                       password='K4JaUZIyW0gVjKm2zOh7UvuyEzr2qfzc', host='raja.db.elephantsql.com')"
   ]
  },
  {
   "cell_type": "code",
   "execution_count": 6,
   "metadata": {},
   "outputs": [],
   "source": [
    "cursor = conn.cursor()"
   ]
  },
  {
   "cell_type": "code",
   "execution_count": 7,
   "metadata": {},
   "outputs": [
    {
     "name": "stdout",
     "output_type": "stream",
     "text": [
      "<class 'pandas.core.frame.DataFrame'>\n",
      "RangeIndex: 887 entries, 0 to 886\n",
      "Data columns (total 8 columns):\n",
      "Survived                   887 non-null int64\n",
      "Pclass                     887 non-null int64\n",
      "Name                       887 non-null object\n",
      "Sex                        887 non-null object\n",
      "Age                        887 non-null float64\n",
      "Siblings/Spouses Aboard    887 non-null int64\n",
      "Parents/Children Aboard    887 non-null int64\n",
      "Fare                       887 non-null float64\n",
      "dtypes: float64(2), int64(4), object(2)\n",
      "memory usage: 55.5+ KB\n"
     ]
    }
   ],
   "source": [
    "titanic.info()"
   ]
  },
  {
   "cell_type": "code",
   "execution_count": 23,
   "metadata": {},
   "outputs": [],
   "source": [
    "# Didn't work\n",
    "\n",
    "# cursor.execute(\"\"\"\n",
    "#     CREATE TABLE titanic_data(\n",
    "#     id integer PRIMARY KEY,\n",
    "#     Survived integer,\n",
    "#     Pclass integer,\n",
    "#     Name text,\n",
    "#     Sex text,\n",
    "#     Age float,\n",
    "#     SiblingsSpouses integer,\n",
    "#     ParentsChildren integer,\n",
    "#     Fare float)\n",
    "#     \"\"\")"
   ]
  },
  {
   "cell_type": "code",
   "execution_count": 20,
   "metadata": {},
   "outputs": [],
   "source": [
    "# Changing CSV data for Postgres\n",
    "\n",
    "titanic['Survived'] = titanic['Survived'].replace({0:'no', 1:'yes'})\n",
    "titanic['Pclass'] = titanic['Pclass'].replace({1:'first', 2:'second', 3:'third'})\n",
    "titanic['Name'] = titanic['Name'].str.replace(r\"[\\\"',]\", '')"
   ]
  },
  {
   "cell_type": "code",
   "execution_count": 22,
   "metadata": {},
   "outputs": [
    {
     "name": "stderr",
     "output_type": "stream",
     "text": [
      "/Users/mattmastin/anaconda3/lib/python3.7/site-packages/pandas/core/generic.py:2130: UserWarning: The spaces in these column names will not be changed. In pandas versions < 0.14, spaces were converted to underscores.\n",
      "  dtype=dtype)\n"
     ]
    }
   ],
   "source": [
    "# Creating SQL Titanic file\n",
    "\n",
    "conn = sqlite3.connect('titanic.sqlite3')\n",
    "titanic.to_sql(name='passengers', con=conn, if_exists='replace')\n",
    "cursor = conn.cursor()"
   ]
  },
  {
   "cell_type": "code",
   "execution_count": null,
   "metadata": {},
   "outputs": [],
   "source": [
    "# Typing Paul's code from slack as exercise; looked better than mine\n",
    "# Obviously not a working .py file\n",
    "\n",
    "def create_db():\n",
    "    db = ''\n",
    "    user = ''\n",
    "    password = ''\n",
    "    host = ''\n",
    "    \n",
    "    conn = pyscopg2.connect(dbname=db, user=user,\n",
    "                           password=password, host=host)\n",
    "    \n",
    "    cursor = conn.cursor()\n",
    "    \n",
    "    create_table = '''\n",
    "    DROP TABLE titanic;\n",
    "    CREATE TYPE pclass1 AS ENUM ('1', '2', '3');\n",
    "    CREATE TABLE titanic (\n",
    "    id SERIAL PRIMARY KEY,\n",
    "    survival BOOL NOT NULL,\n",
    "    pclass pclass1,\n",
    "    name VARCHAR(255) NOT NULL,\n",
    "    age FLOAT,\n",
    "    sibsp INT,\n",
    "    parch INT,\n",
    "    fare FLOAT\n",
    "    );\n",
    "    '''\n",
    "    # Pclass should be enumerated?\n",
    "    \n",
    "    cursor.execute(create_table)\n",
    "    conn.commit()\n",
    "    return conn\n",
    "\n",
    "def csv_to_db(file, conn):\n",
    "    cursor = conn.cursor()\n",
    "    with open(file) as f:\n",
    "        lines = f.readlines()[1:]\n",
    "        for line in lines:\n",
    "            survival, pclass1, name, sex, age, sipsp, parch, fare = line.split(',')\n",
    "            cursor.execute(\"INSERT INTO titanic (survival, pclass, name, sex, age, sipsp, parch, fare)\\\n",
    "            VALUES (%s, %s, %s, %s, %s, %s, %s, %s, );\"(surv,\n",
    "                                                        str(pclass1),\n",
    "                                                        str(name),\n",
    "                                                        sex,\n",
    "                                                        age,\n",
    "                                                        sipsp,\n",
    "                                                        parch,\n",
    "                                                        fare\n",
    "                                                        ))\n",
    "    conn.commit()\n",
    "    curser = conn.cursor()\n",
    "    cursor.execute('''SELECT * FROM titanic''')\n",
    "    print(f'return from equery: {cursor.fetchall()}\\nSuccess!')\n",
    "    \n",
    "def main():\n",
    "    conn = create_db()\n",
    "    csv_to_db('titanic.csv', conn)\n",
    "    \n",
    "if __name__ = '__main__':\n",
    "    main()"
   ]
  },
  {
   "cell_type": "code",
   "execution_count": null,
   "metadata": {},
   "outputs": [],
   "source": [
    "# Practicing a different approach found\n",
    "\n",
    "import sys\n",
    "\n",
    "def pg_load_table(file_path, table_name, dbname, host, port, user, pwd):\n",
    "    # Function to upload csv to target table\n",
    "    try:\n",
    "        conn = psycopg2.connect(dbname=dbname, host=host, port=port,\\\n",
    "                               user=user, password=pwd)\n",
    "        print('connecting to database')\n",
    "        cursor = conn.cursor()\n",
    "        f = open(file_path, 'r')\n",
    "        # truncate the table first\n",
    "        cursor.execute('truncate {} cascade:'.format(table_name))\n",
    "        print('truncated{}'.format(table_name))\n",
    "        # load table from the file with header\n",
    "        cursor.copy_expert('copy {} from STDIN CSV HEADER QUOTE\\''.format(table_name), f)\n",
    "        cursor.execute('commit;')\n",
    "        print('loaded data into {}'.format(table_name))\n",
    "        conn.close()\n",
    "        print('DB connection closed')\n",
    "        \n",
    "    except Exception as e:\n",
    "        print('error: {}'.format(str(e)))\n",
    "        sys.exit(1)\n",
    "\n",
    "# execution example\n",
    "file_path = 'titanic.csv'\n",
    "table_name = 'titanic'\n",
    "dbname = ''\n",
    "host = ''\n",
    "port = ''\n",
    "user = 'username'\n",
    "pwd = 'password'\n",
    "pg_load_table(file_path, table_name, dbname, host, port, user, pwd)"
   ]
  }
 ],
 "metadata": {
  "kernelspec": {
   "display_name": "Python 3",
   "language": "python",
   "name": "python3"
  },
  "language_info": {
   "codemirror_mode": {
    "name": "ipython",
    "version": 3
   },
   "file_extension": ".py",
   "mimetype": "text/x-python",
   "name": "python",
   "nbconvert_exporter": "python",
   "pygments_lexer": "ipython3",
   "version": "3.7.3"
  }
 },
 "nbformat": 4,
 "nbformat_minor": 2
}
