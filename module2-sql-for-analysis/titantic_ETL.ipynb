{
 "cells": [
  {
   "cell_type": "markdown",
   "metadata": {},
   "source": [
    "## Live Lecture Task\n",
    "\n",
    "Yesterday we used a simple local workflow with SQLite - today, we'll work on\n",
    "inserting the same RPG data into a more production-style PostgreSQL database\n",
    "running on a server. We will use [psycopg](http://initd.org/psycopg/), a Python\n",
    "library for connecting to PostgreSQL, and specifically we will install\n",
    "[psycopg2-binary](https://pypi.org/project/psycopg2-binary/).\n",
    "\n",
    "Once we get the data inserted, we will continue exploring querying as yesterday,\n",
    "first answering the same questions and then going deeper. We'll also explore\n",
    "some of the specific functions that are different in PostgreSQL than SQLite.\n",
    "\n",
    "## Assignment\n",
    "\n",
    "Reproduce (debugging as needed) the live lecture task of setting up and\n",
    "inserting the RPG data into a PostgreSQL database, and add the code you write to\n",
    "do so.\n",
    "\n",
    "Then, set up a new table for the Titanic data (`titanic.csv`) - spend some time\n",
    "thinking about the schema to make sure it is appropriate for the columns.\n",
    "[Enumerated types](https://www.postgresql.org/docs/9.1/datatype-enum.html) may\n",
    "be useful. Once it is set up, write a `insert_titanic.py` script that uses\n",
    "`psycopg2` to connect to and upload the data from the csv, and add the file to\n",
    "your repo. Then start writing PostgreSQL queries to explore the data!"
   ]
  },
  {
   "cell_type": "code",
   "execution_count": 353,
   "metadata": {},
   "outputs": [],
   "source": [
    "import pandas as pd\n",
    "import psycopg2\n",
    "import sqlite3"
   ]
  },
  {
   "cell_type": "code",
   "execution_count": 354,
   "metadata": {},
   "outputs": [],
   "source": [
    "# don't commit this \n",
    "dbname = 'dpcfouyb'\n",
    "user = 'dpcfouyb'\n",
    "password = 'kaIJ_GBlhtUhWMk96d3KmkP0U76T4kkA' \n",
    "host = 'salt.db.elephantsql.com'\n",
    "\n",
    "pg_conn = psycopg2.connect(dbname=dbname, user=user,\n",
    "                        password=password, host=host)\n",
    "\n",
    "# connection object and cursor\n",
    "pg_conn\n",
    "pg_curs = pg_conn.cursor()\n"
   ]
  },
  {
   "cell_type": "code",
   "execution_count": 355,
   "metadata": {},
   "outputs": [],
   "source": [
    "# extract: csv file\n",
    "titanic_csv = 'titanic.csv'\n",
    "df = pd.read_csv(titanic_csv)\n",
    "\n",
    "df['Name'] = df['Name'].str.replace(\"'\", \"\")\n",
    "\n",
    "# create connection to blank sql 'titanic.sqlite3'\n",
    "conn = sqlite3.connect('titanic.sqlite3')\n",
    "\n",
    "# thus extract data from df to sql file\n",
    "df.to_sql('titanic', conn, index=False, if_exists='replace') # Insert the values from the csv file into the table 'X'"
   ]
  },
  {
   "cell_type": "code",
   "execution_count": 356,
   "metadata": {},
   "outputs": [
    {
     "data": {
      "text/html": [
       "<div>\n",
       "<style scoped>\n",
       "    .dataframe tbody tr th:only-of-type {\n",
       "        vertical-align: middle;\n",
       "    }\n",
       "\n",
       "    .dataframe tbody tr th {\n",
       "        vertical-align: top;\n",
       "    }\n",
       "\n",
       "    .dataframe thead th {\n",
       "        text-align: right;\n",
       "    }\n",
       "</style>\n",
       "<table border=\"1\" class=\"dataframe\">\n",
       "  <thead>\n",
       "    <tr style=\"text-align: right;\">\n",
       "      <th></th>\n",
       "      <th>Survived</th>\n",
       "      <th>Pclass</th>\n",
       "      <th>Name</th>\n",
       "      <th>Sex</th>\n",
       "      <th>Age</th>\n",
       "      <th>Siblings/Spouses Aboard</th>\n",
       "      <th>Parents/Children Aboard</th>\n",
       "      <th>Fare</th>\n",
       "    </tr>\n",
       "  </thead>\n",
       "  <tbody>\n",
       "    <tr>\n",
       "      <th>0</th>\n",
       "      <td>0</td>\n",
       "      <td>3</td>\n",
       "      <td>Mr. Owen Harris Braund</td>\n",
       "      <td>male</td>\n",
       "      <td>22.0</td>\n",
       "      <td>1</td>\n",
       "      <td>0</td>\n",
       "      <td>7.2500</td>\n",
       "    </tr>\n",
       "    <tr>\n",
       "      <th>1</th>\n",
       "      <td>1</td>\n",
       "      <td>1</td>\n",
       "      <td>Mrs. John Bradley (Florence Briggs Thayer) Cum...</td>\n",
       "      <td>female</td>\n",
       "      <td>38.0</td>\n",
       "      <td>1</td>\n",
       "      <td>0</td>\n",
       "      <td>71.2833</td>\n",
       "    </tr>\n",
       "    <tr>\n",
       "      <th>2</th>\n",
       "      <td>1</td>\n",
       "      <td>3</td>\n",
       "      <td>Miss. Laina Heikkinen</td>\n",
       "      <td>female</td>\n",
       "      <td>26.0</td>\n",
       "      <td>0</td>\n",
       "      <td>0</td>\n",
       "      <td>7.9250</td>\n",
       "    </tr>\n",
       "    <tr>\n",
       "      <th>3</th>\n",
       "      <td>1</td>\n",
       "      <td>1</td>\n",
       "      <td>Mrs. Jacques Heath (Lily May Peel) Futrelle</td>\n",
       "      <td>female</td>\n",
       "      <td>35.0</td>\n",
       "      <td>1</td>\n",
       "      <td>0</td>\n",
       "      <td>53.1000</td>\n",
       "    </tr>\n",
       "    <tr>\n",
       "      <th>4</th>\n",
       "      <td>0</td>\n",
       "      <td>3</td>\n",
       "      <td>Mr. William Henry Allen</td>\n",
       "      <td>male</td>\n",
       "      <td>35.0</td>\n",
       "      <td>0</td>\n",
       "      <td>0</td>\n",
       "      <td>8.0500</td>\n",
       "    </tr>\n",
       "    <tr>\n",
       "      <th>5</th>\n",
       "      <td>0</td>\n",
       "      <td>3</td>\n",
       "      <td>Mr. James Moran</td>\n",
       "      <td>male</td>\n",
       "      <td>27.0</td>\n",
       "      <td>0</td>\n",
       "      <td>0</td>\n",
       "      <td>8.4583</td>\n",
       "    </tr>\n",
       "    <tr>\n",
       "      <th>6</th>\n",
       "      <td>0</td>\n",
       "      <td>1</td>\n",
       "      <td>Mr. Timothy J McCarthy</td>\n",
       "      <td>male</td>\n",
       "      <td>54.0</td>\n",
       "      <td>0</td>\n",
       "      <td>0</td>\n",
       "      <td>51.8625</td>\n",
       "    </tr>\n",
       "    <tr>\n",
       "      <th>7</th>\n",
       "      <td>0</td>\n",
       "      <td>3</td>\n",
       "      <td>Master. Gosta Leonard Palsson</td>\n",
       "      <td>male</td>\n",
       "      <td>2.0</td>\n",
       "      <td>3</td>\n",
       "      <td>1</td>\n",
       "      <td>21.0750</td>\n",
       "    </tr>\n",
       "    <tr>\n",
       "      <th>8</th>\n",
       "      <td>1</td>\n",
       "      <td>3</td>\n",
       "      <td>Mrs. Oscar W (Elisabeth Vilhelmina Berg) Johnson</td>\n",
       "      <td>female</td>\n",
       "      <td>27.0</td>\n",
       "      <td>0</td>\n",
       "      <td>2</td>\n",
       "      <td>11.1333</td>\n",
       "    </tr>\n",
       "    <tr>\n",
       "      <th>9</th>\n",
       "      <td>1</td>\n",
       "      <td>2</td>\n",
       "      <td>Mrs. Nicholas (Adele Achem) Nasser</td>\n",
       "      <td>female</td>\n",
       "      <td>14.0</td>\n",
       "      <td>1</td>\n",
       "      <td>0</td>\n",
       "      <td>30.0708</td>\n",
       "    </tr>\n",
       "    <tr>\n",
       "      <th>10</th>\n",
       "      <td>1</td>\n",
       "      <td>3</td>\n",
       "      <td>Miss. Marguerite Rut Sandstrom</td>\n",
       "      <td>female</td>\n",
       "      <td>4.0</td>\n",
       "      <td>1</td>\n",
       "      <td>1</td>\n",
       "      <td>16.7000</td>\n",
       "    </tr>\n",
       "    <tr>\n",
       "      <th>11</th>\n",
       "      <td>1</td>\n",
       "      <td>1</td>\n",
       "      <td>Miss. Elizabeth Bonnell</td>\n",
       "      <td>female</td>\n",
       "      <td>58.0</td>\n",
       "      <td>0</td>\n",
       "      <td>0</td>\n",
       "      <td>26.5500</td>\n",
       "    </tr>\n",
       "    <tr>\n",
       "      <th>12</th>\n",
       "      <td>0</td>\n",
       "      <td>3</td>\n",
       "      <td>Mr. William Henry Saundercock</td>\n",
       "      <td>male</td>\n",
       "      <td>20.0</td>\n",
       "      <td>0</td>\n",
       "      <td>0</td>\n",
       "      <td>8.0500</td>\n",
       "    </tr>\n",
       "    <tr>\n",
       "      <th>13</th>\n",
       "      <td>0</td>\n",
       "      <td>3</td>\n",
       "      <td>Mr. Anders Johan Andersson</td>\n",
       "      <td>male</td>\n",
       "      <td>39.0</td>\n",
       "      <td>1</td>\n",
       "      <td>5</td>\n",
       "      <td>31.2750</td>\n",
       "    </tr>\n",
       "    <tr>\n",
       "      <th>14</th>\n",
       "      <td>0</td>\n",
       "      <td>3</td>\n",
       "      <td>Miss. Hulda Amanda Adolfina Vestrom</td>\n",
       "      <td>female</td>\n",
       "      <td>14.0</td>\n",
       "      <td>0</td>\n",
       "      <td>0</td>\n",
       "      <td>7.8542</td>\n",
       "    </tr>\n",
       "    <tr>\n",
       "      <th>15</th>\n",
       "      <td>1</td>\n",
       "      <td>2</td>\n",
       "      <td>Mrs. (Mary D Kingcome) Hewlett</td>\n",
       "      <td>female</td>\n",
       "      <td>55.0</td>\n",
       "      <td>0</td>\n",
       "      <td>0</td>\n",
       "      <td>16.0000</td>\n",
       "    </tr>\n",
       "    <tr>\n",
       "      <th>16</th>\n",
       "      <td>0</td>\n",
       "      <td>3</td>\n",
       "      <td>Master. Eugene Rice</td>\n",
       "      <td>male</td>\n",
       "      <td>2.0</td>\n",
       "      <td>4</td>\n",
       "      <td>1</td>\n",
       "      <td>29.1250</td>\n",
       "    </tr>\n",
       "    <tr>\n",
       "      <th>17</th>\n",
       "      <td>1</td>\n",
       "      <td>2</td>\n",
       "      <td>Mr. Charles Eugene Williams</td>\n",
       "      <td>male</td>\n",
       "      <td>23.0</td>\n",
       "      <td>0</td>\n",
       "      <td>0</td>\n",
       "      <td>13.0000</td>\n",
       "    </tr>\n",
       "    <tr>\n",
       "      <th>18</th>\n",
       "      <td>0</td>\n",
       "      <td>3</td>\n",
       "      <td>Mrs. Julius (Emelia Maria Vandemoortele) Vande...</td>\n",
       "      <td>female</td>\n",
       "      <td>31.0</td>\n",
       "      <td>1</td>\n",
       "      <td>0</td>\n",
       "      <td>18.0000</td>\n",
       "    </tr>\n",
       "    <tr>\n",
       "      <th>19</th>\n",
       "      <td>1</td>\n",
       "      <td>3</td>\n",
       "      <td>Mrs. Fatima Masselmani</td>\n",
       "      <td>female</td>\n",
       "      <td>22.0</td>\n",
       "      <td>0</td>\n",
       "      <td>0</td>\n",
       "      <td>7.2250</td>\n",
       "    </tr>\n",
       "  </tbody>\n",
       "</table>\n",
       "</div>"
      ],
      "text/plain": [
       "    Survived  Pclass                                               Name  \\\n",
       "0          0       3                             Mr. Owen Harris Braund   \n",
       "1          1       1  Mrs. John Bradley (Florence Briggs Thayer) Cum...   \n",
       "2          1       3                              Miss. Laina Heikkinen   \n",
       "3          1       1        Mrs. Jacques Heath (Lily May Peel) Futrelle   \n",
       "4          0       3                            Mr. William Henry Allen   \n",
       "5          0       3                                    Mr. James Moran   \n",
       "6          0       1                             Mr. Timothy J McCarthy   \n",
       "7          0       3                      Master. Gosta Leonard Palsson   \n",
       "8          1       3   Mrs. Oscar W (Elisabeth Vilhelmina Berg) Johnson   \n",
       "9          1       2                 Mrs. Nicholas (Adele Achem) Nasser   \n",
       "10         1       3                     Miss. Marguerite Rut Sandstrom   \n",
       "11         1       1                            Miss. Elizabeth Bonnell   \n",
       "12         0       3                      Mr. William Henry Saundercock   \n",
       "13         0       3                         Mr. Anders Johan Andersson   \n",
       "14         0       3                Miss. Hulda Amanda Adolfina Vestrom   \n",
       "15         1       2                     Mrs. (Mary D Kingcome) Hewlett   \n",
       "16         0       3                                Master. Eugene Rice   \n",
       "17         1       2                        Mr. Charles Eugene Williams   \n",
       "18         0       3  Mrs. Julius (Emelia Maria Vandemoortele) Vande...   \n",
       "19         1       3                             Mrs. Fatima Masselmani   \n",
       "\n",
       "       Sex   Age  Siblings/Spouses Aboard  Parents/Children Aboard     Fare  \n",
       "0     male  22.0                        1                        0   7.2500  \n",
       "1   female  38.0                        1                        0  71.2833  \n",
       "2   female  26.0                        0                        0   7.9250  \n",
       "3   female  35.0                        1                        0  53.1000  \n",
       "4     male  35.0                        0                        0   8.0500  \n",
       "5     male  27.0                        0                        0   8.4583  \n",
       "6     male  54.0                        0                        0  51.8625  \n",
       "7     male   2.0                        3                        1  21.0750  \n",
       "8   female  27.0                        0                        2  11.1333  \n",
       "9   female  14.0                        1                        0  30.0708  \n",
       "10  female   4.0                        1                        1  16.7000  \n",
       "11  female  58.0                        0                        0  26.5500  \n",
       "12    male  20.0                        0                        0   8.0500  \n",
       "13    male  39.0                        1                        5  31.2750  \n",
       "14  female  14.0                        0                        0   7.8542  \n",
       "15  female  55.0                        0                        0  16.0000  \n",
       "16    male   2.0                        4                        1  29.1250  \n",
       "17    male  23.0                        0                        0  13.0000  \n",
       "18  female  31.0                        1                        0  18.0000  \n",
       "19  female  22.0                        0                        0   7.2250  "
      ]
     },
     "execution_count": 356,
     "metadata": {},
     "output_type": "execute_result"
    }
   ],
   "source": [
    "# look at table \n",
    "curs = conn.cursor()\n",
    "query = 'SELECT * FROM titanic LIMIT 20'\n",
    "pd.read_sql(query, conn)"
   ]
  },
  {
   "cell_type": "code",
   "execution_count": 357,
   "metadata": {},
   "outputs": [
    {
     "data": {
      "text/plain": [
       "[(887,)]"
      ]
     },
     "execution_count": 357,
     "metadata": {},
     "output_type": "execute_result"
    }
   ],
   "source": [
    "t_curs = conn.cursor()\n",
    "query = 'SELECT COUNT(*) FROM titanic;'\n",
    "\n",
    "t_curs.execute(query).fetchall()"
   ]
  },
  {
   "cell_type": "code",
   "execution_count": 358,
   "metadata": {},
   "outputs": [],
   "source": [
    "# our goal - an ETL/data pipeline from SQLite to Python\n",
    "titanic = t_curs.execute('SELECT * FROM titanic;').fetchall()"
   ]
  },
  {
   "cell_type": "code",
   "execution_count": 359,
   "metadata": {},
   "outputs": [
    {
     "data": {
      "text/plain": [
       "(0, 3, 'Mr. Owen Harris Braund', 'male', 22.0, 1, 0, 7.25)"
      ]
     },
     "execution_count": 359,
     "metadata": {},
     "output_type": "execute_result"
    }
   ],
   "source": [
    "# validate what we got\n",
    "titanic[0]"
   ]
  },
  {
   "cell_type": "code",
   "execution_count": 360,
   "metadata": {},
   "outputs": [
    {
     "data": {
      "text/plain": [
       "[(0, 'Survived', 'INTEGER', 0, None, 0),\n",
       " (1, 'Pclass', 'INTEGER', 0, None, 0),\n",
       " (2, 'Name', 'TEXT', 0, None, 0),\n",
       " (3, 'Sex', 'TEXT', 0, None, 0),\n",
       " (4, 'Age', 'REAL', 0, None, 0),\n",
       " (5, 'Siblings/Spouses Aboard', 'INTEGER', 0, None, 0),\n",
       " (6, 'Parents/Children Aboard', 'INTEGER', 0, None, 0),\n",
       " (7, 'Fare', 'REAL', 0, None, 0)]"
      ]
     },
     "execution_count": 360,
     "metadata": {},
     "output_type": "execute_result"
    }
   ],
   "source": [
    "# look at data types\n",
    "t_curs.execute('PRAGMA table_info(titanic);').fetchall()"
   ]
  },
  {
   "cell_type": "code",
   "execution_count": 361,
   "metadata": {},
   "outputs": [],
   "source": [
    "# extract done! next step, transform:\n",
    "# we need the postgresql db to have a table\n",
    "# with an appropriate schema\n",
    "\n",
    "\n",
    "# drop table if exists first\n",
    "pg_curs.execute(\"DROP TABLE IF EXISTS titanic\")\n",
    "pg_conn.commit()\n",
    "\n",
    "# we need a serial primary key as it's what links\n",
    "# all the tables together\n",
    "create_titanic_table = \"\"\"\n",
    "    CREATE TABLE titanic (\n",
    "        id SERIAL PRIMARY KEY, \n",
    "        Survived INT,\n",
    "        Pclass INT,\n",
    "        Name VARCHAR(100),\n",
    "        Sex VARCHAR(10),\n",
    "        Age REAL,\n",
    "        Siblings_Spouses_Aboard INT,\n",
    "        Parents_Children_Aboard INT,\n",
    "        Fare REAL\n",
    ");\n",
    "\n",
    "\"\"\""
   ]
  },
  {
   "cell_type": "code",
   "execution_count": 362,
   "metadata": {},
   "outputs": [],
   "source": [
    "# create pg table\n",
    "pg_curs.execute(create_titanic_table)\n",
    "pg_conn.commit()"
   ]
  },
  {
   "cell_type": "code",
   "execution_count": 363,
   "metadata": {},
   "outputs": [
    {
     "data": {
      "text/plain": [
       "\"(0, 3, 'Mr. Owen Harris Braund', 'male', 22.0, 1, 0, 7.25)\""
      ]
     },
     "execution_count": 363,
     "metadata": {},
     "output_type": "execute_result"
    }
   ],
   "source": [
    "str(titanic[0])"
   ]
  },
  {
   "cell_type": "code",
   "execution_count": 364,
   "metadata": {},
   "outputs": [
    {
     "name": "stdout",
     "output_type": "stream",
     "text": [
      "\n",
      "INSERT INTO titanic\n",
      "(Survived, PClass, Name, Sex, Age, Siblings_Spouses_Aboard, Parents_Children_Aboard, Fare)\n",
      "VALUES (0, 3, 'Mr. Owen Harris Braund', 'male', 22.0, 1, 0, 7.25)\n"
     ]
    }
   ],
   "source": [
    "# transform (making the target ready to get data) done\n",
    "\n",
    "# now we need to insert actual characters\n",
    "# example first\n",
    "\n",
    "example_insert = \"\"\"\n",
    "INSERT INTO titanic\n",
    "(Survived, PClass, Name, Sex, Age, Siblings_Spouses_Aboard, Parents_Children_Aboard, Fare)\n",
    "VALUES \"\"\" + str(titanic[0])\n",
    "\n",
    "print(example_insert)"
   ]
  },
  {
   "cell_type": "code",
   "execution_count": 367,
   "metadata": {},
   "outputs": [
    {
     "ename": "SyntaxError",
     "evalue": "syntax error at or near \"0\"\nLINE 4:         VALUES 0;\n                       ^\n",
     "output_type": "error",
     "traceback": [
      "\u001b[0;31m---------------------------------------------------------------------------\u001b[0m",
      "\u001b[0;31mSyntaxError\u001b[0m                               Traceback (most recent call last)",
      "\u001b[0;32m<ipython-input-367-f6aed6a39c3b>\u001b[0m in \u001b[0;36m<module>\u001b[0;34m\u001b[0m\n\u001b[1;32m      6\u001b[0m         \u001b[0;34m(\u001b[0m\u001b[0mid\u001b[0m\u001b[0;34m,\u001b[0m \u001b[0mSurvived\u001b[0m\u001b[0;34m,\u001b[0m \u001b[0mPClass\u001b[0m\u001b[0;34m,\u001b[0m \u001b[0mName\u001b[0m\u001b[0;34m,\u001b[0m \u001b[0mSex\u001b[0m\u001b[0;34m,\u001b[0m \u001b[0mAge\u001b[0m\u001b[0;34m,\u001b[0m \u001b[0mSiblings_Spouses_Aboard\u001b[0m\u001b[0;34m,\u001b[0m \u001b[0mParents_Children_Aboard\u001b[0m\u001b[0;34m,\u001b[0m \u001b[0mFare\u001b[0m\u001b[0;34m)\u001b[0m\u001b[0;34m\u001b[0m\u001b[0;34m\u001b[0m\u001b[0m\n\u001b[1;32m      7\u001b[0m         VALUES \"\"\" + str(row[0]) + ';' \n\u001b[0;32m----> 8\u001b[0;31m     \u001b[0mpg_curs\u001b[0m\u001b[0;34m.\u001b[0m\u001b[0mexecute\u001b[0m\u001b[0;34m(\u001b[0m\u001b[0minsert_titanic\u001b[0m\u001b[0;34m)\u001b[0m\u001b[0;34m\u001b[0m\u001b[0;34m\u001b[0m\u001b[0m\n\u001b[0m\u001b[1;32m      9\u001b[0m \u001b[0;34m\u001b[0m\u001b[0m\n",
      "\u001b[0;31mSyntaxError\u001b[0m: syntax error at or near \"0\"\nLINE 4:         VALUES 0;\n                       ^\n"
     ]
    }
   ],
   "source": [
    "# now do this for all characters\n",
    "\n",
    "for row in titanic: # this refers to titanic in row 25\n",
    "    insert_titanic = \"\"\"\n",
    "        INSERT INTO titanic\n",
    "        (id, Survived, PClass, Name, Sex, Age, Siblings_Spouses_Aboard, Parents_Children_Aboard, Fare)\n",
    "        VALUES \"\"\" + str(row[0]) + ';' \n",
    "    pg_curs.execute(insert_titanic)\n",
    "    "
   ]
  },
  {
   "cell_type": "code",
   "execution_count": null,
   "metadata": {},
   "outputs": [],
   "source": [
    "pg_curs.execute('SELECT * FROM titanic;')\n",
    "pg_curs.fetchall()"
   ]
  },
  {
   "cell_type": "code",
   "execution_count": null,
   "metadata": {},
   "outputs": [],
   "source": [
    "# we can see it from this cursor but not elephantsql.com\n",
    "# we must commit\n",
    "\n",
    "pg_curs.close()\n",
    "pg_conn.commit()"
   ]
  }
 ],
 "metadata": {
  "kernelspec": {
   "display_name": "Python 3",
   "language": "python",
   "name": "python3"
  },
  "language_info": {
   "codemirror_mode": {
    "name": "ipython",
    "version": 3
   },
   "file_extension": ".py",
   "mimetype": "text/x-python",
   "name": "python",
   "nbconvert_exporter": "python",
   "pygments_lexer": "ipython3",
   "version": "3.7.4"
  }
 },
 "nbformat": 4,
 "nbformat_minor": 2
}
