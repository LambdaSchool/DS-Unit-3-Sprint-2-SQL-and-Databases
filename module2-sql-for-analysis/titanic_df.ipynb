{
 "cells": [
  {
   "cell_type": "code",
   "execution_count": 8,
   "metadata": {},
   "outputs": [],
   "source": [
    "import pandas as pd\n",
    "import numpy as np"
   ]
  },
  {
   "cell_type": "code",
   "execution_count": 17,
   "metadata": {},
   "outputs": [],
   "source": [
    "df = pd.read_csv('titanic.csv')"
   ]
  },
  {
   "cell_type": "code",
   "execution_count": 140,
   "metadata": {},
   "outputs": [],
   "source": [
    "# Create an in-memory SQLite database\n",
    "from sqlalchemy import create_engine\n",
    "engine = create_engine('sqlite://', echo=False)"
   ]
  },
  {
   "cell_type": "code",
   "execution_count": 141,
   "metadata": {},
   "outputs": [],
   "source": [
    "df.to_sql('titanic', con=engine)"
   ]
  },
  {
   "cell_type": "code",
   "execution_count": 143,
   "metadata": {},
   "outputs": [
    {
     "data": {
      "text/plain": [
       "[(0, 0, 3, 'Mr. Owen Harris Braund', 'male', 22.0, 1, 0, 7.25),\n",
       " (1, 1, 1, 'Mrs. John Bradley (Florence Briggs Thayer) Cumings', 'female', 38.0, 1, 0, 71.2833),\n",
       " (2, 1, 3, 'Miss. Laina Heikkinen', 'female', 26.0, 0, 0, 7.925),\n",
       " (3, 1, 1, 'Mrs. Jacques Heath (Lily May Peel) Futrelle', 'female', 35.0, 1, 0, 53.1),\n",
       " (4, 0, 3, 'Mr. William Henry Allen', 'male', 35.0, 0, 0, 8.05)]"
      ]
     },
     "execution_count": 143,
     "metadata": {},
     "output_type": "execute_result"
    }
   ],
   "source": [
    "engine.execute(\"SELECT * FROM titanic Limit 5\").fetchall()"
   ]
  },
  {
   "cell_type": "code",
   "execution_count": 19,
   "metadata": {},
   "outputs": [],
   "source": [
    "df.Name = df.Name.str.replace(\"'\",'')"
   ]
  },
  {
   "cell_type": "code",
   "execution_count": 20,
   "metadata": {},
   "outputs": [
    {
     "data": {
      "text/plain": [
       "0                                 Mr. Owen Harris Braund\n",
       "1      Mrs. John Bradley (Florence Briggs Thayer) Cum...\n",
       "2                                  Miss. Laina Heikkinen\n",
       "3            Mrs. Jacques Heath (Lily May Peel) Futrelle\n",
       "4                                Mr. William Henry Allen\n",
       "5                                        Mr. James Moran\n",
       "6                                 Mr. Timothy J McCarthy\n",
       "7                          Master. Gosta Leonard Palsson\n",
       "8       Mrs. Oscar W (Elisabeth Vilhelmina Berg) Johnson\n",
       "9                     Mrs. Nicholas (Adele Achem) Nasser\n",
       "10                        Miss. Marguerite Rut Sandstrom\n",
       "11                               Miss. Elizabeth Bonnell\n",
       "12                         Mr. William Henry Saundercock\n",
       "13                            Mr. Anders Johan Andersson\n",
       "14                   Miss. Hulda Amanda Adolfina Vestrom\n",
       "15                        Mrs. (Mary D Kingcome) Hewlett\n",
       "16                                   Master. Eugene Rice\n",
       "17                           Mr. Charles Eugene Williams\n",
       "18     Mrs. Julius (Emelia Maria Vandemoortele) Vande...\n",
       "19                                Mrs. Fatima Masselmani\n",
       "20                                   Mr. Joseph J Fynney\n",
       "21                                  Mr. Lawrence Beesley\n",
       "22                                    Miss. Anna McGowan\n",
       "23                           Mr. William Thompson Sloper\n",
       "24                          Miss. Torborg Danira Palsson\n",
       "25     Mrs. Carl Oscar (Selma Augusta Emilia Johansso...\n",
       "26                                Mr. Farred Chehab Emir\n",
       "27                         Mr. Charles Alexander Fortune\n",
       "28                                    Miss. Ellen ODwyer\n",
       "29                                    Mr. Lalio Todoroff\n",
       "                             ...                        \n",
       "857                           Mr. Frederick Edward Giles\n",
       "858    Mrs. Frederick Joel (Margaret Welles Barron) S...\n",
       "859                             Miss. Dorothy Edith Sage\n",
       "860                                Mr. John William Gill\n",
       "861                              Mrs. (Karolina) Bystrom\n",
       "862                          Miss. Asuncion Duran y More\n",
       "863                  Mr. Washington Augustus II Roebling\n",
       "864                           Mr. Philemon van Melkebeke\n",
       "865                       Master. Harold Theodor Johnson\n",
       "866                                     Mr. Cerin Balkic\n",
       "867      Mrs. Richard Leonard (Sallie Monypeny) Beckwith\n",
       "868                              Mr. Frans Olof Carlsson\n",
       "869                           Mr. Victor Vander Cruyssen\n",
       "870                 Mrs. Samuel (Hannah Wizosky) Abelson\n",
       "871                             Miss. Adele Kiamie Najib\n",
       "872                         Mr. Alfred Ossian Gustafsson\n",
       "873                                  Mr. Nedelio Petroff\n",
       "874                                    Mr. Kristo Laleff\n",
       "875         Mrs. Thomas Jr (Lily Alexenia Wilson) Potter\n",
       "876          Mrs. William (Imanita Parrish Hall) Shelley\n",
       "877                                    Mr. Johann Markun\n",
       "878                          Miss. Gerda Ulrika Dahlberg\n",
       "879                         Mr. Frederick James Banfield\n",
       "880                                Mr. Henry Jr Sutehall\n",
       "881                  Mrs. William (Margaret Norton) Rice\n",
       "882                                 Rev. Juozas Montvila\n",
       "883                          Miss. Margaret Edith Graham\n",
       "884                       Miss. Catherine Helen Johnston\n",
       "885                                 Mr. Karl Howell Behr\n",
       "886                                   Mr. Patrick Dooley\n",
       "Name: Name, Length: 887, dtype: object"
      ]
     },
     "execution_count": 20,
     "metadata": {},
     "output_type": "execute_result"
    }
   ],
   "source": [
    "df.Name"
   ]
  },
  {
   "cell_type": "code",
   "execution_count": 20,
   "metadata": {},
   "outputs": [
    {
     "data": {
      "text/plain": [
       "8"
      ]
     },
     "execution_count": 20,
     "metadata": {},
     "output_type": "execute_result"
    }
   ],
   "source": [
    "len(df.columns)"
   ]
  },
  {
   "cell_type": "code",
   "execution_count": 28,
   "metadata": {},
   "outputs": [],
   "source": [
    "convert_types ={'int64':'int', 'object': 'text', 'float64': 'real'}"
   ]
  },
  {
   "cell_type": "code",
   "execution_count": 52,
   "metadata": {},
   "outputs": [
    {
     "data": {
      "text/html": [
       "<div>\n",
       "<style scoped>\n",
       "    .dataframe tbody tr th:only-of-type {\n",
       "        vertical-align: middle;\n",
       "    }\n",
       "\n",
       "    .dataframe tbody tr th {\n",
       "        vertical-align: top;\n",
       "    }\n",
       "\n",
       "    .dataframe thead th {\n",
       "        text-align: right;\n",
       "    }\n",
       "</style>\n",
       "<table border=\"1\" class=\"dataframe\">\n",
       "  <thead>\n",
       "    <tr style=\"text-align: right;\">\n",
       "      <th></th>\n",
       "      <th>types</th>\n",
       "    </tr>\n",
       "  </thead>\n",
       "  <tbody>\n",
       "    <tr>\n",
       "      <th>Survived</th>\n",
       "      <td>int</td>\n",
       "    </tr>\n",
       "    <tr>\n",
       "      <th>Pclass</th>\n",
       "      <td>int</td>\n",
       "    </tr>\n",
       "    <tr>\n",
       "      <th>Name</th>\n",
       "      <td>text</td>\n",
       "    </tr>\n",
       "    <tr>\n",
       "      <th>Sex</th>\n",
       "      <td>text</td>\n",
       "    </tr>\n",
       "    <tr>\n",
       "      <th>Age</th>\n",
       "      <td>real</td>\n",
       "    </tr>\n",
       "    <tr>\n",
       "      <th>Siblings/Spouses Aboard</th>\n",
       "      <td>int</td>\n",
       "    </tr>\n",
       "    <tr>\n",
       "      <th>Parents/Children Aboard</th>\n",
       "      <td>int</td>\n",
       "    </tr>\n",
       "    <tr>\n",
       "      <th>Fare</th>\n",
       "      <td>real</td>\n",
       "    </tr>\n",
       "  </tbody>\n",
       "</table>\n",
       "</div>"
      ],
      "text/plain": [
       "                        types\n",
       "Survived                  int\n",
       "Pclass                    int\n",
       "Name                     text\n",
       "Sex                      text\n",
       "Age                      real\n",
       "Siblings/Spouses Aboard   int\n",
       "Parents/Children Aboard   int\n",
       "Fare                     real"
      ]
     },
     "execution_count": 52,
     "metadata": {},
     "output_type": "execute_result"
    }
   ],
   "source": [
    "col_types = pd.DataFrame(df.dtypes, columns=['types'])\n",
    "col_types = col_types.replace(convert_types)\n",
    "col_types"
   ]
  },
  {
   "cell_type": "code",
   "execution_count": 48,
   "metadata": {},
   "outputs": [
    {
     "data": {
      "text/plain": [
       "array(['int', 'int', 'text', 'text', 'real', 'int', 'int', 'real'],\n",
       "      dtype=object)"
      ]
     },
     "execution_count": 48,
     "metadata": {},
     "output_type": "execute_result"
    }
   ],
   "source": [
    "col_types.types.values"
   ]
  },
  {
   "cell_type": "code",
   "execution_count": 70,
   "metadata": {},
   "outputs": [
    {
     "data": {
      "text/plain": [
       "['Survived int',\n",
       " 'Pclass int',\n",
       " 'Name text',\n",
       " 'Sex text',\n",
       " 'Age real',\n",
       " 'Siblings/Spouses Aboard int',\n",
       " 'Parents/Children Aboard int',\n",
       " 'Fare real']"
      ]
     },
     "execution_count": 70,
     "metadata": {},
     "output_type": "execute_result"
    }
   ],
   "source": [
    "col_n_type = []\n",
    "for i, j in zip(col_types.index, col_types.types.values):\n",
    "    result = i + ' ' + j\n",
    "    col_n_type.append(result)\n",
    "    \n",
    "col_n_type"
   ]
  },
  {
   "cell_type": "code",
   "execution_count": 71,
   "metadata": {},
   "outputs": [
    {
     "data": {
      "text/plain": [
       "'Survived int,Pclass int,Name text,Sex text,Age real,Siblings_Spouses_Aboard int,Parents_Children_Aboard int,Fare real'"
      ]
     },
     "execution_count": 71,
     "metadata": {},
     "output_type": "execute_result"
    }
   ],
   "source": [
    "col_n_type = ','.join(col_n_type).replace('/', '_').replace(' Aboard', '_Aboard')\n",
    "col_n_type"
   ]
  },
  {
   "cell_type": "code",
   "execution_count": 55,
   "metadata": {},
   "outputs": [],
   "source": [
    "def type_func(table_name, df):\n",
    "    \n",
    "    # dataframe of columns and types\n",
    "    col_types = pd.DataFrame(df.dtypes, columns=['types'])\n",
    "    col_types = col_types.replace(convert_types)\n",
    "    \n",
    "    # Creating string of column names and type for creating SQL table\n",
    "    col_n_type = []\n",
    "    for i, j in zip(col_types.index, col_types.types.values):\n",
    "        result = i + ' ' + j\n",
    "        col_n_type.append(result)\n",
    "    \n",
    "    # Converting into one string\n",
    "    col_n_type = ','.join(col_n_type)\n",
    "    \n",
    "    # Creating SQL table\n",
    "    create = f\"CREATE TABLE {table_name}({col_n_type});\"\n",
    "    \n",
    "    return create"
   ]
  },
  {
   "cell_type": "code",
   "execution_count": 56,
   "metadata": {},
   "outputs": [
    {
     "data": {
      "text/plain": [
       "'CREATE TABLE table(Survived int,Pclass int,Name text,Sex text,Age real,Siblings/Spouses Aboard int,Parents/Children Aboard int,Fare real);'"
      ]
     },
     "execution_count": 56,
     "metadata": {},
     "output_type": "execute_result"
    }
   ],
   "source": [
    "type_func('table', df=df)"
   ]
  },
  {
   "cell_type": "code",
   "execution_count": 57,
   "metadata": {},
   "outputs": [
    {
     "data": {
      "text/plain": [
       "'Survived,Pclass,Name,Sex,Age,Siblings/Spouses Aboard,Parents/Children Aboard,Fare'"
      ]
     },
     "execution_count": 57,
     "metadata": {},
     "output_type": "execute_result"
    }
   ],
   "source": [
    "','.join(df.columns)"
   ]
  },
  {
   "cell_type": "markdown",
   "metadata": {},
   "source": [
    "# `copy_table` Function"
   ]
  },
  {
   "cell_type": "code",
   "execution_count": 27,
   "metadata": {},
   "outputs": [],
   "source": [
    "import psycopg2 as pg\n",
    "pg.connect\n",
    "\n",
    "\n",
    "import pandas as pd\n",
    "import psycopg2 as pg\n",
    "\n",
    "\n",
    "# Posgresql database parameters\n",
    "dbname ='hartabvb'\n",
    "user = 'hartabvb'\n",
    "password = '9jk1ptYGv0qclPjUQybvhF8bnmAXPmNv'\n",
    "host = 'stampy.db.elephantsql.com'\n",
    "\n",
    "pg_conn = pg.connect(dbname=dbname, user=user, password=password, host=host)"
   ]
  },
  {
   "cell_type": "code",
   "execution_count": 28,
   "metadata": {},
   "outputs": [],
   "source": [
    "def copy_table(table_name, csv_file):\n",
    "    import pandas as pd\n",
    "\n",
    "    df = pd.read_csv(csv_file)\n",
    "    #df.Name = df.Name.str.replace('[^\\w\\s]','')\n",
    "    df.Name = df.Name.str.replace(\"'\",'')\n",
    "    # Cursor\n",
    "    pg_curs = pg_conn.cursor()\n",
    "    \n",
    "    # dataframe of columns and types\n",
    "    convert_types ={'int64':'int', 'object': 'text', 'float64': 'real'}\n",
    "    \n",
    "    col_types = pd.DataFrame(df.dtypes, columns=['types'])\n",
    "    col_types = col_types.replace(convert_types)\n",
    "    \n",
    "    # Creating string of column names and type for creating SQL table\n",
    "    col_n_type = []\n",
    "    for i, j in zip(col_types.index, col_types.types.values):\n",
    "        result = i + ' ' + j\n",
    "        col_n_type.append(result)\n",
    "    \n",
    "    # Converting into one string\n",
    "    col_n_type = ','.join(col_n_type).replace('/', '_').replace(' Aboard', '_Aboard')\n",
    "    \n",
    "    # Creating SQL table\n",
    "    create = f\"CREATE TABLE {table_name}({col_n_type});\"\n",
    "    pg_curs.execute(create)\n",
    "\n",
    "    # Now we insert the data in the empty table created\n",
    "    col_names = ','.join(df.columns).replace('/', '_').replace(' Aboard', '_Aboard')\n",
    "    rows = df.values\n",
    "    \n",
    "    for row in [tuple(i) for i in rows]:\n",
    "        insert_result = f\"INSERT INTO {table_name} ({col_names}) VALUES\" + str(row)\n",
    "        pg_curs.execute(insert_result)\n",
    "\n",
    "\n",
    "    pg_conn.commit()\n",
    "\n",
    "\n",
    "\n",
    "\n"
   ]
  },
  {
   "cell_type": "code",
   "execution_count": 29,
   "metadata": {},
   "outputs": [],
   "source": [
    "copy_table('titanic_table2', 'titanic.csv')"
   ]
  },
  {
   "cell_type": "code",
   "execution_count": null,
   "metadata": {},
   "outputs": [],
   "source": []
  }
 ],
 "metadata": {
  "kernelspec": {
   "display_name": "Python 3",
   "language": "python",
   "name": "python3"
  },
  "language_info": {
   "codemirror_mode": {
    "name": "ipython",
    "version": 3
   },
   "file_extension": ".py",
   "mimetype": "text/x-python",
   "name": "python",
   "nbconvert_exporter": "python",
   "pygments_lexer": "ipython3",
   "version": "3.6.8"
  }
 },
 "nbformat": 4,
 "nbformat_minor": 2
}
