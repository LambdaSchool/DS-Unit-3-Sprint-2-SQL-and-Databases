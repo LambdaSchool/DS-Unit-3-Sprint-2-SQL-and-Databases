{
 "cells": [
  {
   "cell_type": "code",
   "execution_count": null,
   "metadata": {},
   "outputs": [],
   "source": [
    "import pandas as pd\n",
    "import numpy as np\n",
    "\n",
    "df = pd.read_csv('titanic.csv')"
   ]
  },
  {
   "cell_type": "code",
   "execution_count": null,
   "metadata": {},
   "outputs": [],
   "source": [
    "# Create an in-memory SQLite database\n",
    "from sqlalchemy import create_engine\n",
    "engine = create_engine('sqlite://', echo=False)"
   ]
  },
  {
   "cell_type": "code",
   "execution_count": null,
   "metadata": {},
   "outputs": [],
   "source": [
    "df.to_sql('titanic', con=engine)"
   ]
  },
  {
   "cell_type": "code",
   "execution_count": 4,
   "metadata": {},
   "outputs": [],
   "source": [
    "import psycopg2 as pg\n",
    "pg.connect\n",
    "\n",
    "\n",
    "import pandas as pd\n",
    "import psycopg2 as pg\n",
    "\n",
    "\n",
    "# Posgresql database parameters\n",
    "dbname ='hartabvb'\n",
    "user = 'hartabvb'\n",
    "password = '9jk1ptYGv0qclPjUQybvhF8bnmAXPmNv'\n",
    "host = 'stampy.db.elephantsql.com'\n",
    "\n",
    "pg_conn = pg.connect(dbname=dbname, user=user, password=password, host=host)"
   ]
  },
  {
   "cell_type": "code",
   "execution_count": 5,
   "metadata": {},
   "outputs": [],
   "source": [
    "def copy_table(table_name, csv_file):\n",
    "    \n",
    "    import pandas as pd\n",
    "    \n",
    "    # Converting csv file into Pandas DataFrame\n",
    "    df = pd.read_csv(csv_file)\n",
    "    \n",
    "    # Create an in-memory SQLite database\n",
    "    from sqlalchemy import create_engine\n",
    "    engine = create_engine('sqlite://', echo=False)\n",
    "    df.to_sql('titanic', con=engine, index=False)\n",
    "    \n",
    "    # All rows as tuples from new SQL table\n",
    "    results = engine.execute(\"SELECT * FROM titanic\").fetchall()\n",
    "\n",
    "    \n",
    "    # Cursor\n",
    "    pg_curs = pg_conn.cursor()\n",
    "    \n",
    "    # dataframe of columns and types\n",
    "    convert_types ={'int64':'int', 'object': 'text', 'float64': 'real'}\n",
    "    \n",
    "    col_types = pd.DataFrame(df.dtypes, columns=['types'])\n",
    "    col_types = col_types.replace(convert_types)\n",
    "    \n",
    "    # Creating string of column names and type for creating SQL table\n",
    "    col_n_type = []\n",
    "    for i, j in zip(col_types.index, col_types.types.values):\n",
    "        result = i + ' ' + j\n",
    "        col_n_type.append(result)\n",
    "    \n",
    "    # Converting into one string\n",
    "    col_n_type = ','.join(col_n_type).replace('/', '_').replace(' Aboard', '_Aboard')\n",
    "    \n",
    "    # Creating SQL table\n",
    "    create = f\"CREATE TABLE {table_name}({col_n_type});\"\n",
    "    \n",
    "    pg_curs.execute(create)\n",
    "\n",
    "    # Now we insert the data in the empty table created\n",
    "    col_names = ','.join(df.columns).replace('/', '_').replace(' Aboard', '_Aboard')\n",
    "    rows = df.values\n",
    "    \n",
    "    for result in results:\n",
    "        insert_result = f\"INSERT INTO {table_name} ({col_names}) VALUES\" + str(result)\n",
    "        pg_curs.execute(insert_result)\n",
    "\n",
    "\n",
    "    #pg_conn.commit()"
   ]
  },
  {
   "cell_type": "code",
   "execution_count": 6,
   "metadata": {},
   "outputs": [
    {
     "ename": "ProgrammingError",
     "evalue": "column \"Miss. Ellen O'Dwyer\" does not exist\nLINE 1: ...Aboard,Parents_Children_Aboard,Fare) VALUES(1, 3, \"Miss. Ell...\n                                                             ^\n",
     "output_type": "error",
     "traceback": [
      "\u001b[1;31m---------------------------------------------------------------------------\u001b[0m",
      "\u001b[1;31mProgrammingError\u001b[0m                          Traceback (most recent call last)",
      "\u001b[1;32m<ipython-input-6-0d8684dd8660>\u001b[0m in \u001b[0;36m<module>\u001b[1;34m\u001b[0m\n\u001b[1;32m----> 1\u001b[1;33m \u001b[0mcopy_table\u001b[0m\u001b[1;33m(\u001b[0m\u001b[1;34m'titanic'\u001b[0m\u001b[1;33m,\u001b[0m \u001b[1;34m'titanic.csv'\u001b[0m\u001b[1;33m)\u001b[0m\u001b[1;33m\u001b[0m\u001b[1;33m\u001b[0m\u001b[0m\n\u001b[0m",
      "\u001b[1;32m<ipython-input-5-40556c0e3c65>\u001b[0m in \u001b[0;36mcopy_table\u001b[1;34m(table_name, csv_file)\u001b[0m\n\u001b[0;32m     44\u001b[0m     \u001b[1;32mfor\u001b[0m \u001b[0mresult\u001b[0m \u001b[1;32min\u001b[0m \u001b[0mresults\u001b[0m\u001b[1;33m:\u001b[0m\u001b[1;33m\u001b[0m\u001b[1;33m\u001b[0m\u001b[0m\n\u001b[0;32m     45\u001b[0m         \u001b[0minsert_result\u001b[0m \u001b[1;33m=\u001b[0m \u001b[1;34mf\"INSERT INTO {table_name} ({col_names}) VALUES\"\u001b[0m \u001b[1;33m+\u001b[0m \u001b[0mstr\u001b[0m\u001b[1;33m(\u001b[0m\u001b[0mresult\u001b[0m\u001b[1;33m)\u001b[0m\u001b[1;33m\u001b[0m\u001b[1;33m\u001b[0m\u001b[0m\n\u001b[1;32m---> 46\u001b[1;33m         \u001b[0mpg_curs\u001b[0m\u001b[1;33m.\u001b[0m\u001b[0mexecute\u001b[0m\u001b[1;33m(\u001b[0m\u001b[0minsert_result\u001b[0m\u001b[1;33m)\u001b[0m\u001b[1;33m\u001b[0m\u001b[1;33m\u001b[0m\u001b[0m\n\u001b[0m\u001b[0;32m     47\u001b[0m \u001b[1;33m\u001b[0m\u001b[0m\n\u001b[0;32m     48\u001b[0m \u001b[1;33m\u001b[0m\u001b[0m\n",
      "\u001b[1;31mProgrammingError\u001b[0m: column \"Miss. Ellen O'Dwyer\" does not exist\nLINE 1: ...Aboard,Parents_Children_Aboard,Fare) VALUES(1, 3, \"Miss. Ell...\n                                                             ^\n"
     ]
    }
   ],
   "source": [
    "copy_table('titanic', 'titanic.csv')"
   ]
  },
  {
   "cell_type": "code",
   "execution_count": null,
   "metadata": {},
   "outputs": [],
   "source": []
  }
 ],
 "metadata": {
  "kernelspec": {
   "display_name": "Python 3",
   "language": "python",
   "name": "python3"
  },
  "language_info": {
   "codemirror_mode": {
    "name": "ipython",
    "version": 3
   },
   "file_extension": ".py",
   "mimetype": "text/x-python",
   "name": "python",
   "nbconvert_exporter": "python",
   "pygments_lexer": "ipython3",
   "version": "3.6.8"
  }
 },
 "nbformat": 4,
 "nbformat_minor": 2
}
