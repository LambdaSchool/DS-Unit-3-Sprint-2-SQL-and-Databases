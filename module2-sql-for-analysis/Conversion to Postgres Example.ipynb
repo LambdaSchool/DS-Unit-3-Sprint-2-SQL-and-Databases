{
 "cells": [
  {
   "cell_type": "code",
   "execution_count": 36,
   "metadata": {},
   "outputs": [],
   "source": [
    "import psycopg2"
   ]
  },
  {
   "cell_type": "code",
   "execution_count": 37,
   "metadata": {},
   "outputs": [],
   "source": [
    "dbname = 'phpjrldr'\n",
    "user = 'phpjrldr'\n",
    "password = 'JQJbab4laCQxJB6BzmXsj5CgXwoU_Wfm' # Don't Commit\n",
    "host = 'raja.db.elephantsql.com'"
   ]
  },
  {
   "cell_type": "code",
   "execution_count": 38,
   "metadata": {},
   "outputs": [],
   "source": [
    "pg_conn = psycopg2.connect(dbname=dbname, user=user, password=password, host=host)"
   ]
  },
  {
   "cell_type": "code",
   "execution_count": 39,
   "metadata": {},
   "outputs": [],
   "source": [
    "pg_curs = pg_conn.cursor()"
   ]
  },
  {
   "cell_type": "code",
   "execution_count": 40,
   "metadata": {},
   "outputs": [
    {
     "data": {
      "text/plain": [
       "[(1, 'A row name', None),\n",
       " (2, 'Another row, with JSON', {'a': 1, 'b': ['dog', 'cat', 42], 'c': True})]"
      ]
     },
     "execution_count": 40,
     "metadata": {},
     "output_type": "execute_result"
    }
   ],
   "source": [
    "pg_curs.execute('SELECT * FROM test_table;')\n",
    "pg_curs.fetchall()"
   ]
  },
  {
   "cell_type": "code",
   "execution_count": 41,
   "metadata": {},
   "outputs": [],
   "source": [
    "import sqlite3"
   ]
  },
  {
   "cell_type": "code",
   "execution_count": 42,
   "metadata": {},
   "outputs": [],
   "source": [
    "sl_conn = sqlite3.connect('rpg_db.sqlite3')\n",
    "sl_curs = sl_conn.cursor()"
   ]
  },
  {
   "cell_type": "code",
   "execution_count": 43,
   "metadata": {},
   "outputs": [
    {
     "data": {
      "text/plain": [
       "[(302,)]"
      ]
     },
     "execution_count": 43,
     "metadata": {},
     "output_type": "execute_result"
    }
   ],
   "source": [
    "sl_curs.execute('SELECT COUNT(*) FROM charactercreator_character;').fetchall()"
   ]
  },
  {
   "cell_type": "code",
   "execution_count": 44,
   "metadata": {},
   "outputs": [],
   "source": [
    "characters = sl_curs.execute('SELECT * FROM charactercreator_character;').fetchall()"
   ]
  },
  {
   "cell_type": "code",
   "execution_count": 45,
   "metadata": {},
   "outputs": [
    {
     "data": {
      "text/plain": [
       "(1, 'Aliquid iste optio reiciendi', 0, 0, 10, 1, 1, 1, 1)"
      ]
     },
     "execution_count": 45,
     "metadata": {},
     "output_type": "execute_result"
    }
   ],
   "source": [
    "characters[0]"
   ]
  },
  {
   "cell_type": "code",
   "execution_count": 46,
   "metadata": {},
   "outputs": [],
   "source": [
    "# Character Schema for Postgres\n",
    "create_character_table = \"\"\"\n",
    "CREATE TABLE charactercreator_character (\n",
    "    character_id SERIAL PRIMARY KEY,\n",
    "    name VARCHAR(30),\n",
    "    level INT,\n",
    "    exp INT,\n",
    "    hp INT,\n",
    "    strength INT,\n",
    "    intelligence INT,\n",
    "    dexterity INT,\n",
    "    wisdom INT\n",
    ")\n",
    "\"\"\""
   ]
  },
  {
   "cell_type": "code",
   "execution_count": 47,
   "metadata": {},
   "outputs": [],
   "source": [
    "pg_curs.execute(create_character_table)"
   ]
  },
  {
   "cell_type": "code",
   "execution_count": 48,
   "metadata": {},
   "outputs": [],
   "source": [
    "# Loop over and actually insert all the results\n",
    "for character in characters: \n",
    "    insert_character = \"\"\"\n",
    "    INSERT INTO charactercreator_character\n",
    "    (name, level, exp, hp, strength, intelligence, dexterity, wisdom)\n",
    "    VALUES \"\"\" + str(character[1:])\n",
    "    pg_curs.execute(insert_character)"
   ]
  },
  {
   "cell_type": "code",
   "execution_count": 49,
   "metadata": {},
   "outputs": [],
   "source": [
    "pg_conn.commit()"
   ]
  },
  {
   "cell_type": "code",
   "execution_count": 50,
   "metadata": {},
   "outputs": [],
   "source": [
    "# Let's remake the pg cursor and check things\n",
    "pg_curs = pg_conn.cursor()\n",
    "\n",
    "# Note in Postgres the execution modifies cursor in place so you break queries into two steps \n",
    "pg_curs.execute('SELECT * FROM charactercreator_character;')\n",
    "\n",
    "pg_characters = pg_curs.fetchall()"
   ]
  },
  {
   "cell_type": "code",
   "execution_count": 51,
   "metadata": {},
   "outputs": [
    {
     "data": {
      "text/plain": [
       "(1, 'Aliquid iste optio reiciendi', 0, 0, 10, 1, 1, 1, 1)"
      ]
     },
     "execution_count": 51,
     "metadata": {},
     "output_type": "execute_result"
    }
   ],
   "source": [
    "pg_characters[0]"
   ]
  },
  {
   "cell_type": "code",
   "execution_count": 52,
   "metadata": {},
   "outputs": [
    {
     "data": {
      "text/plain": [
       "(1, 'Aliquid iste optio reiciendi', 0, 0, 10, 1, 1, 1, 1)"
      ]
     },
     "execution_count": 52,
     "metadata": {},
     "output_type": "execute_result"
    }
   ],
   "source": [
    "characters[0]"
   ]
  },
  {
   "cell_type": "code",
   "execution_count": 53,
   "metadata": {},
   "outputs": [],
   "source": [
    "# Check that sqlite3 and postgres is the same\n",
    "for character, pg_character in zip(characters, pg_characters):\n",
    "    assert character == pg_character"
   ]
  }
 ],
 "metadata": {
  "kernelspec": {
   "display_name": "Python 3",
   "language": "python",
   "name": "python3"
  },
  "language_info": {
   "codemirror_mode": {
    "name": "ipython",
    "version": 3
   },
   "file_extension": ".py",
   "mimetype": "text/x-python",
   "name": "python",
   "nbconvert_exporter": "python",
   "pygments_lexer": "ipython3",
   "version": "3.6.8"
  }
 },
 "nbformat": 4,
 "nbformat_minor": 2
}
