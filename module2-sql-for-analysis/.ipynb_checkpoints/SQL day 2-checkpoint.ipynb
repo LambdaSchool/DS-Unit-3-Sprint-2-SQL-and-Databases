{
 "cells": [
  {
   "cell_type": "code",
   "execution_count": 1,
   "metadata": {},
   "outputs": [],
   "source": [
    "import psycopg2\n",
    "import pandas as pd\n",
    "import sqlite3"
   ]
  },
  {
   "cell_type": "code",
   "execution_count": 3,
   "metadata": {},
   "outputs": [
    {
     "name": "stderr",
     "output_type": "stream",
     "text": [
      "C:\\Users\\Samue\\Anaconda3\\lib\\site-packages\\pandas\\core\\generic.py:2130: UserWarning: The spaces in these column names will not be changed. In pandas versions < 0.14, spaces were converted to underscores.\n",
      "  dtype=dtype)\n"
     ]
    }
   ],
   "source": [
    "df = pd.read_csv('titanic.csv')\n",
    "engine = sqlite3.connect('Titanic.sqlite3')\n",
    "df.to_sql('Titanic', con=engine, index=False)"
   ]
  },
  {
   "cell_type": "code",
   "execution_count": 7,
   "metadata": {},
   "outputs": [
    {
     "data": {
      "text/plain": [
       "[(0, 'Survived', 'INTEGER', 0, None, 0),\n",
       " (1, 'Pclass', 'INTEGER', 0, None, 0),\n",
       " (2, 'Name', 'TEXT', 0, None, 0),\n",
       " (3, 'Sex', 'TEXT', 0, None, 0),\n",
       " (4, 'Age', 'REAL', 0, None, 0),\n",
       " (5, 'Siblings/Spouses Aboard', 'INTEGER', 0, None, 0),\n",
       " (6, 'Parents/Children Aboard', 'INTEGER', 0, None, 0),\n",
       " (7, 'Fare', 'REAL', 0, None, 0)]"
      ]
     },
     "execution_count": 7,
     "metadata": {},
     "output_type": "execute_result"
    }
   ],
   "source": [
    "curs = engine.cursor()\n",
    "tit = curs.execute('PRAGMA table_info(Titanic);').fetchall()\n",
    "tit"
   ]
  },
  {
   "cell_type": "code",
   "execution_count": 8,
   "metadata": {},
   "outputs": [],
   "source": [
    "dbname = 'gtnvnumb'\n",
    "user = 'gtnvnumb'\n",
    "password = '2pmgM40HrLJtJGdm1RcBFdezc_j5rrqH'\n",
    "host = 'salt.db.elephantsql.com'\n",
    "pg_conn = psycopg2.connect(dbname=dbname, user=user,\n",
    "                               password=password, host=host)\n",
    "pg_curs = pg_conn.cursor()"
   ]
  },
  {
   "cell_type": "code",
   "execution_count": 15,
   "metadata": {},
   "outputs": [],
   "source": [
    "create_titanic_table = '''\n",
    "CREATE TABLE Titanic (\n",
    "  index SERIAL PRIMARY KEY,\n",
    "  Survived INT,\n",
    "  Pclass INT,\n",
    "  Name TEXT,\n",
    "  Sex TEXT,\n",
    "  Age REAL,\n",
    "  Siblings/Spouses Aboard INT,\n",
    "  Parents/Children Aboard INT,\n",
    "  Fare REAL\n",
    "  );\n",
    "  '''"
   ]
  },
  {
   "cell_type": "code",
   "execution_count": 16,
   "metadata": {},
   "outputs": [],
   "source": [
    "peoples = curs.execute('SELECT * FROM Titanic;').fetchall()"
   ]
  },
  {
   "cell_type": "code",
   "execution_count": 17,
   "metadata": {},
   "outputs": [],
   "source": [
    "example_insert = '''\n",
    "INSERT INTO Titanic\n",
    "(index, Survived, Pclass, Name, Sex, Age, Siblings/Spouses Aboard, Parents/Children Aboard, Fare)\n",
    "VALUES ''' + str(peoples[0][1:])"
   ]
  },
  {
   "cell_type": "code",
   "execution_count": 18,
   "metadata": {},
   "outputs": [
    {
     "name": "stdout",
     "output_type": "stream",
     "text": [
      "\n",
      "INSERT INTO Titanic\n",
      "(index, Survived, Pclass, Name, Sex, Age, Siblings/Spouses Aboard, Parents/Children Aboard, Fare)\n",
      "VALUES (3, 'Mr. Owen Harris Braund', 'male', 22.0, 1, 0, 7.25)\n"
     ]
    }
   ],
   "source": [
    "print(example_insert)"
   ]
  },
  {
   "cell_type": "code",
   "execution_count": null,
   "metadata": {},
   "outputs": [],
   "source": [
    "for people in peoples:\n",
    "    insert_person = '''\n",
    "    INSERT INTO Titanic\n",
    "    (index, Survived, Pclass, Name, Sex, Age, Siblings/Spouses Aboard, Parents/Children Aboard, Fare)\n",
    "    VALUES ''' + str(peoples[0][1:])'\n",
    "    #print(insert_character)\n",
    "    pg_curs.execute(insert_character)"
   ]
  }
 ],
 "metadata": {
  "kernelspec": {
   "display_name": "Python 3",
   "language": "python",
   "name": "python3"
  },
  "language_info": {
   "codemirror_mode": {
    "name": "ipython",
    "version": 3
   },
   "file_extension": ".py",
   "mimetype": "text/x-python",
   "name": "python",
   "nbconvert_exporter": "python",
   "pygments_lexer": "ipython3",
   "version": "3.7.3"
  }
 },
 "nbformat": 4,
 "nbformat_minor": 2
}
