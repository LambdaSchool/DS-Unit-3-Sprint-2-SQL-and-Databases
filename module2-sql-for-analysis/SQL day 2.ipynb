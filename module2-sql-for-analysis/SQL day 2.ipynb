{
 "cells": [
  {
   "cell_type": "code",
   "execution_count": 1,
   "metadata": {},
   "outputs": [],
   "source": [
    "import psycopg2\n",
    "import pandas as pd\n",
    "import sqlite3"
   ]
  },
  {
   "cell_type": "code",
   "execution_count": 2,
   "metadata": {},
   "outputs": [],
   "source": [
    "engine = sqlite3.connect('Titanic.sqlite3')"
   ]
  },
  {
   "cell_type": "code",
   "execution_count": 3,
   "metadata": {},
   "outputs": [],
   "source": [
    "df = pd.read_csv('titanic.csv')\n",
    "df.columns = ['Survived', 'Pclass', 'Name', 'Sex', 'Age', 'Siblings_Spouses_Aboard', 'Parents_Children_Aboard', 'Fare']\n",
    "df['Name'] = df['Name'].str.replace(\"'\", \"\")"
   ]
  },
  {
   "cell_type": "code",
   "execution_count": 4,
   "metadata": {},
   "outputs": [],
   "source": [
    "df.to_sql('Titanic', con=engine, if_exists='replace')"
   ]
  },
  {
   "cell_type": "code",
   "execution_count": 5,
   "metadata": {},
   "outputs": [
    {
     "data": {
      "text/plain": [
       "[(0, 'index', 'INTEGER', 0, None, 0),\n",
       " (1, 'Survived', 'INTEGER', 0, None, 0),\n",
       " (2, 'Pclass', 'INTEGER', 0, None, 0),\n",
       " (3, 'Name', 'TEXT', 0, None, 0),\n",
       " (4, 'Sex', 'TEXT', 0, None, 0),\n",
       " (5, 'Age', 'REAL', 0, None, 0),\n",
       " (6, 'Siblings_Spouses_Aboard', 'INTEGER', 0, None, 0),\n",
       " (7, 'Parents_Children_Aboard', 'INTEGER', 0, None, 0),\n",
       " (8, 'Fare', 'REAL', 0, None, 0)]"
      ]
     },
     "execution_count": 5,
     "metadata": {},
     "output_type": "execute_result"
    }
   ],
   "source": [
    "curs = engine.cursor()\n",
    "curs.execute('PRAGMA table_info(Titanic);').fetchall()"
   ]
  },
  {
   "cell_type": "code",
   "execution_count": 6,
   "metadata": {},
   "outputs": [],
   "source": [
    "dbname = 'gtnvnumb'\n",
    "user = 'gtnvnumb'\n",
    "password = '2pmgM40HrLJtJGdm1RcBFdezc_j5rrqH'\n",
    "host = 'salt.db.elephantsql.com'\n",
    "pg_conn = psycopg2.connect(dbname=dbname, user=user,\n",
    "                               password=password, host=host)\n",
    "pg_curs = pg_conn.cursor()"
   ]
  },
  {
   "cell_type": "code",
   "execution_count": 7,
   "metadata": {},
   "outputs": [],
   "source": [
    "create_titanic_table = '''\n",
    "CREATE TABLE Titanic (\n",
    "  index SERIAL PRIMARY KEY,\n",
    "  Survived INT,\n",
    "  Pclass INT,\n",
    "  Name TEXT,\n",
    "  Sex TEXT,\n",
    "  Age REAL,\n",
    "  Siblings_Spouses_Aboard INT,\n",
    "  Parents_Children_Aboard INT,\n",
    "  Fare REAL\n",
    "  );\n",
    "  '''"
   ]
  },
  {
   "cell_type": "code",
   "execution_count": 8,
   "metadata": {},
   "outputs": [],
   "source": [
    "pg_curs.execute(create_titanic_table)"
   ]
  },
  {
   "cell_type": "code",
   "execution_count": 9,
   "metadata": {},
   "outputs": [],
   "source": [
    "peoples = curs.execute('SELECT * FROM Titanic;').fetchall()"
   ]
  },
  {
   "cell_type": "code",
   "execution_count": 10,
   "metadata": {},
   "outputs": [],
   "source": [
    "example_insert = '''\n",
    "INSERT INTO Titanic\n",
    "(Survived, Pclass, Name, Sex, Age, Siblings/Spouses Aboard, Parents/Children Aboard, Fare)\n",
    "VALUES ''' + str(peoples[0][1:])"
   ]
  },
  {
   "cell_type": "code",
   "execution_count": 11,
   "metadata": {},
   "outputs": [
    {
     "name": "stdout",
     "output_type": "stream",
     "text": [
      "\n",
      "INSERT INTO Titanic\n",
      "(Survived, Pclass, Name, Sex, Age, Siblings/Spouses Aboard, Parents/Children Aboard, Fare)\n",
      "VALUES (0, 3, 'Mr. Owen Harris Braund', 'male', 22.0, 1, 0, 7.25)\n"
     ]
    }
   ],
   "source": [
    "print(example_insert)"
   ]
  },
  {
   "cell_type": "code",
   "execution_count": 12,
   "metadata": {},
   "outputs": [],
   "source": [
    "for people in peoples:\n",
    "    insert_person = '''\n",
    "    INSERT INTO Titanic\n",
    "    (Survived, Pclass, Name, Sex, Age, Siblings_Spouses_Aboard, Parents_Children_Aboard, Fare)\n",
    "    VALUES ''' + str(people[1:]) + ';'\n",
    "#     print(insert_person)\n",
    "    pg_curs.execute(insert_person)"
   ]
  },
  {
   "cell_type": "code",
   "execution_count": 13,
   "metadata": {},
   "outputs": [],
   "source": [
    "pg_curs.close()\n",
    "pg_conn.commit()"
   ]
  }
 ],
 "metadata": {
  "kernelspec": {
   "display_name": "Python 3",
   "language": "python",
   "name": "python3"
  },
  "language_info": {
   "codemirror_mode": {
    "name": "ipython",
    "version": 3
   },
   "file_extension": ".py",
   "mimetype": "text/x-python",
   "name": "python",
   "nbconvert_exporter": "python",
   "pygments_lexer": "ipython3",
   "version": "3.7.3"
  }
 },
 "nbformat": 4,
 "nbformat_minor": 2
}
