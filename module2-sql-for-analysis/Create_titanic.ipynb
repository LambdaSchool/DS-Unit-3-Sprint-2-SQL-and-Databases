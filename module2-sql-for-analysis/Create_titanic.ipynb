{
 "cells": [
  {
   "cell_type": "code",
   "execution_count": 1,
   "metadata": {},
   "outputs": [
    {
     "name": "stdout",
     "output_type": "stream",
     "text": [
      "No. of Survivors: [(342,)]\n",
      "Alone Passengers: [('Miss. Laina Heikkinen',), ('Mr. William Henry Allen',), ('Mr. James Moran',), ('Mr. Timothy J McCarthy',), ('Miss. Elizabeth Bonnell',), ('Mr. William Henry Saundercock',), ('Miss. Hulda Amanda Adolfina Vestrom',), ('Mrs. (Mary D Kingcome) Hewlett',), ('Mr. Charles Eugene Williams',), ('Mrs. Fatima Masselmani',), ('Mr. Joseph J Fynney',), ('Mr. Lawrence Beesley',), ('Miss. Anna McGowan',), ('Mr. William Thompson Sloper',), ('Mr. Farred Chehab Emir',), (\"Miss. Ellen O'Dwyer\",), ('Mr. Lalio Todoroff',), ('Don. Manuel E Uruchurtu',), ('Miss. Mary Agatha Glynn',), ('Mr. Edward H Wheadon',), ('Mr. Hanna Mamee',), ('Mr. Ernest Charles Cann',), ('Miss. Margaret Delia Devaney',), ('Mr. William John Rogers',), (\"Miss. Bridget O'Driscoll\",), ('Mr. Richard Cater Nosworthy',), ('Mr. Hugh Woolner',), ('Miss. Emily Rugg',), ('Mr. Mansouer Novel',), ('Mr. Orsen Sirayanian',), ('Miss. Amelie Icard',), ('Mr. Albert A Stewart',), ('Mrs. (Elizabeth Ramell) Nye',), ('Mr. Ernest James Crease',), ('Mr. Stephen Curnow Jenkin',), ('Mr. Ambrose Jr Hood',), ('Mr. Lee Bing',), ('Mr. Sigurd Hansen Moen',), ('Mr. Ivan Staneff',), ('Mr. Rahamin Haim Moutal',), ('Miss. Elizabeth Dowdell',), ('Mr. Achille Waelens',), ('Mr. Jan Baptist Sheerlinck',), ('Miss. Brigdet Delia McDermott',), ('Mr. Francisco M Carrau',), ('Miss. Bertha Ilett',), ('Mr. Selman Francis Slocovski',), ('Mr. Francesco Celotti',), ('Mr. Emil Christmann',), ('Mr. Paul Edvin Andreasson',), ('Mr. Daniel Coxon',), ('Mr. Charles Joseph Shorney',), ('Mr. George B Goldschmidt',), ('Miss. Matilda Petranec',), ('Mr. Pastcho Petroff',), ('Mr. Gustaf Joel Johansson',), ('Mr. Stoytcho Mionoff',), ('Miss. Anna Kristine Salkjelsvik',), ('Mr. Albert Johan Moss',), ('Mr. Tido Rekic',), ('Mr. Walter Chamberlain Porter',), ('Mr. David John Barton',), ('Miss. Malake Attalah',), ('Mr. Edvard Pekoniemi',), ('Mr. Patrick Connors',), ('Mr. Leonard Charles Moore',), ('Miss. Susan Webber',), ('Mr. Martin McMahon',), ('Mr. Fridtjof Arne Madsen',), ('Mr. Johan Ekstrom',), ('Mr. Jozef Drazenoic',), ('Mr. Domingos Fernandeo Coelho',), ('Mr. Samuel James Hayden Sobey',), ('Mr. Emile Richard',), ('Mr. Olaf Elon Osen',), ('Mr. Victor Giglio',), ('Miss. Anna Sofia Nysten',), ('Mr. Jeremiah Burke',), ('Mr. Edgardo Samuel Andrew',), ('Mr. August Edvard Andersson',), ('Rev. Thomas Roussel Davids Byles',), ('Rev. Robert James Bateman',), ('Mr. Alfonzo Meo',), ('Mr. Ole Martin Olsen',), ('Miss. Katherine Gilnagh',), ('Mr. Harry Corn',), ('Mr. Mile Smiljanic',), ('Mrs. James (Elizabeth Inglis Milne) Watt',), ('Mr. John Viktor Bengtsson',), ('Mr. Jovo Calic',), ('Mr. John D Baumann',), ('Mr. Lee Ling',), ('Mr. Wyckoff Van der hoef',), ('Mr. Antti Wilhelm Sivola',), ('Mr. James Clinch Smith',), ('Miss. Ann Elizabeth Isham',), ('Mr. Reginald Hale',), ('Mr. Lionel Leonard',), ('Mr. Rene Pernot',), ('Mr. Hugh Roscoe Rood',), ('Mr. Charles Hallace Romaine',), ('Mr. Stjepan Turcin',), ('Mrs. (Rosa) Pinsky',), ('Mr. William Carbines',), ('Mrs. James Joseph (Margaret Tobin) Brown',), ('Miss. Elise Lurette',), ('Mr. Robert Mernagh',), ('Miss. Margaret Madigan',), ('Miss. Henriette Yrois',), ('Mr. Nestor Cyriel Vande Walle',), ('Mr. Jakob Alfred Johanson',), ('Mr. Gerious Youseff',), ('Mr. Gurshon Cohen',), ('Mr. Nassef Cassem Albimona',), ('Miss. Helen Carr',), ('Mr. Henry Blank',), ('Mr. Ahmed Ali',), ('Miss. Clear Annie Cameron',), ('Mr. John Henry Perkin',), ('Mr. Hans Kristensen Givard',), ('Miss. Eliina Honkanen',), ('Miss. Albina Bazzani',), ('Mr. Walter Harris',), ('Mr. Victor Francis Sunderland',), ('Mr. James H Bracken',), ('Mr. George Henry Green',), ('Mr. Christo Nenkoff',), ('Mr. Karl Ivar Sven Berglund',), ('Mr. William John Mellors',), ('Mr. John Hall Lovell',), ('Mr. Arne Jonas Fahlstrom',), ('Mr. Bengt Edvin Larsson',), ('Mr. Ernst Adolf Sjostedt',), ('Mr. Robert William Norman Leyson',), ('Miss. Alice Phoebe Harknett',), ('Mr. Frederick William Pengelly',), ('Mr. George Henry Hunt',), ('Mr. Reginald Charles Coleridge',), ('Mr. Matti Alexanteri Maenpaa',), ('Mr. Sleiman Attalah',), ('Miss. Agda Thorilda Viktoria Lindahl',), ('Mr. James George Reed',), ('Mr. William Thomas Stead',), ('Mrs. Gertrude Maybelle Thorne',), ('Miss. Gladys Cherry',), ('Miss. Anna Ward',), ('Mr. William Harrison',), ('Miss. Delia Henry',), ('Mr. David Reeves',), ('Miss. Amelia Bissette',), ('Mr. Alexander Cairns',), ('Mr. William Henry Tornquist',), ('Miss. Hanora Healy',), ('Miss. Augusta Charlotta Lindblom',), ('Mr. Francis Parkes',), ('Mr. Frank Duane',), ('Mr. Nils Johan Goransson Olsson',), ('Mr. Alfons de Pelsmaeker',), ('Mr. Edward Arthur Dorking',), ('Mr. Richard William Smith',), ('Mr. Ivan Stankovic',), ('Mr. Theodore de Mulder',), ('Mr. Penko Naidenoff',), ('Mr. Masabumi Hosono',), ('Miss. Kate Connolly',), ('Miss. Ellen Barber',), ('Mr. Rene Jacques Levy',), ('Miss. Aloisia Haas',), ('Mr. Ivan Mineff',), ('Mr. Ervin G Lewy',), ('Mr. Mansour Hanna',), ('Mr. Adolphe Saalfeld',), ('Miss. Anna Katherine Kelly',), ('Mr. William Cahoone Jr Johnson',), ('Miss. Nora A Keane',), ('Mr. Howard Hugh Williams',), ('Miss. Margaret Fleming',), ('Miss. Laura Mabel Francatelli',), ('Miss. Margaret Bechstein Hays',), ('Mr. Ignjac Hendekovic',), ('Miss. Helmina Josefina Nilsson',), ('Dr. Ernest Moraweck',), ('Mr. Samuel Dennis',), ('Mr. Yoto Danoff',), ('Miss. Hilda Mary Slayter',), ('Miss. Marie Grice Young',), ('Mr. Johan Hansen Nysveen',), ('Mrs. (Ada E Hall) Ball',), ('Mr. Austen Partner',), ('Mr. Mitto Denkoff',), ('Miss. Elizabeth Margaret Burns',), ('Mr. Karl Edwart Dahl',), ('Mr. Stephen Weart Blackwell',), ('Mr. Erik Gustaf Collander',), ('Mr. Charles Frederick Waddington Sedgwick',), ('Mr. Stanley Hubert Fox',), ('Miss. Amelia Brown',), ('Miss. Marion Elsie Smith',), ('Mr. Jovan Dimic',), ('Mr. Nils Martin Odahl',), ('Mr. Fletcher Fellows Williams-Lambert',), ('Mr. Wazli Yousif',), ('Mr. Leo Peter Vanden Steen',), ('Miss. Annie Clemmer Funk',), ('Miss. Mary McGovern',), ('Miss. Helen Mary Mockler',), ('Mr. Adola Asim',), ('Mr. Mauritz Nils Martin Adahl',), ('Mrs. (Mantoura Boulos) Moussa',), ('Miss. Annie Jermyn',), ('Mme. Leontine Pauline Aubart',), ('Mr. William Thomas Beavan',), ('Mr. Sante Ringhini',), ('Miss. Aurora Adelia Landergren',), ('Mr. Tannous Betros',), ('Mr. Karl Gideon Gustafsson',), ('Miss. Rosalie Bidois',), ('Mr. Juho Tikkanen',), ('Mr. Vasil Plotcharsky',), ('Mr. Charles Henry Davies',), ('Miss. Kate Buss',), ('Mr. Matthew Sadlier',), ('Miss. Bertha Lehmann',), ('Mr. Carl Olof Jansson',), ('Mr. Erik Johansson',), ('Miss. Elina Olsson',), ('Mr. Peter David McKane',), ('Dr. Alfred Pain',), ('Mrs. William H (Jessie L) Trout',), ('Mr. Juha Niskanen',), ('Mr. John Adams',), ('Miss. Marija Oreskovic',), ('Mr. Carl/Charles Peter Widegren',), ('Mr. Hans Martin Monsen Birkeland',), ('Mr. Todor Sdycoff',), ('Mr. Henry Hart',), ('Mr. Alfred Fleming Cunningham',), ('Mr. Johan Julian Sundman',), ('Mrs. Thomas (Annie Louise Rowley) Meek',), ('Mr. William John Matthews',), ('Mr. David Charters',), ('Mr. Leo Zimmerman',), ('Mr. Phillippe Wiseman',), ('Miss. Kate Florence Phillips',), ('Mr. James Flynn',), ('Mr. Berk (Berk Trembisky) Pickard',), ('Mr. Mauritz Hakan Bjornstrom-Steffansson',), ('Mr. Nikolai Erland Kallio',), ('Mr. Johan Henrik Johannesson Kvillner',), ('Mr. Leon Hampe',), ('Ms. Encarnacion Reynaldo',), ('Mr. Bernt Johannesen-Bratthammer',), ('Mr. Frederic Kimber Seward',), ('Major. Arthur Godfrey Peuchen',), ('Mr. Benjamin Laventall Foreman',), ('Mr. Joseph Peduzzi',), ('Mr. Ivan Jalsevac',), ('Mr. Francis Davis Millet',), ('Miss. Ellen Toomey',), (\"Mr. Maurice O'Connor\",), ('Mr. Harry Anderson',), ('Mr. William Morley',), ('Mr. Arthur H Gee',), ('Mr. Jacob Christian Milling',), ('Mr. Simon Maisner',), ('Mr. Manuel Estanslas Goncalves',), ('Mr. William Campbell',), ('Mr. John Montgomery Smart',), ('Mr. James Scanlan',), ('Mr. Arthur Keefe',), ('Mr. Luka Cacic',), ('Mrs. Amin S (Marie Marthe Thuillard) Jerwan',), ('Miss. Ida Sofia Strandberg',), ('Mr. George Quincy Clifford',), ('Mr. Nils August Karlsson',), ('Mr. Anthony Wood Frost',), ('Mr. Richard Henry Rouse',), ('Mrs. (Hedwig) Turkula',), ('Mr. Edward Austin Kent',), ('Mr. Francis William Somerton',), ('Mr. Einar Windelov',), ('Mr. Harry Markland Molson',), ('Mr. Ramon Artagaveytia',), ('Mr. Edward Roland Stanley',), ('Mr. Gerious Yousseff',), ('Mr. Frederick William Shellard',), ('Mr. Olof Svensson',), ('Mr. Petar Calic',), ('Miss. Mary Canavan',), (\"Miss. Bridget Mary O'Sullivan\",), ('Miss. Kristina Sofia Laitinen',), ('Miss. Roberta Maioni',), ('Mr. George Bradley',), ('Mr. Henry Margido Olsen',), ('Mr. Fang Lang',), ('Mr. Eugene Patrick Daly',), ('Mr. James Webber',), ('Mr. James Robert McGough',), ('Mr. Satio Coleff',), ('Mr. William Anderson Walker',), ('Mrs. (Amelia Milley) Lemore',), ('Mr. Patrick Ryan',), ('Mr. Stefo Pavlovic',), ('Miss. Anne Perreault',), ('Mr. Janko Vovk',), ('Mr. Sarkis Lahoud',), ('Mr. Fared Kassem',), ('Mr. James Farrell',), ('Miss. Lucy Ridsdale',), ('Mr. John Farthing',), ('Mr. Johan Werner Salonen',), ('Mr. Nakli Toufik',), ('Miss. Marija Cacic',), ('Major. Archibald Willingham Butt',), ('Miss. Bertha LeRoy',), ('Mr. Samuel Beard Risien',), ('Mr. Arthur Ernest Nicholson',), ('Mr. Julian Padro y Manent',), ('Mr. Percival James R Sharp',), (\"Mr. Timothy O'Brien\",), ('Mr. Fahim Leeni',), ('Miss. Velin Ohman',), ('Mr. George Wright',), ('Mr. Victor Robbins',), ('Mr. Thomas Rowan Morrow',), ('Mr. Husein Sivic',), ('Mr. Robert Douglas Norman',), ('Mr. John Simmons',), ('Miss. (Marion Ogden) Meanwell',), ('Mr. Ilia Stoytcheff',), ('Mr. Tannous Doharr',), ('Mr. Carl Jonsson',), ('Mr. George Harris',), ('Mr. John Irwin Flynn',), ('Miss. Mary Kelly',), ('Mr. Alfred George John Rush',), ('Mr. George Patchett',), ('Miss. Ethel Garside',), ('Mr. Eiriik Jussila',), ('Mr. William James Downton',), ('Mr. John Hugo Ross',), ('Mr. Uscher Paulner',), ('Mr. John Denzil Jarvis',), ('Mr. Eliezer Gilinski',), ('Mr. Joseph Murdlin',), ('Mr. Matti Rintamaki',), ('Mr. William James Elsbury',), ('Miss. Jessie Wills Leitch',), ('Mr. Alfred Johnson',), ('Mr. Hanna Boulos',), ('Mr. Petco Slabenoff',), ('Mr. Charles H Harrington',), ('Mr. Ernst William Torber',), ('Mr. Harry Homer',), ('Mr. Milan Karaic',), ('Mr. Robert Williams Daniel',), ('Miss. Elizabeth W Shutes',), ('Mr. Jose Neto Jardin',), ('Mr. John Horgan',), ('Mr. William Alfred Brocklebank',), ('Mr. Lawrence Gavey',), ('Mr. Henry Damsgaard Hansen',), ('Mr. David John Bowen',), ('Mr. Frederick Sutton',), ('Rev. Charles Leonard Kirkland',), ('Miss. Gretchen Fiske Longley',), ('Mr. Guentcho Bostandyeff',), (\"Mr. Patrick D O'Connell\",), ('Mr. Algernon Henry Wilson Barkworth',), ('Mr. Johan Svensson Lundahl',), ('Dr. Max Stahelin-Maeglin',), ('Mr. William Henry Marsh Parr',), ('Miss. Mary Davis',), ('Mr. Antti Gustaf Leinonen',), ('Mr. Hans Peder Jensen',), ('Mlle. Emma Sagesser',), ('Mr. Choong Foo',), ('Mr. Liudevit Cor',), ('Col. Oberst Alfons Simonius-Blumer',), ('Mr. Edward Willey',), ('Miss. Amy Zillah Elsie Stanley',), ('Mr. Mito Mitkoff',), ('Mr. Johannes Halvorsen Kalvik',), (\"Miss. Hanora O'Leary\",), ('Miss. Hanora Hegarty',), ('Mr. Alexander Radeff',), ('Mr. George Floyd Eitemiller',), ('Mr. Mohamed Badt',), ('Mr. Edward Pomeroy Colley',), ('Mr. Peju Coleff',), ('Mr. Reginald Fenton Butler',), ('Mr. Knud Paust Rommetvedt',), ('Mr. Jacob Cook',), ('Mr. Henry Michael Mitchell',), ('Mr. Charles Wilhelms',), ('Mr. Ennis Hastings Watson',), ('Mr. Gustaf Hjalmar Edvardsson',), ('Mr. Frederick Charles Sawyer',), ('Miss. Anna Sofia Turja',), ('Miss. Katie Peters',), ('Mr. Hammad Hassab',), ('Mr. Thor Anderson Olsvigen',), ('Mr. Branko Dakic',), ('Mr. Eberhard Thelander Fischer',), ('Mr. Ali Lam',), ('Mr. Khalil Saad',), ('Col. John Weir',), ('Mr. Charles Henry Chapman',), ('Mr. James Kelly',), ('Miss. Katherine Mullens',), ('Mr. Adolf Mathias Nicolai Olsen Humblen',), ('Mr. Spencer Victor Silverthorne',), ('Mr. Martin Gallagher',), ('Mr. Henry Samuel Morley',), ('Mrs. Florence Kelly',), ('Mr. Edward Pennington Calderhead',), ('Miss. Alice Cleaver',), ('Mlle. Berthe Antonine Mayne',), ('Mr. Herman Klaber',), ('Mr. August Viktor Larsson',), ('Mr. Samuel Greenberg',), ('Mr. Peter Andreas Lauritz Andersen Soholt',), ('Miss. Caroline Louise Endres',), ('Miss. Edwina Celia Troutt',), ('Mr. Malkolm Joackim Johnson',), ('Mr. William Henry Gillespie',), ('Mr. Henry Price Hodges',), ('Mr. Luka Oreskovic',), ('Miss. Margareth Mannion',), ('Miss. Elisabeth Walton Allen',), ('Mr. Houssein G N Hassan',), ('Mr. Robert J Knight',), ('Mr. William John Berriman',), ('Mr. Moses Aaron Troupiansky',), ('Mr. Leslie Williams',), ('Mr. Gustave J Lesurer',), ('Mr. Kanio Ivanoff',), ('Mr. Minko Nankoff',), ('Mr. Walter James Hawksford',), ('Mr. Juho Stranden',), ('Miss. Anna Sinkkonen',), ('Mr. Michael Connaghton',), ('Mr. Johannes Joseph Vande Velde',), ('Mr. Lalio Jonkoff',), ('Mr. August Sigfrid Carlsson',), ('Mr. Percy Andrew Bailey',), ('Mr. Thomas Leonard Theobald',), ('the Countess. of (Lucy Noel Martha Dyer-Edwards) Rothes',), ('Mr. John Garfirth',), ('Mr. Iisakki Antino Aijo Nirva',), ('Mr. Hanna Assi Barah',), ('Mr. Hans Linus Eklund',), ('Dr. Arthur Jackson Brewe',), ('Miss. Mary Mangan',), ('Mr. Daniel Danielsen Gronnestad',), ('Mr. Rene Aime Lievens',), ('Mr. Niels Peder Jensen',), ('Mrs. (Mary) Mack',), ('Mr. Dibo Elias',), ('Mr. Pehr Fabian Oliver Malkolm Myhrman',), ('Mr. Roger Tobin',), ('Miss. Virginia Ethel Emanuel',), ('Mr. Thomas J Kilgannon',), ('Miss. Banoura Ayoub',), ('Mr. Milton Clyde Long',), ('Mr. William Ali',), ('Mr. Abraham (David Lishin) Harmer',), ('Miss. Anna Sofia Sjoblom',), ('Mr. Benjamin Guggenheim',), ('Mr. Andrew Keane',), ('Mr. Alfred Gaskell',), ('Mr. William Fisher Hoyt',), ('Mr. Ristiu Dantcheff',), ('Mr. Richard Otter',), ('Dr. Alice (Farnham) Leader',), ('Mrs. Mara Osman',), ('Mr. Yousseff Ibrahim Shawah',), ('Mr. Martin Ponesell',), ('Mr. Oskar Arvid Hedman',), ('Mr. Karl Johan Johansson',), ('Mr. Thomas Jr Andrews',), ('Miss. Ellen Natalia Pettersson',), ('Mr. August Meyer',), ('Mr. William Alexander',), ('Mr. James Lester',), ('Mr. Richard James Slemen',), ('Mr. Ernest Portage Tomlin',), ('Mr. Richard Fry',), ('Miss. Wendla Maria Heininen',), ('Mr. John Fredrik Alexander Holm',), ('Mr. Nikola Lulic',), ('Jonkheer. John George Reuchlin',), ('Mr. John Flynn',), ('Mr. Len Lam',), ('Mr. Thomas Joseph McCormack',), ('Mrs. George Nelson (Martha Evelyn) Stone',), ('Mr. Amin Saad',), ('Mr. Albert Augustsson',), ('Mr. Owen George Allum',), ('Mr. Jakob Pasic',), ('Mr. Maurice Sirota',), ('Mr. Chang Chip',), ('Mr. Pierre Marechal',), ('Mr. Ilmari Rudolf Alhomaki',), ('Mr. Thomas Charles Mudd',), ('Miss. Augusta Serepeca',), ('Mr. Peter L Lemberopolous',), ('Mr. Jeso Culumovic',), ('Mr. Anthony Abbing',), ('Mr. Marin Markoff',), ('Mr. Johan Svensson',), ('Mr. Peter Denis Daly',), ('Mr. Raihed Razi',), ('Mrs. Frederick Joel (Margaret Welles Barron) Swift',), ('Mr. John William Gill',), ('Mrs. (Karolina) Bystrom',), ('Mr. Washington Augustus II Roebling',), ('Mr. Philemon van Melkebeke',), ('Mr. Cerin Balkic',), ('Mr. Frans Olof Carlsson',), ('Mr. Victor Vander Cruyssen',), ('Miss. Adele Kiamie Najib',), ('Mr. Alfred Ossian Gustafsson',), ('Mr. Nedelio Petroff',), ('Mr. Kristo Laleff',), ('Mr. Johann Markun',), ('Miss. Gerda Ulrika Dahlberg',), ('Mr. Frederick James Banfield',), ('Mr. Henry Jr Sutehall',), ('Rev. Juozas Montvila',), ('Miss. Margaret Edith Graham',), ('Mr. Karl Howell Behr',), ('Mr. Patrick Dooley',)]\n"
     ]
    }
   ],
   "source": [
    "# !pip install psycopg2-binary\n",
    "import sqlite3\n",
    "import pandas as pd\n",
    "import os\n",
    "import psycopg2\n",
    "\n",
    "\n",
    "dbname = 'eyfpiatz'\n",
    "user = 'eyfpiatz'\n",
    "password = 'P1_3C7tIbj9f2aeJvSrFNYefL5FJixcm'\n",
    "host = 'raja.db.elephantsql.com'\n",
    "\n",
    "pgconn = psycopg2.connect(dbname=dbname, user=user, password=password, host=host)\n",
    "pgconn\n",
    "\n",
    "pgcursor = pgconn.cursor()\n",
    "pgcursor\n",
    "\n",
    "df = pd.read_csv('titanic.csv')\n",
    "assert df.shape == (887, 8)\n",
    "\n",
    "pgcursor.execute('''\n",
    "    CREATE TABLE titanic(\n",
    "    survived BOOLEAN,\n",
    "    pclass INT,\n",
    "    name VARCHAR(85),\n",
    "    sex VARCHAR(10),\n",
    "    age NUMERIC (4, 2),\n",
    "    siblings_spouses_aboard INT,\n",
    "    parents_children_aboard INT,\n",
    "    fare NUMERIC (7,4) );''')\n",
    "\n",
    "# pgcursor.execute('ROLLBACK')\n",
    "\n",
    "with open('titanic.csv', 'r') as f:\n",
    "    next(f)\n",
    "    pgcursor.copy_from(f, 'titanic', sep=',')\n",
    "    pgconn.commit()\n",
    "\n",
    "query1 = '''SELECT COUNT(*) FROM titanic\n",
    "            WHERE survived = 'true';'''\n",
    "q1 = pgcursor.execute(query1)\n",
    "p1 = pgcursor.fetchall()\n",
    "print('No. of Survivors:', p1)\n",
    "\n",
    "query2 = '''SELECT name FROM titanic\n",
    "            WHERE siblings_spouses_aboard = 0 AND parents_children_aboard = 0;'''\n",
    "q2 = pgcursor.execute(query2)\n",
    "p2 = pgcursor.fetchall()\n",
    "print('Alone Passengers:', p2)\n"
   ]
  },
  {
   "cell_type": "code",
   "execution_count": null,
   "metadata": {},
   "outputs": [],
   "source": []
  }
 ],
 "metadata": {
  "kernelspec": {
   "display_name": "Python 3",
   "language": "python",
   "name": "python3"
  },
  "language_info": {
   "codemirror_mode": {
    "name": "ipython",
    "version": 3
   },
   "file_extension": ".py",
   "mimetype": "text/x-python",
   "name": "python",
   "nbconvert_exporter": "python",
   "pygments_lexer": "ipython3",
   "version": "3.7.3"
  }
 },
 "nbformat": 4,
 "nbformat_minor": 2
}
