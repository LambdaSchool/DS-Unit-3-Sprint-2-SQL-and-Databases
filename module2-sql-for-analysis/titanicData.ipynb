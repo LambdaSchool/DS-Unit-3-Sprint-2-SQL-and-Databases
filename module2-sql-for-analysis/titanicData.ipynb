{
 "nbformat": 4,
 "nbformat_minor": 2,
 "metadata": {
  "language_info": {
   "name": "python",
   "codemirror_mode": {
    "name": "ipython",
    "version": 3
   }
  },
  "orig_nbformat": 2,
  "file_extension": ".py",
  "mimetype": "text/x-python",
  "name": "python",
  "npconvert_exporter": "python",
  "pygments_lexer": "ipython3",
  "version": 3
 },
 "cells": [
  {
   "cell_type": "code",
   "execution_count": 1,
   "metadata": {},
   "outputs": [],
   "source": [
    "import pandas as pd"
   ]
  },
  {
   "cell_type": "code",
   "execution_count": 2,
   "metadata": {},
   "outputs": [],
   "source": [
    "df = pd.read_csv('module2-sql-for-analysis/titanic.csv')\n",
    "df.Name = df.Name.replace(\"'\", '', regex=True)"
   ]
  },
  {
   "cell_type": "code",
   "execution_count": 3,
   "metadata": {},
   "outputs": [
    {
     "data": {
      "text/html": "<div>\n<style scoped>\n    .dataframe tbody tr th:only-of-type {\n        vertical-align: middle;\n    }\n\n    .dataframe tbody tr th {\n        vertical-align: top;\n    }\n\n    .dataframe thead th {\n        text-align: right;\n    }\n</style>\n<table border=\"1\" class=\"dataframe\">\n  <thead>\n    <tr style=\"text-align: right;\">\n      <th></th>\n      <th>Survived</th>\n      <th>Pclass</th>\n      <th>Name</th>\n      <th>Sex</th>\n      <th>Age</th>\n      <th>Siblings/Spouses Aboard</th>\n      <th>Parents/Children Aboard</th>\n      <th>Fare</th>\n    </tr>\n  </thead>\n  <tbody>\n    <tr>\n      <th>0</th>\n      <td>0</td>\n      <td>3</td>\n      <td>Mr. Owen Harris Braund</td>\n      <td>male</td>\n      <td>22.0</td>\n      <td>1</td>\n      <td>0</td>\n      <td>7.2500</td>\n    </tr>\n    <tr>\n      <th>1</th>\n      <td>1</td>\n      <td>1</td>\n      <td>Mrs. John Bradley (Florence Briggs Thayer) Cum...</td>\n      <td>female</td>\n      <td>38.0</td>\n      <td>1</td>\n      <td>0</td>\n      <td>71.2833</td>\n    </tr>\n    <tr>\n      <th>2</th>\n      <td>1</td>\n      <td>3</td>\n      <td>Miss. Laina Heikkinen</td>\n      <td>female</td>\n      <td>26.0</td>\n      <td>0</td>\n      <td>0</td>\n      <td>7.9250</td>\n    </tr>\n    <tr>\n      <th>3</th>\n      <td>1</td>\n      <td>1</td>\n      <td>Mrs. Jacques Heath (Lily May Peel) Futrelle</td>\n      <td>female</td>\n      <td>35.0</td>\n      <td>1</td>\n      <td>0</td>\n      <td>53.1000</td>\n    </tr>\n    <tr>\n      <th>4</th>\n      <td>0</td>\n      <td>3</td>\n      <td>Mr. William Henry Allen</td>\n      <td>male</td>\n      <td>35.0</td>\n      <td>0</td>\n      <td>0</td>\n      <td>8.0500</td>\n    </tr>\n  </tbody>\n</table>\n</div>",
      "text/plain": "   Survived  Pclass                                               Name  \\\n0         0       3                             Mr. Owen Harris Braund   \n1         1       1  Mrs. John Bradley (Florence Briggs Thayer) Cum...   \n2         1       3                              Miss. Laina Heikkinen   \n3         1       1        Mrs. Jacques Heath (Lily May Peel) Futrelle   \n4         0       3                            Mr. William Henry Allen   \n\n      Sex   Age  Siblings/Spouses Aboard  Parents/Children Aboard     Fare  \n0    male  22.0                        1                        0   7.2500  \n1  female  38.0                        1                        0  71.2833  \n2  female  26.0                        0                        0   7.9250  \n3  female  35.0                        1                        0  53.1000  \n4    male  35.0                        0                        0   8.0500  "
     },
     "execution_count": 3,
     "metadata": {},
     "output_type": "execute_result"
    }
   ],
   "source": [
    "df.head()"
   ]
  },
  {
   "cell_type": "code",
   "execution_count": 4,
   "metadata": {},
   "outputs": [
    {
     "data": {
      "text/plain": "(887, 8)"
     },
     "execution_count": 4,
     "metadata": {},
     "output_type": "execute_result"
    }
   ],
   "source": [
    "df.shape"
   ]
  },
  {
   "cell_type": "code",
   "execution_count": 5,
   "metadata": {},
   "outputs": [],
   "source": [
    "import psycopg2"
   ]
  },
  {
   "cell_type": "code",
   "execution_count": 7,
   "metadata": {},
   "outputs": [],
   "source": [
    "pg_conn = psycopg2.connect(database=dbname, user=user, password=password, host=host)"
   ]
  },
  {
   "cell_type": "code",
   "execution_count": 8,
   "metadata": {},
   "outputs": [
    {
     "data": {
      "text/plain": "<connection object at 0x1109e4890; dsn: 'user=onkcdgsp password=xxx dbname=onkcdgsp host=salt.db.elephantsql.com', closed: 0>"
     },
     "execution_count": 8,
     "metadata": {},
     "output_type": "execute_result"
    }
   ],
   "source": [
    "pg_conn"
   ]
  },
  {
   "cell_type": "code",
   "execution_count": 9,
   "metadata": {},
   "outputs": [],
   "source": [
    "import sqlite3"
   ]
  },
  {
   "cell_type": "code",
   "execution_count": 10,
   "metadata": {},
   "outputs": [],
   "source": [
    "sl_conn = sqlite3.connect('module2-sql-for-analysis/titanic.sqlite3')"
   ]
  },
  {
   "cell_type": "code",
   "execution_count": 11,
   "metadata": {},
   "outputs": [
    {
     "name": "stderr",
     "output_type": "stream",
     "text": "/Users/timothy/miniconda3/lib/python3.7/site-packages/pandas/core/generic.py:2712: UserWarning: The spaces in these column names will not be changed. In pandas versions < 0.14, spaces were converted to underscores.\n  method=method,\n"
    }
   ],
   "source": [
    "df.to_sql('titanic_set2',con=sl_conn,if_exists='replace')"
   ]
  },
  {
   "cell_type": "code",
   "execution_count": 12,
   "metadata": {},
   "outputs": [],
   "source": [
    "sl_curs = sl_conn.cursor()"
   ]
  },
  {
   "cell_type": "code",
   "execution_count": 13,
   "metadata": {},
   "outputs": [
    {
     "data": {
      "text/plain": "[(887,)]"
     },
     "execution_count": 13,
     "metadata": {},
     "output_type": "execute_result"
    }
   ],
   "source": [
    "sl_curs.execute('SELECT COUNT(*) FROM titanic_set2;').fetchall()"
   ]
  },
  {
   "cell_type": "code",
   "execution_count": 14,
   "metadata": {},
   "outputs": [
    {
     "data": {
      "text/plain": "[(0, 'index', 'INTEGER', 0, None, 0),\n (1, 'Survived', 'INTEGER', 0, None, 0),\n (2, 'Pclass', 'INTEGER', 0, None, 0),\n (3, 'Name', 'TEXT', 0, None, 0),\n (4, 'Sex', 'TEXT', 0, None, 0),\n (5, 'Age', 'REAL', 0, None, 0),\n (6, 'Siblings/Spouses Aboard', 'INTEGER', 0, None, 0),\n (7, 'Parents/Children Aboard', 'INTEGER', 0, None, 0),\n (8, 'Fare', 'REAL', 0, None, 0)]"
     },
     "execution_count": 14,
     "metadata": {},
     "output_type": "execute_result"
    }
   ],
   "source": [
    "sl_curs.execute('PRAGMA table_info(titanic_set2);').fetchall()"
   ]
  },
  {
   "cell_type": "code",
   "execution_count": 15,
   "metadata": {},
   "outputs": [],
   "source": [
    "create_titanic_table = \"\"\"\n",
    "  CREATE TABLE titanic_set2 (\n",
    "    index SERIAL PRIMARY KEY,\n",
    "    Survived INT,\n",
    "    Pclass INT,\n",
    "    Name TEXT,\n",
    "    Sex sex,\n",
    "    Age REAL,\n",
    "    SiblingsSpousesAboard INT,\n",
    "    ParentsChildrenAboard INT,\n",
    "    Fare REAL\n",
    "  );\n",
    "\"\"\""
   ]
  },
  {
   "cell_type": "code",
   "execution_count": 16,
   "metadata": {},
   "outputs": [],
   "source": [
    "pg_curs = pg_conn.cursor()"
   ]
  },
  {
   "cell_type": "code",
   "execution_count": 17,
   "metadata": {},
   "outputs": [],
   "source": [
    "pg_curs.execute('SELECT * FROM test_table;')"
   ]
  },
  {
   "cell_type": "code",
   "execution_count": 18,
   "metadata": {},
   "outputs": [
    {
     "data": {
      "text/plain": "[(1, 'a row name', None),\n (2, 'a second row', {'a': 1, 'b': ['dog', 'cat', 42], 'c': True})]"
     },
     "execution_count": 18,
     "metadata": {},
     "output_type": "execute_result"
    }
   ],
   "source": [
    "pg_curs.fetchall()"
   ]
  },
  {
   "cell_type": "code",
   "execution_count": null,
   "metadata": {},
   "outputs": [],
   "source": [
    "#pg_curs.execute(\"CREATE TYPE sex AS ENUM ('male', 'female');\")"
   ]
  },
  {
   "cell_type": "code",
   "execution_count": 19,
   "metadata": {},
   "outputs": [],
   "source": [
    "#pg_curs.execute(\"CREATE TYPE sex AS ENUM ('male', 'female');\")"
   ]
  },
  {
   "cell_type": "code",
   "execution_count": 20,
   "metadata": {},
   "outputs": [],
   "source": [
    "pg_curs.execute(create_titanic_table)"
   ]
  },
  {
   "cell_type": "code",
   "execution_count": 21,
   "metadata": {},
   "outputs": [],
   "source": [
    "show_tables = \"\"\"\n",
    "SELECT *\n",
    "FROM pg_catalog.pg_tables\n",
    "WHERE schemaname != 'pg_catalog'\n",
    "AND schemaname != 'information_schema';\n",
    "\"\"\""
   ]
  },
  {
   "cell_type": "code",
   "execution_count": 22,
   "metadata": {},
   "outputs": [],
   "source": [
    "pg_curs.execute(show_tables)"
   ]
  },
  {
   "cell_type": "code",
   "execution_count": 23,
   "metadata": {},
   "outputs": [
    {
     "data": {
      "text/plain": "[('public', 'products', 'iexxnidb', None, True, False, False, False),\n ('public', 'test_table', 'onkcdgsp', None, True, False, False, False),\n ('public',\n  'charactercreator_character',\n  'onkcdgsp',\n  None,\n  True,\n  False,\n  False,\n  False),\n ('public', 'titanic', 'onkcdgsp', None, True, False, False, False),\n ('public', 'titanic_set2', 'onkcdgsp', None, True, False, False, False)]"
     },
     "execution_count": 23,
     "metadata": {},
     "output_type": "execute_result"
    }
   ],
   "source": [
    "pg_curs.fetchall()"
   ]
  },
  {
   "cell_type": "code",
   "execution_count": 24,
   "metadata": {},
   "outputs": [],
   "source": [
    "allData = sl_curs.execute('SELECT * from titanic_set2;').fetchall()"
   ]
  },
  {
   "cell_type": "code",
   "execution_count": 25,
   "metadata": {},
   "outputs": [
    {
     "data": {
      "text/plain": "887"
     },
     "execution_count": 25,
     "metadata": {},
     "output_type": "execute_result"
    }
   ],
   "source": [
    "len(allData)"
   ]
  },
  {
   "cell_type": "code",
   "execution_count": 26,
   "metadata": {},
   "outputs": [
    {
     "data": {
      "text/plain": "(0, 0, 3, 'Mr. Owen Harris Braund', 'male', 22.0, 1, 0, 7.25)"
     },
     "execution_count": 26,
     "metadata": {},
     "output_type": "execute_result"
    }
   ],
   "source": [
    "allData[0]"
   ]
  },
  {
   "cell_type": "code",
   "execution_count": 27,
   "metadata": {},
   "outputs": [
    {
     "data": {
      "text/plain": "(886, 0, 3, 'Mr. Patrick Dooley', 'male', 32.0, 0, 0, 7.75)"
     },
     "execution_count": 27,
     "metadata": {},
     "output_type": "execute_result"
    }
   ],
   "source": [
    "allData[-1]"
   ]
  },
  {
   "cell_type": "code",
   "execution_count": 28,
   "metadata": {},
   "outputs": [],
   "source": [
    "example_insert = \"\"\"\n",
    "INSERT INTO titanic_set2\n",
    "(Survived, Pclass, Name, Sex, Age, SiblingsSpousesAboard, ParentsChildrenAboard, Fare)\n",
    "VALUES \"\"\" + str(allData[1][1:]) + ';'"
   ]
  },
  {
   "cell_type": "code",
   "execution_count": 29,
   "metadata": {},
   "outputs": [
    {
     "name": "stdout",
     "output_type": "stream",
     "text": "\nINSERT INTO titanic_set2\n(Survived, Pclass, Name, Sex, Age, SiblingsSpousesAboard, ParentsChildrenAboard, Fare)\nVALUES (1, 1, 'Mrs. John Bradley (Florence Briggs Thayer) Cumings', 'female', 38.0, 1, 0, 71.2833);\n"
    }
   ],
   "source": [
    "print(example_insert)"
   ]
  },
  {
   "cell_type": "code",
   "execution_count": 30,
   "metadata": {},
   "outputs": [
    {
     "name": "stdout",
     "output_type": "stream",
     "text": "UES (0, 1, 'Mr. Benjamin Guggenheim', 'male', 46.0, 0, 0, 79.2);\n\n    INSERT INTO titanic_set2\n    (Survived, Pclass, Name, Sex, Age, SiblingsSpousesAboard, ParentsChildrenAboard, Fare)\n    VALUES (0, 3, 'Mr. Andrew Keane', 'male', 20.0, 0, 0, 7.75);\n\n    INSERT INTO titanic_set2\n    (Survived, Pclass, Name, Sex, Age, SiblingsSpousesAboard, ParentsChildrenAboard, Fare)\n    VALUES (0, 2, 'Mr. Alfred Gaskell', 'male', 16.0, 0, 0, 26.0);\n\n    INSERT INTO titanic_set2\n    (Survived, Pclass, Name, Sex, Age, SiblingsSpousesAboard, ParentsChildrenAboard, Fare)\n    VALUES (0, 3, 'Miss. Stella Anna Sage', 'female', 21.0, 8, 2, 69.55);\n\n    INSERT INTO titanic_set2\n    (Survived, Pclass, Name, Sex, Age, SiblingsSpousesAboard, ParentsChildrenAboard, Fare)\n    VALUES (0, 1, 'Mr. William Fisher Hoyt', 'male', 43.0, 0, 0, 30.6958);\n\n    INSERT INTO titanic_set2\n    (Survived, Pclass, Name, Sex, Age, SiblingsSpousesAboard, ParentsChildrenAboard, Fare)\n    VALUES (0, 3, 'Mr. Ristiu Dantcheff', 'male', 25.0, 0, 0, 7.8958);\n\n    INSERT INTO titanic_set2\n    (Survived, Pclass, Name, Sex, Age, SiblingsSpousesAboard, ParentsChildrenAboard, Fare)\n    VALUES (0, 2, 'Mr. Richard Otter', 'male', 39.0, 0, 0, 13.0);\n\n    INSERT INTO titanic_set2\n    (Survived, Pclass, Name, Sex, Age, SiblingsSpousesAboard, ParentsChildrenAboard, Fare)\n    VALUES (1, 1, 'Dr. Alice (Farnham) Leader', 'female', 49.0, 0, 0, 25.9292);\n\n    INSERT INTO titanic_set2\n    (Survived, Pclass, Name, Sex, Age, SiblingsSpousesAboard, ParentsChildrenAboard, Fare)\n    VALUES (1, 3, 'Mrs. Mara Osman', 'female', 31.0, 0, 0, 8.6833);\n\n    INSERT INTO titanic_set2\n    (Survived, Pclass, Name, Sex, Age, SiblingsSpousesAboard, ParentsChildrenAboard, Fare)\n    VALUES (0, 3, 'Mr. Yousseff Ibrahim Shawah', 'male', 30.0, 0, 0, 7.2292);\n\n    INSERT INTO titanic_set2\n    (Survived, Pclass, Name, Sex, Age, SiblingsSpousesAboard, ParentsChildrenAboard, Fare)\n    VALUES (0, 3, 'Mrs. Jean Baptiste (Rosalie Paula Govaert) Van Impe', 'female', 30.0, 1, 1, 24.15);\n\n    INSERT INTO titanic_set2\n    (Survived, Pclass, Name, Sex, Age, SiblingsSpousesAboard, ParentsChildrenAboard, Fare)\n    VALUES (0, 2, 'Mr. Martin Ponesell', 'male', 34.0, 0, 0, 13.0);\n\n    INSERT INTO titanic_set2\n    (Survived, Pclass, Name, Sex, Age, SiblingsSpousesAboard, ParentsChildrenAboard, Fare)\n    VALUES (1, 2, 'Mrs. Harvey (Charlotte Annie Tate) Collyer', 'female', 31.0, 1, 1, 26.25);\n\n    INSERT INTO titanic_set2\n    (Survived, Pclass, Name, Sex, Age, SiblingsSpousesAboard, ParentsChildrenAboard, Fare)\n    VALUES (1, 1, 'Master. William Thornton II Carter', 'male', 11.0, 1, 2, 120.0);\n\n    INSERT INTO titanic_set2\n    (Survived, Pclass, Name, Sex, Age, SiblingsSpousesAboard, ParentsChildrenAboard, Fare)\n    VALUES (1, 3, 'Master. Assad Alexander Thomas', 'male', 0.42, 0, 1, 8.5167);\n\n    INSERT INTO titanic_set2\n    (Survived, Pclass, Name, Sex, Age, SiblingsSpousesAboard, ParentsChildrenAboard, Fare)\n    VALUES (1, 3, 'Mr. Oskar Arvid Hedman', 'male', 27.0, 0, 0, 6.975);\n\n    INSERT INTO titanic_set2\n    (Survived, Pclass, Name, Sex, Age, SiblingsSpousesAboard, ParentsChildrenAboard, Fare)\n    VALUES (0, 3, 'Mr. Karl Johan Johansson', 'male', 31.0, 0, 0, 7.775);\n\n    INSERT INTO titanic_set2\n    (Survived, Pclass, Name, Sex, Age, SiblingsSpousesAboard, ParentsChildrenAboard, Fare)\n    VALUES (0, 1, 'Mr. Thomas Jr Andrews', 'male', 39.0, 0, 0, 0.0);\n\n    INSERT INTO titanic_set2\n    (Survived, Pclass, Name, Sex, Age, SiblingsSpousesAboard, ParentsChildrenAboard, Fare)\n    VALUES (0, 3, 'Miss. Ellen Natalia Pettersson', 'female', 18.0, 0, 0, 7.775);\n\n    INSERT INTO titanic_set2\n    (Survived, Pclass, Name, Sex, Age, SiblingsSpousesAboard, ParentsChildrenAboard, Fare)\n    VALUES (0, 2, 'Mr. August Meyer', 'male', 39.0, 0, 0, 13.0);\n\n    INSERT INTO titanic_set2\n    (Survived, Pclass, Name, Sex, Age, SiblingsSpousesAboard, ParentsChildrenAboard, Fare)\n    VALUES (1, 1, 'Mrs. Norman Campbell (Bertha Griggs) Chambers', 'female', 33.0, 1, 0, 53.1);\n\n    INSERT INTO titanic_set2\n    (Survived, Pclass, Name, Sex, Age, SiblingsSpousesAboard, ParentsChildrenAboard, Fare)\n    VALUES (0, 3, 'Mr. William Alexander', 'male', 26.0, 0, 0, 7.8875);\n\n    INSERT INTO titanic_set2\n    (Survived, Pclass, Name, Sex, Age, SiblingsSpousesAboard, ParentsChildrenAboard, Fare)\n    VALUES (0, 3, 'Mr. James Lester', 'male', 39.0, 0, 0, 24.15);\n\n    INSERT INTO titanic_set2\n    (Survived, Pclass, Name, Sex, Age, SiblingsSpousesAboard, ParentsChildrenAboard, Fare)\n    VALUES (0, 2, 'Mr. Richard James Slemen', 'male', 35.0, 0, 0, 10.5);\n\n    INSERT INTO titanic_set2\n    (Survived, Pclass, Name, Sex, Age, SiblingsSpousesAboard, ParentsChildrenAboard, Fare)\n    VALUES (0, 3, 'Miss. Ebba Iris Alfrida Andersson', 'female', 6.0, 4, 2, 31.275);\n\n    INSERT INTO titanic_set2\n    (Survived, Pclass, Name, Sex, Age, SiblingsSpousesAboard, ParentsChildrenAboard, Fare)\n    VALUES (0, 3, 'Mr. Ernest Portage Tomlin', 'male', 30.5, 0, 0, 8.05);\n\n    INSERT INTO titanic_set2\n    (Survived, Pclass, Name, Sex, Age, SiblingsSpousesAboard, ParentsChildrenAboard, Fare)\n    VALUES (0, 1, 'Mr. Richard Fry', 'male', 39.0, 0, 0, 0.0);\n\n    INSERT INTO titanic_set2\n    (Survived, Pclass, Name, Sex, Age, SiblingsSpousesAboard, ParentsChildrenAboard, Fare)\n    VALUES (0, 3, 'Miss. Wendla Maria Heininen', 'female', 23.0, 0, 0, 7.925);\n\n    INSERT INTO titanic_set2\n    (Survived, Pclass, Name, Sex, Age, SiblingsSpousesAboard, ParentsChildrenAboard, Fare)\n    VALUES (0, 2, 'Mr. Albert Mallet', 'male', 31.0, 1, 1, 37.0042);\n\n    INSERT INTO titanic_set2\n    (Survived, Pclass, Name, Sex, Age, SiblingsSpousesAboard, ParentsChildrenAboard, Fare)\n    VALUES (0, 3, 'Mr. John Fredrik Alexander Holm', 'male', 43.0, 0, 0, 6.45);\n\n    INSERT INTO titanic_set2\n    (Survived, Pclass, Name, Sex, Age, SiblingsSpousesAboard, ParentsChildrenAboard, Fare)\n    VALUES (0, 3, 'Master. Karl Thorsten Skoog', 'male', 10.0, 3, 2, 27.9);\n\n    INSERT INTO titanic_set2\n    (Survived, Pclass, Name, Sex, Age, SiblingsSpousesAboard, ParentsChildrenAboard, Fare)\n    VALUES (1, 1, 'Mrs. Charles Melville (Clara Jennings Gregg) Hays', 'female', 52.0, 1, 1, 93.5);\n\n    INSERT INTO titanic_set2\n    (Survived, Pclass, Name, Sex, Age, SiblingsSpousesAboard, ParentsChildrenAboard, Fare)\n    VALUES (1, 3, 'Mr. Nikola Lulic', 'male', 27.0, 0, 0, 8.6625);\n\n    INSERT INTO titanic_set2\n    (Survived, Pclass, Name, Sex, Age, SiblingsSpousesAboard, ParentsChildrenAboard, Fare)\n    VALUES (0, 1, 'Jonkheer. John George Reuchlin', 'male', 38.0, 0, 0, 0.0);\n\n    INSERT INTO titanic_set2\n    (Survived, Pclass, Name, Sex, Age, SiblingsSpousesAboard, ParentsChildrenAboard, Fare)\n    VALUES (1, 3, 'Mrs. (Beila) Moor', 'female', 27.0, 0, 1, 12.475);\n\n    INSERT INTO titanic_set2\n    (Survived, Pclass, Name, Sex, Age, SiblingsSpousesAboard, ParentsChildrenAboard, Fare)\n    VALUES (0, 3, 'Master. Urho Abraham Panula', 'male', 2.0, 4, 1, 39.6875);\n\n    INSERT INTO titanic_set2\n    (Survived, Pclass, Name, Sex, Age, SiblingsSpousesAboard, ParentsChildrenAboard, Fare)\n    VALUES (0, 3, 'Mr. John Flynn', 'male', 36.0, 0, 0, 6.95);\n\n    INSERT INTO titanic_set2\n    (Survived, Pclass, Name, Sex, Age, SiblingsSpousesAboard, ParentsChildrenAboard, Fare)\n    VALUES (0, 3, 'Mr. Len Lam', 'male', 23.0, 0, 0, 56.4958);\n\n    INSERT INTO titanic_set2\n    (Survived, Pclass, Name, Sex, Age, SiblingsSpousesAboard, ParentsChildrenAboard, Fare)\n    VALUES (1, 2, 'Master. Andre Mallet', 'male', 1.0, 0, 2, 37.0042);\n\n    INSERT INTO titanic_set2\n    (Survived, Pclass, Name, Sex, Age, SiblingsSpousesAboard, ParentsChildrenAboard, Fare)\n    VALUES (1, 3, 'Mr. Thomas Joseph McCormack', 'male', 19.0, 0, 0, 7.75);\n\n    INSERT INTO titanic_set2\n    (Survived, Pclass, Name, Sex, Age, SiblingsSpousesAboard, ParentsChildrenAboard, Fare)\n    VALUES (1, 1, 'Mrs. George Nelson (Martha Evelyn) Stone', 'female', 62.0, 0, 0, 80.0);\n\n    INSERT INTO titanic_set2\n    (Survived, Pclass, Name, Sex, Age, SiblingsSpousesAboard, ParentsChildrenAboard, Fare)\n    VALUES (1, 3, 'Mrs. Antoni (Selini Alexander) Yasbeck', 'female', 15.0, 1, 0, 14.4542);\n\n    INSERT INTO titanic_set2\n    (Survived, Pclass, Name, Sex, Age, SiblingsSpousesAboard, ParentsChildrenAboard, Fare)\n    VALUES (1, 2, 'Master. George Sibley Richards', 'male', 0.83, 1, 1, 18.75);\n\n    INSERT INTO titanic_set2\n    (Survived, Pclass, Name, Sex, Age, SiblingsSpousesAboard, ParentsChildrenAboard, Fare)\n    VALUES (0, 3, 'Mr. Amin Saad', 'male', 30.0, 0, 0, 7.2292);\n\n    INSERT INTO titanic_set2\n    (Survived, Pclass, Name, Sex, Age, SiblingsSpousesAboard, ParentsChildrenAboard, Fare)\n    VALUES (0, 3, 'Mr. Albert Augustsson', 'male', 23.0, 0, 0, 7.8542);\n\n    INSERT INTO titanic_set2\n    (Survived, Pclass, Name, Sex, Age, SiblingsSpousesAboard, ParentsChildrenAboard, Fare)\n    VALUES (0, 3, 'Mr. Owen George Allum', 'male', 18.0, 0, 0, 8.3);\n\n    INSERT INTO titanic_set2\n    (Survived, Pclass, Name, Sex, Age, SiblingsSpousesAboard, ParentsChildrenAboard, Fare)\n    VALUES (1, 1, 'Miss. Sara Rebecca Compton', 'female', 39.0, 1, 1, 83.1583);\n\n    INSERT INTO titanic_set2\n    (Survived, Pclass, Name, Sex, Age, SiblingsSpousesAboard, ParentsChildrenAboard, Fare)\n    VALUES (0, 3, 'Mr. Jakob Pasic', 'male', 21.0, 0, 0, 8.6625);\n\n    INSERT INTO titanic_set2\n    (Survived, Pclass, Name, Sex, Age, SiblingsSpousesAboard, ParentsChildrenAboard, Fare)\n    VALUES (0, 3, 'Mr. Maurice Sirota', 'male', 20.0, 0, 0, 8.05);\n\n    INSERT INTO titanic_set2\n    (Survived, Pclass, Name, Sex, Age, SiblingsSpousesAboard, ParentsChildrenAboard, Fare)\n    VALUES (1, 3, 'Mr. Chang Chip', 'male', 32.0, 0, 0, 56.4958);\n\n    INSERT INTO titanic_set2\n    (Survived, Pclass, Name, Sex, Age, SiblingsSpousesAboard, ParentsChildrenAboard, Fare)\n    VALUES (1, 1, 'Mr. Pierre Marechal', 'male', 29.0, 0, 0, 29.7);\n\n    INSERT INTO titanic_set2\n    (Survived, Pclass, Name, Sex, Age, SiblingsSpousesAboard, ParentsChildrenAboard, Fare)\n    VALUES (0, 3, 'Mr. Ilmari Rudolf Alhomaki', 'male', 20.0, 0, 0, 7.925);\n\n    INSERT INTO titanic_set2\n    (Survived, Pclass, Name, Sex, Age, SiblingsSpousesAboard, ParentsChildrenAboard, Fare)\n    VALUES (0, 2, 'Mr. Thomas Charles Mudd', 'male', 16.0, 0, 0, 10.5);\n\n    INSERT INTO titanic_set2\n    (Survived, Pclass, Name, Sex, Age, SiblingsSpousesAboard, ParentsChildrenAboard, Fare)\n    VALUES (1, 1, 'Miss. Augusta Serepeca', 'female', 30.0, 0, 0, 31.0);\n\n    INSERT INTO titanic_set2\n    (Survived, Pclass, Name, Sex, Age, SiblingsSpousesAboard, ParentsChildrenAboard, Fare)\n    VALUES (0, 3, 'Mr. Peter L Lemberopolous', 'male', 34.5, 0, 0, 6.4375);\n\n    INSERT INTO titanic_set2\n    (Survived, Pclass, Name, Sex, Age, SiblingsSpousesAboard, ParentsChildrenAboard, Fare)\n    VALUES (0, 3, 'Mr. Jeso Culumovic', 'male', 17.0, 0, 0, 8.6625);\n\n    INSERT INTO titanic_set2\n    (Survived, Pclass, Name, Sex, Age, SiblingsSpousesAboard, ParentsChildrenAboard, Fare)\n    VALUES (0, 3, 'Mr. Anthony Abbing', 'male', 42.0, 0, 0, 7.55);\n\n    INSERT INTO titanic_set2\n    (Survived, Pclass, Name, Sex, Age, SiblingsSpousesAboard, ParentsChildrenAboard, Fare)\n    VALUES (0, 3, 'Mr. Douglas Bullen Sage', 'male', 18.0, 8, 2, 69.55);\n\n    INSERT INTO titanic_set2\n    (Survived, Pclass, Name, Sex, Age, SiblingsSpousesAboard, ParentsChildrenAboard, Fare)\n    VALUES (0, 3, 'Mr. Marin Markoff', 'male', 35.0, 0, 0, 7.8958);\n\n    INSERT INTO titanic_set2\n    (Survived, Pclass, Name, Sex, Age, SiblingsSpousesAboard, ParentsChildrenAboard, Fare)\n    VALUES (0, 2, 'Rev. John Harper', 'male', 28.0, 0, 1, 33.0);\n\n    INSERT INTO titanic_set2\n    (Survived, Pclass, Name, Sex, Age, SiblingsSpousesAboard, ParentsChildrenAboard, Fare)\n    VALUES (1, 1, 'Mrs. Samuel L (Edwiga Grabowska) Goldenberg', 'female', 40.0, 1, 0, 89.1042);\n\n    INSERT INTO titanic_set2\n    (Survived, Pclass, Name, Sex, Age, SiblingsSpousesAboard, ParentsChildrenAboard, Fare)\n    VALUES (0, 3, 'Master. Sigvard Harald Elias Andersson', 'male', 4.0, 4, 2, 31.275);\n\n    INSERT INTO titanic_set2\n    (Survived, Pclass, Name, Sex, Age, SiblingsSpousesAboard, ParentsChildrenAboard, Fare)\n    VALUES (0, 3, 'Mr. Johan Svensson', 'male', 74.0, 0, 0, 7.775);\n\n    INSERT INTO titanic_set2\n    (Survived, Pclass, Name, Sex, Age, SiblingsSpousesAboard, ParentsChildrenAboard, Fare)\n    VALUES (0, 3, 'Miss. Nourelain Boulos', 'female', 9.0, 1, 1, 15.2458);\n\n    INSERT INTO titanic_set2\n    (Survived, Pclass, Name, Sex, Age, SiblingsSpousesAboard, ParentsChildrenAboard, Fare)\n    VALUES (1, 1, 'Miss. Mary Conover Lines', 'female', 16.0, 0, 1, 39.4);\n\n    INSERT INTO titanic_set2\n    (Survived, Pclass, Name, Sex, Age, SiblingsSpousesAboard, ParentsChildrenAboard, Fare)\n    VALUES (0, 2, 'Mrs. Ernest Courtenay (Lilian Hughes) Carter', 'female', 44.0, 1, 0, 26.0);\n\n    INSERT INTO titanic_set2\n    (Survived, Pclass, Name, Sex, Age, SiblingsSpousesAboard, ParentsChildrenAboard, Fare)\n    VALUES (1, 3, 'Mrs. Sam (Leah Rosen) Aks', 'female', 18.0, 0, 1, 9.35);\n\n    INSERT INTO titanic_set2\n    (Survived, Pclass, Name, Sex, Age, SiblingsSpousesAboard, ParentsChildrenAboard, Fare)\n    VALUES (1, 1, 'Mrs. George Dennick (Mary Hitchcock) Wick', 'female', 45.0, 1, 1, 164.8667);\n\n    INSERT INTO titanic_set2\n    (Survived, Pclass, Name, Sex, Age, SiblingsSpousesAboard, ParentsChildrenAboard, Fare)\n    VALUES (1, 1, 'Mr. Peter Denis Daly', 'male', 51.0, 0, 0, 26.55);\n\n    INSERT INTO titanic_set2\n    (Survived, Pclass, Name, Sex, Age, SiblingsSpousesAboard, ParentsChildrenAboard, Fare)\n    VALUES (1, 3, 'Mrs. Solomon (Latifa Qurban) Baclini', 'female', 24.0, 0, 3, 19.2583);\n\n    INSERT INTO titanic_set2\n    (Survived, Pclass, Name, Sex, Age, SiblingsSpousesAboard, ParentsChildrenAboard, Fare)\n    VALUES (0, 3, 'Mr. Raihed Razi', 'male', 30.0, 0, 0, 7.2292);\n\n    INSERT INTO titanic_set2\n    (Survived, Pclass, Name, Sex, Age, SiblingsSpousesAboard, ParentsChildrenAboard, Fare)\n    VALUES (0, 3, 'Mr. Claus Peter Hansen', 'male', 41.0, 2, 0, 14.1083);\n\n    INSERT INTO titanic_set2\n    (Survived, Pclass, Name, Sex, Age, SiblingsSpousesAboard, ParentsChildrenAboard, Fare)\n    VALUES (0, 2, 'Mr. Frederick Edward Giles', 'male', 21.0, 1, 0, 11.5);\n\n    INSERT INTO titanic_set2\n    (Survived, Pclass, Name, Sex, Age, SiblingsSpousesAboard, ParentsChildrenAboard, Fare)\n    VALUES (1, 1, 'Mrs. Frederick Joel (Margaret Welles Barron) Swift', 'female', 48.0, 0, 0, 25.9292);\n\n    INSERT INTO titanic_set2\n    (Survived, Pclass, Name, Sex, Age, SiblingsSpousesAboard, ParentsChildrenAboard, Fare)\n    VALUES (0, 3, 'Miss. Dorothy Edith Sage', 'female', 14.0, 8, 2, 69.55);\n\n    INSERT INTO titanic_set2\n    (Survived, Pclass, Name, Sex, Age, SiblingsSpousesAboard, ParentsChildrenAboard, Fare)\n    VALUES (0, 2, 'Mr. John William Gill', 'male', 24.0, 0, 0, 13.0);\n\n    INSERT INTO titanic_set2\n    (Survived, Pclass, Name, Sex, Age, SiblingsSpousesAboard, ParentsChildrenAboard, Fare)\n    VALUES (1, 2, 'Mrs. (Karolina) Bystrom', 'female', 42.0, 0, 0, 13.0);\n\n    INSERT INTO titanic_set2\n    (Survived, Pclass, Name, Sex, Age, SiblingsSpousesAboard, ParentsChildrenAboard, Fare)\n    VALUES (1, 2, 'Miss. Asuncion Duran y More', 'female', 27.0, 1, 0, 13.8583);\n\n    INSERT INTO titanic_set2\n    (Survived, Pclass, Name, Sex, Age, SiblingsSpousesAboard, ParentsChildrenAboard, Fare)\n    VALUES (0, 1, 'Mr. Washington Augustus II Roebling', 'male', 31.0, 0, 0, 50.4958);\n\n    INSERT INTO titanic_set2\n    (Survived, Pclass, Name, Sex, Age, SiblingsSpousesAboard, ParentsChildrenAboard, Fare)\n    VALUES (0, 3, 'Mr. Philemon van Melkebeke', 'male', 23.0, 0, 0, 9.5);\n\n    INSERT INTO titanic_set2\n    (Survived, Pclass, Name, Sex, Age, SiblingsSpousesAboard, ParentsChildrenAboard, Fare)\n    VALUES (1, 3, 'Master. Harold Theodor Johnson', 'male', 4.0, 1, 1, 11.1333);\n\n    INSERT INTO titanic_set2\n    (Survived, Pclass, Name, Sex, Age, SiblingsSpousesAboard, ParentsChildrenAboard, Fare)\n    VALUES (0, 3, 'Mr. Cerin Balkic', 'male', 26.0, 0, 0, 7.8958);\n\n    INSERT INTO titanic_set2\n    (Survived, Pclass, Name, Sex, Age, SiblingsSpousesAboard, ParentsChildrenAboard, Fare)\n    VALUES (1, 1, 'Mrs. Richard Leonard (Sallie Monypeny) Beckwith', 'female', 47.0, 1, 1, 52.5542);\n\n    INSERT INTO titanic_set2\n    (Survived, Pclass, Name, Sex, Age, SiblingsSpousesAboard, ParentsChildrenAboard, Fare)\n    VALUES (0, 1, 'Mr. Frans Olof Carlsson', 'male', 33.0, 0, 0, 5.0);\n\n    INSERT INTO titanic_set2\n    (Survived, Pclass, Name, Sex, Age, SiblingsSpousesAboard, ParentsChildrenAboard, Fare)\n    VALUES (0, 3, 'Mr. Victor Vander Cruyssen', 'male', 47.0, 0, 0, 9.0);\n\n    INSERT INTO titanic_set2\n    (Survived, Pclass, Name, Sex, Age, SiblingsSpousesAboard, ParentsChildrenAboard, Fare)\n    VALUES (1, 2, 'Mrs. Samuel (Hannah Wizosky) Abelson', 'female', 28.0, 1, 0, 24.0);\n\n    INSERT INTO titanic_set2\n    (Survived, Pclass, Name, Sex, Age, SiblingsSpousesAboard, ParentsChildrenAboard, Fare)\n    VALUES (1, 3, 'Miss. Adele Kiamie Najib', 'female', 15.0, 0, 0, 7.225);\n\n    INSERT INTO titanic_set2\n    (Survived, Pclass, Name, Sex, Age, SiblingsSpousesAboard, ParentsChildrenAboard, Fare)\n    VALUES (0, 3, 'Mr. Alfred Ossian Gustafsson', 'male', 20.0, 0, 0, 9.8458);\n\n    INSERT INTO titanic_set2\n    (Survived, Pclass, Name, Sex, Age, SiblingsSpousesAboard, ParentsChildrenAboard, Fare)\n    VALUES (0, 3, 'Mr. Nedelio Petroff', 'male', 19.0, 0, 0, 7.8958);\n\n    INSERT INTO titanic_set2\n    (Survived, Pclass, Name, Sex, Age, SiblingsSpousesAboard, ParentsChildrenAboard, Fare)\n    VALUES (0, 3, 'Mr. Kristo Laleff', 'male', 23.0, 0, 0, 7.8958);\n\n    INSERT INTO titanic_set2\n    (Survived, Pclass, Name, Sex, Age, SiblingsSpousesAboard, ParentsChildrenAboard, Fare)\n    VALUES (1, 1, 'Mrs. Thomas Jr (Lily Alexenia Wilson) Potter', 'female', 56.0, 0, 1, 83.1583);\n\n    INSERT INTO titanic_set2\n    (Survived, Pclass, Name, Sex, Age, SiblingsSpousesAboard, ParentsChildrenAboard, Fare)\n    VALUES (1, 2, 'Mrs. William (Imanita Parrish Hall) Shelley', 'female', 25.0, 0, 1, 26.0);\n\n    INSERT INTO titanic_set2\n    (Survived, Pclass, Name, Sex, Age, SiblingsSpousesAboard, ParentsChildrenAboard, Fare)\n    VALUES (0, 3, 'Mr. Johann Markun', 'male', 33.0, 0, 0, 7.8958);\n\n    INSERT INTO titanic_set2\n    (Survived, Pclass, Name, Sex, Age, SiblingsSpousesAboard, ParentsChildrenAboard, Fare)\n    VALUES (0, 3, 'Miss. Gerda Ulrika Dahlberg', 'female', 22.0, 0, 0, 10.5167);\n\n    INSERT INTO titanic_set2\n    (Survived, Pclass, Name, Sex, Age, SiblingsSpousesAboard, ParentsChildrenAboard, Fare)\n    VALUES (0, 2, 'Mr. Frederick James Banfield', 'male', 28.0, 0, 0, 10.5);\n\n    INSERT INTO titanic_set2\n    (Survived, Pclass, Name, Sex, Age, SiblingsSpousesAboard, ParentsChildrenAboard, Fare)\n    VALUES (0, 3, 'Mr. Henry Jr Sutehall', 'male', 25.0, 0, 0, 7.05);\n\n    INSERT INTO titanic_set2\n    (Survived, Pclass, Name, Sex, Age, SiblingsSpousesAboard, ParentsChildrenAboard, Fare)\n    VALUES (0, 3, 'Mrs. William (Margaret Norton) Rice', 'female', 39.0, 0, 5, 29.125);\n\n    INSERT INTO titanic_set2\n    (Survived, Pclass, Name, Sex, Age, SiblingsSpousesAboard, ParentsChildrenAboard, Fare)\n    VALUES (0, 2, 'Rev. Juozas Montvila', 'male', 27.0, 0, 0, 13.0);\n\n    INSERT INTO titanic_set2\n    (Survived, Pclass, Name, Sex, Age, SiblingsSpousesAboard, ParentsChildrenAboard, Fare)\n    VALUES (1, 1, 'Miss. Margaret Edith Graham', 'female', 19.0, 0, 0, 30.0);\n\n    INSERT INTO titanic_set2\n    (Survived, Pclass, Name, Sex, Age, SiblingsSpousesAboard, ParentsChildrenAboard, Fare)\n    VALUES (0, 3, 'Miss. Catherine Helen Johnston', 'female', 7.0, 1, 2, 23.45);\n\n    INSERT INTO titanic_set2\n    (Survived, Pclass, Name, Sex, Age, SiblingsSpousesAboard, ParentsChildrenAboard, Fare)\n    VALUES (1, 1, 'Mr. Karl Howell Behr', 'male', 26.0, 0, 0, 30.0);\n\n    INSERT INTO titanic_set2\n    (Survived, Pclass, Name, Sex, Age, SiblingsSpousesAboard, ParentsChildrenAboard, Fare)\n    VALUES (0, 3, 'Mr. Patrick Dooley', 'male', 32.0, 0, 0, 7.75);\n"
    }
   ],
   "source": [
    "for theData in allData:\n",
    "    insert_data=\"\"\"\n",
    "    INSERT INTO titanic_set2\n",
    "    (Survived, Pclass, Name, Sex, Age, SiblingsSpousesAboard, ParentsChildrenAboard, Fare)\n",
    "    VALUES \"\"\" + str(theData[1:]) + ';'\n",
    "    print(insert_data)\n",
    "    pg_curs.execute(insert_data)"
   ]
  },
  {
   "cell_type": "code",
   "execution_count": 31,
   "metadata": {},
   "outputs": [
    {
     "data": {
      "text/plain": ",\n (614, 0, 3, 'Mr. Ernst Gilbert Danbom', 'male', 34.0, 1, 1, 14.4),\n (615,\n  0,\n  3,\n  'Mrs. William Arthur (Cordelia K Stanlick) Lobb',\n  'female',\n  26.0,\n  1,\n  0,\n  16.1),\n (616, 1, 2, 'Miss. Marion Louise Becker', 'female', 4.0, 2, 1, 39.0),\n (617, 0, 2, 'Mr. Lawrence Gavey', 'male', 26.0, 0, 0, 10.5),\n (618, 0, 3, 'Mr. Antoni Yasbeck', 'male', 27.0, 1, 0, 14.4542),\n (619, 1, 1, 'Mr. Edwin Nelson Jr Kimball', 'male', 42.0, 1, 0, 52.5542),\n (620, 1, 3, 'Mr. Sahid Nakid', 'male', 20.0, 1, 1, 15.7417),\n (621, 0, 3, 'Mr. Henry Damsgaard Hansen', 'male', 21.0, 0, 0, 7.8542),\n (622, 0, 3, 'Mr. David John Bowen', 'male', 21.0, 0, 0, 16.1),\n (623, 0, 1, 'Mr. Frederick Sutton', 'male', 61.0, 0, 0, 32.3208),\n (624, 0, 2, 'Rev. Charles Leonard Kirkland', 'male', 57.0, 0, 0, 12.35),\n (625, 1, 1, 'Miss. Gretchen Fiske Longley', 'female', 21.0, 0, 0, 77.9583),\n (626, 0, 3, 'Mr. Guentcho Bostandyeff', 'male', 26.0, 0, 0, 7.8958),\n (627, 0, 3, 'Mr. Patrick D OConnell', 'male', 18.0, 0, 0, 7.7333),\n (628, 1, 1, 'Mr. Algernon Henry Wilson Barkworth', 'male', 80.0, 0, 0, 30.0),\n (629, 0, 3, 'Mr. Johan Svensson Lundahl', 'male', 51.0, 0, 0, 7.0542),\n (630, 1, 1, 'Dr. Max Stahelin-Maeglin', 'male', 32.0, 0, 0, 30.5),\n (631, 0, 1, 'Mr. William Henry Marsh Parr', 'male', 30.0, 0, 0, 0.0),\n (632, 0, 3, 'Miss. Mabel Skoog', 'female', 9.0, 3, 2, 27.9),\n (633, 1, 2, 'Miss. Mary Davis', 'female', 28.0, 0, 0, 13.0),\n (634, 0, 3, 'Mr. Antti Gustaf Leinonen', 'male', 32.0, 0, 0, 7.925),\n (635, 0, 2, 'Mr. Harvey Collyer', 'male', 31.0, 1, 1, 26.25),\n (636,\n  0,\n  3,\n  'Mrs. Juha (Maria Emilia Ojala) Panula',\n  'female',\n  41.0,\n  0,\n  5,\n  39.6875),\n (637, 0, 3, 'Mr. Percival Thorneycroft', 'male', 37.0, 1, 0, 16.1),\n (638, 0, 3, 'Mr. Hans Peder Jensen', 'male', 20.0, 0, 0, 7.8542),\n (639, 1, 1, 'Mlle. Emma Sagesser', 'female', 24.0, 0, 0, 69.3),\n (640, 0, 3, 'Miss. Margit Elizabeth Skoog', 'female', 2.0, 3, 2, 27.9),\n (641, 1, 3, 'Mr. Choong Foo', 'male', 32.0, 0, 0, 56.4958),\n (642, 1, 3, 'Miss. Eugenie Baclini', 'female', 0.75, 2, 1, 19.2583),\n (643, 1, 1, 'Mr. Henry Sleeper Harper', 'male', 48.0, 1, 0, 76.7292),\n (644, 0, 3, 'Mr. Liudevit Cor', 'male', 19.0, 0, 0, 7.8958),\n (645, 1, 1, 'Col. Oberst Alfons Simonius-Blumer', 'male', 56.0, 0, 0, 35.5),\n (646, 0, 3, 'Mr. Edward Willey', 'male', 21.0, 0, 0, 7.55),\n (647, 1, 3, 'Miss. Amy Zillah Elsie Stanley', 'female', 23.0, 0, 0, 7.55),\n (648, 0, 3, 'Mr. Mito Mitkoff', 'male', 23.0, 0, 0, 7.8958),\n (649, 1, 2, 'Miss. Elsie Doling', 'female', 18.0, 0, 1, 23.0),\n (650, 0, 3, 'Mr. Johannes Halvorsen Kalvik', 'male', 21.0, 0, 0, 8.4333),\n (651, 1, 3, 'Miss. Hanora OLeary', 'female', 16.0, 0, 0, 7.8292),\n (652, 0, 3, 'Miss. Hanora Hegarty', 'female', 18.0, 0, 0, 6.75),\n (653, 0, 2, 'Mr. Leonard Mark Hickman', 'male', 24.0, 2, 0, 73.5),\n (654, 0, 3, 'Mr. Alexander Radeff', 'male', 27.0, 0, 0, 7.8958),\n (655, 0, 3, 'Mrs. John (Catherine) Bourke', 'female', 32.0, 1, 1, 15.5),\n (656, 0, 2, 'Mr. George Floyd Eitemiller', 'male', 23.0, 0, 0, 13.0),\n (657, 0, 1, 'Mr. Arthur Webster Newell', 'male', 58.0, 0, 2, 113.275),\n (658, 1, 1, 'Dr. Henry William Frauenthal', 'male', 50.0, 2, 0, 133.65),\n (659, 0, 3, 'Mr. Mohamed Badt', 'male', 40.0, 0, 0, 7.225),\n (660, 0, 1, 'Mr. Edward Pomeroy Colley', 'male', 47.0, 0, 0, 25.5875),\n (661, 0, 3, 'Mr. Peju Coleff', 'male', 36.0, 0, 0, 7.4958),\n (662, 1, 3, 'Mr. Eino William Lindqvist', 'male', 20.0, 1, 0, 7.925),\n (663, 0, 2, 'Mr. Lewis Hickman', 'male', 32.0, 2, 0, 73.5),\n (664, 0, 2, 'Mr. Reginald Fenton Butler', 'male', 25.0, 0, 0, 13.0),\n (665, 0, 3, 'Mr. Knud Paust Rommetvedt', 'male', 49.0, 0, 0, 7.775),\n (666, 0, 3, 'Mr. Jacob Cook', 'male', 43.0, 0, 0, 8.05),\n (667,\n  1,\n  1,\n  'Mrs. Elmer Zebley (Juliet Cummins Wright) Taylor',\n  'female',\n  48.0,\n  1,\n  0,\n  52.0),\n (668,\n  1,\n  2,\n  'Mrs. Thomas William Solomon (Elizabeth Catherine Ford) Brown',\n  'female',\n  40.0,\n  1,\n  1,\n  39.0),\n (669, 0, 1, 'Mr. Thornton Davidson', 'male', 31.0, 1, 0, 52.0),\n (670, 0, 2, 'Mr. Henry Michael Mitchell', 'male', 70.0, 0, 0, 10.5),\n (671, 1, 2, 'Mr. Charles Wilhelms', 'male', 31.0, 0, 0, 13.0),\n (672, 0, 2, 'Mr. Ennis Hastings Watson', 'male', 19.0, 0, 0, 0.0),\n (673, 0, 3, 'Mr. Gustaf Hjalmar Edvardsson', 'male', 18.0, 0, 0, 7.775),\n (674, 0, 3, 'Mr. Frederick Charles Sawyer', 'male', 24.5, 0, 0, 8.05),\n (675, 1, 3, 'Miss. Anna Sofia Turja', 'female', 18.0, 0, 0, 9.8417),\n (676,\n  0,\n  3,\n  'Mrs. Frederick (Augusta Tyler) Goodwin',\n  'female',\n  43.0,\n  1,\n  6,\n  46.9),\n (677, 1, 1, 'Mr. Thomas Drake Martinez Cardeza', 'male', 36.0, 0, 1, 512.329),\n (678, 0, 3, 'Miss. Katie Peters', 'female', 28.0, 0, 0, 8.1375),\n (679, 1, 1, 'Mr. Hammad Hassab', 'male', 27.0, 0, 0, 76.7292),\n (680, 0, 3, 'Mr. Thor Anderson Olsvigen', 'male', 20.0, 0, 0, 9.225),\n (681, 0, 3, 'Mr. Charles Edward Goodwin', 'male', 14.0, 5, 2, 46.9),\n (682, 0, 2, 'Mr. Thomas William Solomon Brown', 'male', 60.0, 1, 1, 39.0),\n (683,\n  0,\n  2,\n  'Mr. Joseph Philippe Lemercier Laroche',\n  'male',\n  25.0,\n  1,\n  2,\n  41.5792),\n (684, 0, 3, 'Mr. Jaako Arnold Panula', 'male', 14.0, 4, 1, 39.6875),\n (685, 0, 3, 'Mr. Branko Dakic', 'male', 19.0, 0, 0, 10.1708),\n (686, 0, 3, 'Mr. Eberhard Thelander Fischer', 'male', 18.0, 0, 0, 7.7958),\n (687,\n  1,\n  1,\n  'Miss. Georgette Alexandra Madill',\n  'female',\n  15.0,\n  0,\n  1,\n  211.337),\n (688, 1, 1, 'Mr. Albert Adrian Dick', 'male', 31.0, 1, 0, 57.0),\n (689, 1, 3, 'Miss. Manca Karun', 'female', 4.0, 0, 1, 13.4167),\n (690, 1, 3, 'Mr. Ali Lam', 'male', 37.0, 0, 0, 56.4958),\n (691, 0, 3, 'Mr. Khalil Saad', 'male', 25.0, 0, 0, 7.225),\n (692, 0, 1, 'Col. John Weir', 'male', 60.0, 0, 0, 26.55),\n (693, 0, 2, 'Mr. Charles Henry Chapman', 'male', 52.0, 0, 0, 13.5),\n (694, 0, 3, 'Mr. James Kelly', 'male', 44.0, 0, 0, 8.05),\n (695, 1, 3, 'Miss. Katherine Mullens', 'female', 19.0, 0, 0, 7.7333),\n (696, 0, 1, 'Mr. John Borland Thayer', 'male', 49.0, 1, 1, 110.883),\n (697,\n  0,\n  3,\n  'Mr. Adolf Mathias Nicolai Olsen Humblen',\n  'male',\n  42.0,\n  0,\n  0,\n  7.65),\n (698,\n  1,\n  1,\n  'Mrs. John Jacob (Madeleine Talmadge Force) Astor',\n  'female',\n  18.0,\n  1,\n  0,\n  227.525),\n (699, 1, 1, 'Mr. Spencer Victor Silverthorne', 'male', 35.0, 0, 0, 26.2875),\n (700, 0, 3, 'Miss. Saiide Barbara', 'female', 18.0, 0, 1, 14.4542),\n (701, 0, 3, 'Mr. Martin Gallagher', 'male', 25.0, 0, 0, 7.7417),\n (702, 0, 3, 'Mr. Henrik Juul Hansen', 'male', 26.0, 1, 0, 7.8542),\n (703, 0, 2, 'Mr. Henry Samuel Morley', 'male', 39.0, 0, 0, 26.0),\n (704, 1, 2, 'Mrs. Florence Kelly', 'female', 45.0, 0, 0, 13.5),\n (705, 1, 1, 'Mr. Edward Pennington Calderhead', 'male', 42.0, 0, 0, 26.2875),\n (706, 1, 1, 'Miss. Alice Cleaver', 'female', 22.0, 0, 0, 151.55),\n (707, 1, 3, 'Master. Halim Gonios Moubarek', 'male', 4.0, 1, 1, 15.2458),\n (708, 1, 1, 'Mlle. Berthe Antonine Mayne', 'female', 24.0, 0, 0, 49.5042),\n (709, 0, 1, 'Mr. Herman Klaber', 'male', 41.0, 0, 0, 26.55),\n (710, 1, 1, 'Mr. Elmer Zebley Taylor', 'male', 48.0, 1, 0, 52.0),\n (711, 0, 3, 'Mr. August Viktor Larsson', 'male', 29.0, 0, 0, 9.4833),\n (712, 0, 2, 'Mr. Samuel Greenberg', 'male', 52.0, 0, 0, 13.0),\n (713,\n  0,\n  3,\n  'Mr. Peter Andreas Lauritz Andersen Soholt',\n  'male',\n  19.0,\n  0,\n  0,\n  7.65),\n (714, 1, 1, 'Miss. Caroline Louise Endres', 'female', 38.0, 0, 0, 227.525),\n (715, 1, 2, 'Miss. Edwina Celia Troutt', 'female', 27.0, 0, 0, 10.5),\n (716, 0, 3, 'Mr. Malkolm Joackim Johnson', 'male', 33.0, 0, 0, 7.775),\n (717, 1, 2, 'Miss. Annie Jessie Harper', 'female', 6.0, 0, 1, 33.0),\n (718, 0, 3, 'Mr. Svend Lauritz Jensen', 'male', 17.0, 1, 0, 7.0542),\n (719, 0, 2, 'Mr. William Henry Gillespie', 'male', 34.0, 0, 0, 13.0),\n (720, 0, 2, 'Mr. Henry Price Hodges', 'male', 50.0, 0, 0, 13.0),\n (721, 1, 1, 'Mr. Norman Campbell Chambers', 'male', 27.0, 1, 0, 53.1),\n (722, 0, 3, 'Mr. Luka Oreskovic', 'male', 20.0, 0, 0, 8.6625),\n (723,\n  1,\n  2,\n  'Mrs. Peter Henry (Lillian Jefferys) Renouf',\n  'female',\n  30.0,\n  3,\n  0,\n  21.0),\n (724, 1, 3, 'Miss. Margareth Mannion', 'female', 28.0, 0, 0, 7.7375),\n (725, 0, 2, 'Mr. Kurt Arnold Gottfrid Bryhl', 'male', 25.0, 1, 0, 26.0),\n (726, 0, 3, 'Miss. Pieta Sofia Ilmakangas', 'female', 25.0, 1, 0, 7.925),\n (727, 1, 1, 'Miss. Elisabeth Walton Allen', 'female', 29.0, 0, 0, 211.337),\n (728, 0, 3, 'Mr. Houssein G N Hassan', 'male', 11.0, 0, 0, 18.7875),\n (729, 0, 2, 'Mr. Robert J Knight', 'male', 41.0, 0, 0, 0.0),\n (730, 0, 2, 'Mr. William John Berriman', 'male', 23.0, 0, 0, 13.0),\n (731, 0, 2, 'Mr. Moses Aaron Troupiansky', 'male', 23.0, 0, 0, 13.0),\n (732, 0, 3, 'Mr. Leslie Williams', 'male', 28.5, 0, 0, 16.1),\n (733,\n  0,\n  3,\n  'Mrs. Edward (Margaret Ann Watson) Ford',\n  'female',\n  48.0,\n  1,\n  3,\n  34.375),\n (734, 1, 1, 'Mr. Gustave J Lesurer', 'male', 35.0, 0, 0, 512.329),\n (735, 0, 3, 'Mr. Kanio Ivanoff', 'male', 20.0, 0, 0, 7.8958),\n (736, 0, 3, 'Mr. Minko Nankoff', 'male', 32.0, 0, 0, 7.8958),\n (737, 1, 1, 'Mr. Walter James Hawksford', 'male', 45.0, 0, 0, 30.0),\n (738, 0, 1, 'Mr. Tyrell William Cavendish', 'male', 36.0, 1, 0, 78.85),\n (739, 1, 1, 'Miss. Susan Parker Ryerson', 'female', 21.0, 2, 2, 262.375),\n (740, 0, 3, 'Mr. Neal McNamee', 'male', 24.0, 1, 0, 16.1),\n (741, 1, 3, 'Mr. Juho Stranden', 'male', 31.0, 0, 0, 7.925),\n (742, 0, 1, 'Capt. Edward Gifford Crosby', 'male', 70.0, 1, 1, 71.0),\n (743, 0, 3, 'Mr. Rossmore Edward Abbott', 'male', 16.0, 1, 1, 20.25),\n (744, 1, 2, 'Miss. Anna Sinkkonen', 'female', 30.0, 0, 0, 13.0),\n (745, 0, 1, 'Mr. Daniel Warner Marvin', 'male', 19.0, 1, 0, 53.1),\n (746, 0, 3, 'Mr. Michael Connaghton', 'male', 31.0, 0, 0, 7.75),\n (747, 1, 2, 'Miss. Joan Wells', 'female', 4.0, 1, 1, 23.0),\n (748, 1, 3, 'Master. Meier Moor', 'male', 6.0, 0, 1, 12.475),\n (749, 0, 3, 'Mr. Johannes Joseph Vande Velde', 'male', 33.0, 0, 0, 9.5),\n (750, 0, 3, 'Mr. Lalio Jonkoff', 'male', 23.0, 0, 0, 7.8958),\n (751, 1, 2, 'Mrs. Samuel (Jane Laver) Herman', 'female', 48.0, 1, 2, 65.0),\n (752, 1, 2, 'Master. Viljo Hamalainen', 'male', 0.67, 1, 1, 14.5),\n (753, 0, 3, 'Mr. August Sigfrid Carlsson', 'male', 28.0, 0, 0, 7.7958),\n (754, 0, 2, 'Mr. Percy Andrew Bailey', 'male', 18.0, 0, 0, 11.5),\n (755, 0, 3, 'Mr. Thomas Leonard Theobald', 'male', 34.0, 0, 0, 8.05),\n (756,\n  1,\n  1,\n  'the Countess. of (Lucy Noel Martha Dyer-Edwards) Rothes',\n  'female',\n  33.0,\n  0,\n  0,\n  86.5),\n (757, 0, 3, 'Mr. John Garfirth', 'male', 23.0, 0, 0, 14.5),\n (758, 0, 3, 'Mr. Iisakki Antino Aijo Nirva', 'male', 41.0, 0, 0, 7.125),\n (759, 1, 3, 'Mr. Hanna Assi Barah', 'male', 20.0, 0, 0, 7.2292),\n (760,\n  1,\n  1,\n  'Mrs. William Ernest (Lucile Polk) Carter',\n  'female',\n  36.0,\n  1,\n  2,\n  120.0),\n (761, 0, 3, 'Mr. Hans Linus Eklund', 'male', 16.0, 0, 0, 7.775),\n (762,\n  1,\n  1,\n  'Mrs. John C (Anna Andrews) Hogeboom',\n  'female',\n  51.0,\n  1,\n  0,\n  77.9583),\n (763, 0, 1, 'Dr. Arthur Jackson Brewe', 'male', 46.0, 0, 0, 39.6),\n (764, 0, 3, 'Miss. Mary Mangan', 'female', 30.5, 0, 0, 7.75),\n (765, 0, 3, 'Mr. Daniel J Moran', 'male', 28.0, 1, 0, 24.15),\n (766, 0, 3, 'Mr. Daniel Danielsen Gronnestad', 'male', 32.0, 0, 0, 8.3625),\n (767, 0, 3, 'Mr. Rene Aime Lievens', 'male', 24.0, 0, 0, 9.5),\n (768, 0, 3, 'Mr. Niels Peder Jensen', 'male', 48.0, 0, 0, 7.8542),\n (769, 0, 2, 'Mrs. (Mary) Mack', 'female', 57.0, 0, 0, 10.5),\n (770, 0, 3, 'Mr. Dibo Elias', 'male', 29.0, 0, 0, 7.225),\n (771,\n  1,\n  2,\n  'Mrs. Elizabeth (Eliza Needs) Hocking',\n  'female',\n  54.0,\n  1,\n  3,\n  23.0),\n (772,\n  0,\n  3,\n  'Mr. Pehr Fabian Oliver Malkolm Myhrman',\n  'male',\n  18.0,\n  0,\n  0,\n  7.75),\n (773, 0, 3, 'Mr. Roger Tobin', 'male', 20.0, 0, 0, 7.75),\n (774, 1, 3, 'Miss. Virginia Ethel Emanuel', 'female', 5.0, 0, 0, 12.475),\n (775, 0, 3, 'Mr. Thomas J Kilgannon', 'male', 22.0, 0, 0, 7.7375),\n (776,\n  1,\n  1,\n  'Mrs. Edward Scott (Elisabeth Walton McMillan) Robert',\n  'female',\n  43.0,\n  0,\n  1,\n  211.337),\n (777, 1, 3, 'Miss. Banoura Ayoub', 'female', 13.0, 0, 0, 7.2292),\n (778,\n  1,\n  1,\n  'Mrs. Albert Adrian (Vera Gillespie) Dick',\n  'female',\n  17.0,\n  1,\n  0,\n  57.0),\n (779, 0, 1, 'Mr. Milton Clyde Long', 'male', 29.0, 0, 0, 30.0),\n (780, 0, 3, 'Mr. Andrew G Johnston', 'male', 35.0, 1, 2, 23.45),\n (781, 0, 3, 'Mr. William Ali', 'male', 25.0, 0, 0, 7.05),\n (782, 0, 3, 'Mr. Abraham (David Lishin) Harmer', 'male', 25.0, 0, 0, 7.25),\n (783, 1, 3, 'Miss. Anna Sofia Sjoblom', 'female', 18.0, 0, 0, 7.4958),\n (784, 0, 3, 'Master. George Hugh Rice', 'male', 8.0, 4, 1, 29.125),\n (785, 1, 3, 'Master. Bertram Vere Dean', 'male', 1.0, 1, 2, 20.575),\n (786, 0, 1, 'Mr. Benjamin Guggenheim', 'male', 46.0, 0, 0, 79.2),\n (787, 0, 3, 'Mr. Andrew Keane', 'male', 20.0, 0, 0, 7.75),\n (788, 0, 2, 'Mr. Alfred Gaskell', 'male', 16.0, 0, 0, 26.0),\n (789, 0, 3, 'Miss. Stella Anna Sage', 'female', 21.0, 8, 2, 69.55),\n (790, 0, 1, 'Mr. William Fisher Hoyt', 'male', 43.0, 0, 0, 30.6958),\n (791, 0, 3, 'Mr. Ristiu Dantcheff', 'male', 25.0, 0, 0, 7.8958),\n (792, 0, 2, 'Mr. Richard Otter', 'male', 39.0, 0, 0, 13.0),\n (793, 1, 1, 'Dr. Alice (Farnham) Leader', 'female', 49.0, 0, 0, 25.9292),\n (794, 1, 3, 'Mrs. Mara Osman', 'female', 31.0, 0, 0, 8.6833),\n (795, 0, 3, 'Mr. Yousseff Ibrahim Shawah', 'male', 30.0, 0, 0, 7.2292),\n (796,\n  0,\n  3,\n  'Mrs. Jean Baptiste (Rosalie Paula Govaert) Van Impe',\n  'female',\n  30.0,\n  1,\n  1,\n  24.15),\n (797, 0, 2, 'Mr. Martin Ponesell', 'male', 34.0, 0, 0, 13.0),\n (798,\n  1,\n  2,\n  'Mrs. Harvey (Charlotte Annie Tate) Collyer',\n  'female',\n  31.0,\n  1,\n  1,\n  26.25),\n (799, 1, 1, 'Master. William Thornton II Carter', 'male', 11.0, 1, 2, 120.0),\n (800, 1, 3, 'Master. Assad Alexander Thomas', 'male', 0.42, 0, 1, 8.5167),\n (801, 1, 3, 'Mr. Oskar Arvid Hedman', 'male', 27.0, 0, 0, 6.975),\n (802, 0, 3, 'Mr. Karl Johan Johansson', 'male', 31.0, 0, 0, 7.775),\n (803, 0, 1, 'Mr. Thomas Jr Andrews', 'male', 39.0, 0, 0, 0.0),\n (804, 0, 3, 'Miss. Ellen Natalia Pettersson', 'female', 18.0, 0, 0, 7.775),\n (805, 0, 2, 'Mr. August Meyer', 'male', 39.0, 0, 0, 13.0),\n (806,\n  1,\n  1,\n  'Mrs. Norman Campbell (Bertha Griggs) Chambers',\n  'female',\n  33.0,\n  1,\n  0,\n  53.1),\n (807, 0, 3, 'Mr. William Alexander', 'male', 26.0, 0, 0, 7.8875),\n (808, 0, 3, 'Mr. James Lester', 'male', 39.0, 0, 0, 24.15),\n (809, 0, 2, 'Mr. Richard James Slemen', 'male', 35.0, 0, 0, 10.5),\n (810, 0, 3, 'Miss. Ebba Iris Alfrida Andersson', 'female', 6.0, 4, 2, 31.275),\n (811, 0, 3, 'Mr. Ernest Portage Tomlin', 'male', 30.5, 0, 0, 8.05),\n (812, 0, 1, 'Mr. Richard Fry', 'male', 39.0, 0, 0, 0.0),\n (813, 0, 3, 'Miss. Wendla Maria Heininen', 'female', 23.0, 0, 0, 7.925),\n (814, 0, 2, 'Mr. Albert Mallet', 'male', 31.0, 1, 1, 37.0042),\n (815, 0, 3, 'Mr. John Fredrik Alexander Holm', 'male', 43.0, 0, 0, 6.45),\n (816, 0, 3, 'Master. Karl Thorsten Skoog', 'male', 10.0, 3, 2, 27.9),\n (817,\n  1,\n  1,\n  'Mrs. Charles Melville (Clara Jennings Gregg) Hays',\n  'female',\n  52.0,\n  1,\n  1,\n  93.5),\n (818, 1, 3, 'Mr. Nikola Lulic', 'male', 27.0, 0, 0, 8.6625),\n (819, 0, 1, 'Jonkheer. John George Reuchlin', 'male', 38.0, 0, 0, 0.0),\n (820, 1, 3, 'Mrs. (Beila) Moor', 'female', 27.0, 0, 1, 12.475),\n (821, 0, 3, 'Master. Urho Abraham Panula', 'male', 2.0, 4, 1, 39.6875),\n (822, 0, 3, 'Mr. John Flynn', 'male', 36.0, 0, 0, 6.95),\n (823, 0, 3, 'Mr. Len Lam', 'male', 23.0, 0, 0, 56.4958),\n (824, 1, 2, 'Master. Andre Mallet', 'male', 1.0, 0, 2, 37.0042),\n (825, 1, 3, 'Mr. Thomas Joseph McCormack', 'male', 19.0, 0, 0, 7.75),\n (826,\n  1,\n  1,\n  'Mrs. George Nelson (Martha Evelyn) Stone',\n  'female',\n  62.0,\n  0,\n  0,\n  80.0),\n (827,\n  1,\n  3,\n  'Mrs. Antoni (Selini Alexander) Yasbeck',\n  'female',\n  15.0,\n  1,\n  0,\n  14.4542),\n (828, 1, 2, 'Master. George Sibley Richards', 'male', 0.83, 1, 1, 18.75),\n (829, 0, 3, 'Mr. Amin Saad', 'male', 30.0, 0, 0, 7.2292),\n (830, 0, 3, 'Mr. Albert Augustsson', 'male', 23.0, 0, 0, 7.8542),\n (831, 0, 3, 'Mr. Owen George Allum', 'male', 18.0, 0, 0, 8.3),\n (832, 1, 1, 'Miss. Sara Rebecca Compton', 'female', 39.0, 1, 1, 83.1583),\n (833, 0, 3, 'Mr. Jakob Pasic', 'male', 21.0, 0, 0, 8.6625),\n (834, 0, 3, 'Mr. Maurice Sirota', 'male', 20.0, 0, 0, 8.05),\n (835, 1, 3, 'Mr. Chang Chip', 'male', 32.0, 0, 0, 56.4958),\n (836, 1, 1, 'Mr. Pierre Marechal', 'male', 29.0, 0, 0, 29.7),\n (837, 0, 3, 'Mr. Ilmari Rudolf Alhomaki', 'male', 20.0, 0, 0, 7.925),\n (838, 0, 2, 'Mr. Thomas Charles Mudd', 'male', 16.0, 0, 0, 10.5),\n (839, 1, 1, 'Miss. Augusta Serepeca', 'female', 30.0, 0, 0, 31.0),\n (840, 0, 3, 'Mr. Peter L Lemberopolous', 'male', 34.5, 0, 0, 6.4375),\n (841, 0, 3, 'Mr. Jeso Culumovic', 'male', 17.0, 0, 0, 8.6625),\n (842, 0, 3, 'Mr. Anthony Abbing', 'male', 42.0, 0, 0, 7.55),\n (843, 0, 3, 'Mr. Douglas Bullen Sage', 'male', 18.0, 8, 2, 69.55),\n (844, 0, 3, 'Mr. Marin Markoff', 'male', 35.0, 0, 0, 7.8958),\n (845, 0, 2, 'Rev. John Harper', 'male', 28.0, 0, 1, 33.0),\n (846,\n  1,\n  1,\n  'Mrs. Samuel L (Edwiga Grabowska) Goldenberg',\n  'female',\n  40.0,\n  1,\n  0,\n  89.1042),\n (847,\n  0,\n  3,\n  'Master. Sigvard Harald Elias Andersson',\n  'male',\n  4.0,\n  4,\n  2,\n  31.275),\n (848, 0, 3, 'Mr. Johan Svensson', 'male', 74.0, 0, 0, 7.775),\n (849, 0, 3, 'Miss. Nourelain Boulos', 'female', 9.0, 1, 1, 15.2458),\n (850, 1, 1, 'Miss. Mary Conover Lines', 'female', 16.0, 0, 1, 39.4),\n (851,\n  0,\n  2,\n  'Mrs. Ernest Courtenay (Lilian Hughes) Carter',\n  'female',\n  44.0,\n  1,\n  0,\n  26.0),\n (852, 1, 3, 'Mrs. Sam (Leah Rosen) Aks', 'female', 18.0, 0, 1, 9.35),\n (853,\n  1,\n  1,\n  'Mrs. George Dennick (Mary Hitchcock) Wick',\n  'female',\n  45.0,\n  1,\n  1,\n  164.867),\n (854, 1, 1, 'Mr. Peter Denis Daly', 'male', 51.0, 0, 0, 26.55),\n (855,\n  1,\n  3,\n  'Mrs. Solomon (Latifa Qurban) Baclini',\n  'female',\n  24.0,\n  0,\n  3,\n  19.2583),\n (856, 0, 3, 'Mr. Raihed Razi', 'male', 30.0, 0, 0, 7.2292),\n (857, 0, 3, 'Mr. Claus Peter Hansen', 'male', 41.0, 2, 0, 14.1083),\n (858, 0, 2, 'Mr. Frederick Edward Giles', 'male', 21.0, 1, 0, 11.5),\n (859,\n  1,\n  1,\n  'Mrs. Frederick Joel (Margaret Welles Barron) Swift',\n  'female',\n  48.0,\n  0,\n  0,\n  25.9292),\n (860, 0, 3, 'Miss. Dorothy Edith Sage', 'female', 14.0, 8, 2, 69.55),\n (861, 0, 2, 'Mr. John William Gill', 'male', 24.0, 0, 0, 13.0),\n (862, 1, 2, 'Mrs. (Karolina) Bystrom', 'female', 42.0, 0, 0, 13.0),\n (863, 1, 2, 'Miss. Asuncion Duran y More', 'female', 27.0, 1, 0, 13.8583),\n (864,\n  0,\n  1,\n  'Mr. Washington Augustus II Roebling',\n  'male',\n  31.0,\n  0,\n  0,\n  50.4958),\n (865, 0, 3, 'Mr. Philemon van Melkebeke', 'male', 23.0, 0, 0, 9.5),\n (866, 1, 3, 'Master. Harold Theodor Johnson', 'male', 4.0, 1, 1, 11.1333),\n (867, 0, 3, 'Mr. Cerin Balkic', 'male', 26.0, 0, 0, 7.8958),\n (868,\n  1,\n  1,\n  'Mrs. Richard Leonard (Sallie Monypeny) Beckwith',\n  'female',\n  47.0,\n  1,\n  1,\n  52.5542),\n (869, 0, 1, 'Mr. Frans Olof Carlsson', 'male', 33.0, 0, 0, 5.0),\n (870, 0, 3, 'Mr. Victor Vander Cruyssen', 'male', 47.0, 0, 0, 9.0),\n (871,\n  1,\n  2,\n  'Mrs. Samuel (Hannah Wizosky) Abelson',\n  'female',\n  28.0,\n  1,\n  0,\n  24.0),\n (872, 1, 3, 'Miss. Adele Kiamie Najib', 'female', 15.0, 0, 0, 7.225),\n (873, 0, 3, 'Mr. Alfred Ossian Gustafsson', 'male', 20.0, 0, 0, 9.8458),\n (874, 0, 3, 'Mr. Nedelio Petroff', 'male', 19.0, 0, 0, 7.8958),\n (875, 0, 3, 'Mr. Kristo Laleff', 'male', 23.0, 0, 0, 7.8958),\n (876,\n  1,\n  1,\n  'Mrs. Thomas Jr (Lily Alexenia Wilson) Potter',\n  'female',\n  56.0,\n  0,\n  1,\n  83.1583),\n (877,\n  1,\n  2,\n  'Mrs. William (Imanita Parrish Hall) Shelley',\n  'female',\n  25.0,\n  0,\n  1,\n  26.0),\n (878, 0, 3, 'Mr. Johann Markun', 'male', 33.0, 0, 0, 7.8958),\n (879, 0, 3, 'Miss. Gerda Ulrika Dahlberg', 'female', 22.0, 0, 0, 10.5167),\n (880, 0, 2, 'Mr. Frederick James Banfield', 'male', 28.0, 0, 0, 10.5),\n (881, 0, 3, 'Mr. Henry Jr Sutehall', 'male', 25.0, 0, 0, 7.05),\n (882,\n  0,\n  3,\n  'Mrs. William (Margaret Norton) Rice',\n  'female',\n  39.0,\n  0,\n  5,\n  29.125),\n (883, 0, 2, 'Rev. Juozas Montvila', 'male', 27.0, 0, 0, 13.0),\n (884, 1, 1, 'Miss. Margaret Edith Graham', 'female', 19.0, 0, 0, 30.0),\n (885, 0, 3, 'Miss. Catherine Helen Johnston', 'female', 7.0, 1, 2, 23.45),\n (886, 1, 1, 'Mr. Karl Howell Behr', 'male', 26.0, 0, 0, 30.0),\n (887, 0, 3, 'Mr. Patrick Dooley', 'male', 32.0, 0, 0, 7.75)]"
     },
     "execution_count": 31,
     "metadata": {},
     "output_type": "execute_result"
    }
   ],
   "source": [
    "pg_curs.execute('SELECT * FROM titanic_set2;')\n",
    "pg_curs.fetchall()"
   ]
  },
  {
   "cell_type": "code",
   "execution_count": 32,
   "metadata": {},
   "outputs": [],
   "source": [
    "pg_curs.close()\n",
    "pg_conn.commit()"
   ]
  },
  {
   "cell_type": "code",
   "execution_count": null,
   "metadata": {},
   "outputs": [],
   "source": []
  }
 ]
}