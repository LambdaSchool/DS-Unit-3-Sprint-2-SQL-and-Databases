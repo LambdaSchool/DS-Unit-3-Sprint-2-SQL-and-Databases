{
 "cells": [
  {
   "cell_type": "code",
   "execution_count": 1,
   "metadata": {},
   "outputs": [],
   "source": [
    "# ./usr/bin/env python\n",
    "\n",
    "# Insert titanic data into the postgres database\n",
    "import psycopg2 as pg\n",
    "import pandas as pd\n",
    "import sqlite3"
   ]
  },
  {
   "cell_type": "code",
   "execution_count": 2,
   "metadata": {},
   "outputs": [
    {
     "data": {
      "text/plain": [
       "<function psycopg2.connect(dsn=None, connection_factory=None, cursor_factory=None, **kwargs)>"
      ]
     },
     "execution_count": 2,
     "metadata": {},
     "output_type": "execute_result"
    }
   ],
   "source": [
    "pg.connect"
   ]
  },
  {
   "cell_type": "code",
   "execution_count": 3,
   "metadata": {},
   "outputs": [],
   "source": [
    "# Username and password to be set by user.\n",
    "dbname = \n",
    "user = \n",
    "password = \n",
    "host = \n",
    "conn = pg.connect(dbname=dbname, user=user, password=password, host=host)\n",
    "pg_cur = conn.cursor()"
   ]
  },
  {
   "cell_type": "code",
   "execution_count": 4,
   "metadata": {},
   "outputs": [],
   "source": [
    "titanic = pd.read_csv('titanic.csv')\n",
    "titanic.Name = titanic.Name.replace(\"'\", '', regex=True)\n",
    "titanic_list = titanic.values.tolist()"
   ]
  },
  {
   "cell_type": "code",
   "execution_count": 5,
   "metadata": {},
   "outputs": [],
   "source": [
    "# titanic.iloc[0].values"
   ]
  },
  {
   "cell_type": "code",
   "execution_count": 6,
   "metadata": {},
   "outputs": [],
   "source": [
    "# titanic.to_sql"
   ]
  },
  {
   "cell_type": "code",
   "execution_count": 7,
   "metadata": {},
   "outputs": [],
   "source": [
    "# Creating Titanic Table\n",
    "create_titanic_table = \"\"\"CREATE TABLE titanic (\n",
    "    Survived int,\n",
    "    Pclass int,\n",
    "    Name text,\n",
    "    Sex text,\n",
    "    Age numeric(4, 2),\n",
    "    Siblings_Spouses_Aboard int,\n",
    "    Parents_Children_Aboard int,\n",
    "    Fare numeric(7, 4)\n",
    ");\"\"\"\n",
    "\n",
    "\n",
    "pg_cur.execute(create_titanic_table)\n",
    "\n",
    "for item in titanic_list:\n",
    "#     string = str(result.values.tolist())[1:-1]\n",
    "    insert_item = \"\"\"INSERT INTO titanic\n",
    "    (Survived, Pclass, Name, Sex, Age, Siblings_Spouses_Aboard, Parents_Children_Aboard, Fare)\n",
    "    VALUES\"\"\" + str(tuple(item))\n",
    "    pg_cur.execute(insert_item)\n",
    "\n",
    "conn.commit()"
   ]
  },
  {
   "cell_type": "code",
   "execution_count": null,
   "metadata": {},
   "outputs": [],
   "source": [
    "# pg_cur.execute('SELECT * FROM titanic LIMIT 5;')\n",
    "# pg_cur.fetchall()\n",
    "# pg_conn.commit()"
   ]
  }
 ],
 "metadata": {
  "kernelspec": {
   "display_name": "Python 3",
   "language": "python",
   "name": "python3"
  },
  "language_info": {
   "codemirror_mode": {
    "name": "ipython",
    "version": 3
   },
   "file_extension": ".py",
   "mimetype": "text/x-python",
   "name": "python",
   "nbconvert_exporter": "python",
   "pygments_lexer": "ipython3",
   "version": "3.6.8"
  }
 },
 "nbformat": 4,
 "nbformat_minor": 2
}
