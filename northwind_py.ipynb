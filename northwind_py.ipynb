{
  "nbformat": 4,
  "nbformat_minor": 0,
  "metadata": {
    "colab": {
      "name": "northwind.py",
      "version": "0.3.2",
      "provenance": [],
      "include_colab_link": true
    },
    "kernelspec": {
      "name": "python3",
      "display_name": "Python 3"
    }
  },
  "cells": [
    {
      "cell_type": "markdown",
      "metadata": {
        "id": "view-in-github",
        "colab_type": "text"
      },
      "source": [
        "<a href=\"https://colab.research.google.com/github/Jaavion/DS-Unit-3-Sprint-2-SQL-and-Databases/blob/master/northwind_py.ipynb\" target=\"_parent\"><img src=\"https://colab.research.google.com/assets/colab-badge.svg\" alt=\"Open In Colab\"/></a>"
      ]
    },
    {
      "cell_type": "code",
      "metadata": {
        "id": "7SA-LQc_x-_g",
        "colab_type": "code",
        "colab": {}
      },
      "source": [
        "import sqlite3\n"
      ],
      "execution_count": 0,
      "outputs": []
    },
    {
      "cell_type": "code",
      "metadata": {
        "id": "QHAFA1xbxoog",
        "colab_type": "code",
        "colab": {}
      },
      "source": [
        "connection = sqlite3.connect(\"northwind_small.sqlite3\") \n"
      ],
      "execution_count": 0,
      "outputs": []
    },
    {
      "cell_type": "code",
      "metadata": {
        "id": "w8nf4vXOxz5Z",
        "colab_type": "code",
        "colab": {}
      },
      "source": [
        "crsr = connection.cursor() \n"
      ],
      "execution_count": 0,
      "outputs": []
    },
    {
      "cell_type": "code",
      "metadata": {
        "id": "Sl34PAPpx2AU",
        "colab_type": "code",
        "colab": {
          "base_uri": "https://localhost:8080/",
          "height": 34
        },
        "outputId": "b94fa3ad-7e90-4bca-de84-664cdac333ac"
      },
      "source": [
        "crsr.execute(\"SELECT UNITPRICE FROM Product LIMIT 10;\")"
      ],
      "execution_count": 4,
      "outputs": [
        {
          "output_type": "execute_result",
          "data": {
            "text/plain": [
              "<sqlite3.Cursor at 0x7fd8d1082960>"
            ]
          },
          "metadata": {
            "tags": []
          },
          "execution_count": 4
        }
      ]
    },
    {
      "cell_type": "code",
      "metadata": {
        "id": "f6X1OrE7x3u8",
        "colab_type": "code",
        "colab": {
          "base_uri": "https://localhost:8080/",
          "height": 187
        },
        "outputId": "f1cf5534-b6cc-4b7e-c7bf-45b77daac735"
      },
      "source": [
        "ans= crsr.fetchall()  \n",
        "for i in ans: \n",
        "    print(i) "
      ],
      "execution_count": 5,
      "outputs": [
        {
          "output_type": "stream",
          "text": [
            "(18,)\n",
            "(19,)\n",
            "(10,)\n",
            "(22,)\n",
            "(21.35,)\n",
            "(25,)\n",
            "(30,)\n",
            "(40,)\n",
            "(97,)\n",
            "(31,)\n"
          ],
          "name": "stdout"
        }
      ]
    },
    {
      "cell_type": "code",
      "metadata": {
        "id": "W4U3v_9Ux5Tv",
        "colab_type": "code",
        "colab": {
          "base_uri": "https://localhost:8080/",
          "height": 34
        },
        "outputId": "2b325c84-2c26-4dfe-b5d1-b69f4fa8e857"
      },
      "source": [
        "crsr.execute(\"select 2019 - AVG(BirthDate) from Employee \")"
      ],
      "execution_count": 6,
      "outputs": [
        {
          "output_type": "execute_result",
          "data": {
            "text/plain": [
              "<sqlite3.Cursor at 0x7fd8d1082960>"
            ]
          },
          "metadata": {
            "tags": []
          },
          "execution_count": 6
        }
      ]
    },
    {
      "cell_type": "code",
      "metadata": {
        "id": "humZ4ZK-x7iG",
        "colab_type": "code",
        "colab": {
          "base_uri": "https://localhost:8080/",
          "height": 34
        },
        "outputId": "43064c77-5bd3-4a00-ea65-ea76c47d088a"
      },
      "source": [
        "ans= crsr.fetchall()  \n",
        "for i in ans: \n",
        "    print(i) "
      ],
      "execution_count": 7,
      "outputs": [
        {
          "output_type": "stream",
          "text": [
            "(31.22222222222217,)\n"
          ],
          "name": "stdout"
        }
      ]
    },
    {
      "cell_type": "code",
      "metadata": {
        "id": "BwaU3r4AzHoB",
        "colab_type": "code",
        "colab": {
          "base_uri": "https://localhost:8080/",
          "height": 34
        },
        "outputId": "85360a3a-e070-4caf-9fd4-4f7aa329e223"
      },
      "source": [
        "crsr.execute(\"SELECT UNITPRICE, CompanyName FROM  Product LEFT JOIN Supplier ON PRODUCT.ID  = SUPPLIER.ID LIMIT 10\")\n"
      ],
      "execution_count": 8,
      "outputs": [
        {
          "output_type": "execute_result",
          "data": {
            "text/plain": [
              "<sqlite3.Cursor at 0x7fd8d1082960>"
            ]
          },
          "metadata": {
            "tags": []
          },
          "execution_count": 8
        }
      ]
    },
    {
      "cell_type": "code",
      "metadata": {
        "id": "YX13J7ggzPsn",
        "colab_type": "code",
        "colab": {
          "base_uri": "https://localhost:8080/",
          "height": 187
        },
        "outputId": "1a55027c-059d-498f-d2ef-8ea3e2b7b11a"
      },
      "source": [
        "ans= crsr.fetchall()  \n",
        "for i in ans: \n",
        "    print(i) "
      ],
      "execution_count": 9,
      "outputs": [
        {
          "output_type": "stream",
          "text": [
            "(18, 'Exotic Liquids')\n",
            "(19, 'New Orleans Cajun Delights')\n",
            "(10, \"Grandma Kelly's Homestead\")\n",
            "(22, 'Tokyo Traders')\n",
            "(21.35, \"Cooperativa de Quesos 'Las Cabras'\")\n",
            "(25, \"Mayumi's\")\n",
            "(30, 'Pavlova, Ltd.')\n",
            "(40, 'Specialty Biscuits, Ltd.')\n",
            "(97, 'PB Knäckebröd AB')\n",
            "(31, 'Refrescos Americanas LTDA')\n"
          ],
          "name": "stdout"
        }
      ]
    },
    {
      "cell_type": "code",
      "metadata": {
        "id": "4MV7bWAgzR_u",
        "colab_type": "code",
        "colab": {
          "base_uri": "https://localhost:8080/",
          "height": 34
        },
        "outputId": "6ffc0cf3-595c-41fe-afa6-6314fc561ab4"
      },
      "source": [
        "crsr.execute(' SELECT  CategoryName, ProductName, UNITPRICE AS  NUM3 FROM Category LEFT JOIN PRODUCT ON CATEGORY.Id = PRODUCT.CategoryId ORDER BY UnitPrice DESC')"
      ],
      "execution_count": 10,
      "outputs": [
        {
          "output_type": "execute_result",
          "data": {
            "text/plain": [
              "<sqlite3.Cursor at 0x7fd8d1082960>"
            ]
          },
          "metadata": {
            "tags": []
          },
          "execution_count": 10
        }
      ]
    },
    {
      "cell_type": "code",
      "metadata": {
        "id": "5YxOgdjv3669",
        "colab_type": "code",
        "colab": {
          "base_uri": "https://localhost:8080/",
          "height": 1326
        },
        "outputId": "92041654-c790-497b-8fb6-20869f23d3aa"
      },
      "source": [
        "ans= crsr.fetchall()  \n",
        "for i in ans: \n",
        "    print(i) "
      ],
      "execution_count": 11,
      "outputs": [
        {
          "output_type": "stream",
          "text": [
            "('Beverages', 'Côte de Blaye', 263.5)\n",
            "('Meat/Poultry', 'Thüringer Rostbratwurst', 123.79)\n",
            "('Meat/Poultry', 'Mishi Kobe Niku', 97)\n",
            "('Confections', \"Sir Rodney's Marmalade\", 81)\n",
            "('Seafood', 'Carnarvon Tigers', 62.5)\n",
            "('Dairy Products', 'Raclette Courdavault', 55)\n",
            "('Produce', 'Manjimup Dried Apples', 53)\n",
            "('Confections', 'Tarte au sucre', 49.3)\n",
            "('Beverages', 'Ipoh Coffee', 46)\n",
            "('Produce', 'Rössle Sauerkraut', 45.6)\n",
            "('Condiments', 'Vegie-spread', 43.9)\n",
            "('Confections', 'Schoggi Schokolade', 43.9)\n",
            "('Condiments', 'Northwoods Cranberry Sauce', 40)\n",
            "('Meat/Poultry', 'Alice Mutton', 39)\n",
            "('Dairy Products', 'Queso Manchego La Pastora', 38)\n",
            "('Grains/Cereals', 'Gnocchi di nonna Alice', 38)\n",
            "('Dairy Products', 'Gudbrandsdalsost', 36)\n",
            "('Dairy Products', 'Mozzarella di Giovanni', 34.8)\n",
            "('Dairy Products', 'Camembert Pierrot', 34)\n",
            "('Grains/Cereals', 'Wimmers gute Semmelknödel', 33.25)\n",
            "('Meat/Poultry', 'Perth Pasties', 32.8)\n",
            "('Dairy Products', 'Mascarpone Fabioli', 32)\n",
            "('Confections', 'Gumbär Gummibärchen', 31.23)\n",
            "('Seafood', 'Ikura', 31)\n",
            "('Produce', \"Uncle Bob's Organic Dried Pears\", 30)\n",
            "('Condiments', \"Sirop d'érable\", 28.5)\n",
            "('Seafood', 'Gravad lax', 26)\n",
            "('Seafood', 'Nord-Ost Matjeshering', 25.89)\n",
            "('Condiments', \"Grandma's Boysenberry Spread\", 25)\n",
            "('Meat/Poultry', 'Pâté chinois', 24)\n",
            "('Produce', 'Tofu', 23.25)\n",
            "('Condiments', \"Chef Anton's Cajun Seasoning\", 22)\n",
            "('Dairy Products', 'Flotemysost', 21.5)\n",
            "('Condiments', \"Chef Anton's Gumbo Mix\", 21.35)\n",
            "('Condiments', 'Louisiana Fiery Hot Pepper Sauce', 21.05)\n",
            "('Dairy Products', 'Queso Cabrales', 21)\n",
            "('Grains/Cereals', \"Gustaf's Knäckebröd\", 21)\n",
            "('Confections', 'Maxilaku', 20)\n",
            "('Grains/Cereals', 'Ravioli Angelo', 19.5)\n",
            "('Condiments', 'Gula Malacca', 19.45)\n",
            "('Beverages', 'Chang', 19)\n",
            "('Seafood', 'Inlagd Sill', 19)\n",
            "('Seafood', 'Boston Crab Meat', 18.4)\n",
            "('Beverages', 'Chai', 18)\n",
            "('Beverages', 'Chartreuse verte', 18)\n",
            "('Beverages', 'Lakkalikööri', 18)\n",
            "('Beverages', 'Steeleye Stout', 18)\n",
            "('Confections', 'Pavlova', 17.45)\n",
            "('Condiments', 'Louisiana Hot Spiced Okra', 17)\n",
            "('Confections', 'Valkoinen suklaa', 16.25)\n",
            "('Condiments', 'Genen Shouyu', 15.5)\n",
            "('Beverages', 'Outback Lager', 15)\n",
            "('Seafood', 'Röd Kaviar', 15)\n",
            "('Beverages', 'Laughing Lumberjack Lager', 14)\n",
            "('Beverages', 'Sasquatch Ale', 14)\n",
            "('Confections', 'NuNuCa Nuß-Nougat-Creme', 14)\n",
            "('Grains/Cereals', 'Singaporean Hokkien Fried Mee', 14)\n",
            "('Seafood', 'Escargots de Bourgogne', 13.25)\n",
            "('Condiments', 'Original Frankfurter grüne Soße', 13)\n",
            "('Confections', 'Chocolade', 12.75)\n",
            "('Confections', 'Scottish Longbreads', 12.5)\n",
            "('Dairy Products', 'Gorgonzola Telino', 12.5)\n",
            "('Seafood', 'Spegesild', 12)\n",
            "('Condiments', 'Aniseed Syrup', 10)\n",
            "('Confections', \"Sir Rodney's Scones\", 10)\n",
            "('Produce', 'Longlife Tofu', 10)\n",
            "('Seafood', \"Jack's New England Clam Chowder\", 9.65)\n",
            "('Confections', 'Zaanse koeken', 9.5)\n",
            "('Seafood', 'Rogede sild', 9.5)\n",
            "('Confections', 'Teatime Chocolate Biscuits', 9.2)\n",
            "('Grains/Cereals', 'Tunnbröd', 9)\n",
            "('Beverages', 'Rhönbräu Klosterbier', 7.75)\n",
            "('Meat/Poultry', 'Tourtière', 7.45)\n",
            "('Grains/Cereals', 'Filo Mix', 7)\n",
            "('Seafood', 'Konbu', 6)\n",
            "('Beverages', 'Guaraná Fantástica', 4.5)\n",
            "('Dairy Products', 'Geitost', 2.5)\n"
          ],
          "name": "stdout"
        }
      ]
    }
  ]
}