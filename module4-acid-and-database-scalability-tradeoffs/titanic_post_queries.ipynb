{
 "nbformat": 4,
 "nbformat_minor": 2,
 "metadata": {
  "language_info": {
   "name": "python",
   "codemirror_mode": {
    "name": "ipython",
    "version": 3
   }
  },
  "orig_nbformat": 2,
  "file_extension": ".py",
  "mimetype": "text/x-python",
  "name": "python",
  "npconvert_exporter": "python",
  "pygments_lexer": "ipython3",
  "version": 3
 },
 "cells": [
  {
   "cell_type": "code",
   "execution_count": 1,
   "metadata": {},
   "outputs": [],
   "source": [
    "import os\n",
    "import psycopg2"
   ]
  },
  {
   "cell_type": "code",
   "execution_count": 2,
   "metadata": {},
   "outputs": [],
   "source": [
    "conn = psycopg2.connect(dbname=os.getenv('TITANIC_USER_DB'),\n",
    "                        user=os.getenv('TITANIC_USER_DB'),\n",
    "                        password=os.getenv('TITANIC_PASS'),\n",
    "                        host=os.getenv('TITANIC_HOST'))\n",
    "curs = conn.cursor()"
   ]
  },
  {
   "cell_type": "markdown",
   "execution_count": null,
   "metadata": {},
   "outputs": [],
   "source": [
    "## How many passengers survived, and how many died?"
   ]
  },
  {
   "cell_type": "code",
   "execution_count": 3,
   "metadata": {},
   "outputs": [],
   "source": [
    "curs.execute('''SELECT COUNT(*)\n",
    "                FROM titanic\n",
    "                WHERE survived = 0;\n",
    "                ''')"
   ]
  },
  {
   "cell_type": "code",
   "execution_count": 4,
   "metadata": {},
   "outputs": [],
   "source": [
    "died = curs.fetchone()"
   ]
  },
  {
   "cell_type": "code",
   "execution_count": 5,
   "metadata": {},
   "outputs": [],
   "source": [
    "curs.execute('''SELECT COUNT(*)\n",
    "                FROM titanic\n",
    "                WHERE survived = 1;\n",
    "                ''')"
   ]
  },
  {
   "cell_type": "code",
   "execution_count": 6,
   "metadata": {},
   "outputs": [],
   "source": [
    "survived = curs.fetchone()"
   ]
  },
  {
   "cell_type": "code",
   "execution_count": 7,
   "metadata": {},
   "outputs": [
    {
     "name": "stdout",
     "output_type": "stream",
     "text": "Number of passengers who Survived: 342\nNumber of passengers who Died: 545\n"
    }
   ],
   "source": [
    "print(f'Number of passengers who Survived: {survived[0]}')\n",
    "print(f'Number of passengers who Died: {died[0]}')"
   ]
  },
  {
   "cell_type": "code",
   "execution_count": 8,
   "metadata": {},
   "outputs": [],
   "source": [
    "# Or more simply\n",
    "curs.execute('SELECT COUNT(*), survived FROM titanic GROUP BY survived')"
   ]
  },
  {
   "cell_type": "code",
   "execution_count": 9,
   "metadata": {},
   "outputs": [],
   "source": [
    "survivors = curs.fetchall()"
   ]
  },
  {
   "cell_type": "code",
   "execution_count": 10,
   "metadata": {},
   "outputs": [
    {
     "name": "stdout",
     "output_type": "stream",
     "text": "Number of passengers who Survived: 342\nNumber of passengers who Died: 545\n"
    }
   ],
   "source": [
    "print(f'Number of passengers who Survived: {survivors[1][0]}\\n'\n",
    "      f'Number of passengers who Died: {survivors[0][0]}')"
   ]
  },
  {
   "cell_type": "markdown",
   "execution_count": null,
   "metadata": {},
   "outputs": [],
   "source": [
    "## How many passengers were in each class?"
   ]
  },
  {
   "cell_type": "code",
   "execution_count": 11,
   "metadata": {},
   "outputs": [],
   "source": [
    "curs.execute('SELECT pclass, COUNT(*) FROM titanic \\\n",
    "              GROUP BY pclass \\\n",
    "              ORDER BY pclass;')"
   ]
  },
  {
   "cell_type": "code",
   "execution_count": 12,
   "metadata": {},
   "outputs": [],
   "source": [
    "pass_class = curs.fetchall()"
   ]
  },
  {
   "cell_type": "code",
   "execution_count": 13,
   "metadata": {},
   "outputs": [
    {
     "name": "stdout",
     "output_type": "stream",
     "text": "Class 1 had 216 passengers\nClass 2 had 184 passengers\nClass 3 had 487 passengers\n"
    }
   ],
   "source": [
    "for i in range(len(pass_class)):\n",
    "    print(f'Class {pass_class[i][0]} had {pass_class[i][1]} passengers')"
   ]
  },
  {
   "cell_type": "markdown",
   "execution_count": null,
   "metadata": {},
   "outputs": [],
   "source": [
    "## How many passengers within each class survived/died?"
   ]
  },
  {
   "cell_type": "code",
   "execution_count": 14,
   "metadata": {},
   "outputs": [],
   "source": [
    "curs.execute('SELECT pclass, COUNT(*) FROM titanic\\\n",
    "              WHERE survived = 0\\\n",
    "              GROUP BY pclass\\\n",
    "              ORDER BY pclass;')"
   ]
  },
  {
   "cell_type": "code",
   "execution_count": 15,
   "metadata": {},
   "outputs": [],
   "source": [
    "dead_class = curs.fetchall()"
   ]
  },
  {
   "cell_type": "code",
   "execution_count": 16,
   "metadata": {},
   "outputs": [
    {
     "name": "stdout",
     "output_type": "stream",
     "text": "Class 1 had 80 passengers who died\nClass 2 had 97 passengers who died\nClass 3 had 368 passengers who died\n"
    }
   ],
   "source": [
    "for i in range(len(dead_class)):\n",
    "    print(f'Class {dead_class[i][0]} had {dead_class[i][1]} passengers who died')"
   ]
  },
  {
   "cell_type": "code",
   "execution_count": 17,
   "metadata": {},
   "outputs": [],
   "source": [
    "curs.execute('SELECT pclass, COUNT(*) FROM titanic\\\n",
    "              WHERE survived = 1\\\n",
    "              GROUP BY pclass\\\n",
    "              ORDER BY pclass;')"
   ]
  },
  {
   "cell_type": "code",
   "execution_count": 18,
   "metadata": {},
   "outputs": [],
   "source": [
    "live_class = curs.fetchall()"
   ]
  },
  {
   "cell_type": "code",
   "execution_count": 19,
   "metadata": {},
   "outputs": [
    {
     "name": "stdout",
     "output_type": "stream",
     "text": "Class 1 had 136 passengers who lived\nClass 2 had 87 passengers who lived\nClass 3 had 119 passengers who lived\n"
    }
   ],
   "source": [
    "for i in range(len(live_class)):\n",
    "    print(f'Class {live_class[i][0]} had {live_class[i][1]} passengers who lived')"
   ]
  },
  {
   "cell_type": "code",
   "execution_count": 20,
   "metadata": {},
   "outputs": [],
   "source": [
    "# Or more simply\n",
    "curs.execute('SELECT  pclass, survived, COUNT(pclass)\\\n",
    "              FROM titanic\\\n",
    "              GROUP BY survived, pclass\\\n",
    "              ORDER BY pclass, survived DESC;')"
   ]
  },
  {
   "cell_type": "code",
   "execution_count": 21,
   "metadata": {},
   "outputs": [],
   "source": [
    "class_survive = curs.fetchall()"
   ]
  },
  {
   "cell_type": "code",
   "execution_count": 22,
   "metadata": {},
   "outputs": [
    {
     "name": "stdout",
     "output_type": "stream",
     "text": "Class 1 had 136 passengers who lived\nClass 1 had 80 passengers who died\nClass 2 had 87 passengers who lived\nClass 2 had 97 passengers who died\nClass 3 had 119 passengers who lived\nClass 3 had 368 passengers who died\n"
    }
   ],
   "source": [
    "for i in range(len(class_survive)):\n",
    "    if class_survive[i][1] == 1:\n",
    "        print(f'Class {class_survive[i][0]} had {class_survive[i][2]} passengers who lived')\n",
    "    elif class_survive[i][1] == 0:\n",
    "        print(f'Class {class_survive[i][0]} had {class_survive[i][2]} passengers who died')"
   ]
  },
  {
   "cell_type": "markdown",
   "execution_count": null,
   "metadata": {},
   "outputs": [],
   "source": [
    "## What was the average age of survivors vs nonsurvivors?"
   ]
  },
  {
   "cell_type": "code",
   "execution_count": 23,
   "metadata": {},
   "outputs": [],
   "source": [
    "curs.execute('SELECT survived, AVG(age) FROM titanic\\\n",
    "              GROUP BY survived;')"
   ]
  },
  {
   "cell_type": "code",
   "execution_count": 24,
   "metadata": {},
   "outputs": [],
   "source": [
    "avg_age = curs.fetchall()"
   ]
  },
  {
   "cell_type": "code",
   "execution_count": 25,
   "metadata": {},
   "outputs": [
    {
     "name": "stdout",
     "output_type": "stream",
     "text": "Average age of survivors was: 28.41 years old\nAverage age of non-survivors was: 30.14 years old\n"
    }
   ],
   "source": [
    "print(f'Average age of survivors was: {avg_age[1][1]:.02f} years old')\n",
    "print(f'Average age of non-survivors was: {avg_age[0][1]:.02f} years old')"
   ]
  },
  {
   "cell_type": "markdown",
   "execution_count": null,
   "metadata": {},
   "outputs": [],
   "source": [
    "## What was the average age of each passenger class?"
   ]
  },
  {
   "cell_type": "code",
   "execution_count": 26,
   "metadata": {},
   "outputs": [],
   "source": [
    "curs.execute('SELECT pclass, AVG(age) FROM titanic\\\n",
    "              GROUP BY pclass\\\n",
    "              ORDER BY pclass;')"
   ]
  },
  {
   "cell_type": "code",
   "execution_count": 27,
   "metadata": {},
   "outputs": [],
   "source": [
    "avg_age_class = curs.fetchall()"
   ]
  },
  {
   "cell_type": "code",
   "execution_count": 30,
   "metadata": {},
   "outputs": [
    {
     "name": "stdout",
     "output_type": "stream",
     "text": "Class 1 average age: 38.79\nClass 2 average age: 29.87\nClass 3 average age: 25.19\n"
    }
   ],
   "source": [
    "for i in range(len(avg_age_class)):\n",
    "    print(f'Class {i+1} average age: {avg_age_class[i][1]:.02f}')"
   ]
  },
  {
   "cell_type": "markdown",
   "execution_count": null,
   "metadata": {},
   "outputs": [],
   "source": [
    "## What was the average fare by passenger class? By survival?"
   ]
  },
  {
   "cell_type": "code",
   "execution_count": 31,
   "metadata": {},
   "outputs": [],
   "source": [
    "curs.execute('SELECT pclass, AVG(fare) FROM titanic\\\n",
    "              GROUP BY pclass\\\n",
    "              ORDER BY pclass;')"
   ]
  },
  {
   "cell_type": "code",
   "execution_count": 32,
   "metadata": {},
   "outputs": [],
   "source": [
    "avg_fare_class = curs.fetchall()"
   ]
  },
  {
   "cell_type": "code",
   "execution_count": 33,
   "metadata": {},
   "outputs": [
    {
     "name": "stdout",
     "output_type": "stream",
     "text": "Class 1 average fare: $84.15\nClass 2 average fare: $20.66\nClass 3 average fare: $13.71\n"
    }
   ],
   "source": [
    "for i in range(len(avg_fare_class)):\n",
    "    print(f'Class {i+1} average fare: ${avg_fare_class[i][1]:.02f}')"
   ]
  },
  {
   "cell_type": "code",
   "execution_count": 34,
   "metadata": {},
   "outputs": [],
   "source": [
    "curs.execute('SELECT survived, AVG(fare) FROM titanic\\\n",
    "              GROUP BY survived\\\n",
    "              ORDER BY survived;')"
   ]
  },
  {
   "cell_type": "code",
   "execution_count": 35,
   "metadata": {},
   "outputs": [],
   "source": [
    "avg_fare_survived = curs.fetchall()"
   ]
  },
  {
   "cell_type": "code",
   "execution_count": 38,
   "metadata": {},
   "outputs": [
    {
     "name": "stdout",
     "output_type": "stream",
     "text": "Survivor average fare: $48.40\nNon-Survivor average fare: $22.21\n"
    }
   ],
   "source": [
    "print(f'Survivor average fare: ${avg_fare_survived[1][1]:.02f}')\n",
    "print(f'Non-Survivor average fare: ${avg_fare_survived[0][1]:.02f}')"
   ]
  },
  {
   "cell_type": "markdown",
   "execution_count": null,
   "metadata": {},
   "outputs": [],
   "source": [
    "## How many siblings/spouses aboard on average by passenger class? By survival?"
   ]
  },
  {
   "cell_type": "code",
   "execution_count": 39,
   "metadata": {},
   "outputs": [],
   "source": [
    "curs.execute('SELECT pclass, AVG(siblings_spouses_aboard) FROM titanic\\\n",
    "              GROUP BY pclass\\\n",
    "              ORDER BY pclass;')"
   ]
  },
  {
   "cell_type": "code",
   "execution_count": 41,
   "metadata": {},
   "outputs": [],
   "source": [
    "sib_avg_class = curs.fetchall()"
   ]
  },
  {
   "cell_type": "code",
   "execution_count": 53,
   "metadata": {},
   "outputs": [
    {
     "name": "stdout",
     "output_type": "stream",
     "text": "Class 1 averaged 0.42 siblings or spouses aboard\nClass 2 averaged 0.40 siblings or spouses aboard\nClass 3 averaged 0.62 siblings or spouses aboard\n"
    }
   ],
   "source": [
    "for i in range(len(sib_avg_class)):\n",
    "    print(f'Class {sib_avg_class[i][0]} averaged {float(sib_avg_class[i][1]):.02f} siblings or spouses aboard')"
   ]
  },
  {
   "cell_type": "code",
   "execution_count": 51,
   "metadata": {},
   "outputs": [],
   "source": [
    "curs.execute('SELECT survived, AVG(siblings_spouses_aboard) FROM titanic\\\n",
    "              GROUP BY survived\\\n",
    "              ORDER BY survived;')"
   ]
  },
  {
   "cell_type": "code",
   "execution_count": 52,
   "metadata": {},
   "outputs": [],
   "source": [
    "sib_avg_surv = curs.fetchall()"
   ]
  },
  {
   "cell_type": "code",
   "execution_count": 54,
   "metadata": {},
   "outputs": [
    {
     "name": "stdout",
     "output_type": "stream",
     "text": "Survivors averaged 0.47 siblings or spouses aboard\nNon-Survivors averaged 0.56 siblings or spouses aboard\n"
    }
   ],
   "source": [
    "print(f'Survivors averaged {float(sib_avg_surv[1][1]):.02f} siblings or spouses aboard')\n",
    "print(f'Non-Survivors averaged {float(sib_avg_surv[0][1]):.02f} siblings or spouses aboard')"
   ]
  },
  {
   "cell_type": "markdown",
   "execution_count": null,
   "metadata": {},
   "outputs": [],
   "source": [
    "## How many parents/children aboard on average by passenger class? By survival?"
   ]
  },
  {
   "cell_type": "code",
   "execution_count": 55,
   "metadata": {},
   "outputs": [],
   "source": [
    "curs.execute('SELECT pclass, AVG(parents_children_aboard) FROM titanic\\\n",
    "              GROUP BY pclass\\\n",
    "              ORDER BY pclass;')"
   ]
  },
  {
   "cell_type": "code",
   "execution_count": 56,
   "metadata": {},
   "outputs": [],
   "source": [
    "par_avg_class = curs.fetchall()"
   ]
  },
  {
   "cell_type": "code",
   "execution_count": 57,
   "metadata": {},
   "outputs": [
    {
     "name": "stdout",
     "output_type": "stream",
     "text": "Class 1 averaged 0.36 parents or children aboard\nClass 2 averaged 0.38 parents or children aboard\nClass 3 averaged 0.40 parents or children aboard\n"
    }
   ],
   "source": [
    "for i in range(len(par_avg_class)):\n",
    "    print(f'Class {par_avg_class[i][0]} averaged {float(par_avg_class[i][1]):.02f} parents or children aboard')"
   ]
  },
  {
   "cell_type": "code",
   "execution_count": 58,
   "metadata": {},
   "outputs": [],
   "source": [
    "curs.execute('SELECT survived, AVG(parents_children_aboard) FROM titanic\\\n",
    "              GROUP BY survived\\\n",
    "              ORDER BY survived;')"
   ]
  },
  {
   "cell_type": "code",
   "execution_count": 59,
   "metadata": {},
   "outputs": [],
   "source": [
    "par_avg_surv = curs.fetchall()"
   ]
  },
  {
   "cell_type": "code",
   "execution_count": 60,
   "metadata": {},
   "outputs": [
    {
     "name": "stdout",
     "output_type": "stream",
     "text": "Survivors averaged 0.46 parents or children aboard\nNon-Survivors averaged 0.33 parents or children aboard\n"
    }
   ],
   "source": [
    "print(f'Survivors averaged {float(par_avg_surv[1][1]):.02f} parents or children aboard')\n",
    "print(f'Non-Survivors averaged {float(par_avg_surv[0][1]):.02f} parents or children aboard')"
   ]
  },
  {
   "cell_type": "markdown",
   "execution_count": null,
   "metadata": {},
   "outputs": [],
   "source": [
    "## Do any passengers have the same name?"
   ]
  },
  {
   "cell_type": "code",
   "execution_count": 3,
   "metadata": {},
   "outputs": [],
   "source": [
    "curs.execute('SELECT COUNT(DISTINCT name) FROM titanic;')\n",
    "distinct_names = curs.fetchall() "
   ]
  },
  {
   "cell_type": "code",
   "execution_count": 4,
   "metadata": {},
   "outputs": [],
   "source": [
    "curs.execute('SELECT COUNT(name) FROM titanic;')\n",
    "all_names = curs.fetchall()"
   ]
  },
  {
   "cell_type": "code",
   "execution_count": 6,
   "metadata": {},
   "outputs": [
    {
     "data": {
      "text/plain": "True"
     },
     "execution_count": 6,
     "metadata": {},
     "output_type": "execute_result"
    }
   ],
   "source": [
    "distinct_names == all_names"
   ]
  },
  {
   "cell_type": "markdown",
   "execution_count": null,
   "metadata": {},
   "outputs": [],
   "source": [
    "NO REPEATS of full names..."
   ]
  },
  {
   "cell_type": "code",
   "execution_count": null,
   "metadata": {},
   "outputs": [],
   "source": []
  }
 ]
}