{
 "cells": [
  {
   "cell_type": "code",
   "execution_count": 1,
   "metadata": {},
   "outputs": [
    {
     "name": "stdout",
     "output_type": "stream",
     "text": [
      "Requirement already satisfied: psycopg2-binary in ./anaconda3/lib/python3.7/site-packages (2.8.4)\n",
      "Note: you may need to restart the kernel to use updated packages.\n"
     ]
    }
   ],
   "source": [
    "pip install psycopg2-binary"
   ]
  },
  {
   "cell_type": "code",
   "execution_count": 2,
   "metadata": {},
   "outputs": [
    {
     "name": "stdout",
     "output_type": "stream",
     "text": [
      "Requirement already satisfied: pprint in ./anaconda3/lib/python3.7/site-packages (0.1)\n",
      "Note: you may need to restart the kernel to use updated packages.\n"
     ]
    }
   ],
   "source": [
    "pip install pprint"
   ]
  },
  {
   "cell_type": "code",
   "execution_count": 3,
   "metadata": {},
   "outputs": [],
   "source": [
    "import psycopg2\n",
    "import pprint"
   ]
  },
  {
   "cell_type": "code",
   "execution_count": 4,
   "metadata": {},
   "outputs": [],
   "source": [
    "dbname = 'hvvolzee'\n",
    "user = 'hvvolzee'\n",
    "password = 'dAKXw5LOi5bSb_IZtRP6yXMG0jddM_qD'  # Don't commit or share this for security purposes!\n",
    "host = 'rajje.db.elephantsql.com'  # Port should be included or default\n",
    "pg_conn = psycopg2.connect(dbname=dbname, user=user,\n",
    "                           password=password, host=host)\n",
    "#print(pg_conn)\n",
    "pg_curs = pg_conn.cursor()"
   ]
  },
  {
   "cell_type": "code",
   "execution_count": 5,
   "metadata": {},
   "outputs": [
    {
     "name": "stdout",
     "output_type": "stream",
     "text": [
      "   Survived  Pclass                                               Name  \\\n",
      "0         0       3                             Mr. Owen Harris Braund   \n",
      "1         1       1  Mrs. John Bradley (Florence Briggs Thayer) Cum...   \n",
      "2         1       3                              Miss. Laina Heikkinen   \n",
      "3         1       1        Mrs. Jacques Heath (Lily May Peel) Futrelle   \n",
      "4         0       3                            Mr. William Henry Allen   \n",
      "\n",
      "      Sex   Age  Siblings/Spouses Aboard  Parents/Children Aboard     Fare  \n",
      "0    male  22.0                        1                        0   7.2500  \n",
      "1  female  38.0                        1                        0  71.2833  \n",
      "2  female  26.0                        0                        0   7.9250  \n",
      "3  female  35.0                        1                        0  53.1000  \n",
      "4    male  35.0                        0                        0   8.0500  \n",
      "(887, 8)\n",
      "   Survived  Pclass                                               Name  \\\n",
      "0         0       3                             Mr. Owen Harris Braund   \n",
      "1         1       1  Mrs. John Bradley (Florence Briggs Thayer) Cum...   \n",
      "2         1       3                              Miss. Laina Heikkinen   \n",
      "3         1       1        Mrs. Jacques Heath (Lily May Peel) Futrelle   \n",
      "4         0       3                            Mr. William Henry Allen   \n",
      "\n",
      "      Sex   Age  Siblings/Spouses Aboard  Parents/Children Aboard     Fare  \n",
      "0    male  22.0                        1                        0   7.2500  \n",
      "1  female  38.0                        1                        0  71.2833  \n",
      "2  female  26.0                        0                        0   7.9250  \n",
      "3  female  35.0                        1                        0  53.1000  \n",
      "4    male  35.0                        0                        0   8.0500  \n"
     ]
    }
   ],
   "source": [
    "import sqlite3\n",
    "import pandas as pd\n",
    "\n",
    "df = pd.read_csv('/Users/julie/Desktop/repos/DS-Unit-3-Sprint-2-SQL-and-Databases/module2-sql-for-analysis/titanic.csv')\n",
    "print(df.head())\n",
    "print(df.shape)\n",
    "\n",
    "df['Name']= df['Name'].str.replace(\"'\",\"\")\n",
    "print(df.head())\n"
   ]
  },
  {
   "cell_type": "code",
   "execution_count": 6,
   "metadata": {},
   "outputs": [
    {
     "name": "stdout",
     "output_type": "stream",
     "text": [
      "[(0, 'index', 'INTEGER', 0, None, 0), (1, 'Survived', 'INTEGER', 0, None, 0), (2, 'Pclass', 'INTEGER', 0, None, 0), (3, 'Name', 'TEXT', 0, None, 0), (4, 'Sex', 'TEXT', 0, None, 0), (5, 'Age', 'REAL', 0, None, 0), (6, 'Siblings/Spouses Aboard', 'INTEGER', 0, None, 0), (7, 'Parents/Children Aboard', 'INTEGER', 0, None, 0), (8, 'Fare', 'REAL', 0, None, 0)]\n"
     ]
    },
    {
     "name": "stderr",
     "output_type": "stream",
     "text": [
      "/Users/julie/anaconda3/lib/python3.7/site-packages/pandas/core/generic.py:2712: UserWarning: The spaces in these column names will not be changed. In pandas versions < 0.14, spaces were converted to underscores.\n",
      "  method=method,\n"
     ]
    }
   ],
   "source": [
    "df_conn=sqlite3.connect('titanic.sqlite3')\n",
    "df_curs = df_conn.cursor()\n",
    "df.to_sql('titanic',df_conn,if_exists='replace')\n",
    "titanic=df_curs.execute('SELECT * FROM titanic').fetchall()\n",
    "print(df_curs.execute('PRAGMA table_info(titanic);').fetchall())"
   ]
  },
  {
   "cell_type": "code",
   "execution_count": 7,
   "metadata": {},
   "outputs": [
    {
     "data": {
      "text/plain": [
       "[('public',\n",
       "  'charactercreator_character',\n",
       "  'hvvolzee',\n",
       "  None,\n",
       "  True,\n",
       "  False,\n",
       "  False,\n",
       "  False),\n",
       " ('public', 'titanic', 'hvvolzee', None, False, False, False, False)]"
      ]
     },
     "execution_count": 7,
     "metadata": {},
     "output_type": "execute_result"
    }
   ],
   "source": [
    "create_titanic_table =\"\"\"\n",
    "CREATE TABLE IF NOT EXISTS Titanic(\n",
    "    index INT,\n",
    "    Survived INT,\n",
    "    Pclass INT,\n",
    "    Name TEXT,\n",
    "    Sex Text,\n",
    "    Age REAL,\n",
    "    Siblings_Spouses_Aboard INT,\n",
    "    Parents_Children_Aboard INT,\n",
    "    Fare REAL\n",
    "\n",
    ");\"\"\"\n",
    "\n",
    "pg_curs.execute(create_titanic_table)\n",
    "pg_conn.commit()\n",
    "show_tables = \"\"\"\n",
    "SELECT\n",
    "   *\n",
    "FROM\n",
    "   pg_catalog.pg_tables\n",
    "WHERE\n",
    "   schemaname != 'pg_catalog'\n",
    "AND schemaname != 'information_schema';\n",
    "\"\"\"\n",
    "pg_curs.execute(show_tables)\n",
    "pg_curs.fetchall()\n"
   ]
  },
  {
   "cell_type": "code",
   "execution_count": 8,
   "metadata": {},
   "outputs": [],
   "source": [
    "for x in titanic:\n",
    "  insert_x = \"\"\"\n",
    "    INSERT INTO Titanic\n",
    "    (Survived, Pclass, Name, Sex,Age, Siblings_Spouses_Aboard,  Parents_Children_Aboard, Fare)\n",
    "    VALUES \"\"\" + str(x[1:]) + \";\"\n",
    "  pg_curs.execute(insert_x)"
   ]
  },
  {
   "cell_type": "markdown",
   "metadata": {},
   "source": [
    "# What was the average age of each passenger class?"
   ]
  },
  {
   "cell_type": "code",
   "execution_count": 9,
   "metadata": {},
   "outputs": [],
   "source": [
    "pg_curs.execute('SELECT avg(age), pclass FROM Titanic WHERE survived = 1 GROUP BY pclass')\n",
    "rows = pg_curs.fetchall()"
   ]
  },
  {
   "cell_type": "code",
   "execution_count": 10,
   "metadata": {},
   "outputs": [
    {
     "name": "stdout",
     "output_type": "stream",
     "text": [
      "[(35.8601518988609, 1), (21.4764571427447, 3), (26.3006274508495, 2)]\n"
     ]
    }
   ],
   "source": [
    "pprint.pprint(rows)"
   ]
  },
  {
   "cell_type": "code",
   "execution_count": 11,
   "metadata": {},
   "outputs": [
    {
     "name": "stdout",
     "output_type": "stream",
     "text": [
      "avg age: 35.8601518988609 class: 1\n",
      "avg age: 21.4764571427447 class: 3\n",
      "avg age: 26.3006274508495 class: 2\n"
     ]
    }
   ],
   "source": [
    "for row in rows:  \n",
    "    print(\"avg age:\", row[0], \"class:\", row[1])"
   ]
  },
  {
   "cell_type": "markdown",
   "metadata": {},
   "source": [
    "# How many passengers survived, and how many died?"
   ]
  },
  {
   "cell_type": "code",
   "execution_count": 12,
   "metadata": {},
   "outputs": [
    {
     "name": "stdout",
     "output_type": "stream",
     "text": [
      "[(1595, 0), (1000, 1)]\n"
     ]
    }
   ],
   "source": [
    "pg_curs.execute('SELECT count(*),Survived FROM Titanic GROUP BY Survived')\n",
    "num = pg_curs.fetchall()\n",
    "pprint.pprint(num)"
   ]
  },
  {
   "cell_type": "code",
   "execution_count": 13,
   "metadata": {},
   "outputs": [
    {
     "name": "stdout",
     "output_type": "stream",
     "text": [
      "Total number of passengers survived : 1595\n",
      "Total number of passengers died : 1000\n"
     ]
    }
   ],
   "source": [
    "print(\"Total number of passengers survived :\", num[0][0])\n",
    "print(\"Total number of passengers died :\", num[1][0])"
   ]
  },
  {
   "cell_type": "markdown",
   "metadata": {},
   "source": [
    "# How many passengers were in each class?"
   ]
  },
  {
   "cell_type": "code",
   "execution_count": 14,
   "metadata": {},
   "outputs": [
    {
     "name": "stdout",
     "output_type": "stream",
     "text": [
      "[(633, 1), (1423, 3), (539, 2)]\n"
     ]
    }
   ],
   "source": [
    "pg_curs.execute('SELECT count(*),Pclass FROM Titanic GROUP BY Pclass')\n",
    "num1 = pg_curs.fetchall()\n",
    "pprint.pprint(num1)"
   ]
  },
  {
   "cell_type": "code",
   "execution_count": 15,
   "metadata": {},
   "outputs": [
    {
     "name": "stdout",
     "output_type": "stream",
     "text": [
      "Numbers of passengers: 633 class: 1\n",
      "Numbers of passengers: 1423 class: 3\n",
      "Numbers of passengers: 539 class: 2\n"
     ]
    }
   ],
   "source": [
    "for n in num1:  \n",
    "    print(\"Numbers of passengers:\", n[0], \"class:\", n[1])"
   ]
  },
  {
   "cell_type": "markdown",
   "metadata": {},
   "source": [
    "# How many passengers survived/died within each class?"
   ]
  },
  {
   "cell_type": "code",
   "execution_count": 16,
   "metadata": {},
   "outputs": [
    {
     "name": "stdout",
     "output_type": "stream",
     "text": [
      "[(1073, 0, 3), (238, 0, 1), (284, 0, 2), (350, 1, 3), (255, 1, 2), (395, 1, 1)]\n"
     ]
    }
   ],
   "source": [
    "pg_curs.execute('SELECT count(*),Survived,Pclass FROM Titanic GROUP BY Survived,Pclass')\n",
    "num2 = pg_curs.fetchall()\n",
    "pprint.pprint(num2)"
   ]
  },
  {
   "cell_type": "code",
   "execution_count": 17,
   "metadata": {},
   "outputs": [
    {
     "name": "stdout",
     "output_type": "stream",
     "text": [
      "Total number of passengers died in class 1: 238\n",
      "Total number of passengers died in class 2: 284\n",
      "Total number of passengers died in class 3: 1073\n",
      "Total number of passengers survived in class 1: 395\n",
      "Total number of passengers survived in class 2: 255\n",
      "Total number of passengers survived in class 3: 350\n"
     ]
    }
   ],
   "source": [
    "print(\"Total number of passengers died in class 1:\", num2[1][0])\n",
    "print(\"Total number of passengers died in class 2:\", num2[2][0])\n",
    "print(\"Total number of passengers died in class 3:\", num2[0][0])\n",
    "print(\"Total number of passengers survived in class 1:\", num2[5][0])\n",
    "print(\"Total number of passengers survived in class 2:\", num2[4][0])\n",
    "print(\"Total number of passengers survived in class 3:\", num2[3][0])"
   ]
  },
  {
   "cell_type": "markdown",
   "metadata": {},
   "source": [
    "# What was the average age of survivors vs nonsurvivors?"
   ]
  },
  {
   "cell_type": "code",
   "execution_count": 18,
   "metadata": {},
   "outputs": [
    {
     "name": "stdout",
     "output_type": "stream",
     "text": [
      "[(30.2188087774295, 0), (28.3881799999773, 1)]\n"
     ]
    }
   ],
   "source": [
    "pg_curs.execute('SELECT AVG(age),Survived FROM Titanic GROUP BY Survived')\n",
    "num3 = pg_curs.fetchall()\n",
    "pprint.pprint(num3)"
   ]
  },
  {
   "cell_type": "code",
   "execution_count": 19,
   "metadata": {},
   "outputs": [
    {
     "name": "stdout",
     "output_type": "stream",
     "text": [
      "Average age of passengers survived : 30.2188087774295\n",
      "Average age of passengers died : 28.3881799999773\n"
     ]
    }
   ],
   "source": [
    "print(\"Average age of passengers survived :\", num3[0][0])\n",
    "print(\"Average age of passengers died :\", num3[1][0])"
   ]
  },
  {
   "cell_type": "markdown",
   "metadata": {},
   "source": [
    "# What was the average fare by passenger class? By survival?"
   ]
  },
  {
   "cell_type": "code",
   "execution_count": 20,
   "metadata": {},
   "outputs": [
    {
     "name": "stdout",
     "output_type": "stream",
     "text": [
      "[(13.6470823119093, 0, 3),\n",
      " (64.9943947912264, 0, 1),\n",
      " (19.4770683302006, 0, 2),\n",
      " (13.6097377967834, 1, 3),\n",
      " (22.0546086666631, 1, 2),\n",
      " (96.8168477263632, 1, 1)]\n"
     ]
    }
   ],
   "source": [
    "pg_curs.execute('SELECT avg(Fare),Survived,Pclass FROM Titanic GROUP BY Survived,Pclass')\n",
    "num4 = pg_curs.fetchall()\n",
    "pprint.pprint(num4)"
   ]
  },
  {
   "cell_type": "code",
   "execution_count": 21,
   "metadata": {},
   "outputs": [
    {
     "name": "stdout",
     "output_type": "stream",
     "text": [
      "Average fare of passengers survived in class 1 : 96.8168477263632\n",
      "Average fare of passengers survived in class 2 : 22.0546086666631\n",
      "Average fare of passengers survived in class 3 : 13.6097377967834\n",
      "Average fare of passengers died in class 1 : 64.9943947912264\n",
      "Average fare of passengers died in class 2 : 19.4770683302006\n",
      "Average fare of passengers died in class 3 : 13.6470823119093\n"
     ]
    }
   ],
   "source": [
    "print(\"Average fare of passengers survived in class 1 :\", num4[5][0])\n",
    "print(\"Average fare of passengers survived in class 2 :\", num4[4][0])\n",
    "print(\"Average fare of passengers survived in class 3 :\", num4[3][0])\n",
    "print(\"Average fare of passengers died in class 1 :\", num4[1][0])\n",
    "print(\"Average fare of passengers died in class 2 :\", num4[2][0])\n",
    "print(\"Average fare of passengers died in class 3 :\", num4[0][0])"
   ]
  },
  {
   "cell_type": "markdown",
   "metadata": {},
   "source": [
    "# How many siblings/spouses aboard on average, by passenger class? By survival?"
   ]
  },
  {
   "cell_type": "code",
   "execution_count": 22,
   "metadata": {},
   "outputs": [
    {
     "name": "stdout",
     "output_type": "stream",
     "text": [
      "[(Decimal('0.67660764212488350419'), 0, 3),\n",
      " (Decimal('0.28991596638655462185'), 0, 1),\n",
      " (Decimal('0.32042253521126760563'), 0, 2),\n",
      " (Decimal('0.44000000000000000000'), 1, 3),\n",
      " (Decimal('0.49411764705882352941'), 1, 2),\n",
      " (Decimal('0.49873417721518987342'), 1, 1)]\n"
     ]
    }
   ],
   "source": [
    "pg_curs.execute('SELECT avg(Siblings_Spouses_Aboard),Survived,Pclass FROM Titanic GROUP BY Survived,Pclass')\n",
    "num5 = pg_curs.fetchall()\n",
    "pprint.pprint(num5)"
   ]
  },
  {
   "cell_type": "code",
   "execution_count": 23,
   "metadata": {},
   "outputs": [
    {
     "name": "stdout",
     "output_type": "stream",
     "text": [
      "Average Siblings_Spouses_Aboard survived in class 1 : 0.49873417721518987342\n",
      "Average Siblings_Spouses_Aboard survived in class 2 : 0.49411764705882352941\n",
      "Average Siblings_Spouses_Aboard survived in class 3 : 0.44000000000000000000\n",
      "Average Siblings_Spouses_Aboard died in class 1 : 0.28991596638655462185\n",
      "Average Siblings_Spouses_Aboard died in class 2 : 0.32042253521126760563\n",
      "Average Siblings_Spouses_Aboard died in class 3 : 0.67660764212488350419\n"
     ]
    }
   ],
   "source": [
    "print(\"Average Siblings_Spouses_Aboard survived in class 1 :\", num5[5][0])\n",
    "print(\"Average Siblings_Spouses_Aboard survived in class 2 :\", num5[4][0])\n",
    "print(\"Average Siblings_Spouses_Aboard survived in class 3 :\", num5[3][0])\n",
    "print(\"Average Siblings_Spouses_Aboard died in class 1 :\", num5[1][0])\n",
    "print(\"Average Siblings_Spouses_Aboard died in class 2 :\", num5[2][0])\n",
    "print(\"Average Siblings_Spouses_Aboard died in class 3 :\", num5[0][0])"
   ]
  },
  {
   "cell_type": "markdown",
   "metadata": {},
   "source": [
    "# How many parents/children aboard on average, by passenger class? By survival?"
   ]
  },
  {
   "cell_type": "code",
   "execution_count": 24,
   "metadata": {},
   "outputs": [
    {
     "name": "stdout",
     "output_type": "stream",
     "text": [
      "[(Decimal('0.38676607642124883504'), 0, 3),\n",
      " (Decimal('0.30252100840336134454'), 0, 1),\n",
      " (Decimal('0.14436619718309859155'), 0, 2),\n",
      " (Decimal('0.41428571428571428571'), 1, 3),\n",
      " (Decimal('0.64313725490196078431'), 1, 2),\n",
      " (Decimal('0.38987341772151898734'), 1, 1)]\n"
     ]
    }
   ],
   "source": [
    "pg_curs.execute('SELECT avg(Parents_Children_Aboard),Survived,Pclass FROM Titanic GROUP BY Survived,Pclass')\n",
    "num6 = pg_curs.fetchall()\n",
    "pprint.pprint(num6)"
   ]
  },
  {
   "cell_type": "code",
   "execution_count": 25,
   "metadata": {},
   "outputs": [
    {
     "name": "stdout",
     "output_type": "stream",
     "text": [
      "Average Parents_Children_Aboard survived in class 1 : 0.49873417721518987342\n",
      "Average Parents_Children_Aboard survived in class 2 : 0.49411764705882352941\n",
      "Average Parents_Children_Aboard survived in class 3 : 0.44000000000000000000\n",
      "Average Parents_Children_Aboard died in class 1 : 0.28991596638655462185\n",
      "Average Parents_Children_Aboard died in class 2 : 0.32042253521126760563\n",
      "Average Parents_Children_Aboard died in class 3 : 0.67660764212488350419\n"
     ]
    }
   ],
   "source": [
    "print(\"Average Parents_Children_Aboard survived in class 1 :\", num5[5][0])\n",
    "print(\"Average Parents_Children_Aboard survived in class 2 :\", num5[4][0])\n",
    "print(\"Average Parents_Children_Aboard survived in class 3 :\", num5[3][0])\n",
    "print(\"Average Parents_Children_Aboard died in class 1 :\", num5[1][0])\n",
    "print(\"Average Parents_Children_Aboard died in class 2 :\", num5[2][0])\n",
    "print(\"Average Parents_Children_Aboard died in class 3 :\", num5[0][0])"
   ]
  },
  {
   "cell_type": "markdown",
   "metadata": {},
   "source": [
    "# Do any passengers have the same name?"
   ]
  },
  {
   "cell_type": "code",
   "execution_count": 26,
   "metadata": {},
   "outputs": [
    {
     "name": "stdout",
     "output_type": "stream",
     "text": [
      "[(887,)]\n"
     ]
    }
   ],
   "source": [
    "pg_curs.execute('SELECT count(*) FROM (SELECT count(*) FROM Titanic GROUP BY Name having count(*) > 1) s')\n",
    "num7 = pg_curs.fetchall()\n",
    "pprint.pprint(num7)"
   ]
  },
  {
   "cell_type": "code",
   "execution_count": 30,
   "metadata": {},
   "outputs": [
    {
     "name": "stdout",
     "output_type": "stream",
     "text": [
      "There are 887 name used more than once.\n"
     ]
    }
   ],
   "source": [
    "print(\"There are\", num7[0][0],\"name used more than once.\")"
   ]
  }
 ],
 "metadata": {
  "kernelspec": {
   "display_name": "Python 3",
   "language": "python",
   "name": "python3"
  },
  "language_info": {
   "codemirror_mode": {
    "name": "ipython",
    "version": 3
   },
   "file_extension": ".py",
   "mimetype": "text/x-python",
   "name": "python",
   "nbconvert_exporter": "python",
   "pygments_lexer": "ipython3",
   "version": "3.7.4"
  }
 },
 "nbformat": 4,
 "nbformat_minor": 2
}
