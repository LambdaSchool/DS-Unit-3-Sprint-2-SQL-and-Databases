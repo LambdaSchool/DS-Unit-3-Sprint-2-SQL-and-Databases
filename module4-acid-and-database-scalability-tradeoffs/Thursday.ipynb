{
 "cells": [
  {
   "cell_type": "code",
   "execution_count": 32,
   "metadata": {},
   "outputs": [],
   "source": [
    "import sqlite3"
   ]
  },
  {
   "cell_type": "code",
   "execution_count": 33,
   "metadata": {},
   "outputs": [],
   "source": [
    "conn = sqlite3.connect('Thursday.sqlite')"
   ]
  },
  {
   "cell_type": "code",
   "execution_count": 34,
   "metadata": {},
   "outputs": [],
   "source": [
    "cur = conn.cursor()"
   ]
  },
  {
   "cell_type": "code",
   "execution_count": 22,
   "metadata": {},
   "outputs": [],
   "source": [
    "# conn.rollback()"
   ]
  },
  {
   "cell_type": "code",
   "execution_count": 35,
   "metadata": {},
   "outputs": [
    {
     "data": {
      "text/plain": [
       "<sqlite3.Cursor at 0x107b572d0>"
      ]
     },
     "execution_count": 35,
     "metadata": {},
     "output_type": "execute_result"
    }
   ],
   "source": [
    "cur.execute(\"\"\"\n",
    "    create table thursday (id int primary key not null, \n",
    "    name text not null,\n",
    "    age int not null,\n",
    "    address char(50) not null,\n",
    "    marks int not null)\n",
    "\"\"\")"
   ]
  },
  {
   "cell_type": "code",
   "execution_count": 36,
   "metadata": {},
   "outputs": [],
   "source": [
    "cur.execute(\"\"\"\n",
    "    insert into thursday (id, name, age, address, marks) \\\n",
    "    values (2,'Allen',14, 'Bangalore', 150) \n",
    "\"\"\")\n",
    "cur.execute(\"\"\"\n",
    "    insert into thursday (id, name, age, address, marks) \\\n",
    "    values (1,'Dude',12, 'Denver', 140) \n",
    "\"\"\")\n",
    "cur.execute(\"\"\"\n",
    "    insert into thursday (id, name, age, address, marks) \\\n",
    "    values (3,'Dwight',16, 'Boston', 179) \n",
    "\"\"\")\n",
    "cur.execute(\"\"\"\n",
    "    insert into thursday (id, name, age, address, marks) \\\n",
    "    values (4,'David',17, 'New York City', 153) \n",
    "\"\"\")\n",
    "cur.execute(\"\"\"\n",
    "    insert into thursday (id, name, age, address, marks) \\\n",
    "    values (5,'Dwight', 12, 'Manchester', 145) \n",
    "\"\"\")\n",
    "conn.commit()"
   ]
  },
  {
   "cell_type": "code",
   "execution_count": 44,
   "metadata": {},
   "outputs": [
    {
     "name": "stdout",
     "output_type": "stream",
     "text": [
      "ID = 2\n",
      "Name = Allen\n",
      "Age = 14\n",
      "Address = Bangalore\n",
      "Marks = 150 \n",
      "\n",
      "ID = 1\n",
      "Name = Dude\n",
      "Age = 12\n",
      "Address = Denver\n",
      "Marks = 140 \n",
      "\n",
      "ID = 3\n",
      "Name = Dwight\n",
      "Age = 16\n",
      "Address = Boston\n",
      "Marks = 179 \n",
      "\n",
      "ID = 4\n",
      "Name = David\n",
      "Age = 17\n",
      "Address = New York City\n",
      "Marks = 153 \n",
      "\n",
      "ID = 5\n",
      "Name = Dwight\n",
      "Age = 12\n",
      "Address = Manchester\n",
      "Marks = 145 \n",
      "\n"
     ]
    }
   ],
   "source": [
    "for row in cur.execute(\"\"\"\n",
    "    SELECT id, name, age, address, marks\n",
    "    FROM thursday \n",
    "    \"\"\"):\n",
    "    print(f\"ID = {row[0]}\")\n",
    "    print(f\"Name = {row[1]}\")\n",
    "    print(f\"Age = {row[2]}\")\n",
    "    print(f\"Address = {row[3]}\")\n",
    "    print(f\"Marks = {row[4]} \\n\")\n",
    "conn.commit()"
   ]
  },
  {
   "cell_type": "code",
   "execution_count": null,
   "metadata": {},
   "outputs": [],
   "source": []
  }
 ],
 "metadata": {
  "kernelspec": {
   "display_name": "Python 3",
   "language": "python",
   "name": "python3"
  },
  "language_info": {
   "codemirror_mode": {
    "name": "ipython",
    "version": 3
   },
   "file_extension": ".py",
   "mimetype": "text/x-python",
   "name": "python",
   "nbconvert_exporter": "python",
   "pygments_lexer": "ipython3",
   "version": "3.7.3"
  }
 },
 "nbformat": 4,
 "nbformat_minor": 2
}
