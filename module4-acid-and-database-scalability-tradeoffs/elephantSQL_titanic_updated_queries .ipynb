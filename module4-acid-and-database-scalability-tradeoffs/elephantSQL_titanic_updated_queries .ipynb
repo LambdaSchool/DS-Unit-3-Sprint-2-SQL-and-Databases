{
 "cells": [
  {
   "cell_type": "code",
   "execution_count": 117,
   "metadata": {},
   "outputs": [],
   "source": [
    "import sqlite3 \n",
    "import psycopg2\n",
    "import pandas as pd\n",
    "\n",
    "\n",
    "\n",
    "dbname= 'ucykrkjj'\n",
    "user = 'ucykrkjj'\n",
    "password = 'qub1iGp24Aci4scgOyy7KUaYe6XVocke'\n",
    "host = 'raja.db.elephantsql.com'"
   ]
  },
  {
   "cell_type": "code",
   "execution_count": 118,
   "metadata": {},
   "outputs": [],
   "source": [
    "#establishing a connection and creating cursory object psycopg2\n",
    "pg_conn = psycopg2.connect(dbname=dbname, user=user,\n",
    "                           password=password, host=host)\n",
    "pg_curs = pg_conn.cursor()"
   ]
  },
  {
   "cell_type": "code",
   "execution_count": 119,
   "metadata": {},
   "outputs": [
    {
     "data": {
      "text/html": [
       "<div>\n",
       "<style scoped>\n",
       "    .dataframe tbody tr th:only-of-type {\n",
       "        vertical-align: middle;\n",
       "    }\n",
       "\n",
       "    .dataframe tbody tr th {\n",
       "        vertical-align: top;\n",
       "    }\n",
       "\n",
       "    .dataframe thead th {\n",
       "        text-align: right;\n",
       "    }\n",
       "</style>\n",
       "<table border=\"1\" class=\"dataframe\">\n",
       "  <thead>\n",
       "    <tr style=\"text-align: right;\">\n",
       "      <th></th>\n",
       "      <th>Survived</th>\n",
       "      <th>Pclass</th>\n",
       "      <th>Name</th>\n",
       "      <th>Sex</th>\n",
       "      <th>Age</th>\n",
       "      <th>Siblings/Spouses Aboard</th>\n",
       "      <th>Parents/Children Aboard</th>\n",
       "      <th>Fare</th>\n",
       "    </tr>\n",
       "  </thead>\n",
       "  <tbody>\n",
       "    <tr>\n",
       "      <th>28</th>\n",
       "      <td>1</td>\n",
       "      <td>3</td>\n",
       "      <td>Miss. Ellen O'Dwyer</td>\n",
       "      <td>female</td>\n",
       "      <td>24.0</td>\n",
       "      <td>0</td>\n",
       "      <td>0</td>\n",
       "      <td>7.8792</td>\n",
       "    </tr>\n",
       "    <tr>\n",
       "      <th>46</th>\n",
       "      <td>1</td>\n",
       "      <td>3</td>\n",
       "      <td>Miss. Bridget O'Driscoll</td>\n",
       "      <td>female</td>\n",
       "      <td>27.0</td>\n",
       "      <td>0</td>\n",
       "      <td>0</td>\n",
       "      <td>7.7500</td>\n",
       "    </tr>\n",
       "    <tr>\n",
       "      <th>185</th>\n",
       "      <td>1</td>\n",
       "      <td>3</td>\n",
       "      <td>Mrs. Thomas (Johanna Godfrey) O'Brien</td>\n",
       "      <td>female</td>\n",
       "      <td>26.0</td>\n",
       "      <td>1</td>\n",
       "      <td>0</td>\n",
       "      <td>15.5000</td>\n",
       "    </tr>\n",
       "    <tr>\n",
       "      <th>362</th>\n",
       "      <td>0</td>\n",
       "      <td>3</td>\n",
       "      <td>Mr. Thomas O'Brien</td>\n",
       "      <td>male</td>\n",
       "      <td>27.0</td>\n",
       "      <td>1</td>\n",
       "      <td>0</td>\n",
       "      <td>15.5000</td>\n",
       "    </tr>\n",
       "    <tr>\n",
       "      <th>456</th>\n",
       "      <td>0</td>\n",
       "      <td>3</td>\n",
       "      <td>Mr. Maurice O'Connor</td>\n",
       "      <td>male</td>\n",
       "      <td>17.0</td>\n",
       "      <td>0</td>\n",
       "      <td>0</td>\n",
       "      <td>7.7500</td>\n",
       "    </tr>\n",
       "    <tr>\n",
       "      <th>499</th>\n",
       "      <td>0</td>\n",
       "      <td>3</td>\n",
       "      <td>Miss. Bridget Mary O'Sullivan</td>\n",
       "      <td>female</td>\n",
       "      <td>21.0</td>\n",
       "      <td>0</td>\n",
       "      <td>0</td>\n",
       "      <td>7.6292</td>\n",
       "    </tr>\n",
       "    <tr>\n",
       "      <th>549</th>\n",
       "      <td>0</td>\n",
       "      <td>3</td>\n",
       "      <td>Mr. Timothy O'Brien</td>\n",
       "      <td>male</td>\n",
       "      <td>21.0</td>\n",
       "      <td>0</td>\n",
       "      <td>0</td>\n",
       "      <td>7.8292</td>\n",
       "    </tr>\n",
       "    <tr>\n",
       "      <th>626</th>\n",
       "      <td>0</td>\n",
       "      <td>3</td>\n",
       "      <td>Mr. Patrick D O'Connell</td>\n",
       "      <td>male</td>\n",
       "      <td>18.0</td>\n",
       "      <td>0</td>\n",
       "      <td>0</td>\n",
       "      <td>7.7333</td>\n",
       "    </tr>\n",
       "    <tr>\n",
       "      <th>650</th>\n",
       "      <td>1</td>\n",
       "      <td>3</td>\n",
       "      <td>Miss. Hanora O'Leary</td>\n",
       "      <td>female</td>\n",
       "      <td>16.0</td>\n",
       "      <td>0</td>\n",
       "      <td>0</td>\n",
       "      <td>7.8292</td>\n",
       "    </tr>\n",
       "  </tbody>\n",
       "</table>\n",
       "</div>"
      ],
      "text/plain": [
       "     Survived  Pclass                                   Name     Sex   Age  \\\n",
       "28          1       3                    Miss. Ellen O'Dwyer  female  24.0   \n",
       "46          1       3               Miss. Bridget O'Driscoll  female  27.0   \n",
       "185         1       3  Mrs. Thomas (Johanna Godfrey) O'Brien  female  26.0   \n",
       "362         0       3                     Mr. Thomas O'Brien    male  27.0   \n",
       "456         0       3                   Mr. Maurice O'Connor    male  17.0   \n",
       "499         0       3          Miss. Bridget Mary O'Sullivan  female  21.0   \n",
       "549         0       3                    Mr. Timothy O'Brien    male  21.0   \n",
       "626         0       3                Mr. Patrick D O'Connell    male  18.0   \n",
       "650         1       3                   Miss. Hanora O'Leary  female  16.0   \n",
       "\n",
       "     Siblings/Spouses Aboard  Parents/Children Aboard     Fare  \n",
       "28                         0                        0   7.8792  \n",
       "46                         0                        0   7.7500  \n",
       "185                        1                        0  15.5000  \n",
       "362                        1                        0  15.5000  \n",
       "456                        0                        0   7.7500  \n",
       "499                        0                        0   7.6292  \n",
       "549                        0                        0   7.8292  \n",
       "626                        0                        0   7.7333  \n",
       "650                        0                        0   7.8292  "
      ]
     },
     "execution_count": 119,
     "metadata": {},
     "output_type": "execute_result"
    }
   ],
   "source": [
    "df = pd.read_csv('repos/tomfox1/SQL/module2-sql-for-analysis/titanic.csv')\n",
    "df[df['Name'].str.contains('\\'')]"
   ]
  },
  {
   "cell_type": "code",
   "execution_count": 120,
   "metadata": {},
   "outputs": [
    {
     "data": {
      "text/html": [
       "<div>\n",
       "<style scoped>\n",
       "    .dataframe tbody tr th:only-of-type {\n",
       "        vertical-align: middle;\n",
       "    }\n",
       "\n",
       "    .dataframe tbody tr th {\n",
       "        vertical-align: top;\n",
       "    }\n",
       "\n",
       "    .dataframe thead th {\n",
       "        text-align: right;\n",
       "    }\n",
       "</style>\n",
       "<table border=\"1\" class=\"dataframe\">\n",
       "  <thead>\n",
       "    <tr style=\"text-align: right;\">\n",
       "      <th></th>\n",
       "      <th>Survived</th>\n",
       "      <th>Pclass</th>\n",
       "      <th>Name</th>\n",
       "      <th>Sex</th>\n",
       "      <th>Age</th>\n",
       "      <th>Siblings/Spouses Aboard</th>\n",
       "      <th>Parents/Children Aboard</th>\n",
       "      <th>Fare</th>\n",
       "    </tr>\n",
       "  </thead>\n",
       "  <tbody>\n",
       "  </tbody>\n",
       "</table>\n",
       "</div>"
      ],
      "text/plain": [
       "Empty DataFrame\n",
       "Columns: [Survived, Pclass, Name, Sex, Age, Siblings/Spouses Aboard, Parents/Children Aboard, Fare]\n",
       "Index: []"
      ]
     },
     "execution_count": 120,
     "metadata": {},
     "output_type": "execute_result"
    }
   ],
   "source": [
    "df['Name']=df['Name'].str.replace('\\'','')\n",
    "df[df['Name'].str.contains('\\'')]"
   ]
  },
  {
   "cell_type": "code",
   "execution_count": 121,
   "metadata": {},
   "outputs": [],
   "source": [
    "#I was having problems with SQL, since the code would not run since some passengers had double quotes \n",
    "\n",
    "#Dakota's way by converting directly to list:\n",
    "\n",
    "#df = pd.read_csv('repos/tomfox1/SQL/module2-sql-for-analysis/titanic.csv')\n",
    "#df[\"Name\"] = titanic[\"Name\"].replace(\"'\", '', regex=True)\n",
    "#df = titanic.values.tolist()"
   ]
  },
  {
   "cell_type": "code",
   "execution_count": 122,
   "metadata": {},
   "outputs": [],
   "source": [
    "#using sqlalchemy to create our cursory object (engine)\n",
    "from sqlalchemy import create_engine\n",
    "engine = create_engine('sqlite://', echo=False)"
   ]
  },
  {
   "cell_type": "code",
   "execution_count": 123,
   "metadata": {},
   "outputs": [],
   "source": [
    "df.to_sql(name='titanic', con=engine)"
   ]
  },
  {
   "cell_type": "code",
   "execution_count": 124,
   "metadata": {},
   "outputs": [],
   "source": [
    "#engine here is equivalent to our cursory object when using sqlite3\n",
    "passengers = engine.execute('SELECT * FROM titanic').fetchall()"
   ]
  },
  {
   "cell_type": "code",
   "execution_count": 125,
   "metadata": {},
   "outputs": [],
   "source": [
    "create_t = \"\"\"\n",
    "CREATE TABLE titanic (\n",
    "        passenger_id SERIAL PRIMARY KEY,\n",
    "        Survived INT,\n",
    "        Pclass INT,\n",
    "        Name VARCHAR(100) NOT NULL, \n",
    "        Sex VARCHAR(50) NOT NULL,\n",
    "        Age INT, \n",
    "        Sibling_spouse INT, \n",
    "        Parents_children INT,\n",
    "        Fare INT\n",
    ");\n",
    "\"\"\""
   ]
  },
  {
   "cell_type": "code",
   "execution_count": 101,
   "metadata": {},
   "outputs": [],
   "source": [
    "#creating our titanic table onto elephantSQL\n",
    "pg_curs.execute(create_t)"
   ]
  },
  {
   "cell_type": "code",
   "execution_count": 102,
   "metadata": {},
   "outputs": [],
   "source": [
    "#victory, checking by running our browser on ElephantSQL\n",
    "for passenger in passengers:\n",
    "    insert_passenger = \"\"\"\n",
    "        INSERT INTO titanic\n",
    "        VALUES\"\"\" + str(passenger)\n",
    "    pg_curs.execute(insert_passenger)"
   ]
  },
  {
   "cell_type": "code",
   "execution_count": 126,
   "metadata": {},
   "outputs": [],
   "source": [
    "pg_conn.commit()"
   ]
  },
  {
   "cell_type": "code",
   "execution_count": 127,
   "metadata": {},
   "outputs": [],
   "source": [
    "query = 'SELECT fare FROM \"public\".\"titanic\" LIMIT 10;'\n",
    "pg_curs.execute(query) "
   ]
  },
  {
   "cell_type": "code",
   "execution_count": 128,
   "metadata": {},
   "outputs": [
    {
     "data": {
      "text/plain": [
       "[(7,), (71,), (8,), (53,), (8,), (8,), (52,), (21,), (11,), (30,)]"
      ]
     },
     "execution_count": 128,
     "metadata": {},
     "output_type": "execute_result"
    }
   ],
   "source": [
    "pg_curs.fetchall()"
   ]
  },
  {
   "cell_type": "code",
   "execution_count": null,
   "metadata": {},
   "outputs": [],
   "source": [
    "SELECT COUNT(survived) FROM \"public\".\"tit\"\n",
    "WHERE \"survived\" = 1\n",
    "\n",
    "SELECT COUNT(survived) FROM \"public\".\"tit\"\n",
    "WHERE \"survived\" = 0\n",
    "\n",
    "SELECT  pclass, COUNT(passenger_id)\n",
    "FROM public.tit\n",
    "GROUP BY pclass;\n",
    "\n",
    "SELECT pclass, COUNT(survived) FROM \"public\".\"tit\"\n",
    "WHERE survived=1\n",
    "GROUP BY pclass\n",
    "\n",
    "SELECT survived, AVG(age) FROM public.tit\n",
    "GROUP BY survived\n",
    "\n",
    "SELECT pclass, AVG(age) FROM public.tit\n",
    "GROUP BY pclass\n",
    "\n",
    "SELECT pclass, AVG(fare) FROM public.titanic\n",
    "GROUP BY pclass\n",
    "\n",
    "SELECT survived, AVG(fare) FROM public.titanic\n",
    "GROUP BY survived\n",
    "\n",
    "SELECT pclass, AVG(sibling_spouse) from public.titanic\n",
    "GROUP BY pclass\n",
    "\n",
    "SELECT survived, AVG(sibling_spouse) from public.titanic\n",
    "GROUP BY survived\n",
    "\n",
    "SELECT pclass, AVG(parents_children) from public.titanic\n",
    "GROUP BY pclass\n",
    "\n",
    "SELECT survived, AVG(parents_children) from public.titanic\n",
    "GROUP BY survived\n",
    "\n",
    "SELECT COUNT(DISTINCT(name)) from public.titanic"
   ]
  },
  {
   "cell_type": "code",
   "execution_count": 134,
   "metadata": {},
   "outputs": [
    {
     "data": {
      "text/plain": [
       "[(342,)]"
      ]
     },
     "execution_count": 134,
     "metadata": {},
     "output_type": "execute_result"
    }
   ],
   "source": [
    "pg_curs.execute('SELECT COUNT(survived) FROM public.t WHERE survived = 1;')\n",
    "pg_curs.fetchall()"
   ]
  },
  {
   "cell_type": "code",
   "execution_count": 136,
   "metadata": {},
   "outputs": [
    {
     "data": {
      "text/plain": [
       "[(545,)]"
      ]
     },
     "execution_count": 136,
     "metadata": {},
     "output_type": "execute_result"
    }
   ],
   "source": [
    "pg_curs.execute(\"\"\"SELECT COUNT(survived) FROM public.t\n",
    "WHERE survived = 0;\"\"\") \n",
    "pg_curs.fetchall()"
   ]
  },
  {
   "cell_type": "code",
   "execution_count": 137,
   "metadata": {},
   "outputs": [
    {
     "data": {
      "text/plain": [
       "[(1, 216), (3, 487), (2, 184)]"
      ]
     },
     "execution_count": 137,
     "metadata": {},
     "output_type": "execute_result"
    }
   ],
   "source": [
    "pg_curs.execute(\"\"\"SELECT  pclass, COUNT(passenger_id)\n",
    "FROM public.tit\n",
    "GROUP BY pclass;\"\"\") \n",
    "pg_curs.fetchall()"
   ]
  },
  {
   "cell_type": "code",
   "execution_count": 142,
   "metadata": {},
   "outputs": [
    {
     "data": {
      "text/plain": [
       "[(1, 136), (3, 119), (2, 87)]"
      ]
     },
     "execution_count": 142,
     "metadata": {},
     "output_type": "execute_result"
    }
   ],
   "source": [
    "pg_curs.execute(\"\"\"SELECT pclass, COUNT(survived) FROM \"public\".\"t\"\n",
    "WHERE survived=1\n",
    "GROUP BY pclass;\"\"\") \n",
    "pg_curs.fetchall() "
   ]
  },
  {
   "cell_type": "code",
   "execution_count": 143,
   "metadata": {},
   "outputs": [
    {
     "data": {
      "text/plain": [
       "[(0, Decimal('30.1541284403669725')), (1, Decimal('28.4122807017543860'))]"
      ]
     },
     "execution_count": 143,
     "metadata": {},
     "output_type": "execute_result"
    }
   ],
   "source": [
    "pg_curs.execute(\"\"\"SELECT survived, AVG(age) FROM public.tit\n",
    "GROUP BY survived;\"\"\") \n",
    "pg_curs.fetchall() "
   ]
  },
  {
   "cell_type": "code",
   "execution_count": 144,
   "metadata": {},
   "outputs": [
    {
     "data": {
      "text/plain": [
       "[(1, Decimal('84.2453703703703704')),\n",
       " (3, Decimal('13.7268993839835729')),\n",
       " (2, Decimal('20.7880434782608696'))]"
      ]
     },
     "execution_count": 144,
     "metadata": {},
     "output_type": "execute_result"
    }
   ],
   "source": [
    "pg_curs.execute(\"\"\"SELECT pclass, AVG(fare) FROM public.titanic\n",
    "GROUP BY pclass;\"\"\") \n",
    "pg_curs.fetchall() "
   ]
  },
  {
   "cell_type": "code",
   "execution_count": 145,
   "metadata": {},
   "outputs": [
    {
     "data": {
      "text/plain": [
       "[(0, Decimal('22.2678899082568807')), (1, Decimal('48.4532163742690058'))]"
      ]
     },
     "execution_count": 145,
     "metadata": {},
     "output_type": "execute_result"
    }
   ],
   "source": [
    "pg_curs.execute(\"\"\"SELECT survived, AVG(fare) FROM public.titanic\n",
    "GROUP BY survived;\"\"\") \n",
    "pg_curs.fetchall() "
   ]
  },
  {
   "cell_type": "code",
   "execution_count": 146,
   "metadata": {},
   "outputs": [
    {
     "data": {
      "text/plain": [
       "[(1, Decimal('0.41666666666666666667')),\n",
       " (3, Decimal('0.62012320328542094456')),\n",
       " (2, Decimal('0.40217391304347826087'))]"
      ]
     },
     "execution_count": 146,
     "metadata": {},
     "output_type": "execute_result"
    }
   ],
   "source": [
    "pg_curs.execute(\"\"\"SELECT pclass, AVG(sibling_spouse) from public.titanic\n",
    "GROUP BY pclass;\"\"\") \n",
    "pg_curs.fetchall()"
   ]
  },
  {
   "cell_type": "code",
   "execution_count": 147,
   "metadata": {},
   "outputs": [
    {
     "data": {
      "text/plain": [
       "[(0, Decimal('0.55779816513761467890')),\n",
       " (1, Decimal('0.47368421052631578947'))]"
      ]
     },
     "execution_count": 147,
     "metadata": {},
     "output_type": "execute_result"
    }
   ],
   "source": [
    "pg_curs.execute(\"\"\"SELECT survived, AVG(sibling_spouse) from public.titanic\n",
    "GROUP BY survived;\"\"\") \n",
    "pg_curs.fetchall()"
   ]
  },
  {
   "cell_type": "code",
   "execution_count": 148,
   "metadata": {},
   "outputs": [
    {
     "data": {
      "text/plain": [
       "[(1, Decimal('0.35648148148148148148')),\n",
       " (3, Decimal('0.39630390143737166324')),\n",
       " (2, Decimal('0.38043478260869565217'))]"
      ]
     },
     "execution_count": 148,
     "metadata": {},
     "output_type": "execute_result"
    }
   ],
   "source": [
    "pg_curs.execute(\"\"\"SELECT pclass, AVG(parents_children) from public.titanic\n",
    "GROUP BY pclass;\"\"\") \n",
    "pg_curs.fetchall()"
   ]
  },
  {
   "cell_type": "code",
   "execution_count": 149,
   "metadata": {},
   "outputs": [
    {
     "data": {
      "text/plain": [
       "[(0, Decimal('0.33211009174311926606')),\n",
       " (1, Decimal('0.46491228070175438596'))]"
      ]
     },
     "execution_count": 149,
     "metadata": {},
     "output_type": "execute_result"
    }
   ],
   "source": [
    "pg_curs.execute(\"\"\"SELECT survived, AVG(parents_children) from public.titanic\n",
    "GROUP BY survived;\"\"\") \n",
    "pg_curs.fetchall()"
   ]
  },
  {
   "cell_type": "code",
   "execution_count": 150,
   "metadata": {},
   "outputs": [
    {
     "data": {
      "text/plain": [
       "[(887,)]"
      ]
     },
     "execution_count": 150,
     "metadata": {},
     "output_type": "execute_result"
    }
   ],
   "source": [
    "#thus, no names are equal \n",
    "pg_curs.execute(\"\"\"SELECT COUNT(DISTINCT(name)) from public.titanic;\"\"\") \n",
    "pg_curs.fetchall()"
   ]
  },
  {
   "cell_type": "code",
   "execution_count": null,
   "metadata": {},
   "outputs": [],
   "source": [
    "#missing bonus question "
   ]
  }
 ],
 "metadata": {
  "kernelspec": {
   "display_name": "Python 3",
   "language": "python",
   "name": "python3"
  }
 },
 "nbformat": 4,
 "nbformat_minor": 2
}
