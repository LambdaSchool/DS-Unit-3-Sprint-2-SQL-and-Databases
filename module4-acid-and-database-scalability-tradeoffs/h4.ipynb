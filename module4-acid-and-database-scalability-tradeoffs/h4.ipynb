{
 "cells": [
  {
   "cell_type": "code",
   "execution_count": 1,
   "metadata": {
    "ExecuteTime": {
     "end_time": "2019-02-24T13:23:41.310559Z",
     "start_time": "2019-02-24T13:23:41.272014Z"
    }
   },
   "outputs": [
    {
     "data": {
      "text/plain": [
       "True"
      ]
     },
     "execution_count": 1,
     "metadata": {},
     "output_type": "execute_result"
    }
   ],
   "source": [
    "import psycopg2 as ps\n",
    "from dotenv import load_dotenv\n",
    "import os\n",
    "\n",
    "load_dotenv()"
   ]
  },
  {
   "cell_type": "code",
   "execution_count": 2,
   "metadata": {
    "ExecuteTime": {
     "end_time": "2019-02-24T13:23:42.433584Z",
     "start_time": "2019-02-24T13:23:41.986575Z"
    }
   },
   "outputs": [],
   "source": [
    "user = os.getenv(\"ELEPHANTSQL_USER\")\n",
    "password = os.getenv(\"ELEPHANTSQL_PASSWORD\")\n",
    "host = os.getenv(\"ELEPHANTSQL_HOST\")\n",
    "dbname = os.getenv(\"ELEPHANTSQL_DBNAME\")\n",
    "\n",
    "conn = ps.connect(database=dbname, user=user, password=password, host=host)\n",
    "\n",
    "pg = conn.cursor()"
   ]
  },
  {
   "cell_type": "code",
   "execution_count": 3,
   "metadata": {
    "ExecuteTime": {
     "end_time": "2019-02-24T13:23:43.426425Z",
     "start_time": "2019-02-24T13:23:43.281974Z"
    }
   },
   "outputs": [
    {
     "data": {
      "text/plain": [
       "[(1, False, 3, 'Mr. Owen Harris Braund', 'male', 22.0, 1, 0, 7.25),\n",
       " (2,\n",
       "  True,\n",
       "  1,\n",
       "  'Mrs. John Bradley (Florence Briggs Thayer) Cumings',\n",
       "  'female',\n",
       "  38.0,\n",
       "  1,\n",
       "  0,\n",
       "  71.2833)]"
      ]
     },
     "execution_count": 3,
     "metadata": {},
     "output_type": "execute_result"
    }
   ],
   "source": [
    "q = \"SELECT * FROM titanic LIMIT 2\"\n",
    "pg.execute(q)\n",
    "c = pg.fetchall()\n",
    "c"
   ]
  },
  {
   "cell_type": "code",
   "execution_count": 4,
   "metadata": {
    "ExecuteTime": {
     "end_time": "2019-02-24T13:23:44.356111Z",
     "start_time": "2019-02-24T13:23:44.352258Z"
    }
   },
   "outputs": [],
   "source": [
    "# pg.execute(\"create schema myschema;\")\n",
    "# conn.commit()"
   ]
  },
  {
   "cell_type": "code",
   "execution_count": 5,
   "metadata": {
    "ExecuteTime": {
     "end_time": "2019-02-24T13:23:51.420199Z",
     "start_time": "2019-02-24T13:23:51.313324Z"
    }
   },
   "outputs": [],
   "source": [
    "create_titanic_table = \"\"\"\n",
    "CREATE TABLE myschema.titanic\n",
    "(\n",
    "character_id SERIAL PRIMARY KEY,\n",
    "survived boolean,\n",
    "pclass int,\n",
    "name varchar(128),\n",
    "sex gender,\n",
    "age real,\n",
    "siblings_spouses_aboard int,\n",
    "parents_children_aboard int,\n",
    "fare real\n",
    ");\"\"\"\n",
    "pg.execute(create_titanic_table)"
   ]
  },
  {
   "cell_type": "code",
   "execution_count": 6,
   "metadata": {
    "ExecuteTime": {
     "end_time": "2019-02-24T13:23:51.957077Z",
     "start_time": "2019-02-24T13:23:51.889032Z"
    }
   },
   "outputs": [
    {
     "name": "stdout",
     "output_type": "stream",
     "text": [
      "How many passengers survived? 342\n"
     ]
    }
   ],
   "source": [
    "pg.execute(\n",
    "    \"\"\"\n",
    "    SELECT COUNT(*) FROM titanic AS t WHERE t.survived = TRUE\n",
    "    \"\"\"\n",
    ")\n",
    "print(f\"How many passengers survived? {pg.fetchone()[0]}\")"
   ]
  },
  {
   "cell_type": "code",
   "execution_count": 7,
   "metadata": {
    "ExecuteTime": {
     "end_time": "2019-02-24T13:23:53.747878Z",
     "start_time": "2019-02-24T13:23:53.685718Z"
    }
   },
   "outputs": [
    {
     "name": "stdout",
     "output_type": "stream",
     "text": [
      "How many passengers died? 545\n"
     ]
    }
   ],
   "source": [
    "pg.execute(\n",
    "    \"\"\"\n",
    "    SELECT COUNT(*) FROM titanic AS t WHERE t.survived = FALSE\n",
    "    \"\"\"\n",
    ")\n",
    "print(f\"How many passengers died? {pg.fetchone()[0]}\")"
   ]
  },
  {
   "cell_type": "code",
   "execution_count": 8,
   "metadata": {
    "ExecuteTime": {
     "end_time": "2019-02-24T13:23:56.032011Z",
     "start_time": "2019-02-24T13:23:55.968029Z"
    }
   },
   "outputs": [
    {
     "name": "stdout",
     "output_type": "stream",
     "text": [
      "How many passengers survived by class? [(1, 136), (2, 87), (3, 119)]\n"
     ]
    }
   ],
   "source": [
    "pg.execute(\n",
    "    \"\"\"\n",
    "    SELECT  t.pclass as \"Class\",  COUNT(*) as \"Survived\" FROM titanic AS t\n",
    "    WHERE t.survived = TRUE\n",
    "    GROUP BY t.pclass\n",
    "    \"\"\"\n",
    ")\n",
    "print(f\"How many passengers survived by class? {pg.fetchall()}\")"
   ]
  },
  {
   "cell_type": "code",
   "execution_count": 9,
   "metadata": {
    "ExecuteTime": {
     "end_time": "2019-02-24T13:24:04.801183Z",
     "start_time": "2019-02-24T13:24:04.739456Z"
    }
   },
   "outputs": [
    {
     "name": "stdout",
     "output_type": "stream",
     "text": [
      "How many passengers died by class? [(1, 80), (2, 97), (3, 368)]\n"
     ]
    }
   ],
   "source": [
    "pg.execute(\n",
    "    \"\"\"\n",
    "    SELECT  t.pclass as \"Class\",  COUNT(*) as \"Survived\" FROM titanic AS t\n",
    "    WHERE t.survived = FALSE\n",
    "    GROUP BY t.pclass\n",
    "    \"\"\"\n",
    ")\n",
    "print(f\"How many passengers died by class? {pg.fetchall()}\")"
   ]
  },
  {
   "cell_type": "code",
   "execution_count": 10,
   "metadata": {
    "ExecuteTime": {
     "end_time": "2019-02-24T13:24:07.731208Z",
     "start_time": "2019-02-24T13:24:07.669111Z"
    }
   },
   "outputs": [],
   "source": [
    "pg.execute(\n",
    "    \"\"\"\n",
    "    SELECT  AVG(t.age) as \"sage\" FROM titanic AS t\n",
    "    WHERE t.survived = TRUE\n",
    "    UNION\n",
    "    SELECT  AVG(t.age) as \"dage\" FROM titanic AS t\n",
    "    WHERE t.survived = FALSE\n",
    "    \"\"\"\n",
    ")\n",
    "c = pg.fetchall()"
   ]
  },
  {
   "cell_type": "code",
   "execution_count": 11,
   "metadata": {
    "ExecuteTime": {
     "end_time": "2019-02-24T13:24:11.986843Z",
     "start_time": "2019-02-24T13:24:11.983614Z"
    }
   },
   "outputs": [
    {
     "name": "stdout",
     "output_type": "stream",
     "text": [
      "What was the average age of survivors vs nonsurvivors?  survived: 28.41, died: 30.14\n"
     ]
    }
   ],
   "source": [
    "print(f\"What was the average age of survivors vs nonsurvivors?  survived: {c[0][0]:0.04}, \\\n",
    "died: {c[1][0]:0.04}\")"
   ]
  },
  {
   "cell_type": "code",
   "execution_count": 12,
   "metadata": {
    "ExecuteTime": {
     "end_time": "2019-02-24T13:24:16.603890Z",
     "start_time": "2019-02-24T13:24:16.541036Z"
    }
   },
   "outputs": [],
   "source": [
    "pg.execute(\n",
    "    \"\"\"\n",
    "    SELECT  t.pclass as \"Class\",  AVG(t.age) as \"Survived\" FROM titanic AS t\n",
    "    GROUP BY t.pclass\n",
    "    \"\"\"\n",
    ")"
   ]
  },
  {
   "cell_type": "code",
   "execution_count": 13,
   "metadata": {
    "ExecuteTime": {
     "end_time": "2019-02-24T13:24:18.774233Z",
     "start_time": "2019-02-24T13:24:18.771653Z"
    }
   },
   "outputs": [
    {
     "name": "stdout",
     "output_type": "stream",
     "text": [
      "What was the average age of each passenger class?  [(1, 38.7889814815587), (2, 29.8686413042571), (3, 25.188747433238)]\n"
     ]
    }
   ],
   "source": [
    "print(f\"What was the average age of each passenger class?  {pg.fetchall()}\")"
   ]
  },
  {
   "cell_type": "code",
   "execution_count": 14,
   "metadata": {
    "ExecuteTime": {
     "end_time": "2019-02-24T13:24:20.598842Z",
     "start_time": "2019-02-24T13:24:20.538626Z"
    }
   },
   "outputs": [
    {
     "data": {
      "text/plain": [
       "[(1, 84.154687528257, 48.3954076976107, 22.2085840951412),\n",
       " (2, 20.6621831810993, 48.3954076976107, 22.2085840951412),\n",
       " (3, 13.7077075010452, 48.3954076976107, 22.2085840951412)]"
      ]
     },
     "execution_count": 14,
     "metadata": {},
     "output_type": "execute_result"
    }
   ],
   "source": [
    "pg.execute(\n",
    "    \"\"\"\n",
    "    SELECT  t.pclass AS \"class\",  AVG(t.fare) AS \"fare\",\n",
    "    (SELECT  AVG(st.fare) as \"fare\" FROM titanic AS st WHERE st.survived = TRUE) as \"sfare\",\n",
    "    (SELECT  AVG(dt.fare) as \"fare\" FROM titanic AS dt WHERE dt.survived = FALSE) as \"dfare\"\n",
    "    FROM titanic AS t  \n",
    "    GROUP BY t.pclass\n",
    "    \"\"\"\n",
    ")\n",
    "c = pg.fetchall()\n",
    "c"
   ]
  },
  {
   "cell_type": "code",
   "execution_count": 15,
   "metadata": {
    "ExecuteTime": {
     "end_time": "2019-02-24T13:24:23.820814Z",
     "start_time": "2019-02-24T13:24:23.817820Z"
    }
   },
   "outputs": [
    {
     "name": "stdout",
     "output_type": "stream",
     "text": [
      "\n",
      "    What was the average fare by passenger class?\n",
      "        class 1 fare 84.154687528257 class 2 fare 20.6621831810993 class 3 fare 13.7077075010452  \n",
      "    What is the average fare by survival? survived 48.3954076976107  died 22.2085840951412\n",
      "    \n"
     ]
    }
   ],
   "source": [
    "print(\n",
    "    f\"\"\"\n",
    "    What was the average fare by passenger class?\n",
    "        class {c[0][0]} fare {c[0][1]} class {c[1][0]} fare {c[1][1]} class {c[2][0]} fare {c[2][1]}  \n",
    "    What is the average fare by survival? survived {c[0][2]}  died {c[0][3]}\n",
    "    \"\"\"\n",
    ")"
   ]
  },
  {
   "cell_type": "code",
   "execution_count": 16,
   "metadata": {
    "ExecuteTime": {
     "end_time": "2019-02-24T13:24:29.593087Z",
     "start_time": "2019-02-24T13:24:29.510724Z"
    }
   },
   "outputs": [],
   "source": [
    "pg.execute(\n",
    "    \"\"\"\n",
    "    SELECT  t.pclass AS \"class\",  AVG(t.fare) AS \"fare\", t.survived FROM titanic AS t  \n",
    "    GROUP BY t.pclass, t.survived\n",
    "    ORDER BY t.pclass, t.survived\n",
    "    \"\"\"\n",
    ")\n",
    "c = pg.fetchall()"
   ]
  },
  {
   "cell_type": "code",
   "execution_count": 17,
   "metadata": {
    "ExecuteTime": {
     "end_time": "2019-02-24T13:24:31.737874Z",
     "start_time": "2019-02-24T13:24:31.735119Z"
    }
   },
   "outputs": [
    {
     "name": "stdout",
     "output_type": "stream",
     "text": [
      "What was the average fare by passenger class and survival (class, fare, survived)? [(1, 64.6840073347092, False), (1, 95.6080288185793, True), (2, 19.4123278549037, False), (2, 22.0557000390415, True), (3, 13.7118531063847, False), (3, 13.6948874778106, True)]\n"
     ]
    }
   ],
   "source": [
    "print(\n",
    "    f\"What was the average fare by passenger class and survival (class, fare, survived)? {c}\")"
   ]
  },
  {
   "cell_type": "code",
   "execution_count": 18,
   "metadata": {
    "ExecuteTime": {
     "end_time": "2019-02-24T13:24:41.327659Z",
     "start_time": "2019-02-24T13:24:41.264849Z"
    }
   },
   "outputs": [],
   "source": [
    "pg.execute(\n",
    "    \"\"\"\n",
    "    SELECT  t.pclass AS \"class\",  AVG(t.siblings_spouses_aboard),\n",
    "    (SELECT  AVG(st.siblings_spouses_aboard) FROM titanic AS st WHERE st.survived = TRUE) as \"ss\",\n",
    "    (SELECT  AVG(dt.siblings_spouses_aboard) FROM titanic AS dt WHERE dt.survived = FALSE) as \"ds\"\n",
    "    FROM titanic AS t  \n",
    "    GROUP BY t.pclass\n",
    "    \"\"\"\n",
    ")\n",
    "c = pg.fetchall()"
   ]
  },
  {
   "cell_type": "code",
   "execution_count": 19,
   "metadata": {
    "ExecuteTime": {
     "end_time": "2019-02-24T13:24:42.193151Z",
     "start_time": "2019-02-24T13:24:42.188258Z"
    }
   },
   "outputs": [
    {
     "name": "stdout",
     "output_type": "stream",
     "text": [
      "\n",
      "    How many siblings/spouses aboard on average by passenger class?\n",
      "        class 1 average  0.4167 class 2 average 0.4022 class 3 average 0.6201  \n",
      "     How many siblings/spouses aboard on average by survival? survived 0.4737  died 0.5578\n",
      "    \n"
     ]
    }
   ],
   "source": [
    "print(\n",
    "    f\"\"\"\n",
    "    How many siblings/spouses aboard on average by passenger class?\n",
    "        class {c[0][0]} average  {c[0][1]:0.04} class {c[1][0]} \\\n",
    "average {c[1][1]:0.04} class {c[2][0]} average {c[2][1]:0.04}  \n",
    "     How many siblings/spouses aboard on average by survival? survived {c[0][2]:0.04}  died {c[0][3]:0.04}\n",
    "    \"\"\"\n",
    ")"
   ]
  },
  {
   "cell_type": "code",
   "execution_count": 20,
   "metadata": {
    "ExecuteTime": {
     "end_time": "2019-02-24T13:24:48.908302Z",
     "start_time": "2019-02-24T13:24:48.846935Z"
    }
   },
   "outputs": [],
   "source": [
    "pg.execute(\n",
    "    \"\"\"\n",
    "    SELECT  t.pclass AS \"class\",  AVG(t.parents_children_aboard),\n",
    "    (SELECT  AVG(st.parents_children_aboard) FROM titanic AS st WHERE st.survived = TRUE) as \"ss\",\n",
    "    (SELECT  AVG(dt.parents_children_aboard) FROM titanic AS dt WHERE dt.survived = FALSE) as \"ds\"\n",
    "    FROM titanic AS t  \n",
    "    GROUP BY t.pclass\n",
    "    \"\"\"\n",
    ")\n",
    "c = pg.fetchall()"
   ]
  },
  {
   "cell_type": "code",
   "execution_count": 21,
   "metadata": {
    "ExecuteTime": {
     "end_time": "2019-02-24T13:24:51.382722Z",
     "start_time": "2019-02-24T13:24:51.379115Z"
    }
   },
   "outputs": [
    {
     "name": "stdout",
     "output_type": "stream",
     "text": [
      "\n",
      "    How many parents/children aboard on average by passenger class?\n",
      "        class 1 average  0.3565 class 2 average 0.3804 class 3 average 0.3963  \n",
      "    How many parents/children aboard on average by survival? survived 0.4649  died 0.3321\n",
      "    \n"
     ]
    }
   ],
   "source": [
    "print(\n",
    "    f\"\"\"\n",
    "    How many parents/children aboard on average by passenger class?\n",
    "        class {c[0][0]} average  {c[0][1]:0.04} class {c[1][0]} \\\n",
    "average {c[1][1]:0.04} class {c[2][0]} average {c[2][1]:0.04}  \n",
    "    How many parents/children aboard on average by survival? survived {c[0][2]:0.04}  died {c[0][3]:0.04}\n",
    "    \"\"\"\n",
    ")"
   ]
  },
  {
   "cell_type": "code",
   "execution_count": 22,
   "metadata": {
    "ExecuteTime": {
     "end_time": "2019-02-24T13:24:56.206848Z",
     "start_time": "2019-02-24T13:24:56.146188Z"
    }
   },
   "outputs": [],
   "source": [
    "pg.execute(\n",
    "    \"\"\"\n",
    "    SELECT CASE WHEN COUNT(DISTINCT t.name) - COUNT(*) = 0 THEN 'False' ELSE 'True' END FROM titanic t\n",
    "    \"\"\"\n",
    ")"
   ]
  },
  {
   "cell_type": "code",
   "execution_count": 23,
   "metadata": {
    "ExecuteTime": {
     "end_time": "2019-02-24T13:24:58.014084Z",
     "start_time": "2019-02-24T13:24:58.010448Z"
    }
   },
   "outputs": [
    {
     "name": "stdout",
     "output_type": "stream",
     "text": [
      "Do any passengers have the same name? False\n"
     ]
    }
   ],
   "source": [
    "print(f\"Do any passengers have the same name? {pg.fetchone()[0]}\")"
   ]
  },
  {
   "cell_type": "code",
   "execution_count": 24,
   "metadata": {
    "ExecuteTime": {
     "end_time": "2019-02-24T13:24:59.791633Z",
     "start_time": "2019-02-24T13:24:59.632243Z"
    }
   },
   "outputs": [],
   "source": [
    "pg.execute(\n",
    "    \"\"\"\n",
    "    SELECT COUNT(*) / 2 FROM titanic t1 CROSS JOIN\n",
    "    titanic t2\n",
    "    WHERE ((SUBSTRING(t1.name,1,4) = 'Mrs.' AND SUBSTRING(t2.name,1,3) = 'Mr.') OR\n",
    "          (SUBSTRING(t1.name,1,3) = 'Mr.' AND SUBSTRING(t2.name,1,4) = 'Mrs.')) AND\n",
    "          regexp_replace(t1.name, '^.* ', '') = regexp_replace(t2.name, '^.* ', '') AND\n",
    "          t1.siblings_spouses_aboard > 0 AND t2.siblings_spouses_aboard > 0\n",
    "    \"\"\"\n",
    ")\n",
    "c = pg.fetchone()[0]"
   ]
  },
  {
   "cell_type": "code",
   "execution_count": 25,
   "metadata": {
    "ExecuteTime": {
     "end_time": "2019-02-24T13:25:01.443743Z",
     "start_time": "2019-02-24T13:25:01.441037Z"
    }
   },
   "outputs": [
    {
     "name": "stdout",
     "output_type": "stream",
     "text": [
      "How many married couples were aboard the Titanic? 49\n"
     ]
    }
   ],
   "source": [
    "print(f\"How many married couples were aboard the Titanic? {c}\")"
   ]
  },
  {
   "cell_type": "code",
   "execution_count": 26,
   "metadata": {
    "ExecuteTime": {
     "end_time": "2019-02-24T13:26:16.110652Z",
     "start_time": "2019-02-24T13:26:16.051597Z"
    }
   },
   "outputs": [
    {
     "name": "stdout",
     "output_type": "stream",
     "text": [
      "[(1,), (1,), (0,), (1,), (0,)]\n"
     ]
    }
   ],
   "source": [
    "pg.execute(\n",
    "    \"\"\"\n",
    "    SELECT t.siblings_spouses_aboard from titanic t LIMIT 5\n",
    "    \"\"\"\n",
    ")\n",
    "print(pg.fetchall())"
   ]
  },
  {
   "cell_type": "code",
   "execution_count": 153,
   "metadata": {
    "ExecuteTime": {
     "end_time": "2019-02-24T02:19:15.417788Z",
     "start_time": "2019-02-24T02:19:15.360339Z"
    }
   },
   "outputs": [],
   "source": [
    "conn.rollback()"
   ]
  },
  {
   "cell_type": "code",
   "execution_count": null,
   "metadata": {},
   "outputs": [],
   "source": []
  }
 ],
 "metadata": {
  "kernelspec": {
   "display_name": "Python 3",
   "language": "python",
   "name": "python3"
  },
  "language_info": {
   "codemirror_mode": {
    "name": "ipython",
    "version": 3
   },
   "file_extension": ".py",
   "mimetype": "text/x-python",
   "name": "python",
   "nbconvert_exporter": "python",
   "pygments_lexer": "ipython3",
   "version": "3.6.6"
  },
  "latex_envs": {
   "LaTeX_envs_menu_present": true,
   "autoclose": false,
   "autocomplete": true,
   "bibliofile": "biblio.bib",
   "cite_by": "apalike",
   "current_citInitial": 1,
   "eqLabelWithNumbers": true,
   "eqNumInitial": 1,
   "hotkeys": {
    "equation": "Ctrl-E",
    "itemize": "Ctrl-I"
   },
   "labels_anchors": false,
   "latex_user_defs": false,
   "report_style_numbering": false,
   "user_envs_cfg": false
  }
 },
 "nbformat": 4,
 "nbformat_minor": 2
}
