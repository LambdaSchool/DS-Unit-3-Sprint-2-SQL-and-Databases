{
 "cells": [
  {
   "cell_type": "code",
   "execution_count": 41,
   "metadata": {
    "ExecuteTime": {
     "end_time": "2019-02-23T21:50:49.214760Z",
     "start_time": "2019-02-23T21:50:49.207531Z"
    }
   },
   "outputs": [
    {
     "data": {
      "text/plain": [
       "True"
      ]
     },
     "execution_count": 41,
     "metadata": {},
     "output_type": "execute_result"
    }
   ],
   "source": [
    "import psycopg2 as ps\n",
    "from dotenv import load_dotenv\n",
    "import os\n",
    "\n",
    "load_dotenv()"
   ]
  },
  {
   "cell_type": "code",
   "execution_count": 42,
   "metadata": {
    "ExecuteTime": {
     "end_time": "2019-02-23T21:50:50.123959Z",
     "start_time": "2019-02-23T21:50:49.663703Z"
    }
   },
   "outputs": [],
   "source": [
    "user = os.getenv(\"ELEPHANTSQL_USER\")\n",
    "password = os.getenv(\"ELEPHANTSQL_PASSWORD\")\n",
    "host = os.getenv(\"ELEPHANTSQL_HOST\")\n",
    "dbname = os.getenv(\"ELEPHANTSQL_DBNAME\")\n",
    "\n",
    "conn = ps.connect(database=dbname, user=user, password=password, host=host)\n",
    "\n",
    "pg = conn.cursor()"
   ]
  },
  {
   "cell_type": "code",
   "execution_count": 25,
   "metadata": {
    "ExecuteTime": {
     "end_time": "2019-02-23T20:34:24.225463Z",
     "start_time": "2019-02-23T20:34:24.088431Z"
    }
   },
   "outputs": [
    {
     "data": {
      "text/plain": [
       "[(1, False, 3, 'Mr. Owen Harris Braund', 'male', 22.0, 1, 0, 7.25),\n",
       " (2,\n",
       "  True,\n",
       "  1,\n",
       "  'Mrs. John Bradley (Florence Briggs Thayer) Cumings',\n",
       "  'female',\n",
       "  38.0,\n",
       "  1,\n",
       "  0,\n",
       "  71.2833)]"
      ]
     },
     "execution_count": 25,
     "metadata": {},
     "output_type": "execute_result"
    }
   ],
   "source": [
    "q = \"SELECT * FROM titanic LIMIT 2\"\n",
    "pg.execute(q)\n",
    "c = pg.fetchall()\n",
    "c"
   ]
  },
  {
   "cell_type": "code",
   "execution_count": 26,
   "metadata": {
    "ExecuteTime": {
     "end_time": "2019-02-23T20:34:28.202222Z",
     "start_time": "2019-02-23T20:34:28.197906Z"
    }
   },
   "outputs": [],
   "source": [
    "# pg.execute(\"create schema myschema;\")\n",
    "# conn.commit()"
   ]
  },
  {
   "cell_type": "code",
   "execution_count": 27,
   "metadata": {
    "ExecuteTime": {
     "end_time": "2019-02-23T20:34:30.007543Z",
     "start_time": "2019-02-23T20:34:29.901476Z"
    }
   },
   "outputs": [],
   "source": [
    "create_titanic_table = \"\"\"\n",
    "CREATE TABLE myschema.titanic\n",
    "(\n",
    "character_id SERIAL PRIMARY KEY,\n",
    "survived boolean,\n",
    "pclass int,\n",
    "name varchar(128),\n",
    "sex gender,\n",
    "age real,\n",
    "siblings_spouses_aboard int,\n",
    "parents_children_aboard int,\n",
    "fare real\n",
    ");\"\"\"\n",
    "pg.execute(create_titanic_table)"
   ]
  },
  {
   "cell_type": "code",
   "execution_count": 29,
   "metadata": {
    "ExecuteTime": {
     "end_time": "2019-02-23T21:03:37.253470Z",
     "start_time": "2019-02-23T21:03:37.178286Z"
    }
   },
   "outputs": [
    {
     "name": "stdout",
     "output_type": "stream",
     "text": [
      "How many passengers survived? 342\n"
     ]
    }
   ],
   "source": [
    "pg.execute(\n",
    "    \"\"\"\n",
    "    SELECT COUNT(*) FROM titanic AS t WHERE t.survived = TRUE\n",
    "    \"\"\"\n",
    ")\n",
    "print(f\"How many passengers survived? {pg.fetchone()[0]}\")"
   ]
  },
  {
   "cell_type": "code",
   "execution_count": 30,
   "metadata": {
    "ExecuteTime": {
     "end_time": "2019-02-23T21:04:13.723901Z",
     "start_time": "2019-02-23T21:04:13.660099Z"
    }
   },
   "outputs": [
    {
     "name": "stdout",
     "output_type": "stream",
     "text": [
      "How many passengers died? 545\n"
     ]
    }
   ],
   "source": [
    "pg.execute(\n",
    "    \"\"\"\n",
    "    SELECT COUNT(*) FROM titanic AS t WHERE t.survived = FALSE\n",
    "    \"\"\"\n",
    ")\n",
    "print(f\"How many passengers died? {pg.fetchone()[0]}\")"
   ]
  },
  {
   "cell_type": "code",
   "execution_count": 36,
   "metadata": {
    "ExecuteTime": {
     "end_time": "2019-02-23T21:07:53.376570Z",
     "start_time": "2019-02-23T21:07:53.244075Z"
    }
   },
   "outputs": [
    {
     "name": "stdout",
     "output_type": "stream",
     "text": [
      "How many passengers survived by class? [(1, 136), (2, 87), (3, 119)]\n"
     ]
    }
   ],
   "source": [
    "pg.execute(\n",
    "    \"\"\"\n",
    "    SELECT  t.pclass as \"Class\",  COUNT(*) as \"Survived\" FROM titanic AS t\n",
    "    WHERE t.survived = TRUE\n",
    "    GROUP BY t.pclass\n",
    "    \"\"\"\n",
    ")\n",
    "print(f\"How many passengers survived by class? {pg.fetchall()}\")"
   ]
  },
  {
   "cell_type": "code",
   "execution_count": 37,
   "metadata": {
    "ExecuteTime": {
     "end_time": "2019-02-23T21:08:49.331684Z",
     "start_time": "2019-02-23T21:08:49.272305Z"
    }
   },
   "outputs": [
    {
     "name": "stdout",
     "output_type": "stream",
     "text": [
      "How many passengers died by class? [(1, 80), (2, 97), (3, 368)]\n"
     ]
    }
   ],
   "source": [
    "pg.execute(\n",
    "    \"\"\"\n",
    "    SELECT  t.pclass as \"Class\",  COUNT(*) as \"Survived\" FROM titanic AS t\n",
    "    WHERE t.survived = FALSE\n",
    "    GROUP BY t.pclass\n",
    "    \"\"\"\n",
    ")\n",
    "print(f\"How many passengers died by class? {pg.fetchall()}\")"
   ]
  },
  {
   "cell_type": "code",
   "execution_count": 56,
   "metadata": {
    "ExecuteTime": {
     "end_time": "2019-02-23T21:56:15.912680Z",
     "start_time": "2019-02-23T21:56:15.836014Z"
    }
   },
   "outputs": [],
   "source": [
    "pg.execute(\n",
    "    \"\"\"\n",
    "    SELECT  AVG(t.age) as \"sage\" FROM titanic AS t\n",
    "    WHERE t.survived = TRUE\n",
    "    UNION\n",
    "    SELECT  AVG(t.age) as \"dage\" FROM titanic AS t\n",
    "    WHERE t.survived = FALSE\n",
    "    \"\"\"\n",
    ")\n",
    "c = pg.fetchall()"
   ]
  },
  {
   "cell_type": "code",
   "execution_count": 57,
   "metadata": {
    "ExecuteTime": {
     "end_time": "2019-02-23T21:56:16.582017Z",
     "start_time": "2019-02-23T21:56:16.574862Z"
    }
   },
   "outputs": [
    {
     "name": "stdout",
     "output_type": "stream",
     "text": [
      "What was the average age of survivors vs nonsurvivors?  survived: 28.41, died: 30.14\n"
     ]
    }
   ],
   "source": [
    "print(f\"What was the average age of survivors vs nonsurvivors?  survived: {c[0][0]:0.04}, \\\n",
    "died: {c[1][0]:0.04}\")"
   ]
  },
  {
   "cell_type": "code",
   "execution_count": 61,
   "metadata": {
    "ExecuteTime": {
     "end_time": "2019-02-23T21:59:16.626074Z",
     "start_time": "2019-02-23T21:59:16.564815Z"
    }
   },
   "outputs": [],
   "source": [
    "pg.execute(\n",
    "    \"\"\"\n",
    "    SELECT  t.pclass as \"Class\",  AVG(t.age) as \"Survived\" FROM titanic AS t\n",
    "    GROUP BY t.pclass\n",
    "    \"\"\"\n",
    ")"
   ]
  },
  {
   "cell_type": "code",
   "execution_count": 62,
   "metadata": {
    "ExecuteTime": {
     "end_time": "2019-02-23T21:59:17.349684Z",
     "start_time": "2019-02-23T21:59:17.340926Z"
    }
   },
   "outputs": [
    {
     "name": "stdout",
     "output_type": "stream",
     "text": [
      "What was the average age of each passenger class?  [(1, 38.7889814815587), (2, 29.8686413042571), (3, 25.188747433238)]\n"
     ]
    }
   ],
   "source": [
    "print(f\"What was the average age of each passenger class?  {pg.fetchall()}\")"
   ]
  },
  {
   "cell_type": "code",
   "execution_count": 94,
   "metadata": {
    "ExecuteTime": {
     "end_time": "2019-02-23T22:40:53.110713Z",
     "start_time": "2019-02-23T22:40:53.012918Z"
    }
   },
   "outputs": [
    {
     "data": {
      "text/plain": [
       "[(1, 84.154687528257, 48.3954076976107, 22.2085840951412),\n",
       " (2, 20.6621831810993, 48.3954076976107, 22.2085840951412),\n",
       " (3, 13.7077075010452, 48.3954076976107, 22.2085840951412)]"
      ]
     },
     "execution_count": 94,
     "metadata": {},
     "output_type": "execute_result"
    }
   ],
   "source": [
    "pg.execute(\n",
    "    \"\"\"\n",
    "    SELECT  t.pclass AS \"class\",  AVG(t.fare) AS \"fare\",\n",
    "    (SELECT  AVG(st.fare) as \"fare\" FROM titanic AS st WHERE st.survived = TRUE) as \"sfare\",\n",
    "    (SELECT  AVG(dt.fare) as \"fare\" FROM titanic AS dt WHERE dt.survived = FALSE) as \"dfare\"\n",
    "    FROM titanic AS t  \n",
    "    GROUP BY t.pclass\n",
    "    \"\"\"\n",
    ")\n",
    "c = pg.fetchall()\n",
    "c"
   ]
  },
  {
   "cell_type": "code",
   "execution_count": 103,
   "metadata": {
    "ExecuteTime": {
     "end_time": "2019-02-23T22:52:10.826958Z",
     "start_time": "2019-02-23T22:52:10.823275Z"
    }
   },
   "outputs": [
    {
     "name": "stdout",
     "output_type": "stream",
     "text": [
      "\n",
      "    What was the average fare by passenger class?\n",
      "        class 1 fare 84.154687528257 class 2 fare 20.6621831810993 class 3 fare 13.7077075010452  \n",
      "    What is the average fare by survival? survived 48.3954076976107  died 22.2085840951412\n",
      "    \n"
     ]
    }
   ],
   "source": [
    "print(\n",
    "    f\"\"\"\n",
    "    What was the average fare by passenger class?\n",
    "        class {c[0][0]} fare {c[0][1]} class {c[1][0]} fare {c[1][1]} class {c[2][0]} fare {c[2][1]}  \n",
    "    What is the average fare by survival? survived {c[0][2]}  died {c[0][3]}\n",
    "    \"\"\"\n",
    ")"
   ]
  },
  {
   "cell_type": "code",
   "execution_count": 105,
   "metadata": {
    "ExecuteTime": {
     "end_time": "2019-02-23T22:54:11.193707Z",
     "start_time": "2019-02-23T22:54:11.135764Z"
    }
   },
   "outputs": [],
   "source": [
    "pg.execute(\n",
    "    \"\"\"\n",
    "    SELECT  t.pclass AS \"class\",  AVG(t.fare) AS \"fare\", t.survived FROM titanic AS t  \n",
    "    GROUP BY t.pclass, t.survived\n",
    "    ORDER BY t.pclass, t.survived\n",
    "    \"\"\"\n",
    ")\n",
    "c = pg.fetchall()"
   ]
  },
  {
   "cell_type": "code",
   "execution_count": 106,
   "metadata": {
    "ExecuteTime": {
     "end_time": "2019-02-23T22:54:16.957800Z",
     "start_time": "2019-02-23T22:54:16.954989Z"
    }
   },
   "outputs": [
    {
     "name": "stdout",
     "output_type": "stream",
     "text": [
      "What was the average fare by passenger class and survival (class, fare, survived)? [(1, 64.6840073347092, False), (1, 95.6080288185793, True), (2, 19.4123278549037, False), (2, 22.0557000390415, True), (3, 13.7118531063847, False), (3, 13.6948874778106, True)]\n"
     ]
    }
   ],
   "source": [
    "print(f\"What was the average fare by passenger class and survival (class, fare, survived)? {c}\")"
   ]
  },
  {
   "cell_type": "code",
   "execution_count": 117,
   "metadata": {
    "ExecuteTime": {
     "end_time": "2019-02-24T01:08:49.193878Z",
     "start_time": "2019-02-24T01:08:49.125096Z"
    }
   },
   "outputs": [],
   "source": [
    "pg.execute(\n",
    "    \"\"\"\n",
    "    SELECT  t.pclass AS \"class\",  AVG(t.siblings_spouses_aboard),\n",
    "    (SELECT  AVG(st.siblings_spouses_aboard) FROM titanic AS st WHERE st.survived = TRUE) as \"ss\",\n",
    "    (SELECT  AVG(dt.siblings_spouses_aboard) FROM titanic AS dt WHERE dt.survived = FALSE) as \"ds\"\n",
    "    FROM titanic AS t  \n",
    "    GROUP BY t.pclass\n",
    "    \"\"\"\n",
    ")\n",
    "c = pg.fetchall()"
   ]
  },
  {
   "cell_type": "code",
   "execution_count": 120,
   "metadata": {
    "ExecuteTime": {
     "end_time": "2019-02-24T01:12:15.705387Z",
     "start_time": "2019-02-24T01:12:15.701303Z"
    }
   },
   "outputs": [
    {
     "name": "stdout",
     "output_type": "stream",
     "text": [
      "\n",
      "    How many siblings/spouses aboard on average by passenger class?\n",
      "        class 1 average  0.4167 class 2 average 0.4022 class 3 average 0.6201  \n",
      "     How many siblings/spouses aboard on average by survival? survived 0.4737  died 0.5578\n",
      "    \n"
     ]
    }
   ],
   "source": [
    "print(\n",
    "    f\"\"\"\n",
    "    How many siblings/spouses aboard on average by passenger class?\n",
    "        class {c[0][0]} average  {c[0][1]:0.04} class {c[1][0]} \\\n",
    "average {c[1][1]:0.04} class {c[2][0]} average {c[2][1]:0.04}  \n",
    "     How many siblings/spouses aboard on average by survival? survived {c[0][2]:0.04}  died {c[0][3]:0.04}\n",
    "    \"\"\"\n",
    ")"
   ]
  },
  {
   "cell_type": "code",
   "execution_count": 121,
   "metadata": {
    "ExecuteTime": {
     "end_time": "2019-02-24T01:15:06.922881Z",
     "start_time": "2019-02-24T01:15:06.858648Z"
    }
   },
   "outputs": [],
   "source": [
    "pg.execute(\n",
    "    \"\"\"\n",
    "    SELECT  t.pclass AS \"class\",  AVG(t.parents_children_aboard),\n",
    "    (SELECT  AVG(st.parents_children_aboard) FROM titanic AS st WHERE st.survived = TRUE) as \"ss\",\n",
    "    (SELECT  AVG(dt.parents_children_aboard) FROM titanic AS dt WHERE dt.survived = FALSE) as \"ds\"\n",
    "    FROM titanic AS t  \n",
    "    GROUP BY t.pclass\n",
    "    \"\"\"\n",
    ")\n",
    "c = pg.fetchall()"
   ]
  },
  {
   "cell_type": "code",
   "execution_count": 122,
   "metadata": {
    "ExecuteTime": {
     "end_time": "2019-02-24T01:15:07.595319Z",
     "start_time": "2019-02-24T01:15:07.586933Z"
    }
   },
   "outputs": [
    {
     "name": "stdout",
     "output_type": "stream",
     "text": [
      "\n",
      "    How many parents/children aboard on average by passenger class?\n",
      "        class 1 average  0.3565 class 2 average 0.3804 class 3 average 0.3963  \n",
      "    How many parents/children aboard on average by survival? survived 0.4649  died 0.3321\n",
      "    \n"
     ]
    }
   ],
   "source": [
    "\n",
    "print(\n",
    "    f\"\"\"\n",
    "    How many parents/children aboard on average by passenger class?\n",
    "        class {c[0][0]} average  {c[0][1]:0.04} class {c[1][0]} \\\n",
    "average {c[1][1]:0.04} class {c[2][0]} average {c[2][1]:0.04}  \n",
    "    How many parents/children aboard on average by survival? survived {c[0][2]:0.04}  died {c[0][3]:0.04}\n",
    "    \"\"\"\n",
    ")"
   ]
  },
  {
   "cell_type": "code",
   "execution_count": 156,
   "metadata": {
    "ExecuteTime": {
     "end_time": "2019-02-24T02:22:52.204037Z",
     "start_time": "2019-02-24T02:22:52.133141Z"
    }
   },
   "outputs": [],
   "source": [
    "pg.execute(\n",
    "    \"\"\"\n",
    "    SELECT CASE WHEN COUNT(DISTINCT t.name) - COUNT(*) = 0 THEN 'False' ELSE 'True' END FROM titanic t\n",
    "    \"\"\"\n",
    ")"
   ]
  },
  {
   "cell_type": "code",
   "execution_count": 158,
   "metadata": {
    "ExecuteTime": {
     "end_time": "2019-02-24T02:22:58.736228Z",
     "start_time": "2019-02-24T02:22:58.726465Z"
    }
   },
   "outputs": [
    {
     "name": "stdout",
     "output_type": "stream",
     "text": [
      "Do any passengers have the same name? False\n"
     ]
    }
   ],
   "source": [
    "print(f\"Do any passengers have the same name? {pg.fetchone()[0]}\")"
   ]
  },
  {
   "cell_type": "code",
   "execution_count": 159,
   "metadata": {
    "ExecuteTime": {
     "end_time": "2019-02-24T02:35:42.890362Z",
     "start_time": "2019-02-24T02:35:42.804586Z"
    }
   },
   "outputs": [],
   "source": [
    "pg.execute(\n",
    "    \"\"\"\n",
    "    SELECT COUNT(*) /2 FROM titanic t1 CROSS JOIN\n",
    "    titanic t2\n",
    "    WHERE ((SUBSTRING(t1.name,1,4) = 'Mrs.' AND SUBSTRING(t2.name,1,3) = 'Mr.') OR\n",
    "          (SUBSTRING(t1.name,1,3) = 'Mr.' AND SUBSTRING(t2.name,1,4) = 'Mrs.')) AND\n",
    "          regexp_replace(t1.name, '^.* ', '') = regexp_replace(t2.name, '^.* ', '')\n",
    "    \"\"\"\n",
    ")\n",
    "c = pg.fetchone()[0]"
   ]
  },
  {
   "cell_type": "code",
   "execution_count": 160,
   "metadata": {
    "ExecuteTime": {
     "end_time": "2019-02-24T02:35:43.833828Z",
     "start_time": "2019-02-24T02:35:43.824101Z"
    }
   },
   "outputs": [
    {
     "name": "stdout",
     "output_type": "stream",
     "text": [
      "How many married couples were aboard the Titanic? 68\n"
     ]
    }
   ],
   "source": [
    "print(f\"How many married couples were aboard the Titanic? {c}\")"
   ]
  },
  {
   "cell_type": "code",
   "execution_count": 153,
   "metadata": {
    "ExecuteTime": {
     "end_time": "2019-02-24T02:19:15.417788Z",
     "start_time": "2019-02-24T02:19:15.360339Z"
    }
   },
   "outputs": [],
   "source": [
    "conn.rollback()"
   ]
  },
  {
   "cell_type": "code",
   "execution_count": null,
   "metadata": {},
   "outputs": [],
   "source": []
  }
 ],
 "metadata": {
  "kernelspec": {
   "display_name": "Python 3",
   "language": "python",
   "name": "python3"
  },
  "language_info": {
   "codemirror_mode": {
    "name": "ipython",
    "version": 3
   },
   "file_extension": ".py",
   "mimetype": "text/x-python",
   "name": "python",
   "nbconvert_exporter": "python",
   "pygments_lexer": "ipython3",
   "version": "3.6.6"
  },
  "latex_envs": {
   "LaTeX_envs_menu_present": true,
   "autoclose": false,
   "autocomplete": true,
   "bibliofile": "biblio.bib",
   "cite_by": "apalike",
   "current_citInitial": 1,
   "eqLabelWithNumbers": true,
   "eqNumInitial": 1,
   "hotkeys": {
    "equation": "Ctrl-E",
    "itemize": "Ctrl-I"
   },
   "labels_anchors": false,
   "latex_user_defs": false,
   "report_style_numbering": false,
   "user_envs_cfg": false
  }
 },
 "nbformat": 4,
 "nbformat_minor": 2
}
