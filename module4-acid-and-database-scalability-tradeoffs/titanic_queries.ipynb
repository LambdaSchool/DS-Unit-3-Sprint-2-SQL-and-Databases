{
 "cells": [
  {
   "cell_type": "markdown",
   "metadata": {},
   "source": [
    "## Assignment\n",
    "Practice! Go back to both your deployed PostgreSQL (Titanic data) and MongoDB (RPG data) instances - use MongoDB queries to answer the same questions as you did from the first module (when the RPG data was in SQLite). With PostgreSQL, answer the following:\n",
    "\n",
    "\n",
    "How many passengers were in each class?\n",
    "\n",
    "How many passengers survived/died within each class?\n",
    "\n",
    "What was the average age of survivors vs nonsurvivors?\n",
    "\n",
    "What was the average age of each passenger class?\n",
    "\n",
    "What was the average fare by passenger class? By survival?\n",
    "\n",
    "How many siblings/spouses aboard on average, by passenger class? By survival?\n",
    "\n",
    "How many parents/children aboard on average, by passenger class? By survival?\n",
    "\n",
    "Do any passengers have the same name?\n",
    "(Bonus! Hard, may require pulling and processing with Python) How many married couples were aboard the Titanic? Assume that two people (one Mr. and one Mrs.) with the same last name and with at least 1 sibling/spouse aboard are a married couple."
   ]
  },
  {
   "cell_type": "code",
   "execution_count": 4,
   "metadata": {},
   "outputs": [],
   "source": [
    "import pandas as pd\n",
    "import psycopg2\n",
    "import sqlite3"
   ]
  },
  {
   "cell_type": "code",
   "execution_count": 5,
   "metadata": {},
   "outputs": [],
   "source": [
    "# don't commit this \n",
    "dbname = 'fcwzndmv'\n",
    "user = 'fcwzndmv'\n",
    "password = 'YLGVHWKN0OPkARvdDS0YT4C2H8_alwt_' \n",
    "host = 'salt.db.elephantsql.com'\n",
    "\n",
    "\n",
    "# connection object and cursor\n",
    "pg_conn = psycopg2.connect(dbname=dbname, user=user,\n",
    "                        password=password, host=host)\n",
    "\n",
    "pg_curs = pg_conn.cursor()"
   ]
  },
  {
   "cell_type": "code",
   "execution_count": 6,
   "metadata": {},
   "outputs": [
    {
     "data": {
      "text/plain": [
       "342"
      ]
     },
     "execution_count": 6,
     "metadata": {},
     "output_type": "execute_result"
    }
   ],
   "source": [
    "# How many passengers survived, and how many died?\n",
    "\n",
    "pg_curs.execute('SELECT COUNT(*) FROM titanic WHERE survived = 1')\n",
    "survived = pg_curs.fetchall()\n",
    "survived[0][0]"
   ]
  },
  {
   "cell_type": "code",
   "execution_count": 7,
   "metadata": {},
   "outputs": [
    {
     "data": {
      "text/plain": [
       "545"
      ]
     },
     "execution_count": 7,
     "metadata": {},
     "output_type": "execute_result"
    }
   ],
   "source": [
    "pg_curs.execute('SELECT COUNT(*) FROM titanic WHERE survived = 0')\n",
    "died = pg_curs.fetchall()\n",
    "died[0][0]"
   ]
  },
  {
   "cell_type": "code",
   "execution_count": 8,
   "metadata": {},
   "outputs": [
    {
     "data": {
      "text/plain": [
       "[(136,), (87,), (119,)]"
      ]
     },
     "execution_count": 8,
     "metadata": {},
     "output_type": "execute_result"
    }
   ],
   "source": [
    "# How many passengers survived/died within each class?\n",
    "\n",
    "pg_curs.execute('SELECT COUNT(*) FROM titanic WHERE survived = 1 GROUP BY pclass ORDER BY pclass ASC')\n",
    "pclasses_survived = pg_curs.fetchall()\n",
    "pclasses_survived \n"
   ]
  },
  {
   "cell_type": "code",
   "execution_count": 9,
   "metadata": {
    "scrolled": true
   },
   "outputs": [
    {
     "data": {
      "text/plain": [
       "[(80,), (97,), (368,)]"
      ]
     },
     "execution_count": 9,
     "metadata": {},
     "output_type": "execute_result"
    }
   ],
   "source": [
    "pg_curs.execute('SELECT COUNT(*) FROM titanic WHERE survived = 0 GROUP BY pclass ORDER BY pclass ASC')\n",
    "pclasses_died = pg_curs.fetchall()\n",
    "pclasses_died"
   ]
  },
  {
   "cell_type": "code",
   "execution_count": 10,
   "metadata": {},
   "outputs": [
    {
     "data": {
      "text/plain": [
       "[(28.4083918128272,)]"
      ]
     },
     "execution_count": 10,
     "metadata": {},
     "output_type": "execute_result"
    }
   ],
   "source": [
    "# What was the average age of survivors vs nonsurvivors?\n",
    "\n",
    "pg_curs.execute('SELECT AVG(age) FROM titanic WHERE survived = 1')\n",
    "survived_age = pg_curs.fetchall()\n",
    "survived_age"
   ]
  },
  {
   "cell_type": "code",
   "execution_count": 11,
   "metadata": {},
   "outputs": [
    {
     "data": {
      "text/plain": [
       "[(30.1385321100917,)]"
      ]
     },
     "execution_count": 11,
     "metadata": {},
     "output_type": "execute_result"
    }
   ],
   "source": [
    "pg_curs.execute('SELECT AVG(age) FROM titanic WHERE survived = 0')\n",
    "dead_age = pg_curs.fetchall()\n",
    "dead_age"
   ]
  },
  {
   "cell_type": "code",
   "execution_count": 12,
   "metadata": {},
   "outputs": [
    {
     "data": {
      "text/plain": [
       "[(38.7889814815587,), (29.8686413042571,), (25.188747433238,)]"
      ]
     },
     "execution_count": 12,
     "metadata": {},
     "output_type": "execute_result"
    }
   ],
   "source": [
    "# What was the average age of each passenger class?\n",
    "\n",
    "pg_curs.execute('SELECT AVG(age) FROM titanic GROUP BY pclass ORDER BY pclass ASC')\n",
    "pclass_age = pg_curs.fetchall()\n",
    "pclass_age"
   ]
  },
  {
   "cell_type": "code",
   "execution_count": 13,
   "metadata": {},
   "outputs": [
    {
     "data": {
      "text/plain": [
       "[(84.154687528257,), (20.6621831810993,), (13.7077075010452,)]"
      ]
     },
     "execution_count": 13,
     "metadata": {},
     "output_type": "execute_result"
    }
   ],
   "source": [
    "# What was the average fare by passenger class? By survival?\n",
    "\n",
    "pg_curs.execute('SELECT AVG(fare) FROM titanic GROUP BY pclass ORDER BY pclass ASC')\n",
    "pclass_fare = pg_curs.fetchall()\n",
    "pclass_fare"
   ]
  },
  {
   "cell_type": "code",
   "execution_count": 14,
   "metadata": {},
   "outputs": [
    {
     "data": {
      "text/plain": [
       "[(48.3954076976107,), (22.2085840951412,)]"
      ]
     },
     "execution_count": 14,
     "metadata": {},
     "output_type": "execute_result"
    }
   ],
   "source": [
    "pg_curs.execute('SELECT AVG(fare) FROM titanic GROUP BY survived ORDER BY survived DESC')\n",
    "survival_fare = pg_curs.fetchall()\n",
    "survival_fare"
   ]
  },
  {
   "cell_type": "code",
   "execution_count": 15,
   "metadata": {},
   "outputs": [
    {
     "data": {
      "text/plain": [
       "[(1, Decimal('0.41666666666666666667')),\n",
       " (2, Decimal('0.40217391304347826087')),\n",
       " (3, Decimal('0.62012320328542094456'))]"
      ]
     },
     "execution_count": 15,
     "metadata": {},
     "output_type": "execute_result"
    }
   ],
   "source": [
    "# How many siblings/spouses aboard on average, by passenger class? By survival?\n",
    "\n",
    "pg_curs.execute('SELECT pclass, AVG(siblings_spouses_aboard) FROM titanic GROUP BY pclass ORDER BY pclass ASC')\n",
    "pclass_sibs = pg_curs.fetchall()\n",
    "pclass_sibs"
   ]
  },
  {
   "cell_type": "code",
   "execution_count": 16,
   "metadata": {},
   "outputs": [
    {
     "data": {
      "text/plain": [
       "[(Decimal('0.47368421052631578947'),), (Decimal('0.55779816513761467890'),)]"
      ]
     },
     "execution_count": 16,
     "metadata": {},
     "output_type": "execute_result"
    }
   ],
   "source": [
    "pg_curs.execute('SELECT AVG(siblings_spouses_aboard) FROM titanic GROUP BY survived ORDER BY survived DESC')\n",
    "survival_sibs = pg_curs.fetchall()\n",
    "survival_sibs"
   ]
  },
  {
   "cell_type": "code",
   "execution_count": 17,
   "metadata": {},
   "outputs": [
    {
     "data": {
      "text/plain": [
       "[(Decimal('0.35648148148148148148'),),\n",
       " (Decimal('0.38043478260869565217'),),\n",
       " (Decimal('0.39630390143737166324'),)]"
      ]
     },
     "execution_count": 17,
     "metadata": {},
     "output_type": "execute_result"
    }
   ],
   "source": [
    "# How many parents/children aboard on average, by passenger class? By survival?\n",
    "\n",
    "\n",
    "pg_curs.execute('SELECT AVG(parents_children_aboard) FROM titanic GROUP BY pclass ORDER BY pclass ASC')\n",
    "pclass_parents = pg_curs.fetchall()\n",
    "pclass_parents\n"
   ]
  },
  {
   "cell_type": "code",
   "execution_count": 18,
   "metadata": {},
   "outputs": [
    {
     "data": {
      "text/plain": [
       "[(Decimal('0.46491228070175438596'),), (Decimal('0.33211009174311926606'),)]"
      ]
     },
     "execution_count": 18,
     "metadata": {},
     "output_type": "execute_result"
    }
   ],
   "source": [
    "pg_curs.execute('SELECT AVG(parents_children_aboard) FROM titanic GROUP BY survived ORDER BY survived DESC')\n",
    "survival_parents = pg_curs.fetchall()\n",
    "survival_parents"
   ]
  },
  {
   "cell_type": "code",
   "execution_count": 19,
   "metadata": {},
   "outputs": [
    {
     "data": {
      "text/plain": [
       "[]"
      ]
     },
     "execution_count": 19,
     "metadata": {},
     "output_type": "execute_result"
    }
   ],
   "source": [
    "# Do any passengers have the same name?\n",
    "\n",
    "pg_curs.execute('SELECT name, COUNT(*) FROM titanic GROUP BY name HAVING COUNT(*) > 1')\n",
    "same_name = pg_curs.fetchall()\n",
    "same_name"
   ]
  }
 ],
 "metadata": {
  "kernelspec": {
   "display_name": "Python 3",
   "language": "python",
   "name": "python3"
  },
  "language_info": {
   "codemirror_mode": {
    "name": "ipython",
    "version": 3
   },
   "file_extension": ".py",
   "mimetype": "text/x-python",
   "name": "python",
   "nbconvert_exporter": "python",
   "pygments_lexer": "ipython3",
   "version": "3.7.4"
  }
 },
 "nbformat": 4,
 "nbformat_minor": 2
}
