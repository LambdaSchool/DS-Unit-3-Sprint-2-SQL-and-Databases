{
 "nbformat": 4,
 "nbformat_minor": 2,
 "metadata": {
  "language_info": {
   "name": "python",
   "codemirror_mode": {
    "name": "ipython",
    "version": 3
   }
  },
  "orig_nbformat": 2,
  "file_extension": ".py",
  "mimetype": "text/x-python",
  "name": "python",
  "npconvert_exporter": "python",
  "pygments_lexer": "ipython3",
  "version": 3
 },
 "cells": [
  {
   "cell_type": "code",
   "execution_count": 1,
   "metadata": {},
   "outputs": [],
   "source": [
    "import pymongo\n",
    "import sqlite3\n",
    "import pandas as pd\n",
    "import os"
   ]
  },
  {
   "cell_type": "code",
   "execution_count": 2,
   "metadata": {},
   "outputs": [],
   "source": [
    "# Mongo DB connection\n",
    "client = pymongo.MongoClient(os.getenv('MONGO_URL'))\n",
    "db = client['rpg']"
   ]
  },
  {
   "cell_type": "code",
   "execution_count": 3,
   "metadata": {},
   "outputs": [],
   "source": [
    "# Sqlite Connection\n",
    "conn = sqlite3.connect('rpg_db.sqlite3')\n",
    "curs = conn.cursor()"
   ]
  },
  {
   "cell_type": "code",
   "execution_count": 8,
   "metadata": {},
   "outputs": [],
   "source": [
    "# Function to take in sql queries and return pandas df\n",
    "def sql_to_df(query, connection=conn):\n",
    "    return pd.read_sql(query, connection)"
   ]
  },
  {
   "cell_type": "code",
   "execution_count": 9,
   "metadata": {},
   "outputs": [
    {
     "data": {
      "text/html": "<div>\n<style scoped>\n    .dataframe tbody tr th:only-of-type {\n        vertical-align: middle;\n    }\n\n    .dataframe tbody tr th {\n        vertical-align: top;\n    }\n\n    .dataframe thead th {\n        text-align: right;\n    }\n</style>\n<table border=\"1\" class=\"dataframe\">\n  <thead>\n    <tr style=\"text-align: right;\">\n      <th></th>\n      <th>item_ptr_id</th>\n      <th>power</th>\n    </tr>\n  </thead>\n  <tbody>\n    <tr>\n      <td>0</td>\n      <td>138</td>\n      <td>0</td>\n    </tr>\n    <tr>\n      <td>1</td>\n      <td>139</td>\n      <td>0</td>\n    </tr>\n    <tr>\n      <td>2</td>\n      <td>140</td>\n      <td>0</td>\n    </tr>\n    <tr>\n      <td>3</td>\n      <td>141</td>\n      <td>0</td>\n    </tr>\n    <tr>\n      <td>4</td>\n      <td>142</td>\n      <td>0</td>\n    </tr>\n  </tbody>\n</table>\n</div>",
      "text/plain": "   item_ptr_id  power\n0          138      0\n1          139      0\n2          140      0\n3          141      0\n4          142      0"
     },
     "execution_count": 9,
     "metadata": {},
     "output_type": "execute_result"
    }
   ],
   "source": [
    "# Test function \n",
    "sql_to_df('SELECT * FROM armory_weapon LIMIT 5;')"
   ]
  },
  {
   "cell_type": "code",
   "execution_count": 65,
   "metadata": {},
   "outputs": [],
   "source": [
    "# Create Collection for character inventory\n",
    "inventory = db['inventories']"
   ]
  },
  {
   "cell_type": "code",
   "execution_count": 66,
   "metadata": {},
   "outputs": [
    {
     "data": {
      "text/plain": "<pymongo.results.InsertManyResult at 0x236c8113508>"
     },
     "execution_count": 66,
     "metadata": {},
     "output_type": "execute_result"
    }
   ],
   "source": [
    "inv = sql_to_df('SELECT * FROM charactercreator_character_inventory;').to_dict(orient='records')\n",
    "inventory.insert_many(inv)"
   ]
  },
  {
   "cell_type": "code",
   "execution_count": 74,
   "metadata": {},
   "outputs": [
    {
     "data": {
      "text/html": "<div>\n<style scoped>\n    .dataframe tbody tr th:only-of-type {\n        vertical-align: middle;\n    }\n\n    .dataframe tbody tr th {\n        vertical-align: top;\n    }\n\n    .dataframe thead th {\n        text-align: right;\n    }\n</style>\n<table border=\"1\" class=\"dataframe\">\n  <thead>\n    <tr style=\"text-align: right;\">\n      <th></th>\n      <th>id</th>\n      <th>character_id</th>\n      <th>item_id</th>\n    </tr>\n  </thead>\n  <tbody>\n    <tr>\n      <td>0</td>\n      <td>42</td>\n      <td>13</td>\n      <td>125</td>\n    </tr>\n  </tbody>\n</table>\n</div>",
      "text/plain": "   id  character_id  item_id\n0  42            13      125"
     },
     "execution_count": 74,
     "metadata": {},
     "output_type": "execute_result"
    }
   ],
   "source": [
    "# Check results\n",
    "sql_to_df('SELECT * FROM charactercreator_character_inventory WHERE id=42;')"
   ]
  },
  {
   "cell_type": "code",
   "execution_count": 75,
   "metadata": {},
   "outputs": [
    {
     "data": {
      "text/plain": "{'_id': ObjectId('5dc4cbd269839188383464e9'),\n 'id': 42,\n 'character_id': 13,\n 'item_id': 125}"
     },
     "execution_count": 75,
     "metadata": {},
     "output_type": "execute_result"
    }
   ],
   "source": [
    "inventory.find_one({'id':42})"
   ]
  },
  {
   "cell_type": "markdown",
   "execution_count": 38,
   "metadata": {},
   "outputs": [],
   "source": [
    "# Let's Create collections for the rest of the tables"
   ]
  },
  {
   "cell_type": "code",
   "execution_count": 76,
   "metadata": {},
   "outputs": [],
   "source": [
    "table_list = [\n",
    "    'armory_item', \n",
    "    'armory_weapon',\n",
    "    'charactercreator_character',\n",
    "    'charactercreator_cleric',\n",
    "    'charactercreator_fighter',\n",
    "    'charactercreator_mage',\n",
    "    'charactercreator_thief',\n",
    "    'charactercreator_necromancer'\n",
    "] "
   ]
  },
  {
   "cell_type": "code",
   "execution_count": 77,
   "metadata": {},
   "outputs": [],
   "source": [
    "for i in table_list:\n",
    "    name = i.split('_')[-1] + 's'\n",
    "    collection = db[name]\n",
    "    collection.insert_many(sql_to_df(f'SELECT * FROM {i};').to_dict(orient='records'))"
   ]
  },
  {
   "cell_type": "markdown",
   "execution_count": null,
   "metadata": {},
   "outputs": [],
   "source": [
    "# Let's check our results"
   ]
  },
  {
   "cell_type": "code",
   "execution_count": 81,
   "metadata": {},
   "outputs": [
    {
     "data": {
      "text/html": "<div>\n<style scoped>\n    .dataframe tbody tr th:only-of-type {\n        vertical-align: middle;\n    }\n\n    .dataframe tbody tr th {\n        vertical-align: top;\n    }\n\n    .dataframe thead th {\n        text-align: right;\n    }\n</style>\n<table border=\"1\" class=\"dataframe\">\n  <thead>\n    <tr style=\"text-align: right;\">\n      <th></th>\n      <th>character_id</th>\n      <th>name</th>\n      <th>level</th>\n      <th>exp</th>\n      <th>hp</th>\n      <th>strength</th>\n      <th>intelligence</th>\n      <th>dexterity</th>\n      <th>wisdom</th>\n    </tr>\n  </thead>\n  <tbody>\n    <tr>\n      <td>0</td>\n      <td>42</td>\n      <td>Animi labo</td>\n      <td>0</td>\n      <td>0</td>\n      <td>10</td>\n      <td>1</td>\n      <td>1</td>\n      <td>1</td>\n      <td>1</td>\n    </tr>\n  </tbody>\n</table>\n</div>",
      "text/plain": "   character_id        name  level  exp  hp  strength  intelligence  \\\n0            42  Animi labo      0    0  10         1             1   \n\n   dexterity  wisdom  \n0          1       1  "
     },
     "execution_count": 81,
     "metadata": {},
     "output_type": "execute_result"
    }
   ],
   "source": [
    "sql_to_df('SELECT * FROM charactercreator_character WHERE character_id=42;')"
   ]
  },
  {
   "cell_type": "code",
   "execution_count": 83,
   "metadata": {},
   "outputs": [
    {
     "data": {
      "text/plain": "{'_id': ObjectId('5dc4ccbb698391883834693e'),\n 'character_id': 42,\n 'name': 'Animi labo',\n 'level': 0,\n 'exp': 0,\n 'hp': 10,\n 'strength': 1,\n 'intelligence': 1,\n 'dexterity': 1,\n 'wisdom': 1}"
     },
     "execution_count": 83,
     "metadata": {},
     "output_type": "execute_result"
    }
   ],
   "source": [
    "db['characters'].find_one({'character_id':42})"
   ]
  },
  {
   "cell_type": "code",
   "execution_count": 84,
   "metadata": {},
   "outputs": [
    {
     "data": {
      "text/html": "<div>\n<style scoped>\n    .dataframe tbody tr th:only-of-type {\n        vertical-align: middle;\n    }\n\n    .dataframe tbody tr th {\n        vertical-align: top;\n    }\n\n    .dataframe thead th {\n        text-align: right;\n    }\n</style>\n<table border=\"1\" class=\"dataframe\">\n  <thead>\n    <tr style=\"text-align: right;\">\n      <th></th>\n      <th>item_id</th>\n      <th>name</th>\n      <th>value</th>\n      <th>weight</th>\n    </tr>\n  </thead>\n  <tbody>\n    <tr>\n      <td>0</td>\n      <td>155</td>\n      <td>Voluptatum doloremque to</td>\n      <td>0</td>\n      <td>0</td>\n    </tr>\n  </tbody>\n</table>\n</div>",
      "text/plain": "   item_id                      name  value  weight\n0      155  Voluptatum doloremque to      0       0"
     },
     "execution_count": 84,
     "metadata": {},
     "output_type": "execute_result"
    }
   ],
   "source": [
    "sql_to_df('SELECT * FROM armory_item WHERE item_id=155;')"
   ]
  },
  {
   "cell_type": "code",
   "execution_count": 88,
   "metadata": {},
   "outputs": [
    {
     "data": {
      "text/plain": "{'_id': ObjectId('5dc4ccbb69839188383468dc'),\n 'item_id': 155,\n 'name': 'Voluptatum doloremque to',\n 'value': 0,\n 'weight': 0}"
     },
     "execution_count": 88,
     "metadata": {},
     "output_type": "execute_result"
    }
   ],
   "source": [
    "db['items'].find_one({'item_id':155})"
   ]
  },
  {
   "cell_type": "markdown",
   "execution_count": null,
   "metadata": {},
   "outputs": [],
   "source": [
    "# RPG QUERIES WITH MONGO"
   ]
  },
  {
   "cell_type": "markdown",
   "execution_count": null,
   "metadata": {},
   "outputs": [],
   "source": [
    "## How many total characters?"
   ]
  },
  {
   "cell_type": "code",
   "execution_count": 103,
   "metadata": {},
   "outputs": [
    {
     "data": {
      "text/plain": "302"
     },
     "execution_count": 103,
     "metadata": {},
     "output_type": "execute_result"
    }
   ],
   "source": [
    "db['characters'].count_documents({})"
   ]
  },
  {
   "cell_type": "markdown",
   "execution_count": null,
   "metadata": {},
   "outputs": [],
   "source": [
    "## How many of each specific subclass"
   ]
  },
  {
   "cell_type": "code",
   "execution_count": 109,
   "metadata": {},
   "outputs": [
    {
     "name": "stdout",
     "output_type": "stream",
     "text": "clerics: 75\nfighters: 68\nmages: 108\nnecromancers: 11\nthiefs: 51\n"
    }
   ],
   "source": [
    "# This is silly, I should've just combined everything\n",
    "classes = ['clerics', 'fighters', 'mages', 'necromancers', 'thiefs']\n",
    "amounts = []\n",
    "for i in classes:\n",
    "    print(f'{i}: {db[i].count_documents({})}')"
   ]
  },
  {
   "cell_type": "markdown",
   "execution_count": null,
   "metadata": {},
   "outputs": [],
   "source": [
    "# How many total Items?"
   ]
  },
  {
   "cell_type": "code",
   "execution_count": 110,
   "metadata": {},
   "outputs": [
    {
     "data": {
      "text/plain": "174"
     },
     "execution_count": 110,
     "metadata": {},
     "output_type": "execute_result"
    }
   ],
   "source": [
    "db['items'].count_documents({})"
   ]
  },
  {
   "cell_type": "markdown",
   "execution_count": null,
   "metadata": {},
   "outputs": [],
   "source": [
    "# How many of the items are weapons? How many are not?"
   ]
  },
  {
   "cell_type": "markdown",
   "execution_count": 111,
   "metadata": {},
   "outputs": [],
   "source": [
    "## I think it's time to just combine them all into a new collection that has all the information!"
   ]
  },
  {
   "cell_type": "code",
   "execution_count": 114,
   "metadata": {},
   "outputs": [],
   "source": [
    "# Thanks RICHMOND\n",
    "char_record = db['chars_full']\n",
    "char_record.create_index([('character_id', pymongo.ASCENDING)], unique=True)\n",
    "characters = sql_to_df('SELECT * FROM charactercreator_character').to_dict(orient='records')\n",
    "try:\n",
    "    char_record.insert_many(characters)\n",
    "except pymongo.errors.BulkWriteError as e:\n",
    "        print('Record already written')"
   ]
  },
  {
   "cell_type": "code",
   "execution_count": 116,
   "metadata": {},
   "outputs": [
    {
     "data": {
      "text/plain": "<pymongo.results.BulkWriteResult at 0x236cb716048>"
     },
     "execution_count": 116,
     "metadata": {},
     "output_type": "execute_result"
    }
   ],
   "source": [
    "# Add classes\n",
    "base_classes = [\n",
    "    'charactercreator_cleric',\n",
    "    'charactercreator_fighter',\n",
    "    'charactercreator_mage',\n",
    "    'charactercreator_thief',\n",
    "    'charactercreator_necromancer'\n",
    "]\n",
    "\n",
    "char_classes = {}\n",
    "\n",
    "operations = []\n",
    "for cls in base_classes:\n",
    "    for rec in sql_to_df(f'SELECT * FROM {cls}').to_dict(orient='records'):\n",
    "        char_foreign_key = 'mage_ptr_id' if cls == 'charactercreator_necromancer'\\\n",
    "        else 'character_ptr_id'\n",
    "        character_id = rec.pop(char_foreign_key)\n",
    "        class_name = cls.split('_')[-1]\n",
    "        rec[class_name] = True\n",
    "        char_classes.setdefault(character_id,[]).append(class_name)\n",
    "        rec['classes'] = char_classes[character_id]\n",
    "        rec['items'] = []\n",
    "        query = {'character_id': character_id}\n",
    "        operations.append(pymongo.UpdateOne(query, {'$set': rec}, upsert=True))\n",
    "char_record.bulk_write(operations)"
   ]
  },
  {
   "cell_type": "code",
   "execution_count": 117,
   "metadata": {},
   "outputs": [
    {
     "data": {
      "text/plain": "<pymongo.results.BulkWriteResult at 0x236cd8df348>"
     },
     "execution_count": 117,
     "metadata": {},
     "output_type": "execute_result"
    }
   ],
   "source": [
    "# Add items\n",
    "operations = []\n",
    "from math import isnan\n",
    "for rec in sql_to_df('''\n",
    "        SELECT character_id, ai.item_id, name, value, weight, power, weapon\n",
    "        FROM charactercreator_character_inventory AS ci \n",
    "        JOIN armory_item AS ai ON ci.item_id=ai.item_id\n",
    "        LEFT JOIN (SELECT *, True as weapon FROM armory_weapon) \n",
    "        AS aw on aw.item_ptr_id = ai.item_id\n",
    "        ORDER BY ai.item_id\n",
    "    ''').to_dict(orient='records'):\n",
    "    character_id = rec.pop('character_id')\n",
    "    keys = list(rec.keys())\n",
    "    for key in keys:\n",
    "        v = rec[key]     \n",
    "        if type(v) == float and isnan(v):\n",
    "            rec.pop(key)\n",
    "    if rec.get('weapon') == 1:\n",
    "        rec['weapon'] = True\n",
    "    query = {'character_id': character_id}\n",
    "    operations.append(pymongo.UpdateOne(query, {'$addToSet': {'items': rec}}, upsert=True))\n",
    "char_record.bulk_write(operations)"
   ]
  },
  {
   "cell_type": "markdown",
   "execution_count": null,
   "metadata": {},
   "outputs": [],
   "source": [
    "##### ^This is dope"
   ]
  },
  {
   "cell_type": "markdown",
   "execution_count": null,
   "metadata": {},
   "outputs": [],
   "source": [
    "# Back to the questions! How many of the items are weapons? How many are not?"
   ]
  },
  {
   "cell_type": "code",
   "execution_count": 148,
   "metadata": {},
   "outputs": [],
   "source": [
    "weps = char_record.aggregate([\n",
    "    {'$unwind': '$items'},\n",
    "    {'$match': {'items.weapon': True}},\n",
    "    {'$count': 'Total Weapons'}\n",
    "])"
   ]
  },
  {
   "cell_type": "code",
   "execution_count": 149,
   "metadata": {},
   "outputs": [
    {
     "data": {
      "text/plain": "[{'Total Weapons': 203}]"
     },
     "execution_count": 149,
     "metadata": {},
     "output_type": "execute_result"
    }
   ],
   "source": [
    "list(weps)"
   ]
  },
  {
   "cell_type": "code",
   "execution_count": 159,
   "metadata": {},
   "outputs": [
    {
     "data": {
      "text/plain": "[{'Non-Weapons': 695}]"
     },
     "execution_count": 159,
     "metadata": {},
     "output_type": "execute_result"
    }
   ],
   "source": [
    "list(char_record.aggregate([\n",
    "    {'$unwind': '$items'},\n",
    "    {'$match': {'items.weapon': {'$ne':True}}},\n",
    "    {'$count': 'Non-Weapons'}\n",
    "]))"
   ]
  },
  {
   "cell_type": "markdown",
   "execution_count": null,
   "metadata": {},
   "outputs": [],
   "source": [
    "# How many items does each character have? (Return first 20 rows)"
   ]
  },
  {
   "cell_type": "code",
   "execution_count": 161,
   "metadata": {},
   "outputs": [
    {
     "data": {
      "text/plain": "[{'_id': 1, 'name': 'Aliquid iste optio reiciendi', 'item_count': 3},\n {'_id': 2, 'name': 'Optio dolorem ex a', 'item_count': 3},\n {'_id': 3, 'name': 'Minus c', 'item_count': 2},\n {'_id': 4, 'name': 'Sit ut repr', 'item_count': 4},\n {'_id': 5, 'name': 'At id recusandae expl', 'item_count': 4},\n {'_id': 6, 'name': 'Non nobis et of', 'item_count': 1},\n {'_id': 7, 'name': 'Perferendis', 'item_count': 5},\n {'_id': 8, 'name': 'Accusantium amet quidem eve', 'item_count': 3},\n {'_id': 9, 'name': 'Sed nostrum inventore error m', 'item_count': 4},\n {'_id': 10, 'name': 'Harum repellendus omnis od', 'item_count': 4},\n {'_id': 11, 'name': 'Itaque ut commodi,', 'item_count': 3},\n {'_id': 12, 'name': 'Molestiae quis', 'item_count': 3},\n {'_id': 13, 'name': 'Ali', 'item_count': 4},\n {'_id': 14, 'name': 'Tempora quod optio possimus il', 'item_count': 4},\n {'_id': 15, 'name': 'Sed itaque beatae pari', 'item_count': 4},\n {'_id': 16, 'name': 'Quam dolor', 'item_count': 1},\n {'_id': 17, 'name': 'Molestias expedita', 'item_count': 5},\n {'_id': 18, 'name': 'Lauda', 'item_count': 5},\n {'_id': 19, 'name': 'Incidunt sint perferen', 'item_count': 3},\n {'_id': 20, 'name': 'Laboriosa', 'item_count': 1}]"
     },
     "execution_count": 161,
     "metadata": {},
     "output_type": "execute_result"
    }
   ],
   "source": [
    "list(char_record.aggregate([\n",
    "    {'$project': {'_id': '$character_id', 'name': '$name', 'item_count': {'$size': '$items'}}},\n",
    "    { '$limit': 20 }\n",
    "]))"
   ]
  },
  {
   "cell_type": "markdown",
   "execution_count": null,
   "metadata": {},
   "outputs": [],
   "source": [
    "# How many weapons does each character have? (Return first 20)"
   ]
  },
  {
   "cell_type": "code",
   "execution_count": 187,
   "metadata": {},
   "outputs": [
    {
     "data": {
      "text/plain": "[{'_id': 1, 'name': 'Aliquid iste optio reiciendi', 'Number of Weapons': 0},\n {'_id': 2, 'name': 'Optio dolorem ex a', 'Number of Weapons': 0},\n {'_id': 3, 'name': 'Minus c', 'Number of Weapons': 0},\n {'_id': 4, 'name': 'Sit ut repr', 'Number of Weapons': 0},\n {'_id': 5, 'name': 'At id recusandae expl', 'Number of Weapons': 0},\n {'_id': 6, 'name': 'Non nobis et of', 'Number of Weapons': 0},\n {'_id': 7, 'name': 'Perferendis', 'Number of Weapons': 0},\n {'_id': 8, 'name': 'Accusantium amet quidem eve', 'Number of Weapons': 0},\n {'_id': 9, 'name': 'Sed nostrum inventore error m', 'Number of Weapons': 0},\n {'_id': 10, 'name': 'Harum repellendus omnis od', 'Number of Weapons': 0},\n {'_id': 11, 'name': 'Itaque ut commodi,', 'Number of Weapons': 0},\n {'_id': 12, 'name': 'Molestiae quis', 'Number of Weapons': 0},\n {'_id': 13, 'name': 'Ali', 'Number of Weapons': 0},\n {'_id': 14, 'name': 'Tempora quod optio possimus il', 'Number of Weapons': 0},\n {'_id': 15, 'name': 'Sed itaque beatae pari', 'Number of Weapons': 0},\n {'_id': 16, 'name': 'Quam dolor', 'Number of Weapons': 0},\n {'_id': 17, 'name': 'Molestias expedita', 'Number of Weapons': 0},\n {'_id': 18, 'name': 'Lauda', 'Number of Weapons': 0},\n {'_id': 19, 'name': 'Incidunt sint perferen', 'Number of Weapons': 0},\n {'_id': 20, 'name': 'Laboriosa', 'Number of Weapons': 0}]"
     },
     "execution_count": 187,
     "metadata": {},
     "output_type": "execute_result"
    }
   ],
   "source": [
    "list(char_record.aggregate([\n",
    "    {'$unwind': '$items'},\n",
    "    {'$project': {'character_id':1, 'name':'$name', 'weaps': {'$cond' : [{'$eq':['$items.weapon', True]}, 1, 0]}}},\n",
    "    {'$group': {'_id':'$character_id', 'name':{'$first':'$name'}, 'Number of Weapons': {'$sum':'$weps'}}},\n",
    "    {'$sort' : {'_id':1}},\n",
    "    {'$limit': 20}\n",
    "]))"
   ]
  },
  {
   "cell_type": "markdown",
   "execution_count": null,
   "metadata": {},
   "outputs": [],
   "source": [
    "# On average, how many items does each Character have?"
   ]
  },
  {
   "cell_type": "code",
   "execution_count": 193,
   "metadata": {},
   "outputs": [
    {
     "data": {
      "text/plain": "[{'_id': '', 'Average Items': 2.9735099337748343}]"
     },
     "execution_count": 193,
     "metadata": {},
     "output_type": "execute_result"
    }
   ],
   "source": [
    "list(char_record.aggregate([\n",
    "    {'$unwind': '$items'},\n",
    "    {'$group': {'_id': '$character_id','count':{'$sum':1}}},\n",
    "    {'$group': {'_id': '', 'Average Items':{'$avg':'$count'}}},\n",
    "]))"
   ]
  },
  {
   "cell_type": "markdown",
   "execution_count": null,
   "metadata": {},
   "outputs": [],
   "source": [
    "# On average, how many weapons does each Character have?"
   ]
  },
  {
   "cell_type": "code",
   "execution_count": 195,
   "metadata": {},
   "outputs": [
    {
     "data": {
      "text/plain": "[{'_id': '', 'Average weapons': 0.6721854304635762}]"
     },
     "execution_count": 195,
     "metadata": {},
     "output_type": "execute_result"
    }
   ],
   "source": [
    "list(char_record.aggregate([\n",
    "    {'$unwind': '$items'},\n",
    "    {'$project': {'character_id': 1, 'weapons': \n",
    "                  {'$cond': [ { '$eq': [\"$items.weapon\", True] }, 1, 0]}}},\n",
    "    {'$group': {'_id': '$character_id', 'weapons': {'$sum':'$weapons'} }},\n",
    "    {'$group': {'_id':'', 'Average weapons':{'$avg':'$weapons'}}},\n",
    "    \n",
    "]))"
   ]
  },
  {
   "cell_type": "markdown",
   "execution_count": null,
   "metadata": {},
   "outputs": [],
   "source": [
    "I just have to say that there is no way I would have been able to do this without your help Richmond. It would have taken me a full week just to look up all of the pymongo commands, let alone what they look like in a mongo query."
   ]
  },
  {
   "cell_type": "code",
   "execution_count": null,
   "metadata": {},
   "outputs": [],
   "source": []
  }
 ]
}