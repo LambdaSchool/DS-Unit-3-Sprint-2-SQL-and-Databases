{
 "cells": [
  {
   "cell_type": "code",
   "execution_count": 1,
   "metadata": {},
   "outputs": [],
   "source": [
    "import psycopg2\n",
    "import pymongo\n",
    "import pandas as pd"
   ]
  },
  {
   "cell_type": "markdown",
   "metadata": {},
   "source": [
    "## Answer using queries of PostgreSQL Titanic database\n",
    "\n",
    "- How many passengers survived, and how many died?\n",
    "- How many passengers were in each class?\n",
    "- How many passengers survived/died within each class?\n",
    "- What was the average age of survivors vs nonsurvivors?\n",
    "- What was the average age of each passenger class?\n",
    "- What was the average fare by passenger class? By survival?\n",
    "- How many siblings/spouses aboard on average, by passenger class? By survival?\n",
    "- How many parents/children aboard on average, by passenger class? By survival?\n",
    "- Do any passengers have the same name?\n",
    "- (Bonus! Hard, may require pulling and processing with Python) How many married couples were aboard the Titanic? Assume that two people (one Mr. and one Mrs.) with the same last name and with at least 1 sibling/spouse aboard are a married couple."
   ]
  },
  {
   "cell_type": "code",
   "execution_count": 2,
   "metadata": {},
   "outputs": [],
   "source": [
    "# Create connection\n",
    "dbname = 'xgbbacwp'\n",
    "user = 'xgbbacwp'\n",
    "password = ''\n",
    "host = 'raja.db.elephantsql.com'\n",
    "\n",
    "# Create a connection\n",
    "pg_conn = psycopg2.connect(dbname=dbname, user=user,\n",
    "                           password=password, host=host)\n",
    "\n",
    "# Create a cursor and query table\n",
    "pg_curs = pg_conn.cursor()"
   ]
  },
  {
   "cell_type": "code",
   "execution_count": 3,
   "metadata": {},
   "outputs": [
    {
     "name": "stdout",
     "output_type": "stream",
     "text": [
      "How many passengers survived, and how many died?\n",
      "\n",
      "Number of passengers who survived: 342\n",
      "Number of passengers who died: 545\n"
     ]
    }
   ],
   "source": [
    "print('How many passengers survived, and how many died?')\n",
    "pg_curs.execute('''SELECT (SELECT COUNT(*) FROM Titanic WHERE survived = 1),\n",
    "                            (SELECT COUNT(*) FROM Titanic WHERE survived = 0);''')\n",
    "survived_list = pg_curs.fetchall()\n",
    "print('\\nNumber of passengers who survived:', survived_list[0][0])\n",
    "print('Number of passengers who died:', survived_list[0][1])"
   ]
  },
  {
   "cell_type": "code",
   "execution_count": 4,
   "metadata": {},
   "outputs": [
    {
     "name": "stdout",
     "output_type": "stream",
     "text": [
      "How many passengers were in each class?\n",
      "\n",
      "Number of passengers in 1st class: 216\n",
      "Number of passengers in 2nd class: 184\n",
      "Number of passengers in 3rd class: 487\n"
     ]
    }
   ],
   "source": [
    "print('How many passengers were in each class?')\n",
    "pg_curs.execute('''SELECT (SELECT COUNT(*) FROM Titanic WHERE pclass = 1),\n",
    "                            (SELECT COUNT(*) FROM Titanic WHERE pclass = 2),\n",
    "                            (SELECT COUNT(*) FROM Titanic WHERE pclass = 3);''')\n",
    "class_count = pg_curs.fetchall()\n",
    "print('\\nNumber of passengers in 1st class:', class_count[0][0])\n",
    "print('Number of passengers in 2nd class:', class_count[0][1])\n",
    "print('Number of passengers in 3rd class:', class_count[0][2])"
   ]
  },
  {
   "cell_type": "code",
   "execution_count": 5,
   "metadata": {},
   "outputs": [
    {
     "name": "stdout",
     "output_type": "stream",
     "text": [
      "How many passengers survived/died within each class?\n",
      "\n",
      "Number of passengers in 1st class who survived: 136\n",
      "Number of passengers in 1st class who died: 80\n",
      "\n",
      "Number of passengers in 2nd class who survived: 87\n",
      "Number of passengers in 2nd class who died: 97\n",
      "\n",
      "Number of passengers in 3rd class who survived: 119\n",
      "Number of passengers in 3rd class who died: 368\n"
     ]
    }
   ],
   "source": [
    "print('How many passengers survived/died within each class?')\n",
    "pg_curs.execute('''SELECT (SELECT COUNT(*) FROM Titanic WHERE pclass = 1 AND survived = 1),\n",
    "                            (SELECT COUNT(*) FROM Titanic WHERE pclass = 1 AND survived = 0),\n",
    "                            (SELECT COUNT(*) FROM Titanic WHERE pclass = 2 AND survived = 1),\n",
    "                            (SELECT COUNT(*) FROM Titanic WHERE pclass = 2 AND survived = 0),\n",
    "                            (SELECT COUNT(*) FROM Titanic WHERE pclass = 3 AND survived = 1),\n",
    "                            (SELECT COUNT(*) FROM Titanic WHERE pclass = 3 AND survived = 0);''')\n",
    "counts = pg_curs.fetchall()\n",
    "print('\\nNumber of passengers in 1st class who survived:', counts[0][0])\n",
    "print('Number of passengers in 1st class who died:', counts[0][1])\n",
    "print('\\nNumber of passengers in 2nd class who survived:', counts[0][2])\n",
    "print('Number of passengers in 2nd class who died:', counts[0][3])\n",
    "print('\\nNumber of passengers in 3rd class who survived:', counts[0][4])\n",
    "print('Number of passengers in 3rd class who died:', counts[0][5])"
   ]
  },
  {
   "cell_type": "code",
   "execution_count": 6,
   "metadata": {},
   "outputs": [
    {
     "name": "stdout",
     "output_type": "stream",
     "text": [
      "What was the average age of survivors vs nonsurvivors?\n",
      "\n",
      "Average age of survivors: 28\n",
      "Average age of nonsurvivors: 30\n"
     ]
    }
   ],
   "source": [
    "print('What was the average age of survivors vs nonsurvivors?')\n",
    "pg_curs.execute('''SELECT (SELECT AVG(age) FROM Titanic WHERE survived = 1),\n",
    "                            (SELECT AVG(age) FROM Titanic WHERE survived = 0);''')\n",
    "avg_age = pg_curs.fetchall()\n",
    "print('\\nAverage age of survivors:', round(avg_age[0][0], 0))\n",
    "print('Average age of nonsurvivors:', round(avg_age[0][1], 0))"
   ]
  },
  {
   "cell_type": "code",
   "execution_count": 7,
   "metadata": {},
   "outputs": [
    {
     "name": "stdout",
     "output_type": "stream",
     "text": [
      "What was the average age of each passenger class?\n",
      "\n",
      "Average age of 1st class passengers: 39\n",
      "Average age of 2nd class passengers: 30\n",
      "Average age of 3rd class passengers: 25\n"
     ]
    }
   ],
   "source": [
    "print('What was the average age of each passenger class?')\n",
    "pg_curs.execute('''SELECT (SELECT AVG(age) FROM Titanic WHERE pclass = 1),\n",
    "                            (SELECT AVG(age) FROM Titanic WHERE pclass = 2),\n",
    "                            (SELECT AVG(age) FROM Titanic WHERE pclass = 3);''')\n",
    "avg_age = pg_curs.fetchall()\n",
    "print('\\nAverage age of 1st class passengers:', round(avg_age[0][0], 0))\n",
    "print('Average age of 2nd class passengers:', round(avg_age[0][1], 0))\n",
    "print('Average age of 3rd class passengers:', round(avg_age[0][2], 0))"
   ]
  },
  {
   "cell_type": "code",
   "execution_count": 8,
   "metadata": {},
   "outputs": [
    {
     "name": "stdout",
     "output_type": "stream",
     "text": [
      "What was the average fare by passenger class? By survival?\n",
      "\n",
      "Average fare for 1st class passengers who survived: $ 95.61\n",
      "Average fare for 1st class passengers who died: $ 64.68\n",
      "\n",
      "Average fare for 2nd class passengers who survived: $ 22.06\n",
      "Average fare for 2nd class passengers who died: $ 19.41\n",
      "\n",
      "Average fare for 3rd class passengers who survived: $ 13.69\n",
      "Average fare for 3rd class passengers who died: $ 13.71\n"
     ]
    }
   ],
   "source": [
    "print('What was the average fare by passenger class? By survival?')\n",
    "pg_curs.execute('''SELECT (SELECT AVG(fare) FROM Titanic WHERE pclass = 1 AND survived = 1),\n",
    "                            (SELECT AVG(fare) FROM Titanic WHERE pclass = 1 AND survived = 0),\n",
    "                            (SELECT AVG(fare) FROM Titanic WHERE pclass = 2 AND survived = 1),\n",
    "                            (SELECT AVG(fare) FROM Titanic WHERE pclass = 2 AND survived = 0),\n",
    "                            (SELECT AVG(fare) FROM Titanic WHERE pclass = 3 AND survived = 1),\n",
    "                            (SELECT AVG(fare) FROM Titanic WHERE pclass = 3 AND survived = 0);''')\n",
    "avg_fare = pg_curs.fetchall()\n",
    "print('\\nAverage fare for 1st class passengers who survived: $', round(avg_fare[0][0], 2))\n",
    "print('Average fare for 1st class passengers who died: $', round(avg_fare[0][1], 2))\n",
    "print('\\nAverage fare for 2nd class passengers who survived: $', round(avg_fare[0][2], 2))\n",
    "print('Average fare for 2nd class passengers who died: $', round(avg_fare[0][3], 2))\n",
    "print('\\nAverage fare for 3rd class passengers who survived: $', round(avg_fare[0][4], 2))\n",
    "print('Average fare for 3rd class passengers who died: $', round(avg_fare[0][5], 2))"
   ]
  },
  {
   "cell_type": "code",
   "execution_count": 9,
   "metadata": {},
   "outputs": [
    {
     "name": "stdout",
     "output_type": "stream",
     "text": [
      "How many siblings/spouses aboard on average, by passenger class? By survival?\n"
     ]
    },
    {
     "data": {
      "text/plain": [
       "[(Decimal('0.28750000000000000000'),),\n",
       " (Decimal('0.49264705882352941176'),),\n",
       " (Decimal('0.31958762886597938144'),),\n",
       " (Decimal('0.49425287356321839080'),),\n",
       " (Decimal('0.67934782608695652174'),),\n",
       " (Decimal('0.43697478991596638655'),)]"
      ]
     },
     "execution_count": 9,
     "metadata": {},
     "output_type": "execute_result"
    }
   ],
   "source": [
    "print('How many siblings/spouses aboard on average, by passenger class? By survival?')\n",
    "pg_curs.execute('SELECT AVG(siblings_spouses) FROM Titanic GROUP BY pclass, survived ORDER BY pclass, survived')\n",
    "pg_curs.fetchall()"
   ]
  },
  {
   "cell_type": "code",
   "execution_count": 10,
   "metadata": {},
   "outputs": [
    {
     "name": "stdout",
     "output_type": "stream",
     "text": [
      "How many siblings/spouses aboard on average, by passenger class? By survival?\n",
      "\n",
      "1st class survivors, average siblings/spouses: 0.49\n",
      "1st class nonsurvivors, average siblings/spouses: 0.29\n",
      "\n",
      "2nd class survivors, average siblings/spouses: 0.49\n",
      "2nd class nonsurvivors, average siblings/spouses: 0.32\n",
      "\n",
      "3rd class survivors, average siblings/spouses: 0.44\n",
      "3rd class nonsurvivors, average siblings/spouses: 0.68\n"
     ]
    }
   ],
   "source": [
    "# I prefer the output on this version\n",
    "print('How many siblings/spouses aboard on average, by passenger class? By survival?')\n",
    "pg_curs.execute('''SELECT (SELECT AVG(siblings_spouses) FROM Titanic WHERE pclass = 1 AND survived = 1),\n",
    "                            (SELECT AVG(siblings_spouses) FROM Titanic WHERE pclass = 1 AND survived = 0),\n",
    "                            (SELECT AVG(siblings_spouses) FROM Titanic WHERE pclass = 2 AND survived = 1),\n",
    "                            (SELECT AVG(siblings_spouses) FROM Titanic WHERE pclass = 2 AND survived = 0),\n",
    "                            (SELECT AVG(siblings_spouses) FROM Titanic WHERE pclass = 3 AND survived = 1),\n",
    "                            (SELECT AVG(siblings_spouses) FROM Titanic WHERE pclass = 3 AND survived = 0);''')\n",
    "sib_spouse = pg_curs.fetchall()\n",
    "print('\\n1st class survivors, average siblings/spouses:', round(sib_spouse[0][0], 2))\n",
    "print('1st class nonsurvivors, average siblings/spouses:', round(sib_spouse[0][1], 2))\n",
    "print('\\n2nd class survivors, average siblings/spouses:', round(sib_spouse[0][2], 2))\n",
    "print('2nd class nonsurvivors, average siblings/spouses:', round(sib_spouse[0][3], 2))\n",
    "print('\\n3rd class survivors, average siblings/spouses:', round(sib_spouse[0][4], 2))\n",
    "print('3rd class nonsurvivors, average siblings/spouses:', round(sib_spouse[0][5], 2))"
   ]
  },
  {
   "cell_type": "code",
   "execution_count": 11,
   "metadata": {},
   "outputs": [
    {
     "name": "stdout",
     "output_type": "stream",
     "text": [
      "How many parents/children aboard on average, by passenger class? By survival?\n"
     ]
    },
    {
     "data": {
      "text/plain": [
       "[(Decimal('0.30000000000000000000'),),\n",
       " (Decimal('0.38970588235294117647'),),\n",
       " (Decimal('0.14432989690721649485'),),\n",
       " (Decimal('0.64367816091954022989'),),\n",
       " (Decimal('0.38858695652173913043'),),\n",
       " (Decimal('0.42016806722689075630'),)]"
      ]
     },
     "execution_count": 11,
     "metadata": {},
     "output_type": "execute_result"
    }
   ],
   "source": [
    "# Practicing grouping\n",
    "print('How many parents/children aboard on average, by passenger class? By survival?')\n",
    "pg_curs.execute('SELECT AVG(parents_children) FROM Titanic GROUP BY pclass, survived ORDER BY pclass, survived')\n",
    "pg_curs.fetchall()"
   ]
  },
  {
   "cell_type": "code",
   "execution_count": 12,
   "metadata": {},
   "outputs": [
    {
     "name": "stdout",
     "output_type": "stream",
     "text": [
      "How many parents/children aboard on average, by passenger class? By survival?\n",
      "\n",
      "1st class survivors, average parents/children: 0.39\n",
      "1st class nonsurvivors, average parents/children: 0.30\n",
      "\n",
      "2nd class survivors, average parents/children: 0.64\n",
      "2nd class nonsurvivors, average parents/children: 0.14\n",
      "\n",
      "3rd class survivors, average parents/children: 0.42\n",
      "3rd class nonsurvivors, average parents/children: 0.39\n"
     ]
    }
   ],
   "source": [
    "print('How many parents/children aboard on average, by passenger class? By survival?')\n",
    "pg_curs.execute('''SELECT (SELECT AVG(parents_children) FROM Titanic WHERE pclass = 1 AND survived = 1),\n",
    "                            (SELECT AVG(parents_children) FROM Titanic WHERE pclass = 1 AND survived = 0),\n",
    "                            (SELECT AVG(parents_children) FROM Titanic WHERE pclass = 2 AND survived = 1),\n",
    "                            (SELECT AVG(parents_children) FROM Titanic WHERE pclass = 2 AND survived = 0),\n",
    "                            (SELECT AVG(parents_children) FROM Titanic WHERE pclass = 3 AND survived = 1),\n",
    "                            (SELECT AVG(parents_children) FROM Titanic WHERE pclass = 3 AND survived = 0);''')\n",
    "sib_spouse = pg_curs.fetchall()\n",
    "print('\\n1st class survivors, average parents/children:', round(sib_spouse[0][0], 2))\n",
    "print('1st class nonsurvivors, average parents/children:', round(sib_spouse[0][1], 2))\n",
    "print('\\n2nd class survivors, average parents/children:', round(sib_spouse[0][2], 2))\n",
    "print('2nd class nonsurvivors, average parents/children:', round(sib_spouse[0][3], 2))\n",
    "print('\\n3rd class survivors, average parents/children:', round(sib_spouse[0][4], 2))\n",
    "print('3rd class nonsurvivors, average parents/children:', round(sib_spouse[0][5], 2))"
   ]
  },
  {
   "cell_type": "code",
   "execution_count": 13,
   "metadata": {},
   "outputs": [
    {
     "name": "stdout",
     "output_type": "stream",
     "text": [
      "Do any passengers have the same name?\n"
     ]
    },
    {
     "data": {
      "text/plain": [
       "[]"
      ]
     },
     "execution_count": 13,
     "metadata": {},
     "output_type": "execute_result"
    }
   ],
   "source": [
    "print('Do any passengers have the same name?')\n",
    "pg_curs.execute('SELECT name FROM Titanic GROUP BY name HAVING COUNT(name) > 1')\n",
    "pg_curs.fetchall()"
   ]
  }
 ],
 "metadata": {
  "kernelspec": {
   "display_name": "Python [conda env:lambda]",
   "language": "python",
   "name": "conda-env-lambda-py"
  },
  "language_info": {
   "codemirror_mode": {
    "name": "ipython",
    "version": 3
   },
   "file_extension": ".py",
   "mimetype": "text/x-python",
   "name": "python",
   "nbconvert_exporter": "python",
   "pygments_lexer": "ipython3",
   "version": "3.7.3"
  }
 },
 "nbformat": 4,
 "nbformat_minor": 2
}
