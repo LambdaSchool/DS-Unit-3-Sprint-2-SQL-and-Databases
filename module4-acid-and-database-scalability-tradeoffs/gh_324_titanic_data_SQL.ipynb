{
 "cells": [
  {
   "cell_type": "code",
   "execution_count": 1,
   "metadata": {},
   "outputs": [],
   "source": [
    "import pandas as pd\n",
    "import psycopg2\n",
    "import sqlite3"
   ]
  },
  {
   "cell_type": "code",
   "execution_count": 60,
   "metadata": {},
   "outputs": [],
   "source": [
    "sl_conn = sqlite3.connect('titanic.sqlite3')\n",
    "sl_curs = sl_conn.cursor()"
   ]
  },
  {
   "cell_type": "code",
   "execution_count": 111,
   "metadata": {},
   "outputs": [],
   "source": [
    "dbname = 'jzycbpdj'\n",
    "user = 'jzycbpdj'\n",
    "password = '1mJjvh-9Gz5Y5PJpjXfkEaehYguEKWwz'  # Don't commit this!\n",
    "host = 'raja.db.elephantsql.com'\n",
    "pg_conn = psycopg2.connect(dbname=dbname, user=user,\n",
    "                           password=password, host=host)\n",
    "pg_curs = pg_conn.cursor()"
   ]
  },
  {
   "cell_type": "code",
   "execution_count": 112,
   "metadata": {},
   "outputs": [
    {
     "data": {
      "text/plain": [
       "[('public', 'test_table', 'jzycbpdj', None, True, False, False, False),\n",
       " ('public',\n",
       "  'charactercreator_character',\n",
       "  'jzycbpdj',\n",
       "  None,\n",
       "  True,\n",
       "  False,\n",
       "  False,\n",
       "  False),\n",
       " ('public', 'titanic_table', 'jzycbpdj', None, True, False, False, False)]"
      ]
     },
     "execution_count": 112,
     "metadata": {},
     "output_type": "execute_result"
    }
   ],
   "source": [
    "# we can query tables if we want to check\n",
    "# this is a clever optional thing, showing postgresql internals\n",
    "show_tables = '''\n",
    "SELECT * FROM pg_catalog.pg_tables\n",
    "WHERE schemaname != 'pg_catalog'\n",
    "AND schemaname != 'information_schema';\n",
    "'''\n",
    "pg_curs.execute(show_tables)\n",
    "pg_curs.fetchall()"
   ]
  },
  {
   "cell_type": "code",
   "execution_count": 107,
   "metadata": {},
   "outputs": [
    {
     "data": {
      "text/plain": [
       "(1, 0, 3, 'Mr. Owen Harris Braund', 'male', 22.0, 1, 0, 7.25)"
      ]
     },
     "execution_count": 107,
     "metadata": {},
     "output_type": "execute_result"
    }
   ],
   "source": [
    "pg_curs.execute('SELECT * FROM titanic_table;')\n",
    "pg_curs.fetchone()"
   ]
  },
  {
   "cell_type": "code",
   "execution_count": 70,
   "metadata": {},
   "outputs": [
    {
     "ename": "InFailedSqlTransaction",
     "evalue": "current transaction is aborted, commands ignored until end of transaction block\n",
     "output_type": "error",
     "traceback": [
      "\u001b[1;31m---------------------------------------------------------------------------\u001b[0m",
      "\u001b[1;31mInFailedSqlTransaction\u001b[0m                    Traceback (most recent call last)",
      "\u001b[1;32m<ipython-input-70-c7b49e762c6a>\u001b[0m in \u001b[0;36m<module>\u001b[1;34m\u001b[0m\n\u001b[0;32m      1\u001b[0m \u001b[1;31m# Get column names\u001b[0m\u001b[1;33m\u001b[0m\u001b[1;33m\u001b[0m\u001b[1;33m\u001b[0m\u001b[0m\n\u001b[1;32m----> 2\u001b[1;33m \u001b[0mpg_curs\u001b[0m\u001b[1;33m.\u001b[0m\u001b[0mexecute\u001b[0m\u001b[1;33m(\u001b[0m\u001b[1;34m'SELECT * FROM titanic_table'\u001b[0m\u001b[1;33m)\u001b[0m\u001b[1;33m\u001b[0m\u001b[1;33m\u001b[0m\u001b[0m\n\u001b[0m\u001b[0;32m      3\u001b[0m \u001b[0mnext\u001b[0m\u001b[1;33m(\u001b[0m\u001b[0mzip\u001b[0m\u001b[1;33m(\u001b[0m\u001b[1;33m*\u001b[0m\u001b[0mpg_curs\u001b[0m\u001b[1;33m.\u001b[0m\u001b[0mdescription\u001b[0m\u001b[1;33m)\u001b[0m\u001b[1;33m)\u001b[0m\u001b[1;33m\u001b[0m\u001b[1;33m\u001b[0m\u001b[0m\n",
      "\u001b[1;31mInFailedSqlTransaction\u001b[0m: current transaction is aborted, commands ignored until end of transaction block\n"
     ]
    }
   ],
   "source": [
    "# Get column names\n",
    "pg_curs.execute('SELECT * FROM titanic_table')\n",
    "next(zip(*pg_curs.description))"
   ]
  },
  {
   "cell_type": "markdown",
   "metadata": {},
   "source": [
    "### How many passengers survived, and how many died?\n",
    "\n",
    "- 342 survived\n",
    "- 545 died"
   ]
  },
  {
   "cell_type": "code",
   "execution_count": 45,
   "metadata": {},
   "outputs": [
    {
     "data": {
      "text/plain": [
       "[(0, 545), (1, 342)]"
      ]
     },
     "execution_count": 45,
     "metadata": {},
     "output_type": "execute_result"
    }
   ],
   "source": [
    "query = '''\n",
    "SELECT survived, COUNT(*) AS num\n",
    "FROM titanic_table\n",
    "GROUP BY survived;\n",
    "'''\n",
    "pg_curs.execute(query)\n",
    "pg_curs.fetchall()"
   ]
  },
  {
   "cell_type": "markdown",
   "metadata": {},
   "source": [
    "### How many passengers were in each class?\n",
    "\n",
    "- 1st class - 216 passengers\n",
    "- 2nd class - 184 passengers\n",
    "- 3rd class - 487 passengers"
   ]
  },
  {
   "cell_type": "code",
   "execution_count": 46,
   "metadata": {},
   "outputs": [
    {
     "data": {
      "text/plain": [
       "[(1, 216), (3, 487), (2, 184)]"
      ]
     },
     "execution_count": 46,
     "metadata": {},
     "output_type": "execute_result"
    }
   ],
   "source": [
    "query = '''\n",
    "SELECT pclass, COUNT(*) AS num\n",
    "FROM titanic_table\n",
    "GROUP BY pclass;\n",
    "'''\n",
    "pg_curs.execute(query)\n",
    "pg_curs.fetchall()"
   ]
  },
  {
   "cell_type": "markdown",
   "metadata": {},
   "source": [
    "### How many passengers survived/died within each class?\n",
    "\n",
    "- 1st class - 136 survived, 80 died\n",
    "- 2nd class - 87 survived, 97 died\n",
    "- 3rd class - 119 survived, 368 died"
   ]
  },
  {
   "cell_type": "code",
   "execution_count": 47,
   "metadata": {},
   "outputs": [
    {
     "data": {
      "text/plain": [
       "[(1, 136), (3, 119), (2, 87)]"
      ]
     },
     "execution_count": 47,
     "metadata": {},
     "output_type": "execute_result"
    }
   ],
   "source": [
    "query = '''\n",
    "SELECT pclass, COUNT(*) AS num\n",
    "FROM titanic_table\n",
    "WHERE survived = 1\n",
    "GROUP BY pclass;\n",
    "'''\n",
    "pg_curs.execute(query)\n",
    "pg_curs.fetchall()"
   ]
  },
  {
   "cell_type": "code",
   "execution_count": 48,
   "metadata": {},
   "outputs": [
    {
     "data": {
      "text/plain": [
       "[(1, 80), (3, 368), (2, 97)]"
      ]
     },
     "execution_count": 48,
     "metadata": {},
     "output_type": "execute_result"
    }
   ],
   "source": [
    "query = '''\n",
    "SELECT pclass, COUNT(*) AS num\n",
    "FROM titanic_table\n",
    "WHERE survived = 0\n",
    "GROUP BY pclass;\n",
    "'''\n",
    "pg_curs.execute(query)\n",
    "pg_curs.fetchall()"
   ]
  },
  {
   "cell_type": "markdown",
   "metadata": {},
   "source": [
    "### What was the average age of survivors vs nonsurvivors?\n",
    "\n",
    "- Survivors - 28.4 avg age\n",
    "- Nonsurvivors - 30.14 avg age"
   ]
  },
  {
   "cell_type": "code",
   "execution_count": 64,
   "metadata": {},
   "outputs": [
    {
     "data": {
      "text/plain": [
       "[(0, 30.13853211009174), (1, 28.408391812865496)]"
      ]
     },
     "execution_count": 64,
     "metadata": {},
     "output_type": "execute_result"
    }
   ],
   "source": [
    "query = '''\n",
    "SELECT survived, avg(age)\n",
    "FROM titanic_table\n",
    "GROUP BY survived;\n",
    "'''\n",
    "sl_curs.execute(query)\n",
    "sl_curs.fetchall()"
   ]
  },
  {
   "cell_type": "markdown",
   "metadata": {},
   "source": [
    "### What was the average age of each passenger class?\n",
    "\n",
    "- Class 1 - 38.79 avg age\n",
    "- Class 2 - 29.87 avg age\n",
    "- Class 3 - 25.19 avg age"
   ]
  },
  {
   "cell_type": "code",
   "execution_count": 66,
   "metadata": {},
   "outputs": [
    {
     "data": {
      "text/plain": [
       "[(1, 38.78898148148148), (2, 29.868641304347825), (3, 25.188747433264886)]"
      ]
     },
     "execution_count": 66,
     "metadata": {},
     "output_type": "execute_result"
    }
   ],
   "source": [
    "query = '''\n",
    "SELECT pclass, avg(age)\n",
    "FROM titanic_table\n",
    "GROUP BY pclass;\n",
    "'''\n",
    "sl_curs.execute(query)\n",
    "sl_curs.fetchall()"
   ]
  },
  {
   "cell_type": "markdown",
   "metadata": {},
   "source": [
    "### What was the average fare by passenger class?\n",
    "\n",
    "- Class 1 - 84.15 avg fare\n",
    "- Class 2 - 20.66 avg fare\n",
    "- Class 3 - 13.71 avg fare"
   ]
  },
  {
   "cell_type": "code",
   "execution_count": 67,
   "metadata": {},
   "outputs": [
    {
     "data": {
      "text/plain": [
       "[(1, 84.15468749999992), (2, 20.66218315217391), (3, 13.707707392197129)]"
      ]
     },
     "execution_count": 67,
     "metadata": {},
     "output_type": "execute_result"
    }
   ],
   "source": [
    "query = '''\n",
    "SELECT pclass, avg(fare)\n",
    "FROM titanic_table\n",
    "GROUP BY pclass;\n",
    "'''\n",
    "sl_curs.execute(query)\n",
    "sl_curs.fetchall()"
   ]
  },
  {
   "cell_type": "markdown",
   "metadata": {},
   "source": [
    "### What was the average fare by survival?\n",
    "\n",
    "- Survivors - 48.40 avg fare\n",
    "- Nonsurvivors - 22.21 avg fare"
   ]
  },
  {
   "cell_type": "code",
   "execution_count": 68,
   "metadata": {},
   "outputs": [
    {
     "data": {
      "text/plain": [
       "[(0, 22.208584036697225), (1, 48.39540760233917)]"
      ]
     },
     "execution_count": 68,
     "metadata": {},
     "output_type": "execute_result"
    }
   ],
   "source": [
    "query = '''\n",
    "SELECT survived, avg(fare)\n",
    "FROM titanic_table\n",
    "GROUP BY survived;\n",
    "'''\n",
    "sl_curs.execute(query)\n",
    "sl_curs.fetchall()"
   ]
  },
  {
   "cell_type": "markdown",
   "metadata": {},
   "source": [
    "### How many siblings/spouses aboard on average, by passenger class?\n",
    "\n",
    "- Class 1 - 0.42 avg siblings/spouses aboard\n",
    "- Class 2 - 0.40 avg siblings/spouses aboard\n",
    "- Class 3 - 0.62 avg siblings/spouses aboard"
   ]
  },
  {
   "cell_type": "code",
   "execution_count": 77,
   "metadata": {},
   "outputs": [
    {
     "data": {
      "text/plain": [
       "[(1, 0.4166666666666667), (2, 0.40217391304347827), (3, 0.6201232032854209)]"
      ]
     },
     "execution_count": 77,
     "metadata": {},
     "output_type": "execute_result"
    }
   ],
   "source": [
    "query = '''\n",
    "SELECT pclass, avg(`Siblings/Spouses Aboard`)\n",
    "FROM titanic_table\n",
    "GROUP BY pclass;\n",
    "'''\n",
    "sl_curs.execute(query)\n",
    "sl_curs.fetchall()"
   ]
  },
  {
   "cell_type": "markdown",
   "metadata": {},
   "source": [
    "### How many siblings/spouses aboard on average, by survival?\n",
    "\n",
    "- Survivors - 0.47 avg siblings/spouses aboard\n",
    "- Nonsurvivors - 0.56 avg siblings/spouses aboard"
   ]
  },
  {
   "cell_type": "code",
   "execution_count": 78,
   "metadata": {},
   "outputs": [
    {
     "data": {
      "text/plain": [
       "[(0, 0.5577981651376147), (1, 0.47368421052631576)]"
      ]
     },
     "execution_count": 78,
     "metadata": {},
     "output_type": "execute_result"
    }
   ],
   "source": [
    "query = '''\n",
    "SELECT survived, avg(`Siblings/Spouses Aboard`)\n",
    "FROM titanic_table\n",
    "GROUP BY survived;\n",
    "'''\n",
    "sl_curs.execute(query)\n",
    "sl_curs.fetchall()"
   ]
  },
  {
   "cell_type": "markdown",
   "metadata": {},
   "source": [
    "### How many parents/children aboard on average, by passenger class?\n",
    "\n",
    "- Class 1 - 0.36 avg parents/children aboard\n",
    "- Class 2 - 0.38 avg parents/children aboard\n",
    "- Class 3 - 0.40 avg parents/children aboard"
   ]
  },
  {
   "cell_type": "code",
   "execution_count": 79,
   "metadata": {},
   "outputs": [
    {
     "data": {
      "text/plain": [
       "[(1, 0.35648148148148145), (2, 0.3804347826086957), (3, 0.39630390143737165)]"
      ]
     },
     "execution_count": 79,
     "metadata": {},
     "output_type": "execute_result"
    }
   ],
   "source": [
    "query = '''\n",
    "SELECT pclass, avg(`Parents/Children Aboard`)\n",
    "FROM titanic_table\n",
    "GROUP BY pclass;\n",
    "'''\n",
    "sl_curs.execute(query)\n",
    "sl_curs.fetchall()"
   ]
  },
  {
   "cell_type": "markdown",
   "metadata": {},
   "source": [
    "### How many parents/children aboard on average, by survival?\n",
    "\n",
    "- Survivors - 0.46 avg parents/children aboard\n",
    "- Nonsurvivors - 0.33 avg parents/children aboard"
   ]
  },
  {
   "cell_type": "code",
   "execution_count": 80,
   "metadata": {},
   "outputs": [
    {
     "data": {
      "text/plain": [
       "[(0, 0.3321100917431193), (1, 0.4649122807017544)]"
      ]
     },
     "execution_count": 80,
     "metadata": {},
     "output_type": "execute_result"
    }
   ],
   "source": [
    "query = '''\n",
    "SELECT survived, avg(`Parents/Children Aboard`)\n",
    "FROM titanic_table\n",
    "GROUP BY survived;\n",
    "'''\n",
    "sl_curs.execute(query)\n",
    "sl_curs.fetchall()"
   ]
  },
  {
   "cell_type": "markdown",
   "metadata": {},
   "source": [
    "### Do any passengers have the same name?"
   ]
  },
  {
   "cell_type": "code",
   "execution_count": 108,
   "metadata": {},
   "outputs": [
    {
     "data": {
      "text/plain": [
       "[(Decimal('574'),)]"
      ]
     },
     "execution_count": 108,
     "metadata": {},
     "output_type": "execute_result"
    }
   ],
   "source": [
    "query = '''\n",
    "SELECT SUM(total.ct)\n",
    "FROM (\n",
    "SELECT table_a.first_name, count(*) as ct\n",
    "FROM (\n",
    "SELECT split_part(name, ' ', 2) AS first_name\n",
    "FROM titanic_table\n",
    ") AS table_a\n",
    "GROUP BY table_a.first_name\n",
    "HAVING COUNT(*) > 1\n",
    ") AS total\n",
    "'''\n",
    "pg_curs.execute(query)\n",
    "pg_curs.fetchall()"
   ]
  },
  {
   "cell_type": "markdown",
   "metadata": {},
   "source": [
    "### Do any passengers have the same first name?"
   ]
  },
  {
   "cell_type": "code",
   "execution_count": 113,
   "metadata": {},
   "outputs": [
    {
     "data": {
      "text/plain": [
       "[('Edward', 13),\n",
       " ('Emil', 3),\n",
       " ('Dickinson', 2),\n",
       " ('Rene', 3),\n",
       " ('Washington', 2),\n",
       " ('Susan', 2),\n",
       " ('Henry', 15),\n",
       " ('Josef', 2),\n",
       " ('Maurice', 2),\n",
       " ('August', 4),\n",
       " ('Johan', 10),\n",
       " ('Robert', 6),\n",
       " ('Hanna', 3),\n",
       " ('Elizabeth', 6),\n",
       " ('Bertram', 2),\n",
       " ('Victor', 6),\n",
       " ('Augusta', 3),\n",
       " ('Edvard', 2),\n",
       " ('Charles', 16),\n",
       " ('Lalio', 2),\n",
       " ('Walter', 5),\n",
       " ('Lillian', 2),\n",
       " ('Edgar', 2),\n",
       " ('Sinai', 2),\n",
       " ('James', 15),\n",
       " ('Daniel', 4),\n",
       " ('Benjamin', 4),\n",
       " ('Samuel', 9),\n",
       " ('Frederic', 2),\n",
       " ('Hugh', 2),\n",
       " ('Elsie', 2),\n",
       " ('Johannes', 2),\n",
       " ('Richard', 11),\n",
       " ('Andrew', 2),\n",
       " ('Leonard', 2),\n",
       " ('Thomas', 18),\n",
       " ('Hanora', 3),\n",
       " ('Nils', 4),\n",
       " ('Eugene', 2),\n",
       " ('Jacob', 2),\n",
       " ('Ernst', 5),\n",
       " ('William', 48),\n",
       " ('Viktor', 2),\n",
       " ('Harold', 2),\n",
       " ('David', 4),\n",
       " ('Madeleine', 2),\n",
       " ('Patrick', 4),\n",
       " ('Juha', 3),\n",
       " ('Bridget', 2),\n",
       " ('Jakob', 3),\n",
       " ('Norman', 2),\n",
       " ('Anna', 9),\n",
       " ('Juho', 2),\n",
       " ('Mauritz', 2),\n",
       " ('Constance', 2),\n",
       " ('Ivan', 4),\n",
       " ('Jean', 3),\n",
       " ('Timothy', 2),\n",
       " ('Reginald', 3),\n",
       " ('Frederick', 13),\n",
       " ('Ernest', 6),\n",
       " ('Antoni', 2),\n",
       " ('Gerious', 2),\n",
       " ('Leo', 3),\n",
       " ('Marion', 2),\n",
       " ('Wilhelm', 2),\n",
       " ('George', 16),\n",
       " ('Alexander', 5),\n",
       " ('Erik', 2),\n",
       " ('Michel', 2),\n",
       " ('Arthur', 7),\n",
       " ('Karl', 9),\n",
       " ('Ida', 2),\n",
       " ('Anders', 3),\n",
       " ('Kate', 3),\n",
       " ('Luka', 2),\n",
       " ('Amelia', 2),\n",
       " ('Owen', 2),\n",
       " ('Sidney', 4),\n",
       " ('Ellen', 4),\n",
       " ('(Elizabeth', 2),\n",
       " ('Peter', 6),\n",
       " ('Bertha', 4),\n",
       " ('Matti', 2),\n",
       " ('Frank', 5),\n",
       " ('Stephen', 3),\n",
       " ('Hudson', 2),\n",
       " ('Harvey', 2),\n",
       " ('Lawrence', 2),\n",
       " ('Marija', 2),\n",
       " ('Marie', 2),\n",
       " ('Amin', 2),\n",
       " ('Albert', 7),\n",
       " ('Emily', 2),\n",
       " ('Harry', 5),\n",
       " ('Katherine', 3),\n",
       " ('Nicholas', 2),\n",
       " ('Antti', 2),\n",
       " ('Carl', 3),\n",
       " ('Mary', 9),\n",
       " ('Margaret', 6),\n",
       " ('Lee', 2),\n",
       " ('Marjorie', 2),\n",
       " ('Hans', 4),\n",
       " ('Stanley', 2),\n",
       " ('Gustaf', 2),\n",
       " ('Catherine', 2),\n",
       " ('Elmer', 2),\n",
       " ('Francis', 3),\n",
       " ('Percival', 4),\n",
       " ('Helen', 4),\n",
       " ('Lewis', 2),\n",
       " ('Tannous', 3),\n",
       " ('Pekka', 2),\n",
       " ('Martin', 4),\n",
       " ('Joseph', 9),\n",
       " ('Manuel', 2),\n",
       " ('Alice', 5),\n",
       " ('Anthony', 2),\n",
       " ('Mabel', 2),\n",
       " ('John', 31),\n",
       " ('Alfred', 7),\n",
       " ('Eino', 2),\n",
       " ('Edwy', 2),\n",
       " ('Annie', 3),\n",
       " ('Jacques', 2)]"
      ]
     },
     "execution_count": 113,
     "metadata": {},
     "output_type": "execute_result"
    }
   ],
   "source": [
    "query = '''\n",
    "SELECT a.first_name, count(*)\n",
    "FROM (SELECT split_part(name, ' ', 2) AS first_name\n",
    "FROM titanic_table) as a\n",
    "GROUP BY a.first_name\n",
    "HAVING COUNT(*) > 1\n",
    "'''\n",
    "pg_curs.execute(query)\n",
    "pg_curs.fetchall()"
   ]
  },
  {
   "cell_type": "code",
   "execution_count": 71,
   "metadata": {},
   "outputs": [
    {
     "data": {
      "text/plain": [
       "('index',\n",
       " 'Survived',\n",
       " 'Pclass',\n",
       " 'Name',\n",
       " 'Sex',\n",
       " 'Age',\n",
       " 'Siblings/Spouses Aboard',\n",
       " 'Parents/Children Aboard',\n",
       " 'Fare')"
      ]
     },
     "execution_count": 71,
     "metadata": {},
     "output_type": "execute_result"
    }
   ],
   "source": [
    "# Get column names\n",
    "sl_curs.execute('SELECT * FROM titanic_table')\n",
    "next(zip(*sl_curs.description))"
   ]
  },
  {
   "cell_type": "code",
   "execution_count": 101,
   "metadata": {},
   "outputs": [
    {
     "data": {
      "text/plain": [
       "[(0, 'index', 'INTEGER', 0, None, 0),\n",
       " (1, 'Survived', 'INTEGER', 0, None, 0),\n",
       " (2, 'Pclass', 'INTEGER', 0, None, 0),\n",
       " (3, 'Name', 'TEXT', 0, None, 0),\n",
       " (4, 'Sex', 'TEXT', 0, None, 0),\n",
       " (5, 'Age', 'REAL', 0, None, 0),\n",
       " (6, 'Siblings/Spouses Aboard', 'INTEGER', 0, None, 0),\n",
       " (7, 'Parents/Children Aboard', 'INTEGER', 0, None, 0),\n",
       " (8, 'Fare', 'REAL', 0, None, 0)]"
      ]
     },
     "execution_count": 101,
     "metadata": {},
     "output_type": "execute_result"
    }
   ],
   "source": [
    "sl_curs.execute('PRAGMA table_info(titanic_table)')\n",
    "sl_curs.fetchall()"
   ]
  }
 ],
 "metadata": {
  "kernelspec": {
   "display_name": "Python 3",
   "language": "python",
   "name": "python3"
  },
  "language_info": {
   "codemirror_mode": {
    "name": "ipython",
    "version": 3
   },
   "file_extension": ".py",
   "mimetype": "text/x-python",
   "name": "python",
   "nbconvert_exporter": "python",
   "pygments_lexer": "ipython3",
   "version": "3.7.3"
  }
 },
 "nbformat": 4,
 "nbformat_minor": 2
}
