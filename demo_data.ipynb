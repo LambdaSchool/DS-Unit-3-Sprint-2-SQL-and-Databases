{
  "nbformat": 4,
  "nbformat_minor": 0,
  "metadata": {
    "colab": {
      "name": "demo_data",
      "version": "0.3.2",
      "provenance": [],
      "include_colab_link": true
    },
    "kernelspec": {
      "name": "python3",
      "display_name": "Python 3"
    }
  },
  "cells": [
    {
      "cell_type": "markdown",
      "metadata": {
        "id": "view-in-github",
        "colab_type": "text"
      },
      "source": [
        "<a href=\"https://colab.research.google.com/github/Jaavion/DS-Unit-3-Sprint-2-SQL-and-Databases/blob/master/demo_data.ipynb\" target=\"_parent\"><img src=\"https://colab.research.google.com/assets/colab-badge.svg\" alt=\"Open In Colab\"/></a>"
      ]
    },
    {
      "cell_type": "code",
      "metadata": {
        "id": "UvMyl17ImRiv",
        "colab_type": "code",
        "colab": {}
      },
      "source": [
        "import sqlite3\n"
      ],
      "execution_count": 0,
      "outputs": []
    },
    {
      "cell_type": "code",
      "metadata": {
        "id": "Rrp-_OpImagJ",
        "colab_type": "code",
        "colab": {}
      },
      "source": [
        "connection = sqlite3.connect(\"demo_data.sqlite3\") \n",
        " "
      ],
      "execution_count": 0,
      "outputs": []
    },
    {
      "cell_type": "code",
      "metadata": {
        "id": "hNjHMJ_Tmriu",
        "colab_type": "code",
        "colab": {}
      },
      "source": [
        "crsr = connection.cursor() \n"
      ],
      "execution_count": 0,
      "outputs": []
    },
    {
      "cell_type": "code",
      "metadata": {
        "id": "PQsxtc-nmuX7",
        "colab_type": "code",
        "colab": {}
      },
      "source": [
        "sql_command = \"\"\"CREATE TABLE demo(  \n",
        "s varchar(1)PRIMARY KEY,  \n",
        "x integer not null,  \n",
        "y integer not null \n",
        ");\"\"\""
      ],
      "execution_count": 0,
      "outputs": []
    },
    {
      "cell_type": "code",
      "metadata": {
        "id": "fBRzO8WAnNhF",
        "colab_type": "code",
        "colab": {
          "base_uri": "https://localhost:8080/",
          "height": 34
        },
        "outputId": "9e8ebc78-e7a2-48af-f40b-3f96dd0f5d6b"
      },
      "source": [
        "crsr.execute(sql_command) \n"
      ],
      "execution_count": 10,
      "outputs": [
        {
          "output_type": "execute_result",
          "data": {
            "text/plain": [
              "<sqlite3.Cursor at 0x7f4ba09548f0>"
            ]
          },
          "metadata": {
            "tags": []
          },
          "execution_count": 10
        }
      ]
    },
    {
      "cell_type": "code",
      "metadata": {
        "id": "yLSCvv2MnWXK",
        "colab_type": "code",
        "colab": {
          "base_uri": "https://localhost:8080/",
          "height": 34
        },
        "outputId": "0d3384a2-d4a9-47f0-b0de-fd62173aacf0"
      },
      "source": [
        "sql_command = \"\"\"INSERT INTO demo VALUES ('g', 3, 9);\"\"\"\n",
        "crsr.execute(sql_command) "
      ],
      "execution_count": 12,
      "outputs": [
        {
          "output_type": "execute_result",
          "data": {
            "text/plain": [
              "<sqlite3.Cursor at 0x7f4ba09548f0>"
            ]
          },
          "metadata": {
            "tags": []
          },
          "execution_count": 12
        }
      ]
    },
    {
      "cell_type": "code",
      "metadata": {
        "id": "FPq0pPaansiy",
        "colab_type": "code",
        "colab": {
          "base_uri": "https://localhost:8080/",
          "height": 34
        },
        "outputId": "6b0d7222-41e6-4f7e-8117-492541968a99"
      },
      "source": [
        "sql_command = \"\"\"INSERT INTO demo VALUES ('v', 5, 7);\"\"\"\n",
        "crsr.execute(sql_command) "
      ],
      "execution_count": 13,
      "outputs": [
        {
          "output_type": "execute_result",
          "data": {
            "text/plain": [
              "<sqlite3.Cursor at 0x7f4ba09548f0>"
            ]
          },
          "metadata": {
            "tags": []
          },
          "execution_count": 13
        }
      ]
    },
    {
      "cell_type": "code",
      "metadata": {
        "id": "WuEIWSqtnv6b",
        "colab_type": "code",
        "colab": {
          "base_uri": "https://localhost:8080/",
          "height": 34
        },
        "outputId": "0176068f-3260-4226-d033-7e8c506e802f"
      },
      "source": [
        "sql_command = \"\"\"INSERT INTO demo VALUES ('f', 8, 7);\"\"\"\n",
        "crsr.execute(sql_command) "
      ],
      "execution_count": 14,
      "outputs": [
        {
          "output_type": "execute_result",
          "data": {
            "text/plain": [
              "<sqlite3.Cursor at 0x7f4ba09548f0>"
            ]
          },
          "metadata": {
            "tags": []
          },
          "execution_count": 14
        }
      ]
    },
    {
      "cell_type": "code",
      "metadata": {
        "id": "B8ZcZNjLoJ-C",
        "colab_type": "code",
        "colab": {}
      },
      "source": [
        ""
      ],
      "execution_count": 0,
      "outputs": []
    },
    {
      "cell_type": "code",
      "metadata": {
        "id": "StvwwkkWnycm",
        "colab_type": "code",
        "colab": {}
      },
      "source": [
        "connection.commit() \n"
      ],
      "execution_count": 0,
      "outputs": []
    },
    {
      "cell_type": "code",
      "metadata": {
        "id": "w49qSF_Xn7Bd",
        "colab_type": "code",
        "colab": {}
      },
      "source": [
        "connection.close()"
      ],
      "execution_count": 0,
      "outputs": []
    },
    {
      "cell_type": "code",
      "metadata": {
        "id": "5jS6b5non8FS",
        "colab_type": "code",
        "colab": {}
      },
      "source": [
        "connection = sqlite3.connect(\"demo_data.sqlite3\") \n"
      ],
      "execution_count": 0,
      "outputs": []
    },
    {
      "cell_type": "code",
      "metadata": {
        "id": "xUs4DP0ioIHj",
        "colab_type": "code",
        "colab": {}
      },
      "source": [
        "crsr = connection.cursor() \n"
      ],
      "execution_count": 0,
      "outputs": []
    },
    {
      "cell_type": "code",
      "metadata": {
        "id": "b5af4Wp_oKop",
        "colab_type": "code",
        "colab": {
          "base_uri": "https://localhost:8080/",
          "height": 34
        },
        "outputId": "17ad8151-2577-4c26-85fd-076c8aa5f9f9"
      },
      "source": [
        "crsr.execute(\"SELECT COUNT(*) FROM demo\")  \n"
      ],
      "execution_count": 20,
      "outputs": [
        {
          "output_type": "execute_result",
          "data": {
            "text/plain": [
              "<sqlite3.Cursor at 0x7f4ba0954c00>"
            ]
          },
          "metadata": {
            "tags": []
          },
          "execution_count": 20
        }
      ]
    },
    {
      "cell_type": "code",
      "metadata": {
        "id": "6j-gYjsHoR6L",
        "colab_type": "code",
        "colab": {
          "base_uri": "https://localhost:8080/",
          "height": 34
        },
        "outputId": "42698782-5c82-415a-b6c0-e53ca5874ecc"
      },
      "source": [
        "ans= crsr.fetchall()  \n",
        "for i in ans: \n",
        "    print(i) "
      ],
      "execution_count": 21,
      "outputs": [
        {
          "output_type": "stream",
          "text": [
            "(3,)\n"
          ],
          "name": "stdout"
        }
      ]
    },
    {
      "cell_type": "code",
      "metadata": {
        "id": "eR2LvjYcofZN",
        "colab_type": "code",
        "colab": {
          "base_uri": "https://localhost:8080/",
          "height": 34
        },
        "outputId": "2bd02339-3b98-4233-d366-3ef7f024d4b4"
      },
      "source": [
        "crsr.execute(\"SELECT COUNT (DISTINCT y) FROM demo\")  \n"
      ],
      "execution_count": 25,
      "outputs": [
        {
          "output_type": "execute_result",
          "data": {
            "text/plain": [
              "<sqlite3.Cursor at 0x7f4ba0954c00>"
            ]
          },
          "metadata": {
            "tags": []
          },
          "execution_count": 25
        }
      ]
    },
    {
      "cell_type": "code",
      "metadata": {
        "id": "WYMYmcq6ovLj",
        "colab_type": "code",
        "colab": {
          "base_uri": "https://localhost:8080/",
          "height": 34
        },
        "outputId": "2810ecfa-2024-4837-fafe-0487fcf8e124"
      },
      "source": [
        "ans= crsr.fetchall()  \n",
        "for i in ans: \n",
        "    print(i) "
      ],
      "execution_count": 26,
      "outputs": [
        {
          "output_type": "stream",
          "text": [
            "(2,)\n"
          ],
          "name": "stdout"
        }
      ]
    },
    {
      "cell_type": "code",
      "metadata": {
        "id": "G_-WRZEPpJej",
        "colab_type": "code",
        "colab": {}
      },
      "source": [
        ""
      ],
      "execution_count": 0,
      "outputs": []
    },
    {
      "cell_type": "code",
      "metadata": {
        "id": "TteFvSREowYu",
        "colab_type": "code",
        "colab": {}
      },
      "source": [
        "connection = sqlite3.connect(\"northwind_small.sqlite3\") \n",
        "\n"
      ],
      "execution_count": 0,
      "outputs": []
    },
    {
      "cell_type": "code",
      "metadata": {
        "id": "Xz8nIrzxtYOg",
        "colab_type": "code",
        "colab": {}
      },
      "source": [
        "crsr = connection.cursor() \n"
      ],
      "execution_count": 0,
      "outputs": []
    },
    {
      "cell_type": "code",
      "metadata": {
        "id": "XhpQazX2sI7y",
        "colab_type": "code",
        "colab": {
          "base_uri": "https://localhost:8080/",
          "height": 34
        },
        "outputId": "1c583410-a3e2-4cc5-90c4-b0cb6caa8e45"
      },
      "source": [
        "crsr.execute(\"SELECT UNITPRICE FROM Product LIMIT 10;\")"
      ],
      "execution_count": 34,
      "outputs": [
        {
          "output_type": "execute_result",
          "data": {
            "text/plain": [
              "<sqlite3.Cursor at 0x7f4ba0954ce0>"
            ]
          },
          "metadata": {
            "tags": []
          },
          "execution_count": 34
        }
      ]
    },
    {
      "cell_type": "code",
      "metadata": {
        "id": "i_7Ie1Q_suMR",
        "colab_type": "code",
        "colab": {
          "base_uri": "https://localhost:8080/",
          "height": 187
        },
        "outputId": "8ffd4c4d-4d04-4a80-d368-499853856a5b"
      },
      "source": [
        "ans= crsr.fetchall()  \n",
        "for i in ans: \n",
        "    print(i) "
      ],
      "execution_count": 35,
      "outputs": [
        {
          "output_type": "stream",
          "text": [
            "(18,)\n",
            "(19,)\n",
            "(10,)\n",
            "(22,)\n",
            "(21.35,)\n",
            "(25,)\n",
            "(30,)\n",
            "(40,)\n",
            "(97,)\n",
            "(31,)\n"
          ],
          "name": "stdout"
        }
      ]
    },
    {
      "cell_type": "code",
      "metadata": {
        "id": "_vVjI2hVtlo-",
        "colab_type": "code",
        "colab": {
          "base_uri": "https://localhost:8080/",
          "height": 34
        },
        "outputId": "2bcdd59b-8993-41d7-feec-670efd2be51d"
      },
      "source": [
        "crsr.execute(\"select 2019 - AVG(BirthDate) from Employee \")"
      ],
      "execution_count": 40,
      "outputs": [
        {
          "output_type": "execute_result",
          "data": {
            "text/plain": [
              "<sqlite3.Cursor at 0x7f4ba0954ce0>"
            ]
          },
          "metadata": {
            "tags": []
          },
          "execution_count": 40
        }
      ]
    },
    {
      "cell_type": "code",
      "metadata": {
        "id": "iQPGAyAlvDKd",
        "colab_type": "code",
        "colab": {
          "base_uri": "https://localhost:8080/",
          "height": 34
        },
        "outputId": "97c0ccec-3bf5-4412-e0e1-c0f75774254c"
      },
      "source": [
        "ans= crsr.fetchall()  \n",
        "for i in ans: \n",
        "    print(i) "
      ],
      "execution_count": 41,
      "outputs": [
        {
          "output_type": "stream",
          "text": [
            "(31.22222222222217,)\n"
          ],
          "name": "stdout"
        }
      ]
    }
  ]
}