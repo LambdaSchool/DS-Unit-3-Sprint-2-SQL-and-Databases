{
 "nbformat": 4,
 "nbformat_minor": 2,
 "metadata": {
  "language_info": {
   "name": "python",
   "codemirror_mode": {
    "name": "ipython",
    "version": 3
   },
   "version": "3.7.6-final"
  },
  "orig_nbformat": 2,
  "file_extension": ".py",
  "mimetype": "text/x-python",
  "name": "python",
  "npconvert_exporter": "python",
  "pygments_lexer": "ipython3",
  "version": 3,
  "kernelspec": {
   "name": "python37664bitdssqlconda0c684aed25d1435d9aabd9bb377d36d3",
   "display_name": "Python 3.7.6 64-bit ('ds-sql': conda)"
  }
 },
 "cells": [
  {
   "cell_type": "code",
   "execution_count": 1,
   "metadata": {},
   "outputs": [],
   "source": [
    "import pandas as pd\n",
    ""
   ]
  },
  {
   "cell_type": "code",
   "execution_count": 2,
   "metadata": {},
   "outputs": [
    {
     "output_type": "stream",
     "name": "stdout",
     "text": "/home/joe/Desktop/school/3-2/module1-introduction-to-sql\n"
    }
   ],
   "source": [
    "!pwd"
   ]
  },
  {
   "cell_type": "code",
   "execution_count": 3,
   "metadata": {},
   "outputs": [],
   "source": [
    "df=pd.read_csv('buddymove_holidayiq.csv')"
   ]
  },
  {
   "cell_type": "code",
   "execution_count": 5,
   "metadata": {},
   "outputs": [
    {
     "output_type": "execute_result",
     "data": {
      "text/plain": "  User Id  Sports  Religious  Nature  Theatre  Shopping  Picnic\n0  User 1       2         77      79       69        68      95\n1  User 2       2         62      76       76        69      68\n2  User 3       2         50      97       87        50      75\n3  User 4       2         68      77       95        76      61\n4  User 5       2         98      54       59        95      86",
      "text/html": "<div>\n<style scoped>\n    .dataframe tbody tr th:only-of-type {\n        vertical-align: middle;\n    }\n\n    .dataframe tbody tr th {\n        vertical-align: top;\n    }\n\n    .dataframe thead th {\n        text-align: right;\n    }\n</style>\n<table border=\"1\" class=\"dataframe\">\n  <thead>\n    <tr style=\"text-align: right;\">\n      <th></th>\n      <th>User Id</th>\n      <th>Sports</th>\n      <th>Religious</th>\n      <th>Nature</th>\n      <th>Theatre</th>\n      <th>Shopping</th>\n      <th>Picnic</th>\n    </tr>\n  </thead>\n  <tbody>\n    <tr>\n      <th>0</th>\n      <td>User 1</td>\n      <td>2</td>\n      <td>77</td>\n      <td>79</td>\n      <td>69</td>\n      <td>68</td>\n      <td>95</td>\n    </tr>\n    <tr>\n      <th>1</th>\n      <td>User 2</td>\n      <td>2</td>\n      <td>62</td>\n      <td>76</td>\n      <td>76</td>\n      <td>69</td>\n      <td>68</td>\n    </tr>\n    <tr>\n      <th>2</th>\n      <td>User 3</td>\n      <td>2</td>\n      <td>50</td>\n      <td>97</td>\n      <td>87</td>\n      <td>50</td>\n      <td>75</td>\n    </tr>\n    <tr>\n      <th>3</th>\n      <td>User 4</td>\n      <td>2</td>\n      <td>68</td>\n      <td>77</td>\n      <td>95</td>\n      <td>76</td>\n      <td>61</td>\n    </tr>\n    <tr>\n      <th>4</th>\n      <td>User 5</td>\n      <td>2</td>\n      <td>98</td>\n      <td>54</td>\n      <td>59</td>\n      <td>95</td>\n      <td>86</td>\n    </tr>\n  </tbody>\n</table>\n</div>"
     },
     "metadata": {},
     "execution_count": 5
    }
   ],
   "source": [
    "df.head()"
   ]
  },
  {
   "cell_type": "code",
   "execution_count": 13,
   "metadata": {},
   "outputs": [],
   "source": [
    "import sqlite3\n",
    "connection=sqlite3.connect(\"./chinook.db\")\n",
    "curs=connection.cursor()"
   ]
  },
  {
   "cell_type": "code",
   "execution_count": 24,
   "metadata": {},
   "outputs": [],
   "source": [
    "query=\"SELECT * FROM customers LIMIT 5;\"\n",
    "# this should be used only when you have the query locked in and have it returning what you are going \n",
    "# to want from the db\n",
    "# can also be a multi line string to make a query\n",
    "# query=\"\"\"\n",
    "#SELECT *\n",
    "#FROM customers\n",
    "#\"\"\"\n",
    "result=curs.execute(query).fetchall()"
   ]
  },
  {
   "cell_type": "code",
   "execution_count": 18,
   "metadata": {},
   "outputs": [
    {
     "output_type": "execute_result",
     "data": {
      "text/plain": "(1,\n 'Luís',\n 'Gonçalves',\n 'Embraer - Empresa Brasileira de Aeronáutica S.A.',\n 'Av. Brigadeiro Faria Lima, 2170',\n 'São José dos Campos',\n 'SP',\n 'Brazil',\n '12227-000',\n '+55 (12) 3923-5555',\n '+55 (12) 3923-5566',\n 'luisg@embraer.com.br',\n 3)"
     },
     "metadata": {},
     "execution_count": 18
    }
   ],
   "source": [
    "result[0]"
   ]
  },
  {
   "cell_type": "code",
   "execution_count": 19,
   "metadata": {},
   "outputs": [],
   "source": [
    "connection=sqlite3.connect(\"./chinook.db\")\n",
    "connection.row_factory = sqlite3.Row # lest reat our objects like dict nor tuples\n",
    "curs=connection.cursor()\n",
    ""
   ]
  },
  {
   "cell_type": "code",
   "execution_count": 25,
   "metadata": {},
   "outputs": [],
   "source": [
    "result=curs.execute(query).fetchall()"
   ]
  },
  {
   "cell_type": "code",
   "execution_count": 26,
   "metadata": {},
   "outputs": [
    {
     "output_type": "stream",
     "name": "stdout",
     "text": "_________\nGonçalves\n_________\nKöhler\n_________\nTremblay\n_________\nHansen\n_________\nWichterlová\n"
    }
   ],
   "source": [
    "for row in result:\n",
    "    print(\"_________\")\n",
    "    print(f\"{row['LastName']}\")"
   ]
  },
  {
   "cell_type": "code",
   "execution_count": 27,
   "metadata": {},
   "outputs": [
    {
     "output_type": "error",
     "ename": "NameError",
     "evalue": "name '__file__' is not defined",
     "traceback": [
      "\u001b[0;31m---------------------------------------------------------------------------\u001b[0m",
      "\u001b[0;31mNameError\u001b[0m                                 Traceback (most recent call last)",
      "\u001b[0;32m<ipython-input-27-56c8eb4b6a0a>\u001b[0m in \u001b[0;36m<module>\u001b[0;34m\u001b[0m\n\u001b[0;32m----> 1\u001b[0;31m \u001b[0mDB_FILENAME\u001b[0m\u001b[0;34m=\u001b[0m \u001b[0mos\u001b[0m\u001b[0;34m.\u001b[0m\u001b[0mpath\u001b[0m\u001b[0;34m.\u001b[0m\u001b[0mjoin\u001b[0m\u001b[0;34m(\u001b[0m\u001b[0mos\u001b[0m\u001b[0;34m.\u001b[0m\u001b[0mpath\u001b[0m\u001b[0;34m.\u001b[0m\u001b[0mdirname\u001b[0m\u001b[0;34m(\u001b[0m\u001b[0m__file__\u001b[0m\u001b[0;34m)\u001b[0m\u001b[0;34m,\u001b[0m\u001b[0;34m\"..\"\u001b[0m\u001b[0;34m,\u001b[0m\u001b[0;34m\"chinook.db\"\u001b[0m\u001b[0;34m)\u001b[0m\u001b[0;34m\u001b[0m\u001b[0;34m\u001b[0m\u001b[0m\n\u001b[0m\u001b[1;32m      2\u001b[0m \u001b[0mprint\u001b[0m\u001b[0;34m(\u001b[0m\u001b[0mDB_FILENAME\u001b[0m\u001b[0;34m)\u001b[0m\u001b[0;34m\u001b[0m\u001b[0;34m\u001b[0m\u001b[0m\n",
      "\u001b[0;31mNameError\u001b[0m: name '__file__' is not defined"
     ]
    }
   ],
   "source": [
    "DB_FILENAME= os.path.join(os.path.dirname(__file__),\"..\",\"chinook.db\")\n",
    "print(DB_FILENAME)"
   ]
  },
  {
   "cell_type": "code",
   "execution_count": null,
   "metadata": {},
   "outputs": [],
   "source": []
  }
 ]
}