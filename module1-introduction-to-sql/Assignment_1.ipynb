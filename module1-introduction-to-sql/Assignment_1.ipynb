{
 "cells": [
  {
   "cell_type": "code",
   "execution_count": 1,
   "metadata": {},
   "outputs": [],
   "source": [
    "import os\n",
    "import sqlite3"
   ]
  },
  {
   "cell_type": "code",
   "execution_count": 4,
   "metadata": {},
   "outputs": [
    {
     "data": {
      "text/plain": [
       "[(302,)]"
      ]
     },
     "execution_count": 4,
     "metadata": {},
     "output_type": "execute_result"
    }
   ],
   "source": [
    "CONN  = sqlite3.connect('rpg_db.sqlite3')\n",
    "\n",
    "#Q1\n",
    "cursor1 = CONN.cursor()\n",
    "query1 = 'SELECT COUNT() FROM charactercreator_character;'\n",
    "cursor1.execute(query1).fetchall()"
   ]
  },
  {
   "cell_type": "code",
   "execution_count": 14,
   "metadata": {},
   "outputs": [
    {
     "name": "stdout",
     "output_type": "stream",
     "text": [
      "[(75,)] [(68,)] [(108,)] [(51,)] [(11,)]\n"
     ]
    }
   ],
   "source": [
    "#Q2\n",
    "cursor2 = CONN.cursor()\n",
    "\n",
    "query2a = 'SELECT COUNT(ccl.character_ptr_id) FROM charactercreator_cleric as ccl;'\n",
    "q2a = cursor2.execute(query2a).fetchall()\n",
    "\n",
    "query2b = 'SELECT COUNT(ccf.character_ptr_id) FROM charactercreator_fighter as ccf;'\n",
    "q2b = cursor2.execute(query2b).fetchall()\n",
    "\n",
    "query2c = 'SELECT COUNT(ccm.character_ptr_id) FROM charactercreator_mage as ccm;'\n",
    "q2c = cursor2.execute(query2c).fetchall()\n",
    "\n",
    "query2d = 'SELECT COUNT(cct.character_ptr_id) FROM charactercreator_thief as cct;'\n",
    "q2d = cursor2.execute(query2d).fetchall()\n",
    "\n",
    "query2e = 'SELECT COUNT(ccn.mage_ptr_id) FROM charactercreator_necromancer as ccn;'\n",
    "q2e = cursor2.execute(query2e).fetchall()\n",
    "\n",
    "print(q2a, q2b, q2c, q2d, q2e)"
   ]
  },
  {
   "cell_type": "code",
   "execution_count": null,
   "metadata": {},
   "outputs": [],
   "source": [
    "SELECT COUNT() FROM armory_item;\n",
    "\n",
    "SELECT COUNT(item_id) \n",
    "FROM armory_item as ai, armory_weapon as aw \n",
    "WHERE ai.item_id = aw.item_ptr_id;\n",
    "\n",
    "SELECT COUNT(DISTINCT item_id) \n",
    "FROM armory_item as ai, armory_weapon as aw \n",
    "WHERE ai.item_id != aw.item_ptr_id;\n",
    "\n",
    "SELECT character_id, COUNT(item_id)\n",
    "FROM charactercreator_character_inventory\n",
    "GROUP BY character_id\n",
    "LIMIT 20;\n",
    "\n",
    "SELECT character_id, COUNT(item_ptr_id)\n",
    "FROM charactercreator_character_inventory AS ccinv, armory_weapon AS aw\n",
    "WHERE ccinv.item_id = aw.item_ptr_id\n",
    "GROUP BY character_id\n",
    "LIMIT 20;\n",
    "\n",
    "SELECT avg(item_count)\n",
    "FROM(\n",
    "SELECT character_id, COUNT(item_id) as item_count\n",
    "FROM charactercreator_character_inventory\n",
    "GROUP BY character_id);\n",
    "\n",
    "SELECT avg(weapon_count)\n",
    "FROM(\n",
    "SELECT character_id, COUNT(item_ptr_id) as weapon_count\n",
    "FROM charactercreator_character_inventory AS ccinv, armory_weapon AS aw\n",
    "WHERE ccinv.item_id = aw.item_ptr_id\n",
    "GROUP BY character_id);"
   ]
  }
 ],
 "metadata": {
  "kernelspec": {
   "display_name": "Python 3",
   "language": "python",
   "name": "python3"
  },
  "language_info": {
   "codemirror_mode": {
    "name": "ipython",
    "version": 3
   },
   "file_extension": ".py",
   "mimetype": "text/x-python",
   "name": "python",
   "nbconvert_exporter": "python",
   "pygments_lexer": "ipython3",
   "version": "3.6.5"
  }
 },
 "nbformat": 4,
 "nbformat_minor": 2
}
