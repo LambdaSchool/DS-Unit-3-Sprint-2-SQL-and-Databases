{
  "nbformat": 4,
  "nbformat_minor": 0,
  "metadata": {
    "colab": {
      "name": "gh_321_Assignment_p1_Querying_SQL_Database.ipynb",
      "version": "0.3.2",
      "provenance": []
    },
    "kernelspec": {
      "name": "python3",
      "display_name": "Python 3"
    },
    "accelerator": "GPU"
  },
  "cells": [
    {
      "cell_type": "markdown",
      "metadata": {
        "id": "jFvQcchSzHRI",
        "colab_type": "text"
      },
      "source": [
        "# Assignment - Part 1, Querying a Database"
      ]
    },
    {
      "cell_type": "code",
      "metadata": {
        "id": "k6f2avUdHqPj",
        "colab_type": "code",
        "colab": {
          "base_uri": "https://localhost:8080/",
          "height": 353
        },
        "outputId": "540967c0-6cc9-4377-c16b-25d99414c5dd"
      },
      "source": [
        "!wget https://github.com/LambdaSchool/DS-Unit-3-Sprint-2-SQL-and-Databases/blob/master/module1-introduction-to-sql/rpg_db.sqlite3?raw=true"
      ],
      "execution_count": 1,
      "outputs": [
        {
          "output_type": "stream",
          "text": [
            "--2019-08-13 17:55:32--  https://github.com/LambdaSchool/DS-Unit-3-Sprint-2-SQL-and-Databases/blob/master/module1-introduction-to-sql/rpg_db.sqlite3?raw=true\n",
            "Resolving github.com (github.com)... 140.82.113.3\n",
            "Connecting to github.com (github.com)|140.82.113.3|:443... connected.\n",
            "HTTP request sent, awaiting response... 302 Found\n",
            "Location: https://github.com/LambdaSchool/DS-Unit-3-Sprint-2-SQL-and-Databases/raw/master/module1-introduction-to-sql/rpg_db.sqlite3 [following]\n",
            "--2019-08-13 17:55:32--  https://github.com/LambdaSchool/DS-Unit-3-Sprint-2-SQL-and-Databases/raw/master/module1-introduction-to-sql/rpg_db.sqlite3\n",
            "Reusing existing connection to github.com:443.\n",
            "HTTP request sent, awaiting response... 302 Found\n",
            "Location: https://raw.githubusercontent.com/LambdaSchool/DS-Unit-3-Sprint-2-SQL-and-Databases/master/module1-introduction-to-sql/rpg_db.sqlite3 [following]\n",
            "--2019-08-13 17:55:32--  https://raw.githubusercontent.com/LambdaSchool/DS-Unit-3-Sprint-2-SQL-and-Databases/master/module1-introduction-to-sql/rpg_db.sqlite3\n",
            "Resolving raw.githubusercontent.com (raw.githubusercontent.com)... 151.101.0.133, 151.101.64.133, 151.101.128.133, ...\n",
            "Connecting to raw.githubusercontent.com (raw.githubusercontent.com)|151.101.0.133|:443... connected.\n",
            "HTTP request sent, awaiting response... 200 OK\n",
            "Length: 253952 (248K) [application/octet-stream]\n",
            "Saving to: ‘rpg_db.sqlite3?raw=true’\n",
            "\n",
            "rpg_db.sqlite3?raw= 100%[===================>] 248.00K  --.-KB/s    in 0.1s    \n",
            "\n",
            "2019-08-13 17:55:32 (2.42 MB/s) - ‘rpg_db.sqlite3?raw=true’ saved [253952/253952]\n",
            "\n"
          ],
          "name": "stdout"
        }
      ]
    },
    {
      "cell_type": "code",
      "metadata": {
        "id": "8ukBPQe7H8Xf",
        "colab_type": "code",
        "colab": {}
      },
      "source": [
        "!mv 'rpg_db.sqlite3?raw=true' rpg_db.sqlite3"
      ],
      "execution_count": 0,
      "outputs": []
    },
    {
      "cell_type": "code",
      "metadata": {
        "id": "IyzYkBSexOhR",
        "colab_type": "code",
        "colab": {}
      },
      "source": [
        "import sqlite3\n",
        "conn = sqlite3.connect('rpg_db.sqlite3')\n",
        "curs = conn.cursor()"
      ],
      "execution_count": 0,
      "outputs": []
    },
    {
      "cell_type": "code",
      "metadata": {
        "id": "FI9PYYh0ygIn",
        "colab_type": "code",
        "outputId": "1a966b11-d86d-40be-ad23-96124200db40",
        "colab": {
          "base_uri": "https://localhost:8080/",
          "height": 34
        }
      },
      "source": [
        "query = \"\"\"SELECT * FROM charactercreator_character \n",
        "INNER JOIN charactercreator_mage\n",
        "ON character_id = character_ptr_id;\"\"\"\n",
        "curs.execute(query)\n",
        "curs.fetchone()"
      ],
      "execution_count": 4,
      "outputs": [
        {
          "output_type": "execute_result",
          "data": {
            "text/plain": [
              "(69, 'Totam natus eius fugiat volu', 0, 0, 10, 1, 1, 1, 1, 69, 1, 100)"
            ]
          },
          "metadata": {
            "tags": []
          },
          "execution_count": 4
        }
      ]
    },
    {
      "cell_type": "markdown",
      "metadata": {
        "id": "sPQSMlday2E-",
        "colab_type": "text"
      },
      "source": [
        "## How many total Characters are there?\n",
        "\n",
        "- 302 characters"
      ]
    },
    {
      "cell_type": "code",
      "metadata": {
        "id": "92DNCZefyrke",
        "colab_type": "code",
        "outputId": "7534f129-d9ab-44f8-9b9e-7e47346ae703",
        "colab": {
          "base_uri": "https://localhost:8080/",
          "height": 34
        }
      },
      "source": [
        "query = '''SELECT count(character_id) FROM charactercreator_character;'''\n",
        "curs.execute(query)\n",
        "curs.fetchall()"
      ],
      "execution_count": 5,
      "outputs": [
        {
          "output_type": "execute_result",
          "data": {
            "text/plain": [
              "[(302,)]"
            ]
          },
          "metadata": {
            "tags": []
          },
          "execution_count": 5
        }
      ]
    },
    {
      "cell_type": "markdown",
      "metadata": {
        "id": "l83_tYMyzTM9",
        "colab_type": "text"
      },
      "source": [
        "## How many of each specific subclass?"
      ]
    },
    {
      "cell_type": "code",
      "metadata": {
        "id": "Mu_6CQOVyEf_",
        "colab_type": "code",
        "outputId": "8b665883-92ec-49f9-fdb3-026cc7d0fc59",
        "colab": {
          "base_uri": "https://localhost:8080/",
          "height": 34
        }
      },
      "source": [
        "# Cleric - 75\n",
        "query = '''SELECT count(character_id)\n",
        "FROM charactercreator_character, charactercreator_cleric\n",
        "WHERE character_id = character_ptr_id;'''\n",
        "curs.execute(query)\n",
        "curs.fetchall()"
      ],
      "execution_count": 6,
      "outputs": [
        {
          "output_type": "execute_result",
          "data": {
            "text/plain": [
              "[(75,)]"
            ]
          },
          "metadata": {
            "tags": []
          },
          "execution_count": 6
        }
      ]
    },
    {
      "cell_type": "code",
      "metadata": {
        "id": "yjDkHs8M1EsD",
        "colab_type": "code",
        "outputId": "f4168827-fb8e-4076-f7c2-1f177e7ec046",
        "colab": {
          "base_uri": "https://localhost:8080/",
          "height": 34
        }
      },
      "source": [
        "# Fighter - 68\n",
        "query = '''SELECT count(character_ptr_id) FROM charactercreator_fighter;'''\n",
        "curs.execute(query)\n",
        "curs.fetchall()"
      ],
      "execution_count": 7,
      "outputs": [
        {
          "output_type": "execute_result",
          "data": {
            "text/plain": [
              "[(68,)]"
            ]
          },
          "metadata": {
            "tags": []
          },
          "execution_count": 7
        }
      ]
    },
    {
      "cell_type": "code",
      "metadata": {
        "id": "poceB7Tu1LtV",
        "colab_type": "code",
        "outputId": "af500eab-4e1c-4ebc-9e94-9d3ec0858312",
        "colab": {
          "base_uri": "https://localhost:8080/",
          "height": 34
        }
      },
      "source": [
        "# Thief - 51\n",
        "query = '''SELECT count(character_id)\n",
        "FROM charactercreator_character, charactercreator_thief\n",
        "WHERE character_id = character_ptr_id;'''\n",
        "curs.execute(query)\n",
        "curs.fetchall()"
      ],
      "execution_count": 8,
      "outputs": [
        {
          "output_type": "execute_result",
          "data": {
            "text/plain": [
              "[(51,)]"
            ]
          },
          "metadata": {
            "tags": []
          },
          "execution_count": 8
        }
      ]
    },
    {
      "cell_type": "code",
      "metadata": {
        "id": "KTrFGr0c1Hdb",
        "colab_type": "code",
        "outputId": "995b36f8-9045-48de-a48e-56fdcffef075",
        "colab": {
          "base_uri": "https://localhost:8080/",
          "height": 34
        }
      },
      "source": [
        "# Mage -108\n",
        "query = '''SELECT count(character_id)\n",
        "FROM charactercreator_character, charactercreator_mage\n",
        "WHERE character_id = character_ptr_id;'''\n",
        "curs.execute(query)\n",
        "curs.fetchall()"
      ],
      "execution_count": 9,
      "outputs": [
        {
          "output_type": "execute_result",
          "data": {
            "text/plain": [
              "[(108,)]"
            ]
          },
          "metadata": {
            "tags": []
          },
          "execution_count": 9
        }
      ]
    },
    {
      "cell_type": "code",
      "metadata": {
        "id": "G9YbKJEz1JQT",
        "colab_type": "code",
        "outputId": "4f610342-331f-47c7-90d5-1cf029b18323",
        "colab": {
          "base_uri": "https://localhost:8080/",
          "height": 34
        }
      },
      "source": [
        "# Necromancer - 11\n",
        "query = '''SELECT count(mage_ptr_id) FROM charactercreator_necromancer;'''\n",
        "curs.execute(query)\n",
        "curs.fetchall()"
      ],
      "execution_count": 10,
      "outputs": [
        {
          "output_type": "execute_result",
          "data": {
            "text/plain": [
              "[(11,)]"
            ]
          },
          "metadata": {
            "tags": []
          },
          "execution_count": 10
        }
      ]
    },
    {
      "cell_type": "markdown",
      "metadata": {
        "id": "kyErIMaP1lru",
        "colab_type": "text"
      },
      "source": [
        "## How many total Items?\n",
        " \n",
        " - 898 items "
      ]
    },
    {
      "cell_type": "code",
      "metadata": {
        "id": "slg91nqi1njD",
        "colab_type": "code",
        "outputId": "1c76eeec-355a-4b2a-9bbe-73f00a7ef376",
        "colab": {
          "base_uri": "https://localhost:8080/",
          "height": 34
        }
      },
      "source": [
        "query_total_items = '''SELECT count(id) FROM charactercreator_character_inventory;'''\n",
        "curs.execute(query_total_items).fetchall()"
      ],
      "execution_count": 13,
      "outputs": [
        {
          "output_type": "execute_result",
          "data": {
            "text/plain": [
              "[(898,)]"
            ]
          },
          "metadata": {
            "tags": []
          },
          "execution_count": 13
        }
      ]
    },
    {
      "cell_type": "markdown",
      "metadata": {
        "id": "gXxb4zAN2T_d",
        "colab_type": "text"
      },
      "source": [
        "## How many of the Items are weapons? How many are not?"
      ]
    },
    {
      "cell_type": "code",
      "metadata": {
        "id": "ZJJpI3Cy2UQi",
        "colab_type": "code",
        "outputId": "ffa7eb09-d6f0-49dc-8155-ffa8f4c2ccbb",
        "colab": {
          "base_uri": "https://localhost:8080/",
          "height": 34
        }
      },
      "source": [
        "# Items are weapons - 203\n",
        "query_total_weapons = '''SELECT count(item_ptr_id)\n",
        "FROM armory_weapon, charactercreator_character_inventory\n",
        "WHERE item_ptr_id = item_id;'''\n",
        "curs.execute(query_total_weapons).fetchall()"
      ],
      "execution_count": 14,
      "outputs": [
        {
          "output_type": "execute_result",
          "data": {
            "text/plain": [
              "[(203,)]"
            ]
          },
          "metadata": {
            "tags": []
          },
          "execution_count": 14
        }
      ]
    },
    {
      "cell_type": "code",
      "metadata": {
        "id": "BvjcD9dK3F1I",
        "colab_type": "code",
        "colab": {
          "base_uri": "https://localhost:8080/",
          "height": 34
        },
        "outputId": "03259d86-a6f6-45f5-d2c1-80606405d365"
      },
      "source": [
        "# 695 items are not weapons\n",
        "curs.execute(query_total_items).fetchall()[0][0]-curs.execute(query_total_weapons).fetchall()[0][0]"
      ],
      "execution_count": 19,
      "outputs": [
        {
          "output_type": "execute_result",
          "data": {
            "text/plain": [
              "695"
            ]
          },
          "metadata": {
            "tags": []
          },
          "execution_count": 19
        }
      ]
    },
    {
      "cell_type": "markdown",
      "metadata": {
        "id": "78pxS_Xd7CBj",
        "colab_type": "text"
      },
      "source": [
        "## How many Items does each character have? (Return first 20 rows)"
      ]
    },
    {
      "cell_type": "code",
      "metadata": {
        "id": "9svN71lJ7BfV",
        "colab_type": "code",
        "outputId": "688ef9a1-f42b-4a2d-aa76-6fbfcdb007fe",
        "colab": {
          "base_uri": "https://localhost:8080/",
          "height": 353
        }
      },
      "source": [
        "query = '''SELECT character_id, count(item_id)\n",
        "FROM charactercreator_character_inventory\n",
        "GROUP BY character_id\n",
        "LIMIT 20'''\n",
        "curs.execute(query)\n",
        "curs.fetchall()"
      ],
      "execution_count": 0,
      "outputs": [
        {
          "output_type": "execute_result",
          "data": {
            "text/plain": [
              "[(1, 3),\n",
              " (2, 3),\n",
              " (3, 2),\n",
              " (4, 4),\n",
              " (5, 4),\n",
              " (6, 1),\n",
              " (7, 5),\n",
              " (8, 3),\n",
              " (9, 4),\n",
              " (10, 4),\n",
              " (11, 3),\n",
              " (12, 3),\n",
              " (13, 4),\n",
              " (14, 4),\n",
              " (15, 4),\n",
              " (16, 1),\n",
              " (17, 5),\n",
              " (18, 5),\n",
              " (19, 3),\n",
              " (20, 1)]"
            ]
          },
          "metadata": {
            "tags": []
          },
          "execution_count": 27
        }
      ]
    },
    {
      "cell_type": "markdown",
      "metadata": {
        "id": "wyBRztvh7rjy",
        "colab_type": "text"
      },
      "source": [
        "## How many Weapons does each character have? (Return first 20 rows)"
      ]
    },
    {
      "cell_type": "code",
      "metadata": {
        "id": "E54AILYa7sBQ",
        "colab_type": "code",
        "outputId": "c7a4290c-beec-4c38-e577-016b1ae2dca5",
        "colab": {
          "base_uri": "https://localhost:8080/",
          "height": 353
        }
      },
      "source": [
        "query = '''SELECT character_id, count(item_id)\n",
        "FROM charactercreator_character_inventory, armory_weapon\n",
        "WHERE item_id = item_ptr_id\n",
        "GROUP BY character_id\n",
        "LIMIT 20'''\n",
        "curs.execute(query)\n",
        "curs.fetchall()"
      ],
      "execution_count": 0,
      "outputs": [
        {
          "output_type": "execute_result",
          "data": {
            "text/plain": [
              "[(5, 2),\n",
              " (7, 1),\n",
              " (11, 1),\n",
              " (20, 1),\n",
              " (22, 1),\n",
              " (23, 1),\n",
              " (26, 1),\n",
              " (27, 3),\n",
              " (29, 2),\n",
              " (30, 1),\n",
              " (32, 1),\n",
              " (34, 1),\n",
              " (35, 2),\n",
              " (36, 3),\n",
              " (37, 2),\n",
              " (38, 2),\n",
              " (39, 2),\n",
              " (40, 1),\n",
              " (41, 1),\n",
              " (47, 1)]"
            ]
          },
          "metadata": {
            "tags": []
          },
          "execution_count": 23
        }
      ]
    },
    {
      "cell_type": "markdown",
      "metadata": {
        "id": "Y60Yqw0b7-oC",
        "colab_type": "text"
      },
      "source": [
        "## On average, how many Items does each Character have?\n",
        "\n",
        "- Each character have on average 2.97 items"
      ]
    },
    {
      "cell_type": "code",
      "metadata": {
        "id": "3JDR_6W67_Ex",
        "colab_type": "code",
        "outputId": "07a00860-7b57-4dca-9f51-65c599cdd2f7",
        "colab": {
          "base_uri": "https://localhost:8080/",
          "height": 34
        }
      },
      "source": [
        "query = '''SELECT avg(item_count)\n",
        "FROM\n",
        "(\n",
        "SELECT count(item_id) as item_count\n",
        "FROM charactercreator_character_inventory\n",
        "GROUP BY character_id\n",
        ")'''\n",
        "curs.execute(query)\n",
        "curs.fetchall()"
      ],
      "execution_count": 0,
      "outputs": [
        {
          "output_type": "execute_result",
          "data": {
            "text/plain": [
              "[(2.9735099337748343,)]"
            ]
          },
          "metadata": {
            "tags": []
          },
          "execution_count": 24
        }
      ]
    },
    {
      "cell_type": "markdown",
      "metadata": {
        "id": "OrsuxF0l90I5",
        "colab_type": "text"
      },
      "source": [
        "## On average, how many Weapons does each character have?\n",
        "\n",
        "- Each character have on average 1.31 weapons"
      ]
    },
    {
      "cell_type": "code",
      "metadata": {
        "id": "ZvYnIkqI90U4",
        "colab_type": "code",
        "outputId": "bf3bad39-b5b2-4ac5-a1a2-81d7ba78224a",
        "colab": {
          "base_uri": "https://localhost:8080/",
          "height": 34
        }
      },
      "source": [
        "query = '''SELECT avg(weapon_count)\n",
        "FROM\n",
        "(\n",
        "SELECT count(item_id) as weapon_count\n",
        "FROM charactercreator_character_inventory, armory_weapon\n",
        "WHERE item_id = item_ptr_id\n",
        "GROUP BY character_id\n",
        ")'''\n",
        "curs.execute(query)\n",
        "curs.fetchall()"
      ],
      "execution_count": 0,
      "outputs": [
        {
          "output_type": "execute_result",
          "data": {
            "text/plain": [
              "[(1.3096774193548386,)]"
            ]
          },
          "metadata": {
            "tags": []
          },
          "execution_count": 28
        }
      ]
    }
  ]
}
