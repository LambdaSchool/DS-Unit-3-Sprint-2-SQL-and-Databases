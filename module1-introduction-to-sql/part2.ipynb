{
 "nbformat": 4,
 "nbformat_minor": 2,
 "metadata": {
  "language_info": {
   "name": "python",
   "codemirror_mode": {
    "name": "ipython",
    "version": 3
   }
  },
  "orig_nbformat": 2,
  "file_extension": ".py",
  "mimetype": "text/x-python",
  "name": "python",
  "npconvert_exporter": "python",
  "pygments_lexer": "ipython3",
  "version": 3
 },
 "cells": [
  {
   "cell_type": "code",
   "execution_count": 16,
   "metadata": {},
   "outputs": [],
   "source": [
    "import pandas as pd"
   ]
  },
  {
   "cell_type": "code",
   "execution_count": 17,
   "metadata": {},
   "outputs": [],
   "source": [
    "df = pd.read_csv('buddymove_holidayiq.csv')"
   ]
  },
  {
   "cell_type": "code",
   "execution_count": 18,
   "metadata": {},
   "outputs": [
    {
     "data": {
      "text/plain": "(249, 7)"
     },
     "execution_count": 18,
     "metadata": {},
     "output_type": "execute_result"
    }
   ],
   "source": [
    "df.shape"
   ]
  },
  {
   "cell_type": "code",
   "execution_count": 19,
   "metadata": {},
   "outputs": [
    {
     "data": {
      "text/html": "<div>\n<style scoped>\n    .dataframe tbody tr th:only-of-type {\n        vertical-align: middle;\n    }\n\n    .dataframe tbody tr th {\n        vertical-align: top;\n    }\n\n    .dataframe thead th {\n        text-align: right;\n    }\n</style>\n<table border=\"1\" class=\"dataframe\">\n  <thead>\n    <tr style=\"text-align: right;\">\n      <th></th>\n      <th>User Id</th>\n      <th>Sports</th>\n      <th>Religious</th>\n      <th>Nature</th>\n      <th>Theatre</th>\n      <th>Shopping</th>\n      <th>Picnic</th>\n    </tr>\n  </thead>\n  <tbody>\n    <tr>\n      <th>0</th>\n      <td>User 1</td>\n      <td>2</td>\n      <td>77</td>\n      <td>79</td>\n      <td>69</td>\n      <td>68</td>\n      <td>95</td>\n    </tr>\n    <tr>\n      <th>1</th>\n      <td>User 2</td>\n      <td>2</td>\n      <td>62</td>\n      <td>76</td>\n      <td>76</td>\n      <td>69</td>\n      <td>68</td>\n    </tr>\n    <tr>\n      <th>2</th>\n      <td>User 3</td>\n      <td>2</td>\n      <td>50</td>\n      <td>97</td>\n      <td>87</td>\n      <td>50</td>\n      <td>75</td>\n    </tr>\n    <tr>\n      <th>3</th>\n      <td>User 4</td>\n      <td>2</td>\n      <td>68</td>\n      <td>77</td>\n      <td>95</td>\n      <td>76</td>\n      <td>61</td>\n    </tr>\n    <tr>\n      <th>4</th>\n      <td>User 5</td>\n      <td>2</td>\n      <td>98</td>\n      <td>54</td>\n      <td>59</td>\n      <td>95</td>\n      <td>86</td>\n    </tr>\n  </tbody>\n</table>\n</div>",
      "text/plain": "  User Id  Sports  Religious  Nature  Theatre  Shopping  Picnic\n0  User 1       2         77      79       69        68      95\n1  User 2       2         62      76       76        69      68\n2  User 3       2         50      97       87        50      75\n3  User 4       2         68      77       95        76      61\n4  User 5       2         98      54       59        95      86"
     },
     "execution_count": 19,
     "metadata": {},
     "output_type": "execute_result"
    }
   ],
   "source": [
    "df.head()"
   ]
  },
  {
   "cell_type": "code",
   "execution_count": 20,
   "metadata": {},
   "outputs": [],
   "source": [
    "import sqlite3"
   ]
  },
  {
   "cell_type": "code",
   "execution_count": 21,
   "metadata": {},
   "outputs": [],
   "source": [
    "conn = sqlite3.connect('buddymove_holidayiq.sqlite3')"
   ]
  },
  {
   "cell_type": "code",
   "execution_count": 22,
   "metadata": {},
   "outputs": [
    {
     "data": {
      "text/plain": "<sqlite3.Connection at 0x10d18b030>"
     },
     "execution_count": 22,
     "metadata": {},
     "output_type": "execute_result"
    }
   ],
   "source": [
    "conn"
   ]
  },
  {
   "cell_type": "code",
   "execution_count": 23,
   "metadata": {},
   "outputs": [],
   "source": [
    "df.to_sql('review',con=conn,if_exists='replace')"
   ]
  },
  {
   "cell_type": "code",
   "execution_count": 24,
   "metadata": {},
   "outputs": [],
   "source": [
    "curs = conn.cursor()"
   ]
  },
  {
   "cell_type": "code",
   "execution_count": 25,
   "metadata": {},
   "outputs": [
    {
     "data": {
      "text/plain": "[(249,)]"
     },
     "execution_count": 25,
     "metadata": {},
     "output_type": "execute_result"
    }
   ],
   "source": [
    "curs.execute(\"SELECT COUNT(*) FROM review\").fetchall()"
   ]
  },
  {
   "cell_type": "code",
   "execution_count": 26,
   "metadata": {},
   "outputs": [
    {
     "data": {
      "text/plain": "[(78,)]"
     },
     "execution_count": 26,
     "metadata": {},
     "output_type": "execute_result"
    }
   ],
   "source": [
    "curs.execute(\"SELECT COUNT(CASE WHEN Shopping >= 100 then 1 else null end) FROM review WHERE Nature>=100\").fetchall()"
   ]
  },
  {
   "cell_type": "code",
   "execution_count": 27,
   "metadata": {},
   "outputs": [],
   "source": [
    "df2 = df[df['Nature']>=100]"
   ]
  },
  {
   "cell_type": "code",
   "execution_count": 28,
   "metadata": {},
   "outputs": [
    {
     "data": {
      "text/html": "<div>\n<style scoped>\n    .dataframe tbody tr th:only-of-type {\n        vertical-align: middle;\n    }\n\n    .dataframe tbody tr th {\n        vertical-align: top;\n    }\n\n    .dataframe thead th {\n        text-align: right;\n    }\n</style>\n<table border=\"1\" class=\"dataframe\">\n  <thead>\n    <tr style=\"text-align: right;\">\n      <th></th>\n      <th>User Id</th>\n      <th>Sports</th>\n      <th>Religious</th>\n      <th>Nature</th>\n      <th>Theatre</th>\n      <th>Shopping</th>\n      <th>Picnic</th>\n    </tr>\n  </thead>\n  <tbody>\n    <tr>\n      <th>52</th>\n      <td>User 53</td>\n      <td>4</td>\n      <td>79</td>\n      <td>103</td>\n      <td>68</td>\n      <td>103</td>\n      <td>85</td>\n    </tr>\n    <tr>\n      <th>54</th>\n      <td>User 55</td>\n      <td>8</td>\n      <td>94</td>\n      <td>140</td>\n      <td>89</td>\n      <td>118</td>\n      <td>92</td>\n    </tr>\n    <tr>\n      <th>61</th>\n      <td>User 62</td>\n      <td>8</td>\n      <td>94</td>\n      <td>128</td>\n      <td>89</td>\n      <td>128</td>\n      <td>99</td>\n    </tr>\n    <tr>\n      <th>63</th>\n      <td>User 64</td>\n      <td>6</td>\n      <td>84</td>\n      <td>108</td>\n      <td>138</td>\n      <td>103</td>\n      <td>79</td>\n    </tr>\n    <tr>\n      <th>65</th>\n      <td>User 66</td>\n      <td>6</td>\n      <td>89</td>\n      <td>108</td>\n      <td>128</td>\n      <td>116</td>\n      <td>81</td>\n    </tr>\n    <tr>\n      <th>...</th>\n      <td>...</td>\n      <td>...</td>\n      <td>...</td>\n      <td>...</td>\n      <td>...</td>\n      <td>...</td>\n      <td>...</td>\n    </tr>\n    <tr>\n      <th>241</th>\n      <td>User 242</td>\n      <td>25</td>\n      <td>114</td>\n      <td>238</td>\n      <td>124</td>\n      <td>104</td>\n      <td>178</td>\n    </tr>\n    <tr>\n      <th>244</th>\n      <td>User 245</td>\n      <td>18</td>\n      <td>139</td>\n      <td>148</td>\n      <td>129</td>\n      <td>129</td>\n      <td>168</td>\n    </tr>\n    <tr>\n      <th>246</th>\n      <td>User 247</td>\n      <td>20</td>\n      <td>124</td>\n      <td>178</td>\n      <td>104</td>\n      <td>158</td>\n      <td>174</td>\n    </tr>\n    <tr>\n      <th>247</th>\n      <td>User 248</td>\n      <td>20</td>\n      <td>133</td>\n      <td>149</td>\n      <td>139</td>\n      <td>144</td>\n      <td>213</td>\n    </tr>\n    <tr>\n      <th>248</th>\n      <td>User 249</td>\n      <td>20</td>\n      <td>143</td>\n      <td>149</td>\n      <td>139</td>\n      <td>159</td>\n      <td>143</td>\n    </tr>\n  </tbody>\n</table>\n<p>78 rows × 7 columns</p>\n</div>",
      "text/plain": "      User Id  Sports  Religious  Nature  Theatre  Shopping  Picnic\n52    User 53       4         79     103       68       103      85\n54    User 55       8         94     140       89       118      92\n61    User 62       8         94     128       89       128      99\n63    User 64       6         84     108      138       103      79\n65    User 66       6         89     108      128       116      81\n..        ...     ...        ...     ...      ...       ...     ...\n241  User 242      25        114     238      124       104     178\n244  User 245      18        139     148      129       129     168\n246  User 247      20        124     178      104       158     174\n247  User 248      20        133     149      139       144     213\n248  User 249      20        143     149      139       159     143\n\n[78 rows x 7 columns]"
     },
     "execution_count": 28,
     "metadata": {},
     "output_type": "execute_result"
    }
   ],
   "source": [
    "df2[df2['Shopping']>=100]"
   ]
  },
  {
   "cell_type": "code",
   "execution_count": 29,
   "metadata": {},
   "outputs": [],
   "source": [
    "curs.close()"
   ]
  },
  {
   "cell_type": "code",
   "execution_count": 30,
   "metadata": {},
   "outputs": [],
   "source": [
    "conn.commit()"
   ]
  }
 ]
}