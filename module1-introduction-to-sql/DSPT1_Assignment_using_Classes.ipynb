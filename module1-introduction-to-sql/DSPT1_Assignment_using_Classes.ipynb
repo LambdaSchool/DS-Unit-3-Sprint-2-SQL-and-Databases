{
 "cells": [
  {
   "cell_type": "markdown",
   "metadata": {},
   "source": [
    "## Assignment - Part 1, Querying a Database"
   ]
  },
  {
   "cell_type": "markdown",
   "metadata": {},
   "source": [
    "notetoself - Be sure to check DSPT1_Assignment_individual_cursor_method for more notes on SQL queries."
   ]
  },
  {
   "cell_type": "code",
   "execution_count": 1,
   "metadata": {},
   "outputs": [],
   "source": [
    "import rpg_queries as rpg"
   ]
  },
  {
   "cell_type": "code",
   "execution_count": 2,
   "metadata": {},
   "outputs": [
    {
     "data": {
      "text/plain": [
       "['__builtins__',\n",
       " '__cached__',\n",
       " '__doc__',\n",
       " '__file__',\n",
       " '__loader__',\n",
       " '__name__',\n",
       " '__package__',\n",
       " '__spec__',\n",
       " 'conn',\n",
       " 'curs',\n",
       " 'items_per_character',\n",
       " 'pd',\n",
       " 'sqlite3',\n",
       " 'subclass_count',\n",
       " 'total_character_count',\n",
       " 'total_items',\n",
       " 'total_non_weapons',\n",
       " 'total_weapons']"
      ]
     },
     "execution_count": 2,
     "metadata": {},
     "output_type": "execute_result"
    }
   ],
   "source": [
    "dir(rpg)"
   ]
  },
  {
   "cell_type": "code",
   "execution_count": 3,
   "metadata": {},
   "outputs": [
    {
     "name": "stdout",
     "output_type": "stream",
     "text": [
      "   character_count\n",
      "0              302\n"
     ]
    }
   ],
   "source": [
    "rpg.total_character_count()"
   ]
  },
  {
   "cell_type": "code",
   "execution_count": 4,
   "metadata": {},
   "outputs": [
    {
     "name": "stdout",
     "output_type": "stream",
     "text": [
      "      subclass  character_count\n",
      "0       cleric               75\n",
      "1      fighter               68\n",
      "2         mage              108\n",
      "3  necromancer               11\n",
      "4        thief               51\n"
     ]
    }
   ],
   "source": [
    "rpg.subclass_count()"
   ]
  },
  {
   "cell_type": "code",
   "execution_count": 5,
   "metadata": {},
   "outputs": [
    {
     "name": "stdout",
     "output_type": "stream",
     "text": [
      "   COUNT(*)\n",
      "0       174\n"
     ]
    }
   ],
   "source": [
    "rpg.total_items()"
   ]
  },
  {
   "cell_type": "code",
   "execution_count": 6,
   "metadata": {},
   "outputs": [
    {
     "name": "stdout",
     "output_type": "stream",
     "text": [
      "   COUNT(*)\n",
      "0        37\n"
     ]
    }
   ],
   "source": [
    "rpg.total_weapons()"
   ]
  },
  {
   "cell_type": "code",
   "execution_count": 7,
   "metadata": {},
   "outputs": [
    {
     "name": "stdout",
     "output_type": "stream",
     "text": [
      "   COUNT(*)\n",
      "0       137\n"
     ]
    }
   ],
   "source": [
    "rpg.total_non_weapons()"
   ]
  },
  {
   "cell_type": "code",
   "execution_count": 8,
   "metadata": {},
   "outputs": [
    {
     "name": "stdout",
     "output_type": "stream",
     "text": [
      "    character_id  item_count\n",
      "0              1           3\n",
      "1              2           3\n",
      "2              3           2\n",
      "3              4           4\n",
      "4              5           4\n",
      "5              6           1\n",
      "6              7           5\n",
      "7              8           3\n",
      "8              9           4\n",
      "9             10           4\n",
      "10            11           3\n",
      "11            12           3\n",
      "12            13           4\n",
      "13            14           4\n",
      "14            15           4\n",
      "15            16           1\n",
      "16            17           5\n",
      "17            18           5\n",
      "18            19           3\n",
      "19            20           1\n"
     ]
    }
   ],
   "source": [
    "rpg.items_per_character()"
   ]
  },
  {
   "cell_type": "markdown",
   "metadata": {},
   "source": [
    "(see DSPT1_Assignment_individual_cursor_method for rst of answers)"
   ]
  },
  {
   "cell_type": "code",
   "execution_count": null,
   "metadata": {},
   "outputs": [],
   "source": []
  },
  {
   "cell_type": "markdown",
   "metadata": {},
   "source": [
    "## Assignment - Part 2, Making and populating a Database"
   ]
  },
  {
   "cell_type": "markdown",
   "metadata": {},
   "source": [
    "(see DSPT1_Assignment_individual_cursor_method for answer)"
   ]
  }
 ],
 "metadata": {
  "kernelspec": {
   "display_name": "Python 3",
   "language": "python",
   "name": "python3"
  },
  "language_info": {
   "codemirror_mode": {
    "name": "ipython",
    "version": 3
   },
   "file_extension": ".py",
   "mimetype": "text/x-python",
   "name": "python",
   "nbconvert_exporter": "python",
   "pygments_lexer": "ipython3",
   "version": "3.7.3"
  }
 },
 "nbformat": 4,
 "nbformat_minor": 2
}
