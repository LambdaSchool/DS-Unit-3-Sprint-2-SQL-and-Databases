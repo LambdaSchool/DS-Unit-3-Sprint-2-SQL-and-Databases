{
 "cells": [
  {
   "cell_type": "code",
   "execution_count": 1,
   "metadata": {},
   "outputs": [],
   "source": [
    "import pandas as pd\n",
    "import numpy as np"
   ]
  },
  {
   "cell_type": "code",
   "execution_count": 7,
   "metadata": {},
   "outputs": [],
   "source": [
    "import sqlite3"
   ]
  },
  {
   "cell_type": "code",
   "execution_count": 2,
   "metadata": {},
   "outputs": [
    {
     "data": {
      "text/html": [
       "<div>\n",
       "<style scoped>\n",
       "    .dataframe tbody tr th:only-of-type {\n",
       "        vertical-align: middle;\n",
       "    }\n",
       "\n",
       "    .dataframe tbody tr th {\n",
       "        vertical-align: top;\n",
       "    }\n",
       "\n",
       "    .dataframe thead th {\n",
       "        text-align: right;\n",
       "    }\n",
       "</style>\n",
       "<table border=\"1\" class=\"dataframe\">\n",
       "  <thead>\n",
       "    <tr style=\"text-align: right;\">\n",
       "      <th></th>\n",
       "      <th>User Id</th>\n",
       "      <th>Sports</th>\n",
       "      <th>Religious</th>\n",
       "      <th>Nature</th>\n",
       "      <th>Theatre</th>\n",
       "      <th>Shopping</th>\n",
       "      <th>Picnic</th>\n",
       "    </tr>\n",
       "  </thead>\n",
       "  <tbody>\n",
       "    <tr>\n",
       "      <th>0</th>\n",
       "      <td>User 1</td>\n",
       "      <td>2</td>\n",
       "      <td>77</td>\n",
       "      <td>79</td>\n",
       "      <td>69</td>\n",
       "      <td>68</td>\n",
       "      <td>95</td>\n",
       "    </tr>\n",
       "    <tr>\n",
       "      <th>1</th>\n",
       "      <td>User 2</td>\n",
       "      <td>2</td>\n",
       "      <td>62</td>\n",
       "      <td>76</td>\n",
       "      <td>76</td>\n",
       "      <td>69</td>\n",
       "      <td>68</td>\n",
       "    </tr>\n",
       "    <tr>\n",
       "      <th>2</th>\n",
       "      <td>User 3</td>\n",
       "      <td>2</td>\n",
       "      <td>50</td>\n",
       "      <td>97</td>\n",
       "      <td>87</td>\n",
       "      <td>50</td>\n",
       "      <td>75</td>\n",
       "    </tr>\n",
       "    <tr>\n",
       "      <th>3</th>\n",
       "      <td>User 4</td>\n",
       "      <td>2</td>\n",
       "      <td>68</td>\n",
       "      <td>77</td>\n",
       "      <td>95</td>\n",
       "      <td>76</td>\n",
       "      <td>61</td>\n",
       "    </tr>\n",
       "    <tr>\n",
       "      <th>4</th>\n",
       "      <td>User 5</td>\n",
       "      <td>2</td>\n",
       "      <td>98</td>\n",
       "      <td>54</td>\n",
       "      <td>59</td>\n",
       "      <td>95</td>\n",
       "      <td>86</td>\n",
       "    </tr>\n",
       "  </tbody>\n",
       "</table>\n",
       "</div>"
      ],
      "text/plain": [
       "  User Id  Sports  Religious  Nature  Theatre  Shopping  Picnic\n",
       "0  User 1       2         77      79       69        68      95\n",
       "1  User 2       2         62      76       76        69      68\n",
       "2  User 3       2         50      97       87        50      75\n",
       "3  User 4       2         68      77       95        76      61\n",
       "4  User 5       2         98      54       59        95      86"
      ]
     },
     "execution_count": 2,
     "metadata": {},
     "output_type": "execute_result"
    }
   ],
   "source": [
    "df = pd.read_csv('buddymove_holidayiq.csv')\n",
    "df.head()"
   ]
  },
  {
   "cell_type": "code",
   "execution_count": 3,
   "metadata": {},
   "outputs": [
    {
     "data": {
      "text/plain": [
       "(249, 7)"
      ]
     },
     "execution_count": 3,
     "metadata": {},
     "output_type": "execute_result"
    }
   ],
   "source": [
    "df.shape"
   ]
  },
  {
   "cell_type": "code",
   "execution_count": 5,
   "metadata": {},
   "outputs": [
    {
     "data": {
      "text/plain": [
       "User Id      0\n",
       "Sports       0\n",
       "Religious    0\n",
       "Nature       0\n",
       "Theatre      0\n",
       "Shopping     0\n",
       "Picnic       0\n",
       "dtype: int64"
      ]
     },
     "execution_count": 5,
     "metadata": {},
     "output_type": "execute_result"
    }
   ],
   "source": [
    "df.isnull().sum()"
   ]
  },
  {
   "cell_type": "code",
   "execution_count": 8,
   "metadata": {},
   "outputs": [],
   "source": [
    "# OK, so the data looks good. \n",
    "# Let's open a connection stream to a new blank database file\n",
    "conn = sqlite3.connect('buddymove_holidayiq.sqlite3')"
   ]
  },
  {
   "cell_type": "code",
   "execution_count": 9,
   "metadata": {},
   "outputs": [
    {
     "name": "stderr",
     "output_type": "stream",
     "text": [
      "/Users/stephensinclair/anaconda3/lib/python3.7/site-packages/pandas/core/generic.py:2130: UserWarning: The spaces in these column names will not be changed. In pandas versions < 0.14, spaces were converted to underscores.\n",
      "  dtype=dtype)\n"
     ]
    }
   ],
   "source": [
    "# use df.to_sql to insert data into a new table 'review' in the SQLite3 database\n",
    "df.to_sql(name='review', con=conn, if_exists='replace')"
   ]
  },
  {
   "cell_type": "markdown",
   "metadata": {},
   "source": [
    "- Count how many rows you have - it should be 249!\n",
    "- How many users who reviewed at least 100 `Nature` in the category also\n",
    "  reviewed at least 100 in the `Shopping` category?\n",
    "- (*Stretch*) What are the average number of reviews for each category?"
   ]
  },
  {
   "cell_type": "code",
   "execution_count": 10,
   "metadata": {},
   "outputs": [
    {
     "name": "stdout",
     "output_type": "stream",
     "text": [
      "Opened as needed\n"
     ]
    }
   ],
   "source": [
    "# Then write the above queries\n",
    "cursor = conn.cursor()\n",
    "print(\"Opened as needed\")"
   ]
  },
  {
   "cell_type": "code",
   "execution_count": 11,
   "metadata": {},
   "outputs": [
    {
     "name": "stdout",
     "output_type": "stream",
     "text": [
      "(0, 'User 1', 2, 77, 79, 69, 68, 95)\n",
      "(1, 'User 2', 2, 62, 76, 76, 69, 68)\n",
      "(2, 'User 3', 2, 50, 97, 87, 50, 75)\n",
      "(3, 'User 4', 2, 68, 77, 95, 76, 61)\n",
      "(4, 'User 5', 2, 98, 54, 59, 95, 86)\n",
      "(5, 'User 6', 3, 52, 109, 93, 52, 76)\n",
      "(6, 'User 7', 3, 64, 85, 82, 73, 69)\n",
      "(7, 'User 8', 3, 54, 107, 92, 54, 76)\n",
      "(8, 'User 9', 3, 64, 108, 64, 54, 93)\n",
      "(9, 'User 10', 3, 86, 76, 74, 74, 103)\n",
      "(10, 'User 11', 3, 107, 54, 64, 103, 94)\n",
      "(11, 'User 12', 3, 103, 60, 63, 102, 93)\n",
      "(12, 'User 13', 3, 64, 82, 82, 75, 69)\n",
      "(13, 'User 14', 3, 93, 54, 74, 103, 69)\n",
      "(14, 'User 15', 3, 63, 82, 81, 78, 69)\n",
      "(15, 'User 16', 3, 82, 79, 75, 75, 82)\n",
      "(16, 'User 17', 5, 59, 131, 103, 54, 86)\n",
      "(17, 'User 18', 5, 56, 124, 108, 56, 85)\n",
      "(18, 'User 19', 4, 85, 67, 111, 65, 72)\n",
      "(19, 'User 20', 5, 114, 83, 65, 114, 102)\n"
     ]
    }
   ],
   "source": [
    "for row in cursor.execute('''SELECT * FROM review LIMIT 20'''):\n",
    "    print(row)"
   ]
  },
  {
   "cell_type": "code",
   "execution_count": 13,
   "metadata": {},
   "outputs": [
    {
     "data": {
      "text/plain": [
       "(249,)"
      ]
     },
     "execution_count": 13,
     "metadata": {},
     "output_type": "execute_result"
    }
   ],
   "source": [
    "# Count the rows. I *do* have 249.\n",
    "cursor.execute('''SELECT COUNT(*) FROM review''').fetchone()"
   ]
  },
  {
   "cell_type": "code",
   "execution_count": 18,
   "metadata": {},
   "outputs": [
    {
     "data": {
      "text/plain": [
       "(78,)"
      ]
     },
     "execution_count": 18,
     "metadata": {},
     "output_type": "execute_result"
    }
   ],
   "source": [
    "# 78 users who reviewed 100+ in the Nature category reviewed 100+ in the Shopping category \n",
    "cursor.execute('''SELECT COUNT(*) \n",
    "                    FROM review\n",
    "                    WHERE Nature >= 100 AND Shopping >= 100\n",
    "               '''\n",
    "              ).fetchone()"
   ]
  },
  {
   "cell_type": "code",
   "execution_count": 20,
   "metadata": {},
   "outputs": [
    {
     "data": {
      "text/plain": [
       "[(11.987951807228916,\n",
       "  109.77911646586345,\n",
       "  124.51807228915662,\n",
       "  116.37751004016064,\n",
       "  112.63855421686748,\n",
       "  120.40160642570281)]"
      ]
     },
     "execution_count": 20,
     "metadata": {},
     "output_type": "execute_result"
    }
   ],
   "source": [
    "# Average number of reviews for each category\n",
    "cursor.execute('''SELECT AVG(Sports), AVG(Religious), AVG(Nature), AVG(Theatre),AVG(Shopping), AVG(Picnic)\n",
    "                    FROM review\n",
    "               '''\n",
    "              ).fetchall()"
   ]
  },
  {
   "cell_type": "code",
   "execution_count": null,
   "metadata": {},
   "outputs": [],
   "source": []
  }
 ],
 "metadata": {
  "kernelspec": {
   "display_name": "Python 3",
   "language": "python",
   "name": "python3"
  },
  "language_info": {
   "codemirror_mode": {
    "name": "ipython",
    "version": 3
   },
   "file_extension": ".py",
   "mimetype": "text/x-python",
   "name": "python",
   "nbconvert_exporter": "python",
   "pygments_lexer": "ipython3",
   "version": "3.7.3"
  }
 },
 "nbformat": 4,
 "nbformat_minor": 2
}
