{
  "nbformat": 4,
  "nbformat_minor": 0,
  "metadata": {
    "colab": {
      "name": "Krista Shepard U3S2M1 - Assignment 1 Part 2 - Intro to SQL.ipynb",
      "provenance": [],
      "collapsed_sections": [],
      "include_colab_link": true
    },
    "kernelspec": {
      "name": "python3",
      "display_name": "Python 3"
    }
  },
  "cells": [
    {
      "cell_type": "markdown",
      "metadata": {
        "id": "view-in-github",
        "colab_type": "text"
      },
      "source": [
        "<a href=\"https://colab.research.google.com/github/KryssyCo/DS-Unit-3-Sprint-2-SQL-and-Databases/blob/master/Krista_Shepard_U3S2M1_Assignment_1_Part_2_Intro_to_SQL.ipynb\" target=\"_parent\"><img src=\"https://colab.research.google.com/assets/colab-badge.svg\" alt=\"Open In Colab\"/></a>"
      ]
    },
    {
      "cell_type": "code",
      "metadata": {
        "id": "L62TpQSoM1DS",
        "colab_type": "code",
        "colab": {}
      },
      "source": [
        "import pandas as pd\n",
        "import sqlite3"
      ],
      "execution_count": 0,
      "outputs": []
    },
    {
      "cell_type": "markdown",
      "metadata": {
        "id": "Tb8rpucYRxSO",
        "colab_type": "text"
      },
      "source": [
        "### Loaded the data from the provided file buddymove_holidayiq.csv \n",
        "### I have 249 rows, 7 columns, and no missing values. \n",
        "\n"
      ]
    },
    {
      "cell_type": "code",
      "metadata": {
        "id": "4av_HJjIQ1ox",
        "colab_type": "code",
        "colab": {
          "base_uri": "https://localhost:8080/",
          "height": 221
        },
        "outputId": "f9345afb-67f2-4deb-fb7d-fadaefc68733"
      },
      "source": [
        "buddy = pd.read_csv('https://raw.githubusercontent.com/KryssyCo/'\n",
        "                    'DS-Unit-3-Sprint-2-SQL-and-Databases/master/'\n",
        "                    'module1-introduction-to-sql/buddymove_holidayiq.csv')\n",
        "print(buddy.shape)\n",
        "buddy.head()"
      ],
      "execution_count": 5,
      "outputs": [
        {
          "output_type": "stream",
          "text": [
            "(249, 7)\n"
          ],
          "name": "stdout"
        },
        {
          "output_type": "execute_result",
          "data": {
            "text/html": [
              "<div>\n",
              "<style scoped>\n",
              "    .dataframe tbody tr th:only-of-type {\n",
              "        vertical-align: middle;\n",
              "    }\n",
              "\n",
              "    .dataframe tbody tr th {\n",
              "        vertical-align: top;\n",
              "    }\n",
              "\n",
              "    .dataframe thead th {\n",
              "        text-align: right;\n",
              "    }\n",
              "</style>\n",
              "<table border=\"1\" class=\"dataframe\">\n",
              "  <thead>\n",
              "    <tr style=\"text-align: right;\">\n",
              "      <th></th>\n",
              "      <th>User Id</th>\n",
              "      <th>Sports</th>\n",
              "      <th>Religious</th>\n",
              "      <th>Nature</th>\n",
              "      <th>Theatre</th>\n",
              "      <th>Shopping</th>\n",
              "      <th>Picnic</th>\n",
              "    </tr>\n",
              "  </thead>\n",
              "  <tbody>\n",
              "    <tr>\n",
              "      <th>0</th>\n",
              "      <td>User 1</td>\n",
              "      <td>2</td>\n",
              "      <td>77</td>\n",
              "      <td>79</td>\n",
              "      <td>69</td>\n",
              "      <td>68</td>\n",
              "      <td>95</td>\n",
              "    </tr>\n",
              "    <tr>\n",
              "      <th>1</th>\n",
              "      <td>User 2</td>\n",
              "      <td>2</td>\n",
              "      <td>62</td>\n",
              "      <td>76</td>\n",
              "      <td>76</td>\n",
              "      <td>69</td>\n",
              "      <td>68</td>\n",
              "    </tr>\n",
              "    <tr>\n",
              "      <th>2</th>\n",
              "      <td>User 3</td>\n",
              "      <td>2</td>\n",
              "      <td>50</td>\n",
              "      <td>97</td>\n",
              "      <td>87</td>\n",
              "      <td>50</td>\n",
              "      <td>75</td>\n",
              "    </tr>\n",
              "    <tr>\n",
              "      <th>3</th>\n",
              "      <td>User 4</td>\n",
              "      <td>2</td>\n",
              "      <td>68</td>\n",
              "      <td>77</td>\n",
              "      <td>95</td>\n",
              "      <td>76</td>\n",
              "      <td>61</td>\n",
              "    </tr>\n",
              "    <tr>\n",
              "      <th>4</th>\n",
              "      <td>User 5</td>\n",
              "      <td>2</td>\n",
              "      <td>98</td>\n",
              "      <td>54</td>\n",
              "      <td>59</td>\n",
              "      <td>95</td>\n",
              "      <td>86</td>\n",
              "    </tr>\n",
              "  </tbody>\n",
              "</table>\n",
              "</div>"
            ],
            "text/plain": [
              "  User Id  Sports  Religious  Nature  Theatre  Shopping  Picnic\n",
              "0  User 1       2         77      79       69        68      95\n",
              "1  User 2       2         62      76       76        69      68\n",
              "2  User 3       2         50      97       87        50      75\n",
              "3  User 4       2         68      77       95        76      61\n",
              "4  User 5       2         98      54       59        95      86"
            ]
          },
          "metadata": {
            "tags": []
          },
          "execution_count": 5
        }
      ]
    },
    {
      "cell_type": "code",
      "metadata": {
        "id": "eQAW7iT3SL_1",
        "colab_type": "code",
        "colab": {
          "base_uri": "https://localhost:8080/",
          "height": 153
        },
        "outputId": "94e4b7fe-c08e-471e-cae8-64200fb51ca6"
      },
      "source": [
        "buddy.isnull().sum()"
      ],
      "execution_count": 6,
      "outputs": [
        {
          "output_type": "execute_result",
          "data": {
            "text/plain": [
              "User Id      0\n",
              "Sports       0\n",
              "Religious    0\n",
              "Nature       0\n",
              "Theatre      0\n",
              "Shopping     0\n",
              "Picnic       0\n",
              "dtype: int64"
            ]
          },
          "metadata": {
            "tags": []
          },
          "execution_count": 6
        }
      ]
    },
    {
      "cell_type": "markdown",
      "metadata": {
        "id": "dxrSPyomSRQM",
        "colab_type": "text"
      },
      "source": [
        "### Using the standard sqlite3 module:\n",
        "\n",
        "- I opened a connection to a new (blank) database file buddymove_holidayiq.sqlite3\n",
        "- Used df.to_sql (documentation) to insert the data into a new table review in the SQLite3 database"
      ]
    },
    {
      "cell_type": "code",
      "metadata": {
        "id": "UOKZTNaJSQSP",
        "colab_type": "code",
        "colab": {
          "base_uri": "https://localhost:8080/",
          "height": 71
        },
        "outputId": "c88fc28b-a192-47b7-c07d-2da3cb82dd70"
      },
      "source": [
        "# Establish a connection to a new database\n",
        "conn = sqlite3.connect('buddymove)holidayiq.sqlite3')\n",
        "\n",
        "#Inserted the data into a new table called \"review\" in the database\n",
        "buddy.to_sql(name = 'review', con = conn)"
      ],
      "execution_count": 8,
      "outputs": [
        {
          "output_type": "stream",
          "text": [
            "/usr/local/lib/python3.6/dist-packages/pandas/core/generic.py:2712: UserWarning: The spaces in these column names will not be changed. In pandas versions < 0.14, spaces were converted to underscores.\n",
            "  method=method,\n"
          ],
          "name": "stderr"
        }
      ]
    },
    {
      "cell_type": "markdown",
      "metadata": {
        "id": "mfJMIqOud5Nq",
        "colab_type": "text"
      },
      "source": [
        "### Counting how many rows I have now"
      ]
    },
    {
      "cell_type": "code",
      "metadata": {
        "id": "8PV41LlPdOGw",
        "colab_type": "code",
        "colab": {
          "base_uri": "https://localhost:8080/",
          "height": 34
        },
        "outputId": "66349580-1081-4506-937c-6016d5fbdfdb"
      },
      "source": [
        "# Create a cursor.\n",
        "curs1 = conn.cursor()\n",
        "\n",
        "# Write a query\n",
        "query1 = 'SELECT COUNT(*) FROM review;'\n",
        "\n",
        "# Execute the query\n",
        "total_rows = curs1.execute(query1).fetchall()\n",
        "\n",
        "# Print Answer\n",
        "print(total_rows)"
      ],
      "execution_count": 11,
      "outputs": [
        {
          "output_type": "stream",
          "text": [
            "[(249,)]\n"
          ],
          "name": "stdout"
        }
      ]
    },
    {
      "cell_type": "markdown",
      "metadata": {
        "id": "5NYO-ZmKhBwA",
        "colab_type": "text"
      },
      "source": [
        "### How many users who reviewed at least 100 Nature in the category also reviewed at least 100 in the Shopping category?\n"
      ]
    },
    {
      "cell_type": "code",
      "metadata": {
        "id": "j3Vy8ly8fPAU",
        "colab_type": "code",
        "colab": {}
      },
      "source": [
        "#Create a cursor.\n",
        "curs2 = conn.cursor()"
      ],
      "execution_count": 0,
      "outputs": []
    },
    {
      "cell_type": "code",
      "metadata": {
        "id": "LCcWFHuChMEr",
        "colab_type": "code",
        "colab": {
          "base_uri": "https://localhost:8080/",
          "height": 34
        },
        "outputId": "1b80d401-1dc2-4664-a254-74e9ea0273c9"
      },
      "source": [
        "#Write a query.\n",
        "query2 = \"\"\"\n",
        "SELECT COUNT(*)\n",
        "FROM review\n",
        "WHERE Nature >= 100 AND Shopping >= 100;\n",
        "\"\"\"\n",
        "\n",
        "#Execute the query.\n",
        "users = curs2.execute(query2).fetchall()\n",
        "\n",
        "print(users)"
      ],
      "execution_count": 24,
      "outputs": [
        {
          "output_type": "stream",
          "text": [
            "[(78,)]\n"
          ],
          "name": "stdout"
        }
      ]
    },
    {
      "cell_type": "markdown",
      "metadata": {
        "id": "fvuDRa5fhgfr",
        "colab_type": "text"
      },
      "source": [
        "### (Stretch) What are the average number of reviews for each category?"
      ]
    },
    {
      "cell_type": "code",
      "metadata": {
        "id": "GfJUTfyLhfY3",
        "colab_type": "code",
        "colab": {
          "base_uri": "https://localhost:8080/",
          "height": 34
        },
        "outputId": "8adcfdfd-3901-46b2-9501-d46bba95ae58"
      },
      "source": [
        "#Create a cursor.\n",
        "curs3 = conn.cursor()\n",
        "\n",
        "#Write a query.\n",
        "query3 = \"\"\"\n",
        "SELECT AVG(Sports), AVG(Religious), AVG(Nature), AVG(Theatre),\n",
        "AVG(Shopping), AVG(Picnic)\n",
        "FROM review;\"\"\"\n",
        "\n",
        "#Execute the query()\n",
        "avg_reviews_column = curs3.execute(query3).fetchall()\n",
        "\n",
        "print(avg_reviews_column)"
      ],
      "execution_count": 25,
      "outputs": [
        {
          "output_type": "stream",
          "text": [
            "[(11.987951807228916, 109.77911646586345, 124.51807228915662, 116.37751004016064, 112.63855421686748, 120.40160642570281)]\n"
          ],
          "name": "stdout"
        }
      ]
    }
  ]
}
