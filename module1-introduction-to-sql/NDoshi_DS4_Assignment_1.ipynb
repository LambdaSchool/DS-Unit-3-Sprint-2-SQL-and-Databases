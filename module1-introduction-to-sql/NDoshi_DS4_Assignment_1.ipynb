{
 "cells": [
  {
   "cell_type": "markdown",
   "metadata": {},
   "source": [
    "## Part 1"
   ]
  },
  {
   "cell_type": "code",
   "execution_count": 1,
   "metadata": {},
   "outputs": [],
   "source": [
    "# Import SQLite3\n",
    "import sqlite3"
   ]
  },
  {
   "cell_type": "code",
   "execution_count": 2,
   "metadata": {},
   "outputs": [],
   "source": [
    "conn = sqlite3.connect('rpg_db.sqlite3')"
   ]
  },
  {
   "cell_type": "code",
   "execution_count": 3,
   "metadata": {},
   "outputs": [
    {
     "name": "stdout",
     "output_type": "stream",
     "text": [
      "Opened as needed\n"
     ]
    }
   ],
   "source": [
    "c = conn.cursor()\n",
    "print('Opened as needed')"
   ]
  },
  {
   "cell_type": "code",
   "execution_count": 6,
   "metadata": {},
   "outputs": [
    {
     "name": "stdout",
     "output_type": "stream",
     "text": [
      "(302,) \n",
      "\n"
     ]
    }
   ],
   "source": [
    "# This shows the total characters \n",
    "for row in c.execute(\"SELECT count(*) from charactercreator_character\"):\n",
    "   print(row, '\\n')"
   ]
  },
  {
   "cell_type": "code",
   "execution_count": 16,
   "metadata": {},
   "outputs": [
    {
     "name": "stdout",
     "output_type": "stream",
     "text": [
      "Cleric: 75\n",
      "Fighter: 68\n",
      "Mage: 108\n",
      "Necromancer: 11\n",
      "Thief: 51\n"
     ]
    }
   ],
   "source": [
    "# I will use the above code for each subclass to determine counts for each\n",
    "# This shows the total for Cleric\n",
    "for row in c.execute(\"SELECT count(*) from charactercreator_cleric\"):\n",
    "   print('Cleric:', row[0])\n",
    "\n",
    "# This shows the total for Fighter\n",
    "for row in c.execute(\"SELECT count(*) from charactercreator_fighter\"):\n",
    "   print('Fighter:', row[0])\n",
    "\n",
    "# This shows the total for Mage\n",
    "for row in c.execute(\"SELECT count(*) from charactercreator_mage\"):\n",
    "   print('Mage:', row[0])\n",
    "\n",
    "# This shows the total for Necromancer\n",
    "for row in c.execute(\"SELECT count(*) from charactercreator_necromancer\"):\n",
    "   print('Necromancer:', row[0])\n",
    "\n",
    "# This shows the total for Thief\n",
    "for row in c.execute(\"SELECT count(*) from charactercreator_thief\"):\n",
    "   print('Thief:', row[0])"
   ]
  },
  {
   "cell_type": "code",
   "execution_count": 18,
   "metadata": {},
   "outputs": [
    {
     "name": "stdout",
     "output_type": "stream",
     "text": [
      "Items total: 898\n"
     ]
    }
   ],
   "source": [
    "# Show the total items for all characters\n",
    "for row in c.execute(\"SELECT count(*) from charactercreator_character_inventory\"):\n",
    "    print('Items total:', row[0])"
   ]
  },
  {
   "cell_type": "code",
   "execution_count": 22,
   "metadata": {},
   "outputs": [
    {
     "name": "stdout",
     "output_type": "stream",
     "text": [
      "Weapon items: 203\n",
      "Not weapon items: 695\n"
     ]
    }
   ],
   "source": [
    "# In this section we will count how many items are weapons and how many are not\n",
    "# Weapons count\n",
    "for row in c.execute(\"select count(*) from charactercreator_character_inventory as inven inner join armory_weapon as aw on inven.item_id = aw.item_ptr_id\"):\n",
    "    print('Weapon items:', row[0])\n",
    "    \n",
    "# Not weapons count\n",
    "for row in c.execute(\"select count(*) from charactercreator_character_inventory as inven where inven.item_id < 138\"):\n",
    "    print('Not weapon items:', row[0])"
   ]
  },
  {
   "cell_type": "code",
   "execution_count": 27,
   "metadata": {},
   "outputs": [
    {
     "name": "stdout",
     "output_type": "stream",
     "text": [
      "Name: A rem ex\n",
      "Item Count: 1 \n",
      "\n",
      "Name: A sed pariatur qua\n",
      "Item Count: 1 \n",
      "\n",
      "Name: Ab illum invento\n",
      "Item Count: 2 \n",
      "\n",
      "Name: Ab voluptas se\n",
      "Item Count: 2 \n",
      "\n",
      "Name: Acc\n",
      "Item Count: 3 \n",
      "\n",
      "Name: Accusa\n",
      "Item Count: 2 \n",
      "\n",
      "Name: Accusantium amet quidem eve\n",
      "Item Count: 3 \n",
      "\n",
      "Name: Accusantium qu\n",
      "Item Count: 2 \n",
      "\n",
      "Name: Accusantium vitae n\n",
      "Item Count: 2 \n",
      "\n",
      "Name: Ad necess\n",
      "Item Count: 1 \n",
      "\n",
      "Name: Adip\n",
      "Item Count: 3 \n",
      "\n",
      "Name: Adipisci molest\n",
      "Item Count: 2 \n",
      "\n",
      "Name: Adipisci voluptas\n",
      "Item Count: 3 \n",
      "\n",
      "Name: Ali\n",
      "Item Count: 4 \n",
      "\n",
      "Name: Aliqu\n",
      "Item Count: 3 \n",
      "\n",
      "Name: Aliquam n\n",
      "Item Count: 4 \n",
      "\n",
      "Name: Aliquid iste optio reiciendi\n",
      "Item Count: 3 \n",
      "\n",
      "Name: Amet quo fugit aliquam sequi\n",
      "Item Count: 4 \n",
      "\n",
      "Name: Animi labo\n",
      "Item Count: 3 \n",
      "\n",
      "Name: Aper\n",
      "Item Count: 1 \n",
      "\n"
     ]
    }
   ],
   "source": [
    "# This section will return the number of items each character has\n",
    "for row in c.execute(\"select char.name, count(inven.item_id) from charactercreator_character_inventory as inven left join charactercreator_character as char on inven.character_id = char.character_id where inven.item_id < 138 group by char.name limit 20\"):    \n",
    "    print('Name:', row[0])\n",
    "    print('Item Count:', row[1],'\\n')"
   ]
  },
  {
   "cell_type": "code",
   "execution_count": 26,
   "metadata": {},
   "outputs": [
    {
     "name": "stdout",
     "output_type": "stream",
     "text": [
      "Name: Ab illum invento\n",
      "Weapon Count: 1 \n",
      "\n",
      "Name: Ab voluptas se\n",
      "Weapon Count: 3 \n",
      "\n",
      "Name: Acc\n",
      "Weapon Count: 2 \n",
      "\n",
      "Name: Accusa\n",
      "Weapon Count: 1 \n",
      "\n",
      "Name: Accusantium qu\n",
      "Weapon Count: 1 \n",
      "\n",
      "Name: Accusantium vitae n\n",
      "Weapon Count: 1 \n",
      "\n",
      "Name: Ad necess\n",
      "Weapon Count: 1 \n",
      "\n",
      "Name: Adipisci voluptas\n",
      "Weapon Count: 1 \n",
      "\n",
      "Name: Aliqu\n",
      "Weapon Count: 2 \n",
      "\n",
      "Name: Aliquam n\n",
      "Weapon Count: 1 \n",
      "\n",
      "Name: Amet quo fugit aliquam sequi\n",
      "Weapon Count: 1 \n",
      "\n",
      "Name: Aperiam sit\n",
      "Weapon Count: 1 \n",
      "\n",
      "Name: Architecto i\n",
      "Weapon Count: 1 \n",
      "\n",
      "Name: Architecto repudian\n",
      "Weapon Count: 2 \n",
      "\n",
      "Name: Asperi\n",
      "Weapon Count: 2 \n",
      "\n",
      "Name: At id recusandae expl\n",
      "Weapon Count: 2 \n",
      "\n",
      "Name: At sint ducimus nostrum i\n",
      "Weapon Count: 1 \n",
      "\n",
      "Name: Autem eos voluptates off\n",
      "Weapon Count: 1 \n",
      "\n",
      "Name: Autem lib\n",
      "Weapon Count: 1 \n",
      "\n",
      "Name: Autem mollitia fuga lauda\n",
      "Weapon Count: 2 \n",
      "\n"
     ]
    }
   ],
   "source": [
    "# This section shows the first 20 characters and the weapon counts\n",
    "for row in c.execute(\"select char.name, count(inven.item_id) from charactercreator_character_inventory as inven left join charactercreator_character as char on inven.character_id = char.character_id where inven.item_id > 137 group by char.name limit 20\"):    \n",
    "    print('Name:', row[0])\n",
    "    print('Weapon Count:', row[1], '\\n')"
   ]
  },
  {
   "cell_type": "code",
   "execution_count": 29,
   "metadata": {},
   "outputs": [
    {
     "name": "stdout",
     "output_type": "stream",
     "text": [
      "Average items per character: 2.482142857142857\n"
     ]
    }
   ],
   "source": [
    "# This section will show the average number of items per character\n",
    "for row in c.execute(\"select avg(counts) from (select char.name, count(inven.item_id) as counts from charactercreator_character_inventory as inven left join charactercreator_character as char on inven.character_id = char.character_id where inven.item_id < 138 group by char.name)\"):    \n",
    "    print('Average items per character:', row[0])\n"
   ]
  },
  {
   "cell_type": "code",
   "execution_count": 30,
   "metadata": {},
   "outputs": [
    {
     "name": "stdout",
     "output_type": "stream",
     "text": [
      "Average weapons per character: 1.326797385620915\n"
     ]
    }
   ],
   "source": [
    "# This section will show the average number of weapons per character\n",
    "for row in c.execute(\"select avg(counts) from (select char.name, count(inven.item_id) as counts from charactercreator_character_inventory as inven left join charactercreator_character as char on inven.character_id = char.character_id where inven.item_id > 137 group by char.name)\"):\n",
    "    print('Average weapons per character:', row[0])"
   ]
  },
  {
   "cell_type": "code",
   "execution_count": 31,
   "metadata": {},
   "outputs": [
    {
     "data": {
      "text/plain": [
       "<function Connection.close>"
      ]
     },
     "execution_count": 31,
     "metadata": {},
     "output_type": "execute_result"
    }
   ],
   "source": [
    "# Closing the connection\n",
    "conn.close"
   ]
  },
  {
   "cell_type": "markdown",
   "metadata": {},
   "source": [
    "## Part 2"
   ]
  },
  {
   "cell_type": "code",
   "execution_count": 32,
   "metadata": {},
   "outputs": [],
   "source": [
    "# Import additional needed libraries\n",
    "import pandas as pd"
   ]
  },
  {
   "cell_type": "code",
   "execution_count": 34,
   "metadata": {},
   "outputs": [
    {
     "name": "stdout",
     "output_type": "stream",
     "text": [
      "Cursor Opened\n"
     ]
    }
   ],
   "source": [
    "# Create SQLite3 connection to new db\n",
    "conn = sqlite3.connect('buddymove_holidayiq.sqlite3')\n",
    "\n",
    "# Create the cursor\n",
    "c = conn.cursor()\n",
    "print(\"Cursor Opened\")"
   ]
  },
  {
   "cell_type": "code",
   "execution_count": 35,
   "metadata": {},
   "outputs": [
    {
     "data": {
      "text/plain": [
       "(249, 7)"
      ]
     },
     "execution_count": 35,
     "metadata": {},
     "output_type": "execute_result"
    }
   ],
   "source": [
    "# Import data into pandas dataframe\n",
    "df = pd.read_csv('https://raw.githubusercontent.com/ndoshi83/DS-Unit-3-Sprint-2-SQL-and-Databases/master/module1-introduction-to-sql/buddymove_holidayiq.csv')\n",
    "df.shape"
   ]
  },
  {
   "cell_type": "code",
   "execution_count": 37,
   "metadata": {},
   "outputs": [],
   "source": [
    "# Load dataframe into SQL table\n",
    "df.to_sql('buddymove_holidayiq', con=conn)"
   ]
  },
  {
   "cell_type": "code",
   "execution_count": 38,
   "metadata": {},
   "outputs": [
    {
     "name": "stdout",
     "output_type": "stream",
     "text": [
      "Total rows: 249\n"
     ]
    }
   ],
   "source": [
    "# Count the number of rows in the table\n",
    "for row in c.execute(\"select count(*) from buddymove_holidayiq\"):\n",
    "    print('Total rows:', row[0])"
   ]
  },
  {
   "cell_type": "code",
   "execution_count": 45,
   "metadata": {},
   "outputs": [
    {
     "name": "stdout",
     "output_type": "stream",
     "text": [
      "Total rows: 78\n"
     ]
    }
   ],
   "source": [
    "# Count the number of reviewers to have atleast 100 in both Nature and Shopping\n",
    "for row in c.execute(\"select count(*) from buddymove_holidayiq where Nature > 99 AND Shopping > 99\"):\n",
    "    print('Total rows:', row[0])"
   ]
  },
  {
   "cell_type": "code",
   "execution_count": 47,
   "metadata": {},
   "outputs": [
    {
     "name": "stdout",
     "output_type": "stream",
     "text": [
      "Average reviews: (11.987951807228916, 109.77911646586345, 124.51807228915662, 116.37751004016064, 112.63855421686748, 120.40160642570281) \n",
      "\n"
     ]
    }
   ],
   "source": [
    "# Calculate the average number of reviews for each category\n",
    "for row in c.execute(\"select avg(Sports) as Sports_Avg, avg(Religious) as Religious_Avg, avg(Nature) as Nature_Avg, avg(Theatre) as Theatre_Avg, avg(Shopping) as Shopping_Avg, avg(Picnic) as Picnic_Avg from buddymove_holidayiq\"):\n",
    "    print('Average reviews:', row, '\\n')"
   ]
  }
 ],
 "metadata": {
  "kernelspec": {
   "display_name": "Python 3",
   "language": "python",
   "name": "python3"
  },
  "language_info": {
   "codemirror_mode": {
    "name": "ipython",
    "version": 3
   },
   "file_extension": ".py",
   "mimetype": "text/x-python",
   "name": "python",
   "nbconvert_exporter": "python",
   "pygments_lexer": "ipython3",
   "version": "3.7.3"
  }
 },
 "nbformat": 4,
 "nbformat_minor": 2
}
