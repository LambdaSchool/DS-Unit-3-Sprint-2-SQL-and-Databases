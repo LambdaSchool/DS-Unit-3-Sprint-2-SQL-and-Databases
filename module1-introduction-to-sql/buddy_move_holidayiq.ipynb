{
 "cells": [
  {
   "cell_type": "code",
   "execution_count": 1,
   "metadata": {},
   "outputs": [],
   "source": [
    "import os\n",
    "import sqlite3\n",
    "import pandas as pd"
   ]
  },
  {
   "cell_type": "code",
   "execution_count": 2,
   "metadata": {},
   "outputs": [],
   "source": [
    "df = pd.read_csv('buddymove_holidayiq.csv')"
   ]
  },
  {
   "cell_type": "code",
   "execution_count": 3,
   "metadata": {},
   "outputs": [
    {
     "data": {
      "text/html": [
       "<div>\n",
       "<style scoped>\n",
       "    .dataframe tbody tr th:only-of-type {\n",
       "        vertical-align: middle;\n",
       "    }\n",
       "\n",
       "    .dataframe tbody tr th {\n",
       "        vertical-align: top;\n",
       "    }\n",
       "\n",
       "    .dataframe thead th {\n",
       "        text-align: right;\n",
       "    }\n",
       "</style>\n",
       "<table border=\"1\" class=\"dataframe\">\n",
       "  <thead>\n",
       "    <tr style=\"text-align: right;\">\n",
       "      <th></th>\n",
       "      <th>Sports</th>\n",
       "      <th>Religious</th>\n",
       "      <th>Nature</th>\n",
       "      <th>Theatre</th>\n",
       "      <th>Shopping</th>\n",
       "      <th>Picnic</th>\n",
       "    </tr>\n",
       "  </thead>\n",
       "  <tbody>\n",
       "    <tr>\n",
       "      <th>count</th>\n",
       "      <td>249.000000</td>\n",
       "      <td>249.000000</td>\n",
       "      <td>249.000000</td>\n",
       "      <td>249.000000</td>\n",
       "      <td>249.000000</td>\n",
       "      <td>249.000000</td>\n",
       "    </tr>\n",
       "    <tr>\n",
       "      <th>mean</th>\n",
       "      <td>11.987952</td>\n",
       "      <td>109.779116</td>\n",
       "      <td>124.518072</td>\n",
       "      <td>116.377510</td>\n",
       "      <td>112.638554</td>\n",
       "      <td>120.401606</td>\n",
       "    </tr>\n",
       "    <tr>\n",
       "      <th>std</th>\n",
       "      <td>6.616501</td>\n",
       "      <td>32.454115</td>\n",
       "      <td>45.639372</td>\n",
       "      <td>32.132696</td>\n",
       "      <td>41.562888</td>\n",
       "      <td>32.633339</td>\n",
       "    </tr>\n",
       "    <tr>\n",
       "      <th>min</th>\n",
       "      <td>2.000000</td>\n",
       "      <td>50.000000</td>\n",
       "      <td>52.000000</td>\n",
       "      <td>59.000000</td>\n",
       "      <td>50.000000</td>\n",
       "      <td>61.000000</td>\n",
       "    </tr>\n",
       "    <tr>\n",
       "      <th>25%</th>\n",
       "      <td>6.000000</td>\n",
       "      <td>84.000000</td>\n",
       "      <td>89.000000</td>\n",
       "      <td>93.000000</td>\n",
       "      <td>79.000000</td>\n",
       "      <td>92.000000</td>\n",
       "    </tr>\n",
       "    <tr>\n",
       "      <th>50%</th>\n",
       "      <td>12.000000</td>\n",
       "      <td>104.000000</td>\n",
       "      <td>119.000000</td>\n",
       "      <td>113.000000</td>\n",
       "      <td>104.000000</td>\n",
       "      <td>119.000000</td>\n",
       "    </tr>\n",
       "    <tr>\n",
       "      <th>75%</th>\n",
       "      <td>18.000000</td>\n",
       "      <td>132.000000</td>\n",
       "      <td>153.000000</td>\n",
       "      <td>138.000000</td>\n",
       "      <td>138.000000</td>\n",
       "      <td>143.000000</td>\n",
       "    </tr>\n",
       "    <tr>\n",
       "      <th>max</th>\n",
       "      <td>25.000000</td>\n",
       "      <td>203.000000</td>\n",
       "      <td>318.000000</td>\n",
       "      <td>213.000000</td>\n",
       "      <td>233.000000</td>\n",
       "      <td>218.000000</td>\n",
       "    </tr>\n",
       "  </tbody>\n",
       "</table>\n",
       "</div>"
      ],
      "text/plain": [
       "           Sports   Religious      Nature     Theatre    Shopping      Picnic\n",
       "count  249.000000  249.000000  249.000000  249.000000  249.000000  249.000000\n",
       "mean    11.987952  109.779116  124.518072  116.377510  112.638554  120.401606\n",
       "std      6.616501   32.454115   45.639372   32.132696   41.562888   32.633339\n",
       "min      2.000000   50.000000   52.000000   59.000000   50.000000   61.000000\n",
       "25%      6.000000   84.000000   89.000000   93.000000   79.000000   92.000000\n",
       "50%     12.000000  104.000000  119.000000  113.000000  104.000000  119.000000\n",
       "75%     18.000000  132.000000  153.000000  138.000000  138.000000  143.000000\n",
       "max     25.000000  203.000000  318.000000  213.000000  233.000000  218.000000"
      ]
     },
     "execution_count": 3,
     "metadata": {},
     "output_type": "execute_result"
    }
   ],
   "source": [
    "# The DataFrame should have 249 rows and 7 columns.\n",
    "df.describe()"
   ]
  },
  {
   "cell_type": "code",
   "execution_count": 4,
   "metadata": {},
   "outputs": [
    {
     "data": {
      "text/plain": [
       "['User', 'Sports', 'Religious', 'Nature', 'Theatre', 'Shopping', 'Picnic']"
      ]
     },
     "execution_count": 4,
     "metadata": {},
     "output_type": "execute_result"
    }
   ],
   "source": [
    "list(df.columns.values.tolist())"
   ]
  },
  {
   "cell_type": "code",
   "execution_count": 5,
   "metadata": {},
   "outputs": [
    {
     "data": {
      "text/plain": [
       "0"
      ]
     },
     "execution_count": 5,
     "metadata": {},
     "output_type": "execute_result"
    }
   ],
   "source": [
    "# The DataFrame should have no missing values. \n",
    "df.isnull().sum().sum()"
   ]
  },
  {
   "cell_type": "code",
   "execution_count": 6,
   "metadata": {},
   "outputs": [],
   "source": [
    "delete_table = \"DROP TABLE IF EXISTS buddy\""
   ]
  },
  {
   "cell_type": "code",
   "execution_count": 7,
   "metadata": {},
   "outputs": [],
   "source": [
    "# Creating an empty database with a connection to sqlite3\n",
    "CONN = sqlite3.connect('buddymove_holidayiq.db')"
   ]
  },
  {
   "cell_type": "code",
   "execution_count": 8,
   "metadata": {},
   "outputs": [],
   "source": [
    "cursor = CONN.cursor()"
   ]
  },
  {
   "cell_type": "code",
   "execution_count": 9,
   "metadata": {},
   "outputs": [
    {
     "data": {
      "text/plain": [
       "<sqlite3.Cursor at 0x7f494fb472d0>"
      ]
     },
     "execution_count": 9,
     "metadata": {},
     "output_type": "execute_result"
    }
   ],
   "source": [
    "cursor.execute(delete_table)"
   ]
  },
  {
   "cell_type": "code",
   "execution_count": 10,
   "metadata": {},
   "outputs": [],
   "source": [
    "df.to_sql('buddy', con = CONN, index=True)"
   ]
  },
  {
   "cell_type": "code",
   "execution_count": 11,
   "metadata": {},
   "outputs": [],
   "source": [
    "query = 'SELECT COUNT(Sports) FROM buddy;'"
   ]
  },
  {
   "cell_type": "code",
   "execution_count": 12,
   "metadata": {},
   "outputs": [],
   "source": [
    "rows = cursor.execute(query).fetchall()"
   ]
  },
  {
   "cell_type": "code",
   "execution_count": 13,
   "metadata": {},
   "outputs": [
    {
     "name": "stdout",
     "output_type": "stream",
     "text": [
      "There are [(249,)] rows.\n"
     ]
    }
   ],
   "source": [
    "print (\"There are\" , rows, \"rows.\")"
   ]
  },
  {
   "cell_type": "code",
   "execution_count": 14,
   "metadata": {},
   "outputs": [],
   "source": [
    "query2 ='SELECT COUNT(User) FROM buddy WHERE Nature > 100 AND Shopping > 100;'"
   ]
  },
  {
   "cell_type": "code",
   "execution_count": 15,
   "metadata": {},
   "outputs": [],
   "source": [
    "user_count = cursor.execute(query2).fetchall()"
   ]
  },
  {
   "cell_type": "code",
   "execution_count": 16,
   "metadata": {},
   "outputs": [
    {
     "name": "stdout",
     "output_type": "stream",
     "text": [
      "There are [(78,)] users who have reviewed at least 100 in the nature and shopping categories\n"
     ]
    }
   ],
   "source": [
    "print(\"There are\", user_count, \"users who have reviewed at least 100 in the nature and shopping categories\")"
   ]
  },
  {
   "cell_type": "code",
   "execution_count": 17,
   "metadata": {},
   "outputs": [
    {
     "name": "stdout",
     "output_type": "stream",
     "text": [
      "The average for Sports is 11.987951807228916\n",
      "The average for Religious is 109.77911646586345\n",
      "The average for Nature is 124.51807228915662\n",
      "The average for Theatre is 116.37751004016064\n",
      "The average for Shopping is 112.63855421686748\n",
      "The average for Picnic is 120.40160642570281\n"
     ]
    },
    {
     "data": {
      "text/plain": [
       "['11.987951807228916',\n",
       " '109.77911646586345',\n",
       " '124.51807228915662',\n",
       " '116.37751004016064',\n",
       " '112.63855421686748',\n",
       " '120.40160642570281']"
      ]
     },
     "execution_count": 17,
     "metadata": {},
     "output_type": "execute_result"
    }
   ],
   "source": [
    "cat_list = ['Sports', 'Religious', 'Nature', 'Theatre', 'Shopping', 'Picnic']\n",
    "\n",
    "def mean_review(cat_list):\n",
    "    score_list = []\n",
    "    for i in cat_list:\n",
    "        query = 'SELECT AVG (' + (i) + ') FROM buddy'\n",
    "        score = cursor.execute(query).fetchall()\n",
    "        score = str(score).strip('()[],')\n",
    "        print(\"The average for\", i, \"is\" , score)\n",
    "        score_list.append(score)\n",
    "    return score_list\n",
    "  \n",
    "    \n",
    "mean_review(cat_list)   "
   ]
  }
 ],
 "metadata": {
  "kernelspec": {
   "display_name": "Python 3",
   "language": "python",
   "name": "python3"
  },
  "language_info": {
   "codemirror_mode": {
    "name": "ipython",
    "version": 3
   },
   "file_extension": ".py",
   "mimetype": "text/x-python",
   "name": "python",
   "nbconvert_exporter": "python",
   "pygments_lexer": "ipython3",
   "version": "3.7.4"
  }
 },
 "nbformat": 4,
 "nbformat_minor": 2
}
