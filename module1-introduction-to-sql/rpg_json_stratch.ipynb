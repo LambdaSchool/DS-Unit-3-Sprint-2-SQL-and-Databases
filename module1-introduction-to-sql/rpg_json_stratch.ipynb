{
 "cells": [
  {
   "cell_type": "code",
   "execution_count": 24,
   "metadata": {},
   "outputs": [],
   "source": [
    "import json \n",
    "with open('testdata.json') as json_file:\n",
    "    data = json.load(json_file)\n"
   ]
  },
  {
   "cell_type": "code",
   "execution_count": null,
   "metadata": {},
   "outputs": [],
   "source": []
  },
  {
   "cell_type": "markdown",
   "metadata": {},
   "source": [
    "\n",
    "- How many total Characters are there?\n",
    "- How many of each specific subclass?\n",
    "- How many total Items?\n",
    "- How many of the Items are weapons? How many are not?\n",
    "\n",
    "\n",
    "- How many Items does each character have? (Return first 20 rows)\n",
    "- How many Weapons does each character have? (Return first 20 rows)\n",
    "- On average, how many Items does each Character have?\n",
    "- On average, how many Weapons does each character have?"
   ]
  },
  {
   "cell_type": "code",
   "execution_count": 25,
   "metadata": {},
   "outputs": [],
   "source": [
    "modelkeys= []\n",
    "for i in data:\n",
    "    if i['model'] not in modelkeys:\n",
    "        modelkeys.append(i['model'])\n"
   ]
  },
  {
   "cell_type": "code",
   "execution_count": null,
   "metadata": {},
   "outputs": [],
   "source": []
  },
  {
   "cell_type": "code",
   "execution_count": 26,
   "metadata": {},
   "outputs": [
    {
     "data": {
      "text/plain": [
       "['charactercreator.character',\n",
       " 'charactercreator.fighter',\n",
       " 'charactercreator.mage',\n",
       " 'charactercreator.cleric',\n",
       " 'charactercreator.thief',\n",
       " 'charactercreator.necromancer',\n",
       " 'armory.item',\n",
       " 'armory.weapon']"
      ]
     },
     "execution_count": 26,
     "metadata": {},
     "output_type": "execute_result"
    }
   ],
   "source": [
    "modelkeys\n",
    "\n"
   ]
  },
  {
   "cell_type": "code",
   "execution_count": null,
   "metadata": {},
   "outputs": [],
   "source": [
    "\n"
   ]
  },
  {
   "cell_type": "code",
   "execution_count": null,
   "metadata": {
    "scrolled": true
   },
   "outputs": [],
   "source": [
    "count_chars = 0\n",
    "subchar_counts = {} # {'name': count}\n",
    "armory_item_count = 0 \n",
    "weapon_type_count = 0\n",
    "for i in data:\n",
    "    name =  i['model']\n",
    "    if 'charactercreator'in name:        # look at just characters now\n",
    "        if name == 'charactercreator.character': # count the total characters  \n",
    "            count_chars += 1  \n",
    "        else:                                    # work with character subclasses\n",
    "            if name in subchar_counts:\n",
    "                subchar_counts[name] += 1\n",
    "            else: \n",
    "                subchar_counts[name] = 1\n",
    "    elif 'armory.item' in name:\n",
    "        armory_item_count += 1\n",
    "    elif'armory.weapon' in name:\n",
    "        weapon_type_count += 1\n",
    "        \n",
    "print( f\"total character count : {count_chars}\\n\\n\" \n",
    "        f\"characters by type : {subchar_counts}\\n\\n\"\n",
    "        f\"item type count  {armory_item_count}\\n\" \n",
    "        f\"weapon type count {weapon_type_count}\\n\"        \n",
    "     )"
   ]
  },
  {
   "cell_type": "code",
   "execution_count": null,
   "metadata": {},
   "outputs": [],
   "source": []
  }
 ],
 "metadata": {
  "kernelspec": {
   "display_name": "Python 3",
   "language": "python",
   "name": "python3"
  },
  "language_info": {
   "codemirror_mode": {
    "name": "ipython",
    "version": 3
   },
   "file_extension": ".py",
   "mimetype": "text/x-python",
   "name": "python",
   "nbconvert_exporter": "python",
   "pygments_lexer": "ipython3",
   "version": "3.7.4"
  }
 },
 "nbformat": 4,
 "nbformat_minor": 2
}
