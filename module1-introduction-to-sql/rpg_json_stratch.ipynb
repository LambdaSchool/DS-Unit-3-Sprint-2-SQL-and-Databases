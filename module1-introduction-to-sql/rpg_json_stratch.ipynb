{
 "cells": [
  {
   "cell_type": "code",
   "execution_count": 24,
   "metadata": {},
   "outputs": [],
   "source": [
    "import json \n",
    "with open('testdata.json') as json_file:\n",
    "    data = json.load(json_file)\n"
   ]
  },
  {
   "cell_type": "code",
   "execution_count": null,
   "metadata": {},
   "outputs": [],
   "source": []
  },
  {
   "cell_type": "markdown",
   "metadata": {},
   "source": [
    "\n",
    "- How many total Characters are there?\n",
    "- How many of each specific subclass?\n",
    "- How many total Items?\n",
    "- How many of the Items are weapons? How many are not?\n",
    "\n",
    "\n",
    "- How many Items does each character have? (Return first 20 rows)\n",
    "- How many Weapons does each character have? (Return first 20 rows)\n",
    "- On average, how many Items does each Character have?\n",
    "- On average, how many Weapons does each character have?"
   ]
  },
  {
   "cell_type": "code",
   "execution_count": 25,
   "metadata": {},
   "outputs": [],
   "source": [
    "modelkeys= []\n",
    "for i in data:\n",
    "    if i['model'] not in modelkeys:\n",
    "        modelkeys.append(i['model'])\n"
   ]
  },
  {
   "cell_type": "code",
   "execution_count": null,
   "metadata": {},
   "outputs": [],
   "source": []
  },
  {
   "cell_type": "code",
   "execution_count": 26,
   "metadata": {},
   "outputs": [
    {
     "data": {
      "text/plain": [
       "['charactercreator.character',\n",
       " 'charactercreator.fighter',\n",
       " 'charactercreator.mage',\n",
       " 'charactercreator.cleric',\n",
       " 'charactercreator.thief',\n",
       " 'charactercreator.necromancer',\n",
       " 'armory.item',\n",
       " 'armory.weapon']"
      ]
     },
     "execution_count": 26,
     "metadata": {},
     "output_type": "execute_result"
    }
   ],
   "source": [
    "modelkeys\n",
    "\n"
   ]
  },
  {
   "cell_type": "code",
   "execution_count": null,
   "metadata": {},
   "outputs": [],
   "source": [
    "\n"
   ]
  },
  {
   "cell_type": "code",
   "execution_count": 28,
   "metadata": {},
   "outputs": [
    {
     "ename": "AttributeError",
     "evalue": "'str' object has no attribute 'contains'",
     "output_type": "error",
     "traceback": [
      "\u001b[0;31m---------------------------------------------------------------------------\u001b[0m",
      "\u001b[0;31mAttributeError\u001b[0m                            Traceback (most recent call last)",
      "\u001b[0;32m<ipython-input-28-05a60dabb349>\u001b[0m in \u001b[0;36m<module>\u001b[0;34m\u001b[0m\n\u001b[1;32m      5\u001b[0m \u001b[0;32mfor\u001b[0m \u001b[0mi\u001b[0m \u001b[0;32min\u001b[0m \u001b[0mdata\u001b[0m\u001b[0;34m:\u001b[0m\u001b[0;34m\u001b[0m\u001b[0;34m\u001b[0m\u001b[0m\n\u001b[1;32m      6\u001b[0m     \u001b[0mname\u001b[0m \u001b[0;34m=\u001b[0m  \u001b[0mi\u001b[0m\u001b[0;34m[\u001b[0m\u001b[0;34m'model'\u001b[0m\u001b[0;34m]\u001b[0m\u001b[0;34m\u001b[0m\u001b[0;34m\u001b[0m\u001b[0m\n\u001b[0;32m----> 7\u001b[0;31m     \u001b[0;32mif\u001b[0m \u001b[0mname\u001b[0m\u001b[0;34m.\u001b[0m\u001b[0mcontains\u001b[0m\u001b[0;34m(\u001b[0m\u001b[0;34m'charactercreator'\u001b[0m\u001b[0;34m)\u001b[0m\u001b[0;34m:\u001b[0m        \u001b[0;31m# look at just characters now\u001b[0m\u001b[0;34m\u001b[0m\u001b[0;34m\u001b[0m\u001b[0m\n\u001b[0m\u001b[1;32m      8\u001b[0m         \u001b[0;32mif\u001b[0m \u001b[0mname\u001b[0m \u001b[0;34m==\u001b[0m \u001b[0;34m'charactercreator.character'\u001b[0m\u001b[0;34m:\u001b[0m \u001b[0;31m# count the total characters\u001b[0m\u001b[0;34m\u001b[0m\u001b[0;34m\u001b[0m\u001b[0m\n\u001b[1;32m      9\u001b[0m             \u001b[0mcount_chars\u001b[0m \u001b[0;34m+=\u001b[0m \u001b[0;36m1\u001b[0m\u001b[0;34m\u001b[0m\u001b[0;34m\u001b[0m\u001b[0m\n",
      "\u001b[0;31mAttributeError\u001b[0m: 'str' object has no attribute 'contains'"
     ]
    }
   ],
   "source": [
    "count_chars = 0\n",
    "subchar_counts = {} # {'name': count}\n",
    "armory_item_count = 0 \n",
    "weapon_type_count = 0\n",
    "for i in data:\n",
    "    name =  i['model']\n",
    "    if 'charactercreator'in name:        # look at just characters now\n",
    "        if name == 'charactercreator.character': # count the total characters  \n",
    "            count_chars += 1  \n",
    "        else:                                    # work with character subclasses\n",
    "            if name in subchar_counts:\n",
    "                subchar_counts[name] += 1\n",
    "            else: \n",
    "                subchar_counts[name] = 1\n",
    "    elif name is 'armory.item':\n",
    "        armory_item_count += 1\n",
    "    elif name is 'armory.weapon':\n",
    "        weapon_type_count += 1\n",
    "        \n",
    "print( f\"total character count : {count_chars}\" \n",
    "        f\"characters by type : {subchar_counts}\"\n",
    "        f\"item type count  {armory_item_count}\" \n",
    "        f\"weapon type count {weapon_type_count}\"        \n",
    "     )"
   ]
  },
  {
   "cell_type": "code",
   "execution_count": null,
   "metadata": {},
   "outputs": [],
   "source": []
  }
 ],
 "metadata": {
  "kernelspec": {
   "display_name": "Python 3",
   "language": "python",
   "name": "python3"
  },
  "language_info": {
   "codemirror_mode": {
    "name": "ipython",
    "version": 3
   },
   "file_extension": ".py",
   "mimetype": "text/x-python",
   "name": "python",
   "nbconvert_exporter": "python",
   "pygments_lexer": "ipython3",
   "version": "3.7.4"
  }
 },
 "nbformat": 4,
 "nbformat_minor": 2
}
