{
 "cells": [
  {
   "cell_type": "code",
   "execution_count": 1,
   "metadata": {},
   "outputs": [],
   "source": [
    "import sqlite3"
   ]
  },
  {
   "cell_type": "code",
   "execution_count": 3,
   "metadata": {},
   "outputs": [],
   "source": [
    "conn = sqlite3.connect('rpg_db.sqlite3')"
   ]
  },
  {
   "cell_type": "code",
   "execution_count": 4,
   "metadata": {},
   "outputs": [
    {
     "name": "stdout",
     "output_type": "stream",
     "text": [
      "Opened as needed\n"
     ]
    }
   ],
   "source": [
    "c = conn.cursor()\n",
    "print('Opened as needed')"
   ]
  },
  {
   "cell_type": "markdown",
   "metadata": {},
   "source": [
    "Use sqlite3 to load and write queries to explore the data, and answer the following questions:\n",
    "\n",
    "    How many total Characters are there?\n",
    "    How many of each specific subclass?\n",
    "    How many total Items?\n",
    "    How many of the Items are weapons? How many are not?\n",
    "    How many Items does each character have? (Return first 20 rows)\n",
    "    How many Weapons does each character have? (Return first 20 rows)\n",
    "    On average, how many Items does each Character have?\n",
    "    On average, how many Weapons does each character have?\n"
   ]
  },
  {
   "cell_type": "code",
   "execution_count": 9,
   "metadata": {},
   "outputs": [
    {
     "name": "stdout",
     "output_type": "stream",
     "text": [
      "The total number of characters is [(302,)]\n"
     ]
    }
   ],
   "source": [
    "c.execute('''SELECT COUNT(character_id) FROM charactercreator_character''')\n",
    "print(f\"The total number of characters is {c.fetchall()}\")"
   ]
  },
  {
   "cell_type": "code",
   "execution_count": null,
   "metadata": {},
   "outputs": [],
   "source": [
    "How many of each subclass?\n",
    "\n",
    "c.execute('''SELECT ''')"
   ]
  },
  {
   "cell_type": "code",
   "execution_count": 20,
   "metadata": {},
   "outputs": [
    {
     "name": "stdout",
     "output_type": "stream",
     "text": [
      "The total number of armory items is 174\n"
     ]
    }
   ],
   "source": [
    "c.execute('''SELECT COUNT(item_id) FROM armory_item''')\n",
    "arm_item = c.fetchall()\n",
    "print(f\"The total number of armory items is {arm_item[0][0]}\")\n",
    "#print(arm_item[0][0])"
   ]
  },
  {
   "cell_type": "code",
   "execution_count": 21,
   "metadata": {},
   "outputs": [
    {
     "name": "stdout",
     "output_type": "stream",
     "text": [
      "The total number of armory weapon items is 37\n",
      "There are 137 items that are not weapons\n"
     ]
    }
   ],
   "source": [
    "c.execute('''SELECT COUNT(item_ptr_id) FROM armory_weapon''')\n",
    "arm_wep = c.fetchall()\n",
    "difference = arm_item[0][0] - arm_wep[0][0]\n",
    "print(f\"The total number of armory weapon items is {arm_wep[0][0]}\")\n",
    "print(f'There are {difference} items that are not weapons')"
   ]
  },
  {
   "cell_type": "code",
   "execution_count": null,
   "metadata": {},
   "outputs": [],
   "source": []
  },
  {
   "cell_type": "code",
   "execution_count": 34,
   "metadata": {},
   "outputs": [
    {
     "name": "stdout",
     "output_type": "stream",
     "text": [
      "The total number of armory items per character is [('Aliquid iste optio reiciendi', 3), ('Optio dolorem ex a', 3), ('Minus c', 2), ('Sit ut repr', 4), ('At id recusandae expl', 4), ('Non nobis et of', 1), ('Perferendis', 5), ('Accusantium amet quidem eve', 3), ('Sed nostrum inventore error m', 4), ('Harum repellendus omnis od', 4), ('Itaque ut commodi,', 3), ('Molestiae quis', 3), ('Ali', 4), ('Tempora quod optio possimus il', 4), ('Sed itaque beatae pari', 4), ('Quam dolor', 1), ('Molestias expedita', 5), ('Lauda', 5), ('Incidunt sint perferen', 3), ('Laboriosa', 1)]\n"
     ]
    }
   ],
   "source": [
    "c.execute('''SELECT name,  COUNT(item_id) FROM charactercreator_character_inventory INNER JOIN \n",
    "charactercreator_character USING (character_id)\n",
    "GROUP BY name \n",
    "ORDER BY character_id LIMIT 20\n",
    "''');\n",
    "\n",
    "item_per_character = c.fetchall()\n",
    "print(f\"The total number of armory items per character is {item_per_character}\")"
   ]
  },
  {
   "cell_type": "code",
   "execution_count": null,
   "metadata": {},
   "outputs": [],
   "source": [
    "How many weapons does each have?"
   ]
  },
  {
   "cell_type": "code",
   "execution_count": 43,
   "metadata": {},
   "outputs": [
    {
     "name": "stdout",
     "output_type": "stream",
     "text": [
      "The avg number of armory items per character is 2.9735099337748343\n"
     ]
    }
   ],
   "source": [
    "c.execute('''SELECT character_id, COUNT(item_id) FROM charactercreator_character_inventory\n",
    "''');\n",
    "\n",
    "item_per_character = c.fetchall()\n",
    "print(f\"The avg number of armory items per character is {item_per_character[0][1]/item_per_character[0][0]}\")"
   ]
  },
  {
   "cell_type": "code",
   "execution_count": null,
   "metadata": {},
   "outputs": [],
   "source": [
    "Avg weapons each have?"
   ]
  }
 ],
 "metadata": {
  "kernelspec": {
   "display_name": "Python 3",
   "language": "python",
   "name": "python3"
  },
  "language_info": {
   "codemirror_mode": {
    "name": "ipython",
    "version": 3
   },
   "file_extension": ".py",
   "mimetype": "text/x-python",
   "name": "python",
   "nbconvert_exporter": "python",
   "pygments_lexer": "ipython3",
   "version": "3.6.5"
  }
 },
 "nbformat": 4,
 "nbformat_minor": 2
}
