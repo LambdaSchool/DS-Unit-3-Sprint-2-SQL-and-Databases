{
  "nbformat": 4,
  "nbformat_minor": 0,
  "metadata": {
    "colab": {
      "name": "Testing Buddymove_Holiday Dataset.ipynb",
      "version": "0.3.2",
      "provenance": [],
      "collapsed_sections": []
    },
    "kernelspec": {
      "name": "python3",
      "display_name": "Python 3"
    }
  },
  "cells": [
    {
      "cell_type": "code",
      "metadata": {
        "id": "n-mivxZgXfiz",
        "colab_type": "code",
        "colab": {
          "base_uri": "https://localhost:8080/",
          "height": 70
        },
        "outputId": "53fbcd58-71f2-4823-92ca-c5f354e85e90"
      },
      "source": [
        "import pandas as pd \n",
        "import sqlite3\n",
        "\n",
        "# Import CSV file\n",
        "\n",
        "buddy = pd.read_csv('https://raw.githubusercontent.com/TheJoys2019/DS-Unit-3-Sprint-2-SQL-and-Databases/master/module1-introduction-to-sql/buddymove_holidayiq.csv')\n",
        "\n",
        "# Convert to SQLITE3\n",
        "\n",
        "conn = sqlite3.connect('buddymove_holidayiq.sqlite3')\n",
        "buddy.to_sql(name='review', con=conn, if_exists='replace')\n",
        "curs = conn.cursor()"
      ],
      "execution_count": 2,
      "outputs": [
        {
          "output_type": "stream",
          "text": [
            "/usr/local/lib/python3.6/dist-packages/pandas/core/generic.py:2531: UserWarning: The spaces in these column names will not be changed. In pandas versions < 0.14, spaces were converted to underscores.\n",
            "  dtype=dtype, method=method)\n"
          ],
          "name": "stderr"
        }
      ]
    },
    {
      "cell_type": "code",
      "metadata": {
        "id": "PzHWJku5X2Hq",
        "colab_type": "code",
        "colab": {
          "base_uri": "https://localhost:8080/",
          "height": 34
        },
        "outputId": "45bad1c0-e197-4957-eeb4-6b2dffb1a7a4"
      },
      "source": [
        "# Query 1 - How many rows you have? (249)\n",
        "\n",
        "query1 = \"\"\"SELECT COUNT(*) FROM review\"\"\"\n",
        "result = curs.execute(query1)\n",
        "print('# of Rows: ', result.fetchall()[0][0])"
      ],
      "execution_count": 3,
      "outputs": [
        {
          "output_type": "stream",
          "text": [
            "# of Rows:  249\n"
          ],
          "name": "stdout"
        }
      ]
    },
    {
      "cell_type": "code",
      "metadata": {
        "id": "86RdOoMjX6qa",
        "colab_type": "code",
        "colab": {
          "base_uri": "https://localhost:8080/",
          "height": 34
        },
        "outputId": "a7363bb2-34a9-4b53-ce2f-068119963758"
      },
      "source": [
        "# Query 2 - # of Users who reviewed at least 100 Nature\n",
        "\n",
        "query2 = \"\"\" SELECT COUNT(*)\n",
        "            FROM review\n",
        "            WHERE Nature >= 100 AND Shopping >=100\"\"\"\n",
        "\n",
        "results = curs.execute(query2)\n",
        "print('# of Users who reviewed at least 100 Nature & 100 Shopping: ', result.fetchall()[0][0])"
      ],
      "execution_count": 4,
      "outputs": [
        {
          "output_type": "stream",
          "text": [
            "# of Users who reviewed at least 100 Nature & 100 Shopping:  78\n"
          ],
          "name": "stdout"
        }
      ]
    },
    {
      "cell_type": "code",
      "metadata": {
        "id": "jSZM34u6YC_X",
        "colab_type": "code",
        "colab": {
          "base_uri": "https://localhost:8080/",
          "height": 104
        },
        "outputId": "87009ea2-5729-4dfe-b155-8dbb48ad5785"
      },
      "source": [
        "# Query 3 - # AVG # Reviews for each cat\n",
        "query3 = \"\"\"SELECT AVG(sports),  \n",
        "            AVG(Religious), \n",
        "            AVG(Nature), \n",
        "            AVG(Theatre), \n",
        "            AVG(Shopping), \n",
        "            AVG(Picnic)\n",
        "            FROM review\"\"\"\n",
        "result = pd.read_sql_query(query3, conn)\n",
        "\n",
        "print('Average # of Reviews for Each Cat:', result)"
      ],
      "execution_count": 6,
      "outputs": [
        {
          "output_type": "stream",
          "text": [
            "Average # of Reviews for Each Cat:    AVG(sports)  AVG(Religious)  ...  AVG(Shopping)  AVG(Picnic)\n",
            "0    11.987952      109.779116  ...     112.638554   120.401606\n",
            "\n",
            "[1 rows x 6 columns]\n"
          ],
          "name": "stdout"
        }
      ]
    }
  ]
}