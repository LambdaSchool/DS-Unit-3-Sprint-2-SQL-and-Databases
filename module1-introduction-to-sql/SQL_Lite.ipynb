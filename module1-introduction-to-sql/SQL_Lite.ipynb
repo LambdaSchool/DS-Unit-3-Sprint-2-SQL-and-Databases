{
 "cells": [
  {
   "cell_type": "code",
   "execution_count": 58,
   "metadata": {},
   "outputs": [],
   "source": [
    "import sqlite3"
   ]
  },
  {
   "cell_type": "code",
   "execution_count": 59,
   "metadata": {},
   "outputs": [],
   "source": [
    "#flat database like a txt file. \n",
    "#If attaching MySQL to jupyter notebook you need to set up a connection stream\n",
    "conn = sqlite3.connect('ben.sqlite')#go look for a database, if it doesn't have it, it creates one\n",
    "#this is a connection string"
   ]
  },
  {
   "cell_type": "code",
   "execution_count": 60,
   "metadata": {},
   "outputs": [
    {
     "name": "stdout",
     "output_type": "stream",
     "text": [
      "Open as needed\n"
     ]
    }
   ],
   "source": [
    "#sql has a cursor, we have to set it up first\n",
    "cursor = conn.cursor()\n",
    "(print('Open as needed'))\n",
    "#when you run something, it connects to the connection stream, when you are done the connection string needs to be disconnected"
   ]
  },
  {
   "cell_type": "code",
   "execution_count": 61,
   "metadata": {},
   "outputs": [
    {
     "ename": "OperationalError",
     "evalue": "database is locked",
     "output_type": "error",
     "traceback": [
      "\u001b[1;31m---------------------------------------------------------------------------\u001b[0m",
      "\u001b[1;31mOperationalError\u001b[0m                          Traceback (most recent call last)",
      "\u001b[1;32m<ipython-input-61-af8b182c0ee9>\u001b[0m in \u001b[0;36m<module>\u001b[1;34m\u001b[0m\n\u001b[0;32m      7\u001b[0m  \u001b[0mAGE\u001b[0m     \u001b[0mINT\u001b[0m       \u001b[0mNOT\u001b[0m \u001b[0mNULL\u001b[0m\u001b[1;33m,\u001b[0m\u001b[1;33m\u001b[0m\u001b[1;33m\u001b[0m\u001b[0m\n\u001b[0;32m      8\u001b[0m  \u001b[0mADDRESS\u001b[0m \u001b[0mCHAR\u001b[0m\u001b[1;33m(\u001b[0m\u001b[1;36m50\u001b[0m\u001b[1;33m)\u001b[0m\u001b[1;33m,\u001b[0m\u001b[1;33m\u001b[0m\u001b[1;33m\u001b[0m\u001b[0m\n\u001b[1;32m----> 9\u001b[1;33m  MARKS   INT);''')\n\u001b[0m",
      "\u001b[1;31mOperationalError\u001b[0m: database is locked"
     ]
    }
   ],
   "source": [
    "#conn.commit\n",
    "#conn.close\n",
    "#sql portion will be identical\n",
    "cursor.execute('''CREATE TABLE test5\n",
    "(ID INT PRIMARY KEY NOT NULL,\n",
    " NAME    TEXT      NOT NULL,\n",
    " AGE     INT       NOT NULL,\n",
    " ADDRESS CHAR(50),\n",
    " MARKS   INT);''')"
   ]
  },
  {
   "cell_type": "code",
   "execution_count": null,
   "metadata": {},
   "outputs": [],
   "source": [
    "cursor.execute(\"INSERT INTO test5 (ID,NAME,AGE,ADDRESS,MARKS) VALUES (1, 'Rohan', 14, 'Delhi', 200)\");\n",
    "cursor.execute(\"INSERT INTO test5 (ID,NAME,AGE,ADDRESS,MARKS) VALUES (2, 'Aohan', 14, 'Delhi', 100)\");\n",
    "cursor.execute(\"INSERT INTO test5 (ID,NAME,AGE,ADDRESS,MARKS) VALUES (3, 'Eohan', 14, 'Delhi', 220)\");\n",
    "cursor.execute(\"INSERT INTO test5 (ID,NAME,AGE,ADDRESS,MARKS) VALUES (4, 'Gohan', 14, 'Delhi', 230)\");\n",
    "cursor.execute(\"INSERT INTO test5 (ID,NAME,AGE,ADDRESS,MARKS) VALUES (5, 'Hohan', 14, 'Delhi', 300)\");\n",
    "conn.commit()"
   ]
  },
  {
   "cell_type": "code",
   "execution_count": null,
   "metadata": {},
   "outputs": [],
   "source": [
    "for row in cursor.execute(\"SELECT id, name, marks from SCHOOL\"):\n",
    "    print(\"ID = \", row[0])\n",
    "    print(\"NAME = \", row[1])\n",
    "    print(\"MARKS = \", row[2], \"\\n\")\n",
    "conn.commit()\n",
    "conn.close()"
   ]
  },
  {
   "cell_type": "code",
   "execution_count": null,
   "metadata": {},
   "outputs": [],
   "source": []
  },
  {
   "cell_type": "code",
   "execution_count": null,
   "metadata": {},
   "outputs": [],
   "source": []
  },
  {
   "cell_type": "code",
   "execution_count": null,
   "metadata": {},
   "outputs": [],
   "source": []
  }
 ],
 "metadata": {
  "kernelspec": {
   "display_name": "Python 3",
   "language": "python",
   "name": "python3"
  },
  "language_info": {
   "codemirror_mode": {
    "name": "ipython",
    "version": 3
   },
   "file_extension": ".py",
   "mimetype": "text/x-python",
   "name": "python",
   "nbconvert_exporter": "python",
   "pygments_lexer": "ipython3",
   "version": "3.7.3"
  }
 },
 "nbformat": 4,
 "nbformat_minor": 2
}
