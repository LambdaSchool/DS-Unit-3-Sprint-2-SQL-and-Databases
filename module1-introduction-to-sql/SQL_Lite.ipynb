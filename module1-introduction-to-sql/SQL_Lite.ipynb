{
 "cells": [
  {
   "cell_type": "code",
   "execution_count": 175,
   "metadata": {},
   "outputs": [],
   "source": [
    "import sqlite3"
   ]
  },
  {
   "cell_type": "code",
   "execution_count": 178,
   "metadata": {},
   "outputs": [],
   "source": [
    "#flat database like a txt file. \n",
    "#If attaching MySQL to jupyter notebook you need to set up a connection stream\n",
    "conn = sqlite3.connect('rpg_db.sqlite3')#go look for a database, if it doesn't have it, it creates one\n",
    "#this is a connection string"
   ]
  },
  {
   "cell_type": "code",
   "execution_count": 179,
   "metadata": {},
   "outputs": [
    {
     "name": "stdout",
     "output_type": "stream",
     "text": [
      "Open as needed\n"
     ]
    }
   ],
   "source": [
    "#sql has a cursor, we have to set it up first\n",
    "cursor = conn.cursor()\n",
    "(print('Open as needed'))\n",
    "#when you run something, it connects to the connection stream, when you are done the connection string needs to be disconnected"
   ]
  },
  {
   "cell_type": "code",
   "execution_count": 180,
   "metadata": {},
   "outputs": [],
   "source": [
    "# #conn.commit\n",
    "# #conn.close\n",
    "# #sql portion will be identical\n",
    "# cursor.execute('''CREATE TABLE test\n",
    "# (ID INT PRIMARY KEY NOT NULL,\n",
    "#  NAME    TEXT      NOT NULL,\n",
    "#  AGE     INT       NOT NULL,\n",
    "#  ADDRESS CHAR(50),\n",
    "#  MARKS  );''')"
   ]
  },
  {
   "cell_type": "code",
   "execution_count": 181,
   "metadata": {},
   "outputs": [],
   "source": [
    "# cursor.execute(\"INSERT INTO test (ID,NAME,AGE,ADDRESS,MARKS) VALUES (1, 'Rohan', 14, 'Delhi', 200)\");\n",
    "# cursor.execute(\"INSERT INTO test (ID,NAME,AGE,ADDRESS,MARKS) VALUES (2, 'Aohan', 14, 'Delhi', 100)\");\n",
    "# cursor.execute(\"INSERT INTO test (ID,NAME,AGE,ADDRESS,MARKS) VALUES (3, 'Eohan', 14, 'Delhi', 220)\");\n",
    "# cursor.execute(\"INSERT INTO test (ID,NAME,AGE,ADDRESS,MARKS) VALUES (4, 'Gohan', 14, 'Delhi', 230)\");\n",
    "# cursor.execute(\"INSERT INTO test (ID,NAME,AGE,ADDRESS,MARKS) VALUES (5, 'Hohan', 14, 'Delhi', 300)\");\n",
    "# conn.commit()"
   ]
  },
  {
   "cell_type": "code",
   "execution_count": 182,
   "metadata": {},
   "outputs": [],
   "source": [
    "# for row in cursor.execute(\"SELECT LEN(id), name,\"):\n",
    "#     print(\"ID = \", row[0])\n",
    "#     print(\"NAME = \", row[1])\n",
    "#     print(\"MARKS = \", row[2], \"\\n\")\n",
    "# conn.commit()"
   ]
  },
  {
   "cell_type": "code",
   "execution_count": 185,
   "metadata": {},
   "outputs": [
    {
     "name": "stdout",
     "output_type": "stream",
     "text": [
      "[(1, 'Libero facere dolore, as', 0, 0), (2, 'Qui', 0, 0), (3, 'Laborios', 0, 0)]\n"
     ]
    }
   ],
   "source": [
    "cursor.execute(\"select * from armory_item limit 3;\")\n",
    "# print(row[0])\n",
    "#     print(\"NAME = \", row[1])\n",
    "#     print(\"MARKS = \", row[2], \"\\n\")\n",
    "# conn.commit()\n",
    "results = cursor.fetchall()\n",
    "print(results)"
   ]
  },
  {
   "cell_type": "code",
   "execution_count": 209,
   "metadata": {},
   "outputs": [
    {
     "name": "stdout",
     "output_type": "stream",
     "text": [
      "174\n"
     ]
    }
   ],
   "source": [
    "# How many total Characters are there?\n",
    "cursor.execute(\"select length(name) from armory_item;\")\n",
    "# print(row[0])\n",
    "#     print(\"NAME = \", row[1])\n",
    "#     print(\"MARKS = \", row[2], \"\\n\")\n",
    "# conn.commit()\n",
    "results = cursor.fetchall()\n",
    "print(len(results))"
   ]
  },
  {
   "cell_type": "code",
   "execution_count": 195,
   "metadata": {},
   "outputs": [
    {
     "name": "stdout",
     "output_type": "stream",
     "text": [
      "302 total characters\n"
     ]
    }
   ],
   "source": [
    "query1 = 'SELECT COUNT(*) FROM charactercreator_character;'\n",
    "answer1 = cursor.execute(query1).fetchone()[0]\n",
    "print(answer1, 'total characters')"
   ]
  },
  {
   "cell_type": "code",
   "execution_count": 197,
   "metadata": {},
   "outputs": [
    {
     "name": "stdout",
     "output_type": "stream",
     "text": [
      "[('Ab illum invento', 1), ('Ab voluptas se', 3), ('Acc', 2), ('Accusa', 1), ('Accusantium qu', 1), ('Accusantium vitae n', 1), ('Ad necess', 1), ('Adipisci voluptas', 1), ('Aliqu', 2), ('Aliquam n', 1), ('Amet quo fugit aliquam sequi', 1), ('Aperiam sit', 1), ('Architecto i', 1), ('Architecto repudian', 2), ('Asperi', 2), ('At id recusandae expl', 2), ('At sint ducimus nostrum i', 1), ('Autem eos voluptates off', 1), ('Autem lib', 1), ('Autem mollitia fuga lauda', 2)]\n"
     ]
    }
   ],
   "source": [
    "# How many of each specific subclass?\n",
    "another_thing = cursor.execute('''SELECT cc.name, COUNT(item_ptr_id) FROM charactercreator_character_inventory cci\n",
    "                                INNER JOIN charactercreator_character cc on cc.character_id = cci.character_id\n",
    "                                INNER JOIN armory_item ai on cci.item_id = ai.item_id\n",
    "                                INNER JOIN armory_weapon aw on ai.item_id = aw.item_ptr_id\n",
    "                                GROUP BY cc.name\n",
    "                                ORDER BY cc.name LIMIT 20''')\n",
    "print(another_thing.fetchall())"
   ]
  },
  {
   "cell_type": "code",
   "execution_count": 204,
   "metadata": {},
   "outputs": [
    {
     "name": "stdout",
     "output_type": "stream",
     "text": [
      "[(174,)]\n"
     ]
    }
   ],
   "source": [
    "# How many total Items?\n",
    "cursor.execute('SELECT COUNT(*) FROM armory_item')\n",
    "results = cursor.fetchall()\n",
    "print(results)"
   ]
  },
  {
   "cell_type": "code",
   "execution_count": 207,
   "metadata": {},
   "outputs": [
    {
     "name": "stdout",
     "output_type": "stream",
     "text": [
      "203\n"
     ]
    }
   ],
   "source": [
    "# How many of the Items are weapons? How many are not?\n",
    "cursor.execute('''SELECT item_id FROM charactercreator_character_inventory\n",
    "                INNER JOIN armory_weapon ON armory_weapon.item_ptr_id =  charactercreator_character_inventory.item_id''')\n",
    "results = cursor.fetchall()\n",
    "print(len(results))\n",
    "\n",
    "# SELECT a1, a2, b1, b2\n",
    "# FROM A\n",
    "# INNER JOIN B on B.f = A.f;\n",
    "\n",
    "\n",
    "# SELECT column_list\n",
    "# FROM t1\n",
    "# INNER JOIN t2 ON join_condition1\n",
    "# INNER JOIN t3 ON join_condition2"
   ]
  },
  {
   "cell_type": "code",
   "execution_count": 208,
   "metadata": {},
   "outputs": [
    {
     "ename": "OperationalError",
     "evalue": "RIGHT and FULL OUTER JOINs are not currently supported",
     "output_type": "error",
     "traceback": [
      "\u001b[1;31m---------------------------------------------------------------------------\u001b[0m",
      "\u001b[1;31mOperationalError\u001b[0m                          Traceback (most recent call last)",
      "\u001b[1;32m<ipython-input-208-c026c3e339e7>\u001b[0m in \u001b[0;36m<module>\u001b[1;34m\u001b[0m\n\u001b[0;32m      1\u001b[0m cursor.execute('''SELECT item_id FROM charactercreator_character_inventory\n\u001b[1;32m----> 2\u001b[1;33m                 OUTER JOIN armory_weapon ON armory_weapon.item_ptr_id =  charactercreator_character_inventory.item_id''')\n\u001b[0m\u001b[0;32m      3\u001b[0m \u001b[0mresults\u001b[0m \u001b[1;33m=\u001b[0m \u001b[0mcursor\u001b[0m\u001b[1;33m.\u001b[0m\u001b[0mfetchall\u001b[0m\u001b[1;33m(\u001b[0m\u001b[1;33m)\u001b[0m\u001b[1;33m\u001b[0m\u001b[1;33m\u001b[0m\u001b[0m\n\u001b[0;32m      4\u001b[0m \u001b[0mprint\u001b[0m\u001b[1;33m(\u001b[0m\u001b[0mlen\u001b[0m\u001b[1;33m(\u001b[0m\u001b[0mresults\u001b[0m\u001b[1;33m)\u001b[0m\u001b[1;33m)\u001b[0m\u001b[1;33m\u001b[0m\u001b[1;33m\u001b[0m\u001b[0m\n",
      "\u001b[1;31mOperationalError\u001b[0m: RIGHT and FULL OUTER JOINs are not currently supported"
     ]
    }
   ],
   "source": [
    "cursor.execute('''SELECT item_id FROM charactercreator_character_inventory\n",
    "                OUTER JOIN armory_weapon ON armory_weapon.item_ptr_id =  charactercreator_character_inventory.item_id''')\n",
    "results = cursor.fetchall()\n",
    "print(len(results))"
   ]
  },
  {
   "cell_type": "code",
   "execution_count": 174,
   "metadata": {},
   "outputs": [],
   "source": [
    "conn.close()"
   ]
  },
  {
   "cell_type": "code",
   "execution_count": null,
   "metadata": {},
   "outputs": [],
   "source": [
    "# How many total Characters are there?\n",
    "# How many of each specific subclass?\n",
    "# How many total Items?\n",
    "# How many of the Items are weapons? How many are not?\n",
    "# How many Items does each character have? (Return first 20 rows)\n",
    "# How many Weapons does each character have? (Return first 20 rows)\n",
    "# On average, how many Items does each Character have?\n",
    "# On average, how many Weapons does each character have?"
   ]
  },
  {
   "cell_type": "code",
   "execution_count": null,
   "metadata": {},
   "outputs": [],
   "source": []
  },
  {
   "cell_type": "code",
   "execution_count": null,
   "metadata": {},
   "outputs": [],
   "source": []
  }
 ],
 "metadata": {
  "kernelspec": {
   "display_name": "Python 3",
   "language": "python",
   "name": "python3"
  },
  "language_info": {
   "codemirror_mode": {
    "name": "ipython",
    "version": 3
   },
   "file_extension": ".py",
   "mimetype": "text/x-python",
   "name": "python",
   "nbconvert_exporter": "python",
   "pygments_lexer": "ipython3",
   "version": "3.7.3"
  }
 },
 "nbformat": 4,
 "nbformat_minor": 2
}
