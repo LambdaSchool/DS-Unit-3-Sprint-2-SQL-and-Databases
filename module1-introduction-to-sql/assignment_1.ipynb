{
 "cells": [
  {
   "cell_type": "code",
   "execution_count": 2,
   "metadata": {},
   "outputs": [],
   "source": [
    "import sqlite3\n",
    "import pandas as pd"
   ]
  },
  {
   "cell_type": "code",
   "execution_count": 13,
   "metadata": {},
   "outputs": [],
   "source": [
    "def query(query):\n",
    "    conn = sqlite3.connect('rpg_db.sqlite3')\n",
    "    c = conn.cursor()\n",
    "    c.execute(query)\n",
    "    data = c.fetchall()\n",
    "    return data"
   ]
  },
  {
   "cell_type": "markdown",
   "metadata": {},
   "source": [
    "# Part One"
   ]
  },
  {
   "cell_type": "markdown",
   "metadata": {},
   "source": [
    "## Questions to answer\n",
    "1. How many total Characters are there?\n",
    "2. How many of each specific subclass?\n",
    "3. How many total Items?\n",
    "4. How many of the Items are weapons? How many are not?\n",
    "5. How many Items does each character have? (Return first 20 rows)\n",
    "6. How many Weapons does each character have? (Return first 20 rows)\n",
    "7. On average, how many Items does each Character have?\n",
    "8. On average, how many Weapons does each character have?"
   ]
  },
  {
   "cell_type": "code",
   "execution_count": 15,
   "metadata": {},
   "outputs": [],
   "source": [
    "characters = query('SELECT * FROM charactercreator_character')"
   ]
  },
  {
   "cell_type": "code",
   "execution_count": 23,
   "metadata": {},
   "outputs": [],
   "source": [
    "char_cols = ['id','name','level','exp','hp','strength','intelligence','dexterity','wisdom']"
   ]
  },
  {
   "cell_type": "code",
   "execution_count": 25,
   "metadata": {
    "scrolled": true
   },
   "outputs": [],
   "source": [
    "characters = pd.DataFrame(characters,columns=char_cols)"
   ]
  },
  {
   "cell_type": "markdown",
   "metadata": {},
   "source": [
    "### Character count"
   ]
  },
  {
   "cell_type": "code",
   "execution_count": 28,
   "metadata": {},
   "outputs": [
    {
     "data": {
      "text/plain": [
       "302"
      ]
     },
     "execution_count": 28,
     "metadata": {},
     "output_type": "execute_result"
    }
   ],
   "source": [
    "characters.count()[0]"
   ]
  },
  {
   "cell_type": "markdown",
   "metadata": {},
   "source": [
    "### Specific subclasses"
   ]
  },
  {
   "cell_type": "code",
   "execution_count": 52,
   "metadata": {},
   "outputs": [],
   "source": [
    "mage = query('''SELECT COUNT(m.character_ptr_id)\n",
    "FROM charactercreator_character as c\n",
    "JOIN charactercreator_mage as m\n",
    "ON c.character_id = m.character_ptr_id\n",
    "WHERE m.character_ptr_id NOT IN (SELECT mage_ptr_id FROM charactercreator_necromancer)''')"
   ]
  },
  {
   "cell_type": "code",
   "execution_count": 53,
   "metadata": {},
   "outputs": [
    {
     "data": {
      "text/plain": [
       "[(97,)]"
      ]
     },
     "execution_count": 53,
     "metadata": {},
     "output_type": "execute_result"
    }
   ],
   "source": [
    "mage"
   ]
  },
  {
   "cell_type": "code",
   "execution_count": 46,
   "metadata": {},
   "outputs": [],
   "source": [
    "necromancer = query('''SELECT COUNT(m.character_ptr_id)\n",
    "FROM charactercreator_character as c\n",
    "JOIN charactercreator_mage as m\n",
    "ON c.character_id = m.character_ptr_id\n",
    "JOIN charactercreator_necromancer as n\n",
    "ON m.character_ptr_id = n.mage_ptr_id\n",
    "''')"
   ]
  },
  {
   "cell_type": "code",
   "execution_count": 47,
   "metadata": {},
   "outputs": [
    {
     "data": {
      "text/plain": [
       "[(11,)]"
      ]
     },
     "execution_count": 47,
     "metadata": {},
     "output_type": "execute_result"
    }
   ],
   "source": [
    "necromancer"
   ]
  },
  {
   "cell_type": "code",
   "execution_count": 39,
   "metadata": {},
   "outputs": [],
   "source": [
    "cleric = query('''SELECT COUNT(c.name)\n",
    "FROM charactercreator_character as c\n",
    "JOIN charactercreator_cleric as cl\n",
    "ON c.character_id = cl.character_ptr_id\n",
    "''')"
   ]
  },
  {
   "cell_type": "code",
   "execution_count": 40,
   "metadata": {},
   "outputs": [
    {
     "data": {
      "text/plain": [
       "[(75,)]"
      ]
     },
     "execution_count": 40,
     "metadata": {},
     "output_type": "execute_result"
    }
   ],
   "source": [
    "cleric"
   ]
  },
  {
   "cell_type": "code",
   "execution_count": 41,
   "metadata": {},
   "outputs": [],
   "source": [
    "fighter = query('''SELECT COUNT(c.name)\n",
    "FROM charactercreator_character as c\n",
    "JOIN charactercreator_fighter as f\n",
    "ON c.character_id = f.character_ptr_id\n",
    "''')"
   ]
  },
  {
   "cell_type": "code",
   "execution_count": 42,
   "metadata": {},
   "outputs": [
    {
     "data": {
      "text/plain": [
       "[(68,)]"
      ]
     },
     "execution_count": 42,
     "metadata": {},
     "output_type": "execute_result"
    }
   ],
   "source": [
    "fighter"
   ]
  },
  {
   "cell_type": "code",
   "execution_count": 44,
   "metadata": {},
   "outputs": [],
   "source": [
    "thief = query('''SELECT COUNT(c.name)\n",
    "FROM charactercreator_character as c\n",
    "JOIN charactercreator_thief as t\n",
    "ON c.character_id = t.character_ptr_id\n",
    "''')"
   ]
  },
  {
   "cell_type": "code",
   "execution_count": 45,
   "metadata": {},
   "outputs": [
    {
     "data": {
      "text/plain": [
       "[(51,)]"
      ]
     },
     "execution_count": 45,
     "metadata": {},
     "output_type": "execute_result"
    }
   ],
   "source": [
    "thief"
   ]
  },
  {
   "cell_type": "markdown",
   "metadata": {},
   "source": [
    "### Total items"
   ]
  },
  {
   "cell_type": "code",
   "execution_count": 55,
   "metadata": {},
   "outputs": [
    {
     "data": {
      "text/plain": [
       "[(174,)]"
      ]
     },
     "execution_count": 55,
     "metadata": {},
     "output_type": "execute_result"
    }
   ],
   "source": [
    "query('SELECT COUNT(name) FROM armory_item')"
   ]
  },
  {
   "cell_type": "markdown",
   "metadata": {},
   "source": [
    "### Weapons vs not weapons"
   ]
  },
  {
   "cell_type": "code",
   "execution_count": 58,
   "metadata": {},
   "outputs": [
    {
     "data": {
      "text/plain": [
       "[(37,)]"
      ]
     },
     "execution_count": 58,
     "metadata": {},
     "output_type": "execute_result"
    }
   ],
   "source": [
    "#weapons\n",
    "query('SELECT COUNT(a.name) FROM armory_item as a JOIN armory_weapon as w ON a.item_id=w.item_ptr_id')"
   ]
  },
  {
   "cell_type": "code",
   "execution_count": 61,
   "metadata": {},
   "outputs": [
    {
     "data": {
      "text/plain": [
       "[(898,)]"
      ]
     },
     "execution_count": 61,
     "metadata": {},
     "output_type": "execute_result"
    }
   ],
   "source": [
    "# no weapons\n",
    "query('SELECT COUNT(a.name) FROM armory_item as a JOIN charactercreator_character_inventory as c ON a.item_id=c.item_id')"
   ]
  },
  {
   "cell_type": "markdown",
   "metadata": {},
   "source": [
    "### How many Items does each character have? (Return first 20 rows)"
   ]
  },
  {
   "cell_type": "code",
   "execution_count": 71,
   "metadata": {},
   "outputs": [],
   "source": [
    "items = query('''SELECT COUNT(c.item_id)\n",
    "FROM charactercreator_character_inventory as c\n",
    "GROUP BY c.character_id\n",
    "LIMIT 20''')"
   ]
  },
  {
   "cell_type": "code",
   "execution_count": 72,
   "metadata": {},
   "outputs": [
    {
     "data": {
      "text/plain": [
       "[(3,),\n",
       " (3,),\n",
       " (2,),\n",
       " (4,),\n",
       " (4,),\n",
       " (1,),\n",
       " (5,),\n",
       " (3,),\n",
       " (4,),\n",
       " (4,),\n",
       " (3,),\n",
       " (3,),\n",
       " (4,),\n",
       " (4,),\n",
       " (4,),\n",
       " (1,),\n",
       " (5,),\n",
       " (5,),\n",
       " (3,),\n",
       " (1,)]"
      ]
     },
     "execution_count": 72,
     "metadata": {},
     "output_type": "execute_result"
    }
   ],
   "source": [
    "items"
   ]
  },
  {
   "cell_type": "markdown",
   "metadata": {},
   "source": [
    "### How many Weapons does each character have? (Return first 20 rows)"
   ]
  },
  {
   "cell_type": "code",
   "execution_count": 68,
   "metadata": {},
   "outputs": [
    {
     "data": {
      "text/plain": [
       "[(0,),\n",
       " (0,),\n",
       " (0,),\n",
       " (0,),\n",
       " (2,),\n",
       " (0,),\n",
       " (1,),\n",
       " (0,),\n",
       " (0,),\n",
       " (0,),\n",
       " (1,),\n",
       " (0,),\n",
       " (0,),\n",
       " (0,),\n",
       " (0,),\n",
       " (0,),\n",
       " (0,),\n",
       " (0,),\n",
       " (0,),\n",
       " (1,)]"
      ]
     },
     "execution_count": 68,
     "metadata": {},
     "output_type": "execute_result"
    }
   ],
   "source": [
    "query('''\n",
    "SELECT count(items)\n",
    "FROM charactercreator_character_inventory as c\n",
    "LEFT JOIN\n",
    "(SELECT a.item_id as items\n",
    "FROM armory_item as a \n",
    "JOIN armory_weapon as w\n",
    "ON items = w.item_ptr_id) \n",
    "ON c.item_id = items\n",
    "\n",
    "GROUP BY c.character_id\n",
    "LIMIT 20''')"
   ]
  },
  {
   "cell_type": "markdown",
   "metadata": {},
   "source": [
    "### On average, how many Items does each Character have?"
   ]
  },
  {
   "cell_type": "code",
   "execution_count": 73,
   "metadata": {},
   "outputs": [
    {
     "data": {
      "text/plain": [
       "[(2.9735099337748343,)]"
      ]
     },
     "execution_count": 73,
     "metadata": {},
     "output_type": "execute_result"
    }
   ],
   "source": [
    "query('''SELECT avg(counts) \n",
    "FROM\n",
    "(SELECT COUNT(c.item_id) as counts\n",
    "FROM charactercreator_character_inventory as c\n",
    "GROUP BY c.character_id)''')"
   ]
  },
  {
   "cell_type": "markdown",
   "metadata": {},
   "source": [
    "### On average, how many Weapons does each Character have?"
   ]
  },
  {
   "cell_type": "code",
   "execution_count": 70,
   "metadata": {},
   "outputs": [
    {
     "data": {
      "text/plain": [
       "[(0.6721854304635762,)]"
      ]
     },
     "execution_count": 70,
     "metadata": {},
     "output_type": "execute_result"
    }
   ],
   "source": [
    "query('''SELECT AVG(counts)\n",
    "FROM\n",
    "(SELECT COUNT(items) as counts\n",
    "FROM charactercreator_character_inventory as c\n",
    "LEFT JOIN\n",
    "(SELECT a.item_id as items\n",
    "FROM armory_item as a \n",
    "JOIN armory_weapon as w\n",
    "ON items = w.item_ptr_id) \n",
    "ON c.item_id = items\n",
    "\n",
    "GROUP BY c.character_id)''')"
   ]
  },
  {
   "cell_type": "markdown",
   "metadata": {},
   "source": [
    "# Part Two"
   ]
  },
  {
   "cell_type": "code",
   "execution_count": 88,
   "metadata": {},
   "outputs": [],
   "source": [
    "from sqlalchemy import create_engine\n",
    "engine = create_engine('sqlite://', echo=False)"
   ]
  },
  {
   "cell_type": "code",
   "execution_count": 89,
   "metadata": {},
   "outputs": [],
   "source": [
    "df = pd.read_csv('buddymove_holidayiq.csv')"
   ]
  },
  {
   "cell_type": "code",
   "execution_count": 90,
   "metadata": {},
   "outputs": [],
   "source": [
    "df.to_sql(name='review',con=engine)"
   ]
  },
  {
   "cell_type": "code",
   "execution_count": 94,
   "metadata": {},
   "outputs": [
    {
     "data": {
      "text/plain": [
       "[(249,)]"
      ]
     },
     "execution_count": 94,
     "metadata": {},
     "output_type": "execute_result"
    }
   ],
   "source": [
    "engine.execute('SELECT count(Sports) FROM review').fetchall()"
   ]
  },
  {
   "cell_type": "code",
   "execution_count": 100,
   "metadata": {},
   "outputs": [
    {
     "data": {
      "text/plain": [
       "[(78,)]"
      ]
     },
     "execution_count": 100,
     "metadata": {},
     "output_type": "execute_result"
    }
   ],
   "source": [
    "engine.execute('''SELECT count(Sports)\n",
    "FROM review as r\n",
    "WHERE (r.Nature >= 100) AND (r.Shopping > 100)\n",
    "''').fetchall()"
   ]
  },
  {
   "cell_type": "code",
   "execution_count": 107,
   "metadata": {},
   "outputs": [
    {
     "data": {
      "text/plain": [
       "[(11.987951807228916, 109.77911646586345, 124.51807228915662, 116.37751004016064, 112.63855421686748, 120.40160642570281)]"
      ]
     },
     "execution_count": 107,
     "metadata": {},
     "output_type": "execute_result"
    }
   ],
   "source": [
    "engine.execute('''SELECT AVG(Sports), AVG(Religious), AVG(Nature), AVG(Theatre), AVG(Shopping), AVG(Picnic)\n",
    "FROM review as r\n",
    "''').fetchall()"
   ]
  },
  {
   "cell_type": "code",
   "execution_count": null,
   "metadata": {},
   "outputs": [],
   "source": []
  },
  {
   "cell_type": "code",
   "execution_count": 79,
   "metadata": {},
   "outputs": [
    {
     "data": {
      "text/plain": [
       "(  User Id  Sports  Religious  Nature  Theatre  Shopping  Picnic\n",
       " 0  User 1       2         77      79       69        68      95\n",
       " 1  User 2       2         62      76       76        69      68\n",
       " 2  User 3       2         50      97       87        50      75\n",
       " 3  User 4       2         68      77       95        76      61\n",
       " 4  User 5       2         98      54       59        95      86, (249, 7))"
      ]
     },
     "execution_count": 79,
     "metadata": {},
     "output_type": "execute_result"
    }
   ],
   "source": [
    "df.head(), df.shape"
   ]
  },
  {
   "cell_type": "code",
   "execution_count": null,
   "metadata": {},
   "outputs": [],
   "source": []
  }
 ],
 "metadata": {
  "kernelspec": {
   "display_name": "Python 3",
   "language": "python",
   "name": "python3"
  },
  "language_info": {
   "codemirror_mode": {
    "name": "ipython",
    "version": 3
   },
   "file_extension": ".py",
   "mimetype": "text/x-python",
   "name": "python",
   "nbconvert_exporter": "python",
   "pygments_lexer": "ipython3",
   "version": "3.7.3"
  },
  "varInspector": {
   "cols": {
    "lenName": 16,
    "lenType": 16,
    "lenVar": 40
   },
   "kernels_config": {
    "python": {
     "delete_cmd_postfix": "",
     "delete_cmd_prefix": "del ",
     "library": "var_list.py",
     "varRefreshCmd": "print(var_dic_list())"
    },
    "r": {
     "delete_cmd_postfix": ") ",
     "delete_cmd_prefix": "rm(",
     "library": "var_list.r",
     "varRefreshCmd": "cat(var_dic_list()) "
    }
   },
   "types_to_exclude": [
    "module",
    "function",
    "builtin_function_or_method",
    "instance",
    "_Feature"
   ],
   "window_display": false
  }
 },
 "nbformat": 4,
 "nbformat_minor": 2
}
