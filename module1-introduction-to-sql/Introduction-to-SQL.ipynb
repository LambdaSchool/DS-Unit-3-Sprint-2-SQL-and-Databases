{
 "cells": [
  {
   "cell_type": "markdown",
   "metadata": {},
   "source": [
    "The main purpose of SQL is to just get (SELECT) some data, and to restrict the data based on certain conditions (WHERE). Getting all customers from a certain region, or everyone who bought a certain product or on a certain day - these are common business questions useful for reports and dashboards, and easily answered with basic SQL."
   ]
  },
  {
   "cell_type": "markdown",
   "metadata": {},
   "source": [
    "## Overview\n",
    "\n",
    "SQL is a standard, and a computational implementation of relational algebra - the math underpinning modern data modeling.\n",
    "\n",
    "In relational algebra, datum are considered members of sets, where data with the same overall structure (attributes) are members of the same sets. Data in other sets has different attributes (columns if you want to picture it), but has at least one column shared with another set - a key that can relate entries across them.\n",
    "\n",
    "So querying in relational algebra is essentially a batch of set operations - union, difference, Cartesian product, and intersection - but constrained to ensure the end result is valid.\n",
    "\n",
    "The $\\Pi$ symbol indicates projection (choosing attributes), and $\\sigma$ indicates selection (setting conditions). The above translates roughly to “Get the names and ids of all customers from California.”"
   ]
  },
  {
   "cell_type": "markdown",
   "metadata": {},
   "source": [
    "Querying in SQL is essentially the same as relational algebra, but instead of mathematical syntax and Greek letters we use capitalized keywords like SELECT and WHERE. Here is a typical SQL query:"
   ]
  },
  {
   "cell_type": "markdown",
   "metadata": {},
   "source": [
    "![Soccer Database for lesson](soccer-database-SQL-lesson.png \"Soccer Diagram\")"
   ]
  },
  {
   "cell_type": "code",
   "execution_count": 8,
   "metadata": {},
   "outputs": [
    {
     "data": {
      "text/plain": [
       "\"SELECT name, id\\nFROM customers\\nWHERE state = 'CA';\\n\""
      ]
     },
     "execution_count": 8,
     "metadata": {},
     "output_type": "execute_result"
    }
   ],
   "source": [
    "# Example Query Sudo Code\n",
    "\"\"\"SELECT name, id\n",
    "FROM customers\n",
    "WHERE state = 'CA';\n",
    "\"\"\""
   ]
  },
  {
   "cell_type": "code",
   "execution_count": 9,
   "metadata": {},
   "outputs": [
    {
     "data": {
      "text/plain": [
       "'SELECT *\\nFROM charactercreator_character\\nINNER JOIN charactercreator_cleric\\nON charactercreator_character.character_id\\n= charactercreator_cleric.character_ptr_id;\\nWHERE character_id = 166;\\n'"
      ]
     },
     "execution_count": 9,
     "metadata": {},
     "output_type": "execute_result"
    }
   ],
   "source": [
    "# Example Query\n",
    "\"\"\"SELECT *\n",
    "FROM charactercreator_character\n",
    "INNER JOIN charactercreator_cleric\n",
    "ON charactercreator_character.character_id\n",
    "= charactercreator_cleric.character_ptr_id;\n",
    "WHERE character_id = 166;\n",
    "\"\"\""
   ]
  },
  {
   "cell_type": "code",
   "execution_count": 11,
   "metadata": {},
   "outputs": [
    {
     "data": {
      "text/plain": [
       "'```SELECT character.character_id, character.name, cleric.using_shield\\nFROM charactercreator_character AS character\\nINNER JOIN charactercreator_cleric AS cleric\\nON character.character_id\\n= cleric.character_ptr_id\\nWHERE character_id = 166;```\\n'"
      ]
     },
     "execution_count": 11,
     "metadata": {},
     "output_type": "execute_result"
    }
   ],
   "source": [
    "# Example Query\n",
    "\"\"\"```SELECT character.character_id, character.name, cleric.using_shield\n",
    "FROM charactercreator_character AS character\n",
    "INNER JOIN charactercreator_cleric AS cleric\n",
    "ON character.character_id\n",
    "= cleric.character_ptr_id\n",
    "WHERE character_id = 166;```\n",
    "\"\"\""
   ]
  },
  {
   "cell_type": "markdown",
   "metadata": {},
   "source": [
    "## Link for the Order of Execution of a Query\n",
    "[Order of execution of a Query Link](https://sqlbolt.com/lesson/select_queries_order_of_execution \"SQL Bolt\")"
   ]
  },
  {
   "cell_type": "markdown",
   "metadata": {},
   "source": [
    "![Order of execution of a Query](sql_joins.png \"Order of execution of a Query\")"
   ]
  },
  {
   "cell_type": "markdown",
   "metadata": {},
   "source": [
    "---"
   ]
  },
  {
   "cell_type": "markdown",
   "metadata": {},
   "source": [
    "### Example SQLite3 Usage"
   ]
  },
  {
   "cell_type": "code",
   "execution_count": 12,
   "metadata": {},
   "outputs": [
    {
     "ename": "SyntaxError",
     "evalue": "invalid syntax (<ipython-input-12-6c18386dac2a>, line 1)",
     "output_type": "error",
     "traceback": [
      "\u001b[0;36m  File \u001b[0;32m\"<ipython-input-12-6c18386dac2a>\"\u001b[0;36m, line \u001b[0;32m1\u001b[0m\n\u001b[0;31m    Aarons-MBP:module1-introduction-to-sql aaron$ ls\u001b[0m\n\u001b[0m                                               ^\u001b[0m\n\u001b[0;31mSyntaxError\u001b[0m\u001b[0;31m:\u001b[0m invalid syntax\n"
     ]
    }
   ],
   "source": [
    "Aarons-MBP:module1-introduction-to-sql aaron$ ls\n",
    "README.md\t\trpg_db.sqlite3\t\trpg_db.sqlite3-journal\n",
    "Aarons-MBP:module1-introduction-to-sql aaron$ python\n",
    "Python 3.6.8 |Anaconda custom (64-bit)| (default, Dec 29 2018, 19:04:46) \n",
    "[GCC 4.2.1 Compatible Clang 4.0.1 (tags/RELEASE_401/final)] on darwin\n",
    "Type \"help\", \"copyright\", \"credits\" or \"license\" for more information.\n",
    ">>> import sqlite3\n",
    ">>> dir(sqlite3)\n",
    "['Binary', 'Cache', 'Connection', 'Cursor', 'DataError', 'DatabaseError', 'Date', 'DateFromTicks', 'Error', 'IntegrityError', 'InterfaceError', 'InternalError', 'NotSupportedError', 'OperationalError', 'OptimizedUnicode', 'PARSE_COLNAMES', 'PARSE_DECLTYPES', 'PrepareProtocol', 'ProgrammingError', 'Row', 'SQLITE_ALTER_TABLE', 'SQLITE_ANALYZE', 'SQLITE_ATTACH', 'SQLITE_CREATE_INDEX', 'SQLITE_CREATE_TABLE', 'SQLITE_CREATE_TEMP_INDEX', 'SQLITE_CREATE_TEMP_TABLE', 'SQLITE_CREATE_TEMP_TRIGGER', 'SQLITE_CREATE_TEMP_VIEW', 'SQLITE_CREATE_TRIGGER', 'SQLITE_CREATE_VIEW', 'SQLITE_DELETE', 'SQLITE_DENY', 'SQLITE_DETACH', 'SQLITE_DROP_INDEX', 'SQLITE_DROP_TABLE', 'SQLITE_DROP_TEMP_INDEX', 'SQLITE_DROP_TEMP_TABLE', 'SQLITE_DROP_TEMP_TRIGGER', 'SQLITE_DROP_TEMP_VIEW', 'SQLITE_DROP_TRIGGER', 'SQLITE_DROP_VIEW', 'SQLITE_IGNORE', 'SQLITE_INSERT', 'SQLITE_OK', 'SQLITE_PRAGMA', 'SQLITE_READ', 'SQLITE_REINDEX', 'SQLITE_SELECT', 'SQLITE_TRANSACTION', 'SQLITE_UPDATE', 'Statement', 'Time', 'TimeFromTicks', 'Timestamp', 'TimestampFromTicks', 'Warning', '__builtins__', '__cached__', '__doc__', '__file__', '__loader__', '__name__', '__package__', '__path__', '__spec__', 'adapt', 'adapters', 'apilevel', 'collections', 'complete_statement', 'connect', 'converters', 'datetime', 'dbapi2', 'enable_callback_tracebacks', 'enable_shared_cache', 'paramstyle', 'register_adapter', 'register_converter', 'sqlite_version', 'sqlite_version_info', 'threadsafety', 'time', 'version', 'version_info']\n",
    ">>> conn = sqlite3.connect('rpg_db.sqlite3')\n",
    ">>> dir(conn)\n",
    "['DataError', 'DatabaseError', 'Error', 'IntegrityError', 'InterfaceError', 'InternalError', 'NotSupportedError', 'OperationalError', 'ProgrammingError', 'Warning', '__call__', '__class__', '__delattr__', '__dir__', '__doc__', '__enter__', '__eq__', '__exit__', '__format__', '__ge__', '__getattribute__', '__gt__', '__hash__', '__init__', '__init_subclass__', '__le__', '__lt__', '__ne__', '__new__', '__reduce__', '__reduce_ex__', '__repr__', '__setattr__', '__sizeof__', '__str__', '__subclasshook__', 'close', 'commit', 'create_aggregate', 'create_collation', 'create_function', 'cursor', 'enable_load_extension', 'execute', 'executemany', 'executescript', 'in_transaction', 'interrupt', 'isolation_level', 'iterdump', 'load_extension', 'rollback', 'row_factory', 'set_authorizer', 'set_progress_handler', 'set_trace_callback', 'text_factory', 'total_changes']\n",
    ">>> help(conn.cursor)\n",
    "\n",
    ">>> curs = conn.cursor()\n",
    ">>> curs\n",
    "<sqlite3.Cursor object at 0x109619dc0>\n",
    ">>> dir(curs)\n",
    "['__class__', '__delattr__', '__dir__', '__doc__', '__eq__', '__format__', '__ge__', '__getattribute__', '__gt__', '__hash__', '__init__', '__init_subclass__', '__iter__', '__le__', '__lt__', '__ne__', '__new__', '__next__', '__reduce__', '__reduce_ex__', '__repr__', '__setattr__', '__sizeof__', '__str__', '__subclasshook__', 'arraysize', 'close', 'connection', 'description', 'execute', 'executemany', 'executescript', 'fetchall', 'fetchmany', 'fetchone', 'lastrowid', 'row_factory', 'rowcount', 'setinputsizes', 'setoutputsize']\n",
    ">>> cleric_query = \"\"\"SELECT character.character_id, character.name, cleric.using_shield\n",
    "... FROM charactercreator_character AS character,\n",
    "... charactercreator_cleric AS cleric\n",
    "... WHERE character.character_id = cleric.character_ptr_id\n",
    "... AND character.character_id = 166;\"\"\"\n",
    ">>> cleric_query\n",
    "'SELECT character.character_id, character.name, cleric.using_shield\\nFROM charactercreator_character AS character,\\ncharactercreator_cleric AS cleric\\nWHERE character.character_id = cleric.character_ptr_id\\nAND character.character_id = 166;'\n",
    ">>> help(curs.execute)\n",
    "\n",
    ">>> curs.execute(cleric_query)\n",
    "<sqlite3.Cursor object at 0x109619dc0>\n",
    ">>> curs.execute(cleric_query)\n",
    "<sqlite3.Cursor object at 0x109619dc0>\n",
    ">>> result = curs.execute(cleric_query)\n",
    ">>> curs.fetchone()\n",
    "(166, 'Deserunt', 0)\n",
    ">>> curs = conn.cursor()\n",
    ">>> curs\n",
    "<sqlite3.Cursor object at 0x109a242d0>\n",
    ">>> curs.execute(cleric_query)\n",
    "<sqlite3.Cursor object at 0x109a242d0>\n",
    ">>> curs.fetchall()\n",
    "[(166, 'Deserunt', 0)]\n",
    ">>> \n",
    "Aarons-MBP:module1-introduction-to-sql aaron$ python\n",
    "Python 3.6.8 |Anaconda custom (64-bit)| (default, Dec 29 2018, 19:04:46) \n",
    "[GCC 4.2.1 Compatible Clang 4.0.1 (tags/RELEASE_401/final)] on darwin\n",
    "Type \"help\", \"copyright\", \"credits\" or \"license\" for more information.\n",
    ">>> import sqlite3\n",
    ">>> conn = sqlite3.connect('example.db')\n",
    ">>> c = conn.cursor()\n",
    ">>> \n",
    ">>> # Create table\n",
    "... c.execute('''CREATE TABLE stocks\n",
    "...              (date text, trans text, symbol text, qty real, price real)''')\n",
    "<sqlite3.Cursor object at 0x100fc96c0>\n",
    ">>> \n",
    ">>> # Insert a row of data\n",
    "... c.execute(\"INSERT INTO stocks VALUES ('2006-01-05','BUY','RHAT',100,35.14)\")\n",
    "<sqlite3.Cursor object at 0x100fc96c0>\n",
    ">>> \n",
    ">>> # Save (commit) the changes\n",
    "... conn.commit()\n",
    ">>> \n",
    ">>> # We can also close the connection if we are done with it.\n",
    "... # Just be sure any changes have been committed or they will be lost.\n",
    "... conn.close()\n",
    ">>> exit()\n",
    "Aarons-MBP:module1-introduction-to-sql aaron$ ls\n",
    "README.md\t\trpg_db.sqlite3\n",
    "example.db\t\trpg_db.sqlite3-journal\n",
    "Aarons-MBP:module1-introduction-to-sql aaron$ ls -alh example.db \n",
    "-rw-r--r--  1 aaron  staff   8.0K Feb 18 10:34 example.db\n",
    "Aarons-MBP:module1-introduction-to-sql aaron$ python\n",
    "Python 3.6.8 |Anaconda custom (64-bit)| (default, Dec 29 2018, 19:04:46) \n",
    "[GCC 4.2.1 Compatible Clang 4.0.1 (tags/RELEASE_401/final)] on darwin\n",
    "Type \"help\", \"copyright\", \"credits\" or \"license\" for more information.\n",
    ">>> dir()\n",
    "['__annotations__', '__builtins__', '__doc__', '__loader__', '__name__', '__package__', '__spec__']\n",
    ">>> import sqlite3\n",
    ">>> conn = sqlite3.connect('example.db')\n",
    ">>> c = conn.cursor()\n",
    ">>> c.execute(\"SELECT * FROM stocks;\")\n",
    "<sqlite3.Cursor object at 0x10a7b16c0>\n",
    ">>> c.fetchall()\n",
    "[('2006-01-05', 'BUY', 'RHAT', 100.0, 35.14)]\n",
    ">>> "
   ]
  },
  {
   "cell_type": "markdown",
   "metadata": {},
   "source": [
    "#### A 'fun little class' From Rudy and Quinn\n",
    "\n",
    "[Class that calls simple queries and converts the sqlite3 data into a pandas df Link](https://raw.githubusercontent.com/Phantasm320/DS-Unit-3-Sprint-2-SQL-and-Databases/master/module1-introduction-to-sql/load_data.py \"Converts SQLite3 data into a Pandas DataFrame\")\n",
    "\n",
    "-o load_data.py"
   ]
  },
  {
   "cell_type": "code",
   "execution_count": 13,
   "metadata": {},
   "outputs": [
    {
     "data": {
      "text/plain": [
       "'SELECT character.name AS character_name, item.name AS item_name\\nFROM charactercreator_character AS character,\\narmory_item AS item,\\ncharactercreator_character_inventory AS inventory\\nWHERE character.character_id = 1\\nAND character.character_id = inventory.character_id\\nAND item.item_id = inventory.item_id;\\n'"
      ]
     },
     "execution_count": 13,
     "metadata": {},
     "output_type": "execute_result"
    }
   ],
   "source": [
    "\"\"\"SELECT character.name AS character_name, item.name AS item_name\n",
    "FROM charactercreator_character AS character,\n",
    "armory_item AS item,\n",
    "charactercreator_character_inventory AS inventory\n",
    "WHERE character.character_id = 1\n",
    "AND character.character_id = inventory.character_id\n",
    "AND item.item_id = inventory.item_id;\n",
    "\"\"\""
   ]
  },
  {
   "cell_type": "markdown",
   "metadata": {},
   "source": [
    "![Example of Execute SQL](Execute-SQL.png \"Example of Execution of SQL\")"
   ]
  },
  {
   "cell_type": "markdown",
   "metadata": {},
   "source": [
    "#### Comparing pandas-docs with sql. Getting Started\n",
    "\n",
    "[Comparing with SQL Link](https://pandas.pydata.org/pandas-docs/stable/getting_started/comparison/comparison_with_sql.html \"Compares pandas-docs and SQL\")"
   ]
  },
  {
   "cell_type": "code",
   "execution_count": null,
   "metadata": {},
   "outputs": [],
   "source": []
  }
 ],
 "metadata": {
  "kernelspec": {
   "display_name": "Python 3",
   "language": "python",
   "name": "python3"
  },
  "language_info": {
   "codemirror_mode": {
    "name": "ipython",
    "version": 3
   },
   "file_extension": ".py",
   "mimetype": "text/x-python",
   "name": "python",
   "nbconvert_exporter": "python",
   "pygments_lexer": "ipython3",
   "version": "3.6.8"
  }
 },
 "nbformat": 4,
 "nbformat_minor": 2
}
