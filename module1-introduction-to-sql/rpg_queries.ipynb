{
 "cells": [
  {
   "cell_type": "code",
   "execution_count": 1,
   "metadata": {},
   "outputs": [],
   "source": [
    "import sqlite3"
   ]
  },
  {
   "cell_type": "code",
   "execution_count": 2,
   "metadata": {},
   "outputs": [],
   "source": [
    "conn = sqlite3.connect('rpg_db.sqlite3')"
   ]
  },
  {
   "cell_type": "code",
   "execution_count": 3,
   "metadata": {},
   "outputs": [],
   "source": [
    "cursor = conn.cursor()"
   ]
  },
  {
   "cell_type": "code",
   "execution_count": 4,
   "metadata": {},
   "outputs": [],
   "source": [
    "total_query = '''SELECT * FROM charactercreator_character'''"
   ]
  },
  {
   "cell_type": "code",
   "execution_count": 5,
   "metadata": {},
   "outputs": [],
   "source": [
    "characters = cursor.execute(total_query).fetchall()"
   ]
  },
  {
   "cell_type": "code",
   "execution_count": 6,
   "metadata": {},
   "outputs": [
    {
     "name": "stdout",
     "output_type": "stream",
     "text": [
      "README.md               rpg_db.sqlite3          schema.png\r\n",
      "buddymove_holidayiq.csv rpg_queries.ipynb\r\n"
     ]
    }
   ],
   "source": [
    "!ls"
   ]
  },
  {
   "cell_type": "code",
   "execution_count": 7,
   "metadata": {},
   "outputs": [
    {
     "name": "stdout",
     "output_type": "stream",
     "text": [
      "[(1, u'Aliquid iste optio reiciendi', 0, 0, 10, 1, 1, 1, 1), (2, u'Optio dolorem ex a', 0, 0, 10, 1, 1, 1, 1), (3, u'Minus c', 0, 0, 10, 1, 1, 1, 1), (4, u'Sit ut repr', 0, 0, 10, 1, 1, 1, 1), (5, u'At id recusandae expl', 0, 0, 10, 1, 1, 1, 1), (6, u'Non nobis et of', 0, 0, 10, 1, 1, 1, 1), (7, u'Perferendis', 0, 0, 10, 1, 1, 1, 1), (8, u'Accusantium amet quidem eve', 0, 0, 10, 1, 1, 1, 1), (9, u'Sed nostrum inventore error m', 0, 0, 10, 1, 1, 1, 1), (10, u'Harum repellendus omnis od', 0, 0, 10, 1, 1, 1, 1), (11, u'Itaque ut commodi,', 0, 0, 10, 1, 1, 1, 1), (12, u'Molestiae quis', 0, 0, 10, 1, 1, 1, 1), (13, u'Ali', 0, 0, 10, 1, 1, 1, 1), (14, u'Tempora quod optio possimus il', 0, 0, 10, 1, 1, 1, 1), (15, u'Sed itaque beatae pari', 0, 0, 10, 1, 1, 1, 1), (16, u'Quam dolor', 0, 0, 10, 1, 1, 1, 1), (17, u'Molestias expedita', 0, 0, 10, 1, 1, 1, 1), (18, u'Lauda', 0, 0, 10, 1, 1, 1, 1), (19, u'Incidunt sint perferen', 0, 0, 10, 1, 1, 1, 1), (20, u'Laboriosa', 0, 0, 10, 1, 1, 1, 1), (21, u'Dolore esse nesciunt fugit com', 0, 0, 10, 1, 1, 1, 1), (22, u'Dolorum nam reic', 0, 0, 10, 1, 1, 1, 1), (23, u'Repellat ad numquam volu', 0, 0, 10, 1, 1, 1, 1), (24, u'Facere enim velit eligend', 0, 0, 10, 1, 1, 1, 1), (25, u'Sed ratione quis rep', 0, 0, 10, 1, 1, 1, 1), (26, u'Doloribus neque', 0, 0, 10, 1, 1, 1, 1), (27, u'Ab voluptas se', 0, 0, 10, 1, 1, 1, 1), (28, u'Molestias m', 0, 0, 10, 1, 1, 1, 1), (29, u'In pariatur corpori', 0, 0, 10, 1, 1, 1, 1), (30, u'Possimus ad dignissimos vel, a', 0, 0, 10, 1, 1, 1, 1), (31, u'At minus accusa', 0, 0, 10, 1, 1, 1, 1), (32, u'Ad necess', 0, 0, 10, 1, 1, 1, 1), (33, u'Expedita c', 0, 0, 10, 1, 1, 1, 1), (34, u'Voluptates sunt voluptas volu', 0, 0, 10, 1, 1, 1, 1), (35, u'Autem mollitia fuga lauda', 0, 0, 10, 1, 1, 1, 1), (36, u'Sint quibusdam ob', 0, 0, 10, 1, 1, 1, 1), (37, u'Rerum et o', 0, 0, 10, 1, 1, 1, 1), (38, u'Doloribus dolore r', 0, 0, 10, 1, 1, 1, 1), (39, u'Eaque su', 0, 0, 10, 1, 1, 1, 1), (40, u'Vel molestias numqua', 0, 0, 10, 1, 1, 1, 1), (41, u'Iste assumenda repellat q', 0, 0, 10, 1, 1, 1, 1), (42, u'Animi labo', 0, 0, 10, 1, 1, 1, 1), (43, u'Eum culpa eaque ea omn', 0, 0, 10, 1, 1, 1, 1), (44, u'Harum provident vel quam', 0, 0, 10, 1, 1, 1, 1), (45, u'Aspe', 0, 0, 10, 1, 1, 1, 1), (46, u'Nisi nequ', 0, 0, 10, 1, 1, 1, 1), (47, u'Quod tempora', 0, 0, 10, 1, 1, 1, 1), (48, u'Porro aliq', 0, 0, 10, 1, 1, 1, 1), (49, u'Quas', 0, 0, 10, 1, 1, 1, 1), (50, u'Magnam eligendi quia animi', 0, 0, 10, 1, 1, 1, 1), (51, u'Officiis se', 0, 0, 10, 1, 1, 1, 1), (52, u'Id assumend', 0, 0, 10, 1, 1, 1, 1), (53, u'Voluptatibus fu', 0, 0, 10, 1, 1, 1, 1), (54, u'Odit rat', 0, 0, 10, 1, 1, 1, 1), (55, u'Debit', 0, 0, 10, 1, 1, 1, 1), (56, u'Cum aut quas repudia', 0, 0, 10, 1, 1, 1, 1), (57, u'Deleniti qui quae quidem', 0, 0, 10, 1, 1, 1, 1), (58, u'Adipisci voluptas', 0, 0, 10, 1, 1, 1, 1), (59, u'Debitis sit ratione eos nam', 0, 0, 10, 1, 1, 1, 1), (60, u'Esse illo molestias archi', 0, 0, 10, 1, 1, 1, 1), (61, u'Sunt at itaque voluptatum d', 0, 0, 10, 1, 1, 1, 1), (62, u'Est totam', 0, 0, 10, 1, 1, 1, 1), (63, u'Reprehenderit commodi eius', 0, 0, 10, 1, 1, 1, 1), (64, u'Debit', 0, 0, 10, 1, 1, 1, 1), (65, u'Soluta dol', 0, 0, 10, 1, 1, 1, 1), (66, u'Vel nesc', 0, 0, 10, 1, 1, 1, 1), (67, u'Ratione quia ali', 0, 0, 10, 1, 1, 1, 1), (68, u'Rerum recusandae minima', 0, 0, 10, 1, 1, 1, 1), (69, u'Totam natus eius fugiat volu', 0, 0, 10, 1, 1, 1, 1), (70, u'Perferendis commodi null', 0, 0, 10, 1, 1, 1, 1), (71, u'Laudantiu', 0, 0, 10, 1, 1, 1, 1), (72, u'Voluptat', 0, 0, 10, 1, 1, 1, 1), (73, u'Incidunt nesciun', 0, 0, 10, 1, 1, 1, 1), (74, u'Illum amet vero', 0, 0, 10, 1, 1, 1, 1), (75, u'Suscipit exercitationem re', 0, 0, 10, 1, 1, 1, 1), (76, u'Quas enim error maxime nisi m', 0, 0, 10, 1, 1, 1, 1), (77, u'Labore qu', 0, 0, 10, 1, 1, 1, 1), (78, u'Repudiandae deleniti unde', 0, 0, 10, 1, 1, 1, 1), (79, u'Ut do', 0, 0, 10, 1, 1, 1, 1), (80, u'Quaerat esse labore q', 0, 0, 10, 1, 1, 1, 1), (81, u'Quidem aliq', 0, 0, 10, 1, 1, 1, 1), (82, u'Aperiam vitae eos dolor sed', 0, 0, 10, 1, 1, 1, 1), (83, u'Minus nobis porro', 0, 0, 10, 1, 1, 1, 1), (84, u'In similique', 0, 0, 10, 1, 1, 1, 1), (85, u'Culpa repellat unde', 0, 0, 10, 1, 1, 1, 1), (86, u'Architecto i', 0, 0, 10, 1, 1, 1, 1), (87, u'A sed pariatur qua', 0, 0, 10, 1, 1, 1, 1), (88, u'Tempore assumenda aperiam', 0, 0, 10, 1, 1, 1, 1), (89, u'Sed ullam tempora iusto co', 0, 0, 10, 1, 1, 1, 1), (90, u'Ipsa', 0, 0, 10, 1, 1, 1, 1), (91, u'Fugiat incidun', 0, 0, 10, 1, 1, 1, 1), (92, u'Molestiae of', 0, 0, 10, 1, 1, 1, 1), (93, u'Quae quisquam cons', 0, 0, 10, 1, 1, 1, 1), (94, u'Repellendus ea non facil', 0, 0, 10, 1, 1, 1, 1), (95, u'Quod non quibu', 0, 0, 10, 1, 1, 1, 1), (96, u'Numquam velit distinctio', 0, 0, 10, 1, 1, 1, 1), (97, u'Necessitatibus nihil ex debi', 0, 0, 10, 1, 1, 1, 1), (98, u'Velit tempore nemo, na', 0, 0, 10, 1, 1, 1, 1), (99, u'Nesciunt v', 0, 0, 10, 1, 1, 1, 1), (100, u'Dicta enim debitis accusantiu', 0, 0, 10, 1, 1, 1, 1), (101, u'Vitae a', 0, 0, 10, 1, 1, 1, 1), (102, u'Praesentium voluptas u', 0, 0, 10, 1, 1, 1, 1), (103, u'Unde ullam mollitia? Nu', 0, 0, 10, 1, 1, 1, 1), (104, u'Neque molestias qu', 0, 0, 10, 1, 1, 1, 1), (105, u'Officiis es', 0, 0, 10, 1, 1, 1, 1), (106, u'Beatae mi', 0, 0, 10, 1, 1, 1, 1), (107, u'Mollitia nam corporis temp', 0, 0, 10, 1, 1, 1, 1), (108, u'Repudiandae repellat i', 0, 0, 10, 1, 1, 1, 1), (109, u'Laboriosam', 0, 0, 10, 1, 1, 1, 1), (110, u'Nam minus amet', 0, 0, 10, 1, 1, 1, 1), (111, u'Harum quae volup', 0, 0, 10, 1, 1, 1, 1), (112, u'Impedit facere ulla', 0, 0, 10, 1, 1, 1, 1), (113, u'Enim', 0, 0, 10, 1, 1, 1, 1), (114, u'Dolore magni', 0, 0, 10, 1, 1, 1, 1), (115, u'Eaque at corpori', 0, 0, 10, 1, 1, 1, 1), (116, u'Fug', 0, 0, 10, 1, 1, 1, 1), (117, u'Dolorum laudanti', 0, 0, 10, 1, 1, 1, 1), (118, u'Perferendis nat', 0, 0, 10, 1, 1, 1, 1), (119, u'Cupidi', 0, 0, 10, 1, 1, 1, 1), (120, u'Commodi eius dicta digniss', 0, 0, 10, 1, 1, 1, 1), (121, u'Debitis eu', 0, 0, 10, 1, 1, 1, 1), (122, u'Nihil repella', 0, 0, 10, 1, 1, 1, 1), (123, u'Rem quasi minima hic sed anim', 0, 0, 10, 1, 1, 1, 1), (124, u'Sed ali', 0, 0, 10, 1, 1, 1, 1), (125, u'Earum vol', 0, 0, 10, 1, 1, 1, 1), (126, u'Inventore tempore com', 0, 0, 10, 1, 1, 1, 1), (127, u'Repell', 0, 0, 10, 1, 1, 1, 1), (128, u'Consequatur quis recusandae qu', 0, 0, 10, 1, 1, 1, 1), (129, u'Dolores ea velit mi', 0, 0, 10, 1, 1, 1, 1), (130, u'Atque blanditiis a aperiam', 0, 0, 10, 1, 1, 1, 1), (131, u'Reprehenderit sequi iu', 0, 0, 10, 1, 1, 1, 1), (132, u'Natus architecto eos, hic blan', 0, 0, 10, 1, 1, 1, 1), (133, u'Ipsa illo quas', 0, 0, 10, 1, 1, 1, 1), (134, u'Voluptas ali', 0, 0, 10, 1, 1, 1, 1), (135, u'Voluptates obcaecati quod e', 0, 0, 10, 1, 1, 1, 1), (136, u'Dolor adipisci a voluptate', 0, 0, 10, 1, 1, 1, 1), (137, u'Repellendus natus quae, n', 0, 0, 10, 1, 1, 1, 1), (138, u'Laudantium earum nam in dol', 0, 0, 10, 1, 1, 1, 1), (139, u'Molestias face', 0, 0, 10, 1, 1, 1, 1), (140, u'Maiores suscipit exc', 0, 0, 10, 1, 1, 1, 1), (141, u'Illum dolore perferen', 0, 0, 10, 1, 1, 1, 1), (142, u'Explicabo recusandae ma', 0, 0, 10, 1, 1, 1, 1), (143, u'Odio obcaecati hic nostrum n', 0, 0, 10, 1, 1, 1, 1), (144, u'Voluptate ali', 0, 0, 10, 1, 1, 1, 1), (145, u'Repudiandae vitae sapiente mol', 0, 0, 10, 1, 1, 1, 1), (146, u'Ipsam cumque', 0, 0, 10, 1, 1, 1, 1), (147, u'Fugiat quos alias eos dese', 0, 0, 10, 1, 1, 1, 1), (148, u'Eaque impe', 0, 0, 10, 1, 1, 1, 1), (149, u'Elige', 0, 0, 10, 1, 1, 1, 1), (150, u'Adip', 0, 0, 10, 1, 1, 1, 1), (151, u'Fuga nemo vel mo', 0, 0, 10, 1, 1, 1, 1), (152, u'Libero cumque impedit eveniet', 0, 0, 10, 1, 1, 1, 1), (153, u'Odio soluta', 0, 0, 10, 1, 1, 1, 1), (154, u'Vero nostrum duc', 0, 0, 10, 1, 1, 1, 1), (155, u'Repellend', 0, 0, 10, 1, 1, 1, 1), (156, u'Quod', 0, 0, 10, 1, 1, 1, 1), (157, u'Suscipit reiciend', 0, 0, 10, 1, 1, 1, 1), (158, u'Voluptat', 0, 0, 10, 1, 1, 1, 1), (159, u'Porro dolor fuga quam', 0, 0, 10, 1, 1, 1, 1), (160, u'Amet quo fugit aliquam sequi', 0, 0, 10, 1, 1, 1, 1), (161, u'Magni adipisci veritatis sit q', 0, 0, 10, 1, 1, 1, 1), (162, u'Debitis enim cumque cum qu', 0, 0, 10, 1, 1, 1, 1), (163, u'Dolorem eligend', 0, 0, 10, 1, 1, 1, 1), (164, u'Autem lib', 0, 0, 10, 1, 1, 1, 1), (165, u'Saepe assumenda perferendis f', 0, 0, 10, 1, 1, 1, 1), (166, u'Deserunt', 0, 0, 10, 1, 1, 1, 1), (167, u'Provident soluta simil', 0, 0, 10, 1, 1, 1, 1), (168, u'In accu', 0, 0, 10, 1, 1, 1, 1), (169, u'Inve', 0, 0, 10, 1, 1, 1, 1), (170, u'Placeat sapiente', 0, 0, 10, 1, 1, 1, 1), (171, u'Ducimus architecto ullam', 0, 0, 10, 1, 1, 1, 1), (172, u'Voluptate tempora rerum', 0, 0, 10, 1, 1, 1, 1), (173, u'Totam incidunt earum perspicia', 0, 0, 10, 1, 1, 1, 1), (174, u'Optio quas e', 0, 0, 10, 1, 1, 1, 1), (175, u'Ab illum invento', 0, 0, 10, 1, 1, 1, 1), (176, u'Repellat quis natus totam, s', 0, 0, 10, 1, 1, 1, 1), (177, u'Est voluptate accusantium tem', 0, 0, 10, 1, 1, 1, 1), (178, u'Beatae q', 0, 0, 10, 1, 1, 1, 1), (179, u'Velit', 0, 0, 10, 1, 1, 1, 1), (180, u'Minus nequ', 0, 0, 10, 1, 1, 1, 1), (181, u'Autem eos voluptates off', 0, 0, 10, 1, 1, 1, 1), (182, u'Vel fug', 0, 0, 10, 1, 1, 1, 1), (183, u'Architecto repudian', 0, 0, 10, 1, 1, 1, 1), (184, u'Opti', 0, 0, 10, 1, 1, 1, 1), (185, u'Iust', 0, 0, 10, 1, 1, 1, 1), (186, u'Sapiente', 0, 0, 10, 1, 1, 1, 1), (187, u'Officiis repellat corrupti su', 0, 0, 10, 1, 1, 1, 1), (188, u'Dicta et natus e', 0, 0, 10, 1, 1, 1, 1), (189, u'At quos', 0, 0, 10, 1, 1, 1, 1), (190, u'Laborum ven', 0, 0, 10, 1, 1, 1, 1), (191, u'Exceptur', 0, 0, 10, 1, 1, 1, 1), (192, u'Reiciendis assumenda dolo', 0, 0, 10, 1, 1, 1, 1), (193, u'Poss', 0, 0, 10, 1, 1, 1, 1), (194, u'Acc', 0, 0, 10, 1, 1, 1, 1), (195, u'Placeat esse archit', 0, 0, 10, 1, 1, 1, 1), (196, u'Enim repellendus nihil est te', 0, 0, 10, 1, 1, 1, 1), (197, u'Ipsam incidunt t', 0, 0, 10, 1, 1, 1, 1), (198, u'Iure', 0, 0, 10, 1, 1, 1, 1), (199, u'Illo en', 0, 0, 10, 1, 1, 1, 1), (200, u'A rem ex', 0, 0, 10, 1, 1, 1, 1), (201, u'Officiis su', 0, 0, 10, 1, 1, 1, 1), (202, u'Numquam molestias', 0, 0, 10, 1, 1, 1, 1), (203, u'Voluptates unde', 0, 0, 10, 1, 1, 1, 1), (204, u'Quae praesentium vel', 0, 0, 10, 1, 1, 1, 1), (205, u'Quas', 0, 0, 10, 1, 1, 1, 1), (206, u'Dolores aliquid inv', 0, 0, 10, 1, 1, 1, 1), (207, u'Mollitia tempore laborum eaqu', 0, 0, 10, 1, 1, 1, 1), (208, u'Nobis voluptates fugiat quia', 0, 0, 10, 1, 1, 1, 1), (209, u'Similique dolorem dolore maio', 0, 0, 10, 1, 1, 1, 1), (210, u'Sapiente', 0, 0, 10, 1, 1, 1, 1), (211, u'Officia nisi dolore', 0, 0, 10, 1, 1, 1, 1), (212, u'Distinctio', 0, 0, 10, 1, 1, 1, 1), (213, u'Eos quia dignissimos saepe vel', 0, 0, 10, 1, 1, 1, 1), (214, u'Ullam neque sint eligendi', 0, 0, 10, 1, 1, 1, 1), (215, u'Excepturi deleniti ab a', 0, 0, 10, 1, 1, 1, 1), (216, u'Accusa', 0, 0, 10, 1, 1, 1, 1), (217, u'Reiciendis laboriosam di', 0, 0, 10, 1, 1, 1, 1), (218, u'Delectus ex', 0, 0, 10, 1, 1, 1, 1), (219, u'Pari', 0, 0, 10, 1, 1, 1, 1), (220, u'Veritatis velit facilis iste', 0, 0, 10, 1, 1, 1, 1), (221, u'Dol', 0, 0, 10, 1, 1, 1, 1), (222, u'Qui iste pr', 0, 0, 10, 1, 1, 1, 1), (223, u'Deleni', 0, 0, 10, 1, 1, 1, 1), (224, u'Reprehenderit volu', 0, 0, 10, 1, 1, 1, 1), (225, u'Accusantium vitae n', 0, 0, 10, 1, 1, 1, 1), (226, u'Natus consequatur incidun', 0, 0, 10, 1, 1, 1, 1), (227, u'Dignissimos a', 0, 0, 10, 1, 1, 1, 1), (228, u'Vitae modi', 0, 0, 10, 1, 1, 1, 1), (229, u'Accusantium qu', 0, 0, 10, 1, 1, 1, 1), (230, u'Reiciendis dignissimos ratio', 0, 0, 10, 1, 1, 1, 1), (231, u'Expedita provident natus volup', 0, 0, 10, 1, 1, 1, 1), (232, u'Rerum repellat voluptas c', 0, 0, 10, 1, 1, 1, 1), (233, u'Maiores quos incidunt dolor', 0, 0, 10, 1, 1, 1, 1), (234, u'Aper', 0, 0, 10, 1, 1, 1, 1), (235, u'Nulla', 0, 0, 10, 1, 1, 1, 1), (236, u'Laudantium tempora itaque', 0, 0, 10, 1, 1, 1, 1), (237, u'Reprehenderit', 0, 0, 10, 1, 1, 1, 1), (238, u'Aliqu', 0, 0, 10, 1, 1, 1, 1), (239, u'Odio harum nam mole', 0, 0, 10, 1, 1, 1, 1), (240, u'Arc', 0, 0, 10, 1, 1, 1, 1), (241, u'Reprehenderit li', 0, 0, 10, 1, 1, 1, 1), (242, u'Repr', 0, 0, 10, 1, 1, 1, 1), (243, u'Optio m', 0, 0, 10, 1, 1, 1, 1), (244, u'Esse odit amet rep', 0, 0, 10, 1, 1, 1, 1), (245, u'Provident nostrum minima', 0, 0, 10, 1, 1, 1, 1), (246, u'Ex nihil quae facilis a omni', 0, 0, 10, 1, 1, 1, 1), (247, u'Dolorem quaerat sunt', 0, 0, 10, 1, 1, 1, 1), (248, u'Distinctio', 0, 0, 10, 1, 1, 1, 1), (249, u'Repudiandae ip', 0, 0, 10, 1, 1, 1, 1), (250, u'Iste debitis dolorum amet m', 0, 0, 10, 1, 1, 1, 1), (251, u'Non qui vo', 0, 0, 10, 1, 1, 1, 1), (252, u'Dolorem ma', 0, 0, 10, 1, 1, 1, 1), (253, u'Molestias labore tempore ita', 0, 0, 10, 1, 1, 1, 1), (254, u'Vol', 0, 0, 10, 1, 1, 1, 1), (255, u'Adipisci molest', 0, 0, 10, 1, 1, 1, 1), (256, u'Omni', 0, 0, 10, 1, 1, 1, 1), (257, u'Voluptatibus dolor', 0, 0, 10, 1, 1, 1, 1), (258, u'Quo', 0, 0, 10, 1, 1, 1, 1), (259, u'Atque aspernatur possi', 0, 0, 10, 1, 1, 1, 1), (260, u'Ullam c', 0, 0, 10, 1, 1, 1, 1), (261, u'Iusto quas voluptatibu', 0, 0, 10, 1, 1, 1, 1), (262, u'Optio qui sunt dolores, ab', 0, 0, 10, 1, 1, 1, 1), (263, u'Illum recusandae nulla re', 0, 0, 10, 1, 1, 1, 1), (264, u'Verita', 0, 0, 10, 1, 1, 1, 1), (265, u'Expedita quod blanditiis', 0, 0, 10, 1, 1, 1, 1), (266, u'Mag', 0, 0, 10, 1, 1, 1, 1), (267, u'Omnis quos aspernatur d', 0, 0, 10, 1, 1, 1, 1), (268, u'Sunt impedit co', 0, 0, 10, 1, 1, 1, 1), (269, u'Minima quam ea ad', 0, 0, 10, 1, 1, 1, 1), (270, u'Suscipit quidem e', 0, 0, 10, 1, 1, 1, 1), (271, u'Harum', 0, 0, 10, 1, 1, 1, 1), (272, u'Dolore laborum ips', 0, 0, 10, 1, 1, 1, 1), (273, u'Magni veniam earum corporis', 0, 0, 10, 1, 1, 1, 1), (274, u'Optio', 0, 0, 10, 1, 1, 1, 1), (275, u'Nam fugit vel.', 0, 0, 10, 1, 1, 1, 1), (276, u'Ut numquam quam eum, alias ius', 0, 0, 10, 1, 1, 1, 1), (277, u'Error amet tempore nulla', 0, 0, 10, 1, 1, 1, 1), (278, u'Deserunt a', 0, 0, 10, 1, 1, 1, 1), (279, u'Aperiam sit', 0, 0, 10, 1, 1, 1, 1), (280, u'Asperi', 0, 0, 10, 1, 1, 1, 1), (281, u'Similique aperiam earum expli', 0, 0, 10, 1, 1, 1, 1), (282, u'Iure h', 0, 0, 10, 1, 1, 1, 1), (283, u'At sint ducimus nostrum i', 0, 0, 10, 1, 1, 1, 1), (284, u'Reprehenderit temporib', 0, 0, 10, 1, 1, 1, 1), (285, u'Molestiae quaerat maxim', 0, 0, 10, 1, 1, 1, 1), (286, u'Maior', 0, 0, 10, 1, 1, 1, 1), (287, u'Unde natus ut ipsa cupi', 0, 0, 10, 1, 1, 1, 1), (288, u'Praesentium atque ear', 0, 0, 10, 1, 1, 1, 1), (289, u'Rem minima', 0, 0, 10, 1, 1, 1, 1), (290, u'Provident sed soluta, sed si', 0, 0, 10, 1, 1, 1, 1), (291, u'Natus quia veritatis', 0, 0, 10, 1, 1, 1, 1), (292, u'Vero a', 0, 0, 10, 1, 1, 1, 1), (293, u'Optio harum labori', 0, 0, 10, 1, 1, 1, 1), (294, u'Duci', 0, 0, 10, 1, 1, 1, 1), (295, u'Ipsa elige', 0, 0, 10, 1, 1, 1, 1), (296, u'Sunt blanditiis i', 0, 0, 10, 1, 1, 1, 1), (297, u'Doloremque', 0, 0, 10, 1, 1, 1, 1), (298, u'Autem ratione vitae quos, do', 0, 0, 10, 1, 1, 1, 1), (299, u'Voluptatibus aliquid', 0, 0, 10, 1, 1, 1, 1), (300, u'Quaerat sequi sit eius corpori', 0, 0, 10, 1, 1, 1, 1), (301, u'Libe', 0, 0, 10, 1, 1, 1, 1), (302, u'Aliquam n', 0, 0, 10, 1, 1, 1, 1)]\n"
     ]
    }
   ],
   "source": [
    "print(characters)"
   ]
  },
  {
   "cell_type": "code",
   "execution_count": 8,
   "metadata": {},
   "outputs": [
    {
     "name": "stdout",
     "output_type": "stream",
     "text": [
      "(1, u'Aliquid iste optio reiciendi', 0, 0, 10, 1, 1, 1, 1)\n",
      "(2, u'Optio dolorem ex a', 0, 0, 10, 1, 1, 1, 1)\n",
      "(3, u'Minus c', 0, 0, 10, 1, 1, 1, 1)\n",
      "(4, u'Sit ut repr', 0, 0, 10, 1, 1, 1, 1)\n",
      "(5, u'At id recusandae expl', 0, 0, 10, 1, 1, 1, 1)\n",
      "(6, u'Non nobis et of', 0, 0, 10, 1, 1, 1, 1)\n",
      "(7, u'Perferendis', 0, 0, 10, 1, 1, 1, 1)\n",
      "(8, u'Accusantium amet quidem eve', 0, 0, 10, 1, 1, 1, 1)\n",
      "(9, u'Sed nostrum inventore error m', 0, 0, 10, 1, 1, 1, 1)\n",
      "(10, u'Harum repellendus omnis od', 0, 0, 10, 1, 1, 1, 1)\n",
      "(11, u'Itaque ut commodi,', 0, 0, 10, 1, 1, 1, 1)\n",
      "(12, u'Molestiae quis', 0, 0, 10, 1, 1, 1, 1)\n",
      "(13, u'Ali', 0, 0, 10, 1, 1, 1, 1)\n",
      "(14, u'Tempora quod optio possimus il', 0, 0, 10, 1, 1, 1, 1)\n",
      "(15, u'Sed itaque beatae pari', 0, 0, 10, 1, 1, 1, 1)\n",
      "(16, u'Quam dolor', 0, 0, 10, 1, 1, 1, 1)\n",
      "(17, u'Molestias expedita', 0, 0, 10, 1, 1, 1, 1)\n",
      "(18, u'Lauda', 0, 0, 10, 1, 1, 1, 1)\n",
      "(19, u'Incidunt sint perferen', 0, 0, 10, 1, 1, 1, 1)\n",
      "(20, u'Laboriosa', 0, 0, 10, 1, 1, 1, 1)\n",
      "(21, u'Dolore esse nesciunt fugit com', 0, 0, 10, 1, 1, 1, 1)\n",
      "(22, u'Dolorum nam reic', 0, 0, 10, 1, 1, 1, 1)\n",
      "(23, u'Repellat ad numquam volu', 0, 0, 10, 1, 1, 1, 1)\n",
      "(24, u'Facere enim velit eligend', 0, 0, 10, 1, 1, 1, 1)\n",
      "(25, u'Sed ratione quis rep', 0, 0, 10, 1, 1, 1, 1)\n",
      "(26, u'Doloribus neque', 0, 0, 10, 1, 1, 1, 1)\n",
      "(27, u'Ab voluptas se', 0, 0, 10, 1, 1, 1, 1)\n",
      "(28, u'Molestias m', 0, 0, 10, 1, 1, 1, 1)\n",
      "(29, u'In pariatur corpori', 0, 0, 10, 1, 1, 1, 1)\n",
      "(30, u'Possimus ad dignissimos vel, a', 0, 0, 10, 1, 1, 1, 1)\n",
      "(31, u'At minus accusa', 0, 0, 10, 1, 1, 1, 1)\n",
      "(32, u'Ad necess', 0, 0, 10, 1, 1, 1, 1)\n",
      "(33, u'Expedita c', 0, 0, 10, 1, 1, 1, 1)\n",
      "(34, u'Voluptates sunt voluptas volu', 0, 0, 10, 1, 1, 1, 1)\n",
      "(35, u'Autem mollitia fuga lauda', 0, 0, 10, 1, 1, 1, 1)\n",
      "(36, u'Sint quibusdam ob', 0, 0, 10, 1, 1, 1, 1)\n",
      "(37, u'Rerum et o', 0, 0, 10, 1, 1, 1, 1)\n",
      "(38, u'Doloribus dolore r', 0, 0, 10, 1, 1, 1, 1)\n",
      "(39, u'Eaque su', 0, 0, 10, 1, 1, 1, 1)\n",
      "(40, u'Vel molestias numqua', 0, 0, 10, 1, 1, 1, 1)\n",
      "(41, u'Iste assumenda repellat q', 0, 0, 10, 1, 1, 1, 1)\n",
      "(42, u'Animi labo', 0, 0, 10, 1, 1, 1, 1)\n",
      "(43, u'Eum culpa eaque ea omn', 0, 0, 10, 1, 1, 1, 1)\n",
      "(44, u'Harum provident vel quam', 0, 0, 10, 1, 1, 1, 1)\n",
      "(45, u'Aspe', 0, 0, 10, 1, 1, 1, 1)\n",
      "(46, u'Nisi nequ', 0, 0, 10, 1, 1, 1, 1)\n",
      "(47, u'Quod tempora', 0, 0, 10, 1, 1, 1, 1)\n",
      "(48, u'Porro aliq', 0, 0, 10, 1, 1, 1, 1)\n",
      "(49, u'Quas', 0, 0, 10, 1, 1, 1, 1)\n",
      "(50, u'Magnam eligendi quia animi', 0, 0, 10, 1, 1, 1, 1)\n",
      "(51, u'Officiis se', 0, 0, 10, 1, 1, 1, 1)\n",
      "(52, u'Id assumend', 0, 0, 10, 1, 1, 1, 1)\n",
      "(53, u'Voluptatibus fu', 0, 0, 10, 1, 1, 1, 1)\n",
      "(54, u'Odit rat', 0, 0, 10, 1, 1, 1, 1)\n",
      "(55, u'Debit', 0, 0, 10, 1, 1, 1, 1)\n",
      "(56, u'Cum aut quas repudia', 0, 0, 10, 1, 1, 1, 1)\n",
      "(57, u'Deleniti qui quae quidem', 0, 0, 10, 1, 1, 1, 1)\n",
      "(58, u'Adipisci voluptas', 0, 0, 10, 1, 1, 1, 1)\n",
      "(59, u'Debitis sit ratione eos nam', 0, 0, 10, 1, 1, 1, 1)\n",
      "(60, u'Esse illo molestias archi', 0, 0, 10, 1, 1, 1, 1)\n",
      "(61, u'Sunt at itaque voluptatum d', 0, 0, 10, 1, 1, 1, 1)\n",
      "(62, u'Est totam', 0, 0, 10, 1, 1, 1, 1)\n",
      "(63, u'Reprehenderit commodi eius', 0, 0, 10, 1, 1, 1, 1)\n",
      "(64, u'Debit', 0, 0, 10, 1, 1, 1, 1)\n",
      "(65, u'Soluta dol', 0, 0, 10, 1, 1, 1, 1)\n",
      "(66, u'Vel nesc', 0, 0, 10, 1, 1, 1, 1)\n",
      "(67, u'Ratione quia ali', 0, 0, 10, 1, 1, 1, 1)\n",
      "(68, u'Rerum recusandae minima', 0, 0, 10, 1, 1, 1, 1)\n",
      "(69, u'Totam natus eius fugiat volu', 0, 0, 10, 1, 1, 1, 1)\n",
      "(70, u'Perferendis commodi null', 0, 0, 10, 1, 1, 1, 1)\n",
      "(71, u'Laudantiu', 0, 0, 10, 1, 1, 1, 1)\n",
      "(72, u'Voluptat', 0, 0, 10, 1, 1, 1, 1)\n",
      "(73, u'Incidunt nesciun', 0, 0, 10, 1, 1, 1, 1)\n",
      "(74, u'Illum amet vero', 0, 0, 10, 1, 1, 1, 1)\n",
      "(75, u'Suscipit exercitationem re', 0, 0, 10, 1, 1, 1, 1)\n",
      "(76, u'Quas enim error maxime nisi m', 0, 0, 10, 1, 1, 1, 1)\n",
      "(77, u'Labore qu', 0, 0, 10, 1, 1, 1, 1)\n",
      "(78, u'Repudiandae deleniti unde', 0, 0, 10, 1, 1, 1, 1)\n",
      "(79, u'Ut do', 0, 0, 10, 1, 1, 1, 1)\n",
      "(80, u'Quaerat esse labore q', 0, 0, 10, 1, 1, 1, 1)\n",
      "(81, u'Quidem aliq', 0, 0, 10, 1, 1, 1, 1)\n",
      "(82, u'Aperiam vitae eos dolor sed', 0, 0, 10, 1, 1, 1, 1)\n",
      "(83, u'Minus nobis porro', 0, 0, 10, 1, 1, 1, 1)\n",
      "(84, u'In similique', 0, 0, 10, 1, 1, 1, 1)\n",
      "(85, u'Culpa repellat unde', 0, 0, 10, 1, 1, 1, 1)\n",
      "(86, u'Architecto i', 0, 0, 10, 1, 1, 1, 1)\n",
      "(87, u'A sed pariatur qua', 0, 0, 10, 1, 1, 1, 1)\n",
      "(88, u'Tempore assumenda aperiam', 0, 0, 10, 1, 1, 1, 1)\n",
      "(89, u'Sed ullam tempora iusto co', 0, 0, 10, 1, 1, 1, 1)\n",
      "(90, u'Ipsa', 0, 0, 10, 1, 1, 1, 1)\n",
      "(91, u'Fugiat incidun', 0, 0, 10, 1, 1, 1, 1)\n",
      "(92, u'Molestiae of', 0, 0, 10, 1, 1, 1, 1)\n",
      "(93, u'Quae quisquam cons', 0, 0, 10, 1, 1, 1, 1)\n",
      "(94, u'Repellendus ea non facil', 0, 0, 10, 1, 1, 1, 1)\n",
      "(95, u'Quod non quibu', 0, 0, 10, 1, 1, 1, 1)\n",
      "(96, u'Numquam velit distinctio', 0, 0, 10, 1, 1, 1, 1)\n",
      "(97, u'Necessitatibus nihil ex debi', 0, 0, 10, 1, 1, 1, 1)\n",
      "(98, u'Velit tempore nemo, na', 0, 0, 10, 1, 1, 1, 1)\n",
      "(99, u'Nesciunt v', 0, 0, 10, 1, 1, 1, 1)\n",
      "(100, u'Dicta enim debitis accusantiu', 0, 0, 10, 1, 1, 1, 1)\n",
      "(101, u'Vitae a', 0, 0, 10, 1, 1, 1, 1)\n",
      "(102, u'Praesentium voluptas u', 0, 0, 10, 1, 1, 1, 1)\n",
      "(103, u'Unde ullam mollitia? Nu', 0, 0, 10, 1, 1, 1, 1)\n",
      "(104, u'Neque molestias qu', 0, 0, 10, 1, 1, 1, 1)\n",
      "(105, u'Officiis es', 0, 0, 10, 1, 1, 1, 1)\n",
      "(106, u'Beatae mi', 0, 0, 10, 1, 1, 1, 1)\n",
      "(107, u'Mollitia nam corporis temp', 0, 0, 10, 1, 1, 1, 1)\n",
      "(108, u'Repudiandae repellat i', 0, 0, 10, 1, 1, 1, 1)\n",
      "(109, u'Laboriosam', 0, 0, 10, 1, 1, 1, 1)\n",
      "(110, u'Nam minus amet', 0, 0, 10, 1, 1, 1, 1)\n",
      "(111, u'Harum quae volup', 0, 0, 10, 1, 1, 1, 1)\n",
      "(112, u'Impedit facere ulla', 0, 0, 10, 1, 1, 1, 1)\n",
      "(113, u'Enim', 0, 0, 10, 1, 1, 1, 1)\n",
      "(114, u'Dolore magni', 0, 0, 10, 1, 1, 1, 1)\n",
      "(115, u'Eaque at corpori', 0, 0, 10, 1, 1, 1, 1)\n",
      "(116, u'Fug', 0, 0, 10, 1, 1, 1, 1)\n",
      "(117, u'Dolorum laudanti', 0, 0, 10, 1, 1, 1, 1)\n",
      "(118, u'Perferendis nat', 0, 0, 10, 1, 1, 1, 1)\n",
      "(119, u'Cupidi', 0, 0, 10, 1, 1, 1, 1)\n",
      "(120, u'Commodi eius dicta digniss', 0, 0, 10, 1, 1, 1, 1)\n",
      "(121, u'Debitis eu', 0, 0, 10, 1, 1, 1, 1)\n",
      "(122, u'Nihil repella', 0, 0, 10, 1, 1, 1, 1)\n",
      "(123, u'Rem quasi minima hic sed anim', 0, 0, 10, 1, 1, 1, 1)\n",
      "(124, u'Sed ali', 0, 0, 10, 1, 1, 1, 1)\n",
      "(125, u'Earum vol', 0, 0, 10, 1, 1, 1, 1)\n",
      "(126, u'Inventore tempore com', 0, 0, 10, 1, 1, 1, 1)\n",
      "(127, u'Repell', 0, 0, 10, 1, 1, 1, 1)\n",
      "(128, u'Consequatur quis recusandae qu', 0, 0, 10, 1, 1, 1, 1)\n",
      "(129, u'Dolores ea velit mi', 0, 0, 10, 1, 1, 1, 1)\n",
      "(130, u'Atque blanditiis a aperiam', 0, 0, 10, 1, 1, 1, 1)\n",
      "(131, u'Reprehenderit sequi iu', 0, 0, 10, 1, 1, 1, 1)\n",
      "(132, u'Natus architecto eos, hic blan', 0, 0, 10, 1, 1, 1, 1)\n",
      "(133, u'Ipsa illo quas', 0, 0, 10, 1, 1, 1, 1)\n",
      "(134, u'Voluptas ali', 0, 0, 10, 1, 1, 1, 1)\n",
      "(135, u'Voluptates obcaecati quod e', 0, 0, 10, 1, 1, 1, 1)\n",
      "(136, u'Dolor adipisci a voluptate', 0, 0, 10, 1, 1, 1, 1)\n",
      "(137, u'Repellendus natus quae, n', 0, 0, 10, 1, 1, 1, 1)\n",
      "(138, u'Laudantium earum nam in dol', 0, 0, 10, 1, 1, 1, 1)\n",
      "(139, u'Molestias face', 0, 0, 10, 1, 1, 1, 1)\n",
      "(140, u'Maiores suscipit exc', 0, 0, 10, 1, 1, 1, 1)\n",
      "(141, u'Illum dolore perferen', 0, 0, 10, 1, 1, 1, 1)\n",
      "(142, u'Explicabo recusandae ma', 0, 0, 10, 1, 1, 1, 1)\n",
      "(143, u'Odio obcaecati hic nostrum n', 0, 0, 10, 1, 1, 1, 1)\n",
      "(144, u'Voluptate ali', 0, 0, 10, 1, 1, 1, 1)\n",
      "(145, u'Repudiandae vitae sapiente mol', 0, 0, 10, 1, 1, 1, 1)\n",
      "(146, u'Ipsam cumque', 0, 0, 10, 1, 1, 1, 1)\n",
      "(147, u'Fugiat quos alias eos dese', 0, 0, 10, 1, 1, 1, 1)\n",
      "(148, u'Eaque impe', 0, 0, 10, 1, 1, 1, 1)\n",
      "(149, u'Elige', 0, 0, 10, 1, 1, 1, 1)\n",
      "(150, u'Adip', 0, 0, 10, 1, 1, 1, 1)\n",
      "(151, u'Fuga nemo vel mo', 0, 0, 10, 1, 1, 1, 1)\n",
      "(152, u'Libero cumque impedit eveniet', 0, 0, 10, 1, 1, 1, 1)\n",
      "(153, u'Odio soluta', 0, 0, 10, 1, 1, 1, 1)\n",
      "(154, u'Vero nostrum duc', 0, 0, 10, 1, 1, 1, 1)\n",
      "(155, u'Repellend', 0, 0, 10, 1, 1, 1, 1)\n",
      "(156, u'Quod', 0, 0, 10, 1, 1, 1, 1)\n",
      "(157, u'Suscipit reiciend', 0, 0, 10, 1, 1, 1, 1)\n",
      "(158, u'Voluptat', 0, 0, 10, 1, 1, 1, 1)\n",
      "(159, u'Porro dolor fuga quam', 0, 0, 10, 1, 1, 1, 1)\n",
      "(160, u'Amet quo fugit aliquam sequi', 0, 0, 10, 1, 1, 1, 1)\n",
      "(161, u'Magni adipisci veritatis sit q', 0, 0, 10, 1, 1, 1, 1)\n",
      "(162, u'Debitis enim cumque cum qu', 0, 0, 10, 1, 1, 1, 1)\n",
      "(163, u'Dolorem eligend', 0, 0, 10, 1, 1, 1, 1)\n",
      "(164, u'Autem lib', 0, 0, 10, 1, 1, 1, 1)\n",
      "(165, u'Saepe assumenda perferendis f', 0, 0, 10, 1, 1, 1, 1)\n",
      "(166, u'Deserunt', 0, 0, 10, 1, 1, 1, 1)\n",
      "(167, u'Provident soluta simil', 0, 0, 10, 1, 1, 1, 1)\n",
      "(168, u'In accu', 0, 0, 10, 1, 1, 1, 1)\n",
      "(169, u'Inve', 0, 0, 10, 1, 1, 1, 1)\n",
      "(170, u'Placeat sapiente', 0, 0, 10, 1, 1, 1, 1)\n",
      "(171, u'Ducimus architecto ullam', 0, 0, 10, 1, 1, 1, 1)\n",
      "(172, u'Voluptate tempora rerum', 0, 0, 10, 1, 1, 1, 1)\n",
      "(173, u'Totam incidunt earum perspicia', 0, 0, 10, 1, 1, 1, 1)\n",
      "(174, u'Optio quas e', 0, 0, 10, 1, 1, 1, 1)\n",
      "(175, u'Ab illum invento', 0, 0, 10, 1, 1, 1, 1)\n",
      "(176, u'Repellat quis natus totam, s', 0, 0, 10, 1, 1, 1, 1)\n",
      "(177, u'Est voluptate accusantium tem', 0, 0, 10, 1, 1, 1, 1)\n",
      "(178, u'Beatae q', 0, 0, 10, 1, 1, 1, 1)\n",
      "(179, u'Velit', 0, 0, 10, 1, 1, 1, 1)\n",
      "(180, u'Minus nequ', 0, 0, 10, 1, 1, 1, 1)\n",
      "(181, u'Autem eos voluptates off', 0, 0, 10, 1, 1, 1, 1)\n",
      "(182, u'Vel fug', 0, 0, 10, 1, 1, 1, 1)\n",
      "(183, u'Architecto repudian', 0, 0, 10, 1, 1, 1, 1)\n",
      "(184, u'Opti', 0, 0, 10, 1, 1, 1, 1)\n",
      "(185, u'Iust', 0, 0, 10, 1, 1, 1, 1)\n",
      "(186, u'Sapiente', 0, 0, 10, 1, 1, 1, 1)\n",
      "(187, u'Officiis repellat corrupti su', 0, 0, 10, 1, 1, 1, 1)\n",
      "(188, u'Dicta et natus e', 0, 0, 10, 1, 1, 1, 1)\n",
      "(189, u'At quos', 0, 0, 10, 1, 1, 1, 1)\n",
      "(190, u'Laborum ven', 0, 0, 10, 1, 1, 1, 1)\n",
      "(191, u'Exceptur', 0, 0, 10, 1, 1, 1, 1)\n",
      "(192, u'Reiciendis assumenda dolo', 0, 0, 10, 1, 1, 1, 1)\n",
      "(193, u'Poss', 0, 0, 10, 1, 1, 1, 1)\n",
      "(194, u'Acc', 0, 0, 10, 1, 1, 1, 1)\n",
      "(195, u'Placeat esse archit', 0, 0, 10, 1, 1, 1, 1)\n",
      "(196, u'Enim repellendus nihil est te', 0, 0, 10, 1, 1, 1, 1)\n",
      "(197, u'Ipsam incidunt t', 0, 0, 10, 1, 1, 1, 1)\n",
      "(198, u'Iure', 0, 0, 10, 1, 1, 1, 1)\n",
      "(199, u'Illo en', 0, 0, 10, 1, 1, 1, 1)\n",
      "(200, u'A rem ex', 0, 0, 10, 1, 1, 1, 1)\n",
      "(201, u'Officiis su', 0, 0, 10, 1, 1, 1, 1)\n",
      "(202, u'Numquam molestias', 0, 0, 10, 1, 1, 1, 1)\n",
      "(203, u'Voluptates unde', 0, 0, 10, 1, 1, 1, 1)\n",
      "(204, u'Quae praesentium vel', 0, 0, 10, 1, 1, 1, 1)\n",
      "(205, u'Quas', 0, 0, 10, 1, 1, 1, 1)\n",
      "(206, u'Dolores aliquid inv', 0, 0, 10, 1, 1, 1, 1)\n",
      "(207, u'Mollitia tempore laborum eaqu', 0, 0, 10, 1, 1, 1, 1)\n",
      "(208, u'Nobis voluptates fugiat quia', 0, 0, 10, 1, 1, 1, 1)\n",
      "(209, u'Similique dolorem dolore maio', 0, 0, 10, 1, 1, 1, 1)\n",
      "(210, u'Sapiente', 0, 0, 10, 1, 1, 1, 1)\n",
      "(211, u'Officia nisi dolore', 0, 0, 10, 1, 1, 1, 1)\n",
      "(212, u'Distinctio', 0, 0, 10, 1, 1, 1, 1)\n",
      "(213, u'Eos quia dignissimos saepe vel', 0, 0, 10, 1, 1, 1, 1)\n",
      "(214, u'Ullam neque sint eligendi', 0, 0, 10, 1, 1, 1, 1)\n",
      "(215, u'Excepturi deleniti ab a', 0, 0, 10, 1, 1, 1, 1)\n",
      "(216, u'Accusa', 0, 0, 10, 1, 1, 1, 1)\n",
      "(217, u'Reiciendis laboriosam di', 0, 0, 10, 1, 1, 1, 1)\n",
      "(218, u'Delectus ex', 0, 0, 10, 1, 1, 1, 1)\n",
      "(219, u'Pari', 0, 0, 10, 1, 1, 1, 1)\n",
      "(220, u'Veritatis velit facilis iste', 0, 0, 10, 1, 1, 1, 1)\n",
      "(221, u'Dol', 0, 0, 10, 1, 1, 1, 1)\n",
      "(222, u'Qui iste pr', 0, 0, 10, 1, 1, 1, 1)\n",
      "(223, u'Deleni', 0, 0, 10, 1, 1, 1, 1)\n",
      "(224, u'Reprehenderit volu', 0, 0, 10, 1, 1, 1, 1)\n",
      "(225, u'Accusantium vitae n', 0, 0, 10, 1, 1, 1, 1)\n",
      "(226, u'Natus consequatur incidun', 0, 0, 10, 1, 1, 1, 1)\n",
      "(227, u'Dignissimos a', 0, 0, 10, 1, 1, 1, 1)\n",
      "(228, u'Vitae modi', 0, 0, 10, 1, 1, 1, 1)\n",
      "(229, u'Accusantium qu', 0, 0, 10, 1, 1, 1, 1)\n",
      "(230, u'Reiciendis dignissimos ratio', 0, 0, 10, 1, 1, 1, 1)\n",
      "(231, u'Expedita provident natus volup', 0, 0, 10, 1, 1, 1, 1)\n",
      "(232, u'Rerum repellat voluptas c', 0, 0, 10, 1, 1, 1, 1)\n",
      "(233, u'Maiores quos incidunt dolor', 0, 0, 10, 1, 1, 1, 1)\n",
      "(234, u'Aper', 0, 0, 10, 1, 1, 1, 1)\n",
      "(235, u'Nulla', 0, 0, 10, 1, 1, 1, 1)\n",
      "(236, u'Laudantium tempora itaque', 0, 0, 10, 1, 1, 1, 1)\n",
      "(237, u'Reprehenderit', 0, 0, 10, 1, 1, 1, 1)\n",
      "(238, u'Aliqu', 0, 0, 10, 1, 1, 1, 1)\n",
      "(239, u'Odio harum nam mole', 0, 0, 10, 1, 1, 1, 1)\n",
      "(240, u'Arc', 0, 0, 10, 1, 1, 1, 1)\n",
      "(241, u'Reprehenderit li', 0, 0, 10, 1, 1, 1, 1)\n",
      "(242, u'Repr', 0, 0, 10, 1, 1, 1, 1)\n",
      "(243, u'Optio m', 0, 0, 10, 1, 1, 1, 1)\n",
      "(244, u'Esse odit amet rep', 0, 0, 10, 1, 1, 1, 1)\n",
      "(245, u'Provident nostrum minima', 0, 0, 10, 1, 1, 1, 1)\n",
      "(246, u'Ex nihil quae facilis a omni', 0, 0, 10, 1, 1, 1, 1)\n",
      "(247, u'Dolorem quaerat sunt', 0, 0, 10, 1, 1, 1, 1)\n",
      "(248, u'Distinctio', 0, 0, 10, 1, 1, 1, 1)\n",
      "(249, u'Repudiandae ip', 0, 0, 10, 1, 1, 1, 1)\n",
      "(250, u'Iste debitis dolorum amet m', 0, 0, 10, 1, 1, 1, 1)\n",
      "(251, u'Non qui vo', 0, 0, 10, 1, 1, 1, 1)\n",
      "(252, u'Dolorem ma', 0, 0, 10, 1, 1, 1, 1)\n",
      "(253, u'Molestias labore tempore ita', 0, 0, 10, 1, 1, 1, 1)\n",
      "(254, u'Vol', 0, 0, 10, 1, 1, 1, 1)\n",
      "(255, u'Adipisci molest', 0, 0, 10, 1, 1, 1, 1)\n",
      "(256, u'Omni', 0, 0, 10, 1, 1, 1, 1)\n",
      "(257, u'Voluptatibus dolor', 0, 0, 10, 1, 1, 1, 1)\n",
      "(258, u'Quo', 0, 0, 10, 1, 1, 1, 1)\n",
      "(259, u'Atque aspernatur possi', 0, 0, 10, 1, 1, 1, 1)\n",
      "(260, u'Ullam c', 0, 0, 10, 1, 1, 1, 1)\n",
      "(261, u'Iusto quas voluptatibu', 0, 0, 10, 1, 1, 1, 1)\n",
      "(262, u'Optio qui sunt dolores, ab', 0, 0, 10, 1, 1, 1, 1)\n",
      "(263, u'Illum recusandae nulla re', 0, 0, 10, 1, 1, 1, 1)\n",
      "(264, u'Verita', 0, 0, 10, 1, 1, 1, 1)\n",
      "(265, u'Expedita quod blanditiis', 0, 0, 10, 1, 1, 1, 1)\n",
      "(266, u'Mag', 0, 0, 10, 1, 1, 1, 1)\n",
      "(267, u'Omnis quos aspernatur d', 0, 0, 10, 1, 1, 1, 1)\n",
      "(268, u'Sunt impedit co', 0, 0, 10, 1, 1, 1, 1)\n",
      "(269, u'Minima quam ea ad', 0, 0, 10, 1, 1, 1, 1)\n",
      "(270, u'Suscipit quidem e', 0, 0, 10, 1, 1, 1, 1)\n",
      "(271, u'Harum', 0, 0, 10, 1, 1, 1, 1)\n",
      "(272, u'Dolore laborum ips', 0, 0, 10, 1, 1, 1, 1)\n",
      "(273, u'Magni veniam earum corporis', 0, 0, 10, 1, 1, 1, 1)\n",
      "(274, u'Optio', 0, 0, 10, 1, 1, 1, 1)\n",
      "(275, u'Nam fugit vel.', 0, 0, 10, 1, 1, 1, 1)\n",
      "(276, u'Ut numquam quam eum, alias ius', 0, 0, 10, 1, 1, 1, 1)\n",
      "(277, u'Error amet tempore nulla', 0, 0, 10, 1, 1, 1, 1)\n",
      "(278, u'Deserunt a', 0, 0, 10, 1, 1, 1, 1)\n",
      "(279, u'Aperiam sit', 0, 0, 10, 1, 1, 1, 1)\n",
      "(280, u'Asperi', 0, 0, 10, 1, 1, 1, 1)\n",
      "(281, u'Similique aperiam earum expli', 0, 0, 10, 1, 1, 1, 1)\n",
      "(282, u'Iure h', 0, 0, 10, 1, 1, 1, 1)\n",
      "(283, u'At sint ducimus nostrum i', 0, 0, 10, 1, 1, 1, 1)\n",
      "(284, u'Reprehenderit temporib', 0, 0, 10, 1, 1, 1, 1)\n",
      "(285, u'Molestiae quaerat maxim', 0, 0, 10, 1, 1, 1, 1)\n",
      "(286, u'Maior', 0, 0, 10, 1, 1, 1, 1)\n",
      "(287, u'Unde natus ut ipsa cupi', 0, 0, 10, 1, 1, 1, 1)\n",
      "(288, u'Praesentium atque ear', 0, 0, 10, 1, 1, 1, 1)\n",
      "(289, u'Rem minima', 0, 0, 10, 1, 1, 1, 1)\n",
      "(290, u'Provident sed soluta, sed si', 0, 0, 10, 1, 1, 1, 1)\n",
      "(291, u'Natus quia veritatis', 0, 0, 10, 1, 1, 1, 1)\n",
      "(292, u'Vero a', 0, 0, 10, 1, 1, 1, 1)\n",
      "(293, u'Optio harum labori', 0, 0, 10, 1, 1, 1, 1)\n",
      "(294, u'Duci', 0, 0, 10, 1, 1, 1, 1)\n",
      "(295, u'Ipsa elige', 0, 0, 10, 1, 1, 1, 1)\n",
      "(296, u'Sunt blanditiis i', 0, 0, 10, 1, 1, 1, 1)\n",
      "(297, u'Doloremque', 0, 0, 10, 1, 1, 1, 1)\n",
      "(298, u'Autem ratione vitae quos, do', 0, 0, 10, 1, 1, 1, 1)\n",
      "(299, u'Voluptatibus aliquid', 0, 0, 10, 1, 1, 1, 1)\n",
      "(300, u'Quaerat sequi sit eius corpori', 0, 0, 10, 1, 1, 1, 1)\n",
      "(301, u'Libe', 0, 0, 10, 1, 1, 1, 1)\n",
      "(302, u'Aliquam n', 0, 0, 10, 1, 1, 1, 1)\n"
     ]
    }
   ],
   "source": [
    "# print out all the characters\n",
    "for row in cursor.execute('''SELECT * FROM charactercreator_character'''):\n",
    "    print(row)"
   ]
  },
  {
   "cell_type": "code",
   "execution_count": 10,
   "metadata": {},
   "outputs": [
    {
     "data": {
      "text/plain": [
       "[(302,)]"
      ]
     },
     "execution_count": 10,
     "metadata": {},
     "output_type": "execute_result"
    }
   ],
   "source": [
    "#total characters \n",
    "cursor.execute('''SELECT COUNT(*) FROM charactercreator_character''').fetchall()"
   ]
  },
  {
   "cell_type": "code",
   "execution_count": 11,
   "metadata": {},
   "outputs": [
    {
     "data": {
      "text/plain": [
       "(108,)"
      ]
     },
     "execution_count": 11,
     "metadata": {},
     "output_type": "execute_result"
    }
   ],
   "source": [
    "# number of mages\n",
    "cursor.execute('''SELECT COUNT(*) FROM charactercreator_mage''').fetchone()"
   ]
  },
  {
   "cell_type": "code",
   "execution_count": 12,
   "metadata": {},
   "outputs": [
    {
     "data": {
      "text/plain": [
       "(11,)"
      ]
     },
     "execution_count": 12,
     "metadata": {},
     "output_type": "execute_result"
    }
   ],
   "source": [
    "# number of necromancers \n",
    "cursor.execute('''SELECT COUNT(*) FROM charactercreator_necromancer''').fetchone()"
   ]
  },
  {
   "cell_type": "code",
   "execution_count": 14,
   "metadata": {},
   "outputs": [
    {
     "data": {
      "text/plain": [
       "(51,)"
      ]
     },
     "execution_count": 14,
     "metadata": {},
     "output_type": "execute_result"
    }
   ],
   "source": [
    "# number of theives \n",
    "cursor.execute('''SELECT COUNT(*) FROM charactercreator_thief''').fetchone()"
   ]
  },
  {
   "cell_type": "code",
   "execution_count": 15,
   "metadata": {},
   "outputs": [
    {
     "data": {
      "text/plain": [
       "(68,)"
      ]
     },
     "execution_count": 15,
     "metadata": {},
     "output_type": "execute_result"
    }
   ],
   "source": [
    "# number of fighters\n",
    "cursor.execute('''SELECT COUNT(*) FROM charactercreator_fighter''').fetchone()"
   ]
  },
  {
   "cell_type": "code",
   "execution_count": 16,
   "metadata": {},
   "outputs": [
    {
     "name": "stdout",
     "output_type": "stream",
     "text": [
      "(1, u'Libero facere dolore, as', 0, 0)\n",
      "(2, u'Qui', 0, 0)\n",
      "(3, u'Laborios', 0, 0)\n",
      "(4, u'Quibusdam illo deserunt ea', 0, 0)\n",
      "(5, u'Quod eveniet i', 0, 0)\n",
      "(6, u'Qui odio beata', 0, 0)\n",
      "(7, u'Omnis', 0, 0)\n",
      "(8, u'Saepe ea vo', 0, 0)\n",
      "(9, u'Vel illo sed', 0, 0)\n",
      "(10, u'Pariatur hic iste m', 0, 0)\n",
      "(11, u'Eum illo expedita', 0, 0)\n",
      "(12, u'Laudantium recusand', 0, 0)\n",
      "(13, u'Molesti', 0, 0)\n",
      "(14, u'Veniam fuga n', 0, 0)\n",
      "(15, u'Animi molestias possimus nihil', 0, 0)\n",
      "(16, u'Assu', 0, 0)\n",
      "(17, u'Officiis', 0, 0)\n",
      "(18, u'Consectetur deleniti cupi', 0, 0)\n",
      "(19, u'Explicabo', 0, 0)\n",
      "(20, u'Dolores rem v', 0, 0)\n",
      "(21, u'Sit rerum err', 0, 0)\n",
      "(22, u'Sapiente numquam qu', 0, 0)\n",
      "(23, u'Nam ab illum culpa corporis fu', 0, 0)\n",
      "(24, u'Blanditiis obcaecat', 0, 0)\n",
      "(25, u'Ex', 0, 0)\n",
      "(26, u'Assumenda nam i', 0, 0)\n",
      "(27, u'Distinctio mini', 0, 0)\n",
      "(28, u'Impedit libero id modi eos vol', 0, 0)\n",
      "(29, u'In p', 0, 0)\n",
      "(30, u'Possimus quae elig', 0, 0)\n",
      "(31, u'Vitae nulla praesentium magnam', 0, 0)\n",
      "(32, u'Ipsam placeat e', 0, 0)\n",
      "(33, u'Corporis ani', 0, 0)\n",
      "(34, u'Eius cum quis', 0, 0)\n",
      "(35, u'Suscip', 0, 0)\n",
      "(36, u'Soluta consequatur dolore', 0, 0)\n",
      "(37, u'Perferendis corr', 0, 0)\n",
      "(38, u'Reprehen', 0, 0)\n",
      "(39, u'Eveniet impedi', 0, 0)\n",
      "(40, u'Accusamus reprehenderit beata', 0, 0)\n",
      "(41, u'Beatae do', 0, 0)\n",
      "(42, u'Error maiores nulla', 0, 0)\n",
      "(43, u'Tempore', 0, 0)\n",
      "(44, u'Culpa nemo vol', 0, 0)\n",
      "(45, u'Repellat iusto quam reprehen', 0, 0)\n",
      "(46, u'Exp', 0, 0)\n",
      "(47, u'Animi dolor at est', 0, 0)\n",
      "(48, u'Labore a consecte', 0, 0)\n",
      "(49, u'Sed quo corpor', 0, 0)\n",
      "(50, u'Officia asperiores obcaecati d', 0, 0)\n",
      "(51, u'Ipsam', 0, 0)\n",
      "(52, u'Molestiae veniam', 0, 0)\n",
      "(53, u'Perferendis repudiandae labo', 0, 0)\n",
      "(54, u'Similique totam quasi ipsa ex', 0, 0)\n",
      "(55, u'Velit voluptatem', 0, 0)\n",
      "(56, u'Harum voluptatum ius', 0, 0)\n",
      "(57, u'Ex libero soluta', 0, 0)\n",
      "(58, u'Quos re', 0, 0)\n",
      "(59, u'Deleniti quas explica', 0, 0)\n",
      "(60, u'Porro molliti', 0, 0)\n",
      "(61, u'Enim laboriosam quae', 0, 0)\n",
      "(62, u'Natus rem repellat quas assum', 0, 0)\n",
      "(63, u'Quasi re', 0, 0)\n",
      "(64, u'Laudantium c', 0, 0)\n",
      "(65, u'Quos blanditiis nost', 0, 0)\n",
      "(66, u'Quisquam ut cupiditate', 0, 0)\n",
      "(67, u'Eaque nemo velit nece', 0, 0)\n",
      "(68, u'Repudiandae', 0, 0)\n",
      "(69, u'Minus illum vo', 0, 0)\n",
      "(70, u'Minus repell', 0, 0)\n",
      "(71, u'Quia quasi labo', 0, 0)\n",
      "(72, u'Eligendi fuga mol', 0, 0)\n",
      "(73, u'Beatae ita', 0, 0)\n",
      "(74, u'Quo sunt laudantium al', 0, 0)\n",
      "(75, u'Ist', 0, 0)\n",
      "(76, u'Voluptatem laborum dicta cum', 0, 0)\n",
      "(77, u'Corporis obcaecati ven', 0, 0)\n",
      "(78, u'Neque quae eum dign', 0, 0)\n",
      "(79, u'Dolorem quam neque, amet cum e', 0, 0)\n",
      "(80, u'Rem expedit', 0, 0)\n",
      "(81, u'Est sapiente iusto minus quam', 0, 0)\n",
      "(82, u'Atque laudantium dolor q', 0, 0)\n",
      "(83, u'Accusan', 0, 0)\n",
      "(84, u'Consectetur error o', 0, 0)\n",
      "(85, u'Alias laboriosam sapiente e', 0, 0)\n",
      "(86, u'Doloribus animi perspiciatis', 0, 0)\n",
      "(87, u'Hic possimus qua', 0, 0)\n",
      "(88, u'Unde quaerat tenetur', 0, 0)\n",
      "(89, u'Facere reprehenderit v', 0, 0)\n",
      "(90, u'Aperiam consequuntu', 0, 0)\n",
      "(91, u'Quis expedita ip', 0, 0)\n",
      "(92, u'Ea vel deserunt aspernat', 0, 0)\n",
      "(93, u'Natus', 0, 0)\n",
      "(94, u'Optio iusto laboriosam te', 0, 0)\n",
      "(95, u'Laborios', 0, 0)\n",
      "(96, u'Commodi deserunt in illo', 0, 0)\n",
      "(97, u'Ad numquam dicta cons', 0, 0)\n",
      "(98, u'Aliquid aliquam velit reru', 0, 0)\n",
      "(99, u'Facere q', 0, 0)\n",
      "(100, u'Incidunt libero assumen', 0, 0)\n",
      "(101, u'Earum suscipit ea voluptates i', 0, 0)\n",
      "(102, u'Sint dolorum', 0, 0)\n",
      "(103, u'Incidunt fugiat ea, ea', 0, 0)\n",
      "(104, u'Molestiae r', 0, 0)\n",
      "(105, u'Voluptatem labore laboriosa', 0, 0)\n",
      "(106, u'Et ducimus cumque aut perspic', 0, 0)\n",
      "(107, u'Corrupti ap', 0, 0)\n",
      "(108, u'Perferendis nesciunt quae dolo', 0, 0)\n",
      "(109, u'Sunt doloremque recusanda', 0, 0)\n",
      "(110, u'Deleniti similique obc', 0, 0)\n",
      "(111, u'Numquam tempor', 0, 0)\n",
      "(112, u'Quibusdam deleniti quasi provi', 0, 0)\n",
      "(113, u'Accusamus exercitat', 0, 0)\n",
      "(114, u'Error eveniet ipsum, expedi', 0, 0)\n",
      "(115, u'Sapiente do', 0, 0)\n",
      "(116, u'Fuga necessitatibus', 0, 0)\n",
      "(117, u'Nam excepturi placeat asperna', 0, 0)\n",
      "(118, u'Dolore fugit itaq', 0, 0)\n",
      "(119, u'Beatae ve', 0, 0)\n",
      "(120, u'Blanditiis corporis exerci', 0, 0)\n",
      "(121, u'Nesciunt quia nobi', 0, 0)\n",
      "(122, u'Quisquam e', 0, 0)\n",
      "(123, u'Illo q', 0, 0)\n",
      "(124, u'Repellat voluptates ea,', 0, 0)\n",
      "(125, u'Labore architecto tempora d', 0, 0)\n",
      "(126, u'Porro impedit enim earum nam n', 0, 0)\n",
      "(127, u'Evenie', 0, 0)\n",
      "(128, u'Similique do', 0, 0)\n",
      "(129, u'Quos voluptates at n', 0, 0)\n",
      "(130, u'Neq', 0, 0)\n",
      "(131, u'Neq', 0, 0)\n",
      "(132, u'Optio dolore itaque', 0, 0)\n",
      "(133, u'Libero saepe accusantium', 0, 0)\n",
      "(134, u'Illum nequ', 0, 0)\n",
      "(135, u'Culpa accusantium fugit id', 0, 0)\n",
      "(136, u'Fugit pariatur vero nesciu', 0, 0)\n",
      "(137, u'Numqu', 0, 0)\n",
      "(138, u'Corrupti sit at cum', 0, 0)\n",
      "(139, u'Est fugit incidunt co', 0, 0)\n",
      "(140, u'Quos nihil quibusdam', 0, 0)\n",
      "(141, u'Sit quidem tempora doloribus r', 0, 0)\n",
      "(142, u'Amet vel distinctio mo', 0, 0)\n",
      "(143, u'Illum eaque atque recusand', 0, 0)\n",
      "(144, u'Dignissi', 0, 0)\n",
      "(145, u'Corporis fug', 0, 0)\n",
      "(146, u'Sequi nesciunt', 0, 0)\n",
      "(147, u'Facere neque qu', 0, 0)\n",
      "(148, u'Corporis voluptas provi', 0, 0)\n",
      "(149, u'Repella', 0, 0)\n",
      "(150, u'Culpa cumque quo vel', 0, 0)\n",
      "(151, u'Magni totam q', 0, 0)\n",
      "(152, u'Illu', 0, 0)\n",
      "(153, u'Sit quibusdam ab, enim in ex', 0, 0)\n",
      "(154, u'Consequuntur at earum d', 0, 0)\n",
      "(155, u'Voluptatum doloremque to', 0, 0)\n",
      "(156, u'Expedita nam est in l', 0, 0)\n",
      "(157, u'Repelle', 0, 0)\n",
      "(158, u'Sit numqu', 0, 0)\n",
      "(159, u'Ipsum sit praesentium cum ame', 0, 0)\n",
      "(160, u'Totam delectus sed fugiat o', 0, 0)\n",
      "(161, u'Doloremq', 0, 0)\n",
      "(162, u'Id reprehenderit ullam rat', 0, 0)\n",
      "(163, u'Dignissimos dolo', 0, 0)\n",
      "(164, u'Inventore re', 0, 0)\n",
      "(165, u'Nemo expl', 0, 0)\n",
      "(166, u'Distinctio tene', 0, 0)\n",
      "(167, u'Recusandae fug', 0, 0)\n",
      "(168, u'Officiis illo cum acc', 0, 0)\n",
      "(169, u'Repudiandae molestias be', 0, 0)\n",
      "(170, u'Iure nob', 0, 0)\n",
      "(171, u'Ea dolor exercitation', 0, 0)\n",
      "(172, u'Omnis maxime deserunt', 0, 0)\n",
      "(173, u'Eum error eveni', 0, 0)\n",
      "(174, u'Atque repudiandae molestiae v', 0, 0)\n"
     ]
    }
   ],
   "source": [
    "for row in cursor.execute('''SELECT * FROM armory_item'''):\n",
    "    print(row)"
   ]
  },
  {
   "cell_type": "code",
   "execution_count": 17,
   "metadata": {},
   "outputs": [
    {
     "data": {
      "text/plain": [
       "(174,)"
      ]
     },
     "execution_count": 17,
     "metadata": {},
     "output_type": "execute_result"
    }
   ],
   "source": [
    "# total number of items\n",
    "cursor.execute('''SELECT COUNT(*) FROM armory_item''').fetchone()"
   ]
  },
  {
   "cell_type": "code",
   "execution_count": 18,
   "metadata": {},
   "outputs": [
    {
     "data": {
      "text/plain": [
       "(37,)"
      ]
     },
     "execution_count": 18,
     "metadata": {},
     "output_type": "execute_result"
    }
   ],
   "source": [
    "# weapon items\n",
    "cursor.execute('''SELECT COUNT(*) FROM armory_weapon''').fetchone()"
   ]
  },
  {
   "cell_type": "code",
   "execution_count": 19,
   "metadata": {},
   "outputs": [
    {
     "data": {
      "text/plain": [
       "137"
      ]
     },
     "execution_count": 19,
     "metadata": {},
     "output_type": "execute_result"
    }
   ],
   "source": [
    "# not weapons\n",
    "174-37"
   ]
  },
  {
   "cell_type": "code",
   "execution_count": 23,
   "metadata": {},
   "outputs": [
    {
     "name": "stdout",
     "output_type": "stream",
     "text": [
      "[(1, 3), (2, 3), (3, 2), (4, 4), (5, 4), (6, 1), (7, 5), (8, 3), (9, 4), (10, 4), (11, 3), (12, 3), (13, 4), (14, 4), (15, 4), (16, 1), (17, 5), (18, 5), (19, 3), (20, 1)]\n"
     ]
    }
   ],
   "source": [
    "#number of items per character\n",
    "items = cursor.execute('''SELECT character_id,\n",
    "        count(charactercreator_character_inventory.item_id) as items\n",
    "        FROM charactercreator_character_inventory\n",
    "        GROUP by character_id LIMIT 20''').fetchall()\n",
    "print(items)"
   ]
  },
  {
   "cell_type": "code",
   "execution_count": 24,
   "metadata": {},
   "outputs": [
    {
     "name": "stdout",
     "output_type": "stream",
     "text": [
      "[(1, 0), (2, 0), (3, 0), (4, 0), (5, 2), (6, 0), (7, 1), (8, 0), (9, 0), (10, 0), (11, 1), (12, 0), (13, 0), (14, 0), (15, 0), (16, 0), (17, 0), (18, 0), (19, 0), (20, 1)]\n"
     ]
    }
   ],
   "source": [
    "#number of weapons per character\n",
    "weapons = cursor.execute(''' SELECT character_id, count(item_ptr_id) as weapons\n",
    "        FROM charactercreator_character_inventory\n",
    "        LEFT JOIN armory_weapon on\n",
    "        charactercreator_character_inventory.item_id =\n",
    "        armory_weapon.item_ptr_id\n",
    "        GROUP by character_id LIMIT 20\n",
    "        ''').fetchall()\n",
    "print(weapons)"
   ]
  },
  {
   "cell_type": "code",
   "execution_count": 26,
   "metadata": {},
   "outputs": [
    {
     "name": "stdout",
     "output_type": "stream",
     "text": [
      "2.97350993377\n"
     ]
    }
   ],
   "source": [
    "avg_item = cursor.execute('''\n",
    "        SELECT AVG(items) FROM\n",
    "        (SELECT character_id,\n",
    "        count(charactercreator_character_inventory.item_id)\n",
    "        as items\n",
    "        FROM charactercreator_character_inventory\n",
    "        GROUP by character_id)\n",
    "        ''').fetchone()[0]\n",
    "print(avg_item)"
   ]
  },
  {
   "cell_type": "code",
   "execution_count": 27,
   "metadata": {},
   "outputs": [
    {
     "name": "stdout",
     "output_type": "stream",
     "text": [
      "0.672185430464\n"
     ]
    }
   ],
   "source": [
    "avg_weapon = cursor.execute('''\n",
    "        SELECT AVG(weapons) FROM\n",
    "        (SELECT character_id, count(item_ptr_id) as weapons\n",
    "        FROM charactercreator_character_inventory\n",
    "        LEFT JOIN armory_weapon on\n",
    "        charactercreator_character_inventory.item_id =\n",
    "        armory_weapon.item_ptr_id\n",
    "        GROUP by character_id)\n",
    "        ''').fetchone()[0]\n",
    "print(avg_weapon)"
   ]
  },
  {
   "cell_type": "code",
   "execution_count": null,
   "metadata": {},
   "outputs": [],
   "source": []
  }
 ],
 "metadata": {
  "kernelspec": {
   "display_name": "Python 3",
   "language": "python",
   "name": "python3"
  },
  "language_info": {
   "codemirror_mode": {
    "name": "ipython",
    "version": 2
   },
   "file_extension": ".py",
   "mimetype": "text/x-python",
   "name": "python",
   "nbconvert_exporter": "python",
   "pygments_lexer": "ipython2",
   "version": "2.7.16"
  }
 },
 "nbformat": 4,
 "nbformat_minor": 2
}
