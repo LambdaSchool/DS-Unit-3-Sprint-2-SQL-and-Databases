{
 "cells": [
  {
   "cell_type": "code",
   "execution_count": 6,
   "metadata": {},
   "outputs": [],
   "source": [
    "import sqlite3\n",
    "import pandas as pd"
   ]
  },
  {
   "cell_type": "code",
   "execution_count": 7,
   "metadata": {},
   "outputs": [],
   "source": [
    "df = pd.read_csv('buddymove_holidayiq.csv')"
   ]
  },
  {
   "cell_type": "code",
   "execution_count": 30,
   "metadata": {},
   "outputs": [
    {
     "data": {
      "text/html": [
       "<div>\n",
       "<style scoped>\n",
       "    .dataframe tbody tr th:only-of-type {\n",
       "        vertical-align: middle;\n",
       "    }\n",
       "\n",
       "    .dataframe tbody tr th {\n",
       "        vertical-align: top;\n",
       "    }\n",
       "\n",
       "    .dataframe thead th {\n",
       "        text-align: right;\n",
       "    }\n",
       "</style>\n",
       "<table border=\"1\" class=\"dataframe\">\n",
       "  <thead>\n",
       "    <tr style=\"text-align: right;\">\n",
       "      <th></th>\n",
       "      <th>User Id</th>\n",
       "      <th>Sports</th>\n",
       "      <th>Religious</th>\n",
       "      <th>Nature</th>\n",
       "      <th>Theatre</th>\n",
       "      <th>Shopping</th>\n",
       "      <th>Picnic</th>\n",
       "    </tr>\n",
       "  </thead>\n",
       "  <tbody>\n",
       "    <tr>\n",
       "      <th>234</th>\n",
       "      <td>User 235</td>\n",
       "      <td>25</td>\n",
       "      <td>139</td>\n",
       "      <td>153</td>\n",
       "      <td>193</td>\n",
       "      <td>158</td>\n",
       "      <td>134</td>\n",
       "    </tr>\n",
       "    <tr>\n",
       "      <th>235</th>\n",
       "      <td>User 236</td>\n",
       "      <td>25</td>\n",
       "      <td>84</td>\n",
       "      <td>247</td>\n",
       "      <td>168</td>\n",
       "      <td>109</td>\n",
       "      <td>140</td>\n",
       "    </tr>\n",
       "    <tr>\n",
       "      <th>236</th>\n",
       "      <td>User 237</td>\n",
       "      <td>25</td>\n",
       "      <td>173</td>\n",
       "      <td>89</td>\n",
       "      <td>124</td>\n",
       "      <td>233</td>\n",
       "      <td>158</td>\n",
       "    </tr>\n",
       "    <tr>\n",
       "      <th>237</th>\n",
       "      <td>User 238</td>\n",
       "      <td>8</td>\n",
       "      <td>93</td>\n",
       "      <td>119</td>\n",
       "      <td>99</td>\n",
       "      <td>89</td>\n",
       "      <td>138</td>\n",
       "    </tr>\n",
       "    <tr>\n",
       "      <th>238</th>\n",
       "      <td>User 239</td>\n",
       "      <td>22</td>\n",
       "      <td>124</td>\n",
       "      <td>168</td>\n",
       "      <td>208</td>\n",
       "      <td>148</td>\n",
       "      <td>124</td>\n",
       "    </tr>\n",
       "    <tr>\n",
       "      <th>239</th>\n",
       "      <td>User 240</td>\n",
       "      <td>18</td>\n",
       "      <td>114</td>\n",
       "      <td>158</td>\n",
       "      <td>178</td>\n",
       "      <td>158</td>\n",
       "      <td>124</td>\n",
       "    </tr>\n",
       "    <tr>\n",
       "      <th>240</th>\n",
       "      <td>User 241</td>\n",
       "      <td>20</td>\n",
       "      <td>188</td>\n",
       "      <td>94</td>\n",
       "      <td>94</td>\n",
       "      <td>223</td>\n",
       "      <td>153</td>\n",
       "    </tr>\n",
       "    <tr>\n",
       "      <th>241</th>\n",
       "      <td>User 242</td>\n",
       "      <td>25</td>\n",
       "      <td>114</td>\n",
       "      <td>238</td>\n",
       "      <td>124</td>\n",
       "      <td>104</td>\n",
       "      <td>178</td>\n",
       "    </tr>\n",
       "    <tr>\n",
       "      <th>242</th>\n",
       "      <td>User 243</td>\n",
       "      <td>18</td>\n",
       "      <td>94</td>\n",
       "      <td>188</td>\n",
       "      <td>148</td>\n",
       "      <td>99</td>\n",
       "      <td>139</td>\n",
       "    </tr>\n",
       "    <tr>\n",
       "      <th>243</th>\n",
       "      <td>User 244</td>\n",
       "      <td>25</td>\n",
       "      <td>129</td>\n",
       "      <td>318</td>\n",
       "      <td>94</td>\n",
       "      <td>89</td>\n",
       "      <td>188</td>\n",
       "    </tr>\n",
       "    <tr>\n",
       "      <th>244</th>\n",
       "      <td>User 245</td>\n",
       "      <td>18</td>\n",
       "      <td>139</td>\n",
       "      <td>148</td>\n",
       "      <td>129</td>\n",
       "      <td>129</td>\n",
       "      <td>168</td>\n",
       "    </tr>\n",
       "    <tr>\n",
       "      <th>245</th>\n",
       "      <td>User 246</td>\n",
       "      <td>22</td>\n",
       "      <td>114</td>\n",
       "      <td>228</td>\n",
       "      <td>104</td>\n",
       "      <td>84</td>\n",
       "      <td>168</td>\n",
       "    </tr>\n",
       "    <tr>\n",
       "      <th>246</th>\n",
       "      <td>User 247</td>\n",
       "      <td>20</td>\n",
       "      <td>124</td>\n",
       "      <td>178</td>\n",
       "      <td>104</td>\n",
       "      <td>158</td>\n",
       "      <td>174</td>\n",
       "    </tr>\n",
       "    <tr>\n",
       "      <th>247</th>\n",
       "      <td>User 248</td>\n",
       "      <td>20</td>\n",
       "      <td>133</td>\n",
       "      <td>149</td>\n",
       "      <td>139</td>\n",
       "      <td>144</td>\n",
       "      <td>213</td>\n",
       "    </tr>\n",
       "    <tr>\n",
       "      <th>248</th>\n",
       "      <td>User 249</td>\n",
       "      <td>20</td>\n",
       "      <td>143</td>\n",
       "      <td>149</td>\n",
       "      <td>139</td>\n",
       "      <td>159</td>\n",
       "      <td>143</td>\n",
       "    </tr>\n",
       "  </tbody>\n",
       "</table>\n",
       "</div>"
      ],
      "text/plain": [
       "      User Id  Sports  Religious  Nature  Theatre  Shopping  Picnic\n",
       "234  User 235      25        139     153      193       158     134\n",
       "235  User 236      25         84     247      168       109     140\n",
       "236  User 237      25        173      89      124       233     158\n",
       "237  User 238       8         93     119       99        89     138\n",
       "238  User 239      22        124     168      208       148     124\n",
       "239  User 240      18        114     158      178       158     124\n",
       "240  User 241      20        188      94       94       223     153\n",
       "241  User 242      25        114     238      124       104     178\n",
       "242  User 243      18         94     188      148        99     139\n",
       "243  User 244      25        129     318       94        89     188\n",
       "244  User 245      18        139     148      129       129     168\n",
       "245  User 246      22        114     228      104        84     168\n",
       "246  User 247      20        124     178      104       158     174\n",
       "247  User 248      20        133     149      139       144     213\n",
       "248  User 249      20        143     149      139       159     143"
      ]
     },
     "execution_count": 30,
     "metadata": {},
     "output_type": "execute_result"
    }
   ],
   "source": [
    "df.tail(15)"
   ]
  },
  {
   "cell_type": "code",
   "execution_count": 27,
   "metadata": {},
   "outputs": [
    {
     "name": "stdout",
     "output_type": "stream",
     "text": [
      "<class 'pandas.core.frame.DataFrame'>\n",
      "RangeIndex: 249 entries, 0 to 248\n",
      "Data columns (total 7 columns):\n",
      "User Id      249 non-null object\n",
      "Sports       249 non-null int64\n",
      "Religious    249 non-null int64\n",
      "Nature       249 non-null int64\n",
      "Theatre      249 non-null int64\n",
      "Shopping     249 non-null int64\n",
      "Picnic       249 non-null int64\n",
      "dtypes: int64(6), object(1)\n",
      "memory usage: 13.7+ KB\n"
     ]
    }
   ],
   "source": [
    "df.info()"
   ]
  },
  {
   "cell_type": "code",
   "execution_count": 11,
   "metadata": {},
   "outputs": [],
   "source": [
    "# Query Function\n",
    "def query(query):\n",
    "    result = curs.execute(query)\n",
    "    return result.fetchall()"
   ]
  },
  {
   "cell_type": "code",
   "execution_count": 8,
   "metadata": {},
   "outputs": [
    {
     "name": "stderr",
     "output_type": "stream",
     "text": [
      "/anaconda3/lib/python3.7/site-packages/pandas/core/generic.py:2130: UserWarning: The spaces in these column names will not be changed. In pandas versions < 0.14, spaces were converted to underscores.\n",
      "  dtype=dtype)\n"
     ]
    }
   ],
   "source": [
    "# Convert to SQLite3\n",
    "conn = sqlite3.connect('buddymove_holidayiq.sqlite3')\n",
    "df.to_sql(name='review', con=conn, if_exists='replace')\n",
    "curs = conn.cursor()"
   ]
  },
  {
   "cell_type": "code",
   "execution_count": 19,
   "metadata": {},
   "outputs": [],
   "source": [
    "count_rows = 'SELECT COUNT(*) FROM review;'"
   ]
  },
  {
   "cell_type": "code",
   "execution_count": 20,
   "metadata": {},
   "outputs": [
    {
     "name": "stdout",
     "output_type": "stream",
     "text": [
      "This dataset contains 249 rows\n"
     ]
    }
   ],
   "source": [
    "count_rows = query(count_rows)[0][0]\n",
    "print('This dataset contains', count_rows, 'rows')"
   ]
  },
  {
   "cell_type": "code",
   "execution_count": 32,
   "metadata": {},
   "outputs": [],
   "source": [
    "reviewed = \"\"\"\n",
    "SELECT r.Nature, r.Shopping\n",
    "FROM review as r\n",
    "WHERE r.Nature >= 100\n",
    "AND r.Shopping >= 100;\n",
    "\"\"\""
   ]
  },
  {
   "cell_type": "code",
   "execution_count": 34,
   "metadata": {},
   "outputs": [
    {
     "name": "stdout",
     "output_type": "stream",
     "text": [
      "103\n"
     ]
    }
   ],
   "source": [
    "reviewed = query(reviewed)[0][0]\n",
    "print(str(reviewed))"
   ]
  },
  {
   "cell_type": "code",
   "execution_count": null,
   "metadata": {},
   "outputs": [],
   "source": []
  }
 ],
 "metadata": {
  "kernelspec": {
   "display_name": "Python 3",
   "language": "python",
   "name": "python3"
  },
  "language_info": {
   "codemirror_mode": {
    "name": "ipython",
    "version": 3
   },
   "file_extension": ".py",
   "mimetype": "text/x-python",
   "name": "python",
   "nbconvert_exporter": "python",
   "pygments_lexer": "ipython3",
   "version": "3.7.1"
  }
 },
 "nbformat": 4,
 "nbformat_minor": 2
}
