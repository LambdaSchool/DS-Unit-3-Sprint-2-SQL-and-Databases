{
  "nbformat": 4,
  "nbformat_minor": 0,
  "metadata": {
    "colab": {
      "name": "Grill_Unit_3_Sprint_2_Assignment_1_Part_2",
      "provenance": [],
      "collapsed_sections": [],
      "include_colab_link": true
    },
    "kernelspec": {
      "name": "python3",
      "display_name": "Python 3"
    }
  },
  "cells": [
    {
      "cell_type": "markdown",
      "metadata": {
        "id": "view-in-github",
        "colab_type": "text"
      },
      "source": [
        "<a href=\"https://colab.research.google.com/github/serinamarie/DS-Unit-3-Sprint-2-SQL-and-Databases/blob/master/Grill_Unit_3_Sprint_2_Assignment_1_Part_2.ipynb\" target=\"_parent\"><img src=\"https://colab.research.google.com/assets/colab-badge.svg\" alt=\"Open In Colab\"/></a>"
      ]
    },
    {
      "cell_type": "code",
      "metadata": {
        "colab_type": "code",
        "id": "Q9ABMtKK7dOb",
        "outputId": "5f8dc9f2-ed50-4bfa-b8aa-818ff05c93a2",
        "colab": {
          "base_uri": "https://localhost:8080/",
          "height": 309
        }
      },
      "source": [
        "!wget https://github.com/serinamarie/DS-Unit-3-Sprint-2-SQL-and-Databases/raw/master/module1-introduction-to-sql/buddymove_holidayiq.csv"
      ],
      "execution_count": 1,
      "outputs": [
        {
          "output_type": "stream",
          "text": [
            "--2019-11-18 02:18:39--  https://github.com/serinamarie/DS-Unit-3-Sprint-2-SQL-and-Databases/raw/master/module1-introduction-to-sql/buddymove_holidayiq.csv\n",
            "Resolving github.com (github.com)... 140.82.118.4\n",
            "Connecting to github.com (github.com)|140.82.118.4|:443... connected.\n",
            "HTTP request sent, awaiting response... 302 Found\n",
            "Location: https://raw.githubusercontent.com/serinamarie/DS-Unit-3-Sprint-2-SQL-and-Databases/master/module1-introduction-to-sql/buddymove_holidayiq.csv [following]\n",
            "--2019-11-18 02:18:39--  https://raw.githubusercontent.com/serinamarie/DS-Unit-3-Sprint-2-SQL-and-Databases/master/module1-introduction-to-sql/buddymove_holidayiq.csv\n",
            "Resolving raw.githubusercontent.com (raw.githubusercontent.com)... 151.101.0.133, 151.101.64.133, 151.101.128.133, ...\n",
            "Connecting to raw.githubusercontent.com (raw.githubusercontent.com)|151.101.0.133|:443... connected.\n",
            "HTTP request sent, awaiting response... 200 OK\n",
            "Length: 7566 (7.4K) [text/plain]\n",
            "Saving to: ‘buddymove_holidayiq.csv’\n",
            "\n",
            "buddymove_holidayiq 100%[===================>]   7.39K  --.-KB/s    in 0s      \n",
            "\n",
            "2019-11-18 02:18:40 (100 MB/s) - ‘buddymove_holidayiq.csv’ saved [7566/7566]\n",
            "\n"
          ],
          "name": "stdout"
        }
      ]
    },
    {
      "cell_type": "code",
      "metadata": {
        "id": "9hPt08N0qyY9",
        "colab_type": "code",
        "colab": {}
      },
      "source": [
        "# connect to sqlite database\n",
        "\n",
        "import sqlite3\n",
        "\n",
        "conn_buddy = sqlite3.connect('buddymove_holidayiq.sqlite3')\n",
        "csr = conn_buddy.cursor()"
      ],
      "execution_count": 0,
      "outputs": []
    },
    {
      "cell_type": "code",
      "metadata": {
        "id": "9kXcdBm79XmG",
        "colab_type": "code",
        "colab": {}
      },
      "source": [
        "# name the csv\n",
        "\n",
        "import pandas as pd\n",
        "df = pd.read_csv('buddymove_holidayiq.csv')"
      ],
      "execution_count": 0,
      "outputs": []
    },
    {
      "cell_type": "code",
      "metadata": {
        "id": "2YZchQnG_NOU",
        "colab_type": "code",
        "outputId": "4acb6d14-87f6-4f04-fc43-1eb32514b3ac",
        "colab": {
          "base_uri": "https://localhost:8080/",
          "height": 204
        }
      },
      "source": [
        "# Familiarize yourself with the dataframe \n",
        "\n",
        "df.tail()"
      ],
      "execution_count": 18,
      "outputs": [
        {
          "output_type": "execute_result",
          "data": {
            "text/html": [
              "<div>\n",
              "<style scoped>\n",
              "    .dataframe tbody tr th:only-of-type {\n",
              "        vertical-align: middle;\n",
              "    }\n",
              "\n",
              "    .dataframe tbody tr th {\n",
              "        vertical-align: top;\n",
              "    }\n",
              "\n",
              "    .dataframe thead th {\n",
              "        text-align: right;\n",
              "    }\n",
              "</style>\n",
              "<table border=\"1\" class=\"dataframe\">\n",
              "  <thead>\n",
              "    <tr style=\"text-align: right;\">\n",
              "      <th></th>\n",
              "      <th>User Id</th>\n",
              "      <th>Sports</th>\n",
              "      <th>Religious</th>\n",
              "      <th>Nature</th>\n",
              "      <th>Theatre</th>\n",
              "      <th>Shopping</th>\n",
              "      <th>Picnic</th>\n",
              "    </tr>\n",
              "  </thead>\n",
              "  <tbody>\n",
              "    <tr>\n",
              "      <th>244</th>\n",
              "      <td>User 245</td>\n",
              "      <td>18</td>\n",
              "      <td>139</td>\n",
              "      <td>148</td>\n",
              "      <td>129</td>\n",
              "      <td>129</td>\n",
              "      <td>168</td>\n",
              "    </tr>\n",
              "    <tr>\n",
              "      <th>245</th>\n",
              "      <td>User 246</td>\n",
              "      <td>22</td>\n",
              "      <td>114</td>\n",
              "      <td>228</td>\n",
              "      <td>104</td>\n",
              "      <td>84</td>\n",
              "      <td>168</td>\n",
              "    </tr>\n",
              "    <tr>\n",
              "      <th>246</th>\n",
              "      <td>User 247</td>\n",
              "      <td>20</td>\n",
              "      <td>124</td>\n",
              "      <td>178</td>\n",
              "      <td>104</td>\n",
              "      <td>158</td>\n",
              "      <td>174</td>\n",
              "    </tr>\n",
              "    <tr>\n",
              "      <th>247</th>\n",
              "      <td>User 248</td>\n",
              "      <td>20</td>\n",
              "      <td>133</td>\n",
              "      <td>149</td>\n",
              "      <td>139</td>\n",
              "      <td>144</td>\n",
              "      <td>213</td>\n",
              "    </tr>\n",
              "    <tr>\n",
              "      <th>248</th>\n",
              "      <td>User 249</td>\n",
              "      <td>20</td>\n",
              "      <td>143</td>\n",
              "      <td>149</td>\n",
              "      <td>139</td>\n",
              "      <td>159</td>\n",
              "      <td>143</td>\n",
              "    </tr>\n",
              "  </tbody>\n",
              "</table>\n",
              "</div>"
            ],
            "text/plain": [
              "      User Id  Sports  Religious  Nature  Theatre  Shopping  Picnic\n",
              "244  User 245      18        139     148      129       129     168\n",
              "245  User 246      22        114     228      104        84     168\n",
              "246  User 247      20        124     178      104       158     174\n",
              "247  User 248      20        133     149      139       144     213\n",
              "248  User 249      20        143     149      139       159     143"
            ]
          },
          "metadata": {
            "tags": []
          },
          "execution_count": 18
        }
      ]
    },
    {
      "cell_type": "code",
      "metadata": {
        "id": "hG1cAXGnvdyR",
        "colab_type": "code",
        "colab": {
          "base_uri": "https://localhost:8080/",
          "height": 71
        },
        "outputId": "ec2356ee-bde4-4d6f-de87-65f7e29894c6"
      },
      "source": [
        "# Convert csv to sql via the connection to the sqlite database\n",
        "\n",
        "df.to_sql('review', conn_buddy, if_exists='replace')"
      ],
      "execution_count": 19,
      "outputs": [
        {
          "output_type": "stream",
          "text": [
            "/usr/local/lib/python3.6/dist-packages/pandas/core/generic.py:2712: UserWarning: The spaces in these column names will not be changed. In pandas versions < 0.14, spaces were converted to underscores.\n",
            "  method=method,\n"
          ],
          "name": "stderr"
        }
      ]
    },
    {
      "cell_type": "code",
      "metadata": {
        "id": "VUk86wywrsnp",
        "colab_type": "code",
        "outputId": "61fc4d01-5e9c-4924-e6fd-a056fdcbf37e",
        "colab": {
          "base_uri": "https://localhost:8080/",
          "height": 1000
        }
      },
      "source": [
        "# Take a look at your new table\n",
        "\n",
        "csr.execute(\"SELECT * FROM review;\").fetchall()"
      ],
      "execution_count": 21,
      "outputs": [
        {
          "output_type": "execute_result",
          "data": {
            "text/plain": [
              "[(0, 'User 1', 2, 77, 79, 69, 68, 95),\n",
              " (1, 'User 2', 2, 62, 76, 76, 69, 68),\n",
              " (2, 'User 3', 2, 50, 97, 87, 50, 75),\n",
              " (3, 'User 4', 2, 68, 77, 95, 76, 61),\n",
              " (4, 'User 5', 2, 98, 54, 59, 95, 86),\n",
              " (5, 'User 6', 3, 52, 109, 93, 52, 76),\n",
              " (6, 'User 7', 3, 64, 85, 82, 73, 69),\n",
              " (7, 'User 8', 3, 54, 107, 92, 54, 76),\n",
              " (8, 'User 9', 3, 64, 108, 64, 54, 93),\n",
              " (9, 'User 10', 3, 86, 76, 74, 74, 103),\n",
              " (10, 'User 11', 3, 107, 54, 64, 103, 94),\n",
              " (11, 'User 12', 3, 103, 60, 63, 102, 93),\n",
              " (12, 'User 13', 3, 64, 82, 82, 75, 69),\n",
              " (13, 'User 14', 3, 93, 54, 74, 103, 69),\n",
              " (14, 'User 15', 3, 63, 82, 81, 78, 69),\n",
              " (15, 'User 16', 3, 82, 79, 75, 75, 82),\n",
              " (16, 'User 17', 5, 59, 131, 103, 54, 86),\n",
              " (17, 'User 18', 5, 56, 124, 108, 56, 85),\n",
              " (18, 'User 19', 4, 85, 67, 111, 65, 72),\n",
              " (19, 'User 20', 5, 114, 83, 65, 114, 102),\n",
              " (20, 'User 21', 4, 93, 82, 79, 79, 90),\n",
              " (21, 'User 22', 4, 105, 52, 75, 113, 78),\n",
              " (22, 'User 23', 5, 69, 118, 74, 66, 101),\n",
              " (23, 'User 24', 4, 71, 123, 64, 59, 102),\n",
              " (24, 'User 25', 5, 88, 94, 81, 79, 91),\n",
              " (25, 'User 26', 5, 83, 99, 89, 74, 91),\n",
              " (26, 'User 27', 5, 69, 133, 74, 54, 101),\n",
              " (27, 'User 28', 5, 128, 53, 74, 117, 105),\n",
              " (28, 'User 29', 5, 74, 123, 69, 61, 101),\n",
              " (29, 'User 30', 5, 79, 93, 118, 90, 72),\n",
              " (30, 'User 31', 4, 51, 115, 110, 51, 84),\n",
              " (31, 'User 32', 5, 69, 93, 93, 81, 79),\n",
              " (32, 'User 33', 4, 100, 53, 86, 112, 78),\n",
              " (33, 'User 34', 4, 88, 69, 108, 71, 77),\n",
              " (34, 'User 35', 4, 93, 84, 75, 84, 112),\n",
              " (35, 'User 36', 4, 79, 86, 110, 93, 73),\n",
              " (36, 'User 37', 4, 87, 72, 112, 63, 71),\n",
              " (37, 'User 38', 5, 65, 128, 79, 56, 101),\n",
              " (38, 'User 39', 4, 91, 66, 110, 69, 71),\n",
              " (39, 'User 40', 4, 93, 79, 74, 92, 90),\n",
              " (40, 'User 41', 5, 59, 118, 108, 63, 85),\n",
              " (41, 'User 42', 5, 65, 103, 90, 80, 79),\n",
              " (42, 'User 43', 4, 87, 89, 76, 89, 111),\n",
              " (43, 'User 44', 4, 93, 85, 79, 85, 91),\n",
              " (44, 'User 45', 5, 93, 94, 79, 79, 113),\n",
              " (45, 'User 46', 5, 74, 130, 74, 53, 101),\n",
              " (46, 'User 47', 4, 118, 59, 69, 119, 97),\n",
              " (47, 'User 48', 4, 101, 61, 76, 113, 78),\n",
              " (48, 'User 49', 5, 88, 99, 79, 83, 114),\n",
              " (49, 'User 50', 4, 74, 87, 87, 79, 79),\n",
              " (50, 'User 51', 14, 148, 59, 104, 208, 119),\n",
              " (51, 'User 52', 5, 93, 89, 74, 89, 93),\n",
              " (52, 'User 53', 4, 79, 103, 68, 103, 85),\n",
              " (53, 'User 54', 4, 76, 92, 111, 90, 71),\n",
              " (54, 'User 55', 8, 94, 140, 89, 118, 92),\n",
              " (55, 'User 56', 8, 108, 109, 89, 89, 143),\n",
              " (56, 'User 57', 6, 98, 89, 133, 79, 79),\n",
              " (57, 'User 58', 8, 84, 118, 102, 94, 90),\n",
              " (58, 'User 59', 8, 138, 74, 79, 143, 118),\n",
              " (59, 'User 60', 6, 74, 109, 103, 89, 88),\n",
              " (60, 'User 61', 8, 118, 104, 94, 94, 118),\n",
              " (61, 'User 62', 8, 94, 128, 89, 128, 99),\n",
              " (62, 'User 63', 8, 64, 155, 118, 64, 97),\n",
              " (63, 'User 64', 6, 84, 108, 138, 103, 79),\n",
              " (64, 'User 65', 8, 108, 109, 94, 99, 138),\n",
              " (65, 'User 66', 6, 89, 108, 128, 116, 81),\n",
              " (66, 'User 67', 6, 103, 79, 148, 74, 79),\n",
              " (67, 'User 68', 6, 103, 109, 99, 89, 108),\n",
              " (68, 'User 69', 8, 108, 99, 94, 94, 138),\n",
              " (69, 'User 70', 8, 108, 109, 104, 79, 133),\n",
              " (70, 'User 71', 8, 138, 59, 84, 138, 128),\n",
              " (71, 'User 72', 8, 79, 143, 113, 69, 109),\n",
              " (72, 'User 73', 8, 84, 153, 79, 64, 113),\n",
              " (73, 'User 74', 8, 74, 148, 118, 64, 104),\n",
              " (74, 'User 75', 8, 74, 153, 118, 59, 99),\n",
              " (75, 'User 76', 6, 118, 64, 101, 133, 92),\n",
              " (76, 'User 77', 6, 69, 153, 113, 59, 99),\n",
              " (77, 'User 78', 6, 123, 68, 89, 128, 90),\n",
              " (78, 'User 79', 6, 99, 104, 128, 64, 78),\n",
              " (79, 'User 80', 6, 124, 59, 84, 143, 88),\n",
              " (80, 'User 81', 6, 84, 131, 128, 93, 81),\n",
              " (81, 'User 82', 6, 113, 64, 89, 141, 86),\n",
              " (82, 'User 83', 6, 118, 64, 99, 134, 88),\n",
              " (83, 'User 84', 8, 89, 143, 84, 64, 118),\n",
              " (84, 'User 85', 6, 98, 89, 133, 69, 79),\n",
              " (85, 'User 86', 6, 98, 104, 109, 91, 101),\n",
              " (86, 'User 87', 8, 84, 143, 74, 74, 133),\n",
              " (87, 'User 88', 8, 123, 64, 93, 148, 90),\n",
              " (88, 'User 89', 6, 84, 113, 141, 98, 81),\n",
              " (89, 'User 90', 6, 59, 148, 125, 59, 97),\n",
              " (90, 'User 91', 8, 143, 69, 79, 143, 123),\n",
              " (91, 'User 92', 8, 94, 133, 84, 125, 97),\n",
              " (92, 'User 93', 8, 84, 108, 113, 93, 90),\n",
              " (93, 'User 94', 8, 84, 138, 89, 69, 123),\n",
              " (94, 'User 95', 6, 84, 108, 133, 98, 81),\n",
              " (95, 'User 96', 6, 99, 84, 138, 69, 83),\n",
              " (96, 'User 97', 8, 113, 94, 84, 109, 128),\n",
              " (97, 'User 98', 6, 148, 64, 74, 138, 128),\n",
              " (98, 'User 99', 8, 84, 138, 113, 64, 114),\n",
              " (99, 'User 100', 6, 98, 79, 138, 79, 79),\n",
              " (100, 'User 101', 8, 133, 84, 84, 133, 118),\n",
              " (101, 'User 102', 6, 79, 113, 106, 87, 88),\n",
              " (102, 'User 103', 8, 113, 104, 84, 94, 148),\n",
              " (103, 'User 104', 6, 69, 138, 113, 79, 99),\n",
              " (104, 'User 105', 6, 83, 103, 98, 99, 90),\n",
              " (105, 'User 106', 8, 69, 143, 123, 71, 97),\n",
              " (106, 'User 107', 8, 118, 94, 99, 99, 143),\n",
              " (107, 'User 108', 6, 74, 133, 99, 74, 113),\n",
              " (108, 'User 109', 12, 115, 94, 163, 109, 92),\n",
              " (109, 'User 110', 12, 123, 124, 109, 114, 168),\n",
              " (110, 'User 111', 12, 94, 133, 157, 133, 95),\n",
              " (111, 'User 112', 12, 104, 123, 163, 128, 89),\n",
              " (112, 'User 113', 14, 99, 198, 89, 74, 153),\n",
              " (113, 'User 114', 14, 113, 148, 99, 148, 110),\n",
              " (114, 'User 115', 14, 94, 163, 99, 94, 153),\n",
              " (115, 'User 116', 12, 133, 104, 119, 129, 133),\n",
              " (116, 'User 117', 14, 163, 69, 94, 188, 143),\n",
              " (117, 'User 118', 12, 74, 158, 158, 74, 119),\n",
              " (118, 'User 119', 12, 123, 124, 109, 129, 143),\n",
              " (119, 'User 120', 12, 94, 137, 148, 113, 100),\n",
              " (120, 'User 121', 12, 123, 129, 139, 99, 143),\n",
              " (121, 'User 122', 12, 89, 163, 99, 79, 143),\n",
              " (122, 'User 123', 14, 81, 173, 143, 79, 122),\n",
              " (123, 'User 124', 14, 135, 84, 158, 139, 92),\n",
              " (124, 'User 125', 12, 108, 113, 133, 114, 100),\n",
              " (125, 'User 126', 14, 138, 119, 119, 124, 158),\n",
              " (126, 'User 127', 12, 128, 122, 134, 109, 120),\n",
              " (127, 'User 128', 14, 79, 203, 153, 69, 119),\n",
              " (128, 'User 129', 12, 84, 150, 128, 104, 102),\n",
              " (129, 'User 130', 12, 148, 69, 104, 173, 138),\n",
              " (130, 'User 131', 14, 133, 124, 119, 124, 168),\n",
              " (131, 'User 132', 12, 89, 128, 148, 111, 102),\n",
              " (132, 'User 133', 12, 79, 183, 133, 70, 113),\n",
              " (133, 'User 134', 12, 96, 113, 113, 99, 97),\n",
              " (134, 'User 135', 14, 84, 161, 153, 84, 116),\n",
              " (135, 'User 136', 12, 109, 135, 158, 123, 92),\n",
              " (136, 'User 137', 12, 133, 74, 114, 175, 102),\n",
              " (137, 'User 138', 14, 133, 139, 124, 109, 128),\n",
              " (138, 'User 139', 12, 128, 124, 114, 111, 126),\n",
              " (139, 'User 140', 10, 97, 123, 108, 119, 111),\n",
              " (140, 'User 141', 12, 123, 104, 104, 134, 153),\n",
              " (141, 'User 142', 10, 113, 89, 168, 89, 89),\n",
              " (142, 'User 143', 12, 109, 148, 94, 133, 119),\n",
              " (143, 'User 144', 10, 165, 64, 94, 173, 97),\n",
              " (144, 'User 145', 12, 93, 123, 123, 124, 100),\n",
              " (145, 'User 146', 14, 143, 98, 119, 163, 105),\n",
              " (146, 'User 147', 12, 89, 158, 89, 89, 158),\n",
              " (147, 'User 148', 10, 113, 111, 153, 84, 97),\n",
              " (148, 'User 149', 12, 138, 86, 114, 158, 102),\n",
              " (149, 'User 150', 12, 79, 158, 148, 69, 119),\n",
              " (150, 'User 151', 14, 84, 178, 138, 87, 116),\n",
              " (151, 'User 152', 14, 84, 168, 148, 80, 113),\n",
              " (152, 'User 153', 14, 84, 173, 143, 69, 110),\n",
              " (153, 'User 154', 12, 104, 130, 178, 118, 92),\n",
              " (154, 'User 155', 10, 99, 123, 153, 128, 103),\n",
              " (155, 'User 156', 12, 93, 128, 118, 119, 100),\n",
              " (156, 'User 157', 12, 128, 119, 104, 119, 173),\n",
              " (157, 'User 158', 14, 94, 178, 109, 69, 143),\n",
              " (158, 'User 159', 12, 148, 69, 104, 168, 114),\n",
              " (159, 'User 160', 12, 113, 114, 109, 119, 143),\n",
              " (160, 'User 161', 12, 153, 74, 94, 163, 158),\n",
              " (161, 'User 162', 22, 139, 163, 114, 203, 139),\n",
              " (162, 'User 163', 14, 163, 99, 94, 158, 143),\n",
              " (163, 'User 164', 12, 89, 178, 89, 79, 153),\n",
              " (164, 'User 165', 12, 79, 183, 104, 69, 148),\n",
              " (165, 'User 166', 12, 168, 69, 84, 198, 133),\n",
              " (166, 'User 167', 22, 128, 158, 183, 158, 130),\n",
              " (167, 'User 168', 22, 129, 188, 109, 104, 198),\n",
              " (168, 'User 169', 16, 178, 74, 114, 198, 129),\n",
              " (169, 'User 170', 20, 143, 139, 139, 139, 148),\n",
              " (170, 'User 171', 20, 114, 198, 124, 114, 153),\n",
              " (171, 'User 172', 18, 105, 158, 143, 129, 133),\n",
              " (172, 'User 173', 20, 120, 193, 104, 148, 138),\n",
              " (173, 'User 174', 20, 98, 193, 163, 99, 140),\n",
              " (174, 'User 175', 22, 148, 174, 129, 129, 153),\n",
              " (175, 'User 176', 20, 183, 104, 164, 193, 153),\n",
              " (176, 'User 177', 18, 99, 203, 129, 94, 158),\n",
              " (177, 'User 178', 22, 139, 178, 139, 163, 144),\n",
              " (178, 'User 179', 22, 90, 188, 163, 109, 138),\n",
              " (179, 'User 180', 18, 163, 84, 129, 193, 139),\n",
              " (180, 'User 181', 18, 88, 178, 178, 89, 140),\n",
              " (181, 'User 182', 18, 114, 144, 213, 133, 128),\n",
              " (182, 'User 183', 22, 143, 124, 208, 134, 124),\n",
              " (183, 'User 184', 20, 188, 94, 104, 208, 158),\n",
              " (184, 'User 185', 18, 99, 228, 104, 84, 163),\n",
              " (185, 'User 186', 18, 178, 94, 114, 188, 173),\n",
              " (186, 'User 187', 22, 119, 198, 149, 114, 168),\n",
              " (187, 'User 188', 20, 114, 203, 109, 84, 158),\n",
              " (188, 'User 189', 18, 99, 193, 158, 99, 144),\n",
              " (189, 'User 190', 22, 153, 139, 154, 154, 183),\n",
              " (190, 'User 191', 20, 162, 94, 144, 198, 135),\n",
              " (191, 'User 192', 18, 132, 149, 139, 119, 144),\n",
              " (192, 'User 193', 18, 104, 193, 114, 99, 173),\n",
              " (193, 'User 194', 18, 99, 183, 128, 114, 129),\n",
              " (194, 'User 195', 20, 178, 89, 154, 198, 183),\n",
              " (195, 'User 196', 20, 114, 243, 104, 79, 173),\n",
              " (196, 'User 197', 22, 133, 183, 114, 183, 140),\n",
              " (197, 'User 198', 22, 148, 149, 154, 149, 148),\n",
              " (198, 'User 199', 22, 114, 213, 129, 94, 178),\n",
              " (199, 'User 200', 22, 188, 124, 114, 183, 188),\n",
              " (200, 'User 201', 25, 153, 159, 129, 139, 218),\n",
              " (201, 'User 202', 18, 114, 153, 178, 138, 124),\n",
              " (202, 'User 203', 22, 184, 84, 129, 233, 133),\n",
              " (203, 'User 204', 18, 84, 193, 188, 80, 138),\n",
              " (204, 'User 205', 18, 178, 129, 104, 183, 163),\n",
              " (205, 'User 206', 18, 114, 163, 163, 148, 124),\n",
              " (206, 'User 207', 16, 132, 94, 178, 109, 120),\n",
              " (207, 'User 208', 20, 93, 183, 178, 89, 140),\n",
              " (208, 'User 209', 16, 137, 104, 173, 109, 130),\n",
              " (209, 'User 210', 18, 153, 74, 114, 188, 129),\n",
              " (210, 'User 211', 18, 128, 114, 168, 124, 124),\n",
              " (211, 'User 212', 22, 114, 228, 119, 99, 168),\n",
              " (212, 'User 213', 22, 178, 89, 114, 203, 139),\n",
              " (213, 'User 214', 18, 173, 84, 99, 193, 158),\n",
              " (214, 'User 215', 20, 168, 89, 124, 183, 129),\n",
              " (215, 'User 216', 18, 83, 198, 163, 84, 140),\n",
              " (216, 'User 217', 22, 144, 173, 134, 173, 149),\n",
              " (217, 'User 218', 18, 198, 64, 89, 203, 153),\n",
              " (218, 'User 219', 20, 114, 208, 114, 119, 168),\n",
              " (219, 'User 220', 18, 114, 183, 114, 109, 178),\n",
              " (220, 'User 221', 18, 114, 173, 183, 128, 124),\n",
              " (221, 'User 222', 18, 128, 134, 188, 89, 124),\n",
              " (222, 'User 223', 18, 143, 154, 129, 129, 178),\n",
              " (223, 'User 224', 18, 128, 163, 173, 133, 130),\n",
              " (224, 'User 225', 18, 148, 99, 139, 168, 129),\n",
              " (225, 'User 226', 18, 83, 218, 163, 74, 140),\n",
              " (226, 'User 227', 22, 120, 168, 158, 144, 133),\n",
              " (227, 'User 228', 22, 203, 99, 104, 223, 173),\n",
              " (228, 'User 229', 18, 143, 139, 119, 139, 203),\n",
              " (229, 'User 230', 22, 153, 144, 139, 144, 193),\n",
              " (230, 'User 231', 18, 147, 144, 129, 149, 144),\n",
              " (231, 'User 232', 18, 188, 74, 109, 213, 168),\n",
              " (232, 'User 233', 25, 158, 154, 154, 154, 153),\n",
              " (233, 'User 234', 25, 104, 208, 168, 134, 144),\n",
              " (234, 'User 235', 25, 139, 153, 193, 158, 134),\n",
              " (235, 'User 236', 25, 84, 247, 168, 109, 140),\n",
              " (236, 'User 237', 25, 173, 89, 124, 233, 158),\n",
              " (237, 'User 238', 8, 93, 119, 99, 89, 138),\n",
              " (238, 'User 239', 22, 124, 168, 208, 148, 124),\n",
              " (239, 'User 240', 18, 114, 158, 178, 158, 124),\n",
              " (240, 'User 241', 20, 188, 94, 94, 223, 153),\n",
              " (241, 'User 242', 25, 114, 238, 124, 104, 178),\n",
              " (242, 'User 243', 18, 94, 188, 148, 99, 139),\n",
              " (243, 'User 244', 25, 129, 318, 94, 89, 188),\n",
              " (244, 'User 245', 18, 139, 148, 129, 129, 168),\n",
              " (245, 'User 246', 22, 114, 228, 104, 84, 168),\n",
              " (246, 'User 247', 20, 124, 178, 104, 158, 174),\n",
              " (247, 'User 248', 20, 133, 149, 139, 144, 213),\n",
              " (248, 'User 249', 20, 143, 149, 139, 159, 143)]"
            ]
          },
          "metadata": {
            "tags": []
          },
          "execution_count": 21
        }
      ]
    },
    {
      "cell_type": "code",
      "metadata": {
        "id": "j4bPyg8ttPDR",
        "colab_type": "code",
        "outputId": "aae05cf6-464e-4818-e86d-1e3cca9787db",
        "colab": {
          "base_uri": "https://localhost:8080/",
          "height": 34
        }
      },
      "source": [
        "# How many rows do you have in this table?\n",
        "query = \"\"\"\n",
        "SELECT COUNT(*) FROM review;\n",
        "\"\"\"\n",
        "\n",
        "csr.execute(query).fetchall()"
      ],
      "execution_count": 24,
      "outputs": [
        {
          "output_type": "execute_result",
          "data": {
            "text/plain": [
              "[(249,)]"
            ]
          },
          "metadata": {
            "tags": []
          },
          "execution_count": 24
        }
      ]
    },
    {
      "cell_type": "code",
      "metadata": {
        "id": "FcSJZD7qtUmA",
        "colab_type": "code",
        "outputId": "508b113f-afe8-4ce1-d932-62f97051301c",
        "colab": {
          "base_uri": "https://localhost:8080/",
          "height": 34
        }
      },
      "source": [
        "# How many users who reviewed at least 100 Nature in the category\n",
        "# also reviewed at least 100 in the Shopping Category\n",
        "\n",
        "high_nature_shopping_query = '''\n",
        "SELECT COUNT(*) FROM review \n",
        "WHERE Nature >= 100 \n",
        "AND Shopping >= 100\n",
        "'''\n",
        "\n",
        "n_s = engine.execute(high_nature_shopping_query).fetchall()\n",
        "\n",
        "# Double-check our answers by looking at counts of each query\n",
        "\n",
        "print('Answer:', n_s)"
      ],
      "execution_count": 0,
      "outputs": [
        {
          "output_type": "stream",
          "text": [
            "Answer: [(78,)]\n"
          ],
          "name": "stdout"
        }
      ]
    },
    {
      "cell_type": "code",
      "metadata": {
        "id": "4-WUT_Em_w_M",
        "colab_type": "code",
        "colab": {}
      },
      "source": [
        "avg_review_sports_query = '''\n",
        "SELECT AVG(Sports)\n",
        "FROM review\n",
        "    '''\n",
        "\n",
        "# SELECT avg(c)\n",
        "# \tFROM\n",
        "# \t(\n",
        "# \tSELECT character_id, COUNT(item_id) as c\n",
        "# \tFROM charactercreator_character_inventory\n",
        "# \tGROUP BY character_id\n",
        "# \t)   "
      ],
      "execution_count": 0,
      "outputs": []
    },
    {
      "cell_type": "code",
      "metadata": {
        "id": "-BSw7lqmCpwU",
        "colab_type": "code",
        "outputId": "cdeb5cb2-95ac-40d8-93d5-c65f4fe0f401",
        "colab": {
          "base_uri": "https://localhost:8080/",
          "height": 34
        }
      },
      "source": [
        "print('Average # of Sports Reviews', engine.execute(avg_review_sports_query).fetchall())"
      ],
      "execution_count": 0,
      "outputs": [
        {
          "output_type": "stream",
          "text": [
            "Average # of Sports Reviews [(11.987951807228916,)]\n"
          ],
          "name": "stdout"
        }
      ]
    },
    {
      "cell_type": "code",
      "metadata": {
        "id": "33lM6ykKDDMt",
        "colab_type": "code",
        "outputId": "0b01bee6-df47-41c2-e9f0-36e19d1f577e",
        "colab": {
          "base_uri": "https://localhost:8080/",
          "height": 34
        }
      },
      "source": [
        "avg_review_religious_query = '''\n",
        "SELECT AVG(Religious)\n",
        "FROM review\n",
        "'''\n",
        "\n",
        "print('Average # of Religious Reviews', engine.execute(avg_review_religious_query).fetchall())"
      ],
      "execution_count": 0,
      "outputs": [
        {
          "output_type": "stream",
          "text": [
            "Average # of Religious Reviews [(109.77911646586345,)]\n"
          ],
          "name": "stdout"
        }
      ]
    },
    {
      "cell_type": "code",
      "metadata": {
        "id": "BprLaFy0E3Of",
        "colab_type": "code",
        "outputId": "b9188262-6615-4b33-b2c7-70ade6832fd5",
        "colab": {
          "base_uri": "https://localhost:8080/",
          "height": 34
        }
      },
      "source": [
        "avg_review_nature_query = '''\n",
        "SELECT AVG(Nature)\n",
        "FROM review\n",
        "'''\n",
        "\n",
        "print('Average # of Nature Reviews', engine.execute(avg_review_nature_query).fetchall())"
      ],
      "execution_count": 0,
      "outputs": [
        {
          "output_type": "stream",
          "text": [
            "Average # of Nature Reviews [(124.51807228915662,)]\n"
          ],
          "name": "stdout"
        }
      ]
    },
    {
      "cell_type": "code",
      "metadata": {
        "id": "s6H6LWEZE7n_",
        "colab_type": "code",
        "outputId": "a4696792-5a44-4555-c5d8-5b937efd71c7",
        "colab": {
          "base_uri": "https://localhost:8080/",
          "height": 34
        }
      },
      "source": [
        "avg_review_shopping_query = '''\n",
        "SELECT AVG(Shopping)\n",
        "FROM review\n",
        "'''\n",
        "\n",
        "print('Average # of Shopping Reviews', engine.execute(avg_review_shopping_query).fetchall())"
      ],
      "execution_count": 0,
      "outputs": [
        {
          "output_type": "stream",
          "text": [
            "Average # of Shopping Reviews [(112.63855421686748,)]\n"
          ],
          "name": "stdout"
        }
      ]
    },
    {
      "cell_type": "code",
      "metadata": {
        "id": "DUVA0gpFFBIt",
        "colab_type": "code",
        "outputId": "8e5da92f-36ea-40bb-cbb7-cea7f566e7ba",
        "colab": {
          "base_uri": "https://localhost:8080/",
          "height": 34
        }
      },
      "source": [
        "avg_review_theatre_query = '''\n",
        "SELECT AVG(Theatre)\n",
        "FROM review\n",
        "'''\n",
        "\n",
        "print('Average # of Theatre Reviews', engine.execute(avg_review_theatre_query).fetchall())"
      ],
      "execution_count": 0,
      "outputs": [
        {
          "output_type": "stream",
          "text": [
            "Average # of Theatre Reviews [(116.37751004016064,)]\n"
          ],
          "name": "stdout"
        }
      ]
    },
    {
      "cell_type": "code",
      "metadata": {
        "id": "WD6hOrNcFF5p",
        "colab_type": "code",
        "outputId": "2aa58656-c969-4623-a4f2-f9b0af94d107",
        "colab": {
          "base_uri": "https://localhost:8080/",
          "height": 34
        }
      },
      "source": [
        "avg_review_picnic_query = '''\n",
        "SELECT AVG(Picnic)\n",
        "FROM review\n",
        "'''\n",
        "\n",
        "print('Average # of Picnic Reviews', engine.execute(avg_review_picnic_query).fetchall())"
      ],
      "execution_count": 0,
      "outputs": [
        {
          "output_type": "stream",
          "text": [
            "Average # of Picnic Reviews [(120.40160642570281,)]\n"
          ],
          "name": "stdout"
        }
      ]
    }
  ]
}