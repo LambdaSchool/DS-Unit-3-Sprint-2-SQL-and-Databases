{
 "cells": [
  {
   "cell_type": "code",
   "execution_count": 1,
   "metadata": {},
   "outputs": [
    {
     "name": "stdout",
     "output_type": "stream",
     "text": [
      "/Users/connorheraty/Desktop/Repos/DS-Unit-3-Sprint-2-SQL-and-Databases/module1-introduction-to-sql\n"
     ]
    }
   ],
   "source": [
    "cd Desktop/Repos/DS-Unit-3-Sprint-2-SQL-and-Databases/module1-introduction-to-sql"
   ]
  },
  {
   "cell_type": "code",
   "execution_count": 2,
   "metadata": {},
   "outputs": [],
   "source": [
    "import sqlite3"
   ]
  },
  {
   "cell_type": "code",
   "execution_count": 3,
   "metadata": {},
   "outputs": [],
   "source": [
    "conn = sqlite3.connect('rpg_db.sqlite3')\n",
    "curs = conn.cursor()"
   ]
  },
  {
   "cell_type": "code",
   "execution_count": 5,
   "metadata": {},
   "outputs": [],
   "source": [
    "# Query Function\n",
    "def query(query):\n",
    "    result = curs.execute(query)\n",
    "    return result.fetchall()"
   ]
  },
  {
   "cell_type": "markdown",
   "metadata": {},
   "source": [
    "### How many total Characters are there?"
   ]
  },
  {
   "cell_type": "code",
   "execution_count": 31,
   "metadata": {},
   "outputs": [],
   "source": [
    "total_char = 'SELECT COUNT(character_id) FROM charactercreator_character;'"
   ]
  },
  {
   "cell_type": "code",
   "execution_count": 32,
   "metadata": {},
   "outputs": [
    {
     "name": "stdout",
     "output_type": "stream",
     "text": [
      "There are 302 total characters\n"
     ]
    }
   ],
   "source": [
    "total_char = query(total_char)[0][0]\n",
    "print('There are',total_char, 'total characters')"
   ]
  },
  {
   "cell_type": "markdown",
   "metadata": {},
   "source": [
    "### How many of each specific subclass? "
   ]
  },
  {
   "cell_type": "code",
   "execution_count": 26,
   "metadata": {},
   "outputs": [],
   "source": [
    "mage = 'SELECT COUNT(cm.character_ptr_id) FROM charactercreator_mage as cm;'\n",
    "thief = 'SELECT COUNT(ct.character_ptr_id) FROM charactercreator_thief as ct;'\n",
    "cleric = 'SELECT COUNT(ccl.character_ptr_id) FROM charactercreator_cleric as ccl;'\n",
    "fighter = 'SELECT COUNT(cf.character_ptr_id) FROM charactercreator_fighter as cf;'\n",
    "necro = 'SELECT COUNT(cn.mage_ptr_id) FROM charactercreator_necromancer as cn;'"
   ]
  },
  {
   "cell_type": "code",
   "execution_count": 27,
   "metadata": {},
   "outputs": [
    {
     "name": "stdout",
     "output_type": "stream",
     "text": [
      "There are 97 mages in total\n",
      "There are 51 thieves in total\n",
      "There are 75 clerics in total\n",
      "There are 68 fighters in total\n",
      "There are 11 necromancers in total\n"
     ]
    }
   ],
   "source": [
    "total_mage = query(mage)[0][0]\n",
    "total_thief = query(thief)[0][0]\n",
    "total_cleric = query(cleric)[0][0]\n",
    "total_fighter = query(fighter)[0][0]\n",
    "\n",
    "# Necromancer is a subclass of mage\n",
    "total_necro = query(necro)[0][0]\n",
    "# Subtract necromancers from mage class\n",
    "total_mage = total_mage - total_necro\n",
    "\n",
    "print('There are',str(total_mage), 'mages in total')\n",
    "print('There are',str(total_thief), 'thieves in total')\n",
    "print('There are',str(total_cleric), 'clerics in total')\n",
    "print('There are',str(total_fighter), 'fighters in total')\n",
    "print('There are',str(total_necro), 'necromancers in total')"
   ]
  },
  {
   "cell_type": "markdown",
   "metadata": {},
   "source": [
    "### How many total items?"
   ]
  },
  {
   "cell_type": "code",
   "execution_count": 34,
   "metadata": {},
   "outputs": [
    {
     "name": "stdout",
     "output_type": "stream",
     "text": [
      "There are 174 total items\n"
     ]
    }
   ],
   "source": [
    "items = 'SELECT COUNT(ai.item_id) FROM armory_item as ai;'\n",
    "total_items = query(items)[0][0]\n",
    "print(\"There are\", total_items, \"total items\")"
   ]
  },
  {
   "cell_type": "markdown",
   "metadata": {},
   "source": [
    "### How many of the Items are weapons? How many are not?"
   ]
  },
  {
   "cell_type": "code",
   "execution_count": 36,
   "metadata": {},
   "outputs": [
    {
     "name": "stdout",
     "output_type": "stream",
     "text": [
      "37 of the items in the armory are weapons, 137 are not\n"
     ]
    }
   ],
   "source": [
    "weapons = 'SELECT COUNT(aw.item_ptr_id) FROM armory_weapon as aw;'\n",
    "total_weapons = query(weapons)[0][0]\n",
    "non_weapons = total_items - total_weapons\n",
    "print(total_weapons, 'of the items in the armory are weapons,', non_weapons, 'are not')"
   ]
  },
  {
   "cell_type": "markdown",
   "metadata": {},
   "source": [
    "### How many Items does each character have? (Return first 20 rows)"
   ]
  },
  {
   "cell_type": "code",
   "execution_count": 66,
   "metadata": {},
   "outputs": [],
   "source": [
    "char_items = \"\"\"\n",
    "SELECT cc.name, COUNT(DISTINCT ai.item_id)\n",
    "FROM charactercreator_character AS cc, charactercreator_character_inventory AS cci, armory_item AS ai\n",
    "WHERE cc.character_id = cci.character_id\n",
    "AND ai.item_id=cci.item_id\n",
    "GROUP BY 1\n",
    "LIMIT 20;\n",
    "\"\"\""
   ]
  },
  {
   "cell_type": "code",
   "execution_count": 86,
   "metadata": {},
   "outputs": [
    {
     "name": "stdout",
     "output_type": "stream",
     "text": [
      "The first 20 characters have the following items:  [('A rem ex', 1), ('A sed pariatur qua', 1), ('Ab illum invento', 3), ('Ab voluptas se', 5), ('Acc', 5), ('Accusa', 3), ('Accusantium amet quidem eve', 3), ('Accusantium qu', 3), ('Accusantium vitae n', 3), ('Ad necess', 2), ('Adip', 3), ('Adipisci molest', 2), ('Adipisci voluptas', 4), ('Ali', 4), ('Aliqu', 5), ('Aliquam n', 5), ('Aliquid iste optio reiciendi', 3), ('Amet quo fugit aliquam sequi', 5), ('Animi labo', 3), ('Aper', 1)]\n"
     ]
    }
   ],
   "source": [
    "num_items = query(char_items)\n",
    "print(\"The first 20 characters have the following items: \", num_items)"
   ]
  },
  {
   "cell_type": "markdown",
   "metadata": {},
   "source": [
    "### How many Weapons does each character have? (Return first 20 rows)"
   ]
  },
  {
   "cell_type": "code",
   "execution_count": 68,
   "metadata": {},
   "outputs": [],
   "source": [
    "char_weapons = \"\"\"\n",
    "SELECT cc.name, COUNT(DISTINCT aw.item_ptr_id)\n",
    "FROM charactercreator_character AS cc, charactercreator_character_inventory AS cci, armory_item AS ai, armory_weapon as aw\n",
    "WHERE cc.character_id = cci.character_id\n",
    "AND ai.item_id=cci.item_id\n",
    "AND ai.item_id=aw.item_ptr_id\n",
    "GROUP BY 1\n",
    "LIMIT 20;\n",
    "\"\"\""
   ]
  },
  {
   "cell_type": "code",
   "execution_count": 87,
   "metadata": {},
   "outputs": [
    {
     "name": "stdout",
     "output_type": "stream",
     "text": [
      "Of the first 20 characters carrying weapons, these are how many they have:  [('Ab illum invento', 1), ('Ab voluptas se', 3), ('Acc', 2), ('Accusa', 1), ('Accusantium qu', 1), ('Accusantium vitae n', 1), ('Ad necess', 1), ('Adipisci voluptas', 1), ('Aliqu', 2), ('Aliquam n', 1), ('Amet quo fugit aliquam sequi', 1), ('Aperiam sit', 1), ('Architecto i', 1), ('Architecto repudian', 2), ('Asperi', 2), ('At id recusandae expl', 2), ('At sint ducimus nostrum i', 1), ('Autem eos voluptates off', 1), ('Autem lib', 1), ('Autem mollitia fuga lauda', 2)]\n"
     ]
    }
   ],
   "source": [
    "num_weapons = query(char_weapons)\n",
    "print('Of the first 20 characters carrying weapons, these are how many they have: ', num_weapons)\n"
   ]
  },
  {
   "cell_type": "markdown",
   "metadata": {},
   "source": [
    "### On average, how many Items does each Character have?"
   ]
  },
  {
   "cell_type": "code",
   "execution_count": 80,
   "metadata": {},
   "outputs": [],
   "source": [
    "avg_items = \"\"\"\n",
    "SELECT AVG(num_items) FROM\n",
    "(SELECT cc.name, COUNT(DISTINCT ai.item_id) as num_items\n",
    "FROM charactercreator_character AS cc, charactercreator_character_inventory AS cci, armory_item AS ai\n",
    "WHERE cc.character_id = cci.character_id\n",
    "AND ai.item_id=cci.item_id\n",
    "GROUP BY 1\n",
    "LIMIT 20);\n",
    "\"\"\""
   ]
  },
  {
   "cell_type": "code",
   "execution_count": 88,
   "metadata": {},
   "outputs": [
    {
     "name": "stdout",
     "output_type": "stream",
     "text": [
      "The average character has 3.2 items\n"
     ]
    }
   ],
   "source": [
    "avg_items = query(avg_items)[0][0]\n",
    "print('The average character has', avg_items, 'items')\n"
   ]
  },
  {
   "cell_type": "markdown",
   "metadata": {},
   "source": [
    "### On average, how many Weapons does each character have?"
   ]
  },
  {
   "cell_type": "code",
   "execution_count": 84,
   "metadata": {},
   "outputs": [],
   "source": [
    "avg_weapons = \"\"\"\n",
    "SELECT AVG(num_weapons) FROM\n",
    "(SELECT cc.name, COUNT(DISTINCT aw.item_ptr_id) as num_weapons\n",
    "FROM charactercreator_character AS cc, charactercreator_character_inventory AS cci, armory_item AS ai, armory_weapon as aw\n",
    "WHERE cc.character_id = cci.character_id\n",
    "AND ai.item_id=cci.item_id\n",
    "AND ai.item_id=aw.item_ptr_id\n",
    "GROUP BY 1\n",
    "LIMIT 20);\n",
    "\"\"\""
   ]
  },
  {
   "cell_type": "code",
   "execution_count": 89,
   "metadata": {},
   "outputs": [
    {
     "name": "stdout",
     "output_type": "stream",
     "text": [
      "The average character has 1.4 weapons\n"
     ]
    }
   ],
   "source": [
    "avg_weapons = query(avg_weapons)[0][0]\n",
    "print('The average character has', avg_weapons, 'weapons')"
   ]
  },
  {
   "cell_type": "code",
   "execution_count": null,
   "metadata": {},
   "outputs": [],
   "source": []
  }
 ],
 "metadata": {
  "kernelspec": {
   "display_name": "Python 3",
   "language": "python",
   "name": "python3"
  },
  "language_info": {
   "codemirror_mode": {
    "name": "ipython",
    "version": 3
   },
   "file_extension": ".py",
   "mimetype": "text/x-python",
   "name": "python",
   "nbconvert_exporter": "python",
   "pygments_lexer": "ipython3",
   "version": "3.7.1"
  }
 },
 "nbformat": 4,
 "nbformat_minor": 2
}
