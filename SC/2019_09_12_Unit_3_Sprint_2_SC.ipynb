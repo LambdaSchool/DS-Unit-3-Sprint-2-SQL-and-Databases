{
 "cells": [
  {
   "cell_type": "markdown",
   "metadata": {},
   "source": [
    "## Part 2 - The Northwind Database"
   ]
  },
  {
   "cell_type": "code",
   "execution_count": 1,
   "metadata": {
    "ExecuteTime": {
     "end_time": "2019-09-13T17:11:20.751609Z",
     "start_time": "2019-09-13T17:11:20.745647Z"
    }
   },
   "outputs": [],
   "source": [
    "import sqlite3_helper as sql3"
   ]
  },
  {
   "cell_type": "markdown",
   "metadata": {},
   "source": [
    "### Create Connection"
   ]
  },
  {
   "cell_type": "code",
   "execution_count": 2,
   "metadata": {
    "ExecuteTime": {
     "end_time": "2019-09-13T17:11:20.786156Z",
     "start_time": "2019-09-13T17:11:20.753291Z"
    }
   },
   "outputs": [
    {
     "name": "stdout",
     "output_type": "stream",
     "text": [
      "Using SQLite version: 2.6.0\n",
      "Creating Connection to northwind_small.sqlite3...\n"
     ]
    }
   ],
   "source": [
    "conn = sql3.create_connection('northwind_small.sqlite3', verbose=True)"
   ]
  },
  {
   "cell_type": "markdown",
   "metadata": {},
   "source": [
    "### Northwind ERD"
   ]
  },
  {
   "cell_type": "markdown",
   "metadata": {},
   "source": [
    "![](northwind_erd.png)"
   ]
  },
  {
   "cell_type": "markdown",
   "metadata": {},
   "source": [
    "### Print all tables in database"
   ]
  },
  {
   "cell_type": "code",
   "execution_count": 3,
   "metadata": {
    "ExecuteTime": {
     "end_time": "2019-09-13T17:11:20.820287Z",
     "start_time": "2019-09-13T17:11:20.788045Z"
    }
   },
   "outputs": [
    {
     "name": "stdout",
     "output_type": "stream",
     "text": [
      "-------------- TABLES IN SQLITE3 DATABASE --------------\n",
      "('Category',)\n",
      "('Customer',)\n",
      "('CustomerCustomerDemo',)\n",
      "('CustomerDemographic',)\n",
      "('Employee',)\n",
      "('EmployeeTerritory',)\n",
      "('Order',)\n",
      "('OrderDetail',)\n",
      "('Product',)\n",
      "('Region',)\n",
      "('Shipper',)\n",
      "('Supplier',)\n",
      "('Territory',)\n"
     ]
    }
   ],
   "source": [
    "tables = sql3.get_sql_tables(conn, verbose=True)"
   ]
  },
  {
   "cell_type": "markdown",
   "metadata": {},
   "source": [
    "### Get `Customer` table info"
   ]
  },
  {
   "cell_type": "code",
   "execution_count": 4,
   "metadata": {
    "ExecuteTime": {
     "end_time": "2019-09-13T17:11:20.855750Z",
     "start_time": "2019-09-13T17:11:20.822482Z"
    }
   },
   "outputs": [
    {
     "name": "stdout",
     "output_type": "stream",
     "text": [
      "-------------- COLUMN INFO FOR Customer --------------\n",
      "cid            name           type           notnull        dflt_value     pk             \n",
      "0              Id             VARCHAR(8000)  0                             1              \n",
      "1              CompanyName    VARCHAR(8000)  0                             0              \n",
      "2              ContactName    VARCHAR(8000)  0                             0              \n",
      "3              ContactTitle   VARCHAR(8000)  0                             0              \n",
      "4              Address        VARCHAR(8000)  0                             0              \n",
      "5              City           VARCHAR(8000)  0                             0              \n",
      "6              Region         VARCHAR(8000)  0                             0              \n",
      "7              PostalCode     VARCHAR(8000)  0                             0              \n",
      "8              Country        VARCHAR(8000)  0                             0              \n",
      "9              Phone          VARCHAR(8000)  0                             0              \n",
      "10             Fax            VARCHAR(8000)  0                             0              \n"
     ]
    }
   ],
   "source": [
    "customer_info = sql3.get_table_info(conn, 'Customer', verbose=True)"
   ]
  },
  {
   "cell_type": "markdown",
   "metadata": {},
   "source": [
    "### Get `Product` table info"
   ]
  },
  {
   "cell_type": "code",
   "execution_count": 5,
   "metadata": {
    "ExecuteTime": {
     "end_time": "2019-09-13T17:11:20.889914Z",
     "start_time": "2019-09-13T17:11:20.858985Z"
    }
   },
   "outputs": [
    {
     "name": "stdout",
     "output_type": "stream",
     "text": [
      "-------------- COLUMN INFO FOR Product --------------\n",
      "cid            name           type           notnull        dflt_value     pk             \n",
      "0              Id             INTEGER        0                             1              \n",
      "1              ProductName    VARCHAR(8000)  0                             0              \n",
      "2              SupplierId     INTEGER        1                             0              \n",
      "3              CategoryId     INTEGER        1                             0              \n",
      "4              QuantityPerUnitVARCHAR(8000)  0                             0              \n",
      "5              UnitPrice      DECIMAL        1                             0              \n",
      "6              UnitsInStock   INTEGER        1                             0              \n",
      "7              UnitsOnOrder   INTEGER        1                             0              \n",
      "8              ReorderLevel   INTEGER        1                             0              \n",
      "9              Discontinued   INTEGER        1                             0              \n"
     ]
    }
   ],
   "source": [
    "product_info = sql3.get_table_info(conn, 'Product', verbose=True)"
   ]
  },
  {
   "cell_type": "markdown",
   "metadata": {},
   "source": [
    "### Get `Employee` table info"
   ]
  },
  {
   "cell_type": "code",
   "execution_count": 6,
   "metadata": {
    "ExecuteTime": {
     "end_time": "2019-09-13T17:11:20.926551Z",
     "start_time": "2019-09-13T17:11:20.893149Z"
    }
   },
   "outputs": [
    {
     "name": "stdout",
     "output_type": "stream",
     "text": [
      "-------------- COLUMN INFO FOR Employee --------------\n",
      "cid            name           type           notnull        dflt_value     pk             \n",
      "0              Id             INTEGER        0                             1              \n",
      "1              LastName       VARCHAR(8000)  0                             0              \n",
      "2              FirstName      VARCHAR(8000)  0                             0              \n",
      "3              Title          VARCHAR(8000)  0                             0              \n",
      "4              TitleOfCourtesyVARCHAR(8000)  0                             0              \n",
      "5              BirthDate      VARCHAR(8000)  0                             0              \n",
      "6              HireDate       VARCHAR(8000)  0                             0              \n",
      "7              Address        VARCHAR(8000)  0                             0              \n",
      "8              City           VARCHAR(8000)  0                             0              \n",
      "9              Region         VARCHAR(8000)  0                             0              \n",
      "10             PostalCode     VARCHAR(8000)  0                             0              \n",
      "11             Country        VARCHAR(8000)  0                             0              \n",
      "12             HomePhone      VARCHAR(8000)  0                             0              \n",
      "13             Extension      VARCHAR(8000)  0                             0              \n",
      "14             Photo          BLOB           0                             0              \n",
      "15             Notes          VARCHAR(8000)  0                             0              \n",
      "16             ReportsTo      INTEGER        0                             0              \n",
      "17             PhotoPath      VARCHAR(8000)  0                             0              \n"
     ]
    }
   ],
   "source": [
    "employee_info = sql3.get_table_info(conn, 'Employee', verbose=True)"
   ]
  },
  {
   "cell_type": "markdown",
   "metadata": {},
   "source": [
    "### Get `Category` table info"
   ]
  },
  {
   "cell_type": "code",
   "execution_count": 7,
   "metadata": {
    "ExecuteTime": {
     "end_time": "2019-09-13T17:11:20.956435Z",
     "start_time": "2019-09-13T17:11:20.930201Z"
    }
   },
   "outputs": [
    {
     "name": "stdout",
     "output_type": "stream",
     "text": [
      "-------------- COLUMN INFO FOR Category --------------\n",
      "cid            name           type           notnull        dflt_value     pk             \n",
      "0              Id             INTEGER        0                             1              \n",
      "1              CategoryName   VARCHAR(8000)  0                             0              \n",
      "2              Description    VARCHAR(8000)  0                             0              \n"
     ]
    }
   ],
   "source": [
    "category_info = sql3.get_table_info(conn, 'Category', verbose=True)"
   ]
  },
  {
   "cell_type": "markdown",
   "metadata": {},
   "source": [
    "### Answer the following questions (each is from a single table):"
   ]
  },
  {
   "cell_type": "markdown",
   "metadata": {},
   "source": [
    "#### What are the ten most expensive items (per unit price) in the database?"
   ]
  },
  {
   "cell_type": "code",
   "execution_count": 8,
   "metadata": {
    "ExecuteTime": {
     "end_time": "2019-09-13T17:11:20.992681Z",
     "start_time": "2019-09-13T17:11:20.960167Z"
    }
   },
   "outputs": [
    {
     "name": "stdout",
     "output_type": "stream",
     "text": [
      "('Côte de Blaye', 263.5)\n",
      "('Thüringer Rostbratwurst', 123.79)\n",
      "('Mishi Kobe Niku', 97)\n",
      "(\"Sir Rodney's Marmalade\", 81)\n",
      "('Carnarvon Tigers', 62.5)\n",
      "('Raclette Courdavault', 55)\n",
      "('Manjimup Dried Apples', 53)\n",
      "('Tarte au sucre', 49.3)\n",
      "('Ipoh Coffee', 46)\n",
      "('Rössle Sauerkraut', 45.6)\n"
     ]
    }
   ],
   "source": [
    "most_expensive_items_query = \"\"\"SELECT ProductName, UnitPrice\n",
    "FROM Product\n",
    "ORDER BY UnitPrice DESC\n",
    "LIMIT 10;\n",
    "\"\"\"\n",
    "results = sql3.select_query(conn, most_expensive_items_query, verbose=True)"
   ]
  },
  {
   "cell_type": "markdown",
   "metadata": {},
   "source": [
    "#### What is the average age of an employee at the time of their hiring? (Hint: a lot of arithmetic works with dates.)"
   ]
  },
  {
   "cell_type": "code",
   "execution_count": 9,
   "metadata": {
    "ExecuteTime": {
     "end_time": "2019-09-13T17:11:21.093762Z",
     "start_time": "2019-09-13T17:11:21.064863Z"
    }
   },
   "outputs": [
    {
     "name": "stdout",
     "output_type": "stream",
     "text": [
      "(37.22,)\n"
     ]
    }
   ],
   "source": [
    "avg_age_employee_at_hiring_query = \"\"\"SELECT ROUND(AVG(HireDate-BirthDate), 2) as `Average Age of Employee at Hire` \n",
    "                                      FROM Employee;\"\"\"\n",
    "results = sql3.select_query(conn, avg_age_employee_at_hiring_query, verbose=True)"
   ]
  },
  {
   "cell_type": "markdown",
   "metadata": {},
   "source": [
    "#### (*Stretch*) How does the average age of employee at hire vary by city?"
   ]
  },
  {
   "cell_type": "code",
   "execution_count": 10,
   "metadata": {
    "ExecuteTime": {
     "end_time": "2019-09-13T17:11:21.093762Z",
     "start_time": "2019-09-13T17:11:21.064863Z"
    }
   },
   "outputs": [
    {
     "name": "stdout",
     "output_type": "stream",
     "text": [
      "(29.0, 'Kirkland')\n",
      "(32.5, 'London')\n",
      "(56.0, 'Redmond')\n",
      "(40.0, 'Seattle')\n",
      "(40.0, 'Tacoma')\n"
     ]
    }
   ],
   "source": [
    "avg_age_employee_at_hire_vary_by_city_query = \"\"\"SELECT ROUND(AVG(HireDate-BirthDate), 2) as `Average Age of Employee at Hire`, City\n",
    "FROM Employee\n",
    "GROUP BY City;\"\"\"\n",
    "results = sql3.select_query(conn, avg_age_employee_at_hire_vary_by_city_query, verbose=True)"
   ]
  },
  {
   "cell_type": "markdown",
   "metadata": {},
   "source": [
    "## Part 3 - Sailing the Northwind Seas"
   ]
  },
  {
   "cell_type": "markdown",
   "metadata": {},
   "source": [
    "#### What are the ten most expensive items (per unit price) in the database and their suppliers?"
   ]
  },
  {
   "cell_type": "code",
   "execution_count": 11,
   "metadata": {
    "ExecuteTime": {
     "end_time": "2019-09-13T17:11:21.093762Z",
     "start_time": "2019-09-13T17:11:21.064863Z"
    }
   },
   "outputs": [
    {
     "name": "stdout",
     "output_type": "stream",
     "text": [
      "('Côte de Blaye', 263.5, 'Aux joyeux ecclésiastiques')\n",
      "('Thüringer Rostbratwurst', 123.79, 'Plutzer Lebensmittelgroßmärkte AG')\n",
      "('Mishi Kobe Niku', 97, 'Tokyo Traders')\n",
      "(\"Sir Rodney's Marmalade\", 81, 'Specialty Biscuits, Ltd.')\n",
      "('Carnarvon Tigers', 62.5, 'Pavlova, Ltd.')\n",
      "('Raclette Courdavault', 55, 'Gai pâturage')\n",
      "('Manjimup Dried Apples', 53, \"G'day, Mate\")\n",
      "('Tarte au sucre', 49.3, \"Forêts d'érables\")\n",
      "('Ipoh Coffee', 46, 'Leka Trading')\n",
      "('Rössle Sauerkraut', 45.6, 'Plutzer Lebensmittelgroßmärkte AG')\n"
     ]
    }
   ],
   "source": [
    "most_expensive_items_supplier_query = \"\"\"SELECT ProductName, UnitPrice, CompanyName\n",
    "FROM Product\n",
    "JOIN Supplier \n",
    "    ON Product.SupplierId = Supplier.Id\n",
    "ORDER BY UnitPrice DESC\n",
    "LIMIT 10;\"\"\"\n",
    "results = sql3.select_query(conn, most_expensive_items_supplier_query, verbose=True)"
   ]
  },
  {
   "cell_type": "markdown",
   "metadata": {},
   "source": [
    "#### What is the largest category (by number of unique products in it)?"
   ]
  },
  {
   "cell_type": "code",
   "execution_count": 12,
   "metadata": {
    "ExecuteTime": {
     "end_time": "2019-09-13T17:11:21.163868Z",
     "start_time": "2019-09-13T17:11:21.133890Z"
    }
   },
   "outputs": [
    {
     "name": "stdout",
     "output_type": "stream",
     "text": [
      "('Confections', 13)\n"
     ]
    }
   ],
   "source": [
    "largest_category_query = \"\"\"SELECT CategoryName, COUNT(DISTINCT ProductName) AS Count\n",
    "FROM Category\n",
    "JOIN Product \n",
    "    ON Category.Id = Product.CategoryId\n",
    "GROUP BY CategoryName\n",
    "ORDER BY Count DESC\n",
    "LIMIT 1;\"\"\"\n",
    "results = sql3.select_query(conn, largest_category_query, verbose=True)"
   ]
  },
  {
   "cell_type": "markdown",
   "metadata": {},
   "source": [
    "#### (*Stretch*) Who's the employee with the most territories? Use TerritoryId (not name, region, or other fields) as the unique identifier for territories."
   ]
  },
  {
   "cell_type": "code",
   "execution_count": 13,
   "metadata": {
    "ExecuteTime": {
     "end_time": "2019-09-13T17:11:21.163868Z",
     "start_time": "2019-09-13T17:11:21.133890Z"
    }
   },
   "outputs": [
    {
     "name": "stdout",
     "output_type": "stream",
     "text": [
      "('Robert', 'King', 10)\n"
     ]
    }
   ],
   "source": [
    "most_territories_query = \"\"\"SELECT E.FirstName, E.LastName, COUNT(ET.TerritoryId) AS TerritoryCount \n",
    "FROM Employee AS E\n",
    "JOIN EmployeeTerritory AS ET \n",
    "    ON E.Id = ET.EmployeeId\n",
    "GROUP BY E.Id\n",
    "ORDER BY TerritoryCount DESC\n",
    "LIMIT 1;\"\"\"\n",
    "results = sql3.select_query(conn, most_territories_query, verbose=True)"
   ]
  },
  {
   "cell_type": "markdown",
   "metadata": {},
   "source": [
    "#### Closing connection"
   ]
  },
  {
   "cell_type": "code",
   "execution_count": 14,
   "metadata": {
    "ExecuteTime": {
     "end_time": "2019-09-13T17:11:21.199220Z",
     "start_time": "2019-09-13T17:11:21.166233Z"
    }
   },
   "outputs": [],
   "source": [
    "conn.close()"
   ]
  },
  {
   "cell_type": "markdown",
   "metadata": {},
   "source": [
    "## Part 4 - Questions (and your Answers)\n",
    "\n",
    "Answer the following questions, baseline ~3-5 sentences each, as if they were interview screening questions (a form you fill when applying for a job):"
   ]
  },
  {
   "cell_type": "markdown",
   "metadata": {},
   "source": [
    "- In the Northwind database, what is the type of relationship between the Employee and Territory tables?\n",
    "\n",
    "The relationship between `Employee` and `Territory` is **Many-to-Many (M:M)**, which is resolved using a *junction table* - `EmployeeTerritory` which connects both `Employee` and `Territory` with **two** **One-to-Many (1:M)** relationship. So, we can say `Employee` and `Territory` is pair of **1:M** relationships.\n",
    "\n",
    "Reference: [Many-to-Many](https://en.wikipedia.org/wiki/Many-to-many_%28data_model%29)"
   ]
  },
  {
   "cell_type": "markdown",
   "metadata": {},
   "source": [
    "- What is a situation where a document store (like MongoDB) is appropriate, and what is a situation where it is not appropriate?\n",
    "\n",
    "Document Store like MongoDB store documents as **Key-Value** pairs, they also allow nested **Key-Value** pairs which allows for *flexibility in storing data without preemptively specifying structure*. Which allows for faster prototyping, and is good for situations where you need to rapidly develop and deploy to get quick feedback. As oppose to Relational databases which require a rigid schema structure, NoSQl is schema-free. \n",
    "\n",
    "One situation where MongoDB would be appropriate is: When you are a small startup and need to rapidly develop and iterate through prototypes and scale easily, in order to demonstrate functionality to investors, and keep up with increasing demand.\n",
    "\n",
    "Alternatively, when it's not appropriate: Is when you are a dealing with financial data, like Banks, where mission critical-data demands for high reliability and integrity than scalability. For example, Banks need a Relational database, that has a up-front schema, as oppose schema-free Document Store database.  "
   ]
  },
  {
   "cell_type": "markdown",
   "metadata": {},
   "source": [
    "- What is \"NewSQL\", and what is it trying to achieve?\n",
    "\n",
    "**NewSQL** is a buzz-word that defines a class of RDBMS that seek to provide the scalability of NoSQL databases while maintaining the ACID guarantees of a traditional databases. Goal they are trying to achieve is high scalability of NoSQL databases and relational data model that confirms ACID properties. "
   ]
  }
 ],
 "metadata": {
  "kernelspec": {
   "display_name": "Python 3.6 (practicalml)",
   "language": "python",
   "name": "practicalml"
  },
  "language_info": {
   "codemirror_mode": {
    "name": "ipython",
    "version": 3
   },
   "file_extension": ".py",
   "mimetype": "text/x-python",
   "name": "python",
   "nbconvert_exporter": "python",
   "pygments_lexer": "ipython3",
   "version": "3.7.4"
  }
 },
 "nbformat": 4,
 "nbformat_minor": 2
}
