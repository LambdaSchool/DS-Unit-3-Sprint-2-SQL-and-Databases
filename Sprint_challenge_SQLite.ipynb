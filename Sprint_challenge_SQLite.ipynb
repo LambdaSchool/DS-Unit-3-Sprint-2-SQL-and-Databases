{
 "cells": [
  {
   "cell_type": "markdown",
   "metadata": {},
   "source": [
    "## Part 1"
   ]
  },
  {
   "cell_type": "code",
   "execution_count": 1,
   "metadata": {},
   "outputs": [],
   "source": [
    "# import sqlite3 and create a file 'demo_data.sqlite3'\n",
    "# open a connection\n",
    "\n",
    "import sqlite3\n",
    "conn = sqlite3.connect('demo_data.sqlite3')\n",
    "\n",
    "#create a cursor\n",
    "curs = conn.cursor()"
   ]
  },
  {
   "cell_type": "code",
   "execution_count": 2,
   "metadata": {},
   "outputs": [
    {
     "data": {
      "text/plain": [
       "<sqlite3.Cursor at 0x7f10147128f0>"
      ]
     },
     "execution_count": 2,
     "metadata": {},
     "output_type": "execute_result"
    }
   ],
   "source": [
    "#create a table\n",
    "curs.execute('''CREATE TABLE demo\n",
    "(s text, x INT, y INT)''')"
   ]
  },
  {
   "cell_type": "code",
   "execution_count": 4,
   "metadata": {},
   "outputs": [
    {
     "data": {
      "text/plain": [
       "<sqlite3.Cursor at 0x7f10147128f0>"
      ]
     },
     "execution_count": 4,
     "metadata": {},
     "output_type": "execute_result"
    }
   ],
   "source": [
    "# insert the data into the table\n",
    "curs.execute(\"INSERT INTO demo VALUES ('g', 3, 9),('v', 5, 7), ('f', 8, 7)\")"
   ]
  },
  {
   "cell_type": "code",
   "execution_count": 5,
   "metadata": {},
   "outputs": [],
   "source": [
    "conn.commit()"
   ]
  },
  {
   "cell_type": "code",
   "execution_count": 6,
   "metadata": {},
   "outputs": [],
   "source": [
    "conn.close()"
   ]
  },
  {
   "cell_type": "code",
   "execution_count": 7,
   "metadata": {},
   "outputs": [],
   "source": [
    "import sqlite3\n",
    "conn = sqlite3.connect('demo_data.sqlite3')\n",
    "curs = conn.cursor()"
   ]
  },
  {
   "cell_type": "code",
   "execution_count": 17,
   "metadata": {},
   "outputs": [
    {
     "name": "stdout",
     "output_type": "stream",
     "text": [
      "[(3,)]\n"
     ]
    }
   ],
   "source": [
    "# Question1: Count how many rows you have - it should be 3!\n",
    "total_rows_query = \"\"\"SELECT COUNT(*)\n",
    "FROM demo;\"\"\"\n",
    "curs.execute(total_rows_query)\n",
    "print(curs.fetchall())"
   ]
  },
  {
   "cell_type": "code",
   "execution_count": 18,
   "metadata": {},
   "outputs": [
    {
     "name": "stdout",
     "output_type": "stream",
     "text": [
      "[(2,)]\n"
     ]
    }
   ],
   "source": [
    "# How many rows are there where both x and y are at least 5?\n",
    "total_xy_query = \"\"\"SELECT COUNT(*)\n",
    "FROM demo WHERE x >= 5 AND y >=  5;\"\"\"\n",
    "curs.execute(total_xy_query)\n",
    "print(curs.fetchall())"
   ]
  },
  {
   "cell_type": "code",
   "execution_count": 19,
   "metadata": {},
   "outputs": [
    {
     "name": "stdout",
     "output_type": "stream",
     "text": [
      "[(2,)]\n"
     ]
    }
   ],
   "source": [
    "# How many unique values of y are there (hint - COUNT() can accept a keyword DISTINCT)?\n",
    "\n",
    "distinct_y_query = \"\"\"SELECT COUNT(DISTINCT y)\n",
    "FROM demo;\"\"\"\n",
    "curs.execute(distinct_y_query)\n",
    "print(curs.fetchall())"
   ]
  },
  {
   "cell_type": "markdown",
   "metadata": {},
   "source": [
    "## Part 2"
   ]
  },
  {
   "cell_type": "code",
   "execution_count": 20,
   "metadata": {},
   "outputs": [],
   "source": [
    "# connecting northwind_small.sqlite3 file\n",
    "import sqlite3\n",
    "conn = sqlite3.connect('/home/mishraka/repos/manjulamishra/northwind_small.sqlite3')\n",
    "\n",
    "#create a cursor\n",
    "curs = conn.cursor()"
   ]
  },
  {
   "cell_type": "code",
   "execution_count": 22,
   "metadata": {},
   "outputs": [
    {
     "data": {
      "text/plain": [
       "[('Category',),\n",
       " ('Customer',),\n",
       " ('CustomerCustomerDemo',),\n",
       " ('CustomerDemographic',),\n",
       " ('Employee',),\n",
       " ('EmployeeTerritory',),\n",
       " ('Order',),\n",
       " ('OrderDetail',),\n",
       " ('Product',),\n",
       " ('Region',),\n",
       " ('Shipper',),\n",
       " ('Supplier',),\n",
       " ('Territory',)]"
      ]
     },
     "execution_count": 22,
     "metadata": {},
     "output_type": "execute_result"
    }
   ],
   "source": [
    "curs.execute(\"SELECT name FROM sqlite_master WHERE type='table' ORDER BY name;\").fetchall()\n",
    "[('Category',), ('Customer',), ('CustomerCustomerDemo',),\n",
    "('CustomerDemographic',), ('Employee',), ('EmployeeTerritory',), ('Order',),\n",
    "('OrderDetail',), ('Product',), ('Region',), ('Shipper',), ('Supplier',),\n",
    "('Territory',)]"
   ]
  },
  {
   "cell_type": "code",
   "execution_count": 27,
   "metadata": {},
   "outputs": [
    {
     "data": {
      "text/plain": [
       "['CREATE TABLE \"Customer\" \\n(\\n  \"Id\" VARCHAR(8000) PRIMARY KEY, \\n \"CompanyName\" VARCHAR(8000) NULL, \\n  \"ContactName\" VARCHAR(8000) NULL, \\n \"ContactTitle\" VARCHAR(8000) NULL, \\n  \"Address\" VARCHAR(8000) NULL, \\n  \"City\" VARCHAR(8000) NULL, \\n  \"Region\" VARCHAR(8000) NULL, \\n  \"PostalCode\" VARCHAR(8000) NULL, \\n  \"Country\" VARCHAR(8000) NULL, \\n  \"Phone\" VARCHAR(8000) NULL, \\n  \"Fax\" VARCHAR(8000) NULL \\n)']"
      ]
     },
     "execution_count": 27,
     "metadata": {},
     "output_type": "execute_result"
    }
   ],
   "source": [
    "curs.execute('SELECT sql FROM sqlite_master WHERE name=\"Customer\";').fetchall()\n",
    "[('CREATE TABLE \"Customer\" \\n(\\n  \"Id\" VARCHAR(8000) PRIMARY KEY, \\n \"CompanyName\" VARCHAR(8000) NULL, \\n  \"ContactName\" VARCHAR(8000) NULL, \\n \"ContactTitle\" VARCHAR(8000) NULL, \\n  \"Address\" VARCHAR(8000) NULL, \\n  \"City\" VARCHAR(8000) NULL, \\n  \"Region\" VARCHAR(8000) NULL, \\n  \"PostalCode\" VARCHAR(8000) NULL, \\n  \"Country\" VARCHAR(8000) NULL, \\n  \"Phone\" VARCHAR(8000) NULL, \\n  \"Fax\" VARCHAR(8000) NULL \\n)')]"
   ]
  },
  {
   "cell_type": "code",
   "execution_count": 42,
   "metadata": {
    "scrolled": true
   },
   "outputs": [
    {
     "name": "stdout",
     "output_type": "stream",
     "text": [
      "[(38, 'Côte de Blaye', 263.5), (29, 'Thüringer Rostbratwurst', 123.79), (9, 'Mishi Kobe Niku', 97), (20, \"Sir Rodney's Marmalade\", 81), (18, 'Carnarvon Tigers', 62.5), (59, 'Raclette Courdavault', 55), (51, 'Manjimup Dried Apples', 53), (62, 'Tarte au sucre', 49.3), (43, 'Ipoh Coffee', 46), (28, 'Rössle Sauerkraut', 45.6)]\n"
     ]
    }
   ],
   "source": [
    "# Question 1What are the ten most expensive items (per unit price) in the database?\n",
    "most_expensive = \"\"\"SELECT Id, ProductName, UnitPrice\n",
    "\n",
    "FROM Product \n",
    "ORDER BY UnitPrice DESC LIMIT 10;\"\"\"\n",
    "curs.execute(most_expensive)\n",
    "print(curs.fetchall())"
   ]
  },
  {
   "cell_type": "code",
   "execution_count": 50,
   "metadata": {},
   "outputs": [
    {
     "name": "stdout",
     "output_type": "stream",
     "text": [
      "[(31.22222222222222,)]\n"
     ]
    }
   ],
   "source": [
    "# Q2 What is the average age of an employee at the time of their hiring? (Hint: a lot of arithmetic works with dates.)\n",
    "avg_age = \"\"\"SELECT AVG(strftime('%Y', date('now'))-strftime('%Y', Employee.BirthDate) )\n",
    "FROM Employee;\"\"\"\n",
    "curs.execute(avg_age)\n",
    "print(curs.fetchall())"
   ]
  },
  {
   "cell_type": "code",
   "execution_count": 52,
   "metadata": {},
   "outputs": [
    {
     "name": "stdout",
     "output_type": "stream",
     "text": [
      "[('Kirkland', 24.0), ('London', 26.0), ('Redmond', 50.0), ('Seattle', 34.0), ('Tacoma', 35.0)]\n"
     ]
    }
   ],
   "source": [
    "# (Stretch) How does the average age of employee at hire vary by city?\n",
    "avg_age = \"\"\"SELECT City,\n",
    "AVG(strftime('%Y', date('now'))-strftime('%Y', Employee.BirthDate) )\n",
    "FROM Employee\n",
    "GROUP BY Employee.City;\n",
    "\"\"\"\n",
    "curs.execute(avg_age)\n",
    "print(curs.fetchall())"
   ]
  },
  {
   "cell_type": "markdown",
   "metadata": {},
   "source": [
    "## Part 3"
   ]
  },
  {
   "cell_type": "code",
   "execution_count": 47,
   "metadata": {},
   "outputs": [
    {
     "name": "stdout",
     "output_type": "stream",
     "text": [
      "[(38, 'Côte de Blaye', 263.5, 'Aux joyeux ecclésiastiques'), (29, 'Thüringer Rostbratwurst', 123.79, 'Plutzer Lebensmittelgroßmärkte AG'), (9, 'Mishi Kobe Niku', 97, 'Tokyo Traders'), (20, \"Sir Rodney's Marmalade\", 81, 'Specialty Biscuits, Ltd.'), (18, 'Carnarvon Tigers', 62.5, 'Pavlova, Ltd.'), (59, 'Raclette Courdavault', 55, 'Gai pâturage'), (51, 'Manjimup Dried Apples', 53, \"G'day, Mate\"), (62, 'Tarte au sucre', 49.3, \"Forêts d'érables\"), (43, 'Ipoh Coffee', 46, 'Leka Trading'), (28, 'Rössle Sauerkraut', 45.6, 'Plutzer Lebensmittelgroßmärkte AG')]\n"
     ]
    }
   ],
   "source": [
    "# What are the ten most expensive items (per unit price) in the database and their suppliers?\n",
    "most_expensive = \"\"\"SELECT Product.Id, ProductName, UnitPrice, Supplier.CompanyName\n",
    "FROM Product, Supplier WHERE Product.SupplierId = Supplier.Id\n",
    "ORDER BY UnitPrice DESC LIMIT 10;\"\"\"\n",
    "curs.execute(most_expensive)\n",
    "print(curs.fetchall())\n"
   ]
  },
  {
   "cell_type": "code",
   "execution_count": 49,
   "metadata": {},
   "outputs": [
    {
     "name": "stdout",
     "output_type": "stream",
     "text": [
      "[(1, 12), (2, 12), (3, 13), (4, 10), (5, 7), (6, 6), (7, 5), (8, 12)]\n"
     ]
    }
   ],
   "source": [
    "#  What is the largest category (by number of products in it)?\n",
    "\n",
    "largest_category = \"\"\"SELECT Category.Id, \n",
    "COUNT(Product.CategoryId)\n",
    "FROM  Category, Product\n",
    "WHERE Category.Id = Product.CategoryId\n",
    "GROUP BY Product.CategoryId;\"\"\"\n",
    "curs.execute(largest_category)\n",
    "print(curs.fetchall())"
   ]
  },
  {
   "cell_type": "code",
   "execution_count": null,
   "metadata": {},
   "outputs": [],
   "source": [
    "# (Stretch) What is the top territory (by number of employees), and how many employees does it have?\n"
   ]
  }
 ],
 "metadata": {
  "kernelspec": {
   "display_name": "Python 3",
   "language": "python",
   "name": "python3"
  },
  "language_info": {
   "codemirror_mode": {
    "name": "ipython",
    "version": 3
   },
   "file_extension": ".py",
   "mimetype": "text/x-python",
   "name": "python",
   "nbconvert_exporter": "python",
   "pygments_lexer": "ipython3",
   "version": "3.7.2"
  },
  "latex_envs": {
   "LaTeX_envs_menu_present": true,
   "autoclose": true,
   "autocomplete": true,
   "bibliofile": "biblio.bib",
   "cite_by": "apalike",
   "current_citInitial": 1,
   "eqLabelWithNumbers": true,
   "eqNumInitial": 1,
   "hotkeys": {
    "equation": "Ctrl-E",
    "itemize": "Ctrl-I"
   },
   "labels_anchors": false,
   "latex_user_defs": false,
   "report_style_numbering": false,
   "user_envs_cfg": false
  }
 },
 "nbformat": 4,
 "nbformat_minor": 2
}
