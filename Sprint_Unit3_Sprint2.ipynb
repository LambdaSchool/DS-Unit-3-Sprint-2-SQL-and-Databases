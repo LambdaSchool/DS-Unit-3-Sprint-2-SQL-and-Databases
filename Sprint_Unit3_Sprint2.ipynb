{
 "cells": [
  {
   "cell_type": "code",
   "execution_count": 4,
   "metadata": {},
   "outputs": [],
   "source": [
    "import sqlite3\n",
    "conn = sqlite3.connect('demo_data1.sqlite')\n",
    "cursor = conn.cursor()\n",
    "#anytime we are querying we commit\n",
    "cursor.execute(''' CREATE TABLE demo\n",
    "    (s TEXT NOT NULL,\n",
    "    x INT NOT NULL,\n",
    "    y INT NOT NULL);''')"
   ]
  },
  {
   "cell_type": "code",
   "execution_count": 6,
   "metadata": {},
   "outputs": [],
   "source": [
    "cursor = conn.cursor()\n",
    "cursor.execute(\"INSERT INTO demo (s, x, y) \\\n",
    "    VALUES ('g', 3, 9)\");\n",
    "cursor.execute(\"INSERT INTO demo (s, x, y) \\\n",
    "    VALUES ('g', 5, 7)\");\n",
    "cursor.execute(\"INSERT INTO demo (s, x, y) \\\n",
    "    VALUES ('g', 8, 7)\");\n",
    "conn.commit()"
   ]
  },
  {
   "cell_type": "code",
   "execution_count": 8,
   "metadata": {},
   "outputs": [
    {
     "data": {
      "text/plain": [
       "[(3,)]"
      ]
     },
     "execution_count": 8,
     "metadata": {},
     "output_type": "execute_result"
    }
   ],
   "source": [
    "countrows = 'SELECT COUNT(*) FROM demo'\n",
    "cursor.execute(countrows).fetchall()"
   ]
  },
  {
   "cell_type": "code",
   "execution_count": 11,
   "metadata": {},
   "outputs": [
    {
     "data": {
      "text/plain": [
       "[(1,)]"
      ]
     },
     "execution_count": 11,
     "metadata": {},
     "output_type": "execute_result"
    }
   ],
   "source": [
    "atleastfive = 'SELECT COUNT(*) FROM demo WHERE x > 5 AND y > 5;'\n",
    "cursor.execute(atleastfive).fetchall()"
   ]
  },
  {
   "cell_type": "code",
   "execution_count": 15,
   "metadata": {},
   "outputs": [
    {
     "data": {
      "text/plain": [
       "[(2,)]"
      ]
     },
     "execution_count": 15,
     "metadata": {},
     "output_type": "execute_result"
    }
   ],
   "source": [
    "countvaluesy = 'SELECT COUNT(DISTINCT y) FROM demo;'\n",
    "cursor.execute(countvaluesy).fetchall()"
   ]
  },
  {
   "cell_type": "code",
   "execution_count": 16,
   "metadata": {},
   "outputs": [],
   "source": [
    "cursor.close()"
   ]
  },
  {
   "cell_type": "code",
   "execution_count": 17,
   "metadata": {},
   "outputs": [],
   "source": [
    "conn = sqlite3.connect('northwind_small.sqlite3')\n",
    "cursor = conn.cursor()"
   ]
  },
  {
   "cell_type": "code",
   "execution_count": 20,
   "metadata": {},
   "outputs": [
    {
     "data": {
      "text/plain": [
       "[('Côte de Blaye',),\n",
       " ('Thüringer Rostbratwurst',),\n",
       " ('Mishi Kobe Niku',),\n",
       " (\"Sir Rodney's Marmalade\",),\n",
       " ('Carnarvon Tigers',),\n",
       " ('Raclette Courdavault',),\n",
       " ('Manjimup Dried Apples',),\n",
       " ('Tarte au sucre',),\n",
       " ('Ipoh Coffee',),\n",
       " ('Rössle Sauerkraut',)]"
      ]
     },
     "execution_count": 20,
     "metadata": {},
     "output_type": "execute_result"
    }
   ],
   "source": [
    "# What are the ten most expensive items (per unit price) in the database?\n",
    "mostexpensive = 'SELECT ProductName FROM ProductDetails_V ORDER BY UnitPrice DESC LIMIT 10;'\n",
    "cursor.execute(mostexpensive).fetchall()"
   ]
  },
  {
   "cell_type": "code",
   "execution_count": 22,
   "metadata": {},
   "outputs": [
    {
     "data": {
      "text/plain": [
       "[(37.22222222222222,)]"
      ]
     },
     "execution_count": 22,
     "metadata": {},
     "output_type": "execute_result"
    }
   ],
   "source": [
    "# What is the average age of an employee at the time of their hiring? (Hint: a lot of arithmetic works with dates.)\n",
    "avgage = 'SELECT AVG(HireDate - BirthDate) FROM Employee;'\n",
    "cursor.execute(avgage).fetchall()"
   ]
  },
  {
   "cell_type": "code",
   "execution_count": 39,
   "metadata": {
    "scrolled": true
   },
   "outputs": [
    {
     "data": {
      "text/plain": [
       "[('Kirkland', 29.0),\n",
       " ('London', 32.5),\n",
       " ('Redmond', 56.0),\n",
       " ('Seattle', 40.0),\n",
       " ('Tacoma', 40.0)]"
      ]
     },
     "execution_count": 39,
     "metadata": {},
     "output_type": "execute_result"
    }
   ],
   "source": [
    "# (Stretch) How does the average age of employee at hire vary by city?\n",
    "avgagebycity = 'SELECT City, AVG(HireDate - BirthDate) FROM Employee GROUP BY City;'\n",
    "cursor.execute(avgagebycity).fetchall()"
   ]
  },
  {
   "cell_type": "code",
   "execution_count": 46,
   "metadata": {},
   "outputs": [
    {
     "data": {
      "text/plain": [
       "[('Kirkland', -8.222000000000001),\n",
       " ('London', -4.722000000000001),\n",
       " ('Redmond', 18.778),\n",
       " ('Seattle', 2.7779999999999987),\n",
       " ('Tacoma', 2.7779999999999987)]"
      ]
     },
     "execution_count": 46,
     "metadata": {},
     "output_type": "execute_result"
    }
   ],
   "source": [
    "avgagebycityvary = 'SELECT City, AVG(HireDate - BirthDate - 37.222) FROM Employee GROUP BY City;'\n",
    "cursor.execute(avgagebycityvary).fetchall()"
   ]
  },
  {
   "cell_type": "code",
   "execution_count": 23,
   "metadata": {},
   "outputs": [
    {
     "data": {
      "text/plain": [
       "[('Côte de Blaye', 'Aux joyeux ecclésiastiques'),\n",
       " ('Thüringer Rostbratwurst', 'Plutzer Lebensmittelgroßmärkte AG'),\n",
       " ('Mishi Kobe Niku', 'Tokyo Traders'),\n",
       " (\"Sir Rodney's Marmalade\", 'Specialty Biscuits, Ltd.'),\n",
       " ('Carnarvon Tigers', 'Pavlova, Ltd.'),\n",
       " ('Raclette Courdavault', 'Gai pâturage'),\n",
       " ('Manjimup Dried Apples', \"G'day, Mate\"),\n",
       " ('Tarte au sucre', \"Forêts d'érables\"),\n",
       " ('Ipoh Coffee', 'Leka Trading'),\n",
       " ('Rössle Sauerkraut', 'Plutzer Lebensmittelgroßmärkte AG')]"
      ]
     },
     "execution_count": 23,
     "metadata": {},
     "output_type": "execute_result"
    }
   ],
   "source": [
    "# What are the ten most expensive items (per unit price) in the database and their suppliers?\n",
    "mostexpensivesupplier = 'SELECT ProductName, SupplierName FROM ProductDetails_V ORDER BY UnitPrice DESC LIMIT 10;'\n",
    "cursor.execute(mostexpensivesupplier).fetchall()"
   ]
  },
  {
   "cell_type": "code",
   "execution_count": 36,
   "metadata": {},
   "outputs": [
    {
     "data": {
      "text/plain": [
       "[('Confections', 13)]"
      ]
     },
     "execution_count": 36,
     "metadata": {},
     "output_type": "execute_result"
    }
   ],
   "source": [
    "# What is the largest category (by number of unique products in it)?\n",
    "largestcategory = 'SELECT CategoryName, COUNT(DISTINCT ProductName) FROM ProductDetails_V GROUP BY CategoryName ORDER BY COUNT(DISTINCT ProductName) DESC LIMIT 1;'\n",
    "cursor.execute(largestcategory).fetchall()"
   ]
  },
  {
   "cell_type": "code",
   "execution_count": 55,
   "metadata": {},
   "outputs": [
    {
     "data": {
      "text/plain": [
       "[(1, 'Nancy', 'Davolio', 1, '06897', '06897', 'Wilton'),\n",
       " (1, 'Nancy', 'Davolio', 1, '19713', '19713', 'Neward'),\n",
       " (2, 'Andrew', 'Fuller', 2, '01581', '01581', 'Westboro'),\n",
       " (2, 'Andrew', 'Fuller', 2, '01730', '01730', 'Bedford'),\n",
       " (2, 'Andrew', 'Fuller', 2, '01833', '01833', 'Georgetow'),\n",
       " (2, 'Andrew', 'Fuller', 2, '02116', '02116', 'Boston'),\n",
       " (2, 'Andrew', 'Fuller', 2, '02139', '02139', 'Cambridge'),\n",
       " (2, 'Andrew', 'Fuller', 2, '02184', '02184', 'Braintree'),\n",
       " (2, 'Andrew', 'Fuller', 2, '40222', '40222', 'Louisville'),\n",
       " (3, 'Janet', 'Leverling', 3, '30346', '30346', 'Atlanta'),\n",
       " (3, 'Janet', 'Leverling', 3, '31406', '31406', 'Savannah'),\n",
       " (3, 'Janet', 'Leverling', 3, '32859', '32859', 'Orlando'),\n",
       " (3, 'Janet', 'Leverling', 3, '33607', '33607', 'Tampa'),\n",
       " (4, 'Margaret', 'Peacock', 4, '20852', '20852', 'Rockville'),\n",
       " (4, 'Margaret', 'Peacock', 4, '27403', '27403', 'Greensboro'),\n",
       " (4, 'Margaret', 'Peacock', 4, '27511', '27511', 'Cary'),\n",
       " (5, 'Steven', 'Buchanan', 5, '02903', '02903', 'Providence'),\n",
       " (5, 'Steven', 'Buchanan', 5, '07960', '07960', 'Morristown'),\n",
       " (5, 'Steven', 'Buchanan', 5, '08837', '08837', 'Edison'),\n",
       " (5, 'Steven', 'Buchanan', 5, '10019', '10019', 'New York'),\n",
       " (5, 'Steven', 'Buchanan', 5, '10038', '10038', 'New York'),\n",
       " (5, 'Steven', 'Buchanan', 5, '11747', '11747', 'Mellvile'),\n",
       " (5, 'Steven', 'Buchanan', 5, '14450', '14450', 'Fairport'),\n",
       " (6, 'Michael', 'Suyama', 6, '85014', '85014', 'Phoenix'),\n",
       " (6, 'Michael', 'Suyama', 6, '85251', '85251', 'Scottsdale'),\n",
       " (6, 'Michael', 'Suyama', 6, '98004', '98004', 'Bellevue'),\n",
       " (6, 'Michael', 'Suyama', 6, '98052', '98052', 'Redmond'),\n",
       " (6, 'Michael', 'Suyama', 6, '98104', '98104', 'Seattle'),\n",
       " (7, 'Robert', 'King', 7, '60179', '60179', 'Hoffman Estates'),\n",
       " (7, 'Robert', 'King', 7, '60601', '60601', 'Chicago'),\n",
       " (7, 'Robert', 'King', 7, '80202', '80202', 'Denver'),\n",
       " (7, 'Robert', 'King', 7, '80909', '80909', 'Colorado Springs'),\n",
       " (7, 'Robert', 'King', 7, '90405', '90405', 'Santa Monica'),\n",
       " (7, 'Robert', 'King', 7, '94025', '94025', 'Menlo Park'),\n",
       " (7, 'Robert', 'King', 7, '94105', '94105', 'San Francisco'),\n",
       " (7, 'Robert', 'King', 7, '95008', '95008', 'Campbell'),\n",
       " (7, 'Robert', 'King', 7, '95054', '95054', 'Santa Clara'),\n",
       " (7, 'Robert', 'King', 7, '95060', '95060', 'Santa Cruz'),\n",
       " (8, 'Laura', 'Callahan', 8, '19428', '19428', 'Philadelphia'),\n",
       " (8, 'Laura', 'Callahan', 8, '44122', '44122', 'Beachwood'),\n",
       " (8, 'Laura', 'Callahan', 8, '45839', '45839', 'Findlay'),\n",
       " (8, 'Laura', 'Callahan', 8, '53404', '53404', 'Racine'),\n",
       " (9, 'Anne', 'Dodsworth', 9, '03049', '03049', 'Hollis'),\n",
       " (9, 'Anne', 'Dodsworth', 9, '03801', '03801', 'Portsmouth'),\n",
       " (9, 'Anne', 'Dodsworth', 9, '48075', '48075', 'Southfield'),\n",
       " (9, 'Anne', 'Dodsworth', 9, '48084', '48084', 'Troy'),\n",
       " (9, 'Anne', 'Dodsworth', 9, '48304', '48304', 'Bloomfield Hills'),\n",
       " (9, 'Anne', 'Dodsworth', 9, '55113', '55113', 'Roseville'),\n",
       " (9, 'Anne', 'Dodsworth', 9, '55439', '55439', 'Minneapolis')]"
      ]
     },
     "execution_count": 55,
     "metadata": {},
     "output_type": "execute_result"
    }
   ],
   "source": [
    "# (Stretch) Who's the employee with the most territories? Use TerritoryId (not name, region, or other fields) as the unique identifier for territories.\n",
    "mostterritories = 'SELECT Employee.Id, Employee.FirstName, Employee.LastName, EmployeeTerritory.EmployeeId, EmployeeTerritory.TerritoryId, Territory.Id, Territory.TerritoryDescription \\\n",
    "                    FROM Employee \\\n",
    "                    INNER JOIN EmployeeTerritory ON Employee.Id = EmployeeTerritory.EmployeeId \\\n",
    "                    INNER JOIN Territory ON EmployeeTerritory.TerritoryId = Territory.Id;'\n",
    "cursor.execute(mostterritories).fetchall()\n"
   ]
  },
  {
   "cell_type": "code",
   "execution_count": 77,
   "metadata": {},
   "outputs": [
    {
     "data": {
      "text/plain": [
       "[('Robert', 'King', 10)]"
      ]
     },
     "execution_count": 77,
     "metadata": {},
     "output_type": "execute_result"
    }
   ],
   "source": [
    "mostterritories = 'SELECT Employee.FirstName, Employee.LastName, COUNT(DISTINCT EmployeeTerritory.TerritoryId) \\\n",
    "                    FROM Employee \\\n",
    "                    INNER JOIN EmployeeTerritory ON Employee.Id = EmployeeTerritory.EmployeeId \\\n",
    "                    INNER JOIN Territory ON EmployeeTerritory.TerritoryId = Territory.Id \\\n",
    "                    GROUP BY Employee.FirstName \\\n",
    "                    ORDER BY COUNT(DISTINCT EmployeeTerritory.TerritoryId) DESC \\\n",
    "                    LIMIT 1;'\n",
    "cursor.execute(mostterritories).fetchall()\n"
   ]
  },
  {
   "cell_type": "code",
   "execution_count": null,
   "metadata": {},
   "outputs": [],
   "source": [
    "# In the Northwind database, what is the type of relationship between the Employee and Territory tables?\n",
    "# There is a one-to-one relationship between each employee, their primary id's, matched with the EmployeeId vs TerritoryId keys of the \n",
    "#EmployeeTerritory table, which then directly relates to the Territory table through the primary Id of the Territory table vs. the \n",
    "#TerritoryId of the EmployeeTerritory table."
   ]
  },
  {
   "cell_type": "code",
   "execution_count": null,
   "metadata": {},
   "outputs": [],
   "source": [
    "# What is a situation where a document store (like MongoDB) is appropriate, and what is a situation where it is not appropriate?\n",
    "#MongoDB is great for securing data for web applications for use in BSON format for necessary retrieval."
   ]
  },
  {
   "cell_type": "code",
   "execution_count": null,
   "metadata": {},
   "outputs": [],
   "source": [
    "# What is \"NewSQL\", and what is it trying to achieve?\n",
    "#NewSQL is a class of databases that satisfies the scalability and elasticity of new SQL systems while maintaining\n",
    "#ACID guarrantees, atomicity, consistency, isolation and durability, meaning that there is integrity of the entire \n",
    "#database transaction pipeline, that the data that only follows specific rules will be written into the database, and that there\n",
    "# are concurrent processes, and one process does not affect another, durability to make failures invisible to the end-user."
   ]
  }
 ],
 "metadata": {
  "kernelspec": {
   "display_name": "Python 3",
   "language": "python",
   "name": "python3"
  },
  "language_info": {
   "codemirror_mode": {
    "name": "ipython",
    "version": 3
   },
   "file_extension": ".py",
   "mimetype": "text/x-python",
   "name": "python",
   "nbconvert_exporter": "python",
   "pygments_lexer": "ipython3",
   "version": "3.7.3"
  }
 },
 "nbformat": 4,
 "nbformat_minor": 2
}
