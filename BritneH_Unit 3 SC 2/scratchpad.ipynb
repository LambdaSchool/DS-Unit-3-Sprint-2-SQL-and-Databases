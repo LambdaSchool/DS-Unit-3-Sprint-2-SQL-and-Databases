{
 "cells": [
  {
   "cell_type": "code",
   "execution_count": 34,
   "metadata": {},
   "outputs": [
    {
     "output_type": "stream",
     "name": "stdout",
     "text": "lmvpuzqe lmvpuzqe mY4V-4wY0JxKkXem9ELRV0jMJjmGKKyI otto.db.elephantsql.com\nCONNECTION: <connection object at 0x0000018C357436A8; dsn: 'user=lmvpuzqe password=xxx dbname=lmvpuzqe host=otto.db.elephantsql.com', closed: 0>\nCURSOR: <cursor object at 0x0000018C35E3D748; closed: 0>\n"
    }
   ],
   "source": [
    "import os\n",
    "from dotenv import load_dotenv\n",
    "import psycopg2\n",
    "import pandas \n",
    "\n",
    "load_dotenv() #> loads contents of the .env file into the script's environment\n",
    "\n",
    "DB_NAME = os.getenv(\"DB_NAME\")\n",
    "DB_USER = os.getenv(\"DB_USER\")\n",
    "DB_PASSWORD = os.getenv(\"DB_PASSWORD\")\n",
    "DB_HOST = os.getenv(\"DB_HOST\")\n",
    "\n",
    "print(DB_NAME, DB_USER, DB_PASSWORD, DB_HOST)\n",
    "\n",
    "connection = psycopg2.connect(dbname=DB_NAME, user=DB_USER, password=DB_PASSWORD, host=DB_HOST)\n",
    "print(\"CONNECTION:\", connection)\n",
    "\n",
    "cursor = connection.cursor()\n",
    "print(\"CURSOR:\", cursor)"
   ]
  },
  {
   "cell_type": "code",
   "execution_count": 25,
   "metadata": {},
   "outputs": [],
   "source": [
    "sql_whatever = \"\"\"COPY titanic(survived,pclass,name,sex,age,siblings_spouses,parents_children,fare\n",
    ") \n",
    "FROM 'titanic.csv' with (format csv, header true, DELIMITER ',');\"\"\""
   ]
  },
  {
   "cell_type": "code",
   "execution_count": 35,
   "metadata": {},
   "outputs": [],
   "source": [
    "new_table =\"\"\" CREATE TABLE titanic2\n",
    "(\n",
    "  survived INT,\n",
    "  pclass INT,\n",
    "  name VARCHAR(50),\n",
    "  sex VARCHAR(10),\n",
    "  age INT,\n",
    "  siblings_spouses INT,\n",
    "  parents_children INT,\n",
    "  fare FLOAT\n",
    ");\n",
    "\"\"\"\n"
   ]
  },
  {
   "cell_type": "code",
   "execution_count": 36,
   "metadata": {},
   "outputs": [],
   "source": [
    "new_query = \"CREATE TABLE titanic4 (Survived INT, Class INT, Name VARCHAR, Sex CHAR, Age FLOAT, Sibling_Spouse INT, Parent_Child INT, Fare FLOAT);\""
   ]
  },
  {
   "cell_type": "code",
   "execution_count": 26,
   "metadata": {},
   "outputs": [
    {
     "output_type": "error",
     "ename": "SyntaxError",
     "evalue": "syntax error at or near \"\\\"\nLINE 1: \\COPY titanic(survived,pclass,name,sex,age,siblings_spouses,...\n        ^\n",
     "traceback": [
      "\u001b[1;31m---------------------------------------------------------------------------\u001b[0m",
      "\u001b[1;31mSyntaxError\u001b[0m                               Traceback (most recent call last)",
      "\u001b[1;32m<ipython-input-26-e933c4ad2bf9>\u001b[0m in \u001b[0;36m<module>\u001b[1;34m\u001b[0m\n\u001b[1;32m----> 1\u001b[1;33m \u001b[0mcursor\u001b[0m\u001b[1;33m.\u001b[0m\u001b[0mexecute\u001b[0m\u001b[1;33m(\u001b[0m\u001b[0msql_whatever\u001b[0m\u001b[1;33m)\u001b[0m\u001b[1;33m\u001b[0m\u001b[1;33m\u001b[0m\u001b[0m\n\u001b[0m\u001b[0;32m      2\u001b[0m \u001b[0mconnection\u001b[0m\u001b[1;33m.\u001b[0m\u001b[0mcommit\u001b[0m\u001b[1;33m(\u001b[0m\u001b[1;33m)\u001b[0m\u001b[1;33m\u001b[0m\u001b[1;33m\u001b[0m\u001b[0m\n",
      "\u001b[1;31mSyntaxError\u001b[0m: syntax error at or near \"\\\"\nLINE 1: \\COPY titanic(survived,pclass,name,sex,age,siblings_spouses,...\n        ^\n"
     ]
    }
   ],
   "source": [
    "cursor.execute(sql_whatever)\n",
    "connection.commit()"
   ]
  },
  {
   "cell_type": "code",
   "execution_count": 14,
   "metadata": {},
   "outputs": [],
   "source": [
    "cursor.execute(new_query)\n",
    "connection.commit()"
   ]
  },
  {
   "cell_type": "code",
   "execution_count": 33,
   "metadata": {},
   "outputs": [],
   "source": [
    "connection.close()"
   ]
  },
  {
   "cell_type": "code",
   "execution_count": 15,
   "metadata": {},
   "outputs": [
    {
     "output_type": "stream",
     "name": "stdout",
     "text": "RESULT: <class 'list'>\n[]\n"
    }
   ],
   "source": [
    "cursor.execute('SELECT * from titanic3;')\n",
    "result = cursor.fetchall()\n",
    "print(\"RESULT:\", type(result))\n",
    "print(result)"
   ]
  },
  {
   "cell_type": "code",
   "execution_count": 37,
   "metadata": {},
   "outputs": [
    {
     "output_type": "stream",
     "name": "stdout",
     "text": "CURSOR: <cursor object at 0x0000018C3530BAC8; closed: 0>\n"
    },
    {
     "output_type": "error",
     "ename": "DuplicateTable",
     "evalue": "relation \"titanic3\" already exists\n",
     "traceback": [
      "\u001b[1;31m---------------------------------------------------------------------------\u001b[0m",
      "\u001b[1;31mDuplicateTable\u001b[0m                            Traceback (most recent call last)",
      "\u001b[1;32m<ipython-input-37-d5738498974e>\u001b[0m in \u001b[0;36m<module>\u001b[1;34m\u001b[0m\n\u001b[0;32m      7\u001b[0m     \u001b[0mnext\u001b[0m\u001b[1;33m(\u001b[0m\u001b[0mreader\u001b[0m\u001b[1;33m)\u001b[0m \u001b[1;31m# Skip the header row.\u001b[0m\u001b[1;33m\u001b[0m\u001b[1;33m\u001b[0m\u001b[0m\n\u001b[0;32m      8\u001b[0m     \u001b[1;32mfor\u001b[0m \u001b[0mrow\u001b[0m \u001b[1;32min\u001b[0m \u001b[0mreader\u001b[0m\u001b[1;33m:\u001b[0m\u001b[1;33m\u001b[0m\u001b[1;33m\u001b[0m\u001b[0m\n\u001b[1;32m----> 9\u001b[1;33m         cursor.execute(new_query\n\u001b[0m\u001b[0;32m     10\u001b[0m     )\n\u001b[0;32m     11\u001b[0m \u001b[0mconn\u001b[0m\u001b[1;33m.\u001b[0m\u001b[0mcommit\u001b[0m\u001b[1;33m(\u001b[0m\u001b[1;33m)\u001b[0m\u001b[1;33m\u001b[0m\u001b[1;33m\u001b[0m\u001b[0m\n",
      "\u001b[1;31mDuplicateTable\u001b[0m: relation \"titanic3\" already exists\n"
     ]
    }
   ],
   "source": [
    "import csv\n",
    "\n",
    "cursor = connection.cursor()\n",
    "print(\"CURSOR:\", cursor)\n",
    "with open('titanic.csv', 'r') as f:\n",
    "    reader = csv.reader(f)\n",
    "    next(reader) # Skip the header row.\n",
    "    for row in reader:\n",
    "        cursor.execute(new_query\n",
    "    )\n",
    "conn.commit()\n"
   ]
  },
  {
   "cell_type": "code",
   "execution_count": 3,
   "metadata": {},
   "outputs": [
    {
     "output_type": "execute_result",
     "data": {
      "text/plain": "[(174,)]"
     },
     "metadata": {},
     "execution_count": 3
    }
   ],
   "source": [
    "import sqlite3\n",
    "conn = sqlite3.connect('rpg_db.sqlite3')\n",
    "curs = conn.cursor()\n",
    "\n",
    "query = 'SELECT COUNT(*) FROM armory_item;'\n",
    "curs.execute(query)\n",
    "\n",
    "curs.execute(query).fetchall()\n"
   ]
  },
  {
   "cell_type": "code",
   "execution_count": 5,
   "metadata": {},
   "outputs": [
    {
     "output_type": "error",
     "ename": "OperationalError",
     "evalue": "table study_part1 already exists",
     "traceback": [
      "\u001b[1;31m---------------------------------------------------------------------------\u001b[0m",
      "\u001b[1;31mOperationalError\u001b[0m                          Traceback (most recent call last)",
      "\u001b[1;32m<ipython-input-5-0354c05039b3>\u001b[0m in \u001b[0;36m<module>\u001b[1;34m\u001b[0m\n\u001b[0;32m      4\u001b[0m \u001b[0mstudents\u001b[0m \u001b[1;33m=\u001b[0m \u001b[1;34m\"CREATE TABLE study_part1 (student VARCHAR,studied VARCHAR,grade INT,age INT,sex VARCHAR);\"\u001b[0m\u001b[1;33m\u001b[0m\u001b[1;33m\u001b[0m\u001b[0m\n\u001b[0;32m      5\u001b[0m \u001b[0mquery\u001b[0m \u001b[1;33m=\u001b[0m \u001b[0mstudents\u001b[0m\u001b[1;33m\u001b[0m\u001b[1;33m\u001b[0m\u001b[0m\n\u001b[1;32m----> 6\u001b[1;33m \u001b[0mcurs\u001b[0m\u001b[1;33m.\u001b[0m\u001b[0mexecute\u001b[0m\u001b[1;33m(\u001b[0m\u001b[0mquery\u001b[0m\u001b[1;33m)\u001b[0m\u001b[1;33m\u001b[0m\u001b[1;33m\u001b[0m\u001b[0m\n\u001b[0m\u001b[0;32m      7\u001b[0m \u001b[1;33m\u001b[0m\u001b[0m\n\u001b[0;32m      8\u001b[0m \u001b[1;33m\u001b[0m\u001b[0m\n",
      "\u001b[1;31mOperationalError\u001b[0m: table study_part1 already exists"
     ]
    }
   ],
   "source": [
    "import sqlite3\n",
    "conn = sqlite3.connect('study_part1.sqlite3')\n",
    "curs = conn.cursor()\n",
    "students = \"CREATE TABLE study_part1 (student VARCHAR,studied VARCHAR,grade INT,age INT,sex VARCHAR);\"\n",
    "query = students\n",
    "curs.execute(query)\n",
    "\n",
    "\n"
   ]
  },
  {
   "cell_type": "code",
   "execution_count": 12,
   "metadata": {},
   "outputs": [],
   "source": [
    "fill = '''\n",
    "INSERT INTO study_part1 (student, studied, grade, age, sex) \n",
    "VALUES ('Lion-O', 'True', 85, 24, 'Male'),\n",
    " ('Cheetara', 'True', 95, 22, 'Female'),\n",
    " ('Mumm-Ra', 'False', 65, 153, 'Male'),\n",
    " ('Snarf', 'False', 70, 15, 'Male'),\n",
    " ('Panthro', 'True', 80, 30, 'Male');\n",
    " '''"
   ]
  },
  {
   "cell_type": "code",
   "execution_count": 14,
   "metadata": {},
   "outputs": [
    {
     "output_type": "execute_result",
     "data": {
      "text/plain": "[]"
     },
     "metadata": {},
     "execution_count": 14
    }
   ],
   "source": [
    "curs.execute(fill)\n"
   ]
  },
  {
   "cell_type": "code",
   "execution_count": 1,
   "metadata": {},
   "outputs": [
    {
     "output_type": "error",
     "ename": "NameError",
     "evalue": "name 'curs' is not defined",
     "traceback": [
      "\u001b[1;31m---------------------------------------------------------------------------\u001b[0m",
      "\u001b[1;31mNameError\u001b[0m                                 Traceback (most recent call last)",
      "\u001b[1;32m<ipython-input-1-49b5632960fc>\u001b[0m in \u001b[0;36m<module>\u001b[1;34m\u001b[0m\n\u001b[0;32m      3\u001b[0m \u001b[0mWHERE\u001b[0m \u001b[0msex\u001b[0m\u001b[1;33m=\u001b[0m \u001b[1;34m'Female'\u001b[0m\u001b[1;33m\u001b[0m\u001b[1;33m\u001b[0m\u001b[0m\n\u001b[0;32m      4\u001b[0m '''\n\u001b[1;32m----> 5\u001b[1;33m \u001b[0mcurs\u001b[0m\u001b[1;33m.\u001b[0m\u001b[0mexecute\u001b[0m\u001b[1;33m(\u001b[0m\u001b[0mgender\u001b[0m\u001b[1;33m)\u001b[0m\u001b[1;33m.\u001b[0m\u001b[0mfetchall\u001b[0m\u001b[1;33m(\u001b[0m\u001b[1;33m)\u001b[0m\u001b[1;33m\u001b[0m\u001b[1;33m\u001b[0m\u001b[0m\n\u001b[0m\u001b[0;32m      6\u001b[0m \u001b[0mconn\u001b[0m\u001b[1;33m.\u001b[0m\u001b[0mclose\u001b[0m\u001b[1;33m(\u001b[0m\u001b[1;33m)\u001b[0m\u001b[1;33m\u001b[0m\u001b[1;33m\u001b[0m\u001b[0m\n",
      "\u001b[1;31mNameError\u001b[0m: name 'curs' is not defined"
     ]
    }
   ],
   "source": [
    "gender ='''SELECT student \n",
    "FROM study_part1\n",
    "WHERE sex= 'Female'\n",
    "'''\n",
    "curs.execute(gender).fetchall()\n",
    "\n"
   ]
  },
  {
   "cell_type": "code",
   "execution_count": 6,
   "metadata": {},
   "outputs": [
    {
     "output_type": "execute_result",
     "data": {
      "text/plain": "<sqlite3.Cursor at 0x1e07a96c030>"
     },
     "metadata": {},
     "execution_count": 6
    }
   ],
   "source": [
    "import sqlite3\n",
    "conn = sqlite3.connect('demo_data.sqlite3')\n",
    "curs = conn.cursor()\n",
    "create = \"CREATE TABLE demp(s VARCHAR,x INT, y INT);\"\n",
    "query = create\n",
    "curs.execute(query)"
   ]
  },
  {
   "cell_type": "code",
   "execution_count": 30,
   "metadata": {},
   "outputs": [],
   "source": [
    "fill = '''\n",
    "INSERT INTO demp (s, x, y) \n",
    "VALUES ('g', 3, 9),\n",
    " ('v', 5, 7),\n",
    " ('f', 8, 7)\n",
    " ;\n",
    " '''\n",
    "curs.execute(fill)\n",
    "conn.commit()"
   ]
  },
  {
   "cell_type": "code",
   "execution_count": 41,
   "metadata": {},
   "outputs": [
    {
     "output_type": "stream",
     "name": "stdout",
     "text": "None\n"
    }
   ],
   "source": [
    "count_rows = '''SELECT COUNT(*) FROM demp'''\n",
    "curs.execute(count_rows)\n",
    "print(conn.commit())"
   ]
  },
  {
   "cell_type": "code",
   "execution_count": 47,
   "metadata": {},
   "outputs": [
    {
     "output_type": "stream",
     "name": "stdout",
     "text": "None\n"
    }
   ],
   "source": [
    "x_and_y='''\n",
    "SELECT COUNT(*)\n",
    "FROM demp\n",
    "WHERE x>4 AND y>4\n",
    "'''\n",
    "curs.execute(x_and_y)\n"
   ]
  },
  {
   "cell_type": "code",
   "execution_count": 48,
   "metadata": {},
   "outputs": [
    {
     "output_type": "execute_result",
     "data": {
      "text/plain": "<sqlite3.Cursor at 0x1e07a96c030>"
     },
     "metadata": {},
     "execution_count": 48
    }
   ],
   "source": [
    "distincty = '''\n",
    "SELECT COUNT (DISTINCT y) as d\n",
    "FROM demp\n",
    "'''\n",
    "curs.execute(distincty)"
   ]
  }
 ],
 "metadata": {
  "language_info": {
   "codemirror_mode": {
    "name": "ipython",
    "version": 3
   },
   "file_extension": ".py",
   "mimetype": "text/x-python",
   "name": "python",
   "nbconvert_exporter": "python",
   "pygments_lexer": "ipython3",
   "version": "3.7.6-final"
  },
  "orig_nbformat": 2,
  "kernelspec": {
   "name": "python3",
   "display_name": "Python 3"
  }
 },
 "nbformat": 4,
 "nbformat_minor": 2
}