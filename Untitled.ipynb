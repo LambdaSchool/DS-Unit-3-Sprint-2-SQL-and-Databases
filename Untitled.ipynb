{
 "cells": [
  {
   "cell_type": "markdown",
   "metadata": {},
   "source": [
    "You are a professional robber planning to rob houses along a street. Each house has a certain amount of money stashed, the only constraint stopping you from robbing each of them is that adjacent houses have security system connected and it will automatically contact the police if two adjacent houses were broken into on the same night. \n",
    "\n",
    "Given a list of non-negative integers representing the amount of money of each house, determine the maximum amount of money you can rob tonight without alerting the police.\n",
    "\n",
    "Example 1:\n",
    "\n",
    "Input: [1,2,3,1]\n",
    "Output: 4\n",
    "Explanation: Rob house 1 (money = 1) and then rob house 3 (money = 3).\n",
    "             Total amount you can rob = 1 + 3 = 4.\n",
    "\n",
    "Example 2:\n",
    "\n",
    "Input: [2,7,9,3,1]\n",
    "Output: 12\n",
    "Explanation: Rob house 1 (money = 2), rob house 3 (money = 9) and rob house 5 (money = 1).\n",
    "             Total amount you can rob = 2 + 9 + 1 = 12.\n",
    "\n",
    "Example 3:\n",
    "\n",
    "Input: [100,1,1,100,1,1,100]\n",
    "Output 300"
   ]
  },
  {
   "cell_type": "code",
   "execution_count": 13,
   "metadata": {},
   "outputs": [
    {
     "name": "stdout",
     "output_type": "stream",
     "text": [
      "How many houses: 7\n",
      "Enter money 100\n",
      "Enter money 1\n",
      "Enter money 1\n",
      "Enter money 100\n",
      "Enter money 1\n",
      "Enter money 1\n",
      "Enter money 100\n",
      "The maximum amount of money you can rob without alerting the police : 300\n"
     ]
    }
   ],
   "source": [
    "lst = [] #build list of houses\n",
    "num = int(input('How many houses: '))\n",
    "for n in range(num):\n",
    "    numbers = int(input('Enter money '))\n",
    "    lst.append(numbers)\n",
    "def find_max_sum(lst): \n",
    "    incl = 0 #include previous term\n",
    "    excl = 0 #exclude previous term\n",
    "    for i in lst: #iterate over each term in list\n",
    "        new_excl = excl if excl>incl else incl \n",
    "        incl = excl + i \n",
    "        excl = new_excl \n",
    "    return (excl if excl>incl else incl)\n",
    "print(\"The maximum amount of money you can rob without alerting the police :\", find_max_sum(lst))"
   ]
  },
  {
   "cell_type": "code",
   "execution_count": null,
   "metadata": {},
   "outputs": [],
   "source": []
  }
 ],
 "metadata": {
  "kernelspec": {
   "display_name": "Python 3",
   "language": "python",
   "name": "python3"
  },
  "language_info": {
   "codemirror_mode": {
    "name": "ipython",
    "version": 3
   },
   "file_extension": ".py",
   "mimetype": "text/x-python",
   "name": "python",
   "nbconvert_exporter": "python",
   "pygments_lexer": "ipython3",
   "version": "3.7.3"
  }
 },
 "nbformat": 4,
 "nbformat_minor": 2
}
