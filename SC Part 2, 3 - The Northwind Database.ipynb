{
 "cells": [
  {
   "cell_type": "markdown",
   "metadata": {},
   "source": [
    "# Part 1 - Making and populating a Database"
   ]
  },
  {
   "cell_type": "code",
   "execution_count": 17,
   "metadata": {},
   "outputs": [
    {
     "name": "stdout",
     "output_type": "stream",
     "text": [
      "Opened database successfully\n",
      "Table `demo` created successfully\n",
      "Table `demo` populated with data successfully\n",
      "How many rows `demo` table have?\n",
      "[(3,)] \n",
      "\n",
      "How many rows any rows are there where both x and y are at least 5?\n",
      "[(2,)] \n",
      "\n",
      "How many unique values of y are there?\n",
      "[(2,)]\n"
     ]
    }
   ],
   "source": [
    "import sqlite3\n",
    "\n",
    "\n",
    "def create_db():\n",
    "    global cursor, conn\n",
    "    conn = sqlite3.connect('demo_data.sqlite3')\n",
    "    cursor = conn.cursor()\n",
    "    print(\"Opened database successfully\")\n",
    "\n",
    "\n",
    "def create_table():\n",
    "    cursor.execute(\"DROP TABLE IF EXISTS demo\")\n",
    "    cursor.execute(\"CREATE TABLE demo\\\n",
    "                 (ID INT PRIMARY KEY NOT NULL,\\\n",
    "                 s CHAR(1) NOT NULL,\\\n",
    "                 x INT NOT NULL,\\\n",
    "                 y INT NOT NULL);\")\n",
    "    print(\"Table `demo` created successfully\")\n",
    "\n",
    "\n",
    "def populate_table():\n",
    "    cursor.execute(\"INSERT INTO demo (ID, s, x, y) VALUES (1, 'g', 3, 9);\")\n",
    "    cursor.execute(\"INSERT INTO demo (ID, s, x, y) VALUES (2, 'v', 5, 7);\")\n",
    "    cursor.execute(\"INSERT INTO demo (ID, s, x, y) VALUES (3, 'f', 8, 7);\")\n",
    "    print(\"Table `demo` populated with data successfully\")\n",
    "\n",
    "    conn.commit()\n",
    "\n",
    "\n",
    "def queries():\n",
    "    print(\"How many rows `demo` table have?\")\n",
    "    print(cursor.execute(\"SELECT count(*) FROM demo;\").fetchall(),'\\n')\n",
    "    \n",
    "    print(\"How many rows any rows are there where both x and y are at least 5?\")\n",
    "    print(cursor.execute(\"SELECT count(*) FROM demo WHERE x >= 5 AND y >= 5;\").fetchall(),'\\n')\n",
    "    \n",
    "    print('How many unique values of y are there?')\n",
    "    print(cursor.execute(\"SELECT COUNT(DISTINCT y) FROM demo;\").fetchall())\n",
    "\n",
    "\n",
    "def main():\n",
    "    create_db()\n",
    "    create_table()\n",
    "    populate_table()\n",
    "    queries()\n",
    "    conn.close()\n",
    "\n",
    "\n",
    "if __name__ == \"__main__\":\n",
    "    main()"
   ]
  },
  {
   "cell_type": "markdown",
   "metadata": {},
   "source": [
    "# Part 2 - The Northwind Database"
   ]
  },
  {
   "cell_type": "code",
   "execution_count": 1,
   "metadata": {},
   "outputs": [
    {
     "name": "stdout",
     "output_type": "stream",
     "text": [
      "Opened database successfully\n"
     ]
    }
   ],
   "source": [
    "import sqlite3\n",
    "\n",
    "conn = sqlite3.connect('northwind_small.sqlite3')\n",
    "cursor = conn.cursor()\n",
    "print(\"Opened database successfully\")"
   ]
  },
  {
   "cell_type": "code",
   "execution_count": 24,
   "metadata": {},
   "outputs": [
    {
     "data": {
      "text/plain": [
       "[('Category',),\n",
       " ('Customer',),\n",
       " ('CustomerCustomerDemo',),\n",
       " ('CustomerDemographic',),\n",
       " ('Employee',),\n",
       " ('EmployeeTerritory',),\n",
       " ('Order',),\n",
       " ('OrderDetail',),\n",
       " ('Product',),\n",
       " ('Region',),\n",
       " ('Shipper',),\n",
       " ('Supplier',),\n",
       " ('Territory',)]"
      ]
     },
     "execution_count": 24,
     "metadata": {},
     "output_type": "execute_result"
    }
   ],
   "source": [
    "cursor.execute(\"SELECT name FROM sqlite_master WHERE type='table'\\\n",
    "ORDER BY name;\").fetchall()"
   ]
  },
  {
   "cell_type": "code",
   "execution_count": 8,
   "metadata": {},
   "outputs": [
    {
     "data": {
      "text/plain": [
       "[('CREATE TABLE \"Product\" \\n(\\n  \"Id\" INTEGER PRIMARY KEY, \\n  \"ProductName\" VARCHAR(8000) NULL, \\n  \"SupplierId\" INTEGER NOT NULL, \\n  \"CategoryId\" INTEGER NOT NULL, \\n  \"QuantityPerUnit\" VARCHAR(8000) NULL, \\n  \"UnitPrice\" DECIMAL NOT NULL, \\n  \"UnitsInStock\" INTEGER NOT NULL, \\n  \"UnitsOnOrder\" INTEGER NOT NULL, \\n  \"ReorderLevel\" INTEGER NOT NULL, \\n  \"Discontinued\" INTEGER NOT NULL \\n)',)]"
      ]
     },
     "execution_count": 8,
     "metadata": {},
     "output_type": "execute_result"
    }
   ],
   "source": [
    "cursor.execute('SELECT sql FROM sqlite_master WHERE name=\"Product\";').fetchall()"
   ]
  },
  {
   "cell_type": "code",
   "execution_count": 15,
   "metadata": {},
   "outputs": [
    {
     "data": {
      "text/plain": [
       "[('Côte de Blaye', 263.5),\n",
       " ('Thüringer Rostbratwurst', 123.79),\n",
       " ('Mishi Kobe Niku', 97),\n",
       " (\"Sir Rodney's Marmalade\", 81),\n",
       " ('Carnarvon Tigers', 62.5),\n",
       " ('Raclette Courdavault', 55),\n",
       " ('Manjimup Dried Apples', 53),\n",
       " ('Tarte au sucre', 49.3),\n",
       " ('Ipoh Coffee', 46),\n",
       " ('Rössle Sauerkraut', 45.6)]"
      ]
     },
     "execution_count": 15,
     "metadata": {},
     "output_type": "execute_result"
    }
   ],
   "source": [
    "print('Ten most expensive items (per unit price) in the database:')\n",
    "cursor.execute(\"SELECT ProductName, UnitPrice FROM Product ORDER BY UnitPrice DESC LIMIT 10;\").fetchall()"
   ]
  },
  {
   "cell_type": "code",
   "execution_count": 16,
   "metadata": {},
   "outputs": [
    {
     "data": {
      "text/plain": [
       "[('CREATE TABLE \"Employee\" \\n(\\n  \"Id\" INTEGER PRIMARY KEY, \\n  \"LastName\" VARCHAR(8000) NULL, \\n  \"FirstName\" VARCHAR(8000) NULL, \\n  \"Title\" VARCHAR(8000) NULL, \\n  \"TitleOfCourtesy\" VARCHAR(8000) NULL, \\n  \"BirthDate\" VARCHAR(8000) NULL, \\n  \"HireDate\" VARCHAR(8000) NULL, \\n  \"Address\" VARCHAR(8000) NULL, \\n  \"City\" VARCHAR(8000) NULL, \\n  \"Region\" VARCHAR(8000) NULL, \\n  \"PostalCode\" VARCHAR(8000) NULL, \\n  \"Country\" VARCHAR(8000) NULL, \\n  \"HomePhone\" VARCHAR(8000) NULL, \\n  \"Extension\" VARCHAR(8000) NULL, \\n  \"Photo\" BLOB NULL, \\n  \"Notes\" VARCHAR(8000) NULL, \\n  \"ReportsTo\" INTEGER NULL, \\n  \"PhotoPath\" VARCHAR(8000) NULL \\n)',)]"
      ]
     },
     "execution_count": 16,
     "metadata": {},
     "output_type": "execute_result"
    }
   ],
   "source": [
    "cursor.execute('SELECT sql FROM sqlite_master WHERE name=\"Employee\";').fetchall()"
   ]
  },
  {
   "cell_type": "code",
   "execution_count": null,
   "metadata": {},
   "outputs": [],
   "source": [
    "cursor.execute('SELECT sql FROM sqlite_master WHERE name=\"Employee\";').fetchall()"
   ]
  },
  {
   "cell_type": "code",
   "execution_count": 18,
   "metadata": {},
   "outputs": [
    {
     "data": {
      "text/plain": [
       "[('1980-12-08', '2024-05-01'),\n",
       " ('1984-02-19', '2024-08-14'),\n",
       " ('1995-08-30', '2024-04-01'),\n",
       " ('1969-09-19', '2025-05-03'),\n",
       " ('1987-03-04', '2025-10-17'),\n",
       " ('1995-07-02', '2025-10-17'),\n",
       " ('1992-05-29', '2026-01-02'),\n",
       " ('1990-01-09', '2026-03-05'),\n",
       " ('1998-01-27', '2026-11-15')]"
      ]
     },
     "execution_count": 18,
     "metadata": {},
     "output_type": "execute_result"
    }
   ],
   "source": [
    "cursor.execute('SELECT BirthDate, HireDate FROM Employee LIMIT 10;').fetchall()"
   ]
  },
  {
   "cell_type": "code",
   "execution_count": 21,
   "metadata": {},
   "outputs": [
    {
     "name": "stdout",
     "output_type": "stream",
     "text": [
      "The average age of an employee at the time of their hiring\n"
     ]
    },
    {
     "data": {
      "text/plain": [
       "[(37.22222222222222,)]"
      ]
     },
     "execution_count": 21,
     "metadata": {},
     "output_type": "execute_result"
    }
   ],
   "source": [
    "print('The average age of an employee at the time of their hiring')\n",
    "cursor.execute('SELECT AVG(HireDate-BirthDate) FROM Employee;').fetchall()"
   ]
  },
  {
   "cell_type": "code",
   "execution_count": 22,
   "metadata": {},
   "outputs": [
    {
     "name": "stdout",
     "output_type": "stream",
     "text": [
      "The average age of employee at hire vary by city\n"
     ]
    },
    {
     "data": {
      "text/plain": [
       "[(29.0,), (32.5,), (56.0,), (40.0,), (40.0,)]"
      ]
     },
     "execution_count": 22,
     "metadata": {},
     "output_type": "execute_result"
    }
   ],
   "source": [
    "print('The average age of employee at hire vary by city')\n",
    "cursor.execute('SELECT AVG(HireDate-BirthDate) FROM Employee GROUP BY City;').fetchall()"
   ]
  },
  {
   "cell_type": "code",
   "execution_count": 27,
   "metadata": {},
   "outputs": [
    {
     "name": "stdout",
     "output_type": "stream",
     "text": [
      "Opened database successfully\n",
      "Ten most expensive items (per unit price) in the database:\n",
      "[('Côte de Blaye', 263.5), ('Thüringer Rostbratwurst', 123.79), ('Mishi Kobe Niku', 97), (\"Sir Rodney's Marmalade\", 81), ('Carnarvon Tigers', 62.5), ('Raclette Courdavault', 55), ('Manjimup Dried Apples', 53), ('Tarte au sucre', 49.3), ('Ipoh Coffee', 46), ('Rössle Sauerkraut', 45.6)] \n",
      "\n",
      "The average age of an employee at the time of their hiring\n",
      "[(37.22222222222222,)] \n",
      "\n",
      "The average age of employee at hire vary by city\n",
      "[(29.0,), (32.5,), (56.0,), (40.0,), (40.0,)] \n",
      "\n"
     ]
    }
   ],
   "source": [
    "import sqlite3\n",
    "\n",
    "conn = sqlite3.connect('northwind_small.sqlite3')\n",
    "cursor = conn.cursor()\n",
    "print(\"Opened database successfully\")\n",
    "\n",
    "\n",
    "cursor.execute(\"SELECT name FROM sqlite_master \\\n",
    "WHERE type='table' ORDER BY name;\").fetchall()\n",
    "\n",
    "\n",
    "print('Ten most expensive items (per unit price) in the database:')\n",
    "print(cursor.execute(\"SELECT ProductName, UnitPrice FROM Product \\\n",
    "ORDER BY UnitPrice DESC LIMIT 10;\").fetchall(), '\\n')\n",
    "\n",
    "\n",
    "print('The average age of an employee at the time of their hiring')\n",
    "print(cursor.execute('SELECT AVG(HireDate-BirthDate) \\\n",
    "FROM Employee;').fetchall(), '\\n')\n",
    "\n",
    "\n",
    "print('The average age of employee at hire vary by city')\n",
    "print(cursor.execute('SELECT AVG(HireDate-BirthDate) \\\n",
    "FROM Employee GROUP BY City;').fetchall(), '\\n')"
   ]
  },
  {
   "cell_type": "markdown",
   "metadata": {},
   "source": [
    "# Part 3 - Sailing the Northwind Seas"
   ]
  },
  {
   "cell_type": "code",
   "execution_count": 29,
   "metadata": {},
   "outputs": [
    {
     "data": {
      "text/plain": [
       "[('CREATE TABLE \"Supplier\" \\n(\\n  \"Id\" INTEGER PRIMARY KEY, \\n  \"CompanyName\" VARCHAR(8000) NULL, \\n  \"ContactName\" VARCHAR(8000) NULL, \\n  \"ContactTitle\" VARCHAR(8000) NULL, \\n  \"Address\" VARCHAR(8000) NULL, \\n  \"City\" VARCHAR(8000) NULL, \\n  \"Region\" VARCHAR(8000) NULL, \\n  \"PostalCode\" VARCHAR(8000) NULL, \\n  \"Country\" VARCHAR(8000) NULL, \\n  \"Phone\" VARCHAR(8000) NULL, \\n  \"Fax\" VARCHAR(8000) NULL, \\n  \"HomePage\" VARCHAR(8000) NULL \\n)',)]"
      ]
     },
     "execution_count": 29,
     "metadata": {},
     "output_type": "execute_result"
    }
   ],
   "source": [
    "cursor.execute('SELECT sql FROM sqlite_master WHERE name=\"Supplier\";').fetchall()"
   ]
  },
  {
   "cell_type": "code",
   "execution_count": 33,
   "metadata": {},
   "outputs": [
    {
     "data": {
      "text/plain": [
       "[('CREATE TABLE \"Category\" \\n(\\n  \"Id\" INTEGER PRIMARY KEY, \\n  \"CategoryName\" VARCHAR(8000) NULL, \\n  \"Description\" VARCHAR(8000) NULL \\n)',)]"
      ]
     },
     "execution_count": 33,
     "metadata": {},
     "output_type": "execute_result"
    }
   ],
   "source": [
    "cursor.execute('SELECT sql FROM sqlite_master WHERE name=\"Category\";').fetchall()"
   ]
  },
  {
   "cell_type": "code",
   "execution_count": null,
   "metadata": {},
   "outputs": [],
   "source": [
    "print('Ten most expensive items (per unit price) in the database and their suppliers')\n",
    "print(cursor.execute('''\n",
    "SELECT Product.ProductName, Product.UnitPrice, Supplier.CompanyName\n",
    "FROM Product \n",
    "INNER JOIN Supplier\n",
    "ON Product.SupplierId = Supplier.Id\n",
    "ORDER BY UnitPrice DESC LIMIT 10;''').fetchall(), '\\n')\n",
    "\n",
    "\n",
    "print('The largest category (by number of unique products in it):')\n",
    "print(cursor.execute('SELECT AVG(HireDate-BirthDate) \\\n",
    "FROM Employee;').fetchall(), '\\n')\n",
    "\n",
    "\n",
    "print('The average age of employee at hire vary by city')\n",
    "print(cursor.execute('SELECT AVG(HireDate-BirthDate) \\\n",
    "FROM Employee GROUP BY City;').fetchall(), '\\n')"
   ]
  },
  {
   "cell_type": "code",
   "execution_count": 36,
   "metadata": {},
   "outputs": [
    {
     "ename": "OperationalError",
     "evalue": "misuse of aggregate function COUNT()",
     "output_type": "error",
     "traceback": [
      "\u001b[1;31m---------------------------------------------------------------------------\u001b[0m",
      "\u001b[1;31mOperationalError\u001b[0m                          Traceback (most recent call last)",
      "\u001b[1;32m<ipython-input-36-d4abe63f2a02>\u001b[0m in \u001b[0;36m<module>\u001b[1;34m\u001b[0m\n\u001b[0;32m      4\u001b[0m \u001b[0mON\u001b[0m \u001b[0mProduct\u001b[0m\u001b[1;33m.\u001b[0m\u001b[0mCategoryId\u001b[0m \u001b[1;33m=\u001b[0m \u001b[0mCategory\u001b[0m\u001b[1;33m.\u001b[0m\u001b[0mId\u001b[0m\u001b[1;33m\u001b[0m\u001b[1;33m\u001b[0m\u001b[0m\n\u001b[0;32m      5\u001b[0m \u001b[0mWHERE\u001b[0m \u001b[0mMAX\u001b[0m\u001b[1;33m(\u001b[0m\u001b[0mCOUNT\u001b[0m\u001b[1;33m(\u001b[0m\u001b[0mProduct\u001b[0m\u001b[1;33m.\u001b[0m\u001b[0mCategoryId\u001b[0m\u001b[1;33m)\u001b[0m\u001b[1;33m)\u001b[0m\u001b[1;33m\u001b[0m\u001b[1;33m\u001b[0m\u001b[0m\n\u001b[1;32m----> 6\u001b[1;33m GROUP BY Product.CategoryId;''').fetchall()\n\u001b[0m",
      "\u001b[1;31mOperationalError\u001b[0m: misuse of aggregate function COUNT()"
     ]
    }
   ],
   "source": [
    "cursor.execute('''SELECT Category.CategoryName\n",
    "FROM Product \n",
    "INNER JOIN Category\n",
    "ON Product.CategoryId = Category.Id\n",
    "WHERE \n",
    "( SELECT COUNT(Product.CategoryId)\n",
    "GROUP BY Product.CategoryId);''').fetchall()"
   ]
  },
  {
   "cell_type": "code",
   "execution_count": 32,
   "metadata": {},
   "outputs": [
    {
     "data": {
      "text/plain": [
       "[('Côte de Blaye', 263.5, 'Aux joyeux ecclésiastiques'),\n",
       " ('Thüringer Rostbratwurst', 123.79, 'Plutzer Lebensmittelgroßmärkte AG'),\n",
       " ('Mishi Kobe Niku', 97, 'Tokyo Traders'),\n",
       " (\"Sir Rodney's Marmalade\", 81, 'Specialty Biscuits, Ltd.'),\n",
       " ('Carnarvon Tigers', 62.5, 'Pavlova, Ltd.'),\n",
       " ('Raclette Courdavault', 55, 'Gai pâturage'),\n",
       " ('Manjimup Dried Apples', 53, \"G'day, Mate\"),\n",
       " ('Tarte au sucre', 49.3, \"Forêts d'érables\"),\n",
       " ('Ipoh Coffee', 46, 'Leka Trading'),\n",
       " ('Rössle Sauerkraut', 45.6, 'Plutzer Lebensmittelgroßmärkte AG')]"
      ]
     },
     "execution_count": 32,
     "metadata": {},
     "output_type": "execute_result"
    }
   ],
   "source": [
    "cursor.execute('''SELECT Product.ProductName, Product.UnitPrice, Supplier.CompanyName\n",
    "FROM Product \n",
    "INNER JOIN Supplier\n",
    "ON Product.SupplierId = Supplier.Id\n",
    "ORDER BY UnitPrice DESC LIMIT 10;''').fetchall()"
   ]
  },
  {
   "cell_type": "code",
   "execution_count": null,
   "metadata": {},
   "outputs": [],
   "source": []
  }
 ],
 "metadata": {
  "kernelspec": {
   "display_name": "Python 3",
   "language": "python",
   "name": "python3"
  },
  "language_info": {
   "codemirror_mode": {
    "name": "ipython",
    "version": 3
   },
   "file_extension": ".py",
   "mimetype": "text/x-python",
   "name": "python",
   "nbconvert_exporter": "python",
   "pygments_lexer": "ipython3",
   "version": "3.7.1"
  }
 },
 "nbformat": 4,
 "nbformat_minor": 2
}
