{
 "cells": [
  {
   "cell_type": "code",
   "execution_count": 1,
   "metadata": {},
   "outputs": [],
   "source": [
    "import sqlite3"
   ]
  },
  {
   "cell_type": "code",
   "execution_count": 2,
   "metadata": {},
   "outputs": [],
   "source": [
    "conn = sqlite3.connect('rpg_db.sqlite3')\n",
    "curs = conn.cursor()"
   ]
  },
  {
   "cell_type": "code",
   "execution_count": 12,
   "metadata": {},
   "outputs": [],
   "source": [
    "query = 'SELECT COUNT(*) FROM charactercreator_character;'  # using COUNT(*)to count length of character list"
   ]
  },
  {
   "cell_type": "code",
   "execution_count": 13,
   "metadata": {},
   "outputs": [],
   "source": [
    "result = curs.execute(query)"
   ]
  },
  {
   "cell_type": "code",
   "execution_count": 14,
   "metadata": {},
   "outputs": [
    {
     "data": {
      "text/plain": [
       "[(302,)]"
      ]
     },
     "execution_count": 14,
     "metadata": {},
     "output_type": "execute_result"
    }
   ],
   "source": [
    "result.fetchall()"
   ]
  },
  {
   "cell_type": "code",
   "execution_count": null,
   "metadata": {},
   "outputs": [],
   "source": [
    "# so there are 302 characters in total"
   ]
  },
  {
   "cell_type": "code",
   "execution_count": 18,
   "metadata": {},
   "outputs": [
    {
     "name": "stdout",
     "output_type": "stream",
     "text": [
      "there are 108 members of the mage class\n",
      "there are 51 members of the thief class\n",
      "there are 75 members of the cleric class\n",
      "there are 68 members of the fighter class\n"
     ]
    }
   ],
   "source": [
    "subclasses = ['mage','thief','cleric','fighter']\n",
    "for subclass in subclasses:\n",
    "    query_sub=f'SELECT COUNT(*) FROM charactercreator_{subclass};'\n",
    "    result_sub=curs.execute(query_sub)\n",
    "    print(f'there are {result_sub.fetchall()[0][0]} members of the {subclass} class')"
   ]
  },
  {
   "cell_type": "code",
   "execution_count": 19,
   "metadata": {},
   "outputs": [],
   "source": [
    "#see answers above for second question and question 3 below"
   ]
  },
  {
   "cell_type": "code",
   "execution_count": 20,
   "metadata": {},
   "outputs": [
    {
     "name": "stdout",
     "output_type": "stream",
     "text": [
      "there are in total 174 items\n"
     ]
    }
   ],
   "source": [
    "query_items = 'SELECT COUNT(*) FROM armory_item;'  # using COUNT(*)to count length of character list\n",
    "result_items = curs.execute(query_items)\n",
    "print(f'there are in total {result_items.fetchall()[0][0]} items')"
   ]
  },
  {
   "cell_type": "code",
   "execution_count": 26,
   "metadata": {},
   "outputs": [
    {
     "name": "stdout",
     "output_type": "stream",
     "text": [
      "there are 37 items in the armory_weapon\n",
      "there are 174 items in the armory_item\n"
     ]
    }
   ],
   "source": [
    "inv_types=['armory_weapon','armory_item']\n",
    "for inv in inv_types:\n",
    "    query_inv=f'SELECT COUNT(*) FROM {inv};'\n",
    "    result_item=curs.execute(query_inv)\n",
    "    print(f'there are {result_item.fetchall()[0][0]} items in the {inv}')"
   ]
  },
  {
   "cell_type": "code",
   "execution_count": 27,
   "metadata": {},
   "outputs": [],
   "source": [
    "# 174-34 are not wepaons, i.e. 137"
   ]
  },
  {
   "cell_type": "code",
   "execution_count": 181,
   "metadata": {},
   "outputs": [
    {
     "name": "stdout",
     "output_type": "stream",
     "text": [
      "[('Aliquid iste optio reiciendi', 3)]\n",
      "[('Optio dolorem ex a', 3)]\n",
      "[('Minus c', 2)]\n",
      "[('Sit ut repr', 4)]\n",
      "[('At id recusandae expl', 4)]\n",
      "[('Non nobis et of', 1)]\n",
      "[('Perferendis', 5)]\n",
      "[('Accusantium amet quidem eve', 3)]\n",
      "[('Sed nostrum inventore error m', 4)]\n",
      "[('Harum repellendus omnis od', 4)]\n",
      "[('Itaque ut commodi,', 3)]\n",
      "[('Molestiae quis', 3)]\n",
      "[('Ali', 4)]\n",
      "[('Tempora quod optio possimus il', 4)]\n",
      "[('Sed itaque beatae pari', 4)]\n",
      "[('Quam dolor', 1)]\n",
      "[('Molestias expedita', 5)]\n",
      "[('Lauda', 5)]\n",
      "[('Incidunt sint perferen', 3)]\n",
      "[('Laboriosa', 1)]\n"
     ]
    }
   ],
   "source": [
    "#number of item in first 20 inventories\n",
    "for j in range(1,21):\n",
    "    cs3 = f\"\"\"\n",
    "SELECT cc.name AS character_name, COUNT(ai.name)\n",
    "FROM \n",
    "charactercreator_character as cc,\n",
    "armory_item as ai,\n",
    "charactercreator_character_inventory as cci\n",
    "WHERE\n",
    "cc.character_id=cci.character_id AND\n",
    "ai.item_id = cci.item_id AND\n",
    "cci.character_id={j};\"\"\"\n",
    "    result_cs3=curs.execute(cs3)\n",
    "    _=result_cs3.fetchall()\n",
    "    print(_)"
   ]
  },
  {
   "cell_type": "code",
   "execution_count": null,
   "metadata": {},
   "outputs": [],
   "source": [
    "#or like this combingin sql and python"
   ]
  },
  {
   "cell_type": "code",
   "execution_count": 163,
   "metadata": {},
   "outputs": [
    {
     "name": "stdout",
     "output_type": "stream",
     "text": [
      "Aliquid iste optio reiciendi has 3 items\n",
      "Optio dolorem ex a has 3 items\n",
      "Minus c has 2 items\n",
      "Sit ut repr has 4 items\n",
      "At id recusandae expl has 4 items\n",
      "Non nobis et of has 1 items\n",
      "Perferendis has 5 items\n",
      "Accusantium amet quidem eve has 3 items\n",
      "Sed nostrum inventore error m has 4 items\n",
      "Harum repellendus omnis od has 4 items\n",
      "Itaque ut commodi, has 3 items\n",
      "Molestiae quis has 3 items\n",
      "Ali has 4 items\n",
      "Tempora quod optio possimus il has 4 items\n",
      "Sed itaque beatae pari has 4 items\n",
      "Quam dolor has 1 items\n",
      "Molestias expedita has 5 items\n",
      "Lauda has 5 items\n",
      "Incidunt sint perferen has 3 items\n",
      "Laboriosa has 1 items\n"
     ]
    }
   ],
   "source": [
    "for j in range(1,21):\n",
    "    cs = f\"\"\"\n",
    "SELECT cc.name AS character_name, ai.name \n",
    "FROM \n",
    "charactercreator_character as cc,\n",
    "armory_item as ai,\n",
    "charactercreator_character_inventory as cci\n",
    "WHERE\n",
    "cc.character_id=cci.character_id AND\n",
    "ai.item_id = cci.item_id AND\n",
    "cci.character_id={j};\"\"\"\n",
    "    result_cs=curs.execute(cs)\n",
    "    _=result_cs.fetchall()\n",
    "    print(_[0][0],'has',len(_),'items')"
   ]
  },
  {
   "cell_type": "code",
   "execution_count": 176,
   "metadata": {
    "scrolled": false
   },
   "outputs": [
    {
     "name": "stdout",
     "output_type": "stream",
     "text": [
      "At id recusandae expl has 2 weapons\n",
      "Perferendis has 1 weapons\n",
      "Itaque ut commodi, has 1 weapons\n",
      "Laboriosa has 1 weapons\n",
      "Dolorum nam reic has 1 weapons\n",
      "Repellat ad numquam volu has 1 weapons\n",
      "Doloribus neque has 1 weapons\n",
      "Ab voluptas se has 3 weapons\n",
      "In pariatur corpori has 2 weapons\n",
      "Possimus ad dignissimos vel, a has 1 weapons\n",
      "Ad necess has 1 weapons\n",
      "Voluptates sunt voluptas volu has 1 weapons\n",
      "Autem mollitia fuga lauda has 2 weapons\n",
      "Sint quibusdam ob has 3 weapons\n",
      "Rerum et o has 2 weapons\n",
      "Doloribus dolore r has 2 weapons\n",
      "Eaque su has 2 weapons\n"
     ]
    }
   ],
   "source": [
    "#number of weapons in each inventory\n",
    "k=0\n",
    "for j in range(1,40):\n",
    "    cs2 = f\"\"\"\n",
    "SELECT cc.name AS character_name, ai.item_id\n",
    "FROM \n",
    "charactercreator_character as cc,\n",
    "(armory_item INNER JOIN armory_weapon on armory_item.item_id = armory_weapon.item_ptr_id) as ai,\n",
    "charactercreator_character_inventory as cci\n",
    "WHERE\n",
    "cc.character_id=cci.character_id AND\n",
    "ai.item_id = cci.item_id AND\n",
    "cci.character_id={j};\"\"\"\n",
    "    result_cs2=curs.execute(cs2)\n",
    "    _=result_cs2.fetchall()\n",
    "    if _==[]:\n",
    "        pass\n",
    "    else:\n",
    "        print(_[0][0],'has',len(_),'weapons')\n",
    "        k=k+1\n",
    "    if k>19:\n",
    "        break"
   ]
  },
  {
   "cell_type": "code",
   "execution_count": 212,
   "metadata": {
    "scrolled": false
   },
   "outputs": [
    {
     "data": {
      "text/plain": [
       "[(2.9735099337748343,)]"
      ]
     },
     "execution_count": 212,
     "metadata": {},
     "output_type": "execute_result"
    }
   ],
   "source": [
    "#average number of items\n",
    "query_length='''SELECT avg(count) FROM(\n",
    "SELECT COUNT(armory_item.item_id) AS Count\n",
    "FROM charactercreator_character INNER JOIN\n",
    "(armory_item INNER JOIN charactercreator_character_inventory on armory_item.item_id = charactercreator_character_inventory.item_id)\n",
    "on charactercreator_character.character_id = charactercreator_character_inventory.character_id\n",
    "GROUP BY charactercreator_character.character_id);'''\n",
    "result_length = curs.execute(query_length)\n",
    "result_length.fetchall()"
   ]
  },
  {
   "cell_type": "code",
   "execution_count": 214,
   "metadata": {},
   "outputs": [
    {
     "data": {
      "text/plain": [
       "[(1.3096774193548386,)]"
      ]
     },
     "execution_count": 214,
     "metadata": {},
     "output_type": "execute_result"
    }
   ],
   "source": [
    "#average number of weapons\n",
    "query_length='''SELECT avg(count) FROM(\n",
    "SELECT COUNT(armory_item.item_id) AS Count\n",
    "FROM charactercreator_character INNER JOIN\n",
    "((armory_item INNER JOIN armory_weapon on armory_item.item_id = armory_weapon.item_ptr_id)\n",
    "INNER JOIN charactercreator_character_inventory on armory_item.item_id = charactercreator_character_inventory.item_id)\n",
    "on charactercreator_character.character_id = charactercreator_character_inventory.character_id\n",
    "GROUP BY charactercreator_character.character_id);'''\n",
    "result_length = curs.execute(query_length)\n",
    "result_length.fetchall()"
   ]
  }
 ],
 "metadata": {
  "kernelspec": {
   "display_name": "Python 3",
   "language": "python",
   "name": "python3"
  },
  "language_info": {
   "codemirror_mode": {
    "name": "ipython",
    "version": 3
   },
   "file_extension": ".py",
   "mimetype": "text/x-python",
   "name": "python",
   "nbconvert_exporter": "python",
   "pygments_lexer": "ipython3",
   "version": "3.7.3"
  }
 },
 "nbformat": 4,
 "nbformat_minor": 2
}
