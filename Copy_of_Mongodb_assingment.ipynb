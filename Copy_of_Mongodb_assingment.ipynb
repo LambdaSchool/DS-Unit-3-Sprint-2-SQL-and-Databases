{
  "nbformat": 4,
  "nbformat_minor": 0,
  "metadata": {
    "kernelspec": {
      "display_name": "Python 3",
      "language": "python",
      "name": "python3"
    },
    "language_info": {
      "codemirror_mode": {
        "name": "ipython",
        "version": 3
      },
      "file_extension": ".py",
      "mimetype": "text/x-python",
      "name": "python",
      "nbconvert_exporter": "python",
      "pygments_lexer": "ipython3",
      "version": "3.7.4"
    },
    "colab": {
      "name": "Copy of Mongodb -  assingment.ipynb",
      "provenance": [],
      "include_colab_link": true
    }
  },
  "cells": [
    {
      "cell_type": "markdown",
      "metadata": {
        "id": "view-in-github",
        "colab_type": "text"
      },
      "source": [
        "<a href=\"https://colab.research.google.com/github/xander-bennett/DS-Unit-3-Sprint-2-SQL-and-Databases/blob/master/Copy_of_Mongodb_assingment.ipynb\" target=\"_parent\"><img src=\"https://colab.research.google.com/assets/colab-badge.svg\" alt=\"Open In Colab\"/></a>"
      ]
    },
    {
      "cell_type": "markdown",
      "metadata": {
        "id": "x1AAeAX5txFa",
        "colab_type": "text"
      },
      "source": [
        "## Imports and setup"
      ]
    },
    {
      "cell_type": "code",
      "metadata": {
        "id": "H3-4izSMtxFc",
        "colab_type": "code",
        "colab": {}
      },
      "source": [
        "from pymongo import MongoClient\n",
        "from pymongo.errors import BulkWriteError\n",
        "import pymongo\n",
        "from pymongo import UpdateOne\n",
        "import sqlite3\n",
        "import pandas as pd"
      ],
      "execution_count": 0,
      "outputs": []
    },
    {
      "cell_type": "code",
      "metadata": {
        "id": "v9ymtiajtxFe",
        "colab_type": "code",
        "colab": {}
      },
      "source": [
        "# If working on colab:\n",
        "# Uncomment the next lines and supply your own mongodb connection string on the next cell\n",
        "# !wget https://github.com/LambdaSchool/DS-Unit-3-Sprint-2-SQL-and-Databases/blob/master/module1-introduction-to-sql/rpg_db.sqlite3"
      ],
      "execution_count": 0,
      "outputs": []
    },
    {
      "cell_type": "code",
      "metadata": {
        "id": "InEeo-gVtxFg",
        "colab_type": "code",
        "colab": {}
      },
      "source": [
        "# connect to mongodb\n",
        "client = MongoClient('mongodb://mongo:27017/')\n",
        "mydb = client['rpg']\n",
        "char_record = mydb['character']"
      ],
      "execution_count": 0,
      "outputs": []
    },
    {
      "cell_type": "code",
      "metadata": {
        "id": "w88U3tk8txFi",
        "colab_type": "code",
        "colab": {}
      },
      "source": [
        "# sqlite connection\n",
        "con = sqlite3.connect('rpg_db.sqlite3')\n",
        "cur = con.cursor()\n",
        "classes = [\n",
        "    'charactercreator_cleric',\n",
        "    'charactercreator_fighter',\n",
        "    'charactercreator_mage',\n",
        "    'charactercreator_thief',\n",
        "    'charactercreator_necromancer'\n",
        "]\n",
        "\n",
        "# Because pandas is really convinient\n",
        "def sql_df(query, con=con):\n",
        "    '''\n",
        "    Takes an sql query string and a db connection object and outputs\n",
        "    a pandas dataframe from the results\n",
        "    '''\n",
        "    return pd.read_sql(query, con)"
      ],
      "execution_count": 0,
      "outputs": []
    },
    {
      "cell_type": "markdown",
      "metadata": {
        "id": "uriK9zSFtxFl",
        "colab_type": "text"
      },
      "source": [
        "## Insert Character data from the charactercreator_character table to our mongo database"
      ]
    },
    {
      "cell_type": "code",
      "metadata": {
        "id": "BZBaH44otxFm",
        "colab_type": "code",
        "colab": {}
      },
      "source": [
        "\n",
        "char_record.create_index([('character_id', pymongo.ASCENDING)], unique=True)\n",
        "characters = sql_df('SELECT * FROM charactercreator_character').to_dict(orient='records')\n",
        "# Load data if not loaded already\n",
        "try:\n",
        "    char_record.insert_many(characters)\n",
        "except BulkWriteError as e:\n",
        "        print('Record already written')"
      ],
      "execution_count": 0,
      "outputs": []
    },
    {
      "cell_type": "markdown",
      "metadata": {
        "id": "vA-tUVbotxFo",
        "colab_type": "text"
      },
      "source": [
        "### Compare Entries (chracter_id: 1)"
      ]
    },
    {
      "cell_type": "code",
      "metadata": {
        "id": "l2QK5q0ftxFo",
        "colab_type": "code",
        "outputId": "dd34ad67-e677-42ea-91be-3638612bdd93",
        "colab": {}
      },
      "source": [
        "sql_df('SELECT * FROM charactercreator_character WHERE character_id = 1')"
      ],
      "execution_count": 0,
      "outputs": [
        {
          "output_type": "execute_result",
          "data": {
            "text/html": [
              "<div>\n",
              "<style scoped>\n",
              "    .dataframe tbody tr th:only-of-type {\n",
              "        vertical-align: middle;\n",
              "    }\n",
              "\n",
              "    .dataframe tbody tr th {\n",
              "        vertical-align: top;\n",
              "    }\n",
              "\n",
              "    .dataframe thead th {\n",
              "        text-align: right;\n",
              "    }\n",
              "</style>\n",
              "<table border=\"1\" class=\"dataframe\">\n",
              "  <thead>\n",
              "    <tr style=\"text-align: right;\">\n",
              "      <th></th>\n",
              "      <th>character_id</th>\n",
              "      <th>name</th>\n",
              "      <th>level</th>\n",
              "      <th>exp</th>\n",
              "      <th>hp</th>\n",
              "      <th>strength</th>\n",
              "      <th>intelligence</th>\n",
              "      <th>dexterity</th>\n",
              "      <th>wisdom</th>\n",
              "    </tr>\n",
              "  </thead>\n",
              "  <tbody>\n",
              "    <tr>\n",
              "      <th>0</th>\n",
              "      <td>1</td>\n",
              "      <td>Aliquid iste optio reiciendi</td>\n",
              "      <td>0</td>\n",
              "      <td>0</td>\n",
              "      <td>10</td>\n",
              "      <td>1</td>\n",
              "      <td>1</td>\n",
              "      <td>1</td>\n",
              "      <td>1</td>\n",
              "    </tr>\n",
              "  </tbody>\n",
              "</table>\n",
              "</div>"
            ],
            "text/plain": [
              "   character_id                          name  level  exp  hp  strength  \\\n",
              "0             1  Aliquid iste optio reiciendi      0    0  10         1   \n",
              "\n",
              "   intelligence  dexterity  wisdom  \n",
              "0             1          1       1  "
            ]
          },
          "metadata": {
            "tags": []
          },
          "execution_count": 6
        }
      ]
    },
    {
      "cell_type": "code",
      "metadata": {
        "id": "4JVBnzzvtxFr",
        "colab_type": "code",
        "outputId": "12d5fb1a-a81e-45c5-b2dc-1a46ca4371e3",
        "colab": {}
      },
      "source": [
        "char_record.find_one({'character_id': 1})"
      ],
      "execution_count": 0,
      "outputs": [
        {
          "output_type": "execute_result",
          "data": {
            "text/plain": [
              "{'_id': ObjectId('5dc3bd315d4910a3230f05a5'),\n",
              " 'character_id': 1,\n",
              " 'name': 'Aliquid iste optio reiciendi',\n",
              " 'level': 0,\n",
              " 'exp': 0,\n",
              " 'hp': 10,\n",
              " 'strength': 1,\n",
              " 'intelligence': 1,\n",
              " 'dexterity': 1,\n",
              " 'wisdom': 1}"
            ]
          },
          "metadata": {
            "tags": []
          },
          "execution_count": 7
        }
      ]
    },
    {
      "cell_type": "markdown",
      "metadata": {
        "id": "0GRyT6ustxFu",
        "colab_type": "text"
      },
      "source": [
        "### Insert Character data from other tables"
      ]
    },
    {
      "cell_type": "code",
      "metadata": {
        "id": "oothazcWtxFu",
        "colab_type": "code",
        "outputId": "447347a7-f4ab-4789-a7f3-6755e862fa2d",
        "colab": {}
      },
      "source": [
        "# RPG Classes\n",
        "base_classes = [\n",
        "    'charactercreator_cleric',\n",
        "    'charactercreator_fighter',\n",
        "    'charactercreator_mage',\n",
        "    'charactercreator_thief',\n",
        "    'charactercreator_necromancer'\n",
        "]\n",
        "# Merge the class data to character record\n",
        "\n",
        "# Track char classes\n",
        "char_classes = {}\n",
        "# List of operations for bulk writing\n",
        "operations = []\n",
        "for cls in base_classes:\n",
        "    for rec in sql_df(f'SELECT * FROM {cls}').to_dict(orient='records'):\n",
        "        # Handle special case\n",
        "        # Necrmonacer is a subclass of mage\n",
        "        char_foreign_key = 'mage_ptr_id' if cls == 'charactercreator_necromancer'\\\n",
        "        else 'character_ptr_id'\n",
        "        character_id = rec.pop(char_foreign_key)\n",
        "        #use the last word for class name\n",
        "        class_name = cls.split('_')[-1]\n",
        "        rec[class_name] = True\n",
        "        char_classes.setdefault(character_id,[]).append(class_name)\n",
        "        rec['classes'] = char_classes[character_id]\n",
        "        rec['items'] = []\n",
        "        query = {'character_id': character_id}\n",
        "        operations.append(UpdateOne(query, {'$set': rec}, upsert=True))\n",
        "# Execute bulk operations\n",
        "char_record.bulk_write(operations)"
      ],
      "execution_count": 0,
      "outputs": [
        {
          "output_type": "execute_result",
          "data": {
            "text/plain": [
              "<pymongo.results.BulkWriteResult at 0x7fb5421ff870>"
            ]
          },
          "metadata": {
            "tags": []
          },
          "execution_count": 8
        }
      ]
    },
    {
      "cell_type": "markdown",
      "metadata": {
        "id": "DLz3_k1stxFw",
        "colab_type": "text"
      },
      "source": [
        "### Compare!"
      ]
    },
    {
      "cell_type": "code",
      "metadata": {
        "id": "MzuSe0G4txFx",
        "colab_type": "code",
        "outputId": "f0997c57-cea3-49ec-b876-19b272c6faf9",
        "colab": {}
      },
      "source": [
        "# How do we know which class/es a character belongs to?\n",
        "# Lots of joins!\n",
        "base_query = 'SELECT * FROM charactercreator_character as cc'\n",
        "def join_query(tablename):\n",
        "    char_foreign_key = 'mage_ptr_id' if tablename == 'charactercreator_necromancer'\\\n",
        "    else 'character_ptr_id'\n",
        "    class_name = tablename.split('_')[-1]\n",
        "    return f'''\n",
        "        LEFT JOIN (SELECT *, True AS {class_name} FROM  {tablename}) {class_name}\\\n",
        "        ON cc.character_id = {class_name}.{char_foreign_key}\n",
        "        '''\n",
        "sql_df(\n",
        "    base_query + ' '.join([join_query(x) for x in classes])+\n",
        "    'WHERE cc.character_id=1'\n",
        ").dropna(axis=1)\n"
      ],
      "execution_count": 0,
      "outputs": [
        {
          "output_type": "execute_result",
          "data": {
            "text/html": [
              "<div>\n",
              "<style scoped>\n",
              "    .dataframe tbody tr th:only-of-type {\n",
              "        vertical-align: middle;\n",
              "    }\n",
              "\n",
              "    .dataframe tbody tr th {\n",
              "        vertical-align: top;\n",
              "    }\n",
              "\n",
              "    .dataframe thead th {\n",
              "        text-align: right;\n",
              "    }\n",
              "</style>\n",
              "<table border=\"1\" class=\"dataframe\">\n",
              "  <thead>\n",
              "    <tr style=\"text-align: right;\">\n",
              "      <th></th>\n",
              "      <th>character_id</th>\n",
              "      <th>name</th>\n",
              "      <th>level</th>\n",
              "      <th>exp</th>\n",
              "      <th>hp</th>\n",
              "      <th>strength</th>\n",
              "      <th>intelligence</th>\n",
              "      <th>dexterity</th>\n",
              "      <th>wisdom</th>\n",
              "      <th>character_ptr_id</th>\n",
              "      <th>using_shield</th>\n",
              "      <th>rage</th>\n",
              "      <th>fighter</th>\n",
              "    </tr>\n",
              "  </thead>\n",
              "  <tbody>\n",
              "    <tr>\n",
              "      <th>0</th>\n",
              "      <td>1</td>\n",
              "      <td>Aliquid iste optio reiciendi</td>\n",
              "      <td>0</td>\n",
              "      <td>0</td>\n",
              "      <td>10</td>\n",
              "      <td>1</td>\n",
              "      <td>1</td>\n",
              "      <td>1</td>\n",
              "      <td>1</td>\n",
              "      <td>1</td>\n",
              "      <td>0</td>\n",
              "      <td>100</td>\n",
              "      <td>1</td>\n",
              "    </tr>\n",
              "  </tbody>\n",
              "</table>\n",
              "</div>"
            ],
            "text/plain": [
              "   character_id                          name  level  exp  hp  strength  \\\n",
              "0             1  Aliquid iste optio reiciendi      0    0  10         1   \n",
              "\n",
              "   intelligence  dexterity  wisdom  character_ptr_id  using_shield  rage  \\\n",
              "0             1          1       1                 1             0   100   \n",
              "\n",
              "   fighter  \n",
              "0        1  "
            ]
          },
          "metadata": {
            "tags": []
          },
          "execution_count": 9
        }
      ]
    },
    {
      "cell_type": "code",
      "metadata": {
        "id": "mz1pQ94StxFz",
        "colab_type": "code",
        "outputId": "7e110e9b-907f-4a85-bdf1-1576e53700a7",
        "colab": {}
      },
      "source": [
        "char_record.find_one({'character_id': 1})"
      ],
      "execution_count": 0,
      "outputs": [
        {
          "output_type": "execute_result",
          "data": {
            "text/plain": [
              "{'_id': ObjectId('5dc3bd315d4910a3230f05a5'),\n",
              " 'character_id': 1,\n",
              " 'name': 'Aliquid iste optio reiciendi',\n",
              " 'level': 0,\n",
              " 'exp': 0,\n",
              " 'hp': 10,\n",
              " 'strength': 1,\n",
              " 'intelligence': 1,\n",
              " 'dexterity': 1,\n",
              " 'wisdom': 1,\n",
              " 'classes': ['fighter'],\n",
              " 'fighter': True,\n",
              " 'items': [],\n",
              " 'rage': 100,\n",
              " 'using_shield': 0}"
            ]
          },
          "metadata": {
            "tags": []
          },
          "execution_count": 10
        }
      ]
    },
    {
      "cell_type": "code",
      "metadata": {
        "id": "oPYYy51EtxF2",
        "colab_type": "code",
        "outputId": "be19cd5f-77fe-4054-9369-27e19acf0c50",
        "colab": {}
      },
      "source": [
        "# A characters from different classes have different sets valid atributes\n",
        "sql_df(\n",
        "    base_query + ' '.join([join_query(x) for x in classes])+\n",
        "    'WHERE necromancer=True LIMIT 1'\n",
        ").dropna(axis=1)\n"
      ],
      "execution_count": 0,
      "outputs": [
        {
          "output_type": "execute_result",
          "data": {
            "text/html": [
              "<div>\n",
              "<style scoped>\n",
              "    .dataframe tbody tr th:only-of-type {\n",
              "        vertical-align: middle;\n",
              "    }\n",
              "\n",
              "    .dataframe tbody tr th {\n",
              "        vertical-align: top;\n",
              "    }\n",
              "\n",
              "    .dataframe thead th {\n",
              "        text-align: right;\n",
              "    }\n",
              "</style>\n",
              "<table border=\"1\" class=\"dataframe\">\n",
              "  <thead>\n",
              "    <tr style=\"text-align: right;\">\n",
              "      <th></th>\n",
              "      <th>character_id</th>\n",
              "      <th>name</th>\n",
              "      <th>level</th>\n",
              "      <th>exp</th>\n",
              "      <th>hp</th>\n",
              "      <th>strength</th>\n",
              "      <th>intelligence</th>\n",
              "      <th>dexterity</th>\n",
              "      <th>wisdom</th>\n",
              "      <th>character_ptr_id</th>\n",
              "      <th>has_pet</th>\n",
              "      <th>mana</th>\n",
              "      <th>mage</th>\n",
              "      <th>mage_ptr_id</th>\n",
              "      <th>talisman_charged</th>\n",
              "      <th>necromancer</th>\n",
              "    </tr>\n",
              "  </thead>\n",
              "  <tbody>\n",
              "    <tr>\n",
              "      <th>0</th>\n",
              "      <td>292</td>\n",
              "      <td>Vero a</td>\n",
              "      <td>0</td>\n",
              "      <td>0</td>\n",
              "      <td>10</td>\n",
              "      <td>1</td>\n",
              "      <td>1</td>\n",
              "      <td>1</td>\n",
              "      <td>1</td>\n",
              "      <td>292</td>\n",
              "      <td>1</td>\n",
              "      <td>100</td>\n",
              "      <td>1</td>\n",
              "      <td>292</td>\n",
              "      <td>1</td>\n",
              "      <td>1</td>\n",
              "    </tr>\n",
              "  </tbody>\n",
              "</table>\n",
              "</div>"
            ],
            "text/plain": [
              "   character_id    name  level  exp  hp  strength  intelligence  dexterity  \\\n",
              "0           292  Vero a      0    0  10         1             1          1   \n",
              "\n",
              "   wisdom  character_ptr_id  has_pet  mana  mage  mage_ptr_id  \\\n",
              "0       1               292        1   100     1          292   \n",
              "\n",
              "   talisman_charged  necromancer  \n",
              "0                 1            1  "
            ]
          },
          "metadata": {
            "tags": []
          },
          "execution_count": 11
        }
      ]
    },
    {
      "cell_type": "code",
      "metadata": {
        "id": "2j5eTzNdtxF6",
        "colab_type": "code",
        "outputId": "66050068-eaad-4230-d9c6-7439d153f3ab",
        "colab": {}
      },
      "source": [
        "char_record.find_one({'classes': 'necromancer'})"
      ],
      "execution_count": 0,
      "outputs": [
        {
          "output_type": "execute_result",
          "data": {
            "text/plain": [
              "{'_id': ObjectId('5dc3bd315d4910a3230f06c8'),\n",
              " 'character_id': 292,\n",
              " 'name': 'Vero a',\n",
              " 'level': 0,\n",
              " 'exp': 0,\n",
              " 'hp': 10,\n",
              " 'strength': 1,\n",
              " 'intelligence': 1,\n",
              " 'dexterity': 1,\n",
              " 'wisdom': 1,\n",
              " 'classes': ['mage', 'necromancer'],\n",
              " 'has_pet': 1,\n",
              " 'items': [],\n",
              " 'mage': True,\n",
              " 'mana': 100,\n",
              " 'necromancer': True,\n",
              " 'talisman_charged': 1}"
            ]
          },
          "metadata": {
            "tags": []
          },
          "execution_count": 12
        }
      ]
    },
    {
      "cell_type": "code",
      "metadata": {
        "id": "-Laxt-g3txF-",
        "colab_type": "code",
        "outputId": "3f7dfb28-a551-413b-df38-1f07731b9b6a",
        "colab": {}
      },
      "source": [
        "# Add items\n",
        "operations = []\n",
        "from math import isnan\n",
        "for rec in sql_df('''\n",
        "        SELECT character_id, ai.item_id, name, value, weight, power, weapon\n",
        "        FROM charactercreator_character_inventory AS ci \n",
        "        JOIN armory_item AS ai ON ci.item_id=ai.item_id\n",
        "        LEFT JOIN (SELECT *, True as weapon FROM armory_weapon) \n",
        "        AS aw on aw.item_ptr_id = ai.item_id\n",
        "        ORDER BY ai.item_id\n",
        "    ''').to_dict(orient='records'):\n",
        "    character_id = rec.pop('character_id')\n",
        "    keys = list(rec.keys())\n",
        "    # Remove nan's as fields\n",
        "    # joining the weapons introduced a lot of nan's to remove\n",
        "    for key in keys:\n",
        "        v = rec[key]     \n",
        "        if type(v) == float and isnan(v):\n",
        "            rec.pop(key)\n",
        "    if rec.get('weapon') == 1:\n",
        "        rec['weapon'] = True\n",
        "    query = {'character_id': character_id}\n",
        "    operations.append(UpdateOne(query, {'$addToSet': {'items': rec}}, upsert=True))\n",
        "char_record.bulk_write(operations)\n"
      ],
      "execution_count": 0,
      "outputs": [
        {
          "output_type": "execute_result",
          "data": {
            "text/plain": [
              "<pymongo.results.BulkWriteResult at 0x7fb542063c80>"
            ]
          },
          "metadata": {
            "tags": []
          },
          "execution_count": 13
        }
      ]
    },
    {
      "cell_type": "code",
      "metadata": {
        "id": "iGaxt8bXtxGB",
        "colab_type": "code",
        "outputId": "619d74c4-607b-4651-81a5-e72b8adb61a2",
        "colab": {}
      },
      "source": [
        "# Show items of character 1\n",
        "sql_df('''\n",
        "    SELECT character_id, ai.item_id, name, value, weight, power, weapon\n",
        "    FROM charactercreator_character_inventory AS ci \n",
        "    JOIN armory_item AS ai ON ci.item_id=ai.item_id\n",
        "    LEFT JOIN (SELECT *, True as weapon FROM armory_weapon) \n",
        "    AS aw on aw.item_ptr_id = ai.item_id\n",
        "    WHERE ci.character_id=1\n",
        "    ORDER BY ai.item_id\n",
        "    ''').dropna(1)"
      ],
      "execution_count": 0,
      "outputs": [
        {
          "output_type": "execute_result",
          "data": {
            "text/html": [
              "<div>\n",
              "<style scoped>\n",
              "    .dataframe tbody tr th:only-of-type {\n",
              "        vertical-align: middle;\n",
              "    }\n",
              "\n",
              "    .dataframe tbody tr th {\n",
              "        vertical-align: top;\n",
              "    }\n",
              "\n",
              "    .dataframe thead th {\n",
              "        text-align: right;\n",
              "    }\n",
              "</style>\n",
              "<table border=\"1\" class=\"dataframe\">\n",
              "  <thead>\n",
              "    <tr style=\"text-align: right;\">\n",
              "      <th></th>\n",
              "      <th>character_id</th>\n",
              "      <th>item_id</th>\n",
              "      <th>name</th>\n",
              "      <th>value</th>\n",
              "      <th>weight</th>\n",
              "    </tr>\n",
              "  </thead>\n",
              "  <tbody>\n",
              "    <tr>\n",
              "      <th>0</th>\n",
              "      <td>1</td>\n",
              "      <td>20</td>\n",
              "      <td>Dolores rem v</td>\n",
              "      <td>0</td>\n",
              "      <td>0</td>\n",
              "    </tr>\n",
              "    <tr>\n",
              "      <th>1</th>\n",
              "      <td>1</td>\n",
              "      <td>58</td>\n",
              "      <td>Quos re</td>\n",
              "      <td>0</td>\n",
              "      <td>0</td>\n",
              "    </tr>\n",
              "    <tr>\n",
              "      <th>2</th>\n",
              "      <td>1</td>\n",
              "      <td>85</td>\n",
              "      <td>Alias laboriosam sapiente e</td>\n",
              "      <td>0</td>\n",
              "      <td>0</td>\n",
              "    </tr>\n",
              "  </tbody>\n",
              "</table>\n",
              "</div>"
            ],
            "text/plain": [
              "   character_id  item_id                         name  value  weight\n",
              "0             1       20                Dolores rem v      0       0\n",
              "1             1       58                      Quos re      0       0\n",
              "2             1       85  Alias laboriosam sapiente e      0       0"
            ]
          },
          "metadata": {
            "tags": []
          },
          "execution_count": 14
        }
      ]
    },
    {
      "cell_type": "code",
      "metadata": {
        "id": "Vw0Npp-ftxGD",
        "colab_type": "code",
        "outputId": "062338ab-dc50-4a63-ffef-f777c1a9f2b5",
        "colab": {}
      },
      "source": [
        "char_record.find_one({'character_id': 1})"
      ],
      "execution_count": 0,
      "outputs": [
        {
          "output_type": "execute_result",
          "data": {
            "text/plain": [
              "{'_id': ObjectId('5dc3bd315d4910a3230f05a5'),\n",
              " 'character_id': 1,\n",
              " 'name': 'Aliquid iste optio reiciendi',\n",
              " 'level': 0,\n",
              " 'exp': 0,\n",
              " 'hp': 10,\n",
              " 'strength': 1,\n",
              " 'intelligence': 1,\n",
              " 'dexterity': 1,\n",
              " 'wisdom': 1,\n",
              " 'classes': ['fighter'],\n",
              " 'fighter': True,\n",
              " 'items': [{'item_id': 20, 'name': 'Dolores rem v', 'value': 0, 'weight': 0},\n",
              "  {'item_id': 58, 'name': 'Quos re', 'value': 0, 'weight': 0},\n",
              "  {'item_id': 85,\n",
              "   'name': 'Alias laboriosam sapiente e',\n",
              "   'value': 0,\n",
              "   'weight': 0}],\n",
              " 'rage': 100,\n",
              " 'using_shield': 0}"
            ]
          },
          "metadata": {
            "tags": []
          },
          "execution_count": 15
        }
      ]
    },
    {
      "cell_type": "code",
      "metadata": {
        "id": "w9KMV--DtxGF",
        "colab_type": "code",
        "outputId": "c752ac35-457c-4242-e196-7a146cf949b5",
        "colab": {}
      },
      "source": [
        "# Show items of character 5 (someone with weapon)\n",
        "sql_df('''\n",
        "    SELECT character_id, ai.item_id, name, value, weight, power, weapon\n",
        "    FROM charactercreator_character_inventory AS ci \n",
        "    JOIN armory_item AS ai ON ci.item_id=ai.item_id\n",
        "    LEFT JOIN (SELECT *, True as weapon FROM armory_weapon) \n",
        "    AS aw on aw.item_ptr_id = ai.item_id\n",
        "    WHERE character_id=5\n",
        "    ORDER BY ai.item_id\n",
        "    ''')\n"
      ],
      "execution_count": 0,
      "outputs": [
        {
          "output_type": "execute_result",
          "data": {
            "text/html": [
              "<div>\n",
              "<style scoped>\n",
              "    .dataframe tbody tr th:only-of-type {\n",
              "        vertical-align: middle;\n",
              "    }\n",
              "\n",
              "    .dataframe tbody tr th {\n",
              "        vertical-align: top;\n",
              "    }\n",
              "\n",
              "    .dataframe thead th {\n",
              "        text-align: right;\n",
              "    }\n",
              "</style>\n",
              "<table border=\"1\" class=\"dataframe\">\n",
              "  <thead>\n",
              "    <tr style=\"text-align: right;\">\n",
              "      <th></th>\n",
              "      <th>character_id</th>\n",
              "      <th>item_id</th>\n",
              "      <th>name</th>\n",
              "      <th>value</th>\n",
              "      <th>weight</th>\n",
              "      <th>power</th>\n",
              "      <th>weapon</th>\n",
              "    </tr>\n",
              "  </thead>\n",
              "  <tbody>\n",
              "    <tr>\n",
              "      <th>0</th>\n",
              "      <td>5</td>\n",
              "      <td>7</td>\n",
              "      <td>Omnis</td>\n",
              "      <td>0</td>\n",
              "      <td>0</td>\n",
              "      <td>NaN</td>\n",
              "      <td>NaN</td>\n",
              "    </tr>\n",
              "    <tr>\n",
              "      <th>1</th>\n",
              "      <td>5</td>\n",
              "      <td>96</td>\n",
              "      <td>Commodi deserunt in illo</td>\n",
              "      <td>0</td>\n",
              "      <td>0</td>\n",
              "      <td>NaN</td>\n",
              "      <td>NaN</td>\n",
              "    </tr>\n",
              "    <tr>\n",
              "      <th>2</th>\n",
              "      <td>5</td>\n",
              "      <td>140</td>\n",
              "      <td>Quos nihil quibusdam</td>\n",
              "      <td>0</td>\n",
              "      <td>0</td>\n",
              "      <td>0.0</td>\n",
              "      <td>1.0</td>\n",
              "    </tr>\n",
              "    <tr>\n",
              "      <th>3</th>\n",
              "      <td>5</td>\n",
              "      <td>145</td>\n",
              "      <td>Corporis fug</td>\n",
              "      <td>0</td>\n",
              "      <td>0</td>\n",
              "      <td>0.0</td>\n",
              "      <td>1.0</td>\n",
              "    </tr>\n",
              "  </tbody>\n",
              "</table>\n",
              "</div>"
            ],
            "text/plain": [
              "   character_id  item_id                      name  value  weight  power  \\\n",
              "0             5        7                     Omnis      0       0    NaN   \n",
              "1             5       96  Commodi deserunt in illo      0       0    NaN   \n",
              "2             5      140      Quos nihil quibusdam      0       0    0.0   \n",
              "3             5      145              Corporis fug      0       0    0.0   \n",
              "\n",
              "   weapon  \n",
              "0     NaN  \n",
              "1     NaN  \n",
              "2     1.0  \n",
              "3     1.0  "
            ]
          },
          "metadata": {
            "tags": []
          },
          "execution_count": 16
        }
      ]
    },
    {
      "cell_type": "code",
      "metadata": {
        "id": "0mu0xsbttxGH",
        "colab_type": "code",
        "outputId": "878fc41d-eb88-463b-ab0a-997a9f61ba1b",
        "colab": {}
      },
      "source": [
        "char_record.find_one({'character_id': 5})"
      ],
      "execution_count": 0,
      "outputs": [
        {
          "output_type": "execute_result",
          "data": {
            "text/plain": [
              "{'_id': ObjectId('5dc3bd315d4910a3230f05a9'),\n",
              " 'character_id': 5,\n",
              " 'name': 'At id recusandae expl',\n",
              " 'level': 0,\n",
              " 'exp': 0,\n",
              " 'hp': 10,\n",
              " 'strength': 1,\n",
              " 'intelligence': 1,\n",
              " 'dexterity': 1,\n",
              " 'wisdom': 1,\n",
              " 'classes': ['fighter'],\n",
              " 'fighter': True,\n",
              " 'items': [{'item_id': 7, 'name': 'Omnis', 'value': 0, 'weight': 0},\n",
              "  {'item_id': 96, 'name': 'Commodi deserunt in illo', 'value': 0, 'weight': 0},\n",
              "  {'item_id': 140,\n",
              "   'name': 'Quos nihil quibusdam',\n",
              "   'value': 0,\n",
              "   'weight': 0,\n",
              "   'power': 0.0,\n",
              "   'weapon': True},\n",
              "  {'item_id': 145,\n",
              "   'name': 'Corporis fug',\n",
              "   'value': 0,\n",
              "   'weight': 0,\n",
              "   'power': 0.0,\n",
              "   'weapon': True}],\n",
              " 'rage': 100,\n",
              " 'using_shield': 0}"
            ]
          },
          "metadata": {
            "tags": []
          },
          "execution_count": 17
        }
      ]
    },
    {
      "cell_type": "code",
      "metadata": {
        "id": "CGjMIG81txGI",
        "colab_type": "code",
        "outputId": "b6a79c96-23ef-4e91-b4e5-c881dd63225c",
        "colab": {}
      },
      "source": [
        "char_record.find_one({'character_id': 5})['items']"
      ],
      "execution_count": 0,
      "outputs": [
        {
          "output_type": "execute_result",
          "data": {
            "text/plain": [
              "[{'item_id': 7, 'name': 'Omnis', 'value': 0, 'weight': 0},\n",
              " {'item_id': 96, 'name': 'Commodi deserunt in illo', 'value': 0, 'weight': 0},\n",
              " {'item_id': 140,\n",
              "  'name': 'Quos nihil quibusdam',\n",
              "  'value': 0,\n",
              "  'weight': 0,\n",
              "  'power': 0.0,\n",
              "  'weapon': True},\n",
              " {'item_id': 145,\n",
              "  'name': 'Corporis fug',\n",
              "  'value': 0,\n",
              "  'weight': 0,\n",
              "  'power': 0.0,\n",
              "  'weapon': True}]"
            ]
          },
          "metadata": {
            "tags": []
          },
          "execution_count": 18
        }
      ]
    },
    {
      "cell_type": "markdown",
      "metadata": {
        "id": "OHjE3RJstxGK",
        "colab_type": "text"
      },
      "source": [
        "# Queries!"
      ]
    },
    {
      "cell_type": "markdown",
      "metadata": {
        "id": "Skjh2JvhtxGL",
        "colab_type": "text"
      },
      "source": [
        "## How many characters are there in total\n"
      ]
    },
    {
      "cell_type": "code",
      "metadata": {
        "id": "jVp3HH6otxGN",
        "colab_type": "code",
        "outputId": "3be0f67b-a086-4905-d8cb-990713bf74d4",
        "colab": {}
      },
      "source": [
        "char_record.count_documents({})\n"
      ],
      "execution_count": 0,
      "outputs": [
        {
          "output_type": "execute_result",
          "data": {
            "text/plain": [
              "302"
            ]
          },
          "metadata": {
            "tags": []
          },
          "execution_count": 19
        }
      ]
    },
    {
      "cell_type": "markdown",
      "metadata": {
        "id": "n0QXQ3ImtxHw",
        "colab_type": "text"
      },
      "source": [
        "## How many characters per class\n"
      ]
    },
    {
      "cell_type": "code",
      "metadata": {
        "id": "lF5cunBftxH4",
        "colab_type": "code",
        "outputId": "76c72e2c-da17-45da-ccad-b342c3370bdf",
        "colab": {}
      },
      "source": [
        "# Multiple queries\n",
        "for cls in base_classes:\n",
        "    cls_name = cls.split('_')[-1]\n",
        "    cnt = char_record.count_documents({cls_name: True})\n",
        "    print(f'{cls_name} count: {cnt}')"
      ],
      "execution_count": 0,
      "outputs": [
        {
          "output_type": "stream",
          "text": [
            "cleric count: 75\n",
            "fighter count: 68\n",
            "mage count: 108\n",
            "thief count: 51\n",
            "necromancer count: 11\n"
          ],
          "name": "stdout"
        }
      ]
    },
    {
      "cell_type": "code",
      "metadata": {
        "id": "rK2blB9otxH-",
        "colab_type": "code",
        "outputId": "456e034b-79a1-442a-c937-d5dc62011ebb",
        "colab": {}
      },
      "source": [
        "# Single query\n",
        "# You may also write a query builder to make the code \n",
        "# shorter/less repetitive\n",
        "pipeline = [\n",
        "    {'$project': {'character_id': 1, 'cleric':\n",
        "                    {'$cond': [ { '$eq': [\"$cleric\", True] }, 1, 0]},\n",
        "                    'fighter': \n",
        "                    {'$cond': [ { '$eq': [\"$fighter\", True] }, 1, 0]},\n",
        "                    'mage': \n",
        "                    {'$cond': [ { '$eq': [\"$mage\", True] }, 1, 0]},\n",
        "                    'thief': \n",
        "                    {'$cond': [ { '$eq': [\"$thief\", True] }, 1, 0]},\n",
        "                    'necromancer': \n",
        "                    {'$cond': [ { '$eq': [\"$necromancer\", True] }, 1, 0]}}},\n",
        "        \n",
        "    {'$group': {'_id': '', 'cleric': {'$sum':'$cleric'},\n",
        "                'fighter': {'$sum':'$fighter'},\n",
        "                'mage': {'$sum':'$mage'},\n",
        "                'thief': {'$sum':'$thief'},\n",
        "                'necromancer': {'$sum':'$necromancer'} }},\n",
        "    {'$sort': {'_id':1}},\n",
        "]\n",
        "list(char_record.aggregate(pipeline))"
      ],
      "execution_count": 0,
      "outputs": [
        {
          "output_type": "execute_result",
          "data": {
            "text/plain": [
              "[{'_id': '',\n",
              "  'cleric': 75,\n",
              "  'fighter': 68,\n",
              "  'mage': 108,\n",
              "  'thief': 51,\n",
              "  'necromancer': 11}]"
            ]
          },
          "metadata": {
            "tags": []
          },
          "execution_count": 21
        }
      ]
    },
    {
      "cell_type": "markdown",
      "metadata": {
        "id": "r0PPDTpftxID",
        "colab_type": "text"
      },
      "source": [
        "## How many of the Items are weapons? How many are not?\n"
      ]
    },
    {
      "cell_type": "code",
      "metadata": {
        "id": "3elfOElXtxIE",
        "colab_type": "code",
        "outputId": "6778cec0-5a7d-4e4c-e41f-ae63b6331ce6",
        "colab": {}
      },
      "source": [
        "pipeline = [\n",
        "    {'$unwind': '$items'},\n",
        "    {'$match': {'items.weapon': True}},\n",
        "    {'$count': \"Total weapons\"}\n",
        "]\n",
        "list(char_record.aggregate(pipeline))"
      ],
      "execution_count": 0,
      "outputs": [
        {
          "output_type": "execute_result",
          "data": {
            "text/plain": [
              "[{'Total weapons': 203}]"
            ]
          },
          "metadata": {
            "tags": []
          },
          "execution_count": 22
        }
      ]
    },
    {
      "cell_type": "code",
      "metadata": {
        "id": "r5OXG6aatxIH",
        "colab_type": "code",
        "outputId": "f74a704e-89c0-4b18-cea7-d45fc564a257",
        "colab": {}
      },
      "source": [
        "pipeline = [\n",
        "    {'$unwind': '$items'},\n",
        "    {'$match': {'items.weapon': {'$ne':True}}},\n",
        "    {'$count': \"Total Non-weapons\"}\n",
        "]\n",
        "list(char_record.aggregate(pipeline))"
      ],
      "execution_count": 0,
      "outputs": [
        {
          "output_type": "execute_result",
          "data": {
            "text/plain": [
              "[{'Total Non-weapons': 695}]"
            ]
          },
          "metadata": {
            "tags": []
          },
          "execution_count": 23
        }
      ]
    },
    {
      "cell_type": "markdown",
      "metadata": {
        "id": "lcRCZg1DtxIL",
        "colab_type": "text"
      },
      "source": [
        "## How many Items does each character have? (Return first 20 rows)\n"
      ]
    },
    {
      "cell_type": "code",
      "metadata": {
        "id": "3Bj_puKmtxIM",
        "colab_type": "code",
        "outputId": "3684e328-6860-4f7e-ff00-cccb1af791ec",
        "colab": {}
      },
      "source": [
        "pipeline = [\n",
        "    {'$project': {'_id': '$character_id', 'name': '$name', 'item_count': {'$size': '$items'}}},\n",
        "    { '$limit': 20 }\n",
        "]\n",
        "list(char_record.aggregate(pipeline))"
      ],
      "execution_count": 0,
      "outputs": [
        {
          "output_type": "execute_result",
          "data": {
            "text/plain": [
              "[{'_id': 1, 'name': 'Aliquid iste optio reiciendi', 'item_count': 3},\n",
              " {'_id': 2, 'name': 'Optio dolorem ex a', 'item_count': 3},\n",
              " {'_id': 3, 'name': 'Minus c', 'item_count': 2},\n",
              " {'_id': 4, 'name': 'Sit ut repr', 'item_count': 4},\n",
              " {'_id': 5, 'name': 'At id recusandae expl', 'item_count': 4},\n",
              " {'_id': 6, 'name': 'Non nobis et of', 'item_count': 1},\n",
              " {'_id': 7, 'name': 'Perferendis', 'item_count': 5},\n",
              " {'_id': 8, 'name': 'Accusantium amet quidem eve', 'item_count': 3},\n",
              " {'_id': 9, 'name': 'Sed nostrum inventore error m', 'item_count': 4},\n",
              " {'_id': 10, 'name': 'Harum repellendus omnis od', 'item_count': 4},\n",
              " {'_id': 11, 'name': 'Itaque ut commodi,', 'item_count': 3},\n",
              " {'_id': 12, 'name': 'Molestiae quis', 'item_count': 3},\n",
              " {'_id': 13, 'name': 'Ali', 'item_count': 4},\n",
              " {'_id': 14, 'name': 'Tempora quod optio possimus il', 'item_count': 4},\n",
              " {'_id': 15, 'name': 'Sed itaque beatae pari', 'item_count': 4},\n",
              " {'_id': 16, 'name': 'Quam dolor', 'item_count': 1},\n",
              " {'_id': 17, 'name': 'Molestias expedita', 'item_count': 5},\n",
              " {'_id': 18, 'name': 'Lauda', 'item_count': 5},\n",
              " {'_id': 19, 'name': 'Incidunt sint perferen', 'item_count': 3},\n",
              " {'_id': 20, 'name': 'Laboriosa', 'item_count': 1}]"
            ]
          },
          "metadata": {
            "tags": []
          },
          "execution_count": 24
        }
      ]
    },
    {
      "cell_type": "markdown",
      "metadata": {
        "id": "oA3UahUstxIO",
        "colab_type": "text"
      },
      "source": [
        "## How many Weapons does each character have? (Return first 20 rows)¶\n"
      ]
    },
    {
      "cell_type": "code",
      "metadata": {
        "id": "VnLgXZ4wtxIP",
        "colab_type": "code",
        "outputId": "26d1295b-3601-4290-daeb-8c8fda603487",
        "colab": {}
      },
      "source": [
        "pipeline = [\n",
        "    {'$unwind': '$items'},\n",
        "    {'$project': {'character_id': 1, 'name': '$name', 'weapons': \n",
        "                  {'$cond': [ { '$eq': [\"$items.weapon\", True] }, 1, 0]}}},\n",
        "    {'$group': {'_id': '$character_id', 'name': {'$first': '$name'},  \n",
        "                'weapons_count': {'$sum':'$weapons'} }},\n",
        "    {'$sort': {'_id':1}},\n",
        "    { '$limit': 20 }\n",
        "]\n",
        "list(char_record.aggregate(pipeline))"
      ],
      "execution_count": 0,
      "outputs": [
        {
          "output_type": "execute_result",
          "data": {
            "text/plain": [
              "[{'_id': 1, 'name': 'Aliquid iste optio reiciendi', 'weapons_count': 0},\n",
              " {'_id': 2, 'name': 'Optio dolorem ex a', 'weapons_count': 0},\n",
              " {'_id': 3, 'name': 'Minus c', 'weapons_count': 0},\n",
              " {'_id': 4, 'name': 'Sit ut repr', 'weapons_count': 0},\n",
              " {'_id': 5, 'name': 'At id recusandae expl', 'weapons_count': 2},\n",
              " {'_id': 6, 'name': 'Non nobis et of', 'weapons_count': 0},\n",
              " {'_id': 7, 'name': 'Perferendis', 'weapons_count': 1},\n",
              " {'_id': 8, 'name': 'Accusantium amet quidem eve', 'weapons_count': 0},\n",
              " {'_id': 9, 'name': 'Sed nostrum inventore error m', 'weapons_count': 0},\n",
              " {'_id': 10, 'name': 'Harum repellendus omnis od', 'weapons_count': 0},\n",
              " {'_id': 11, 'name': 'Itaque ut commodi,', 'weapons_count': 1},\n",
              " {'_id': 12, 'name': 'Molestiae quis', 'weapons_count': 0},\n",
              " {'_id': 13, 'name': 'Ali', 'weapons_count': 0},\n",
              " {'_id': 14, 'name': 'Tempora quod optio possimus il', 'weapons_count': 0},\n",
              " {'_id': 15, 'name': 'Sed itaque beatae pari', 'weapons_count': 0},\n",
              " {'_id': 16, 'name': 'Quam dolor', 'weapons_count': 0},\n",
              " {'_id': 17, 'name': 'Molestias expedita', 'weapons_count': 0},\n",
              " {'_id': 18, 'name': 'Lauda', 'weapons_count': 0},\n",
              " {'_id': 19, 'name': 'Incidunt sint perferen', 'weapons_count': 0},\n",
              " {'_id': 20, 'name': 'Laboriosa', 'weapons_count': 1}]"
            ]
          },
          "metadata": {
            "tags": []
          },
          "execution_count": 16
        }
      ]
    },
    {
      "cell_type": "markdown",
      "metadata": {
        "id": "Dr7kZEiEtxIR",
        "colab_type": "text"
      },
      "source": [
        "## On average, how many items does each Character have?"
      ]
    },
    {
      "cell_type": "code",
      "metadata": {
        "id": "fM7jeeB1txIS",
        "colab_type": "code",
        "outputId": "76c176f6-74fa-4ce9-c20d-9e36e05c4be5",
        "colab": {}
      },
      "source": [
        "pipeline = [\n",
        "    {'$unwind': '$items'},\n",
        "    {'$group': {'_id': '$character_id', 'count':{'$sum':1}}},\n",
        "    {'$group': {'_id':'', 'Average Items':{'$avg':'$count'}}},\n",
        "]\n",
        "list(char_record.aggregate(pipeline))"
      ],
      "execution_count": 0,
      "outputs": [
        {
          "output_type": "execute_result",
          "data": {
            "text/plain": [
              "[{'_id': '', 'Average Items': 2.9735099337748343}]"
            ]
          },
          "metadata": {
            "tags": []
          },
          "execution_count": 26
        }
      ]
    },
    {
      "cell_type": "markdown",
      "metadata": {
        "id": "w07pURT-txIU",
        "colab_type": "text"
      },
      "source": [
        "## On average, how many weapons does each Character have?"
      ]
    },
    {
      "cell_type": "code",
      "metadata": {
        "id": "VeQ4JeF6txIU",
        "colab_type": "code",
        "outputId": "042bfde3-c7ae-4985-b080-9e7bcf7a8c8b",
        "colab": {}
      },
      "source": [
        "pipeline = [\n",
        "    {'$unwind': '$items'},\n",
        "    {'$project': {'character_id': 1, 'weapons': \n",
        "                  {'$cond': [ { '$eq': [\"$items.weapon\", True] }, 1, 0]}}},\n",
        "    {'$group': {'_id': '$character_id', 'weapons': {'$sum':'$weapons'} }},\n",
        "    {'$group': {'_id':'', 'Average weapons':{'$avg':'$weapons'}}},\n",
        "    \n",
        "]\n",
        "list(char_record.aggregate(pipeline))"
      ],
      "execution_count": 0,
      "outputs": [
        {
          "output_type": "execute_result",
          "data": {
            "text/plain": [
              "[{'_id': '', 'Average weapons': 0.6721854304635762}]"
            ]
          },
          "metadata": {
            "tags": []
          },
          "execution_count": 27
        }
      ]
    }
  ]
}