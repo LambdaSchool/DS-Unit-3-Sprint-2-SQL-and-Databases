{
 "cells": [
  {
   "cell_type": "code",
   "execution_count": 1,
   "metadata": {},
   "outputs": [
    {
     "name": "stdout",
     "output_type": "stream",
     "text": [
      "Opened database successfully\n"
     ]
    }
   ],
   "source": [
    "import sqlite3\n",
    "conn = sqlite3.connect('northwind_small.sqlite3')\n",
    "cursor = conn.cursor()\n",
    "print(\"Opened database successfully\")"
   ]
  },
  {
   "cell_type": "code",
   "execution_count": 8,
   "metadata": {},
   "outputs": [
    {
     "name": "stdout",
     "output_type": "stream",
     "text": [
      "[('Côte de Blaye', 263.5), ('Thüringer Rostbratwurst', 123.79), ('Mishi Kobe Niku', 97), (\"Sir Rodney's Marmalade\", 81), ('Carnarvon Tigers', 62.5), ('Raclette Courdavault', 55), ('Manjimup Dried Apples', 53), ('Tarte au sucre', 49.3), ('Ipoh Coffee', 46), ('Rössle Sauerkraut', 45.6)]\n"
     ]
    }
   ],
   "source": [
    "#ten most expensive products and their prices\n",
    "cursor.execute(''' SELECT ProductName, UnitPrice\n",
    "FROM Product\n",
    "ORDER BY UnitPrice DESC \n",
    "LIMIT 10;''')\n",
    "print(cursor.fetchall())"
   ]
  },
  {
   "cell_type": "code",
   "execution_count": 16,
   "metadata": {},
   "outputs": [
    {
     "name": "stdout",
     "output_type": "stream",
     "text": [
      "[(37.0,)]\n"
     ]
    }
   ],
   "source": [
    "#avg hiring age\n",
    "cursor.execute('''SELECT ROUND(AVG(HireDate - BirthDate))\n",
    "FROM Employee;''')\n",
    "print(cursor.fetchall())"
   ]
  },
  {
   "cell_type": "code",
   "execution_count": 10,
   "metadata": {},
   "outputs": [
    {
     "name": "stdout",
     "output_type": "stream",
     "text": [
      "[('Kirkland', 29.0), ('London', 32.5), ('Redmond', 56.0), ('Seattle', 40.0), ('Tacoma', 40.0)]\n"
     ]
    }
   ],
   "source": [
    "#avg hiring age by city\n",
    "cursor.execute('''SELECT City, AVG(HireDate - BirthDate)\n",
    "FROM Employee\n",
    "GROUP BY City;''')\n",
    "print(cursor.fetchall())"
   ]
  },
  {
   "cell_type": "code",
   "execution_count": 18,
   "metadata": {
    "scrolled": true
   },
   "outputs": [
    {
     "name": "stdout",
     "output_type": "stream",
     "text": [
      "[('Côte de Blaye', 263.5, 'Aux joyeux ecclésiastiques'), ('Thüringer Rostbratwurst', 123.79, 'Plutzer Lebensmittelgroßmärkte AG'), ('Mishi Kobe Niku', 97, 'Tokyo Traders'), (\"Sir Rodney's Marmalade\", 81, 'Specialty Biscuits, Ltd.'), ('Carnarvon Tigers', 62.5, 'Pavlova, Ltd.'), ('Raclette Courdavault', 55, 'Gai pâturage'), ('Manjimup Dried Apples', 53, \"G'day, Mate\"), ('Tarte au sucre', 49.3, \"Forêts d'érables\"), ('Ipoh Coffee', 46, 'Leka Trading'), ('Rössle Sauerkraut', 45.6, 'Plutzer Lebensmittelgroßmärkte AG')]\n"
     ]
    }
   ],
   "source": [
    "#ten most expensive items and suppliers\n",
    "cursor.execute('''\n",
    "SELECT ProductName, UnitPrice, CompanyName\n",
    "FROM Product\n",
    "JOIN Supplier\n",
    "ON product.supplierid = supplier.id\n",
    "ORDER BY UnitPrice DESC\n",
    "LIMIT 10;''')\n",
    "print(cursor.fetchall())"
   ]
  },
  {
   "cell_type": "code",
   "execution_count": 19,
   "metadata": {},
   "outputs": [
    {
     "name": "stdout",
     "output_type": "stream",
     "text": [
      "[('Confections', 13)]\n"
     ]
    }
   ],
   "source": [
    "#largest number of unique products in category\n",
    "cursor.execute('''SELECT CategoryName, COUNT(ProductName)\n",
    "FROM Product\n",
    "JOIN Category\n",
    "ON Product.CategoryID=Category.ID \n",
    "GROUP BY CategoryID \n",
    "ORDER BY COUNT(CategoryID) DESC \n",
    "LIMIT 1;''')\n",
    "print(cursor.fetchall())"
   ]
  },
  {
   "cell_type": "code",
   "execution_count": 20,
   "metadata": {},
   "outputs": [
    {
     "name": "stdout",
     "output_type": "stream",
     "text": [
      "[('Robert', 'King', 10)]\n"
     ]
    }
   ],
   "source": [
    "#man with most territories\n",
    "cursor.execute('''SELECT FirstName, LastName, COUNT(TerritoryID)\n",
    "FROM Employee \n",
    "JOIN EmployeeTerritory \n",
    "ON Employee.ID=EmployeeTerritory.EmployeeID \n",
    "GROUP BY Employee.ID ORDER BY COUNT(TerritoryID) DESC\n",
    "LIMIT 1;''')\n",
    "print(cursor.fetchall())"
   ]
  },
  {
   "cell_type": "code",
   "execution_count": null,
   "metadata": {},
   "outputs": [],
   "source": []
  }
 ],
 "metadata": {
  "kernelspec": {
   "display_name": "Python 3",
   "language": "python",
   "name": "python3"
  },
  "language_info": {
   "codemirror_mode": {
    "name": "ipython",
    "version": 3
   },
   "file_extension": ".py",
   "mimetype": "text/x-python",
   "name": "python",
   "nbconvert_exporter": "python",
   "pygments_lexer": "ipython3",
   "version": "3.7.3"
  }
 },
 "nbformat": 4,
 "nbformat_minor": 2
}
