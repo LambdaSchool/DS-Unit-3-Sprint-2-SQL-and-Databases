{
 "cells": [
  {
   "cell_type": "code",
   "execution_count": 8,
   "metadata": {},
   "outputs": [
    {
     "name": "stdout",
     "output_type": "stream",
     "text": [
      "Opened database successfully\n"
     ]
    }
   ],
   "source": [
    "import sqlite3\n",
    "conn = sqlite3.connect('demo_data.sqlite3')\n",
    "cursor = conn.cursor()\n",
    "print(\"Opened database successfully\")"
   ]
  },
  {
   "cell_type": "code",
   "execution_count": 3,
   "metadata": {},
   "outputs": [],
   "source": [
    "cursor.execute('''CREATE TABLE demo\n",
    "         (S             TEXT NOT NULL,\n",
    "          x           INT    NOT NULL,\n",
    "          y            INT     NOT NULL);''')\n"
   ]
  },
  {
   "cell_type": "code",
   "execution_count": 5,
   "metadata": {},
   "outputs": [],
   "source": [
    "\n",
    "\n",
    "cursor.execute(\"INSERT INTO demo (s,x,y) \\\n",
    "      VALUES ('g', 3, 9)\");\n",
    "cursor.execute(\"INSERT INTO demo (s,x,y) \\\n",
    "      VALUES ('v', 5, 7)\");\n",
    "cursor.execute(\"INSERT INTO demo (s,x,y) \\\n",
    "      VALUES ('f', 8, 7)\");\n",
    "conn.commit()\n"
   ]
  },
  {
   "cell_type": "code",
   "execution_count": 9,
   "metadata": {},
   "outputs": [
    {
     "name": "stdout",
     "output_type": "stream",
     "text": [
      "[(3,)]\n"
     ]
    }
   ],
   "source": [
    "#number of rows\n",
    "cursor.execute('''\n",
    "SELECT COUNT(*) \n",
    "FROM demo;''')\n",
    "print(cursor.fetchall())"
   ]
  },
  {
   "cell_type": "code",
   "execution_count": 11,
   "metadata": {},
   "outputs": [
    {
     "name": "stdout",
     "output_type": "stream",
     "text": [
      "[(2,)]\n"
     ]
    }
   ],
   "source": [
    "#number of rows with both x and y >= 5\n",
    "cursor.execute('''\n",
    "SELECT COUNT(*) \n",
    "FROM demo\n",
    "WHERE x >= 5 AND y >=5;''')\n",
    "print(cursor.fetchall())"
   ]
  },
  {
   "cell_type": "code",
   "execution_count": 12,
   "metadata": {},
   "outputs": [
    {
     "name": "stdout",
     "output_type": "stream",
     "text": [
      "[(2,)]\n"
     ]
    }
   ],
   "source": [
    "#number of unique y\n",
    "cursor.execute('''SELECT COUNT(DISTINCT y) \n",
    "FROM demo;''')\n",
    "print(cursor.fetchall())"
   ]
  }
 ],
 "metadata": {
  "kernelspec": {
   "display_name": "Python 3",
   "language": "python",
   "name": "python3"
  },
  "language_info": {
   "codemirror_mode": {
    "name": "ipython",
    "version": 3
   },
   "file_extension": ".py",
   "mimetype": "text/x-python",
   "name": "python",
   "nbconvert_exporter": "python",
   "pygments_lexer": "ipython3",
   "version": "3.7.3"
  }
 },
 "nbformat": 4,
 "nbformat_minor": 2
}
