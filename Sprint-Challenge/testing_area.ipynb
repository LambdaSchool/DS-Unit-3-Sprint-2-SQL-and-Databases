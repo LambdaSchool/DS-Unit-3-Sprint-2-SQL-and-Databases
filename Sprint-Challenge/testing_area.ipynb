{
 "cells": [
  {
   "cell_type": "markdown",
   "metadata": {},
   "source": [
    "## Part 1"
   ]
  },
  {
   "cell_type": "code",
   "execution_count": 1,
   "metadata": {},
   "outputs": [],
   "source": [
    "import sqlite3"
   ]
  },
  {
   "cell_type": "code",
   "execution_count": 2,
   "metadata": {},
   "outputs": [],
   "source": [
    "conn = sqlite3.connect('demo_data.sqlite3')\n",
    "curs = conn.cursor()"
   ]
  },
  {
   "cell_type": "code",
   "execution_count": 19,
   "metadata": {},
   "outputs": [
    {
     "ename": "OperationalError",
     "evalue": "table demo already exists",
     "output_type": "error",
     "traceback": [
      "\u001b[0;31m---------------------------------------------------------------------------\u001b[0m",
      "\u001b[0;31mOperationalError\u001b[0m                          Traceback (most recent call last)",
      "\u001b[0;32m<ipython-input-19-fd13028f1707>\u001b[0m in \u001b[0;36m<module>\u001b[0;34m\u001b[0m\n\u001b[1;32m      1\u001b[0m \u001b[0mquery\u001b[0m \u001b[0;34m=\u001b[0m \u001b[0;34m'CREATE TABLE demo (s varchar(1), x int, y int);'\u001b[0m\u001b[0;34m\u001b[0m\u001b[0;34m\u001b[0m\u001b[0m\n\u001b[0;32m----> 2\u001b[0;31m \u001b[0mcurs\u001b[0m\u001b[0;34m.\u001b[0m\u001b[0mexecute\u001b[0m\u001b[0;34m(\u001b[0m\u001b[0mquery\u001b[0m\u001b[0;34m)\u001b[0m\u001b[0;34m\u001b[0m\u001b[0;34m\u001b[0m\u001b[0m\n\u001b[0m",
      "\u001b[0;31mOperationalError\u001b[0m: table demo already exists"
     ]
    }
   ],
   "source": [
    "query = 'CREATE TABLE demo (s varchar(1), x int, y int);'\n",
    "curs.execute(query)"
   ]
  },
  {
   "cell_type": "code",
   "execution_count": 4,
   "metadata": {},
   "outputs": [
    {
     "data": {
      "text/plain": [
       "<sqlite3.Cursor at 0x7f9595652d50>"
      ]
     },
     "execution_count": 4,
     "metadata": {},
     "output_type": "execute_result"
    }
   ],
   "source": [
    "insert_query = \"INSERT INTO demo VALUES ('g',3,9)\"\n",
    "curs.execute(insert_query)\n",
    "insert_query = \"INSERT INTO demo VALUES ('v',5,7)\"\n",
    "curs.execute(insert_query)\n",
    "insert_query = \"INSERT INTO demo VALUES ('f',8,7)\"\n",
    "curs.execute(insert_query)\n"
   ]
  },
  {
   "cell_type": "code",
   "execution_count": 6,
   "metadata": {},
   "outputs": [],
   "source": [
    "conn.commit()"
   ]
  },
  {
   "cell_type": "code",
   "execution_count": 8,
   "metadata": {},
   "outputs": [
    {
     "data": {
      "text/plain": [
       "[(3,)]"
      ]
     },
     "execution_count": 8,
     "metadata": {},
     "output_type": "execute_result"
    }
   ],
   "source": [
    "query = 'SELECT COUNT(*) FROM demo'\n",
    "curs.execute(query)\n",
    "curs.fetchall()\n"
   ]
  },
  {
   "cell_type": "code",
   "execution_count": 15,
   "metadata": {},
   "outputs": [
    {
     "data": {
      "text/plain": [
       "[(2,)]"
      ]
     },
     "execution_count": 15,
     "metadata": {},
     "output_type": "execute_result"
    }
   ],
   "source": [
    "query = '''SELECT COUNT(*) FROM demo\n",
    "           WHERE x>= 5 AND y>=5'''\n",
    "curs.execute(query).fetchall()\n"
   ]
  },
  {
   "cell_type": "code",
   "execution_count": 18,
   "metadata": {},
   "outputs": [
    {
     "data": {
      "text/plain": [
       "[(2,)]"
      ]
     },
     "execution_count": 18,
     "metadata": {},
     "output_type": "execute_result"
    }
   ],
   "source": [
    "query = '''SELECT COUNT(distinct y) FROM demo'''\n",
    "curs.execute(query).fetchall()"
   ]
  },
  {
   "cell_type": "code",
   "execution_count": null,
   "metadata": {},
   "outputs": [],
   "source": []
  },
  {
   "cell_type": "code",
   "execution_count": null,
   "metadata": {},
   "outputs": [],
   "source": []
  },
  {
   "cell_type": "markdown",
   "metadata": {},
   "source": [
    "## Part 2"
   ]
  },
  {
   "cell_type": "code",
   "execution_count": 20,
   "metadata": {},
   "outputs": [],
   "source": [
    "conn = sqlite3.connect('northwind_small.sqlite3')\n",
    "curs = conn.cursor()"
   ]
  },
  {
   "cell_type": "code",
   "execution_count": 27,
   "metadata": {},
   "outputs": [
    {
     "data": {
      "text/plain": [
       "[('Côte de Blaye', 263.5),\n",
       " ('Thüringer Rostbratwurst', 123.79),\n",
       " ('Mishi Kobe Niku', 97),\n",
       " (\"Sir Rodney's Marmalade\", 81),\n",
       " ('Carnarvon Tigers', 62.5),\n",
       " ('Raclette Courdavault', 55),\n",
       " ('Manjimup Dried Apples', 53),\n",
       " ('Tarte au sucre', 49.3),\n",
       " ('Ipoh Coffee', 46),\n",
       " ('Rössle Sauerkraut', 45.6)]"
      ]
     },
     "execution_count": 27,
     "metadata": {},
     "output_type": "execute_result"
    }
   ],
   "source": [
    "query = ''' SELECT ProductName, UnitPrice FROM Product\n",
    "            Order by UnitPrice DESC\n",
    "            Limit 10\n",
    "        '''\n",
    "curs.execute(query).fetchall()"
   ]
  },
  {
   "cell_type": "code",
   "execution_count": 97,
   "metadata": {},
   "outputs": [
    {
     "data": {
      "text/plain": [
       "[(37.22222222222222,)]"
      ]
     },
     "execution_count": 97,
     "metadata": {},
     "output_type": "execute_result"
    }
   ],
   "source": [
    "query = ''' SELECT AVG(HireDate-BirthDate) FROM Employee\n",
    "        '''\n",
    "curs.execute(query).fetchall()"
   ]
  },
  {
   "cell_type": "code",
   "execution_count": 98,
   "metadata": {},
   "outputs": [
    {
     "data": {
      "text/plain": [
       "[('Kirkland', 29.0),\n",
       " ('London', 32.5),\n",
       " ('Redmond', 56.0),\n",
       " ('Seattle', 40.0),\n",
       " ('Tacoma', 40.0)]"
      ]
     },
     "execution_count": 98,
     "metadata": {},
     "output_type": "execute_result"
    }
   ],
   "source": [
    "query = ''' SELECT CITY, AVG(HireDate-BirthDate) FROM Employee\n",
    "            GROUP BY CITY\n",
    "        '''\n",
    "curs.execute(query).fetchall()"
   ]
  },
  {
   "cell_type": "markdown",
   "metadata": {},
   "source": [
    "## Part 3"
   ]
  },
  {
   "cell_type": "code",
   "execution_count": 54,
   "metadata": {},
   "outputs": [
    {
     "data": {
      "text/plain": [
       "[(263.5, None),\n",
       " (123.79, \"Forêts d'érables\"),\n",
       " (97, 'PB Knäckebröd AB'),\n",
       " (81, 'Leka Trading'),\n",
       " (62.5, 'Aux joyeux ecclésiastiques'),\n",
       " (55, None),\n",
       " (53, None),\n",
       " (49.3, None),\n",
       " (46, None),\n",
       " (45.6, 'Gai pâturage')]"
      ]
     },
     "execution_count": 54,
     "metadata": {},
     "output_type": "execute_result"
    }
   ],
   "source": [
    "query = ''' SELECT UnitPrice,CompanyName \n",
    "            FROM Product as P\n",
    "            LEFT JOIN Supplier as S\n",
    "            ON P.ID = S.ID \n",
    "            ORDER BY UnitPrice DESC\n",
    "            LIMIT 10            \n",
    "        '''\n",
    "curs.execute(query).fetchall()"
   ]
  },
  {
   "cell_type": "code",
   "execution_count": 96,
   "metadata": {},
   "outputs": [
    {
     "data": {
      "text/plain": [
       "[(3, 13), (1, 12), (2, 12), (8, 12), (4, 10), (5, 7), (6, 6), (7, 5)]"
      ]
     },
     "execution_count": 96,
     "metadata": {},
     "output_type": "execute_result"
    }
   ],
   "source": [
    "query = ''' SELECT P.CategoryID, COUNT(distinct O.ProductID)\n",
    "            FROM OrderDetail as O\n",
    "            JOIN Product as P\n",
    "            ON P.ID = O.ProductID\n",
    "            GROUP BY P.CategoryID\n",
    "            ORDER BY COUNT(distinct O.ProductID) DESC\n",
    "        '''\n",
    "curs.execute(query).fetchall()"
   ]
  },
  {
   "cell_type": "code",
   "execution_count": 99,
   "metadata": {},
   "outputs": [
    {
     "data": {
      "text/plain": [
       "[(7, 'Robert', 'King', 10),\n",
       " (2, 'Andrew', 'Fuller', 7),\n",
       " (5, 'Steven', 'Buchanan', 7),\n",
       " (9, 'Anne', 'Dodsworth', 7),\n",
       " (6, 'Michael', 'Suyama', 5),\n",
       " (3, 'Janet', 'Leverling', 4),\n",
       " (8, 'Laura', 'Callahan', 4),\n",
       " (4, 'Margaret', 'Peacock', 3),\n",
       " (1, 'Nancy', 'Davolio', 2)]"
      ]
     },
     "execution_count": 99,
     "metadata": {},
     "output_type": "execute_result"
    }
   ],
   "source": [
    "query = ''' SELECT E.ID, E.FirstName, E.LastName, COUNT(ET.TerritoryID) \n",
    "            FROM Employee as E\n",
    "            JOIN EmployeeTerritory as ET\n",
    "            ON E.ID = ET.EmployeeID\n",
    "            GROUP BY E.ID\n",
    "            ORDER BY COUNT(ET.TerritoryID) DESC\n",
    "        '''\n",
    "curs.execute(query).fetchall()"
   ]
  },
  {
   "cell_type": "code",
   "execution_count": null,
   "metadata": {},
   "outputs": [],
   "source": []
  }
 ],
 "metadata": {
  "kernelspec": {
   "display_name": "Python 3",
   "language": "python",
   "name": "python3"
  },
  "language_info": {
   "codemirror_mode": {
    "name": "ipython",
    "version": 3
   },
   "file_extension": ".py",
   "mimetype": "text/x-python",
   "name": "python",
   "nbconvert_exporter": "python",
   "pygments_lexer": "ipython3",
   "version": "3.7.3"
  }
 },
 "nbformat": 4,
 "nbformat_minor": 2
}
