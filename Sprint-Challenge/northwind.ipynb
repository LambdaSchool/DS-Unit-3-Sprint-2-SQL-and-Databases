{
 "cells": [
  {
   "cell_type": "code",
   "execution_count": 1,
   "metadata": {},
   "outputs": [],
   "source": [
    "import northwind     # see northwind.py"
   ]
  },
  {
   "cell_type": "code",
   "execution_count": 2,
   "metadata": {},
   "outputs": [
    {
     "data": {
      "text/plain": [
       "['__builtins__',\n",
       " '__cached__',\n",
       " '__doc__',\n",
       " '__file__',\n",
       " '__loader__',\n",
       " '__name__',\n",
       " '__package__',\n",
       " '__spec__',\n",
       " 'avg_employee_age',\n",
       " 'avg_employee_per_city',\n",
       " 'conn',\n",
       " 'curs',\n",
       " 'employee_with_most_territories',\n",
       " 'largest_category_by_unique_products',\n",
       " 'most_expensive_items',\n",
       " 'most_expensive_items_and_city',\n",
       " 'pd',\n",
       " 'sqlite3']"
      ]
     },
     "execution_count": 2,
     "metadata": {},
     "output_type": "execute_result"
    }
   ],
   "source": [
    "dir(northwind)"
   ]
  },
  {
   "cell_type": "code",
   "execution_count": 3,
   "metadata": {},
   "outputs": [
    {
     "name": "stdout",
     "output_type": "stream",
     "text": [
      "               ProductName  UnitPrice\n",
      "0            Côte de Blaye     263.50\n",
      "1  Thüringer Rostbratwurst     123.79\n",
      "2          Mishi Kobe Niku      97.00\n",
      "3   Sir Rodney's Marmalade      81.00\n",
      "4         Carnarvon Tigers      62.50\n",
      "5     Raclette Courdavault      55.00\n",
      "6    Manjimup Dried Apples      53.00\n",
      "7           Tarte au sucre      49.30\n",
      "8              Ipoh Coffee      46.00\n",
      "9        Rössle Sauerkraut      45.60\n"
     ]
    }
   ],
   "source": [
    "northwind.most_expensive_items()"
   ]
  },
  {
   "cell_type": "code",
   "execution_count": 4,
   "metadata": {},
   "outputs": [
    {
     "name": "stdout",
     "output_type": "stream",
     "text": [
      "   AVG(HireDate-BirthDate)\n",
      "0                37.222222\n"
     ]
    }
   ],
   "source": [
    "northwind.avg_employee_age()"
   ]
  },
  {
   "cell_type": "code",
   "execution_count": 5,
   "metadata": {},
   "outputs": [
    {
     "name": "stdout",
     "output_type": "stream",
     "text": [
      "       City  AVG(HireDate-BirthDate)\n",
      "0  Kirkland                     29.0\n",
      "1    London                     32.5\n",
      "2   Redmond                     56.0\n",
      "3   Seattle                     40.0\n",
      "4    Tacoma                     40.0\n"
     ]
    }
   ],
   "source": [
    "northwind.avg_employee_per_city()"
   ]
  },
  {
   "cell_type": "code",
   "execution_count": 6,
   "metadata": {},
   "outputs": [
    {
     "name": "stdout",
     "output_type": "stream",
     "text": [
      "   UnitPrice                        CompanyName\n",
      "0     263.50         Aux joyeux ecclésiastiques\n",
      "1     123.79  Plutzer Lebensmittelgroßmärkte AG\n",
      "2      97.00                      Tokyo Traders\n",
      "3      81.00           Specialty Biscuits, Ltd.\n",
      "4      62.50                      Pavlova, Ltd.\n",
      "5      55.00                       Gai pâturage\n",
      "6      53.00                        G'day, Mate\n",
      "7      49.30                   Forêts d'érables\n",
      "8      46.00                       Leka Trading\n",
      "9      45.60  Plutzer Lebensmittelgroßmärkte AG\n"
     ]
    }
   ],
   "source": [
    "northwind.most_expensive_items_and_city()"
   ]
  },
  {
   "cell_type": "code",
   "execution_count": 7,
   "metadata": {},
   "outputs": [
    {
     "name": "stdout",
     "output_type": "stream",
     "text": [
      "   CategoryId  COUNT(distinct O.ProductID)\n",
      "0           3                           13\n",
      "1           1                           12\n",
      "2           2                           12\n",
      "3           8                           12\n",
      "4           4                           10\n",
      "5           5                            7\n",
      "6           6                            6\n",
      "7           7                            5\n"
     ]
    }
   ],
   "source": [
    "northwind.largest_category_by_unique_products()"
   ]
  },
  {
   "cell_type": "code",
   "execution_count": 8,
   "metadata": {},
   "outputs": [
    {
     "name": "stdout",
     "output_type": "stream",
     "text": [
      "   Id FirstName   LastName  COUNT(ET.TerritoryID)\n",
      "0   7    Robert       King                     10\n",
      "1   2    Andrew     Fuller                      7\n",
      "2   5    Steven   Buchanan                      7\n",
      "3   9      Anne  Dodsworth                      7\n",
      "4   6   Michael     Suyama                      5\n",
      "5   3     Janet  Leverling                      4\n",
      "6   8     Laura   Callahan                      4\n",
      "7   4  Margaret    Peacock                      3\n",
      "8   1     Nancy    Davolio                      2\n"
     ]
    }
   ],
   "source": [
    "northwind.employee_with_most_territories()"
   ]
  },
  {
   "cell_type": "code",
   "execution_count": null,
   "metadata": {},
   "outputs": [],
   "source": []
  }
 ],
 "metadata": {
  "kernelspec": {
   "display_name": "Python 3",
   "language": "python",
   "name": "python3"
  },
  "language_info": {
   "codemirror_mode": {
    "name": "ipython",
    "version": 3
   },
   "file_extension": ".py",
   "mimetype": "text/x-python",
   "name": "python",
   "nbconvert_exporter": "python",
   "pygments_lexer": "ipython3",
   "version": "3.7.3"
  }
 },
 "nbformat": 4,
 "nbformat_minor": 2
}
