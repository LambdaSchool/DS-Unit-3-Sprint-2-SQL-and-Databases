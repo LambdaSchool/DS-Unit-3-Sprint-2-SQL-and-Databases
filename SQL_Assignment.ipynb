{
  "nbformat": 4,
  "nbformat_minor": 0,
  "metadata": {
    "colab": {
      "name": "SQL Assignment.ipynb",
      "version": "0.3.2",
      "provenance": [],
      "collapsed_sections": [
        "4xIe4NArcG9m"
      ],
      "include_colab_link": true
    },
    "kernelspec": {
      "name": "python3",
      "display_name": "Python 3"
    }
  },
  "cells": [
    {
      "cell_type": "markdown",
      "metadata": {
        "id": "view-in-github",
        "colab_type": "text"
      },
      "source": [
        "<a href=\"https://colab.research.google.com/github/aaptecode/DS-Unit-3-Sprint-2-SQL-and-Databases/blob/master/SQL_Assignment.ipynb\" target=\"_parent\"><img src=\"https://colab.research.google.com/assets/colab-badge.svg\" alt=\"Open In Colab\"/></a>"
      ]
    },
    {
      "metadata": {
        "id": "GtVq1KjenN_N",
        "colab_type": "code",
        "colab": {
          "base_uri": "https://localhost:8080/",
          "height": 1508
        },
        "outputId": "7e459a9b-67f7-43d4-fa29-13e248db1bd5"
      },
      "cell_type": "code",
      "source": [
        "import sqlite3\n",
        "dir(sqlite3)"
      ],
      "execution_count": 1,
      "outputs": [
        {
          "output_type": "execute_result",
          "data": {
            "text/plain": [
              "['Binary',\n",
              " 'Cache',\n",
              " 'Connection',\n",
              " 'Cursor',\n",
              " 'DataError',\n",
              " 'DatabaseError',\n",
              " 'Date',\n",
              " 'DateFromTicks',\n",
              " 'Error',\n",
              " 'IntegrityError',\n",
              " 'InterfaceError',\n",
              " 'InternalError',\n",
              " 'NotSupportedError',\n",
              " 'OperationalError',\n",
              " 'OptimizedUnicode',\n",
              " 'PARSE_COLNAMES',\n",
              " 'PARSE_DECLTYPES',\n",
              " 'PrepareProtocol',\n",
              " 'ProgrammingError',\n",
              " 'Row',\n",
              " 'SQLITE_ALTER_TABLE',\n",
              " 'SQLITE_ANALYZE',\n",
              " 'SQLITE_ATTACH',\n",
              " 'SQLITE_CREATE_INDEX',\n",
              " 'SQLITE_CREATE_TABLE',\n",
              " 'SQLITE_CREATE_TEMP_INDEX',\n",
              " 'SQLITE_CREATE_TEMP_TABLE',\n",
              " 'SQLITE_CREATE_TEMP_TRIGGER',\n",
              " 'SQLITE_CREATE_TEMP_VIEW',\n",
              " 'SQLITE_CREATE_TRIGGER',\n",
              " 'SQLITE_CREATE_VIEW',\n",
              " 'SQLITE_DELETE',\n",
              " 'SQLITE_DENY',\n",
              " 'SQLITE_DETACH',\n",
              " 'SQLITE_DROP_INDEX',\n",
              " 'SQLITE_DROP_TABLE',\n",
              " 'SQLITE_DROP_TEMP_INDEX',\n",
              " 'SQLITE_DROP_TEMP_TABLE',\n",
              " 'SQLITE_DROP_TEMP_TRIGGER',\n",
              " 'SQLITE_DROP_TEMP_VIEW',\n",
              " 'SQLITE_DROP_TRIGGER',\n",
              " 'SQLITE_DROP_VIEW',\n",
              " 'SQLITE_IGNORE',\n",
              " 'SQLITE_INSERT',\n",
              " 'SQLITE_OK',\n",
              " 'SQLITE_PRAGMA',\n",
              " 'SQLITE_READ',\n",
              " 'SQLITE_REINDEX',\n",
              " 'SQLITE_SELECT',\n",
              " 'SQLITE_TRANSACTION',\n",
              " 'SQLITE_UPDATE',\n",
              " 'Statement',\n",
              " 'Time',\n",
              " 'TimeFromTicks',\n",
              " 'Timestamp',\n",
              " 'TimestampFromTicks',\n",
              " 'Warning',\n",
              " '__builtins__',\n",
              " '__cached__',\n",
              " '__doc__',\n",
              " '__file__',\n",
              " '__loader__',\n",
              " '__name__',\n",
              " '__package__',\n",
              " '__path__',\n",
              " '__spec__',\n",
              " 'adapt',\n",
              " 'adapters',\n",
              " 'apilevel',\n",
              " 'collections',\n",
              " 'complete_statement',\n",
              " 'connect',\n",
              " 'converters',\n",
              " 'datetime',\n",
              " 'dbapi2',\n",
              " 'enable_callback_tracebacks',\n",
              " 'enable_shared_cache',\n",
              " 'paramstyle',\n",
              " 'register_adapter',\n",
              " 'register_converter',\n",
              " 'sqlite_version',\n",
              " 'sqlite_version_info',\n",
              " 'threadsafety',\n",
              " 'time',\n",
              " 'version',\n",
              " 'version_info']"
            ]
          },
          "metadata": {
            "tags": []
          },
          "execution_count": 1
        }
      ]
    },
    {
      "metadata": {
        "id": "J8Mocd8XdvPy",
        "colab_type": "text"
      },
      "cell_type": "markdown",
      "source": [
        "### Questions:\n",
        "\n",
        "    1) How many total Characters are there?\n",
        "\n",
        "    2) How many of each specific subclass?\n",
        "\n",
        "    3) How many total Items?\n",
        "\n",
        "    4) How many of the Items are weapons? How many are not?\n",
        "\n",
        "    5) On average, how many Items does each Character have?\n",
        "\n",
        "    6) On average, how many Weapons does each character have?\n"
      ]
    },
    {
      "metadata": {
        "id": "VgGoYhj0dpF1",
        "colab_type": "code",
        "colab": {
          "resources": {
            "http://localhost:8080/nbextensions/google.colab/files.js": {
              "data": "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",
              "ok": true,
              "headers": [
                [
                  "content-type",
                  "application/javascript"
                ]
              ],
              "status": 200,
              "status_text": ""
            }
          },
          "base_uri": "https://localhost:8080/",
          "height": 74
        },
        "outputId": "1a83cc74-20a3-4b8d-c662-5e6f0882fe6d"
      },
      "cell_type": "code",
      "source": [
        "from google.colab import files\n",
        "uploaded = files.upload()"
      ],
      "execution_count": 2,
      "outputs": [
        {
          "output_type": "display_data",
          "data": {
            "text/html": [
              "\n",
              "     <input type=\"file\" id=\"files-5b5e5b30-41f7-4595-947d-f1b37367b24d\" name=\"files[]\" multiple disabled />\n",
              "     <output id=\"result-5b5e5b30-41f7-4595-947d-f1b37367b24d\">\n",
              "      Upload widget is only available when the cell has been executed in the\n",
              "      current browser session. Please rerun this cell to enable.\n",
              "      </output>\n",
              "      <script src=\"/nbextensions/google.colab/files.js\"></script> "
            ],
            "text/plain": [
              "<IPython.core.display.HTML object>"
            ]
          },
          "metadata": {
            "tags": []
          }
        },
        {
          "output_type": "stream",
          "text": [
            "Saving rpg_db.sqlite3 to rpg_db (1).sqlite3\n"
          ],
          "name": "stdout"
        }
      ]
    },
    {
      "metadata": {
        "id": "JGJW3hradpER",
        "colab_type": "code",
        "colab": {
          "base_uri": "https://localhost:8080/",
          "height": 1022
        },
        "outputId": "909aa532-ca4e-445a-eec0-81afc6ff7781"
      },
      "cell_type": "code",
      "source": [
        "conn = sqlite3.connect('rpg_db.sqlite3')\n",
        "\n",
        "dir(conn)"
      ],
      "execution_count": 3,
      "outputs": [
        {
          "output_type": "execute_result",
          "data": {
            "text/plain": [
              "['DataError',\n",
              " 'DatabaseError',\n",
              " 'Error',\n",
              " 'IntegrityError',\n",
              " 'InterfaceError',\n",
              " 'InternalError',\n",
              " 'NotSupportedError',\n",
              " 'OperationalError',\n",
              " 'ProgrammingError',\n",
              " 'Warning',\n",
              " '__call__',\n",
              " '__class__',\n",
              " '__delattr__',\n",
              " '__dir__',\n",
              " '__doc__',\n",
              " '__enter__',\n",
              " '__eq__',\n",
              " '__exit__',\n",
              " '__format__',\n",
              " '__ge__',\n",
              " '__getattribute__',\n",
              " '__gt__',\n",
              " '__hash__',\n",
              " '__init__',\n",
              " '__init_subclass__',\n",
              " '__le__',\n",
              " '__lt__',\n",
              " '__ne__',\n",
              " '__new__',\n",
              " '__reduce__',\n",
              " '__reduce_ex__',\n",
              " '__repr__',\n",
              " '__setattr__',\n",
              " '__sizeof__',\n",
              " '__str__',\n",
              " '__subclasshook__',\n",
              " 'close',\n",
              " 'commit',\n",
              " 'create_aggregate',\n",
              " 'create_collation',\n",
              " 'create_function',\n",
              " 'cursor',\n",
              " 'enable_load_extension',\n",
              " 'execute',\n",
              " 'executemany',\n",
              " 'executescript',\n",
              " 'in_transaction',\n",
              " 'interrupt',\n",
              " 'isolation_level',\n",
              " 'iterdump',\n",
              " 'load_extension',\n",
              " 'rollback',\n",
              " 'row_factory',\n",
              " 'set_authorizer',\n",
              " 'set_progress_handler',\n",
              " 'set_trace_callback',\n",
              " 'text_factory',\n",
              " 'total_changes']"
            ]
          },
          "metadata": {
            "tags": []
          },
          "execution_count": 3
        }
      ]
    },
    {
      "metadata": {
        "id": "JA5Ktk8hdo_i",
        "colab_type": "code",
        "colab": {
          "base_uri": "https://localhost:8080/",
          "height": 710
        },
        "outputId": "18bcb944-695d-4832-aa26-336fd01800cd"
      },
      "cell_type": "code",
      "source": [
        "curs = conn.cursor()\n",
        "dir(curs)\n"
      ],
      "execution_count": 4,
      "outputs": [
        {
          "output_type": "execute_result",
          "data": {
            "text/plain": [
              "['__class__',\n",
              " '__delattr__',\n",
              " '__dir__',\n",
              " '__doc__',\n",
              " '__eq__',\n",
              " '__format__',\n",
              " '__ge__',\n",
              " '__getattribute__',\n",
              " '__gt__',\n",
              " '__hash__',\n",
              " '__init__',\n",
              " '__init_subclass__',\n",
              " '__iter__',\n",
              " '__le__',\n",
              " '__lt__',\n",
              " '__ne__',\n",
              " '__new__',\n",
              " '__next__',\n",
              " '__reduce__',\n",
              " '__reduce_ex__',\n",
              " '__repr__',\n",
              " '__setattr__',\n",
              " '__sizeof__',\n",
              " '__str__',\n",
              " '__subclasshook__',\n",
              " 'arraysize',\n",
              " 'close',\n",
              " 'connection',\n",
              " 'description',\n",
              " 'execute',\n",
              " 'executemany',\n",
              " 'executescript',\n",
              " 'fetchall',\n",
              " 'fetchmany',\n",
              " 'fetchone',\n",
              " 'lastrowid',\n",
              " 'row_factory',\n",
              " 'rowcount',\n",
              " 'setinputsizes',\n",
              " 'setoutputsize']"
            ]
          },
          "metadata": {
            "tags": []
          },
          "execution_count": 4
        }
      ]
    },
    {
      "metadata": {
        "id": "eYbct-Y4hnNN",
        "colab_type": "code",
        "colab": {
          "base_uri": "https://localhost:8080/",
          "height": 104
        },
        "outputId": "e794ce8f-ea86-4582-a619-013d56d884fb"
      },
      "cell_type": "code",
      "source": [
        "help(curs.execute)"
      ],
      "execution_count": 5,
      "outputs": [
        {
          "output_type": "stream",
          "text": [
            "Help on built-in function execute:\n",
            "\n",
            "execute(...) method of sqlite3.Cursor instance\n",
            "    Executes a SQL statement.\n",
            "\n"
          ],
          "name": "stdout"
        }
      ]
    },
    {
      "metadata": {
        "id": "tcoR0qNgpwkU",
        "colab_type": "code",
        "colab": {
          "base_uri": "https://localhost:8080/",
          "height": 104
        },
        "outputId": "1e392adf-fb94-48cc-d74f-437d43a99306"
      },
      "cell_type": "code",
      "source": [
        "help(curs.fetchone)"
      ],
      "execution_count": 6,
      "outputs": [
        {
          "output_type": "stream",
          "text": [
            "Help on built-in function fetchone:\n",
            "\n",
            "fetchone(...) method of sqlite3.Cursor instance\n",
            "    Fetches one row from the resultset.\n",
            "\n"
          ],
          "name": "stdout"
        }
      ]
    },
    {
      "metadata": {
        "id": "iOOuCz-giByi",
        "colab_type": "text"
      },
      "cell_type": "markdown",
      "source": [
        "**    1) How many total Characters are there?**"
      ]
    },
    {
      "metadata": {
        "id": "5Klto9etdo9U",
        "colab_type": "code",
        "colab": {
          "base_uri": "https://localhost:8080/",
          "height": 34
        },
        "outputId": "8726c5b7-5527-47f9-8341-a3fb26552018"
      },
      "cell_type": "code",
      "source": [
        "query1 = \"\"\"\n",
        "SELECT COUNT(*)\n",
        "FROM charactercreator_character AS character\n",
        "\"\"\"\n",
        "\n",
        "curs.execute(query1)\n",
        "curs.fetchone()[0]"
      ],
      "execution_count": 7,
      "outputs": [
        {
          "output_type": "execute_result",
          "data": {
            "text/plain": [
              "302"
            ]
          },
          "metadata": {
            "tags": []
          },
          "execution_count": 7
        }
      ]
    },
    {
      "metadata": {
        "id": "h4UX-CgeiN0U",
        "colab_type": "text"
      },
      "cell_type": "markdown",
      "source": [
        "**2) How many of each specific subclass?**"
      ]
    },
    {
      "metadata": {
        "id": "zWGY-VFQdo7J",
        "colab_type": "code",
        "colab": {
          "base_uri": "https://localhost:8080/",
          "height": 104
        },
        "outputId": "6a624805-fe6f-4390-eb5c-682c9ffd14bd"
      },
      "cell_type": "code",
      "source": [
        "# 5 subclasses, implied Inner Join w/ WHERE\n",
        "\n",
        "query2_cleric = \"\"\"\n",
        "SELECT COUNT(character.character_id)\n",
        "FROM charactercreator_character AS character, charactercreator_cleric AS cleric\n",
        "WHERE character.character_id = cleric.character_ptr_id\n",
        "\n",
        "\"\"\"\n",
        "\n",
        "query2_fighter = \"\"\"\n",
        "SELECT COUNT(character.character_id)\n",
        "FROM charactercreator_character AS character, charactercreator_fighter AS fighter\n",
        "WHERE character.character_id = fighter.character_ptr_id\n",
        "\n",
        "\"\"\"\n",
        "\n",
        "query2_mage = \"\"\"\n",
        "SELECT COUNT(character.character_id)\n",
        "FROM charactercreator_character AS character, charactercreator_mage AS mage\n",
        "WHERE character.character_id = mage.character_ptr_id\n",
        "\n",
        "\"\"\"\n",
        "\n",
        "query2_necromancer = \"\"\"\n",
        "SELECT COUNT(character.character_id)\n",
        "FROM charactercreator_character AS character, charactercreator_necromancer AS nm\n",
        "WHERE character.character_id = nm.mage_ptr_id\n",
        "\n",
        "\"\"\"\n",
        "\n",
        "query2_thief = \"\"\"\n",
        "SELECT COUNT(character.character_id)\n",
        "FROM charactercreator_character AS character, charactercreator_thief AS thief\n",
        "WHERE character.character_id = thief.character_ptr_id\n",
        "\n",
        "\"\"\"\n",
        "\n",
        "curs.execute(query2_cleric)\n",
        "print('The number of clerics is {}.'.format(curs.fetchone()[0]))\n",
        "curs.execute(query2_fighter)\n",
        "print('The number of fighters is {}.'.format(curs.fetchone()[0]))\n",
        "curs.execute(query2_mage)\n",
        "print('The number of mages (magi?) is {}.'.format(curs.fetchone()[0]))\n",
        "curs.execute(query2_necromancer)\n",
        "print('The number of necromancers is {}.'.format(curs.fetchone()[0]))\n",
        "curs.execute(query2_thief)\n",
        "print('The number of thieves is {}.'.format(curs.fetchone()[0]))\n"
      ],
      "execution_count": 8,
      "outputs": [
        {
          "output_type": "stream",
          "text": [
            "The number of clerics is 75.\n",
            "The number of fighters is 68.\n",
            "The number of mages (magi?) is 108.\n",
            "The number of necromancers is 11.\n",
            "The number of thieves is 51.\n"
          ],
          "name": "stdout"
        }
      ]
    },
    {
      "metadata": {
        "id": "xZGRgQkfvvNh",
        "colab_type": "code",
        "colab": {
          "base_uri": "https://localhost:8080/",
          "height": 34
        },
        "outputId": "637c519d-7437-46cb-ea1b-cbbebe2409ec"
      },
      "cell_type": "code",
      "source": [
        "75+68+108+11+51"
      ],
      "execution_count": 9,
      "outputs": [
        {
          "output_type": "execute_result",
          "data": {
            "text/plain": [
              "313"
            ]
          },
          "metadata": {
            "tags": []
          },
          "execution_count": 9
        }
      ]
    },
    {
      "metadata": {
        "id": "yLTajN3Hvtpq",
        "colab_type": "text"
      },
      "cell_type": "markdown",
      "source": [
        "**Notice that this total is 11 more than the result from the first query. This is because necromancer is a type of mage. I show it for completeness but in reality there are 4 subclasses with one subclass having a specialty. **"
      ]
    },
    {
      "metadata": {
        "id": "f5ru56yOiQPy",
        "colab_type": "text"
      },
      "cell_type": "markdown",
      "source": [
        "** 3) How many total Items?**"
      ]
    },
    {
      "metadata": {
        "id": "vXMT9heTdo2M",
        "colab_type": "code",
        "colab": {
          "base_uri": "https://localhost:8080/",
          "height": 34
        },
        "outputId": "b598af96-77f8-4159-a2b5-e3f573948d69"
      },
      "cell_type": "code",
      "source": [
        "query3 = \"\"\"\n",
        "SELECT COUNT(armory.item_id)\n",
        "FROM armory_item AS armory\n",
        "\n",
        "\"\"\"\n",
        "\n",
        "curs.execute(query3)\n",
        "curs.fetchone()[0]"
      ],
      "execution_count": 10,
      "outputs": [
        {
          "output_type": "execute_result",
          "data": {
            "text/plain": [
              "174"
            ]
          },
          "metadata": {
            "tags": []
          },
          "execution_count": 10
        }
      ]
    },
    {
      "metadata": {
        "id": "b4SPofc0iWAP",
        "colab_type": "text"
      },
      "cell_type": "markdown",
      "source": [
        "** 4) How many of the Items are weapons? How many are not?**"
      ]
    },
    {
      "metadata": {
        "id": "Lzp8Vxrodo0b",
        "colab_type": "code",
        "colab": {
          "base_uri": "https://localhost:8080/",
          "height": 34
        },
        "outputId": "2b9fca9e-7c6b-4f6f-d5f1-4bda05baefc0"
      },
      "cell_type": "code",
      "source": [
        "query4_weapon = \"\"\"\n",
        "SELECT COUNT(armory.item_id)\n",
        "FROM armory_item AS armory, armory_weapon AS weapon\n",
        "WHERE armory.item_id = weapon.item_ptr_id\n",
        "\n",
        "\"\"\"\n",
        "\n",
        "curs.execute(query4_weapon)\n",
        "curs.fetchone()[0]"
      ],
      "execution_count": 11,
      "outputs": [
        {
          "output_type": "execute_result",
          "data": {
            "text/plain": [
              "37"
            ]
          },
          "metadata": {
            "tags": []
          },
          "execution_count": 11
        }
      ]
    },
    {
      "metadata": {
        "id": "oLX02oIFjUdF",
        "colab_type": "code",
        "colab": {
          "base_uri": "https://localhost:8080/",
          "height": 34
        },
        "outputId": "d81dc5c1-d5ca-42ef-b431-87520333ecef"
      },
      "cell_type": "code",
      "source": [
        "query4_not = \"\"\"\n",
        "SELECT COUNT(armory.item_id)\n",
        "FROM armory_item AS armory, armory_weapon AS weapon\n",
        "WHERE armory.item_id != weapon.item_ptr_id\n",
        "\n",
        "\"\"\"\n",
        "\n",
        "curs.execute(query4_not)\n",
        "curs.fetchone()[0]"
      ],
      "execution_count": 12,
      "outputs": [
        {
          "output_type": "execute_result",
          "data": {
            "text/plain": [
              "6401"
            ]
          },
          "metadata": {
            "tags": []
          },
          "execution_count": 12
        }
      ]
    },
    {
      "metadata": {
        "id": "emtvDopGtDzB",
        "colab_type": "text"
      },
      "cell_type": "markdown",
      "source": [
        "**While the code is correct, the answer is not. This suggests an issue with the armory_weapon table.**"
      ]
    },
    {
      "metadata": {
        "id": "NmKLAoCXtNZp",
        "colab_type": "text"
      },
      "cell_type": "markdown",
      "source": [
        "**Actual Answer**"
      ]
    },
    {
      "metadata": {
        "id": "_Yo8UGxrtMXM",
        "colab_type": "code",
        "colab": {
          "base_uri": "https://localhost:8080/",
          "height": 34
        },
        "outputId": "f1a44b39-d8f3-475c-fce9-2c2aeb3fe9f4"
      },
      "cell_type": "code",
      "source": [
        "curs.execute(query3)\n",
        "total = curs.fetchone()[0]\n",
        "curs.execute(query4_weapon)\n",
        "weapon = curs.fetchone()[0]\n",
        "\n",
        "print(total-weapon)\n"
      ],
      "execution_count": 13,
      "outputs": [
        {
          "output_type": "stream",
          "text": [
            "137\n"
          ],
          "name": "stdout"
        }
      ]
    },
    {
      "metadata": {
        "id": "i2jIzDg_2pFb",
        "colab_type": "code",
        "colab": {
          "base_uri": "https://localhost:8080/",
          "height": 34
        },
        "outputId": "dcc96d25-1040-4346-84e8-d360a3e9057b"
      },
      "cell_type": "code",
      "source": [
        "# Thanks Dakota\n",
        "\n",
        "query4_2 = \"\"\"SELECT COUNT(*)\n",
        "FROM armory_item\n",
        "WHERE item_id NOT IN\n",
        "            (SELECT distinct item_ptr_id\n",
        "                FROM armory_weapon)\"\"\"\n",
        "\n",
        "curs.execute(query4_2)\n",
        "curs.fetchone()[0]"
      ],
      "execution_count": 14,
      "outputs": [
        {
          "output_type": "execute_result",
          "data": {
            "text/plain": [
              "137"
            ]
          },
          "metadata": {
            "tags": []
          },
          "execution_count": 14
        }
      ]
    },
    {
      "metadata": {
        "id": "v9wZ0w_FilK9",
        "colab_type": "text"
      },
      "cell_type": "markdown",
      "source": [
        "**5) On average, how many Items does each Character have?**"
      ]
    },
    {
      "metadata": {
        "id": "Lr8CwetmiJMh",
        "colab_type": "code",
        "colab": {
          "base_uri": "https://localhost:8080/",
          "height": 34
        },
        "outputId": "371bd75d-ec94-4c8a-dff4-b43f1e7e4dde"
      },
      "cell_type": "code",
      "source": [
        "query5 = \"\"\"\n",
        "SELECT COUNT(inventory.item_id) *1.0 / COUNT(DISTINCT inventory.character_id)\n",
        "FROM charactercreator_character_inventory AS inventory\n",
        "\n",
        "\"\"\"\n",
        "\n",
        "curs.execute(query5)\n",
        "curs.fetchone()[0]"
      ],
      "execution_count": 15,
      "outputs": [
        {
          "output_type": "execute_result",
          "data": {
            "text/plain": [
              "2.9735099337748343"
            ]
          },
          "metadata": {
            "tags": []
          },
          "execution_count": 15
        }
      ]
    },
    {
      "metadata": {
        "id": "FF7q8e9KixUa",
        "colab_type": "text"
      },
      "cell_type": "markdown",
      "source": [
        "** 6) On average, how many Weapons does each character have?**"
      ]
    },
    {
      "metadata": {
        "id": "4AN4_mSiiJBK",
        "colab_type": "code",
        "colab": {
          "base_uri": "https://localhost:8080/",
          "height": 34
        },
        "outputId": "fc0033b1-4607-4835-c85d-0501069dfeac"
      },
      "cell_type": "code",
      "source": [
        "query6 = \"\"\"\n",
        "SELECT COUNT(inventory.item_id) *1.0 / COUNT(DISTINCT inventory.character_id)\n",
        "FROM charactercreator_character_inventory AS inventory, armory_weapon AS weapon\n",
        "WHERE inventory.item_id = weapon.item_ptr_id\n",
        "\n",
        "\"\"\"\n",
        "\n",
        "curs.execute(query6)\n",
        "curs.fetchone()[0]"
      ],
      "execution_count": 17,
      "outputs": [
        {
          "output_type": "execute_result",
          "data": {
            "text/plain": [
              "1.3096774193548386"
            ]
          },
          "metadata": {
            "tags": []
          },
          "execution_count": 17
        }
      ]
    },
    {
      "metadata": {
        "id": "4xIe4NArcG9m",
        "colab_type": "text"
      },
      "cell_type": "markdown",
      "source": [
        "### Extra Stuff"
      ]
    },
    {
      "metadata": {
        "id": "LefSFTqw6BDs",
        "colab_type": "code",
        "colab": {}
      },
      "cell_type": "code",
      "source": [
        "# Rudy\n",
        "\n",
        "# curl https://raw.githubusercontent.com/Phantasm320/DS-Unit-3-Sprint-2-SQL-and-Databases/master/module1-introduction-to-sql/load_data.py -o load_data.py\n",
        "\n",
        "# class Load_Data():\n",
        "\n",
        "#     def __init__(self, db_file):\n",
        "#         self.db_file = db_file\n",
        "\n",
        "#     def create_dataframe(self, columns, table):\n",
        "#         '''\n",
        "#         Convert a SQLite3 database into a pandas DataFrame\n",
        "#         --------------------------------------------------\n",
        "#         Parameters\n",
        "#         columns: (string) Enter the column or columns desired\n",
        "#                  example 1- \"column_desired\"\n",
        "#                  example 2- \"column_1, column_2\"\n",
        "#                  example 3- \"*\" to select all columns. If using this format\n",
        "#                              the pandas dataframe will not have column names\n",
        "#         table: (string) Enter the table desired\n",
        "#                 example 1- \"table_desired\"\n",
        "\n",
        "#         '''\n",
        "#         import sqlite3\n",
        "#         import pandas as pd\n",
        "#         data = []\n",
        "#         col_names = columns.split(\",\")\n",
        "#         conn = sqlite3.connect(self.db_file)\n",
        "#         c = conn.cursor()\n",
        "#         for row in c.execute('SELECT {} FROM {}'.format(columns, table)):\n",
        "#             pre_data = []\n",
        "#             for i in row:\n",
        "#                 pre_data.append(i)\n",
        "#             data.append(pre_data)\n",
        "\n",
        "#         if columns == '*':\n",
        "#             return pd.DataFrame(data=data)\n",
        "#         else:\n",
        "#             return pd.DataFrame(data=data, columns=col_names)\n",
        "\n",
        "#     def make_query(self, SELECT, FROM, STATEMENT=None, query=None):\n",
        "\n",
        "#         '''\n",
        "#         Make basic queries using sqlite3\n",
        "#         ---------------------------------\n",
        "#         Parameters\n",
        "#         SELECT: (string) Enter the column or columns from the database\n",
        "#                  example 1- \"column_desired\"\n",
        "#                  example 2- \"column_1, column_2\"\n",
        "#                  example 3- \"*\" to select all columns\n",
        "#                  May also combined simple queries\n",
        "#                  example 4- \"COUNT(column_desired)\" or \"COUNT(*)\"\n",
        "#                  example 5- \"ROUND(AVG(column_desired))\"\n",
        "#                  example 6- \"MIN(column_desired)\" or \"MAX(column_1, column_2)\"\n",
        "\n",
        "#         FROM: (string) Enter the table desired\n",
        "#                  example 1- \"table_desired\"\n",
        "\n",
        "#         STATEMENT: (string) Enter the statement desired\n",
        "#                  example 1- \"LIMIT\"\n",
        "#                  example 2- \"WHERE\"\n",
        "#                  example 3- \"ORDER BY\"\n",
        "\n",
        "#         query: (string) Enter the an additional query after query1\n",
        "#                  example 1- \"column_desired <= 1 OR column_desired >=8\"\n",
        "#                  example 2- \"column_desired ASC\"\n",
        "#         '''\n",
        "#         import sqlite3\n",
        "#         conn = sqlite3.connect(self.db_file)\n",
        "#         c = conn.cursor()\n",
        "\n",
        "#         if (STATEMENT and query) == None:\n",
        "#             for row in c.execute('SELECT {} FROM {}'.format(SELECT, FROM)):\n",
        "#                 print(row)\n",
        "\n",
        "#         elif (STATEMENT and query) != None:\n",
        "#             for row in c.execute('SELECT {} FROM {} {} {}'.format(SELECT, FROM,\n",
        "#                                                                   STATEMENT,\n",
        "#                                                                   query)):\n",
        "#                 print(row)"
      ],
      "execution_count": 0,
      "outputs": []
    },
    {
      "metadata": {
        "id": "tojHLQA3TPzl",
        "colab_type": "code",
        "colab": {}
      },
      "cell_type": "code",
      "source": [
        "import sys\n",
        "sys.path"
      ],
      "execution_count": 0,
      "outputs": []
    },
    {
      "metadata": {
        "id": "qexncX7Haym9",
        "colab_type": "code",
        "colab": {}
      },
      "cell_type": "code",
      "source": [
        "from google.colab import files\n",
        "uploaded = files.upload()"
      ],
      "execution_count": 0,
      "outputs": []
    },
    {
      "metadata": {
        "id": "ldcXUKU1bF11",
        "colab_type": "code",
        "colab": {}
      },
      "cell_type": "code",
      "source": [
        ""
      ],
      "execution_count": 0,
      "outputs": []
    },
    {
      "metadata": {
        "id": "qARlzrr4bY4_",
        "colab_type": "code",
        "colab": {}
      },
      "cell_type": "code",
      "source": [
        "# %load acme.py\n",
        "import acme\n",
        "dir(acme)"
      ],
      "execution_count": 0,
      "outputs": []
    }
  ]
}