{
 "cells": [
  {
   "cell_type": "code",
   "execution_count": 1,
   "metadata": {},
   "outputs": [
    {
     "name": "stdout",
     "output_type": "stream",
     "text": [
      "Untitled.ipynb           challenge.md             northwind_small.sqlite3\r\n"
     ]
    }
   ],
   "source": [
    "ls"
   ]
  },
  {
   "cell_type": "code",
   "execution_count": 2,
   "metadata": {},
   "outputs": [],
   "source": [
    "import sqlite3"
   ]
  },
  {
   "cell_type": "code",
   "execution_count": 3,
   "metadata": {},
   "outputs": [],
   "source": [
    "conn = sqlite3.connect('northwind_small.sqlite3')\n",
    "curs = conn.cursor()"
   ]
  },
  {
   "cell_type": "code",
   "execution_count": 6,
   "metadata": {},
   "outputs": [
    {
     "data": {
      "text/plain": [
       "[('Category',),\n",
       " ('Customer',),\n",
       " ('CustomerCustomerDemo',),\n",
       " ('CustomerDemographic',),\n",
       " ('Employee',),\n",
       " ('EmployeeTerritory',),\n",
       " ('Order',),\n",
       " ('OrderDetail',),\n",
       " ('Product',),\n",
       " ('Region',),\n",
       " ('Shipper',),\n",
       " ('Supplier',),\n",
       " ('Territory',)]"
      ]
     },
     "execution_count": 6,
     "metadata": {},
     "output_type": "execute_result"
    }
   ],
   "source": [
    "curs.execute(\"\"\"\n",
    "SELECT name FROM sqlite_master \n",
    "WHERE type='table' \n",
    "ORDER BY name;\"\"\").fetchall()"
   ]
  },
  {
   "cell_type": "code",
   "execution_count": 7,
   "metadata": {},
   "outputs": [
    {
     "data": {
      "text/plain": [
       "[('CREATE TABLE \"Customer\" \\n(\\n  \"Id\" VARCHAR(8000) PRIMARY KEY, \\n  \"CompanyName\" VARCHAR(8000) NULL, \\n  \"ContactName\" VARCHAR(8000) NULL, \\n  \"ContactTitle\" VARCHAR(8000) NULL, \\n  \"Address\" VARCHAR(8000) NULL, \\n  \"City\" VARCHAR(8000) NULL, \\n  \"Region\" VARCHAR(8000) NULL, \\n  \"PostalCode\" VARCHAR(8000) NULL, \\n  \"Country\" VARCHAR(8000) NULL, \\n  \"Phone\" VARCHAR(8000) NULL, \\n  \"Fax\" VARCHAR(8000) NULL \\n)',)]"
      ]
     },
     "execution_count": 7,
     "metadata": {},
     "output_type": "execute_result"
    }
   ],
   "source": [
    "curs.execute('SELECT sql FROM sqlite_master WHERE name=\"Customer\";').fetchall()"
   ]
  },
  {
   "cell_type": "markdown",
   "metadata": {},
   "source": [
    "## Questions"
   ]
  },
  {
   "cell_type": "markdown",
   "metadata": {},
   "source": [
    "Answer the following questions (each is from a single table):\n",
    "\n",
    " -What are the ten most expensive items (per unit price) in the database? <br>\n",
    " -What is the average age of an employee at the time of their hiring? (Hint: a lot of arithmetic works with dates.) <br>\n",
    " -(Stretch) How does the average age of employee at hire vary by city?"
   ]
  },
  {
   "cell_type": "code",
   "execution_count": 11,
   "metadata": {},
   "outputs": [
    {
     "data": {
      "text/plain": [
       "[('Côte de Blaye', 263.5),\n",
       " ('Thüringer Rostbratwurst', 123.79),\n",
       " ('Mishi Kobe Niku', 97),\n",
       " (\"Sir Rodney's Marmalade\", 81),\n",
       " ('Carnarvon Tigers', 62.5),\n",
       " ('Raclette Courdavault', 55),\n",
       " ('Manjimup Dried Apples', 53),\n",
       " ('Tarte au sucre', 49.3),\n",
       " ('Ipoh Coffee', 46),\n",
       " ('Rössle Sauerkraut', 45.6)]"
      ]
     },
     "execution_count": 11,
     "metadata": {},
     "output_type": "execute_result"
    }
   ],
   "source": [
    "# Question 1\n",
    "curs.execute(\"\"\"\n",
    "SELECT ProductName, UnitPrice FROM Product\n",
    "ORDER BY UnitPrice DESC\n",
    "LIMIT 10;\n",
    "\"\"\").fetchall()"
   ]
  },
  {
   "cell_type": "code",
   "execution_count": 12,
   "metadata": {},
   "outputs": [
    {
     "data": {
      "text/plain": [
       "[(37.22222222222222,)]"
      ]
     },
     "execution_count": 12,
     "metadata": {},
     "output_type": "execute_result"
    }
   ],
   "source": [
    "# Question 2\n",
    "curs.execute(\"\"\"\n",
    "SELECT AVG(HireDate - BirthDate) from Employee\n",
    "\"\"\").fetchall()"
   ]
  },
  {
   "cell_type": "code",
   "execution_count": null,
   "metadata": {},
   "outputs": [],
   "source": [
    "# Question 3 STRETCH\n",
    "curs.execute(\"\"\"\n",
    "\n",
    "\"\"\")"
   ]
  },
  {
   "cell_type": "markdown",
   "metadata": {},
   "source": [
    "## Part 3 - Sailing the Northwind Seas"
   ]
  },
  {
   "cell_type": "markdown",
   "metadata": {},
   "source": [
    "Using sqlite3 in northwind.py, answer the following:\n",
    "\n",
    "What are the ten most expensive items (per unit price) in the database and their suppliers? <br>\n",
    "What is the largest category (by number of unique products in it)? <br>\n",
    "(Stretch) Who's the employee with the most territories? Use TerritoryId (not name, region, or other fields) as the unique identifier for territories. "
   ]
  },
  {
   "cell_type": "code",
   "execution_count": 41,
   "metadata": {},
   "outputs": [
    {
     "data": {
      "text/plain": [
       "[('Aux joyeux ecclésiastiques', 'Côte de Blaye', 263.5),\n",
       " ('Plutzer Lebensmittelgroßmärkte AG', 'Thüringer Rostbratwurst', 123.79),\n",
       " ('Tokyo Traders', 'Mishi Kobe Niku', 97),\n",
       " ('Specialty Biscuits, Ltd.', \"Sir Rodney's Marmalade\", 81),\n",
       " ('Pavlova, Ltd.', 'Carnarvon Tigers', 62.5),\n",
       " ('Gai pâturage', 'Raclette Courdavault', 55),\n",
       " (\"G'day, Mate\", 'Manjimup Dried Apples', 53),\n",
       " (\"Forêts d'érables\", 'Tarte au sucre', 49.3),\n",
       " ('Leka Trading', 'Ipoh Coffee', 46),\n",
       " ('Plutzer Lebensmittelgroßmärkte AG', 'Rössle Sauerkraut', 45.6)]"
      ]
     },
     "execution_count": 41,
     "metadata": {},
     "output_type": "execute_result"
    }
   ],
   "source": [
    "curs.execute(\"\"\"\n",
    "SELECT Supplier.CompanyName AS Supplier, Product.ProductName AS ProductName , Product.UnitPrice as UnitPrice\n",
    "FROM Product JOIN Supplier\n",
    "ON Product.SupplierID = Supplier.ID\n",
    "ORDER BY UnitPrice DESC\n",
    "LIMIT 10;\n",
    "\"\"\").fetchall()"
   ]
  },
  {
   "cell_type": "code",
   "execution_count": 51,
   "metadata": {},
   "outputs": [
    {
     "data": {
      "text/plain": [
       "[('Beverages', 77)]"
      ]
     },
     "execution_count": 51,
     "metadata": {},
     "output_type": "execute_result"
    }
   ],
   "source": [
    "curs.execute(\"\"\"\n",
    "SELECT Category.CategoryName, COUNT(DISTINCT Product.ProductName) as unique_prod\n",
    "FROM Product JOIN Category\n",
    "WHERE Product.CategoryID = Category.ID\n",
    "ORDER BY unique_prod DESC\n",
    "\"\"\").fetchall()"
   ]
  },
  {
   "cell_type": "code",
   "execution_count": 53,
   "metadata": {},
   "outputs": [
    {
     "data": {
      "text/plain": [
       "[('Beverages', 77)]"
      ]
     },
     "execution_count": 53,
     "metadata": {},
     "output_type": "execute_result"
    }
   ],
   "source": [
    "curs.execute(\"\"\"\n",
    "SELECT Category.CategoryName, COUNT(Product.ProductName) as unique_prod\n",
    "FROM Product JOIN Category\n",
    "WHERE Product.CategoryID = Category.ID\n",
    "ORDER BY unique_prod DESC\n",
    "\"\"\").fetchall()"
   ]
  },
  {
   "cell_type": "code",
   "execution_count": 56,
   "metadata": {},
   "outputs": [
    {
     "data": {
      "text/plain": [
       "[(77,)]"
      ]
     },
     "execution_count": 56,
     "metadata": {},
     "output_type": "execute_result"
    }
   ],
   "source": [
    "curs.execute(\"\"\"\n",
    "SELECT COUNT(ProductName) FROM Product\n",
    "\"\"\").fetchall()"
   ]
  },
  {
   "cell_type": "code",
   "execution_count": 44,
   "metadata": {},
   "outputs": [
    {
     "data": {
      "text/plain": [
       "[(1, 'Beverages', 'Soft drinks, coffees, teas, beers, and ales'),\n",
       " (2,\n",
       "  'Condiments',\n",
       "  'Sweet and savory sauces, relishes, spreads, and seasonings'),\n",
       " (3, 'Confections', 'Desserts, candies, and sweet breads'),\n",
       " (4, 'Dairy Products', 'Cheeses'),\n",
       " (5, 'Grains/Cereals', 'Breads, crackers, pasta, and cereal'),\n",
       " (6, 'Meat/Poultry', 'Prepared meats'),\n",
       " (7, 'Produce', 'Dried fruit and bean curd'),\n",
       " (8, 'Seafood', 'Seaweed and fish')]"
      ]
     },
     "execution_count": 44,
     "metadata": {},
     "output_type": "execute_result"
    }
   ],
   "source": [
    "curs.execute(\"\"\"\n",
    "SELECT * FROM Category\n",
    "\"\"\").fetchall()"
   ]
  },
  {
   "cell_type": "code",
   "execution_count": 34,
   "metadata": {},
   "outputs": [
    {
     "data": {
      "text/plain": [
       "[('01581', 'Westboro', 1),\n",
       " ('01730', 'Bedford', 1),\n",
       " ('01833', 'Georgetow', 1),\n",
       " ('02116', 'Boston', 1),\n",
       " ('02139', 'Cambridge', 1),\n",
       " ('02184', 'Braintree', 1),\n",
       " ('02903', 'Providence', 1),\n",
       " ('03049', 'Hollis', 3),\n",
       " ('03801', 'Portsmouth', 3),\n",
       " ('06897', 'Wilton', 1),\n",
       " ('07960', 'Morristown', 1),\n",
       " ('08837', 'Edison', 1),\n",
       " ('10019', 'New York', 1),\n",
       " ('10038', 'New York', 1),\n",
       " ('11747', 'Mellvile', 1),\n",
       " ('14450', 'Fairport', 1),\n",
       " ('19428', 'Philadelphia', 3),\n",
       " ('19713', 'Neward', 1),\n",
       " ('20852', 'Rockville', 1),\n",
       " ('27403', 'Greensboro', 1),\n",
       " ('27511', 'Cary', 1),\n",
       " ('29202', 'Columbia', 4),\n",
       " ('30346', 'Atlanta', 4),\n",
       " ('31406', 'Savannah', 4),\n",
       " ('32859', 'Orlando', 4),\n",
       " ('33607', 'Tampa', 4),\n",
       " ('40222', 'Louisville', 1),\n",
       " ('44122', 'Beachwood', 3),\n",
       " ('45839', 'Findlay', 3),\n",
       " ('48075', 'Southfield', 3),\n",
       " ('48084', 'Troy', 3),\n",
       " ('48304', 'Bloomfield Hills', 3),\n",
       " ('53404', 'Racine', 3),\n",
       " ('55113', 'Roseville', 3),\n",
       " ('55439', 'Minneapolis', 3),\n",
       " ('60179', 'Hoffman Estates', 2),\n",
       " ('60601', 'Chicago', 2),\n",
       " ('72716', 'Bentonville', 4),\n",
       " ('75234', 'Dallas', 4),\n",
       " ('78759', 'Austin', 4),\n",
       " ('80202', 'Denver', 2),\n",
       " ('80909', 'Colorado Springs', 2),\n",
       " ('85014', 'Phoenix', 2),\n",
       " ('85251', 'Scottsdale', 2),\n",
       " ('90405', 'Santa Monica', 2),\n",
       " ('94025', 'Menlo Park', 2),\n",
       " ('94105', 'San Francisco', 2),\n",
       " ('95008', 'Campbell', 2),\n",
       " ('95054', 'Santa Clara', 2),\n",
       " ('95060', 'Santa Cruz', 2),\n",
       " ('98004', 'Bellevue', 2),\n",
       " ('98052', 'Redmond', 2),\n",
       " ('98104', 'Seattle', 2)]"
      ]
     },
     "execution_count": 34,
     "metadata": {},
     "output_type": "execute_result"
    }
   ],
   "source": [
    "curs.execute(\"\"\"\n",
    "SELECT * FROM Territory\n",
    "\"\"\").fetchall()"
   ]
  },
  {
   "cell_type": "code",
   "execution_count": 57,
   "metadata": {},
   "outputs": [
    {
     "data": {
      "text/plain": [
       "[(9,)]"
      ]
     },
     "execution_count": 57,
     "metadata": {},
     "output_type": "execute_result"
    }
   ],
   "source": [
    "curs.execute(\n",
    "\"\"\"\n",
    "SELECT COUNT(FirstName) FROM EMPLOYEE\n",
    "\"\"\").fetchall()"
   ]
  },
  {
   "cell_type": "code",
   "execution_count": 58,
   "metadata": {},
   "outputs": [
    {
     "data": {
      "text/plain": [
       "[(53,)]"
      ]
     },
     "execution_count": 58,
     "metadata": {},
     "output_type": "execute_result"
    }
   ],
   "source": [
    "curs.execute(\n",
    "\"\"\"\n",
    "SELECT COUNT(TerritoryDescription) FROM Territory\n",
    "\"\"\").fetchall()"
   ]
  },
  {
   "cell_type": "code",
   "execution_count": null,
   "metadata": {},
   "outputs": [],
   "source": []
  }
 ],
 "metadata": {
  "kernelspec": {
   "display_name": "Python 3",
   "language": "python",
   "name": "python3"
  },
  "language_info": {
   "codemirror_mode": {
    "name": "ipython",
    "version": 3
   },
   "file_extension": ".py",
   "mimetype": "text/x-python",
   "name": "python",
   "nbconvert_exporter": "python",
   "pygments_lexer": "ipython3",
   "version": "3.7.1"
  }
 },
 "nbformat": 4,
 "nbformat_minor": 2
}
