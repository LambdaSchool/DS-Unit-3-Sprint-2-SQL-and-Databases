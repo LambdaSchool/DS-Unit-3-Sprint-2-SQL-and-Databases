{
  "nbformat": 4,
  "nbformat_minor": 0,
  "metadata": {
    "colab": {
      "name": "Grill_Unit_3_Sprint_2_Assignment_1",
      "provenance": [],
      "collapsed_sections": [],
      "include_colab_link": true
    },
    "kernelspec": {
      "name": "python3",
      "display_name": "Python 3"
    }
  },
  "cells": [
    {
      "cell_type": "markdown",
      "metadata": {
        "id": "view-in-github",
        "colab_type": "text"
      },
      "source": [
        "<a href=\"https://colab.research.google.com/github/serinamarie/DS-Unit-3-Sprint-2-SQL-and-Databases/blob/master/Grill_Unit_3_Sprint_2_Assignment_1.ipynb\" target=\"_parent\"><img src=\"https://colab.research.google.com/assets/colab-badge.svg\" alt=\"Open In Colab\"/></a>"
      ]
    },
    {
      "cell_type": "code",
      "metadata": {
        "colab_type": "code",
        "id": "Q9ABMtKK7dOb",
        "colab": {
          "base_uri": "https://localhost:8080/",
          "height": 309
        },
        "outputId": "84c4d662-3cd0-4b35-fd7b-c9e6f3823bb3"
      },
      "source": [
        "!wget https://github.com/serinamarie/DS-Unit-3-Sprint-2-SQL-and-Databases/raw/master/module1-introduction-to-sql/buddymove_holidayiq.csv"
      ],
      "execution_count": 18,
      "outputs": [
        {
          "output_type": "stream",
          "text": [
            "--2019-11-17 06:10:15--  https://github.com/serinamarie/DS-Unit-3-Sprint-2-SQL-and-Databases/raw/master/module1-introduction-to-sql/buddymove_holidayiq.csv\n",
            "Resolving github.com (github.com)... 140.82.118.3\n",
            "Connecting to github.com (github.com)|140.82.118.3|:443... connected.\n",
            "HTTP request sent, awaiting response... 302 Found\n",
            "Location: https://raw.githubusercontent.com/serinamarie/DS-Unit-3-Sprint-2-SQL-and-Databases/master/module1-introduction-to-sql/buddymove_holidayiq.csv [following]\n",
            "--2019-11-17 06:10:16--  https://raw.githubusercontent.com/serinamarie/DS-Unit-3-Sprint-2-SQL-and-Databases/master/module1-introduction-to-sql/buddymove_holidayiq.csv\n",
            "Resolving raw.githubusercontent.com (raw.githubusercontent.com)... 151.101.0.133, 151.101.64.133, 151.101.128.133, ...\n",
            "Connecting to raw.githubusercontent.com (raw.githubusercontent.com)|151.101.0.133|:443... connected.\n",
            "HTTP request sent, awaiting response... 200 OK\n",
            "Length: 7566 (7.4K) [text/plain]\n",
            "Saving to: ‘buddymove_holidayiq.csv.1’\n",
            "\n",
            "\r          buddymove   0%[                    ]       0  --.-KB/s               \rbuddymove_holidayiq 100%[===================>]   7.39K  --.-KB/s    in 0s      \n",
            "\n",
            "2019-11-17 06:10:16 (88.8 MB/s) - ‘buddymove_holidayiq.csv.1’ saved [7566/7566]\n",
            "\n"
          ],
          "name": "stdout"
        }
      ]
    },
    {
      "cell_type": "code",
      "metadata": {
        "id": "9hPt08N0qyY9",
        "colab_type": "code",
        "colab": {}
      },
      "source": [
        "# connect to sqlite database\n",
        "\n",
        "import sqlite3\n",
        "\n",
        "conn_buddy = sqlite3.connect('buddymove_holidayiq.sqlite3')"
      ],
      "execution_count": 0,
      "outputs": []
    },
    {
      "cell_type": "code",
      "metadata": {
        "id": "9kXcdBm79XmG",
        "colab_type": "code",
        "colab": {}
      },
      "source": [
        "# name the csv\n",
        "\n",
        "import pandas as pd\n",
        "df = pd.rdead_csv('buddymove_holidayiq.csv')"
      ],
      "execution_count": 0,
      "outputs": []
    },
    {
      "cell_type": "code",
      "metadata": {
        "id": "2YZchQnG_NOU",
        "colab_type": "code",
        "colab": {
          "base_uri": "https://localhost:8080/",
          "height": 204
        },
        "outputId": "2212cecf-aa3a-41e4-8875-e752f84cbaf5"
      },
      "source": [
        "# Familiarize yourself with the dataframe \n",
        "\n",
        "df.tail()"
      ],
      "execution_count": 21,
      "outputs": [
        {
          "output_type": "execute_result",
          "data": {
            "text/html": [
              "<div>\n",
              "<style scoped>\n",
              "    .dataframe tbody tr th:only-of-type {\n",
              "        vertical-align: middle;\n",
              "    }\n",
              "\n",
              "    .dataframe tbody tr th {\n",
              "        vertical-align: top;\n",
              "    }\n",
              "\n",
              "    .dataframe thead th {\n",
              "        text-align: right;\n",
              "    }\n",
              "</style>\n",
              "<table border=\"1\" class=\"dataframe\">\n",
              "  <thead>\n",
              "    <tr style=\"text-align: right;\">\n",
              "      <th></th>\n",
              "      <th>User Id</th>\n",
              "      <th>Sports</th>\n",
              "      <th>Religious</th>\n",
              "      <th>Nature</th>\n",
              "      <th>Theatre</th>\n",
              "      <th>Shopping</th>\n",
              "      <th>Picnic</th>\n",
              "    </tr>\n",
              "  </thead>\n",
              "  <tbody>\n",
              "    <tr>\n",
              "      <th>244</th>\n",
              "      <td>User 245</td>\n",
              "      <td>18</td>\n",
              "      <td>139</td>\n",
              "      <td>148</td>\n",
              "      <td>129</td>\n",
              "      <td>129</td>\n",
              "      <td>168</td>\n",
              "    </tr>\n",
              "    <tr>\n",
              "      <th>245</th>\n",
              "      <td>User 246</td>\n",
              "      <td>22</td>\n",
              "      <td>114</td>\n",
              "      <td>228</td>\n",
              "      <td>104</td>\n",
              "      <td>84</td>\n",
              "      <td>168</td>\n",
              "    </tr>\n",
              "    <tr>\n",
              "      <th>246</th>\n",
              "      <td>User 247</td>\n",
              "      <td>20</td>\n",
              "      <td>124</td>\n",
              "      <td>178</td>\n",
              "      <td>104</td>\n",
              "      <td>158</td>\n",
              "      <td>174</td>\n",
              "    </tr>\n",
              "    <tr>\n",
              "      <th>247</th>\n",
              "      <td>User 248</td>\n",
              "      <td>20</td>\n",
              "      <td>133</td>\n",
              "      <td>149</td>\n",
              "      <td>139</td>\n",
              "      <td>144</td>\n",
              "      <td>213</td>\n",
              "    </tr>\n",
              "    <tr>\n",
              "      <th>248</th>\n",
              "      <td>User 249</td>\n",
              "      <td>20</td>\n",
              "      <td>143</td>\n",
              "      <td>149</td>\n",
              "      <td>139</td>\n",
              "      <td>159</td>\n",
              "      <td>143</td>\n",
              "    </tr>\n",
              "  </tbody>\n",
              "</table>\n",
              "</div>"
            ],
            "text/plain": [
              "      User Id  Sports  Religious  Nature  Theatre  Shopping  Picnic\n",
              "244  User 245      18        139     148      129       129     168\n",
              "245  User 246      22        114     228      104        84     168\n",
              "246  User 247      20        124     178      104       158     174\n",
              "247  User 248      20        133     149      139       144     213\n",
              "248  User 249      20        143     149      139       159     143"
            ]
          },
          "metadata": {
            "tags": []
          },
          "execution_count": 21
        }
      ]
    },
    {
      "cell_type": "code",
      "metadata": {
        "id": "hG1cAXGnvdyR",
        "colab_type": "code",
        "outputId": "dee2a474-f6a8-4172-a547-608a7e8baade",
        "colab": {
          "base_uri": "https://localhost:8080/",
          "height": 71
        }
      },
      "source": [
        "# Convert csv to sql via the connection to the sqlite database\n",
        "\n",
        "df.to_sql('review', conn_buddy, if_exists='replace')"
      ],
      "execution_count": 11,
      "outputs": [
        {
          "output_type": "stream",
          "text": [
            "/usr/local/lib/python3.6/dist-packages/pandas/core/generic.py:2712: UserWarning: The spaces in these column names will not be changed. In pandas versions < 0.14, spaces were converted to underscores.\n",
            "  method=method,\n"
          ],
          "name": "stderr"
        }
      ]
    },
    {
      "cell_type": "code",
      "metadata": {
        "id": "VUk86wywrsnp",
        "colab_type": "code",
        "colab": {}
      },
      "source": [
        "# Take a look at your new table\n",
        "\n",
        "conn_buddy.execute(\"SELECT * FROM review\").fetchall()"
      ],
      "execution_count": 0,
      "outputs": []
    },
    {
      "cell_type": "code",
      "metadata": {
        "id": "j4bPyg8ttPDR",
        "colab_type": "code",
        "colab": {
          "base_uri": "https://localhost:8080/",
          "height": 34
        },
        "outputId": "4754f3b2-8d23-4c6c-b3c0-205b24995901"
      },
      "source": [
        "# How many rows do you have in this table?\n",
        "query = '''\n",
        "SELECT COUNT(*) FROM review\n",
        "'''\n",
        "\n",
        "conn_buddy.execute(query).fetchall()"
      ],
      "execution_count": 17,
      "outputs": [
        {
          "output_type": "execute_result",
          "data": {
            "text/plain": [
              "[(249,)]"
            ]
          },
          "metadata": {
            "tags": []
          },
          "execution_count": 17
        }
      ]
    },
    {
      "cell_type": "code",
      "metadata": {
        "id": "FcSJZD7qtUmA",
        "colab_type": "code",
        "colab": {
          "base_uri": "https://localhost:8080/",
          "height": 34
        },
        "outputId": "44057698-32ad-4468-def8-71756d0ab41c"
      },
      "source": [
        "# How many users who reviewed at least 100 Nature in the category\n",
        "# also reviewed at least 100 in the Shopping Category\n",
        "\n",
        "high_nature_shopping_query = '''\n",
        "SELECT COUNT(*) FROM review \n",
        "WHERE Nature >= 100 \n",
        "AND Shopping >= 100\n",
        "'''\n",
        "\n",
        "n_s = conn_buddy.execute(high_nature_shopping_query).fetchall()\n",
        "\n",
        "# Double-check our answers by looking at counts of each query\n",
        "\n",
        "print('Answer:', n_s)"
      ],
      "execution_count": 50,
      "outputs": [
        {
          "output_type": "stream",
          "text": [
            "Answer: [(78,)]\n"
          ],
          "name": "stdout"
        }
      ]
    },
    {
      "cell_type": "code",
      "metadata": {
        "id": "4-WUT_Em_w_M",
        "colab_type": "code",
        "colab": {}
      },
      "source": [
        "avg_review_sports_query = '''\n",
        "SELECT AVG(Sports)\n",
        "FROM review\n",
        "    '''\n",
        "\n",
        "# SELECT avg(c)\n",
        "# \tFROM\n",
        "# \t(\n",
        "# \tSELECT character_id, COUNT(item_id) as c\n",
        "# \tFROM charactercreator_character_inventory\n",
        "# \tGROUP BY character_id\n",
        "# \t)   "
      ],
      "execution_count": 0,
      "outputs": []
    },
    {
      "cell_type": "code",
      "metadata": {
        "id": "-BSw7lqmCpwU",
        "colab_type": "code",
        "colab": {
          "base_uri": "https://localhost:8080/",
          "height": 34
        },
        "outputId": "85101078-9015-425c-8c1a-85cb5a5a0f0f"
      },
      "source": [
        "print('Average # of Sports Reviews', conn_buddy.execute(avg_review_sports_query).fetchall())"
      ],
      "execution_count": 73,
      "outputs": [
        {
          "output_type": "stream",
          "text": [
            "Average # of Sports Reviews [(11.987951807228916,)]\n"
          ],
          "name": "stdout"
        }
      ]
    },
    {
      "cell_type": "code",
      "metadata": {
        "id": "33lM6ykKDDMt",
        "colab_type": "code",
        "colab": {
          "base_uri": "https://localhost:8080/",
          "height": 34
        },
        "outputId": "bf6f0ea5-48dc-4d0f-c7e4-f4c3bfe0cce0"
      },
      "source": [
        "avg_review_religious_query = '''\n",
        "SELECT AVG(Religious)\n",
        "FROM review\n",
        "'''\n",
        "\n",
        "print('Average # of Religious Reviews', conn_buddy.execute(avg_review_religious_query).fetchall())"
      ],
      "execution_count": 75,
      "outputs": [
        {
          "output_type": "stream",
          "text": [
            "Average # of Religious Reviews [(109.77911646586345,)]\n"
          ],
          "name": "stdout"
        }
      ]
    },
    {
      "cell_type": "code",
      "metadata": {
        "id": "BprLaFy0E3Of",
        "colab_type": "code",
        "colab": {
          "base_uri": "https://localhost:8080/",
          "height": 34
        },
        "outputId": "369799a3-4e23-4909-f2ee-59f945d64f62"
      },
      "source": [
        "avg_review_nature_query = '''\n",
        "SELECT AVG(Nature)\n",
        "FROM review\n",
        "'''\n",
        "\n",
        "print('Average # of Nature Reviews', conn_buddy.execute(avg_review_nature_query).fetchall())"
      ],
      "execution_count": 76,
      "outputs": [
        {
          "output_type": "stream",
          "text": [
            "Average # of Nature Reviews [(124.51807228915662,)]\n"
          ],
          "name": "stdout"
        }
      ]
    },
    {
      "cell_type": "code",
      "metadata": {
        "id": "s6H6LWEZE7n_",
        "colab_type": "code",
        "colab": {
          "base_uri": "https://localhost:8080/",
          "height": 34
        },
        "outputId": "65096d4d-c09f-4adb-9e5a-f24bf66520dc"
      },
      "source": [
        "avg_review_shopping_query = '''\n",
        "SELECT AVG(Shopping)\n",
        "FROM review\n",
        "'''\n",
        "\n",
        "print('Average # of Shopping Reviews', conn_buddy.execute(avg_review_shopping_query).fetchall())"
      ],
      "execution_count": 77,
      "outputs": [
        {
          "output_type": "stream",
          "text": [
            "Average # of Shopping Reviews [(112.63855421686748,)]\n"
          ],
          "name": "stdout"
        }
      ]
    },
    {
      "cell_type": "code",
      "metadata": {
        "id": "DUVA0gpFFBIt",
        "colab_type": "code",
        "colab": {
          "base_uri": "https://localhost:8080/",
          "height": 34
        },
        "outputId": "32e22f98-17de-48c7-8554-bafb7ccd363d"
      },
      "source": [
        "avg_review_theatre_query = '''\n",
        "SELECT AVG(Theatre)\n",
        "FROM review\n",
        "'''\n",
        "\n",
        "print('Average # of Theatre Reviews', conn_buddy.execute(avg_review_theatre_query).fetchall())"
      ],
      "execution_count": 78,
      "outputs": [
        {
          "output_type": "stream",
          "text": [
            "Average # of Theatre Reviews [(116.37751004016064,)]\n"
          ],
          "name": "stdout"
        }
      ]
    },
    {
      "cell_type": "code",
      "metadata": {
        "id": "WD6hOrNcFF5p",
        "colab_type": "code",
        "colab": {
          "base_uri": "https://localhost:8080/",
          "height": 34
        },
        "outputId": "a0c1857f-130d-42b0-a16b-a8afdb7fee79"
      },
      "source": [
        "avg_review_picnic_query = '''\n",
        "SELECT AVG(Picnic)\n",
        "FROM review\n",
        "'''\n",
        "\n",
        "print('Average # of Picnic Reviews', conn_buddy.execute(avg_review_picnic_query).fetchall())"
      ],
      "execution_count": 79,
      "outputs": [
        {
          "output_type": "stream",
          "text": [
            "Average # of Picnic Reviews [(120.40160642570281,)]\n"
          ],
          "name": "stdout"
        }
      ]
    }
  ]
}